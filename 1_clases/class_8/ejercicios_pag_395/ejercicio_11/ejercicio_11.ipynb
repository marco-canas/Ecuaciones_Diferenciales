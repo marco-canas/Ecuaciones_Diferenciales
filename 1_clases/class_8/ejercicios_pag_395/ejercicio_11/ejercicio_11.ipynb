{
 "cells": [
  {
   "cell_type": "markdown",
   "metadata": {},
   "source": [
    "# Ejercicio 11\n"
   ]
  },
  {
   "cell_type": "markdown",
   "metadata": {},
   "source": [
    "Encuentre la solución general del sistema de ecuaciones:\n",
    "\n",
    "$$ x' = \\begin{pmatrix} 2 & 2 + i \\\\ -1 & -1 - i \\end{pmatrix}x   $$\n"
   ]
  },
  {
   "cell_type": "markdown",
   "metadata": {},
   "source": [
    "## Solución analítica "
   ]
  },
  {
   "cell_type": "markdown",
   "metadata": {},
   "source": [
    "$$ A = \\begin{pmatrix} 2 & 2 + i \\\\ -1 & -1 - i \\end{pmatrix} \\quad \\Rightarrow \\quad A-rI = \\begin{pmatrix} 2 -r & 2 + i \\\\ -1 & -1 - i - r \\end{pmatrix} $$"
   ]
  },
  {
   "cell_type": "markdown",
   "metadata": {},
   "source": [
    "$$ det(A-rI) = 0 \\quad \\quad \\iff \\quad \\quad  (2-r)(-1-i-r) + (2+i) = 0 $$"
   ]
  },
  {
   "cell_type": "markdown",
   "metadata": {},
   "source": [
    "$$ -2-2i-2r+r+ri+r^{2} + 2 + i = 0 $$"
   ]
  },
  {
   "cell_type": "markdown",
   "metadata": {},
   "source": [
    "$$ r^{2} + (i-1)r - i = 0 $$"
   ]
  },
  {
   "cell_type": "markdown",
   "metadata": {},
   "source": [
    "$$ (r+i)(r-1) = 0 $$"
   ]
  },
  {
   "cell_type": "markdown",
   "metadata": {},
   "source": [
    "$$ r_{1} = -i \\quad \\quad \\vee \\quad \\quad  r_{2} = 1 $$"
   ]
  },
  {
   "cell_type": "markdown",
   "metadata": {},
   "source": [
    "### Determinación de $\\xi^{(1)}$ "
   ]
  },
  {
   "cell_type": "markdown",
   "metadata": {},
   "source": [
    "$$ (A - r_{1}I)\\xi^{(1)} = 0 \\quad \\iff \\quad  \\begin{pmatrix} 2 - r_{1} & 2 + i \\\\ -1 & -1 - i - r_{1} \\end{pmatrix}\\xi^{(1)} = \\begin{pmatrix} 0 \\\\ 0 \\end{pmatrix} $$"
   ]
  },
  {
   "cell_type": "markdown",
   "metadata": {},
   "source": [
    "$$  \\begin{pmatrix} 2 + i & 2 + i \\\\ -1 & -1 - i + i\\end{pmatrix}\\xi^{(1)} = \\begin{pmatrix} 0 \\\\ 0 \\end{pmatrix}  $$"
   ]
  },
  {
   "cell_type": "markdown",
   "metadata": {},
   "source": [
    "$$  \\begin{pmatrix} 2 + i & 2 + i \\\\ -1 & -1 \\end{pmatrix}\\xi^{(1)} = \\begin{pmatrix} 0 \\\\ 0 \\end{pmatrix}  $$"
   ]
  },
  {
   "cell_type": "markdown",
   "metadata": {},
   "source": [
    "$$-\\xi^{(1)}_{1} - \\xi^{(1)}_{2} = 0 $$"
   ]
  },
  {
   "cell_type": "markdown",
   "metadata": {},
   "source": [
    "$$ \\xi^{(1)}_{2} = - \\xi^{(1)}_{2}  $$"
   ]
  },
  {
   "cell_type": "markdown",
   "metadata": {},
   "source": [
    "Entonces \n",
    "\n",
    "$$\\xi^{(1)} = \\begin{pmatrix} 1 \\\\ -1 \\end{pmatrix} $$\n"
   ]
  },
  {
   "cell_type": "markdown",
   "metadata": {},
   "source": [
    "Normalicemos a $\\xi^{(1)}$:\n",
    "\n",
    "$$ u_{\\xi1} = \\frac{1}{\\sqrt{2}}\\begin{pmatrix} 1 \\\\ -1 \\end{pmatrix}  $$\n"
   ]
  },
  {
   "cell_type": "code",
   "execution_count": null,
   "metadata": {},
   "outputs": [],
   "source": []
  },
  {
   "cell_type": "code",
   "execution_count": 14,
   "metadata": {},
   "outputs": [],
   "source": [
    "import numpy as np \n",
    "A = np.array([[2,2+1j],[-1,-1-1j]])\n",
    "r,xi = np.linalg.eig(A) "
   ]
  },
  {
   "cell_type": "code",
   "execution_count": 15,
   "metadata": {},
   "outputs": [
    {
     "data": {
      "text/plain": [
       "(-9.633732540219107e-17-0.9999999999999998j)"
      ]
     },
     "execution_count": 15,
     "metadata": {},
     "output_type": "execute_result"
    }
   ],
   "source": [
    "r[1]"
   ]
  },
  {
   "cell_type": "code",
   "execution_count": 18,
   "metadata": {},
   "outputs": [
    {
     "data": {
      "text/plain": [
       "(1.0000000000000002,\n",
       " array([ 0.70710678+0.00000000e+00j, -0.70710678+1.87141271e-16j]))"
      ]
     },
     "execution_count": 18,
     "metadata": {},
     "output_type": "execute_result"
    }
   ],
   "source": [
    "np.linalg.norm(xi[:,0]), xi[:,1]"
   ]
  },
  {
   "cell_type": "markdown",
   "metadata": {},
   "source": [
    "De donde los eigenvalores de la matriz $A$ son $r_{1} = 1$ y $r_{2} = -i$"
   ]
  },
  {
   "cell_type": "markdown",
   "metadata": {},
   "source": [
    "y también \n",
    "\n",
    "$$\\xi^{(1)} = \\begin{pmatrix}0.91 \\\\ -0.37 + 0.18i \\end{pmatrix}, \\quad \\quad \\xi^{(2)} = \\begin{pmatrix} 0.707 \\\\ -0.707 \\end{pmatrix} $$\n"
   ]
  },
  {
   "cell_type": "code",
   "execution_count": 19,
   "metadata": {},
   "outputs": [],
   "source": [
    "def solu_gen(t,c1,c2):\n",
    "    x = c1*xi[:,0]*np.exp(r[0]*t) + c2*xi[:,1]*np.exp(r[1]*t) \n",
    "    return x"
   ]
  },
  {
   "cell_type": "code",
   "execution_count": 20,
   "metadata": {},
   "outputs": [
    {
     "data": {
      "text/plain": [
       "array([ 1.61997771+0.j        , -1.07225515+0.18257419j])"
      ]
     },
     "execution_count": 20,
     "metadata": {},
     "output_type": "execute_result"
    }
   ],
   "source": [
    "solu_gen(0,1,1) "
   ]
  },
  {
   "cell_type": "code",
   "execution_count": null,
   "metadata": {},
   "outputs": [],
   "source": []
  }
 ],
 "metadata": {
  "hide_input": false,
  "kernelspec": {
   "display_name": "Python 3",
   "language": "python",
   "name": "python3"
  },
  "language_info": {
   "codemirror_mode": {
    "name": "ipython",
    "version": 3
   },
   "file_extension": ".py",
   "mimetype": "text/x-python",
   "name": "python",
   "nbconvert_exporter": "python",
   "pygments_lexer": "ipython3",
   "version": "3.7.4"
  },
  "nbTranslate": {
   "displayLangs": [
    "*"
   ],
   "hotkey": "alt-t",
   "langInMainMenu": true,
   "sourceLang": "en",
   "targetLang": "fr",
   "useGoogleTranslate": true
  }
 },
 "nbformat": 4,
 "nbformat_minor": 2
}
