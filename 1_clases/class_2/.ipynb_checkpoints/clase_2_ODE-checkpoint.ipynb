{
 "cells": [
  {
   "cell_type": "markdown",
   "metadata": {
    "slideshow": {
     "slide_type": "slide"
    }
   },
   "source": [
    "# Clase 2\n",
    "Página 95 del Boyce DiPrima "
   ]
  },
  {
   "cell_type": "markdown",
   "metadata": {
    "slideshow": {
     "slide_type": "slide"
    }
   },
   "source": [
    "### Temas de la clase"
   ]
  },
  {
   "cell_type": "markdown",
   "metadata": {
    "slideshow": {
     "slide_type": "slide"
    }
   },
   "source": [
    "* Teoremas sobre exactas y factores integrantes, \n",
    "* ecuación lineal de primer orden y \n",
    "* ecuación de Bernoulli.\n",
    "* Sustituciones varias.\n",
    "* Teorema de Existencia y unicidad.\n",
    "* Identificar las diferentes ecuaciones diferenciales con los diferentes métodos para resolverlas."
   ]
  },
  {
   "cell_type": "markdown",
   "metadata": {
    "slideshow": {
     "slide_type": "slide"
    }
   },
   "source": []
  },
  {
   "cell_type": "code",
   "execution_count": null,
   "metadata": {},
   "outputs": [],
   "source": []
  },
  {
   "cell_type": "code",
   "execution_count": null,
   "metadata": {},
   "outputs": [],
   "source": []
  },
  {
   "cell_type": "markdown",
   "metadata": {
    "slideshow": {
     "slide_type": "slide"
    }
   },
   "source": [
    "## Ejemplo 1 sobre ecuaciones exactas \n",
    "Página 96 del Boyce DiPrima "
   ]
  },
  {
   "cell_type": "markdown",
   "metadata": {
    "slideshow": {
     "slide_type": "slide"
    }
   },
   "source": [
    "$$ 2x + y^{2} + 2xyy' = 0 $$"
   ]
  },
  {
   "cell_type": "markdown",
   "metadata": {
    "slideshow": {
     "slide_type": "slide"
    }
   },
   "source": [
    "Esta ecuación no es lineal ni separable. "
   ]
  },
  {
   "cell_type": "markdown",
   "metadata": {
    "slideshow": {
     "slide_type": "slide"
    }
   },
   "source": [
    "### Observación \n",
    "La función $\\psi(x,y) = x^{2} + xy^{2}$ tiene la propiedad que "
   ]
  },
  {
   "cell_type": "markdown",
   "metadata": {
    "slideshow": {
     "slide_type": "slide"
    }
   },
   "source": [
    "$$ 2x + y^{2} = \\frac{\\partial \\psi}{\\partial x} \\quad \\quad  2xy = \\frac{\\partial \\psi}{\\partial y} $$"
   ]
  },
  {
   "cell_type": "markdown",
   "metadata": {
    "slideshow": {
     "slide_type": "slide"
    }
   },
   "source": [
    "Por lo tanto, la ecuación diferencial puede escribirse como:\n",
    "\n",
    "$$ \\frac{\\partial}{\\partial y} (x^{2} + xy^{2}) + \\frac{\\partial }{\\partial y}(x^{2} + xy^{2})\\frac{dy}{dx} = 0  $$\n"
   ]
  },
  {
   "cell_type": "markdown",
   "metadata": {
    "slideshow": {
     "slide_type": "slide"
    }
   },
   "source": [
    "Si se supone que $y$ es función de $x$ y se aplica la regla de la cadena la ecuación anterior se puede escribir en la forma equivalente: \n",
    "\n",
    "$$ \\frac{d}{dx}(x^{2} + xy^{2}) = 0 $$\n"
   ]
  },
  {
   "cell_type": "markdown",
   "metadata": {
    "slideshow": {
     "slide_type": "slide"
    }
   },
   "source": [
    "Por lo tanto, \n",
    "\n",
    "$$ x^{2} + xy^{2} = c, $$\n",
    "\n",
    "donde $c$ es una constante arbitraria, es una expresión implícita de la solución de la ecuación. \n"
   ]
  },
  {
   "cell_type": "markdown",
   "metadata": {
    "slideshow": {
     "slide_type": "slide"
    }
   },
   "source": [
    "Al resolver \n",
    "\n",
    "$$ 2x + y^{2} + 2xyy' = 0, $$\n",
    "\n",
    "el paso clave fue el reconocimiento de que existe una función $\\psi$ que satisface \n",
    "\n",
    "$$ 2x + y^{2} = \\frac{\\partial \\psi}{\\partial x} \\quad \\quad  2xy = \\frac{\\partial \\psi}{\\partial y} $$\n"
   ]
  },
  {
   "cell_type": "code",
   "execution_count": null,
   "metadata": {
    "slideshow": {
     "slide_type": "slide"
    }
   },
   "outputs": [],
   "source": []
  },
  {
   "cell_type": "markdown",
   "metadata": {
    "slideshow": {
     "slide_type": "slide"
    }
   },
   "source": [
    "# Apéndice de la Clase 2 "
   ]
  },
  {
   "cell_type": "markdown",
   "metadata": {
    "slideshow": {
     "slide_type": "slide"
    }
   },
   "source": [
    "Página 34  \n"
   ]
  },
  {
   "cell_type": "markdown",
   "metadata": {
    "slideshow": {
     "slide_type": "slide"
    }
   },
   "source": [
    "# Resolución de la ecuación lineal general de primer orden"
   ]
  },
  {
   "cell_type": "markdown",
   "metadata": {
    "slideshow": {
     "slide_type": "slide"
    }
   },
   "source": [
    "$$ y' + p(x)y = g(x). $$"
   ]
  },
  {
   "cell_type": "markdown",
   "metadata": {
    "slideshow": {
     "slide_type": "slide"
    }
   },
   "source": [
    "Multipliquemos por un factor integrante adecuado para llevar esta ecuación a una forma directamente integrable. "
   ]
  },
  {
   "cell_type": "markdown",
   "metadata": {
    "slideshow": {
     "slide_type": "slide"
    }
   },
   "source": [
    "Para encontrar este factor integrante primero se multiplica esta ecuación por una función $\\mu(x)$, que por el momento no está determinada. "
   ]
  },
  {
   "cell_type": "markdown",
   "metadata": {
    "slideshow": {
     "slide_type": "slide"
    }
   },
   "source": [
    "$$ \\mu(x)y' + \\mu(x)p(x)y = \\mu(x)g(x) $$"
   ]
  },
  {
   "cell_type": "markdown",
   "metadata": {
    "slideshow": {
     "slide_type": "slide"
    }
   },
   "source": [
    "El objetivo es elegir $\\mu(x)$ de modo que el primer miembro de la ecuación anterior sea la derivada de alguna función. "
   ]
  },
  {
   "cell_type": "markdown",
   "metadata": {
    "slideshow": {
     "slide_type": "slide"
    }
   },
   "source": [
    "El término $\\mu(x)y'$ sugiere que la función deseada podría ser el producto $\\mu(x)y$."
   ]
  },
  {
   "cell_type": "markdown",
   "metadata": {
    "slideshow": {
     "slide_type": "slide"
    }
   },
   "source": [
    "A fin de obtener la combinación $[\\mu(x)y]' = \\mu(x)y' + \\mu'(x)y$ es necesario sumar y restar el término $\\mu'(x)y$ en el primer miembro de \n",
    "\n",
    "$$ \\mu(x)y' + \\mu(x)p(x)y = \\mu(x)g(x) $$"
   ]
  },
  {
   "cell_type": "markdown",
   "metadata": {
    "slideshow": {
     "slide_type": "slide"
    }
   },
   "source": [
    "$$[\\mu(x)y' + \\mu'(x)y] - \\mu'(x)y + \\mu(x)p(x)y = \\mu(x)g(x)$$"
   ]
  },
  {
   "cell_type": "markdown",
   "metadata": {
    "slideshow": {
     "slide_type": "slide"
    }
   },
   "source": [
    "$$ [\\mu(x)y' + \\mu'(x)y] + [\\mu(x)p(x) - \\mu'(x)]y = \\mu(x)g(x) $$"
   ]
  },
  {
   "cell_type": "markdown",
   "metadata": {
    "slideshow": {
     "slide_type": "slide"
    }
   },
   "source": [
    "Para que esta ecuación sea fácilmente integrable debemos encontrar $\\mu$ tal que el segundo término del lado izquierdo se anule, es decir, necesitamos $\\mu(x)$ tal que \n",
    "\n",
    "$$[\\mu(x)p(x) - \\mu'(x)]y = 0$$\n"
   ]
  },
  {
   "cell_type": "markdown",
   "metadata": {
    "slideshow": {
     "slide_type": "slide"
    }
   },
   "source": [
    "Como $y$ no necesariamente es nula, entonces necesitamos que $\\mu(x)$ sea tal que \n",
    "\n",
    "$$ \\mu(x)p(x) - \\mu'(x) = 0 $$\n"
   ]
  },
  {
   "cell_type": "markdown",
   "metadata": {
    "slideshow": {
     "slide_type": "slide"
    }
   },
   "source": [
    "de donde \n",
    "\n",
    "$$\\frac{\\mu'(x)}{\\mu(x)} = p(x)$$\n"
   ]
  },
  {
   "cell_type": "markdown",
   "metadata": {
    "slideshow": {
     "slide_type": "slide"
    }
   },
   "source": [
    "integrando ambos lados con respecto a $x$ obtenemos:\n",
    "\n",
    "$$ \\int \\frac{\\mu'(x)}{\\mu(x)} = \\int p(x) $$\n"
   ]
  },
  {
   "cell_type": "markdown",
   "metadata": {
    "slideshow": {
     "slide_type": "slide"
    }
   },
   "source": [
    "$$ \\ln |\\mu(x)| = \\int p(x) dx + k $$\n",
    "\n",
    "donde $k$ es una constante arbitraria. "
   ]
  },
  {
   "cell_type": "markdown",
   "metadata": {
    "slideshow": {
     "slide_type": "slide"
    }
   },
   "source": [
    "como esta colección de funciones $\\mu(x)$ es infinita, podemos tomar una que sea positiva y para la que $k = 0$, de donde tendríamos "
   ]
  },
  {
   "cell_type": "markdown",
   "metadata": {
    "slideshow": {
     "slide_type": "slide"
    }
   },
   "source": [
    "$$\\ln \\mu(x) = \\int p(x)dx $$"
   ]
  },
  {
   "cell_type": "markdown",
   "metadata": {
    "slideshow": {
     "slide_type": "slide"
    }
   },
   "source": [
    "$$ \\mu(x) = exp\\left( \\int p(x)dx \\right) $$"
   ]
  },
  {
   "cell_type": "markdown",
   "metadata": {
    "slideshow": {
     "slide_type": "slide"
    }
   },
   "source": [
    "Así, memos integrado para obtener el factor que hace a la ecuación lineal general fácilmente integrable."
   ]
  },
  {
   "cell_type": "markdown",
   "metadata": {
    "slideshow": {
     "slide_type": "slide"
    }
   },
   "source": [
    "Así, tendremos que \n",
    "\n",
    "$$[\\mu(x)y]' = \\mu(x)g(x)$$\n",
    "\n",
    "es una ecuación equivalente a $y' + p(x)y = g(x)$. \n"
   ]
  },
  {
   "cell_type": "markdown",
   "metadata": {
    "slideshow": {
     "slide_type": "slide"
    }
   },
   "source": [
    "De donde la solución general de la ED lineal de primer orden es:\n",
    "\n",
    "$$ y = \\frac{\\int \\mu g + C}{\\mu} $$\n"
   ]
  },
  {
   "cell_type": "code",
   "execution_count": null,
   "metadata": {
    "slideshow": {
     "slide_type": "slide"
    }
   },
   "outputs": [],
   "source": []
  },
  {
   "cell_type": "markdown",
   "metadata": {
    "slideshow": {
     "slide_type": "slide"
    }
   },
   "source": [
    "Observe que para encontrar la solución dada se requieren dos integraciones:  \n",
    "* una para encontrar $\\mu(x)$  a partir de la ecuación $\\mu(x) = exp(\\int p(x)dx)$\n",
    "* o otra para determinar a $y$ a partir de \n",
    "\n",
    "$$ y = \\frac{\\int \\mu(x)g(x)dx + C}{\\mu(x)} $$\n"
   ]
  },
  {
   "cell_type": "markdown",
   "metadata": {
    "slideshow": {
     "slide_type": "slide"
    }
   },
   "source": [
    "También se observa que antes de calcular el factor integrante $\\mu(x)$  a partir de la ecuación\n",
    "\n",
    "$$ \\mu(x) = e^{\\int p(x)dx} $$\n",
    "\n",
    "es necesario asegurarse de que la ecuación diferencial esté exactamente en la forma \n",
    "\n",
    "$$ y' + p(x)y = g(x); $$\n",
    "\n",
    "específicamente, el coeficiente de $y'$ debe ser $1$. "
   ]
  },
  {
   "cell_type": "markdown",
   "metadata": {
    "slideshow": {
     "slide_type": "slide"
    }
   },
   "source": [
    "En caso contrario, la $p(x)$ usada para calcular $\\mu$ será incorrecta."
   ]
  },
  {
   "cell_type": "markdown",
   "metadata": {
    "slideshow": {
     "slide_type": "slide"
    }
   },
   "source": [
    "En segundo lugar, despues de calcular $\\mu(x)$ y multiplicar la ecuación \n",
    "\n",
    "$$y' + p(x)y = g(x)$$\n",
    "\n",
    "por ella, es necesario tener la certeza de que los términos en los que aparecen $y$ y $y'$ son, en efecto la derivada de $\\mu(x)y$, como debe ser. \n"
   ]
  },
  {
   "cell_type": "markdown",
   "metadata": {
    "slideshow": {
     "slide_type": "slide"
    }
   },
   "source": [
    "Con lo anterior se obtiene una comprobación del cálculo de $\\mu$. "
   ]
  },
  {
   "cell_type": "markdown",
   "metadata": {
    "slideshow": {
     "slide_type": "slide"
    }
   },
   "source": [
    "Por supuesto, una vez que se ha encontrado la solución $y$, también puede verificarse sustituyéndola en la ecuación diferencial. "
   ]
  },
  {
   "cell_type": "markdown",
   "metadata": {
    "slideshow": {
     "slide_type": "slide"
    }
   },
   "source": [
    "# Interpretación geométrica de la solución de la ED lineal de primer orden   \n",
    "(Página 35 del Boyce DiPrima)"
   ]
  },
  {
   "cell_type": "markdown",
   "metadata": {
    "slideshow": {
     "slide_type": "slide"
    }
   },
   "source": [
    "La interpretación geométrica de la ecuación \n",
    "\n",
    "$$y = \\frac{\\int \\mu(x)g(x)dx + C}{\\mu(x)}$$\n",
    "\n",
    "es una familia infinita de curvas, una para cada valor de $C$\n"
   ]
  },
  {
   "cell_type": "markdown",
   "metadata": {
    "slideshow": {
     "slide_type": "slide"
    }
   },
   "source": [
    "A menudo a estas curvas se les da el nombre de **curvas integrales**. "
   ]
  },
  {
   "cell_type": "markdown",
   "metadata": {
    "slideshow": {
     "slide_type": "slide"
    }
   },
   "source": [
    "Algunas veces es importante elegir un elemento específico de la familia de curvas integrales. "
   ]
  },
  {
   "cell_type": "markdown",
   "metadata": {
    "slideshow": {
     "slide_type": "slide"
    }
   },
   "source": [
    "Lo anterior se lleva a cabo al identificar un punto particular $(x_{0}, y_{0})$ por el que se requiera que pase la gráfica de la solución. "
   ]
  },
  {
   "cell_type": "markdown",
   "metadata": {
    "slideshow": {
     "slide_type": "slide"
    }
   },
   "source": [
    "Este requisito suele expresarse como\n",
    "\n",
    "$$ y(x_{0}) = y_{0} $$\n",
    "\n",
    "y se denomina **condición inicial**. "
   ]
  },
  {
   "cell_type": "markdown",
   "metadata": {
    "slideshow": {
     "slide_type": "slide"
    }
   },
   "source": [
    "Una ecuación diferencial de primer orden, como \n",
    "\n",
    "$$y' = f(x,y) $$\n",
    "\n",
    "con una condición inicial \n",
    "\n",
    "$$ y(x_{0}) = y_{0} $$\n",
    "\n",
    "constituyen un **problema con valor inicial**\n",
    "\n"
   ]
  },
  {
   "cell_type": "markdown",
   "metadata": {
    "slideshow": {
     "slide_type": "slide"
    }
   },
   "source": [
    "## Ejemplo de solución de un problema de valor inicial  \n",
    "Página 35 "
   ]
  },
  {
   "cell_type": "markdown",
   "metadata": {
    "slideshow": {
     "slide_type": "slide"
    }
   },
   "source": [
    "\\begin{align*}\n",
    "y' + 2y & = e^{-x} \\\\\n",
    "y(0) & = 0.75 \n",
    "\\end{align*}"
   ]
  },
  {
   "cell_type": "markdown",
   "metadata": {
    "slideshow": {
     "slide_type": "slide"
    }
   },
   "source": [
    "En el siguiente gráfico se muestra el campo direccional de la ecuación \n",
    "\n",
    "$$ y' + 2y = e^{-x} $$\n",
    "\n",
    "de donde es posible deducir el perfil general de las curvas integrales. \n"
   ]
  },
  {
   "cell_type": "code",
   "execution_count": 11,
   "metadata": {
    "scrolled": true,
    "slideshow": {
     "slide_type": "slide"
    }
   },
   "outputs": [
    {
     "data": {
      "image/png": "[encoded data removed]",
      "text/plain": [
       "<Figure size 432x288 with 1 Axes>"
      ]
     },
     "metadata": {
      "needs_background": "light"
     },
     "output_type": "display_data"
    }
   ],
   "source": [
    "import numpy as np\n",
    "from matplotlib import pyplot as plt\n",
    "\n",
    "# Differential equation\n",
    "# diff = y'= x**2/(1-y**2) \n",
    "def diff(x,y):\n",
    "    return np.exp(-x) - 2*y \n",
    "a,b,c,d=-2,3,-1,3\n",
    "x = np.linspace(a,b,20)\n",
    "y = np.linspace(c,d,20)  \n",
    "\n",
    "# use x,y\n",
    "for j in x:\n",
    "    for k in y:\n",
    "        slope = diff(j,k)\n",
    "        domain = np.linspace(j-0.03,j+0.03,2)\n",
    "        def fun(x1,y1):\n",
    "            z = slope*(domain-x1)+y1\n",
    "            return z\n",
    "        plt.plot(domain,fun(j,k))\n",
    "\n",
    "plt.title(r\"Slope field $y'$\")\n",
    "plt.axis([a,b,c,d])  \n",
    "plt.grid(True)\n",
    "plt.show()"
   ]
  },
  {
   "cell_type": "markdown",
   "metadata": {},
   "source": [
    "Para resolver la ecuación $ y' + 2y = e^{-x} $ observemos que tiene la forma \n",
    "\n",
    "$$ y' + p(x)y = g(x) $$\n",
    "\n",
    "con $p(x) = 2$ y $g(x) = e^{-x}$. \n"
   ]
  },
  {
   "cell_type": "markdown",
   "metadata": {},
   "source": [
    "Por tanto, el factor integrante es \n",
    "\n",
    "$$ \\mu(x) = exp\\left(\\int p(x)\\right) = exp(2x) = e^{2x}, $$\n"
   ]
  },
  {
   "cell_type": "markdown",
   "metadata": {},
   "source": [
    "Y al multiplicar la ecuación $y' + 2y = e^{-x}$ por esta cantidad se obtiene \n",
    "\n",
    "$$ e^{2x}y' + 2e^{2x}y = e^{x} $$\n"
   ]
  },
  {
   "cell_type": "markdown",
   "metadata": {},
   "source": [
    "El primer miembro de la ecuación anterior es la derivada de $e^{2x}y$, de modo quje esta ecuación puede escribirse como \n",
    "\n",
    "$$ (e^{2x}y)' = e^{x} $$\n"
   ]
  },
  {
   "cell_type": "markdown",
   "metadata": {
    "slideshow": {
     "slide_type": "slide"
    }
   },
   "source": [
    "y por integración se concluye que \n",
    "\n",
    "$$e^{2x}y = e^{x} + c, $$\n",
    "\n",
    "donde $C$ es una constante arbitraria. \n"
   ]
  },
  {
   "cell_type": "markdown",
   "metadata": {
    "slideshow": {
     "slide_type": "slide"
    }
   },
   "source": [
    "Por lo tanto, \n",
    "\n",
    "$$y = e^{-x} + ce^{-2x}$$\n",
    "\n",
    "es la solución general de la ecuación $y' + 2y = e^{-x}$. "
   ]
  },
  {
   "cell_type": "markdown",
   "metadata": {
    "slideshow": {
     "slide_type": "slide"
    }
   },
   "source": [
    "En la siguiente "
   ]
  },
  {
   "cell_type": "code",
   "execution_count": 30,
   "metadata": {
    "slideshow": {
     "slide_type": "slide"
    }
   },
   "outputs": [
    {
     "data": {
      "image/png": "[encoded data removed]",
      "text/plain": [
       "<Figure size 432x288 with 1 Axes>"
      ]
     },
     "metadata": {
      "needs_background": "light"
     },
     "output_type": "display_data"
    }
   ],
   "source": [
    "a,b,c,d=-1,3,-1,2\n",
    "x1=np.linspace(a,b)\n",
    "constantes=[-3/4,-2/4,-1/4,0,1/4,2/4,3/4] \n",
    "for constante in constantes:\n",
    "    plt.plot(x1,np.exp(-x1) + constante*np.exp(-2*x1), label=r'$c={}$'.format(constante))  \n",
    "plt.grid(True) \n",
    "plt.axis([a,b,c,d])    \n",
    "plt.legend()     \n",
    "plt.show()    "
   ]
  },
  {
   "cell_type": "markdown",
   "metadata": {
    "slideshow": {
     "slide_type": "slide"
    }
   },
   "source": [
    "### Verificación con Python"
   ]
  },
  {
   "cell_type": "code",
   "execution_count": 21,
   "metadata": {
    "slideshow": {
     "slide_type": "slide"
    }
   },
   "outputs": [],
   "source": [
    "import numpy as np \n",
    "from scipy.integrate import odeint \n",
    "import matplotlib.pyplot as plt "
   ]
  },
  {
   "cell_type": "code",
   "execution_count": 22,
   "metadata": {
    "slideshow": {
     "slide_type": "slide"
    }
   },
   "outputs": [],
   "source": [
    "# function that return dy/dx\n",
    "def model(y,x):\n",
    "    dydx = np.exp(-x)-2*y\n",
    "    return dydx"
   ]
  },
  {
   "cell_type": "code",
   "execution_count": 23,
   "metadata": {
    "slideshow": {
     "slide_type": "slide"
    }
   },
   "outputs": [],
   "source": [
    "# initial condition \n",
    "y0=0.75 "
   ]
  },
  {
   "cell_type": "code",
   "execution_count": 24,
   "metadata": {
    "slideshow": {
     "slide_type": "slide"
    }
   },
   "outputs": [],
   "source": [
    "# x points \n",
    "x=np.linspace(-1,3,10000)"
   ]
  },
  {
   "cell_type": "code",
   "execution_count": 25,
   "metadata": {
    "slideshow": {
     "slide_type": "slide"
    }
   },
   "outputs": [],
   "source": [
    "# solve ODE\n",
    "y=odeint(model,y0,x)  "
   ]
  },
  {
   "cell_type": "code",
   "execution_count": 26,
   "metadata": {},
   "outputs": [
    {
     "data": {
      "image/png": "[encoded data removed]",
      "text/plain": [
       "<Figure size 432x288 with 1 Axes>"
      ]
     },
     "metadata": {
      "needs_background": "light"
     },
     "output_type": "display_data"
    }
   ],
   "source": [
    "plt.plot(x,y) \n",
    "plt.plot([0],[0.75],'ro') \n",
    "plt.plot(x,np.exp(-x) - 0.25*np.exp(-2*x)) \n",
    "plt.xlabel('x')\n",
    "plt.ylabel('y(x)') \n",
    "plt.grid(True)  \n",
    "plt.show() "
   ]
  },
  {
   "cell_type": "code",
   "execution_count": null,
   "metadata": {
    "slideshow": {
     "slide_type": "slide"
    }
   },
   "outputs": [],
   "source": []
  },
  {
   "cell_type": "markdown",
   "metadata": {
    "slideshow": {
     "slide_type": "slide"
    }
   },
   "source": [
    "# Otras consideraciones acerca de las ecuaciones lineales"
   ]
  },
  {
   "cell_type": "markdown",
   "metadata": {
    "slideshow": {
     "slide_type": "slide"
    }
   },
   "source": [
    "Hemos mostrado cómo construir soluciones de problemas con valor inicial para ecuaciones diferenciales lineales de primer orden mediante el uso de un factor integrante para cambiar la ecuación diferencial por una forma integrable. "
   ]
  },
  {
   "cell_type": "markdown",
   "metadata": {
    "slideshow": {
     "slide_type": "slide"
    }
   },
   "source": [
    "Abordemos algunas cuestiones más generales: "
   ]
  },
  {
   "cell_type": "markdown",
   "metadata": {
    "slideshow": {
     "slide_type": "slide"
    }
   },
   "source": [
    "1. ¿Un problema con valor inicial de este tipo siempre tiene solución?\n",
    "2. ¿Es posible que tenga más de una solución?\n",
    "3. ¿Es posible la solución para toda $x$ o solo para algún intervalo restringido alrededor del punto inicial?"
   ]
  },
  {
   "cell_type": "markdown",
   "metadata": {
    "slideshow": {
     "slide_type": "slide"
    }
   },
   "source": [
    "El siguuiente teorema fundamental da respuesta a las preguntas anteriores:"
   ]
  },
  {
   "cell_type": "markdown",
   "metadata": {
    "slideshow": {
     "slide_type": "slide"
    }
   },
   "source": [
    "## Teorema 2.2.1\n",
    "Página 40 del Boyce DiPrima "
   ]
  },
  {
   "cell_type": "markdown",
   "metadata": {
    "slideshow": {
     "slide_type": "slide"
    }
   },
   "source": []
  },
  {
   "cell_type": "code",
   "execution_count": null,
   "metadata": {
    "slideshow": {
     "slide_type": "slide"
    }
   },
   "outputs": [],
   "source": []
  },
  {
   "cell_type": "code",
   "execution_count": null,
   "metadata": {
    "slideshow": {
     "slide_type": "slide"
    }
   },
   "outputs": [],
   "source": []
  },
  {
   "cell_type": "code",
   "execution_count": null,
   "metadata": {},
   "outputs": [],
   "source": []
  },
  {
   "cell_type": "code",
   "execution_count": null,
   "metadata": {},
   "outputs": [],
   "source": []
  },
  {
   "cell_type": "code",
   "execution_count": null,
   "metadata": {},
   "outputs": [],
   "source": []
  },
  {
   "cell_type": "code",
   "execution_count": null,
   "metadata": {},
   "outputs": [],
   "source": []
  },
  {
   "cell_type": "code",
   "execution_count": null,
   "metadata": {},
   "outputs": [],
   "source": []
  },
  {
   "cell_type": "code",
   "execution_count": null,
   "metadata": {},
   "outputs": [],
   "source": []
  },
  {
   "cell_type": "code",
   "execution_count": null,
   "metadata": {},
   "outputs": [],
   "source": []
  },
  {
   "cell_type": "code",
   "execution_count": null,
   "metadata": {
    "slideshow": {
     "slide_type": "slide"
    }
   },
   "outputs": [],
   "source": []
  },
  {
   "cell_type": "code",
   "execution_count": null,
   "metadata": {
    "slideshow": {
     "slide_type": "slide"
    }
   },
   "outputs": [],
   "source": []
  },
  {
   "cell_type": "code",
   "execution_count": null,
   "metadata": {
    "slideshow": {
     "slide_type": "slide"
    }
   },
   "outputs": [],
   "source": []
  },
  {
   "cell_type": "code",
   "execution_count": null,
   "metadata": {
    "slideshow": {
     "slide_type": "slide"
    }
   },
   "outputs": [],
   "source": []
  },
  {
   "cell_type": "code",
   "execution_count": null,
   "metadata": {},
   "outputs": [],
   "source": []
  }
 ],
 "metadata": {
  "celltoolbar": "Slideshow",
  "hide_input": false,
  "kernelspec": {
   "display_name": "Python 3",
   "language": "python",
   "name": "python3"
  },
  "language_info": {
   "codemirror_mode": {
    "name": "ipython",
    "version": 3
   },
   "file_extension": ".py",
   "mimetype": "text/x-python",
   "name": "python",
   "nbconvert_exporter": "python",
   "pygments_lexer": "ipython3",
   "version": "3.7.4"
  },
  "nbTranslate": {
   "displayLangs": [
    "*"
   ],
   "hotkey": "alt-t",
   "langInMainMenu": true,
   "sourceLang": "en",
   "targetLang": "es",
   "useGoogleTranslate": true
  },
  "rise": {
   "enable_chalckboard": true,
   "theme": "sky",
   "transition": "sky"
  }
 },
 "nbformat": 4,
 "nbformat_minor": 2
}
