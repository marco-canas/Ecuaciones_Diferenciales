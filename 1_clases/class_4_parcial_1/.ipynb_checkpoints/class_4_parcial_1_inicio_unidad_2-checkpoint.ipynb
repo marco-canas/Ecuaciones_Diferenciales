{
 "cells": [
  {
   "cell_type": "markdown",
   "metadata": {
    "slideshow": {
     "slide_type": "slide"
    }
   },
   "source": [
    "<p><img alt=\"Colaboratory logo\" height=\"140px\" src=\"https://upload.wikimedia.org/wikipedia/commons/archive/f/fb/20161010213812%21Escudo-UdeA.svg\" align=\"left\" hspace=\"10px\" vspace=\"0px\"></p>\n",
    "\n",
    "<h1> Curso de Ecuaciones Diferenciales Ordinarias</h1>\n"
   ]
  },
  {
   "cell_type": "markdown",
   "metadata": {
    "slideshow": {
     "slide_type": "slide"
    }
   },
   "source": [
    "# Clase 4 Inicio de la unidad 2"
   ]
  },
  {
   "cell_type": "markdown",
   "metadata": {
    "slideshow": {
     "slide_type": "slide"
    }
   },
   "source": [
    "## Temas unidad 2"
   ]
  },
  {
   "cell_type": "markdown",
   "metadata": {
    "slideshow": {
     "slide_type": "slide"
    }
   },
   "source": [
    "- Problemas de vaciado de tanques.\n",
    "- Problemas de aplicación a la física.\n",
    "- Construir la ecuación diferencial que modele cada problema planteado y resolverla por los métodos   \n",
    "  de la unidad anterior.\n",
    "- Conceptos básicos, espacio $C(I)$, $C'(I)$, $C''(I)$, etc.\n",
    "- funciones linealmente dependientes e independientes, Wronskiano y teoremas sobre la dimensión   \n",
    "  del espacio solución de una ED homogénea, fórmula de D'lambert.\n",
    "- Ecuaciones homogéneas con coeficientes constantes."
   ]
  },
  {
   "cell_type": "markdown",
   "metadata": {
    "slideshow": {
     "slide_type": "slide"
    }
   },
   "source": [
    "- Soluciones fundamentales de las ecuaciones lineales homogéneas.\n",
    "- Ecuación característica.\n",
    "- Ecuación no homogénea.\n",
    "- Método de los coeficientes indeterminados.\n",
    "- Variación de parámetros.\n",
    "- Método de los operadores inversos."
   ]
  },
  {
   "cell_type": "markdown",
   "metadata": {
    "slideshow": {
     "slide_type": "slide"
    }
   },
   "source": [
    "- Aplicaciones de las ecuaciones diferenciales de segundo orden: Vibraciones mecánicas y eléctricas,\n",
    "- vibraciones forzadas.\n",
    "- Identificar las ecuaciones homogéneas y los diferentes métodos para resolverlas.\n",
    "- Resolver la ecuación característica con el objetivo de hallar un conjunto de soluciones.\n",
    "- Aplicar el método de los coeficientes indeterminados, variación de parámetros y operadores inversos.\n",
    "- Ilustrar la utilidad de estos métodos para resolver problemas del área de física e ingeniería.  "
   ]
  },
  {
   "cell_type": "markdown",
   "metadata": {
    "slideshow": {
     "slide_type": "slide"
    }
   },
   "source": [
    "# Ecuaciones lineales de segundo orden"
   ]
  },
  {
   "cell_type": "markdown",
   "metadata": {
    "slideshow": {
     "slide_type": "slide"
    }
   },
   "source": [
    "Página 135 del Boyce DiPrima "
   ]
  },
  {
   "cell_type": "markdown",
   "metadata": {
    "slideshow": {
     "slide_type": "slide"
    }
   },
   "source": [
    "Las ecuaciones lineales de segundo orden tienen una importancia primordial en el estudio de las ecuaciones diferenciales por dos razones principales. "
   ]
  },
  {
   "cell_type": "code",
   "execution_count": null,
   "metadata": {
    "slideshow": {
     "slide_type": "slide"
    }
   },
   "outputs": [],
   "source": []
  },
  {
   "cell_type": "markdown",
   "metadata": {},
   "source": [
    "## Ecuaciones homogéneas con coeficientes constantes\n",
    "Página 135 del Boyce DiPrima "
   ]
  },
  {
   "cell_type": "markdown",
   "metadata": {
    "slideshow": {
     "slide_type": "slide"
    }
   },
   "source": [
    "Una ecuación diferencial ordinaria de segundo orden tiene la forma \n",
    "\n",
    "$$ \\frac{d^{2}y}{dx^{2}} = f\\left( x,y,\\frac{dy}{dx} \\right)  $$\n",
    "en donde $f$ es alguna función dada. "
   ]
  },
  {
   "cell_type": "markdown",
   "metadata": {
    "slideshow": {
     "slide_type": "slide"
    }
   },
   "source": [
    "Se dice que la ecuación anterior es lineal si la función $f$ puede escribirse como \n",
    "\n",
    "$$  f\\left( x,y,\\frac{dy}{dx} \\right)  = g(x) - p(x)\\frac{dy}{dx} - q(x)y, $$\n",
    "\n",
    "donde $g,p$ y $q$ son funciones específicas de la variable $x$. "
   ]
  },
  {
   "cell_type": "markdown",
   "metadata": {
    "slideshow": {
     "slide_type": "slide"
    }
   },
   "source": [
    "En este caso la ecuación \n",
    "\n",
    "$$ \\frac{d^{2}y}{dx^{2}} = f\\left( x,y,\\frac{dy}{dx} \\right)  $$\n",
    "\n",
    "queda \n",
    "\n",
    "$$ y'' + p(x)y' + q(x)y = g(x) $$\n",
    "\n",
    "en donde los apóstrofos denotan derivación con respecto a la variable $x$. "
   ]
  },
  {
   "cell_type": "markdown",
   "metadata": {
    "slideshow": {
     "slide_type": "slide"
    }
   },
   "source": [
    "En vez de la ecuación anterior, a menudo se ve la ecuación \n",
    "\n",
    "$$ P(x)y'' + Q(x)y' + R(x)y = G(x), $$\n"
   ]
  },
  {
   "cell_type": "markdown",
   "metadata": {
    "slideshow": {
     "slide_type": "slide"
    }
   },
   "source": [
    "Por supuesto, si la anterior ecuación se divide en $P(x)$,  entonces esta se reduce a la ecuación \n",
    "\n",
    "$$ y'' + p(x)y' + q(x)y = g(x) $$\n",
    "\n",
    "con \n",
    "\n",
    "$$ p(x) = \\frac{Q(x)}{P(x)}, \\qquad q(x) = \\frac{R(x)}{P(x)}, \\qquad g(x) = \\frac{G(x)}{P(x)}.$$\n"
   ]
  },
  {
   "cell_type": "markdown",
   "metadata": {
    "slideshow": {
     "slide_type": "slide"
    }
   },
   "source": [
    "Al analizar e intentar resolver \n",
    "\n",
    "$$ y'' + p(x)y' + q(x)y = g(x) $$\n",
    "\n",
    "es necesario restringirse a intervalos en los que $p, q$ y $f$ sean funciones continuas. \n"
   ]
  },
  {
   "cell_type": "markdown",
   "metadata": {
    "slideshow": {
     "slide_type": "slide"
    }
   },
   "source": [
    "Si $$ \\frac{d^{2}y}{dx^{2}} = f\\left( x,y,\\frac{dy}{dx} \\right)  $$\n",
    "\n",
    "no es de la forma \n",
    "\n",
    "$$ y'' + p(x)y' + q(x)y = g(x) $$\n",
    "\n",
    "$$ P(x)y'' + Q(x)y' + R(x)y = G(x), $$\n",
    "\n",
    "se dice que es no lineal. \n"
   ]
  },
  {
   "cell_type": "markdown",
   "metadata": {
    "slideshow": {
     "slide_type": "slide"
    }
   },
   "source": [
    "Un análisis extenso de las ecuaciones diferenciales no lineales de segundo orden es demasiado difícil para un texto de este nivel, por lo que se dirá relativamente poco acerca de ellas. "
   ]
  },
  {
   "cell_type": "markdown",
   "metadata": {
    "slideshow": {
     "slide_type": "slide"
    }
   },
   "source": [
    "Sin embargo, existen dos tipos especiales de ecuaciones lineales de segundo orden que se pueden resolver mediante un cambio de variables que la reduce a ecuaciones de primer orden. "
   ]
  },
  {
   "cell_type": "markdown",
   "metadata": {
    "slideshow": {
     "slide_type": "slide"
    }
   },
   "source": [
    "En los problemas 17 a 32 se bosqueja este procedimiento. "
   ]
  },
  {
   "cell_type": "markdown",
   "metadata": {
    "slideshow": {
     "slide_type": "slide"
    }
   },
   "source": [
    "Un problema de valor inicial consta de una ecuación diferencial como \n",
    "\n",
    "$$ \\frac{d^{2}y}{dx^{2}} = f\\left( x,y,\\frac{dy}{dx} \\right),  $$\n",
    "\n",
    "$$ y'' + p(x)y' + q(x)y = g(x) $$\n",
    "\n",
    "o \n",
    "\n",
    "$$ P(x)y'' + Q(x)y' + R(x)y = G(x), $$\n",
    "\n",
    "junto con un par de condiciones iniciales de la forma \n",
    "\n",
    "$$y(x_{0}) = y_{0}, \\quad y'(x_{0}) = y'_{0} $$\n",
    "en donde $y_{0}$ y $y'_{0}$ son números dados. "
   ]
  },
  {
   "cell_type": "markdown",
   "metadata": {
    "slideshow": {
     "slide_type": "slide"
    }
   },
   "source": [
    "Observe que las condiciones iniciales para una ecuación de segundo orden prescriben no solo un punto particular $(x_{0},y_{0})$ por el que debe pasar la gráfica de la solución, también la pendiente $y'_{0}$ de la gráfica en ese punto. "
   ]
  },
  {
   "cell_type": "markdown",
   "metadata": {
    "slideshow": {
     "slide_type": "slide"
    }
   },
   "source": [
    "Resulta razonable esperar que para una ecuación de segundo orden se necesite dos condiciones iniciales porque, en términos generales, para hallar una solución se requieren dos integraciones y cada una introduce una constante arbitraria. "
   ]
  },
  {
   "cell_type": "markdown",
   "metadata": {
    "slideshow": {
     "slide_type": "slide"
    }
   },
   "source": [
    "Es de suponer que bastarán dos condiciones iniciales para determinar los valores de estas dos constantes. "
   ]
  },
  {
   "cell_type": "markdown",
   "metadata": {
    "slideshow": {
     "slide_type": "slide"
    }
   },
   "source": [
    "## Ecuaciones diferenciales homogéneas"
   ]
  },
  {
   "cell_type": "markdown",
   "metadata": {
    "slideshow": {
     "slide_type": "slide"
    }
   },
   "source": [
    "Se dice que una ecuación lineal de segundo orden es homogénea, si el término $g(x)$ de la ecuación \n",
    "\n",
    "$$ y'' + p(x)y' + q(x)y = g(x) $$\n",
    "\n",
    "o el término $G(x)$ de la ecuación \n",
    "\n",
    "$$ P(x)y'' + Q(x)y' + R(x)y = G(x), $$\n",
    "\n",
    "es cero, para toda $x$. \n"
   ]
  },
  {
   "cell_type": "markdown",
   "metadata": {
    "slideshow": {
     "slide_type": "slide"
    }
   },
   "source": [
    "En caso contrario, la ecuación es no homogénea. "
   ]
  },
  {
   "cell_type": "markdown",
   "metadata": {
    "slideshow": {
     "slide_type": "slide"
    }
   },
   "source": [
    "Como resultado, el término $g(x)$, o el $G(x)$, algunas veces se le nombra **Término no homogéneo**"
   ]
  },
  {
   "cell_type": "markdown",
   "metadata": {
    "slideshow": {
     "slide_type": "slide"
    }
   },
   "source": [
    "Se empezará el análisis con las ecuaciones homogéneas, las que se escribirán en la forma \n",
    "\n",
    "$$P(x)y'' + Q(x)y' + R(x)y = 0 $$\n"
   ]
  },
  {
   "cell_type": "markdown",
   "metadata": {
    "slideshow": {
     "slide_type": "slide"
    }
   },
   "source": [
    "Más tardes, en las secciones 3.6 y 3.7, se demostrará que una vez que se resuelve la ecuación homogénea, siempre es posible resolver la ecuación no homogénea correspondiente \n",
    "\n",
    "$$P(x)y'' + Q(x)y' + R(x)y = G(x), $$\n",
    "\n",
    "o por lo menos expresar la solución en términos de una integral. \n"
   ]
  },
  {
   "cell_type": "markdown",
   "metadata": {
    "slideshow": {
     "slide_type": "slide"
    }
   },
   "source": [
    "Por lo tanto, el problema de resolver la ecuación homogénea es el fundamental. "
   ]
  },
  {
   "cell_type": "markdown",
   "metadata": {
    "slideshow": {
     "slide_type": "slide"
    }
   },
   "source": [
    "En este capítulo, la atención se centrará en las ecuaciones para las que las funciones $P,Q$ y $R$ son constantes. "
   ]
  },
  {
   "cell_type": "markdown",
   "metadata": {
    "slideshow": {
     "slide_type": "slide"
    }
   },
   "source": [
    "En este caso la ecuación \n",
    "\n",
    "$$P(x)y'' + Q(x)y' + R(x)y = 0 $$\n",
    "\n",
    "se transforma en \n",
    "\n",
    "$$ ay'' + by' + cy = 0, $$\n",
    "donde $a,b$ y $c$ son constantes dadas. "
   ]
  },
  {
   "cell_type": "markdown",
   "metadata": {
    "slideshow": {
     "slide_type": "slide"
    }
   },
   "source": [
    "Resulta que la ecuación anterior siempre puede resolverse con facilidad en términos de funciones elementales del cálculo. "
   ]
  },
  {
   "cell_type": "markdown",
   "metadata": {
    "slideshow": {
     "slide_type": "slide"
    }
   },
   "source": [
    "Por otra parte, suele ser mucho más dificil resolver la ecuación \n",
    "\n",
    "$$P(x)y'' + Q(x)y' + R(x)y = 0 $$\n",
    "\n",
    "si los coeficientes no son constantes, y el tratamiento de ese caso se pospone hasta el capítulo 5.\n"
   ]
  },
  {
   "cell_type": "markdown",
   "metadata": {
    "slideshow": {
     "slide_type": "slide"
    }
   },
   "source": [
    "# Un ejemplo sencillo"
   ]
  },
  {
   "cell_type": "markdown",
   "metadata": {
    "slideshow": {
     "slide_type": "slide"
    }
   },
   "source": [
    "Antes de abordar la ecuación \n",
    "\n",
    "$$ ay'' + by' + cy = 0, $$\n",
    "\n",
    "considerese en primer lugar un ejemplo especialmente sencillo\n",
    "\n",
    "$$y'' - y = 0. $$\n",
    "que es de la forma \n",
    "\n",
    "$$ ay'' + by' + cy = 0, $$\n",
    "\n",
    "con $a = 1$, $b = 0$ y $c = -1$. \n"
   ]
  },
  {
   "cell_type": "markdown",
   "metadata": {
    "slideshow": {
     "slide_type": "slide"
    }
   },
   "source": [
    "En palabras, la ecuación $y'' - y = 0$ pide que se busque una función con la propiedad de que la segunda derivada de esa función sea igual a ella misma. "
   ]
  },
  {
   "cell_type": "markdown",
   "metadata": {
    "slideshow": {
     "slide_type": "slide"
    }
   },
   "source": [
    "Al reflexionar un poco se recordará al menos una bien conocida función del cálculo con esta propiedad, a saber $y_{1} = e^{x}$, la función exponencial. "
   ]
  },
  {
   "cell_type": "markdown",
   "metadata": {
    "slideshow": {
     "slide_type": "slide"
    }
   },
   "source": [
    "Con un poco más de reflexión también se puede llagar a la segunda función $y_{2} = e^{-x}$. "
   ]
  },
  {
   "cell_type": "markdown",
   "metadata": {
    "slideshow": {
     "slide_type": "slide"
    }
   },
   "source": [
    "Algunos ensayos más pueden revelar que los múltiplos de estas dos soluciones también son soluciones. "
   ]
  },
  {
   "cell_type": "markdown",
   "metadata": {
    "slideshow": {
     "slide_type": "slide"
    }
   },
   "source": [
    "Por ejemplo, las funciones $y=2e^{x}$ y $y = 5e^{-x}$ también satisface la ecuación $y'' - y = 0$ como es posible comprobar si se calculan esas segundas derivadas. "
   ]
  },
  {
   "cell_type": "markdown",
   "metadata": {
    "slideshow": {
     "slide_type": "slide"
    }
   },
   "source": [
    "De la misma manera las funciones $c_{1}y_{1}(x)=c_{1}e^{x}$ y $c_{2}y_{2}(x) = c_{2}e^{-x}$ satisfacen la ecuación diferencial $y'' - y = 0$ para todos los valores de las constantes $c_{1}$ y $c_{2}$. "
   ]
  },
  {
   "cell_type": "markdown",
   "metadata": {
    "slideshow": {
     "slide_type": "slide"
    }
   },
   "source": [
    "A continuación, es de suma importancia observar que cualquier suma de dos soluciones de la ecuación $y'' - y = 0$ también es una solución. "
   ]
  },
  {
   "cell_type": "markdown",
   "metadata": {
    "slideshow": {
     "slide_type": "slide"
    }
   },
   "source": [
    "En particular, dado que $c_{1}y_{1}$ y $c_{2}y_{2}$ son soluciones de $y''-y = 0$, así también lo es la función \n",
    "\n",
    "$$ y = c_{1}y_{1} + c_{2}y_{2} = c_{1}e^{x} + c_{2}e^{-x} $$\n",
    "para valores cualesquiera de $c_{1}$ y $c_{2}$. "
   ]
  },
  {
   "cell_type": "markdown",
   "metadata": {
    "slideshow": {
     "slide_type": "slide"
    }
   },
   "source": [
    "Una vez más esto puede verificarse al calcular la segunda derivada $y''$ a partir de \n",
    "\n",
    "$$ y = c_{1}y_{1} + c_{2}y_{2} = c_{1}e^{x} + c_{2}e^{-x} $$\n"
   ]
  },
  {
   "cell_type": "markdown",
   "metadata": {
    "slideshow": {
     "slide_type": "slide"
    }
   },
   "source": [
    "En efecto se tiene \n",
    "\n",
    "$$ y'=c_{1}e^{x} - c_{2}e^{-x} $$\n",
    "\n",
    "y \n",
    "\n",
    "$$y''= c_{1}e^{x} + c_{2}e^{-x}; $$\n",
    "\n",
    "por tanto, $y'' = y$ y se satisface la ecuación $y'' - y = 0$. \n"
   ]
  },
  {
   "cell_type": "markdown",
   "metadata": {
    "slideshow": {
     "slide_type": "slide"
    }
   },
   "source": [
    "## Resumen de lo que se ha hecho hasta el momento"
   ]
  },
  {
   "cell_type": "markdown",
   "metadata": {
    "slideshow": {
     "slide_type": "slide"
    }
   },
   "source": [
    "Una vez que se observa que las funciones $y_{1}(x) = e^{x}$ y $y_{2}(x) = e^{-x}$, son soluciones de la ecuación $y'' - y = 0$, se concluye que la combinación lineal \n",
    "\n",
    "$$y = c_{1}y_{1}(x) + c_{2}y_{2}(x) = c_{1}e^{x} + c_{2}e^{-x}$$\n",
    "\n",
    "de estas funciones también es solución.\n"
   ]
  },
  {
   "cell_type": "markdown",
   "metadata": {
    "slideshow": {
     "slide_type": "slide"
    }
   },
   "source": [
    "Dado que los coeficientes $c_{1}$ y $c_{2}$ de la ecuación \n",
    "$$y = c_{1}y_{1}(x) + c_{2}y_{2}(x) = c_{1}e^{x} + c_{2}e^{-x}$$\n",
    "\n",
    "son arbitrarios, esta expresión representa una familia doblemente infinita de soluciones de la ecuación diferencial $y''- y = 0$"
   ]
  },
  {
   "cell_type": "markdown",
   "metadata": {
    "slideshow": {
     "slide_type": "slide"
    }
   },
   "source": [
    "## Resolver un PVI definido por una ED de segundo orden"
   ]
  },
  {
   "cell_type": "markdown",
   "metadata": {
    "slideshow": {
     "slide_type": "slide"
    }
   },
   "source": [
    "Ahora es posible considerar cómo escoger un miembro en particular de esta familia infinita de soluciones que también satisfaga un conjunto dado de condiciones iniciales. "
   ]
  },
  {
   "cell_type": "markdown",
   "metadata": {
    "slideshow": {
     "slide_type": "slide"
    }
   },
   "source": [
    "Por ejemplo suponga que se busca la solución $y''-y = 0$ que satisfaga las condiciones iniciales \n",
    "\n",
    "$$y(0) = 2, \\quad y'(0) = -1.$$\n"
   ]
  },
  {
   "cell_type": "markdown",
   "metadata": {
    "slideshow": {
     "slide_type": "slide"
    }
   },
   "source": [
    "En otras palabras, se busca la solución que pasa por el punto $(0,2)$ y que en ese punto tiene la pendiente $-1$. "
   ]
  },
  {
   "cell_type": "markdown",
   "metadata": {
    "slideshow": {
     "slide_type": "slide"
    }
   },
   "source": [
    "Primero se hace $x = 0$ y $y = 2$ en la ecuación \n",
    "\n",
    "$$y = c_{1}y_{1}(x) + c_{2}y_{2}(x) = c_{1}e^{x} + c_{2}e^{-x}$$\n"
   ]
  },
  {
   "cell_type": "markdown",
   "metadata": {
    "slideshow": {
     "slide_type": "slide"
    }
   },
   "source": [
    "Con ello se obtiene \n",
    "\n",
    "$$ c_{1} + c_{2} = 2 $$\n"
   ]
  },
  {
   "cell_type": "markdown",
   "metadata": {
    "slideshow": {
     "slide_type": "slide"
    }
   },
   "source": [
    "Luego se deriva la ecuación \n",
    "$$y = c_{1}e^{x} + c_{2}e^{-x}$$\n",
    "lo que da como resultado \n",
    "\n",
    "$$y' = c_{1}e^{x} - c_{2}e^{-x} $$\n"
   ]
  },
  {
   "cell_type": "markdown",
   "metadata": {
    "slideshow": {
     "slide_type": "slide"
    }
   },
   "source": [
    "Entonces, al hacer $x=0$ y $y' = -1$ se obtiene:\n",
    "\n",
    "$$ c_{1} - c_{2} = -1 $$\n"
   ]
  },
  {
   "cell_type": "markdown",
   "metadata": {
    "slideshow": {
     "slide_type": "slide"
    }
   },
   "source": [
    "Al resolver simultáneamente las ecuaciones \n",
    "\n",
    "\\begin{align*}\n",
    "c_{1} + c_{2} & = 2 \\\\\n",
    "c_{1} - c_{2} & = -1 \n",
    "\\end{align*}\n",
    "\n"
   ]
  },
  {
   "cell_type": "markdown",
   "metadata": {
    "slideshow": {
     "slide_type": "slide"
    }
   },
   "source": [
    "Por último, si se introducen estos valores en \n",
    "\n",
    "$$y = c_{1}e^{x} + c_{2}e^{-x}$$\n",
    "\n",
    "se obtiene \n",
    "\n",
    "$$y = \\frac{1}{2}e^{x} + \\frac{3}{2}e^{-x}$$\n",
    "\n",
    "la solución del problema con valor inicial que consta de la ecuación diferencial $y'' - y = 0$ y las condiciones iniciales \n",
    "\n",
    "$$ y(0) = 2, \\quad y'(0) = -1 $$\n"
   ]
  },
  {
   "cell_type": "code",
   "execution_count": 1,
   "metadata": {
    "slideshow": {
     "slide_type": "slide"
    }
   },
   "outputs": [],
   "source": [
    "import numpy as np \n",
    "import matplotlib.pyplot as plt \n",
    "import ipywidgets as widgets"
   ]
  },
  {
   "cell_type": "code",
   "execution_count": 17,
   "metadata": {
    "slideshow": {
     "slide_type": "slide"
    }
   },
   "outputs": [
    {
     "data": {
      "application/vnd.jupyter.widget-view+json": {
       "model_id": "1dc299175da24b16b60cac2df8eb0965",
       "version_major": 2,
       "version_minor": 0
      },
      "text/plain": [
       "interactive(children=(IntSlider(value=0, description='c1', max=7, min=-7), IntSlider(value=0, description='c2'…"
      ]
     },
     "metadata": {},
     "output_type": "display_data"
    }
   ],
   "source": [
    "@widgets.interact(c1=(-7,7),c2=(-7,7))\n",
    "def f(c1,c2):\n",
    "    x=np.linspace(-2,5)\n",
    "    y=c1/2*np.exp(x)+c2/2*np.exp(-x)\n",
    "    plt.plot(x,y,'b-',[0],[2],'ro')\n",
    "    plt.axis([-2,5,-10,10])\n",
    "    plt.grid(True)\n",
    "    plt.show() "
   ]
  },
  {
   "cell_type": "code",
   "execution_count": 57,
   "metadata": {
    "slideshow": {
     "slide_type": "slide"
    }
   },
   "outputs": [
    {
     "name": "stderr",
     "output_type": "stream",
     "text": [
      "No handles with labels found to put in legend.\n"
     ]
    },
    {
     "data": {
      "image/png": "[encoded data removed]",
      "text/plain": [
       "<Figure size 432x288 with 1 Axes>"
      ]
     },
     "metadata": {
      "needs_background": "light"
     },
     "output_type": "display_data"
    }
   ],
   "source": [
    "x=np.linspace(-1,5)\n",
    "c1=np.arange(0,1,0.5)\n",
    "c2=np.arange(0,2,0.5)\n",
    "for i in c1:\n",
    "    for j in c2:\n",
    "        y=i*np.exp(x)+j*np.exp(-x)\n",
    "        y_prima=i*np.exp(x)-j*np.exp(-x)\n",
    "        for k in range(len(y_prima)):\n",
    "            if (np.abs(min(y)-2)<0.01)and(np.abs(y_prima[k]+1)<0.01):\n",
    "                plt.plot(x,y,'g-',label='$c_{1}=${},c2={}'.format(i,j))\n",
    "                plt.plot(x,2-x,'y-')\n",
    "        plt.plot(x,y,'b-')\n",
    "plt.axis([-1,5,-5,5])\n",
    "plt.grid(True)            \n",
    "plt.plot([0],[2],'ro') \n",
    "plt.legend()\n",
    "plt.show() "
   ]
  },
  {
   "cell_type": "code",
   "execution_count": 12,
   "metadata": {
    "slideshow": {
     "slide_type": "slide"
    }
   },
   "outputs": [
    {
     "data": {
      "text/plain": [
       "13"
      ]
     },
     "execution_count": 12,
     "metadata": {},
     "output_type": "execute_result"
    }
   ],
   "source": [
    "len(c1) "
   ]
  },
  {
   "cell_type": "markdown",
   "metadata": {
    "slideshow": {
     "slide_type": "slide"
    }
   },
   "source": [
    "## Observaciones en experiencia de graficación con matplotlib"
   ]
  },
  {
   "cell_type": "markdown",
   "metadata": {
    "slideshow": {
     "slide_type": "slide"
    }
   },
   "source": [
    "Hay varias funciones solución de $y''-y=0$ que pasan por el punto $(0,2)$, pero solo una que tiene pentiente en este punto igual a $-1$. "
   ]
  },
  {
   "cell_type": "markdown",
   "metadata": {
    "slideshow": {
     "slide_type": "slide"
    }
   },
   "source": [
    "# Deducción de la solución general de $ay''+by'+cy=0$"
   ]
  },
  {
   "cell_type": "markdown",
   "metadata": {
    "slideshow": {
     "slide_type": "slide"
    }
   },
   "source": [
    "Página 138 del Boyce DiPrima"
   ]
  },
  {
   "cell_type": "markdown",
   "metadata": {
    "slideshow": {
     "slide_type": "slide"
    }
   },
   "source": [
    "Ahora se regresará a la ecuación más general\n",
    "\n",
    "$$ ay'' + by' + cy = 0 $$\n",
    "que tiene coeficientes constantes (reales) arbitrarios. "
   ]
  },
  {
   "cell_type": "markdown",
   "metadata": {
    "slideshow": {
     "slide_type": "slide"
    }
   },
   "source": []
  },
  {
   "cell_type": "code",
   "execution_count": null,
   "metadata": {
    "slideshow": {
     "slide_type": "slide"
    }
   },
   "outputs": [],
   "source": []
  },
  {
   "cell_type": "code",
   "execution_count": null,
   "metadata": {
    "slideshow": {
     "slide_type": "slide"
    }
   },
   "outputs": [],
   "source": []
  },
  {
   "cell_type": "code",
   "execution_count": null,
   "metadata": {
    "slideshow": {
     "slide_type": "slide"
    }
   },
   "outputs": [],
   "source": []
  },
  {
   "cell_type": "code",
   "execution_count": 44,
   "metadata": {
    "slideshow": {
     "slide_type": "slide"
    }
   },
   "outputs": [],
   "source": []
  },
  {
   "cell_type": "code",
   "execution_count": 49,
   "metadata": {},
   "outputs": [
    {
     "data": {
      "text/plain": [
       "50"
      ]
     },
     "execution_count": 49,
     "metadata": {},
     "output_type": "execute_result"
    }
   ],
   "source": []
  },
  {
   "cell_type": "code",
   "execution_count": 55,
   "metadata": {},
   "outputs": [
    {
     "data": {
      "text/plain": [
       "array([-3.89348302e+00, -3.39960405e+00, -2.95676163e+00, -2.55830758e+00,\n",
       "       -2.19826011e+00, -1.87121401e+00, -1.57225951e+00, -1.29690854e+00,\n",
       "       -1.04102741e+00, -8.00774705e-01, -5.72543624e-01, -3.52907852e-01,\n",
       "       -1.38570107e-01,  7.36873536e-02,  2.87051046e-01,  5.04724091e-01,\n",
       "        7.29974304e-01,  9.66183254e-01,  1.21689703e+00,  1.48587946e+00,\n",
       "        1.77716866e+00,  2.09513759e+00,  2.44455977e+00,  2.83068089e+00,\n",
       "        3.25929760e+00,  3.73684450e+00,  4.27049077e+00,  4.86824777e+00,\n",
       "        5.53908931e+00,  6.29308642e+00,  7.14155846e+00,  8.09724312e+00,\n",
       "        9.17448761e+00,  1.03894641e+01,  1.17604123e+01,  1.33079137e+01,\n",
       "        1.50552001e+01,  1.70285026e+01,  1.92574455e+01,  2.17754907e+01,\n",
       "        2.46204404e+01,  2.78350043e+01,  3.14674412e+01,  3.55722829e+01,\n",
       "        4.02111534e+01,  4.54536936e+01,  5.13786073e+01,  5.80748421e+01,\n",
       "        6.56429253e+01,  7.41964726e+01])"
      ]
     },
     "execution_count": 55,
     "metadata": {},
     "output_type": "execute_result"
    }
   ],
   "source": []
  },
  {
   "cell_type": "code",
   "execution_count": 51,
   "metadata": {},
   "outputs": [
    {
     "data": {
      "text/plain": [
       "True"
      ]
     },
     "execution_count": 51,
     "metadata": {},
     "output_type": "execute_result"
    }
   ],
   "source": []
  },
  {
   "cell_type": "code",
   "execution_count": 45,
   "metadata": {
    "slideshow": {
     "slide_type": "slide"
    }
   },
   "outputs": [
    {
     "ename": "IndexError",
     "evalue": "only integers, slices (`:`), ellipsis (`...`), numpy.newaxis (`None`) and integer or boolean arrays are valid indices",
     "output_type": "error",
     "traceback": [
      "\u001b[1;31m---------------------------------------------------------------------------\u001b[0m",
      "\u001b[1;31mIndexError\u001b[0m                                Traceback (most recent call last)",
      "\u001b[1;32m<ipython-input-45-afc1dc1db855>\u001b[0m in \u001b[0;36m<module>\u001b[1;34m\u001b[0m\n\u001b[0;32m      1\u001b[0m \u001b[1;32mfor\u001b[0m \u001b[0mk\u001b[0m \u001b[1;32min\u001b[0m \u001b[0my_prima\u001b[0m\u001b[1;33m:\u001b[0m\u001b[1;33m\u001b[0m\u001b[1;33m\u001b[0m\u001b[0m\n\u001b[1;32m----> 2\u001b[1;33m     \u001b[1;32mif\u001b[0m \u001b[1;33m(\u001b[0m\u001b[0mnp\u001b[0m\u001b[1;33m.\u001b[0m\u001b[0mabs\u001b[0m\u001b[1;33m(\u001b[0m\u001b[0my\u001b[0m\u001b[1;33m[\u001b[0m\u001b[0mk\u001b[0m\u001b[1;33m]\u001b[0m\u001b[1;33m-\u001b[0m\u001b[1;36m2\u001b[0m\u001b[1;33m)\u001b[0m\u001b[1;33m<\u001b[0m\u001b[1;36m0.001\u001b[0m\u001b[1;33m)\u001b[0m\u001b[1;32mand\u001b[0m\u001b[1;33m(\u001b[0m\u001b[0mnp\u001b[0m\u001b[1;33m.\u001b[0m\u001b[0mabs\u001b[0m\u001b[1;33m(\u001b[0m\u001b[0my_prima\u001b[0m\u001b[1;33m[\u001b[0m\u001b[0mk\u001b[0m\u001b[1;33m]\u001b[0m\u001b[1;33m+\u001b[0m\u001b[1;36m1\u001b[0m\u001b[1;33m)\u001b[0m\u001b[1;33m<\u001b[0m\u001b[1;36m0.001\u001b[0m\u001b[1;33m)\u001b[0m\u001b[1;33m:\u001b[0m\u001b[1;33m\u001b[0m\u001b[1;33m\u001b[0m\u001b[0m\n\u001b[0m\u001b[0;32m      3\u001b[0m         \u001b[0mplt\u001b[0m\u001b[1;33m.\u001b[0m\u001b[0mplot\u001b[0m\u001b[1;33m(\u001b[0m\u001b[0mx\u001b[0m\u001b[1;33m,\u001b[0m\u001b[0my\u001b[0m\u001b[1;33m,\u001b[0m\u001b[1;34m'g-'\u001b[0m\u001b[1;33m,\u001b[0m\u001b[0mlabel\u001b[0m\u001b[1;33m=\u001b[0m\u001b[1;34m'$c_{1}=${},c2={}'\u001b[0m\u001b[1;33m.\u001b[0m\u001b[0mformat\u001b[0m\u001b[1;33m(\u001b[0m\u001b[0mi\u001b[0m\u001b[1;33m,\u001b[0m\u001b[0mj\u001b[0m\u001b[1;33m)\u001b[0m\u001b[1;33m)\u001b[0m\u001b[1;33m\u001b[0m\u001b[1;33m\u001b[0m\u001b[0m\n\u001b[0;32m      4\u001b[0m         \u001b[0mplt\u001b[0m\u001b[1;33m.\u001b[0m\u001b[0mplot\u001b[0m\u001b[1;33m(\u001b[0m\u001b[0mx\u001b[0m\u001b[1;33m,\u001b[0m\u001b[1;36m2\u001b[0m\u001b[1;33m-\u001b[0m\u001b[0mx\u001b[0m\u001b[1;33m,\u001b[0m\u001b[1;34m'y-'\u001b[0m\u001b[1;33m)\u001b[0m\u001b[1;33m\u001b[0m\u001b[1;33m\u001b[0m\u001b[0m\n",
      "\u001b[1;31mIndexError\u001b[0m: only integers, slices (`:`), ellipsis (`...`), numpy.newaxis (`None`) and integer or boolean arrays are valid indices"
     ]
    }
   ],
   "source": []
  },
  {
   "cell_type": "code",
   "execution_count": null,
   "metadata": {
    "slideshow": {
     "slide_type": "slide"
    }
   },
   "outputs": [],
   "source": []
  }
 ],
 "metadata": {
  "celltoolbar": "Slideshow",
  "hide_input": false,
  "kernelspec": {
   "display_name": "Python 3",
   "language": "python",
   "name": "python3"
  },
  "language_info": {
   "codemirror_mode": {
    "name": "ipython",
    "version": 3
   },
   "file_extension": ".py",
   "mimetype": "text/x-python",
   "name": "python",
   "nbconvert_exporter": "python",
   "pygments_lexer": "ipython3",
   "version": "3.7.4"
  },
  "nbTranslate": {
   "displayLangs": [
    "*"
   ],
   "hotkey": "alt-t",
   "langInMainMenu": true,
   "sourceLang": "en",
   "targetLang": "fr",
   "useGoogleTranslate": true
  }
 },
 "nbformat": 4,
 "nbformat_minor": 2
}
