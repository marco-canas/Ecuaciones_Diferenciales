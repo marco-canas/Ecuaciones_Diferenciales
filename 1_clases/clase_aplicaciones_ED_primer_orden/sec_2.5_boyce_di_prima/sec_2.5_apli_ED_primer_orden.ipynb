{
 "cells": [
  {
   "cell_type": "markdown",
   "metadata": {
    "slideshow": {
     "slide_type": "slide"
    }
   },
   "source": [
    "# Sección 2.5 del Boyce DiPrima"
   ]
  },
  {
   "cell_type": "markdown",
   "metadata": {
    "slideshow": {
     "slide_type": "slide"
    }
   },
   "source": [
    "## Aplicaciones de las ecuaciones lineales de primer orden"
   ]
  },
  {
   "cell_type": "markdown",
   "metadata": {
    "slideshow": {
     "slide_type": "slide"
    }
   },
   "source": [
    "Las ecuaciones diferenciales son interesantes para los no matemáticos principalmente debido a la posibilidad de utilizarlas para investigar una amplia variedad de problemas de las ciencias físicas, biológicas y sociales. "
   ]
  },
  {
   "cell_type": "markdown",
   "metadata": {
    "slideshow": {
     "slide_type": "slide"
    }
   },
   "source": [
    "En este proceso se presentan tres pasos identificables, sin importar cuál sea el campo específico de aplicación. "
   ]
  },
  {
   "cell_type": "markdown",
   "metadata": {
    "slideshow": {
     "slide_type": "slide"
    }
   },
   "source": [
    "En primer lugar, es necesario traducir la situación física en términos matemáticos. "
   ]
  },
  {
   "cell_type": "markdown",
   "metadata": {
    "slideshow": {
     "slide_type": "slide"
    }
   },
   "source": [
    "Suele llevarse a cabo esto al establecer hipótesis acerca de lo que está sucediendo que parezcan ser coherentes con fenómenos observados. "
   ]
  },
  {
   "cell_type": "markdown",
   "metadata": {
    "slideshow": {
     "slide_type": "slide"
    }
   },
   "source": [
    "Por ejemplo, \n",
    "* se ha observado que los materiales radiactivos decaen con rapidez proporcional a la cantidad de material presente,"
   ]
  },
  {
   "cell_type": "markdown",
   "metadata": {
    "slideshow": {
     "slide_type": "slide"
    }
   },
   "source": [
    "* que el calor pasa de un cuerpo caliente hacia uno más frío con una rapidez proporcional a la diferencia de temperaturas, "
   ]
  },
  {
   "cell_type": "markdown",
   "metadata": {
    "slideshow": {
     "slide_type": "slide"
    }
   },
   "source": [
    "* que los objetos se mueven según con las leyes de Newton del movimiento y "
   ]
  },
  {
   "cell_type": "markdown",
   "metadata": {
    "slideshow": {
     "slide_type": "slide"
    }
   },
   "source": [
    "* que las poblaciones de insectos crecen con una rapidez proporcional a la población existente. "
   ]
  },
  {
   "cell_type": "markdown",
   "metadata": {
    "slideshow": {
     "slide_type": "slide"
    }
   },
   "source": [
    "Cada una de estas proposiciones comprende una razón de cambio (derivada) y, en consecuencia, al expresarse matemáticamente toma la forma de una ecuación diferencial. "
   ]
  },
  {
   "cell_type": "markdown",
   "metadata": {
    "slideshow": {
     "slide_type": "slide"
    }
   },
   "source": [
    "Es importante tener en cuenta que las ecuaciones matemáticas casi siempre son solo una descripción aproximada del proceso real, porque se basan en observaciones que por sí mismas son aproximaciones. "
   ]
  },
  {
   "cell_type": "markdown",
   "metadata": {
    "slideshow": {
     "slide_type": "slide"
    }
   },
   "source": [
    "Por ejemplo, \n",
    "* los cuerpos que se mueven a velocidades comparables a la de la luz no cumplen con las leyes de Newton, "
   ]
  },
  {
   "cell_type": "markdown",
   "metadata": {
    "slideshow": {
     "slide_type": "slide"
    }
   },
   "source": [
    "* Las poblaciones de insectos no crecen indefinidamente como se afirmó, debido a posibles limitaciones en el abastecimiento de alimento, "
   ]
  },
  {
   "cell_type": "markdown",
   "metadata": {
    "slideshow": {
     "slide_type": "slide"
    }
   },
   "source": [
    "* y la transferencia de calor es afectada por otros factores distintos a la diferencia de las temperaturas. "
   ]
  },
  {
   "cell_type": "markdown",
   "metadata": {
    "slideshow": {
     "slide_type": "slide"
    }
   },
   "source": [
    "Es más, el proceso de plantear matemáticamente un problema físico suele comprender el reemplazo conceptual de un proceso discreto por uno continuo. "
   ]
  },
  {
   "cell_type": "markdown",
   "metadata": {
    "slideshow": {
     "slide_type": "slide"
    }
   },
   "source": [
    "Por ejemplo, \n",
    "* el numero de miembros en una población de insectos cambia en cantidades discretas; sin embargo, si la población es grande, parece razonable considerarla como una variable continua e incluso hablar de su derivada.  "
   ]
  },
  {
   "cell_type": "markdown",
   "metadata": {
    "slideshow": {
     "slide_type": "slide"
    }
   },
   "source": [
    "De manera alternativa, puede adoptarse el punto de vista de que las ecuaciones matemáticas describen con exactitud la operación de un modelo simplificado que se ha construido (o concebido) de modo que comprenda las características más importantes del proceso real. "
   ]
  },
  {
   "cell_type": "markdown",
   "metadata": {
    "slideshow": {
     "slide_type": "slide"
    }
   },
   "source": [
    "En todo caso, una vez que el problema se ha formulado matemáticamente, a menudo debe encararse el problema de resolver una o más ecuaciones diferenciales o, si falta el procedimiento, averiguar tanto como sea posible acerca de las propiedades de la solución. "
   ]
  },
  {
   "cell_type": "markdown",
   "metadata": {
    "slideshow": {
     "slide_type": "slide"
    }
   },
   "source": [
    "Puede suceder que este problema matemático sea bastante difícil y, de ser así, en esta etapa puede indicarse aproximaciones adicionales que hagan al problema matemáticamente tratable. "
   ]
  },
  {
   "cell_type": "markdown",
   "metadata": {
    "slideshow": {
     "slide_type": "slide"
    }
   },
   "source": [
    "Por ejemplo, \n",
    "* una ecuación no lineal puede aproximarse con una lineal, \n",
    "* o una ecuación que varíe con lentitud puede reemplazarse por su valor promedio. "
   ]
  },
  {
   "cell_type": "markdown",
   "metadata": {
    "slideshow": {
     "slide_type": "slide"
    }
   },
   "source": [
    "Por supuesto, cualquiera de esas aproximaciones puede analizarse desde el punto de vista físico a fin de tener la certeza de que el problema matemático simplificado sigue reflejando las características esenciales de proceso físico en estudio. "
   ]
  },
  {
   "cell_type": "markdown",
   "metadata": {
    "slideshow": {
     "slide_type": "slide"
    }
   },
   "source": [
    "Al mismo tiempo, un conocimiento profundo de la física del problema puede sugerir aproximaciones matemáticas razonables que hagan al problema matemático más tratable en el análisis. "
   ]
  },
  {
   "cell_type": "markdown",
   "metadata": {
    "slideshow": {
     "slide_type": "slide"
    }
   },
   "source": [
    "Esta interacción entre la comprensión de los fenómenos físicos y el conocimiento de las técnicas matemáticas y sus limitaciones es característica de la esencia de las matemáticas aplicadas, y es indispensable para construir con éxito modelos matemáticos de procesos físicos intrincados.  "
   ]
  },
  {
   "cell_type": "markdown",
   "metadata": {
    "slideshow": {
     "slide_type": "slide"
    }
   },
   "source": [
    "Por último, una vez que se ha obtenido la solución (o al menos alguna información acerca de ella), debe interpretarse en términos del contexto en el que surgió el problema. "
   ]
  },
  {
   "cell_type": "markdown",
   "metadata": {
    "slideshow": {
     "slide_type": "slide"
    }
   },
   "source": [
    "En particular, siempre debe comprobarse si la solución matemática parece físicamente razonable. "
   ]
  },
  {
   "cell_type": "markdown",
   "metadata": {
    "slideshow": {
     "slide_type": "slide"
    }
   },
   "source": [
    "Esto exige, por lo menos, que la solución exista, sea única y dependa en forma continua de los datos del problema. "
   ]
  },
  {
   "cell_type": "markdown",
   "metadata": {
    "slideshow": {
     "slide_type": "slide"
    }
   },
   "source": [
    "Esta última consideración es importante porque los coeficientes de la ecuación diferencial y las condiciones iniciales suelen obtenerse como resultado de mediciones de alguna cantidad física y, por consiguiente, son susceptibles de experimentar pequeños errores. "
   ]
  },
  {
   "cell_type": "markdown",
   "metadata": {
    "slideshow": {
     "slide_type": "slide"
    }
   },
   "source": [
    "Si estos pequeños errores conducen a cambios grandes (o discontinuos) en la solución del problema matemático correspondiente, que no se observan físicamente, entonces debe reconsiderarse si el modelo matemático es el adecuado para el problema físico. "
   ]
  },
  {
   "cell_type": "markdown",
   "metadata": {
    "slideshow": {
     "slide_type": "slide"
    }
   },
   "source": [
    "Por supuesto, el hecho de que la solución matemática parezca razonable no garantiza que sea correcta; sin embargo, si es seriamente incoherente con las observaciones cuidadosas del sistema físico que pretende describir, sugiere que se han cometido errores al resolver el problema matemático o que el propio modelo matemático es demasiado rudimentario. "
   ]
  },
  {
   "cell_type": "markdown",
   "metadata": {
    "slideshow": {
     "slide_type": "slide"
    }
   },
   "source": [
    "Los ejemplos de esta sección son aplicaciones típicas en las que surgen ecuaciones diferenciales lineales de primer orden. "
   ]
  },
  {
   "cell_type": "markdown",
   "metadata": {
    "slideshow": {
     "slide_type": "slide"
    }
   },
   "source": [
    "## Decaimiento radiactivo"
   ]
  },
  {
   "cell_type": "markdown",
   "metadata": {
    "slideshow": {
     "slide_type": "slide"
    }
   },
   "source": [
    "Página 61 del Boyce DiPrima   \n",
    "Sección 2.5. "
   ]
  },
  {
   "cell_type": "code",
   "execution_count": null,
   "metadata": {
    "slideshow": {
     "slide_type": "slide"
    }
   },
   "outputs": [],
   "source": []
  },
  {
   "cell_type": "code",
   "execution_count": null,
   "metadata": {
    "slideshow": {
     "slide_type": "slide"
    }
   },
   "outputs": [],
   "source": []
  },
  {
   "cell_type": "code",
   "execution_count": null,
   "metadata": {
    "slideshow": {
     "slide_type": "slide"
    }
   },
   "outputs": [],
   "source": []
  },
  {
   "cell_type": "code",
   "execution_count": null,
   "metadata": {
    "slideshow": {
     "slide_type": "slide"
    }
   },
   "outputs": [],
   "source": []
  }
 ],
 "metadata": {
  "celltoolbar": "Slideshow",
  "hide_input": false,
  "kernelspec": {
   "display_name": "Python 3",
   "language": "python",
   "name": "python3"
  },
  "language_info": {
   "codemirror_mode": {
    "name": "ipython",
    "version": 3
   },
   "file_extension": ".py",
   "mimetype": "text/x-python",
   "name": "python",
   "nbconvert_exporter": "python",
   "pygments_lexer": "ipython3",
   "version": "3.7.4"
  },
  "nbTranslate": {
   "displayLangs": [
    "*"
   ],
   "hotkey": "alt-t",
   "langInMainMenu": true,
   "sourceLang": "en",
   "targetLang": "es",
   "useGoogleTranslate": true
  },
  "rise": {
   "enable_chalkboard": true,
   "theme": "sky",
   "transition": "zoom"
  }
 },
 "nbformat": 4,
 "nbformat_minor": 2
}
