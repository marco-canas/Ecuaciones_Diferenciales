{
 "cells": [
  {
   "cell_type": "markdown",
   "metadata": {},
   "source": [
    "# Ejercicio 20 de la sección 7.5 de Boyce DiPrima "
   ]
  },
  {
   "cell_type": "markdown",
   "metadata": {},
   "source": [
    "El sistema $tx' = Ax$ es análogo a la ecuación de segundo orden de Euler (Sección 5.5). "
   ]
  },
  {
   "cell_type": "markdown",
   "metadata": {},
   "source": [
    "Si se supone que $x = \\xi t^{r}$, en donde $\\xi$ es un vector constante, demuestre que $\\xi$ y $r$ deben satisfacer $(A - rI)\\xi = 0$;  \n",
    "demuestre también que para obtener soluciones no triviales de la ecuación diferencial dada, $r$ debe ser una raíz de la ecuación característica $det(A - rI) = 0$. \n",
    "\n",
    "Vamos a suponer que $t > 0$. "
   ]
  },
  {
   "cell_type": "markdown",
   "metadata": {},
   "source": [
    "## Demostración: "
   ]
  },
  {
   "cell_type": "markdown",
   "metadata": {},
   "source": [
    "Sustituyamos la solución $\\xi t^{r}$ en la ecuación diferencial $tx' = Ax$ para obtener:\n",
    "\n",
    "$$ t(\\xi t^{r})' = A(\\xi t^{r}) $$\n"
   ]
  },
  {
   "cell_type": "markdown",
   "metadata": {},
   "source": [
    "$$ t \\xi rt^{r-1} = A\\xi t^{r} $$"
   ]
  },
  {
   "cell_type": "markdown",
   "metadata": {},
   "source": [
    "$$ r\\xi t^{r} = A\\xi t^{r} $$"
   ]
  },
  {
   "cell_type": "markdown",
   "metadata": {},
   "source": [
    "$$ r\\xi = A\\xi $$"
   ]
  },
  {
   "cell_type": "markdown",
   "metadata": {},
   "source": [
    "$$ rI\\xi = A\\xi $$\n",
    "\n",
    "tenga en cuenta que el priducto $\\xi I$ no está definido. "
   ]
  },
  {
   "cell_type": "markdown",
   "metadata": {},
   "source": [
    "$$ 0 = A\\xi - rI\\xi = (A - rI)\\xi $$"
   ]
  },
  {
   "cell_type": "markdown",
   "metadata": {},
   "source": [
    "Por tanto, $r$ y $\\xi$ deben satisfacer la ecuación \n",
    "\n",
    "$$ (A - rI)\\xi = 0 $$\n"
   ]
  },
  {
   "cell_type": "markdown",
   "metadata": {},
   "source": [
    "Las soluciones no triviales de $tx' = Ax$ se dan cuando $\\xi$ es un vector no nulo, lo que se da si el sistema homogéneo \n",
    "$$ (A - rI)\\xi = 0 $$\n",
    "tiene soluciones no triviales, lo que se da cuando \n",
    "\n",
    "$$ det(A - rI) = 0 $$\n"
   ]
  },
  {
   "cell_type": "code",
   "execution_count": null,
   "metadata": {},
   "outputs": [],
   "source": []
  },
  {
   "cell_type": "code",
   "execution_count": null,
   "metadata": {},
   "outputs": [],
   "source": []
  },
  {
   "cell_type": "code",
   "execution_count": null,
   "metadata": {},
   "outputs": [],
   "source": []
  },
  {
   "cell_type": "code",
   "execution_count": null,
   "metadata": {},
   "outputs": [],
   "source": []
  },
  {
   "cell_type": "code",
   "execution_count": null,
   "metadata": {},
   "outputs": [],
   "source": []
  }
 ],
 "metadata": {
  "hide_input": false,
  "kernelspec": {
   "display_name": "Python 3",
   "language": "python",
   "name": "python3"
  },
  "language_info": {
   "codemirror_mode": {
    "name": "ipython",
    "version": 3
   },
   "file_extension": ".py",
   "mimetype": "text/x-python",
   "name": "python",
   "nbconvert_exporter": "python",
   "pygments_lexer": "ipython3",
   "version": "3.7.4"
  },
  "nbTranslate": {
   "displayLangs": [
    "*"
   ],
   "hotkey": "alt-t",
   "langInMainMenu": true,
   "sourceLang": "en",
   "targetLang": "fr",
   "useGoogleTranslate": true
  }
 },
 "nbformat": 4,
 "nbformat_minor": 2
}
