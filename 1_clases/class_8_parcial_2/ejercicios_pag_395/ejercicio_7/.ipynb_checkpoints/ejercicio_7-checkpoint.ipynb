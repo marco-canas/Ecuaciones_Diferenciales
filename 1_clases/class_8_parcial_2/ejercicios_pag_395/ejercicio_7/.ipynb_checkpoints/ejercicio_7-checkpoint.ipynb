{
 "cells": [
  {
   "cell_type": "markdown",
   "metadata": {},
   "source": [
    "# Ejercicio 7\n",
    "Página 395 del Boyce DiPrima "
   ]
  },
  {
   "cell_type": "markdown",
   "metadata": {},
   "source": [
    "1. Encuentre la solución general del sistema de ecuaciones:\n",
    "\n",
    "$$ x' = \\begin{pmatrix} 4 & -3 \\\\ 8 & -6 \\end{pmatrix}x $$\n"
   ]
  },
  {
   "cell_type": "markdown",
   "metadata": {},
   "source": [
    "2. Trazar unas cuantas trayectorias\n",
    "\n",
    "En este problema, la matriz de coeficientes tiene un eigenvalor cero, como resultado el patrón de las trayectorias es diferente al de los ejemplos en el texto. "
   ]
  },
  {
   "cell_type": "markdown",
   "metadata": {},
   "source": [
    "## Solución analítica"
   ]
  },
  {
   "cell_type": "markdown",
   "metadata": {},
   "source": [
    "### Algoritmo o metodología de solución:\n",
    "\n",
    "1. Resolver la ecuación $det(A-rI) = 0$\n",
    "2. Resolver el sistema homogéneo $(A-rI)\\xi = 0$\n",
    "3. Enunciar el conjunto LI de soluciones: $\\{ x^{(1)}, x^{(2)} \\}$\n",
    "4. Plantear la solución general $x = c_{1}x^{(1)} + c_{2}x^{(2)}$\n",
    "6. Graficar en el plano $x_{1}x_{2}$ haciendo $c_{1} = 0$ o $c_{2} = 0$ y eliminando $t$. \n",
    "7. Graficar el el plano $t - x_{1}$ y en el plano $t - x_{2}$. \n"
   ]
  },
  {
   "cell_type": "markdown",
   "metadata": {},
   "source": [
    "## Puesta en marcha del plan "
   ]
  },
  {
   "cell_type": "markdown",
   "metadata": {},
   "source": [
    "$$ A = \\begin{pmatrix} 4 & -3 \\\\ 8 & -6  \\end{pmatrix} \\quad \\quad \\Rightarrow \\quad \\quad A - rI = \\begin{pmatrix} 4 - r & -3 \\\\ 8 & -6 - r  \\end{pmatrix}  $$"
   ]
  },
  {
   "cell_type": "code",
   "execution_count": null,
   "metadata": {},
   "outputs": [],
   "source": []
  },
  {
   "cell_type": "code",
   "execution_count": null,
   "metadata": {},
   "outputs": [],
   "source": []
  },
  {
   "cell_type": "markdown",
   "metadata": {},
   "source": [
    "## Solución con numpy.linalg"
   ]
  },
  {
   "cell_type": "code",
   "execution_count": null,
   "metadata": {},
   "outputs": [],
   "source": [
    "import numpy as np \n",
    "A = np.array([[4,-3],[8,-6]])\n",
    "r,xi1 = np.linalg.eig(A) \n",
    "r1,r2 = r \n",
    "xi1,xi2 = xi[0],xi[1]  \n",
    "\n",
    "t = np.arange(-1,1,0.1) \n",
    "x1 = "
   ]
  },
  {
   "cell_type": "code",
   "execution_count": null,
   "metadata": {},
   "outputs": [],
   "source": []
  },
  {
   "cell_type": "code",
   "execution_count": null,
   "metadata": {},
   "outputs": [],
   "source": []
  },
  {
   "cell_type": "code",
   "execution_count": null,
   "metadata": {},
   "outputs": [],
   "source": []
  },
  {
   "cell_type": "code",
   "execution_count": null,
   "metadata": {},
   "outputs": [],
   "source": []
  },
  {
   "cell_type": "code",
   "execution_count": null,
   "metadata": {},
   "outputs": [],
   "source": []
  }
 ],
 "metadata": {
  "hide_input": false,
  "kernelspec": {
   "display_name": "Python 3",
   "language": "python",
   "name": "python3"
  },
  "language_info": {
   "codemirror_mode": {
    "name": "ipython",
    "version": 3
   },
   "file_extension": ".py",
   "mimetype": "text/x-python",
   "name": "python",
   "nbconvert_exporter": "python",
   "pygments_lexer": "ipython3",
   "version": "3.7.4"
  },
  "nbTranslate": {
   "displayLangs": [
    "*"
   ],
   "hotkey": "alt-t",
   "langInMainMenu": true,
   "sourceLang": "en",
   "targetLang": "fr",
   "useGoogleTranslate": true
  }
 },
 "nbformat": 4,
 "nbformat_minor": 2
}
