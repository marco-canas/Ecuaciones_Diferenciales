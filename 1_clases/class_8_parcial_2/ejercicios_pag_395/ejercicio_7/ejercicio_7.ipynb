{
 "cells": [
  {
   "cell_type": "markdown",
   "metadata": {},
   "source": [
    "# Ejercicio 7\n",
    "Página 395 del Boyce DiPrima "
   ]
  },
  {
   "cell_type": "markdown",
   "metadata": {},
   "source": [
    "1. Encuentre la solución general del sistema de ecuaciones:\n",
    "\n",
    "$$ x' = \\begin{pmatrix} 4 & -3 \\\\ 8 & -6 \\end{pmatrix}x $$\n"
   ]
  },
  {
   "cell_type": "markdown",
   "metadata": {},
   "source": [
    "2. Trazar unas cuantas trayectorias\n",
    "\n",
    "En este problema, la matriz de coeficientes tiene un eigenvalor cero, como resultado el patrón de las trayectorias es diferente al de los ejemplos en el texto. "
   ]
  },
  {
   "cell_type": "markdown",
   "metadata": {},
   "source": [
    "## Solución analítica"
   ]
  },
  {
   "cell_type": "markdown",
   "metadata": {},
   "source": [
    "### Algoritmo o metodología de solución:\n",
    "\n",
    "1. Resolver la ecuación $det(A-rI) = 0$\n",
    "2. Resolver el sistema homogéneo $(A-rI)\\xi = 0$\n",
    "3. Enunciar el conjunto LI de soluciones: $\\{ x^{(1)}, x^{(2)} \\}$\n",
    "4. Plantear la solución general $x = c_{1}x^{(1)} + c_{2}x^{(2)}$\n",
    "6. Graficar en el plano $x_{1}x_{2}$ haciendo $c_{1} = 0$ o $c_{2} = 0$ y eliminando $t$. \n",
    "7. Graficar el el plano $t - x_{1}$ y en el plano $t - x_{2}$. \n"
   ]
  },
  {
   "cell_type": "markdown",
   "metadata": {},
   "source": [
    "## Puesta en marcha del plan "
   ]
  },
  {
   "cell_type": "markdown",
   "metadata": {},
   "source": [
    "$$ A = \\begin{pmatrix} 4 & -3 \\\\ 8 & -6  \\end{pmatrix} \\quad \\quad \\Rightarrow \\quad \\quad A - rI = \\begin{pmatrix} 4 - r & -3 \\\\ 8 & -6 - r  \\end{pmatrix}  $$"
   ]
  },
  {
   "cell_type": "markdown",
   "metadata": {},
   "source": [
    "$$ (4-r)(-6-r) - (-24) = 0 $$"
   ]
  },
  {
   "cell_type": "markdown",
   "metadata": {},
   "source": [
    "$$ -24 + r^{2} + 2r + 24 = 0 $$"
   ]
  },
  {
   "cell_type": "markdown",
   "metadata": {},
   "source": [
    "$$ r^{2} + 2r = 0 $$"
   ]
  },
  {
   "cell_type": "markdown",
   "metadata": {},
   "source": [
    "$$ r(r + 2) = 0 $$"
   ]
  },
  {
   "cell_type": "markdown",
   "metadata": {},
   "source": [
    "$$ r_{1} = 0 \\quad \\vee \\quad r_{2} = -2 $$"
   ]
  },
  {
   "cell_type": "markdown",
   "metadata": {},
   "source": [
    "Hallemos $\\xi^{(1)}$ resolviendo el sistema homogéneo\n",
    "\n",
    "$$ (A - 0I)\\xi = 0 \\quad \\iff \\quad A\\xi = 0 $$\n"
   ]
  },
  {
   "cell_type": "markdown",
   "metadata": {},
   "source": [
    "Como la segunda fila de $A$ es el doble de la primera, entonces este sistema homogéneo tiene soluciones no triviales dada por la siguiente ecuación lineal\n",
    "\n",
    "$$ 4\\xi_{1} - 3\\xi_{2} = 0 $$\n"
   ]
  },
  {
   "cell_type": "markdown",
   "metadata": {},
   "source": [
    "De donde \n",
    "\n",
    "$$\\xi_{2} = \\frac{4}{3} \\xi_{1} $$"
   ]
  },
  {
   "cell_type": "markdown",
   "metadata": {},
   "source": [
    "Luego, un buen candidato para $\\xi^{(1)}$ puede ser:\n",
    "\n",
    "$$\\xi^{(1)} = \\begin{pmatrix} 3 \\\\ 4 \\end{pmatrix} $$\n"
   ]
  },
  {
   "cell_type": "markdown",
   "metadata": {},
   "source": [
    "De donde \n",
    "\n",
    "$$x^{(1)}(t) = \\xi^{(1)}e^{r_{1}t} = \\begin{pmatrix} 3 \\\\ 4 \\end{pmatrix} e^{0t} = \\begin{pmatrix} 3 \\\\ 4 \\end{pmatrix} $$\n",
    "\n",
    "es decir, $x^{(1)}$ es una función constante. \n"
   ]
  },
  {
   "cell_type": "markdown",
   "metadata": {},
   "source": [
    "Determinemos ahora $\\xi^{(2)}$ resolviendo el sistema homogéneo:\n",
    "\n",
    "$$ (A - (-2)I)\\xi = 0 $$\n"
   ]
  },
  {
   "cell_type": "markdown",
   "metadata": {},
   "source": [
    "$$  A - (-2)I = \\begin{pmatrix} 4 - (-2) & -3 \\\\ 8 & -6 - (-2)  \\end{pmatrix} $$"
   ]
  },
  {
   "cell_type": "markdown",
   "metadata": {},
   "source": [
    "$$  A + 2I = \\begin{pmatrix} 4 + 2 & -3 \\\\ 8 & -6 + 2  \\end{pmatrix} $$"
   ]
  },
  {
   "cell_type": "markdown",
   "metadata": {},
   "source": [
    "$$  A + 2I = \\begin{pmatrix} 6 & -3 \\\\ 8 & -4  \\end{pmatrix} $$"
   ]
  },
  {
   "cell_type": "markdown",
   "metadata": {},
   "source": [
    "$$  (A + 2I)\\xi = \\begin{pmatrix} 6 & -3 \\\\ 8 & -4  \\end{pmatrix}\\begin{pmatrix} \\xi_{1} \\\\ \\xi_{2} \\end{pmatrix} = \\begin{pmatrix} 0 \\\\ 0 \\end{pmatrix}$$"
   ]
  },
  {
   "cell_type": "markdown",
   "metadata": {},
   "source": [
    "$$ 6\\xi_{1} - 3\\xi_{2} = 0 $$"
   ]
  },
  {
   "cell_type": "markdown",
   "metadata": {},
   "source": [
    "$$ \\xi_{2} = 2\\xi_{1} $$"
   ]
  },
  {
   "cell_type": "markdown",
   "metadata": {},
   "source": [
    "$$ \\xi^{(2)} = \\begin{pmatrix} 1 \\\\ 2 \\end{pmatrix} $$"
   ]
  },
  {
   "cell_type": "markdown",
   "metadata": {},
   "source": [
    "$$ x^{(2)}(t) = \\begin{pmatrix} 1 \\\\ 2 \\end{pmatrix} e^{-2t} $$"
   ]
  },
  {
   "cell_type": "markdown",
   "metadata": {},
   "source": [
    "$$x = \\begin{pmatrix} x_{1}(t) \\\\ x_{2}(t) \\end{pmatrix} = c_{1}\\xi^{(1)}e^{r_{1}t} + c_{2}\\xi^{(2)}e^{r_{2}t} = c_{1}\\begin{pmatrix} 3 \\\\ 4 \\end{pmatrix} + c_{2}\\begin{pmatrix} 1 \\\\ 2 \\end{pmatrix} e^{-2t}  $$"
   ]
  },
  {
   "cell_type": "markdown",
   "metadata": {},
   "source": [
    "Forma escalar de la solución general:\n",
    "\n",
    "\\begin{align*}\n",
    "x_{1}(t) & = 3c_{1} + c_{2}e^{-2t} \\\\\n",
    "x_{2}(t) & = 4c_{1} + 2c_{2}e^{-2t}\n",
    "\\end{align*}\n"
   ]
  },
  {
   "cell_type": "markdown",
   "metadata": {},
   "source": [
    "Si $c_{2} = 0$, entonces la partícula se mantiene estática en la posición \n",
    "\n",
    "$$ x = c_{1}\\begin{pmatrix} 3 \\\\ 4 \\end{pmatrix} $$ \n",
    "\n",
    "esta es la posición límite de la partícula, es decir, la posición a la que la partícula tiende cuando recorre cualquiera de las trayectorias dada por la solución general. "
   ]
  },
  {
   "cell_type": "markdown",
   "metadata": {},
   "source": [
    "#### Análisis de la solución para $c_{1} = 0$ y $c_{2} = 1$\n",
    "\n",
    "$$x = \\begin{pmatrix} 1 \\\\ 2 \\end{pmatrix} e^{-2t}  $$\n"
   ]
  },
  {
   "cell_type": "markdown",
   "metadata": {},
   "source": [
    "\\begin{align*}\n",
    "x_{1} & = e^{-2t} \\\\\n",
    "x_{2} & = 2e^{-2t}\n",
    "\\end{align*}"
   ]
  },
  {
   "cell_type": "markdown",
   "metadata": {},
   "source": [
    "$$\\frac{x_{1}}{x_{2}} = \\frac{1}{2}$$"
   ]
  },
  {
   "cell_type": "markdown",
   "metadata": {},
   "source": [
    "Vemos que la partícula se mueve a lo largo de la trayectoria $x_{2} = 2x_{1}$ desde la posición $(1,2)$ hacia el origen. "
   ]
  },
  {
   "cell_type": "markdown",
   "metadata": {},
   "source": [
    "#### Análisis de la solución para $c_{1} = c_{2} = 1$"
   ]
  },
  {
   "cell_type": "markdown",
   "metadata": {},
   "source": [
    "$$x = \\begin{pmatrix}x_{1} \\\\ x_{2} \\end{pmatrix}= \\begin{pmatrix} 3 \\\\ 4 \\end{pmatrix} + \\begin{pmatrix} 1 \\\\ 2 \\end{pmatrix} e^{-2t}   $$"
   ]
  },
  {
   "cell_type": "markdown",
   "metadata": {},
   "source": [
    "De donde se infiere que la trayectoria de la partícula tendrá una dirección dada por el vector $(1,2)$ pero será la de la recta $x_{2} = 2x_{1}$ desplazada por el vector $(3,4)$. "
   ]
  },
  {
   "cell_type": "markdown",
   "metadata": {},
   "source": [
    "\\begin{align*}\n",
    "x_{1} & = 3 + e^{-2t} \\\\\n",
    "x_{2} & = 4 + 2e^{-2t}\n",
    "\\end{align*}"
   ]
  },
  {
   "cell_type": "markdown",
   "metadata": {},
   "source": [
    "\\begin{align*}\n",
    "x_{1} - 3 & = e^{-2t} \\\\\n",
    "x_{2} - 4 & = 2e^{-2t}\n",
    "\\end{align*}"
   ]
  },
  {
   "cell_type": "markdown",
   "metadata": {},
   "source": [
    "$$ \\frac{x_{1}- 3}{x_{2} - 4} = \\frac{1}{2} $$"
   ]
  },
  {
   "cell_type": "markdown",
   "metadata": {},
   "source": [
    "$$ 2(x_{1} - 3) = x_{2} - 4 $$"
   ]
  },
  {
   "cell_type": "markdown",
   "metadata": {},
   "source": [
    "$$ x_{2} = 2x_{1} - 2 $$"
   ]
  },
  {
   "cell_type": "markdown",
   "metadata": {},
   "source": [
    "Por lo tanto, la partícula se moverá a través de una recta de pendiente 2 que intersecta al eje $x_{2}$ en -2. "
   ]
  },
  {
   "cell_type": "code",
   "execution_count": null,
   "metadata": {},
   "outputs": [],
   "source": []
  },
  {
   "cell_type": "markdown",
   "metadata": {},
   "source": [
    "## Animación de la solución general en el plano $x_{1}x_{2}$"
   ]
  },
  {
   "cell_type": "code",
   "execution_count": 87,
   "metadata": {},
   "outputs": [
    {
     "data": {
      "application/vnd.jupyter.widget-view+json": {
       "model_id": "7edc698d860a47439d67c5b25e84e1be",
       "version_major": 2,
       "version_minor": 0
      },
      "text/plain": [
       "interactive(children=(IntSlider(value=1, description='c1', max=2, min=-2), IntSlider(value=1, description='c2'…"
      ]
     },
     "metadata": {},
     "output_type": "display_data"
    }
   ],
   "source": [
    "import numpy as np \n",
    "import matplotlib.pyplot as plt \n",
    "from ipywidgets import interact \n",
    "%matplotlib inline \n",
    "#%matplotlib notebook\n",
    "plt.style.use('dark_background') \n",
    "\n",
    "A = np.array([[4,-3],[8,-6]])\n",
    "r = np.linalg.eigvals(A) \n",
    "xi = np.array([[3,1],[4,2]])\n",
    "r1,r2 = r \n",
    "xi1,xi2 = xi[:,0],xi[:,1]  \n",
    "\n",
    "x_min,x_max = -8,8    # dominio en x\n",
    "y_min,y_max = -15,15      # dominio en y\n",
    "\n",
    "\n",
    "\n",
    "def animacion(c1 = 1, c2 = 1, t = 0):\n",
    "    fig = plt.figure(figsize=(6,6))\n",
    "    ax1 = fig.add_subplot(2,2,1)\n",
    "    ax1.set_xlim(x_min,x_max) \n",
    "    ax1.set_ylim(y_min,y_max)  \n",
    "    ax1.grid(alpha = 0.3) \n",
    "    # funciones coordenadas \n",
    "    x1 = c1*xi1[0]*np.exp(r1*t) + c2*xi2[0]*np.exp(r2*t)\n",
    "    x2 = c1*xi1[1]*np.exp(r1*t) + 2*c2*xi2[1]*np.exp(r2*t)\n",
    "    ax1.scatter(x1,x2, c = 'red', linewidth = 3)  \n",
    "    tl = np.arange(-5,5,0.1)\n",
    "    x1l = c1*xi1[0]*np.exp(r1*tl) + c2*xi2[0]*np.exp(r2*tl)\n",
    "    x2l = c1*xi1[1]*np.exp(r1*tl) + 2*c2*xi2[1]*np.exp(r2*tl)\n",
    "    ax1.set_title('Plano x1x2')\n",
    "    ax1.plot(x1l,x2l) \n",
    "    \n",
    "    ax2 = fig.add_subplot(2,2,2)\n",
    "    ax2.set_xlim(0,4) \n",
    "    ax2.set_ylim(y_min,y_max)  \n",
    "    ax2.grid(alpha = 0.3) \n",
    "    ax2.scatter(t,x1, c = 'red', linewidth = 3) \n",
    "    ax2.plot(tl,x1l) \n",
    "    ax2.set_title('Plano t-x1')\n",
    "    \n",
    "    ax3 = fig.add_subplot(2,2,3)\n",
    "    ax3.set_xlim(0,4) \n",
    "    ax3.set_ylim(y_min,y_max)  \n",
    "    ax3.grid(alpha = 0.3) \n",
    "    ax3.scatter(t,x2, c = 'red', linewidth = 3) \n",
    "    ax3.plot(tl,x2l) \n",
    "    ax3.set_title('Plano t-x2')\n",
    "    \n",
    "interact(animacion,c1 = (-2,2), c2 = (-2,2), t = (0,3,0.1))     \n",
    "    \n",
    "plt.show()\n"
   ]
  },
  {
   "cell_type": "markdown",
   "metadata": {},
   "source": [
    "Cuando $t$ tiende a infinito $x$ tiende a la posición $c_{1}\\begin{pmatrix} 3 \\\\ 4 \\end{pmatrix}$ a través de una recta paralela al vector $\\begin{pmatrix} 1 \\\\ 2 \\end{pmatrix}$, es decir, a través de una recta de pendiente $2$. "
   ]
  },
  {
   "cell_type": "markdown",
   "metadata": {},
   "source": [
    "## Trazo de algunas trayectorias "
   ]
  },
  {
   "cell_type": "code",
   "execution_count": 88,
   "metadata": {},
   "outputs": [
    {
     "data": {
      "image/png": "[encoded data removed]",
      "text/plain": [
       "<Figure size 432x432 with 3 Axes>"
      ]
     },
     "metadata": {},
     "output_type": "display_data"
    }
   ],
   "source": [
    "import numpy as np \n",
    "import matplotlib.pyplot as plt \n",
    "\n",
    "%matplotlib inline \n",
    "#%matplotlib notebook\n",
    "plt.style.use('dark_background') \n",
    "\n",
    "A = np.array([[4,-3],[8,-6]])\n",
    "r = np.linalg.eigvals(A) \n",
    "xi = np.array([[3,1],[4,2]])\n",
    "r1,r2 = r \n",
    "xi1,xi2 = xi[:,0],xi[:,1]  \n",
    "\n",
    "x_min,x_max = -8,8    # dominio en x\n",
    "y_min,y_max = -15,15      # dominio en y\n",
    "\n",
    "\n",
    "\n",
    "fig = plt.figure(figsize=(6,6))\n",
    "ax1 = fig.add_subplot(2,2,1)\n",
    "ax1.set_xlim(x_min,x_max) \n",
    "ax1.set_ylim(y_min,y_max)\n",
    "ax1.set_title('Plano x1x2')\n",
    "ax1.grid(alpha = 0.3) \n",
    "\n",
    "ax2 = fig.add_subplot(2,2,2)\n",
    "ax2.set_xlim(0,4) \n",
    "ax2.set_ylim(y_min,y_max)  \n",
    "ax2.set_title('Plano t-x1')\n",
    "ax2.grid(alpha = 0.3) \n",
    "\n",
    "ax3 = fig.add_subplot(2,2,3)\n",
    "ax3.set_xlim(0,4) \n",
    "ax3.set_ylim(y_min,y_max)  \n",
    "ax3.set_title('Plano t-x2')\n",
    "ax3.grid(alpha = 0.3) \n",
    "\n",
    "for c1 in [-1,1]:\n",
    "    for c2 in [-1,1]: \n",
    "        x1 = c1*xi1[0]*np.exp(r1*t) + c2*xi2[0]*np.exp(r2*t)\n",
    "        x2 = c1*xi1[1]*np.exp(r1*t) + 2*c2*xi2[1]*np.exp(r2*t)\n",
    "        \n",
    "        ax1.plot(x1,x2, linewidth = 3)  \n",
    "       \n",
    "        ax2.plot(t,x1) \n",
    "    \n",
    "        ax3.plot(t,x2) \n",
    "    \n",
    "plt.savefig('segmento_trayectoria.jpg')    \n",
    "plt.show()\n"
   ]
  },
  {
   "cell_type": "code",
   "execution_count": null,
   "metadata": {},
   "outputs": [],
   "source": []
  },
  {
   "cell_type": "code",
   "execution_count": null,
   "metadata": {},
   "outputs": [],
   "source": []
  },
  {
   "cell_type": "code",
   "execution_count": null,
   "metadata": {},
   "outputs": [],
   "source": []
  },
  {
   "cell_type": "code",
   "execution_count": null,
   "metadata": {},
   "outputs": [],
   "source": []
  }
 ],
 "metadata": {
  "hide_input": false,
  "kernelspec": {
   "display_name": "Python 3",
   "language": "python",
   "name": "python3"
  },
  "language_info": {
   "codemirror_mode": {
    "name": "ipython",
    "version": 3
   },
   "file_extension": ".py",
   "mimetype": "text/x-python",
   "name": "python",
   "nbconvert_exporter": "python",
   "pygments_lexer": "ipython3",
   "version": "3.7.4"
  },
  "nbTranslate": {
   "displayLangs": [
    "*"
   ],
   "hotkey": "alt-t",
   "langInMainMenu": true,
   "sourceLang": "en",
   "targetLang": "fr",
   "useGoogleTranslate": true
  }
 },
 "nbformat": 4,
 "nbformat_minor": 2
}
