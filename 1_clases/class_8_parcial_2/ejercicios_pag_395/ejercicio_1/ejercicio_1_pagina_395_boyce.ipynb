{
 "cells": [
  {
   "cell_type": "markdown",
   "metadata": {
    "slideshow": {
     "slide_type": "slide"
    }
   },
   "source": [
    "# Ejercicio 1 Página 395 del Boyce "
   ]
  },
  {
   "cell_type": "markdown",
   "metadata": {
    "slideshow": {
     "slide_type": "slide"
    }
   },
   "source": [
    "1. Encuentre la solución general del sistema de ecuaciones:\n",
    "\n",
    "$$ x' = \\begin{pmatrix}3 & -2 \\\\ 2 & -2 \\end{pmatrix}x $$\n",
    "\n",
    "2. Trace unas cuantas de las trayectorias \n",
    "\n",
    "3. Describa el comportamiento de la solución cuando $t \\to \\infty$. \n"
   ]
  },
  {
   "cell_type": "markdown",
   "metadata": {
    "slideshow": {
     "slide_type": "slide"
    }
   },
   "source": [
    "## Solución analítica"
   ]
  },
  {
   "cell_type": "markdown",
   "metadata": {
    "slideshow": {
     "slide_type": "slide"
    }
   },
   "source": [
    "El procedimiento de solución de este tipo de sistemas está fundamentado en suponen que su solución tiene la forma \n",
    "\n",
    "$$ x = \\xi e^{rt} $$\n",
    "\n",
    "donde $\\xi$ es un vector  y $r$ es en general un número complejo. \n"
   ]
  },
  {
   "cell_type": "markdown",
   "metadata": {
    "slideshow": {
     "slide_type": "slide"
    }
   },
   "source": [
    "Pero esta suposición no nos dice en principio cómo encontrar a $\\xi$ y a $r$. Pero si sustituimos esta solución en la ecuación $x' = Ax$ seguramente podemos encontrar el camino para determinar a $\\xi$ y $r$. "
   ]
  },
  {
   "cell_type": "code",
   "execution_count": null,
   "metadata": {
    "slideshow": {
     "slide_type": "slide"
    }
   },
   "outputs": [],
   "source": []
  },
  {
   "cell_type": "markdown",
   "metadata": {
    "slideshow": {
     "slide_type": "slide"
    }
   },
   "source": [
    "Determinemos los valores y vectores propios de la matriz de coeficientes \n",
    "\n",
    "$$ A = \\begin{pmatrix}3 & -2 \\\\ 2 & -2 \\end{pmatrix} $$\n"
   ]
  },
  {
   "cell_type": "markdown",
   "metadata": {
    "slideshow": {
     "slide_type": "slide"
    }
   },
   "source": [
    "Para ello solucionesmos la ecuación:\n",
    "$$ det(A - rI) = 0 $$\n",
    "    "
   ]
  },
  {
   "cell_type": "markdown",
   "metadata": {
    "slideshow": {
     "slide_type": "slide"
    }
   },
   "source": [
    "$$A - rI = \\begin{pmatrix} 3 - r & -2 \\\\ 2 & -2 - r \\end{pmatrix} $$"
   ]
  },
  {
   "cell_type": "markdown",
   "metadata": {
    "slideshow": {
     "slide_type": "slide"
    }
   },
   "source": [
    "$$ (3-r)(-2-r) - (-4) = 0 $$"
   ]
  },
  {
   "cell_type": "markdown",
   "metadata": {},
   "source": [
    "$$ -6 + r^{2} - r + 4 = 0 $$"
   ]
  },
  {
   "cell_type": "markdown",
   "metadata": {
    "slideshow": {
     "slide_type": "slide"
    }
   },
   "source": [
    "$$ r^{2} - r - 2 = 0 $$"
   ]
  },
  {
   "cell_type": "markdown",
   "metadata": {
    "slideshow": {
     "slide_type": "slide"
    }
   },
   "source": [
    "$$ (r - 2)(r + 1) = 0 $$"
   ]
  },
  {
   "cell_type": "markdown",
   "metadata": {
    "slideshow": {
     "slide_type": "slide"
    }
   },
   "source": [
    "$$ r_{1} = 2 \\quad \\vee \\quad r_{2} = -1 $$"
   ]
  },
  {
   "cell_type": "code",
   "execution_count": 11,
   "metadata": {
    "slideshow": {
     "slide_type": "slide"
    }
   },
   "outputs": [
    {
     "data": {
      "text/plain": [
       "array([[ 3, -2],\n",
       "       [ 2, -2]])"
      ]
     },
     "execution_count": 11,
     "metadata": {},
     "output_type": "execute_result"
    }
   ],
   "source": [
    "import numpy as np \n",
    "A = np.array([[3,-2],[2,-2]])\n",
    "A "
   ]
  },
  {
   "cell_type": "code",
   "execution_count": 12,
   "metadata": {
    "slideshow": {
     "slide_type": "slide"
    }
   },
   "outputs": [
    {
     "data": {
      "text/plain": [
       "array([ 2., -1.])"
      ]
     },
     "execution_count": 12,
     "metadata": {},
     "output_type": "execute_result"
    }
   ],
   "source": [
    "np.linalg.eigvals(A)  "
   ]
  },
  {
   "cell_type": "markdown",
   "metadata": {
    "slideshow": {
     "slide_type": "slide"
    }
   },
   "source": [
    "## Determinemos eigenvectores correspondientes a los eigenvalores a que acabamos de hallar"
   ]
  },
  {
   "cell_type": "markdown",
   "metadata": {
    "slideshow": {
     "slide_type": "slide"
    }
   },
   "source": [
    "Resolvamos el sistema lineal homogéneo:\n",
    "\n",
    "$$ (A-2I)\\xi = 0 $$\n",
    "\n",
    "que es equivalente al sistema:\n",
    "\n",
    "$$ \\begin{pmatrix} 3 - 2 & -2 \\\\ 2 & -2 - 2 \\end{pmatrix}\\begin{pmatrix} \\xi_{1} \\\\ \\xi_{2} \\end{pmatrix} = \\begin{pmatrix} 0 \\\\ 0 \\end{pmatrix} $$\n"
   ]
  },
  {
   "cell_type": "markdown",
   "metadata": {
    "slideshow": {
     "slide_type": "slide"
    }
   },
   "source": [
    "$$ \\begin{pmatrix} 1 & -2 \\\\ 2 & -4 \\end{pmatrix}\\begin{pmatrix} \\xi_{1} \\\\ \\xi_{2} \\end{pmatrix} = \\begin{pmatrix} 0 \\\\ 0 \\end{pmatrix} $$\n"
   ]
  },
  {
   "cell_type": "markdown",
   "metadata": {
    "slideshow": {
     "slide_type": "slide"
    }
   },
   "source": [
    "Note que las dos equaciones lineales que componen este sistema son equivalentes, por lo tanto, la solución del sistema es la misma solución de la primera ecuación; así, la solución del sistema la podemos deducir de la ecuación lineal:\n",
    "\n",
    "$$ \\xi_{1} - 2\\xi_{2} = 0  \\quad \\quad \\iff \\quad \\quad \\xi_{1} = 2 \\xi_{2} $$\n"
   ]
  },
  {
   "cell_type": "markdown",
   "metadata": {
    "slideshow": {
     "slide_type": "slide"
    }
   },
   "source": [
    "Por lo tanto, podemos tomar como un eigenvector asociado a $r_{1} = 2$ al vector: \n",
    "\n",
    "$$ \\xi^{(1)} = \\begin{pmatrix} 2 \\\\ 1 \\end{pmatrix} $$\n"
   ]
  },
  {
   "cell_type": "markdown",
   "metadata": {
    "slideshow": {
     "slide_type": "slide"
    }
   },
   "source": [
    "Entonces la primera función solución que hemos encontrado es:\n",
    "\n",
    "$$x^{(1)} = \\xi^{(1)}e^{r_{1}t} = \\begin{pmatrix} 2 \\\\ 1\\end{pmatrix}e^{2t}$$\n"
   ]
  },
  {
   "cell_type": "markdown",
   "metadata": {
    "slideshow": {
     "slide_type": "slide"
    }
   },
   "source": [
    "Determinemos ahora a $\\xi^{(2)}$"
   ]
  },
  {
   "cell_type": "markdown",
   "metadata": {
    "slideshow": {
     "slide_type": "slide"
    }
   },
   "source": [
    "Para ello resolvamos el sistema lineal homogéneo:\n",
    "\n",
    "$$ \\begin{pmatrix} 3 - (-1) & -2 \\\\ 2 & -2 - (-1) \\end{pmatrix}\\begin{pmatrix} \\xi_{1} \\\\ \\xi_{2} \\end{pmatrix} = \\begin{pmatrix} 0 \\\\ 0 \\end{pmatrix} $$\n"
   ]
  },
  {
   "cell_type": "markdown",
   "metadata": {
    "slideshow": {
     "slide_type": "slide"
    }
   },
   "source": [
    "$$ \\begin{pmatrix} 4 & -2 \\\\ 2 & -1 \\end{pmatrix}\\begin{pmatrix} \\xi_{1} \\\\ \\xi_{2} \\end{pmatrix} = \\begin{pmatrix} 0 \\\\ 0 \\end{pmatrix} $$"
   ]
  },
  {
   "cell_type": "markdown",
   "metadata": {
    "slideshow": {
     "slide_type": "slide"
    }
   },
   "source": [
    "$$ 2\\xi_{1} - \\xi_{2} = 0 $$"
   ]
  },
  {
   "cell_type": "markdown",
   "metadata": {
    "slideshow": {
     "slide_type": "slide"
    }
   },
   "source": [
    "$$ 2\\xi_{1} = \\xi_{2} $$"
   ]
  },
  {
   "cell_type": "markdown",
   "metadata": {
    "slideshow": {
     "slide_type": "slide"
    }
   },
   "source": [
    "$$ \\xi^{(2)} = \\begin{pmatrix} 1 \\\\ 2 \\end{pmatrix} $$"
   ]
  },
  {
   "cell_type": "markdown",
   "metadata": {
    "slideshow": {
     "slide_type": "slide"
    }
   },
   "source": [
    "$$ x^{(2)} = \\xi^{(2)}e^{r_{2}t} = \\begin{pmatrix} 1 \\\\ 2 \\end{pmatrix} e^{-t} $$"
   ]
  },
  {
   "cell_type": "markdown",
   "metadata": {
    "slideshow": {
     "slide_type": "slide"
    }
   },
   "source": [
    "### Vector $\\xi^{(2)}$ normalizado\n",
    "\n",
    "$$ u_{\\xi 2} = \\frac{1}{\\sqrt{5}} \\begin{pmatrix} 1 \\\\ 2 \\end{pmatrix}  $$\n"
   ]
  },
  {
   "cell_type": "code",
   "execution_count": null,
   "metadata": {
    "slideshow": {
     "slide_type": "slide"
    }
   },
   "outputs": [],
   "source": [
    "2/np.sqrt(5)"
   ]
  },
  {
   "cell_type": "code",
   "execution_count": 13,
   "metadata": {
    "slideshow": {
     "slide_type": "slide"
    }
   },
   "outputs": [
    {
     "data": {
      "text/plain": [
       "array([0.4472136 , 0.89442719])"
      ]
     },
     "execution_count": 13,
     "metadata": {},
     "output_type": "execute_result"
    }
   ],
   "source": [
    "import numpy as np \n",
    "xi2=np.array([1,2])\n",
    "nor_xi2 = np.linalg.norm(xi2) \n",
    "xi2 = (1/nor_xi2)*xi2 \n",
    "xi2 "
   ]
  },
  {
   "cell_type": "markdown",
   "metadata": {
    "slideshow": {
     "slide_type": "slide"
    }
   },
   "source": [
    "## Planteamiento de la solución general"
   ]
  },
  {
   "cell_type": "markdown",
   "metadata": {
    "slideshow": {
     "slide_type": "slide"
    }
   },
   "source": [
    "$$ x = c_{1}x^{(1)} + c_{2}x^{(2)} = c_{1}\\xi^{(1)}e^{r_{1}t} + c_{2}\\xi^{(2)}e^{r_{2}t} = c_{1} \\begin{pmatrix} 2 \\\\ 1 \\end{pmatrix} e^{2t} + c_{2}\\begin{pmatrix} 1 \\\\ 2 \\end{pmatrix} e^{-t} $$"
   ]
  },
  {
   "cell_type": "markdown",
   "metadata": {
    "slideshow": {
     "slide_type": "slide"
    }
   },
   "source": [
    "$$ x = c_{1}\\begin{pmatrix} 2 \\\\ 1 \\end{pmatrix}e^{2t} + c_{2}\\begin{pmatrix} 1 \\\\ 2 \\end{pmatrix}e^{-t}   $$"
   ]
  },
  {
   "cell_type": "markdown",
   "metadata": {
    "slideshow": {
     "slide_type": "slide"
    }
   },
   "source": [
    "Conclusiones sobre la tendencia de la solución:\n",
    "\n",
    "1. Si $c_{1}$ es positivo, entonces $x$ tiende a ser un vector del plano de componentes \n",
    "   arbitrariamente grandes cuando $t$ tiende a infinito. \n",
    "1. Si $c_{1}$ es negativo, entonces $x$ tiende a ser un vector del plano de componentes \n",
    "   arbitrariamente grandes pero negativas cuando $t$ tiende a infinito. \n"
   ]
  },
  {
   "cell_type": "markdown",
   "metadata": {
    "slideshow": {
     "slide_type": "slide"
    }
   },
   "source": [
    "## Verificación con numpy.linalg "
   ]
  },
  {
   "cell_type": "code",
   "execution_count": 14,
   "metadata": {
    "slideshow": {
     "slide_type": "slide"
    }
   },
   "outputs": [],
   "source": [
    "import numpy as np \n"
   ]
  },
  {
   "cell_type": "code",
   "execution_count": 15,
   "metadata": {
    "slideshow": {
     "slide_type": "slide"
    }
   },
   "outputs": [],
   "source": [
    "A = np.array([[3,-2],[2,-2]]) "
   ]
  },
  {
   "cell_type": "code",
   "execution_count": 16,
   "metadata": {
    "slideshow": {
     "slide_type": "slide"
    }
   },
   "outputs": [
    {
     "data": {
      "text/plain": [
       "(array([ 2., -1.]), array([[0.89442719, 0.4472136 ],\n",
       "        [0.4472136 , 0.89442719]]))"
      ]
     },
     "execution_count": 16,
     "metadata": {},
     "output_type": "execute_result"
    }
   ],
   "source": [
    "np.linalg.eig(A)  "
   ]
  },
  {
   "cell_type": "markdown",
   "metadata": {
    "slideshow": {
     "slide_type": "slide"
    }
   },
   "source": [
    "## Graficación de la solución"
   ]
  },
  {
   "cell_type": "markdown",
   "metadata": {
    "slideshow": {
     "slide_type": "slide"
    }
   },
   "source": [
    "Nuestra solución general es \n",
    "\n",
    "$$ x = c_{1}x^{(1)} + c_{2}x^{(2)} $$\n"
   ]
  },
  {
   "cell_type": "markdown",
   "metadata": {
    "slideshow": {
     "slide_type": "slide"
    }
   },
   "source": [
    "Empecemos graficando $x$ para $c_{2}$ igual a cero. Es decir, grafiquemos \n",
    "\n",
    "$$x = c_{1}x^{(1)}(t) = c_{1}\\begin{pmatrix} 2 \\\\ 1 \\end{pmatrix} e^{2t} $$\n"
   ]
  },
  {
   "cell_type": "markdown",
   "metadata": {
    "slideshow": {
     "slide_type": "slide"
    }
   },
   "source": [
    "En forma escalar, esta solución la podemos presentar como:\n",
    "\n",
    "\\begin{align*}\n",
    "x_{1} & = c_{1}x_{1}^{(1)} = c_{1}2e^{2t} \\\\\n",
    "x_{2} & = c_{1}x_{2}^{(1)} = c_{1}e^{2t}\n",
    "\\end{align*}\n"
   ]
  },
  {
   "cell_type": "markdown",
   "metadata": {
    "slideshow": {
     "slide_type": "slide"
    }
   },
   "source": [
    "Dividiendo estas ecuaciones lado a lado obtenemos la ecuacionesción\n",
    "\n",
    "$$\\frac{x_{1}}{x_{2}} = 2 \\quad \\iff \\quad x_{2} = \\frac{1}{2}x_{1} $$\n"
   ]
  },
  {
   "cell_type": "markdown",
   "metadata": {
    "slideshow": {
     "slide_type": "slide"
    }
   },
   "source": [
    "Lo que quiere decir que la solución se encuentra sobre la recta $x_{2} = \\frac{1}{2}x_{1} $.  \n",
    "Esta es una recta que pasa por el origen en la dirección del eigenvector \n",
    "\n",
    "$$\\xi^{(1)} = \\begin{pmatrix}2\\\\ 1 \\end{pmatrix} $$\n"
   ]
  },
  {
   "cell_type": "markdown",
   "metadata": {
    "slideshow": {
     "slide_type": "slide"
    }
   },
   "source": [
    "Si la solución se considera como la trayectoria de una partícula en movimiento, entonces ésta se encuentra en el primer cuadrante cuendo $c_{1} > 0$ y en el tercero cuando $c_{1} < 0$.  \n",
    "En cualquier caso la partícula se aleja del orien a medida que $t$ crece. "
   ]
  },
  {
   "cell_type": "markdown",
   "metadata": {},
   "source": [
    "### Grafiquemos las soluciones del tipo\n",
    "\n",
    "$$x = c_{2}\\xi^{(2)}e^{r_{2}t}$$\n"
   ]
  },
  {
   "cell_type": "markdown",
   "metadata": {
    "slideshow": {
     "slide_type": "slide"
    }
   },
   "source": [
    "$$ x = \\begin{pmatrix}x_{1} \\\\ x_{2} \\end{pmatrix} = c_{2} \\begin{pmatrix} 1 \\\\ 2 \\end{pmatrix}e^{-t} $$"
   ]
  },
  {
   "cell_type": "markdown",
   "metadata": {
    "slideshow": {
     "slide_type": "slide"
    }
   },
   "source": [
    "\\begin{align*}\n",
    "x_{1}(t) & = c_{2}e^{-t} \\\\\n",
    "x_{2}(t) & = 2c_{2}e^{-t}\n",
    "\\end{align*}"
   ]
  },
  {
   "cell_type": "markdown",
   "metadata": {},
   "source": [
    "$$\\frac{x_{1}}{x_{2}} = \\frac{1}{2}$$"
   ]
  },
  {
   "cell_type": "markdown",
   "metadata": {},
   "source": [
    "$$x_{2} = 2x_{1} $$"
   ]
  },
  {
   "cell_type": "code",
   "execution_count": 17,
   "metadata": {
    "scrolled": true,
    "slideshow": {
     "slide_type": "slide"
    }
   },
   "outputs": [
    {
     "data": {
      "text/plain": [
       "(-3.0, 3.0)"
      ]
     },
     "execution_count": 17,
     "metadata": {},
     "output_type": "execute_result"
    },
    {
     "data": {
      "image/png": "[encoded data removed]",
      "text/plain": [
       "<Figure size 1152x576 with 3 Axes>"
      ]
     },
     "metadata": {},
     "output_type": "display_data"
    }
   ],
   "source": [
    "import numpy as np \n",
    "import matplotlib.pyplot as plt \n",
    "%matplotlib inline \n",
    "plt.style.use('dark_background') \n",
    "\n",
    "fig = plt.figure(figsize = (16,8))   \n",
    "\n",
    "ax1 = fig.add_subplot(2,2,1)\n",
    "ax1.set_title('Plano x1x2 para c2 igual a cero') \n",
    "x11 = np.arange(-3,4,6)\n",
    "x12 = (1/2)*x11\n",
    "ax1.plot(x11,x12, c = 'yellow')\n",
    "ax1.grid(alpha = 0.3) \n",
    "ax1.set_xlim(-3,3)\n",
    "ax1.set_ylim(-3,3)\n",
    "\n",
    "\n",
    "\n",
    "ax2 = fig.add_subplot(2,2,2)\n",
    "ax2.set_title('Plano x1x2 para c1 igual a cero') \n",
    "x21 = np.arange(-3,4,6)\n",
    "x22 = 2*x21\n",
    "ax2.plot(x21,x22, c = 'cyan')\n",
    "ax2.grid(alpha = 0.3) \n",
    "ax2.set_xlim(-3,3)\n",
    "ax2.set_ylim(-3,3)\n",
    "\n",
    "\n",
    "ax3 = fig.add_subplot(2,2,3)\n",
    "ax3.set_title('Plano x1x2 para c1 o c2 igual a cero')  \n",
    "ax3.grid(alpha = 0.3) \n",
    "ax3.plot(x11,x12, c = 'yellow')\n",
    "ax3.plot(x21,x22, c = 'cyan')\n",
    "ax3.set_xlim(-3,3)\n",
    "ax3.set_ylim(-3,3)\n",
    "\n"
   ]
  },
  {
   "cell_type": "markdown",
   "metadata": {
    "slideshow": {
     "slide_type": "slide"
    }
   },
   "source": [
    "## Graficación de la partícula en movimiento en el plano $x_{1}x_{2}$"
   ]
  },
  {
   "cell_type": "markdown",
   "metadata": {
    "slideshow": {
     "slide_type": "slide"
    }
   },
   "source": [
    "Vamos a graficar la solución general utilizando las soluciones coordenadas:\n",
    "\n",
    "$$ x = c_{1}x^{(1)} + c_{2}x^{(2)} = c_{1}\\xi^{(1)}e^{r_{1}t} + c_{2}\\xi^{(2)}e^{r_{2}t} = c_{1} \\begin{pmatrix} 2 \\\\ 1 \\end{pmatrix} e^{2t} + c_{2}\\begin{pmatrix} 1 \\\\ 2 \\end{pmatrix} e^{-t} $$"
   ]
  },
  {
   "cell_type": "markdown",
   "metadata": {
    "slideshow": {
     "slide_type": "slide"
    }
   },
   "source": [
    "\\begin{align*}\n",
    "x_{1}(t) & = 2c_{1}e^{2t} + c_{2}e^{-t} \\\\\n",
    "x_{2}(t) & = c_{1}e^{2t} + 2c_{2}e^{-t}\n",
    "\\end{align*}"
   ]
  },
  {
   "cell_type": "code",
   "execution_count": 22,
   "metadata": {
    "slideshow": {
     "slide_type": "slide"
    }
   },
   "outputs": [
    {
     "data": {
      "application/vnd.jupyter.widget-view+json": {
       "model_id": "be8f32b5f7b34890833c75a8d17e76bd",
       "version_major": 2,
       "version_minor": 0
      },
      "text/plain": [
       "interactive(children=(IntSlider(value=0, description='c1', max=3, min=-3), IntSlider(value=0, description='c2'…"
      ]
     },
     "metadata": {},
     "output_type": "display_data"
    }
   ],
   "source": [
    "from ipywidgets import interact \n",
    "import numpy as np\n",
    "import matplotlib.pyplot as plt \n",
    "plt.style.use('dark_background')\n",
    "\n",
    "def plot_animada(c1 = 0, c2 = 0,t = -1):\n",
    "    fig = plt.figure(figsize=(22,11))\n",
    "    \n",
    "    x1 = 2*c1*np.exp(2*t) + c2*np.exp(-t)\n",
    "    x2 = c1*np.exp(2*t) + 2*c2*np.exp(-t)\n",
    "    \n",
    "    ax1 = fig.add_subplot(2,2,1)\n",
    "    ax1.plot([-8,8],[-4,4], c = 'yellow')\n",
    "    ax1.plot([-4,4],[-8,8], c = 'cyan')\n",
    "    ax1.scatter(x1,x2, linewidth = 7)\n",
    "    ax1.set_xlim(-8,8)\n",
    "    ax1.set_ylim(-8,8)\n",
    "    ax1.grid(alpha = 0.3)  \n",
    "    ax1.set_title('Solución en el plano x1x2')\n",
    "    \n",
    "    ax2 = fig.add_subplot(2,2,2)\n",
    "    ax2.set_title('Solución en el plano t - x1')\n",
    "    ax2.scatter(t,x1, linewidth = 7)\n",
    "    ax2.set_xlim(-1,1)\n",
    "    ax2.set_ylim(-0.5,5)\n",
    "    ax2.grid(alpha = 0.3)  \n",
    "    ax2.plot([-1,1],[0,0], c = 'white') # eje horizontal\n",
    "    \n",
    "    ax3 = fig.add_subplot(2,2,3)\n",
    "    ax3.set_title('Solución en el plano t - x2')\n",
    "    ax3.scatter(t,x2, linewidth = 7)\n",
    "    ax3.set_xlim(-1,1)\n",
    "    ax3.set_ylim(-0.5,5)\n",
    "    ax3.grid(alpha = 0.3)  \n",
    "    ax3.plot([-1,1],[0,0], c = 'white') # eje horizontal \n",
    "    \n",
    "interact(plot_animada,c1=(-3,3),c2 = (-3,3), t = (-1,1,0.01))   \n",
    "\n",
    "plt.show() "
   ]
  },
  {
   "cell_type": "markdown",
   "metadata": {
    "slideshow": {
     "slide_type": "slide"
    }
   },
   "source": [
    "## Graficación de algunas curvas integrales"
   ]
  },
  {
   "cell_type": "code",
   "execution_count": 19,
   "metadata": {
    "slideshow": {
     "slide_type": "slide"
    }
   },
   "outputs": [
    {
     "data": {
      "image/png": "[encoded data removed]",
      "text/plain": [
       "<Figure size 1080x720 with 3 Axes>"
      ]
     },
     "metadata": {},
     "output_type": "display_data"
    }
   ],
   "source": [
    "import numpy as np \n",
    "import matplotlib.pyplot as plt \n",
    "plt.style.use('dark_background')\n",
    "C = np.arange(-1,2)\n",
    "t_min,t_max = -4,4\n",
    "t = np.linspace(t_min,t_max,200)\n",
    "\n",
    "fig = plt.figure(figsize=(15,10))\n",
    "\n",
    "ax1 = fig.add_subplot(2,2,1)\n",
    "ax1.set_title('plano x1x2')\n",
    "ax1.set_xlim(-8,8)\n",
    "ax1.set_ylim(-8,8)\n",
    "\n",
    "ax2 = fig.add_subplot(2,2,2)\n",
    "ax2.set_title('plano t-x1')\n",
    "ax2.set_xlim(t_min,t_max)\n",
    "ax2.set_ylim(-10,10)\n",
    "\n",
    "ax3 = fig.add_subplot(2,2,3)\n",
    "ax3.set_title('plano t-x2')\n",
    "ax3.set_xlim(t_min,t_max) \n",
    "ax3.set_ylim(-10,10)\n",
    "\n",
    "for c1 in C:\n",
    "    for c2 in C:\n",
    "        x1 = 2*c1*np.exp(2*t) + c2*np.exp(-t)\n",
    "        x2 = c1*np.exp(2*t) + 2*c2*np.exp(-t)\n",
    "        ax1.plot(x1,x2)\n",
    "        ax2.plot(t,x1)\n",
    "        ax3.plot(t,x2)\n",
    "\n",
    "plt.savefig('curvas_integrales.jpg')\n",
    "        \n",
    "plt.show() \n",
    "\n",
    "\n",
    "\n"
   ]
  },
  {
   "cell_type": "markdown",
   "metadata": {
    "slideshow": {
     "slide_type": "slide"
    }
   },
   "source": [
    "## Determinación de la tendencia de la solución cuando $t \\to \\infty$ "
   ]
  },
  {
   "cell_type": "markdown",
   "metadata": {
    "slideshow": {
     "slide_type": "slide"
    }
   },
   "source": [
    "1. Si $c_{1}$ y $c_{2}$ son positivas"
   ]
  },
  {
   "cell_type": "code",
   "execution_count": null,
   "metadata": {
    "slideshow": {
     "slide_type": "slide"
    }
   },
   "outputs": [],
   "source": []
  },
  {
   "cell_type": "code",
   "execution_count": null,
   "metadata": {
    "slideshow": {
     "slide_type": "slide"
    }
   },
   "outputs": [],
   "source": []
  },
  {
   "cell_type": "code",
   "execution_count": null,
   "metadata": {
    "slideshow": {
     "slide_type": "slide"
    }
   },
   "outputs": [],
   "source": []
  },
  {
   "cell_type": "code",
   "execution_count": null,
   "metadata": {},
   "outputs": [],
   "source": []
  },
  {
   "cell_type": "code",
   "execution_count": 26,
   "metadata": {
    "slideshow": {
     "slide_type": "slide"
    }
   },
   "outputs": [
    {
     "data": {
      "image/png": "[encoded data removed]",
      "text/plain": [
       "<Figure size 576x432 with 1 Axes>"
      ]
     },
     "metadata": {},
     "output_type": "display_data"
    }
   ],
   "source": [
    "from matplotlib.pyplot import cm\n",
    "import matplotlib.pyplot as plt\n",
    "import numpy as np\n",
    "\n",
    "x = np.arange(-3,3.5,0.5)\n",
    "y = x**2\n",
    "\n",
    "\n",
    "dx = x/4 \n",
    "dy = y/4 \n",
    "\n",
    "\n",
    "plot2 = plt.figure(figsize=(8,6)) \n",
    "plt.quiver(x,y, dx, dy, color = 'cyan', headlength=7)\n",
    "plt.plot(x,y, c = 'yellow') \n",
    "plt.grid() \n",
    "plt.title('Quiver Plot, Single Colour')\n",
    "plt.show(plot2)"
   ]
  },
  {
   "cell_type": "code",
   "execution_count": null,
   "metadata": {
    "slideshow": {
     "slide_type": "slide"
    }
   },
   "outputs": [],
   "source": []
  },
  {
   "cell_type": "code",
   "execution_count": null,
   "metadata": {},
   "outputs": [],
   "source": []
  }
 ],
 "metadata": {
  "celltoolbar": "Slideshow",
  "hide_input": false,
  "kernelspec": {
   "display_name": "Python 3",
   "language": "python",
   "name": "python3"
  },
  "language_info": {
   "codemirror_mode": {
    "name": "ipython",
    "version": 3
   },
   "file_extension": ".py",
   "mimetype": "text/x-python",
   "name": "python",
   "nbconvert_exporter": "python",
   "pygments_lexer": "ipython3",
   "version": "3.7.4"
  },
  "nbTranslate": {
   "displayLangs": [
    "*"
   ],
   "hotkey": "alt-t",
   "langInMainMenu": true,
   "sourceLang": "en",
   "targetLang": "es",
   "useGoogleTranslate": true
  },
  "rise": {
   "enable_chalkboard": true,
   "theme": "sky",
   "transition": "zoom"
  }
 },
 "nbformat": 4,
 "nbformat_minor": 2
}
