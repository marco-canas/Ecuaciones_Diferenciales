{
 "cells": [
  {
   "cell_type": "markdown",
   "metadata": {
    "slideshow": {
     "slide_type": "slide"
    }
   },
   "source": [
    "# Ejercicio 26 de la sección 7.5\n",
    "Página 397 del Boyce DiPrima "
   ]
  },
  {
   "cell_type": "markdown",
   "metadata": {
    "slideshow": {
     "slide_type": "slide"
    }
   },
   "source": [
    "Considere la ecuación \n",
    "\n",
    "$$ ay'' + by' + cy = 0 $$\n",
    "\n",
    "en donde $a, b$ y $c$ son constantes. \n"
   ]
  },
  {
   "cell_type": "markdown",
   "metadata": {
    "slideshow": {
     "slide_type": "slide"
    }
   },
   "source": [
    "En el capítulo 3 del Boyce DiPrima se demostró que la solución dependía de las raíces de la ecuación catacteríatica \n",
    "\n",
    "$$ ar^{2} + br + c = 0 $$\n"
   ]
  },
  {
   "cell_type": "markdown",
   "metadata": {
    "slideshow": {
     "slide_type": "slide"
    }
   },
   "source": [
    "a) Transforme la ecuación $ay'' + by' + cy = 0$ en un sistema de ecuaciones de primer orden al hacer $x_{1} = y$, y $x_{2} = y'$. Encuentre el sistema de ecuaciones $x' = Ax$ satisfecho por $\\begin{pmatrix}x_{1} \\\\ x_{2} \\end{pmatrix}$. "
   ]
  },
  {
   "cell_type": "markdown",
   "metadata": {
    "slideshow": {
     "slide_type": "slide"
    }
   },
   "source": [
    "b) Encuentre la ecuación que determina los eigenvalores de la matriz de coeficientes $A$ del inciso $a)$. \n",
    "Observe que esta ecuación es precisamente la ecuación característica $ar^{2} + br + c = 0$ de la ecuación $ay'' + by' + cy = 0$. "
   ]
  },
  {
   "cell_type": "markdown",
   "metadata": {
    "slideshow": {
     "slide_type": "slide"
    }
   },
   "source": [
    "## Solución:"
   ]
  },
  {
   "cell_type": "markdown",
   "metadata": {
    "slideshow": {
     "slide_type": "slide"
    }
   },
   "source": [
    "$$ ay'' + by' + cy = 0 \\quad \\quad \\Rightarrow \\quad \\quad  y'' = -\\frac{b}{a}y' - \\frac{c}{a}y $$"
   ]
  },
  {
   "cell_type": "markdown",
   "metadata": {
    "slideshow": {
     "slide_type": "slide"
    }
   },
   "source": [
    "$$ x = \\begin{pmatrix} x_{1} \\\\ x_{2} \\end{pmatrix} = \\begin{pmatrix} y \\\\ y' \\end{pmatrix} $$"
   ]
  },
  {
   "cell_type": "markdown",
   "metadata": {
    "slideshow": {
     "slide_type": "slide"
    }
   },
   "source": [
    "entonces \n",
    "\n",
    "$$ x' = \\begin{pmatrix} x_{1}' \\\\ x_{2}' \\end{pmatrix} = \\begin{pmatrix} y' \\\\ y'' \\end{pmatrix} = \\begin{pmatrix} y' \\\\ -\\frac{b}{a}y' - \\frac{c}{a}y \\end{pmatrix} $$\n"
   ]
  },
  {
   "cell_type": "markdown",
   "metadata": {
    "slideshow": {
     "slide_type": "slide"
    }
   },
   "source": [
    "$$x' = \\begin{pmatrix} x_{1}' \\\\ x_{2}' \\end{pmatrix} = \\begin{pmatrix} 0y + y' \\\\  - \\frac{c}{a}y -\\frac{b}{a}y' \\end{pmatrix} = \\begin{pmatrix} 0x_{1} + x_{2} \\\\  - \\frac{c}{a}x_{1} -\\frac{b}{a}x_{2} \\end{pmatrix} $$"
   ]
  },
  {
   "cell_type": "markdown",
   "metadata": {
    "slideshow": {
     "slide_type": "slide"
    }
   },
   "source": [
    "$$ x' = \\begin{pmatrix}0&1\\\\ -\\frac{c}{a}&-\\frac{b}{a}\\end{pmatrix} \\begin{pmatrix} x_{1} \\\\ x_{2}\\end{pmatrix} $$"
   ]
  },
  {
   "cell_type": "markdown",
   "metadata": {
    "slideshow": {
     "slide_type": "slide"
    }
   },
   "source": [
    "$$ x' = Ax $$"
   ]
  },
  {
   "cell_type": "markdown",
   "metadata": {
    "slideshow": {
     "slide_type": "slide"
    }
   },
   "source": [
    "Por tanto, la matriz de coeficientes $A$ es:\n",
    "\n",
    "$$ A = \\begin{pmatrix} 0 & 1 \\\\ -\\frac{c}{a} & -\\frac{b}{a}\\end{pmatrix} $$\n"
   ]
  },
  {
   "cell_type": "markdown",
   "metadata": {
    "slideshow": {
     "slide_type": "slide"
    }
   },
   "source": [
    "$$ A-rI = \\begin{pmatrix} 0 - r & 1 \\\\ -\\frac{c}{a} & -\\frac{b}{a} - r \\end{pmatrix} $$"
   ]
  },
  {
   "cell_type": "markdown",
   "metadata": {
    "slideshow": {
     "slide_type": "slide"
    }
   },
   "source": [
    "$$ det(A - rI) = 0 \\quad \\quad  \\iff \\quad \\quad -r\\left( -\\frac{b}{a} - r \\right) + \\frac{c}{a} = 0  $$"
   ]
  },
  {
   "cell_type": "markdown",
   "metadata": {
    "slideshow": {
     "slide_type": "slide"
    }
   },
   "source": [
    "$$ \\frac{b}{a}r + r^{2} + \\frac{c}{a} = 0 $$"
   ]
  },
  {
   "cell_type": "markdown",
   "metadata": {
    "slideshow": {
     "slide_type": "slide"
    }
   },
   "source": [
    "$$ ar^{2} + br + c = 0 $$"
   ]
  },
  {
   "cell_type": "markdown",
   "metadata": {
    "slideshow": {
     "slide_type": "slide"
    }
   },
   "source": [
    "Por lo tanto, la ecuación $det(A-rI) = 0$ es equivalente a la ecuación característica de ecuación diferencial de segundo orden."
   ]
  },
  {
   "cell_type": "code",
   "execution_count": null,
   "metadata": {
    "slideshow": {
     "slide_type": "slide"
    }
   },
   "outputs": [],
   "source": []
  }
 ],
 "metadata": {
  "celltoolbar": "Slideshow",
  "hide_input": false,
  "kernelspec": {
   "display_name": "Python 3",
   "language": "python",
   "name": "python3"
  },
  "language_info": {
   "codemirror_mode": {
    "name": "ipython",
    "version": 3
   },
   "file_extension": ".py",
   "mimetype": "text/x-python",
   "name": "python",
   "nbconvert_exporter": "python",
   "pygments_lexer": "ipython3",
   "version": "3.7.4"
  },
  "nbTranslate": {
   "displayLangs": [
    "*"
   ],
   "hotkey": "alt-t",
   "langInMainMenu": true,
   "sourceLang": "en",
   "targetLang": "es",
   "useGoogleTranslate": true
  },
  "rise": {
   "enable_chalkboard": true,
   "theme": "sky",
   "transition": "zoom"
  }
 },
 "nbformat": 4,
 "nbformat_minor": 2
}
