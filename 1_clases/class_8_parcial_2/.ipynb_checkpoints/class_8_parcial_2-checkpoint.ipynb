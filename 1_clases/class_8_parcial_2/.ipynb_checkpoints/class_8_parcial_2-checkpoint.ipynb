{
 "cells": [
  {
   "cell_type": "markdown",
   "metadata": {
    "slideshow": {
     "slide_type": "skip"
    }
   },
   "source": [
    "# Clase 8 parcial 2"
   ]
  },
  {
   "cell_type": "code",
   "execution_count": null,
   "metadata": {
    "slideshow": {
     "slide_type": "skip"
    }
   },
   "outputs": [],
   "source": []
  },
  {
   "cell_type": "markdown",
   "metadata": {
    "slideshow": {
     "slide_type": "slide"
    }
   },
   "source": [
    "# 7.5 Sistemas lineales homogéneos con coeficientes constantes "
   ]
  },
  {
   "cell_type": "markdown",
   "metadata": {
    "slideshow": {
     "slide_type": "slide"
    }
   },
   "source": [
    "* Demostrar cómo construir la solución general de un sistema de ecuaciones lineales homogéneas con coeficientes constantes; es decir, un sistema de la forma \n",
    "\n",
    "$$ x' = Ax $$\n",
    "\n",
    "donde $A$ es una matriz constante de $n \\times n$. "
   ]
  },
  {
   "cell_type": "markdown",
   "metadata": {
    "slideshow": {
     "slide_type": "slide"
    }
   },
   "source": [
    "Por analogía con el tratamiento de las ecuaciones lineales de segundo orden en la sección 3.1, se buscan soluciones de $x' = Ax$ de la forma \n",
    "\n",
    "$$ x = \\xi e^{rt}, $$\n",
    "\n",
    "en donde deben determinarse el número real $r$ y el vector constante $\\xi$. "
   ]
  },
  {
   "cell_type": "markdown",
   "metadata": {
    "slideshow": {
     "slide_type": "slide"
    }
   },
   "source": [
    "Si se sustituye $x = \\xi e^{rt}$  en $x' = Ax$ se obtiene \n",
    "\n",
    "$$ r\\xi e^{rt} = A\\xi e^{rt} $$\n"
   ]
  },
  {
   "cell_type": "markdown",
   "metadata": {
    "slideshow": {
     "slide_type": "slide"
    }
   },
   "source": [
    "Una vez que se cancela el factor escalar diferente de cero $e^{rt}$ se obtiene \n",
    "\n",
    "$$ A\\xi = r\\xi, $$"
   ]
  },
  {
   "cell_type": "markdown",
   "metadata": {
    "slideshow": {
     "slide_type": "slide"
    }
   },
   "source": [
    "$$A\\xi = rI\\xi, \\quad \\quad \\Rightarrow \\quad \\quad A\\xi - rI\\xi = 0 $$"
   ]
  },
  {
   "cell_type": "markdown",
   "metadata": {
    "slideshow": {
     "slide_type": "slide"
    }
   },
   "source": [
    "o bien, \n",
    "\n",
    "$$ (A - rI)\\xi = 0 $$\n",
    "\n",
    "en donde $I$ es la matriz identidad de $n \\times n$. "
   ]
  },
  {
   "cell_type": "markdown",
   "metadata": {
    "slideshow": {
     "slide_type": "slide"
    }
   },
   "source": [
    "para resolver el sistema de ecuaciones diferenciales $x' = Ax$, es necesario resolver el sistema de ecuaciones algebraicas \n",
    "\n",
    "$$ (A - rI)\\xi = 0 $$\n"
   ]
  },
  {
   "cell_type": "markdown",
   "metadata": {
    "slideshow": {
     "slide_type": "slide"
    }
   },
   "source": [
    "Este último problema es precisamente aquel en el que se determinan los eigenvalores y los eigenvectores de la matriz $A$. "
   ]
  },
  {
   "cell_type": "markdown",
   "metadata": {
    "slideshow": {
     "slide_type": "slide"
    }
   },
   "source": [
    "El vector $x$ dado por la ecuación $x = \\xi e^{rt}$ es la solución de $x' = Ax$ en el supuesto de que $r$ sea un eigenvalor y $\\xi$ un eigenvector asociados a la matriz de coeficientes $A$.  "
   ]
  },
  {
   "cell_type": "code",
   "execution_count": null,
   "metadata": {
    "slideshow": {
     "slide_type": "skip"
    }
   },
   "outputs": [],
   "source": []
  },
  {
   "cell_type": "markdown",
   "metadata": {
    "slideshow": {
     "slide_type": "slide"
    }
   },
   "source": [
    "## Ejemplo 1 \n",
    "Página 389 "
   ]
  },
  {
   "cell_type": "markdown",
   "metadata": {
    "slideshow": {
     "slide_type": "slide"
    }
   },
   "source": [
    "Encontrar la solución general del sistema \n",
    "\n",
    "$$ x' = \\begin{pmatrix} 1 & 1 \\\\ 4 & 1 \\end{pmatrix}x. $$\n"
   ]
  },
  {
   "cell_type": "markdown",
   "metadata": {
    "slideshow": {
     "slide_type": "slide"
    }
   },
   "source": [
    "$$x = c_{1}\\xi^{(1)}e^{r_{1}t} + c_{2}\\xi^{(2)}e^{r_{2}t} $$"
   ]
  },
  {
   "cell_type": "code",
   "execution_count": null,
   "metadata": {
    "slideshow": {
     "slide_type": "skip"
    }
   },
   "outputs": [],
   "source": []
  },
  {
   "cell_type": "markdown",
   "metadata": {
    "slideshow": {
     "slide_type": "slide"
    }
   },
   "source": [
    "## Solución con numpy de Python "
   ]
  },
  {
   "cell_type": "code",
   "execution_count": 1,
   "metadata": {
    "slideshow": {
     "slide_type": "slide"
    }
   },
   "outputs": [],
   "source": [
    "import numpy as np \n",
    "from numpy import linalg as LA "
   ]
  },
  {
   "cell_type": "code",
   "execution_count": 2,
   "metadata": {
    "slideshow": {
     "slide_type": "slide"
    }
   },
   "outputs": [
    {
     "data": {
      "text/plain": [
       "array([[1, 1],\n",
       "       [4, 1]])"
      ]
     },
     "execution_count": 2,
     "metadata": {},
     "output_type": "execute_result"
    }
   ],
   "source": [
    "A = np.array([[1,1],[4,1]]) \n",
    "A "
   ]
  },
  {
   "cell_type": "code",
   "execution_count": 3,
   "metadata": {
    "slideshow": {
     "slide_type": "slide"
    }
   },
   "outputs": [
    {
     "data": {
      "text/plain": [
       "(array([ 3., -1.]), array([[ 0.4472136 , -0.4472136 ],\n",
       "        [ 0.89442719,  0.89442719]]))"
      ]
     },
     "execution_count": 3,
     "metadata": {},
     "output_type": "execute_result"
    }
   ],
   "source": [
    "LA.eig(A) "
   ]
  },
  {
   "cell_type": "code",
   "execution_count": 4,
   "metadata": {
    "slideshow": {
     "slide_type": "slide"
    }
   },
   "outputs": [],
   "source": [
    "w,v=LA.eig(A)\n"
   ]
  },
  {
   "cell_type": "code",
   "execution_count": 5,
   "metadata": {
    "slideshow": {
     "slide_type": "slide"
    }
   },
   "outputs": [
    {
     "data": {
      "text/plain": [
       "array([ 3., -1.])"
      ]
     },
     "execution_count": 5,
     "metadata": {},
     "output_type": "execute_result"
    }
   ],
   "source": [
    "w "
   ]
  },
  {
   "cell_type": "code",
   "execution_count": 6,
   "metadata": {
    "slideshow": {
     "slide_type": "slide"
    }
   },
   "outputs": [
    {
     "data": {
      "text/plain": [
       "array([[ 0.4472136 , -0.4472136 ],\n",
       "       [ 0.89442719,  0.89442719]])"
      ]
     },
     "execution_count": 6,
     "metadata": {},
     "output_type": "execute_result"
    }
   ],
   "source": [
    "v "
   ]
  },
  {
   "cell_type": "code",
   "execution_count": 7,
   "metadata": {
    "slideshow": {
     "slide_type": "slide"
    }
   },
   "outputs": [],
   "source": [
    "r1,r2=w[0],w[1] "
   ]
  },
  {
   "cell_type": "code",
   "execution_count": 8,
   "metadata": {
    "slideshow": {
     "slide_type": "slide"
    }
   },
   "outputs": [
    {
     "data": {
      "text/plain": [
       "3.0000000000000004"
      ]
     },
     "execution_count": 8,
     "metadata": {},
     "output_type": "execute_result"
    }
   ],
   "source": [
    "r1 "
   ]
  },
  {
   "cell_type": "code",
   "execution_count": 9,
   "metadata": {
    "slideshow": {
     "slide_type": "slide"
    }
   },
   "outputs": [
    {
     "data": {
      "text/plain": [
       "-0.9999999999999996"
      ]
     },
     "execution_count": 9,
     "metadata": {},
     "output_type": "execute_result"
    }
   ],
   "source": [
    "r2 "
   ]
  },
  {
   "cell_type": "code",
   "execution_count": 10,
   "metadata": {
    "slideshow": {
     "slide_type": "slide"
    }
   },
   "outputs": [],
   "source": [
    "xi1,xi2=v[:,0],v[:,1] "
   ]
  },
  {
   "cell_type": "code",
   "execution_count": 11,
   "metadata": {
    "slideshow": {
     "slide_type": "slide"
    }
   },
   "outputs": [
    {
     "data": {
      "text/plain": [
       "array([0.4472136 , 0.89442719])"
      ]
     },
     "execution_count": 11,
     "metadata": {},
     "output_type": "execute_result"
    }
   ],
   "source": [
    "xi1    "
   ]
  },
  {
   "cell_type": "code",
   "execution_count": 12,
   "metadata": {
    "slideshow": {
     "slide_type": "slide"
    }
   },
   "outputs": [
    {
     "data": {
      "text/plain": [
       "array([-0.4472136 ,  0.89442719])"
      ]
     },
     "execution_count": 12,
     "metadata": {},
     "output_type": "execute_result"
    }
   ],
   "source": [
    "xi2 "
   ]
  },
  {
   "cell_type": "code",
   "execution_count": 14,
   "metadata": {
    "slideshow": {
     "slide_type": "slide"
    }
   },
   "outputs": [
    {
     "data": {
      "text/plain": [
       "1.0"
      ]
     },
     "execution_count": 14,
     "metadata": {},
     "output_type": "execute_result"
    }
   ],
   "source": [
    "LA.norm(xi1)  "
   ]
  },
  {
   "cell_type": "code",
   "execution_count": 15,
   "metadata": {
    "slideshow": {
     "slide_type": "slide"
    }
   },
   "outputs": [],
   "source": [
    "c1=1\n",
    "c2=0 \n",
    "def x(t):\n",
    "    return c1*xi1*np.exp(r1*t)+c2*xi2*np.exp(r2*t) "
   ]
  },
  {
   "cell_type": "markdown",
   "metadata": {
    "slideshow": {
     "slide_type": "slide"
    }
   },
   "source": [
    "## Visualización de la solución"
   ]
  },
  {
   "cell_type": "code",
   "execution_count": 16,
   "metadata": {
    "slideshow": {
     "slide_type": "slide"
    }
   },
   "outputs": [],
   "source": [
    "def x1(t):\n",
    "    return x(t)[0] "
   ]
  },
  {
   "cell_type": "code",
   "execution_count": 17,
   "metadata": {
    "slideshow": {
     "slide_type": "slide"
    }
   },
   "outputs": [],
   "source": [
    "def x2(t):\n",
    "    return x(t)[1] "
   ]
  },
  {
   "cell_type": "code",
   "execution_count": 27,
   "metadata": {
    "slideshow": {
     "slide_type": "slide"
    }
   },
   "outputs": [
    {
     "data": {
      "image/png": "[encoded data removed]",
      "text/plain": [
       "<Figure size 432x288 with 1 Axes>"
      ]
     },
     "metadata": {
      "needs_background": "light"
     },
     "output_type": "display_data"
    }
   ],
   "source": [
    "import numpy as np \n",
    "import matplotlib \n",
    "matplotlib.rcParams['text.usetex'] = True\n",
    "import matplotlib.pyplot as plt \n",
    "a=5 # dimensión del cuadrado de viasualización \n",
    "plt.quiver([0,0],[0,0], [xi1[0],xi2[0]],[xi1[1],xi2[1]],angles='xy',\n",
    "           scale_units='xy', scale=1, color=['r','b'])\n",
    "plt.grid() \n",
    "plt.axis([-a,a,-a,a])\n",
    "plt.savefig('EigenVectores.jpg')"
   ]
  },
  {
   "cell_type": "code",
   "execution_count": null,
   "metadata": {},
   "outputs": [],
   "source": []
  },
  {
   "cell_type": "code",
   "execution_count": null,
   "metadata": {},
   "outputs": [],
   "source": []
  },
  {
   "cell_type": "markdown",
   "metadata": {
    "slideshow": {
     "slide_type": "slide"
    }
   },
   "source": [
    "## Gráfica de algunas curvas integrales "
   ]
  },
  {
   "cell_type": "markdown",
   "metadata": {
    "slideshow": {
     "slide_type": "slide"
    }
   },
   "source": [
    "Supongamos que $c_{2} = 0$ "
   ]
  },
  {
   "cell_type": "code",
   "execution_count": 65,
   "metadata": {
    "slideshow": {
     "slide_type": "slide"
    }
   },
   "outputs": [
    {
     "data": {
      "image/png": "[encoded data removed]",
      "text/plain": [
       "<Figure size 432x288 with 1 Axes>"
      ]
     },
     "metadata": {
      "needs_background": "light"
     },
     "output_type": "display_data"
    }
   ],
   "source": [
    "import numpy as np\n",
    "import matplotlib.pyplot as plt \n",
    "from ipywidgets import interact \n",
    "T=np.linspace(-1,1) \n",
    "\n",
    "\n",
    "plt.scatter([x1(0.1)],[x2(0.1)], color='r') \n",
    "plt.plot(T,(xi1[1]/xi1[0])*T,color='orange') \n",
    "plt.grid() \n",
    "plt.quiver([0],[0],[xi1[0]],[xi1[1]], angles='xy', scale_units='xy', \n",
    "           scale=1, color=['g']) \n",
    "plt.axis([-1,1,-2,2])\n",
    "plt.savefig('gaficasolucion.png')  \n",
    "plt.show()\n",
    "\n"
   ]
  },
  {
   "cell_type": "markdown",
   "metadata": {
    "slideshow": {
     "slide_type": "slide"
    }
   },
   "source": [
    "Es didácticamente necesario hacer enfasis en los procesos de visualización.  \n",
    "Por ello haré muchos videos de formación para visualizar la solución de una sistema con matplotlib "
   ]
  },
  {
   "cell_type": "code",
   "execution_count": 22,
   "metadata": {
    "scrolled": true,
    "slideshow": {
     "slide_type": "slide"
    }
   },
   "outputs": [
    {
     "data": {
      "text/plain": [
       "<Figure size 640x480 with 1 Axes>"
      ]
     },
     "metadata": {},
     "output_type": "display_data"
    }
   ],
   "source": [
    "import numpy as np\n",
    "import matplotlib.pyplot as plt \n",
    "def x(t):\n",
    "    return c1*xi1*np.exp(r1*t) +c2*xi2*np.exp(r2*t) \n",
    "\n",
    "def x1(t):\n",
    "    return x(t)[0] \n",
    "\n",
    "def x2(t):\n",
    "    return x(t)[1] \n",
    "\n",
    "for c1 in [-2,-1,0,1,2]:\n",
    "    for c2 in [-2,-1,0,1,2]:\n",
    "        T = np.linspace(0,1)   \n",
    "        X1 = [x1(t) for t in T]\n",
    "        X2 = [x2(t) for t in T]\n",
    "        plt.axis([-5,5,-10,10])\n",
    "        plt.plot(X1,X2)\n",
    "plt.savefig('SoluSistema.jpg')        \n",
    "plt.show()         "
   ]
  },
  {
   "cell_type": "code",
   "execution_count": null,
   "metadata": {
    "slideshow": {
     "slide_type": "slide"
    }
   },
   "outputs": [],
   "source": []
  },
  {
   "cell_type": "code",
   "execution_count": null,
   "metadata": {
    "slideshow": {
     "slide_type": "slide"
    }
   },
   "outputs": [],
   "source": []
  },
  {
   "cell_type": "markdown",
   "metadata": {
    "slideshow": {
     "slide_type": "slide"
    }
   },
   "source": [
    "### Solución analítica:"
   ]
  },
  {
   "cell_type": "markdown",
   "metadata": {
    "slideshow": {
     "slide_type": "slide"
    }
   },
   "source": [
    "Si se supone que $x = \\xi e^{rt}$ y se sustituye $x$ en la ecuación anterior se llega al sistema de ecuaciones algebraicas \n",
    "\n",
    "$$ \\begin{pmatrix} 1-r & 1 \\\\ 4 & 1-r \\end{pmatrix} \\begin{pmatrix} \\xi_{1} \\\\ \\xi_{2} \\end{pmatrix} = \\begin{pmatrix} 0 \\\\ 0 \\end{pmatrix} $$\n"
   ]
  },
  {
   "cell_type": "markdown",
   "metadata": {
    "slideshow": {
     "slide_type": "slide"
    }
   },
   "source": [
    "El sistema anterior tiene solución que no sea trivial si y solo si el determinante de los coeficientes es cero. "
   ]
  },
  {
   "cell_type": "markdown",
   "metadata": {
    "slideshow": {
     "slide_type": "slide"
    }
   },
   "source": [
    "Por tanto, a partir de la ecuación \n",
    "\n",
    "\\begin{align*}\n",
    "\\left| \\begin{matrix}1-r & 1 \\\\ 4 & 1-r \\end{matrix} \\right|& = (1-r)^{2} - 4 \\\\\n",
    "& r^{2} - 2r - 3 = 0\n",
    "\\end{align*}\n",
    "\n",
    "se encuentran valores permisibles de $r$. \n"
   ]
  },
  {
   "cell_type": "markdown",
   "metadata": {
    "slideshow": {
     "slide_type": "slide"
    }
   },
   "source": [
    "Las raíces de la anterior ecuación son $r=3$ y $r_{2} = -1$, que son los eigenvalores de la matriz de coeficientes de la ecuación \n",
    "\n",
    "$$ x' = \\begin{pmatrix} 1 & 1 \\\\ 4 & 1 \\end{pmatrix}x. $$\n"
   ]
  },
  {
   "cell_type": "markdown",
   "metadata": {
    "slideshow": {
     "slide_type": "slide"
    }
   },
   "source": [
    "Si $r = 3$, entonces el sistema \n",
    "\n",
    "$$ \\begin{pmatrix} 1-r & 1 \\\\ 4 & 1-r \\end{pmatrix} \\begin{pmatrix} \\xi_{1} \\\\ \\xi_{2} \\end{pmatrix} = \\begin{pmatrix} 0 \\\\ 0 \\end{pmatrix} $$\n",
    "\n",
    "se reduce a la simple ecuación \n",
    "\n",
    "$$-2\\xi_{1} + \\xi_{2} = 0 $$\n"
   ]
  },
  {
   "cell_type": "markdown",
   "metadata": {
    "slideshow": {
     "slide_type": "slide"
    }
   },
   "source": [
    "Por tanto\n",
    "\n",
    "$$\\xi_{2} = 2\\xi_{1}$$"
   ]
  },
  {
   "cell_type": "markdown",
   "metadata": {
    "slideshow": {
     "slide_type": "slide"
    }
   },
   "source": [
    "y el eigenvector correspondiente a $r_{1} = 3$ puede tomarse como\n",
    "\n",
    "$$\\xi^{(1)} = \\begin{pmatrix} 1 \\\\ 2 \\end{pmatrix}. $$\n"
   ]
  },
  {
   "cell_type": "markdown",
   "metadata": {
    "slideshow": {
     "slide_type": "slide"
    }
   },
   "source": [
    "De manera semejante, correspondiendo a $r_{2} = -1$, se encuentra que \n",
    "\n",
    "$$\\xi_{2} = -2\\xi_{1}, $$\n",
    "\n",
    "de modeo que el eigenvector es\n",
    "\n",
    "$$ \\xi^{(2)} = \\begin{pmatrix} 1 \\\\ -2 \\end{pmatrix} $$"
   ]
  },
  {
   "cell_type": "markdown",
   "metadata": {
    "slideshow": {
     "slide_type": "slide"
    }
   },
   "source": [
    "Las soluciones correspondientes de la ecuación diferencial son\n",
    "\n",
    "$$ x^{(1)}(t) = \\begin{pmatrix} 1 \\\\ 2 \\end{pmatrix}e^{3t}, \\quad \\quad x^{(2)}(t) = \\begin{pmatrix} 1 \\\\ -2 \\end{pmatrix}e^{-t}  $$\n"
   ]
  },
  {
   "cell_type": "markdown",
   "metadata": {
    "slideshow": {
     "slide_type": "slide"
    }
   },
   "source": [
    "El wronskiano de estas soluciones es: \n",
    "\n",
    "$$W[x^{(1)}, x^{(2)}](t) = \\left| \\begin{matrix} e^{3t} & e^{-t} \\\\ 2e^{3t} & -2e^{-t} \\end{matrix} \\right| = -4e^{2t}, $$\n",
    "\n",
    "que nunca es cero. "
   ]
  },
  {
   "cell_type": "markdown",
   "metadata": {
    "slideshow": {
     "slide_type": "slide"
    }
   },
   "source": [
    "Donde las soluciones $x^{(1)}$ y $x^{(2)}$ forman un conjunto fundamental y la solución general del sistema $$ x' = \\begin{pmatrix} 1 & 1 \\\\ 4 & 1 \\end{pmatrix}x. $$\n",
    "\n",
    "es \n",
    "\n",
    "\\begin{align*}\n",
    "x & = c_{1}x^{(1)}(t) + c_{2}x^{(2)}(t) \\\\\n",
    "& = c_{1}\\begin{pmatrix} 1 \\\\ 2 \\end{pmatrix}e^{3t} + c_{2}\\begin{pmatrix} 1 \\\\ -2 \\end{pmatrix}e^{-t}\n",
    "\\end{align*}\n",
    "\n",
    "donde $c_{1}$ y $c_{2}$ son constantes arbitrarias. "
   ]
  },
  {
   "cell_type": "code",
   "execution_count": null,
   "metadata": {
    "slideshow": {
     "slide_type": "skip"
    }
   },
   "outputs": [],
   "source": []
  },
  {
   "cell_type": "markdown",
   "metadata": {
    "slideshow": {
     "slide_type": "slide"
    }
   },
   "source": [
    "Para visualizar la solución anterior resulta útil considerar su gráfica en el plano $x_{1}x_{2}$ para varios valores de las constantes $c_{2}$ Y $c_{2}$. "
   ]
  },
  {
   "cell_type": "markdown",
   "metadata": {
    "slideshow": {
     "slide_type": "slide"
    }
   },
   "source": [
    "Se empieza con $x = c_{1}x^{(1)}(t)$, o en forma escalar, \n",
    "\n",
    "$$ x_{1} = c_{1}e^{3t} \\quad \\quad x_{2} = 2c_{1}e^{3t}. $$\n"
   ]
  },
  {
   "cell_type": "markdown",
   "metadata": {
    "slideshow": {
     "slide_type": "slide"
    }
   },
   "source": [
    "Al eliminar $t$ entre estas dos ecuaciones, se ve que esta solución se encuentra sobre la resta\n",
    "\n",
    "$$ x_{2} = 2x_{1} $$\n"
   ]
  },
  {
   "cell_type": "code",
   "execution_count": null,
   "metadata": {
    "slideshow": {
     "slide_type": "skip"
    }
   },
   "outputs": [],
   "source": []
  },
  {
   "cell_type": "code",
   "execution_count": 23,
   "metadata": {
    "slideshow": {
     "slide_type": "slide"
    }
   },
   "outputs": [
    {
     "data": {
      "image/png": "[encoded data removed]",
      "text/plain": [
       "<Figure size 432x288 with 1 Axes>"
      ]
     },
     "metadata": {
      "needs_background": "light"
     },
     "output_type": "display_data"
    }
   ],
   "source": [
    "import numpy as np \n",
    "import matplotlib.pyplot as plt \n",
    "x1 = np.linspace(-3,3)\n",
    "x2 = 2*x1 \n",
    "y=plt.plot(x1,x2,'r-',label='movimiento alejandose del origen') \n",
    "# porque el vector posición tiende a ser de norma infinita\n",
    "plt.legend() \n",
    "plt.grid() \n",
    "plt.show() "
   ]
  },
  {
   "cell_type": "markdown",
   "metadata": {
    "slideshow": {
     "slide_type": "slide"
    }
   },
   "source": [
    "Esta es la recta que pasa por el origen en la dirección del eigenvector $\\xi^{(1)}$ "
   ]
  },
  {
   "cell_type": "markdown",
   "metadata": {
    "slideshow": {
     "slide_type": "slide"
    }
   },
   "source": [
    "Si la solución se considera como la trayectoria de una partícula en movimiento, entonces esta se encuentra en el primer cuadrante cuando $c_{1} > 0$ y en el tercero cuando $c_{1} < 0$. "
   ]
  },
  {
   "cell_type": "markdown",
   "metadata": {
    "slideshow": {
     "slide_type": "slide"
    }
   },
   "source": [
    "En cualquier caso, la partícula la partícula se aleja del origen a medida que $t$ crece. "
   ]
  },
  {
   "cell_type": "markdown",
   "metadata": {
    "slideshow": {
     "slide_type": "slide"
    }
   },
   "source": [
    "A continuación considérese \n",
    "\n",
    "$$ x = c_{2}x^{(2)}(t), $$\n",
    "\n",
    "o bien \n",
    "\n",
    "$$ x_{1} = c_{2}e^{-t}, \\quad \\quad x_{2} = -2c_{2}e^{-t}.  $$\n"
   ]
  },
  {
   "cell_type": "markdown",
   "metadata": {
    "slideshow": {
     "slide_type": "slide"
    }
   },
   "source": [
    "Esta solución está sobre la recta $x_{2} = -2x_{1}$, cuya dirección está determinada por el eigenvector $\\xi^{(2)}$. "
   ]
  },
  {
   "cell_type": "markdown",
   "metadata": {
    "slideshow": {
     "slide_type": "slide"
    }
   },
   "source": [
    "La solución está en el cuartp cuadrante cuando $c_{2} > 0$ y en el segundo cuando $c_{2} < 0$. como se muestra en la siguiente figura. "
   ]
  },
  {
   "cell_type": "code",
   "execution_count": 24,
   "metadata": {
    "slideshow": {
     "slide_type": "slide"
    }
   },
   "outputs": [
    {
     "data": {
      "image/png": "[encoded data removed]",
      "text/plain": [
       "<Figure size 432x288 with 1 Axes>"
      ]
     },
     "metadata": {
      "needs_background": "light"
     },
     "output_type": "display_data"
    }
   ],
   "source": [
    "import numpy as np \n",
    "import matplotlib.pyplot as plt \n",
    "x1 = np.linspace(-3,3)\n",
    "x2 = -2*x1 \n",
    "y=plt.plot(x1,x2,'r-',label='movimiento hacia el origen')\n",
    "# porque el vector posición tiende a ser de norma cero\n",
    "plt.legend() \n",
    "plt.grid() \n",
    "plt.show() "
   ]
  },
  {
   "cell_type": "markdown",
   "metadata": {
    "slideshow": {
     "slide_type": "slide"
    }
   },
   "source": [
    "En los dos casos, la partícula se desplaza hacia el origen a medida que $t$ crece. "
   ]
  },
  {
   "cell_type": "markdown",
   "metadata": {
    "slideshow": {
     "slide_type": "slide"
    }
   },
   "source": [
    "La solución \n",
    "\n",
    "$$ x = c_{1}\\begin{pmatrix} 1 \\\\ 2 \\end{pmatrix}e^{3t} + c_{2}\\begin{pmatrix} 1 \\\\ -2 \\end{pmatrix}e^{-t} $$ \n",
    "es una combinación de $x^{(1)}(t)$ y $x^{(2)}(t)$. "
   ]
  },
  {
   "cell_type": "markdown",
   "metadata": {
    "slideshow": {
     "slide_type": "slide"
    }
   },
   "source": [
    "Para $t$ grande, el término $c_{1}x^{(1)}(t)$ es dominante y el término $c_{2}x^{(2)}(t)$ se vuelve despreciable. "
   ]
  },
  {
   "cell_type": "markdown",
   "metadata": {
    "slideshow": {
     "slide_type": "slide"
    }
   },
   "source": [
    "Por tanto, todas las soluciones para las que $c_{1} \\neq 0$ son asíntóticas a la recta $x_{2} = 2x_{1}$ cuando $t \\to \\infty$. "
   ]
  },
  {
   "cell_type": "code",
   "execution_count": null,
   "metadata": {
    "slideshow": {
     "slide_type": "skip"
    }
   },
   "outputs": [],
   "source": []
  },
  {
   "cell_type": "markdown",
   "metadata": {
    "slideshow": {
     "slide_type": "slide"
    }
   },
   "source": [
    "De manera semejante, todas las soluciones para las que $c_{2} \\neq 0$ son asíntoticas a la recta $x_{2} = -2x_{1}$ cuando $t \\to -\\infty$.  "
   ]
  },
  {
   "cell_type": "code",
   "execution_count": 25,
   "metadata": {
    "slideshow": {
     "slide_type": "slide"
    }
   },
   "outputs": [
    {
     "data": {
      "application/vnd.jupyter.widget-view+json": {
       "model_id": "31d8fdaf85344e74b39e2d64412f2386",
       "version_major": 2,
       "version_minor": 0
      },
      "text/plain": [
       "interactive(children=(IntSlider(value=1, description='c1', max=1, min=-1), IntSlider(value=1, description='c2'…"
      ]
     },
     "metadata": {},
     "output_type": "display_data"
    },
    {
     "data": {
      "text/plain": [
       "<function __main__.grafica(c1=1, c2=1, t=0)>"
      ]
     },
     "execution_count": 25,
     "metadata": {},
     "output_type": "execute_result"
    }
   ],
   "source": [
    "import numpy as np \n",
    "import matplotlib.pyplot as plt \n",
    "from ipywidgets import interact \n",
    "\n",
    "def grafica(c1 = 1,c2 = 1,t = 0):\n",
    "    x11=np.linspace(-10,10)\n",
    "    x12 = 2*x11\n",
    "    x21 = x11 \n",
    "    x22 = -2*x21\n",
    "    fig,ax=plt.subplots(1,1,figsize=(6,6))\n",
    "    ax.plot(x11,x12,x21,x22)\n",
    "    ax.plot([c1*np.exp(3*t)+c2*np.exp(-t)],[2*c1*np.exp(3*t)-2*c2*np.exp(-t)],'go')\n",
    "    ax.axis([-10,10,-10,10]) \n",
    "    plt.show() \n",
    "interact(grafica,c1=(-1,1),c2=(-1,1),t=(-1,3,0.01))      "
   ]
  },
  {
   "cell_type": "markdown",
   "metadata": {
    "slideshow": {
     "slide_type": "slide"
    }
   },
   "source": [
    "El patrón de las trayectorias en esta figura es típico de todos los sistemas de segundo orden $x' = Ax$ para los que los eigen valores son reales y de signos opuestos.  En este caso el origen se llama **punto silla.**"
   ]
  },
  {
   "cell_type": "code",
   "execution_count": null,
   "metadata": {
    "slideshow": {
     "slide_type": "skip"
    }
   },
   "outputs": [],
   "source": []
  },
  {
   "cell_type": "markdown",
   "metadata": {
    "slideshow": {
     "slide_type": "slide"
    }
   },
   "source": [
    "En el párrafo anterior se describió la manera de trazar a mano una figura cualitativamente correcta de las trayectorias de un sistema como el de la ecuación \n",
    "\n",
    "$$ x' = \\begin{pmatrix} 1 & 1 \\\\ 4 & 1 \\end{pmatrix}x, $$\n",
    "\n",
    "una vez que se determinan los eigenvalores y los eigenvectores. \n"
   ]
  },
  {
   "cell_type": "markdown",
   "metadata": {
    "slideshow": {
     "slide_type": "slide"
    }
   },
   "source": [
    "Sin embargo para producir una figura detallada y exacta como la anterior y otras que se presentarán posteriormente en este capítulo, una computadora es extremadamente útil, sino indispensable. "
   ]
  },
  {
   "cell_type": "markdown",
   "metadata": {
    "slideshow": {
     "slide_type": "slide"
    }
   },
   "source": [
    "## Alternativa de graficación (Cómo funciones de $t$) "
   ]
  },
  {
   "cell_type": "markdown",
   "metadata": {
    "slideshow": {
     "slide_type": "slide"
    }
   },
   "source": [
    "Como alternativa para la figura anterior también es posible trazar la gráfica de $x_{1}$ o $x_{2}$ como función de $t$. "
   ]
  },
  {
   "cell_type": "code",
   "execution_count": 26,
   "metadata": {
    "slideshow": {
     "slide_type": "slide"
    }
   },
   "outputs": [
    {
     "data": {
      "application/vnd.jupyter.widget-view+json": {
       "model_id": "13dcffb5f8174984926337febf2bf316",
       "version_major": 2,
       "version_minor": 0
      },
      "text/plain": [
       "interactive(children=(IntSlider(value=1, description='c1', max=2, min=-2), IntSlider(value=1, description='c2'…"
      ]
     },
     "metadata": {},
     "output_type": "display_data"
    },
    {
     "data": {
      "text/plain": [
       "<function __main__.grafica(c1=1, c2=1)>"
      ]
     },
     "execution_count": 26,
     "metadata": {},
     "output_type": "execute_result"
    }
   ],
   "source": [
    "import numpy as np \n",
    "import matplotlib.pyplot as plt \n",
    "from ipywidgets import interact \n",
    "a,b=0,2    # dominio \n",
    "def grafica(c1 = 1,c2 = 1):\n",
    "    t=np.linspace(a,b)\n",
    "    x1 =  c1/2*np.exp(3*t) + c2/2*np.exp(-t) \n",
    "    x2 =  2*c1/2*np.exp(3*t) -2*c2/2*np.exp(-t) \n",
    "    fig,ax=plt.subplots(1,1,figsize=(6,6))\n",
    "    ax.plot(t,x2)\n",
    "    #ax.title('x1 contra t')\n",
    "    ax.axis([a,b,-b-1,b+1]) \n",
    "    plt.grid() \n",
    "    plt.show() \n",
    "interact(grafica,c1=(-2,2),c2=(-3,3))    "
   ]
  },
  {
   "cell_type": "markdown",
   "metadata": {
    "slideshow": {
     "slide_type": "slide"
    }
   },
   "source": [
    "En la figura anterior se muestran algunas gráficas típicas de $x1$ contra $t$, y las de $x_{2}$ contra $t$ son semejantes. "
   ]
  },
  {
   "cell_type": "markdown",
   "metadata": {
    "slideshow": {
     "slide_type": "slide"
    }
   },
   "source": [
    "Para ciertas condiciones iniciales, en la ecuación \n",
    "\n",
    "$$ x = c_{1}\\begin{pmatrix} 1 \\\\ 2 \\end{pmatrix}e^{3t} + c_{2}\\begin{pmatrix} 1 \\\\ -2 \\end{pmatrix}e^{-t} $$ \n",
    "se concluye que $c_{1} = 0$, de modo que $x_{1} = c_{2}e^{-t}$ y $x_{1} \\to 0$ cuando $t \\to \\infty$. "
   ]
  },
  {
   "cell_type": "markdown",
   "metadata": {
    "slideshow": {
     "slide_type": "slide"
    }
   },
   "source": [
    "Una de estas gráficas se muestra en la figura anterior, correspondiente a una trayectoria que tiende al origen en la figura del plano $x1x2$. "
   ]
  },
  {
   "cell_type": "markdown",
   "metadata": {
    "slideshow": {
     "slide_type": "slide"
    }
   },
   "source": [
    "Sin embargo, para la mayor parte de las condiciones iniciales, $c_{1} \\neq 0$ y $x_{1} = c_{1}e^{3t} + c_{2}e^{-t}$.  "
   ]
  },
  {
   "cell_type": "markdown",
   "metadata": {
    "slideshow": {
     "slide_type": "slide"
    }
   },
   "source": [
    "Entonces, la presencia del término exponencial positivo hace que $x_{1}$ crezca exponencialmente en magnitud cuando $t$ crece. "
   ]
  },
  {
   "cell_type": "markdown",
   "metadata": {
    "slideshow": {
     "slide_type": "slide"
    }
   },
   "source": [
    "En la figura anterior se presentan gráficos de este tipo, correspondientes a trayectorias que se separan de la vecindad del origen en la figura en el plano $x_{1}x_{2}$.  "
   ]
  },
  {
   "cell_type": "markdown",
   "metadata": {
    "slideshow": {
     "slide_type": "slide"
    }
   },
   "source": [
    "Es importante comprender la relación entre los gráficos en el plano $x_{1}x_{2}$ y en el plano $tx_{1}$ y otras figuras semejantes que se presentan después, ya que tal vez se deseen visualizar soluciones en el plano $x_{1}x_{2}$ o como funciones de la variable independiente $t$.  "
   ]
  },
  {
   "cell_type": "code",
   "execution_count": null,
   "metadata": {
    "slideshow": {
     "slide_type": "slide"
    }
   },
   "outputs": [],
   "source": []
  },
  {
   "cell_type": "markdown",
   "metadata": {
    "slideshow": {
     "slide_type": "slide"
    }
   },
   "source": [
    "Volviendo al sistema \n",
    "\n",
    "$$ x' = Ax, $$\n",
    "\n",
    "se procede como en el ejemplo.\n"
   ]
  },
  {
   "cell_type": "markdown",
   "metadata": {
    "slideshow": {
     "slide_type": "slide"
    }
   },
   "source": [
    "Para hallar soluciones de la ecuación diferencial \n",
    "\n",
    "$$x' = Ax$$\n",
    "\n",
    "es necesario encontrar los eigenvalores y los eigenvectores de $A$, a partir del sistema algebraico \n",
    "\n",
    "$$ (A-rI)\\xi = 0 $$\n"
   ]
  },
  {
   "cell_type": "markdown",
   "metadata": {
    "slideshow": {
     "slide_type": "slide"
    }
   },
   "source": [
    "Los eigen valores $r_{1}, \\ldots, r_{n}$ (que no necesariamente son todos diferentes) son raíces de la ecuación polinomial \n",
    "\n",
    "$$det(A-rI) = 0$$\n"
   ]
  },
  {
   "cell_type": "markdown",
   "metadata": {
    "slideshow": {
     "slide_type": "slide"
    }
   },
   "source": [
    "La naturaleza de los eigenvalores y los eigenvectores correspondientes determina la naturaleza de la solución general del sistema $x' = Ax$. "
   ]
  },
  {
   "cell_type": "code",
   "execution_count": null,
   "metadata": {
    "slideshow": {
     "slide_type": "skip"
    }
   },
   "outputs": [],
   "source": []
  },
  {
   "cell_type": "markdown",
   "metadata": {
    "slideshow": {
     "slide_type": "slide"
    }
   },
   "source": [
    "## Sistemas Hermitianos "
   ]
  },
  {
   "cell_type": "markdown",
   "metadata": {
    "slideshow": {
     "slide_type": "slide"
    }
   },
   "source": [
    "La situación es más sencilla cuando $A$ es una matriz **hermitiana**.  "
   ]
  },
  {
   "cell_type": "markdown",
   "metadata": {
    "slideshow": {
     "slide_type": "slide"
    }
   },
   "source": [
    "Como se hizo ver en la sección 7.3, en este caso todos los eigenvalores $r_{1}, \\ldots, r_{n}$ son reales. "
   ]
  },
  {
   "cell_type": "markdown",
   "metadata": {
    "slideshow": {
     "slide_type": "slide"
    }
   },
   "source": [
    "Además, aún si alguno de los eigen valores están repetidos, siempre existe un conjunto de $n$ eigenvectores $\\xi^{(1)}, \\ldots, \\xi^{(n)}$ que son linealmente independientes (de hecho, ortogonales). "
   ]
  },
  {
   "cell_type": "markdown",
   "metadata": {
    "slideshow": {
     "slide_type": "slide"
    }
   },
   "source": [
    "De donde, las soluciones correspondientes del sistema $x' = Ax$ son\n",
    "\n",
    "$$ x^{(1)}(t) = \\xi^{(1)}e^{r_{1}t}, \\ldots, x^{(n)}(t) = \\xi^{(n)}e^{r_{n}t} $$\n"
   ]
  },
  {
   "cell_type": "markdown",
   "metadata": {
    "slideshow": {
     "slide_type": "slide"
    }
   },
   "source": [
    "Para demostrar que estas soluciones forman un conjunto fundamental se evalua su wronskiano:"
   ]
  },
  {
   "cell_type": "markdown",
   "metadata": {
    "slideshow": {
     "slide_type": "slide"
    }
   },
   "source": [
    "\\begin{align*}\n",
    "W[x^{(1)}, \\ldots, x^{(n)}](t) & = \\left| \\begin{matrix} \\xi^{(1)}_{1}e^{r_{1}t} & \\cdots & \\xi^{(n)}_{1}e^{r_{n}t} \\\\ \\vdots & & \\vdots \\\\ \\xi^{(1)}_{n}e^{r_{1}t} & \\cdots & \\xi^{(n)}_{n}e^{r_{n}t} \\end{matrix} \\right| \\\\\n",
    "                               & = e^{(r_{1} + \\cdots + r_{n})t} \\left|\\begin{matrix}\n",
    "                               \\xi^{(1)}_{1} & \\cdots & \\xi^{(n)} \\\\\n",
    "                               \\vdots & & \\vdots \\\\ \\xi^{(1)}_{n} & \\cdots & \\xi^{(n)}_{n}\n",
    "                               \\end{matrix}\\right| \n",
    "\\end{align*}"
   ]
  },
  {
   "cell_type": "markdown",
   "metadata": {
    "slideshow": {
     "slide_type": "slide"
    }
   },
   "source": [
    "En primer lugar se observa que la función exponencial nunca es cero. "
   ]
  },
  {
   "cell_type": "markdown",
   "metadata": {
    "slideshow": {
     "slide_type": "slide"
    }
   },
   "source": [
    "En seguida, como los eigenvectores $\\xi^{(1)},\\ldots,\\xi^{(n)}$ son linealmente independientes, el determinante del último término de la ecuación anterior es diferente de cero. "
   ]
  },
  {
   "cell_type": "markdown",
   "metadata": {
    "slideshow": {
     "slide_type": "slide"
    }
   },
   "source": [
    "Como consecuencia, el wronskiano $w[x^{(1)}, \\ldots, x^{(n)}](t)$ nunca es cero, de donde $x^{(1)}, \\ldots, x^{(n)}$ forman un conjunto fundamental de soluciones. "
   ]
  },
  {
   "cell_type": "markdown",
   "metadata": {
    "slideshow": {
     "slide_type": "slide"
    }
   },
   "source": [
    "Por tanto, cuando $A$ es una matriz hermitiana, la solución de la ecuación $x'=Ax$ es \n",
    "\n",
    "$$ x = c_{1}\\xi^{(1)}e^{r_{1}t} + \\cdots + c_{n}\\xi^{(n)}e^{r_{n}t}. $$\n"
   ]
  },
  {
   "cell_type": "markdown",
   "metadata": {
    "slideshow": {
     "slide_type": "slide"
    }
   },
   "source": [
    "Una subclase de las matrices hermitianas es la clase de las matrices reales simétricas. "
   ]
  },
  {
   "cell_type": "markdown",
   "metadata": {
    "slideshow": {
     "slide_type": "slide"
    }
   },
   "source": [
    "Si $A$ es una matriz real y simétrica, entonces todos sus eigenvectores $\\xi^{(1)}, \\ldots, \\xi^{(n)}$, así como los eigenvalores $r_{1}, \\ldots, r_{n}$ son reales. "
   ]
  },
  {
   "cell_type": "markdown",
   "metadata": {
    "slideshow": {
     "slide_type": "slide"
    }
   },
   "source": [
    "De donde, las soluciones dadas por la ecuación \n",
    "\n",
    "$$ x = c_{1}\\xi^{(1)}e^{r_{1}t} + \\cdots + c_{n}\\xi^{(n)}e^{r_{n}t}. $$\n",
    "\n",
    "son de valores reales. "
   ]
  },
  {
   "cell_type": "markdown",
   "metadata": {
    "slideshow": {
     "slide_type": "slide"
    }
   },
   "source": [
    "Sin embargo, si la matriz hermitiana $A$ no es real, entonces en general los eigenvectores tienen partes imaginarias diferentes de cero y las soluciones \n",
    "\n",
    "$$ x = c_{1}\\xi^{(1)}e^{r_{1}t} + \\cdots + c_{n}\\xi^{(n)}e^{r_{n}t}. $$\n",
    "\n",
    "son de valores complejos. "
   ]
  },
  {
   "cell_type": "code",
   "execution_count": null,
   "metadata": {
    "slideshow": {
     "slide_type": "skip"
    }
   },
   "outputs": [],
   "source": []
  },
  {
   "cell_type": "markdown",
   "metadata": {
    "slideshow": {
     "slide_type": "slide"
    }
   },
   "source": [
    "## Ejemplo 2\n",
    "Página 392 "
   ]
  },
  {
   "cell_type": "markdown",
   "metadata": {
    "slideshow": {
     "slide_type": "slide"
    }
   },
   "source": [
    "Encontrar la solución general de\n",
    "\n",
    "$$ x' = \\begin{pmatrix} -3 & \\sqrt{2} \\\\ \\sqrt{2} & -2 \\end{pmatrix}x $$\n"
   ]
  },
  {
   "cell_type": "markdown",
   "metadata": {
    "slideshow": {
     "slide_type": "slide"
    }
   },
   "source": [
    "La matriz de coeficientes de la ecuación anterior es real y simétrica, de modo que los resultados recientemente descritos son válidos para este problema. "
   ]
  },
  {
   "cell_type": "markdown",
   "metadata": {
    "slideshow": {
     "slide_type": "slide"
    }
   },
   "source": [
    "Si se supone que $x = \\xi e^{rt}$ se obtiene el sistema algebraico \n",
    "\n",
    "$$ \\begin{pmatrix} -3 - r & \\sqrt{2} \\\\ \\sqrt{2} & -2-r \\end{pmatrix} \\begin{pmatrix} \\xi_{1} \\\\ \\xi_{2}\\end{pmatrix} = \\begin{pmatrix} 0 \\\\ 0 \\end{pmatrix} $$\n"
   ]
  },
  {
   "cell_type": "markdown",
   "metadata": {
    "slideshow": {
     "slide_type": "slide"
    }
   },
   "source": [
    "Los eigenvalores satisfacen \n",
    "\n",
    "\\begin{align*}\n",
    "(-3-r)(-2-r)-2 & = r^{2}+5r + 4 \\\\\n",
    "& = (r+1)(r+4) = 0,\n",
    "\\end{align*}\n"
   ]
  },
  {
   "cell_type": "markdown",
   "metadata": {
    "slideshow": {
     "slide_type": "slide"
    }
   },
   "source": [
    "de modo que $r_{1} = -1$, $r_{2}=-4$. "
   ]
  },
  {
   "cell_type": "markdown",
   "metadata": {
    "slideshow": {
     "slide_type": "slide"
    }
   },
   "source": [
    "Para $r = -1$, la ecuación \n",
    "\n",
    "$$ \\begin{pmatrix} -3 - r & \\sqrt{2} \\\\ \\sqrt{2} & -2-r \\end{pmatrix} \\begin{pmatrix} \\xi_{1} \\\\ \\xi_{2}\\end{pmatrix} = \\begin{pmatrix} 0 \\\\ 0 \\end{pmatrix} $$\n",
    "\n",
    "queda \n",
    "\n",
    "$$ \\begin{pmatrix} -2 & \\sqrt{2} \\\\ \\sqrt{2} & -1 \\end{pmatrix} \\begin{pmatrix} \\xi_{1} \\\\ \\xi_{2}\\end{pmatrix} = \\begin{pmatrix} 0 \\\\ 0 \\end{pmatrix} $$\n"
   ]
  },
  {
   "cell_type": "markdown",
   "metadata": {
    "slideshow": {
     "slide_type": "slide"
    }
   },
   "source": [
    "De donde, $\\xi_{2} = \\sqrt{2}\\xi_{1}$ y el eigenvector $\\xi^{(1)}$ correspondiente al eigenvalor $r=-1$ puede tomarse como \n",
    "\n",
    "$$ \\xi^{(1)} = \\begin{pmatrix} 1 \\\\ \\sqrt{2} \\end{pmatrix} $$\n"
   ]
  },
  {
   "cell_type": "markdown",
   "metadata": {
    "slideshow": {
     "slide_type": "slide"
    }
   },
   "source": [
    "De manera semejante, correspondiendo al eigenvalor $r_{2} = -4$ se tiene $\\xi_{1} = -\\sqrt{2}\\xi_{2}$, por lo que el eigenvector es \n",
    "\n",
    "$$ \\xi^{(2)} = \\begin{pmatrix} -\\sqrt{2} \\\\ 1 \\end{pmatrix} $$\n"
   ]
  },
  {
   "cell_type": "markdown",
   "metadata": {
    "slideshow": {
     "slide_type": "slide"
    }
   },
   "source": [
    "Por tanto, el conjunto fundamental de soluciones del sistema del sistema \n",
    "\n",
    "$$ x' = \\begin{pmatrix} -3 & \\sqrt{2} \\\\ \\sqrt{2} & -2 \\end{pmatrix}x $$\n",
    "\n",
    "es \n",
    "\n",
    "$$ x^{(1)}(t) = \\begin{pmatrix} 1 \\\\ \\sqrt{2} \\end{pmatrix}e^{-t}, \\quad \\quad x^{(2)}(t) = \\begin{pmatrix} -\\sqrt{2} \\\\ 1 \\end{pmatrix}e^{-4t}  $$\n"
   ]
  },
  {
   "cell_type": "markdown",
   "metadata": {
    "slideshow": {
     "slide_type": "slide"
    }
   },
   "source": [
    "y la solución general es \n",
    "\n",
    "$$ x = c_{1}x^{(1)}(t) + c_{2}x^{(2)}(t) = c_{1}\\begin{pmatrix} 1 \\\\ \\sqrt{2} \\end{pmatrix}e^{-t} + c_{2}\\begin{pmatrix} -\\sqrt{2} \\\\ 1 \\end{pmatrix}e^{-4t} $$\n"
   ]
  },
  {
   "cell_type": "markdown",
   "metadata": {
    "slideshow": {
     "slide_type": "slide"
    }
   },
   "source": [
    "## Graficación de algunas de las curvas integrales "
   ]
  },
  {
   "cell_type": "markdown",
   "metadata": {
    "slideshow": {
     "slide_type": "slide"
    }
   },
   "source": [
    "### Graficación en el plano $x_{1}x_{2}$"
   ]
  },
  {
   "cell_type": "markdown",
   "metadata": {
    "slideshow": {
     "slide_type": "slide"
    }
   },
   "source": [
    "Empecemos por $x = c_{1}x^{(1)}(t)$"
   ]
  },
  {
   "cell_type": "markdown",
   "metadata": {
    "slideshow": {
     "slide_type": "slide"
    }
   },
   "source": [
    "$$ x = \\begin{pmatrix} x_{1} \\\\ x_{2} \\end{pmatrix} = c_{1}x^{(1)}(t) =  c_{1}\\begin{pmatrix} 1 \\\\ \\sqrt{2} \\end{pmatrix}e^{-t} $$"
   ]
  },
  {
   "cell_type": "markdown",
   "metadata": {
    "slideshow": {
     "slide_type": "slide"
    }
   },
   "source": [
    "\\begin{align*} \n",
    "x_{1} & = c_{1}e^{-t} \\\\\n",
    "x_{2} & = c_{1}\\sqrt{2}e^{-t}\n",
    "\\end{align*}"
   ]
  },
  {
   "cell_type": "markdown",
   "metadata": {
    "slideshow": {
     "slide_type": "slide"
    }
   },
   "source": [
    "\n",
    "dividiendo lado a lado las ecuaciones anteriores obtenemos \n",
    "\n",
    "$$\\frac{x_{1}}{x_{2}} = \\frac{1}{\\sqrt{2}} \\quad \\iff \\quad x_{2} = \\sqrt{2}x_{1} $$\n",
    "\n",
    "en la siguiente figura se presenta el gráfico de esta recta: "
   ]
  },
  {
   "cell_type": "code",
   "execution_count": 27,
   "metadata": {
    "slideshow": {
     "slide_type": "slide"
    }
   },
   "outputs": [
    {
     "name": "stderr",
     "output_type": "stream",
     "text": [
      "No handles with labels found to put in legend.\n"
     ]
    },
    {
     "data": {
      "image/png": "[encoded data removed]",
      "text/plain": [
       "<Figure size 432x288 with 1 Axes>"
      ]
     },
     "metadata": {
      "needs_background": "light"
     },
     "output_type": "display_data"
    }
   ],
   "source": [
    "import numpy as np \n",
    "import matplotlib.pyplot as plt \n",
    "x1 = np.linspace(-3,3)\n",
    "x2 = (-1/np.sqrt(2))*x1 \n",
    "y=plt.plot(x1,x2,'r-',label='') \n",
    "# porque el vector posición tiende a ser de norma infinita\n",
    "plt.legend() \n",
    "plt.grid() \n",
    "plt.show() "
   ]
  },
  {
   "cell_type": "markdown",
   "metadata": {
    "slideshow": {
     "slide_type": "slide"
    }
   },
   "source": [
    "Esta es la recta que pasa por el origen en la dirección del eigenvector \n",
    "\n",
    "$$ \\xi^{(1)} = \\begin{pmatrix} 1 \\\\ \\sqrt{2} \\end{pmatrix} $$\n"
   ]
  },
  {
   "cell_type": "markdown",
   "metadata": {
    "slideshow": {
     "slide_type": "slide"
    }
   },
   "source": [
    "Si la solución se considera como la trayectoria de una partícula en movimiento, entonces esta se encuentra en el primer cuadrante cuando $c_{1} > 0$ y el el tercero cuando $c_{1} < 0$. "
   ]
  },
  {
   "cell_type": "code",
   "execution_count": 28,
   "metadata": {
    "scrolled": true,
    "slideshow": {
     "slide_type": "slide"
    }
   },
   "outputs": [
    {
     "data": {
      "application/vnd.jupyter.widget-view+json": {
       "model_id": "e9b60af40fd6451f94e67ec79d353ebf",
       "version_major": 2,
       "version_minor": 0
      },
      "text/plain": [
       "interactive(children=(IntSlider(value=1, description='c1', max=1, min=-1), FloatSlider(value=0.0, description=…"
      ]
     },
     "metadata": {},
     "output_type": "display_data"
    },
    {
     "data": {
      "text/plain": [
       "<function __main__.grafica(c1=1, t=0)>"
      ]
     },
     "execution_count": 28,
     "metadata": {},
     "output_type": "execute_result"
    }
   ],
   "source": [
    "import numpy as np \n",
    "import matplotlib.pyplot as plt \n",
    "from ipywidgets import interact \n",
    "a,b=-3,3\n",
    "def grafica(c1 = 1,t = 0):\n",
    "    x1=np.linspace(-10,10)\n",
    "    x2 = np.sqrt(2)*x1\n",
    "    fig,ax=plt.subplots(1,1,figsize=(6,6))\n",
    "    ax.plot(x1,x2)\n",
    "    ax.plot([c1*np.exp(-t)],[np.sqrt(2)*c1*np.exp(-t)],'ro')\n",
    "    c,d,e,f = a,b,a,b        # dimensiones del rectángulo de visualización\n",
    "    ax.plot([0,0],[e,f])     # trazo del eje y\n",
    "    ax.plot([a,b],[0,0])     # trazo del eje x\n",
    "    ax.axis([c,d,e,f])  \n",
    "    plt.grid() \n",
    "    plt.show() \n",
    "interact(grafica,c1=(-1,1),t=(0,2,0.1))    "
   ]
  },
  {
   "cell_type": "code",
   "execution_count": 29,
   "metadata": {
    "slideshow": {
     "slide_type": "slide"
    }
   },
   "outputs": [
    {
     "data": {
      "application/vnd.jupyter.widget-view+json": {
       "model_id": "4f01a1b6575a45fd95764c074e60599c",
       "version_major": 2,
       "version_minor": 0
      },
      "text/plain": [
       "interactive(children=(IntSlider(value=1, description='c1', max=1, min=-1), IntSlider(value=1, description='c2'…"
      ]
     },
     "metadata": {},
     "output_type": "display_data"
    },
    {
     "data": {
      "text/plain": [
       "<function __main__.grafica(c1=1, c2=1, t=0)>"
      ]
     },
     "execution_count": 29,
     "metadata": {},
     "output_type": "execute_result"
    }
   ],
   "source": [
    "import numpy as np \n",
    "import matplotlib.pyplot as plt \n",
    "from ipywidgets import interact \n",
    "a=2.5\n",
    "def grafica(c1 = 1,c2 = 1,t = 0):\n",
    "    x11 = np.linspace(-a,a)\n",
    "    x12 = (-1/np.sqrt(2))*x11\n",
    "    x21 = x11 \n",
    "    x22 = np.sqrt(2)*x21\n",
    "    fig,ax=plt.subplots(1,1,figsize=(6,6))\n",
    "    ax.plot(x11,x12,'b')\n",
    "    ax.plot(x21,x22,'g')\n",
    "    ax.set(xlabel='x1', ylabel='x2',\n",
    "       title='Plano x1x2')\n",
    "    ax.plot([-np.sqrt(2)*c1*np.exp(-4*t)+c2*np.exp(-t)],\n",
    "            [c1*np.exp(-4*t)+np.sqrt(2)*c2*np.exp(-t)],'ro')\n",
    "    ax.axis([-a,a,-a,a]) \n",
    "    plt.show() \n",
    "interact(grafica,c1=(-1,1),c2=(-1,1),t=(0.01,3,0.01))  "
   ]
  },
  {
   "cell_type": "markdown",
   "metadata": {
    "slideshow": {
     "slide_type": "slide"
    }
   },
   "source": [
    "Cuando $c > 0$ la partícula se acerca al origen a  medida que $t$ crece. "
   ]
  },
  {
   "cell_type": "markdown",
   "metadata": {
    "slideshow": {
     "slide_type": "slide"
    }
   },
   "source": [
    "A continuación considérese $x = c_{2}x^{(2)}(t) = c_{2}\\xi^{(2)}e^{r_{2}t}$. "
   ]
  },
  {
   "cell_type": "markdown",
   "metadata": {
    "slideshow": {
     "slide_type": "slide"
    }
   },
   "source": [
    "$$ x = c_{2}x^{(2)}(t) = c_{2}\\begin{pmatrix} -\\sqrt{2} \\\\ 1 \\end{pmatrix}e^{-4t} $$\n"
   ]
  },
  {
   "cell_type": "markdown",
   "metadata": {
    "slideshow": {
     "slide_type": "slide"
    }
   },
   "source": [
    "$$x = \\begin{pmatrix} x_{1} \\\\ x_{2} \\end{pmatrix} = \\begin{pmatrix} -c_{2}\\sqrt{2}e^{-4t} \\\\ c_{2}e^{-4t} \\end{pmatrix}   $$"
   ]
  },
  {
   "cell_type": "markdown",
   "metadata": {
    "slideshow": {
     "slide_type": "slide"
    }
   },
   "source": [
    " \\begin{align*} \n",
    " x_{1} & = -c_{2}\\sqrt{2}e^{-4t} \\\\\n",
    " x_{2} & = c_{2}e^{-4t}\n",
    " \\end{align*} "
   ]
  },
  {
   "cell_type": "markdown",
   "metadata": {
    "slideshow": {
     "slide_type": "slide"
    }
   },
   "source": [
    "Dividiendo lado a lado obtenemos: \n",
    "\n",
    "$$\\frac{x_{1}}{x_{2}} = \\frac{-\\sqrt{2}}{1} \\quad \\iff \\quad x_{2} = -\\frac{1}{\\sqrt{2}}x_{1} $$\n"
   ]
  },
  {
   "cell_type": "code",
   "execution_count": 30,
   "metadata": {
    "slideshow": {
     "slide_type": "slide"
    }
   },
   "outputs": [
    {
     "data": {
      "application/vnd.jupyter.widget-view+json": {
       "model_id": "86c105c5f2be410584ac6183766508ed",
       "version_major": 2,
       "version_minor": 0
      },
      "text/plain": [
       "interactive(children=(IntSlider(value=1, description='c1', max=1, min=-1, step=2), FloatSlider(value=0.0, desc…"
      ]
     },
     "metadata": {},
     "output_type": "display_data"
    },
    {
     "data": {
      "text/plain": [
       "<function __main__.grafica(c1=1, t=0)>"
      ]
     },
     "execution_count": 30,
     "metadata": {},
     "output_type": "execute_result"
    }
   ],
   "source": [
    "import numpy as np \n",
    "import matplotlib.pyplot as plt \n",
    "from ipywidgets import interact \n",
    "a,b=-2,2\n",
    "def grafica(c1 = 1,t = 0):\n",
    "    x1=np.linspace(-10,10)\n",
    "    x2 = (-1/np.sqrt(2))*x1\n",
    "    fig,ax=plt.subplots(1,1,figsize=(6,6))\n",
    "    ax.plot(x1,x2)\n",
    "    ax.plot([-np.sqrt(2)*c1*np.exp(-4*t)],[c1*np.exp(-4*t)],'ro')\n",
    "    c,d,e,f = a,b,a,b        # dimensiones del rectángulo de visualización\n",
    "    ax.plot([0,0],[e,f])     # trazo del eje y\n",
    "    ax.plot([a,b],[0,0])     # trazo del eje x\n",
    "    ax.axis([c,d,e,f])  \n",
    "    plt.grid() \n",
    "    plt.show() \n",
    "interact(grafica,c1=(-1,1,2),t=(0,1,0.05))     "
   ]
  },
  {
   "cell_type": "markdown",
   "metadata": {
    "slideshow": {
     "slide_type": "slide"
    }
   },
   "source": [
    "Esta solución está sobre la recta $x_{2} = -\\frac{1}{\\sqrt{2}}x_{1}$ cuya dirección está determinada por el eigenvector $\\xi^{(2)}$. "
   ]
  },
  {
   "cell_type": "markdown",
   "metadata": {
    "slideshow": {
     "slide_type": "slide"
    }
   },
   "source": [
    "Esta solución está en el segundo cuadrante cuando $c_{2} > 0$ y en el segundo cuando $c_{2} < 0$. "
   ]
  },
  {
   "cell_type": "markdown",
   "metadata": {
    "slideshow": {
     "slide_type": "slide"
    }
   },
   "source": [
    "En los dos casos la partícula se desplaza hacia el origen a medida que $t$ crece. "
   ]
  },
  {
   "cell_type": "markdown",
   "metadata": {
    "slideshow": {
     "slide_type": "slide"
    }
   },
   "source": [
    "La solución de \n",
    "\n",
    "$$ x' = \\begin{pmatrix} -3 & \\sqrt{2} \\\\ \\sqrt{2} & -2 \\end{pmatrix}x $$\n",
    "\n",
    "es la combinación de $x^{(1)}(t)$ y $x^{(2)}(t)$ \n",
    "\n",
    "$$ x = c_{1}x^{(1)}(t) + c_{2}x^{(2)}(t) = c_{1}\\begin{pmatrix} 1 \\\\ \\sqrt{2} \\end{pmatrix}e^{-t} + c_{2}\\begin{pmatrix} -\\sqrt{2} \\\\ 1 \\end{pmatrix}e^{-4t} $$"
   ]
  },
  {
   "cell_type": "markdown",
   "metadata": {
    "slideshow": {
     "slide_type": "slide"
    }
   },
   "source": [
    "Cuando $t \\to \\infty$, la solución $x^{(2)}(t)$ es despreciable en comparación con $x^{(1)}(t)$. "
   ]
  },
  {
   "cell_type": "markdown",
   "metadata": {
    "slideshow": {
     "slide_type": "slide"
    }
   },
   "source": [
    "Por tanto, a menos que $c_{1} = 0$, la solución \n",
    "$$ x = c_{1}x^{(1)}(t) + c_{2}x^{(2)}(t) = c_{1}\\begin{pmatrix} 1 \\\\ \\sqrt{2} \\end{pmatrix}e^{-t} + c_{2}\\begin{pmatrix} -\\sqrt{2} \\\\ 1 \\end{pmatrix}e^{-4t} $$\n",
    "tiende al origen tangente a la recta $x_{2} = \\sqrt{2}x_{2}$. "
   ]
  },
  {
   "cell_type": "markdown",
   "metadata": {
    "slideshow": {
     "slide_type": "slide"
    }
   },
   "source": [
    "El patrón de trayectorias que se muestre en esta figuras es típico de todos los sistemas de segundo orden $x' = Ax$ para los que los eigenvalores son reales, diferentes y desl mismo signo. "
   ]
  },
  {
   "cell_type": "markdown",
   "metadata": {
    "slideshow": {
     "slide_type": "slide"
    }
   },
   "source": [
    "El origen se conoce como nodo de un sistema de este tipo. "
   ]
  },
  {
   "cell_type": "code",
   "execution_count": null,
   "metadata": {
    "slideshow": {
     "slide_type": "skip"
    }
   },
   "outputs": [],
   "source": []
  },
  {
   "cell_type": "markdown",
   "metadata": {
    "slideshow": {
     "slide_type": "slide"
    }
   },
   "source": [
    "## Trazado del movimiento de la partícula (Interpretación de las soluciones como trayectorias de una partícula en movimiento)"
   ]
  },
  {
   "cell_type": "code",
   "execution_count": 31,
   "metadata": {
    "slideshow": {
     "slide_type": "slide"
    }
   },
   "outputs": [
    {
     "data": {
      "application/vnd.jupyter.widget-view+json": {
       "model_id": "81aaba493eb148abafb6577972eec0f8",
       "version_major": 2,
       "version_minor": 0
      },
      "text/plain": [
       "interactive(children=(IntSlider(value=1, description='c1', max=1, min=-1), IntSlider(value=1, description='c2'…"
      ]
     },
     "metadata": {},
     "output_type": "display_data"
    },
    {
     "data": {
      "text/plain": [
       "<function __main__.grafica(c1=1, c2=1, t=0)>"
      ]
     },
     "execution_count": 31,
     "metadata": {},
     "output_type": "execute_result"
    }
   ],
   "source": [
    "import numpy as np \n",
    "import matplotlib.pyplot as plt \n",
    "from ipywidgets import interact \n",
    "a,b=-2.5,2.5 \n",
    "def grafica(c1 = 1,c2 = 1,t = 0):\n",
    "    x11=np.linspace(a,b)\n",
    "    x12 = np.sqrt(2)*x11\n",
    "    x21 = x11 \n",
    "    x22 = -(1/np.sqrt(2))*x21\n",
    "    fig,ax=plt.subplots(1,1,figsize=(6,6))\n",
    "    ax.plot(x11,x12,x21,x22) \n",
    "    ax.plot([c1*np.exp(-t)-np.sqrt(2)*c2*np.exp(-4*t)],[np.sqrt(2)*c1*np.exp(-t)+c2*np.exp(-4*t)],'go')\n",
    "    ax.axis([a,b,a,b]) # rectángulo de visualización \n",
    "    ax.grid() \n",
    "    plt.show() \n",
    "interact(grafica,c1=(-1,1),c2=(-1,1),t=(0,3,0.05))    "
   ]
  },
  {
   "cell_type": "markdown",
   "metadata": {
    "slideshow": {
     "slide_type": "slide"
    }
   },
   "source": [
    "## Trazo de algunas trayectorias o curvas integrales "
   ]
  },
  {
   "cell_type": "markdown",
   "metadata": {
    "slideshow": {
     "slide_type": "slide"
    }
   },
   "source": [
    "$$ x = c_{1}x^{(1)}(t) + c_{2}x^{(2)}(t) = c_{1}\\begin{pmatrix} 1 \\\\ \\sqrt{2} \\end{pmatrix}e^{-t} + c_{2}\\begin{pmatrix} -\\sqrt{2} \\\\ 1 \\end{pmatrix}e^{-4t} $$"
   ]
  },
  {
   "cell_type": "code",
   "execution_count": 32,
   "metadata": {
    "slideshow": {
     "slide_type": "slide"
    }
   },
   "outputs": [
    {
     "data": {
      "image/png": "[encoded data removed]",
      "text/plain": [
       "<Figure size 432x288 with 1 Axes>"
      ]
     },
     "metadata": {
      "needs_background": "light"
     },
     "output_type": "display_data"
    }
   ],
   "source": [
    "import numpy as np\n",
    "import matplotlib.pyplot as plt \n",
    "for c1 in [-2,-1,0,1,2]:\n",
    "    for c2 in [-2,-1,0,1,2]:\n",
    "        T=np.linspace(0,2) \n",
    "        x1=[c1*np.exp(-t)-np.sqrt(2)*c2*np.exp(-4*t) for t in T]\n",
    "        x2=[np.sqrt(2)*c1*np.exp(-t)+c2*np.exp(-4*t) for t in T]\n",
    "        plt.plot(x1,x2)\n",
    "plt.savefig('')        \n",
    "plt.show()         "
   ]
  },
  {
   "cell_type": "markdown",
   "metadata": {
    "slideshow": {
     "slide_type": "slide"
    }
   },
   "source": [
    "Si los eigenvalores fuesen positivos en vez de negativos, las trayectorias serían semejantes, pero estarían recorridas hacia afuera. "
   ]
  },
  {
   "cell_type": "markdown",
   "metadata": {
    "slideshow": {
     "slide_type": "slide"
    }
   },
   "source": [
    "Aunque la figura anterior se obtuvo en computadora, obsérvese que es posible trazar rápidamente a mano un esquema cualitativamente correcto de las trayectorias, con base en el conocimiento de los eigenvalores y los eigenvectores. "
   ]
  },
  {
   "cell_type": "markdown",
   "metadata": {
    "slideshow": {
     "slide_type": "slide"
    }
   },
   "source": [
    "## Gráficas de $x_{1}$ contra $t$ "
   ]
  },
  {
   "cell_type": "markdown",
   "metadata": {
    "slideshow": {
     "slide_type": "slide"
    }
   },
   "source": [
    "En la siguiente figura se muestren algunas gráficas típicas de $x_{1}$ contra $t$"
   ]
  },
  {
   "cell_type": "code",
   "execution_count": 33,
   "metadata": {
    "slideshow": {
     "slide_type": "slide"
    }
   },
   "outputs": [
    {
     "data": {
      "image/png": "[encoded data removed]",
      "text/plain": [
       "<Figure size 432x288 with 1 Axes>"
      ]
     },
     "metadata": {
      "needs_background": "light"
     },
     "output_type": "display_data"
    }
   ],
   "source": [
    "import numpy as np\n",
    "import matplotlib.pyplot as plt \n",
    "for c1 in [-1,0,1]:\n",
    "    for c2 in [-1,0,1]:\n",
    "        T=np.linspace(0,3)  \n",
    "        x1=[c1*np.exp(-t)-np.sqrt(2)*c2*np.exp(-4*t) for t in T]\n",
    "        x2=[np.sqrt(2)*c1*np.exp(-t)+c2*np.exp(-4*t) for t in T]\n",
    "        plt.plot(T,x1)\n",
    "        plt.grid() \n",
    "plt.show()         "
   ]
  },
  {
   "cell_type": "markdown",
   "metadata": {
    "slideshow": {
     "slide_type": "slide"
    }
   },
   "source": [
    "Obsérvese que cada una de las gráficas tiende asintóticamente al eje $t$ cuando $t$ crece, lo cual corresponde a una trayectoria que tiende al origen en las figuras anteriores. "
   ]
  },
  {
   "cell_type": "markdown",
   "metadata": {
    "slideshow": {
     "slide_type": "slide"
    }
   },
   "source": [
    "El comportamiento de $x_{2}$ como función de $t$ es semejente:\n"
   ]
  },
  {
   "cell_type": "code",
   "execution_count": 34,
   "metadata": {
    "slideshow": {
     "slide_type": "slide"
    }
   },
   "outputs": [
    {
     "data": {
      "image/png": "[encoded data removed]",
      "text/plain": [
       "<Figure size 432x288 with 1 Axes>"
      ]
     },
     "metadata": {
      "needs_background": "light"
     },
     "output_type": "display_data"
    }
   ],
   "source": [
    "import numpy as np\n",
    "import matplotlib.pyplot as plt \n",
    "for c1 in [-1,0,1]:\n",
    "    for c2 in [-1,0,1]:\n",
    "        T=np.linspace(0,3)  \n",
    "        x1=[c1*np.exp(-t)-np.sqrt(2)*c2*np.exp(-4*t) for t in T]\n",
    "        x2=[np.sqrt(2)*c1*np.exp(-t)+c2*np.exp(-4*t) for t in T]\n",
    "        plt.plot(T,x2)\n",
    "        plt.grid() \n",
    "plt.show()       "
   ]
  },
  {
   "cell_type": "code",
   "execution_count": null,
   "metadata": {
    "slideshow": {
     "slide_type": "slide"
    }
   },
   "outputs": [],
   "source": []
  },
  {
   "cell_type": "markdown",
   "metadata": {
    "slideshow": {
     "slide_type": "slide"
    }
   },
   "source": [
    "## Ejemplo 3\n",
    "Página 394"
   ]
  },
  {
   "cell_type": "markdown",
   "metadata": {
    "slideshow": {
     "slide_type": "slide"
    }
   },
   "source": [
    "Encontrar la solución general de \n",
    "\n",
    "$$ x' = \\begin{pmatrix} 0 & 1 & 1 \\\\ 1 & 0 & 1 \\\\ 1 & 1 & 0 \\end{pmatrix}x $$\n"
   ]
  },
  {
   "cell_type": "markdown",
   "metadata": {
    "slideshow": {
     "slide_type": "slide"
    }
   },
   "source": [
    "De nuevo se observa se observa que la matriz de coeficientes es real y simétrica. "
   ]
  },
  {
   "cell_type": "markdown",
   "metadata": {
    "slideshow": {
     "slide_type": "slide"
    }
   },
   "source": [
    "Los eigen valores y los eigenvectores se encontraron en el ejemplo $5$ de la sección 7.3 (Página ); a saber\n",
    "\n",
    "$$ r_{1} = 2, \\quad \\quad \\xi^{(1)} = \\begin{pmatrix} 1 \\\\ 1 \\\\ 1 \\end{pmatrix} $$\n"
   ]
  },
  {
   "cell_type": "markdown",
   "metadata": {
    "slideshow": {
     "slide_type": "slide"
    }
   },
   "source": [
    "$$ r_{2} = -1, \\quad \\quad \\xi^{(2)} = \\begin{pmatrix} 1 \\\\ 0 \\\\ -1 \\end{pmatrix}, \\quad \\quad \\quad r_{1} = -1, \\quad \\quad \\xi^{(1)} = \\begin{pmatrix} 0 \\\\ 1 \\\\ -1 \\end{pmatrix}  $$"
   ]
  },
  {
   "cell_type": "markdown",
   "metadata": {
    "slideshow": {
     "slide_type": "slide"
    }
   },
   "source": [
    "## Determinación de los eigenvalores y los eigenvectores con numpy "
   ]
  },
  {
   "cell_type": "code",
   "execution_count": 35,
   "metadata": {
    "slideshow": {
     "slide_type": "slide"
    }
   },
   "outputs": [
    {
     "data": {
      "text/plain": [
       "(array([-1.,  2., -1.]), array([[-0.81649658,  0.57735027,  0.19219669],\n",
       "        [ 0.40824829,  0.57735027, -0.7833358 ],\n",
       "        [ 0.40824829,  0.57735027,  0.59113912]]))"
      ]
     },
     "execution_count": 35,
     "metadata": {},
     "output_type": "execute_result"
    }
   ],
   "source": [
    "from numpy import linalg as LA\n",
    "w, v = LA.eig(np.array([[0,1,1],[1,0,1],[1,1,0]])) \n",
    "w,v "
   ]
  },
  {
   "cell_type": "markdown",
   "metadata": {
    "slideshow": {
     "slide_type": "slide"
    }
   },
   "source": [
    "De donde un conjunto fundamental de soluciones es\n",
    "\n",
    "$$ x^{(1)}(t) = \\begin{pmatrix} 1 \\\\ 1 \\\\ 1 \\end{pmatrix}e^{2t}, \\quad \\quad x^{(2)}(t) = \\begin{pmatrix} 1 \\\\ 0 \\\\ -1 \\end{pmatrix}e^{-t}, \\quad \\quad x^{(3)}(t) = \\begin{pmatrix} 0 \\\\ 1 \\\\ -1 \\end{pmatrix}e^{-t} $$\n"
   ]
  },
  {
   "cell_type": "markdown",
   "metadata": {
    "slideshow": {
     "slide_type": "slide"
    }
   },
   "source": [
    "La solución general es \n",
    "\n",
    "$$ x = c_{1}\\begin{pmatrix} 1 \\\\ 1 \\\\ 1 \\end{pmatrix}e^{2t} + c_{2}\\begin{pmatrix} 1 \\\\ 0 \\\\ -1 \\end{pmatrix}e^{-t} + c_{3}\\begin{pmatrix} 0 \\\\ 1 \\\\ -1 \\end{pmatrix}e^{-t} $$\n",
    "\n"
   ]
  },
  {
   "cell_type": "markdown",
   "metadata": {
    "slideshow": {
     "slide_type": "slide"
    }
   },
   "source": [
    "Este ejemplo ilustra el hecho de que aun cuando un eigenvalor ($r = -1$) tiene multiplicidad $2$, sigue siemdo posible encontrar dos eigenvectores linealmente independientes $\\xi^{(1)}$ y $\\xi^{(2)}$ y, como consecuencia, construir la solución general anterior. "
   ]
  },
  {
   "cell_type": "code",
   "execution_count": null,
   "metadata": {
    "slideshow": {
     "slide_type": "skip"
    }
   },
   "outputs": [],
   "source": []
  },
  {
   "cell_type": "markdown",
   "metadata": {
    "slideshow": {
     "slide_type": "slide"
    }
   },
   "source": [
    "# Sistemas no hermitianos"
   ]
  },
  {
   "cell_type": "markdown",
   "metadata": {
    "slideshow": {
     "slide_type": "slide"
    }
   },
   "source": [
    "Si la matriz de coeficientes del sistema \n",
    "\n",
    "$$ x' = Ax $$\n",
    "\n",
    "no es hermitiana la situación referente a la solución es más complicada. \n"
   ]
  },
  {
   "cell_type": "markdown",
   "metadata": {
    "slideshow": {
     "slide_type": "slide"
    }
   },
   "source": [
    "Supóngase primero que $A$ es real, entonces para los eigenvalores de $A$ hay tres posibilidades: \n",
    "\n",
    "\n"
   ]
  },
  {
   "cell_type": "markdown",
   "metadata": {
    "slideshow": {
     "slide_type": "slide"
    }
   },
   "source": [
    "* Todos los eigenvalores son reales y distintos.\n",
    "* Algunos eigenvalores ocurren en parejas conjugadas complejas\n",
    "* Algunos eigenvalores se repiten. "
   ]
  },
  {
   "cell_type": "markdown",
   "metadata": {
    "slideshow": {
     "slide_type": "slide"
    }
   },
   "source": [
    "El primer caso no presenta dificultades. "
   ]
  },
  {
   "cell_type": "code",
   "execution_count": null,
   "metadata": {
    "slideshow": {
     "slide_type": "skip"
    }
   },
   "outputs": [],
   "source": []
  },
  {
   "cell_type": "markdown",
   "metadata": {
    "slideshow": {
     "slide_type": "slide"
    }
   },
   "source": [
    "# numpy.linalg.eig"
   ]
  },
  {
   "cell_type": "markdown",
   "metadata": {
    "slideshow": {
     "slide_type": "slide"
    }
   },
   "source": [
    "[numpy.linalg.eig](https://numpy.org/doc/stable/reference/generated/numpy.linalg.eig.html)"
   ]
  },
  {
   "cell_type": "markdown",
   "metadata": {
    "lang": "es",
    "slideshow": {
     "slide_type": "slide"
    }
   },
   "source": [
    "`linalg.eig(a)`  \n",
    "Calcule los valores propios y los vectores propios rectos de una matriz cuadrada."
   ]
  },
  {
   "cell_type": "markdown",
   "metadata": {
    "lang": "es",
    "slideshow": {
     "slide_type": "slide"
    }
   },
   "source": [
    "### Parámetros\n",
    "una matriz (…, M, M)  \n",
    "Matrices para las que se calcularán los valores propios y los vectores propios rectos"
   ]
  },
  {
   "cell_type": "markdown",
   "metadata": {
    "lang": "es",
    "slideshow": {
     "slide_type": "slide"
    }
   },
   "source": [
    "### Devoluciones\n",
    "w (…, M) matriz  \n",
    "Los valores propios, cada uno repetido según su multiplicidad. Los valores propios no están necesariamente ordenados. La matriz resultante será de tipo complejo, a menos que la parte imaginaria sea cero, en cuyo caso se convertirá en un tipo real. Cuando a es real, los valores propios resultantes serán reales (0 parte imaginaria) u ocurrirán en pares conjugados"
   ]
  },
  {
   "cell_type": "markdown",
   "metadata": {
    "lang": "es",
    "slideshow": {
     "slide_type": "slide"
    }
   },
   "source": [
    "matriz `v(…, M, M)`  \n",
    "Los autovectores normalizados (unidad de \"longitud\"), de modo que la columna `v[:, i]` es el autovector correspondiente al autovalor `w[i]`."
   ]
  },
  {
   "cell_type": "markdown",
   "metadata": {
    "lang": "es",
    "slideshow": {
     "slide_type": "slide"
    }
   },
   "source": [
    "### Mensajes de error \n",
    "LinAlgError  \n",
    "Si el cálculo del valor propio no converge."
   ]
  },
  {
   "cell_type": "markdown",
   "metadata": {
    "lang": "es",
    "slideshow": {
     "slide_type": "slide"
    }
   },
   "source": [
    "## Ver también"
   ]
  },
  {
   "cell_type": "markdown",
   "metadata": {
    "lang": "es",
    "slideshow": {
     "slide_type": "slide"
    }
   },
   "source": [
    "`eigvals`  \n",
    "valores propios de una matriz no simétrica."
   ]
  },
  {
   "cell_type": "markdown",
   "metadata": {
    "lang": "es",
    "slideshow": {
     "slide_type": "slide"
    }
   },
   "source": [
    "`eigh`  \n",
    "valores propios y vectores propios de una matriz hermitiana (simétrica conjugada) simétrica o compleja real."
   ]
  },
  {
   "cell_type": "markdown",
   "metadata": {
    "lang": "es",
    "slideshow": {
     "slide_type": "slide"
    }
   },
   "source": [
    "`eigvalsh`  \n",
    "valores propios de una matriz hermitiana (simétrica conjugada) simétrica o compleja real."
   ]
  },
  {
   "cell_type": "markdown",
   "metadata": {
    "lang": "es",
    "slideshow": {
     "slide_type": "slide"
    }
   },
   "source": [
    "`scipy.linalg.eig`  \n",
    "Función similar en SciPy que también resuelve el problema de valores propios generalizados."
   ]
  },
  {
   "cell_type": "markdown",
   "metadata": {
    "lang": "es",
    "slideshow": {
     "slide_type": "slide"
    }
   },
   "source": [
    "`scipy.linalg.schur`  \n",
    "La mejor opción para matrices normales unitarias y otras no hermitianas."
   ]
  },
  {
   "cell_type": "code",
   "execution_count": null,
   "metadata": {
    "slideshow": {
     "slide_type": "skip"
    }
   },
   "outputs": [],
   "source": []
  },
  {
   "cell_type": "markdown",
   "metadata": {
    "slideshow": {
     "slide_type": "slide"
    }
   },
   "source": [
    "## Notes"
   ]
  },
  {
   "cell_type": "markdown",
   "metadata": {
    "lang": "es",
    "slideshow": {
     "slide_type": "slide"
    }
   },
   "source": [
    "Nuevo en la versión 1.8.0."
   ]
  },
  {
   "cell_type": "markdown",
   "metadata": {
    "lang": "es",
    "slideshow": {
     "slide_type": "slide"
    }
   },
   "source": [
    "Se aplican las reglas de transmisión; consulte la documentación de `numpy.linalg` para obtener más detalles."
   ]
  },
  {
   "cell_type": "markdown",
   "metadata": {
    "lang": "es",
    "slideshow": {
     "slide_type": "slide"
    }
   },
   "source": [
    "Esto se implementa utilizando las rutinas _geev LAPACK que calculan los valores propios y los vectores propios de las matrices cuadradas generales."
   ]
  },
  {
   "cell_type": "markdown",
   "metadata": {
    "lang": "es",
    "slideshow": {
     "slide_type": "slide"
    }
   },
   "source": [
    "El número $w$ es un valor propio de a si existe un vector $v$ tal que a @v = w *v. Por lo tanto, las matrices a, w y v satisfacen las ecuaciones $a @ v[:, i] = w[ i]* v[:, i]$ para $i \\in \\{0,...,M-1\\}$."
   ]
  },
  {
   "cell_type": "code",
   "execution_count": null,
   "metadata": {
    "slideshow": {
     "slide_type": "slide"
    }
   },
   "outputs": [],
   "source": []
  },
  {
   "cell_type": "markdown",
   "metadata": {
    "lang": "es",
    "slideshow": {
     "slide_type": "slide"
    }
   },
   "source": [
    "La matriz $v$ de vectores propios puede no tener el rango máximo, es decir, algunas de las columnas pueden ser linealmente dependientes, aunque el error de redondeo puede ocultar ese hecho. "
   ]
  },
  {
   "cell_type": "markdown",
   "metadata": {
    "lang": "es",
    "slideshow": {
     "slide_type": "slide"
    }
   },
   "source": [
    "Si los autovalores son todos diferentes, entonces, teóricamente, los autovectores son linealmente independientes y a se puede diagonalizar mediante una transformación de similitud usando $v$, es decir, $inv(v) @ a @ v$ es diagonal."
   ]
  },
  {
   "cell_type": "markdown",
   "metadata": {
    "lang": "es",
    "slideshow": {
     "slide_type": "slide"
    }
   },
   "source": [
    "Para matrices normales no hermitianas, se prefiere la función SciPy `scipy.linalg.schur` porque se garantiza que la matriz $v$ es unitaria, lo que no es el caso cuando se usa `eig`. La factorización de Schur produce una matriz triangular superior en lugar de una matriz diagonal, pero para las matrices normales solo se necesita la diagonal de la matriz triangular superior, el resto es error de redondeo."
   ]
  },
  {
   "cell_type": "markdown",
   "metadata": {
    "lang": "es",
    "slideshow": {
     "slide_type": "slide"
    }
   },
   "source": [
    "Finalmente, se enfatiza que $v$ consta de los vectores propios de la derecha (como en el lado derecho) de $a$."
   ]
  },
  {
   "cell_type": "markdown",
   "metadata": {
    "lang": "es",
    "slideshow": {
     "slide_type": "slide"
    }
   },
   "source": [
    "Un vector y que satisface $y.T @ a = z * y.T$ para algún número $z$ se llama vector propio izquierdo de $a$ y, en general, los vectores propios izquierdo y derecho de la matriz $a$ no son necesariamente las transposiciones (quizás conjugadas) entre sí."
   ]
  },
  {
   "cell_type": "markdown",
   "metadata": {
    "slideshow": {
     "slide_type": "slide"
    }
   },
   "source": [
    "## References\n",
    "\n",
    "G. Strang, Linear Algebra and Its Applications, 2nd Ed., Orlando, FL, Academic Press, Inc., 1980, Various pp."
   ]
  },
  {
   "cell_type": "code",
   "execution_count": null,
   "metadata": {
    "slideshow": {
     "slide_type": "skip"
    }
   },
   "outputs": [],
   "source": []
  },
  {
   "cell_type": "markdown",
   "metadata": {
    "slideshow": {
     "slide_type": "slide"
    }
   },
   "source": [
    "## Ejemplos "
   ]
  },
  {
   "cell_type": "code",
   "execution_count": null,
   "metadata": {},
   "outputs": [],
   "source": []
  },
  {
   "cell_type": "code",
   "execution_count": null,
   "metadata": {},
   "outputs": [],
   "source": []
  },
  {
   "cell_type": "code",
   "execution_count": null,
   "metadata": {},
   "outputs": [],
   "source": []
  },
  {
   "cell_type": "code",
   "execution_count": null,
   "metadata": {},
   "outputs": [],
   "source": []
  },
  {
   "cell_type": "code",
   "execution_count": null,
   "metadata": {},
   "outputs": [],
   "source": []
  },
  {
   "cell_type": "code",
   "execution_count": null,
   "metadata": {},
   "outputs": [],
   "source": []
  },
  {
   "cell_type": "markdown",
   "metadata": {
    "slideshow": {
     "slide_type": "slide"
    }
   },
   "source": [
    "# numpy.linalg.eigh"
   ]
  },
  {
   "cell_type": "markdown",
   "metadata": {
    "slideshow": {
     "slide_type": "slide"
    }
   },
   "source": [
    "[numpy.linalg.eigh](https://numpy.org/doc/stable/reference/generated/numpy.linalg.eigh.html#numpy.linalg.eigh)"
   ]
  },
  {
   "cell_type": "markdown",
   "metadata": {
    "slideshow": {
     "slide_type": "slide"
    }
   },
   "source": [
    "`linalg.eigh(a, UPLO='L')`"
   ]
  },
  {
   "cell_type": "markdown",
   "metadata": {
    "lang": "es",
    "slideshow": {
     "slide_type": "slide"
    }
   },
   "source": [
    "Devuelve los autovalores y autovectores de una matriz hermitiana compleja (simétrica conjugada) o una matriz simétrica real."
   ]
  },
  {
   "cell_type": "markdown",
   "metadata": {
    "lang": "es",
    "slideshow": {
     "slide_type": "slide"
    }
   },
   "source": [
    "Devuelve dos objetos, una matriz 1-D que contiene los valores propios de a, y una matriz o matriz cuadrada 2-D (según el tipo de entrada) de los vectores propios correspondientes (en columnas)."
   ]
  },
  {
   "cell_type": "markdown",
   "metadata": {
    "lang": "es",
    "slideshow": {
     "slide_type": "slide"
    }
   },
   "source": [
    "## Parámetros\n",
    "`una matriz (…, M, M )`  \n",
    "Matrices simétricas hermitianas o reales cuyos autovalores y autovectores deben ser calculados."
   ]
  },
  {
   "cell_type": "markdown",
   "metadata": {
    "lang": "es",
    "slideshow": {
     "slide_type": "slide"
    }
   },
   "source": [
    "UPLO {'L', 'U'}, opcional  \n",
    "Especifica si el cálculo se realiza con la parte triangular inferior de a (\"L\", predeterminado) o la parte triangular superior (\"U\"). Independientemente de este valor, solo las partes reales de la diagonal se considerarán en el cálculo para preservar la noción de matriz hermitiana. Por tanto, se deduce que la parte imaginaria de la diagonal siempre se tratará como cero."
   ]
  },
  {
   "cell_type": "markdown",
   "metadata": {
    "lang": "es",
    "slideshow": {
     "slide_type": "slide"
    }
   },
   "source": [
    "## Devoluciones  "
   ]
  },
  {
   "cell_type": "markdown",
   "metadata": {
    "lang": "es",
    "slideshow": {
     "slide_type": "slide"
    }
   },
   "source": [
    "`w (…, M)` ndarray  \n",
    "Los valores propios en orden ascendente, cada uno repetido según su multiplicidad."
   ]
  },
  {
   "cell_type": "markdown",
   "metadata": {
    "lang": "es",
    "slideshow": {
     "slide_type": "slide"
    }
   },
   "source": [
    "`v {(…, M, M) ndarray, (…, M, M) matriz}`  \n",
    "La columna `v[:, i]` es el autovector normalizado correspondiente al autovalor `w [i]`.  \n",
    "Devolverá un objeto de matriz si $a$ es un objeto de matriz."
   ]
  },
  {
   "cell_type": "markdown",
   "metadata": {
    "lang": "es",
    "slideshow": {
     "slide_type": "slide"
    }
   },
   "source": [
    "Sube  \n",
    "`LinAlgError`  \n",
    "Si el cálculo del valor propio no converge."
   ]
  },
  {
   "cell_type": "markdown",
   "metadata": {
    "lang": "es",
    "slideshow": {
     "slide_type": "slide"
    }
   },
   "source": [
    "## Ver también"
   ]
  },
  {
   "cell_type": "markdown",
   "metadata": {
    "slideshow": {
     "slide_type": "slide"
    }
   },
   "source": [
    "`eigvalsh`    \n",
    "eigenvalues of real symmetric or complex Hermitian (conjugate symmetric) arrays."
   ]
  },
  {
   "cell_type": "markdown",
   "metadata": {
    "slideshow": {
     "slide_type": "slide"
    }
   },
   "source": [
    "eig  \n",
    "eigenvalues and right eigenvectors for non-symmetric arrays."
   ]
  },
  {
   "cell_type": "markdown",
   "metadata": {
    "lang": "es",
    "slideshow": {
     "slide_type": "slide"
    }
   },
   "source": [
    "`eigvals`  \n",
    "valores propios de matrices no simétricas."
   ]
  },
  {
   "cell_type": "markdown",
   "metadata": {
    "lang": "es",
    "slideshow": {
     "slide_type": "slide"
    }
   },
   "source": [
    "`scipy.linalg.eigh`  \n",
    "Función similar en SciPy (pero también resuelve el problema de valores propios generalizados)."
   ]
  },
  {
   "cell_type": "code",
   "execution_count": null,
   "metadata": {},
   "outputs": [],
   "source": []
  },
  {
   "cell_type": "code",
   "execution_count": null,
   "metadata": {},
   "outputs": [],
   "source": []
  },
  {
   "cell_type": "code",
   "execution_count": null,
   "metadata": {},
   "outputs": [],
   "source": []
  },
  {
   "cell_type": "code",
   "execution_count": null,
   "metadata": {},
   "outputs": [],
   "source": []
  },
  {
   "cell_type": "code",
   "execution_count": null,
   "metadata": {},
   "outputs": [],
   "source": []
  },
  {
   "cell_type": "code",
   "execution_count": null,
   "metadata": {},
   "outputs": [],
   "source": []
  },
  {
   "cell_type": "code",
   "execution_count": null,
   "metadata": {},
   "outputs": [],
   "source": []
  },
  {
   "cell_type": "code",
   "execution_count": null,
   "metadata": {},
   "outputs": [],
   "source": []
  }
 ],
 "metadata": {
  "celltoolbar": "Slideshow",
  "hide_input": false,
  "kernelspec": {
   "display_name": "Python 3",
   "language": "python",
   "name": "python3"
  },
  "language_info": {
   "codemirror_mode": {
    "name": "ipython",
    "version": 3
   },
   "file_extension": ".py",
   "mimetype": "text/x-python",
   "name": "python",
   "nbconvert_exporter": "python",
   "pygments_lexer": "ipython3",
   "version": "3.7.4"
  },
  "nbTranslate": {
   "displayLangs": [
    "*"
   ],
   "hotkey": "alt-t",
   "langInMainMenu": true,
   "sourceLang": "en",
   "targetLang": "es",
   "useGoogleTranslate": true
  },
  "rise": {
   "enable_chalkboard": true,
   "theme": "sky",
   "transition": "zoom"
  }
 },
 "nbformat": 4,
 "nbformat_minor": 2
}
