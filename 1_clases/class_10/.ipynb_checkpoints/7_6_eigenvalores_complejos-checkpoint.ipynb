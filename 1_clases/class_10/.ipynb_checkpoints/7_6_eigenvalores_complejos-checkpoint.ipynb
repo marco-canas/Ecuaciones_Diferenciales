{
 "cells": [
  {
   "cell_type": "markdown",
   "metadata": {
    "slideshow": {
     "slide_type": "slide"
    }
   },
   "source": [
    "# Clase 10\n",
    "## Clase 2 de preparación parcial 3"
   ]
  },
  {
   "cell_type": "markdown",
   "metadata": {
    "slideshow": {
     "slide_type": "slide"
    }
   },
   "source": [
    "### Sección 7.6 del Boyce DiPrima \n",
    "#### Eigen valores complejos \n",
    "Página 398"
   ]
  },
  {
   "cell_type": "markdown",
   "metadata": {
    "slideshow": {
     "slide_type": "slide"
    }
   },
   "source": [
    "En esta sección nuevamente se considera un sistema de $n$ ecuaciones lineales homogéneas con coeficientes constantes \n",
    "\n",
    "$$ x' = Ax $$\n",
    "en donde ahora se supone que la matriz de coeficientes $A$ es de valores reales. "
   ]
  },
  {
   "cell_type": "markdown",
   "metadata": {
    "slideshow": {
     "slide_type": "slide"
    }
   },
   "source": [
    "Si se buscan soluciones de la forma \n",
    "\n",
    "$$ x = \\xi e^{rt}, $$\n",
    "\n",
    "entonces se concluye como en la sección 7.5 que $r$ debe ser un eigenvalor y $\\xi$ un eigenvector correspondiente de la matriz de coeficientes $A$.  \n"
   ]
  },
  {
   "cell_type": "markdown",
   "metadata": {
    "slideshow": {
     "slide_type": "slide"
    }
   },
   "source": [
    "Recuérdese que los eigenvalores $r_{1}, \\ldots, r_{n}$ de $A$ son las raíces de la ecuación \n",
    "\n",
    "$$ det(A-rI) = 0, $$\n",
    "\n",
    "y los eigenvectores correspondientes satisfacen \n",
    "\n",
    "$$ (A-rI)\\xi = 0. $$\n"
   ]
  },
  {
   "cell_type": "markdown",
   "metadata": {
    "slideshow": {
     "slide_type": "slide"
    }
   },
   "source": [
    "Si $A$ es real, entonces los coeficientes de la ecuación polinomial $det(A-rI)=0$ para $r$ son reales y cuallesquiera eigenvalores complejos deben ocurrir en parejas conjugadas. "
   ]
  },
  {
   "cell_type": "markdown",
   "metadata": {
    "slideshow": {
     "slide_type": "slide"
    }
   },
   "source": [
    "Por ejemplo, si $r_{1} = \\lambda + i\\mu$, en donde $\\lambda$ y $\\mu$ son reales, es un eigenvalor de $A$, entonces también lo es $r_{2} = \\lambda - i\\mu$. "
   ]
  },
  {
   "cell_type": "markdown",
   "metadata": {
    "slideshow": {
     "slide_type": "slide"
    }
   },
   "source": [
    "Además, los eigenvectores correspondientes $\\xi^{(1)}$ y $\\xi^{(2)}$ ta,mbién son conjugados complejos. "
   ]
  },
  {
   "cell_type": "markdown",
   "metadata": {
    "slideshow": {
     "slide_type": "slide"
    }
   },
   "source": [
    "Para ver que que así es, supongase que $r_{1}$ y $\\xi^{(1)}$ satisfacen\n",
    "\n",
    "$$ (A - r_{1}I)\\xi^{(1)} = 0 $$\n"
   ]
  },
  {
   "cell_type": "markdown",
   "metadata": {
    "slideshow": {
     "slide_type": "slide"
    }
   },
   "source": [
    "Al tomar el conjugado complejo, "
   ]
  },
  {
   "cell_type": "code",
   "execution_count": null,
   "metadata": {
    "slideshow": {
     "slide_type": "slide"
    }
   },
   "outputs": [],
   "source": []
  },
  {
   "cell_type": "code",
   "execution_count": null,
   "metadata": {},
   "outputs": [],
   "source": []
  },
  {
   "cell_type": "markdown",
   "metadata": {
    "slideshow": {
     "slide_type": "slide"
    }
   },
   "source": [
    "## Ejemplo 1\n",
    "Página 399 "
   ]
  },
  {
   "cell_type": "markdown",
   "metadata": {
    "slideshow": {
     "slide_type": "slide"
    }
   },
   "source": [
    "Encontrar el conjunto fundamental de soluciones de valores reales del sistema \n",
    "\n",
    "$$ x' = \\begin{pmatrix} \n",
    "-\\frac{1}{2} & 1 \\\\ -1 & - \\frac{1}{2} \\end{pmatrix}x $$\n"
   ]
  },
  {
   "cell_type": "code",
   "execution_count": 1,
   "metadata": {
    "slideshow": {
     "slide_type": "slide"
    }
   },
   "outputs": [],
   "source": [
    "import numpy as np \n",
    "from numpy import linalg \n",
    "A = np.array([[-1/2 , 1],[-1,-1/2]])\n",
    "val,vec=np.linalg.eig(A) "
   ]
  },
  {
   "cell_type": "code",
   "execution_count": 2,
   "metadata": {
    "slideshow": {
     "slide_type": "slide"
    }
   },
   "outputs": [
    {
     "data": {
      "text/plain": [
       "(array([-0.5+1.j, -0.5-1.j]),\n",
       " array([[0.70710678+0.j        , 0.70710678-0.j        ],\n",
       "        [0.        +0.70710678j, 0.        -0.70710678j]]))"
      ]
     },
     "execution_count": 2,
     "metadata": {},
     "output_type": "execute_result"
    }
   ],
   "source": [
    "val,vec "
   ]
  },
  {
   "cell_type": "markdown",
   "metadata": {
    "slideshow": {
     "slide_type": "slide"
    }
   },
   "source": []
  },
  {
   "cell_type": "code",
   "execution_count": null,
   "metadata": {
    "slideshow": {
     "slide_type": "slide"
    }
   },
   "outputs": [],
   "source": []
  },
  {
   "cell_type": "code",
   "execution_count": null,
   "metadata": {
    "slideshow": {
     "slide_type": "slide"
    }
   },
   "outputs": [],
   "source": []
  },
  {
   "cell_type": "code",
   "execution_count": null,
   "metadata": {
    "slideshow": {
     "slide_type": "slide"
    }
   },
   "outputs": [],
   "source": []
  }
 ],
 "metadata": {
  "celltoolbar": "Slideshow",
  "hide_input": false,
  "kernelspec": {
   "display_name": "Python 3",
   "language": "python",
   "name": "python3"
  },
  "language_info": {
   "codemirror_mode": {
    "name": "ipython",
    "version": 3
   },
   "file_extension": ".py",
   "mimetype": "text/x-python",
   "name": "python",
   "nbconvert_exporter": "python",
   "pygments_lexer": "ipython3",
   "version": "3.7.4"
  },
  "nbTranslate": {
   "displayLangs": [
    "*"
   ],
   "hotkey": "alt-t",
   "langInMainMenu": true,
   "sourceLang": "en",
   "targetLang": "es",
   "useGoogleTranslate": true
  },
  "rise": {
   "enable_chalkboard": true,
   "theme": "sky",
   "transition": "zoom"
  }
 },
 "nbformat": 4,
 "nbformat_minor": 2
}
