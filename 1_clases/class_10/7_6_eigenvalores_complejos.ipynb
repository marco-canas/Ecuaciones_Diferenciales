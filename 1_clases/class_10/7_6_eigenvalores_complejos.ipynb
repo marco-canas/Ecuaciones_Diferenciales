{
 "cells": [
  {
   "cell_type": "markdown",
   "metadata": {
    "slideshow": {
     "slide_type": "slide"
    }
   },
   "source": [
    "# Clase 10\n",
    "## Clase 2 de preparación parcial 3"
   ]
  },
  {
   "cell_type": "markdown",
   "metadata": {
    "slideshow": {
     "slide_type": "slide"
    }
   },
   "source": [
    "### Sección 7.6 del Boyce DiPrima \n",
    "#### Eigenvalores complejos \n",
    "Página 398"
   ]
  },
  {
   "cell_type": "markdown",
   "metadata": {
    "slideshow": {
     "slide_type": "slide"
    }
   },
   "source": [
    "En esta sección nuevamente se considera un sistema de $n$ ecuaciones lineales homogéneas con coeficientes constantes \n",
    "\n",
    "$$ x' = Ax $$\n",
    "en donde ahora se supone que la matriz de coeficientes $A$ es de valores reales. "
   ]
  },
  {
   "cell_type": "markdown",
   "metadata": {
    "slideshow": {
     "slide_type": "slide"
    }
   },
   "source": [
    "Si se buscan soluciones de la forma \n",
    "\n",
    "$$ x = \\xi e^{rt}, $$\n",
    "\n",
    "entonces se concluye como en la sección 7.5 que $r$ debe ser un eigenvalor y $\\xi$ un eigenvector correspondiente de la matriz de coeficientes $A$.  \n"
   ]
  },
  {
   "cell_type": "markdown",
   "metadata": {
    "slideshow": {
     "slide_type": "slide"
    }
   },
   "source": [
    "Recuérdese que los eigenvalores $r_{1}, \\ldots, r_{n}$ de $A$ son las raíces de la ecuación \n",
    "\n",
    "$$ det(A-rI) = 0, $$\n",
    "\n",
    "y los eigenvectores correspondientes satisfacen \n",
    "\n",
    "$$ (A-rI)\\xi = 0. $$\n"
   ]
  },
  {
   "cell_type": "markdown",
   "metadata": {
    "slideshow": {
     "slide_type": "slide"
    }
   },
   "source": [
    "Si $A$ es real, entonces los coeficientes de la ecuación polinomial $det(A-rI)=0$ para $r$ son reales y cualesquiera eigenvalores complejos deben ocurrir en parejas conjugadas. "
   ]
  },
  {
   "cell_type": "markdown",
   "metadata": {
    "slideshow": {
     "slide_type": "slide"
    }
   },
   "source": [
    "Por ejemplo, si $r_{1} = \\lambda + i\\mu$, en donde $\\lambda$ y $\\mu$ son reales, es un eigenvalor de $A$, entonces también lo es $r_{2} = \\lambda - i\\mu$. "
   ]
  },
  {
   "cell_type": "markdown",
   "metadata": {
    "slideshow": {
     "slide_type": "slide"
    }
   },
   "source": [
    "Además, los eigenvectores correspondientes $\\xi^{(1)}$ y $\\xi^{(2)}$ también son conjugados complejos. "
   ]
  },
  {
   "cell_type": "markdown",
   "metadata": {
    "slideshow": {
     "slide_type": "slide"
    }
   },
   "source": [
    "Para ver que que así es, supóngase que $r_{1}$ y $\\xi^{(1)}$ satisfacen\n",
    "\n",
    "$$ (A - r_{1}I)\\xi^{(1)} = 0 $$\n"
   ]
  },
  {
   "cell_type": "markdown",
   "metadata": {
    "slideshow": {
     "slide_type": "slide"
    }
   },
   "source": [
    "Al tomar el conjugado complejo, y observar que $A$ e $I$ son de valores reales, se obtine \n",
    "\n",
    "$$ (A - \\overline{r}_{1}I) \\overline{\\xi}^{(1)} = 0 $$\n",
    "\n",
    "en donde $\\overline{r}_{1}$ y $\\overline{\\xi}^{(1)}$ son conjugados complejos de $r_{1}$ y $\\xi^{(1)}$ respectivamente. "
   ]
  },
  {
   "cell_type": "markdown",
   "metadata": {
    "slideshow": {
     "slide_type": "slide"
    }
   },
   "source": [
    "En otras palabras, $r_{2} = \\overline{r}_{1}$ también es un eigenvalor y $\\xi^{(2)} = \\overline{\\xi}^{(1)}$ es un eigenvector correspondiente. "
   ]
  },
  {
   "cell_type": "markdown",
   "metadata": {
    "slideshow": {
     "slide_type": "slide"
    }
   },
   "source": [
    "Entonces,  las soluciones correspondientes \n",
    "\n",
    "$$ x^{(1)}(t) = \\xi^{(1)}e^{r_{1}t}, \\qquad \\quad  x^{(2)}(t) = \\overline{\\xi}^{(1)}e^{\\overline{r}_{1}t}$$\n",
    "\n",
    "de la ecuación $x' = Ax$, son conjugadas complejas entre sí. \n"
   ]
  },
  {
   "cell_type": "markdown",
   "metadata": {
    "slideshow": {
     "slide_type": "slide"
    }
   },
   "source": [
    "Por lo tanto, como en la sección 3.4, es posible encontrar dos soluciones  de valores reales de la ecuación $x' = Ax$ correspondientes a los eigen valores $r_{1}$ y $r_{2}$ al tomar las partes real e imaginaria de $x^{(1)}(t)$ o de $x^{(2)}(t)$, dadas por la ecuación  \n",
    "\n",
    "$$ x^{(1)}(t) = \\xi^{(1)}e^{r_{1}t}, \\qquad \\quad  x^{(2)}(t) = \\overline{\\xi}^{(1)}e^{\\overline{r}_{1}t}$$\n"
   ]
  },
  {
   "cell_type": "markdown",
   "metadata": {
    "slideshow": {
     "slide_type": "slide"
    }
   },
   "source": [
    "Escríbase $\\xi^{(1)} = a + ib$, en donde $a$ y $b$ son reales, entonces se tiene \n",
    "\n",
    "\\begin{align*}\n",
    "x^{(1)}(t) & = (a+ib)e^{(\\lambda + i\\mu)t} \\\\\n",
    "           & = (a+ib)e^{\\lambda t}(\\cos(\\mu) + i\\sin(\\mu)).\n",
    "\\end{align*}\n"
   ]
  },
  {
   "cell_type": "markdown",
   "metadata": {
    "slideshow": {
     "slide_type": "slide"
    }
   },
   "source": [
    "Una vez que $x^{(1)}(t)$ se ha separado en sus partes real e imaginaria, se obtiene \n",
    "\n",
    "$$ x^{(1)}(t) = e^{\\lambda t}(a\\cos(\\mu t) - b\\sin(\\mu t)) + ie^{\\lambda t}(a\\sin(\\mu t) + b\\cos(\\mu t)) $$\n"
   ]
  },
  {
   "cell_type": "markdown",
   "metadata": {
    "slideshow": {
     "slide_type": "slide"
    }
   },
   "source": [
    "Si se escribe $x^{(1)}(t) = u(t) + iv(t)$, entonces los vectores\n",
    "\n",
    "\\begin{align*}\n",
    "u(t) & = e^{\\lambda t}(a\\cos(\\mu t) - b\\sin(\\mu t) ) \\\\ \n",
    "v(t) & = e^{\\lambda t}(a\\sin(\\mu t) + b\\cos(\\mu t))\n",
    "\\end{align*}\n",
    "\n",
    "son soluciones de valores reales de la ecuación $x' = Ax$.  "
   ]
  },
  {
   "cell_type": "markdown",
   "metadata": {
    "slideshow": {
     "slide_type": "slide"
    }
   },
   "source": [
    "Es posible demostrar que $u$ y $v$ son soluciones linealmente independientes (esto lo hará en el problema 15 de la lista de ejercicios de la sección 7.6 del Boyce DiPrima)  "
   ]
  },
  {
   "cell_type": "markdown",
   "metadata": {
    "slideshow": {
     "slide_type": "slide"
    }
   },
   "source": [
    "Por ejemplo, supóngase que $r_{1} = \\lambda + i\\mu$, $r_{2} = \\lambda - i\\mu$ y que los $r_{3}$ hasta $r_{n}$ son todos reales y distintos. "
   ]
  },
  {
   "cell_type": "markdown",
   "metadata": {
    "slideshow": {
     "slide_type": "slide"
    }
   },
   "source": [
    "Sean los eigenvectores correspondientes $\\xi^{(1)} = a + ib$, $\\xi^{(2)} = a - ib$, $\\xi^{(3)}$, $\\ldots$, $\\xi^{(n)}$; entonces la solución general de $x' = Ax$ es \n",
    "\n",
    "$$ x = c_{1}u(t) + c_{2}v(t) + c_{3}\\xi^{(3)}e^{r_{3}t} + \\cdots + c_{n}\\xi^{(n)}e^{r_{n}t}, $$\n",
    "\n",
    "en donde $u(t)$ y $v(t)$ quedan dados por \n",
    "\n",
    "\\begin{align*}\n",
    "u(t) & = e^{\\lambda t}(a\\cos(\\mu t) - b\\sin(\\mu t) ) \\\\ \n",
    "v(t) & = e^{\\lambda t}(a\\sin(\\mu t) + b\\cos(\\mu t)).\n",
    "\\end{align*}\n"
   ]
  },
  {
   "cell_type": "markdown",
   "metadata": {
    "slideshow": {
     "slide_type": "slide"
    }
   },
   "source": [
    "Es necesario resaltar que este análisis sólo es válido  si la matriz de coeficientes $A$ de la ecuación $x' = Ax$ es real, ya que solamante así los eigenvalores e igenvectores complejos ocurren en parejas conjugadas (Piense en la ecuación polinómica de coeficientes complejos $x-i = 0$). "
   ]
  },
  {
   "cell_type": "markdown",
   "metadata": {
    "slideshow": {
     "slide_type": "slide"
    }
   },
   "source": [
    "## Ejemplo 1\n",
    "Página 399 "
   ]
  },
  {
   "cell_type": "markdown",
   "metadata": {
    "slideshow": {
     "slide_type": "slide"
    }
   },
   "source": [
    "Encontrar el conjunto fundamental de soluciones de valores reales del sistema \n",
    "\n",
    "$$ x' = \\begin{pmatrix} \n",
    "-\\frac{1}{2} & 1 \\\\ -1 & - \\frac{1}{2} \\end{pmatrix}x $$\n"
   ]
  },
  {
   "cell_type": "markdown",
   "metadata": {
    "slideshow": {
     "slide_type": "slide"
    }
   },
   "source": [
    "## Solución: \n"
   ]
  },
  {
   "cell_type": "markdown",
   "metadata": {
    "slideshow": {
     "slide_type": "slide"
    }
   },
   "source": [
    "Si se supone que $x = \\xi e^{rt}$ se llega al conjunto de ecuaciones algebraicas lineales \n",
    "\n",
    "$$ \\begin{pmatrix} -\\frac{1}{2} - r & 1 \\\\ -1 &  -\\frac{1}{2} - r \\end{pmatrix}   \\begin{pmatrix} \\xi_{1} \\\\ \\xi_{2} \\end{pmatrix} =  \\begin{pmatrix}0 \\\\ 0 \\end{pmatrix} $$\n",
    "\n",
    "para los eigenvectores y eigenvectores de $A$. \n"
   ]
  },
  {
   "cell_type": "markdown",
   "metadata": {
    "slideshow": {
     "slide_type": "slide"
    }
   },
   "source": [
    "La ecuación característica es \n",
    "\n",
    "$$ \\left| \\begin{matrix} -\\frac{1}{2} - r & 1 \\\\ -1 &  -\\frac{1}{2} - r \\end{matrix}  \\right| = r^{2}  + r + \\frac{5}{4} = 0; $$\n",
    "\n",
    "por lo tanto, los eigenvalores son \n",
    "\n",
    "$$ r_{1} = -\\frac{1}{2} + i, \\qquad \\text{y} \\qquad r_{2} = -\\frac{1}{2} - i  $$\n"
   ]
  },
  {
   "cell_type": "markdown",
   "metadata": {
    "slideshow": {
     "slide_type": "slide"
    }
   },
   "source": [
    "Por la ecuación:\n",
    "\n",
    "$$ \\begin{pmatrix} -\\frac{1}{2} - r & 1 \\\\ -1 &  -\\frac{1}{2} - r \\end{pmatrix}   \\begin{pmatrix} \\xi_{1} \\\\ \\xi_{2} \\end{pmatrix} =  \\begin{pmatrix}0 \\\\ 0 \\end{pmatrix} $$\n",
    "\n",
    "un simple cálculo muestra que los eigenvectores correspondientes son \n",
    "\n",
    "$$ \\xi^{(1)} = \\begin{pmatrix} 1 \\\\ i \\end{pmatrix}, \\quad \\quad  \\xi^{(2)} = \\begin{pmatrix} 1 \\\\ -i \\end{pmatrix}. $$\n",
    "\n"
   ]
  },
  {
   "cell_type": "markdown",
   "metadata": {
    "slideshow": {
     "slide_type": "slide"
    }
   },
   "source": [
    "De donde, un conjunto fundamental de soluciones del sistema \n",
    "$$ x' = \\begin{pmatrix} \n",
    "-\\frac{1}{2} & 1 \\\\ -1 & - \\frac{1}{2} \\end{pmatrix}x $$\n",
    "\n",
    "es\n",
    "\n",
    "$$ x^{(1)}(t) = \\begin{pmatrix} 1 \\\\ i \\end{pmatrix}e^{(-1/2 + i)t} \\qquad \\qquad x^{(2)}(t) = \\begin{pmatrix} 1 \\\\ -i \\end{pmatrix}e^{(-1/2 - i)t} $$\n"
   ]
  },
  {
   "cell_type": "markdown",
   "metadata": {
    "slideshow": {
     "slide_type": "slide"
    }
   },
   "source": [
    "Para obtener un conjunto de soluciones de valores reales, es necesario  encontrar las partes real e imaginaria de $x^{(1)}(t)$ o de $x^{(2)}(t)$. "
   ]
  },
  {
   "cell_type": "markdown",
   "metadata": {
    "slideshow": {
     "slide_type": "slide"
    }
   },
   "source": [
    "En efecto, \n",
    "\n",
    "$$ x^{(1)}(t) = \\begin{pmatrix} 1 \\\\ i \\end{pmatrix}e^{-t/2}(\\cos(t) + i\\sin(t)) = \n",
    "\\begin{pmatrix} e^{-t/2}\\cos(t) \\\\ -e^{-t/2}\\sin(t) \\end{pmatrix} + i \\begin{pmatrix}e^{-t/2}\\sin(t)  \\\\e^{-t/2}\\cos(t) \\end{pmatrix}. $$\n"
   ]
  },
  {
   "cell_type": "markdown",
   "metadata": {
    "slideshow": {
     "slide_type": "slide"
    }
   },
   "source": [
    "De donde \n",
    "\n",
    "$$ u(t) = e^{-t/2} \\begin{pmatrix}\\cos t \\\\ -\\sin t \\end{pmatrix} \\quad \\quad \\quad \n",
    "v(t) = e^{-t/2}\\begin{pmatrix} \\sin t \\\\ \\cos t \\end{pmatrix} $$\n",
    "\n",
    "es un conjunto de soluciones de valores reales. \n"
   ]
  },
  {
   "cell_type": "markdown",
   "metadata": {
    "slideshow": {
     "slide_type": "slide"
    }
   },
   "source": [
    "Para verificar que $u(t)$ y $v(t)$ son linealmente independientes, se calcula el wronskiano  \n",
    "\n",
    "\\begin{align*}\n",
    "W(u,v)(t) & = \\left| \\begin{matrix}e^{-t/2}\\cos t &  e^{-t/2}\\sin t \\\\ \n",
    "-e^{-t/2}\\sin t & e^{-t/2}\\cos t\\end{matrix} \\right| \\\\\n",
    "          & = e^{-t}(\\cos^{2}t + \\sin^{2}t) = e^{-t}\n",
    "\\end{align*}\n"
   ]
  },
  {
   "cell_type": "markdown",
   "metadata": {
    "slideshow": {
     "slide_type": "slide"
    }
   },
   "source": [
    "En virtud de que el wronskiano nunca es cero, se concluye que $u(t)$ y $v(t)$ constituyen un conjunto fundamental de soluciones de valores reales del sistema \n",
    "\n",
    "$$ x' = \\begin{pmatrix} \n",
    "-\\frac{1}{2} & 1 \\\\ -1 & - \\frac{1}{2} \\end{pmatrix}x $$ "
   ]
  },
  {
   "cell_type": "markdown",
   "metadata": {
    "slideshow": {
     "slide_type": "slide"
    }
   },
   "source": [
    "## Gráfica de las soluciones $u(t)$ y $v(t)$ "
   ]
  },
  {
   "cell_type": "markdown",
   "metadata": {
    "slideshow": {
     "slide_type": "slide"
    }
   },
   "source": [
    "<img src = 'https://github.com/marco-canas/Ecuaciones_Diferenciales/blob/main/1_clases/class_10/figura_7_6_1.jpg?raw=true'> "
   ]
  },
  {
   "cell_type": "markdown",
   "metadata": {
    "slideshow": {
     "slide_type": "slide"
    }
   },
   "source": [
    "## Gráfica utilizando matplotlib "
   ]
  },
  {
   "cell_type": "code",
   "execution_count": 24,
   "metadata": {
    "scrolled": true,
    "slideshow": {
     "slide_type": "slide"
    }
   },
   "outputs": [
    {
     "data": {
      "image/png": "[encoded data removed]",
      "text/plain": [
       "<Figure size 432x288 with 1 Axes>"
      ]
     },
     "metadata": {
      "needs_background": "light"
     },
     "output_type": "display_data"
    }
   ],
   "source": [
    "import numpy as np \n",
    "import matplotlib.pyplot as plt \n",
    "#\n",
    "t = np.linspace(0,10,100)\n",
    "\n",
    "u1 = np.exp(-t/2)*np.cos(t)\n",
    "u2 = -np.exp(-t/2)*np.sin(t)\n",
    "\n",
    "fig = plt.figure()\n",
    "ax = fig.add_subplot()\n",
    "\n",
    "ax.plot(u1,u2)\n",
    "ax.set_xlim([-1.5,1.5])\n",
    "ax.set_ylim([-1,1]) \n",
    "ax.grid(True, alpha = 0.3) \n",
    "ax.set_title(r'$u(t)$')\n",
    "\n",
    "plt.show() \n"
   ]
  },
  {
   "cell_type": "code",
   "execution_count": 25,
   "metadata": {
    "slideshow": {
     "slide_type": "slide"
    }
   },
   "outputs": [
    {
     "data": {
      "image/png": "[encoded data removed]",
      "text/plain": [
       "<Figure size 432x288 with 1 Axes>"
      ]
     },
     "metadata": {
      "needs_background": "light"
     },
     "output_type": "display_data"
    }
   ],
   "source": [
    "import numpy as np \n",
    "import matplotlib.pyplot as plt \n",
    "# gráfica de la solución v(t)\n",
    "t = np.linspace(-10,10,200)\n",
    "\n",
    "v1 = np.exp(-t/2)*np.sin(t)\n",
    "v2 = np.exp(-t/2)*np.cos(t) \n",
    "\n",
    "fig = plt.figure()\n",
    "ax = fig.add_subplot()\n",
    "\n",
    "ax.plot(v1,v2)\n",
    "ax.set_xlim([-2.5,2.5])\n",
    "ax.set_ylim([-2,2]) \n",
    "ax.grid(True, alpha = 0.3) \n",
    "ax.set_title(r'$v(t)$')\n",
    "\n",
    "plt.show() "
   ]
  },
  {
   "cell_type": "code",
   "execution_count": 26,
   "metadata": {
    "slideshow": {
     "slide_type": "slide"
    }
   },
   "outputs": [
    {
     "data": {
      "image/png": "[encoded data removed]",
      "text/plain": [
       "<Figure size 432x288 with 1 Axes>"
      ]
     },
     "metadata": {
      "needs_background": "light"
     },
     "output_type": "display_data"
    }
   ],
   "source": [
    "import numpy as np \n",
    "import matplotlib.pyplot as plt \n",
    "#\n",
    "t = np.linspace(0,5,100)\n",
    "\n",
    "u1 = np.exp(-t/2)*np.cos(t)\n",
    "u2 = -np.exp(-t/2)*np.sin(t)\n",
    "\n",
    "fig = plt.figure()\n",
    "ax = fig.add_subplot()\n",
    "\n",
    "ax.plot(t,u1)\n",
    "ax.set_xlim([0,5])\n",
    "ax.set_ylim([-0.5,2]) \n",
    "ax.grid(True, alpha = 0.3) \n",
    "\n",
    "plt.show() "
   ]
  },
  {
   "cell_type": "markdown",
   "metadata": {
    "slideshow": {
     "slide_type": "slide"
    }
   },
   "source": [
    "Dado que \n",
    "\n",
    "$$ u(0) = \\begin{pmatrix} 1 \\\\ 0 \\end{pmatrix}, \\quad \\quad v(0) = \\begin{pmatrix} 0 \\\\ 1 \\end{pmatrix},  $$\n",
    "\n",
    "las graficas de $u(t)$ y $v(t)$ pasan por los puntos $(1,0)$ y $(0,1)$, respectivamente. \n"
   ]
  },
  {
   "cell_type": "markdown",
   "metadata": {
    "slideshow": {
     "slide_type": "slide"
    }
   },
   "source": [
    "Otras soluciones del sistema \n",
    "\n",
    "$$ x' = \\begin{pmatrix} \n",
    "-\\frac{1}{2} & 1 \\\\ -1 & - \\frac{1}{2} \\end{pmatrix}x $$ \n",
    "\n",
    "son combinaciones lineales de $u(t)$ y $v(t)$. Veamos seguidamente algunas de estas combinaciones. \n"
   ]
  },
  {
   "cell_type": "code",
   "execution_count": 27,
   "metadata": {
    "slideshow": {
     "slide_type": "slide"
    }
   },
   "outputs": [
    {
     "data": {
      "image/png": "[encoded data removed]",
      "text/plain": [
       "<Figure size 432x288 with 1 Axes>"
      ]
     },
     "metadata": {
      "needs_background": "light"
     },
     "output_type": "display_data"
    }
   ],
   "source": [
    "import numpy as np \n",
    "import matplotlib.pyplot as plt \n",
    "#\n",
    "t = np.linspace(-10,10,200) \n",
    "\n",
    "u1 = np.exp(-t/2)*np.cos(t)\n",
    "u2 = -np.exp(-t/2)*np.sin(t)\n",
    "v1 = np.exp(-t/2)*np.sin(t)\n",
    "v2 = np.exp(-t/2)*np.cos(t) \n",
    "\n",
    "x1 = u1 + v1\n",
    "x2 = u2 + v2 \n",
    "\n",
    "fig = plt.figure()\n",
    "ax = fig.add_subplot()\n",
    "\n",
    "ax.plot(x1,x2)\n",
    "ax.set_xlim([-4,4])\n",
    "ax.set_ylim([-3,3]) \n",
    "ax.grid(True, alpha = 0.3) \n",
    "ax.set_title(r'Gráfica de $x$ en el plano x1x2 para $c_{1} = c_{2} = 1$')\n",
    "plt.show() "
   ]
  },
  {
   "cell_type": "code",
   "execution_count": 28,
   "metadata": {
    "slideshow": {
     "slide_type": "slide"
    }
   },
   "outputs": [
    {
     "data": {
      "image/png": "[encoded data removed]",
      "text/plain": [
       "<Figure size 432x288 with 1 Axes>"
      ]
     },
     "metadata": {
      "needs_background": "light"
     },
     "output_type": "display_data"
    }
   ],
   "source": [
    "import numpy as np \n",
    "import matplotlib.pyplot as plt \n",
    "#\n",
    "t = np.linspace(0,10,200) \n",
    "\n",
    "u1 = np.exp(-t/2)*np.cos(t)\n",
    "u2 = -np.exp(-t/2)*np.sin(t)\n",
    "v1 = np.exp(-t/2)*np.sin(t)\n",
    "v2 = np.exp(-t/2)*np.cos(t) \n",
    "\n",
    "x1 = u1 + v1\n",
    "x2 = u2 + v2 \n",
    "\n",
    "fig = plt.figure()\n",
    "ax = fig.add_subplot()\n",
    "\n",
    "ax.plot(t,x1)\n",
    "origen = [0,0]\n",
    "p1 = [5,0] \n",
    "ejex_cor_x, ejex_cor_y = zip(origen, p1)\n",
    "ax.plot(ejex_cor_x, ejex_cor_y) \n",
    "ax.set_xlim([0,5])\n",
    "ax.set_ylim([-1,2]) \n",
    "ax.grid(True, alpha = 0.3) \n",
    "ax.set_title(r'Gráfica de $x1$ vs $t$ para $c_{1} = c_{2} = 1$')\n",
    "plt.show() "
   ]
  },
  {
   "cell_type": "markdown",
   "metadata": {
    "slideshow": {
     "slide_type": "slide"
    }
   },
   "source": [
    "En todos los casos, la solución tiende al origen a lo largo de una trayectoria en espiral cuando $t \\to \\infty$; esto se debe al hecho de que las soluciones \n",
    "\n",
    "$$ u(t) = e^{-t/2} \\begin{pmatrix}\\cos t \\\\ -\\sin t \\end{pmatrix} \\quad \\quad \\quad \n",
    "v(t) = e^{-t/2}\\begin{pmatrix} \\sin t \\\\ \\cos t \\end{pmatrix} $$\n",
    "\n",
    "son productos de factores exponenciales que decaen y seno o coseno. \n"
   ]
  },
  {
   "cell_type": "markdown",
   "metadata": {
    "slideshow": {
     "slide_type": "slide"
    }
   },
   "source": [
    "En la figura 7.6.1b se muestran algunas gráficas típicas de $x_{1}$ contra $t$.  "
   ]
  },
  {
   "cell_type": "markdown",
   "metadata": {
    "slideshow": {
     "slide_type": "slide"
    }
   },
   "source": [
    "Cada una representa una oscilación que decae con el tiempo. "
   ]
  },
  {
   "cell_type": "markdown",
   "metadata": {
    "slideshow": {
     "slide_type": "slide"
    }
   },
   "source": [
    "La figura 7.6.1a es típica de todos los sistemas de segundo orden $x' = Ax$ cuyos eigenvalores son complejos con parte real negativa. "
   ]
  },
  {
   "cell_type": "markdown",
   "metadata": {
    "slideshow": {
     "slide_type": "slide"
    }
   },
   "source": [
    "El origen se llama **punto espiral**. "
   ]
  },
  {
   "cell_type": "markdown",
   "metadata": {
    "slideshow": {
     "slide_type": "slide"
    }
   },
   "source": [
    "Para un sistema cuyos eigenvalores tiene parte real positiva, las trayectorias son semejantes a las de la figura 7.6.1.a pero la dirección del movimiento es alejándose del origen. "
   ]
  },
  {
   "cell_type": "markdown",
   "metadata": {
    "slideshow": {
     "slide_type": "slide"
    }
   },
   "source": [
    "Dependiendo de los elementos de la matriz de coeficientes $A$, las espirales pueden ser en el sentido de de movimiento de las manecillas del reloj, como en este ejemplo, o en sentido contrario.   "
   ]
  },
  {
   "cell_type": "markdown",
   "metadata": {
    "slideshow": {
     "slide_type": "slide"
    }
   },
   "source": [
    "### Verificación del cálculo de los eigenvalores y eigenvectores de $A$ con numpy.linalg"
   ]
  },
  {
   "cell_type": "code",
   "execution_count": 29,
   "metadata": {
    "slideshow": {
     "slide_type": "slide"
    }
   },
   "outputs": [],
   "source": [
    "import numpy as np \n",
    "from numpy import linalg \n",
    "A = np.array([[-1/2 , 1],[-1,-1/2]])\n",
    "val,vec=np.linalg.eig(A) "
   ]
  },
  {
   "cell_type": "code",
   "execution_count": 30,
   "metadata": {
    "slideshow": {
     "slide_type": "slide"
    }
   },
   "outputs": [
    {
     "data": {
      "text/plain": [
       "array([-0.5+1.j, -0.5-1.j])"
      ]
     },
     "execution_count": 30,
     "metadata": {},
     "output_type": "execute_result"
    }
   ],
   "source": [
    "val"
   ]
  },
  {
   "cell_type": "code",
   "execution_count": 31,
   "metadata": {
    "slideshow": {
     "slide_type": "slide"
    }
   },
   "outputs": [
    {
     "data": {
      "text/plain": [
       "array([[0.70710678+0.j        , 0.70710678-0.j        ],\n",
       "       [0.        +0.70710678j, 0.        -0.70710678j]])"
      ]
     },
     "execution_count": 31,
     "metadata": {},
     "output_type": "execute_result"
    }
   ],
   "source": [
    "vec "
   ]
  },
  {
   "cell_type": "markdown",
   "metadata": {
    "slideshow": {
     "slide_type": "slide"
    }
   },
   "source": [
    "## Ejemplo 2\n",
    "Página 401 del Boyce DiPrima "
   ]
  },
  {
   "cell_type": "markdown",
   "metadata": {
    "slideshow": {
     "slide_type": "slide"
    }
   },
   "source": [
    "$$ \\frac{d}{dt} \\begin{pmatrix} I \\\\ V \\end{pmatrix} = \\begin{pmatrix} -1 & -1 \\\\ 2 & -1  \\end{pmatrix}\\begin{pmatrix} I \\\\ V \\end{pmatrix} $$"
   ]
  },
  {
   "cell_type": "code",
   "execution_count": null,
   "metadata": {
    "slideshow": {
     "slide_type": "slide"
    }
   },
   "outputs": [],
   "source": []
  },
  {
   "cell_type": "code",
   "execution_count": null,
   "metadata": {
    "slideshow": {
     "slide_type": "slide"
    }
   },
   "outputs": [],
   "source": []
  },
  {
   "cell_type": "code",
   "execution_count": null,
   "metadata": {},
   "outputs": [],
   "source": []
  },
  {
   "cell_type": "code",
   "execution_count": null,
   "metadata": {
    "slideshow": {
     "slide_type": "slide"
    }
   },
   "outputs": [],
   "source": []
  }
 ],
 "metadata": {
  "celltoolbar": "Slideshow",
  "hide_input": false,
  "kernelspec": {
   "display_name": "Python 3",
   "language": "python",
   "name": "python3"
  },
  "language_info": {
   "codemirror_mode": {
    "name": "ipython",
    "version": 3
   },
   "file_extension": ".py",
   "mimetype": "text/x-python",
   "name": "python",
   "nbconvert_exporter": "python",
   "pygments_lexer": "ipython3",
   "version": "3.7.4"
  },
  "nbTranslate": {
   "displayLangs": [
    "*"
   ],
   "hotkey": "alt-t",
   "langInMainMenu": true,
   "sourceLang": "en",
   "targetLang": "es",
   "useGoogleTranslate": true
  },
  "rise": {
   "enable_chalkboard": true,
   "theme": "sky",
   "transition": "zoom"
  }
 },
 "nbformat": 4,
 "nbformat_minor": 2
}
