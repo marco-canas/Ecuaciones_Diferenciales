{
 "cells": [
  {
   "cell_type": "markdown",
   "id": "85555600",
   "metadata": {},
   "source": [
    "# 7.1 Definición de transformada de Laplace desde Zill\n",
    "Página 272"
   ]
  },
  {
   "cell_type": "markdown",
   "id": "c7ac8442",
   "metadata": {},
   "source": [
    "## Conceptos necesarios para esta sección"
   ]
  },
  {
   "cell_type": "markdown",
   "id": "cdfdd2eb",
   "metadata": {},
   "source": [
    "* Integrales impropias con límites de integración infinitos\n",
    "* Descomposición en fracciones parciales "
   ]
  },
  {
   "cell_type": "markdown",
   "id": "7eb65106",
   "metadata": {},
   "source": [
    "## Introducción"
   ]
  },
  {
   "cell_type": "markdown",
   "id": "4a6fcf5d",
   "metadata": {},
   "source": [
    "En cálculo elemental aprendió que la derivación y la integración son *transformadas*; esto significa, a grandes rasgos, que estas operaciones transforman una función en otra. "
   ]
  },
  {
   "cell_type": "markdown",
   "id": "ce7d511b",
   "metadata": {},
   "source": [
    "Por ejemplo, la función $x^{2}$ se transforma, a su vez, en una función lineal y en una familia de funciones polinomiales cúbicas con las operaciones de derivación e integración respectivamente:\n",
    "\n",
    "$$ \\frac{d}{dx}x^{2} = 2x, \\ \\ \\text{y}\\ \\ \\int x^{2}dx = \\frac{1}{3}x^{3} + c.  $$\n"
   ]
  },
  {
   "cell_type": "markdown",
   "id": "b5c3fac3",
   "metadata": {},
   "source": [
    "Además, estas dos transformadas tiene la **propiedad de linealidad** tal que la transformada de una conbinación lineal de funciones es una combinación lineal de las transformadas. "
   ]
  },
  {
   "cell_type": "markdown",
   "id": "9669b318",
   "metadata": {},
   "source": [
    "Para $\\alpha$ y $\\beta$ constantes \n",
    "\n",
    "$$ \\frac{d}{dx}[\\alpha f(x) + \\beta g(x)] = \\alpha f'(x) + \\beta g'(x)  $$\n",
    "\n",
    "y\n",
    "\n",
    "$$ \\int []dx = \\alpha \\int f(x)dx + \\beta \\int g(x)dx $$\n",
    "\n",
    "siempre que cada derivada e integral exista. \n"
   ]
  },
  {
   "cell_type": "markdown",
   "id": "a67dfe4a",
   "metadata": {},
   "source": [
    "En esta sección se examina un tipo especial de transformada integral llamada **transformada de Laplace**. "
   ]
  },
  {
   "cell_type": "markdown",
   "id": "01f591ea",
   "metadata": {},
   "source": [
    "Además de tener la propiedad de linealidad, la transformada de laplace tiene muchas otras propiedades interesantes que la hacen muy útil para resolver problemas lineales con valores iniciales. "
   ]
  },
  {
   "cell_type": "markdown",
   "id": "a0b5f790",
   "metadata": {},
   "source": [
    "## Transformada integral\n",
    "Página 272 del Zill"
   ]
  },
  {
   "cell_type": "markdown",
   "id": "baf48763",
   "metadata": {},
   "source": [
    "Si $f(x,y)$ es una función de dos variables, entonces una integral definida de $f$ respecto a una de las variables conduce a una función de la otra variable. "
   ]
  },
  {
   "cell_type": "markdown",
   "id": "17493b16",
   "metadata": {},
   "source": [
    "Por ejemplo, si se conserva $y$ constante, se ve que $\\int_{1}^{2} 2xy^{2} dx = 3y^{2}$. "
   ]
  },
  {
   "cell_type": "markdown",
   "id": "195b97c5",
   "metadata": {},
   "source": [
    "De igual modo, una integral una integral definida como $\\int_{a}^{b} K(s,t)f(t)dt$ transforma una función $f$ de la variable $t$ en una función $F$ de la variable $s$. "
   ]
  },
  {
   "cell_type": "markdown",
   "id": "feb14502",
   "metadata": {},
   "source": [
    "Tenemos un particular interés en una transformada integral, donde el intervalo de integración es el intervalo no acotado $[0,+\\infty)$. "
   ]
  },
  {
   "cell_type": "markdown",
   "id": "c9bba034",
   "metadata": {},
   "source": [
    "Si $f(t)$ se define para $t \\geq 0$, entonces la integral impropia $\\int_{0}^{\\infty}K(s,t)f(t)dt$ se define como un límite \n",
    "\n",
    "$$ \\int_{0}^{\\infty} K(s,t)f(t)dt = \\lim_{b \\to \\infty} \\int_{0}^{b}K(s,t)f(t)dt $$\n"
   ]
  },
  {
   "cell_type": "markdown",
   "id": "d5eafe1b",
   "metadata": {},
   "source": [
    "Si existe el límite anterior, "
   ]
  },
  {
   "cell_type": "code",
   "execution_count": null,
   "id": "f6edbd58",
   "metadata": {},
   "outputs": [],
   "source": []
  },
  {
   "cell_type": "code",
   "execution_count": null,
   "id": "51d7663d",
   "metadata": {},
   "outputs": [],
   "source": []
  },
  {
   "cell_type": "code",
   "execution_count": null,
   "id": "0041bda8",
   "metadata": {},
   "outputs": [],
   "source": []
  }
 ],
 "metadata": {
  "kernelspec": {
   "display_name": "Python 3",
   "language": "python",
   "name": "python3"
  },
  "language_info": {
   "codemirror_mode": {
    "name": "ipython",
    "version": 3
   },
   "file_extension": ".py",
   "mimetype": "text/x-python",
   "name": "python",
   "nbconvert_exporter": "python",
   "pygments_lexer": "ipython3",
   "version": "3.8.8"
  },
  "latex_envs": {
   "LaTeX_envs_menu_present": true,
   "autoclose": false,
   "autocomplete": false,
   "bibliofile": "biblio.bib",
   "cite_by": "apalike",
   "current_citInitial": 1,
   "eqLabelWithNumbers": true,
   "eqNumInitial": 1,
   "hotkeys": {
    "equation": "Ctrl-E",
    "itemize": "Ctrl-I"
   },
   "labels_anchors": false,
   "latex_user_defs": false,
   "report_style_numbering": false,
   "user_envs_cfg": false
  },
  "rise": {
   "enable_chalkboard": true,
   "theme": "sky",
   "transition": "sky"
  }
 },
 "nbformat": 4,
 "nbformat_minor": 5
}
