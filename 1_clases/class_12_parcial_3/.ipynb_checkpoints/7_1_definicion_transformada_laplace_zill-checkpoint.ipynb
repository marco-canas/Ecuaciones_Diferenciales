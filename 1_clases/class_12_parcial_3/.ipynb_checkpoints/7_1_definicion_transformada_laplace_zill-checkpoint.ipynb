{
 "cells": [
  {
   "cell_type": "markdown",
   "id": "6651aa22",
   "metadata": {},
   "source": [
    "# 7.1 Definición de transformada de Laplace desde Zill\n",
    "Página 272"
   ]
  },
  {
   "cell_type": "markdown",
   "id": "c2eee4ff",
   "metadata": {},
   "source": [
    "## Conceptos necesarios para esta sección"
   ]
  },
  {
   "cell_type": "markdown",
   "id": "9336958a",
   "metadata": {},
   "source": [
    "* Integrales impropias con límites de integración infinitos\n",
    "* Descomposición en fracciones parciales "
   ]
  },
  {
   "cell_type": "markdown",
   "id": "2e5b6654",
   "metadata": {},
   "source": [
    "## Introducción"
   ]
  },
  {
   "cell_type": "markdown",
   "id": "a0fa81f5",
   "metadata": {},
   "source": [
    "En cálculo elemental aprendió que la derivación y la integración son *transformadas*; esto significa, a grandes rasgos, que estas operaciones transforman una función en otra. "
   ]
  },
  {
   "cell_type": "markdown",
   "id": "2091328d",
   "metadata": {},
   "source": [
    "Por ejemplo, la función $x^{2}$ se transforma, a su vez, en una función lineal y en una familia de funciones polinomiales cúbicas con las operaciones de derivación e integración respectivamente:\n",
    "\n",
    "$$ \\frac{d}{dx}x^{2} = 2x, \\ \\ \\text{y}\\ \\ \\int x^{2}dx = \\frac{1}{3}x^{3} + c.  $$\n"
   ]
  },
  {
   "cell_type": "markdown",
   "id": "f07d7602",
   "metadata": {},
   "source": [
    "Además, estas dos transformadas tiene la **propiedad de linealidad** tal que la transformada de una conbinación lineal de funciones es una combinación lineal de las transformadas. "
   ]
  },
  {
   "cell_type": "markdown",
   "id": "4407ab08",
   "metadata": {},
   "source": [
    "Para $\\alpha$ y $\\beta$ constantes \n",
    "\n",
    "$$ \\frac{d}{dx}[\\alpha f(x) + \\beta g(x)] = \\alpha f'(x) + \\beta g'(x)  $$\n",
    "\n",
    "y\n",
    "\n",
    "$$ \\int []dx = \\alpha \\int f(x)dx + \\beta \\int g(x)dx $$\n",
    "\n",
    "siempre que cada derivada e integral exista. \n"
   ]
  },
  {
   "cell_type": "markdown",
   "id": "ce6d630c",
   "metadata": {},
   "source": [
    "En esta sección se examina un tipo especial de transformada integral llamada **transformada de Laplace**. "
   ]
  },
  {
   "cell_type": "markdown",
   "id": "38f15728",
   "metadata": {},
   "source": [
    "Además de tener la propiedad de linealidad, la transformada de laplace tiene muchas otras propiedades interesantes que la hacen muy útil para resolver problemas lineales con valores iniciales. "
   ]
  },
  {
   "cell_type": "markdown",
   "id": "e058dead",
   "metadata": {},
   "source": [
    "## Transformada integral\n",
    "Página 272 del Zill"
   ]
  },
  {
   "cell_type": "markdown",
   "id": "5289ec57",
   "metadata": {},
   "source": [
    "Si $f(x,y)$ es una función de dos variables, "
   ]
  },
  {
   "cell_type": "code",
   "execution_count": null,
   "id": "46ad473f",
   "metadata": {},
   "outputs": [],
   "source": []
  },
  {
   "cell_type": "code",
   "execution_count": null,
   "id": "41320f11",
   "metadata": {},
   "outputs": [],
   "source": []
  },
  {
   "cell_type": "code",
   "execution_count": null,
   "id": "def5296a",
   "metadata": {},
   "outputs": [],
   "source": []
  },
  {
   "cell_type": "code",
   "execution_count": null,
   "id": "b55d83cf",
   "metadata": {},
   "outputs": [],
   "source": []
  },
  {
   "cell_type": "code",
   "execution_count": null,
   "id": "7ee0c993",
   "metadata": {},
   "outputs": [],
   "source": []
  },
  {
   "cell_type": "code",
   "execution_count": null,
   "id": "09e160b8",
   "metadata": {},
   "outputs": [],
   "source": []
  }
 ],
 "metadata": {
  "kernelspec": {
   "display_name": "Python 3",
   "language": "python",
   "name": "python3"
  },
  "language_info": {
   "codemirror_mode": {
    "name": "ipython",
    "version": 3
   },
   "file_extension": ".py",
   "mimetype": "text/x-python",
   "name": "python",
   "nbconvert_exporter": "python",
   "pygments_lexer": "ipython3",
   "version": "3.8.8"
  },
  "latex_envs": {
   "LaTeX_envs_menu_present": true,
   "autoclose": false,
   "autocomplete": false,
   "bibliofile": "biblio.bib",
   "cite_by": "apalike",
   "current_citInitial": 1,
   "eqLabelWithNumbers": true,
   "eqNumInitial": 1,
   "hotkeys": {
    "equation": "Ctrl-E",
    "itemize": "Ctrl-I"
   },
   "labels_anchors": false,
   "latex_user_defs": false,
   "report_style_numbering": false,
   "user_envs_cfg": false
  },
  "rise": {
   "enable_chalkboard": true,
   "theme": "sky",
   "transition": "sky"
  }
 },
 "nbformat": 4,
 "nbformat_minor": 5
}
