{
 "cells": [
  {
   "cell_type": "markdown",
   "metadata": {
    "slideshow": {
     "slide_type": "slide"
    }
   },
   "source": [
    "# Clase 7 "
   ]
  },
  {
   "cell_type": "markdown",
   "metadata": {
    "slideshow": {
     "slide_type": "slide"
    }
   },
   "source": [
    "## Temas clase 7 "
   ]
  },
  {
   "cell_type": "markdown",
   "metadata": {
    "slideshow": {
     "slide_type": "slide"
    }
   },
   "source": [
    "- Aplicaciones de las ecuaciones diferenciales de segundo orden: Vibraciones mecánicas y eléctricas,\n",
    "- vibraciones forzadas.\n",
    "- Identificar las ecuaciones homogéneas y los diferentes métodos para resolverlas.\n",
    "- Resolver la ecuación característica con el objetivo de hallar un conjunto de soluciones.\n",
    "- Aplicar el método de los coeficientes indeterminados, variación de parámetros y operadores inversos.\n",
    "- Ilustrar la utilidad de estos métodos para resolver problemas del área de física e ingeniería. "
   ]
  },
  {
   "cell_type": "markdown",
   "metadata": {
    "slideshow": {
     "slide_type": "slide"
    }
   },
   "source": [
    "Página 197 del Boyce DiPrima "
   ]
  },
  {
   "cell_type": "markdown",
   "metadata": {
    "slideshow": {
     "slide_type": "slide"
    }
   },
   "source": [
    "### Sección 3.3 Independencia lineal y Wronskiano "
   ]
  },
  {
   "cell_type": "markdown",
   "metadata": {
    "slideshow": {
     "slide_type": "slide"
    }
   },
   "source": [
    "Página 154 del Boyce DiPrima "
   ]
  },
  {
   "cell_type": "markdown",
   "metadata": {
    "slideshow": {
     "slide_type": "slide"
    }
   },
   "source": [
    "La representación de la solución general de una ecuación diferencial lineal homogénea de segundo orden como una combinación lineal de dos soluciones cuyo wronsquiano es diferente de cero está estrechamente relacionada con el concepto de independencia lineal de dos funciones. "
   ]
  },
  {
   "cell_type": "markdown",
   "metadata": {
    "slideshow": {
     "slide_type": "slide"
    }
   },
   "source": [
    "Ésta es una idea muy importante y tiene significado que rebasa con mucho el contexto actual; en esta sección se le analizará brevemente.  "
   ]
  },
  {
   "cell_type": "markdown",
   "metadata": {
    "slideshow": {
     "slide_type": "slide"
    }
   },
   "source": [
    "## Definición de funciones Linealmente dependientes "
   ]
  },
  {
   "cell_type": "markdown",
   "metadata": {
    "slideshow": {
     "slide_type": "slide"
    }
   },
   "source": [
    "Se dice que dos funciones $f$ y $g$ son **Linealmente dependientes** sobre un intervalo si existen dos constantes $k_{1}$ y $k_{2}$, no ambas cero, tales que\n",
    "\n",
    "$$ k_{1}f(x) + k_{2}g(x) = 0 $$\n",
    "\n",
    "para toda $x$ en el intervalo. "
   ]
  },
  {
   "cell_type": "code",
   "execution_count": null,
   "metadata": {
    "slideshow": {
     "slide_type": "skip"
    }
   },
   "outputs": [],
   "source": []
  },
  {
   "cell_type": "markdown",
   "metadata": {
    "slideshow": {
     "slide_type": "slide"
    }
   },
   "source": [
    "## Definición de dos funciones Linealmente Independientes"
   ]
  },
  {
   "cell_type": "markdown",
   "metadata": {
    "slideshow": {
     "slide_type": "slide"
    }
   },
   "source": [
    "Se dice que las funciones $f$ y $g$ son **Linealmente independientes** sobre un intervalo si no son linealmente dependientes, es decir, si la ecuación \n",
    "\n",
    "$$ k_{1}f(x) + k_{2}g(x) = 0 $$\n",
    "\n",
    "se cumple para toda $x$ en el intervalo sólo si $k_{1} = k_{2} = 0$. \n"
   ]
  },
  {
   "cell_type": "markdown",
   "metadata": {
    "slideshow": {
     "slide_type": "slide"
    }
   },
   "source": [
    "En la sección 4.1 estas definiciones se extienden a un número arbitrario de funciones. "
   ]
  },
  {
   "cell_type": "markdown",
   "metadata": {
    "slideshow": {
     "slide_type": "slide"
    }
   },
   "source": [
    "Aunque puede ser dificil determinar si un conjunto grande de funciones es linealmente dependiente o independiente, suele ser fácil dar respuesta a esta pregunta para un conjunto de sólo dos funciones: son linealmente dependientes si son proporcionales entre sí y linealmente independientes en caso contrario. "
   ]
  },
  {
   "cell_type": "markdown",
   "metadata": {
    "slideshow": {
     "slide_type": "slide"
    }
   },
   "source": [
    "Los siguientes ejemplos ilustran la aplicación de las definiciones que acaban de darse. "
   ]
  },
  {
   "cell_type": "markdown",
   "metadata": {
    "slideshow": {
     "slide_type": "slide"
    }
   },
   "source": [
    "## Ejemplo 1 \n",
    "Página 154 del Boyce DiPrima "
   ]
  },
  {
   "cell_type": "markdown",
   "metadata": {
    "slideshow": {
     "slide_type": "slide"
    }
   },
   "source": [
    "Determinar si las funciones $\\sin(x)$ y $\\cos\\left(x - \\frac{\\pi}{2}\\right)$ son linealmente independientes o linealmente dependientes sobre un intervalo arbitrario. "
   ]
  },
  {
   "cell_type": "markdown",
   "metadata": {
    "slideshow": {
     "slide_type": "slide"
    }
   },
   "source": [
    "Las funciones dadas son linealmente dependientes sobre cualquier intervalo ya que \n",
    "\n",
    "$$ k_{1}\\sin(x) + k_{2}\\cos\\left(x - \\frac{\\pi}{2} \\right) = 0 $$\n",
    "\n",
    "para toda $x$ si se elige $k_{1} = 1$ y $k_{2} = -1$. \n"
   ]
  },
  {
   "cell_type": "code",
   "execution_count": null,
   "metadata": {
    "slideshow": {
     "slide_type": "skip"
    }
   },
   "outputs": [],
   "source": []
  },
  {
   "cell_type": "markdown",
   "metadata": {
    "slideshow": {
     "slide_type": "slide"
    }
   },
   "source": [
    "## Ejemplo 2\n",
    "Página 154 "
   ]
  },
  {
   "cell_type": "markdown",
   "metadata": {
    "slideshow": {
     "slide_type": "slide"
    }
   },
   "source": [
    "Demostrar que las funciones $e^{x}$ y $e^{2x}$ son linealmente independientes sobre cualquier intervalo. "
   ]
  },
  {
   "cell_type": "markdown",
   "metadata": {
    "slideshow": {
     "slide_type": "slide"
    }
   },
   "source": [
    "Al fin de establecer este resultado, se supone que \n",
    "\n",
    "$$ k_{1}e^{x} + k_{2}e^{2x} = 0 $$\n",
    "\n",
    "para toda $x$ en un intervalo. "
   ]
  },
  {
   "cell_type": "markdown",
   "metadata": {
    "slideshow": {
     "slide_type": "slide"
    }
   },
   "source": [
    "Entonces es necesario demostrar que $k_{1} = k_{2} = 0$. "
   ]
  },
  {
   "cell_type": "markdown",
   "metadata": {
    "slideshow": {
     "slide_type": "slide"
    }
   },
   "source": [
    "Elija dos puntos $x_{0}$ y $x_{1}$, en donde $x_{0} \\neq x_{0}$. "
   ]
  },
  {
   "cell_type": "markdown",
   "metadata": {
    "slideshow": {
     "slide_type": "slide"
    }
   },
   "source": [
    "Si se evalua $$ k_{1}e^{x} + k_{2}e^{2x} = 0 $$ en estos puntos obtenemos:\n",
    "\n",
    "\\begin{align*}\n",
    "k_{1}e^{x_{0}} + k_{2}e^{2x_{0}} & = 0 \\\\\n",
    "k_{1}e^{x_{1}} + k_{2}e^{2x_{1}} & = 0\n",
    "\\end{align*}\n"
   ]
  },
  {
   "cell_type": "markdown",
   "metadata": {
    "slideshow": {
     "slide_type": "slide"
    }
   },
   "source": [
    "El determinante de los coeficientes es\n",
    "\n",
    "$$ e^{x_{0}}e^{2x_{1}} - e^{x_{1}}e^{2x_{0}} = e^{x_{0}}e^{x_{1}}(e^{x_{1}} - e^{x_{0}}) $$\n"
   ]
  },
  {
   "cell_type": "markdown",
   "metadata": {
    "slideshow": {
     "slide_type": "slide"
    }
   },
   "source": [
    "Dado que el determinante es diferente de cero, se concluye que la única solución del sistema \n",
    "\n",
    "\\begin{align*}\n",
    "k_{1}e^{x_{0}} + k_{2}e^{2x_{0}} & = 0 \\\\\n",
    "k_{1}e^{x_{1}} + k_{2}e^{2x_{1}} & = 0\n",
    "\\end{align*}\n",
    "\n",
    "es $k_{1} = k_{2} = 0$. \n",
    "\n"
   ]
  },
  {
   "cell_type": "markdown",
   "metadata": {
    "slideshow": {
     "slide_type": "slide"
    }
   },
   "source": [
    "De donde $e^{x}$ y $e^{2x}$ son linealmente independientes. "
   ]
  },
  {
   "cell_type": "code",
   "execution_count": null,
   "metadata": {
    "slideshow": {
     "slide_type": "skip"
    }
   },
   "outputs": [],
   "source": []
  },
  {
   "cell_type": "markdown",
   "metadata": {
    "slideshow": {
     "slide_type": "slide"
    }
   },
   "source": [
    "## Teorema 3.3.1 "
   ]
  },
  {
   "cell_type": "markdown",
   "metadata": {
    "slideshow": {
     "slide_type": "slide"
    }
   },
   "source": [
    "Si $f$ y $g$ son funciones diferenciables sobre un intervalo abierto $I$ y si $W(f,g)(x_{0}) \\neq 0$ para algún $x_{0}$ en $I$, entonces $f$ y $g$ son linealmente independientes sobre $I$. "
   ]
  },
  {
   "cell_type": "markdown",
   "metadata": {
    "slideshow": {
     "slide_type": "slide"
    }
   },
   "source": [
    "De manera alternativa, si $f$ y $g$, son linealmente dependientes sobre $I$, entonces $W(f,g)(x) = 0$ para toda $x$ en $I$: "
   ]
  },
  {
   "cell_type": "code",
   "execution_count": null,
   "metadata": {
    "slideshow": {
     "slide_type": "slide"
    }
   },
   "outputs": [],
   "source": []
  },
  {
   "cell_type": "markdown",
   "metadata": {
    "slideshow": {
     "slide_type": "slide"
    }
   },
   "source": [
    "### Demostración "
   ]
  },
  {
   "cell_type": "markdown",
   "metadata": {
    "slideshow": {
     "slide_type": "slide"
    }
   },
   "source": [
    "Para probar la primera proposición del teorema 3.3.1 considérese una combinación lineal \n",
    "\n",
    "$$ k_{1}f(x) + k_{2}g(x) = 0 $$\n",
    "\n",
    "y supóngase que esta función es cero en todo el intervalo. \n"
   ]
  },
  {
   "cell_type": "markdown",
   "metadata": {
    "slideshow": {
     "slide_type": "slide"
    }
   },
   "source": [
    "Si se evaluan la expresión  y su derivada en un punto $x_{0}$, se tiene \n",
    "\n",
    "\\begin{align*}\n",
    "k_{1}f(x_{0}) + k_{2}g(x_{0}) & = 0 \\\\\n",
    "k_{1}f'(x_{0}) + k_{2}g'(x_{0}) & = 0 \n",
    "\\end{align*}\n"
   ]
  },
  {
   "cell_type": "markdown",
   "metadata": {
    "slideshow": {
     "slide_type": "slide"
    }
   },
   "source": [
    "El determinante de los coeficientes del sistema anterior es precisamente\n",
    "\n",
    "$$ W(f,g)(x_{0}), $$\n",
    "\n",
    "que por hipótesis es diferente de cero. \n"
   ]
  },
  {
   "cell_type": "markdown",
   "metadata": {
    "slideshow": {
     "slide_type": "slide"
    }
   },
   "source": [
    "Por lo tanto, la única solución del sistema es $k_{1} = k_{2} = 0$, de modo que $f$ y $g$ son linealmente independientes. "
   ]
  },
  {
   "cell_type": "code",
   "execution_count": null,
   "metadata": {
    "slideshow": {
     "slide_type": "slide"
    }
   },
   "outputs": [],
   "source": []
  },
  {
   "cell_type": "markdown",
   "metadata": {
    "slideshow": {
     "slide_type": "slide"
    }
   },
   "source": [
    "La segunda parte del teorema 3.3.1 se deduce de manera inmediata a partir de la primera. "
   ]
  },
  {
   "cell_type": "markdown",
   "metadata": {
    "slideshow": {
     "slide_type": "slide"
    }
   },
   "source": [
    "Sean $f$ y $g$ linealmente dependientes y supóngase que la conclusión es falsa; es decir, $W(f,g)$ no es cero en todo punto de $I$. "
   ]
  },
  {
   "cell_type": "markdown",
   "metadata": {},
   "source": [
    "Entonces existe un punto $x_{0}$ tal que $W(f,g)(x_{0}) \\neq 0$; por la primera parte del teorema 3.3.1, esto significa que $f$ y $g$ son linealmente independientes, lo cual es una contradicción, con lo que se completa la demostración. "
   ]
  },
  {
   "cell_type": "code",
   "execution_count": null,
   "metadata": {
    "slideshow": {
     "slide_type": "slide"
    }
   },
   "outputs": [],
   "source": []
  },
  {
   "cell_type": "markdown",
   "metadata": {
    "slideshow": {
     "slide_type": "slide"
    }
   },
   "source": [
    "Este resultado puede aplicarse a las dos funciones $f(x) = e^{x}$ y $g(x) = e^{2x}$ analizadas en el ejemplo 2. "
   ]
  },
  {
   "cell_type": "markdown",
   "metadata": {
    "slideshow": {
     "slide_type": "slide"
    }
   },
   "source": [
    "Para cualquier punto $x_{0}$ se tiene \n",
    "\n",
    "$$ W(e^{x},e^{2x})(x_{0}) = \\left| \\begin{matrix} e^{x} & e^{2x} \\\\ e^{x} & 2e^{2x} \\end{matrix} \\right| = e^{3x_{0}} \\neq 0  $$\n"
   ]
  },
  {
   "cell_type": "markdown",
   "metadata": {
    "slideshow": {
     "slide_type": "slide"
    }
   },
   "source": [
    "Por consiguiente, las funciones $e^{x}$ y $e^{2x}$ son linealmente independientes sobre cualquier interv"
   ]
  },
  {
   "cell_type": "code",
   "execution_count": null,
   "metadata": {
    "slideshow": {
     "slide_type": "slide"
    }
   },
   "outputs": [],
   "source": []
  },
  {
   "cell_type": "markdown",
   "metadata": {
    "slideshow": {
     "slide_type": "slide"
    }
   },
   "source": [
    "Es necesario tener cuidado en no leer demasiado el teorema 3.3.1. "
   ]
  },
  {
   "cell_type": "markdown",
   "metadata": {
    "slideshow": {
     "slide_type": "slide"
    }
   },
   "source": [
    "En particular, dos funciones $f$ y $g$ pueden ser linealmente independientes aunque $W(f,g)(x) = 0$ para $x$ en el intervalo $I$.  "
   ]
  },
  {
   "cell_type": "markdown",
   "metadata": {
    "slideshow": {
     "slide_type": "slide"
    }
   },
   "source": [
    "Este hecho se ilustra en el problema 23, sección 3.3. "
   ]
  },
  {
   "cell_type": "code",
   "execution_count": null,
   "metadata": {
    "slideshow": {
     "slide_type": "slide"
    }
   },
   "outputs": [],
   "source": []
  },
  {
   "cell_type": "markdown",
   "metadata": {
    "slideshow": {
     "slide_type": "slide"
    }
   },
   "source": [
    "Ahora se analizarán más propiedades del Wronsquiano de dos soluciones de una ecuación diferencial lineal homogénea de segundo orden.  "
   ]
  },
  {
   "cell_type": "markdown",
   "metadata": {
    "slideshow": {
     "slide_type": "slide"
    }
   },
   "source": [
    "El siguiente teorema, que quizá sorprenda, da una fórmula explícita simple para el wronsquiano de dos soluciones cualesquiera de esas ecuaciones. "
   ]
  },
  {
   "cell_type": "code",
   "execution_count": null,
   "metadata": {
    "slideshow": {
     "slide_type": "slide"
    }
   },
   "outputs": [],
   "source": []
  },
  {
   "cell_type": "markdown",
   "metadata": {
    "slideshow": {
     "slide_type": "slide"
    }
   },
   "source": [
    "## Teorema 3.3.2 (Teorema de Abel) "
   ]
  },
  {
   "cell_type": "markdown",
   "metadata": {
    "slideshow": {
     "slide_type": "slide"
    }
   },
   "source": [
    "Si $y_{1}$ y $y_{2}$ son soluciones de la ecuación diferencial \n",
    "\n",
    "$$ L[y] = y'' + p(x)y' + q(x)y = 0 $$\n",
    "\n",
    "en donde $p$ y $q$ son continuas sobre un intervalo abierto $I$, entonces el wronsquiano $w(y_{1}, y_{2})$ está dado por \n",
    "\n",
    "$$ w(y_{1},y_{2})(x) = c\\exp \\left( \\int p(x)dx \\right), $$\n",
    "\n",
    "donde $c$ es cierta constante que depende de $y_{1}$ y $y_{2}$ pero no de $x$. "
   ]
  },
  {
   "cell_type": "markdown",
   "metadata": {
    "slideshow": {
     "slide_type": "slide"
    }
   },
   "source": [
    "Es más, $w(y_{1},y_{2})(x) = 0$ para toda $x$ en $I$ (si $c = 0$), o bien nunca es cero en $I$, (si $c \\neq 0$). "
   ]
  },
  {
   "cell_type": "code",
   "execution_count": null,
   "metadata": {
    "slideshow": {
     "slide_type": "slide"
    }
   },
   "outputs": [],
   "source": []
  },
  {
   "cell_type": "markdown",
   "metadata": {
    "slideshow": {
     "slide_type": "slide"
    }
   },
   "source": [
    "### Demostración "
   ]
  },
  {
   "cell_type": "markdown",
   "metadata": {
    "slideshow": {
     "slide_type": "slide"
    }
   },
   "source": [
    "Para probar el Teorema de Abel, nótese en principio que $y_{1}$ y $y_{2}$ satisfacen \n",
    "\n",
    "\\begin{align*}\n",
    "y_{1}'' + p(x)y_{1}' + q(x)y_{1} & = 0 \\\\\n",
    "y_{2}'' + p(x)y_{2}' + q(x)y_{2} & = 0 \n",
    "\\end{align*}\n"
   ]
  },
  {
   "cell_type": "markdown",
   "metadata": {
    "slideshow": {
     "slide_type": "slide"
    }
   },
   "source": [
    "Si se multiplica la primera ecuación por $-y_{2}$ y la segunda por $y_{1}$, y se suman las ecuaciones obtenidas, obtenemos \n",
    "\n",
    "$$ (y_{1}y_{2}'' - y_{1}''y_{2}) + p(y_{1}y_{2}' - y_{1}'y_{2}) = 0 $$\n"
   ]
  },
  {
   "cell_type": "markdown",
   "metadata": {
    "slideshow": {
     "slide_type": "slide"
    }
   },
   "source": [
    "Si se hace $w(x) = w(y_{1},y_{2})(x)$ y se observa que \n",
    "\n",
    "$$w' = y_{1}y_{2}'' - y_{1}''y_{2} $$\n",
    "es posible escribir la ecuación \n",
    "\n",
    "$$ (y_{1}y_{2}'' - y_{1}''y_{2}) + p(y_{1}y_{2}' - y_{1}'y_{2}) = 0 $$\n",
    "\n",
    "en la forma \n",
    "\n",
    "$$ w' + pw = 0 $$\n"
   ]
  },
  {
   "cell_type": "markdown",
   "metadata": {
    "slideshow": {
     "slide_type": "slide"
    }
   },
   "source": [
    "La ecuación anterior puede resolverse de inmediato, ya que es tanto una ecuación lineal de primer orden (sección 2.1) como separable (sección 2.3). "
   ]
  },
  {
   "cell_type": "markdown",
   "metadata": {
    "slideshow": {
     "slide_type": "slide"
    }
   },
   "source": [
    "Por tanto \n",
    "\n",
    "$$ w = c\\exp \\left[ - \\int p(x)dx \\right] $$\n",
    "\n",
    "donde $c$ es una constante. "
   ]
  },
  {
   "cell_type": "markdown",
   "metadata": {
    "slideshow": {
     "slide_type": "slide"
    }
   },
   "source": [
    "El valor de $c$ depende del par de soluciones de \n",
    "\n",
    "$$ L[y] = y'' + p(x)y' + q(x)y = 0 $$\n",
    "\n",
    "que intervengan. "
   ]
  },
  {
   "cell_type": "markdown",
   "metadata": {
    "slideshow": {
     "slide_type": "slide"
    }
   },
   "source": [
    "Sin embargo, dado que la función exponencial nunca es cero, $w(x)$ no es cero, a menos que $c = 0$, en cuyo caso $w(x)$ es cero para toda $x$ con lo que se completa la demostración del teorema 3.2.2. "
   ]
  },
  {
   "cell_type": "markdown",
   "metadata": {
    "slideshow": {
     "slide_type": "slide"
    }
   },
   "source": [
    "Observe que los wronskianos de dos conjuntos fundamentales cualesquiera de soluciones de la misma ecuación diferencial solo pueden diferir en una constante multiplicativa y que puede determinarse el wronskiano  de cualquier conjunto fundamental de soluciones, hasta una constante multiplicativa, sin resolver la ecuación diferencial.   "
   ]
  },
  {
   "cell_type": "code",
   "execution_count": null,
   "metadata": {
    "slideshow": {
     "slide_type": "slide"
    }
   },
   "outputs": [],
   "source": []
  },
  {
   "cell_type": "markdown",
   "metadata": {
    "slideshow": {
     "slide_type": "slide"
    }
   },
   "source": [
    "## Ejemplo 3\n",
    "Página 157 "
   ]
  },
  {
   "cell_type": "markdown",
   "metadata": {
    "slideshow": {
     "slide_type": "slide"
    }
   },
   "source": [
    "En el ejemplo 5 de la sección 3.2 se comprobó que \n",
    "\n",
    "$$ y_{1} =  x^{1/2}, \\quad \\text{y} \\quad y = x^{-1} $$\n",
    "\n",
    "son soluciones de la ecuación \n",
    "\n",
    "$$ 2x^{2}y'' + 3xy'  - y = 0, \\quad \\quad x > 0 $$\n",
    "\n",
    "Comprobar que el wronskiano de $y_{1}$ y $y_{2}$ está dado por la ecuación \n",
    "\n",
    "$$ w = c\\exp \\left[ - \\int p(x)dx \\right] $$\n"
   ]
  },
  {
   "cell_type": "markdown",
   "metadata": {
    "slideshow": {
     "slide_type": "slide"
    }
   },
   "source": [
    "Con base en el ejemplo que acaba de citarse se sabe que $w(y_{1}, y_{2})(x) = -(3/2)x^{-3/2}$. "
   ]
  },
  {
   "cell_type": "markdown",
   "metadata": {
    "slideshow": {
     "slide_type": "slide"
    }
   },
   "source": [
    "Para utilizar la ecuación \n",
    "\n",
    "$$ w = c\\exp \\left[ - \\int p(x)dx \\right] $$"
   ]
  },
  {
   "cell_type": "code",
   "execution_count": null,
   "metadata": {
    "slideshow": {
     "slide_type": "slide"
    }
   },
   "outputs": [],
   "source": []
  },
  {
   "cell_type": "code",
   "execution_count": null,
   "metadata": {
    "slideshow": {
     "slide_type": "slide"
    }
   },
   "outputs": [],
   "source": []
  },
  {
   "cell_type": "code",
   "execution_count": null,
   "metadata": {
    "slideshow": {
     "slide_type": "slide"
    }
   },
   "outputs": [],
   "source": []
  },
  {
   "cell_type": "code",
   "execution_count": null,
   "metadata": {
    "slideshow": {
     "slide_type": "slide"
    }
   },
   "outputs": [],
   "source": []
  },
  {
   "cell_type": "code",
   "execution_count": null,
   "metadata": {
    "slideshow": {
     "slide_type": "slide"
    }
   },
   "outputs": [],
   "source": []
  },
  {
   "cell_type": "code",
   "execution_count": null,
   "metadata": {
    "slideshow": {
     "slide_type": "slide"
    }
   },
   "outputs": [],
   "source": []
  },
  {
   "cell_type": "code",
   "execution_count": null,
   "metadata": {
    "slideshow": {
     "slide_type": "slide"
    }
   },
   "outputs": [],
   "source": []
  },
  {
   "cell_type": "code",
   "execution_count": null,
   "metadata": {
    "slideshow": {
     "slide_type": "slide"
    }
   },
   "outputs": [],
   "source": []
  },
  {
   "cell_type": "code",
   "execution_count": null,
   "metadata": {
    "slideshow": {
     "slide_type": "slide"
    }
   },
   "outputs": [],
   "source": []
  },
  {
   "cell_type": "code",
   "execution_count": null,
   "metadata": {
    "slideshow": {
     "slide_type": "slide"
    }
   },
   "outputs": [],
   "source": []
  },
  {
   "cell_type": "code",
   "execution_count": null,
   "metadata": {
    "slideshow": {
     "slide_type": "slide"
    }
   },
   "outputs": [],
   "source": []
  },
  {
   "cell_type": "code",
   "execution_count": null,
   "metadata": {
    "slideshow": {
     "slide_type": "slide"
    }
   },
   "outputs": [],
   "source": []
  },
  {
   "cell_type": "code",
   "execution_count": 1,
   "metadata": {
    "slideshow": {
     "slide_type": "slide"
    }
   },
   "outputs": [],
   "source": [
    "from sympy import * "
   ]
  },
  {
   "cell_type": "code",
   "execution_count": 1,
   "metadata": {
    "slideshow": {
     "slide_type": "slide"
    }
   },
   "outputs": [
    {
     "data": {
      "text/latex": [
       "$\\displaystyle y{\\left(x \\right)} = C_{1} e^{- 9 x} + C_{2} e^{x}$"
      ],
      "text/plain": [
       "Eq(y(x), C1*exp(-9*x) + C2*exp(x))"
      ]
     },
     "execution_count": 1,
     "metadata": {},
     "output_type": "execute_result"
    }
   ],
   "source": [
    "from sympy import * \n",
    "x,y=symbols('x y')\n",
    "y=Function('y')(x)\n",
    "dsolve(diff(y,x,2)+8*diff(y,x)-9*y,y)  "
   ]
  },
  {
   "cell_type": "code",
   "execution_count": null,
   "metadata": {
    "slideshow": {
     "slide_type": "slide"
    }
   },
   "outputs": [],
   "source": []
  }
 ],
 "metadata": {
  "celltoolbar": "Slideshow",
  "hide_input": false,
  "kernelspec": {
   "display_name": "Python 3",
   "language": "python",
   "name": "python3"
  },
  "language_info": {
   "codemirror_mode": {
    "name": "ipython",
    "version": 3
   },
   "file_extension": ".py",
   "mimetype": "text/x-python",
   "name": "python",
   "nbconvert_exporter": "python",
   "pygments_lexer": "ipython3",
   "version": "3.7.4"
  },
  "nbTranslate": {
   "displayLangs": [
    "*"
   ],
   "hotkey": "alt-t",
   "langInMainMenu": true,
   "sourceLang": "en",
   "targetLang": "es",
   "useGoogleTranslate": true
  },
  "rise": {
   "enable_chalkboard": true,
   "theme": "sky",
   "transition": "zoom"
  }
 },
 "nbformat": 4,
 "nbformat_minor": 2
}
