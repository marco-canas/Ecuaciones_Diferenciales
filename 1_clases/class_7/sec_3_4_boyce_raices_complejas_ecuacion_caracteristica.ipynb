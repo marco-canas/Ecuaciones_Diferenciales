{
 "cells": [
  {
   "cell_type": "markdown",
   "id": "942efe06",
   "metadata": {},
   "source": [
    "# Sección 3.4 del Boyce DiPrima"
   ]
  },
  {
   "cell_type": "markdown",
   "id": "b60b9a06",
   "metadata": {},
   "source": [
    "## Raices complejas de la ecuación característica"
   ]
  },
  {
   "cell_type": "markdown",
   "id": "fda34408",
   "metadata": {},
   "source": [
    "Página 160"
   ]
  },
  {
   "cell_type": "markdown",
   "id": "bb9fa56b",
   "metadata": {},
   "source": [
    "En esta sección se continua el análisis de la ecuación:\n",
    "\n",
    "$$ ay'' + by' + cy = 0, $$\n",
    "\n",
    "en donde $a, b$ y $c$ son números reales dados. \n"
   ]
  },
  {
   "cell_type": "markdown",
   "id": "2269c983",
   "metadata": {},
   "source": [
    "En la sección 3.1"
   ]
  },
  {
   "cell_type": "code",
   "execution_count": null,
   "id": "0a62fb45",
   "metadata": {},
   "outputs": [],
   "source": []
  },
  {
   "cell_type": "code",
   "execution_count": null,
   "id": "9790aaeb",
   "metadata": {},
   "outputs": [],
   "source": []
  },
  {
   "cell_type": "code",
   "execution_count": null,
   "id": "80914a71",
   "metadata": {},
   "outputs": [],
   "source": []
  },
  {
   "cell_type": "code",
   "execution_count": null,
   "id": "87c40916",
   "metadata": {},
   "outputs": [],
   "source": []
  },
  {
   "cell_type": "code",
   "execution_count": null,
   "id": "c66bf6a3",
   "metadata": {},
   "outputs": [],
   "source": []
  }
 ],
 "metadata": {
  "kernelspec": {
   "display_name": "Python 3",
   "language": "python",
   "name": "python3"
  },
  "language_info": {
   "codemirror_mode": {
    "name": "ipython",
    "version": 3
   },
   "file_extension": ".py",
   "mimetype": "text/x-python",
   "name": "python",
   "nbconvert_exporter": "python",
   "pygments_lexer": "ipython3",
   "version": "3.8.8"
  },
  "latex_envs": {
   "LaTeX_envs_menu_present": true,
   "autoclose": false,
   "autocomplete": true,
   "bibliofile": "biblio.bib",
   "cite_by": "apalike",
   "current_citInitial": 1,
   "eqLabelWithNumbers": true,
   "eqNumInitial": 1,
   "hotkeys": {
    "equation": "Ctrl-E",
    "itemize": "Ctrl-I"
   },
   "labels_anchors": false,
   "latex_user_defs": false,
   "report_style_numbering": false,
   "user_envs_cfg": false
  }
 },
 "nbformat": 4,
 "nbformat_minor": 5
}
