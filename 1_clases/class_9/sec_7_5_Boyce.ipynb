{
 "cells": [
  {
   "cell_type": "markdown",
   "metadata": {
    "slideshow": {
     "slide_type": "slide"
    }
   },
   "source": [
    "<table align=\"left\">\n",
    "  <td>\n",
    "    <a href=\"https://colab.research.google.com/github/marco-canas/innovaciones/blob/main/ref/geron/math_linear_algebra/linear_algebra.ipynb\" target=\"_parent\"><img src=\"https://colab.research.google.com/assets/colab-badge.svg\" alt=\"Open In Colab\"/></a>\n",
    "  </td>\n",
    "  <td>\n",
    "    <a target=\"_blank\" href=\"https://kaggle.com/kernels/welcome?src=https://github.com/marco-canas/innovaciones/blob/main/ref/geron/math_linear_algebra/linear_algebra.ipynb\"><img src=\"https://kaggle.com/static/images/open-in-kaggle.svg\" /></a>\n",
    "  </td>\n",
    "</table>"
   ]
  },
  {
   "cell_type": "markdown",
   "metadata": {
    "slideshow": {
     "slide_type": "slide"
    }
   },
   "source": [
    "# Clase 9  "
   ]
  },
  {
   "cell_type": "markdown",
   "metadata": {
    "slideshow": {
     "slide_type": "slide"
    }
   },
   "source": [
    "## Tema del Parcial 3"
   ]
  },
  {
   "cell_type": "markdown",
   "metadata": {
    "slideshow": {
     "slide_type": "slide"
    }
   },
   "source": [
    "## Sistemas lineales homogéneos con coeficientes constantes\n",
    "Página 388 del Boyce DiPrima "
   ]
  },
  {
   "cell_type": "markdown",
   "metadata": {
    "slideshow": {
     "slide_type": "slide"
    }
   },
   "source": [
    "## Prerequisitos conceptuales"
   ]
  },
  {
   "cell_type": "markdown",
   "metadata": {
    "slideshow": {
     "slide_type": "slide"
    }
   },
   "source": [
    "* Sistemas lineales \n",
    "* Sistemas homogéneos y sus tipos de solución [Video de apoyo]()\n",
    "Considere la matriz \n",
    "$$ A = \\begin{pmatrix} 1 & -1 \\\\ 1 & -1 \\end{pmatrix} $$\n",
    "y ahora piense en el sistema homogéneo definido por esta matriz\n",
    "\n",
    "$$ Ax = 0 \\ \\ \\iff \\ \\ \\begin{pmatrix} 1 & -1 \\\\ 1 & -1 \\end{pmatrix} \\begin{pmatrix} x_{1} \\\\ x_{2} \\end{pmatrix} = \\begin{pmatrix} 0 \\\\ 0  \\end{pmatrix} $$\n"
   ]
  },
  {
   "cell_type": "markdown",
   "metadata": {
    "slideshow": {
     "slide_type": "slide"
    }
   },
   "source": [
    "# Desarrollo de la temática de sistemas de ecuaciones de primer orden homogéneos"
   ]
  },
  {
   "cell_type": "markdown",
   "metadata": {
    "slideshow": {
     "slide_type": "slide"
    }
   },
   "source": [
    "En esta sección de empieza por demostrar cómo construir la solución general de una sistema de ecuaciones diferenciales lineales homogéneas con coeficientes constantes; es decir, un sistema de la forma:\n",
    "\n",
    "$$ x' = Ax $$\n",
    "\n",
    "donde $A$ es una matriz constante de $n \\times n$. \n"
   ]
  },
  {
   "cell_type": "markdown",
   "metadata": {
    "slideshow": {
     "slide_type": "slide"
    }
   },
   "source": [
    "Por analogía con el tratamiento de als ecuaciones lineales de segundo orden en la sección 3.1, se buscan soluciones de $x' = Ax$ de la forma  \n",
    "\n",
    "$$x = \\xi e^{rt}$$\n",
    "\n",
    "en donde den  determinarse $r$ y el vector constante $\\xi$. \n"
   ]
  },
  {
   "cell_type": "markdown",
   "metadata": {
    "slideshow": {
     "slide_type": "slide"
    }
   },
   "source": [
    "Si se sustituye $x$ de la ecuación $x$ de $x = \\xi e^{rt}$ en el sistema $x' = Ax$ se obtiene\n",
    "\n",
    "$$ r\\xi e^{rt} =  A\\xi e^{rt} $$\n"
   ]
  },
  {
   "cell_type": "markdown",
   "metadata": {
    "slideshow": {
     "slide_type": "slide"
    }
   },
   "source": [
    "Una vez se cancela el factor escalar diferente de cero $e^{rt}$ se obtiene \n",
    "\n",
    "$$ A\\xi = r\\xi $$ \n",
    "\n",
    "o bien\n",
    "\n",
    "$$ (A - rI)\\xi = 0, $$\n",
    "\n",
    "en donde $I$ es la matriz identidad de $n \\times n$. "
   ]
  },
  {
   "cell_type": "markdown",
   "metadata": {
    "slideshow": {
     "slide_type": "slide"
    }
   },
   "source": [
    "Por tanto, para resolver el sistema de ecuaciones diferenciales $x' = Ax$, es necesario resolver  el sistema de ecuaciones algebraicas $(A - rI)\\xi = 0$."
   ]
  },
  {
   "cell_type": "markdown",
   "metadata": {
    "slideshow": {
     "slide_type": "slide"
    }
   },
   "source": [
    "Este último problema es precisamente aquél en el que se determinan los eigenvalores y los eigenvectores de la matriz $A$.  "
   ]
  },
  {
   "cell_type": "markdown",
   "metadata": {
    "slideshow": {
     "slide_type": "slide"
    }
   },
   "source": [
    "Por lo tanto, el vector $x$ dado por la ecuación $x = \\xi e^{rt}$ es la solución de $x' = Ax$ en el supuesto de que $r$ sea un eigenvalor y $\\xi$ un eigenvector asociados de la matriz de coeficientes $A$. "
   ]
  },
  {
   "cell_type": "markdown",
   "metadata": {
    "slideshow": {
     "slide_type": "slide"
    }
   },
   "source": [
    "## Ejemplo 1\n",
    "Página 389"
   ]
  },
  {
   "cell_type": "markdown",
   "metadata": {
    "slideshow": {
     "slide_type": "slide"
    }
   },
   "source": [
    "Encontrar la solución general del sistema \n",
    "\n",
    "$$ x' = \\begin{pmatrix}1 &1 \\\\ 4& 1\\end{pmatrix}x $$\n"
   ]
  },
  {
   "cell_type": "markdown",
   "metadata": {
    "slideshow": {
     "slide_type": "slide"
    }
   },
   "source": [
    "### Solución:"
   ]
  },
  {
   "cell_type": "markdown",
   "metadata": {
    "slideshow": {
     "slide_type": "slide"
    }
   },
   "source": [
    "Si se supone que $x = \\xi e^{rt}$ y se sustituye $x$ en la ecuación anterior se llega al sistema de ecuaciones algebraicas \n",
    "\n",
    "$$ \\begin{pmatrix} 1 -r & 1 \\\\ 4 & 1-r \\end{pmatrix}\\xi = \\begin{pmatrix} 0 \\\\ 0 \\end{pmatrix} $$\n"
   ]
  },
  {
   "cell_type": "markdown",
   "metadata": {
    "slideshow": {
     "slide_type": "slide"
    }
   },
   "source": [
    "Las ecuaciones anteriores tiene solución que no sea trivial si y solo si el determinante de la matriz de coeficientes es cero, por tanto a partir de la siguiente ecuación\n",
    "\n",
    "\\begin{align*}\n",
    "\\left| \\begin{matrix} 1-r & 1 \\\\ 4 & 1-r \\end{matrix} \\right| & = (1-r)^{2} - 4 \\\\\n",
    "& = r^{2} - 2r - 3 = 0\n",
    "\\end{align*}\n",
    "\n",
    "se encuentran valores permisibles de $r$. "
   ]
  },
  {
   "cell_type": "markdown",
   "metadata": {
    "slideshow": {
     "slide_type": "slide"
    }
   },
   "source": [
    "Las raíces de la ecuación anterior son $r_{1} = 3$ y $r_{2} = -1$ que son los eiden valores de la matriz de coeficientes de la ecuación $x' = Ax$. "
   ]
  },
  {
   "cell_type": "markdown",
   "metadata": {
    "slideshow": {
     "slide_type": "slide"
    }
   },
   "source": [
    "Si $r = 3$, entonces el sistema anterior se reduce a la ecuación \n",
    "\n",
    "$$ -2\\xi_{1} + \\xi_{2} = 0. $$\n"
   ]
  },
  {
   "cell_type": "markdown",
   "metadata": {
    "slideshow": {
     "slide_type": "slide"
    }
   },
   "source": [
    "Por tanto $\\xi_{2} = 2\\xi_{1}$ y el eigenvector correspondiente a $r_{1} = 3$ puede tomarse como \n",
    "\n",
    "$$ \\xi^{(1)} = \\begin{pmatrix} 1 \\\\ 2  \\end{pmatrix}. $$\n"
   ]
  },
  {
   "cell_type": "markdown",
   "metadata": {
    "slideshow": {
     "slide_type": "slide"
    }
   },
   "source": [
    "De manera semejante, correspondiendo a $r_{2} = -1$, se encuentra que $\\xi_{2} = -2\\xi_{1}$, de modo que un eigenvector que podemos tomar es:\n",
    "\n",
    "$$ \\xi^{(2)} = \\begin{pmatrix} 1 \\\\ -2  \\end{pmatrix}. $$\n"
   ]
  },
  {
   "cell_type": "markdown",
   "metadata": {
    "slideshow": {
     "slide_type": "slide"
    }
   },
   "source": [
    "Las soluciones correspondientes de la ecuación diferencial son \n",
    "\n",
    "$$ x^{(1)}(t) = \\begin{pmatrix} 1 \\\\ 2  \\end{pmatrix}e^{3t} \\quad \\quad x^{(2)}(t) = \\begin{pmatrix} 1 \\\\ -2  \\end{pmatrix}e^{-t}  $$\n"
   ]
  },
  {
   "cell_type": "markdown",
   "metadata": {
    "slideshow": {
     "slide_type": "slide"
    }
   },
   "source": [
    "El wronsquiano de estas soluciones es:\n",
    "\n",
    "$$ W[x^{(1)}, x^{(2)}](t) = \\left| \\begin{matrix} e^{3t} & e^{-t} \\\\ 2e^{3t} &  -2e^{-t} \\end{matrix} \\right| = -4e^{2t}, $$\n",
    "\n",
    "que nunca es cero. "
   ]
  },
  {
   "cell_type": "markdown",
   "metadata": {
    "slideshow": {
     "slide_type": "slide"
    }
   },
   "source": [
    "De donde, las soluciones  $x^{(1)}$ y $x^{(2)}$ forman un conjunto fundamental y la solución general del sistema $ x' = \\begin{pmatrix}1 &1 \\\\ 4& 1\\end{pmatrix}x $ es:\n",
    "\n",
    "\\begin{align*}\n",
    "x & =  c_{1}x^{(1)}(t) + c_{2}x^{(2)}(t) \\\\\n",
    "& = c_{1}\\begin{pmatrix} 1 \\\\ 2  \\end{pmatrix}e^{3t} + c_{2} \\begin{pmatrix} 1 \\\\ -2  \\end{pmatrix}e^{-t}\n",
    "\\end{align*}\n",
    "\n",
    "en donde $c_{1}$ y $c_{2}$ son constantes arbitrarias. \n"
   ]
  },
  {
   "cell_type": "markdown",
   "metadata": {
    "slideshow": {
     "slide_type": "slide"
    }
   },
   "source": [
    "### Visualización de la solución"
   ]
  },
  {
   "cell_type": "markdown",
   "metadata": {
    "slideshow": {
     "slide_type": "slide"
    }
   },
   "source": [
    "Para visualizar la solución anterior resulta útil considerar su gráfica  en el plano $x_{1}x_{2}$ para varios valores de las constantes $c_{1}$ y $c_{2}$. "
   ]
  },
  {
   "cell_type": "markdown",
   "metadata": {
    "slideshow": {
     "slide_type": "slide"
    }
   },
   "source": [
    "Se empieza con $\\mathbf{x} = c_{1}\\mathbf{x}^{(1)}(t) = c_{1}\\begin{pmatrix} 1 \\\\ 2  \\end{pmatrix}e^{3t}$, o en forma escalar\n",
    "\n",
    "$$ x_{1} = c_{1}e^{3t} , \\quad \\quad  x_{2} = 2c_{1}e^{3t}.$$\n"
   ]
  },
  {
   "cell_type": "markdown",
   "metadata": {
    "slideshow": {
     "slide_type": "slide"
    }
   },
   "source": [
    "Al eliminar $t$ entre las dos ecuaciones, se ve que esta solución se encuentra sobre la recta $x_{2} = 2x_{1}$.  \n",
    "En efecto dividiendo lado a lado las dos ecuaciones anteriores obtenemos:\n",
    "\n",
    "$$ \\frac{x_{1}}{x_{2}} = \\frac{c_{1}e^{3t}}{2c_{1}e^{3t}} $$\n"
   ]
  },
  {
   "cell_type": "markdown",
   "metadata": {
    "slideshow": {
     "slide_type": "slide"
    }
   },
   "source": [
    "$$ \\frac{x_{1}}{x_{2}} = \\frac{1}{2} $$"
   ]
  },
  {
   "cell_type": "markdown",
   "metadata": {
    "slideshow": {
     "slide_type": "slide"
    }
   },
   "source": [
    "$$ 2x_{1} = x_{2} $$"
   ]
  },
  {
   "cell_type": "markdown",
   "metadata": {
    "slideshow": {
     "slide_type": "slide"
    }
   },
   "source": [
    "Esta es la recta que pasa por el origen en la dirección del vector $\\xi^{(1)} = \\begin{pmatrix} 1 \\\\ 2 \\end{pmatrix}$"
   ]
  },
  {
   "cell_type": "markdown",
   "metadata": {
    "slideshow": {
     "slide_type": "slide"
    }
   },
   "source": [
    "Si la solución se considera como la trayectoria de una partícula en movimiento, entonces ésta se encuentra en el primer cuadrante cuendo $c_{1} > 0$ y en el tercero cuando $c_{1} < 0$. "
   ]
  },
  {
   "cell_type": "markdown",
   "metadata": {
    "slideshow": {
     "slide_type": "slide"
    }
   },
   "source": [
    "En cualquier caso, la partícula se aleja del origen a medida que $t$ crece. "
   ]
  },
  {
   "cell_type": "code",
   "execution_count": null,
   "metadata": {
    "slideshow": {
     "slide_type": "slide"
    }
   },
   "outputs": [],
   "source": []
  },
  {
   "cell_type": "code",
   "execution_count": null,
   "metadata": {
    "slideshow": {
     "slide_type": "slide"
    }
   },
   "outputs": [],
   "source": []
  },
  {
   "cell_type": "markdown",
   "metadata": {
    "slideshow": {
     "slide_type": "slide"
    }
   },
   "source": [
    "## Grafiquemos dicha trayectoria utilizando la metodología Geron"
   ]
  },
  {
   "cell_type": "markdown",
   "metadata": {
    "slideshow": {
     "slide_type": "slide"
    }
   },
   "source": [
    "1. Definimos las funciones escalares $x_{1}(t,c_{1}, c_{2})$ y $x_{2}(t,c_{1}, c_{2})$ como funciones de Python\n",
    "2. Definimos la función vectorial $x$ también como función de Python pero reutilizando las \n",
    "   funciones escalares componentes anteriores. "
   ]
  },
  {
   "cell_type": "code",
   "execution_count": 1,
   "metadata": {
    "slideshow": {
     "slide_type": "slide"
    }
   },
   "outputs": [],
   "source": [
    "import numpy as np \n",
    "import matplotlib.pyplot as plt \n",
    "plt.style.use('dark_background')\n",
    "\n",
    "# Definición de funciones componentes o funciones escalares x1 y x2\n",
    "\n",
    "def x1(c1,c2,t):\n",
    "    x1 = c1*np.exp(3*t) + c2*np.exp(-t)\n",
    "    return x1 \n",
    "\n",
    "def x2(c1, c2, t):\n",
    "    x2 = 2*c1*np.exp(3*t) - 2*c2*np.exp(-t) \n",
    "    return x2 \n",
    "\n",
    "# definición de función vectorial x\n",
    "\n",
    "def x(c1,c2,t):\n",
    "    return np.array(x1(t,c1,c2), x2(t,c1,c2)) \n",
    "\n"
   ]
  },
  {
   "cell_type": "code",
   "execution_count": 2,
   "metadata": {
    "scrolled": true,
    "slideshow": {
     "slide_type": "slide"
    }
   },
   "outputs": [
    {
     "data": {
      "application/vnd.jupyter.widget-view+json": {
       "model_id": "e751efe652be4fb1b497f91e9d4d7f82",
       "version_major": 2,
       "version_minor": 0
      },
      "text/plain": [
       "interactive(children=(FloatSlider(value=1.0, description='c1', max=1.5, min=-1.5, step=0.5), FloatSlider(value…"
      ]
     },
     "metadata": {},
     "output_type": "display_data"
    },
    {
     "data": {
      "text/plain": [
       "<function __main__.trayectoria(c1=1, c2=1)>"
      ]
     },
     "execution_count": 2,
     "metadata": {},
     "output_type": "execute_result"
    }
   ],
   "source": [
    "from ipywidgets import interact \n",
    "\n",
    "def trayectoria(c1 = 1, c2 = 1):\n",
    "    ax = plt.subplot(111)\n",
    "    T = np.linspace(0,3)\n",
    "    X1 = [x1(c1,c2,t) for t in T] \n",
    "    X2 = [x2(c1,c2,t) for t in T]   \n",
    "    x,y = X1, X2\n",
    "    ax.plot(x,y)  \n",
    "    ax.scatter(x,y, color = 'r') \n",
    "    ax.set_xlim([-2,2])\n",
    "    ax.set_ylim([-2,2]) \n",
    "    ax.grid(True, alpha = 0.3)  \n",
    "\n",
    "interact(trayectoria, c1 = (-3/2,3/2,1/2), c2 = (-3/2,3/2,1/2))  \n"
   ]
  },
  {
   "cell_type": "markdown",
   "metadata": {
    "slideshow": {
     "slide_type": "slide"
    }
   },
   "source": [
    "<img src = 'https://github.com/marco-canas/Ecuaciones_Diferenciales/blob/main/1_clases/class_9/figura_7_5_1.JPG?raw=true'> "
   ]
  },
  {
   "cell_type": "markdown",
   "metadata": {
    "slideshow": {
     "slide_type": "slide"
    }
   },
   "source": [
    "<img src = 'https://github.com/marco-canas/Ecuaciones_Diferenciales/blob/main/1_clases/class_9/figura_7_5_1_b.JPG?raw=true'>"
   ]
  },
  {
   "cell_type": "code",
   "execution_count": null,
   "metadata": {
    "slideshow": {
     "slide_type": "slide"
    }
   },
   "outputs": [],
   "source": []
  },
  {
   "cell_type": "markdown",
   "metadata": {
    "slideshow": {
     "slide_type": "slide"
    }
   },
   "source": [
    "## Sistemas hermitianos \n",
    "Página 391 del Boyce DiPrima "
   ]
  },
  {
   "cell_type": "markdown",
   "metadata": {
    "slideshow": {
     "slide_type": "slide"
    }
   },
   "source": [
    "La situación es más sencilla cuando $A$ es una matriz hermitiana. "
   ]
  },
  {
   "cell_type": "markdown",
   "metadata": {
    "slideshow": {
     "slide_type": "slide"
    }
   },
   "source": [
    "Como se hizo ver en la sección 7.3, en este caso todos los eigenvalores son reales. "
   ]
  },
  {
   "cell_type": "markdown",
   "metadata": {
    "slideshow": {
     "slide_type": "slide"
    }
   },
   "source": [
    "Además, aun si alguno de los eigenvalores están repetidos, siempre existe un conjunto completo de $n$ eigenvectores $\\xi^{(1)}, \\ldots, \\xi^{(n)}$ que son linealmente independientes (de hecho, ortogonales).  "
   ]
  },
  {
   "cell_type": "markdown",
   "metadata": {
    "slideshow": {
     "slide_type": "slide"
    }
   },
   "source": [
    "De donde, las soluciones correspondientes del sistema diferencial $x' = Ax$ son \n",
    "\n",
    "$$ x^{(1)} = \\xi^{(1)}e^{r_{1}t}, \\quad \\ldots \\quad x^{n} = \\xi^{(n)}e^{r_{n}t} $$\n"
   ]
  },
  {
   "cell_type": "markdown",
   "metadata": {
    "slideshow": {
     "slide_type": "slide"
    }
   },
   "source": [
    "Para demostrar que estas soluciones forman un conjunto fundamental, se evalúa su wronskiano "
   ]
  },
  {
   "cell_type": "markdown",
   "metadata": {
    "slideshow": {
     "slide_type": "slide"
    }
   },
   "source": [
    "\\begin{align*}\n",
    "w[x^{(1)}, \\ldots, x^{(n)}](t) & = \\left| \\begin{matrix} \\xi^{(1)}_{1}e^{r_{1}t} & \\cdots & \\xi^{(n)}_{n}e^{r_{n}t} \\\\ \\vdots & & \\vdots \\\\ \\xi^{(1)}_{n}e^{r_{1}t}  & \\cdots & \\xi^{n}_{n}e^{r_{n}t} \\end{matrix} \\right| \\\\\n",
    "                               & = e^{r_{1}t}\\cdots e^{r_{n}t} \\left| \\begin{matrix} \\xi^{(1)}_{1} & \\cdots & \\xi^{(n)}_{n} \\\\ \n",
    "                               \\vdots & & \\vdots \\\\\n",
    "                               \\xi^{(1)}_{n} & \\cdots & \\xi^{(n)}_{n}\n",
    "                               \\end{matrix} \\right|\n",
    "\\end{align*}"
   ]
  },
  {
   "cell_type": "markdown",
   "metadata": {
    "slideshow": {
     "slide_type": "slide"
    }
   },
   "source": [
    "En primer lugar se observa que la función exponencial nunca es cero. "
   ]
  },
  {
   "cell_type": "markdown",
   "metadata": {
    "slideshow": {
     "slide_type": "slide"
    }
   },
   "source": [
    "En seguida, como los eigenvectores $\\xi^{(1)}, \\ldots, \\xi^{(n)}$ son linealemente independientes, el determinante del último término de la ecuación enterior es diferente de cero.  "
   ]
  },
  {
   "cell_type": "markdown",
   "metadata": {
    "slideshow": {
     "slide_type": "slide"
    }
   },
   "source": [
    "Como consecuencia, el wronskiano $w[x^{(1)}, \\ldots, x^{(n)}](t)$ nunca es cero; de donde $x^{(1)}, \\ldots, x^{(n)}$ forman un conjunto fundamental de soluciones.  "
   ]
  },
  {
   "cell_type": "markdown",
   "metadata": {
    "slideshow": {
     "slide_type": "slide"
    }
   },
   "source": [
    "POr tanto, cuando $A$ es una matriz hermitiana, la solución general de la ecuación $x' = Ax$ es \n",
    "\n",
    "$$ x = c_{1}\\xi^{(1)}e^{r_{1}t} + \\cdots + c_{n}\\xi^{(n)}e^{r_{n}t}.  $$\n"
   ]
  },
  {
   "cell_type": "markdown",
   "metadata": {
    "slideshow": {
     "slide_type": "slide"
    }
   },
   "source": [
    "Una subclase de las matrices hermitianas es la clase de las matrices reales simétricas. "
   ]
  },
  {
   "cell_type": "markdown",
   "metadata": {
    "slideshow": {
     "slide_type": "slide"
    }
   },
   "source": [
    "Si $A$ es real y simétrica, entonces todos los eigenvectores $\\xi^{(1)}, \\ldots, \\xi^{(n)}$, así como los eigenvalores $r_{1}, \\ldots, r_{n}$ son reales.  "
   ]
  },
  {
   "cell_type": "markdown",
   "metadata": {
    "slideshow": {
     "slide_type": "slide"
    }
   },
   "source": [
    "De donde, las soluciones dadas por la ecuación \n",
    "\n",
    "$$ x^{(1)} = \\xi^{(1)}e^{r_{1}t}, \\quad \\ldots \\quad x^{n} = \\xi^{(n)}e^{r_{n}t} $$\n",
    "\n",
    "son de valores reales. \n"
   ]
  },
  {
   "cell_type": "markdown",
   "metadata": {
    "slideshow": {
     "slide_type": "slide"
    }
   },
   "source": [
    "Sin embargo, si la matriz hermitiana $A$ no es real, entonces en general los eigenvectores tienen partes reales diferentes de cero y las soluciones y las soluciones \n",
    "\n",
    "$$ x^{(1)} = \\xi^{(1)}e^{r_{1}t}, \\quad \\ldots \\quad x^{n} = \\xi^{(n)}e^{r_{n}t} $$\n",
    "\n",
    "son de valores complejos. "
   ]
  },
  {
   "cell_type": "markdown",
   "metadata": {
    "slideshow": {
     "slide_type": "slide"
    }
   },
   "source": [
    "## Ejemplo 2 \n",
    "Página 392"
   ]
  },
  {
   "cell_type": "markdown",
   "metadata": {
    "slideshow": {
     "slide_type": "slide"
    }
   },
   "source": [
    "Encontrar la solución general de \n",
    "\n",
    "$$ x' = \\begin{pmatrix} -3 & \\sqrt{2} \\\\\n",
    "\\sqrt{2} & -2\\end{pmatrix}x. $$\n"
   ]
  },
  {
   "cell_type": "markdown",
   "metadata": {
    "slideshow": {
     "slide_type": "slide"
    }
   },
   "source": [
    "### Solución: "
   ]
  },
  {
   "cell_type": "markdown",
   "metadata": {
    "slideshow": {
     "slide_type": "slide"
    }
   },
   "source": [
    " La matriz de coeficientes de la ecuación \n",
    " \n",
    " $$ x' = \\begin{pmatrix} -3 & \\sqrt{2} \\\\\n",
    "\\sqrt{2} & -2\\end{pmatrix}x. $$\n",
    "\n",
    "es real y simétrica, de modo que los resultados recientemente descritos son válidos para este problema. \n",
    " "
   ]
  },
  {
   "cell_type": "markdown",
   "metadata": {
    "slideshow": {
     "slide_type": "slide"
    }
   },
   "source": [
    "Si se supone que $x = \\xi e^{rt}$, se obtiene el sistema algebraico \n",
    "\n",
    "$$ \\begin{pmatrix} -3 - r & \\sqrt{2} \\\\ \\sqrt{2} & -2-r \\end{pmatrix} \\begin{pmatrix} \\xi_{1} \\\\ \\xi_{2} \\end{pmatrix} = \\begin{pmatrix} 0 \\\\ 0 \\end{pmatrix}  $$\n"
   ]
  },
  {
   "cell_type": "markdown",
   "metadata": {
    "slideshow": {
     "slide_type": "slide"
    }
   },
   "source": [
    "Los eigenvalores satisfacen \n",
    "\n",
    "\\begin{align*}\n",
    "(-3-r)(-2-r) - 2 & = r^{2} + 5r + 4 \\\\\n",
    "& = (r + 1)(r + 4) \\\\\n",
    "& = 0,\n",
    "\\end{align*}\n"
   ]
  },
  {
   "cell_type": "markdown",
   "metadata": {
    "slideshow": {
     "slide_type": "slide"
    }
   },
   "source": [
    "de modo que $r_{1} = -1$ y $r_{2} = -4$."
   ]
  },
  {
   "cell_type": "markdown",
   "metadata": {
    "slideshow": {
     "slide_type": "slide"
    }
   },
   "source": [
    "Para $r_{1} = -1$, la ecuación \n",
    "$$ \\begin{pmatrix} -3 - r & \\sqrt{2} \\\\ \\sqrt{2} & -2-r \\end{pmatrix} \\begin{pmatrix} \\xi_{1} \\\\ \\xi_{2} \\end{pmatrix} = \\begin{pmatrix} 0 \\\\ 0 \\end{pmatrix}  $$\n",
    "queda\n",
    "$$ \\begin{pmatrix} -3 - (-1) & \\sqrt{2} \\\\ \\sqrt{2} & -2-(-1)\\end{pmatrix} \\begin{pmatrix} \\xi_{1} \\\\ \\xi_{2} \\end{pmatrix} = \\begin{pmatrix} 0 \\\\ 0 \\end{pmatrix}  $$\n"
   ]
  },
  {
   "cell_type": "markdown",
   "metadata": {
    "slideshow": {
     "slide_type": "slide"
    }
   },
   "source": [
    "de donde $\\xi_{2} = \\sqrt{2}\\xi_{1}$ y el eigenvector $\\xi^{(1)}$ correspondiente al eigenvalor $r_{1} = -1$ puede tomarse como\n",
    "\n",
    "$$ \\xi^{(1)} = \\begin{pmatrix} 1 \\\\ \\sqrt{2} \\end{pmatrix}. $$\n"
   ]
  },
  {
   "cell_type": "markdown",
   "metadata": {
    "slideshow": {
     "slide_type": "slide"
    }
   },
   "source": [
    "De manera semejante, correspondiendo al eigenvalor $r_{2} = -4$, se tiene $\\xi_{1} = -\\sqrt{2}\\xi_{2}$, por lo que el eigenvector es:\n",
    "\n",
    "$$\\xi^{(2)} = \\begin{pmatrix} -\\sqrt{2} \\\\ 1 \\end{pmatrix} $$\n"
   ]
  },
  {
   "cell_type": "markdown",
   "metadata": {
    "slideshow": {
     "slide_type": "slide"
    }
   },
   "source": [
    "Por lo tanto, un conjunto fundamental de soluciones del sistema \n",
    "\n",
    "$$ x' = \\begin{pmatrix} -3 & \\sqrt{2} \\\\\n",
    "\\sqrt{2} & -2\\end{pmatrix}x. $$\n",
    "\n",
    "es \n",
    "\n",
    "$$ x^{(1)}(t) = \\begin{pmatrix} 1 \\\\ \\sqrt{2} \\end{pmatrix}e^{-t} \\qquad \\qquad x^{(2)}(t) = \\begin{pmatrix} -\\sqrt{2} \\\\ 1 \\end{pmatrix}e^{-4t}  $$\n"
   ]
  },
  {
   "cell_type": "markdown",
   "metadata": {
    "slideshow": {
     "slide_type": "slide"
    }
   },
   "source": [
    "y la solución general es \n",
    "\n",
    "$$ x = c_{1}x^{(1)}(t) + c_{2}x^{(2)}(t) = c_{1}\\begin{pmatrix} 1 \\\\ \\sqrt{2} \\end{pmatrix}e^{-t} + c_{2}\\begin{pmatrix} -\\sqrt{2} \\\\ 1 \\end{pmatrix}e^{-4t} $$\n"
   ]
  },
  {
   "cell_type": "markdown",
   "metadata": {
    "slideshow": {
     "slide_type": "slide"
    }
   },
   "source": [
    "## Gráfica de la solución para varios valores de $c_{1}$ y $c_{2}$ "
   ]
  },
  {
   "cell_type": "markdown",
   "metadata": {
    "slideshow": {
     "slide_type": "slide"
    }
   },
   "source": [
    "$$ x = \\begin{pmatrix} x_{1} \\\\ x_{2} \\end{pmatrix} = c_{1}x^{(1)}(t) + c_{2}x^{(2)}(t) = c_{1}\\begin{pmatrix} 1 \\\\ \\sqrt{2} \\end{pmatrix}e^{-t} + c_{2}\\begin{pmatrix} -\\sqrt{2} \\\\ 1 \\end{pmatrix}e^{-4t} $$"
   ]
  },
  {
   "cell_type": "code",
   "execution_count": 3,
   "metadata": {
    "slideshow": {
     "slide_type": "slide"
    }
   },
   "outputs": [
    {
     "data": {
      "image/png": "[encoded data removed]",
      "text/plain": [
       "<Figure size 432x288 with 1 Axes>"
      ]
     },
     "metadata": {},
     "output_type": "display_data"
    }
   ],
   "source": [
    "import numpy as np \n",
    "import matplotlib.pyplot as plt \n",
    "c1=np.array([-3,-2,-1,0,1,2,3])/5 \n",
    "c2=c1 \n",
    "\n",
    "t = np.linspace(-0.3,0.3,400) \n",
    "for i in c1:\n",
    "    for j in c2:\n",
    "        x1 = i*np.exp(-t) + j*(-np.sqrt(2))*np.exp(-4*t) \n",
    "        x2 = i*np.sqrt(2)*np.exp(-t) + j*np.exp(-4*t) \n",
    "        plt.plot(x1,x2) \n",
    "        \n",
    "plt.grid() \n",
    "plt.show() \n"
   ]
  },
  {
   "cell_type": "code",
   "execution_count": 4,
   "metadata": {
    "slideshow": {
     "slide_type": "slide"
    }
   },
   "outputs": [
    {
     "data": {
      "image/png": "[encoded data removed]",
      "text/plain": [
       "<Figure size 432x288 with 1 Axes>"
      ]
     },
     "metadata": {},
     "output_type": "display_data"
    }
   ],
   "source": [
    "import numpy as np \n",
    "import matplotlib.pyplot as plt \n",
    "c1=[-2,-1,0,1,2]\n",
    "c2=c1 \n",
    "\n",
    "t = np.linspace(-0.3,0.3,400) \n",
    "for i in c1:\n",
    "    for j in c2:\n",
    "        x1 = (i/2)*np.exp(-t) + (j/2)*(-np.sqrt(2))*np.exp(-4*t) \n",
    "        x2 = (i/2)*np.sqrt(2)*np.exp(-t) + (j/2)*np.exp(-4*t) \n",
    "        plt.plot(t,x1) \n",
    "        \n",
    "plt.grid() \n",
    "plt.savefig('hermosa.jpg')\n",
    "\n",
    "plt.show() "
   ]
  },
  {
   "cell_type": "code",
   "execution_count": null,
   "metadata": {
    "slideshow": {
     "slide_type": "skip"
    }
   },
   "outputs": [],
   "source": []
  },
  {
   "cell_type": "markdown",
   "metadata": {
    "slideshow": {
     "slide_type": "slide"
    }
   },
   "source": [
    "# 7.6 Eigenvalores complejos \n",
    "\n",
    "Página 398"
   ]
  },
  {
   "cell_type": "markdown",
   "metadata": {
    "slideshow": {
     "slide_type": "slide"
    }
   },
   "source": [
    "En esta sección nuevamente se considera un sistema de $n$ ecuaciones lineales homogéneas con coeficientes constantes \n",
    "\n",
    "$$ x' = Ax $$\n",
    "\n",
    "en donde ahora se supone que la matriz de coeficientes $A$ es de valores reales. "
   ]
  },
  {
   "cell_type": "markdown",
   "metadata": {
    "slideshow": {
     "slide_type": "slide"
    }
   },
   "source": [
    "Si se buscan soluciones de la forma $$ x = \\xi e^{rt}, $$\n",
    "entonces se concluye, como en la sección 7.5, que $r$ debe ser un eigenvalor y $\\xi$ un eigenvector correspondiente de la matriz de coeficientes $A$. "
   ]
  },
  {
   "cell_type": "markdown",
   "metadata": {
    "slideshow": {
     "slide_type": "slide"
    }
   },
   "source": [
    "Recuerdese que los eigenvalores $r_{1}, \\ldots, r_{n}$ de $A$ son las raíces de la ecuación \n",
    "\n",
    "$$ del(A - rI) = 0, $$\n",
    "\n",
    "y los eigenvectores correspondientes satisfacen \n",
    "\n",
    "$$ (A - rI)\\xi = 0. $$\n"
   ]
  },
  {
   "cell_type": "markdown",
   "metadata": {
    "slideshow": {
     "slide_type": "slide"
    }
   },
   "source": [
    "Si $A$ es real, entonces los coeficientes de la ecuación polinomial \n",
    "\n",
    "$$ det(A - rI) = 0 $$\n",
    "\n",
    "para $r$ son reales y cualesquiera eigenvalores complejos deben ocurrir en parejas conjugadas. \n"
   ]
  },
  {
   "cell_type": "markdown",
   "metadata": {
    "slideshow": {
     "slide_type": "slide"
    }
   },
   "source": [
    "Por ejemplo, si $r = \\lambda + i\\mu$, en donde $\\lambda$ y $\\mu$ son reales, es un eigenvalor de $A$, entonces también lo es $r_{2} = \\lambda - i\\mu$.  "
   ]
  },
  {
   "cell_type": "markdown",
   "metadata": {
    "slideshow": {
     "slide_type": "slide"
    }
   },
   "source": [
    "Además, los eigenvectores correspondientes $\\xi^{(1)}$ y $\\xi^{(2)}$ también son conjugados complejos. "
   ]
  },
  {
   "cell_type": "markdown",
   "metadata": {
    "slideshow": {
     "slide_type": "slide"
    }
   },
   "source": [
    "Para ver que así es, supóngase que $r_{1}$ y $\\xi^{(1)}$ satisfacen \n",
    "\n",
    "$$ (A - r_{1}I)\\xi^{(1)} = 0. $$\n"
   ]
  },
  {
   "cell_type": "markdown",
   "metadata": {
    "slideshow": {
     "slide_type": "slide"
    }
   },
   "source": [
    "Al tomar conjugado complejo de esta ecuación y observar que $A$ e $I$ son de valores reales, se obtiene que \n",
    "\n",
    "$$ (A - \\overline{r}_{1}I)\\overline{\\xi^{(1)}} = 0, $$\n",
    "\n",
    "en donde $\\overline{r_{1}}$ y $\\overline{\\xi^{(1)}}$ son los conjugados complejos de $r_{1}$ y $\\xi^{(1)}$ respectivamente. "
   ]
  },
  {
   "cell_type": "markdown",
   "metadata": {
    "slideshow": {
     "slide_type": "slide"
    }
   },
   "source": []
  },
  {
   "cell_type": "code",
   "execution_count": null,
   "metadata": {
    "slideshow": {
     "slide_type": "slide"
    }
   },
   "outputs": [],
   "source": []
  },
  {
   "cell_type": "markdown",
   "metadata": {
    "slideshow": {
     "slide_type": "slide"
    }
   },
   "source": [
    "## Referencias "
   ]
  },
  {
   "cell_type": "code",
   "execution_count": null,
   "metadata": {
    "slideshow": {
     "slide_type": "slide"
    }
   },
   "outputs": [],
   "source": []
  }
 ],
 "metadata": {
  "celltoolbar": "Slideshow",
  "hide_input": false,
  "kernelspec": {
   "display_name": "Python 3",
   "language": "python",
   "name": "python3"
  },
  "language_info": {
   "codemirror_mode": {
    "name": "ipython",
    "version": 3
   },
   "file_extension": ".py",
   "mimetype": "text/x-python",
   "name": "python",
   "nbconvert_exporter": "python",
   "pygments_lexer": "ipython3",
   "version": "3.8.8"
  },
  "latex_envs": {
   "LaTeX_envs_menu_present": true,
   "autoclose": false,
   "autocomplete": false,
   "bibliofile": "biblio.bib",
   "cite_by": "apalike",
   "current_citInitial": 1,
   "eqLabelWithNumbers": true,
   "eqNumInitial": 1,
   "hotkeys": {
    "equation": "Ctrl-E",
    "itemize": "Ctrl-I"
   },
   "labels_anchors": false,
   "latex_user_defs": false,
   "report_style_numbering": false,
   "user_envs_cfg": false
  },
  "nbTranslate": {
   "displayLangs": [
    "*"
   ],
   "hotkey": "alt-t",
   "langInMainMenu": true,
   "sourceLang": "en",
   "targetLang": "es",
   "useGoogleTranslate": true
  },
  "rise": {
   "enable_chalkboard": true,
   "theme": "sky",
   "transition": "zoom"
  }
 },
 "nbformat": 4,
 "nbformat_minor": 2
}
