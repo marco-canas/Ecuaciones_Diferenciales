{
 "cells": [
  {
   "cell_type": "markdown",
   "metadata": {
    "slideshow": {
     "slide_type": "slide"
    }
   },
   "source": [
    "# Clase 9 del jueves 3 de mayo de 2021 "
   ]
  },
  {
   "cell_type": "markdown",
   "metadata": {
    "slideshow": {
     "slide_type": "slide"
    }
   },
   "source": [
    "## Parcial 2 "
   ]
  },
  {
   "cell_type": "markdown",
   "metadata": {
    "slideshow": {
     "slide_type": "slide"
    }
   },
   "source": [
    "## Sistemas hermitianos \n",
    "Página 391 del Boyce DiPrima "
   ]
  },
  {
   "cell_type": "markdown",
   "metadata": {
    "slideshow": {
     "slide_type": "slide"
    }
   },
   "source": [
    "La situación es más sencilla cuando $A$ es una matriz hermitiana. "
   ]
  },
  {
   "cell_type": "markdown",
   "metadata": {
    "slideshow": {
     "slide_type": "slide"
    }
   },
   "source": [
    "Como se hizo ver en la sección 7.3, en este caso todos los eigenvalores son reales. "
   ]
  },
  {
   "cell_type": "markdown",
   "metadata": {
    "slideshow": {
     "slide_type": "slide"
    }
   },
   "source": [
    "Además, aun si alguno de los eigenvalores están repetidos, siempre existe un conjunto completo de $n$ eigenvectores $\\xi^{(1)}, \\ldots, \\xi^{(n)}$ que son linealmente independientes (de hecho, ortogonales).  "
   ]
  },
  {
   "cell_type": "markdown",
   "metadata": {
    "slideshow": {
     "slide_type": "slide"
    }
   },
   "source": [
    "De donde, las soluciones correspondientes del sistema diferencial $x' = Ax$ son \n",
    "\n",
    "$$ x^{(1)} = \\xi^{(1)}e^{r_{1}t}, \\quad \\ldots \\quad x^{n} = \\xi^{(n)}e^{r_{n}t} $$\n"
   ]
  },
  {
   "cell_type": "markdown",
   "metadata": {
    "slideshow": {
     "slide_type": "slide"
    }
   },
   "source": [
    "Para demostrar que estas soluciones forman un conjunto fundamental, se evalúa su wronskiano "
   ]
  },
  {
   "cell_type": "markdown",
   "metadata": {
    "slideshow": {
     "slide_type": "slide"
    }
   },
   "source": [
    "\\begin{align*}\n",
    "w[x^{(1)}, \\ldots, x^{(n)}](t) & = \\left| \\begin{matrix} \\xi^{(1)}_{1}e^{r_{1}t} & \\cdots & \\xi^{(n)}_{n}e^{r_{n}t} \\\\ \\vdots & & \\vdots \\\\ \\xi^{(1)}_{n}e^{r_{1}t}  & \\cdots & \\xi^{n}_{n}e^{r_{n}t} \\end{matrix} \\right| \\\\\n",
    "                               & = e^{r_{1}t}\\cdots e^{r_{n}t} \\left| \\begin{matrix} \\xi^{(1)}_{1} & \\cdots & \\xi^{(n)}_{n} \\\\ \n",
    "                               \\vdots & & \\vdots \\\\\n",
    "                               \\xi^{(1)}_{n} & \\cdots & \\xi^{(n)}_{n}\n",
    "                               \\end{matrix} \\right|\n",
    "\\end{align*}"
   ]
  },
  {
   "cell_type": "markdown",
   "metadata": {
    "slideshow": {
     "slide_type": "slide"
    }
   },
   "source": [
    "En primer lugar se observa que la función exponencial nunca es cero. "
   ]
  },
  {
   "cell_type": "markdown",
   "metadata": {
    "slideshow": {
     "slide_type": "slide"
    }
   },
   "source": [
    "En seguida, como los eigenvectores $\\xi^{(1)}, \\ldots, \\xi^{(n)}$ son linealemente independientes, el determinante del último término de la ecuación enterior es diferente de cero.  "
   ]
  },
  {
   "cell_type": "markdown",
   "metadata": {
    "slideshow": {
     "slide_type": "slide"
    }
   },
   "source": [
    "Como consecuencia, el wronskiano $w[x^{(1)}, \\ldots, x^{(n)}](t)$ nunca es cero; de donde $x^{(1)}, \\ldots, x^{(n)}$ forman un conjunto fundamental de soluciones.  "
   ]
  },
  {
   "cell_type": "markdown",
   "metadata": {
    "slideshow": {
     "slide_type": "slide"
    }
   },
   "source": [
    "POr tanto, cuando $A$ es una matriz hermitiana, la solución general de la ecuación $x' = Ax$ es \n",
    "\n",
    "$$ x = c_{1}\\xi^{(1)}e^{r_{1}t} + \\cdots + c_{n}\\xi^{(n)}e^{r_{n}t}.  $$\n"
   ]
  },
  {
   "cell_type": "markdown",
   "metadata": {
    "slideshow": {
     "slide_type": "slide"
    }
   },
   "source": [
    "Una subclase de las matrices hermitianas es la clase de las matrices reales simétricas. "
   ]
  },
  {
   "cell_type": "markdown",
   "metadata": {
    "slideshow": {
     "slide_type": "slide"
    }
   },
   "source": [
    "Si $A$ es real y simétrica, entonces todos los eigenvectores $\\xi^{(1)}, \\ldots, \\xi^{(n)}$, así como los eigenvalores $r_{1}, \\ldots, r_{n}$ son reales.  "
   ]
  },
  {
   "cell_type": "markdown",
   "metadata": {
    "slideshow": {
     "slide_type": "slide"
    }
   },
   "source": [
    "De donde, las soluciones dadas por la ecuación \n",
    "\n",
    "$$ x^{(1)} = \\xi^{(1)}e^{r_{1}t}, \\quad \\ldots \\quad x^{n} = \\xi^{(n)}e^{r_{n}t} $$\n",
    "\n",
    "son de valores reales. \n"
   ]
  },
  {
   "cell_type": "markdown",
   "metadata": {
    "slideshow": {
     "slide_type": "slide"
    }
   },
   "source": [
    "Sin embargo, si la matriz hermitiana $A$ no es real, entonces en general los eigenvectores tienen partes reales diferentes de cero y las soluciones y las soluciones \n",
    "\n",
    "$$ x^{(1)} = \\xi^{(1)}e^{r_{1}t}, \\quad \\ldots \\quad x^{n} = \\xi^{(n)}e^{r_{n}t} $$\n",
    "\n",
    "son de valores complejos. "
   ]
  },
  {
   "cell_type": "markdown",
   "metadata": {
    "slideshow": {
     "slide_type": "slide"
    }
   },
   "source": [
    "## Ejemplo 2 \n",
    "Página 392"
   ]
  },
  {
   "cell_type": "markdown",
   "metadata": {
    "slideshow": {
     "slide_type": "slide"
    }
   },
   "source": [
    "Encontrar la solución general de \n",
    "\n",
    "$$ x' = \\begin{pmatrix} -3 & \\sqrt{2} \\\\\n",
    "\\sqrt{2} & -2\\end{pmatrix}x. $$\n"
   ]
  },
  {
   "cell_type": "markdown",
   "metadata": {
    "slideshow": {
     "slide_type": "slide"
    }
   },
   "source": [
    "### Solución: "
   ]
  },
  {
   "cell_type": "markdown",
   "metadata": {
    "slideshow": {
     "slide_type": "slide"
    }
   },
   "source": [
    " La matriz de coeficientes de la ecuación \n",
    " \n",
    " $$ x' = \\begin{pmatrix} -3 & \\sqrt{2} \\\\\n",
    "\\sqrt{2} & -2\\end{pmatrix}x. $$\n",
    "\n",
    "es real y simétrica, de modo que los resultados recientemente descritos son válidos para este problema. \n",
    " "
   ]
  },
  {
   "cell_type": "markdown",
   "metadata": {
    "slideshow": {
     "slide_type": "slide"
    }
   },
   "source": [
    "Si se supone que $x = \\xi e^{rt}$, se obtiene el sistema algebraico \n",
    "\n",
    "$$ \\begin{pmatrix} -3 - r & \\sqrt{2} \\\\ \\sqrt{2} & -2-r \\end{pmatrix} \\begin{pmatrix} \\xi_{1} \\\\ \\xi_{2} \\end{pmatrix} = \\begin{pmatrix} 0 \\\\ 0 \\end{pmatrix}  $$\n"
   ]
  },
  {
   "cell_type": "markdown",
   "metadata": {
    "slideshow": {
     "slide_type": "slide"
    }
   },
   "source": [
    "Los eigenvalores satisfacen \n",
    "\n",
    "\\begin{align*}\n",
    "(-3-r)(-2-r) - 2 & = r^{2} + 5r + 4 \\\\\n",
    "& = (r + 1)(r + 4) \\\\\n",
    "& = 0,\n",
    "\\end{align*}\n"
   ]
  },
  {
   "cell_type": "markdown",
   "metadata": {
    "slideshow": {
     "slide_type": "slide"
    }
   },
   "source": [
    "de modo que $r_{1} = -1$ y $r_{2} = -4$."
   ]
  },
  {
   "cell_type": "markdown",
   "metadata": {
    "slideshow": {
     "slide_type": "slide"
    }
   },
   "source": [
    "Para $r_{1} = -1$, la ecuación \n",
    "$$ \\begin{pmatrix} -3 - r & \\sqrt{2} \\\\ \\sqrt{2} & -2-r \\end{pmatrix} \\begin{pmatrix} \\xi_{1} \\\\ \\xi_{2} \\end{pmatrix} = \\begin{pmatrix} 0 \\\\ 0 \\end{pmatrix}  $$\n",
    "queda\n",
    "$$ \\begin{pmatrix} -3 - (-1) & \\sqrt{2} \\\\ \\sqrt{2} & -2-(-1)\\end{pmatrix} \\begin{pmatrix} \\xi_{1} \\\\ \\xi_{2} \\end{pmatrix} = \\begin{pmatrix} 0 \\\\ 0 \\end{pmatrix}  $$\n"
   ]
  },
  {
   "cell_type": "markdown",
   "metadata": {
    "slideshow": {
     "slide_type": "slide"
    }
   },
   "source": [
    "de donde $\\xi_{2} = \\sqrt{2}\\xi_{1}$ y el eigenvector $\\xi^{(1)}$ correspondiente al eigenvalor $r_{1} = -1$ puede tomarse como\n",
    "\n",
    "$$ \\xi^{(1)} = \\begin{pmatrix} 1 \\\\ \\sqrt{2} \\end{pmatrix}. $$\n"
   ]
  },
  {
   "cell_type": "markdown",
   "metadata": {
    "slideshow": {
     "slide_type": "slide"
    }
   },
   "source": [
    "De manera semejante, correspondiendo al eigenvalor $r_{2} = -4$, se tiene $\\xi_{1} = -\\sqrt{2}\\xi_{2}$, por lo que el eigenvector es:\n",
    "\n",
    "$$\\xi^{(2)} = \\begin{pmatrix} -\\sqrt{2} \\\\ 1 \\end{pmatrix} $$\n"
   ]
  },
  {
   "cell_type": "markdown",
   "metadata": {
    "slideshow": {
     "slide_type": "slide"
    }
   },
   "source": [
    "Por lo tanto, un conjunto fundamental de soluciones del sistema \n",
    "\n",
    "$$ x' = \\begin{pmatrix} -3 & \\sqrt{2} \\\\\n",
    "\\sqrt{2} & -2\\end{pmatrix}x. $$\n",
    "\n",
    "es \n",
    "\n",
    "$$ x^{(1)}(t) = \\begin{pmatrix} 1 \\\\ \\sqrt{2} \\end{pmatrix}e^{-t} \\qquad \\qquad x^{(2)}(t) = \\begin{pmatrix} -\\sqrt{2} \\\\ 1 \\end{pmatrix}e^{-4t}  $$\n"
   ]
  },
  {
   "cell_type": "markdown",
   "metadata": {
    "slideshow": {
     "slide_type": "slide"
    }
   },
   "source": [
    "y la solución general es \n",
    "\n",
    "$$ x = c_{1}x^{(1)}(t) + c_{2}x^{(2)}(t) = c_{1}\\begin{pmatrix} 1 \\\\ \\sqrt{2} \\end{pmatrix}e^{-t} + c_{2}\\begin{pmatrix} -\\sqrt{2} \\\\ 1 \\end{pmatrix}e^{-4t} $$\n"
   ]
  },
  {
   "cell_type": "markdown",
   "metadata": {
    "slideshow": {
     "slide_type": "slide"
    }
   },
   "source": [
    "## Gráfica de la solución para varios valores de $c_{1}$ y $c_{2}$ "
   ]
  },
  {
   "cell_type": "markdown",
   "metadata": {
    "slideshow": {
     "slide_type": "slide"
    }
   },
   "source": [
    "$$ x = \\begin{pmatrix} x_{1} \\\\ x_{2} \\end{pmatrix} = c_{1}x^{(1)}(t) + c_{2}x^{(2)}(t) = c_{1}\\begin{pmatrix} 1 \\\\ \\sqrt{2} \\end{pmatrix}e^{-t} + c_{2}\\begin{pmatrix} -\\sqrt{2} \\\\ 1 \\end{pmatrix}e^{-4t} $$"
   ]
  },
  {
   "cell_type": "code",
   "execution_count": 25,
   "metadata": {
    "slideshow": {
     "slide_type": "slide"
    }
   },
   "outputs": [
    {
     "data": {
      "image/png": "[encoded data removed]",
      "text/plain": [
       "<Figure size 432x288 with 1 Axes>"
      ]
     },
     "metadata": {
      "needs_background": "light"
     },
     "output_type": "display_data"
    }
   ],
   "source": [
    "import numpy as np \n",
    "import matplotlib.pyplot as plt \n",
    "c1=np.array([-3,-2,-1,0,1,2,3])/5 \n",
    "c2=c1 \n",
    "\n",
    "t = np.linspace(-0.3,0.3,400) \n",
    "for i in c1:\n",
    "    for j in c2:\n",
    "        x1 = i*np.exp(-t) + j*(-np.sqrt(2))*np.exp(-4*t) \n",
    "        x2 = i*np.sqrt(2)*np.exp(-t) + j*np.exp(-4*t) \n",
    "        plt.plot(x1,x2) \n",
    "        \n",
    "plt.grid() \n",
    "plt.show() \n"
   ]
  },
  {
   "cell_type": "code",
   "execution_count": 20,
   "metadata": {
    "slideshow": {
     "slide_type": "slide"
    }
   },
   "outputs": [
    {
     "data": {
      "image/png": "[encoded data removed]",
      "text/plain": [
       "<Figure size 432x288 with 1 Axes>"
      ]
     },
     "metadata": {
      "needs_background": "light"
     },
     "output_type": "display_data"
    }
   ],
   "source": [
    "import numpy as np \n",
    "import matplotlib.pyplot as plt \n",
    "c1=[-2,-1,0,1,2]/2\n",
    "c2=c1 \n",
    "\n",
    "t = np.linspace(-0.3,0.3,400) \n",
    "for i in c1:\n",
    "    for j in c2:\n",
    "        x1 = i*np.exp(-t) + j*(-np.sqrt(2))*np.exp(-4*t) \n",
    "        x2 = i*np.sqrt(2)*np.exp(-t) + j*np.exp(-4*t) \n",
    "        plt.plot(t,x1) \n",
    "        \n",
    "plt.grid() \n",
    "plt.show() "
   ]
  },
  {
   "cell_type": "markdown",
   "metadata": {
    "slideshow": {
     "slide_type": "slide"
    }
   },
   "source": [
    "La solución $x^{(1)}(t)$ "
   ]
  },
  {
   "cell_type": "code",
   "execution_count": null,
   "metadata": {
    "slideshow": {
     "slide_type": "slide"
    }
   },
   "outputs": [],
   "source": []
  },
  {
   "cell_type": "code",
   "execution_count": null,
   "metadata": {
    "slideshow": {
     "slide_type": "slide"
    }
   },
   "outputs": [],
   "source": []
  },
  {
   "cell_type": "code",
   "execution_count": null,
   "metadata": {},
   "outputs": [],
   "source": []
  },
  {
   "cell_type": "code",
   "execution_count": null,
   "metadata": {},
   "outputs": [],
   "source": []
  },
  {
   "cell_type": "code",
   "execution_count": null,
   "metadata": {},
   "outputs": [],
   "source": []
  },
  {
   "cell_type": "code",
   "execution_count": null,
   "metadata": {},
   "outputs": [],
   "source": []
  },
  {
   "cell_type": "code",
   "execution_count": null,
   "metadata": {},
   "outputs": [],
   "source": []
  },
  {
   "cell_type": "code",
   "execution_count": null,
   "metadata": {
    "slideshow": {
     "slide_type": "slide"
    }
   },
   "outputs": [],
   "source": [
    "import numpy as np \n",
    "from numpy import linalg \n",
    "A=np.array()"
   ]
  },
  {
   "cell_type": "markdown",
   "metadata": {
    "slideshow": {
     "slide_type": "slide"
    }
   },
   "source": [
    "# dsolve_system"
   ]
  },
  {
   "cell_type": "markdown",
   "metadata": {
    "slideshow": {
     "slide_type": "slide"
    }
   },
   "source": [
    "`sympy.solvers.ode.systems.dsolve_system(eqs, funcs=None, t=None, ics=None, doit=False, simplify=True)`"
   ]
  },
  {
   "cell_type": "markdown",
   "metadata": {
    "lang": "es",
    "slideshow": {
     "slide_type": "slide"
    }
   },
   "source": [
    "Resuelve cualquier sistema (admitido) de ecuaciones diferenciales ordinarias"
   ]
  },
  {
   "cell_type": "markdown",
   "metadata": {
    "slideshow": {
     "slide_type": "slide"
    }
   },
   "source": [
    "## Parameters"
   ]
  },
  {
   "cell_type": "markdown",
   "metadata": {
    "slideshow": {
     "slide_type": "slide"
    }
   },
   "source": [
    "`eqs : List`\n",
    "\n",
    "system of ODEs to be solved"
   ]
  },
  {
   "cell_type": "markdown",
   "metadata": {
    "slideshow": {
     "slide_type": "slide"
    }
   },
   "source": [
    "`funcs : List or None`  \n",
    "\n",
    "List of dependent variables that make up the system of ODEs"
   ]
  },
  {
   "cell_type": "markdown",
   "metadata": {
    "slideshow": {
     "slide_type": "slide"
    }
   },
   "source": [
    "`t : Symbol or None`\n",
    "\n",
    "Independent variable in the system of ODEs"
   ]
  },
  {
   "cell_type": "markdown",
   "metadata": {
    "slideshow": {
     "slide_type": "slide"
    }
   },
   "source": [
    "`ics : Dict or None`\n",
    "\n",
    "Set of initial boundary/conditions for the system of ODEs"
   ]
  },
  {
   "cell_type": "markdown",
   "metadata": {
    "slideshow": {
     "slide_type": "slide"
    }
   },
   "source": [
    "`doit : Boolean`\n",
    "\n",
    "Evaluate the solutions if True. Default value is True. Can be set to false if the integral evaluation takes too much time and/or isn’t required."
   ]
  },
  {
   "cell_type": "markdown",
   "metadata": {
    "slideshow": {
     "slide_type": "slide"
    }
   },
   "source": [
    "simplify: Boolean\n",
    "\n",
    "Simplify the solutions for the systems. Default value is True. Can be set to false if simplification takes too much time and/or isn’t required."
   ]
  },
  {
   "cell_type": "markdown",
   "metadata": {
    "slideshow": {
     "slide_type": "slide"
    }
   },
   "source": [
    "## Returns"
   ]
  },
  {
   "cell_type": "markdown",
   "metadata": {
    "slideshow": {
     "slide_type": "slide"
    }
   },
   "source": [
    "List of List of Equations"
   ]
  },
  {
   "cell_type": "markdown",
   "metadata": {
    "slideshow": {
     "slide_type": "slide"
    }
   },
   "source": [
    "## Raises\n",
    "`NotImplementedError`"
   ]
  },
  {
   "cell_type": "markdown",
   "metadata": {
    "lang": "es",
    "slideshow": {
     "slide_type": "slide"
    }
   },
   "source": [
    "Cuando el sistema de EDO no se puede resolver con esta función."
   ]
  },
  {
   "cell_type": "markdown",
   "metadata": {
    "slideshow": {
     "slide_type": "slide"
    }
   },
   "source": [
    "`ValueError`\n",
    "\n",
    "When the parameters passed aren’t in the required form."
   ]
  },
  {
   "cell_type": "markdown",
   "metadata": {
    "lang": "es",
    "slideshow": {
     "slide_type": "slide"
    }
   },
   "source": [
    "## Explicación"
   ]
  },
  {
   "cell_type": "markdown",
   "metadata": {
    "lang": "es",
    "slideshow": {
     "slide_type": "slide"
    }
   },
   "source": [
    "Esta función toma un sistema de EDO como entrada, determina si se puede resolver mediante esta función y devuelve la solución si se encuentra alguna."
   ]
  },
  {
   "cell_type": "markdown",
   "metadata": {
    "lang": "en",
    "slideshow": {
     "slide_type": "slide"
    }
   },
   "source": [
    "This function can handle: 1. Linear, First Order, Constant coefficient homogeneous system of ODEs 2. Linear, First Order, Constant coefficient non-homogeneous system of ODEs 3. "
   ]
  },
  {
   "cell_type": "markdown",
   "metadata": {
    "lang": "es"
   },
   "source": [
    "Esta función puede manejar:\n",
    "1. Sistema homogéneo lineal, de primer orden, coeficiente constante de EDOs\n",
    "2. Sistema no homogéneo lineal, de primer orden, de coeficientes constantes de EDOs\n",
    "3. Sistema homogéneo lineal, de primer orden, de coeficiente no constante de EDO\n",
    "4. Sistema lineal, de primer orden, de coeficiente no constante y no homogéneo de EDO\n",
    "5. Cualquier sistema implícito que pueda dividirse en un sistema de EDO que sea de las 4 formas anteriores\n",
    "6. Cualquier sistema lineal de orden superior de EDO que pueda reducirse a una de las 5 formas de sistemas descritas anteriormente."
   ]
  },
  {
   "cell_type": "markdown",
   "metadata": {
    "lang": "es",
    "slideshow": {
     "slide_type": "slide"
    }
   },
   "source": [
    "Los tipos de sistemas descritos anteriormente no están limitados por el número de ecuaciones, es decir, esta función puede resolver los tipos anteriores independientemente del número de ecuaciones en el sistema pasado."
   ]
  },
  {
   "cell_type": "markdown",
   "metadata": {
    "slideshow": {
     "slide_type": "slide"
    }
   },
   "source": [
    "But, the bigger the system, the more time it will take to solve the system."
   ]
  },
  {
   "cell_type": "markdown",
   "metadata": {
    "slideshow": {
     "slide_type": "slide"
    }
   },
   "source": [
    "This function returns a list of solutions. "
   ]
  },
  {
   "cell_type": "markdown",
   "metadata": {
    "slideshow": {
     "slide_type": "slide"
    }
   },
   "source": [
    "Each solution is a list of equations where LHS is the dependent variable and RHS is an expression in terms of the independent variable."
   ]
  },
  {
   "cell_type": "markdown",
   "metadata": {
    "slideshow": {
     "slide_type": "slide"
    }
   },
   "source": [
    "Among the non constant coefficient types, not all the systems are solvable by this function. "
   ]
  },
  {
   "cell_type": "markdown",
   "metadata": {
    "slideshow": {
     "slide_type": "slide"
    }
   },
   "source": [
    "Only those which have either a coefficient matrix with a commutative antiderivative or those systems which may be divided further so that the divided systems may have coefficient matrix with commutative antiderivative."
   ]
  },
  {
   "cell_type": "markdown",
   "metadata": {
    "slideshow": {
     "slide_type": "slide"
    }
   },
   "source": [
    "## Examples"
   ]
  },
  {
   "cell_type": "code",
   "execution_count": 1,
   "metadata": {
    "slideshow": {
     "slide_type": "slide"
    }
   },
   "outputs": [
    {
     "ename": "ModuleNotFoundError",
     "evalue": "No module named 'sympy.solvers.ode.systems'; 'sympy.solvers.ode' is not a package",
     "output_type": "error",
     "traceback": [
      "\u001b[1;31m---------------------------------------------------------------------------\u001b[0m",
      "\u001b[1;31mModuleNotFoundError\u001b[0m                       Traceback (most recent call last)",
      "\u001b[1;32m<ipython-input-1-8606524d9457>\u001b[0m in \u001b[0;36m<module>\u001b[1;34m\u001b[0m\n\u001b[0;32m      1\u001b[0m \u001b[1;32mfrom\u001b[0m \u001b[0msympy\u001b[0m \u001b[1;32mimport\u001b[0m \u001b[0msymbols\u001b[0m\u001b[1;33m,\u001b[0m \u001b[0mEq\u001b[0m\u001b[1;33m,\u001b[0m \u001b[0mFunction\u001b[0m\u001b[1;33m\u001b[0m\u001b[1;33m\u001b[0m\u001b[0m\n\u001b[1;32m----> 2\u001b[1;33m \u001b[1;32mfrom\u001b[0m \u001b[0msympy\u001b[0m\u001b[1;33m.\u001b[0m\u001b[0msolvers\u001b[0m\u001b[1;33m.\u001b[0m\u001b[0mode\u001b[0m\u001b[1;33m.\u001b[0m\u001b[0msystems\u001b[0m \u001b[1;32mimport\u001b[0m \u001b[0mdsolve_system\u001b[0m\u001b[1;33m\u001b[0m\u001b[1;33m\u001b[0m\u001b[0m\n\u001b[0m\u001b[0;32m      3\u001b[0m \u001b[0mf\u001b[0m\u001b[1;33m,\u001b[0m \u001b[0mg\u001b[0m \u001b[1;33m=\u001b[0m \u001b[0msymbols\u001b[0m\u001b[1;33m(\u001b[0m\u001b[1;34m\"f g\"\u001b[0m\u001b[1;33m,\u001b[0m \u001b[0mcls\u001b[0m\u001b[1;33m=\u001b[0m\u001b[0mFunction\u001b[0m\u001b[1;33m)\u001b[0m\u001b[1;33m\u001b[0m\u001b[1;33m\u001b[0m\u001b[0m\n\u001b[0;32m      4\u001b[0m \u001b[0mx\u001b[0m \u001b[1;33m=\u001b[0m \u001b[0msymbols\u001b[0m\u001b[1;33m(\u001b[0m\u001b[1;34m\"x\"\u001b[0m\u001b[1;33m)\u001b[0m\u001b[1;33m\u001b[0m\u001b[1;33m\u001b[0m\u001b[0m\n",
      "\u001b[1;31mModuleNotFoundError\u001b[0m: No module named 'sympy.solvers.ode.systems'; 'sympy.solvers.ode' is not a package"
     ]
    }
   ],
   "source": [
    "from sympy import symbols, Eq, Function\n",
    "from sympy.solvers.ode.systems import dsolve_system\n",
    "f, g = symbols(\"f g\", cls=Function)\n",
    "x = symbols(\"x\")"
   ]
  },
  {
   "cell_type": "code",
   "execution_count": null,
   "metadata": {},
   "outputs": [],
   "source": [
    "!conda update sympy "
   ]
  },
  {
   "cell_type": "code",
   "execution_count": null,
   "metadata": {
    "slideshow": {
     "slide_type": "slide"
    }
   },
   "outputs": [],
   "source": [
    "eqs = [Eq(f(x).diff(x), g(x)), Eq(g(x).diff(x), f(x))]\n",
    "dsolve_system(eqs)"
   ]
  },
  {
   "cell_type": "markdown",
   "metadata": {
    "slideshow": {
     "slide_type": "slide"
    }
   },
   "source": [
    "You can also pass the initial conditions for the system of ODEs:"
   ]
  },
  {
   "cell_type": "code",
   "execution_count": null,
   "metadata": {
    "slideshow": {
     "slide_type": "slide"
    }
   },
   "outputs": [],
   "source": [
    "dsolve_system(eqs, ics={f(0): 1, g(0): 0})\n"
   ]
  },
  {
   "cell_type": "markdown",
   "metadata": {
    "lang": "es",
    "slideshow": {
     "slide_type": "slide"
    }
   },
   "source": [
    "Opcionalmente, puede pasar las variables dependientes y la variable independiente para la que se va a resolver el sistema:"
   ]
  },
  {
   "cell_type": "code",
   "execution_count": null,
   "metadata": {},
   "outputs": [],
   "source": []
  },
  {
   "cell_type": "markdown",
   "metadata": {
    "slideshow": {
     "slide_type": "slide"
    }
   },
   "source": [
    "# 7.6 Eigenvalores complejos \n",
    "\n",
    "Página 398"
   ]
  },
  {
   "cell_type": "markdown",
   "metadata": {
    "slideshow": {
     "slide_type": "slide"
    }
   },
   "source": [
    "En esta sección nuevamente se considera un sistema de $n$ ecuaciones lineales homogéneas con coeficientes constantes \n",
    "\n",
    "$$ x' = Ax $$\n",
    "\n",
    "en donde ahora se supone que la matriz de coeficientes $A$ es de valores reales. "
   ]
  },
  {
   "cell_type": "markdown",
   "metadata": {
    "slideshow": {
     "slide_type": "slide"
    }
   },
   "source": [
    "Si se buscan soluciones de la forma $$ x = \\xi e^{rt}, $$\n",
    "entonces se concluye, como en la sección 7.5, que $r$ debe ser un eigenvalor y $\\xi$ un eigenvector correspondiente de la matriz de coeficientes $A$. "
   ]
  },
  {
   "cell_type": "markdown",
   "metadata": {
    "slideshow": {
     "slide_type": "slide"
    }
   },
   "source": [
    "Recuerdese que los eigenvalores $r_{1}, \\ldots, r_{n}$ de $A$ son las raíces de la ecuación \n",
    "\n",
    "$$ del(A - rI) = 0, $$\n",
    "\n",
    "y los eigenvectores correspondientes satisfacen \n",
    "\n",
    "$$ (A - rI)\\xi = 0. $$\n"
   ]
  },
  {
   "cell_type": "markdown",
   "metadata": {
    "slideshow": {
     "slide_type": "slide"
    }
   },
   "source": [
    "Si $A$ es real, entonces los coeficientes de la ecuación polinomial \n",
    "\n",
    "$$ det(A - rI) = 0 $$\n",
    "\n",
    "para $r$ son reales y cualesquiera eigenvalores complejos deben ocurrir en parejas conjugadas. \n"
   ]
  },
  {
   "cell_type": "markdown",
   "metadata": {
    "slideshow": {
     "slide_type": "slide"
    }
   },
   "source": [
    "Por ejemplo, si $r = \\lambda + i\\mu$, en donde $\\lambda$ y $\\mu$ son reales, es un eigenvalor de $A$, entonces también lo es $r_{2} = \\lambda - i\\mu$.  "
   ]
  },
  {
   "cell_type": "markdown",
   "metadata": {
    "slideshow": {
     "slide_type": "slide"
    }
   },
   "source": [
    "Además, los eigenvectores correspondientes $\\xi^{(1)}$ y $\\xi^{(2)}$ también son conjugados complejos. "
   ]
  },
  {
   "cell_type": "markdown",
   "metadata": {
    "slideshow": {
     "slide_type": "slide"
    }
   },
   "source": [
    "Para ver que así es, supóngase que $r_{1}$ y $\\xi^{(1)}$ satisfacen \n",
    "\n",
    "$$ (A - r_{1}I)\\xi^{(1)} = 0. $$\n"
   ]
  },
  {
   "cell_type": "markdown",
   "metadata": {
    "slideshow": {
     "slide_type": "slide"
    }
   },
   "source": [
    "Al tomar conjugado complejo de esta ecuación y observar que $A$ e $I$ son de valores reales, se obtiene que \n",
    "\n",
    "$$ (A - \\overline{r}_{1}I)\\overline{\\xi^{(1)}} = 0, $$\n",
    "\n",
    "en donde $\\overline{r_{1}}$ y $\\overline{\\xi^{(1)}}$ son los conjugados complejos de $r_{1}$ y $\\xi^{(1)}$ respectivamente. "
   ]
  },
  {
   "cell_type": "markdown",
   "metadata": {
    "slideshow": {
     "slide_type": "slide"
    }
   },
   "source": []
  },
  {
   "cell_type": "code",
   "execution_count": null,
   "metadata": {
    "slideshow": {
     "slide_type": "slide"
    }
   },
   "outputs": [],
   "source": []
  },
  {
   "cell_type": "code",
   "execution_count": null,
   "metadata": {
    "slideshow": {
     "slide_type": "slide"
    }
   },
   "outputs": [],
   "source": []
  }
 ],
 "metadata": {
  "celltoolbar": "Slideshow",
  "hide_input": false,
  "kernelspec": {
   "display_name": "Python 3",
   "language": "python",
   "name": "python3"
  },
  "language_info": {
   "codemirror_mode": {
    "name": "ipython",
    "version": 3
   },
   "file_extension": ".py",
   "mimetype": "text/x-python",
   "name": "python",
   "nbconvert_exporter": "python",
   "pygments_lexer": "ipython3",
   "version": "3.7.4"
  },
  "nbTranslate": {
   "displayLangs": [
    "*"
   ],
   "hotkey": "alt-t",
   "langInMainMenu": true,
   "sourceLang": "en",
   "targetLang": "es",
   "useGoogleTranslate": true
  },
  "rise": {
   "enable_chalkboard": true,
   "theme": "sky",
   "transition": "zoom"
  }
 },
 "nbformat": 4,
 "nbformat_minor": 2
}
