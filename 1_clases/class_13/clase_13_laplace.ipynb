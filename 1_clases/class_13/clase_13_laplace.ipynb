{
 "cells": [
  {
   "cell_type": "markdown",
   "metadata": {},
   "source": [
    "# Clase 13 Transformada de Laplace "
   ]
  },
  {
   "cell_type": "markdown",
   "metadata": {},
   "source": [
    "Tomado de Dennis Zill, página 255 del pdf "
   ]
  },
  {
   "cell_type": "markdown",
   "metadata": {},
   "source": [
    "7.1 Definición de transformada de Laplace  \n",
    "7.2 Transformadas inversas y transformadas de derivadas.  \n",
    "7.3 Propiedades operacionales I\n",
    "  * Translación en el eje $s$  \n",
    "  * Translación en el eje $t$  \n",
    "  \n",
    "7.4 Propiedades operacionales II  \n",
    "  * Derivadas de la transformada  \n",
    "  * Transformada de una función periódica \n",
    "  \n",
    "7.5 La función delta de Dirac    \n",
    "7.6 Sistemas de ecuaciones diferenciales lineales   "
   ]
  },
  {
   "cell_type": "markdown",
   "metadata": {},
   "source": [
    "En los modelos matemáticos lineales para sistemas físicos tales como un sistema resorte - masa o un circuito eléctrico en serie, el miembro del lado derecho o entrada de las ecuaciones diferenciales\n",
    "\n",
    "$$ m\\frac{d^{2}x}{dt^{2}} + \\beta\\frac{dx}{dt} + kx = f(t) \\qquad \\text{o} \\qquad L\\frac{d^{2}q}{dt^{2}} + R\\frac{dq}{dt} + \\frac{1}{C}q = E(t)  $$\n",
    "\n",
    "es una función de conducción y representa ya sea una fuerza externa $f(t)$ o un voltaje aplicado $E(t)$. \n"
   ]
  },
  {
   "cell_type": "markdown",
   "metadata": {},
   "source": [
    "En la sección 5.1 consideramos problemas en los que las funciones $f$ y $E$ eran continuas. "
   ]
  },
  {
   "cell_type": "markdown",
   "metadata": {},
   "source": [
    "Sin embargo, las funciones de conducción discontinua son comunes. "
   ]
  },
  {
   "cell_type": "markdown",
   "metadata": {},
   "source": [
    "Por ejemplo, el voltaje aplicado a un circuito podría ser continuo en tramos y periódico tal como la función `diente de sierra` que se muestra seguidamente.  "
   ]
  },
  {
   "cell_type": "code",
   "execution_count": 5,
   "metadata": {},
   "outputs": [
    {
     "data": {
      "image/png": "[encoded data removed]",
      "text/plain": [
       "<Figure size 432x288 with 1 Axes>"
      ]
     },
     "metadata": {
      "needs_background": "light"
     },
     "output_type": "display_data"
    }
   ],
   "source": [
    "from scipy import signal \n",
    "import matplotlib.pyplot as plot \n",
    "import numpy as np \n",
    "  \n",
    "t = np.linspace(0, 1, 1000, endpoint=True) \n",
    "  \n",
    "plot.plot(t, signal.sawtooth(2 * np.pi * 5 * t)) \n",
    "  \n",
    "plot.xlabel('Time') \n",
    "plot.ylabel('Amplitude') \n",
    "plot.title('Sawtooth Signal - Geeksforgeeks') \n",
    "  \n",
    "plot.axhline(y=-1, color='k')  \n",
    "  \n",
    "plot.show() "
   ]
  },
  {
   "cell_type": "markdown",
   "metadata": {},
   "source": [
    "En este caso, resolver la ecuación diferencial del circuito es difícil usando las tecnicas del capítulo 4. "
   ]
  },
  {
   "cell_type": "markdown",
   "metadata": {},
   "source": [
    "La transformada de Laplace que se estudia en este capítulo es una valiosa herramienta que simplifica la solución de problemas como éste. "
   ]
  },
  {
   "cell_type": "markdown",
   "metadata": {},
   "source": [
    "Página 256 del Zill"
   ]
  },
  {
   "cell_type": "markdown",
   "metadata": {},
   "source": [
    "# 7.1 Definición de la Transformada de Laplace "
   ]
  },
  {
   "cell_type": "markdown",
   "metadata": {},
   "source": [
    "## Repaso del material"
   ]
  },
  {
   "cell_type": "markdown",
   "metadata": {},
   "source": [
    "* Integrales impropias \n",
    "* Descomposición en fracciones parciales "
   ]
  },
  {
   "cell_type": "markdown",
   "metadata": {},
   "source": [
    "## Introducción "
   ]
  },
  {
   "cell_type": "markdown",
   "metadata": {},
   "source": [
    "En cálculo elemental aprendió que la derivación que la derivación y la integración son *transformadas*; esto significa, a grandes rasgos, que estas operaciones transforman una función en otra. "
   ]
  },
  {
   "cell_type": "markdown",
   "metadata": {},
   "source": [
    "Por ejemplo, "
   ]
  },
  {
   "cell_type": "code",
   "execution_count": null,
   "metadata": {},
   "outputs": [],
   "source": []
  },
  {
   "cell_type": "code",
   "execution_count": null,
   "metadata": {},
   "outputs": [],
   "source": []
  },
  {
   "cell_type": "code",
   "execution_count": null,
   "metadata": {},
   "outputs": [],
   "source": []
  },
  {
   "cell_type": "code",
   "execution_count": null,
   "metadata": {},
   "outputs": [],
   "source": []
  }
 ],
 "metadata": {
  "hide_input": false,
  "kernelspec": {
   "display_name": "Python 3",
   "language": "python",
   "name": "python3"
  },
  "language_info": {
   "codemirror_mode": {
    "name": "ipython",
    "version": 3
   },
   "file_extension": ".py",
   "mimetype": "text/x-python",
   "name": "python",
   "nbconvert_exporter": "python",
   "pygments_lexer": "ipython3",
   "version": "3.7.4"
  },
  "nbTranslate": {
   "displayLangs": [
    "*"
   ],
   "hotkey": "alt-t",
   "langInMainMenu": true,
   "sourceLang": "en",
   "targetLang": "fr",
   "useGoogleTranslate": true
  }
 },
 "nbformat": 4,
 "nbformat_minor": 2
}
