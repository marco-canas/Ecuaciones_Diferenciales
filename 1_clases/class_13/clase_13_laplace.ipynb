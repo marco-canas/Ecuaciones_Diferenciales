{
 "cells": [
  {
   "cell_type": "markdown",
   "metadata": {},
   "source": [
    "# Clase 13 Transformada de Laplace "
   ]
  },
  {
   "cell_type": "markdown",
   "metadata": {},
   "source": [
    "Tomado de Dennis Zill, página 255 del pdf "
   ]
  },
  {
   "cell_type": "markdown",
   "metadata": {},
   "source": [
    "7.1 Definición de transformada de Laplace  \n",
    "7.2 Transformadas inversas y transformadas de derivadas.  \n",
    "7.3 Propiedades operacionales I\n",
    "  * Translación en el eje $s$  \n",
    "  * Translación en el eje $t$  \n",
    "  \n",
    "7.4 Propiedades operacionales II  \n",
    "  * Derivadas de la transformada  \n",
    "  * Transformada de una función periódica \n",
    "  \n",
    "7.5 La función delta de Dirac    \n",
    "7.6 Sistemas de ecuaciones diferenciales lineales   "
   ]
  },
  {
   "cell_type": "markdown",
   "metadata": {},
   "source": [
    "En los modelos matemáticos lineales para sistemas físicos tales como un sistema resorte - masa o un circuito eléctrico en serie, el miembro del lado derecho o entrada de las ecuaciones diferenciales\n",
    "\n",
    "$$ m\\frac{d^{2}x}{dt^{2}} + \\beta\\frac{dx}{dt} + kx = f(t) \\qquad \\text{o} \\qquad L\\frac{d^{2}q}{dt^{2}} + R\\frac{dq}{dt} + \\frac{1}{C}q = E(t)  $$\n",
    "\n",
    "es una función de conducción y representa ya sea una fuerza externa $f(t)$ o un voltaje aplicado $E(t)$. \n"
   ]
  },
  {
   "cell_type": "markdown",
   "metadata": {},
   "source": []
  },
  {
   "cell_type": "code",
   "execution_count": null,
   "metadata": {},
   "outputs": [],
   "source": []
  },
  {
   "cell_type": "code",
   "execution_count": null,
   "metadata": {},
   "outputs": [],
   "source": []
  },
  {
   "cell_type": "code",
   "execution_count": null,
   "metadata": {},
   "outputs": [],
   "source": []
  },
  {
   "cell_type": "code",
   "execution_count": null,
   "metadata": {},
   "outputs": [],
   "source": []
  },
  {
   "cell_type": "code",
   "execution_count": null,
   "metadata": {},
   "outputs": [],
   "source": []
  }
 ],
 "metadata": {
  "hide_input": false,
  "kernelspec": {
   "display_name": "Python 3",
   "language": "python",
   "name": "python3"
  },
  "language_info": {
   "codemirror_mode": {
    "name": "ipython",
    "version": 3
   },
   "file_extension": ".py",
   "mimetype": "text/x-python",
   "name": "python",
   "nbconvert_exporter": "python",
   "pygments_lexer": "ipython3",
   "version": "3.7.4"
  },
  "nbTranslate": {
   "displayLangs": [
    "*"
   ],
   "hotkey": "alt-t",
   "langInMainMenu": true,
   "sourceLang": "en",
   "targetLang": "fr",
   "useGoogleTranslate": true
  }
 },
 "nbformat": 4,
 "nbformat_minor": 2
}
