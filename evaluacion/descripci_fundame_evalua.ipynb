{
 "cells": [
  {
   "cell_type": "markdown",
   "id": "b021707a",
   "metadata": {},
   "source": []
  },
  {
   "cell_type": "markdown",
   "id": "7d337921",
   "metadata": {},
   "source": [
    "# Descripción y fundamentación de la evaluación en ODE"
   ]
  },
  {
   "cell_type": "markdown",
   "id": "8827f73f",
   "metadata": {},
   "source": [
    "* 6 valoraciones de trabajo en clase ()"
   ]
  },
  {
   "cell_type": "code",
   "execution_count": null,
   "id": "52b5653b",
   "metadata": {},
   "outputs": [],
   "source": []
  },
  {
   "cell_type": "code",
   "execution_count": null,
   "id": "4111fcac",
   "metadata": {},
   "outputs": [],
   "source": []
  },
  {
   "cell_type": "code",
   "execution_count": null,
   "id": "8b7232e8",
   "metadata": {},
   "outputs": [],
   "source": []
  },
  {
   "cell_type": "code",
   "execution_count": null,
   "id": "c1824273",
   "metadata": {},
   "outputs": [],
   "source": []
  },
  {
   "cell_type": "code",
   "execution_count": null,
   "id": "365b5e76",
   "metadata": {},
   "outputs": [],
   "source": []
  },
  {
   "cell_type": "code",
   "execution_count": null,
   "id": "a357d377",
   "metadata": {},
   "outputs": [],
   "source": []
  }
 ],
 "metadata": {
  "kernelspec": {
   "display_name": "Python 3 (ipykernel)",
   "language": "python",
   "name": "python3"
  },
  "language_info": {
   "codemirror_mode": {
    "name": "ipython",
    "version": 3
   },
   "file_extension": ".py",
   "mimetype": "text/x-python",
   "name": "python",
   "nbconvert_exporter": "python",
   "pygments_lexer": "ipython3",
   "version": "3.9.12"
  }
 },
 "nbformat": 4,
 "nbformat_minor": 5
}
