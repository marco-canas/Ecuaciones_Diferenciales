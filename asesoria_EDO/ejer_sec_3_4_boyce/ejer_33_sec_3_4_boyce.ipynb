{
 "cells": [
  {
   "cell_type": "markdown",
   "id": "19806b60",
   "metadata": {},
   "source": [
    "# Ejercicio 33 de la sección 3.4 del Boyce DiPrima\n",
    "\n",
    "Página 168"
   ]
  },
  {
   "cell_type": "markdown",
   "id": "fceed7df",
   "metadata": {},
   "source": [
    "Resuelva \n",
    "\n",
    "$$ x^{2}y'' + xy' + y = 0, \\ \\ x > 0 $$\n",
    "\n",
    "utilizando el cambio de variable $z = \\ln(x)$ "
   ]
  },
  {
   "cell_type": "markdown",
   "id": "6cb287d8",
   "metadata": {},
   "source": [
    "## Solución:"
   ]
  },
  {
   "cell_type": "markdown",
   "id": "5da4ff56",
   "metadata": {},
   "source": [
    "### Determinación de conceptos asociados"
   ]
  },
  {
   "cell_type": "markdown",
   "id": "06d64dd3",
   "metadata": {},
   "source": [
    "* $$e^{i\\mu t} = \\cos(\\mu t) + i\\sin(\\mu t)$$"
   ]
  },
  {
   "cell_type": "markdown",
   "id": "5c6a1316",
   "metadata": {},
   "source": [
    "## Metodología de solución"
   ]
  },
  {
   "cell_type": "markdown",
   "id": "b723a6ac",
   "metadata": {},
   "source": [
    "1. expresar las derivadas $y'= \\frac{dy}{dx}$ y $y'' = \\frac{d^{2}y}{dx^{2}}$  en términos de $x$ y de $\\frac{dy}{dz}$ y $\\frac{d^{2}y}{dz^{2}}$"
   ]
  },
  {
   "cell_type": "markdown",
   "id": "b147d1b5",
   "metadata": {},
   "source": [
    "2. Sustituir las enteriores derivadas en la ED original, simplificar para obtener una ED de coeficientes constantes. "
   ]
  },
  {
   "cell_type": "markdown",
   "id": "fbc0696e",
   "metadata": {},
   "source": [
    "3. Resolver la ED resolviendo la ecuación característica asociada y hallando la solución $y(z)$ de valor real."
   ]
  },
  {
   "cell_type": "markdown",
   "id": "be72ea21",
   "metadata": {},
   "source": [
    "4. Retornar a la variable independiente original para obtener la solución $y(x)$. "
   ]
  },
  {
   "cell_type": "markdown",
   "id": "2d4d7f13",
   "metadata": {},
   "source": [
    "## Puesta en marcha de la metodología de solución:"
   ]
  },
  {
   "cell_type": "markdown",
   "id": "800c9309",
   "metadata": {},
   "source": []
  },
  {
   "cell_type": "code",
   "execution_count": null,
   "id": "604eeeb6",
   "metadata": {},
   "outputs": [],
   "source": []
  },
  {
   "cell_type": "code",
   "execution_count": null,
   "id": "f9eae221",
   "metadata": {},
   "outputs": [],
   "source": []
  },
  {
   "cell_type": "markdown",
   "id": "860eefb3",
   "metadata": {},
   "source": [
    "## Gráfica de algunas de las soluciones"
   ]
  },
  {
   "cell_type": "code",
   "execution_count": 18,
   "id": "c3797dae",
   "metadata": {},
   "outputs": [
    {
     "data": {
      "image/png": "[encoded data removed]",
      "text/plain": [
       "<Figure size 432x288 with 1 Axes>"
      ]
     },
     "metadata": {
      "needs_background": "light"
     },
     "output_type": "display_data"
    }
   ],
   "source": [
    "# y(x) = c1cos(ln(x)) + c2sin(ln(x))\n",
    "import numpy as np \n",
    "\n",
    "import matplotlib.pyplot as plt\n",
    "\n",
    "fig = plt.figure()\n",
    "ax = fig.add_subplot()\n",
    "\n",
    "c1,c2 = 1,1\n",
    "\n",
    "x = np.linspace(0.01, 6, 200)\n",
    "y1 = np.cos(np.log(x))\n",
    "y2 = np.sin(np.log(x))\n",
    "\n",
    "ax.plot(x,c1*y1+c2*y2)\n",
    "\n",
    "ax.grid(True, alpha = 0.6) \n",
    "ax.set_title(\"La ecuación diferencial de Euler $x^{2}y'' + xy' + y = 0$, $x > 0$\")\n",
    "\n",
    "plt.savefig('euler.jpg')\n",
    "\n",
    "plt.show()\n"
   ]
  },
  {
   "cell_type": "markdown",
   "id": "8ea6c9ba",
   "metadata": {},
   "source": [
    "## Solución con sympy"
   ]
  },
  {
   "cell_type": "code",
   "execution_count": 19,
   "id": "0bb067ac",
   "metadata": {},
   "outputs": [
    {
     "data": {
      "text/latex": [
       "$\\displaystyle y{\\left(x \\right)} = C_{1} \\sin{\\left(\\log{\\left(x \\right)} \\right)} + C_{2} \\cos{\\left(\\log{\\left(x \\right)} \\right)}$"
      ],
      "text/plain": [
       "Eq(y(x), C1*sin(log(x)) + C2*cos(log(x)))"
      ]
     },
     "execution_count": 19,
     "metadata": {},
     "output_type": "execute_result"
    }
   ],
   "source": [
    "from sympy import *\n",
    "x,y = symbols('x y') \n",
    "y = Function(y)(x) \n",
    "ed = x**2*diff(y,x,2) + x*diff(y,x) + y\n",
    "dsolve(ed,y)  \n"
   ]
  },
  {
   "cell_type": "code",
   "execution_count": null,
   "id": "30ab17e6",
   "metadata": {},
   "outputs": [],
   "source": []
  }
 ],
 "metadata": {
  "kernelspec": {
   "display_name": "Python 3",
   "language": "python",
   "name": "python3"
  },
  "language_info": {
   "codemirror_mode": {
    "name": "ipython",
    "version": 3
   },
   "file_extension": ".py",
   "mimetype": "text/x-python",
   "name": "python",
   "nbconvert_exporter": "python",
   "pygments_lexer": "ipython3",
   "version": "3.8.8"
  },
  "latex_envs": {
   "LaTeX_envs_menu_present": true,
   "autoclose": false,
   "autocomplete": true,
   "bibliofile": "biblio.bib",
   "cite_by": "apalike",
   "current_citInitial": 1,
   "eqLabelWithNumbers": true,
   "eqNumInitial": 1,
   "hotkeys": {
    "equation": "Ctrl-E",
    "itemize": "Ctrl-I"
   },
   "labels_anchors": false,
   "latex_user_defs": false,
   "report_style_numbering": false,
   "user_envs_cfg": false
  },
  "rise": {
   "enable_chalkboard": true,
   "theme": "sky",
   "transition": "sky"
  }
 },
 "nbformat": 4,
 "nbformat_minor": 5
}
