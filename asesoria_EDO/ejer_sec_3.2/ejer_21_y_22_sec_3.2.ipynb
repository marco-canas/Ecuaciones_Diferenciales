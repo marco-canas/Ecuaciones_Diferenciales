{
 "cells": [
  {
   "cell_type": "markdown",
   "metadata": {},
   "source": [
    "## Ejercicio 6 de la sección 3.2 del Boyce DiPrima\n",
    "Página 152"
   ]
  },
  {
   "cell_type": "markdown",
   "metadata": {},
   "source": [
    "Encuentre el wronsquiano del par dado de funciones:\n",
    "\n",
    "$$ \\cos^{2}(x), \\quad \\quad 1 + \\cos(2x) $$\n"
   ]
  },
  {
   "cell_type": "markdown",
   "metadata": {},
   "source": [
    "## Solución:"
   ]
  },
  {
   "cell_type": "markdown",
   "metadata": {},
   "source": [
    "De las identidades trigonométricas tenemos que:\n",
    "\n",
    "$$ \\cos^{2}(x) = \\frac{1}{2}(1 + \\cos(2x)) $$\n"
   ]
  },
  {
   "cell_type": "markdown",
   "metadata": {},
   "source": [
    "de donde \n",
    "\n",
    "$$ (1)\\cos^{2}(x) + \\left( - \\frac{1}{2} \\right)(1 + \\cos(2x)) = 0 $$\n",
    "\n",
    "de donde por definición estas dos funciones son LD y por tanto, su wronskiano es cero\n"
   ]
  },
  {
   "cell_type": "code",
   "execution_count": null,
   "metadata": {},
   "outputs": [],
   "source": []
  },
  {
   "cell_type": "markdown",
   "metadata": {},
   "source": [
    "# Ejercicio 12 de la sección 3.2 "
   ]
  },
  {
   "cell_type": "markdown",
   "metadata": {},
   "source": [
    "Determine el mayor intervalo en el que se tiene la certeza de que el problema con valor inicial dado posee una solución única dos veces diferenciable. No intente hallar la solución:\n",
    "\n",
    "$$ (x-2)y'' + y' + (x-2)\\tan(x)y = 0, \\quad \\quad y(3) = 1, \\quad y'(3) = 2 $$\n"
   ]
  },
  {
   "cell_type": "markdown",
   "metadata": {},
   "source": [
    "## Solución: "
   ]
  },
  {
   "cell_type": "code",
   "execution_count": null,
   "metadata": {},
   "outputs": [],
   "source": []
  },
  {
   "cell_type": "code",
   "execution_count": null,
   "metadata": {},
   "outputs": [],
   "source": []
  },
  {
   "cell_type": "code",
   "execution_count": null,
   "metadata": {},
   "outputs": [],
   "source": []
  },
  {
   "cell_type": "markdown",
   "metadata": {},
   "source": [
    "# Ejercicios 21 y 22 de la sección 3.2"
   ]
  },
  {
   "cell_type": "markdown",
   "metadata": {},
   "source": [
    "Sobre los conjuntos de soluciones fundamentales $\\{y_{1}, y_{2}\\}$ tales que $y_{1}(x_{0}) = 0$, $y_{1}'(x_{0}) = 1$, $y_{2}(x_{0}) = 1$ y $y_{2}'(x_{0}) = 0$. "
   ]
  },
  {
   "cell_type": "markdown",
   "metadata": {},
   "source": [
    "### Ejercicio 21 \n",
    "Encuentre el conjunto fundamental de soluciones especificado por el teorema 3.2.5 para la ecuación diferencial y el punto inicial dados\n",
    "\n",
    "$$ y'' + y' - 2y = 0, \\quad \\quad x_{0} = 0 $$\n"
   ]
  },
  {
   "cell_type": "markdown",
   "metadata": {},
   "source": [
    "### Recordemos el teorema 3.2.5"
   ]
  },
  {
   "cell_type": "markdown",
   "metadata": {},
   "source": [
    "Considérese la ecuación diferencial \n",
    "\n",
    "$$ L[y] = y'' + p(x)y' + q(x)y = 0 $$\n",
    "\n",
    "cuyos coeficientes $p$ y $q$ son continuos sobre algún intervalo abierto $I$. \n",
    "Elija algún punto $x_{0}$ en $I$. \n",
    "Sea $y_{1}$ la solución de la ecuación \n",
    "\n",
    "$$ L[y] = y'' + p(x)y' + q(x)y = 0 $$\n",
    "\n",
    "que también satisface las condiciones inciales \n",
    "\n",
    "$$y(x_{0}) = 1, \\quad \\quad y'(x_{0}) = 0, $$\n",
    "\n",
    "y $y_{2}$ la solución de \n",
    "\n",
    "$$ L[y] = y'' + p(x)y' + q(x)y = 0 $$\n",
    "\n",
    "que satisface las condiciones iniciales \n",
    "\n",
    "$$ y(x_{0}) = 0, \\quad \\quad \\text{y} \\quad \\quad y'(x_{0}) = 1. $$\n",
    "\n",
    "Entonces, $y_{1}$ y $y_{2}$ forman un conjunto fundamental de soluciones de la ecuación \n",
    "\n",
    "$$ L[y] = y'' + p(x)y' + q(x)y = 0 $$"
   ]
  },
  {
   "cell_type": "markdown",
   "metadata": {},
   "source": [
    "## Solución analítica del ejercicio 21"
   ]
  },
  {
   "cell_type": "markdown",
   "metadata": {},
   "source": [
    "Determinemos la solución general de la ED dada: \n",
    "\n",
    "$$ y'' + y' - 2y = 0 $$\n"
   ]
  },
  {
   "cell_type": "markdown",
   "metadata": {},
   "source": [
    "$$ r^{2} + r - 2 = 0  $$"
   ]
  },
  {
   "cell_type": "markdown",
   "metadata": {},
   "source": [
    "$$ (r + 2)(r - 1) = 0  $$"
   ]
  },
  {
   "cell_type": "markdown",
   "metadata": {},
   "source": [
    "$$ r_{1} = -2 , \\qquad \\qquad r_{2} = 1 $$"
   ]
  },
  {
   "cell_type": "markdown",
   "metadata": {},
   "source": [
    "$$ y_{1} = e^{-2x}, \\qquad \\qquad y_{2} = e^{x} $$"
   ]
  },
  {
   "cell_type": "markdown",
   "metadata": {},
   "source": [
    "$$ y = c_{1}y_{1} + c_{2}y_{2} =  c_{1}e^{-2x} + c_{2}e^{x}  $$"
   ]
  },
  {
   "cell_type": "markdown",
   "metadata": {},
   "source": []
  },
  {
   "cell_type": "code",
   "execution_count": 1,
   "metadata": {},
   "outputs": [
    {
     "name": "stdout",
     "output_type": "stream",
     "text": [
      "1\n",
      "2\n",
      "3\n",
      "4\n"
     ]
    }
   ],
   "source": [
    "print(1,2,3,4,sep='\\n') "
   ]
  },
  {
   "cell_type": "code",
   "execution_count": null,
   "metadata": {},
   "outputs": [],
   "source": []
  }
 ],
 "metadata": {
  "hide_input": false,
  "kernelspec": {
   "display_name": "Python 3",
   "language": "python",
   "name": "python3"
  },
  "language_info": {
   "codemirror_mode": {
    "name": "ipython",
    "version": 3
   },
   "file_extension": ".py",
   "mimetype": "text/x-python",
   "name": "python",
   "nbconvert_exporter": "python",
   "pygments_lexer": "ipython3",
   "version": "3.7.4"
  },
  "nbTranslate": {
   "displayLangs": [
    "*"
   ],
   "hotkey": "alt-t",
   "langInMainMenu": true,
   "sourceLang": "en",
   "targetLang": "es",
   "useGoogleTranslate": true
  },
  "rise": {
   "enable_chalkboard": true,
   "theme": "sky",
   "transition": "sky"
  }
 },
 "nbformat": 4,
 "nbformat_minor": 2
}
