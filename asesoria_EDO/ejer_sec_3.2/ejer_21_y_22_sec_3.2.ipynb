{
 "cells": [
  {
   "cell_type": "markdown",
   "metadata": {},
   "source": [
    "# Ejercicios 21 y 22 de la sección 3.2"
   ]
  },
  {
   "cell_type": "markdown",
   "metadata": {},
   "source": [
    "Sobre los conjuntos de soluciones fundamentales $\\{y_{1}, y_{2}\\}$ tales que $y_{1}(x_{0}) = 0$, $y_{1}'(x_{0}) = 1$, $y_{2}(x_{0}) = 1$ y $y_{2}'(x_{0}) = 0$. "
   ]
  },
  {
   "cell_type": "markdown",
   "metadata": {},
   "source": [
    "### Ejercicio 21 \n",
    "Encuentre el conjunto fundamental de soluciones especificado por el teorema 3.2.5 para la ecuación diferencial y el punto inicial dados\n",
    "\n",
    "$$ y'' + y' - 2y = 0, \\quad \\quad x_{0} = 0 $$\n"
   ]
  },
  {
   "cell_type": "markdown",
   "metadata": {},
   "source": [
    "### Recordemos el teorema 3.2.5"
   ]
  },
  {
   "cell_type": "markdown",
   "metadata": {},
   "source": [
    "Considérese la ecuación diferencial \n",
    "\n",
    "$$ L[y] = y'' + p(x)y' + q(x)y = 0 $$\n",
    "\n",
    "cuyos coeficientes $p$ y $q$ son continuos sobre algún intervalo abierto $I$. \n",
    "Elija algún punto $x_{0}$ en $I$. \n",
    "Sea $y_{1}$ la solución de la ecuación \n",
    "\n",
    "$$ L[y] = y'' + p(x)y' + q(x)y = 0 $$\n",
    "\n",
    "que también satisface las condiciones inciales \n",
    "\n",
    "$$y(x_{0}) = 1, \\quad \\quad y'(x_{0}) = 0, $$\n",
    "\n",
    "y $y_{2}$ la solución de \n",
    "\n",
    "$$ L[y] = y'' + p(x)y' + q(x)y = 0 $$\n",
    "\n",
    "que satisface las condiciones iniciales \n",
    "\n",
    "$$ y(x_{0}) = 0, \\quad \\quad \\text{y} \\quad \\quad y'(x_{0}) = 1. $$\n",
    "\n",
    "Entonces, $y_{1}$ y $y_{2}$ forman un conjunto fundamental de soluciones de la ecuación \n",
    "\n",
    "$$ L[y] = y'' + p(x)y' + q(x)y = 0 $$"
   ]
  },
  {
   "cell_type": "markdown",
   "metadata": {},
   "source": []
  },
  {
   "cell_type": "markdown",
   "metadata": {},
   "source": [
    "\n"
   ]
  },
  {
   "cell_type": "markdown",
   "metadata": {},
   "source": []
  },
  {
   "cell_type": "markdown",
   "metadata": {},
   "source": []
  },
  {
   "cell_type": "code",
   "execution_count": null,
   "metadata": {},
   "outputs": [],
   "source": []
  },
  {
   "cell_type": "code",
   "execution_count": null,
   "metadata": {},
   "outputs": [],
   "source": []
  },
  {
   "cell_type": "code",
   "execution_count": null,
   "metadata": {},
   "outputs": [],
   "source": []
  },
  {
   "cell_type": "code",
   "execution_count": null,
   "metadata": {},
   "outputs": [],
   "source": []
  },
  {
   "cell_type": "code",
   "execution_count": null,
   "metadata": {},
   "outputs": [],
   "source": []
  }
 ],
 "metadata": {
  "hide_input": false,
  "kernelspec": {
   "display_name": "Python 3",
   "language": "python",
   "name": "python3"
  },
  "language_info": {
   "codemirror_mode": {
    "name": "ipython",
    "version": 3
   },
   "file_extension": ".py",
   "mimetype": "text/x-python",
   "name": "python",
   "nbconvert_exporter": "python",
   "pygments_lexer": "ipython3",
   "version": "3.7.4"
  },
  "nbTranslate": {
   "displayLangs": [
    "*"
   ],
   "hotkey": "alt-t",
   "langInMainMenu": true,
   "sourceLang": "en",
   "targetLang": "fr",
   "useGoogleTranslate": true
  }
 },
 "nbformat": 4,
 "nbformat_minor": 2
}
