{
 "cells": [
  {
   "cell_type": "markdown",
   "metadata": {
    "slideshow": {
     "slide_type": "slide"
    }
   },
   "source": [
    "<table align=\"left\">\n",
    "  <td>\n",
    "    <a href=\"https://colab.research.google.com/github/marco-canas/innovaciones/blob/main/ref/geron/math_linear_algebra/linear_algebra.ipynb\" target=\"_parent\"><img src=\"https://colab.research.google.com/assets/colab-badge.svg\" alt=\"Open In Colab\"/></a>\n",
    "  </td>\n",
    "  <td>\n",
    "    <a target=\"_blank\" href=\"https://kaggle.com/kernels/welcome?src=https://github.com/marco-canas/innovaciones/blob/main/ref/geron/math_linear_algebra/linear_algebra.ipynb\"><img src=\"https://kaggle.com/static/images/open-in-kaggle.svg\" /></a>\n",
    "  </td>\n",
    "</table>"
   ]
  },
  {
   "cell_type": "markdown",
   "metadata": {
    "slideshow": {
     "slide_type": "slide"
    }
   },
   "source": [
    "# Ejercicio 1 de la sección 7.5 de Boyce DiPrima"
   ]
  },
  {
   "cell_type": "markdown",
   "metadata": {
    "slideshow": {
     "slide_type": "slide"
    }
   },
   "source": [
    "Encuentra la solución general del sistema de ecuaciones \n",
    "\n",
    "$$ x' = \\begin{pmatrix} 3 & -2 \\\\ 2 & -2 \\end{pmatrix}x $$\n"
   ]
  },
  {
   "cell_type": "markdown",
   "metadata": {
    "slideshow": {
     "slide_type": "slide"
    }
   },
   "source": [
    "## Solución: "
   ]
  },
  {
   "cell_type": "code",
   "execution_count": 1,
   "metadata": {
    "slideshow": {
     "slide_type": "slide"
    }
   },
   "outputs": [],
   "source": [
    "import numpy as np \n",
    "import matplotlib.pyplot as plt \n",
    "\n",
    "\n",
    "\n",
    "A = np.array([[3,-2],[2,-2]])\n",
    "\n",
    "R, Xi = np.linalg.eig(A) \n",
    "\n",
    "r1, r2 = R[0], R[1] \n",
    "\n",
    "xi1, xi2 = Xi[0], Xi[1]\n",
    "\n",
    "\n",
    "def X_super_1(t):\n",
    "    return xi1*np.exp(r1*t)\n",
    "\n",
    "\n",
    "def X_super_2(t):\n",
    "    return xi2*np.exp(r2*t)\n",
    "\n"
   ]
  },
  {
   "cell_type": "markdown",
   "metadata": {
    "slideshow": {
     "slide_type": "slide"
    }
   },
   "source": [
    "## Graficación con matplotlib de algunas curvas solución del sistema \n",
    "\n",
    "$$ x' = \\begin{pmatrix} 3 & -2 \\\\ 2 & -2 \\end{pmatrix}x $$\n",
    "\n"
   ]
  },
  {
   "cell_type": "code",
   "execution_count": 2,
   "metadata": {
    "slideshow": {
     "slide_type": "slide"
    }
   },
   "outputs": [
    {
     "data": {
      "image/png": "[encoded data removed]",
      "text/plain": [
       "<Figure size 432x288 with 1 Axes>"
      ]
     },
     "metadata": {
      "needs_background": "light"
     },
     "output_type": "display_data"
    }
   ],
   "source": [
    "fig = plt.figure()\n",
    "ax = fig.add_subplot() \n",
    "\n",
    "T = np.linspace(-0.6,0.5,200) \n",
    "\n",
    "C1,C2 = [1], [-1] \n",
    "\n",
    "x_cord = [X_super_1(t)[0] + X_super_2(t)[0] for t in T]\n",
    "y_cosd = [X_super_1(t)[1] + X_super_2(t)[1] for t in T]\n",
    "ax.plot(x_cord, y_cosd)\n",
    "ax.grid(True) "
   ]
  },
  {
   "cell_type": "markdown",
   "metadata": {
    "slideshow": {
     "slide_type": "slide"
    }
   },
   "source": [
    "# Visualización \n",
    "## Animación como trayectoria de una partícula"
   ]
  },
  {
   "cell_type": "code",
   "execution_count": 3,
   "metadata": {
    "slideshow": {
     "slide_type": "slide"
    }
   },
   "outputs": [
    {
     "data": {
      "application/vnd.jupyter.widget-view+json": {
       "model_id": "f82482a9729647a0ac154b7a954fe138",
       "version_major": 2,
       "version_minor": 0
      },
      "text/plain": [
       "interactive(children=(FloatSlider(value=-0.6, description='t', max=0.5, min=-0.6, step=0.01), Output()), _dom_…"
      ]
     },
     "metadata": {},
     "output_type": "display_data"
    },
    {
     "data": {
      "text/plain": [
       "<function __main__.trayectoria(t=-0.6)>"
      ]
     },
     "execution_count": 3,
     "metadata": {},
     "output_type": "execute_result"
    }
   ],
   "source": [
    "import numpy as np \n",
    "import matplotlib.pyplot as plt \n",
    "\n",
    "from ipywidgets import interact \n",
    "\n",
    "def trayectoria(t = -0.6):\n",
    "    fig = plt.figure()\n",
    "    ax = fig.add_subplot() \n",
    "    T = np.linspace(-0.6,0.5,200) \n",
    "    C1,C2 = [-1,0,1], [-1,0,1] \n",
    "    x_cord = [X_super_1(t)[0] for t in T]\n",
    "    y_cosd = [X_super_1(t)[1] for t in T]\n",
    "    ax.plot(x_cord, y_cosd)\n",
    "    ax.scatter(X_super_1(t)[0], X_super_1(t)[1], color = 'r') \n",
    "    ax.axis([-2,3,-1,4])\n",
    "    ax.set_title(r'Gráfica de $x^{(1)}$ en el plano $x_{1}x_{2}$')\n",
    "    ax.set_xlabel(r'eje $x_{1}$')\n",
    "    ax.set_ylabel(r'eje $x_{2}$')\n",
    "    ax.grid(True) \n",
    "    \n",
    "    \n",
    "interact(trayectoria, t = (-0.6, 0.5, 0.01))     "
   ]
  },
  {
   "cell_type": "markdown",
   "metadata": {
    "slideshow": {
     "slide_type": "slide"
    }
   },
   "source": [
    "## [Verificación con Symbolab](https://es.symbolab.com/solver/step-by-step/x'%20%3D%20%5Cbegin%7Bpmatrix%7D3%26-2%5C%5C%20%202%26-2%5Cend%7Bpmatrix%7Dx) "
   ]
  },
  {
   "cell_type": "code",
   "execution_count": null,
   "metadata": {
    "slideshow": {
     "slide_type": "slide"
    }
   },
   "outputs": [],
   "source": []
  },
  {
   "cell_type": "markdown",
   "metadata": {
    "slideshow": {
     "slide_type": "slide"
    }
   },
   "source": [
    "## Solución analítica"
   ]
  },
  {
   "cell_type": "markdown",
   "metadata": {
    "slideshow": {
     "slide_type": "slide"
    }
   },
   "source": [
    "Si se supone que $x = \\xi e^{rt}$ y se sustituye $x$ en la ecuación anterior se llega al sistema de ecuaciones algebraicas \n",
    "\n",
    "$$ \\begin{pmatrix} 3 - r & -2 \\\\ 2 & -2 - r \\end{pmatrix} \\begin{pmatrix} \\xi_{1} \\\\ \\xi_{2} \\end{pmatrix} = \\begin{pmatrix} 0 \\\\ 0 \\end{pmatrix} $$"
   ]
  },
  {
   "cell_type": "markdown",
   "metadata": {
    "slideshow": {
     "slide_type": "slide"
    }
   },
   "source": [
    "Las ecuaciones anteriores tiene solución que no sea trivial si y solo si el determinante de la matriz de coeficientes es cero, por tanto a partir de la siguiente ecuación\n",
    "\n",
    "\\begin{align*}\n",
    "\\left| \\begin{matrix} 3 - r & -2 \\\\ 2 & -2 - r \\end{matrix} \\right| & = (3-r)(-2-r) + 4 \\\\\n",
    "                                                                    & = -6 + r^{2} - r + 4         \\\\ \n",
    "                                                                    & = r^{2} - r - 2 = 0 \\\\\n",
    "                                                                    & = (r - 2)(r + 1)\n",
    "\\end{align*}\n",
    "\n",
    "se encuentran valores permisibles de $r$. "
   ]
  },
  {
   "cell_type": "markdown",
   "metadata": {
    "slideshow": {
     "slide_type": "slide"
    }
   },
   "source": [
    "Las raíces de la ecuación anterior son $r_{1} = 2$ y $r_{2} = -1$ que son los eidenvalores de la matriz de coeficientes de la ecuación $x' = Ax$. "
   ]
  },
  {
   "cell_type": "markdown",
   "metadata": {
    "slideshow": {
     "slide_type": "slide"
    }
   },
   "source": [
    "Sustituyamos $r = 2$, en el sistema \n",
    "\n",
    "$$ \\begin{pmatrix} 3 - r & -2 \\\\ 2 & -2 - r \\end{pmatrix} \\begin{pmatrix} \\xi_{1} \\\\ \\xi_{2} \\end{pmatrix} = \\begin{pmatrix} 0 \\\\ 0 \\end{pmatrix} $$\n",
    "\n",
    "para obtener:\n",
    "\n",
    "$$ \\begin{pmatrix} 1 & -2 \\\\ 2 & -4 \\end{pmatrix} \\begin{pmatrix} \\xi_{1} \\\\ \\xi_{2} \\end{pmatrix} = \\begin{pmatrix} 0 \\\\ 0 \\end{pmatrix} $$\n"
   ]
  },
  {
   "cell_type": "markdown",
   "metadata": {
    "slideshow": {
     "slide_type": "slide"
    }
   },
   "source": [
    "Este sistema se reduce a la ecuación \n",
    "\n",
    "$$ \\xi_{1} - 2\\xi_{2} = 0 $$\n"
   ]
  },
  {
   "cell_type": "markdown",
   "metadata": {
    "slideshow": {
     "slide_type": "slide"
    }
   },
   "source": [
    "$$ \\xi_{1} = 2\\xi_{2} $$"
   ]
  },
  {
   "cell_type": "markdown",
   "metadata": {
    "slideshow": {
     "slide_type": "slide"
    }
   },
   "source": [
    "Y así, el eigenvector correspondiente a $r_{1} = 2$ puede ser:\n",
    "\n",
    "$$ \\xi^{(1)} = \\begin{pmatrix} 2 \\\\ 1 \\end{pmatrix} $$\n"
   ]
  },
  {
   "cell_type": "markdown",
   "metadata": {
    "slideshow": {
     "slide_type": "slide"
    }
   },
   "source": [
    "Sustituyamos $r = -1$, en el sistema \n",
    "\n",
    "$$ \\begin{pmatrix} 3 - r & -2 \\\\ 2 & -2 - r \\end{pmatrix} \\begin{pmatrix} \\xi_{1} \\\\ \\xi_{2} \\end{pmatrix} = \\begin{pmatrix} 0 \\\\ 0 \\end{pmatrix} $$\n",
    "\n",
    "para obtener:\n",
    "\n",
    "$$ \\begin{pmatrix} 4 & -2 \\\\ 2 & -1 \\end{pmatrix} \\begin{pmatrix} \\xi_{1} \\\\ \\xi_{2} \\end{pmatrix} = \\begin{pmatrix} 0 \\\\ 0 \\end{pmatrix} $$\n"
   ]
  },
  {
   "cell_type": "markdown",
   "metadata": {
    "slideshow": {
     "slide_type": "slide"
    }
   },
   "source": [
    "El sistema anterior es equivalente a la ecuación: \n",
    "\n",
    "$$ 2\\xi_{1} - \\xi_{2} = 0 $$\n"
   ]
  },
  {
   "cell_type": "markdown",
   "metadata": {
    "slideshow": {
     "slide_type": "slide"
    }
   },
   "source": [
    "$$ \\xi_{2} = 2\\xi_{1}$$"
   ]
  },
  {
   "cell_type": "markdown",
   "metadata": {
    "slideshow": {
     "slide_type": "slide"
    }
   },
   "source": [
    "Y así, el eigenvector correspondiente a $r_{2} = -1$ puede ser:\n",
    "\n",
    "$$ \\xi^{(2)} = \\begin{pmatrix} 1 \\\\ 2 \\end{pmatrix} $$"
   ]
  },
  {
   "cell_type": "markdown",
   "metadata": {
    "slideshow": {
     "slide_type": "slide"
    }
   },
   "source": [
    "Las soluciones correspondientes de la ecuación diferencial son \n",
    "\n",
    "$$ x^{(1)}(t) = \\begin{pmatrix} 2 \\\\ 1  \\end{pmatrix}e^{2t} \\quad \\quad x^{(2)}(t) = \\begin{pmatrix} 1 \\\\ 2  \\end{pmatrix}e^{-t}  $$\n"
   ]
  },
  {
   "cell_type": "markdown",
   "metadata": {
    "slideshow": {
     "slide_type": "slide"
    }
   },
   "source": [
    "## Verificación de que $\\{x^{(1)}, x^{(2)}\\}$ es un conjunto LI"
   ]
  },
  {
   "cell_type": "markdown",
   "metadata": {
    "slideshow": {
     "slide_type": "slide"
    }
   },
   "source": [
    "El wronsquiano de estas soluciones es:\n",
    "\n",
    "\\begin{align*}\n",
    "W[x^{(1)}, x^{(2)}](t) & = \\left| \\begin{matrix} 2e^{2t} & e^{-t} \\\\ e^{2t} &  2e^{-t} \\end{matrix} \\right| \\\\\n",
    "                       & = 4e^{t} - e^{t} \\\\ \n",
    "                       & = 3e^{t}, \n",
    "\\end{align*}\n",
    "\n",
    "que nunca es cero. "
   ]
  },
  {
   "cell_type": "markdown",
   "metadata": {
    "slideshow": {
     "slide_type": "slide"
    }
   },
   "source": [
    "De donde, las soluciones  $x^{(1)}$ y $x^{(2)}$ forman un conjunto fundamental "
   ]
  },
  {
   "cell_type": "markdown",
   "metadata": {
    "slideshow": {
     "slide_type": "slide"
    }
   },
   "source": [
    "y la solución general del sistema $ x' = \\begin{pmatrix} 3 & -2 \\\\ 2 & -2 \\end{pmatrix}x $ es:\n",
    "\n",
    "\\begin{align*}\n",
    "x & =  c_{1}x^{(1)}(t) + c_{2}x^{(2)}(t) \\\\\n",
    "& = c_{1}\\begin{pmatrix} 2 \\\\ 1  \\end{pmatrix}e^{2t} + c_{2} \\begin{pmatrix} 1 \\\\ 2  \\end{pmatrix}e^{-t}\n",
    "\\end{align*}\n",
    "\n",
    "en donde $c_{1}$ y $c_{2}$ son constantes arbitrarias. "
   ]
  },
  {
   "cell_type": "code",
   "execution_count": null,
   "metadata": {
    "slideshow": {
     "slide_type": "slide"
    }
   },
   "outputs": [],
   "source": []
  },
  {
   "cell_type": "code",
   "execution_count": null,
   "metadata": {
    "slideshow": {
     "slide_type": "slide"
    }
   },
   "outputs": [],
   "source": []
  },
  {
   "cell_type": "code",
   "execution_count": null,
   "metadata": {
    "slideshow": {
     "slide_type": "slide"
    }
   },
   "outputs": [],
   "source": []
  }
 ],
 "metadata": {
  "celltoolbar": "Slideshow",
  "hide_input": false,
  "kernelspec": {
   "display_name": "Python 3",
   "language": "python",
   "name": "python3"
  },
  "language_info": {
   "codemirror_mode": {
    "name": "ipython",
    "version": 3
   },
   "file_extension": ".py",
   "mimetype": "text/x-python",
   "name": "python",
   "nbconvert_exporter": "python",
   "pygments_lexer": "ipython3",
   "version": "3.7.4"
  },
  "nbTranslate": {
   "displayLangs": [
    "*"
   ],
   "hotkey": "alt-t",
   "langInMainMenu": true,
   "sourceLang": "en",
   "targetLang": "es",
   "useGoogleTranslate": true
  },
  "rise": {
   "enable_chalkboard": true,
   "theme": "sky",
   "transition": "sky"
  }
 },
 "nbformat": 4,
 "nbformat_minor": 2
}
