{
 "cells": [
  {
   "cell_type": "markdown",
   "metadata": {},
   "source": [
    "# Ejercicio 22 de la sección 3.1 Ecuaciones diferenciales de segundo orden de la forma $y'' = f(x,y')$"
   ]
  },
  {
   "cell_type": "markdown",
   "metadata": {},
   "source": [
    "$$ x^{2}y'' = (y')^{2}, \\quad \\quad x > 0 $$"
   ]
  },
  {
   "cell_type": "markdown",
   "metadata": {},
   "source": [
    "## Solución analítica "
   ]
  },
  {
   "cell_type": "markdown",
   "metadata": {},
   "source": [
    "Empecemos notando que las funciones constantes son solución de esta ecuación diferencial, es decir que \n",
    "\n",
    "$$ y = c $$\n",
    "\n",
    "para cada $c \\in \\mathbb{R}$ arbitraria. \n"
   ]
  },
  {
   "cell_type": "markdown",
   "metadata": {},
   "source": [
    "Por otro lado, si consideramos a $y$ como una función no constante, entonces podemos implementar el siguiente cambio de variable: "
   ]
  },
  {
   "cell_type": "markdown",
   "metadata": {},
   "source": [
    "Utilicemos el cambio de variable $v = y'$, $v' = y''$.\n",
    "\n",
    "$$ x^{2}y'' = (y')^{2} \\quad \\Rightarrow \\quad x^{2}v' = v^{2} $$\n"
   ]
  },
  {
   "cell_type": "markdown",
   "metadata": {},
   "source": [
    "$$ x^{2} \\cdot \\frac{dv}{dx} = v^{2} $$"
   ]
  },
  {
   "cell_type": "markdown",
   "metadata": {},
   "source": [
    "$$ \\frac{1}{v^{2}}dv = \\frac{1}{x^{2}}dx $$"
   ]
  },
  {
   "cell_type": "markdown",
   "metadata": {},
   "source": [
    "$$ \\int \\frac{1}{v^{2}}dv = \\int \\frac{1}{x^{2}}dx $$"
   ]
  },
  {
   "cell_type": "markdown",
   "metadata": {},
   "source": [
    "$$ -\\frac{1}{v} = -\\frac{1}{x} + c_{1} $$"
   ]
  },
  {
   "cell_type": "markdown",
   "metadata": {},
   "source": [
    "$$ \\frac{1}{v} = \\frac{1}{x} - c_{1} $$"
   ]
  },
  {
   "cell_type": "markdown",
   "metadata": {},
   "source": [
    "$$ \\frac{1}{v} = \\frac{1}{x} + c_{1} $$"
   ]
  },
  {
   "cell_type": "markdown",
   "metadata": {},
   "source": [
    "$$ \\frac{1}{v} = \\frac{1 + c_{1}x}{x} $$"
   ]
  },
  {
   "cell_type": "markdown",
   "metadata": {},
   "source": [
    "$$ v = \\frac{x}{1 + c_{1}x} $$"
   ]
  },
  {
   "cell_type": "markdown",
   "metadata": {},
   "source": [
    "$$ \\frac{dy}{dx} = \\frac{x}{1+c_{1}x} $$"
   ]
  },
  {
   "cell_type": "markdown",
   "metadata": {},
   "source": [
    "$$ dy = \\frac{x}{1 + c_{1}x}dx $$"
   ]
  },
  {
   "cell_type": "markdown",
   "metadata": {},
   "source": [
    "## Caso I: Si $c_{1} = 0$, entonces \n",
    "\n",
    "$$ dy = xdx \\quad \\quad \\Rightarrow \\quad \\quad  y = \\frac{x^{2}}{2} + c_{2} $$\n"
   ]
  },
  {
   "cell_type": "markdown",
   "metadata": {},
   "source": [
    "## Caso II: Si $c_{1} \\neq 0$, entonces podemos multiplicar numerador y denominador por $c_{1}$ para obtener:\n",
    "\n",
    "\n",
    "$$ dy =  \\frac{c_{1}x}{c_{1}(1 + c_{1}x)}dx  $$\n"
   ]
  },
  {
   "cell_type": "markdown",
   "metadata": {},
   "source": [
    "sumando y restando $1$ en el numerador obtenemos:\n",
    "\n",
    "$$ dy =  \\frac{1+ c_{1}x - 1}{c_{1}(1 + c_{1}x)}dx  $$"
   ]
  },
  {
   "cell_type": "markdown",
   "metadata": {},
   "source": [
    "Distribuyendo el denominador y simplificando obtenemos: \n",
    "$$ dy = \\frac{1}{c_{1}} - \\frac{1}{c_{1}(1 + c_{1}x)} $$"
   ]
  },
  {
   "cell_type": "markdown",
   "metadata": {},
   "source": [
    "$$ \\int dy = \\int \\frac{1}{c_{1}}dx - \\int \\frac{1}{c_{1}(1 + c_{1}x)}dx $$"
   ]
  },
  {
   "cell_type": "markdown",
   "metadata": {},
   "source": [
    "$$ \\int dy = \\int \\frac{1}{c_{1}}dx - \\frac{1}{c_{1}}\\int \\frac{1}{1 + c_{1}x}dx $$"
   ]
  },
  {
   "cell_type": "markdown",
   "metadata": {},
   "source": [
    "multiplicando numerador y denominador por $c_{1}$ y aplicando linealidad de la integral obtenemos: \n",
    "$$ \\int dy = \\int \\frac{1}{c_{1}}dx - \\frac{1}{c_{1}^{2}}\\int \\frac{c_{1}}{1 + c_{1}x}dx $$"
   ]
  },
  {
   "cell_type": "markdown",
   "metadata": {},
   "source": [
    "$$ y = \\frac{x}{c_{1}} - \\frac{1}{c_{1}^{2}}\\ln|1 + c_{1}x| + c_{2} $$"
   ]
  },
  {
   "cell_type": "markdown",
   "metadata": {},
   "source": [
    "$$ y = c_{2} + \\frac{x}{c_{1}} - \\frac{\\ln|1 + c_{1}x|}{c_{1}^{2}} $$"
   ]
  },
  {
   "cell_type": "code",
   "execution_count": null,
   "metadata": {},
   "outputs": [],
   "source": []
  },
  {
   "cell_type": "markdown",
   "metadata": {},
   "source": [
    "## Solución con sympy "
   ]
  },
  {
   "cell_type": "code",
   "execution_count": 1,
   "metadata": {},
   "outputs": [
    {
     "data": {
      "text/latex": [
       "$\\displaystyle y{\\left(x \\right)} = C_{1} - \\frac{x}{C_{2}} - \\frac{\\log{\\left(C_{2} x - 1 \\right)}}{C_{2}^{2}}$"
      ],
      "text/plain": [
       "Eq(y(x), C1 - x/C2 - log(C2*x - 1)/C2**2)"
      ]
     },
     "execution_count": 1,
     "metadata": {},
     "output_type": "execute_result"
    }
   ],
   "source": [
    "from sympy import * \n",
    "x,y = symbols('x y')\n",
    "y = Function('y')(x)\n",
    "eq = x**2*diff(y,x,2) - diff(y,x)**2\n",
    "dsolve(eq,y) "
   ]
  },
  {
   "cell_type": "markdown",
   "metadata": {},
   "source": [
    "## Grafica de algunas curvas integrales "
   ]
  },
  {
   "cell_type": "code",
   "execution_count": 11,
   "metadata": {},
   "outputs": [
    {
     "name": "stderr",
     "output_type": "stream",
     "text": [
      "C:\\Users\\Usuario\\Anaconda3\\lib\\site-packages\\ipykernel_launcher.py:15: RuntimeWarning: divide by zero encountered in log\n",
      "  from ipykernel import kernelapp as app\n",
      "C:\\Users\\Usuario\\Anaconda3\\lib\\site-packages\\ipykernel_launcher.py:15: RuntimeWarning: divide by zero encountered in log\n",
      "  from ipykernel import kernelapp as app\n"
     ]
    },
    {
     "data": {
      "image/png": "[encoded data removed]",
      "text/plain": [
       "<Figure size 576x576 with 1 Axes>"
      ]
     },
     "metadata": {},
     "output_type": "display_data"
    }
   ],
   "source": [
    "import numpy as np \n",
    "import matplotlib.pyplot as plt \n",
    "\n",
    "plt.style.use('dark_background') \n",
    "\n",
    "C1 = [-1,1]\n",
    "C2 = C1 \n",
    "\n",
    "fig = plt.figure(figsize=(8,8))\n",
    "ax = fig.add_subplot() \n",
    "x = np.linspace(0.1, 10, 100) \n",
    "\n",
    "for c1 in C1:\n",
    "    for c2 in C2:\n",
    "        y = c2 + x/c1 - np.log(np.abs(1 + c1*x))/c1**2\n",
    "        ax.plot(x,y)\n",
    "  \n",
    "plt.savefig('ejer_22_sec_3_1.jpg') \n",
    "plt.show() \n"
   ]
  },
  {
   "cell_type": "code",
   "execution_count": null,
   "metadata": {},
   "outputs": [],
   "source": []
  },
  {
   "cell_type": "code",
   "execution_count": null,
   "metadata": {},
   "outputs": [],
   "source": []
  }
 ],
 "metadata": {
  "hide_input": false,
  "kernelspec": {
   "display_name": "Python 3",
   "language": "python",
   "name": "python3"
  },
  "language_info": {
   "codemirror_mode": {
    "name": "ipython",
    "version": 3
   },
   "file_extension": ".py",
   "mimetype": "text/x-python",
   "name": "python",
   "nbconvert_exporter": "python",
   "pygments_lexer": "ipython3",
   "version": "3.7.4"
  },
  "nbTranslate": {
   "displayLangs": [
    "*"
   ],
   "hotkey": "alt-t",
   "langInMainMenu": true,
   "sourceLang": "en",
   "targetLang": "es",
   "useGoogleTranslate": true
  },
  "rise": {
   "enable_chalkboard": true,
   "theme": "sky",
   "transition": "sky"
  }
 },
 "nbformat": 4,
 "nbformat_minor": 2
}
