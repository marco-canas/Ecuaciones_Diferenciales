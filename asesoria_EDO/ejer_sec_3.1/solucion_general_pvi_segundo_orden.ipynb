{
 "cells": [
  {
   "cell_type": "markdown",
   "id": "c18cb97e",
   "metadata": {
    "slideshow": {
     "slide_type": "slide"
    }
   },
   "source": [
    "## Ejercicio sobre solución general de un PVI lineal de segundo orden homogéneo de coeficientes constantes"
   ]
  },
  {
   "cell_type": "markdown",
   "id": "096586ca",
   "metadata": {
    "slideshow": {
     "slide_type": "slide"
    }
   },
   "source": [
    "Consideremos el problema general de solución del siguiente PVI:\n",
    "\n",
    "$$ay'' + by' + cy = 0, \\quad \\quad y(x_{0}) = y_{0}, \\quad y'(x_{0}) = y_{0}' $$"
   ]
  },
  {
   "cell_type": "markdown",
   "id": "8b0a9af4",
   "metadata": {
    "slideshow": {
     "slide_type": "slide"
    }
   },
   "source": [
    "La solución general del PVI dado es: \n",
    "\n",
    "$$ y = c_{1}e^{r_{1}t} + c_{2}e^{r_{2}t} $$"
   ]
  },
  {
   "cell_type": "markdown",
   "id": "727f826a",
   "metadata": {
    "slideshow": {
     "slide_type": "slide"
    }
   },
   "source": [
    "y la derivada de esta familia de funciones es:\n",
    "\n",
    "$$ y' = c_{1}r_{1}e^{r_{1}t} + c_{2}r_{2}e^{r_{2}t} $$"
   ]
  },
  {
   "cell_type": "markdown",
   "id": "d81e0567",
   "metadata": {
    "slideshow": {
     "slide_type": "slide"
    }
   },
   "source": [
    "Si sustituimos las condiciones iniciales del PVI obtenemos el sistema de ecuaciones lineales:\n",
    "\n",
    "\\begin{align}\n",
    "y_{0} & = c_{1}e^{r_{1}t_{0}} + c_{2}e^{r_{2}t_{0}} \\label{uno} \\\\\n",
    "y'_{0} & = c_{1}r_{1}e^{r_{1}t_{0}} + c_{2}r_{2}e^{r_{2}t_{0}} \\label{dos}\n",
    "\\end{align}\n"
   ]
  },
  {
   "cell_type": "markdown",
   "id": "a750f6f3",
   "metadata": {
    "slideshow": {
     "slide_type": "slide"
    }
   },
   "source": [
    "### Solución de este sistema de ecuaciones lineales en las variables  $c_{1}$ y $c_{2}$."
   ]
  },
  {
   "cell_type": "markdown",
   "id": "bbcfed29",
   "metadata": {
    "slideshow": {
     "slide_type": "slide"
    }
   },
   "source": [
    "Empecemos eliminando la variable $c_{2}$ multiplicando la primera ecuación \\eqref{uno} por $r_{2}$ y restando las ecuaciones.\n",
    "\n",
    "\\begin{align}\n",
    "c_{1}r_{2}e^{r_{1}t_{0}} + c_{2}r_{2}e^{r_{2}t_{0}} & = r_{2}y_{0}   \\label{uno} \\\\\n",
    "c_{1}r_{1}e^{r_{1}t_{0}} + c_{2}r_{2}e^{r_{2}t_{0}} & = y'_{0}     \\label{dos}\n",
    "\\end{align}\n"
   ]
  },
  {
   "cell_type": "markdown",
   "id": "a9893d28",
   "metadata": {
    "slideshow": {
     "slide_type": "slide"
    }
   },
   "source": [
    "$$ c_{1}(r_{2} - r_{1})e^{r_{1}t_{0}} = r_{2}y_{0} - y_{0}' $$"
   ]
  },
  {
   "cell_type": "markdown",
   "id": "665bee3d",
   "metadata": {
    "slideshow": {
     "slide_type": "slide"
    }
   },
   "source": [
    "$$ c_{1} = \\frac{r_{2}y_{0} - y_{0}'}{r_{2} - r_{1}}e^{-r_{1}t_{0}} $$"
   ]
  },
  {
   "cell_type": "markdown",
   "id": "d2d7665a",
   "metadata": {
    "slideshow": {
     "slide_type": "slide"
    }
   },
   "source": [
    "Tomemos de nuevo el sistema original para determinar $c_{2}$:\n",
    "\n",
    "\\begin{align}\n",
    "y_{0} & = c_{1}e^{r_{1}t_{0}} + c_{2}e^{r_{2}t_{0}} \\label{uno} \\\\\n",
    "y'_{0} & = c_{1}r_{1}e^{r_{1}t_{0}} + c_{2}r_{2}e^{r_{2}t_{0}} \\label{dos}\n",
    "\\end{align}\n",
    "\n"
   ]
  },
  {
   "cell_type": "markdown",
   "id": "9ffc8153",
   "metadata": {
    "slideshow": {
     "slide_type": "slide"
    }
   },
   "source": [
    "Multipliquemos la primera ecuación por $r_{1}$ y restemos las ecuaciones:\n",
    "\n",
    "\\begin{align}\n",
    "c_{1}r_{1}e^{r_{1}t_{0}} + c_{2}r_{1}e^{r_{2}t_{0}} & = r_{1}y_{0}  \\label{uno} \\\\\n",
    "c_{1}r_{1}e^{r_{1}t_{0}} + c_{2}r_{2}e^{r_{2}t_{0}} & = y'_{0}  \\label{dos}\n",
    "\\end{align}\n",
    "\n",
    "pero esta vés restemos la primera de la segunda ecuación para obtener:\n",
    "\n",
    "$$ c_{2}(r_{2} - r_{1})e^{r_{2}t_{0}} = y_{0}' - r_{1}y_{0} $$"
   ]
  },
  {
   "cell_type": "markdown",
   "id": "b0d256b2",
   "metadata": {
    "slideshow": {
     "slide_type": "slide"
    }
   },
   "source": [
    "$$ c_{2} = \\frac{y_{0}' - r_{1}y_{0}}{r_{2} - r_{1}}e^{-r_{2}t_{0}} $$"
   ]
  },
  {
   "cell_type": "markdown",
   "id": "b1b0619d",
   "metadata": {
    "slideshow": {
     "slide_type": "slide"
    }
   },
   "source": [
    "Por lo tanto, la solución del sistema es:\n",
    "\n",
    "$$ (c_{1}, c_{2}) = \\left( \\frac{r_{2}y_{0} - y_{0}'}{r_{2} - r_{1}}e^{-r_{1}t_{0}} , \\frac{y_{0}' - r_{1}y_{0}}{r_{2} - r_{1}}e^{-r_{2}t_{0}}\\right) $$\n"
   ]
  },
  {
   "cell_type": "markdown",
   "id": "971a9eb4",
   "metadata": {
    "slideshow": {
     "slide_type": "slide"
    }
   },
   "source": [
    "# Veamos la utilidad práctica de resolver este problema general"
   ]
  },
  {
   "cell_type": "markdown",
   "id": "4bf3e2d7",
   "metadata": {
    "slideshow": {
     "slide_type": "slide"
    }
   },
   "source": [
    "Resuelva el siguiente PVI:\n",
    "\n",
    "$$ y'' - y = 0, \\quad \\quad y(0) = 0, \\quad y'(0) = 1 $$\n"
   ]
  },
  {
   "cell_type": "code",
   "execution_count": 4,
   "id": "506ee111",
   "metadata": {
    "slideshow": {
     "slide_type": "slide"
    }
   },
   "outputs": [],
   "source": [
    "import numpy as np \n",
    "def sol_ecu_caracteristica(a,b,c):\n",
    "    Delta = b**2 - 4*a*c\n",
    "    r1=(-b+np.sqrt(Delta))/2*a\n",
    "    r2=(-b-np.sqrt(Delta))/2*a\n",
    "    return (r1,r2)"
   ]
  },
  {
   "cell_type": "code",
   "execution_count": 2,
   "id": "4a04c3f6",
   "metadata": {
    "slideshow": {
     "slide_type": "slide"
    }
   },
   "outputs": [],
   "source": [
    "import numpy as np \n",
    "def constantes(t0,y0,y0p, r1, r2):\n",
    "    dif = r2-r1\n",
    "    c1= (r2*y0-y0p)*np.exp(-r1*t0)/dif\n",
    "    c2= (y0p - r1*y0)*np.exp(-r2*t0)/dif\n",
    "    return (c1,c2)"
   ]
  },
  {
   "cell_type": "code",
   "execution_count": 5,
   "id": "18d10176",
   "metadata": {
    "slideshow": {
     "slide_type": "slide"
    }
   },
   "outputs": [
    {
     "data": {
      "text/plain": [
       "(1.0, -1.0)"
      ]
     },
     "execution_count": 5,
     "metadata": {},
     "output_type": "execute_result"
    }
   ],
   "source": [
    "sol_ecu_caracteristica(a=1,b=0,c=-1)"
   ]
  },
  {
   "cell_type": "markdown",
   "id": "dbcab783",
   "metadata": {
    "slideshow": {
     "slide_type": "slide"
    }
   },
   "source": [
    "$$y = c_{1}e^{t} + c_{2}e^{-t}$$"
   ]
  },
  {
   "cell_type": "code",
   "execution_count": 7,
   "id": "ded1cb81",
   "metadata": {
    "slideshow": {
     "slide_type": "slide"
    }
   },
   "outputs": [
    {
     "data": {
      "text/plain": [
       "(0.5, -0.5)"
      ]
     },
     "execution_count": 7,
     "metadata": {},
     "output_type": "execute_result"
    }
   ],
   "source": [
    "constantes(t0 = 0, y0 = 0, y0p=1, r1 = 1, r2= -1 )"
   ]
  },
  {
   "cell_type": "markdown",
   "id": "38ff0ad5",
   "metadata": {
    "slideshow": {
     "slide_type": "slide"
    }
   },
   "source": [
    "Entonces la solución del PVI es:\n",
    "\n",
    "$$y = 0.5e^{t} + -0.5e^{-t}$$\n"
   ]
  },
  {
   "cell_type": "markdown",
   "id": "ad15653e",
   "metadata": {
    "slideshow": {
     "slide_type": "slide"
    }
   },
   "source": [
    "## Grafica de esta solución"
   ]
  },
  {
   "cell_type": "code",
   "execution_count": 9,
   "id": "6ceed5b4",
   "metadata": {
    "slideshow": {
     "slide_type": "slide"
    }
   },
   "outputs": [
    {
     "data": {
      "image/png": "[encoded data removed]",
      "text/plain": [
       "<Figure size 432x288 with 1 Axes>"
      ]
     },
     "metadata": {
      "needs_background": "light"
     },
     "output_type": "display_data"
    }
   ],
   "source": [
    "import numpy as np \n",
    "import matplotlib.pyplot as plt \n",
    "\n",
    "fig = plt.figure()\n",
    "ax = fig.add_subplot()\n",
    "\n",
    "t = np.linspace(-3,3,100)\n",
    "y = 0.5*np.exp(t) - 0.5*np.exp(-t)\n",
    "\n",
    "ax.plot(t, y)\n",
    "ax.grid() \n",
    "\n",
    "plt.savefig('solu_pvi.jpg')"
   ]
  },
  {
   "cell_type": "markdown",
   "id": "05030a8f",
   "metadata": {
    "slideshow": {
     "slide_type": "slide"
    }
   },
   "source": [
    "## Verificación analítica de la solución obtenida"
   ]
  },
  {
   "cell_type": "markdown",
   "id": "02b5fa8d",
   "metadata": {
    "slideshow": {
     "slide_type": "slide"
    }
   },
   "source": [
    "Sustituyamos los valores de $c_{1}$ y $c_{2}$ en el sistema de ecuaciones \n",
    "\n",
    "\\begin{align*}\n",
    "c_{1}e^{r_{1}t_{0}} + c_{2}e^{r_{2}t_{0}} & = y_{0}  \\\\\n",
    "c_{1}r_{1}e^{r_{1}t_{0}} + c_{2}r_{2}e^{r_{2}t_{0}} & = y'_{0} \n",
    "\\end{align*}\n"
   ]
  },
  {
   "cell_type": "markdown",
   "id": "fe2f7bfb",
   "metadata": {
    "slideshow": {
     "slide_type": "slide"
    }
   },
   "source": [
    "Empecemos sustituyendo $c_{1} =  \\frac{r_{2}y_{0} - y_{0}'}{r_{2} - r_{1}}e^{-r_{1}t_{0}} $ y $c_{2} = \\frac{y_{0}' - r_{1}y_{0}}{r_{2} - r_{1}}e^{-r_{2}t_{0}}$ en la primera ecuación del sistema:\n",
    "\n",
    "$$ c_{1}e^{r_{1}t_{0}} + c_{2}e^{r_{2}t_{0}}  = y_{0} $$\n"
   ]
  },
  {
   "cell_type": "markdown",
   "id": "287f7d2a",
   "metadata": {
    "slideshow": {
     "slide_type": "slide"
    }
   },
   "source": [
    "$$ \\left( \\frac{r_{2}y_{0} - y_{0}'}{r_{2} - r_{1}} e^{-r_{1}t_{0}} \\right) e^{r_{1}t_{0}} + \\left( \\frac{y_{0}' - r_{1}y_{0}}{r_{2} - r_{1}}e^{-r_{2}t_{0}} \\right)e^{r_{2}t_{0}} = y_{0} $$"
   ]
  },
  {
   "cell_type": "markdown",
   "id": "ec6389fe",
   "metadata": {
    "slideshow": {
     "slide_type": "slide"
    }
   },
   "source": [
    "$$ \\frac{r_{2}y_{0} - y_{0}'}{r_{2} - r_{1}} + \\frac{y_{0}' - r_{1}y_{0}}{r_{2} - r_{1}} = y_{0} $$"
   ]
  },
  {
   "cell_type": "markdown",
   "id": "a1f667c2",
   "metadata": {
    "slideshow": {
     "slide_type": "slide"
    }
   },
   "source": [
    "$$ \\frac{r_{2}y_{0} - y_{0}' + y_{0}' - r_{1}y_{0}}{r_{2} - r_{1}} = y_{0} $$"
   ]
  },
  {
   "cell_type": "markdown",
   "id": "6f746056",
   "metadata": {
    "slideshow": {
     "slide_type": "slide"
    }
   },
   "source": [
    "$$ \\frac{r_{2}y_{0} - r_{1}y_{0}}{r_{2} - r_{1}} = y_{0} $$"
   ]
  },
  {
   "cell_type": "markdown",
   "id": "9bf3b81b",
   "metadata": {
    "slideshow": {
     "slide_type": "slide"
    }
   },
   "source": [
    "$$ \\frac{(r_{2} - r_{1})y_{0}}{r_{2} - r_{1}} = y_{0} $$"
   ]
  },
  {
   "cell_type": "markdown",
   "id": "354729f7",
   "metadata": {
    "slideshow": {
     "slide_type": "slide"
    }
   },
   "source": [
    "$$ y_{0} = y_{0} $$"
   ]
  },
  {
   "cell_type": "markdown",
   "id": "26fc3d5b",
   "metadata": {
    "slideshow": {
     "slide_type": "slide"
    }
   },
   "source": [
    "Por lo tanto, la solución encontrada satisface la primera ecuación del sistema. "
   ]
  },
  {
   "cell_type": "markdown",
   "id": "1e49a764",
   "metadata": {
    "slideshow": {
     "slide_type": "slide"
    }
   },
   "source": [
    "Sustituyamos ahora los números $c_{1}$ y $c_{2}$ en la segunda ecuación del sistema:\n",
    "\n",
    "$$c_{1}r_{1}e^{r_{1}t_{0}} + c_{2}r_{2}e^{r_{2}t_{0}} = y'_{0}$$\n"
   ]
  },
  {
   "cell_type": "markdown",
   "id": "644e21c7",
   "metadata": {
    "slideshow": {
     "slide_type": "slide"
    }
   },
   "source": []
  },
  {
   "cell_type": "code",
   "execution_count": null,
   "id": "c28f40ce",
   "metadata": {},
   "outputs": [],
   "source": []
  },
  {
   "cell_type": "code",
   "execution_count": null,
   "id": "aeb30517",
   "metadata": {},
   "outputs": [],
   "source": []
  },
  {
   "cell_type": "code",
   "execution_count": null,
   "id": "a5cc7495",
   "metadata": {},
   "outputs": [],
   "source": []
  },
  {
   "cell_type": "code",
   "execution_count": null,
   "id": "36d95a68",
   "metadata": {},
   "outputs": [],
   "source": []
  },
  {
   "cell_type": "code",
   "execution_count": null,
   "id": "1c7462c0",
   "metadata": {},
   "outputs": [],
   "source": []
  },
  {
   "cell_type": "code",
   "execution_count": null,
   "id": "745467a8",
   "metadata": {},
   "outputs": [],
   "source": []
  },
  {
   "cell_type": "markdown",
   "id": "83c427d1",
   "metadata": {},
   "source": [
    "# Solución del PVI"
   ]
  },
  {
   "cell_type": "markdown",
   "id": "1545f930",
   "metadata": {},
   "source": [
    "De donde la solución del PVI es:\n",
    "\n",
    "\n"
   ]
  },
  {
   "cell_type": "code",
   "execution_count": null,
   "id": "ec7901d4",
   "metadata": {},
   "outputs": [],
   "source": []
  }
 ],
 "metadata": {
  "celltoolbar": "Slideshow",
  "kernelspec": {
   "display_name": "Python 3",
   "language": "python",
   "name": "python3"
  },
  "language_info": {
   "codemirror_mode": {
    "name": "ipython",
    "version": 3
   },
   "file_extension": ".py",
   "mimetype": "text/x-python",
   "name": "python",
   "nbconvert_exporter": "python",
   "pygments_lexer": "ipython3",
   "version": "3.8.8"
  },
  "rise": {
   "enable_chalkboard": true,
   "theme": "sky",
   "transition": "sky"
  }
 },
 "nbformat": 4,
 "nbformat_minor": 5
}
