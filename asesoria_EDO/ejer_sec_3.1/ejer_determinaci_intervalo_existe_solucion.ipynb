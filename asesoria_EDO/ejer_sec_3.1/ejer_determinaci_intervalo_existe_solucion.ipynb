{
 "cells": [
  {
   "cell_type": "markdown",
   "id": "b44686f2",
   "metadata": {
    "slideshow": {
     "slide_type": "slide"
    }
   },
   "source": [
    "# Ejercicio sobre determinación de intervalo más largo donde existe la solución"
   ]
  },
  {
   "cell_type": "markdown",
   "id": "b8e81511",
   "metadata": {
    "slideshow": {
     "slide_type": "slide"
    }
   },
   "source": [
    "1. Encontrar el intervalo más largo en el que se tiene la certeza de que existe la solución del problema con valor inicial \n",
    "\n",
    "$$ (x^{2} - 3x)y'' + xy' - (x+3)y = 0, \\quad \\quad y(1) = 2, y'(1) = 1. $$\n",
    "\n",
    "2. Grafique las funciones coeficientes de la ecuación diferencial estadarizada. \n"
   ]
  },
  {
   "cell_type": "markdown",
   "id": "a248f907",
   "metadata": {
    "slideshow": {
     "slide_type": "slide"
    }
   },
   "source": [
    "## Solución\n"
   ]
  },
  {
   "cell_type": "markdown",
   "id": "9f5e8c22",
   "metadata": {
    "slideshow": {
     "slide_type": "slide"
    }
   },
   "source": [
    "Empecemos estandarizando la ecuación diferencial del PVI dado:\n",
    "\n",
    "$$ y'' + \\frac{x}{x^{2} - 3x}y' - \\frac{x+3}{x^{2} - 3x}y = 0  $$\n"
   ]
  },
  {
   "cell_type": "markdown",
   "id": "a5be7324",
   "metadata": {
    "slideshow": {
     "slide_type": "slide"
    }
   },
   "source": [
    "$$ y'' + \\frac{x}{x(x - 3)}y' - \\frac{x+3}{x(x - 3)}y = 0  $$\n"
   ]
  },
  {
   "cell_type": "markdown",
   "id": "9c1f7f5c",
   "metadata": {
    "slideshow": {
     "slide_type": "slide"
    }
   },
   "source": [
    "$$ y'' + \\frac{1}{x - 3}y' - \\frac{x+3}{x(x - 3)}y = 0  $$"
   ]
  },
  {
   "cell_type": "markdown",
   "id": "f456418b",
   "metadata": {
    "slideshow": {
     "slide_type": "slide"
    }
   },
   "source": [
    "Como la forma estandar general es:\n",
    "\n",
    "$$ y'' + p(x)y' + q(x)y = 0 $$\n",
    "\n",
    "entonces los coeficientes $p$ y $q$ son:\n",
    "\n",
    "$$ p(x) = \\frac{1}{x-3}, \\quad \\quad q(x) = \\frac{x+3}{x(3-x)} $$\n",
    "\n"
   ]
  },
  {
   "cell_type": "markdown",
   "id": "539790ca",
   "metadata": {
    "slideshow": {
     "slide_type": "slide"
    }
   },
   "source": [
    "### Determinemos los puntos de discontinuidad de las funciones $p$ y $q$. "
   ]
  },
  {
   "cell_type": "markdown",
   "id": "ef4229b1",
   "metadata": {
    "slideshow": {
     "slide_type": "slide"
    }
   },
   "source": [
    "Para estas funciones racionales los puntos de discontinuidad son los ceros de sus denominadores. Por tanto, $0$ y $3$ son los puntos de discontinuidad de estos coeficientes. "
   ]
  },
  {
   "cell_type": "markdown",
   "id": "d01f0de3",
   "metadata": {
    "slideshow": {
     "slide_type": "slide"
    }
   },
   "source": [
    "Los intervalos donde estas dos funciones son continuas a la vez son \n",
    "\n",
    "$$(-\\infty, 0), \\quad (0,3), \\quad \\text{y} \\quad (3, \\infty)$$\n"
   ]
  },
  {
   "cell_type": "markdown",
   "id": "642b36c8",
   "metadata": {
    "slideshow": {
     "slide_type": "slide"
    }
   },
   "source": [
    "y el intervalo que contiene el punto $x_{0} = 1$ donde están definidas las condiciones iniciales es $(0,3)$. Por lo tanto, este es el mayor intervalo donde existe la solución del PVI dado."
   ]
  },
  {
   "cell_type": "markdown",
   "id": "f91f4628",
   "metadata": {
    "slideshow": {
     "slide_type": "slide"
    }
   },
   "source": [
    "## Graficación de las funciones coeficientes $p(x)$ y $q(x)$."
   ]
  },
  {
   "cell_type": "code",
   "execution_count": 4,
   "id": "419c5e3e",
   "metadata": {
    "slideshow": {
     "slide_type": "slide"
    }
   },
   "outputs": [],
   "source": [
    "import numpy as np \n",
    "import matplotlib.pyplot as plt \n",
    "\n"
   ]
  },
  {
   "cell_type": "code",
   "execution_count": null,
   "id": "6c2034ee",
   "metadata": {
    "slideshow": {
     "slide_type": "slide"
    }
   },
   "outputs": [],
   "source": []
  },
  {
   "cell_type": "code",
   "execution_count": null,
   "id": "9b7e3036",
   "metadata": {},
   "outputs": [],
   "source": []
  },
  {
   "cell_type": "code",
   "execution_count": null,
   "id": "89aa4455",
   "metadata": {},
   "outputs": [],
   "source": []
  }
 ],
 "metadata": {
  "celltoolbar": "Slideshow",
  "kernelspec": {
   "display_name": "Python 3",
   "language": "python",
   "name": "python3"
  },
  "language_info": {
   "codemirror_mode": {
    "name": "ipython",
    "version": 3
   },
   "file_extension": ".py",
   "mimetype": "text/x-python",
   "name": "python",
   "nbconvert_exporter": "python",
   "pygments_lexer": "ipython3",
   "version": "3.8.8"
  }
 },
 "nbformat": 4,
 "nbformat_minor": 5
}
