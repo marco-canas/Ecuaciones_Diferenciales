{
 "cells": [
  {
   "cell_type": "markdown",
   "metadata": {
    "slideshow": {
     "slide_type": "slide"
    }
   },
   "source": [
    "<table align=\"left\">\n",
    "  <td>\n",
    "    <a href=\"https://colab.research.google.com//github.com/marco-canas/Ecuaciones_Diferenciales/blob/main/asesoria_EDO/ejer_sec_3.1/Ejer_22_sec_3.1_Boyce_DiPrima.ipynb\" target=\"_parent\"><img src=\"https://colab.research.google.com/assets/colab-badge.svg\" alt=\"Open In Colab\"/></a>\n",
    "  </td>\n",
    "  <td>\n",
    "    <a target=\"_blank\" href=\"https://kaggle.com/kernels/welcome?src=https://github.com/marco-canas/Ecuaciones_Diferenciales/blob/main/asesoria_EDO/ejer_sec_3.1/Ejer_22_sec_3.1_Boyce_DiPrima.ipynb\"><img src=\"https://kaggle.com/static/images/open-in-kaggle.svg\" /></a>\n",
    "  </td>\n",
    "</table>"
   ]
  },
  {
   "cell_type": "markdown",
   "metadata": {
    "slideshow": {
     "slide_type": "slide"
    }
   },
   "source": [
    "# Ejercicio 22 de la sección 3.1 Ecuaciones diferenciales de segundo orden de la forma $y'' = f(x,y')$"
   ]
  },
  {
   "cell_type": "markdown",
   "metadata": {
    "slideshow": {
     "slide_type": "slide"
    }
   },
   "source": [
    "$$ x^{2}y'' = (y')^{2}, \\quad \\quad x > 0 $$"
   ]
  },
  {
   "cell_type": "markdown",
   "metadata": {
    "slideshow": {
     "slide_type": "slide"
    }
   },
   "source": [
    "## Solución analítica "
   ]
  },
  {
   "cell_type": "markdown",
   "metadata": {
    "slideshow": {
     "slide_type": "slide"
    }
   },
   "source": [
    "Empecemos notando que las funciones constantes son solución de esta ecuación diferencial, es decir que \n",
    "\n",
    "$$ y = c $$\n",
    "\n",
    "para cada $c \\in \\mathbb{R}$ arbitraria. \n"
   ]
  },
  {
   "cell_type": "markdown",
   "metadata": {
    "slideshow": {
     "slide_type": "slide"
    }
   },
   "source": [
    "Por otro lado, si consideramos a $y$ como una función no constante, entonces podemos implementar el siguiente cambio de variable: "
   ]
  },
  {
   "cell_type": "markdown",
   "metadata": {
    "slideshow": {
     "slide_type": "slide"
    }
   },
   "source": [
    "Utilicemos el cambio de variable $v = y'$, $v' = y''$.\n",
    "\n",
    "$$ x^{2}y'' = (y')^{2} \\quad \\Rightarrow \\quad x^{2}v' = v^{2} $$\n"
   ]
  },
  {
   "cell_type": "markdown",
   "metadata": {
    "slideshow": {
     "slide_type": "slide"
    }
   },
   "source": [
    "$$ x^{2} \\cdot \\frac{dv}{dx} = v^{2} $$"
   ]
  },
  {
   "cell_type": "markdown",
   "metadata": {
    "slideshow": {
     "slide_type": "slide"
    }
   },
   "source": [
    "$$ \\frac{1}{v^{2}}dv = \\frac{1}{x^{2}}dx $$"
   ]
  },
  {
   "cell_type": "markdown",
   "metadata": {
    "slideshow": {
     "slide_type": "slide"
    }
   },
   "source": [
    "$$ \\int \\frac{1}{v^{2}}dv = \\int \\frac{1}{x^{2}}dx $$"
   ]
  },
  {
   "cell_type": "markdown",
   "metadata": {
    "slideshow": {
     "slide_type": "slide"
    }
   },
   "source": [
    "$$ -\\frac{1}{v} = -\\frac{1}{x} + c_{1} $$"
   ]
  },
  {
   "cell_type": "markdown",
   "metadata": {
    "slideshow": {
     "slide_type": "slide"
    }
   },
   "source": [
    "$$ \\frac{1}{v} = \\frac{1}{x} - c_{1} $$"
   ]
  },
  {
   "cell_type": "markdown",
   "metadata": {
    "slideshow": {
     "slide_type": "slide"
    }
   },
   "source": [
    "$$ \\frac{1}{v} = \\frac{1}{x} + c_{1} $$"
   ]
  },
  {
   "cell_type": "markdown",
   "metadata": {
    "slideshow": {
     "slide_type": "slide"
    }
   },
   "source": [
    "$$ \\frac{1}{v} = \\frac{1 + c_{1}x}{x} $$"
   ]
  },
  {
   "cell_type": "markdown",
   "metadata": {
    "slideshow": {
     "slide_type": "slide"
    }
   },
   "source": [
    "$$ v = \\frac{x}{1 + c_{1}x} $$"
   ]
  },
  {
   "cell_type": "markdown",
   "metadata": {
    "slideshow": {
     "slide_type": "slide"
    }
   },
   "source": [
    "$$ \\frac{dy}{dx} = \\frac{x}{1+c_{1}x} $$"
   ]
  },
  {
   "cell_type": "markdown",
   "metadata": {
    "slideshow": {
     "slide_type": "slide"
    }
   },
   "source": [
    "$$ dy = \\frac{x}{1 + c_{1}x}dx $$"
   ]
  },
  {
   "cell_type": "markdown",
   "metadata": {
    "slideshow": {
     "slide_type": "slide"
    }
   },
   "source": [
    "## Caso I: Si $c_{1} = 0$, entonces \n",
    "\n",
    "$$ dy = xdx \\quad \\quad \\Rightarrow \\quad \\quad  y = \\frac{x^{2}}{2} + c_{2}, \\quad \\quad x > 0  $$\n"
   ]
  },
  {
   "cell_type": "markdown",
   "metadata": {
    "slideshow": {
     "slide_type": "slide"
    }
   },
   "source": [
    "## Caso II: Si $c_{1} \\neq 0$,  \n",
    "entonces podemos multiplicar numerador y denominador por $c_{1}$ para obtener:\n",
    "\n",
    "\n",
    "$$ dy =  \\frac{c_{1}x}{c_{1}(1 + c_{1}x)}dx  $$\n"
   ]
  },
  {
   "cell_type": "markdown",
   "metadata": {
    "slideshow": {
     "slide_type": "slide"
    }
   },
   "source": [
    "sumando y restando $1$ en el numerador obtenemos:\n",
    "\n",
    "$$ dy =  \\frac{1+ c_{1}x - 1}{c_{1}(1 + c_{1}x)}dx  $$"
   ]
  },
  {
   "cell_type": "markdown",
   "metadata": {
    "slideshow": {
     "slide_type": "slide"
    }
   },
   "source": [
    "Distribuyendo el denominador y simplificando obtenemos: \n",
    "$$ dy = \\frac{1}{c_{1}} - \\frac{1}{c_{1}(1 + c_{1}x)} $$"
   ]
  },
  {
   "cell_type": "markdown",
   "metadata": {
    "slideshow": {
     "slide_type": "slide"
    }
   },
   "source": [
    "$$ \\int dy = \\int \\frac{1}{c_{1}}dx - \\int \\frac{1}{c_{1}(1 + c_{1}x)}dx $$"
   ]
  },
  {
   "cell_type": "markdown",
   "metadata": {
    "slideshow": {
     "slide_type": "slide"
    }
   },
   "source": [
    "$$ \\int dy = \\int \\frac{1}{c_{1}}dx - \\frac{1}{c_{1}}\\int \\frac{1}{1 + c_{1}x}dx $$"
   ]
  },
  {
   "cell_type": "markdown",
   "metadata": {
    "slideshow": {
     "slide_type": "slide"
    }
   },
   "source": [
    "multiplicando numerador y denominador por $c_{1}$ y aplicando linealidad de la integral obtenemos: \n",
    "$$ \\int dy = \\int \\frac{1}{c_{1}}dx - \\frac{1}{c_{1}^{2}}\\int \\frac{c_{1}}{1 + c_{1}x}dx $$"
   ]
  },
  {
   "cell_type": "markdown",
   "metadata": {
    "slideshow": {
     "slide_type": "slide"
    }
   },
   "source": [
    "$$ y = \\frac{x}{c_{1}} - \\frac{1}{c_{1}^{2}}\\ln|1 + c_{1}x| + c_{2} $$"
   ]
  },
  {
   "cell_type": "markdown",
   "metadata": {
    "slideshow": {
     "slide_type": "slide"
    }
   },
   "source": [
    "$$ y = c_{2} + \\frac{x}{c_{1}} - \\frac{\\ln|1 + c_{1}x|}{c_{1}^{2}} $$"
   ]
  },
  {
   "cell_type": "code",
   "execution_count": null,
   "metadata": {
    "slideshow": {
     "slide_type": "slide"
    }
   },
   "outputs": [],
   "source": []
  },
  {
   "cell_type": "markdown",
   "metadata": {
    "slideshow": {
     "slide_type": "slide"
    }
   },
   "source": [
    "## Solución con sympy "
   ]
  },
  {
   "cell_type": "code",
   "execution_count": 5,
   "metadata": {
    "slideshow": {
     "slide_type": "slide"
    }
   },
   "outputs": [
    {
     "data": {
      "text/latex": [
       "$\\displaystyle y{\\left(x \\right)} = C_{1} - \\frac{x}{C_{2}} - \\frac{\\log{\\left(C_{2} x - 1 \\right)}}{C_{2}^{2}}$"
      ],
      "text/plain": [
       "Eq(y(x), C1 - x/C2 - log(C2*x - 1)/C2**2)"
      ]
     },
     "execution_count": 5,
     "metadata": {},
     "output_type": "execute_result"
    }
   ],
   "source": [
    "from sympy import * \n",
    "x,y = symbols('x y')\n",
    "y = Function('y')(x)\n",
    "eq = x**2*diff(y,x,2) - diff(y,x)**2\n",
    "dsolve(eq,y) "
   ]
  },
  {
   "cell_type": "markdown",
   "metadata": {
    "slideshow": {
     "slide_type": "slide"
    }
   },
   "source": [
    "## Grafica de algunas curvas integrales "
   ]
  },
  {
   "cell_type": "code",
   "execution_count": 6,
   "metadata": {
    "slideshow": {
     "slide_type": "slide"
    }
   },
   "outputs": [
    {
     "name": "stderr",
     "output_type": "stream",
     "text": [
      "C:\\Users\\Usuario\\Anaconda3\\lib\\site-packages\\ipykernel_launcher.py:15: RuntimeWarning: divide by zero encountered in log\n",
      "  from ipykernel import kernelapp as app\n",
      "C:\\Users\\Usuario\\Anaconda3\\lib\\site-packages\\ipykernel_launcher.py:15: RuntimeWarning: divide by zero encountered in log\n",
      "  from ipykernel import kernelapp as app\n"
     ]
    },
    {
     "data": {
      "image/png": "[encoded data removed]",
      "text/plain": [
       "<Figure size 576x576 with 1 Axes>"
      ]
     },
     "metadata": {},
     "output_type": "display_data"
    }
   ],
   "source": [
    "import numpy as np \n",
    "import matplotlib.pyplot as plt \n",
    "\n",
    "plt.style.use('dark_background') \n",
    "\n",
    "C1 = [-1,1]\n",
    "C2 = C1 \n",
    "\n",
    "fig = plt.figure(figsize=(8,8))\n",
    "ax = fig.add_subplot() \n",
    "x = np.linspace(0.1, 10, 100) \n",
    "\n",
    "for c1 in C1:\n",
    "    for c2 in C2:\n",
    "        y = c2 + x/c1 - np.log(np.abs(1 + c1*x))/c1**2\n",
    "        ax.plot(x,y)\n",
    "        ax.set_title(\"cuatro curvas integrales de $x^{2}y'' = (y')^{2}$\")\n",
    "  \n",
    "plt.savefig('ejer_22_sec_3_1.jpg') \n",
    "plt.show() \n"
   ]
  },
  {
   "cell_type": "markdown",
   "metadata": {
    "slideshow": {
     "slide_type": "slide"
    }
   },
   "source": [
    "## Verificación para la familia de soluciones $y = c$"
   ]
  },
  {
   "cell_type": "markdown",
   "metadata": {
    "slideshow": {
     "slide_type": "slide"
    }
   },
   "source": [
    "$$y' = 0 \\quad \\Rightarrow \\quad y'' = 0$$"
   ]
  },
  {
   "cell_type": "markdown",
   "metadata": {
    "slideshow": {
     "slide_type": "slide"
    }
   },
   "source": [
    "$$ x^{2}y'' = (y')^{2}\\quad \\quad  \\iff \\quad \\quad  x^{2}(0) = 0^{2} $$\n",
    "\n",
    "por tanto, esta primera familia verifica trivialmente la ED original. "
   ]
  },
  {
   "cell_type": "markdown",
   "metadata": {
    "slideshow": {
     "slide_type": "slide"
    }
   },
   "source": [
    "## Verificación para la familia de soluciones $y = \\frac{x^{2}}{2} + c$"
   ]
  },
  {
   "cell_type": "markdown",
   "metadata": {
    "slideshow": {
     "slide_type": "slide"
    }
   },
   "source": [
    "$$y' = x, \\quad \\quad \\Rightarrow \\quad \\quad y'' = 1$$"
   ]
  },
  {
   "cell_type": "markdown",
   "metadata": {
    "slideshow": {
     "slide_type": "slide"
    }
   },
   "source": [
    "Por tanto \n",
    "\n",
    "$$ x^{2}y'' = (y')^{2} \\iff x^{2}(1) = (x)^{2} $$\n",
    "\n",
    "Por tanto, la solución es correcta. \n"
   ]
  },
  {
   "cell_type": "markdown",
   "metadata": {
    "slideshow": {
     "slide_type": "slide"
    }
   },
   "source": [
    "## Verificación para la familia de soluciones $y = c_{1} + \\frac{x}{c_{2}} - \\frac{\\ln|1 + c_{2}x|}{c_{2}^{2}}$"
   ]
  },
  {
   "cell_type": "markdown",
   "metadata": {
    "slideshow": {
     "slide_type": "slide"
    }
   },
   "source": [
    "Verifiquemos por sustitución directa:"
   ]
  },
  {
   "cell_type": "markdown",
   "metadata": {
    "slideshow": {
     "slide_type": "slide"
    }
   },
   "source": [
    "$$ y' = \\frac{1}{c_{2}} - \\frac{1}{c_{2}^{2}} \\cdot \\frac{1}{1+ c_{2}x} \\cdot c_{2} $$"
   ]
  },
  {
   "cell_type": "markdown",
   "metadata": {
    "slideshow": {
     "slide_type": "slide"
    }
   },
   "source": [
    "$$ y' = \\frac{1}{c_{2}}\\left( 1 - \\frac{1}{1+c_{2}x} \\right)  \\quad \\quad \\Rightarrow \\quad \\quad y' = \\frac{x}{1 + c_{2}x} $$"
   ]
  },
  {
   "cell_type": "markdown",
   "metadata": {
    "slideshow": {
     "slide_type": "slide"
    }
   },
   "source": [
    "$$ y'' = \\frac{1}{c_{2}}\\left( \\frac{1}{(1 + c_{2}x)^{2}}c_{2} \\right) $$"
   ]
  },
  {
   "cell_type": "markdown",
   "metadata": {
    "slideshow": {
     "slide_type": "slide"
    }
   },
   "source": [
    "$$ y'' = \\frac{1}{(1 + c_{2}x)^{2}} $$"
   ]
  },
  {
   "cell_type": "markdown",
   "metadata": {
    "slideshow": {
     "slide_type": "slide"
    }
   },
   "source": [
    "Note que efectivamente $x^{2}y'' = (y')^{2}$. "
   ]
  },
  {
   "cell_type": "markdown",
   "metadata": {
    "slideshow": {
     "slide_type": "slide"
    }
   },
   "source": [
    "## [Video de apoyo](https://www.youtube.com/watch?v=hl_jce2Ohts):"
   ]
  },
  {
   "cell_type": "code",
   "execution_count": null,
   "metadata": {},
   "outputs": [],
   "source": []
  }
 ],
 "metadata": {
  "celltoolbar": "Slideshow",
  "hide_input": false,
  "kernelspec": {
   "display_name": "Python 3",
   "language": "python",
   "name": "python3"
  },
  "language_info": {
   "codemirror_mode": {
    "name": "ipython",
    "version": 3
   },
   "file_extension": ".py",
   "mimetype": "text/x-python",
   "name": "python",
   "nbconvert_exporter": "python",
   "pygments_lexer": "ipython3",
   "version": "3.7.4"
  },
  "nbTranslate": {
   "displayLangs": [
    "*"
   ],
   "hotkey": "alt-t",
   "langInMainMenu": true,
   "sourceLang": "en",
   "targetLang": "es",
   "useGoogleTranslate": true
  },
  "rise": {
   "enable_chalkboard": true,
   "theme": "sky",
   "transition": "sky"
  }
 },
 "nbformat": 4,
 "nbformat_minor": 2
}
