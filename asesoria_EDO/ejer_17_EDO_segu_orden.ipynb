{
 "cells": [
  {
   "cell_type": "markdown",
   "source": [
    "# Ejercicio 17 sobre ecuaciones diferenciales de segundo orden "
   ],
   "metadata": {}
  },
  {
   "cell_type": "markdown",
   "source": [
    "## Ecuaciones en las que falta la $y$"
   ],
   "metadata": {}
  },
  {
   "cell_type": "markdown",
   "source": [
    "$$ x^{2}y'' + 2xy' - 1 = 0, \\quad \\quad \\quad x > 0 $$"
   ],
   "metadata": {}
  },
  {
   "cell_type": "markdown",
   "source": [
    "### Sugerencia:   \n",
    "Para la las ecuaciones diferenciales de la forma $y'' = f(x,y')$, la sustitución $v = y'$, $v' = y''$ da una ecuación diferencial de primer orden $v' = f(x,v)$. "
   ],
   "metadata": {}
  },
  {
   "cell_type": "markdown",
   "source": [
    "## Solución analítica"
   ],
   "metadata": {}
  },
  {
   "cell_type": "markdown",
   "source": [
    "Implementemos el cambio de variable $v = y'$, $v' = y''$ en la ecuación dada para obtener:\n",
    "\n",
    "$$ x^{2}y'' + 2xy' - 1 = 0 \\quad \\quad \\Rightarrow \\quad \\quad x^{2}v' + 2xv - 1 = 0 $$\n",
    "\n"
   ],
   "metadata": {}
  },
  {
   "cell_type": "markdown",
   "source": [
    "Así, hemos obtenido la ecuación de primer orden en la variable $v = v(x)$.  \r\n",
    "Ahora, estandaricemos esta ecuación dividiendo por $x^{2}$ para obtener:\r\n",
    "\r\n",
    "$$ \\frac{dv}{dx} + \\frac{2}{x}v = 1 $$\r\n",
    "\r\n",
    "que como vemos es una ecuación diferencial lineal con $p(x) = \\frac{2}{x}$. \r\n"
   ],
   "metadata": {}
  },
  {
   "cell_type": "markdown",
   "source": [],
   "metadata": {}
  },
  {
   "cell_type": "markdown",
   "source": [
    "Entonces, \r\n",
    "\r\n",
    "$$ \\int p(x)dx = 2\\ln|x| = \\ln x^{2} $$\r\n"
   ],
   "metadata": {}
  },
  {
   "cell_type": "markdown",
   "source": [],
   "metadata": {}
  },
  {
   "cell_type": "code",
   "execution_count": null,
   "source": [],
   "outputs": [],
   "metadata": {}
  },
  {
   "cell_type": "markdown",
   "source": [
    "## Solución utilizando sympy "
   ],
   "metadata": {}
  },
  {
   "cell_type": "code",
   "execution_count": 2,
   "source": [
    "from sympy import * \r\n",
    "x,y = symbols('x y')\r\n",
    "y = Function('y')\r\n",
    "eqd = x**2*diff(y(x),x,2) + 2*x*diff(y(x),x) - 1 \r\n",
    "dsolve(eqd, y(x))"
   ],
   "outputs": [
    {
     "output_type": "execute_result",
     "data": {
      "text/plain": [
       "Eq(y(x), C1 + C2/x + log(x))"
      ],
      "text/latex": [
       "$\\displaystyle y{\\left(x \\right)} = C_{1} + \\frac{C_{2}}{x} + \\log{\\left(x \\right)}$"
      ]
     },
     "metadata": {},
     "execution_count": 2
    }
   ],
   "metadata": {}
  },
  {
   "cell_type": "code",
   "execution_count": 4,
   "source": [
    "import numpy as np \r\n",
    "import matplotlib.pyplot as plt \r\n",
    "plt.style.use('dark_background') \r\n",
    "\r\n",
    "c1,c2 = 1,1\r\n",
    "\r\n",
    "x = np.linspace(0.1,3,100)\r\n",
    "\r\n",
    "y = c2 + (1/x)*c1 + np.log(x)\r\n",
    "\r\n",
    "plt.plot(x,y, color = 'yellow') \r\n",
    "plt.grid(alpha = 0.4)  \r\n",
    "plt.savefig('ejercicio_17')\r\n",
    "\r\n",
    "plt.show() \r\n"
   ],
   "outputs": [
    {
     "output_type": "display_data",
     "data": {
      "text/plain": [
       "<Figure size 432x288 with 1 Axes>"
      ],
      "image/png": "[encoded data removed]"
     },
     "metadata": {}
    }
   ],
   "metadata": {}
  },
  {
   "cell_type": "markdown",
   "source": [
    "## Verificación por sustitución directa"
   ],
   "metadata": {}
  },
  {
   "cell_type": "markdown",
   "source": [
    "$$ x^{2}y'' + 2xy' - 1 = 0 $$"
   ],
   "metadata": {}
  },
  {
   "cell_type": "markdown",
   "source": [
    "$$ x^{2}\\left( \\ln x + \\frac{1}{x}c_{1} + c_{2} \\right)'' + 2x \\left( \\ln x + \\frac{1}{x}c_{1} + c_{2}\\right)' - 1 = 0 $$\r\n"
   ],
   "metadata": {}
  },
  {
   "cell_type": "code",
   "execution_count": null,
   "source": [],
   "outputs": [],
   "metadata": {}
  }
 ],
 "metadata": {
  "hide_input": false,
  "kernelspec": {
   "name": "python3",
   "display_name": "Python 3.9.5 64-bit"
  },
  "language_info": {
   "codemirror_mode": {
    "name": "ipython",
    "version": 3
   },
   "file_extension": ".py",
   "mimetype": "text/x-python",
   "name": "python",
   "nbconvert_exporter": "python",
   "pygments_lexer": "ipython3",
   "version": "3.9.5"
  },
  "nbTranslate": {
   "displayLangs": [
    "*"
   ],
   "hotkey": "alt-t",
   "langInMainMenu": true,
   "sourceLang": "en",
   "targetLang": "fr",
   "useGoogleTranslate": true
  },
  "interpreter": {
   "hash": "2e3c1e8da6e821b0193601da5a0e541c0efda9704da45b6b820f5f4c317f2def"
  }
 },
 "nbformat": 4,
 "nbformat_minor": 2
}