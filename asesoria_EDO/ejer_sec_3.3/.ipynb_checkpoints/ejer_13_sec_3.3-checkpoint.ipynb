{
 "cells": [
  {
   "cell_type": "markdown",
   "metadata": {},
   "source": [
    "# Ejercicio 13 de la sección 3.3 del Boyce DiPrima"
   ]
  },
  {
   "cell_type": "markdown",
   "metadata": {},
   "source": [
    "Página 159.  \n",
    "Respuestas en la página 712"
   ]
  },
  {
   "cell_type": "markdown",
   "metadata": {},
   "source": [
    "Encuentre el wronsquiano de soluciones de la ecuación diferencial dada sin resolver ésta:\n",
    "\n",
    "$$ x^{2}y'' - x(x+2)y' + (x+2)y = 0 $$\n"
   ]
  },
  {
   "cell_type": "markdown",
   "metadata": {},
   "source": [
    "## Solución: "
   ]
  },
  {
   "cell_type": "markdown",
   "metadata": {},
   "source": [
    "Empecemos estándarizando la ecuación: "
   ]
  },
  {
   "cell_type": "markdown",
   "metadata": {},
   "source": [
    "$$ y'' - \\frac{x+2}{x}y' + \\frac{x+2}{x^{2}}y = 0 $$"
   ]
  },
  {
   "cell_type": "markdown",
   "metadata": {},
   "source": [
    "identificando coeficientes: \n",
    "\n",
    "$$ p(x) = -\\frac{x+2}{x}, \\quad \\quad \\quad q(x) = \\frac{x+2}{x^{2}}, \\quad \\quad \\quad g(x) = 0 $$\n"
   ]
  },
  {
   "cell_type": "markdown",
   "metadata": {},
   "source": [
    "$$ W(y_{1},y_{2})(x) = c\\ exp\\left( -\\int p(x) dx \\right) $$"
   ]
  },
  {
   "cell_type": "code",
   "execution_count": null,
   "metadata": {},
   "outputs": [],
   "source": []
  },
  {
   "cell_type": "code",
   "execution_count": null,
   "metadata": {},
   "outputs": [],
   "source": []
  },
  {
   "cell_type": "markdown",
   "metadata": {},
   "source": [
    "## Resultado utilizado"
   ]
  },
  {
   "cell_type": "markdown",
   "metadata": {},
   "source": [
    "## Teorema 3.3.2 (Teorema de Abel) \n",
    "Página 156 del Boyce DiPrima \n",
    "Si $y_{1}$ y $y_{2}$ son soluciones de la ecuación diferencial \n",
    "\n",
    "$$L[y] = y'' + p(x)y' + q(x)y = 0,$$\n",
    "\n",
    "en donde $p$ y $q$ son continuas sobre un intervalo abierto $I$, entonces el wronskiano de $y_{1}$ y $y_{2}$ está dado por \n",
    "\n",
    "$$ W(y_{1},y_{2})(x) = c\\ exp\\left( -\\int p(x) dx \\right) $$\n",
    "\n",
    "donde $c$ es cierta constante que depende de $y_{1}$ y de $y_{2}$ pero no de $x$. "
   ]
  },
  {
   "cell_type": "code",
   "execution_count": null,
   "metadata": {},
   "outputs": [],
   "source": []
  }
 ],
 "metadata": {
  "hide_input": false,
  "kernelspec": {
   "display_name": "Python 3",
   "language": "python",
   "name": "python3"
  },
  "language_info": {
   "codemirror_mode": {
    "name": "ipython",
    "version": 3
   },
   "file_extension": ".py",
   "mimetype": "text/x-python",
   "name": "python",
   "nbconvert_exporter": "python",
   "pygments_lexer": "ipython3",
   "version": "3.7.4"
  },
  "nbTranslate": {
   "displayLangs": [
    "*"
   ],
   "hotkey": "alt-t",
   "langInMainMenu": true,
   "sourceLang": "en",
   "targetLang": "es",
   "useGoogleTranslate": true
  },
  "rise": {
   "enable_chalkboard": "true",
   "theme": "sky",
   "transition": "sky"
  }
 },
 "nbformat": 4,
 "nbformat_minor": 2
}
