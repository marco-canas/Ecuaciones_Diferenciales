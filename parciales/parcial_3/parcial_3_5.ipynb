{
 "cells": [
  {
   "cell_type": "markdown",
   "id": "c2e7a099",
   "metadata": {},
   "source": [
    "# Parcial 3_5"
   ]
  },
  {
   "cell_type": "markdown",
   "id": "82011da6",
   "metadata": {},
   "source": [
    "## Punto 1\n",
    "\n",
    "1. Resuelva el problema con valores iniciales\n",
    "\n",
    "$$ x' = \\begin{pmatrix} 1& -12&-14 \\\\1 &2 &-3  \\\\1 &1 &-2  \\end{pmatrix}x, \\ \\ \\ \\ x(0) = \\begin{pmatrix} 4\\\\6 \\\\-7 \\end{pmatrix} $$\n",
    "\n",
    "2. Verifique \n",
    "\n",
    "No puede omitir ningún paso de solución y de cálculo algoritmicos y debe describir verbalmente su procedimiento y justificar los pasos esenciales. "
   ]
  },
  {
   "cell_type": "code",
   "execution_count": null,
   "id": "34d03a36",
   "metadata": {},
   "outputs": [],
   "source": [
    "import numpy as np \n",
    "A = np.array([[1,-12,-14],[1,2,-3],[1,1,-2]])\n",
    "np.linalg.eig(A) "
   ]
  },
  {
   "cell_type": "code",
   "execution_count": null,
   "id": "0dcc9cc7",
   "metadata": {},
   "outputs": [],
   "source": [
    "from sympy import *\n",
    "A = Matrix(A) \n",
    "A.eigenvects()           "
   ]
  },
  {
   "cell_type": "markdown",
   "id": "5603f6b1",
   "metadata": {},
   "source": [
    "## Punto 2\n",
    "\n",
    "1. Encontrar la solución general de \n",
    "\n",
    "$$ x' = \\begin{pmatrix}2 & 4& 4\\\\ -1&-2&0  \\\\-1 &0 &-2  \\end{pmatrix}x $$\n",
    "\n",
    "2. Verifique \n",
    "\n",
    "No puede omitir ningún paso de solución y de cálculo algoritmicos y debe describir verbalmente su procedimiento y justificar los pasos esenciales. "
   ]
  },
  {
   "cell_type": "code",
   "execution_count": null,
   "id": "0bd9aca2",
   "metadata": {},
   "outputs": [],
   "source": [
    "import numpy as np \n",
    "A = np.array([[2,4,4],[-1,-2,0],[-1,0,-2]])\n",
    "np.linalg.eig(A) "
   ]
  },
  {
   "cell_type": "code",
   "execution_count": null,
   "id": "6630f8d7",
   "metadata": {},
   "outputs": [],
   "source": [
    "from sympy import *\n",
    "A = Matrix(A) \n",
    "A.eigenvects()           "
   ]
  },
  {
   "cell_type": "markdown",
   "id": "db55035c",
   "metadata": {},
   "source": [
    "## Punto 3\n",
    "\n",
    "1. Resuelva \n",
    "\n",
    "$$ x' = \\begin{pmatrix} 2&5&1\\\\-5&-6&4\\\\0&0&2\\end{pmatrix}x $$\n",
    "\n",
    "2. Verifique \n",
    "\n",
    "No puede omitir ningún paso de solución y de cálculo algoritmicos y debe describir verbalmente su procedimiento y justificar los pasos esenciales. "
   ]
  },
  {
   "cell_type": "code",
   "execution_count": null,
   "id": "ba95e85e",
   "metadata": {},
   "outputs": [],
   "source": [
    "import numpy as np \n",
    "A = np.array([[2,5,1],[-5,-6,4],[0,0,2]])\n",
    "np.linalg.eig(A) "
   ]
  },
  {
   "cell_type": "code",
   "execution_count": null,
   "id": "1850e224",
   "metadata": {},
   "outputs": [],
   "source": [
    "from sympy import *\n",
    "A = Matrix(A) \n",
    "A.eigenvects()           "
   ]
  }
 ],
 "metadata": {
  "kernelspec": {
   "display_name": "Python 3",
   "language": "python",
   "name": "python3"
  },
  "language_info": {
   "codemirror_mode": {
    "name": "ipython",
    "version": 3
   },
   "file_extension": ".py",
   "mimetype": "text/x-python",
   "name": "python",
   "nbconvert_exporter": "python",
   "pygments_lexer": "ipython3",
   "version": "3.8.8"
  },
  "latex_envs": {
   "LaTeX_envs_menu_present": true,
   "autoclose": false,
   "autocomplete": false,
   "bibliofile": "biblio.bib",
   "cite_by": "apalike",
   "current_citInitial": 1,
   "eqLabelWithNumbers": true,
   "eqNumInitial": 1,
   "hotkeys": {
    "equation": "Ctrl-E",
    "itemize": "Ctrl-I"
   },
   "labels_anchors": false,
   "latex_user_defs": false,
   "report_style_numbering": false,
   "user_envs_cfg": false
  }
 },
 "nbformat": 4,
 "nbformat_minor": 5
}
