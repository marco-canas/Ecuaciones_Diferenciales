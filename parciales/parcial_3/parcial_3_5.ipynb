{
 "cells": [
  {
   "cell_type": "markdown",
   "id": "c2e7a099",
   "metadata": {
    "slideshow": {
     "slide_type": "slide"
    }
   },
   "source": [
    "# Parcial 3_5"
   ]
  },
  {
   "cell_type": "markdown",
   "id": "82011da6",
   "metadata": {
    "slideshow": {
     "slide_type": "slide"
    }
   },
   "source": [
    "## Punto 1\n",
    "\n",
    "1. Resuelva el problema con valores iniciales\n",
    "\n",
    "$$ x' = \\begin{pmatrix} 1& -12&-14 \\\\1 &2 &-3  \\\\1 &1 &-2  \\end{pmatrix}x, \\ \\ \\ \\ x(0) = \\begin{pmatrix} 4\\\\6 \\\\-7 \\end{pmatrix} $$\n",
    "\n",
    "Es decir, determina una función $x = u(t) + v(t) + \\xi e^{rt}$ de valor real que satisfaga el PVI anterior. \n",
    "\n",
    "   * Resuelva la ecuación polinómica de grado $3$: $det(A - rI) = 0$ utilizando el hecho de que los pilonomios de   \n",
    "     coeficientes enteros de la forma \n",
    "   \n",
    "   $$r^{3} + a_{2}r^{2} + a_{1}r + a_{0}$$\n",
    "   \n",
    "   tienen como posibles ceros racionales a los factores primos de $a_{0}$ o a los inversos aditivos de estos factores. \n",
    "\n",
    "2. Verifique \n",
    "\n",
    "3. **(Opcional)** Incluya el pantallazo de la verificación con Colaboratory o con [WolframAlpha](https://www.wolframalpha.com/input/?i=x%27+%3D+%7B%7B6%2C-1%7D%2C%7B5%2C4%7D%7Dx+)\n",
    "\n",
    "No puede omitir ningún paso de solución y de cálculo algoritmicos y debe describir verbalmente su procedimiento y justificar los pasos esenciales. "
   ]
  },
  {
   "cell_type": "code",
   "execution_count": 2,
   "id": "34d03a36",
   "metadata": {
    "slideshow": {
     "slide_type": "slide"
    }
   },
   "outputs": [
    {
     "data": {
      "text/plain": [
       "(-5*I,\n",
       " 1,\n",
       " [Matrix([\n",
       "  [1 - 5*I],\n",
       "  [      1],\n",
       "  [      1]])])"
      ]
     },
     "execution_count": 2,
     "metadata": {},
     "output_type": "execute_result"
    }
   ],
   "source": [
    "from sympy import * \n",
    "A = Matrix([[1,-12,-14],[1,2,-3],[1,1,-2]])\n",
    "rv1,rv2,rv3 = A.eigenvects() \n",
    "rv2 "
   ]
  },
  {
   "cell_type": "code",
   "execution_count": 25,
   "id": "d4554b39",
   "metadata": {
    "slideshow": {
     "slide_type": "slide"
    }
   },
   "outputs": [
    {
     "data": {
      "text/latex": [
       "$\\displaystyle \\left[\\begin{matrix}\\frac{25 c_{1} e^{t}}{6} + \\frac{25 c_{2} \\cos{\\left(5 t \\right)}}{6} - \\frac{25 c_{3} \\sin{\\left(5 t \\right)}}{6}\\\\- \\frac{7 c_{1} e^{t}}{6} - \\frac{7 c_{2} \\cos{\\left(5 t \\right)}}{6} + \\frac{7 c_{3} \\sin{\\left(5 t \\right)}}{6}\\\\c_{1} e^{t} + c_{2} \\cos{\\left(5 t \\right)} - c_{3} \\sin{\\left(5 t \\right)}\\end{matrix}\\right]$"
      ],
      "text/plain": [
       "Matrix([\n",
       "[25*c1*exp(t)/6 + 25*c2*cos(5*t)/6 - 25*c3*sin(5*t)/6],\n",
       "[  -7*c1*exp(t)/6 - 7*c2*cos(5*t)/6 + 7*c3*sin(5*t)/6],\n",
       "[               c1*exp(t) + c2*cos(5*t) - c3*sin(5*t)]])"
      ]
     },
     "execution_count": 25,
     "metadata": {},
     "output_type": "execute_result"
    }
   ],
   "source": [
    "import numpy as np \n",
    "from sympy import *\n",
    "t = symbols('t', real = True, nonegative = True) \n",
    "A = Matrix([[1,-12,-14],[1,2,-3],[1,1,-2]])  \n",
    "\n",
    "r1, r2, r3 = A.eigenvects()[0][0]/A.eigenvects()[0][1], A.eigenvects()[1][0]/A.eigenvects()[1][1], A.eigenvects()[2][0]/A.eigenvects()[2][1]\n",
    "\n",
    "v1, v2, v3 = A.eigenvects()[0][2][0],A.eigenvects()[1][2][0],A.eigenvects()[2][2][0] \n",
    "lambda1, mu1 = re(r1), im(r1)\n",
    "lambda2, mu2 = re(r2), im(r2)\n",
    "lambda3, mu3 = re(r3), im(r3) \n",
    "\n",
    "x_sup1_sympy = v1*( exp(lambda1*t)*( cos(mu1*t) + I*sin(mu1*t) ) ) \n",
    "x_sup1_lambda = lambdify( t, x_sup1_sympy ) # solución de valor real\n",
    "\n",
    "x_sup2 = v1*( exp(lambda2*t)*(cos(mu2*t) + I*sin(mu2*t) ) ) # solución de valor complejo\n",
    "\n",
    "u_sympy = re( x_sup2 )  \n",
    "v_sympy = im( x_sup2 ) \n",
    "\n",
    "u_lambda = lambdify( t, re( x_sup2 ) ) \n",
    "v_lambda = lambdify( t, im( x_sup2 ) ) \n",
    "\n",
    "c1,c2,c3 = symbols('c1 c2 c3')\n",
    "\n",
    "x_sympy = c1*x_sup1_sympy + c2*u_sympy + c3*v_sympy\n",
    "x_lambda = lambdify(t, x_sympy , 'numpy' )\n",
    "\n",
    "x_sympy "
   ]
  },
  {
   "cell_type": "code",
   "execution_count": 38,
   "id": "958f9943",
   "metadata": {
    "slideshow": {
     "slide_type": "slide"
    }
   },
   "outputs": [
    {
     "data": {
      "text/latex": [
       "$\\displaystyle 4.16666666666667 c_{1} + 4.16666666666667 c_{2}$"
      ],
      "text/plain": [
       "4.16666666666667*c1 + 4.16666666666667*c2"
      ]
     },
     "execution_count": 38,
     "metadata": {},
     "output_type": "execute_result"
    }
   ],
   "source": [
    "c1,c2,c3 = 1,1,1 \n",
    "x_lambda(0)[0,0] "
   ]
  },
  {
   "cell_type": "code",
   "execution_count": 41,
   "id": "1d072dd3",
   "metadata": {},
   "outputs": [],
   "source": [
    "x = lambda t: c1*x_sup1_lambda(t) + c2*u_lambda(t) + c3*v_lambda(t)"
   ]
  },
  {
   "cell_type": "code",
   "execution_count": 42,
   "id": "d2d5b2da",
   "metadata": {},
   "outputs": [
    {
     "data": {
      "text/plain": [
       "array([[ 8.33333333],\n",
       "       [-2.33333333],\n",
       "       [ 2.        ]])"
      ]
     },
     "execution_count": 42,
     "metadata": {},
     "output_type": "execute_result"
    }
   ],
   "source": [
    "x(0)"
   ]
  },
  {
   "cell_type": "markdown",
   "id": "b16a8900",
   "metadata": {
    "slideshow": {
     "slide_type": "slide"
    }
   },
   "source": [
    "## Graficación de las funciones escalares $x_{1}(t)$, $x_{2}(t)$ y $x_{3}(t)$\n",
    "\n",
    "$$ x = \\begin{pmatrix} x_{1}(t) \\\\ x_{2}(t) \\\\ x_{3}(t) \\end{pmatrix} $$\n"
   ]
  },
  {
   "cell_type": "code",
   "execution_count": 43,
   "id": "0dcc9cc7",
   "metadata": {
    "slideshow": {
     "slide_type": "slide"
    }
   },
   "outputs": [
    {
     "data": {
      "image/png": "[encoded data removed]",
      "text/plain": [
       "<Figure size 1512x504 with 3 Axes>"
      ]
     },
     "metadata": {},
     "output_type": "display_data"
    }
   ],
   "source": [
    "import numpy as np \n",
    "import matplotlib.pyplot as plt \n",
    "\n",
    "plt.style.use('dark_background') \n",
    "\n",
    "fig = plt.figure(figsize = (21,7)) \n",
    "\n",
    "c1,c2,c3 = 1,1,1\n",
    "t = np.linspace(0,1,100)\n",
    "\n",
    "x = lambda t: c1*x_sup1_lambda(t) + c2*u_lambda(t) + c3*v_lambda(t)\n",
    "\n",
    "ax1 = fig.add_subplot(131)\n",
    "ax1.plot(t,x(t)[0,0], color = 'orange') \n",
    "ax1.set_xlabel(r'eje $t$')\n",
    "ax1.set_ylabel(r'$x_{1}(t)$')\n",
    "ax1.grid(True, alpha = 0.4)\n",
    "\n",
    "\n",
    "ax2 = fig.add_subplot(132)\n",
    "ax2.plot(t,x(t)[1,0], color = 'orange') \n",
    "ax2.set_xlabel(r'eje $t$')\n",
    "ax2.set_ylabel(r'$x_{2}(t)$')\n",
    "ax2.grid(True, alpha = 0.4)\n",
    "\n",
    "\n",
    "ax3 = fig.add_subplot(133) \n",
    "ax3.plot(t,x(t)[2,0], color = 'orange') \n",
    "ax3.set_xlabel(r'eje $t$')\n",
    "ax3.set_ylabel(r'$x_{3}(t)$')\n",
    "ax3.grid(True, alpha = 0.4)\n",
    "      "
   ]
  },
  {
   "cell_type": "markdown",
   "id": "5603f6b1",
   "metadata": {
    "slideshow": {
     "slide_type": "slide"
    }
   },
   "source": [
    "## Punto 2\n",
    "\n",
    "1. Encontrar la solución general de \n",
    "\n",
    "$$ x' = \\begin{pmatrix}2 & 4& 4\\\\ -1&-2&0  \\\\-1 &0 &-2  \\end{pmatrix}x $$\n",
    "\n",
    "2. Verifique por sustitución directa\n",
    "\n",
    "3. Utilice el wronkiano para mostrar que $x^{(1)}, x^{(2)}$ y $x^{(3)}$ es un conjunto fundamental de soluciones. \n",
    "\n",
    "No puede omitir ningún paso de solución y de cálculo algoritmicos y debe describir verbalmente su procedimiento y justificar los pasos esenciales. "
   ]
  },
  {
   "cell_type": "markdown",
   "id": "44d40252",
   "metadata": {
    "slideshow": {
     "slide_type": "slide"
    }
   },
   "source": [
    "## Solución"
   ]
  },
  {
   "cell_type": "markdown",
   "id": "2666f9b2",
   "metadata": {
    "slideshow": {
     "slide_type": "slide"
    }
   },
   "source": [
    "Supongamos que la solución del sistema es de la forma $x = \\xi e^{rt}$. "
   ]
  },
  {
   "cell_type": "code",
   "execution_count": null,
   "id": "1e909b5a",
   "metadata": {
    "slideshow": {
     "slide_type": "slide"
    }
   },
   "outputs": [],
   "source": []
  },
  {
   "cell_type": "code",
   "execution_count": null,
   "id": "e886c74e",
   "metadata": {
    "slideshow": {
     "slide_type": "slide"
    }
   },
   "outputs": [],
   "source": []
  },
  {
   "cell_type": "code",
   "execution_count": 4,
   "id": "0bd9aca2",
   "metadata": {
    "slideshow": {
     "slide_type": "slide"
    }
   },
   "outputs": [],
   "source": [
    "import numpy as np \n",
    "from sympy import *\n",
    "t = symbols('t') \n",
    "A = Matrix([[2,4,4],[-1,-2,0],[-1,0,-2]])  \n",
    "r1,r2,r3 = A.eigenvals().keys()  # obtendrás un diccionario \n",
    "v1,v2,v3 = A.eigenvects()[0][2][0],A.eigenvects()[1][2][0],A.eigenvects()[2][2][0] \n",
    "lambda1, mu1 = re(r1),im(r1)\n",
    "lambda2, mu2 = re(r2),re(r2)\n",
    "lambda3, mu3 = re(r3),im(r3) \n",
    "x_sup1 = lambdify(t,v1*(exp(lambda1*t)*cos(mu1*t) + 1*I*sin(mu1*t))) \n",
    "u = lambdify(t,re(v2*(exp(lambda2*t)*cos(mu2*t) + 1*I*sin(mu2*t)))) \n",
    "v = lambdify(t,im(v2*(exp(lambda2*t)*cos(mu2*t) + 1*I*sin(mu2*t))))  \n",
    "c1,c2,c3 = 1,1,1\n",
    "x = lambda t:c1*x_sup1(t) + c2*u(t) + c3*v(t) "
   ]
  },
  {
   "cell_type": "code",
   "execution_count": 5,
   "id": "6630f8d7",
   "metadata": {
    "slideshow": {
     "slide_type": "slide"
    }
   },
   "outputs": [
    {
     "data": {
      "text/plain": [
       "[(-2,\n",
       "  1,\n",
       "  [Matrix([\n",
       "   [ 0],\n",
       "   [-1],\n",
       "   [ 1]])]),\n",
       " (-2*I,\n",
       "  1,\n",
       "  [Matrix([\n",
       "   [-2 + 2*I],\n",
       "   [       1],\n",
       "   [       1]])]),\n",
       " (2*I,\n",
       "  1,\n",
       "  [Matrix([\n",
       "   [-2 - 2*I],\n",
       "   [       1],\n",
       "   [       1]])])]"
      ]
     },
     "execution_count": 5,
     "metadata": {},
     "output_type": "execute_result"
    }
   ],
   "source": [
    "from sympy import *\n",
    "A = Matrix(A) \n",
    "A.eigenvects()           "
   ]
  },
  {
   "cell_type": "markdown",
   "id": "db55035c",
   "metadata": {
    "slideshow": {
     "slide_type": "slide"
    }
   },
   "source": [
    "## Punto 3\n",
    "\n",
    "1. Resuelva \n",
    "\n",
    "$$ x' = \\begin{pmatrix} 2&5&1\\\\-5&-6&4\\\\0&0&2\\end{pmatrix}x $$\n",
    "\n",
    "2. Verifique \n",
    "\n",
    "No puede omitir ningún paso de solución y de cálculo algoritmicos y debe describir verbalmente su procedimiento y justificar los pasos esenciales. "
   ]
  },
  {
   "cell_type": "code",
   "execution_count": null,
   "id": "ba95e85e",
   "metadata": {
    "slideshow": {
     "slide_type": "slide"
    }
   },
   "outputs": [],
   "source": [
    "import numpy as np \n",
    "A = np.array([[2,5,1],[-5,-6,4],[0,0,2]])\n",
    "np.linalg.eig(A) "
   ]
  },
  {
   "cell_type": "code",
   "execution_count": null,
   "id": "1850e224",
   "metadata": {},
   "outputs": [],
   "source": [
    "from sympy import *\n",
    "A = Matrix(A) \n",
    "A.eigenvects()           "
   ]
  }
 ],
 "metadata": {
  "celltoolbar": "Slideshow",
  "kernelspec": {
   "display_name": "Python 3",
   "language": "python",
   "name": "python3"
  },
  "language_info": {
   "codemirror_mode": {
    "name": "ipython",
    "version": 3
   },
   "file_extension": ".py",
   "mimetype": "text/x-python",
   "name": "python",
   "nbconvert_exporter": "python",
   "pygments_lexer": "ipython3",
   "version": "3.8.8"
  },
  "latex_envs": {
   "LaTeX_envs_menu_present": true,
   "autoclose": false,
   "autocomplete": false,
   "bibliofile": "biblio.bib",
   "cite_by": "apalike",
   "current_citInitial": 1,
   "eqLabelWithNumbers": true,
   "eqNumInitial": 1,
   "hotkeys": {
    "equation": "Ctrl-E",
    "itemize": "Ctrl-I"
   },
   "labels_anchors": false,
   "latex_user_defs": false,
   "report_style_numbering": false,
   "user_envs_cfg": false
  },
  "rise": {
   "enable_chalkboard": true,
   "theme": "sky",
   "transition": "sky"
  }
 },
 "nbformat": 4,
 "nbformat_minor": 5
}
