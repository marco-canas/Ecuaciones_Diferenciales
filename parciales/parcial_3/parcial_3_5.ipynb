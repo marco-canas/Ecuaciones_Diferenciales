{
 "cells": [
  {
   "cell_type": "markdown",
   "id": "c2e7a099",
   "metadata": {
    "slideshow": {
     "slide_type": "slide"
    }
   },
   "source": [
    "# Parcial 3_5"
   ]
  },
  {
   "cell_type": "markdown",
   "id": "82011da6",
   "metadata": {
    "slideshow": {
     "slide_type": "slide"
    }
   },
   "source": [
    "## Punto 1\n",
    "\n",
    "1. Resuelva el problema con valores iniciales\n",
    "\n",
    "$$ x' = \\begin{pmatrix} 1& -12&-14 \\\\1 &2 &-3  \\\\1 &1 &-2  \\end{pmatrix}x, \\ \\ \\ \\ x(0) = \\begin{pmatrix} 4\\\\6 \\\\-7 \\end{pmatrix} $$\n",
    "\n",
    "Es decir, determina una función $x = u(t) + v(t) + \\xi e^{rt}$ de valor real que satisfaga el PVI anterior. \n",
    "\n",
    "   * Resuelva la ecuación polinómica de grado $3$: $det(A - rI) = 0$ utilizando el hecho de que los pilonomios de   \n",
    "     coeficientes enteros de la forma \n",
    "   \n",
    "   $$r^{3} + a_{2}r^{2} + a_{1}r + a_{0}$$\n",
    "   \n",
    "   tienen como posibles ceros racionales a los factores primos de $a_{0}$ o a los inversos aditivos de estos factores. \n",
    "\n",
    "2. Verifique \n",
    "\n",
    "3. **(Opcional)** Incluya el pantallazo de la verificación con Colaboratory o con [WolframAlpha](https://www.wolframalpha.com/input/?i=x%27+%3D+%7B%7B6%2C-1%7D%2C%7B5%2C4%7D%7Dx+)\n",
    "\n",
    "No puede omitir ningún paso de solución y de cálculo algoritmicos y debe describir verbalmente su procedimiento y justificar los pasos esenciales. "
   ]
  },
  {
   "cell_type": "code",
   "execution_count": 5,
   "id": "34d03a36",
   "metadata": {
    "slideshow": {
     "slide_type": "slide"
    }
   },
   "outputs": [
    {
     "data": {
      "text/plain": [
       "array([-3.83571698e-17+5.j, -3.83571698e-17-5.j,  1.00000000e+00+0.j])"
      ]
     },
     "execution_count": 5,
     "metadata": {},
     "output_type": "execute_result"
    }
   ],
   "source": [
    "import numpy as np \n",
    "A = np.array([[1,-12,-14],[1,2,-3],[1,1,-2]])\n",
    "R,V = np.linalg.eig(A) \n",
    "R "
   ]
  },
  {
   "cell_type": "code",
   "execution_count": 1,
   "id": "d4554b39",
   "metadata": {
    "slideshow": {
     "slide_type": "slide"
    }
   },
   "outputs": [],
   "source": [
    "import numpy as np \n",
    "from sympy import *\n",
    "t = symbols('t') \n",
    "A = Matrix([[1,-12,-14],[1,2,-3],[1,1,-2]])  \n",
    "r1,r2,r3 = A.eigenvals().keys()  # obtendrás un diccionario \n",
    "v1,v2,v3 = A.eigenvects()[0][2][0],A.eigenvects()[1][2][0],A.eigenvects()[2][2][0] \n",
    "lambda1, mu1 = re(r1),im(r1)\n",
    "lambda2, mu2 = re(r2),re(r2)\n",
    "lambda3, mu3 = re(r3),im(r3) \n",
    "x_sup1 = lambdify(t,v1*(exp(lambda1*t)*cos(mu1*t) + 1*I*sin(mu1*t))) \n",
    "u = lambdify(t,re(v2*(exp(lambda2*t)*cos(mu2*t) + 1*I*sin(mu2*t)))) \n",
    "v = lambdify(t,im(v2*(exp(lambda2*t)*cos(mu2*t) + 1*I*sin(mu2*t))))  \n",
    "c1,c2,c3 = 1,1,1\n",
    "x = lambda t:c1*x_sup1(t) + c2*u(t) + c3*v(t) "
   ]
  },
  {
   "cell_type": "code",
   "execution_count": 2,
   "id": "0dcc9cc7",
   "metadata": {
    "slideshow": {
     "slide_type": "slide"
    }
   },
   "outputs": [
    {
     "data": {
      "text/plain": [
       "[(1,\n",
       "  1,\n",
       "  [Matrix([\n",
       "   [25/6],\n",
       "   [-7/6],\n",
       "   [   1]])]),\n",
       " (-5*I,\n",
       "  1,\n",
       "  [Matrix([\n",
       "   [1 - 5*I],\n",
       "   [      1],\n",
       "   [      1]])]),\n",
       " (5*I,\n",
       "  1,\n",
       "  [Matrix([\n",
       "   [1 + 5*I],\n",
       "   [      1],\n",
       "   [      1]])])]"
      ]
     },
     "execution_count": 2,
     "metadata": {},
     "output_type": "execute_result"
    }
   ],
   "source": [
    "from sympy import *\n",
    "A = Matrix(A) \n",
    "A.eigenvects()           "
   ]
  },
  {
   "cell_type": "markdown",
   "id": "5603f6b1",
   "metadata": {
    "slideshow": {
     "slide_type": "slide"
    }
   },
   "source": [
    "## Punto 2\n",
    "\n",
    "1. Encontrar la solución general de \n",
    "\n",
    "$$ x' = \\begin{pmatrix}2 & 4& 4\\\\ -1&-2&0  \\\\-1 &0 &-2  \\end{pmatrix}x $$\n",
    "\n",
    "2. Verifique por sustitución directa\n",
    "\n",
    "3. Utilice el wronkiano para mostrar que $x^{(1)}, x^{(2)}$ y $x^{(3)}$ es un conjunto fundamental de soluciones. \n",
    "\n",
    "No puede omitir ningún paso de solución y de cálculo algoritmicos y debe describir verbalmente su procedimiento y justificar los pasos esenciales. "
   ]
  },
  {
   "cell_type": "markdown",
   "id": "44d40252",
   "metadata": {
    "slideshow": {
     "slide_type": "slide"
    }
   },
   "source": [
    "## Solución"
   ]
  },
  {
   "cell_type": "markdown",
   "id": "2666f9b2",
   "metadata": {
    "slideshow": {
     "slide_type": "slide"
    }
   },
   "source": [
    "Supongamos que la solución del sistema es de la forma $x = \\xi e^{rt}$. "
   ]
  },
  {
   "cell_type": "code",
   "execution_count": null,
   "id": "1e909b5a",
   "metadata": {
    "slideshow": {
     "slide_type": "slide"
    }
   },
   "outputs": [],
   "source": []
  },
  {
   "cell_type": "code",
   "execution_count": null,
   "id": "e886c74e",
   "metadata": {
    "slideshow": {
     "slide_type": "slide"
    }
   },
   "outputs": [],
   "source": []
  },
  {
   "cell_type": "code",
   "execution_count": 4,
   "id": "0bd9aca2",
   "metadata": {
    "slideshow": {
     "slide_type": "slide"
    }
   },
   "outputs": [],
   "source": [
    "import numpy as np \n",
    "from sympy import *\n",
    "t = symbols('t') \n",
    "A = Matrix([[2,4,4],[-1,-2,0],[-1,0,-2]])  \n",
    "r1,r2,r3 = A.eigenvals().keys()  # obtendrás un diccionario \n",
    "v1,v2,v3 = A.eigenvects()[0][2][0],A.eigenvects()[1][2][0],A.eigenvects()[2][2][0] \n",
    "lambda1, mu1 = re(r1),im(r1)\n",
    "lambda2, mu2 = re(r2),re(r2)\n",
    "lambda3, mu3 = re(r3),im(r3) \n",
    "x_sup1 = lambdify(t,v1*(exp(lambda1*t)*cos(mu1*t) + 1*I*sin(mu1*t))) \n",
    "u = lambdify(t,re(v2*(exp(lambda2*t)*cos(mu2*t) + 1*I*sin(mu2*t)))) \n",
    "v = lambdify(t,im(v2*(exp(lambda2*t)*cos(mu2*t) + 1*I*sin(mu2*t))))  \n",
    "c1,c2,c3 = 1,1,1\n",
    "x = lambda t:c1*x_sup1(t) + c2*u(t) + c3*v(t) "
   ]
  },
  {
   "cell_type": "code",
   "execution_count": 5,
   "id": "6630f8d7",
   "metadata": {
    "slideshow": {
     "slide_type": "slide"
    }
   },
   "outputs": [
    {
     "data": {
      "text/plain": [
       "[(-2,\n",
       "  1,\n",
       "  [Matrix([\n",
       "   [ 0],\n",
       "   [-1],\n",
       "   [ 1]])]),\n",
       " (-2*I,\n",
       "  1,\n",
       "  [Matrix([\n",
       "   [-2 + 2*I],\n",
       "   [       1],\n",
       "   [       1]])]),\n",
       " (2*I,\n",
       "  1,\n",
       "  [Matrix([\n",
       "   [-2 - 2*I],\n",
       "   [       1],\n",
       "   [       1]])])]"
      ]
     },
     "execution_count": 5,
     "metadata": {},
     "output_type": "execute_result"
    }
   ],
   "source": [
    "from sympy import *\n",
    "A = Matrix(A) \n",
    "A.eigenvects()           "
   ]
  },
  {
   "cell_type": "markdown",
   "id": "db55035c",
   "metadata": {
    "slideshow": {
     "slide_type": "slide"
    }
   },
   "source": [
    "## Punto 3\n",
    "\n",
    "1. Resuelva \n",
    "\n",
    "$$ x' = \\begin{pmatrix} 2&5&1\\\\-5&-6&4\\\\0&0&2\\end{pmatrix}x $$\n",
    "\n",
    "2. Verifique \n",
    "\n",
    "No puede omitir ningún paso de solución y de cálculo algoritmicos y debe describir verbalmente su procedimiento y justificar los pasos esenciales. "
   ]
  },
  {
   "cell_type": "code",
   "execution_count": null,
   "id": "ba95e85e",
   "metadata": {
    "slideshow": {
     "slide_type": "slide"
    }
   },
   "outputs": [],
   "source": [
    "import numpy as np \n",
    "A = np.array([[2,5,1],[-5,-6,4],[0,0,2]])\n",
    "np.linalg.eig(A) "
   ]
  },
  {
   "cell_type": "code",
   "execution_count": null,
   "id": "1850e224",
   "metadata": {},
   "outputs": [],
   "source": [
    "from sympy import *\n",
    "A = Matrix(A) \n",
    "A.eigenvects()           "
   ]
  }
 ],
 "metadata": {
  "celltoolbar": "Slideshow",
  "kernelspec": {
   "display_name": "Python 3",
   "language": "python",
   "name": "python3"
  },
  "language_info": {
   "codemirror_mode": {
    "name": "ipython",
    "version": 3
   },
   "file_extension": ".py",
   "mimetype": "text/x-python",
   "name": "python",
   "nbconvert_exporter": "python",
   "pygments_lexer": "ipython3",
   "version": "3.8.8"
  },
  "latex_envs": {
   "LaTeX_envs_menu_present": true,
   "autoclose": false,
   "autocomplete": false,
   "bibliofile": "biblio.bib",
   "cite_by": "apalike",
   "current_citInitial": 1,
   "eqLabelWithNumbers": true,
   "eqNumInitial": 1,
   "hotkeys": {
    "equation": "Ctrl-E",
    "itemize": "Ctrl-I"
   },
   "labels_anchors": false,
   "latex_user_defs": false,
   "report_style_numbering": false,
   "user_envs_cfg": false
  },
  "rise": {
   "enable_chalkboard": true,
   "theme": "sky",
   "transition": "sky"
  }
 },
 "nbformat": 4,
 "nbformat_minor": 5
}
