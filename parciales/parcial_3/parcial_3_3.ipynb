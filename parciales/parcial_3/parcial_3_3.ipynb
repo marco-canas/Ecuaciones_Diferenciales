{
 "cells": [
  {
   "cell_type": "markdown",
   "id": "1c37bec0",
   "metadata": {},
   "source": [
    "# Parcial 3_3"
   ]
  },
  {
   "cell_type": "markdown",
   "id": "880656c9",
   "metadata": {},
   "source": [
    "## Punto 1"
   ]
  },
  {
   "cell_type": "markdown",
   "id": "eb464106",
   "metadata": {},
   "source": [
    "1. **(15 puntos) Resuelva el problema con valores iniciales:**\n",
    "\n",
    "$$ x' = \\begin{pmatrix} 1&1 &4 \\\\ 0& 2& 0 \\\\ 1& 1& 1 \\end{pmatrix}x, \\ \\ x(0) = \\begin{pmatrix}1 \\\\3 \\\\0 \\end{pmatrix} $$\n",
    "\n",
    "No omita ninguno de los pasos de solución o verificación describiendo y justificando verbalmente para cada caso necesario. \n",
    "\n",
    "2. **(10 puntos) Verifique**\n",
    "\n",
    "No omita ninguno de los pasos de solución o verificación describiendo y justificando verbalmente para cada caso necesario. "
   ]
  },
  {
   "cell_type": "code",
   "execution_count": null,
   "id": "45aacde2",
   "metadata": {},
   "outputs": [],
   "source": [
    "import numpy as np \n",
    "A = np.array([[1,1,4],[0,2,0],[1,1,1]]) \n",
    "np.linalg.eig(A) "
   ]
  },
  {
   "cell_type": "code",
   "execution_count": null,
   "id": "05e3ef11",
   "metadata": {},
   "outputs": [],
   "source": [
    "from sympy import *\n",
    "A = Matrix(A) \n",
    "A.eigenvects()           "
   ]
  },
  {
   "cell_type": "markdown",
   "id": "d9354543",
   "metadata": {},
   "source": [
    "## Punto 2"
   ]
  },
  {
   "cell_type": "markdown",
   "id": "25a6f2c9",
   "metadata": {},
   "source": [
    "Resuelva el problema con valores iniciales:\n",
    "\n",
    "$$ \\begin{pmatrix} \\frac{1}{2} & 0 \\\\ 1 & - \\frac{1}{2}  \\end{pmatrix}, \\ \\ x(0) = \\begin{pmatrix} 3 \\\\ 5 \\end{pmatrix} $$\n",
    "\n",
    "2. Verifique la solución encontrada por sustitución directa. "
   ]
  },
  {
   "cell_type": "code",
   "execution_count": null,
   "id": "86736217",
   "metadata": {},
   "outputs": [],
   "source": [
    "import numpy as np \n",
    "A = np.array([[0.5,0],[1,-0.5]])\n",
    "np.linalg.eig(A) "
   ]
  },
  {
   "cell_type": "code",
   "execution_count": null,
   "id": "3e7464bd",
   "metadata": {},
   "outputs": [],
   "source": [
    "from sympy import *\n",
    "A = Matrix(A)\n",
    "A.eigenvects()           "
   ]
  },
  {
   "cell_type": "markdown",
   "id": "8b447470",
   "metadata": {},
   "source": [
    "## Punto 3"
   ]
  },
  {
   "cell_type": "markdown",
   "id": "939f39f2",
   "metadata": {},
   "source": [
    "1. Determine la solución general del sistema dado:\n",
    "\n",
    "$$ x' = \\begin{pmatrix}-1 &4 &2 \\\\4 &-1 &-2  \\\\0 &0 &6  \\end{pmatrix}x $$\n",
    "\n",
    "2. Verifique la solución encontrada por sustitución directa. "
   ]
  },
  {
   "cell_type": "code",
   "execution_count": null,
   "id": "ab0fd73e",
   "metadata": {},
   "outputs": [],
   "source": [
    "import numpy as np \n",
    "A = np.array([[-1,4,2],[4,-1,-2],[0,0,6]]) \n",
    "np.linalg.eig(A) "
   ]
  },
  {
   "cell_type": "code",
   "execution_count": null,
   "id": "a5346442",
   "metadata": {},
   "outputs": [],
   "source": [
    "from sympy import *\n",
    "A = Matrix(A)\n",
    "A.eigenvects()           "
   ]
  },
  {
   "cell_type": "markdown",
   "id": "e8c6512f",
   "metadata": {},
   "source": [
    "## Punto 4"
   ]
  },
  {
   "cell_type": "markdown",
   "id": "61576b9f",
   "metadata": {},
   "source": [
    "**Presentación oral**  "
   ]
  },
  {
   "cell_type": "markdown",
   "id": "91e6138e",
   "metadata": {},
   "source": [
    "$$ x' = \\begin{pmatrix} & & \\\\ & &  \\\\ & &  \\end{pmatrix}x, \\ \\ \\ \\ x(0) = \\begin{pmatrix} \\\\ \\\\ \\end{pmatrix} $$"
   ]
  },
  {
   "cell_type": "code",
   "execution_count": null,
   "id": "f74f7c82",
   "metadata": {},
   "outputs": [],
   "source": [
    "import numpy as np \n",
    "A = np.array([[],[]])\n",
    "np.linalg(A)"
   ]
  },
  {
   "cell_type": "code",
   "execution_count": null,
   "id": "ff88912f",
   "metadata": {},
   "outputs": [],
   "source": [
    "from sympy import *\n",
    "A = Matrix(A) \n",
    "A.eigenvects()           "
   ]
  }
 ],
 "metadata": {
  "kernelspec": {
   "display_name": "Python 3",
   "language": "python",
   "name": "python3"
  },
  "language_info": {
   "codemirror_mode": {
    "name": "ipython",
    "version": 3
   },
   "file_extension": ".py",
   "mimetype": "text/x-python",
   "name": "python",
   "nbconvert_exporter": "python",
   "pygments_lexer": "ipython3",
   "version": "3.8.8"
  },
  "latex_envs": {
   "LaTeX_envs_menu_present": true,
   "autoclose": false,
   "autocomplete": false,
   "bibliofile": "biblio.bib",
   "cite_by": "apalike",
   "current_citInitial": 1,
   "eqLabelWithNumbers": true,
   "eqNumInitial": 1,
   "hotkeys": {
    "equation": "Ctrl-E",
    "itemize": "Ctrl-I"
   },
   "labels_anchors": false,
   "latex_user_defs": false,
   "report_style_numbering": false,
   "user_envs_cfg": false
  }
 },
 "nbformat": 4,
 "nbformat_minor": 5
}
