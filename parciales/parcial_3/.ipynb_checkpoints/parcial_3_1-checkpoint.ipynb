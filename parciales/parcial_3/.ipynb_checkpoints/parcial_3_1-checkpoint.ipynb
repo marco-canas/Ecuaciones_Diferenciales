{
 "cells": [
  {
   "cell_type": "markdown",
   "id": "b9815096",
   "metadata": {},
   "source": [
    "# Parcial 3_1"
   ]
  },
  {
   "cell_type": "markdown",
   "id": "d885e2dd",
   "metadata": {},
   "source": [
    "## Punto 1\n",
    "\n",
    "1. **(15 puntos) Encontrar la solución**   \n",
    "\n",
    "$$ x' = \\begin{pmatrix}5&1\\\\-2&3\\end{pmatrix}x $$\n",
    "\n",
    "No puede omitir ningún paso de solución y debe describir verbalmente su procedimiento y justificar los pasos esenciales. \n",
    "\n",
    "2. **(10 puntos) Verifique** \n",
    "\n",
    "No puede omitir ningún paso de solución y de cálculo algoritmicos y debe describir verbalmente su procedimiento y justificar los pasos esenciales. "
   ]
  },
  {
   "cell_type": "code",
   "execution_count": 1,
   "id": "48159881",
   "metadata": {},
   "outputs": [
    {
     "data": {
      "text/plain": [
       "(array([4.+1.j, 4.-1.j]),\n",
       " array([[-0.40824829-0.40824829j, -0.40824829+0.40824829j],\n",
       "        [ 0.81649658+0.j        ,  0.81649658-0.j        ]]))"
      ]
     },
     "execution_count": 1,
     "metadata": {},
     "output_type": "execute_result"
    }
   ],
   "source": [
    "import numpy as np \n",
    "A = np.array([[5,1],[-2,3]]) \n",
    "np.linalg.eig(A)"
   ]
  },
  {
   "cell_type": "code",
   "execution_count": 2,
   "id": "e48c9e11",
   "metadata": {
    "scrolled": true
   },
   "outputs": [
    {
     "data": {
      "text/plain": [
       "[(4 - I,\n",
       "  1,\n",
       "  [Matrix([\n",
       "   [-1/2 + I/2],\n",
       "   [         1]])]),\n",
       " (4 + I,\n",
       "  1,\n",
       "  [Matrix([\n",
       "   [-1/2 - I/2],\n",
       "   [         1]])])]"
      ]
     },
     "execution_count": 2,
     "metadata": {},
     "output_type": "execute_result"
    }
   ],
   "source": [
    "from sympy import *\n",
    "A = Matrix(A)\n",
    "A.eigenvects() "
   ]
  },
  {
   "cell_type": "markdown",
   "id": "98ffc7a6",
   "metadata": {},
   "source": [
    "$$r_{2} = 4 + i, \\xi^{(1)} = \\begin{pmatrix} -1/2 -i/2 \\\\ 1 \\end{pmatrix}$$"
   ]
  },
  {
   "cell_type": "markdown",
   "id": "1c191645",
   "metadata": {},
   "source": [
    "## Punto 2\n",
    "\n",
    "1. **(15 puntos) Encontrar la solución**  \n",
    "\n",
    "$$ x' = \\begin{pmatrix}4&5\\\\-2&6\\end{pmatrix}x $$\n",
    "\n",
    "No puede omitir ningún paso de solución y debe describir verbalmente su procedimiento y justificar los pasos esenciales. \n",
    "\n",
    "**2. (10 puntos) Verifique** \n",
    "\n",
    "No puede omitir ningún paso de solución y de cálculo algoritmicos y debe describir verbalmente su procedimiento y justificar los pasos esenciales. "
   ]
  },
  {
   "cell_type": "code",
   "execution_count": 3,
   "id": "6a76888d",
   "metadata": {},
   "outputs": [
    {
     "data": {
      "text/plain": [
       "(array([5.+3.j, 5.-3.j]),\n",
       " array([[0.84515425+0.j        , 0.84515425-0.j        ],\n",
       "        [0.16903085+0.50709255j, 0.16903085-0.50709255j]]))"
      ]
     },
     "execution_count": 3,
     "metadata": {},
     "output_type": "execute_result"
    }
   ],
   "source": [
    "import numpy as np \n",
    "A = np.array([[4,5],[-2,6]]) \n",
    "np.linalg.eig(A)"
   ]
  },
  {
   "cell_type": "code",
   "execution_count": 4,
   "id": "e680b7de",
   "metadata": {},
   "outputs": [
    {
     "data": {
      "text/plain": [
       "[(5 - 3*I,\n",
       "  1,\n",
       "  [Matrix([\n",
       "   [1/2 + 3*I/2],\n",
       "   [          1]])]),\n",
       " (5 + 3*I,\n",
       "  1,\n",
       "  [Matrix([\n",
       "   [1/2 - 3*I/2],\n",
       "   [          1]])])]"
      ]
     },
     "execution_count": 4,
     "metadata": {},
     "output_type": "execute_result"
    }
   ],
   "source": [
    "from sympy import *\n",
    "A = Matrix(A)\n",
    "A.eigenvects() "
   ]
  },
  {
   "cell_type": "markdown",
   "id": "4d99c979",
   "metadata": {},
   "source": [
    "## Punto 3\n",
    "\n",
    "1. **(15 puntos) Encontrar la solución**  \n",
    "\n",
    "$$ x' = \\begin{pmatrix}4&-5\\\\5&-4\\end{pmatrix}x $$\n",
    "\n",
    "No puede omitir ningún paso de solución y debe describir verbalmente su procedimiento y justificar los pasos esenciales. \n",
    "\n",
    "2. **(10 puntos) Verifique** \n",
    "\n",
    "No puede omitir ningún paso de solución y de cálculo algoritmicos y debe describir verbalmente su procedimiento y justificar los pasos esenciales. "
   ]
  },
  {
   "cell_type": "code",
   "execution_count": null,
   "id": "9bf00e7d",
   "metadata": {},
   "outputs": [],
   "source": [
    "import numpy as np \n",
    "A = np.array([[4,-5],[5,-4]]) \n",
    "np.linalg.eig(A)"
   ]
  },
  {
   "cell_type": "code",
   "execution_count": null,
   "id": "329d031d",
   "metadata": {},
   "outputs": [],
   "source": [
    "from sympy import *\n",
    "A = Matrix(A)\n",
    "A.eigenvects() "
   ]
  }
 ],
 "metadata": {
  "kernelspec": {
   "display_name": "Python 3",
   "language": "python",
   "name": "python3"
  },
  "language_info": {
   "codemirror_mode": {
    "name": "ipython",
    "version": 3
   },
   "file_extension": ".py",
   "mimetype": "text/x-python",
   "name": "python",
   "nbconvert_exporter": "python",
   "pygments_lexer": "ipython3",
   "version": "3.8.8"
  },
  "latex_envs": {
   "LaTeX_envs_menu_present": true,
   "autoclose": false,
   "autocomplete": false,
   "bibliofile": "biblio.bib",
   "cite_by": "apalike",
   "current_citInitial": 1,
   "eqLabelWithNumbers": true,
   "eqNumInitial": 1,
   "hotkeys": {
    "equation": "Ctrl-E",
    "itemize": "Ctrl-I"
   },
   "labels_anchors": false,
   "latex_user_defs": false,
   "report_style_numbering": false,
   "user_envs_cfg": false
  }
 },
 "nbformat": 4,
 "nbformat_minor": 5
}
