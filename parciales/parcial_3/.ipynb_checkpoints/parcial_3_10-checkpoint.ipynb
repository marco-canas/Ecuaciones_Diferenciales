{
 "cells": [
  {
   "cell_type": "markdown",
   "id": "7e5a34d2",
   "metadata": {},
   "source": [
    "# Parcial 3_10"
   ]
  },
  {
   "cell_type": "markdown",
   "id": "430bfec0",
   "metadata": {},
   "source": [
    "## Punto 1\n",
    "\n",
    "1. (15 puntos) Encontrar la solución  \n",
    "\n",
    "$$ x' = \\begin{pmatrix}1&1&4\\\\0&2&0\\\\1&1&1\\end{pmatrix}x, \\ \\ \\ x(0) = \\begin{pmatrix}1\\\\3\\\\0\\end{pmatrix} $$\n",
    "\n",
    "2. (10 puntos) Verifique "
   ]
  },
  {
   "cell_type": "code",
   "execution_count": null,
   "id": "00469990",
   "metadata": {},
   "outputs": [],
   "source": [
    "import numpy as np \n",
    "A = np.array([[1,1,4],[0,2,0],[1,1,1]]) \n",
    "np.linalg.eig(A)"
   ]
  },
  {
   "cell_type": "code",
   "execution_count": null,
   "id": "3358da92",
   "metadata": {},
   "outputs": [],
   "source": [
    "from sympy import *\n",
    "A = Matrix(A)\n",
    "A.eigenvects() "
   ]
  },
  {
   "cell_type": "markdown",
   "id": "d5f9bc4e",
   "metadata": {},
   "source": [
    "## Punto 2\n",
    "\n",
    "1. (15 puntos) Encontrar la solución  \n",
    "\n",
    "$$ x' = \\begin{pmatrix}2&-7&0\\\\5&10&4\\\\0&5&2\\end{pmatrix}x $$\n",
    "\n",
    "2. (10 puntos) Verifique "
   ]
  },
  {
   "cell_type": "code",
   "execution_count": null,
   "id": "2814c322",
   "metadata": {},
   "outputs": [],
   "source": [
    "import numpy as np \n",
    "A = np.array([[2,-7,0],[5,10,4],[0,5,2]]) \n",
    "np.linalg.eig(A)"
   ]
  },
  {
   "cell_type": "code",
   "execution_count": null,
   "id": "35d230ab",
   "metadata": {},
   "outputs": [],
   "source": [
    "from sympy import *\n",
    "A = Matrix(A)\n",
    "A.eigenvects() "
   ]
  },
  {
   "cell_type": "markdown",
   "id": "140b5d85",
   "metadata": {},
   "source": [
    "## Punto 3\n",
    "\n",
    "1. (15 puntos) Encontrar la solución  \n",
    "\n",
    "$$ x' = \\begin{pmatrix}\\frac{1}{2}&0\\\\1&-\\frac{1}{2}\\end{pmatrix}x, \\ \\ \\ x(0) = \\begin{pmatrix} 3 \\\\ 5 \\end{pmatrix} $$\n",
    "\n",
    "2. (10 puntos) Verifique "
   ]
  },
  {
   "cell_type": "code",
   "execution_count": null,
   "id": "2ec1a78a",
   "metadata": {},
   "outputs": [],
   "source": [
    "import numpy as np \n",
    "A = np.array([[0.5,0],[1,-0.5]]) \n",
    "np.linalg.eig(A)"
   ]
  },
  {
   "cell_type": "code",
   "execution_count": null,
   "id": "18a57af6",
   "metadata": {},
   "outputs": [],
   "source": [
    "from sympy import *\n",
    "A = Matrix(A)\n",
    "A.eigenvects() "
   ]
  },
  {
   "cell_type": "code",
   "execution_count": null,
   "id": "dc4b5f5b",
   "metadata": {},
   "outputs": [],
   "source": []
  }
 ],
 "metadata": {
  "kernelspec": {
   "display_name": "Python 3",
   "language": "python",
   "name": "python3"
  },
  "language_info": {
   "codemirror_mode": {
    "name": "ipython",
    "version": 3
   },
   "file_extension": ".py",
   "mimetype": "text/x-python",
   "name": "python",
   "nbconvert_exporter": "python",
   "pygments_lexer": "ipython3",
   "version": "3.8.8"
  },
  "latex_envs": {
   "LaTeX_envs_menu_present": true,
   "autoclose": false,
   "autocomplete": false,
   "bibliofile": "biblio.bib",
   "cite_by": "apalike",
   "current_citInitial": 1,
   "eqLabelWithNumbers": true,
   "eqNumInitial": 1,
   "hotkeys": {
    "equation": "Ctrl-E",
    "itemize": "Ctrl-I"
   },
   "labels_anchors": false,
   "latex_user_defs": false,
   "report_style_numbering": false,
   "user_envs_cfg": false
  }
 },
 "nbformat": 4,
 "nbformat_minor": 5
}
