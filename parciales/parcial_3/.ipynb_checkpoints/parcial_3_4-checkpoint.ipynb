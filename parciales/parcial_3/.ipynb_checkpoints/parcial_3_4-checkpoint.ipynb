{
 "cells": [
  {
   "cell_type": "markdown",
   "id": "2eba138c",
   "metadata": {},
   "source": [
    "# Parcial 3_4"
   ]
  },
  {
   "cell_type": "markdown",
   "id": "449e74fc",
   "metadata": {},
   "source": [
    "## Punto 1"
   ]
  },
  {
   "cell_type": "markdown",
   "id": "da26501e",
   "metadata": {},
   "source": [
    "1. Resuelva el sistema:\n",
    "\n",
    "$$ x' = \\begin{pmatrix} 1& 1\\\\ 1& 1\\end{pmatrix}x,  $$\n",
    "\n",
    "2. Verifique"
   ]
  },
  {
   "cell_type": "code",
   "execution_count": 1,
   "id": "efa4f2d9",
   "metadata": {},
   "outputs": [
    {
     "data": {
      "text/plain": [
       "(array([1.+1.j, 1.-1.j]),\n",
       " array([[0.70710678+0.j        , 0.70710678-0.j        ],\n",
       "        [0.        +0.70710678j, 0.        -0.70710678j]]))"
      ]
     },
     "execution_count": 1,
     "metadata": {},
     "output_type": "execute_result"
    }
   ],
   "source": [
    "import numpy as np \n",
    "A = np.array([[1,1],[-1,1]])\n",
    "np.linalg.eig(A) "
   ]
  },
  {
   "cell_type": "code",
   "execution_count": null,
   "id": "139a5d8f",
   "metadata": {},
   "outputs": [],
   "source": [
    "from sympy import *\n",
    "A = Matrix(A\n",
    "A.eigenvects()     "
   ]
  },
  {
   "cell_type": "markdown",
   "id": "5dea19e9",
   "metadata": {},
   "source": [
    "## Punto 2"
   ]
  },
  {
   "cell_type": "markdown",
   "id": "390dc28f",
   "metadata": {},
   "source": [
    "1. Resuelva el sistema\n",
    "\n",
    "$$ x' = \\begin{pmatrix} 1& 1\\\\ -1&-1  \\end{pmatrix}x $$\n",
    "\n",
    "2. Verifique"
   ]
  },
  {
   "cell_type": "code",
   "execution_count": 2,
   "id": "348bad70",
   "metadata": {},
   "outputs": [
    {
     "data": {
      "text/plain": [
       "(array([1.+1.j, 1.-1.j]),\n",
       " array([[0.70710678+0.j        , 0.70710678-0.j        ],\n",
       "        [0.        +0.70710678j, 0.        -0.70710678j]]))"
      ]
     },
     "execution_count": 2,
     "metadata": {},
     "output_type": "execute_result"
    }
   ],
   "source": [
    "import numpy as np \n",
    "A = np.array([[1,1],[-1,1]])\n",
    "np.linalg.eig(A) "
   ]
  },
  {
   "cell_type": "code",
   "execution_count": null,
   "id": "cdbe860b",
   "metadata": {},
   "outputs": [],
   "source": [
    "from sympy import *\n",
    "A = Matrix(A\n",
    "A.eigenvects()     "
   ]
  },
  {
   "cell_type": "markdown",
   "id": "6a29f3a8",
   "metadata": {},
   "source": [
    "## Punto 3"
   ]
  },
  {
   "cell_type": "markdown",
   "id": "706d0eb0",
   "metadata": {},
   "source": [
    "\n",
    "1. Resuelva el PVI\n",
    "$$ x' = \\begin{pmatrix} 6& -1 \\\\ 5&4 \\end{pmatrix}x, \\ \\ \\ \\ x(0) = \\begin{pmatrix}-2 \\\\8\\end{pmatrix} $$\n",
    "\n",
    "2. Verifique"
   ]
  },
  {
   "cell_type": "code",
   "execution_count": null,
   "id": "da1f58ad",
   "metadata": {},
   "outputs": [],
   "source": [
    "import numpy as np \n",
    "A = np.array([[6,-1],[5,4]])\n",
    "np.linalg.eig(A) "
   ]
  },
  {
   "cell_type": "code",
   "execution_count": null,
   "id": "6c9a33ec",
   "metadata": {},
   "outputs": [],
   "source": [
    "from sympy import *\n",
    "A = Matrix(A) \n",
    "A.eigenvects()     "
   ]
  },
  {
   "cell_type": "code",
   "execution_count": null,
   "id": "6d246a38",
   "metadata": {},
   "outputs": [],
   "source": []
  }
 ],
 "metadata": {
  "kernelspec": {
   "display_name": "Python 3",
   "language": "python",
   "name": "python3"
  },
  "language_info": {
   "codemirror_mode": {
    "name": "ipython",
    "version": 3
   },
   "file_extension": ".py",
   "mimetype": "text/x-python",
   "name": "python",
   "nbconvert_exporter": "python",
   "pygments_lexer": "ipython3",
   "version": "3.8.8"
  },
  "latex_envs": {
   "LaTeX_envs_menu_present": true,
   "autoclose": false,
   "autocomplete": false,
   "bibliofile": "biblio.bib",
   "cite_by": "apalike",
   "current_citInitial": 1,
   "eqLabelWithNumbers": true,
   "eqNumInitial": 1,
   "hotkeys": {
    "equation": "Ctrl-E",
    "itemize": "Ctrl-I"
   },
   "labels_anchors": false,
   "latex_user_defs": false,
   "report_style_numbering": false,
   "user_envs_cfg": false
  },
  "rise": {
   "enable_chalkboard": true,
   "theme": "sky",
   "transition": "sky"
  }
 },
 "nbformat": 4,
 "nbformat_minor": 5
}
