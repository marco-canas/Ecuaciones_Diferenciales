{
 "cells": [
  {
   "cell_type": "markdown",
   "id": "19f7b209",
   "metadata": {},
   "source": [
    "# Parcial 3_6"
   ]
  },
  {
   "cell_type": "markdown",
   "id": "97ff558c",
   "metadata": {},
   "source": [
    "## Punto 1\n",
    "\n",
    "1. Comprueba que en el intervalo $(-\\infty, \\infty)$ \n",
    "\n",
    "$$ x^{(1)} = \\begin{pmatrix} 1\\\\-1 \\end{pmatrix}e^{-2t}, \\ \\ \\  x^{(2)} = \\begin{pmatrix} 3 \\\\ 5 \\end{pmatrix}e^{6t} $$\n",
    "\n",
    "son soluciones de \n",
    "\n",
    "$$ x' = \\begin{pmatrix}1&3\\\\5&3\\end{pmatrix}x $$\n",
    "\n",
    "2. Verifique, es decir, soluciones el sistema \n",
    "\n",
    "$$ x' = \\begin{pmatrix}1&3\\\\5&3\\end{pmatrix}x $$\n",
    "\n",
    "No puede omitir ningún paso de solución y de cálculo algoritmicos y debe describir verbalmente su procedimiento y justificar los pasos esenciales. \n"
   ]
  },
  {
   "cell_type": "code",
   "execution_count": 7,
   "id": "b9f8ff31",
   "metadata": {},
   "outputs": [
    {
     "data": {
      "text/plain": [
       "(array([-2.,  6.]),\n",
       " array([[-0.70710678, -0.51449576],\n",
       "        [ 0.70710678, -0.85749293]]))"
      ]
     },
     "execution_count": 7,
     "metadata": {},
     "output_type": "execute_result"
    }
   ],
   "source": [
    "import numpy as np \n",
    "A = np.array([[1,3],[5,3]])\n",
    "np.linalg.eig(A)"
   ]
  },
  {
   "cell_type": "code",
   "execution_count": 8,
   "id": "cb8ef30d",
   "metadata": {},
   "outputs": [
    {
     "data": {
      "text/plain": [
       "[(-2,\n",
       "  1,\n",
       "  [Matrix([\n",
       "   [-1],\n",
       "   [ 1]])]),\n",
       " (6,\n",
       "  1,\n",
       "  [Matrix([\n",
       "   [3/5],\n",
       "   [  1]])])]"
      ]
     },
     "execution_count": 8,
     "metadata": {},
     "output_type": "execute_result"
    }
   ],
   "source": [
    "from sympy import * \n",
    "A = Matrix(A)\n",
    "A.eigenvects() "
   ]
  },
  {
   "cell_type": "markdown",
   "id": "699ebe3c",
   "metadata": {},
   "source": [
    "## Punto 2\n",
    "\n",
    "1. Encontrar la solución  \n",
    "\n",
    "$$ x' = \\begin{pmatrix}3&-5\\\\4&8\\end{pmatrix}x $$\n",
    "\n",
    "2. Verifique \n",
    "\n",
    "No puede omitir ningún paso de solución y de cálculo algoritmicos y debe describir verbalmente su procedimiento y justificar los pasos esenciales. "
   ]
  },
  {
   "cell_type": "code",
   "execution_count": 5,
   "id": "b0e9879e",
   "metadata": {},
   "outputs": [
    {
     "data": {
      "text/plain": [
       "(array([5.5+3.70809924j, 5.5-3.70809924j]),\n",
       " array([[ 0.74535599+0.j       ,  0.74535599-0.j       ],\n",
       "        [-0.372678  -0.5527708j, -0.372678  +0.5527708j]]))"
      ]
     },
     "execution_count": 5,
     "metadata": {},
     "output_type": "execute_result"
    }
   ],
   "source": [
    "import numpy as np \n",
    "A = np.array([[3,-5],[4,8]]) \n",
    "np.linalg.eig(A)"
   ]
  },
  {
   "cell_type": "code",
   "execution_count": 6,
   "id": "e4cb16c4",
   "metadata": {},
   "outputs": [
    {
     "data": {
      "text/plain": [
       "[(11/2 - sqrt(55)*I/2,\n",
       "  1,\n",
       "  [Matrix([\n",
       "   [-5/8 - sqrt(55)*I/8],\n",
       "   [                  1]])]),\n",
       " (11/2 + sqrt(55)*I/2,\n",
       "  1,\n",
       "  [Matrix([\n",
       "   [-5/8 + sqrt(55)*I/8],\n",
       "   [                  1]])])]"
      ]
     },
     "execution_count": 6,
     "metadata": {},
     "output_type": "execute_result"
    }
   ],
   "source": [
    "from sympy import * \n",
    "A = Matrix(A)\n",
    "A.eigenvects() "
   ]
  },
  {
   "cell_type": "markdown",
   "id": "229a9f48",
   "metadata": {},
   "source": [
    "## Punto 3\n",
    "\n",
    "1. (15 puntos) Encontrar la solución  \n",
    "\n",
    "$$ x' = \\begin{pmatrix}0&6&0\\\\1&0&1\\\\1&1&0\\end{pmatrix}x $$\n",
    "\n",
    "2. (10 puntos) Verifique \n",
    "\n",
    "No puede omitir ningún paso de solución y de cálculo algoritmicos y debe describir verbalmente su procedimiento y justificar los pasos esenciales. "
   ]
  },
  {
   "cell_type": "code",
   "execution_count": 3,
   "id": "495bcf38",
   "metadata": {},
   "outputs": [
    {
     "data": {
      "text/plain": [
       "(array([-2.,  3., -1.]),\n",
       " array([[-0.90453403,  0.81649658, -0.76200076],\n",
       "        [ 0.30151134,  0.40824829,  0.12700013],\n",
       "        [ 0.30151134,  0.40824829,  0.63500064]]))"
      ]
     },
     "execution_count": 3,
     "metadata": {},
     "output_type": "execute_result"
    }
   ],
   "source": [
    "import numpy as np \n",
    "A = np.array([[0,6,0],[1,0,1],[1,1,0]]) \n",
    "np.linalg.eig(A)"
   ]
  },
  {
   "cell_type": "code",
   "execution_count": 4,
   "id": "4e776f1e",
   "metadata": {},
   "outputs": [
    {
     "data": {
      "text/plain": [
       "[(-2,\n",
       "  1,\n",
       "  [Matrix([\n",
       "   [-3],\n",
       "   [ 1],\n",
       "   [ 1]])]),\n",
       " (-1,\n",
       "  1,\n",
       "  [Matrix([\n",
       "   [-6/5],\n",
       "   [ 1/5],\n",
       "   [   1]])]),\n",
       " (3,\n",
       "  1,\n",
       "  [Matrix([\n",
       "   [2],\n",
       "   [1],\n",
       "   [1]])])]"
      ]
     },
     "execution_count": 4,
     "metadata": {},
     "output_type": "execute_result"
    }
   ],
   "source": [
    "from sympy import * \n",
    "A = Matrix(A)\n",
    "A.eigenvects() "
   ]
  },
  {
   "cell_type": "code",
   "execution_count": null,
   "id": "67fb9021",
   "metadata": {},
   "outputs": [],
   "source": []
  }
 ],
 "metadata": {
  "kernelspec": {
   "display_name": "Python 3",
   "language": "python",
   "name": "python3"
  },
  "language_info": {
   "codemirror_mode": {
    "name": "ipython",
    "version": 3
   },
   "file_extension": ".py",
   "mimetype": "text/x-python",
   "name": "python",
   "nbconvert_exporter": "python",
   "pygments_lexer": "ipython3",
   "version": "3.8.8"
  },
  "latex_envs": {
   "LaTeX_envs_menu_present": true,
   "autoclose": false,
   "autocomplete": false,
   "bibliofile": "biblio.bib",
   "cite_by": "apalike",
   "current_citInitial": 1,
   "eqLabelWithNumbers": true,
   "eqNumInitial": 1,
   "hotkeys": {
    "equation": "Ctrl-E",
    "itemize": "Ctrl-I"
   },
   "labels_anchors": false,
   "latex_user_defs": false,
   "report_style_numbering": false,
   "user_envs_cfg": false
  }
 },
 "nbformat": 4,
 "nbformat_minor": 5
}
