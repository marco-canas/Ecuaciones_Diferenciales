{
 "cells": [
  {
   "cell_type": "markdown",
   "id": "0a89e913",
   "metadata": {},
   "source": [
    "# Parcial 3_8"
   ]
  },
  {
   "cell_type": "markdown",
   "id": "1517789b",
   "metadata": {},
   "source": [
    "## Punto 1\n",
    "\n",
    "Página 323\n",
    "\n",
    "1. (15 puntos) Compruebe que los vectores \n",
    "\n",
    "$$ x^{(1)} =  \\begin{pmatrix} \\cos t \\\\ -\\frac{1}{2}\\cos t + \\frac{1}{2}\\sin t \\\\ -\\cos t - \\sin t \\end{pmatrix}, \\ \\ \\ x^{(2)} =  \\begin{pmatrix} 0 \\\\ e^{t} \\\\ 0 \\end{pmatrix} $$\n",
    "\n",
    "$$ x' = \\begin{pmatrix}1&0&1\\\\1&1&0\\\\-2&0&-1\\end{pmatrix}x $$\n",
    "\n",
    "2. (10 puntos) Verifique, es decir, soluciones el sistema \n",
    "\n",
    "$$ x' = \\begin{pmatrix}1&0&1\\\\1&1&0\\\\-2&0&-1\\end{pmatrix}x $$\n",
    "\n",
    "No puede omitir ningún paso de solución y de cálculo algoritmicos y debe describir verbalmente su procedimiento y justificar los pasos esenciales. "
   ]
  },
  {
   "cell_type": "code",
   "execution_count": null,
   "id": "fa21126d",
   "metadata": {},
   "outputs": [],
   "source": [
    "import numpy as np \n",
    "A = np.array([[1,0,1],[1,1,0],[-2,0,-1]]) \n",
    "np.linalg.eig(A)"
   ]
  },
  {
   "cell_type": "code",
   "execution_count": null,
   "id": "272a46b2",
   "metadata": {},
   "outputs": [],
   "source": [
    "from sympy import *\n",
    "A = Matrix(A)\n",
    "A.eigenvects()"
   ]
  },
  {
   "cell_type": "markdown",
   "id": "92928859",
   "metadata": {},
   "source": [
    "## Punto 2\n",
    "\n",
    "1. (15 puntos) Muestre que las siguientes funciones son LI \n",
    "\n",
    "$$ x^{(1)} = \\begin{pmatrix} 1 \\\\ -1\\end{pmatrix}e^{-2t}, \\ \\ \\ x^{(2)} = \\begin{pmatrix} 3\\\\5 \\end{pmatrix}e^{6t}  $$\n",
    "\n",
    "2. (10 puntos) Solucione el sistema \n",
    "\n",
    "$$ x' = \\begin{pmatrix}1&3\\\\5&3\\end{pmatrix}x $$\n",
    "\n",
    "No puede omitir ningún paso de solución y de cálculo algoritmicos y debe describir verbalmente su procedimiento y justificar los pasos esenciales. "
   ]
  },
  {
   "cell_type": "code",
   "execution_count": null,
   "id": "5b5e2532",
   "metadata": {},
   "outputs": [],
   "source": [
    "import numpy as np \n",
    "A = np.array([[1,3],[5,3]]) \n",
    "np.linalg.eig(A)"
   ]
  },
  {
   "cell_type": "code",
   "execution_count": null,
   "id": "17a5ff41",
   "metadata": {},
   "outputs": [],
   "source": [
    "from sympy import *\n",
    "A = Matrix(A)\n",
    "A.eigenvects()"
   ]
  },
  {
   "cell_type": "markdown",
   "id": "8539d99e",
   "metadata": {},
   "source": [
    "## Punto 3\n",
    "Página 323\n",
    "\n",
    "1. (10 puntos) Verifique que las siguientes funciones son LI\n",
    "\n",
    "$$ x^{(1)} = \\begin{pmatrix}\\cos t \\\\ -\\frac{1}{2}\\cos t + \\frac{1}{2} \\sin t \\\\ -\\cos t - \\sin t \\end{pmatrix}, \\ \\ \\ \\ x^{(2)} = \\begin{pmatrix} 0\\\\1 \\\\0 \\end{pmatrix}e^{t}, \\ \\ \\ \\ x^{(3)} = \\begin{pmatrix}\\sin t \\\\ -\\frac{1}{2} \\sin t - \\frac{1}{2} \\cos t \\\\ -\\sin t + \\cos t \\end{pmatrix} $$\n",
    "\n",
    "Página 325. \n",
    "\n",
    "No puede omitir ningún paso de solución y de cálculo algoritmicos y debe describir verbalmente su procedimiento y justificar los pasos esenciales. \n"
   ]
  },
  {
   "cell_type": "code",
   "execution_count": null,
   "id": "266e8b25",
   "metadata": {},
   "outputs": [],
   "source": [
    "import numpy as np \n",
    "A = np.array([[1,0],[0,1]]) \n",
    "np.linalg.eig(A)"
   ]
  },
  {
   "cell_type": "code",
   "execution_count": null,
   "id": "2e7fd782",
   "metadata": {},
   "outputs": [],
   "source": [
    "from sympy import *\n",
    "A = Matrix(A)\n",
    "A.eigenvects()"
   ]
  }
 ],
 "metadata": {
  "kernelspec": {
   "display_name": "Python 3",
   "language": "python",
   "name": "python3"
  },
  "language_info": {
   "codemirror_mode": {
    "name": "ipython",
    "version": 3
   },
   "file_extension": ".py",
   "mimetype": "text/x-python",
   "name": "python",
   "nbconvert_exporter": "python",
   "pygments_lexer": "ipython3",
   "version": "3.8.8"
  },
  "latex_envs": {
   "LaTeX_envs_menu_present": true,
   "autoclose": false,
   "autocomplete": false,
   "bibliofile": "biblio.bib",
   "cite_by": "apalike",
   "current_citInitial": 1,
   "eqLabelWithNumbers": true,
   "eqNumInitial": 1,
   "hotkeys": {
    "equation": "Ctrl-E",
    "itemize": "Ctrl-I"
   },
   "labels_anchors": false,
   "latex_user_defs": false,
   "report_style_numbering": false,
   "user_envs_cfg": false
  }
 },
 "nbformat": 4,
 "nbformat_minor": 5
}
