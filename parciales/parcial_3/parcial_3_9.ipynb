{
 "cells": [
  {
   "cell_type": "markdown",
   "id": "5a9d7616",
   "metadata": {},
   "source": [
    "# Parcial 3_9"
   ]
  },
  {
   "cell_type": "markdown",
   "id": "21a6792f",
   "metadata": {},
   "source": [
    "## Punto 1\n",
    "\n",
    "1. (15 puntos) Encontrar la solución  \n",
    "\n",
    "$$ x' = \\begin{pmatrix}6&-1\\\\5&4\\end{pmatrix}x $$\n",
    "\n",
    "2. (10 puntos) Verifique \n",
    "\n",
    "No puede omitir ningún paso de solución y de cálculo algoritmicos y debe describir verbalmente su procedimiento y justificar los pasos esenciales. "
   ]
  },
  {
   "cell_type": "code",
   "execution_count": null,
   "id": "794dc844",
   "metadata": {},
   "outputs": [],
   "source": [
    "import numpy as np \n",
    "A = np.array([[6,-1],[5,4]]) \n",
    "np.linalg.eig(A)"
   ]
  },
  {
   "cell_type": "code",
   "execution_count": null,
   "id": "5474039a",
   "metadata": {},
   "outputs": [],
   "source": [
    "from sympy import *\n",
    "A = Matrix(A)\n",
    "# A.eigenvals() \n",
    "A.eigenvects() "
   ]
  },
  {
   "cell_type": "markdown",
   "id": "6377831d",
   "metadata": {},
   "source": [
    "## Punto 2\n",
    "\n",
    "1. (15 puntos) Resuelva el problema con valores iniciales  \n",
    "\n",
    "$$ x' = \\begin{pmatrix}2&8\\\\-1&-2\\end{pmatrix}x, \\ \\ \\ x(0) = \\begin{pmatrix}2\\\\-1\\end{pmatrix} $$\n",
    "\n",
    "2. (10 puntos) Verifique \n",
    "\n",
    "No puede omitir ningún paso de solución y de cálculo algoritmicos y debe describir verbalmente su procedimiento y justificar los pasos esenciales. \n"
   ]
  },
  {
   "cell_type": "code",
   "execution_count": null,
   "id": "581bf6e4",
   "metadata": {},
   "outputs": [],
   "source": [
    "import numpy as np \n",
    "A = np.array([[2,8],[-1,-2]]) \n",
    "np.linalg.eig(A)"
   ]
  },
  {
   "cell_type": "code",
   "execution_count": null,
   "id": "c0a82466",
   "metadata": {},
   "outputs": [],
   "source": [
    "from sympy import *\n",
    "A = Matrix(A)\n",
    "A.eigenvects() "
   ]
  },
  {
   "cell_type": "markdown",
   "id": "4f4eb485",
   "metadata": {},
   "source": [
    "## Punto 3\n",
    "\n",
    "1. (15 puntos) Encontrar la solución  \n",
    "\n",
    "$$ x' = \\begin{pmatrix}1&2\\\\4&3\\end{pmatrix}x $$\n",
    "\n",
    "2. (10 puntos) Verifique \n",
    "\n",
    "No puede omitir ningún paso de solución y de cálculo algoritmicos y debe describir verbalmente su procedimiento y justificar los pasos esenciales. "
   ]
  },
  {
   "cell_type": "code",
   "execution_count": null,
   "id": "a7dc4e2d",
   "metadata": {},
   "outputs": [],
   "source": [
    "import numpy as np \n",
    "A = np.array([[1,2],[4,3]])  \n",
    "np.linalg.eig(A)"
   ]
  },
  {
   "cell_type": "code",
   "execution_count": null,
   "id": "1d050b09",
   "metadata": {},
   "outputs": [],
   "source": [
    "from sympy import *\n",
    "A = Matrix(A)\n",
    "A.eigenvals() \n",
    "A.eigenvects() "
   ]
  }
 ],
 "metadata": {
  "kernelspec": {
   "display_name": "Python 3",
   "language": "python",
   "name": "python3"
  },
  "language_info": {
   "codemirror_mode": {
    "name": "ipython",
    "version": 3
   },
   "file_extension": ".py",
   "mimetype": "text/x-python",
   "name": "python",
   "nbconvert_exporter": "python",
   "pygments_lexer": "ipython3",
   "version": "3.8.8"
  },
  "latex_envs": {
   "LaTeX_envs_menu_present": true,
   "autoclose": false,
   "autocomplete": false,
   "bibliofile": "biblio.bib",
   "cite_by": "apalike",
   "current_citInitial": 1,
   "eqLabelWithNumbers": true,
   "eqNumInitial": 1,
   "hotkeys": {
    "equation": "Ctrl-E",
    "itemize": "Ctrl-I"
   },
   "labels_anchors": false,
   "latex_user_defs": false,
   "report_style_numbering": false,
   "user_envs_cfg": false
  }
 },
 "nbformat": 4,
 "nbformat_minor": 5
}
