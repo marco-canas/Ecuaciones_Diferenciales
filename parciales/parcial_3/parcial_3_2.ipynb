{
 "cells": [
  {
   "cell_type": "markdown",
   "id": "5a919daf",
   "metadata": {
    "slideshow": {
     "slide_type": "slide"
    }
   },
   "source": [
    "# Parcial 3_2"
   ]
  },
  {
   "cell_type": "markdown",
   "id": "fb629ec6",
   "metadata": {
    "slideshow": {
     "slide_type": "slide"
    }
   },
   "source": [
    "## Punto 1\n",
    "\n",
    "1. **(15 puntos) Encontrar la solución**  \n",
    "\n",
    "$$ x' = \\begin{pmatrix}1&-12&-14\\\\1&2&-3\\\\1&1&-2\\end{pmatrix}x, \\ \\ \\ x(0) = \\begin{pmatrix}4\\\\6\\\\-7\\end{pmatrix} $$\n",
    "\n",
    "2. **(10 puntos) Verifique** \n",
    "\n",
    "No puede omitir ningún paso de solución y de cálculo algoritmicos y debe describir verbalmente su procedimiento y justificar los pasos esenciales. "
   ]
  },
  {
   "cell_type": "markdown",
   "id": "72b689aa",
   "metadata": {
    "slideshow": {
     "slide_type": "slide"
    }
   },
   "source": [
    "# Solución con sympy"
   ]
  },
  {
   "cell_type": "markdown",
   "id": "c3074808",
   "metadata": {
    "slideshow": {
     "slide_type": "slide"
    }
   },
   "source": [
    "Empecemos por obtener los valores y vectores propios utilizando solo sympy "
   ]
  },
  {
   "cell_type": "code",
   "execution_count": 3,
   "id": "219790ce",
   "metadata": {
    "slideshow": {
     "slide_type": "slide"
    }
   },
   "outputs": [
    {
     "data": {
      "text/plain": [
       "(1,\n",
       " 1,\n",
       " [Matrix([\n",
       "  [25/6],\n",
       "  [-7/6],\n",
       "  [   1]])])"
      ]
     },
     "execution_count": 3,
     "metadata": {},
     "output_type": "execute_result"
    }
   ],
   "source": [
    "from sympy import *\n",
    "A = Matrix([[1,-12,-14],[1,2,-3],[1,1,-2]])  \n",
    "r_vec1, r_vec2, r_vec3 = A.eigenvects() \n",
    "r_vec1  "
   ]
  },
  {
   "cell_type": "code",
   "execution_count": 5,
   "id": "68c50cc5",
   "metadata": {
    "slideshow": {
     "slide_type": "slide"
    }
   },
   "outputs": [
    {
     "data": {
      "text/plain": [
       "array([[ 0.16666667],\n",
       "       [-0.16666667],\n",
       "       [ 2.        ]])"
      ]
     },
     "execution_count": 5,
     "metadata": {},
     "output_type": "execute_result"
    }
   ],
   "source": [
    "import numpy as np \n",
    "from sympy import *\n",
    "t = symbols('t') \n",
    "A = Matrix([[1,-12,-14],[1,2,-3],[1,1,-2]])  \n",
    "r1,r2,r3 = A.eigenvals().keys()  # obtendrás un diccionario \n",
    "v1,v2,v3 = A.eigenvects()[0][2][0],A.eigenvects()[1][2][0],A.eigenvects()[2][2][0] \n",
    "lambda1, mu1 = re(r1),im(r1)\n",
    "lambda2, mu2 = re(r2),re(r2)\n",
    "lambda3, mu3 = re(r3),im(r3) \n",
    "x_sup1 = lambdify(t,v1*(exp(lambda1*t)*cos(mu1*t) + 1*I*sin(mu1*t))) \n",
    "u = lambdify(t,re(v2*(exp(lambda2*t)*cos(mu2*t) + 1*I*sin(mu2*t)))) \n",
    "v = lambdify(t,im(v2*(exp(lambda2*t)*cos(mu2*t) + 1*I*sin(mu2*t))))  \n",
    "c1,c2,c3 = 1,1,1\n",
    "x = lambda t:c1*x_sup1(t) + c2*u(t) + c3*v(t) \n",
    "x(0) "
   ]
  },
  {
   "cell_type": "markdown",
   "id": "10d4fe4a",
   "metadata": {
    "slideshow": {
     "slide_type": "slide"
    }
   },
   "source": [
    "## Solución analítica "
   ]
  },
  {
   "cell_type": "markdown",
   "id": "dc1b9f5e",
   "metadata": {
    "slideshow": {
     "slide_type": "slide"
    }
   },
   "source": []
  },
  {
   "cell_type": "markdown",
   "id": "baab67f3",
   "metadata": {
    "slideshow": {
     "slide_type": "slide"
    }
   },
   "source": []
  },
  {
   "cell_type": "markdown",
   "id": "56821b9b",
   "metadata": {
    "slideshow": {
     "slide_type": "slide"
    }
   },
   "source": []
  },
  {
   "cell_type": "markdown",
   "id": "c70c30ea",
   "metadata": {
    "slideshow": {
     "slide_type": "slide"
    }
   },
   "source": []
  },
  {
   "cell_type": "code",
   "execution_count": null,
   "id": "05e788db",
   "metadata": {
    "slideshow": {
     "slide_type": "slide"
    }
   },
   "outputs": [],
   "source": []
  },
  {
   "cell_type": "code",
   "execution_count": null,
   "id": "051972a7",
   "metadata": {
    "slideshow": {
     "slide_type": "slide"
    }
   },
   "outputs": [],
   "source": []
  },
  {
   "cell_type": "code",
   "execution_count": null,
   "id": "f3f7adda",
   "metadata": {
    "slideshow": {
     "slide_type": "slide"
    }
   },
   "outputs": [],
   "source": []
  },
  {
   "cell_type": "code",
   "execution_count": null,
   "id": "f1e031cb",
   "metadata": {
    "slideshow": {
     "slide_type": "slide"
    }
   },
   "outputs": [],
   "source": []
  },
  {
   "cell_type": "markdown",
   "id": "f3c8e7bd",
   "metadata": {
    "slideshow": {
     "slide_type": "slide"
    }
   },
   "source": []
  },
  {
   "cell_type": "markdown",
   "id": "570448e0",
   "metadata": {
    "slideshow": {
     "slide_type": "slide"
    }
   },
   "source": [
    "## Punto 2\n",
    "\n",
    "1. **(15 puntos) Encontrar la solución**  \n",
    "\n",
    "$$ x' = \\begin{pmatrix}6&-1\\\\5&4\\end{pmatrix}x, \\ \\ \\ x(0) = \\begin{pmatrix}-2\\\\8\\end{pmatrix} $$\n",
    "\n",
    "2. **(10 puntos) Verifique** \n",
    "\n",
    "No puede omitir ningún paso de solución y de cálculo algoritmicos y debe describir verbalmente su procedimiento y justificar los pasos esenciales. "
   ]
  },
  {
   "cell_type": "code",
   "execution_count": null,
   "id": "724ce99b",
   "metadata": {
    "slideshow": {
     "slide_type": "slide"
    }
   },
   "outputs": [],
   "source": [
    "from sympy import *\n",
    "A = Matrix([[1,-12,-14],[1,2,-3],[1,1,-2]])  \n",
    "r_vec1, r_vec2, r_vec3 = A.eigenvects() \n",
    "r_vec1  "
   ]
  },
  {
   "cell_type": "code",
   "execution_count": null,
   "id": "bc4bb098",
   "metadata": {
    "slideshow": {
     "slide_type": "slide"
    }
   },
   "outputs": [],
   "source": [
    "import numpy as np \n",
    "from sympy import *\n",
    "t = symbols('t') \n",
    "A = Matrix([[1,-12,-14],[1,2,-3],[1,1,-2]])  \n",
    "r1,r2,r3 = A.eigenvals().keys()  # obtendrás un diccionario \n",
    "v1,v2,v3 = A.eigenvects()[0][2][0],A.eigenvects()[1][2][0],A.eigenvects()[2][2][0] \n",
    "lambda1, mu1 = re(r1),im(r1)\n",
    "lambda2, mu2 = re(r2),re(r2)\n",
    "lambda3, mu3 = re(r3),im(r3) \n",
    "x_sup1 = lambdify(t,v1*(exp(lambda1*t)*cos(mu1*t) + 1*I*sin(mu1*t))) \n",
    "u = lambdify(t,re(v2*(exp(lambda2*t)*cos(mu2*t) + 1*I*sin(mu2*t)))) \n",
    "v = lambdify(t,im(v2*(exp(lambda2*t)*cos(mu2*t) + 1*I*sin(mu2*t))))  \n",
    "c1,c2,c3 = 1,1,1\n",
    "x = lambda t:c1*x_sup1(t) + c2*u(t) + c3*v(t) "
   ]
  },
  {
   "cell_type": "code",
   "execution_count": null,
   "id": "d5e92e08",
   "metadata": {
    "slideshow": {
     "slide_type": "slide"
    }
   },
   "outputs": [],
   "source": [
    "from sympy import *\n",
    "A = Matrix(A)\n",
    "A.eigenvects() "
   ]
  },
  {
   "cell_type": "markdown",
   "id": "3e78a77d",
   "metadata": {
    "slideshow": {
     "slide_type": "slide"
    }
   },
   "source": [
    "## Punto 3\n",
    "\n",
    "1. **(15 puntos) Encontrar la solución**  \n",
    "\n",
    "$$ x' = \\begin{pmatrix}4&0&1\\\\0&6&0\\\\-4&0&4\\end{pmatrix}x $$\n",
    "\n",
    "2. **(10 puntos) Verifique** \n",
    "\n",
    "No puede omitir ningún paso de solución y de cálculo algoritmicos y debe describir verbalmente su procedimiento y justificar los pasos esenciales. "
   ]
  },
  {
   "cell_type": "code",
   "execution_count": null,
   "id": "1881312d",
   "metadata": {
    "slideshow": {
     "slide_type": "slide"
    }
   },
   "outputs": [],
   "source": [
    "from sympy import *\n",
    "A = Matrix([[1,-12,-14],[1,2,-3],[1,1,-2]])  \n",
    "r_vec1, r_vec2, r_vec3 = A.eigenvects() \n",
    "r_vec1  "
   ]
  },
  {
   "cell_type": "code",
   "execution_count": null,
   "id": "79c85cdb",
   "metadata": {
    "slideshow": {
     "slide_type": "slide"
    }
   },
   "outputs": [],
   "source": [
    "import numpy as np \n",
    "from sympy import *\n",
    "t = symbols('t') \n",
    "A = Matrix([[1,-12,-14],[1,2,-3],[1,1,-2]])  \n",
    "r1,r2,r3 = A.eigenvals().keys()  # obtendrás un diccionario \n",
    "v1,v2,v3 = A.eigenvects()[0][2][0],A.eigenvects()[1][2][0],A.eigenvects()[2][2][0] \n",
    "lambda1, mu1 = re(r1),im(r1)\n",
    "lambda2, mu2 = re(r2),re(r2)\n",
    "lambda3, mu3 = re(r3),im(r3) \n",
    "x_sup1 = lambdify(t,v1*(exp(lambda1*t)*cos(mu1*t) + 1*I*sin(mu1*t))) \n",
    "u = lambdify(t,re(v2*(exp(lambda2*t)*cos(mu2*t) + 1*I*sin(mu2*t)))) \n",
    "v = lambdify(t,im(v2*(exp(lambda2*t)*cos(mu2*t) + 1*I*sin(mu2*t))))  \n",
    "c1,c2,c3 = 1,1,1\n",
    "x = lambda t:c1*x_sup1(t) + c2*u(t) + c3*v(t) "
   ]
  },
  {
   "cell_type": "code",
   "execution_count": null,
   "id": "aafc071a",
   "metadata": {
    "slideshow": {
     "slide_type": "slide"
    }
   },
   "outputs": [],
   "source": []
  }
 ],
 "metadata": {
  "celltoolbar": "Slideshow",
  "kernelspec": {
   "display_name": "Python 3",
   "language": "python",
   "name": "python3"
  },
  "language_info": {
   "codemirror_mode": {
    "name": "ipython",
    "version": 3
   },
   "file_extension": ".py",
   "mimetype": "text/x-python",
   "name": "python",
   "nbconvert_exporter": "python",
   "pygments_lexer": "ipython3",
   "version": "3.8.8"
  },
  "latex_envs": {
   "LaTeX_envs_menu_present": true,
   "autoclose": false,
   "autocomplete": false,
   "bibliofile": "biblio.bib",
   "cite_by": "apalike",
   "current_citInitial": 1,
   "eqLabelWithNumbers": true,
   "eqNumInitial": 1,
   "hotkeys": {
    "equation": "Ctrl-E",
    "itemize": "Ctrl-I"
   },
   "labels_anchors": false,
   "latex_user_defs": false,
   "report_style_numbering": false,
   "user_envs_cfg": false
  },
  "rise": {
   "enable_chalkboard": true,
   "theme": "sky",
   "transition": "sky"
  }
 },
 "nbformat": 4,
 "nbformat_minor": 5
}
