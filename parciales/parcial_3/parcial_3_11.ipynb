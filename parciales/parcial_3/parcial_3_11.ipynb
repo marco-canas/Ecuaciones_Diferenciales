{
 "cells": [
  {
   "cell_type": "markdown",
   "id": "4d1747ef",
   "metadata": {},
   "source": [
    "# Parcial 3_11"
   ]
  },
  {
   "cell_type": "markdown",
   "id": "eebe3bef",
   "metadata": {},
   "source": [
    "## Punto 1\n",
    "\n",
    "1. (15 puntos) Encontrar la solución  \n",
    "\n",
    "$$ x' = \\begin{pmatrix}1&-1&2\\\\-1&1&0\\\\-1&0&1\\end{pmatrix}x $$\n",
    "\n",
    "No puede omitir ningún paso de solución y debe describir verbalmente su procedimiento y justificar los pasos esenciales. \n",
    "\n",
    "2. (10 puntos) Verifique "
   ]
  },
  {
   "cell_type": "code",
   "execution_count": null,
   "id": "64d95b44",
   "metadata": {},
   "outputs": [],
   "source": [
    "import numpy as np \n",
    "A = np.array([[1,-1,2],[-1,1,0],[-1,0,1]])  \n",
    "np.linalg.eig(A)"
   ]
  },
  {
   "cell_type": "code",
   "execution_count": null,
   "id": "aa0ec1ea",
   "metadata": {},
   "outputs": [],
   "source": [
    "from sympy import *\n",
    "A = Matrix(A) \n",
    "A.eigenvects() "
   ]
  },
  {
   "cell_type": "markdown",
   "id": "7502193b",
   "metadata": {},
   "source": [
    "## Punto 2\n",
    "\n",
    "1. (15 puntos) Encontrar la solución  \n",
    "\n",
    "$$ x' = \\begin{pmatrix}0&0&1\\\\0&0&-1\\\\0&1&0\\end{pmatrix}x $$\n",
    "\n",
    "No puede omitir ningún paso de solución y debe describir verbalmente su procedimiento y justificar los pasos esenciales. \n",
    "\n",
    "2. (10 puntos) Verifique "
   ]
  },
  {
   "cell_type": "code",
   "execution_count": null,
   "id": "b4d740ee",
   "metadata": {},
   "outputs": [],
   "source": [
    "import numpy as np \n",
    "A = np.array([[0,0,1],[0,0,-1],[0,1,0]])  \n",
    "np.linalg.eig(A)"
   ]
  },
  {
   "cell_type": "code",
   "execution_count": null,
   "id": "47f7c04b",
   "metadata": {},
   "outputs": [],
   "source": [
    "from sympy import *\n",
    "A = Matrix(A)\n",
    "A.eigenvects() "
   ]
  },
  {
   "cell_type": "markdown",
   "id": "f72ebbbd",
   "metadata": {},
   "source": [
    "## Punto 3\n",
    "\n",
    "1. (15 puntos) Encontrar la solución  \n",
    "\n",
    "$$ x' = \\begin{pmatrix}1&1\\\\-2&-1\\end{pmatrix}x $$\n",
    "\n",
    "No puede omitir ningún paso de solución y debe describir verbalmente su procedimiento y justificar los pasos esenciales. \n",
    "\n",
    "2. (10 puntos) Verifique \n",
    "\n",
    "3. (opcional) Presentar la verificacion en Sympy, o WolframAlpha o symbolab. "
   ]
  },
  {
   "cell_type": "code",
   "execution_count": 4,
   "id": "1f00a7a8",
   "metadata": {},
   "outputs": [
    {
     "data": {
      "text/plain": [
       "(array([-7.01634848e-18+1.j, -7.01634848e-18-1.j]),\n",
       " array([[-0.40824829-0.40824829j, -0.40824829+0.40824829j],\n",
       "        [ 0.81649658+0.j        ,  0.81649658-0.j        ]]))"
      ]
     },
     "execution_count": 4,
     "metadata": {},
     "output_type": "execute_result"
    }
   ],
   "source": [
    "import numpy as np \n",
    "A = np.array([[1,1],[-2,-1]])  \n",
    "np.linalg.eig(A)"
   ]
  },
  {
   "cell_type": "code",
   "execution_count": 5,
   "id": "af8c1d2a",
   "metadata": {},
   "outputs": [
    {
     "data": {
      "text/plain": [
       "[(-I,\n",
       "  1,\n",
       "  [Matrix([\n",
       "   [-1/2 + I/2],\n",
       "   [         1]])]),\n",
       " (I,\n",
       "  1,\n",
       "  [Matrix([\n",
       "   [-1/2 - I/2],\n",
       "   [         1]])])]"
      ]
     },
     "execution_count": 5,
     "metadata": {},
     "output_type": "execute_result"
    }
   ],
   "source": [
    "from sympy import *\n",
    "A = Matrix(A)\n",
    "A.eigenvects() "
   ]
  },
  {
   "cell_type": "markdown",
   "id": "e92aacda",
   "metadata": {},
   "source": [
    "## Video sobre sistemas lineales homogéneos"
   ]
  },
  {
   "cell_type": "markdown",
   "id": "d588fe75",
   "metadata": {},
   "source": [
    "$$ A = \\begin{pmatrix} 1 & -1 \\\\ 1 & -1 \\end{pmatrix}  $$"
   ]
  },
  {
   "cell_type": "markdown",
   "id": "19b4c32b",
   "metadata": {},
   "source": [
    "$$Ax = 0$$"
   ]
  },
  {
   "cell_type": "markdown",
   "id": "954dc43b",
   "metadata": {},
   "source": [
    "$$\\text{Solución} = \\{ (a,a)^{T}, a \\in \\mathbb{R}\\}$$"
   ]
  },
  {
   "cell_type": "code",
   "execution_count": null,
   "id": "1a988c56",
   "metadata": {},
   "outputs": [],
   "source": []
  }
 ],
 "metadata": {
  "kernelspec": {
   "display_name": "Python 3",
   "language": "python",
   "name": "python3"
  },
  "language_info": {
   "codemirror_mode": {
    "name": "ipython",
    "version": 3
   },
   "file_extension": ".py",
   "mimetype": "text/x-python",
   "name": "python",
   "nbconvert_exporter": "python",
   "pygments_lexer": "ipython3",
   "version": "3.8.8"
  },
  "latex_envs": {
   "LaTeX_envs_menu_present": true,
   "autoclose": false,
   "autocomplete": false,
   "bibliofile": "biblio.bib",
   "cite_by": "apalike",
   "current_citInitial": 1,
   "eqLabelWithNumbers": true,
   "eqNumInitial": 1,
   "hotkeys": {
    "equation": "Ctrl-E",
    "itemize": "Ctrl-I"
   },
   "labels_anchors": false,
   "latex_user_defs": false,
   "report_style_numbering": false,
   "user_envs_cfg": false
  }
 },
 "nbformat": 4,
 "nbformat_minor": 5
}
