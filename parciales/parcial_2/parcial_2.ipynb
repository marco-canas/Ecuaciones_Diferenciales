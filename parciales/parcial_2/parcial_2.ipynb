{
 "cells": [
  {
   "cell_type": "markdown",
   "metadata": {},
   "source": [
    "# Parcial 2 EDO "
   ]
  },
  {
   "cell_type": "markdown",
   "metadata": {},
   "source": [
    "## Punto 1\n",
    "Página 143"
   ]
  },
  {
   "cell_type": "markdown",
   "metadata": {},
   "source": [
    "**(10 puntos) Ecuaciones a las que le falta la $y$**\n",
    "\n",
    "En una ecuación de segundo orden de la forma $y'' = f(x,y')$ la sustitución $v = y'$, $v' = y''$, da una ecuación de primer orden de la forma \n",
    "\n",
    "$$ v' = f(x,v). $$\n",
    "\n",
    "Si es posible resolver esta ecuación para $v$, entonces puede obtenerse $y$ al integrar \n",
    "\n",
    "$$\\frac{dy}{dx} = v. $$\n",
    "\n",
    "Observe que al resolver la ecuación de primer orden para $v$ se obtiene una constante arbitraria y que en la integración para $y$ se introduce una segunda constante arbitraria. \n",
    "\n",
    "**(10 puntos)** Aplique esta sustitución para resolver la siguiente ecuación:\n"
   ]
  },
  {
   "cell_type": "markdown",
   "metadata": {},
   "source": [
    "$$ y''y' = 2, \\quad \\quad y(0) = 1, \\quad y'(0) = 2 $$"
   ]
  },
  {
   "cell_type": "markdown",
   "metadata": {},
   "source": [
    "(10 puntos) Verifique por sustitución directa. "
   ]
  },
  {
   "cell_type": "code",
   "execution_count": null,
   "metadata": {},
   "outputs": [],
   "source": []
  },
  {
   "cell_type": "markdown",
   "metadata": {},
   "source": [
    "## Punto 2 "
   ]
  },
  {
   "cell_type": "markdown",
   "metadata": {},
   "source": [
    "**Transformación a una ecuación con coeficientes constantes** "
   ]
  },
  {
   "cell_type": "markdown",
   "metadata": {},
   "source": [
    "La ecuación de Euler \n",
    "\n",
    "$$ x^{2}y'' + \\alpha xy' + \\beta y = 0, \\quad \\quad x > 0 $$\n",
    "\n",
    "se puede reducir a una ecuación con coeficientes constantes mediante un cambio de la variable independiente. \n"
   ]
  },
  {
   "cell_type": "markdown",
   "metadata": {},
   "source": [
    "Sea $x = e^{z}$ 0 $z = \\ln x$ y considere sólo el intervalo $x > 0$. "
   ]
  },
  {
   "cell_type": "markdown",
   "metadata": {},
   "source": [
    "**Sugerencia:**\n",
    "\n",
    "Empiece por mostrar que \n",
    "\n",
    "$$\\frac{dy}{dx} = \\frac{1}{x}\\frac{dy}{dz}, \\quad \\quad \\text{y} \\quad \\quad  \\frac{d^{2}y}{dx^{2}} = \\frac{1}{x^{2}}\\frac{d^{2}y}{dz^{2}} - \\frac{1}{x^{2}}\\frac{dy}{dz}  $$\n"
   ]
  },
  {
   "cell_type": "code",
   "execution_count": null,
   "metadata": {},
   "outputs": [],
   "source": []
  },
  {
   "cell_type": "markdown",
   "metadata": {},
   "source": [
    "## Punto 3 "
   ]
  },
  {
   "cell_type": "markdown",
   "metadata": {},
   "source": [
    "**Ecuaciones que les falta la $y$**\n",
    "En una ecuación diferencial de segundo orden de la forma \n",
    "\n",
    "$$ y'' = f(x,y') $$\n",
    "\n",
    "la sustitución $v = y'$, $v' = y''$, da una ecuación de primer orden de la forma \n",
    "\n",
    "$$ v' = f(x,v). $$\n",
    "\n",
    "Si es posible resolver esta ecuación para $v$, entonces puede obtenerse $y$ al integrar \n",
    "\n",
    "$$\\frac{dy}{dx} = v. $$\n",
    "\n",
    "Observe que al resolver la ecuación de primer orden para $v$ se obtiene una constante arbitraria y que en la integración para $y$ se introduce una segunda constante arbitraria. \n",
    "\n",
    "**(10 puntos)** Aplique esta sustitución para resolver la siguiente ecuación:\n",
    "\n",
    "$$ x^{2}y'' = (y')^{2}, \\quad \\quad x > 0 $$\n",
    "\n",
    "**(10 puntos)** Verifique por sustitución directa y redacte una conclusión que se derive de este proceso de verificación."
   ]
  },
  {
   "cell_type": "code",
   "execution_count": null,
   "metadata": {},
   "outputs": [],
   "source": []
  },
  {
   "cell_type": "markdown",
   "metadata": {},
   "source": [
    "## Punto 4 "
   ]
  },
  {
   "cell_type": "markdown",
   "metadata": {},
   "source": [
    "La solución de una ecuación de segundo orden de la forma \n",
    "\n",
    "$$ y'' = f(x,y,y') $$\n",
    "\n",
    "suele comprender dos constantes arbitrarias. \n",
    "\n",
    "A la inversa, es posible mostrar que una familia dada de funciones que contiene dos constantes arbitrarias es la solución de alguna ecuación diferencial de segundo orden.  \n",
    "\n",
    "**(10 puntos)** Para la siguiente familia de funciones, elimite las constantes $c_{1}$ y $c_{2}$ entre $y$, $y'$ y $y''$, para encontrar la ecuación diferencial que satisface la familia dada de funciones. \n",
    "\n",
    "\n",
    "$$ y = c_{1}x + c_{2}\\sin(x) $$\n",
    "**Ojo** justifique cada paso. La justificación vale la mitad del punto. \n",
    "\n",
    "**(10 puntos)** verifique que las funciones $x$ y $\\sin(x)$ satisfacen la ecuación diferencial que encontró en el item anterior. Redacte una conclusión que se derive de este proceso de verificación.\n",
    "**Ojo** justifique cada paso. La justificación vale la mitad del punto. "
   ]
  },
  {
   "cell_type": "code",
   "execution_count": null,
   "metadata": {},
   "outputs": [],
   "source": []
  },
  {
   "cell_type": "code",
   "execution_count": null,
   "metadata": {},
   "outputs": [],
   "source": []
  },
  {
   "cell_type": "code",
   "execution_count": null,
   "metadata": {},
   "outputs": [],
   "source": []
  }
 ],
 "metadata": {
  "hide_input": false,
  "kernelspec": {
   "display_name": "Python 3",
   "language": "python",
   "name": "python3"
  },
  "language_info": {
   "codemirror_mode": {
    "name": "ipython",
    "version": 3
   },
   "file_extension": ".py",
   "mimetype": "text/x-python",
   "name": "python",
   "nbconvert_exporter": "python",
   "pygments_lexer": "ipython3",
   "version": "3.7.4"
  },
  "nbTranslate": {
   "displayLangs": [
    "*"
   ],
   "hotkey": "alt-t",
   "langInMainMenu": true,
   "sourceLang": "en",
   "targetLang": "fr",
   "useGoogleTranslate": true
  }
 },
 "nbformat": 4,
 "nbformat_minor": 2
}
