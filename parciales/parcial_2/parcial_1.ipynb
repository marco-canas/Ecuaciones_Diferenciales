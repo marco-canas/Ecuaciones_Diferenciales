{
 "cells": [
  {
   "cell_type": "markdown",
   "metadata": {},
   "source": [
    "# Parcial 2 de EDO "
   ]
  },
  {
   "cell_type": "markdown",
   "metadata": {},
   "source": [
    "## Punto 1 "
   ]
  },
  {
   "cell_type": "markdown",
   "metadata": {},
   "source": [
    "(10 puntos) Resolver simultáneamente las ecuaciones \n",
    "\n",
    "\\begin{align*}\n",
    "c_{1}e^{r_{1}x_{0}} + c_{2}e^{r_{2}x_{0}} & = y_{0} \\\\\n",
    "c_{1}r_{1}e^{r_{1}x_{0}} + c_{2}r_{2}e^{r_{2}x_{0}} & = y'_{0}\n",
    "\\end{align*}\n",
    "\n",
    "para $c_{1}$ y $c_{2}$. \n",
    "\n",
    "Ojo, sin dar valores particulares a $x_{0}$ y $y_{0}$. "
   ]
  },
  {
   "cell_type": "markdown",
   "metadata": {},
   "source": [
    "(10 puntos) Verificar su respuesta para $(x_{0},y_{0}) = (0,1)$ y $(x_{0},y'_{0}) = (0,1)$"
   ]
  },
  {
   "cell_type": "code",
   "execution_count": null,
   "metadata": {},
   "outputs": [],
   "source": []
  },
  {
   "cell_type": "markdown",
   "metadata": {},
   "source": [
    "## Punto 2 "
   ]
  },
  {
   "cell_type": "markdown",
   "metadata": {},
   "source": [
    "Si una ecuación diferencial de segundo orden tiene la forma \n",
    "\n",
    "$$ y'' = f(y, y'), $$\n",
    "\n",
    "la variable independiente $x$ no está explícitamente, solo a través de la variable dependiente $y$. \n"
   ]
  },
  {
   "cell_type": "markdown",
   "metadata": {},
   "source": [
    "Si se hace que $v = y'$, entonces se obtiene \n",
    "\n",
    "$$ \\frac{dv}{dx} = f(y,v)  $$\n"
   ]
  },
  {
   "cell_type": "markdown",
   "metadata": {},
   "source": [
    "Como el segundo miembro de esta ecuación depende de $y$ y $v$, en lugar de $x$ y $v$, esta ecuación no es de la forma de las ecuaciones de primer orden analizadas en el capítulo 2. "
   ]
  },
  {
   "cell_type": "markdown",
   "metadata": {},
   "source": [
    "Sin embargo si se piensa en $y$ como variable independiente, entonces por la regla de la cadena\n",
    "\n",
    "$$ \\frac{dv}{dx} = \\left(\\frac{dv}{dy} \\right) \\left( \\frac{dy}{dx} \\right) = v \\frac{dv}{dy} $$\n"
   ]
  },
  {
   "cell_type": "markdown",
   "metadata": {},
   "source": [
    "En el supuesto de que sea posible resolver esta ecuación de primer orden, se obtiene $v$ como función de $y$. "
   ]
  },
  {
   "cell_type": "markdown",
   "metadata": {},
   "source": [
    "Al resolver \n",
    "\n",
    "$$ \\frac{dy}{dx} = v(y) $$\n",
    "\n",
    "resulta una relación entre $y$ y $x$. "
   ]
  },
  {
   "cell_type": "markdown",
   "metadata": {},
   "source": [
    "Una vez más en el resultado final aparecen dos constantes arbitrarias. "
   ]
  },
  {
   "cell_type": "markdown",
   "metadata": {},
   "source": [
    "**(10 puntos)** Para la siguiente ecuación diferencial, aplique este método para resolverla:\n",
    "\n",
    "$$ yy'' + (y')^{2} = 0 $$\n",
    "(Ojo: solo se acepta que para resolver esta ecuación, utilice el método aquí descrito.)"
   ]
  },
  {
   "cell_type": "markdown",
   "metadata": {},
   "source": [
    "**(10 puntos)** Verifique que la solución obtenida es correcta por sustitución directa. "
   ]
  },
  {
   "cell_type": "code",
   "execution_count": null,
   "metadata": {},
   "outputs": [],
   "source": []
  },
  {
   "cell_type": "markdown",
   "metadata": {},
   "source": [
    "## Punto 3 "
   ]
  },
  {
   "cell_type": "markdown",
   "metadata": {},
   "source": [
    "**(10 puntos)** Encuentre $\\alpha$ de modo que la solución del problema con valor inicial \n",
    "$$ y'' -y' -2y = 0, \\quad \\quad y(0) = \\alpha, \\quad y'(0) = 2 $$\n",
    "\n",
    "tienda a cero cuando $x$ tienda a infinito. \n",
    "\n",
    "**Justifique todo el procedimiento, la justificación vale la mitad del punto.**"
   ]
  },
  {
   "cell_type": "markdown",
   "metadata": {},
   "source": [
    "**(10 puntos)** Verifique por sustitución directa redactando al final la conclusión lógica que de este preceso se derive. "
   ]
  },
  {
   "cell_type": "code",
   "execution_count": null,
   "metadata": {},
   "outputs": [],
   "source": []
  },
  {
   "cell_type": "markdown",
   "metadata": {},
   "source": [
    "## Punto 4 "
   ]
  },
  {
   "cell_type": "markdown",
   "metadata": {},
   "source": [
    "**Ecuaciones que les falta la $y$**\n",
    "En una ecuación diferencial de segundo orden de la forma \n",
    "\n",
    "$$ y'' = f(x,y') $$\n",
    "\n",
    "la sustitución $v = y'$, $v' = y''$, da una ecuación de primer orden de la forma \n",
    "\n",
    "$$ v' = f(x,v). $$\n",
    "\n",
    "Si es posible resolver esta ecuación para $v$, entonces puede obtenerse $y$ al integrar \n",
    "\n",
    "$$\\frac{dy}{dx} = v. $$\n",
    "\n",
    "Observe que al resolver la ecuación de primer orden para $v$ se obtiene una constante arbitraria y que en la integración para $y$ se introduce una segunda constante arbitraria. \n",
    "\n",
    "**(10 puntos)** Aplique esta sustitución para resolver la siguiente ecuación:\n",
    "\n",
    "$$ y'' + y' = e^{-x} $$\n",
    "\n",
    "**(10 puntos)** Verifique por sustitución directa y redacte una conclusión que se derive de este proceso de verificación."
   ]
  },
  {
   "cell_type": "code",
   "execution_count": null,
   "metadata": {},
   "outputs": [],
   "source": []
  }
 ],
 "metadata": {
  "hide_input": false,
  "kernelspec": {
   "display_name": "Python 3",
   "language": "python",
   "name": "python3"
  },
  "language_info": {
   "codemirror_mode": {
    "name": "ipython",
    "version": 3
   },
   "file_extension": ".py",
   "mimetype": "text/x-python",
   "name": "python",
   "nbconvert_exporter": "python",
   "pygments_lexer": "ipython3",
   "version": "3.7.4"
  },
  "nbTranslate": {
   "displayLangs": [
    "*"
   ],
   "hotkey": "alt-t",
   "langInMainMenu": true,
   "sourceLang": "en",
   "targetLang": "fr",
   "useGoogleTranslate": true
  }
 },
 "nbformat": 4,
 "nbformat_minor": 2
}
