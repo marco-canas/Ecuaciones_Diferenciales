{
 "cells": [
  {
   "cell_type": "markdown",
   "metadata": {
    "slideshow": {
     "slide_type": "slide"
    }
   },
   "source": [
    "# Parcial 2 de EDO "
   ]
  },
  {
   "cell_type": "markdown",
   "metadata": {
    "slideshow": {
     "slide_type": "slide"
    }
   },
   "source": [
    "## Punto 1 "
   ]
  },
  {
   "cell_type": "markdown",
   "metadata": {
    "slideshow": {
     "slide_type": "slide"
    }
   },
   "source": [
    "(15 puntos) **Ejercicio 37 de la sección 3.1, página 144** \n",
    "La solución de una ecuación de segundo orden de la forma $y'' = f(x,y,y')$ suele comprender dos constantes arbitrarias.  \n",
    "A la inversa, es posible demostrar que una familia dada de funciones que contiene dos constantes arbitrarias es la solución de alguna ecuación diferencial de segundo orden.  \n",
    "Para la siguiente familia de funciones, elimine las constantes $c_{1}$ y $c_{2}$ entre $y$, $y'$ y $y''$, para encontrar la ecuación diferencial que satisface la familia dada de funciones:\n",
    "\n",
    "$$ y = c_{1}x + c_{2}x^{2}  $$"
   ]
  },
  {
   "cell_type": "markdown",
   "metadata": {
    "slideshow": {
     "slide_type": "slide"
    }
   },
   "source": [
    "(10 puntos) Verifique por sustitución directa"
   ]
  },
  {
   "cell_type": "markdown",
   "metadata": {
    "slideshow": {
     "slide_type": "slide"
    }
   },
   "source": [
    "## Punto 2 "
   ]
  },
  {
   "cell_type": "markdown",
   "metadata": {
    "slideshow": {
     "slide_type": "slide"
    }
   },
   "source": [
    "(15 puntos) **Ecuaciones en las que falta la $y$**    \n",
    "Ejercicio 19. Página 143 Sección 3.1 del Boyce DiPrima.\n",
    "\n",
    "En una ecuación de segundo orden de la forma \n",
    "\n",
    "$$ y'' = f(x,y'), $$\n",
    "\n",
    "\n",
    "la sustitución igual a $v = y'$, $v' = y''$ da una ecuación de primer orden de la forma \n",
    "\n",
    "$$ v' = f(x,v). $$\n",
    "\n",
    "Si es posible resolver esta ecuación para $v$, entonces puede obtenerse $y$ al integrar \n",
    "\n",
    "$$ \\frac{dy}{dx} = v. $$\n",
    "\n",
    "Observe que el resolver la ecuación de primer orden para $v$ se obtiene una constante arbitraria y que en la integración para $y$ se introduce una segunda constante arbitraria. \n",
    "\n",
    "Aplique esta sustitución para resolver la ecuación \n",
    "\n",
    "$$ y'' + x(y')^{2} = 0. $$"
   ]
  },
  {
   "cell_type": "markdown",
   "metadata": {
    "slideshow": {
     "slide_type": "slide"
    }
   },
   "source": [
    "(10 puntos) Verifique por sustitución directa"
   ]
  },
  {
   "cell_type": "markdown",
   "metadata": {
    "slideshow": {
     "slide_type": "slide"
    }
   },
   "source": [
    "## Punto 3 "
   ]
  },
  {
   "cell_type": "markdown",
   "metadata": {
    "slideshow": {
     "slide_type": "slide"
    }
   },
   "source": [
    "(15 puntos) **Ecuaciones en las que faltya $x$** (Página 143. Ejercicio 29) "
   ]
  },
  {
   "cell_type": "markdown",
   "metadata": {
    "slideshow": {
     "slide_type": "slide"
    }
   },
   "source": [
    "$$ y'y'' = 2, \\quad \\quad y(0) = 1, \\quad y'(0) = 2. $$"
   ]
  },
  {
   "cell_type": "markdown",
   "metadata": {
    "slideshow": {
     "slide_type": "slide"
    }
   },
   "source": [
    "(10 puntos) Verifique por sustitución directa"
   ]
  },
  {
   "cell_type": "markdown",
   "metadata": {
    "slideshow": {
     "slide_type": "slide"
    }
   },
   "source": [
    "## Punto 4 "
   ]
  },
  {
   "cell_type": "markdown",
   "metadata": {
    "slideshow": {
     "slide_type": "slide"
    }
   },
   "source": [
    "**Ecuaciones en las que falta la $y$**"
   ]
  },
  {
   "cell_type": "markdown",
   "metadata": {
    "slideshow": {
     "slide_type": "slide"
    }
   },
   "source": [
    "(15 puntos) Ejercicio 19 de la página 143 del Boyce DiPrima \n",
    "\n",
    "$$ y'' + x(y')^{2} = 0 $$"
   ]
  },
  {
   "cell_type": "markdown",
   "metadata": {
    "slideshow": {
     "slide_type": "slide"
    }
   },
   "source": [
    "(10 puntos) Verifique por sustitución directa"
   ]
  },
  {
   "cell_type": "code",
   "execution_count": null,
   "metadata": {},
   "outputs": [],
   "source": []
  }
 ],
 "metadata": {
  "celltoolbar": "Slideshow",
  "hide_input": false,
  "kernelspec": {
   "display_name": "Python 3",
   "language": "python",
   "name": "python3"
  },
  "language_info": {
   "codemirror_mode": {
    "name": "ipython",
    "version": 3
   },
   "file_extension": ".py",
   "mimetype": "text/x-python",
   "name": "python",
   "nbconvert_exporter": "python",
   "pygments_lexer": "ipython3",
   "version": "3.7.4"
  },
  "nbTranslate": {
   "displayLangs": [
    "*"
   ],
   "hotkey": "alt-t",
   "langInMainMenu": true,
   "sourceLang": "en",
   "targetLang": "es",
   "useGoogleTranslate": true
  },
  "rise": {
   "enable_chalkboard": true,
   "theme": "sky",
   "transition": "zoom"
  }
 },
 "nbformat": 4,
 "nbformat_minor": 2
}
