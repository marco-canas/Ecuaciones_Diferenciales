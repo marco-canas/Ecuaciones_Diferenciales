{
 "cells": [
  {
   "cell_type": "markdown",
   "metadata": {
    "slideshow": {
     "slide_type": "slide"
    }
   },
   "source": [
    "# Parcial 2 EDO "
   ]
  },
  {
   "cell_type": "markdown",
   "metadata": {
    "slideshow": {
     "slide_type": "slide"
    }
   },
   "source": [
    "## Punto 1 "
   ]
  },
  {
   "cell_type": "markdown",
   "metadata": {
    "slideshow": {
     "slide_type": "slide"
    }
   },
   "source": [
    "(10 puntos) Encuentre $\\alpha$ de modo que la solución del problema con valor inicial \n",
    "\n",
    "$$ y'' -y' - 2y = 0, \\quad \\quad y(0) = \\alpha, \\quad y'(0) = 2 $$\n",
    "\n",
    "tienda a cero cuando $x$ tiende a infinito.   \n",
    "\n",
    "(10 puntos) Verifique que su solución encontrada satisface el PVI. "
   ]
  },
  {
   "cell_type": "code",
   "execution_count": null,
   "metadata": {
    "slideshow": {
     "slide_type": "skip"
    }
   },
   "outputs": [],
   "source": []
  },
  {
   "cell_type": "markdown",
   "metadata": {
    "slideshow": {
     "slide_type": "slide"
    }
   },
   "source": [
    "## Punto 2"
   ]
  },
  {
   "cell_type": "markdown",
   "metadata": {
    "slideshow": {
     "slide_type": "slide"
    }
   },
   "source": [
    "**Ejercicio 38 de la sección 3.1, página 144**  \n",
    "\n",
    "**(10 puntos)** La solución de una ecuación de segundo orden de la forma $y'' = f(x,y,y')$ suele comprender dos constantes arbitrarias.  \n",
    "A la inversa, es posible demostrar que una familia dada de funciones que contiene dos constantes arbitrarias es la solución de alguna ecuación diferencial de segundo orden.  \n",
    "Para la siguiente familia de funciones, elimine las constantes $c_{1}$ y $c_{2}$ entre $y$, $y'$ y $y''$, para encontrar la ecuación diferencial que satisface la familia dada de funciones:"
   ]
  },
  {
   "cell_type": "markdown",
   "metadata": {
    "slideshow": {
     "slide_type": "slide"
    }
   },
   "source": [
    "$$ y = c_{1}\\cosh(x) + c_{2}\\sinh(x) $$"
   ]
  },
  {
   "cell_type": "markdown",
   "metadata": {
    "slideshow": {
     "slide_type": "slide"
    }
   },
   "source": [
    "**Sugerencia:**\n",
    "\n",
    "Utilice que \n",
    "\n",
    "$$\\frac{d}{dx}\\cosh(x) = \\sinh(x), \\quad \\text{y} \\quad \\frac{d}{dx}\\sinh(x) = \\cosh(x) $$"
   ]
  },
  {
   "cell_type": "markdown",
   "metadata": {
    "slideshow": {
     "slide_type": "slide"
    }
   },
   "source": [
    "(10 puntos) Verifique su respuesta. "
   ]
  },
  {
   "cell_type": "code",
   "execution_count": null,
   "metadata": {
    "slideshow": {
     "slide_type": "skip"
    }
   },
   "outputs": [],
   "source": []
  },
  {
   "cell_type": "markdown",
   "metadata": {
    "slideshow": {
     "slide_type": "slide"
    }
   },
   "source": [
    "## Punto 3 "
   ]
  },
  {
   "cell_type": "markdown",
   "metadata": {
    "slideshow": {
     "slide_type": "slide"
    }
   },
   "source": [
    "**Ecuaciones en las que falta la $y$**  \n",
    "Ejercicio 22. Página 143 "
   ]
  },
  {
   "cell_type": "markdown",
   "metadata": {
    "slideshow": {
     "slide_type": "slide"
    }
   },
   "source": [
    "En una ecuación de segundo orden de la forma \n",
    "\n",
    "$$ y'' = f(x,y'), $$\n",
    "\n",
    "\n",
    "la sustitución igual a $v = y'$, $v' = y''$ da una ecuación de primer orden de la forma \n",
    "\n",
    "$$ v' = f(x,v). $$\n",
    "\n",
    "Si es posible resolver esta ecuación para $v$, entonces puede obtenerse $y$ al integrar \n",
    "\n",
    "$$ \\frac{dy}{dx} = v. $$\n",
    "\n",
    "Observe que el resolver la ecuación de primer orden para $v$ se obtiene una constante arbitraria y que en la integración para $y$ se introduce una segunda constante arbitraria. \n",
    "\n"
   ]
  },
  {
   "cell_type": "markdown",
   "metadata": {
    "slideshow": {
     "slide_type": "slide"
    }
   },
   "source": [
    "Aplique esta sustitución para resolver la ecuación \n",
    "\n",
    "$$ x^{2}y'' = (y')^{2}, \\quad \\quad x > 0.  $$\n"
   ]
  },
  {
   "cell_type": "code",
   "execution_count": null,
   "metadata": {
    "slideshow": {
     "slide_type": "skip"
    }
   },
   "outputs": [],
   "source": []
  },
  {
   "cell_type": "markdown",
   "metadata": {
    "slideshow": {
     "slide_type": "slide"
    }
   },
   "source": [
    "## Punto 4 \n",
    "Página 143 sección 3.1 del Boyce DiPrima"
   ]
  },
  {
   "cell_type": "markdown",
   "metadata": {
    "slideshow": {
     "slide_type": "slide"
    }
   },
   "source": [
    "**Ecuaciones en las que falta $x$** "
   ]
  },
  {
   "cell_type": "markdown",
   "metadata": {
    "slideshow": {
     "slide_type": "slide"
    }
   },
   "source": [
    "Si una ecuación diferencial de segundo orden tiene la forma \n",
    "\n",
    "$$ y'' = f(y,y'), $$\n",
    "\n",
    "la variable independiente $x$ no aparece explícitamente, solo a través de la variable dependiente $y$. \n"
   ]
  },
  {
   "cell_type": "markdown",
   "metadata": {
    "slideshow": {
     "slide_type": "slide"
    }
   },
   "source": [
    "Si se hace $v = y'$, entonces se obtiene  \n",
    "\n",
    "$$ \\frac{dv}{dx} = f(y,v). $$\n",
    "\n",
    "Como el segundo miembro de esta ecuación depende de $y$ y $v$, en lugar de $x$ y $v$, esta ecuación no es de la forma de las ecuaciones de primer orden analizadas en el capítulo 2.  \n",
    "Sin embargo, si se piensa en $y$ como la variable independiente, entonces por la regla de la cadena, \n",
    "\n",
    "$$ \\frac{dv}{dx} = \\frac{dv}{dy} \\cdot \\frac{dy}{dx} = v \\frac{dv}{dy}. $$\n",
    "\n",
    "De donde la ecuación diferencial original puede escribirse como \n",
    "\n",
    "$$ v\\frac{dv}{dy} = f(y,v) $$\n",
    "\n",
    "En el supuesto de que sea posible resolver esta ecuación de primer orden, se obtiene $v$ como una función de $y$. \n",
    "\n",
    "Al resolver \n",
    "\n",
    "$$ \\frac{dy}{dx} = v(y), $$\n",
    "\n",
    "resulta una relación entre $y$ y $x$. \n",
    "\n",
    "Una vez más, en el resultado final aparecen dos constantes arbitrarias. \n",
    "\n",
    "Aplique este método para resolver la ecuación diferencial siguiente: (ejercicio 28 de la página 143)\n",
    "\n",
    "$$ y'' + (y')^{2} = 2e^{-y} $$\n",
    "\n"
   ]
  },
  {
   "cell_type": "markdown",
   "metadata": {
    "slideshow": {
     "slide_type": "slide"
    }
   },
   "source": [
    "## Solución:"
   ]
  },
  {
   "cell_type": "code",
   "execution_count": null,
   "metadata": {
    "slideshow": {
     "slide_type": "slide"
    }
   },
   "outputs": [],
   "source": []
  }
 ],
 "metadata": {
  "celltoolbar": "Slideshow",
  "hide_input": false,
  "kernelspec": {
   "display_name": "Python 3",
   "language": "python",
   "name": "python3"
  },
  "language_info": {
   "codemirror_mode": {
    "name": "ipython",
    "version": 3
   },
   "file_extension": ".py",
   "mimetype": "text/x-python",
   "name": "python",
   "nbconvert_exporter": "python",
   "pygments_lexer": "ipython3",
   "version": "3.7.4"
  },
  "nbTranslate": {
   "displayLangs": [
    "*"
   ],
   "hotkey": "alt-t",
   "langInMainMenu": true,
   "sourceLang": "en",
   "targetLang": "es",
   "useGoogleTranslate": true
  },
  "rise": {
   "enable_chalkboard": true,
   "theme": "sky",
   "transition": "zoom"
  }
 },
 "nbformat": 4,
 "nbformat_minor": 2
}
