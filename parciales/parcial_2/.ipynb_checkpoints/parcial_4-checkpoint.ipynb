{
 "cells": [
  {
   "cell_type": "markdown",
   "metadata": {},
   "source": [
    "# Parcial 2 EDO "
   ]
  },
  {
   "cell_type": "markdown",
   "metadata": {},
   "source": [
    "## Punto 1 "
   ]
  },
  {
   "cell_type": "markdown",
   "metadata": {},
   "source": [
    "**Ecuaciones de Euler:**  \n",
    "\n",
    "En una ecuación de la forma \n",
    "\n",
    "$$ x^{2}y'' + \\alpha xy' + \\beta y = 0, \\quad \\quad x > 0, $$\n",
    "\n",
    "en donde $\\alpha$ y $\\beta$ son constantes reales, se conoce como ecuación de Euler. "
   ]
  },
  {
   "cell_type": "markdown",
   "metadata": {},
   "source": [
    "(10 puntos) Muestre que el cambio de variable $z = \\ln(x)$ transforma una ecuación de Euler en una ecuación de coeficientes constantes.   "
   ]
  },
  {
   "cell_type": "markdown",
   "metadata": {},
   "source": [
    "**Sugerencia:**\n",
    "* Primero muestre que \n",
    "\n",
    "$$\\frac{dy}{dx} = \\frac{1}{x}\\frac{dy}{dz}, \\quad \\quad \\text{y} \\quad \\quad  \\frac{d^{2}y}{dx^{2}} = \\frac{1}{x^{2}}\\frac{d^{2}y}{dz^{2}} - \\frac{1}{x^{2}}\\frac{dy}{dz}  $$\n",
    "\n",
    "* no olvide que $\\frac{dy}{dz}$ es una función de $z$. "
   ]
  },
  {
   "cell_type": "markdown",
   "metadata": {},
   "source": [
    "(10 puntos) Verifique el hecho anterior para valores particulares de $\\alpha$ y $\\beta$. "
   ]
  },
  {
   "cell_type": "markdown",
   "metadata": {},
   "source": [
    "## Punto 2 \n",
    "Ejercicio 15, página 152"
   ]
  },
  {
   "cell_type": "markdown",
   "metadata": {},
   "source": [
    "Muestre **con un ejemplo** que  si $y = \\phi(x)$ es una solución de la ecuación diferencial \n",
    "\n",
    "$$ y'' + p(x)y' + q(x)y = g(x), $$\n",
    "\n",
    "en donde $g(x)$ no siempre es cero, entonces $y = c\\phi(x)$, donde $c$ es cualquier constante diferente de $1$, no es solución. **Justifique este hecho**.  \n"
   ]
  },
  {
   "cell_type": "markdown",
   "metadata": {},
   "source": [
    "## Punto 3 "
   ]
  },
  {
   "cell_type": "markdown",
   "metadata": {},
   "source": [
    "(10 puntos) Conprueba que $y_{1}(x) = x^{2}$ y $y_{2}(x) = x^{-1}$ son dos soluciones de la ecuación diferencial \n",
    "\n",
    "$$ x^{2}y'' -2y = 0, \\quad \\quad \\text{para } x > 0 $$"
   ]
  },
  {
   "cell_type": "markdown",
   "metadata": {},
   "source": [
    "(10 puntos) A continuación muestre que $c_{1}x^{2} + c_{2}x^{-1}$ también es solución de esta ecuación para cualquier $c_{1}$ y $c_{2}$. "
   ]
  },
  {
   "cell_type": "markdown",
   "metadata": {},
   "source": [
    "## Punto 4 \n",
    "Página 166 "
   ]
  },
  {
   "cell_type": "markdown",
   "metadata": {},
   "source": [
    "En este problema se bosqueja una deducción diferente de la fórmula de Euler. "
   ]
  },
  {
   "cell_type": "markdown",
   "metadata": {},
   "source": [
    "a. Muestre que $y_{1}(x) = \\cos(x)$ y $y_{2} = \\sin(x)$ son una conjunto fundamental de soluciones \n",
    "   de $y'' + y = 0$; es decir, muestre que son soluciones y que su wronskiano no es cero. "
   ]
  },
  {
   "cell_type": "markdown",
   "metadata": {},
   "source": [
    "b. Muestre (formalmente) que $y = e^{ix}$ también es solución de $y'' + y = 0$. \n",
    "Por consiguiente \n",
    "\n",
    "$$ e^{ix} = c_{1}\\cos(x) + c_{2}\\sin(x) $$\n",
    "\n",
    "para algunas constantes $c_{1}$ y $c_{2}$ (**Justifique esta afirmación**).  "
   ]
  },
  {
   "cell_type": "markdown",
   "metadata": {},
   "source": [
    "c. Haga $x = 0$ para mostrar que $c_{1} = 1$. "
   ]
  },
  {
   "cell_type": "markdown",
   "metadata": {},
   "source": [
    "d. Si se supone que \n",
    "\n",
    "$$ \\frac{d}{dx}e^{rx} = re^{rx} $$\n",
    "\n",
    "es una afirmación verdadera para cualquier $r$ complejo, derive \n",
    "\n",
    "$$ e^{ix} = c_{1}\\cos(x) + c_{2}\\sin(x) $$\n",
    "\n",
    "y luego haga $x = 0$ para concluir que $c_{2}  = i$. \n"
   ]
  },
  {
   "cell_type": "markdown",
   "metadata": {},
   "source": [
    "Use los valores de $c_{1}$ y $c_{2}$ en \n",
    "\n",
    "$$ e^{ix} = c_{1}\\cos(x) + c_{2}\\sin(x) $$\n",
    "\n",
    " para llegar a la fórmula de Euler. "
   ]
  }
 ],
 "metadata": {
  "hide_input": false,
  "kernelspec": {
   "display_name": "Python 3",
   "language": "python",
   "name": "python3"
  },
  "language_info": {
   "codemirror_mode": {
    "name": "ipython",
    "version": 3
   },
   "file_extension": ".py",
   "mimetype": "text/x-python",
   "name": "python",
   "nbconvert_exporter": "python",
   "pygments_lexer": "ipython3",
   "version": "3.8.8"
  },
  "latex_envs": {
   "LaTeX_envs_menu_present": true,
   "autoclose": false,
   "autocomplete": false,
   "bibliofile": "biblio.bib",
   "cite_by": "apalike",
   "current_citInitial": 1,
   "eqLabelWithNumbers": true,
   "eqNumInitial": 1,
   "hotkeys": {
    "equation": "Ctrl-E",
    "itemize": "Ctrl-I"
   },
   "labels_anchors": false,
   "latex_user_defs": false,
   "report_style_numbering": false,
   "user_envs_cfg": false
  },
  "nbTranslate": {
   "displayLangs": [
    "*"
   ],
   "hotkey": "alt-t",
   "langInMainMenu": true,
   "sourceLang": "en",
   "targetLang": "fr",
   "useGoogleTranslate": true
  }
 },
 "nbformat": 4,
 "nbformat_minor": 2
}
