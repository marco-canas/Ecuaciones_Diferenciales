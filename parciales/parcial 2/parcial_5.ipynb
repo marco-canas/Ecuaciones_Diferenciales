{
 "cells": [
  {
   "cell_type": "markdown",
   "metadata": {
    "slideshow": {
     "slide_type": "slide"
    }
   },
   "source": [
    "# Parcial 2 EDO "
   ]
  },
  {
   "cell_type": "markdown",
   "metadata": {
    "slideshow": {
     "slide_type": "slide"
    }
   },
   "source": [
    "## Punto 1 "
   ]
  },
  {
   "cell_type": "markdown",
   "metadata": {
    "slideshow": {
     "slide_type": "slide"
    }
   },
   "source": [
    "Encuentre $\\alpha$ de modo que la solución del problema con valor inicial \n",
    "\n",
    "$$ y'' -y' - 2y = 0, \\quad \\quad y(0) = \\alpha, \\quad y'(0) = 2 $$\n",
    "\n",
    "tienda a cero cuando $x$ tiende a infinito. \n"
   ]
  },
  {
   "cell_type": "code",
   "execution_count": null,
   "metadata": {
    "slideshow": {
     "slide_type": "skip"
    }
   },
   "outputs": [],
   "source": []
  },
  {
   "cell_type": "markdown",
   "metadata": {
    "slideshow": {
     "slide_type": "slide"
    }
   },
   "source": [
    "## Solución con sympy "
   ]
  },
  {
   "cell_type": "code",
   "execution_count": null,
   "metadata": {
    "slideshow": {
     "slide_type": "slide"
    }
   },
   "outputs": [],
   "source": [
    "from sympy import * \n",
    "x,y=symbols('x y') "
   ]
  },
  {
   "cell_type": "code",
   "execution_count": null,
   "metadata": {},
   "outputs": [],
   "source": []
  },
  {
   "cell_type": "markdown",
   "metadata": {
    "slideshow": {
     "slide_type": "slide"
    }
   },
   "source": [
    "## Punto 2"
   ]
  },
  {
   "cell_type": "markdown",
   "metadata": {
    "slideshow": {
     "slide_type": "slide"
    }
   },
   "source": [
    "**Ejercicio 38 de la sección 3.1, página 144**  \n",
    "\n",
    "**(10 puntos)** La solución de una ecuación de segundo orden de la forma $y'' = f(x,y,y')$ suele comprender dos constantes arbitrarias.  \n",
    "A la inversa, es posible demostrar que una familia dada de funciones que contiene dos constantes arbitrarias es la solución de alguna ecuación diferencial de segundo orden.  \n",
    "Para la siguiente familia de funciones, elimine las constantes $c_{1}$ y $c_{2}$ entre $y$, $y'$ y $y''$, para encontrar la ecuación diferencial que satisface la familia dada de funciones:"
   ]
  },
  {
   "cell_type": "markdown",
   "metadata": {
    "slideshow": {
     "slide_type": "slide"
    }
   },
   "source": [
    "$$ y = c_{1}\\cosh(x) + c_{2}\\sinh(x) $$"
   ]
  },
  {
   "cell_type": "markdown",
   "metadata": {
    "slideshow": {
     "slide_type": "slide"
    }
   },
   "source": [
    "**Sugerencia:**\n",
    "\n",
    "Utilice que \n",
    "\n",
    "$$\\frac{d}{dx}\\cosh(x) = \\sinh(x), \\quad \\text{y} \\quad \\frac{d}{dx}\\sinh(x) = \\cosh(x) $$"
   ]
  },
  {
   "cell_type": "markdown",
   "metadata": {
    "slideshow": {
     "slide_type": "slide"
    }
   },
   "source": [
    "(10 puntos) Verifique su respuesta. "
   ]
  },
  {
   "cell_type": "markdown",
   "metadata": {
    "slideshow": {
     "slide_type": "slide"
    }
   },
   "source": [
    "## Solución: "
   ]
  },
  {
   "cell_type": "markdown",
   "metadata": {
    "slideshow": {
     "slide_type": "slide"
    }
   },
   "source": [
    "$$ y' = c_{1}\\sinh(x) + c_{2}\\cosh(x) $$"
   ]
  },
  {
   "cell_type": "markdown",
   "metadata": {
    "slideshow": {
     "slide_type": "slide"
    }
   },
   "source": [
    "$$ y'' = c_{1}\\cosh(x) + c_{2}\\sinh(x) = y $$"
   ]
  },
  {
   "cell_type": "markdown",
   "metadata": {
    "slideshow": {
     "slide_type": "slide"
    }
   },
   "source": [
    "De donde $y'' - y = 0$"
   ]
  },
  {
   "cell_type": "code",
   "execution_count": null,
   "metadata": {
    "slideshow": {
     "slide_type": "skip"
    }
   },
   "outputs": [],
   "source": []
  },
  {
   "cell_type": "markdown",
   "metadata": {
    "slideshow": {
     "slide_type": "slide"
    }
   },
   "source": [
    "## Punto 3 "
   ]
  },
  {
   "cell_type": "markdown",
   "metadata": {
    "slideshow": {
     "slide_type": "slide"
    }
   },
   "source": [
    "**Ecuaciones en las que falta la $y$**  \n",
    "Ejercicio 22. Página 143 "
   ]
  },
  {
   "cell_type": "markdown",
   "metadata": {
    "slideshow": {
     "slide_type": "slide"
    }
   },
   "source": [
    "En una ecuación de segundo orden de la forma \n",
    "\n",
    "$$ y'' = f(x,y'), $$\n",
    "\n",
    "\n",
    "la sustitución igual a $v = y'$, $v' = y''$ da una ecuación de primer orden de la forma \n",
    "\n",
    "$$ v' = f(x,v). $$\n",
    "\n",
    "Si es posible resolver esta ecuación para $v$, entonces puede obtenerse $y$ al integrar \n",
    "\n",
    "$$ \\frac{dy}{dx} = v. $$\n",
    "\n",
    "Observe que el resolver la ecuación de primer orden para $v$ se obtiene una constante arbitraria y que en la integración para $y$ se introduce una segunda constante arbitraria. \n",
    "\n"
   ]
  },
  {
   "cell_type": "markdown",
   "metadata": {
    "slideshow": {
     "slide_type": "slide"
    }
   },
   "source": [
    "Aplique esta sustitución para resolver la ecuación \n",
    "\n",
    "$$ x^{2}y'' = (y')^{2}, \\quad \\quad x > 0.  $$\n"
   ]
  },
  {
   "cell_type": "code",
   "execution_count": null,
   "metadata": {
    "slideshow": {
     "slide_type": "skip"
    }
   },
   "outputs": [],
   "source": []
  },
  {
   "cell_type": "markdown",
   "metadata": {
    "slideshow": {
     "slide_type": "slide"
    }
   },
   "source": [
    "## Solución: "
   ]
  },
  {
   "cell_type": "markdown",
   "metadata": {
    "slideshow": {
     "slide_type": "slide"
    }
   },
   "source": [
    "Sustituyendo el cambio de variable $v = y'$ , $v' = y''$ obtenemos:\n",
    "\n",
    "$$ x^{2}v' = v^{2}, \\quad \\quad x > 0 $$\n"
   ]
  },
  {
   "cell_type": "markdown",
   "metadata": {
    "slideshow": {
     "slide_type": "slide"
    }
   },
   "source": [
    "Mostremos que esta ecuación obtenida es separable\n",
    "\n",
    "$$ x^{2} \\cdot \\frac{dv}{dx} = v^{2}, \\quad \\quad x > 0  $$\n"
   ]
  },
  {
   "cell_type": "markdown",
   "metadata": {
    "slideshow": {
     "slide_type": "slide"
    }
   },
   "source": [
    "$$ \\frac{1}{v^{2}}dv = \\frac{1}{x^{2}} dx, \\quad \\quad x > 0  $$"
   ]
  },
  {
   "cell_type": "markdown",
   "metadata": {
    "slideshow": {
     "slide_type": "slide"
    }
   },
   "source": [
    "integremos cada lado:\n",
    "\n",
    "$$ \\int \\frac{1}{v^{2}}dv = \\int \\frac{1}{x^{2}} dx, \\quad \\quad x > 0  $$\n"
   ]
  },
  {
   "cell_type": "markdown",
   "metadata": {
    "slideshow": {
     "slide_type": "slide"
    }
   },
   "source": [
    "$$ -\\frac{1}{v} = -\\frac{1}{x} + c_{1} $$"
   ]
  },
  {
   "cell_type": "markdown",
   "metadata": {
    "slideshow": {
     "slide_type": "slide"
    }
   },
   "source": [
    "Sumemos las fracciones del lado derecho:\n",
    "\n",
    "$$ -\\frac{1}{v} = \\frac{-1 + c_{1}x}{x} $$\n"
   ]
  },
  {
   "cell_type": "markdown",
   "metadata": {
    "slideshow": {
     "slide_type": "slide"
    }
   },
   "source": [
    "$$ \\frac{1}{v} = \\frac{1 - c_{1}x}{x} $$"
   ]
  },
  {
   "cell_type": "markdown",
   "metadata": {
    "slideshow": {
     "slide_type": "slide"
    }
   },
   "source": [
    "elevemos a la $-1$ a ambos lados para obtener:\n",
    "\n",
    "$$ v = \\frac{x}{1 - c_{1}x}  $$"
   ]
  },
  {
   "cell_type": "markdown",
   "metadata": {
    "slideshow": {
     "slide_type": "slide"
    }
   },
   "source": [
    "como $v = y' = \\frac{dy}{dx}$, entonces \n",
    "\n",
    "$$ \\frac{dy}{dx} = \\frac{x}{1 - c_{1}x} $$"
   ]
  },
  {
   "cell_type": "markdown",
   "metadata": {
    "slideshow": {
     "slide_type": "slide"
    }
   },
   "source": [
    "$$ dy = \\frac{x}{1-c_{1}x} dx $$"
   ]
  },
  {
   "cell_type": "markdown",
   "metadata": {
    "slideshow": {
     "slide_type": "slide"
    }
   },
   "source": [
    "$$ \\int dy = \\int \\frac{x}{1-c_{1}x} dx $$"
   ]
  },
  {
   "cell_type": "markdown",
   "metadata": {
    "slideshow": {
     "slide_type": "slide"
    }
   },
   "source": [
    "$$ y = \\frac{1}{-c_{1}} \\int \\frac{-c_{1}x}{1 - c_{1}x} dx $$"
   ]
  },
  {
   "cell_type": "markdown",
   "metadata": {
    "slideshow": {
     "slide_type": "slide"
    }
   },
   "source": [
    "$$ y = -\\frac{1}{c_{1}} \\int \\frac{1-c_{1}x - 1}{1 - c_{1}x} dx $$"
   ]
  },
  {
   "cell_type": "markdown",
   "metadata": {
    "slideshow": {
     "slide_type": "slide"
    }
   },
   "source": [
    "$$ y = -\\frac{1}{c_{1}} \\int \\left( \\frac{1-c_{1}x}{1 - c_{1}x} - \\frac{1}{1-c_{1}x} \\right) dx $$"
   ]
  },
  {
   "cell_type": "markdown",
   "metadata": {
    "slideshow": {
     "slide_type": "slide"
    }
   },
   "source": [
    "$$ y = -\\frac{1}{c_{1}} \\int \\left( 1 - \\frac{1}{1-c_{1}x} \\right) dx $$"
   ]
  },
  {
   "cell_type": "markdown",
   "metadata": {
    "slideshow": {
     "slide_type": "slide"
    }
   },
   "source": [
    "$$ y = -\\frac{1}{c_{1}} \\left[ x - \\int \\frac{1}{1-c_{1}x}dx \\right] + c_{2} $$"
   ]
  },
  {
   "cell_type": "markdown",
   "metadata": {
    "slideshow": {
     "slide_type": "slide"
    }
   },
   "source": [
    "$$ y = -\\frac{1}{c_{1}} \\left[ x + \\frac{1}{c_{1}}\\int \\frac{-c_{1}}{1-c_{1}x}dx \\right] + c_{2} $$"
   ]
  },
  {
   "cell_type": "markdown",
   "metadata": {
    "slideshow": {
     "slide_type": "slide"
    }
   },
   "source": [
    "$$ y = -\\frac{1}{c_{1}} \\left[ x + \\frac{1}{c_{1}}\\ln|1-c_{1}x| \\right] + c_{2} $$"
   ]
  },
  {
   "cell_type": "markdown",
   "metadata": {
    "slideshow": {
     "slide_type": "slide"
    }
   },
   "source": [
    "$$ y = c_{2} - \\frac{x}{c_{1}} - \\frac{\\ln|1-c_{1}x|}{c_{1}^{2}} $$"
   ]
  },
  {
   "cell_type": "markdown",
   "metadata": {
    "slideshow": {
     "slide_type": "slide"
    }
   },
   "source": [
    "$$ y = c_{2} - \\frac{x}{c_{1}} - \\frac{\\ln|c_{1}x - 1|}{c_{1}^{2}} $$"
   ]
  },
  {
   "cell_type": "code",
   "execution_count": null,
   "metadata": {
    "slideshow": {
     "slide_type": "slide"
    }
   },
   "outputs": [],
   "source": [
    "from sympy import * \n",
    "x,y = symbols('x y')\n",
    "y=Function('y')(x)\n",
    "ED=x**2*diff(y,x,2)-diff(y,x)**2 \n",
    "dsolve(ED,y) "
   ]
  },
  {
   "cell_type": "markdown",
   "metadata": {
    "slideshow": {
     "slide_type": "slide"
    }
   },
   "source": [
    "**Conclusión de la solución dada por Sympy**"
   ]
  },
  {
   "cell_type": "markdown",
   "metadata": {
    "slideshow": {
     "slide_type": "slide"
    }
   },
   "source": [
    "## Verificación con wolfram y symbolab "
   ]
  },
  {
   "cell_type": "markdown",
   "metadata": {
    "slideshow": {
     "slide_type": "slide"
    }
   },
   "source": [
    "[symbolab](https://es.symbolab.com/solver/step-by-step/x%5E%7B2%7Dy''%20%3D%20%5Cleft(y'%5Cright)%5E%7B2%7D)"
   ]
  },
  {
   "cell_type": "markdown",
   "metadata": {
    "slideshow": {
     "slide_type": "slide"
    }
   },
   "source": [
    "[solución en wolfram](https://www.wolframalpha.com/input/?i=x%5E%7B2%7Dy%27%27+%3D+%28y%27%29%5E%7B2%7D)"
   ]
  },
  {
   "cell_type": "code",
   "execution_count": null,
   "metadata": {
    "slideshow": {
     "slide_type": "skip"
    }
   },
   "outputs": [],
   "source": []
  },
  {
   "cell_type": "markdown",
   "metadata": {
    "slideshow": {
     "slide_type": "slide"
    }
   },
   "source": [
    "## Trazado de algunas curvas integrales "
   ]
  },
  {
   "cell_type": "code",
   "execution_count": null,
   "metadata": {
    "scrolled": true,
    "slideshow": {
     "slide_type": "slide"
    }
   },
   "outputs": [],
   "source": [
    "import numpy as np \n",
    "import matplotlib.pyplot as plt \n",
    "import seaborn as sns \n",
    "c1,c2=3,2\n",
    "x=np.linspace(0.1,10,300) \n",
    "y=c2 - x/c1 - np.log(c1*x - 1)/c1**2   \n",
    "sns.lineplot(x,y) \n",
    "plt.grid() \n",
    "plt.xlabel(r'$x$')\n",
    "plt.ylabel(r'$y$')\n",
    "plt.savefig('le_falta_la_y.jpg')\n",
    "plt.show() "
   ]
  },
  {
   "cell_type": "code",
   "execution_count": null,
   "metadata": {
    "slideshow": {
     "slide_type": "skip"
    }
   },
   "outputs": [],
   "source": []
  },
  {
   "cell_type": "markdown",
   "metadata": {
    "slideshow": {
     "slide_type": "slide"
    }
   },
   "source": [
    "## Punto 4 \n",
    "Página 143 sección 3.1 del Boyce DiPrima"
   ]
  },
  {
   "cell_type": "markdown",
   "metadata": {
    "slideshow": {
     "slide_type": "slide"
    }
   },
   "source": [
    "**Ecuaciones en las que falta $x$** "
   ]
  },
  {
   "cell_type": "markdown",
   "metadata": {
    "slideshow": {
     "slide_type": "slide"
    }
   },
   "source": [
    "Si una ecuación diferencial de segundo orden tiene la forma \n",
    "\n",
    "$$ y'' = f(y,y'), $$\n",
    "\n",
    "la variable independiente $x$ no aparece explícitamente, solo a través de la variable dependiente $y$. \n"
   ]
  },
  {
   "cell_type": "markdown",
   "metadata": {
    "slideshow": {
     "slide_type": "slide"
    }
   },
   "source": [
    "Si se hace $v = y'$, entonces se obtiene  \n",
    "\n",
    "$$ \\frac{dv}{dx} = f(y,v). $$\n",
    "\n",
    "Como el segundo miembro de esta ecuación depende de $y$ y $v$, en lugar de $x$ y $v$, esta ecuación no es de la forma de las ecuaciones de primer orden analizadas en el capítulo 2.  \n",
    "Sin embargo, si se piensa en $y$ como la variable independiente, entonces por la regla de la cadena, \n",
    "\n",
    "$$ \\frac{dv}{dx} = \\frac{dv}{dy} \\cdot \\frac{dy}{dx} = v \\frac{dv}{dy}. $$\n",
    "\n",
    "De donde la ecuación diferencial original puede escribirse como \n",
    "\n",
    "$$ v\\frac{dv}{dy} = f(y,v) $$\n",
    "\n",
    "En el supuesto de que sea posible resolver esta ecuación de primer orden, se obtiene $v$ como una función de $y$. \n",
    "\n",
    "Al resolver \n",
    "\n",
    "$$ \\frac{dy}{dx} = v(y), $$\n",
    "\n",
    "resulta una relación entre $y$ y $x$. \n",
    "\n",
    "Una vez más, en el resultado final aparecen dos constantes arbitrarias. \n",
    "\n",
    "Aplique este método para resolver la ecuación diferencial siguiente: (ejercicio 28 de la página 143)\n",
    "\n",
    "$$ y'' + (y')^{2} = 2e^{-y} $$\n",
    "\n"
   ]
  },
  {
   "cell_type": "markdown",
   "metadata": {
    "slideshow": {
     "slide_type": "slide"
    }
   },
   "source": [
    "## Solución:"
   ]
  },
  {
   "cell_type": "code",
   "execution_count": null,
   "metadata": {
    "slideshow": {
     "slide_type": "slide"
    }
   },
   "outputs": [],
   "source": [
    "from sympy import *\n",
    "x,y = symbols('x y')\n",
    "y=Function('y')(x)\n",
    "ED1=diff(y,x,2) + diff(y,x)**2 - 2*exp(-y) \n",
    "ED1 "
   ]
  },
  {
   "cell_type": "markdown",
   "metadata": {
    "slideshow": {
     "slide_type": "slide"
    }
   },
   "source": [
    "Apliquemos el cambio de variable $v = y'$ a la ecuación $y'' + (y')^{2} = 2e^{-y}$ para obtener:\n",
    "\n",
    "$$ v'+ v^{2} = 2e^{-y} $$\n"
   ]
  },
  {
   "cell_type": "code",
   "execution_count": null,
   "metadata": {
    "slideshow": {
     "slide_type": "slide"
    }
   },
   "outputs": [],
   "source": [
    "from sympy import *\n",
    "x,y,v=symbols('x y v')\n",
    "v=Function('v')(x) \n",
    "ED2 = diff(v,x) + v**2 - 2*exp(-y) \n",
    "ED2 "
   ]
  },
  {
   "cell_type": "code",
   "execution_count": null,
   "metadata": {
    "slideshow": {
     "slide_type": "slide"
    }
   },
   "outputs": [],
   "source": [
    "dsolve(ED2,x) "
   ]
  },
  {
   "cell_type": "markdown",
   "metadata": {
    "slideshow": {
     "slide_type": "slide"
    }
   },
   "source": [
    "Note que efectivamente hemos obtenido la forma descrita por el método:\n",
    "\n",
    "$$v' = \\frac{dv}{dx} = f(y,v) $$"
   ]
  },
  {
   "cell_type": "markdown",
   "metadata": {
    "slideshow": {
     "slide_type": "slide"
    }
   },
   "source": [
    "Entonces, expresemos a $dv/dx$ en términos de $v$ y $y$, considerando a $y$ como variable independiente y aplicando regla de la cadena:\n",
    "\n",
    "$$v' = \\frac{dv}{dx} = \\frac{dv}{dy} \\frac{dy}{dx} = v\\frac{dv}{dy} $$\n",
    "\n",
    "y sustituyamos en la ED $v'+ v^{2} = 2e^{-y}$ para obtener: \n",
    "\n",
    "$$ v\\frac{dv}{dy} + v^{2} = 2e^{-y} $$"
   ]
  },
  {
   "cell_type": "markdown",
   "metadata": {
    "slideshow": {
     "slide_type": "slide"
    }
   },
   "source": [
    "Note que hemos obtenido una ED que se puede llevar a la forma:\n",
    "\n",
    "$$ v' = f(y,v) $$\n",
    "\n",
    "que es la forma de una ED de primer orden que ya sabemos resolver. "
   ]
  },
  {
   "cell_type": "markdown",
   "metadata": {
    "slideshow": {
     "slide_type": "slide"
    }
   },
   "source": [
    "Dividimos por $v$ para estandarizar \n",
    "\n",
    "$$ \\frac{dv}{dy} + v = (2e^{-y})v^{-1} $$\n",
    "\n",
    "la cual, como sabemos es una ED de Bernoulli de parámetro $n = -1$. \n"
   ]
  },
  {
   "cell_type": "code",
   "execution_count": null,
   "metadata": {
    "slideshow": {
     "slide_type": "slide"
    }
   },
   "outputs": [],
   "source": [
    "from sympy import *\n",
    "v,y=symbols('v y') \n",
    "v=Function('v')(y) \n",
    "ED3 = diff(v,y) + v - 2*exp(-y)*v**(-1)\n",
    "ED3 "
   ]
  },
  {
   "cell_type": "code",
   "execution_count": null,
   "metadata": {
    "slideshow": {
     "slide_type": "slide"
    }
   },
   "outputs": [],
   "source": [
    "dsolve(ED3,v) "
   ]
  },
  {
   "cell_type": "markdown",
   "metadata": {
    "slideshow": {
     "slide_type": "slide"
    }
   },
   "source": [
    "Implementemos el cambio de variable $w = v^{1-n} = v^{2}$, de donde $v = w^{1/2}$ y \n",
    "\n",
    "$$ \\frac{dv}{dy} = \\frac{1}{2w^{1/2}}\\frac{dw}{dy} $$\n"
   ]
  },
  {
   "cell_type": "markdown",
   "metadata": {
    "slideshow": {
     "slide_type": "slide"
    }
   },
   "source": [
    "$$ \\frac{dv}{dy} = \\frac{1}{2}w^{-1/2}\\frac{dw}{dy} $$"
   ]
  },
  {
   "cell_type": "markdown",
   "metadata": {
    "slideshow": {
     "slide_type": "slide"
    }
   },
   "source": [
    "$$ \\frac{dv}{dy} + v = (2e^{-y})v^{-1} \\quad  \\Rightarrow \\quad \\frac{1}{2}w^{-1/2}\\frac{dw}{dy}  + w^{1/2} = 2e^{-y}w^{-1/2} $$"
   ]
  },
  {
   "cell_type": "markdown",
   "metadata": {
    "slideshow": {
     "slide_type": "slide"
    }
   },
   "source": [
    "Dividamos la ecuación obtenida por $\\frac{1}{2}w^{-1/2}$ para estandarizarla:\n",
    "\n",
    "$$ \\frac{dw}{dy} + 2w = 4e^{-y}  $$\n",
    "\n",
    "la cual es una ecuación diferencial lineal de primer orden en la variable $w$ de coeficientes \n",
    "\n",
    "$$ p(y) = 2, \\quad \\quad  g(y) = 4e^{-y} $$\n"
   ]
  },
  {
   "cell_type": "markdown",
   "metadata": {
    "slideshow": {
     "slide_type": "slide"
    }
   },
   "source": [
    "Entonces, el factor integrante $\\mu(y) = e^{2y}$. Multpliquemos la ED lineal por este facto para obtener una forma integrable:\n",
    "\n",
    "$$ e^{2y}\\frac{dw}{dy} + 2e^{2y}w = 4e^{y} $$\n"
   ]
  },
  {
   "cell_type": "markdown",
   "metadata": {
    "slideshow": {
     "slide_type": "slide"
    }
   },
   "source": [
    "$$ \\left[e^{2y}w \\right]'= 4e^{y} $$"
   ]
  },
  {
   "cell_type": "markdown",
   "metadata": {
    "slideshow": {
     "slide_type": "slide"
    }
   },
   "source": [
    "$$ e^{2y}w = 4\\int e^{y}dy + c_{1} $$"
   ]
  },
  {
   "cell_type": "markdown",
   "metadata": {
    "slideshow": {
     "slide_type": "slide"
    }
   },
   "source": [
    "$$ e^{2y}w = 4e^{y} + c_{1} $$"
   ]
  },
  {
   "cell_type": "markdown",
   "metadata": {
    "slideshow": {
     "slide_type": "slide"
    }
   },
   "source": [
    "$$ w = 4e^{-y} + c_{1}e^{-2y} $$"
   ]
  },
  {
   "cell_type": "markdown",
   "metadata": {
    "slideshow": {
     "slide_type": "slide"
    }
   },
   "source": [
    "$$ v^{2} = w = 4e^{-y} + c_{1}e^{-2y} $$"
   ]
  },
  {
   "cell_type": "markdown",
   "metadata": {
    "slideshow": {
     "slide_type": "slide"
    }
   },
   "source": [
    "$$ v = \\sqrt{4e^{-y} + c_{1}e^{-2y}} $$"
   ]
  },
  {
   "cell_type": "markdown",
   "metadata": {
    "slideshow": {
     "slide_type": "slide"
    }
   },
   "source": [
    "$$\\frac{dy}{dx} = v = \\sqrt{4e^{-y} + c_{1}e^{-2y}} $$\n",
    "\n",
    "Note que esta ecuación diferencial obtenida es separable. "
   ]
  },
  {
   "cell_type": "code",
   "execution_count": null,
   "metadata": {
    "slideshow": {
     "slide_type": "slide"
    }
   },
   "outputs": [],
   "source": [
    "dsolve(ED3,v) "
   ]
  },
  {
   "cell_type": "code",
   "execution_count": null,
   "metadata": {
    "slideshow": {
     "slide_type": "slide"
    }
   },
   "outputs": [],
   "source": [
    "x,y,c1=symbols('x y c1')  \n",
    "y=Function('y')(x) \n",
    "ED4 = diff(y,x) - sqrt((c1+4*exp(y))*exp(-2*y))\n",
    "dsolve(ED4,y) "
   ]
  },
  {
   "cell_type": "markdown",
   "metadata": {
    "slideshow": {
     "slide_type": "slide"
    }
   },
   "source": [
    "$$ \\frac{dy}{\\sqrt{4e^{-y} + c_{1}e^{-2y}}}  = dx$$"
   ]
  },
  {
   "cell_type": "markdown",
   "metadata": {
    "slideshow": {
     "slide_type": "slide"
    }
   },
   "source": [
    "$$ \\frac{dy}{\\sqrt{e^{-2y}(4e^{y} + c_{1})}}  = dx $$"
   ]
  },
  {
   "cell_type": "markdown",
   "metadata": {
    "slideshow": {
     "slide_type": "slide"
    }
   },
   "source": [
    "$$ \\frac{dy}{e^{-y}\\sqrt{4e^{y} + c_{1}}}  = dx $$"
   ]
  },
  {
   "cell_type": "markdown",
   "metadata": {
    "slideshow": {
     "slide_type": "slide"
    }
   },
   "source": [
    "$$ \\frac{e^{y}dy}{\\sqrt{4e^{y} + c_{1}}}  = dx $$"
   ]
  },
  {
   "cell_type": "markdown",
   "metadata": {
    "slideshow": {
     "slide_type": "slide"
    }
   },
   "source": [
    "$$ \\frac{1}{2\\sqrt{4e^{y} + c_{1}}} \\cdot e^{y}dy = \\frac{1}{2}dx $$"
   ]
  },
  {
   "cell_type": "markdown",
   "metadata": {
    "slideshow": {
     "slide_type": "slide"
    }
   },
   "source": [
    "$$ \\frac{1}{4} \\cdot \\frac{1}{2\\sqrt{4e^{y} + c_{1}}} \\cdot 4e^{y}dy = \\frac{1}{2}dx $$"
   ]
  },
  {
   "cell_type": "markdown",
   "metadata": {
    "slideshow": {
     "slide_type": "slide"
    }
   },
   "source": [
    "$$ \\frac{1}{2\\sqrt{4e^{y} + c_{1}}} \\cdot 4e^{y}dy = \\frac{4}{2}dx \\quad \\quad \\iff \\quad \\quad \\frac{1}{2\\sqrt{u}}du = 2dx $$"
   ]
  },
  {
   "cell_type": "markdown",
   "metadata": {
    "slideshow": {
     "slide_type": "slide"
    }
   },
   "source": [
    "$$ \\sqrt{4e^{y} + c_{1}} = 2x + c_{2} $$"
   ]
  },
  {
   "cell_type": "markdown",
   "metadata": {
    "slideshow": {
     "slide_type": "slide"
    }
   },
   "source": [
    "$$ 4e^{y} + c_{1} = (2x + c_{2})^{2} $$"
   ]
  },
  {
   "cell_type": "markdown",
   "metadata": {
    "slideshow": {
     "slide_type": "slide"
    }
   },
   "source": [
    "$$ 4e^{y} = (2x + c_{2})^{2} - c_{1} $$"
   ]
  },
  {
   "cell_type": "markdown",
   "metadata": {
    "slideshow": {
     "slide_type": "slide"
    }
   },
   "source": [
    "$$ e^{y} = \\frac{(2x + c_{2})^{2} - c_{1}}{4} $$"
   ]
  },
  {
   "cell_type": "markdown",
   "metadata": {
    "slideshow": {
     "slide_type": "slide"
    }
   },
   "source": [
    "$$ y = \\ln\\left( \\frac{(2x + c_{2})^{2} - c_{1}}{4} \\right) $$"
   ]
  },
  {
   "cell_type": "markdown",
   "metadata": {
    "slideshow": {
     "slide_type": "slide"
    }
   },
   "source": [
    "$$ y = \\ln \\left( \\frac{4x^{2} + 4c_{2}x + c_{2}^{2} - c_{1}}{4} \\right) $$"
   ]
  },
  {
   "cell_type": "markdown",
   "metadata": {
    "slideshow": {
     "slide_type": "slide"
    }
   },
   "source": [
    "Sea $2c_{3} = c_{2}$  y $c_{4} = -c_{1}$, entonces, sustituyendo en la ecuación anterior obtenemos:\n",
    "\n",
    "$$ y = \\ln \\left( \\frac{4x^{2} + 8c_{3}x + 4c_{3}^{2} + c_{4}}{4} \\right) $$\n"
   ]
  },
  {
   "cell_type": "code",
   "execution_count": null,
   "metadata": {
    "slideshow": {
     "slide_type": "skip"
    }
   },
   "outputs": [],
   "source": []
  },
  {
   "cell_type": "markdown",
   "metadata": {
    "slideshow": {
     "slide_type": "slide"
    }
   },
   "source": [
    "## Verificación con Sympy"
   ]
  },
  {
   "cell_type": "markdown",
   "metadata": {
    "slideshow": {
     "slide_type": "slide"
    }
   },
   "source": [
    "ED dada:\n",
    "\n",
    "$$ y'' + (y')^{2} = 2e^{-y} $$"
   ]
  },
  {
   "cell_type": "code",
   "execution_count": null,
   "metadata": {
    "scrolled": true,
    "slideshow": {
     "slide_type": "slide"
    }
   },
   "outputs": [],
   "source": [
    "from sympy import *\n",
    "x, y = symbols('x y')\n",
    "y = Function('y')(x)\n",
    "v = Function('v')(y) # v = y' \n",
    "ED1 = diff(y,x,2) + diff(y,x)**2 - 2*exp(-y) \n",
    "ED1 "
   ]
  },
  {
   "cell_type": "code",
   "execution_count": null,
   "metadata": {
    "slideshow": {
     "slide_type": "slide"
    }
   },
   "outputs": [],
   "source": [
    "v = Function('v')(y)          # porque $v = y'$ y $y'$ es función de x\n",
    "ED2 = ED1.subs({diff(y,x):v})\n",
    "ED2 "
   ]
  },
  {
   "cell_type": "code",
   "execution_count": null,
   "metadata": {
    "slideshow": {
     "slide_type": "slide"
    }
   },
   "outputs": [],
   "source": [
    "sol1 = dsolve(ED2,v)   \n",
    "sol1 "
   ]
  },
  {
   "cell_type": "markdown",
   "metadata": {
    "slideshow": {
     "slide_type": "slide"
    }
   },
   "source": [
    "## Verificación con WolframAlpha y symbolab "
   ]
  },
  {
   "cell_type": "markdown",
   "metadata": {
    "slideshow": {
     "slide_type": "slide"
    }
   },
   "source": [
    "[Con WolframAlpha](https://www.wolframalpha.com/input/?i=+y%27%27+%2B+%28y%27%29%5E%7B2%7D+%3D+2e%5E%7B-y%7D+) "
   ]
  },
  {
   "cell_type": "code",
   "execution_count": null,
   "metadata": {
    "slideshow": {
     "slide_type": "slide"
    }
   },
   "outputs": [],
   "source": [
    "from IPython.display import Image\n",
    "Image('solu_wolfram.JPG',width=800,height=400)"
   ]
  },
  {
   "cell_type": "markdown",
   "metadata": {
    "slideshow": {
     "slide_type": "slide"
    }
   },
   "source": [
    "## matriz de graficos con matplotlib"
   ]
  },
  {
   "cell_type": "code",
   "execution_count": null,
   "metadata": {
    "slideshow": {
     "slide_type": "slide"
    }
   },
   "outputs": [],
   "source": [
    "import numpy as np \n",
    "import matplotlib.pyplot as plt \n",
    "c1, c2 = 1, 1\n",
    "x = np.linspace(1,10)\n",
    "y =  (8*c2*x + 4*c2**2 + c1 + 4*x**2 )/4\n",
    "plt.grid() \n",
    "plt.savefig('solu_parti.jpg')\n",
    "plt.plot(x,y) "
   ]
  },
  {
   "cell_type": "markdown",
   "metadata": {
    "slideshow": {
     "slide_type": "slide"
    }
   },
   "source": [
    "## Determinación de los valores particulares de las constantes para el caso en que $y(0)=1$ y $y'(0)=0$"
   ]
  },
  {
   "cell_type": "markdown",
   "metadata": {
    "slideshow": {
     "slide_type": "slide"
    }
   },
   "source": [
    "$$ y = \\ln \\left( \\frac{4x^{2} + 8c_{3}x + 4c_{3}^{2} + c_{4}}{4} \\right) $$\n"
   ]
  },
  {
   "cell_type": "markdown",
   "metadata": {
    "slideshow": {
     "slide_type": "slide"
    }
   },
   "source": [
    "$$ y' = \\frac{4}{4x^{2} + 8c_{3}x + 4c_{3}^{2} + c_{4}} \\cdot \\frac{1}{4}(8x + 8c_{3}) $$"
   ]
  },
  {
   "cell_type": "markdown",
   "metadata": {
    "slideshow": {
     "slide_type": "slide"
    }
   },
   "source": [
    "$$ y' = \\frac{8(x+c_{3})}{4x^{2} + 8c_{3}x + 4c_{3}^{2} + c_{4}} $$"
   ]
  },
  {
   "cell_type": "code",
   "execution_count": null,
   "metadata": {
    "slideshow": {
     "slide_type": "slide"
    }
   },
   "outputs": [],
   "source": [
    "from sympy import * \n",
    "from sympy import exp   \n",
    "x,y,c1,c2,yp = symbols('x y c1 c2 yp')"
   ]
  },
  {
   "cell_type": "code",
   "execution_count": null,
   "metadata": {
    "slideshow": {
     "slide_type": "slide"
    }
   },
   "outputs": [],
   "source": [
    "sol_gen = y - log((4*x**2+8*c1*x+4*c1**2+c2)/4)\n",
    "sol_gen "
   ]
  },
  {
   "cell_type": "code",
   "execution_count": null,
   "metadata": {
    "slideshow": {
     "slide_type": "slide"
    }
   },
   "outputs": [],
   "source": [
    "deri_sol_gen = yp - 8*(x+c1)/(4*x**2 + 8*c1*x + 4*c1**2 + c2)\n",
    "deri_sol_gen "
   ]
  },
  {
   "cell_type": "code",
   "execution_count": null,
   "metadata": {
    "slideshow": {
     "slide_type": "slide"
    }
   },
   "outputs": [],
   "source": [
    "eq1=sol_gen.subs({x:0,y:1}) \n",
    "eq1 "
   ]
  },
  {
   "cell_type": "code",
   "execution_count": null,
   "metadata": {
    "slideshow": {
     "slide_type": "slide"
    }
   },
   "outputs": [],
   "source": [
    "eq2=deri_sol_gen.subs({x:0,yp:0})\n",
    "eq2 "
   ]
  },
  {
   "cell_type": "code",
   "execution_count": null,
   "metadata": {
    "slideshow": {
     "slide_type": "slide"
    }
   },
   "outputs": [],
   "source": [
    "eq1 "
   ]
  },
  {
   "cell_type": "code",
   "execution_count": null,
   "metadata": {
    "slideshow": {
     "slide_type": "slide"
    }
   },
   "outputs": [],
   "source": []
  },
  {
   "cell_type": "code",
   "execution_count": null,
   "metadata": {
    "slideshow": {
     "slide_type": "slide"
    }
   },
   "outputs": [],
   "source": [
    "eq1 = c1**2 + 0.25*c2 - exp(1) \n",
    "eq1 "
   ]
  },
  {
   "cell_type": "code",
   "execution_count": null,
   "metadata": {
    "slideshow": {
     "slide_type": "slide"
    }
   },
   "outputs": [],
   "source": [
    "eq2 "
   ]
  },
  {
   "cell_type": "code",
   "execution_count": null,
   "metadata": {
    "slideshow": {
     "slide_type": "slide"
    }
   },
   "outputs": [],
   "source": [
    "nonlinsolve([eq1,eq2],[c1,c2])"
   ]
  },
  {
   "cell_type": "code",
   "execution_count": null,
   "metadata": {
    "slideshow": {
     "slide_type": "slide"
    }
   },
   "outputs": [],
   "source": []
  },
  {
   "cell_type": "code",
   "execution_count": null,
   "metadata": {},
   "outputs": [],
   "source": []
  },
  {
   "cell_type": "code",
   "execution_count": null,
   "metadata": {
    "slideshow": {
     "slide_type": "slide"
    }
   },
   "outputs": [],
   "source": [
    "import numpy as np \n",
    "import matplotlib.pyplot as plt \n",
    "c2,c3 = 1, 1\n",
    "x = np.linspace(0.5,30) \n",
    "y = np.log(( 8*c2*x + 4*c2**2 + c1 + 4*x**2 )/4)\n",
    "y_p = 4/( 8*c2*x + 4*c2**2 + c1 + 4*x**2 )*(8*c2 + 8*x) \n",
    "\n",
    "plt.subplot(2,2,1)\n",
    "plt.plot(x,y) \n",
    "\n",
    "plt.subplot(2,2,2)\n",
    "plt.plot(y,y_p)\n",
    "\n",
    "plt.subplot(2,2,3)\n",
    "plt.plot(x,x)\n",
    "\n",
    "plt.subplot(2,2,4)\n",
    "plt.plot(x,x) "
   ]
  },
  {
   "cell_type": "code",
   "execution_count": null,
   "metadata": {
    "slideshow": {
     "slide_type": "slide"
    }
   },
   "outputs": [],
   "source": []
  },
  {
   "cell_type": "markdown",
   "metadata": {
    "slideshow": {
     "slide_type": "slide"
    }
   },
   "source": [
    "[Con Symbolab](https://es.symbolab.com/solver/step-by-step/%20y''%20%2B%20%5Cleft(y'%5Cright)%5E%7B2%7D%20%3D%202e%5E%7B-y%7D%20)"
   ]
  },
  {
   "cell_type": "markdown",
   "metadata": {
    "slideshow": {
     "slide_type": "slide"
    }
   },
   "source": [
    "## Verificación analítica "
   ]
  },
  {
   "cell_type": "markdown",
   "metadata": {
    "slideshow": {
     "slide_type": "slide"
    }
   },
   "source": [
    "Fijemos $c_{1}$ y $c_{2}$ en la familia \n",
    "\n",
    "$$ y = \\ln \\left( \\frac{4x^{2} + 8c_{3}x + 4c_{3}^{2} + c_{4}  }{4} \\right) $$\n",
    "\n",
    "para sustituir la función obtenida en la ED original:\n",
    "\n",
    "$$ y'' + (y')^{2} = 2e^{-y}, $$\n",
    "\n",
    "para verificar si la satisface:\n",
    "\n",
    "\n"
   ]
  },
  {
   "cell_type": "code",
   "execution_count": null,
   "metadata": {
    "slideshow": {
     "slide_type": "slide"
    }
   },
   "outputs": [],
   "source": []
  },
  {
   "cell_type": "markdown",
   "metadata": {
    "lang": "es",
    "slideshow": {
     "slide_type": "slide"
    }
   },
   "source": [
    "# Solvers"
   ]
  },
  {
   "cell_type": "markdown",
   "metadata": {
    "lang": "es",
    "slideshow": {
     "slide_type": "slide"
    }
   },
   "source": [
    "El módulo de solucionadores de SymPy implementa métodos para resolver ecuaciones."
   ]
  },
  {
   "cell_type": "markdown",
   "metadata": {
    "lang": "es",
    "slideshow": {
     "slide_type": "slide"
    }
   },
   "source": [
    "## Nota"
   ]
  },
  {
   "cell_type": "markdown",
   "metadata": {
    "lang": "es",
    "slideshow": {
     "slide_type": "slide"
    }
   },
   "source": [
    "Se recomienda utilizar `solveset()` para resolver ecuaciones univariadas, `linsolve()` para resolver sistemas de ecuaciones lineales en lugar de `solve()` y `nonlinsolve()` para resolver sistemas de ecuaciones no lineales ya que tarde o temprano, el `solveset()` se hará cargo de `solve()` interna o externamente."
   ]
  },
  {
   "cell_type": "markdown",
   "metadata": {
    "lang": "es",
    "slideshow": {
     "slide_type": "slide"
    }
   },
   "source": [
    "## Ecuaciones algebraicas"
   ]
  },
  {
   "cell_type": "markdown",
   "metadata": {
    "lang": "es",
    "slideshow": {
     "slide_type": "slide"
    }
   },
   "source": [
    "Utilice `solve()` para resolver ecuaciones algebraicas. Suponemos que todas las ecuaciones son iguales a 0, por lo que resolver `x**2 == 1` se traduce en el siguiente código:"
   ]
  },
  {
   "cell_type": "code",
   "execution_count": null,
   "metadata": {
    "slideshow": {
     "slide_type": "slide"
    }
   },
   "outputs": [],
   "source": [
    "from sympy.solvers import solve\n",
    "from sympy import Symbol\n",
    "x = Symbol('x')\n",
    "solve(x**2 - 1, x)"
   ]
  },
  {
   "cell_type": "markdown",
   "metadata": {
    "slideshow": {
     "slide_type": "slide"
    }
   },
   "source": [
    "The first argument for solve() is an equation (equaled to zero) and the second argument is the symbol that we want to solve the equation for."
   ]
  },
  {
   "cell_type": "markdown",
   "metadata": {
    "slideshow": {
     "slide_type": "slide"
    }
   },
   "source": [
    "`sympy.solvers.solvers.solve(f, *symbols, **flags)`"
   ]
  },
  {
   "cell_type": "markdown",
   "metadata": {
    "lang": "es",
    "slideshow": {
     "slide_type": "slide"
    }
   },
   "source": [
    "Resuelve algebraicamente ecuaciones y sistemas de ecuaciones."
   ]
  },
  {
   "cell_type": "markdown",
   "metadata": {
    "slideshow": {
     "slide_type": "slide"
    }
   },
   "source": [
    "## Parameters"
   ]
  },
  {
   "cell_type": "markdown",
   "metadata": {
    "slideshow": {
     "slide_type": "slide"
    }
   },
   "source": [
    "`f :`"
   ]
  },
  {
   "cell_type": "markdown",
   "metadata": {
    "slideshow": {
     "slide_type": "slide"
    }
   },
   "source": [
    "* a single Expr or Poly that must be zero\n",
    "\n",
    "* an Equality\n",
    "\n",
    "* a Relational expression\n",
    "\n",
    "* a Boolean\n",
    "\n",
    "* iterable of one or more of the above"
   ]
  },
  {
   "cell_type": "markdown",
   "metadata": {
    "slideshow": {
     "slide_type": "slide"
    }
   },
   "source": [
    "### symbols : (object(s) to solve for) specified as"
   ]
  },
  {
   "cell_type": "markdown",
   "metadata": {
    "slideshow": {
     "slide_type": "slide"
    }
   },
   "source": [
    "* none given (other non-numeric objects will be used)\n",
    "\n",
    "* single symbol\n",
    "\n",
    "* denested list of symbols (e.g., solve(f, x, y))\n",
    "\n",
    "* ordered iterable of symbols (e.g., solve(f, [x, y]))"
   ]
  },
  {
   "cell_type": "markdown",
   "metadata": {
    "slideshow": {
     "slide_type": "slide"
    }
   },
   "source": [
    "### flags :"
   ]
  },
  {
   "cell_type": "markdown",
   "metadata": {
    "slideshow": {
     "slide_type": "slide"
    }
   },
   "source": [
    "dict=True (default is False)  \n",
    "Return list (perhaps empty) of solution mappings."
   ]
  },
  {
   "cell_type": "markdown",
   "metadata": {
    "slideshow": {
     "slide_type": "slide"
    }
   },
   "source": [
    "set=True (default is False)\n",
    "Return list of symbols and set of tuple(s) of solution(s)."
   ]
  },
  {
   "cell_type": "markdown",
   "metadata": {
    "slideshow": {
     "slide_type": "slide"
    }
   },
   "source": [
    "exclude=[] (default)\n",
    "Do not try to solve for any of the free symbols in exclude; if expressions are given, the free symbols in them will be extracted automatically."
   ]
  },
  {
   "cell_type": "markdown",
   "metadata": {
    "slideshow": {
     "slide_type": "slide"
    }
   },
   "source": [
    "check=True (default)\n",
    "If False, do not do any testing of solutions. This can be useful if you want to include solutions that make any denominator zero."
   ]
  },
  {
   "cell_type": "markdown",
   "metadata": {
    "slideshow": {
     "slide_type": "slide"
    }
   },
   "source": [
    "numerical=True (default)\n",
    "Do a fast numerical check if f has only one symbol."
   ]
  },
  {
   "cell_type": "markdown",
   "metadata": {
    "slideshow": {
     "slide_type": "slide"
    }
   },
   "source": [
    "minimal=True (default is False)\n",
    "A very fast, minimal testing."
   ]
  },
  {
   "cell_type": "markdown",
   "metadata": {
    "slideshow": {
     "slide_type": "slide"
    }
   },
   "source": [
    "warn=True (default is False)\n",
    "Show a warning if checksol() could not conclude."
   ]
  },
  {
   "cell_type": "markdown",
   "metadata": {
    "slideshow": {
     "slide_type": "slide"
    }
   },
   "source": [
    "simplify=True (default)\n",
    "Simplify all but polynomials of order 3 or greater before returning them and (if check is not False) use the general simplify function on the solutions and the expression obtained when they are substituted into the function which should be zero."
   ]
  },
  {
   "cell_type": "markdown",
   "metadata": {
    "slideshow": {
     "slide_type": "slide"
    }
   },
   "source": [
    "force=True (default is False)\n",
    "Make positive all symbols without assumptions regarding sign."
   ]
  },
  {
   "cell_type": "markdown",
   "metadata": {
    "slideshow": {
     "slide_type": "slide"
    }
   },
   "source": [
    "rational=True (default)\n",
    "Recast Floats as Rational; if this option is not used, the system containing Floats may fail to solve because of issues with polys. If rational=None, Floats will be recast as rationals but the answer will be recast as Floats. If the flag is False then nothing will be done to the Floats."
   ]
  },
  {
   "cell_type": "markdown",
   "metadata": {
    "slideshow": {
     "slide_type": "slide"
    }
   },
   "source": [
    "manual=True (default is False)\n",
    "Do not use the polys/matrix method to solve a system of equations, solve them one at a time as you might “manually.”"
   ]
  },
  {
   "cell_type": "markdown",
   "metadata": {
    "slideshow": {
     "slide_type": "slide"
    }
   },
   "source": [
    "implicit=True (default is False)\n",
    "Allows solve to return a solution for a pattern in terms of other functions that contain that pattern; this is only needed if the pattern is inside of some invertible function like cos, exp, ect."
   ]
  },
  {
   "cell_type": "markdown",
   "metadata": {
    "slideshow": {
     "slide_type": "slide"
    }
   },
   "source": [
    "particular=True (default is False)\n",
    "Instructs solve to try to find a particular solution to a linear system with as many zeros as possible; this is very expensive."
   ]
  },
  {
   "cell_type": "markdown",
   "metadata": {
    "slideshow": {
     "slide_type": "slide"
    }
   },
   "source": [
    "quick=True (default is False)\n",
    "When using particular=True, use a fast heuristic to find a solution with many zeros (instead of using the very slow method guaranteed to find the largest number of zeros possible)."
   ]
  },
  {
   "cell_type": "markdown",
   "metadata": {
    "slideshow": {
     "slide_type": "slide"
    }
   },
   "source": [
    "cubics=True (default)\n",
    "Return explicit solutions when cubic expressions are encountered."
   ]
  },
  {
   "cell_type": "markdown",
   "metadata": {
    "slideshow": {
     "slide_type": "slide"
    }
   },
   "source": [
    "quartics=True (default)\n",
    "Return explicit solutions when quartic expressions are encountered."
   ]
  },
  {
   "cell_type": "markdown",
   "metadata": {
    "slideshow": {
     "slide_type": "slide"
    }
   },
   "source": [
    "quintics=True (default)\n",
    "Return explicit solutions (if possible) when quintic expressions are encountered."
   ]
  },
  {
   "cell_type": "markdown",
   "metadata": {
    "slideshow": {
     "slide_type": "slide"
    }
   },
   "source": [
    "## Explanation"
   ]
  },
  {
   "cell_type": "markdown",
   "metadata": {
    "slideshow": {
     "slide_type": "slide"
    }
   },
   "source": [
    "Currently supported:\n",
    "* polynomial\n",
    "\n",
    "* transcendental\n",
    "\n",
    "* piecewise combinations of the above\n",
    "\n",
    "* systems of linear and polynomial equations\n",
    "\n",
    "* systems containing relational expressions"
   ]
  },
  {
   "cell_type": "code",
   "execution_count": null,
   "metadata": {
    "slideshow": {
     "slide_type": "slide"
    }
   },
   "outputs": [],
   "source": []
  },
  {
   "cell_type": "code",
   "execution_count": null,
   "metadata": {
    "slideshow": {
     "slide_type": "slide"
    }
   },
   "outputs": [],
   "source": []
  },
  {
   "cell_type": "code",
   "execution_count": null,
   "metadata": {},
   "outputs": [],
   "source": []
  },
  {
   "cell_type": "code",
   "execution_count": null,
   "metadata": {},
   "outputs": [],
   "source": []
  },
  {
   "cell_type": "code",
   "execution_count": null,
   "metadata": {
    "slideshow": {
     "slide_type": "slide"
    }
   },
   "outputs": [],
   "source": []
  },
  {
   "cell_type": "code",
   "execution_count": null,
   "metadata": {
    "slideshow": {
     "slide_type": "slide"
    }
   },
   "outputs": [],
   "source": []
  }
 ],
 "metadata": {
  "celltoolbar": "Slideshow",
  "hide_input": false,
  "kernelspec": {
   "display_name": "Python 3",
   "language": "python",
   "name": "python3"
  },
  "language_info": {
   "codemirror_mode": {
    "name": "ipython",
    "version": 3
   },
   "file_extension": ".py",
   "mimetype": "text/x-python",
   "name": "python",
   "nbconvert_exporter": "python",
   "pygments_lexer": "ipython3",
   "version": "3.7.4"
  },
  "nbTranslate": {
   "displayLangs": [
    "*"
   ],
   "hotkey": "alt-t",
   "langInMainMenu": true,
   "sourceLang": "en",
   "targetLang": "es",
   "useGoogleTranslate": true
  },
  "rise": {
   "enable_chalkboard": true,
   "theme": "sky",
   "transition": "zoom"
  }
 },
 "nbformat": 4,
 "nbformat_minor": 2
}
