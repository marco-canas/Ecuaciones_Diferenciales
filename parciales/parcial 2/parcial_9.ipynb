{
 "cells": [
  {
   "cell_type": "markdown",
   "metadata": {
    "slideshow": {
     "slide_type": "slide"
    }
   },
   "source": [
    "# Parcial 2"
   ]
  },
  {
   "cell_type": "markdown",
   "metadata": {
    "slideshow": {
     "slide_type": "slide"
    }
   },
   "source": [
    "## Punto 1 "
   ]
  },
  {
   "cell_type": "markdown",
   "metadata": {
    "slideshow": {
     "slide_type": "slide"
    }
   },
   "source": [
    "Resuelva el problema con valor inicial dado aplicando el método de utilización del cambio de variable $v = y'$, $v' = y''$:\n",
    "\n",
    "$$ y'y'' - x = 0, \\quad \\quad y(1) = 2, \\quad y'(1) = 1. $$\n"
   ]
  },
  {
   "cell_type": "markdown",
   "metadata": {
    "slideshow": {
     "slide_type": "slide"
    }
   },
   "source": [
    "### Solución: "
   ]
  },
  {
   "cell_type": "markdown",
   "metadata": {
    "slideshow": {
     "slide_type": "slide"
    }
   },
   "source": [
    "Resolvemos primero la ecuación diferencial:"
   ]
  },
  {
   "cell_type": "markdown",
   "metadata": {
    "slideshow": {
     "slide_type": "slide"
    }
   },
   "source": [
    "$$ y'y'' - x = 0 \\quad \\Rightarrow \\quad vv' - x = 0 $$"
   ]
  },
  {
   "cell_type": "markdown",
   "metadata": {
    "slideshow": {
     "slide_type": "slide"
    }
   },
   "source": [
    "$$vv' = x \\quad \\Rightarrow \\quad  v\\frac{dv}{dx} = x $$"
   ]
  },
  {
   "cell_type": "markdown",
   "metadata": {
    "slideshow": {
     "slide_type": "slide"
    }
   },
   "source": [
    "$$ vdv = xdx $$"
   ]
  },
  {
   "cell_type": "markdown",
   "metadata": {
    "slideshow": {
     "slide_type": "slide"
    }
   },
   "source": [
    "$$ \\int vdv = \\int xdx $$"
   ]
  },
  {
   "cell_type": "markdown",
   "metadata": {
    "slideshow": {
     "slide_type": "slide"
    }
   },
   "source": [
    "$$ \\frac{v^{2}}{2} = \\frac{x^{2}}{2} + \\frac{c_{1}}{2} $$"
   ]
  },
  {
   "cell_type": "markdown",
   "metadata": {
    "slideshow": {
     "slide_type": "slide"
    }
   },
   "source": [
    "Multiplicando por 2 obtenemos:\n",
    "\n",
    "$$ v^{2} = x^{2} + c_{1} \\quad \\Rightarrow \\quad v = \\pm\\sqrt{x^{2} + c_{1}}  $$\n"
   ]
  },
  {
   "cell_type": "markdown",
   "metadata": {
    "slideshow": {
     "slide_type": "slide"
    }
   },
   "source": [
    "## Determinación de la solución de la ED si $v = \\sqrt{x^{2} + c_{1}}$"
   ]
  },
  {
   "cell_type": "markdown",
   "metadata": {
    "slideshow": {
     "slide_type": "slide"
    }
   },
   "source": [
    "Como la función que buscamos es de valores positivos, entonces tomaremos \n",
    "\n",
    "$$ \\frac{dy}{dx} = v = + \\sqrt{x^{2} + c_{1}} $$\n"
   ]
  },
  {
   "cell_type": "markdown",
   "metadata": {
    "slideshow": {
     "slide_type": "slide"
    }
   },
   "source": [
    "$$ \\frac{dy}{dx} = \\sqrt{x^{2} + c_{1}} $$"
   ]
  },
  {
   "cell_type": "markdown",
   "metadata": {
    "slideshow": {
     "slide_type": "slide"
    }
   },
   "source": [
    "$$ dy = \\sqrt{x^{2} + c_{1}}dx $$"
   ]
  },
  {
   "cell_type": "markdown",
   "metadata": {
    "slideshow": {
     "slide_type": "slide"
    }
   },
   "source": [
    "$$ \\int dy = \\int \\sqrt{x^{2} + c_{1}} dx  $$"
   ]
  },
  {
   "cell_type": "markdown",
   "metadata": {
    "slideshow": {
     "slide_type": "slide"
    }
   },
   "source": [
    "Note que el método de integración aplicable al lado derecho, depende del signo y el valor de $c_{1}$"
   ]
  },
  {
   "cell_type": "markdown",
   "metadata": {
    "slideshow": {
     "slide_type": "slide"
    }
   },
   "source": [
    "### Caso I: Si $c_{1} = k^{2} > 0$, donde $k$ sea un real positivo"
   ]
  },
  {
   "cell_type": "markdown",
   "metadata": {
    "slideshow": {
     "slide_type": "slide"
    }
   },
   "source": [
    "$$ y = \\int \\sqrt{x^{2} + k^{2}} dx  $$"
   ]
  },
  {
   "cell_type": "markdown",
   "metadata": {
    "slideshow": {
     "slide_type": "slide"
    }
   },
   "source": [
    "Utilicemos el método de sustitución trigonompetrica $x = k\\tan (z) $"
   ]
  },
  {
   "cell_type": "markdown",
   "metadata": {
    "slideshow": {
     "slide_type": "slide"
    }
   },
   "source": [
    "Entonces \n",
    "$$ dx = k\\sec^{2}z dz $$"
   ]
  },
  {
   "cell_type": "markdown",
   "metadata": {
    "slideshow": {
     "slide_type": "slide"
    }
   },
   "source": [
    "$$ y = \\int \\sqrt{k^{2}(tan^{2}(z) + 1)} (k\\sec^{2}(z) dz) $$"
   ]
  },
  {
   "cell_type": "markdown",
   "metadata": {
    "slideshow": {
     "slide_type": "slide"
    }
   },
   "source": [
    "$$ y = k^{2} \\int \\sec^{3}(z) dz $$"
   ]
  },
  {
   "cell_type": "markdown",
   "metadata": {
    "slideshow": {
     "slide_type": "slide"
    }
   },
   "source": [
    "$$ I = \\int \\sec^{3}(z) dz  $$"
   ]
  },
  {
   "cell_type": "markdown",
   "metadata": {
    "slideshow": {
     "slide_type": "skip"
    }
   },
   "source": [
    "# Integración de $\\sec^{3}z$ utilizando descomposición en fracciones parciales "
   ]
  },
  {
   "cell_type": "markdown",
   "metadata": {
    "slideshow": {
     "slide_type": "skip"
    }
   },
   "source": [
    "$$ I = \\int \\frac{1}{\\cos^{3}z}dz $$ "
   ]
  },
  {
   "cell_type": "markdown",
   "metadata": {
    "slideshow": {
     "slide_type": "skip"
    }
   },
   "source": [
    "$$ I = \\int \\frac{1}{\\cos^{2}z\\cos z}dz $$"
   ]
  },
  {
   "cell_type": "markdown",
   "metadata": {
    "slideshow": {
     "slide_type": "skip"
    }
   },
   "source": [
    "$$ I = \\int \\frac{1}{(1-\\sin^{2}(z))\\cos(z)} dz $$"
   ]
  },
  {
   "cell_type": "markdown",
   "metadata": {
    "slideshow": {
     "slide_type": "skip"
    }
   },
   "source": [
    "$$ I = \\int \\frac{1}{(1-\\sin(z))(1+\\sin(z))\\cos(z)}dz $$"
   ]
  },
  {
   "cell_type": "markdown",
   "metadata": {
    "slideshow": {
     "slide_type": "skip"
    }
   },
   "source": [
    "$$ \\frac{1}{(1-\\sin(z))(1+\\sin(z))\\cos(z)} = \\frac{A}{1-\\sin(z)} + \\frac{B}{1+\\sin(z)} + \\frac{1}{\\cos(z)}  $$"
   ]
  },
  {
   "cell_type": "code",
   "execution_count": null,
   "metadata": {
    "slideshow": {
     "slide_type": "skip"
    }
   },
   "outputs": [],
   "source": []
  },
  {
   "cell_type": "markdown",
   "metadata": {
    "slideshow": {
     "slide_type": "slide"
    }
   },
   "source": [
    "# Integración de $\\sec^{3}z$ utilizando el método de integración por partes"
   ]
  },
  {
   "cell_type": "markdown",
   "metadata": {
    "slideshow": {
     "slide_type": "slide"
    }
   },
   "source": [
    "$$ I = \\int \\sec^{3}zdz  $$"
   ]
  },
  {
   "cell_type": "markdown",
   "metadata": {
    "slideshow": {
     "slide_type": "slide"
    }
   },
   "source": [
    "$$ I = \\int \\sec (z) \\sec^{2}(z) dz $$"
   ]
  },
  {
   "cell_type": "markdown",
   "metadata": {
    "slideshow": {
     "slide_type": "slide"
    }
   },
   "source": [
    "Resolvamos por partes la integral $\\int \\sec(z)\\sec^{2}(z)dz$, tomando \n",
    "\n",
    "$$ u = \\sec(z), \\quad \\quad dv = \\sec^{2}(z)dz $$ "
   ]
  },
  {
   "cell_type": "markdown",
   "metadata": {
    "slideshow": {
     "slide_type": "fragment"
    }
   },
   "source": [
    "$$ du = \\sec(z)\\tan(z)dz, \\quad \\quad v = \\tan(z) $$"
   ]
  },
  {
   "cell_type": "markdown",
   "metadata": {
    "slideshow": {
     "slide_type": "fragment"
    }
   },
   "source": [
    "$$ \\int \\sec^{3}(z)dz = \\sec(z)\\tan(z) - \\int \\sec(z)\\tan^{2}(z)dz $$"
   ]
  },
  {
   "cell_type": "markdown",
   "metadata": {
    "slideshow": {
     "slide_type": "fragment"
    }
   },
   "source": [
    "$$ \\int \\sec^{3}(z)dz = \\sec(z)\\tan(z) - \\int \\sec(z)(\\sec^{2}(z) - 1) $$"
   ]
  },
  {
   "cell_type": "markdown",
   "metadata": {
    "slideshow": {
     "slide_type": "slide"
    }
   },
   "source": [
    "$$ \\int \\sec^{3}(z)dz = \\sec(z)\\tan(z) - \\int \\sec^{3}(z) + \\int \\sec(z)dz $$"
   ]
  },
  {
   "cell_type": "markdown",
   "metadata": {
    "slideshow": {
     "slide_type": "slide"
    }
   },
   "source": [
    "$$ 2\\int \\sec^{3}(z)dz = \\sec(z)\\tan(z) + \\int \\sec(z)dz  $$"
   ]
  },
  {
   "cell_type": "markdown",
   "metadata": {
    "slideshow": {
     "slide_type": "slide"
    }
   },
   "source": [
    "$$ \\int \\sec^{3}(z)dz = \\frac{1}{2}\\left[ \\sec(z)\\tan(z) + \\ln|\\sec(z) + \\tan(z)| \\right] + c $$"
   ]
  },
  {
   "cell_type": "markdown",
   "metadata": {
    "slideshow": {
     "slide_type": "slide"
    }
   },
   "source": [
    "$$ y = \\frac{k^{2}}{2}\\left[ \\sec(z)\\tan(z) + \\ln|\\sec(z) + \\tan(z)| \\right] + c_{2} $$"
   ]
  },
  {
   "cell_type": "markdown",
   "metadata": {
    "slideshow": {
     "slide_type": "slide"
    }
   },
   "source": [
    "Retornemos a la variable independiente original $x$ notando que \n",
    "\n",
    "$$ \\tan(z) = \\frac{x}{k} \\quad \\Rightarrow \\quad \\sec(z) = \\frac{1}{\\cos(z)} = \\frac{k^{2}}{\\sqrt{x^{2} + k^{2}}} $$\n"
   ]
  },
  {
   "cell_type": "markdown",
   "metadata": {
    "slideshow": {
     "slide_type": "slide"
    }
   },
   "source": [
    "$$ y = \\frac{k^{2}}{2} \\left[ \\frac{k^{2}}{\\sqrt{x^{2} + k^{2}}} \\cdot \\frac{x}{k} + \\ln \\left| \\frac{k^{2}}{\\sqrt{x^{2} + k^{2}}} + \\frac{x}{k}  \\right| \\right] + c_{2} $$"
   ]
  },
  {
   "cell_type": "markdown",
   "metadata": {
    "slideshow": {
     "slide_type": "slide"
    }
   },
   "source": [
    "$$ y = \\frac{k^{2}}{2} \\left[ \\frac{kx}{\\sqrt{x^{2} + k^{2}}} + \\ln \\left| \\frac{k^{2}}{\\sqrt{x^{2} + k^{2}}} + \\frac{x}{k}  \\right| \\right] + c_{2} $$"
   ]
  },
  {
   "cell_type": "markdown",
   "metadata": {
    "slideshow": {
     "slide_type": "slide"
    }
   },
   "source": [
    "$$ y = \\frac{k^{2}}{2} \\left[ \\frac{kx}{\\sqrt{x^{2} + k^{2}}} + \\ln \\left| \\frac{k^{3} + x\\sqrt{x^{2} + k^{2}} }{k\\sqrt{x^{2} + k^{2}}}   \\right| \\right] + c_{2} $$"
   ]
  },
  {
   "cell_type": "markdown",
   "metadata": {
    "slideshow": {
     "slide_type": "slide"
    }
   },
   "source": [
    "Veamos si en esta familia de soluciones está la función que satisface las condiciones iniciales dadas. Determinemos $k$ y $c_{2}$ tal que $y(1)=2$ y $y'(1) = 1$"
   ]
  },
  {
   "cell_type": "markdown",
   "metadata": {
    "slideshow": {
     "slide_type": "slide"
    }
   },
   "source": [
    "Empecemos determinando $y'$"
   ]
  },
  {
   "cell_type": "markdown",
   "metadata": {
    "slideshow": {
     "slide_type": "slide"
    }
   },
   "source": [
    "$$y = \\frac{k^{2}}{2} \\left[ kx(x^{2} + k^{2})^{-1/2} + \\ln \\left| \\frac{k^{3} + x\\sqrt{x^{2} + k^{2}} }{k\\sqrt{x^{2} + k^{2}}} \\right| \\right] + c_{2} $$"
   ]
  },
  {
   "cell_type": "markdown",
   "metadata": {
    "slideshow": {
     "slide_type": "slide"
    }
   },
   "source": [
    "$$ y' = \\frac{k^{2}}{2} \\left[ kx\\frac{-1}{2}(x^{2} + k^{2})^{-3/2}(2x) + k(x^{2} + k^{2})^{-1/2} + \\frac{}{}\\left( k^{2}\\frac{-1}{2}()^{-3/2}(2x) + \\frac{1}{k}\\right)  \\right] + 0 $$"
   ]
  },
  {
   "cell_type": "code",
   "execution_count": null,
   "metadata": {
    "slideshow": {
     "slide_type": "slide"
    }
   },
   "outputs": [],
   "source": []
  },
  {
   "cell_type": "code",
   "execution_count": null,
   "metadata": {
    "slideshow": {
     "slide_type": "slide"
    }
   },
   "outputs": [],
   "source": []
  },
  {
   "cell_type": "code",
   "execution_count": 11,
   "metadata": {
    "slideshow": {
     "slide_type": "slide"
    }
   },
   "outputs": [
    {
     "data": {
      "text/latex": [
       "$\\displaystyle - \\frac{\\log{\\left(\\sin{\\left(x \\right)} - 1 \\right)}}{4} + \\frac{\\log{\\left(\\sin{\\left(x \\right)} + 1 \\right)}}{4} - \\frac{\\sin{\\left(x \\right)}}{2 \\sin^{2}{\\left(x \\right)} - 2}$"
      ],
      "text/plain": [
       "-log(sin(x) - 1)/4 + log(sin(x) + 1)/4 - sin(x)/(2*sin(x)**2 - 2)"
      ]
     },
     "execution_count": 11,
     "metadata": {},
     "output_type": "execute_result"
    }
   ],
   "source": [
    "from sympy import * \n",
    "x = Symbol('x')\n",
    "integrate((sec(x))**3,x)   "
   ]
  },
  {
   "cell_type": "code",
   "execution_count": null,
   "metadata": {
    "slideshow": {
     "slide_type": "slide"
    }
   },
   "outputs": [],
   "source": []
  },
  {
   "cell_type": "markdown",
   "metadata": {
    "slideshow": {
     "slide_type": "slide"
    }
   },
   "source": [
    "### Caso II: Si $c_{1} = 0$."
   ]
  },
  {
   "cell_type": "markdown",
   "metadata": {
    "slideshow": {
     "slide_type": "slide"
    }
   },
   "source": [
    "$$ y = \\int \\sqrt{x^{2}}dx = \\int |x|dx \\begin{cases} \\frac{x^{2}}{2}+c_{2} & x \\geq 0 \\\\\n",
    "-\\frac{x^{2}}{2}+c_{2} & x < 0 \\end{cases}$$"
   ]
  },
  {
   "cell_type": "code",
   "execution_count": null,
   "metadata": {
    "slideshow": {
     "slide_type": "slide"
    }
   },
   "outputs": [],
   "source": []
  },
  {
   "cell_type": "markdown",
   "metadata": {
    "slideshow": {
     "slide_type": "slide"
    }
   },
   "source": [
    "### Caso III: Si $c_{1} = -k^{2} < 0$. \n",
    "donde $k$ es un número real positivo. "
   ]
  },
  {
   "cell_type": "markdown",
   "metadata": {
    "slideshow": {
     "slide_type": "slide"
    }
   },
   "source": [
    "$$y = \\int \\sqrt{x^{2} - k^{2}} dx $$"
   ]
  },
  {
   "cell_type": "markdown",
   "metadata": {
    "slideshow": {
     "slide_type": "slide"
    }
   },
   "source": [
    "Utilice el cambio de variable $x = k\\sec(z)$, de donde \n",
    "\n",
    "$$ dx = k\\sec(z)\\tan(z)dz $$\n"
   ]
  },
  {
   "cell_type": "markdown",
   "metadata": {
    "slideshow": {
     "slide_type": "slide"
    }
   },
   "source": [
    "$$ y = \\int \\sqrt{k^{2}(\\sec^{2}\\theta - 1)}(k\\sec(\\theta)\\tan(\\theta)d\\theta) $$"
   ]
  },
  {
   "cell_type": "markdown",
   "metadata": {
    "slideshow": {
     "slide_type": "slide"
    }
   },
   "source": [
    "$$ y = k^{2}\\int \\tan^{2}(\\theta)\\sec(\\theta) d\\theta $$"
   ]
  },
  {
   "cell_type": "markdown",
   "metadata": {
    "slideshow": {
     "slide_type": "slide"
    }
   },
   "source": [
    "$$ y = k^{2} \\int (\\sec^{2}(z) - 1)\\sec (z) dz $$"
   ]
  },
  {
   "cell_type": "markdown",
   "metadata": {
    "slideshow": {
     "slide_type": "slide"
    }
   },
   "source": [
    "$$ y = k^{2} \\int (\\sec^{3}(z) - \\sec(z))dz $$"
   ]
  },
  {
   "cell_type": "markdown",
   "metadata": {
    "slideshow": {
     "slide_type": "slide"
    }
   },
   "source": [
    "$$ y = k^{2} \\left[ \\int \\sec^{3}(z)dz - \\int \\sec(z)dz \\right] $$"
   ]
  },
  {
   "cell_type": "markdown",
   "metadata": {
    "slideshow": {
     "slide_type": "slide"
    }
   },
   "source": [
    "$$ y = k^{2}\\left[ \\frac{1}{2}\\left[ \\sec(z)\\tan(z) + \\ln|\\sec(z) + \\tan(z)| \\right] - \\ln|\\sec(z) + \\tan(z)|  \\right] + c_{2} $$"
   ]
  },
  {
   "cell_type": "markdown",
   "metadata": {
    "slideshow": {
     "slide_type": "slide"
    }
   },
   "source": [
    "$$ y = \\frac{k^{2}}{2} \\left[ \\sec(z)\\tan(z)  - \\ln|\\sec(z) + \\tan(z)| \\right] + c_{2} $$"
   ]
  },
  {
   "cell_type": "markdown",
   "metadata": {
    "slideshow": {
     "slide_type": "slide"
    }
   },
   "source": [
    "Retornemos a la variable independiente original recordando que \n",
    "\n",
    "$$ x = k\\sec(z) \\quad \\Rightarrow \\quad x^{2} = k^{2}\\sec^{2}(z) = k^{2}(\\tan^{2}(z) + 1) $$\n"
   ]
  },
  {
   "cell_type": "markdown",
   "metadata": {
    "slideshow": {
     "slide_type": "slide"
    }
   },
   "source": [
    "$$ \\frac{x^{2}}{k^{2}} - 1 = \\tan^{2}(z)   $$"
   ]
  },
  {
   "cell_type": "markdown",
   "metadata": {
    "slideshow": {
     "slide_type": "slide"
    }
   },
   "source": [
    "$$\\sqrt{\\frac{x^{2} - k^{2}}{k^{2}}} = \\tan(z) $$"
   ]
  },
  {
   "cell_type": "code",
   "execution_count": null,
   "metadata": {
    "slideshow": {
     "slide_type": "slide"
    }
   },
   "outputs": [],
   "source": []
  },
  {
   "cell_type": "code",
   "execution_count": null,
   "metadata": {
    "slideshow": {
     "slide_type": "slide"
    }
   },
   "outputs": [],
   "source": []
  },
  {
   "cell_type": "markdown",
   "metadata": {
    "slideshow": {
     "slide_type": "slide"
    }
   },
   "source": [
    "## Verificación con sympy "
   ]
  },
  {
   "cell_type": "code",
   "execution_count": 7,
   "metadata": {
    "slideshow": {
     "slide_type": "slide"
    }
   },
   "outputs": [],
   "source": [
    "from sympy import *\n",
    "x,y=symbols('x y')\n",
    "y = Function('y')(x) \n",
    "ed=y.diff(x)*y.diff(x,2) - x \n",
    "y1,y2=dsolve(ed,y) "
   ]
  },
  {
   "cell_type": "code",
   "execution_count": 8,
   "metadata": {
    "slideshow": {
     "slide_type": "slide"
    }
   },
   "outputs": [
    {
     "data": {
      "text/latex": [
       "$\\displaystyle y{\\left(x \\right)} = C_{1} - \\frac{\\sqrt{C_{2}} x \\sqrt{1 + \\frac{x^{2}}{C_{2}}}}{2} - \\frac{C_{2} \\operatorname{asinh}{\\left(\\frac{x}{\\sqrt{C_{2}}} \\right)}}{2}$"
      ],
      "text/plain": [
       "Eq(y(x), C1 - sqrt(C2)*x*sqrt(1 + x**2/C2)/2 - C2*asinh(x/sqrt(C2))/2)"
      ]
     },
     "execution_count": 8,
     "metadata": {},
     "output_type": "execute_result"
    }
   ],
   "source": [
    "y1 "
   ]
  },
  {
   "cell_type": "code",
   "execution_count": 6,
   "metadata": {
    "slideshow": {
     "slide_type": "slide"
    }
   },
   "outputs": [
    {
     "data": {
      "text/latex": [
       "$\\displaystyle y{\\left(x \\right)} = C_{1} + \\frac{\\sqrt{C_{2}} x \\sqrt{1 + \\frac{x^{2}}{C_{2}}}}{2} + \\frac{C_{2} \\operatorname{asinh}{\\left(\\frac{x}{\\sqrt{C_{2}}} \\right)}}{2}$"
      ],
      "text/plain": [
       "Eq(y(x), C1 + sqrt(C2)*x*sqrt(1 + x**2/C2)/2 + C2*asinh(x/sqrt(C2))/2)"
      ]
     },
     "execution_count": 6,
     "metadata": {},
     "output_type": "execute_result"
    }
   ],
   "source": [
    "y2 "
   ]
  },
  {
   "cell_type": "markdown",
   "metadata": {
    "slideshow": {
     "slide_type": "slide"
    }
   },
   "source": [
    "**Conclusión:** Hemos obtenidos dos familias de soluciones para nuestra ED. "
   ]
  },
  {
   "cell_type": "markdown",
   "metadata": {
    "slideshow": {
     "slide_type": "slide"
    }
   },
   "source": [
    "## Hallemos los valores de las constantes de integración"
   ]
  },
  {
   "cell_type": "code",
   "execution_count": null,
   "metadata": {
    "slideshow": {
     "slide_type": "slide"
    }
   },
   "outputs": [],
   "source": []
  },
  {
   "cell_type": "markdown",
   "metadata": {
    "slideshow": {
     "slide_type": "slide"
    }
   },
   "source": [
    "## Solución de la ED con WolframAlpha"
   ]
  },
  {
   "cell_type": "markdown",
   "metadata": {
    "slideshow": {
     "slide_type": "slide"
    }
   },
   "source": [
    "[Solución con Wolfram de la ED](https://www.wolframalpha.com/input/?i=y%27y%27%27+-x+%3D+0+)"
   ]
  },
  {
   "cell_type": "markdown",
   "metadata": {
    "slideshow": {
     "slide_type": "slide"
    }
   },
   "source": [
    "[Solución con wolfram del PVI](https://www.wolframalpha.com/input/?i=%7By%27y%27%27+-x+%3D+0%2C+y%281%29%3D2%2C+y%27%281%29%3D1%7D+)"
   ]
  },
  {
   "cell_type": "markdown",
   "metadata": {
    "slideshow": {
     "slide_type": "slide"
    }
   },
   "source": [
    "## Conclusión de la verificación con Wolfram "
   ]
  },
  {
   "cell_type": "markdown",
   "metadata": {
    "slideshow": {
     "slide_type": "slide"
    }
   },
   "source": [
    "## Solución con symbolab"
   ]
  },
  {
   "cell_type": "markdown",
   "metadata": {
    "slideshow": {
     "slide_type": "slide"
    }
   },
   "source": [
    "[Solución de $y'y''-x=0$](https://es.symbolab.com/solver/step-by-step/y'y''%20-x%20%3D%200%20)\n",
    "\n",
    "Este tipo de ecuación diferencial no es posible solucionarla con Symbolab "
   ]
  },
  {
   "cell_type": "code",
   "execution_count": null,
   "metadata": {
    "slideshow": {
     "slide_type": "slide"
    }
   },
   "outputs": [],
   "source": []
  }
 ],
 "metadata": {
  "celltoolbar": "Slideshow",
  "hide_input": false,
  "kernelspec": {
   "display_name": "Python 3",
   "language": "python",
   "name": "python3"
  },
  "language_info": {
   "codemirror_mode": {
    "name": "ipython",
    "version": 3
   },
   "file_extension": ".py",
   "mimetype": "text/x-python",
   "name": "python",
   "nbconvert_exporter": "python",
   "pygments_lexer": "ipython3",
   "version": "3.7.4"
  },
  "nbTranslate": {
   "displayLangs": [
    "*"
   ],
   "hotkey": "alt-t",
   "langInMainMenu": true,
   "sourceLang": "en",
   "targetLang": "es",
   "useGoogleTranslate": true
  },
  "rise": {
   "enable_chalkboard": true,
   "theme": "sky",
   "transition": "zoom"
  }
 },
 "nbformat": 4,
 "nbformat_minor": 2
}
