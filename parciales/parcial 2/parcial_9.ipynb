{
 "cells": [
  {
   "cell_type": "markdown",
   "metadata": {
    "slideshow": {
     "slide_type": "slide"
    }
   },
   "source": [
    "# Parcial 2"
   ]
  },
  {
   "cell_type": "markdown",
   "metadata": {
    "slideshow": {
     "slide_type": "slide"
    }
   },
   "source": [
    "## Punto 1 "
   ]
  },
  {
   "cell_type": "markdown",
   "metadata": {
    "slideshow": {
     "slide_type": "slide"
    }
   },
   "source": [
    "(15 puntos) Resuelva el problema con valor inicial dado aplicando el método de utilización del cambio de variable $v = y'$, $v' = y''$:\n",
    "\n",
    "$$ y'y'' - x = 0, \\quad \\quad y(1) = 2, \\quad y'(1) = 1. $$\n"
   ]
  },
  {
   "cell_type": "markdown",
   "metadata": {
    "slideshow": {
     "slide_type": "slide"
    }
   },
   "source": [
    "(10 puntos) Verifique por sustitución directa"
   ]
  },
  {
   "cell_type": "markdown",
   "metadata": {
    "slideshow": {
     "slide_type": "slide"
    }
   },
   "source": [
    "## Punto 2 "
   ]
  },
  {
   "cell_type": "markdown",
   "metadata": {
    "slideshow": {
     "slide_type": "slide"
    }
   },
   "source": [
    "(8 puntos) Muestre que las funciones $f(x) = x|x|$ y $g(x) = x^{2}$ son linealmente independientes en el intervalo $-1 < x < 1$."
   ]
  },
  {
   "cell_type": "markdown",
   "metadata": {
    "slideshow": {
     "slide_type": "slide"
    }
   },
   "source": [
    "(7 puntos) Calcule el wronskiano de $f(x) = x|x|$ y $g(x) = x^{2}$ para el intervalo $-1 < x < 1$ y saque una conclusión del resultado que obtenga"
   ]
  },
  {
   "cell_type": "markdown",
   "metadata": {
    "slideshow": {
     "slide_type": "slide"
    }
   },
   "source": [
    "(10 puntos) Justifique porque $f(x) = x|x|$ y $g(x) = x^{2}$ no pueden ser soluciones de la ecuación \n",
    "$$ y'' + p(x)y' + q(x)y = 0 $$\n",
    "\n",
    "con $p$ y $q$ continuas sobre $-1 < x < 1$. "
   ]
  },
  {
   "cell_type": "markdown",
   "metadata": {
    "slideshow": {
     "slide_type": "slide"
    }
   },
   "source": [
    "## Punto 3 "
   ]
  },
  {
   "cell_type": "markdown",
   "metadata": {
    "slideshow": {
     "slide_type": "slide"
    }
   },
   "source": [
    "(8 puntos) Muestre que $x$ y $x^{2}$ son linealmente independientes en el intervalo $-1 < x < 1$. "
   ]
  },
  {
   "cell_type": "markdown",
   "metadata": {
    "slideshow": {
     "slide_type": "slide"
    }
   },
   "source": [
    "(7 puntos) Muestre que $w(x,x^{2})$ es cero en $x = 0$. ¿Qué se puede concluir a partir de esto acerca de la posibilidad de que $x$ y $x^{2}$ sean soluciones de la ecuación $y'' + p(x)y' + q(x)y = 0$?.  "
   ]
  },
  {
   "cell_type": "markdown",
   "metadata": {
    "slideshow": {
     "slide_type": "slide"
    }
   },
   "source": [
    "(10 puntos) Verifique que $x$ y $x^{2}$ son soluciones de la ecuación \n",
    "$$x^{2}y''  - 2xy' + 2y = 0$$ \n",
    "¿Contradice esto la conclusión a la que se llegó?(Justifique utilizando los hechos teóricos vistos). \n",
    "La respuesta a la pregunta vale la mitad de este item. "
   ]
  },
  {
   "cell_type": "markdown",
   "metadata": {
    "slideshow": {
     "slide_type": "slide"
    }
   },
   "source": [
    "## Punto 4 "
   ]
  },
  {
   "cell_type": "markdown",
   "metadata": {
    "slideshow": {
     "slide_type": "slide"
    }
   },
   "source": [
    "(25 puntos) Si $y_{1}$ y $y_{2}$ son soluciones linealmente independientes de \n",
    "\n",
    "$$ x^{2}y'' -2y' + (3+x)y = 0 $$\n",
    "\n",
    "y si $w(y_{1}, y_{2})(2) = 3$, encuentre el valor de $w(y_{1}, y_{2})(4)$.\n",
    "\n",
    "No puede omitir pasos en su deducción y cada paso debe ser justificado.\n",
    "\n",
    "La justificación de todo el proceso vale la mitad del punto. \n"
   ]
  },
  {
   "cell_type": "markdown",
   "metadata": {
    "slideshow": {
     "slide_type": "slide"
    }
   },
   "source": [
    "## Resultados sugeridos a utilizar para la solución de este parcial"
   ]
  },
  {
   "cell_type": "markdown",
   "metadata": {
    "slideshow": {
     "slide_type": "slide"
    }
   },
   "source": [
    "Si $y_{1}$ y $y_{2}$ son soluciones linealmente independientes de la ED\n",
    "\n",
    "$$ y'' + p(x)y' + q(x)y = 0, $$\n",
    "\n",
    "donde $p$ y $q$ son continuas en un intervalo abierto $I$, entonces $w(y_{1}, y_{2})(x)$ es diferente de cero en $I$. "
   ]
  },
  {
   "cell_type": "markdown",
   "metadata": {
    "slideshow": {
     "slide_type": "slide"
    }
   },
   "source": [
    "* Sean $y_{1}$ y $y_{2}$ soluciones de la ecuación \n",
    "\n",
    "$$ y'' + p(x)y' + q(x)y = 0 $$\n",
    "\n",
    "en donde $p$ y $q$ son continuas sobre un intervalo abierto $I$. \n",
    "Entonces las cuatro proposiciones siguientes son equivalentes: \n",
    "1. Las funciones $y_{1}$ y $y_{2}$ son un conjunto fundamental de soluciones sobre $I$.\n",
    "2. Las funciones $y_{1}$ y $y_{2}$ son linealmente independientes sobre $I$.\n",
    "3. $w(y_{1}, y_{2})(x_{0}) \\neq 0$ para algún $x_{0}$ en $I$.\n",
    "4. $w(y_{1}, y_{2})(x) \\neq 0$ para toda $x$ en $I$. "
   ]
  },
  {
   "cell_type": "markdown",
   "metadata": {
    "slideshow": {
     "slide_type": "slide"
    }
   },
   "source": [
    "* **Teorema de Abel**  \n",
    "Si $y_{1}$ y $y_{2}$ son soluciones de la ecuación diferencial\n",
    "\n",
    "$$ y'' + p(x)y' + q(x)y = 0 $$\n",
    "\n",
    "en donde $p$ y $q$ son continuas sobre un intervalo abierto $I$, entonces\n",
    "\n",
    "$$ w(y_{1},y_{2}) = c\\exp\\left( - \\int p(x)dx \\right) $$\n",
    "\n",
    "En donde $c$ es cierta constante que depende de $y_{1}$ y $y_{2}$ pero no de $x$.   \n",
    "\n",
    "Si $c = 0$, $w = 0$.  \n",
    "Si $c \\neq $\n"
   ]
  },
  {
   "cell_type": "markdown",
   "metadata": {
    "slideshow": {
     "slide_type": "slide"
    }
   },
   "source": [
    "* Tada implicación y su contrarrecíproca son implicaciones con el mismo valor de verdad. \n",
    "* La negación de una conjunción es una disyunción"
   ]
  },
  {
   "cell_type": "code",
   "execution_count": null,
   "metadata": {},
   "outputs": [],
   "source": []
  }
 ],
 "metadata": {
  "celltoolbar": "Slideshow",
  "hide_input": false,
  "kernelspec": {
   "display_name": "Python 3",
   "language": "python",
   "name": "python3"
  },
  "language_info": {
   "codemirror_mode": {
    "name": "ipython",
    "version": 3
   },
   "file_extension": ".py",
   "mimetype": "text/x-python",
   "name": "python",
   "nbconvert_exporter": "python",
   "pygments_lexer": "ipython3",
   "version": "3.7.4"
  },
  "nbTranslate": {
   "displayLangs": [
    "*"
   ],
   "hotkey": "alt-t",
   "langInMainMenu": true,
   "sourceLang": "en",
   "targetLang": "es",
   "useGoogleTranslate": true
  },
  "rise": {
   "enable_chalkboard": true,
   "theme": "sky",
   "transition": "zoom"
  }
 },
 "nbformat": 4,
 "nbformat_minor": 2
}
