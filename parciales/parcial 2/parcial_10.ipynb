{
 "cells": [
  {
   "cell_type": "markdown",
   "metadata": {},
   "source": [
    "# Parcial 2"
   ]
  },
  {
   "cell_type": "markdown",
   "metadata": {},
   "source": [
    "## Punto 1\n",
    "(25 puntos)  Verifique que las funciones $y_{1}(x) = x$ y $y_{2} = \\sin(x)$ son soluciones de la ecuación diferencial:\n",
    "\n",
    "$$ (1 - x\\cot(x))y'' - xy' + y = 0, \\quad \\quad 0 < x < \\pi $$\n",
    "\n"
   ]
  },
  {
   "cell_type": "markdown",
   "metadata": {},
   "source": [
    "## Punto 2 \n",
    "(15 puntos) Encuentre el conjunto fundamental de soluciones especificado por el teorema 3.2.5 para la ecuación diferencial y el punto inicial dados. \n",
    "\n",
    "$$ y'' + y' - 2y = 0, \\quad \\quad x_{0} = 0$$\n",
    "\n",
    "(10 puntos)  Verifique su respuesta"
   ]
  },
  {
   "cell_type": "markdown",
   "metadata": {},
   "source": [
    "### Teorema 3.2.5  \n",
    "\n",
    "Considere la ecuación diferencial \n",
    "\n",
    "$$ y'' + p(x)y' + q(x)y = 0, $$\n",
    "\n",
    "cuyos coeficientes $p$ y $q$ son continuos sobre algún intervalo abierto $I$. Eliga algún punto $x_{0}$ en $I$.  \n",
    "Sea $y_{1}$ la solución de la ecuación anterior que satisface las condiciones iniciales \n",
    "\n",
    "$$ y_{1}(x_{0}) = 1, \\quad \\text{y} \\quad y_{1}'(x_{0}) = 0, $$\n",
    "\n",
    "y $y_{2}$ la solución de la ecuación anterior que satisface las condiciones iniciales \n",
    "\n",
    "$$ y_{2}(x_{0}) = 0, \\quad \\text{y} \\quad y_{2}'(x_{0}) = 1, $$\n",
    "\n",
    "Entonces $y_{1}$ y $y_{2}$ forman un conjunto fundamental de soluciones de la ecuación diferencial anterior. \n"
   ]
  },
  {
   "cell_type": "markdown",
   "metadata": {},
   "source": [
    "## Punto 3\n",
    "(15 puntos)  Si el wronskiano $w$ de $f$ y $g$ es $x^{2}e^{x}$ y si $f(x) = x$, halle $g(x)$\n",
    "Deje mostrar todo el proceso deductivo con las respectivas justificaciones.   \n",
    "Las justificaciones valen la mitad de este item.   \n",
    "(10 puntos)  Verifique su respuesta y finalice esta verificación redactando una conclusión. "
   ]
  },
  {
   "cell_type": "markdown",
   "metadata": {},
   "source": [
    "## Punto 4\n",
    "\n",
    "(25 puntos)  Encontrar el intervalo más largo en el que se tiene la certeza de que existe la solución del problema con valor inicial \n",
    "\n",
    "$$ (x^{2} - 3x)y'' + xy' - (x+3)y = 0, \\quad \\quad y(1) = 2, \\quad y'(1) = 1 $$\n",
    "\n",
    "Debe mostrar todo su proceso de solución con las respectivas justificaciones y graficación de las funciones involucradas.\n",
    "\n",
    "Las justificaciones y gráficas valen la mitad del punto "
   ]
  },
  {
   "cell_type": "code",
   "execution_count": null,
   "metadata": {},
   "outputs": [],
   "source": []
  },
  {
   "cell_type": "code",
   "execution_count": null,
   "metadata": {},
   "outputs": [],
   "source": []
  }
 ],
 "metadata": {
  "hide_input": false,
  "kernelspec": {
   "display_name": "Python 3",
   "language": "python",
   "name": "python3"
  },
  "language_info": {
   "codemirror_mode": {
    "name": "ipython",
    "version": 3
   },
   "file_extension": ".py",
   "mimetype": "text/x-python",
   "name": "python",
   "nbconvert_exporter": "python",
   "pygments_lexer": "ipython3",
   "version": "3.7.4"
  },
  "nbTranslate": {
   "displayLangs": [
    "*"
   ],
   "hotkey": "alt-t",
   "langInMainMenu": true,
   "sourceLang": "en",
   "targetLang": "fr",
   "useGoogleTranslate": true
  }
 },
 "nbformat": 4,
 "nbformat_minor": 2
}
