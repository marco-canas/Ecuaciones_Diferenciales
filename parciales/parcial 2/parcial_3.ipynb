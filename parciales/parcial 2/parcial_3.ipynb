{
 "cells": [
  {
   "cell_type": "markdown",
   "metadata": {},
   "source": [
    "# Parcial 2 EDO "
   ]
  },
  {
   "cell_type": "markdown",
   "metadata": {},
   "source": [
    "## Punto 1 "
   ]
  },
  {
   "cell_type": "markdown",
   "metadata": {},
   "source": [
    "Si una ecuación diferencial de segundo orden tiene la forma \n",
    "\n",
    "$$ y'' = f(y, y'), $$\n",
    "\n",
    "la variable independiente $x$ no está explícitamente, solo a través de la variable dependiente $y$. \n",
    "Si se hace que $v = y'$, entonces se obtiene \n",
    "\n",
    "$$ \\frac{dv}{dx} = f(y,v)  $$\n",
    "Como el segundo miembro de esta ecuación depende de $y$ y $v$, en lugar de $x$ y $v$, esta ecuación no es de la forma de las ecuaciones de primer orden analizadas en el capítulo 2. \n",
    "Sin embargo si se piensa en $y$ como variable independiente, entonces por la regla de la cadena\n",
    "\n",
    "$$ \\frac{dv}{dx} = \\left(\\frac{dv}{dy} \\right) \\left( \\frac{dy}{dx} \\right) = v \\frac{dv}{dy} $$\n",
    "En el supuesto de que sea posible resolver esta ecuación de primer orden, se obtiene $v$ como función de $y$. \n",
    "Al resolver \n",
    "\n",
    "$$ \\frac{dy}{dx} = v(y) $$\n",
    "\n",
    "resulta una relación entre $y$ y $x$. \n",
    "\n",
    "Una vez más en el resultado final aparecen dos constantes arbitrarias. \n",
    "\n",
    "(10 puntos) Para la siguiente ecuación diferencial, aplique este método para resolverla:\n",
    "\n",
    "$$ y'' + (y')^{2} = 2e^{-y} $$\n",
    "\n",
    "**Sugerencia:** La ecuación transformada es una ecuación de Bernoulli.  \n",
    "\n",
    "\n",
    "(Ojo: solo se acepta que para resolver esta ecuación, utilice el método aquí descrito.)\n",
    "\n",
    "(10 puntos) Verifique que la solución obtenida es correcta por sustitución directa. "
   ]
  },
  {
   "cell_type": "code",
   "execution_count": null,
   "metadata": {},
   "outputs": [],
   "source": []
  },
  {
   "cell_type": "markdown",
   "metadata": {},
   "source": [
    "## Punto 2"
   ]
  },
  {
   "cell_type": "markdown",
   "metadata": {},
   "source": [
    "Utilice el cambio de variable $z = \\ln(x)$ para resolver la ED:\n",
    "\n",
    "$$ x^{2}y''+ xy' + y = 0  \\quad \\quad x > 0 $$\n",
    "\n",
    "**Sugerencia:** \n",
    "* Este cambio de variable le permitirá obtener una ecuación de coeficientes constantes. \n",
    "* Para que la nueva ecuación quede en las variables $z$ y $y$, debe expresar $y' = \\frac{dy}{dx}$ \n",
    "  en términos de $\\frac{dy}{dz}$. \n",
    "  \n",
    "* $\\frac{dy}{dx} = \\frac{dy}{dz} \\cdot \\frac{dz}{dx}$\n",
    "* de donde se infiere que \n",
    "\n",
    "$$ \\frac{d^{2}y}{dx^{2}} = \\frac{dy}{dz} \\cdot \\frac{d^{2}z}{dx^{2}} + \\frac{d^{2}y}{dz^{2}} \\cdot \\frac{dz}{dx} \\cdot \\frac{dz}{dx}  = \\frac{dy}{dz} \\cdot \\frac{d^{2}z}{dx^{2}} + \\frac{d^{2}y}{dz^{2}} \\cdot \\left(\\frac{dz}{dx}\\right)^{2} $$\n"
   ]
  },
  {
   "cell_type": "code",
   "execution_count": null,
   "metadata": {},
   "outputs": [],
   "source": []
  },
  {
   "cell_type": "markdown",
   "metadata": {},
   "source": [
    "## Punto 3"
   ]
  },
  {
   "cell_type": "markdown",
   "metadata": {},
   "source": [
    "Suponga que la siguiente ED tiene solución de la forma $y = x^{r}$ para resolver la ED:\n",
    "\n",
    "$$ x^{2}y''+ xy' + y = 0  \\quad \\quad x > 0 $$\n",
    "\n",
    "**Sugerencia:** \n",
    "* Este cambio de variable le permitirá obtener una ecuación algebraica en la variable $r$.\n",
    "* Utilice además que $x = e^{\\ln x}$. \n",
    "\n"
   ]
  },
  {
   "cell_type": "code",
   "execution_count": null,
   "metadata": {},
   "outputs": [],
   "source": []
  },
  {
   "cell_type": "markdown",
   "metadata": {},
   "source": [
    "## Punto 4 "
   ]
  },
  {
   "cell_type": "markdown",
   "metadata": {},
   "source": [
    "**(10 puntos)** Encuentre el conjunto fundamental $\\{y_{1}, y_{2}\\}$ de soluciones de \n",
    "\n",
    "$$ y'' + 4y' + 3y = 0 $$\n",
    "\n",
    "\n",
    " tal que $y_{1}$ satisfaga que \n",
    " \n",
    " $$y_{1}(1) = 1, \\quad \\quad y_{1}(1) = 0$$\n",
    " \n",
    " y $y_{2}$ satisfaga que \n",
    " \n",
    " $$y_{2}(1) = 0, \\quad \\quad y_{2}(1) = 1 $$\n",
    " \n",
    " **(10 puntos)** Verifique su respuesta y al final redacte una conclusión que se derive de este proceso de verificación."
   ]
  },
  {
   "cell_type": "code",
   "execution_count": null,
   "metadata": {},
   "outputs": [],
   "source": []
  },
  {
   "cell_type": "code",
   "execution_count": null,
   "metadata": {},
   "outputs": [],
   "source": []
  },
  {
   "cell_type": "code",
   "execution_count": null,
   "metadata": {},
   "outputs": [],
   "source": []
  }
 ],
 "metadata": {
  "hide_input": false,
  "kernelspec": {
   "display_name": "Python 3",
   "language": "python",
   "name": "python3"
  },
  "language_info": {
   "codemirror_mode": {
    "name": "ipython",
    "version": 3
   },
   "file_extension": ".py",
   "mimetype": "text/x-python",
   "name": "python",
   "nbconvert_exporter": "python",
   "pygments_lexer": "ipython3",
   "version": "3.7.4"
  },
  "nbTranslate": {
   "displayLangs": [
    "*"
   ],
   "hotkey": "alt-t",
   "langInMainMenu": true,
   "sourceLang": "en",
   "targetLang": "fr",
   "useGoogleTranslate": true
  }
 },
 "nbformat": 4,
 "nbformat_minor": 2
}
