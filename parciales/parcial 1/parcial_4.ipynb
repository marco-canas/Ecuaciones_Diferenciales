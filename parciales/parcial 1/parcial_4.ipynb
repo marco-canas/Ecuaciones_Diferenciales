{
 "cells": [
  {
   "cell_type": "markdown",
   "metadata": {
    "slideshow": {
     "slide_type": "slide"
    }
   },
   "source": [
    "# Parcial 1 EDO (Supletorio)"
   ]
  },
  {
   "cell_type": "markdown",
   "metadata": {
    "slideshow": {
     "slide_type": "slide"
    }
   },
   "source": [
    "## Punto 1"
   ]
  },
  {
   "cell_type": "markdown",
   "metadata": {
    "slideshow": {
     "slide_type": "slide"
    }
   },
   "source": [
    "(5 puntos) Resuelva interpretándo como lineal:\n",
    "\n",
    "$$ y' - 4y = 2 $$"
   ]
  },
  {
   "cell_type": "markdown",
   "metadata": {
    "slideshow": {
     "slide_type": "skip"
    }
   },
   "source": [
    "$p(x) = -4$, de donde $\\mu(x) = e^{-4x}$. "
   ]
  },
  {
   "cell_type": "markdown",
   "metadata": {
    "slideshow": {
     "slide_type": "slide"
    }
   },
   "source": [
    "Multipliquemos la ecuación dada $y' - 4y = 2$ por esta factor integrante para obtener una forma integrable:\n",
    "\n",
    "$$ e^{-4x}y' - 4e^{-4x}y = 2e^{-4x} $$"
   ]
  },
  {
   "cell_type": "markdown",
   "metadata": {
    "slideshow": {
     "slide_type": "slide"
    }
   },
   "source": [
    "$$ [e^{-4x}y]' = 2e^{-4x} $$"
   ]
  },
  {
   "cell_type": "markdown",
   "metadata": {
    "slideshow": {
     "slide_type": "slide"
    }
   },
   "source": [
    "$$ \\int [e^{-4x}y]' dx = \\int 2e^{-4x}dx $$"
   ]
  },
  {
   "cell_type": "markdown",
   "metadata": {
    "slideshow": {
     "slide_type": "slide"
    }
   },
   "source": []
  },
  {
   "cell_type": "code",
   "execution_count": null,
   "metadata": {
    "slideshow": {
     "slide_type": "skip"
    }
   },
   "outputs": [],
   "source": []
  },
  {
   "cell_type": "markdown",
   "metadata": {
    "slideshow": {
     "slide_type": "slide"
    }
   },
   "source": [
    "(5 puntos) Resuelva interpretándo como separable:\n",
    "\n",
    "$$ y' - 4y = 2 $$\n"
   ]
  },
  {
   "cell_type": "markdown",
   "metadata": {
    "slideshow": {
     "slide_type": "slide"
    }
   },
   "source": [
    "Note que ya la ecuación dada está en la forma estándar de las ED lineales de primer orden y debemos llevarla a la forma estándar de las ED separables:\n",
    "\n",
    "$$ M(x)dx = N(y)dy $$\n",
    "\n"
   ]
  },
  {
   "cell_type": "markdown",
   "metadata": {
    "slideshow": {
     "slide_type": "slide"
    }
   },
   "source": [
    "$$\\frac{dy}{dx} = 4y + 2$$"
   ]
  },
  {
   "cell_type": "markdown",
   "metadata": {
    "slideshow": {
     "slide_type": "slide"
    }
   },
   "source": [
    "$$ dx = \\frac{1}{4y + 2}dy  $$"
   ]
  },
  {
   "cell_type": "markdown",
   "metadata": {
    "slideshow": {
     "slide_type": "slide"
    }
   },
   "source": [
    "$$ \\int dx = \\int \\frac{1}{2(2y + 1)}dy $$"
   ]
  },
  {
   "cell_type": "markdown",
   "metadata": {
    "slideshow": {
     "slide_type": "slide"
    }
   },
   "source": [
    "$$ \\int dx = \\frac{1}{2} \\int \\frac{1}{2y + 1}dy $$"
   ]
  },
  {
   "cell_type": "code",
   "execution_count": null,
   "metadata": {
    "slideshow": {
     "slide_type": "slide"
    }
   },
   "outputs": [],
   "source": []
  },
  {
   "cell_type": "code",
   "execution_count": null,
   "metadata": {
    "slideshow": {
     "slide_type": "slide"
    }
   },
   "outputs": [],
   "source": []
  },
  {
   "cell_type": "code",
   "execution_count": null,
   "metadata": {
    "slideshow": {
     "slide_type": "skip"
    }
   },
   "outputs": [],
   "source": []
  },
  {
   "cell_type": "markdown",
   "metadata": {
    "slideshow": {
     "slide_type": "slide"
    }
   },
   "source": [
    "(10 puntos) Verifique por sustitución directa"
   ]
  },
  {
   "cell_type": "code",
   "execution_count": null,
   "metadata": {
    "slideshow": {
     "slide_type": "slide"
    }
   },
   "outputs": [],
   "source": []
  },
  {
   "cell_type": "code",
   "execution_count": null,
   "metadata": {
    "slideshow": {
     "slide_type": "slide"
    }
   },
   "outputs": [],
   "source": []
  },
  {
   "cell_type": "code",
   "execution_count": null,
   "metadata": {
    "slideshow": {
     "slide_type": "skip"
    }
   },
   "outputs": [],
   "source": []
  },
  {
   "cell_type": "markdown",
   "metadata": {
    "slideshow": {
     "slide_type": "slide"
    }
   },
   "source": [
    "## Punto 2 "
   ]
  },
  {
   "cell_type": "markdown",
   "metadata": {
    "slideshow": {
     "slide_type": "slide"
    }
   },
   "source": [
    "Resolver la ED utilizando el método de las ED separables.\n",
    "$$ ydx + xdy = 0 $$"
   ]
  },
  {
   "cell_type": "markdown",
   "metadata": {
    "slideshow": {
     "slide_type": "slide"
    }
   },
   "source": [
    "Resolver la ED utilizando el método de las ED exactas.\n",
    "$$ ydx + xdy = 0 $$\n",
    "\n",
    "**Ojo: halle la solución general explícita e interpretela geométricamente** "
   ]
  },
  {
   "cell_type": "markdown",
   "metadata": {
    "slideshow": {
     "slide_type": "slide"
    }
   },
   "source": [
    "Grafique tres de las soluciones"
   ]
  },
  {
   "cell_type": "code",
   "execution_count": 1,
   "metadata": {
    "slideshow": {
     "slide_type": "slide"
    }
   },
   "outputs": [],
   "source": [
    "import numpy as np \n",
    "import matplotlib.pyplot as plt "
   ]
  },
  {
   "cell_type": "code",
   "execution_count": null,
   "metadata": {},
   "outputs": [],
   "source": []
  },
  {
   "cell_type": "markdown",
   "metadata": {
    "slideshow": {
     "slide_type": "slide"
    }
   },
   "source": [
    "Realizar verificación por sustitución directa"
   ]
  },
  {
   "cell_type": "code",
   "execution_count": null,
   "metadata": {},
   "outputs": [],
   "source": []
  },
  {
   "cell_type": "markdown",
   "metadata": {
    "slideshow": {
     "slide_type": "slide"
    }
   },
   "source": [
    "## Punto 3 "
   ]
  },
  {
   "cell_type": "markdown",
   "metadata": {
    "slideshow": {
     "slide_type": "slide"
    }
   },
   "source": [
    "(10 puntos) Muestre con un ejemplo que toda ecuación de la forma:\n",
    "\n",
    "$$M(x) + N(y)y' = 0$$\n",
    "\n",
    "es exacta. \n"
   ]
  },
  {
   "cell_type": "markdown",
   "metadata": {
    "slideshow": {
     "slide_type": "slide"
    }
   },
   "source": [
    "### Solución:"
   ]
  },
  {
   "cell_type": "markdown",
   "metadata": {
    "slideshow": {
     "slide_type": "slide"
    }
   },
   "source": [
    "Tomemos \n",
    "$$ x + yy' = 0 $$"
   ]
  },
  {
   "cell_type": "markdown",
   "metadata": {
    "slideshow": {
     "slide_type": "slide"
    }
   },
   "source": [
    "Mostremos que esta ecuación es exacta: "
   ]
  },
  {
   "cell_type": "code",
   "execution_count": null,
   "metadata": {
    "slideshow": {
     "slide_type": "slide"
    }
   },
   "outputs": [],
   "source": []
  },
  {
   "cell_type": "code",
   "execution_count": null,
   "metadata": {
    "slideshow": {
     "slide_type": "slide"
    }
   },
   "outputs": [],
   "source": []
  },
  {
   "cell_type": "markdown",
   "metadata": {
    "slideshow": {
     "slide_type": "slide"
    }
   },
   "source": [
    "(5 puntos) Para el ejemplo propuesto por usted, resuelva interpretando como separable \n",
    "(5 puntos) y luego resuelva interpretándola como exacta. "
   ]
  },
  {
   "cell_type": "code",
   "execution_count": null,
   "metadata": {
    "slideshow": {
     "slide_type": "slide"
    }
   },
   "outputs": [],
   "source": []
  },
  {
   "cell_type": "markdown",
   "metadata": {
    "slideshow": {
     "slide_type": "slide"
    }
   },
   "source": [
    "## Gráfica de algunas curvas integrales "
   ]
  },
  {
   "cell_type": "code",
   "execution_count": 2,
   "metadata": {
    "slideshow": {
     "slide_type": "slide"
    }
   },
   "outputs": [
    {
     "name": "stderr",
     "output_type": "stream",
     "text": [
      "C:\\Users\\Usuario\\Anaconda3\\lib\\site-packages\\ipykernel_launcher.py:5: RuntimeWarning: invalid value encountered in sqrt\n",
      "  \"\"\"\n",
      "C:\\Users\\Usuario\\Anaconda3\\lib\\site-packages\\ipykernel_launcher.py:5: RuntimeWarning: invalid value encountered in sqrt\n",
      "  \"\"\"\n"
     ]
    },
    {
     "data": {
      "image/png": "[encoded data removed]",
      "text/plain": [
       "<Figure size 432x288 with 1 Axes>"
      ]
     },
     "metadata": {
      "needs_background": "light"
     },
     "output_type": "display_data"
    },
    {
     "data": {
      "text/plain": [
       "<Figure size 432x288 with 0 Axes>"
      ]
     },
     "metadata": {},
     "output_type": "display_data"
    }
   ],
   "source": [
    "import numpy as np \n",
    "import matplotlib.pyplot as plt \n",
    "x=np.linspace(-np.sqrt(12),np.sqrt(12),300) \n",
    "for c in [4,5,6]:\n",
    "    plt.plot(x,np.sqrt(c-x**2/2)) \n",
    "    \n",
    "plt.grid()  \n",
    "plt.show()\n",
    "plt.savefig('curvas_integrales.jpg')    "
   ]
  },
  {
   "cell_type": "markdown",
   "metadata": {
    "slideshow": {
     "slide_type": "slide"
    }
   },
   "source": [
    "Note que las curvas integrales son semicircunferencias de radio $\\sqrt{2c}$. \n",
    "En efecto, \n",
    "\n",
    "$$ \\frac{x^{2}}{2} + \\frac{y^{2}}{2} = c \\quad \\quad \\Rightarrow \\quad \\quad  x^{2} + y^{2} = 2c $$\n"
   ]
  },
  {
   "cell_type": "code",
   "execution_count": null,
   "metadata": {
    "slideshow": {
     "slide_type": "skip"
    }
   },
   "outputs": [],
   "source": []
  },
  {
   "cell_type": "markdown",
   "metadata": {
    "slideshow": {
     "slide_type": "slide"
    }
   },
   "source": [
    "## Punto 4"
   ]
  },
  {
   "cell_type": "markdown",
   "metadata": {
    "slideshow": {
     "slide_type": "slide"
    }
   },
   "source": [
    "$$ \\left( 3x + \\frac{6}{y} \\right) + \\left( \\frac{x^{2}}{y} + 3\\frac{y}{x} \\right)\\frac{dy}{dx} = 0 $$\n",
    "\n",
    "Ejercicio tomado de la página 103 del Boyce DiPrima. "
   ]
  },
  {
   "cell_type": "markdown",
   "metadata": {
    "slideshow": {
     "slide_type": "slide"
    }
   },
   "source": [
    "**Sugerencia:** \n",
    "\n",
    "Una forma de solucionar esta ecuación es determinar una factor integrante $\\mu$ que es función del producto de las variables $x$ y $y$, es decir, debemos determinar $\\mu = \\mu(x,y) =\\mu(xy)$.\n",
    "\n",
    "Calcule pues un factor integrante $\\mu(xy)$ dado por \n",
    "\n",
    "$$ \\mu(xy) = \\exp \\left( \\int R(xy)dxy \\right) $$\n",
    "\n",
    "donde \n",
    "\n",
    "$$R(xy) = \\frac{N_{x}- M_{y}}{xM - yN} $$"
   ]
  },
  {
   "cell_type": "markdown",
   "metadata": {
    "slideshow": {
     "slide_type": "slide"
    }
   },
   "source": [
    "## Solución"
   ]
  },
  {
   "cell_type": "markdown",
   "metadata": {
    "slideshow": {
     "slide_type": "slide"
    }
   },
   "source": [
    "Empecemos calculando a la función $R = R(xy)$: \n",
    "\n",
    "$$R(xy) = \\frac{N_{x}- M_{y}}{xM - yN} $$"
   ]
  },
  {
   "cell_type": "markdown",
   "metadata": {
    "slideshow": {
     "slide_type": "slide"
    }
   },
   "source": [
    "$$ N_{x} =  $$"
   ]
  },
  {
   "cell_type": "markdown",
   "metadata": {
    "slideshow": {
     "slide_type": "slide"
    }
   },
   "source": [
    "$$ M_{y} =  $$"
   ]
  },
  {
   "cell_type": "markdown",
   "metadata": {
    "slideshow": {
     "slide_type": "slide"
    }
   },
   "source": [
    "$$ xM =  $$"
   ]
  },
  {
   "cell_type": "markdown",
   "metadata": {
    "slideshow": {
     "slide_type": "slide"
    }
   },
   "source": [
    "$$ yN =  $$"
   ]
  },
  {
   "cell_type": "markdown",
   "metadata": {
    "slideshow": {
     "slide_type": "slide"
    }
   },
   "source": [
    "$$ R = R(xy) = \\frac{N_{x} - M_{y}}{xM - yN} = \\frac{}{} $$"
   ]
  },
  {
   "cell_type": "code",
   "execution_count": null,
   "metadata": {
    "slideshow": {
     "slide_type": "skip"
    }
   },
   "outputs": [],
   "source": []
  },
  {
   "cell_type": "markdown",
   "metadata": {
    "slideshow": {
     "slide_type": "slide"
    }
   },
   "source": [
    "**(10 puntos)** Determine si es aplicable el método de las ED homogéneas de primer orden es decir, determine si la ED dada se puede llevar a la forma \n",
    "\n",
    "$$y' = f(y/x)$$\n",
    "\n",
    "En caso afirmativo resuelva la ED. \n",
    "En caso negativo, justifique muy bien cada paso de su proceso. "
   ]
  },
  {
   "cell_type": "markdown",
   "metadata": {
    "slideshow": {
     "slide_type": "slide"
    }
   },
   "source": [
    "$$ \\left( 3x + \\frac{6}{y} \\right) + \\left( \\frac{x^{2}}{y} + 3\\frac{y}{x} \\right)\\frac{dy}{dx} = 0 $$"
   ]
  },
  {
   "cell_type": "markdown",
   "metadata": {
    "slideshow": {
     "slide_type": "slide"
    }
   },
   "source": [
    "Eliminemos los denominadores multiplicando el numerador y el denominador por $xy$:\n",
    "\n",
    "$$ (3x^{2}y + 6x) + (x^{3} + 3y^{2})y' = 0 $$ "
   ]
  },
  {
   "cell_type": "markdown",
   "metadata": {
    "slideshow": {
     "slide_type": "slide"
    }
   },
   "source": [
    "Despejemos a $y'$:  \n",
    "\n",
    "$$ y' = -\\frac{3x^{2}y + 6x}{x^{3} + 3y^{2}} $$"
   ]
  },
  {
   "cell_type": "markdown",
   "metadata": {
    "slideshow": {
     "slide_type": "slide"
    }
   },
   "source": [
    "Observemos el primer término $3x^{2}y$ del numerador de la fracción del lado derecho.  \n",
    "Para llevar este término a una forma $g(y/x)$ es necesario dividirlo por $x^{3}$ para obtener \n",
    "\n",
    "$$ \\frac{3x^{2}y}{x^{3}} = 3 \\cdot \\frac{y}{x} $$\n"
   ]
  },
  {
   "cell_type": "markdown",
   "metadata": {
    "slideshow": {
     "slide_type": "slide"
    }
   },
   "source": [
    "Note que no es posible simplificar la fracción del lado derecho dividiendo por alguna potencia $x^{n}$ de $x$ que lleve a esta fracción a ser una función de la forma $f(y/x)$, por lo tanto, esta ED no es homogénea y luego, no es aplicable el cambio de variable que hace de esta ecuaciones, una ED separable. "
   ]
  },
  {
   "cell_type": "code",
   "execution_count": null,
   "metadata": {
    "slideshow": {
     "slide_type": "skip"
    }
   },
   "outputs": [],
   "source": []
  },
  {
   "cell_type": "markdown",
   "metadata": {
    "slideshow": {
     "slide_type": "slide"
    }
   },
   "source": [
    "(10 puntos) Verifique derivando la solución obtenida para retornar o recuperar la ED dada. "
   ]
  },
  {
   "cell_type": "markdown",
   "metadata": {
    "slideshow": {
     "slide_type": "slide"
    }
   },
   "source": [
    "Mostremos que la ED: \n",
    "$$ \\left( 3x + \\frac{6}{y} \\right) + \\left( \\frac{x^{2}}{y} + 3\\frac{y}{x} \\right)\\frac{dy}{dx} = 0 $$\n",
    "\n",
    "tiene por solución:\n",
    "\n",
    "$$ x^{3}y + 3x^{2} + y^{3} = c $$\n"
   ]
  },
  {
   "cell_type": "markdown",
   "metadata": {
    "slideshow": {
     "slide_type": "slide"
    }
   },
   "source": [
    "En efecto, \n",
    "\n",
    "$$ \\frac{d}{dx} \\left( x^{3}y + 3x^{2} + y^{3} = c \\right) $$"
   ]
  },
  {
   "cell_type": "markdown",
   "metadata": {
    "slideshow": {
     "slide_type": "slide"
    }
   },
   "source": [
    "$$ \\frac{d}{dx}(x^{3}y) + \\frac{d}{dx}(3x^{2}) + \\frac{d}{dx}(y^{3}) = 0 $$"
   ]
  },
  {
   "cell_type": "markdown",
   "metadata": {
    "slideshow": {
     "slide_type": "slide"
    }
   },
   "source": []
  },
  {
   "cell_type": "code",
   "execution_count": null,
   "metadata": {
    "slideshow": {
     "slide_type": "slide"
    }
   },
   "outputs": [],
   "source": []
  },
  {
   "cell_type": "code",
   "execution_count": null,
   "metadata": {
    "slideshow": {
     "slide_type": "skip"
    }
   },
   "outputs": [],
   "source": []
  },
  {
   "cell_type": "markdown",
   "metadata": {
    "slideshow": {
     "slide_type": "slide"
    }
   },
   "source": [
    "## Punto 5 "
   ]
  },
  {
   "cell_type": "markdown",
   "metadata": {
    "slideshow": {
     "slide_type": "slide"
    }
   },
   "source": [
    "$$\\left( \\frac{\\sin(y)}{y} - 2e^{-x}\\sin(x)   \\right)dx + \\left( \\frac{\\cos(y) + 2e^{-x}\\cos(x) }{y} \\right)dy = 0, \\quad \\quad \\mu(x,y) = ye^{x} $$"
   ]
  },
  {
   "cell_type": "markdown",
   "metadata": {
    "slideshow": {
     "slide_type": "slide"
    }
   },
   "source": [
    "* (5 puntos) Muestre que la ecuación dada no es exacta"
   ]
  },
  {
   "cell_type": "markdown",
   "metadata": {
    "slideshow": {
     "slide_type": "slide"
    }
   },
   "source": [
    "$$M(x,y) = y^{-1}\\sin(y) - 2e^{-x}\\sin(x) $$"
   ]
  },
  {
   "cell_type": "markdown",
   "metadata": {
    "slideshow": {
     "slide_type": "slide"
    }
   },
   "source": [
    "$$M_{y} = y^{-1}\\cos(y) + (-1)y^{-2}\\sin(y) $$"
   ]
  },
  {
   "cell_type": "markdown",
   "metadata": {
    "slideshow": {
     "slide_type": "slide"
    }
   },
   "source": [
    "$$ M_{y} = \\frac{\\cos(y)}{y} - \\frac{\\sin(y)}{y^{2}} $$"
   ]
  },
  {
   "cell_type": "markdown",
   "metadata": {
    "slideshow": {
     "slide_type": "slide"
    }
   },
   "source": [
    "$$ M_{y} = \\frac{y\\cos(y)}{y^{2}} - \\frac{\\sin(y)}{y^{2}} $$"
   ]
  },
  {
   "cell_type": "markdown",
   "metadata": {
    "slideshow": {
     "slide_type": "slide"
    }
   },
   "source": [
    "$$ M_{y} = \\frac{y\\cos(y) - \\sin(y)}{y^{2}} $$"
   ]
  },
  {
   "cell_type": "markdown",
   "metadata": {
    "slideshow": {
     "slide_type": "slide"
    }
   },
   "source": [
    "$$ N(x,y) = y^{-1}\\cos(y) + y^{-1}(2e^{-x}\\cos(x)) $$"
   ]
  },
  {
   "cell_type": "markdown",
   "metadata": {
    "slideshow": {
     "slide_type": "slide"
    }
   },
   "source": [
    "$$ N_{x} = y^{-1}(-\\sin(y)) + (-1)y^{-2}\\cos(y) + (2e^{-x}\\cos(x)) \\cdot \\left(-\\frac{1}{y^{2}}\\right) $$"
   ]
  },
  {
   "cell_type": "markdown",
   "metadata": {
    "slideshow": {
     "slide_type": "slide"
    }
   },
   "source": [
    "$$ N_{x} = -\\frac{\\sin(y)}{y} - \\frac{\\cos(y)}{y^{2}} - \\frac{2e^{-x}\\cos(x)}{y^{2}} $$"
   ]
  },
  {
   "cell_type": "markdown",
   "metadata": {
    "slideshow": {
     "slide_type": "slide"
    }
   },
   "source": [
    "$$ N_{x} =  -\\frac{y\\sin(y)}{y^{2}} - \\frac{\\cos(y)}{y^{2}} - \\frac{2e^{-x}\\cos(x)}{y^{2}}  $$"
   ]
  },
  {
   "cell_type": "markdown",
   "metadata": {
    "slideshow": {
     "slide_type": "slide"
    }
   },
   "source": [
    "$$ N_{x} = -\\frac{y\\sin(y) + \\cos(y) + 2e^{-x}\\cos(x)}{y^{2}} $$"
   ]
  },
  {
   "cell_type": "markdown",
   "metadata": {
    "slideshow": {
     "slide_type": "slide"
    }
   },
   "source": [
    "|$M_{y}$|$N_{x}$|  \n",
    "|-------|-------|  \n",
    "|$ M_{y} = \\frac{y\\cos(y) - \\sin(y)}{y^{2}} $|$ N_{x} = -\\frac{y\\sin(y) + \\cos(y) + 2e^{-x}\\cos(x)}{y^{2}} $|\n",
    "\n",
    "por tanto, la ED dada no es exacta. "
   ]
  },
  {
   "cell_type": "markdown",
   "metadata": {
    "slideshow": {
     "slide_type": "slide"
    }
   },
   "source": [
    "Multipliquemos la ED dada \n",
    "$$\\left( \\frac{\\sin(y)}{y} - 2e^{-x}\\sin(x)   \\right)dx + \\left( \\frac{\\cos(y) + 2e^{-x}\\cos(x) }{y} \\right)dy = 0,$$ \n",
    "\n",
    "por el factor integrante propuesto: $\\mu(x,y) = ye^{x} $. "
   ]
  },
  {
   "cell_type": "markdown",
   "metadata": {
    "slideshow": {
     "slide_type": "slide"
    }
   },
   "source": [
    "$$ (e^{x}\\sin(y) - 2y\\sin(x))dx + (e^{x}\\cos(y) + 2\\cos(x))dy = 0  $$"
   ]
  },
  {
   "cell_type": "markdown",
   "metadata": {
    "slideshow": {
     "slide_type": "slide"
    }
   },
   "source": [
    "Ahora, mostramos que la ecuación obtenida\n",
    "\n",
    "$$ (e^{x}\\sin(y) - 2y\\sin(x))dx + (e^{x}\\cos(y) + 2\\cos(x))dy = 0  $$\n",
    "\n",
    "es exacta:\n",
    "\n",
    "\n"
   ]
  },
  {
   "cell_type": "markdown",
   "metadata": {
    "slideshow": {
     "slide_type": "slide"
    }
   },
   "source": [
    "Para ello identifiquemos $\\hat{M}$ y $\\hat{N}$:\n",
    "\n",
    "$$ \\hat{M} = (e^{x}\\sin(y) - 2y\\sin(x)) \\quad \\quad \\hat{N} = (e^{x}\\cos(y) + 2\\cos(x))  $$\n"
   ]
  },
  {
   "cell_type": "code",
   "execution_count": null,
   "metadata": {
    "slideshow": {
     "slide_type": "skip"
    }
   },
   "outputs": [],
   "source": []
  },
  {
   "cell_type": "markdown",
   "metadata": {
    "slideshow": {
     "slide_type": "slide"
    }
   },
   "source": [
    "* (5 puntos) Muestre que al multiplicar por el factor integrante $\\mu = ye^{x}$ la ED dada se hace exacta. "
   ]
  },
  {
   "cell_type": "markdown",
   "metadata": {
    "slideshow": {
     "slide_type": "slide"
    }
   },
   "source": [
    "Calculemos $\\hat{M}_{y}$ y $\\hat{N}_{x}$ y veamos que son iguales. "
   ]
  },
  {
   "cell_type": "markdown",
   "metadata": {
    "slideshow": {
     "slide_type": "slide"
    }
   },
   "source": [
    "\\begin{align*}\n",
    "M = e^{x}\\sin(y) - 2y\\sin(x) & \\Rightarrow \\hat{M}_{y} = e^{x}\\cos(y) - 2\\sin(x) \\\\\n",
    "N = e^{x}\\cos(y) + 2\\cos(x)  & \\Rightarrow \\hat{N}_{x} = e^{x}\\cos(y) - 2\\sin(x)  \n",
    "\\end{align*}"
   ]
  },
  {
   "cell_type": "markdown",
   "metadata": {
    "slideshow": {
     "slide_type": "slide"
    }
   },
   "source": [
    "Por tanto, $\\hat{M}_{y} = \\hat{N}_{x}$ y así, la ecuación ED nueva es exacta. "
   ]
  },
  {
   "cell_type": "code",
   "execution_count": null,
   "metadata": {
    "slideshow": {
     "slide_type": "skip"
    }
   },
   "outputs": [],
   "source": []
  },
  {
   "cell_type": "markdown",
   "metadata": {
    "slideshow": {
     "slide_type": "slide"
    }
   },
   "source": [
    "* (5 puntos) Resuelva la exacta obtenida al multiplicar la dada por el factor integrante dado.  "
   ]
  },
  {
   "cell_type": "markdown",
   "metadata": {
    "slideshow": {
     "slide_type": "slide"
    }
   },
   "source": [
    "$$ \\psi = \\int \\hat{M}dx + h(y) $$\n",
    "\n",
    "$$\\psi = \\int \\left(e^{x}\\sin(y) - 2y\\sin(x) \\right) dx  + h(y) $$"
   ]
  },
  {
   "cell_type": "markdown",
   "metadata": {
    "slideshow": {
     "slide_type": "slide"
    }
   },
   "source": [
    "$$ \\psi = \\sin(y)e^{x} + 2y\\cos(x) + h(y) $$"
   ]
  },
  {
   "cell_type": "markdown",
   "metadata": {
    "slideshow": {
     "slide_type": "slide"
    }
   },
   "source": [
    "$$ \\psi_{y} = e^{x}\\cos(y) + 2\\cos(x) +  h'(y) = N = e^{x}\\cos(y) + 2\\cos(x)  $$"
   ]
  },
  {
   "cell_type": "markdown",
   "metadata": {
    "slideshow": {
     "slide_type": "slide"
    }
   },
   "source": [
    "$$h'(y) = 0  \\Rightarrow \\quad h(y) = k$$\n",
    "\n",
    "donde $k$ es una constante arbitraria. "
   ]
  },
  {
   "cell_type": "markdown",
   "metadata": {
    "slideshow": {
     "slide_type": "slide"
    }
   },
   "source": [
    "$$ \\psi = c \\quad  \\quad \\iff \\quad \\quad  \\sin(y)e^{x} + 2y\\cos(x) = c $$\n",
    "\n"
   ]
  },
  {
   "cell_type": "code",
   "execution_count": null,
   "metadata": {
    "slideshow": {
     "slide_type": "skip"
    }
   },
   "outputs": [],
   "source": []
  },
  {
   "cell_type": "markdown",
   "metadata": {
    "slideshow": {
     "slide_type": "slide"
    }
   },
   "source": [
    "* (5 puntos) Verifique utilizando el proceso de diferenciación implícita para obtener de la solución general a la ED dada. "
   ]
  },
  {
   "cell_type": "markdown",
   "metadata": {
    "slideshow": {
     "slide_type": "slide"
    }
   },
   "source": [
    "$$ \\frac{d}{dx} \\left( \\sin(y)e^{x} + 2y\\cos(x) = c \\right) $$"
   ]
  },
  {
   "cell_type": "markdown",
   "metadata": {
    "slideshow": {
     "slide_type": "slide"
    }
   },
   "source": [
    "$$ (\\sin(y)e^{x} + \\cos(y)y'e^{x}) + (2y(-\\sin(x)) + 2y'\\cos(x)) = 0 $$"
   ]
  },
  {
   "cell_type": "markdown",
   "metadata": {
    "slideshow": {
     "slide_type": "slide"
    }
   },
   "source": [
    "$$ (\\sin(y)e^{x} - 2y\\sin(x)) + (\\cos(y)e^{x} + 2\\cos(x))y' = 0  $$"
   ]
  },
  {
   "cell_type": "markdown",
   "metadata": {
    "slideshow": {
     "slide_type": "slide"
    }
   },
   "source": [
    "Dividiendo por $ye^{x}$ obtenemos la ecuación diferencial original:\n",
    "\n",
    "$$ \\left( \\right) + \\left( \\right)y' = 0 $$"
   ]
  },
  {
   "cell_type": "markdown",
   "metadata": {
    "slideshow": {
     "slide_type": "slide"
    }
   },
   "source": [
    "**Conclusión:**"
   ]
  },
  {
   "cell_type": "code",
   "execution_count": null,
   "metadata": {
    "slideshow": {
     "slide_type": "skip"
    }
   },
   "outputs": [],
   "source": []
  },
  {
   "cell_type": "markdown",
   "metadata": {
    "slideshow": {
     "slide_type": "slide"
    }
   },
   "source": [
    "## Verificación con sympy "
   ]
  },
  {
   "cell_type": "code",
   "execution_count": 3,
   "metadata": {
    "slideshow": {
     "slide_type": "slide"
    }
   },
   "outputs": [],
   "source": [
    "from sympy import * \n",
    "x,y=symbols('x y') \n",
    "y = Function('y')(x) \n",
    "ED = (exp(x)*sin(y) - 2*sin(x)) + (exp(x)*cos(y) + 2*cos(x))*diff(y,x)\n",
    "# dsolve(ED,y) # el tiempo de espera es enorme \n",
    "# cuando el factor integrante es función de dos variables la solución que entrega sympy es muy compleja"
   ]
  },
  {
   "cell_type": "markdown",
   "metadata": {
    "slideshow": {
     "slide_type": "slide"
    }
   },
   "source": [
    "**Conclusión:** Sympy tarda mucho en encontrar una solución a esta ecuación. Y la respuesta que da es muy complicada e inmanejable. "
   ]
  },
  {
   "cell_type": "markdown",
   "metadata": {
    "slideshow": {
     "slide_type": "slide"
    }
   },
   "source": [
    "La ED equivalente es: \n",
    "\n",
    "$$ (e^{x}\\sin(y) - 2y\\sin(x))dx + (e^{x}\\cos(y) + 2\\cos(x))dy = 0  $$\n"
   ]
  },
  {
   "cell_type": "code",
   "execution_count": null,
   "metadata": {
    "slideshow": {
     "slide_type": "skip"
    }
   },
   "outputs": [],
   "source": []
  },
  {
   "cell_type": "markdown",
   "metadata": {
    "slideshow": {
     "slide_type": "slide"
    }
   },
   "source": [
    "## Trazado de algunas curvas integrales "
   ]
  },
  {
   "cell_type": "code",
   "execution_count": 4,
   "metadata": {
    "slideshow": {
     "slide_type": "slide"
    }
   },
   "outputs": [
    {
     "data": {
      "image/png": "[encoded data removed]",
      "text/plain": [
       "<Figure size 432x288 with 1 Axes>"
      ]
     },
     "metadata": {
      "needs_background": "light"
     },
     "output_type": "display_data"
    }
   ],
   "source": [
    "import numpy as np \n",
    "import matplotlib.pyplot as plt \n",
    "from numpy import arange\n",
    "from numpy import meshgrid\n",
    "\n",
    "delta = 0.025\n",
    "xrange = arange(-5.0, 5.0, delta)\n",
    "yrange = arange(-5.0, 5.0, delta)\n",
    "X, Y = meshgrid(xrange,yrange)\n",
    "\n",
    "# F is one side of the equation, G is the other\n",
    "c=3 \n",
    "F = np.sin(Y)*np.exp(X) + 2*Y*np.cos(X)\n",
    "G = c\n",
    "plt.contour(X, Y, (F - G), [0])\n",
    "plt.savefig('curva_integral_1.jpg')\n",
    "plt.show()"
   ]
  },
  {
   "cell_type": "markdown",
   "metadata": {
    "slideshow": {
     "slide_type": "slide"
    }
   },
   "source": [
    "## Punto 6 (Opcional)"
   ]
  },
  {
   "cell_type": "markdown",
   "metadata": {
    "slideshow": {
     "slide_type": "slide"
    }
   },
   "source": [
    "Muestre que si $$ \\frac{N_{x} - M_{y}}{xM-yN} = R $$\n",
    "\n",
    "en donde $R$ depende solamente de la cantidad $xy$, entonces la ecuación diferencial \n",
    "\n",
    "$$ M+Ny' = 0 $$\n",
    "\n",
    "tiene un factor integrante de la forma $\\mu(xy)$.   \n",
    "Deduzca la forma general de $\\mu$"
   ]
  },
  {
   "cell_type": "code",
   "execution_count": null,
   "metadata": {
    "slideshow": {
     "slide_type": "slide"
    }
   },
   "outputs": [],
   "source": []
  },
  {
   "cell_type": "markdown",
   "metadata": {
    "slideshow": {
     "slide_type": "slide"
    }
   },
   "source": [
    "### Solución:"
   ]
  },
  {
   "cell_type": "markdown",
   "metadata": {
    "slideshow": {
     "slide_type": "slide"
    }
   },
   "source": [
    "Para la ecuación diferencial de la forma\n",
    "\n",
    "$$M + Ny'=0$$\n",
    "\n",
    "tenemos que ella representa una ecuación exacta si \n",
    "\n",
    "$$M_{y} = N_{x}$$\n",
    "\n"
   ]
  },
  {
   "cell_type": "markdown",
   "metadata": {
    "slideshow": {
     "slide_type": "slide"
    }
   },
   "source": [
    "Pero en nuestro caso, la situación no se satisface. "
   ]
  },
  {
   "cell_type": "markdown",
   "metadata": {
    "slideshow": {
     "slide_type": "slide"
    }
   },
   "source": [
    "Entonces, debemos multiplicar la ecuación diferencial, por un factor integrante $\\mu(x,y)$ "
   ]
  },
  {
   "cell_type": "markdown",
   "metadata": {
    "slideshow": {
     "slide_type": "slide"
    }
   },
   "source": [
    "$$\\mu[M+Ny']=0$$"
   ]
  },
  {
   "cell_type": "markdown",
   "metadata": {
    "slideshow": {
     "slide_type": "slide"
    }
   },
   "source": [
    "Así, la ecuación diferencial exacta anterior satisface que:\n",
    "\n",
    "$$(\\mu M)_{y} = (\\mu N)_{x} $$\n"
   ]
  },
  {
   "cell_type": "markdown",
   "metadata": {
    "slideshow": {
     "slide_type": "slide"
    }
   },
   "source": [
    "de donde obtenemos:"
   ]
  },
  {
   "cell_type": "markdown",
   "metadata": {
    "slideshow": {
     "slide_type": "slide"
    }
   },
   "source": [
    "\\begin{align*}\n",
    "(\\mu M)_{y} & = (\\mu N)_{x} \\\\\n",
    "\\mu M_{y} + \\mu_{y}M & = \\mu N_{x} + \\mu_{x}N \\\\\n",
    "\\mu_{y}M - \\mu_{x}N & = \\mu N_{x} - \\mu M_{y} \\\\\n",
    "\\mu_{y}M - \\mu_{x}N & = \\mu(N_{x} - M_{y})\n",
    "\\end{align*}"
   ]
  },
  {
   "cell_type": "markdown",
   "metadata": {
    "slideshow": {
     "slide_type": "slide"
    }
   },
   "source": [
    "Como la ecuación original no es exacta, entonces $$N_{x} - M_{y} \\neq 0$$"
   ]
  },
  {
   "cell_type": "markdown",
   "metadata": {
    "slideshow": {
     "slide_type": "slide"
    }
   },
   "source": [
    "Consideremos la siguiente relación:\n",
    "\n",
    "$$N_{x} - M_{y} = R(xM-yN)$$\n",
    "donde $R = R(xy)$, es decir, donde $R$ es función del producto de $x$ y $y$. "
   ]
  },
  {
   "cell_type": "markdown",
   "metadata": {
    "slideshow": {
     "slide_type": "slide"
    }
   },
   "source": [
    "Entonces la ecuación \n",
    "\n",
    "$$ \\mu_{y}M - \\mu_{x}N  = \\mu(N_{x} - M_{y}) $$\n",
    "\n",
    "se puede escribir como \n",
    "\n",
    "$$ \\mu_{y}M - \\mu_{x}N  = R\\mu(xM - yN) $$"
   ]
  },
  {
   "cell_type": "markdown",
   "metadata": {
    "slideshow": {
     "slide_type": "slide"
    }
   },
   "source": [
    "de donde \n",
    "\n",
    "$$ \\mu_{y}M - \\mu_{x}N  = Rx\\mu M - Ry\\mu N $$\n"
   ]
  },
  {
   "cell_type": "markdown",
   "metadata": {
    "slideshow": {
     "slide_type": "slide"
    }
   },
   "source": [
    "Comparando coeficientes obtenemos:\n",
    "\n",
    "$$ \\mu_{y} = Rx\\mu \\quad \\quad \\text{y} \\quad \\quad \\mu_{x} = Ry\\mu $$\n"
   ]
  },
  {
   "cell_type": "markdown",
   "metadata": {
    "slideshow": {
     "slide_type": "slide"
    }
   },
   "source": [
    "Por tanto, \n",
    "\n",
    "$$ M + Ny'=0 $$\n",
    "\n",
    "es exacta si y solo si se satisface las condiciones \n",
    "\n",
    "$$ \\mu_{y} = Rx\\mu \\quad \\quad \\text{y} \\quad \\quad \\mu_{x} = Ry\\mu $$\n",
    "\n"
   ]
  },
  {
   "cell_type": "markdown",
   "metadata": {
    "slideshow": {
     "slide_type": "slide"
    }
   },
   "source": [
    "Finalmente, sea $\\mu = \\mu(xy)$, entonces de la regla de la cadena obtenemos:\n",
    "\n",
    "\\begin{align*}\n",
    "\\frac{\\partial \\mu(xy)}{\\partial x} & = \\frac{d\\mu(xy)}{d(xy)} \\cdot \\frac{\\partial(xy)}{\\partial x} \\\\\n",
    "& = y \\cdot \\frac{d\\mu(xy)}{d(xy)}\n",
    "\\end{align*}\n"
   ]
  },
  {
   "cell_type": "markdown",
   "metadata": {
    "slideshow": {
     "slide_type": "slide"
    }
   },
   "source": [
    "y \n",
    "\n",
    "\\begin{align*}\n",
    "\\frac{\\partial \\mu(xy)}{\\partial y} & = \\frac{d\\mu(xy)}{d(xy)} \\cdot \\frac{\\partial(xy)}{\\partial y} \\\\\n",
    "& = x \\cdot \\frac{d\\mu(xy)}{d(xy)}\n",
    "\\end{align*}\n"
   ]
  },
  {
   "cell_type": "markdown",
   "metadata": {
    "slideshow": {
     "slide_type": "slide"
    }
   },
   "source": [
    "Entonces\n",
    "\n",
    "\\begin{align*}\n",
    "\\frac{\\partial \\mu(xy)}{\\partial x} & = y \\cdot \\frac{d\\mu(xy)}{d(xy)} \\\\\n",
    "\\frac{\\partial \\mu(xy)}{\\partial y} & = x \\cdot \\frac{d\\mu(xy)}{d(xy)}\n",
    "\\end{align*}\n"
   ]
  },
  {
   "cell_type": "markdown",
   "metadata": {
    "slideshow": {
     "slide_type": "slide"
    }
   },
   "source": [
    "Sustituyamos estas ecuaciones en \n",
    "\n",
    "$$ \\mu_{y} = Rx\\mu \\quad \\quad \\text{y} \\quad \\quad \\mu_{x} = Ry\\mu $$"
   ]
  },
  {
   "cell_type": "markdown",
   "metadata": {
    "slideshow": {
     "slide_type": "slide"
    }
   },
   "source": [
    "para obtener\n",
    "\n",
    "\\begin{align*}\n",
    "x\\cdot \\frac{d\\mu(xy)}{d(xy)} & = Rx\\mu  \\\\\n",
    " y \\cdot \\frac{d\\mu(xy)}{d(xy)} & = Ry\\mu\n",
    "\\end{align*}\n"
   ]
  },
  {
   "cell_type": "markdown",
   "metadata": {
    "slideshow": {
     "slide_type": "slide"
    }
   },
   "source": [
    "Simplificando obtenemos \n",
    "\n",
    "\\begin{align*}\n",
    "\\frac{d\\mu(xy)}{d(xy)} & = R\\mu  \\\\\n",
    "\\frac{d\\mu(xy)}{d(xy)} & = R\\mu\n",
    "\\end{align*}\n"
   ]
  },
  {
   "cell_type": "markdown",
   "metadata": {
    "slideshow": {
     "slide_type": "slide"
    }
   },
   "source": [
    "De donde obtenemos \n",
    "\n",
    "\\begin{align*}\n",
    "\\frac{d\\mu(xy)}{d(xy)} & = R(xy)\\mu(xy) \n",
    "\\end{align*}\n"
   ]
  },
  {
   "cell_type": "markdown",
   "metadata": {
    "slideshow": {
     "slide_type": "slide"
    }
   },
   "source": [
    "Note la ecuación anterior es una Ecuación diferencial separable en la variable $z = xy$.\n"
   ]
  },
  {
   "cell_type": "markdown",
   "metadata": {
    "slideshow": {
     "slide_type": "slide"
    }
   },
   "source": [
    "$$ \\frac{d\\mu(z)}{dz} = R(z)\\mu(z) $$\n"
   ]
  },
  {
   "cell_type": "markdown",
   "metadata": {
    "slideshow": {
     "slide_type": "slide"
    }
   },
   "source": [
    "$$\\frac{d\\mu}{\\mu} = R(z)dz$$"
   ]
  },
  {
   "cell_type": "markdown",
   "metadata": {
    "slideshow": {
     "slide_type": "slide"
    }
   },
   "source": [
    "$$ \\mu = e^{\\int R(z)dz} $$"
   ]
  },
  {
   "cell_type": "markdown",
   "metadata": {
    "slideshow": {
     "slide_type": "slide"
    }
   },
   "source": [
    "$$ \\mu(xy) = e^{\\int R(xy)d(xy)} $$"
   ]
  },
  {
   "cell_type": "markdown",
   "metadata": {
    "slideshow": {
     "slide_type": "slide"
    }
   },
   "source": [
    "Note que debemos practicar el integrar con respecto a un producto $xy$. "
   ]
  },
  {
   "cell_type": "markdown",
   "metadata": {
    "slideshow": {
     "slide_type": "slide"
    }
   },
   "source": [
    "[Ver la demostración es este vínculo](https://www.slader.com/discussion/question/show-that-if-nxmyxmynr-where-r-depends-on-the-quantity-xy-only-then-the-differential-equation-mny0-h/)"
   ]
  },
  {
   "cell_type": "markdown",
   "metadata": {
    "slideshow": {
     "slide_type": "slide"
    }
   },
   "source": [
    "## Aplicación de la deducción anterior "
   ]
  },
  {
   "cell_type": "markdown",
   "metadata": {
    "slideshow": {
     "slide_type": "slide"
    }
   },
   "source": [
    "Utilice el factor integrante deducuido en el punto anterior para resolver esta ED\n",
    "\n",
    "$$ \\left( 3x + \\frac{6}{y} \\right) + \\left( \\frac{x^{2}}{y} + 3\\frac{y}{x} \\right)\\frac{dy}{dx} = 0 $$"
   ]
  },
  {
   "cell_type": "markdown",
   "metadata": {
    "slideshow": {
     "slide_type": "slide"
    }
   },
   "source": [
    "### Solución: "
   ]
  },
  {
   "cell_type": "markdown",
   "metadata": {
    "slideshow": {
     "slide_type": "slide"
    }
   },
   "source": [
    "$$ M(x,y) = \\frac{3xy + 6}{y}, \\quad \\quad N(x,y) = \\frac{x^{3} + 3y^{2}}{xy} $$"
   ]
  },
  {
   "cell_type": "markdown",
   "metadata": {
    "slideshow": {
     "slide_type": "slide"
    }
   },
   "source": [
    "\\begin{align*}\n",
    "xM - yN & = \\frac{x}{y}(3xy + 6) - \\frac{x^{3} + 3y^{2}}{x} \\\\\n",
    "        & = \\frac{3x^{3}y + 6x^{2}}{xy} - \\frac{x^{3}y + 3y^{3}}{xy} \\\\\n",
    "        & = \\frac{2x^{3}y + 6x^{2} - 3y^{3}}{xy}\n",
    "\\end{align*}"
   ]
  },
  {
   "cell_type": "markdown",
   "metadata": {
    "slideshow": {
     "slide_type": "slide"
    }
   },
   "source": [
    "$$N_{x} = \\frac{ xy(3x^{2}) - (x^{3} + 3y^{2})y }{x^{2}y^{2}} \\quad \\quad \\quad M_{y} = \\frac{y(3x) -(3xy + 6) }{y^{2}}$$"
   ]
  },
  {
   "cell_type": "markdown",
   "metadata": {
    "slideshow": {
     "slide_type": "slide"
    }
   },
   "source": [
    "$$N_{x} = \\frac{ 3x^{3}y - x^{3}y - 3y^{3} }{x^{2}y^{2}} \\quad \\quad \\quad M_{y} = \\frac{3x^{3}y -3x^{3}y - 6x^{2} }{x^{2}y^{2}}$$"
   ]
  },
  {
   "cell_type": "markdown",
   "metadata": {
    "slideshow": {
     "slide_type": "slide"
    }
   },
   "source": [
    "$$N_{x} = \\frac{ 2x^{3}y - 3y^{3} }{x^{2}y^{2}} \\quad \\quad \\quad M_{y} = \\frac{- 6x^{2} }{x^{2}y^{2}}$$"
   ]
  },
  {
   "cell_type": "markdown",
   "metadata": {
    "slideshow": {
     "slide_type": "slide"
    }
   },
   "source": [
    "\\begin{align*}\n",
    "N_{x} - M_{y} & = \\frac{ 2x^{3}y - 3y^{3} }{x^{2}y^{2}} - \\frac{- 6x^{2} }{x^{2}y^{2}} \\\\\n",
    "              & = \\frac{ 2x^{3}y - 3y^{3} + 6x^{2} }{x^{2}y^{2}} \n",
    "\\end{align*}"
   ]
  },
  {
   "cell_type": "markdown",
   "metadata": {
    "slideshow": {
     "slide_type": "slide"
    }
   },
   "source": [
    "$$ \\frac{N_{x} - M_{y}}{xM - yN} = \\frac{ \\frac{ 2x^{3}y - 3y^{3} + 6x^{2} }{x^{2}y^{2}}  }{ \\frac{2x^{3}y + 6x^{2} - 3y^{3}}{xy} } = \\frac{xy}{x^{2}y^{2}} = \\frac{1}{xy}  = R = R(xy) $$"
   ]
  },
  {
   "cell_type": "markdown",
   "metadata": {
    "slideshow": {
     "slide_type": "slide"
    }
   },
   "source": [
    "Por lo tanto, \n",
    "\n",
    "$$R = R(xy) =  \\frac{N_{x} - M_{y}}{xM - yN} = \\frac{1}{xy} $$\n"
   ]
  },
  {
   "cell_type": "markdown",
   "metadata": {
    "slideshow": {
     "slide_type": "slide"
    }
   },
   "source": [
    "Entonces \n",
    "\n",
    "$$ \\mu = \\mu(xy) = e^{\\int R(xy)d(xy)}  = e^{\\ln|xy|} = xy $$\n"
   ]
  },
  {
   "cell_type": "markdown",
   "metadata": {
    "slideshow": {
     "slide_type": "slide"
    }
   },
   "source": [
    "Por tanto, la ecuación\n",
    "\n",
    "$$ xy\\left[ \\left( 3x + \\frac{6}{y} \\right) + \\left( \\frac{x^{2}}{y} + 3\\frac{y}{x} \\right)\\frac{dy}{dx} \\right] = 0 $$\n",
    "\n",
    "es exacta. "
   ]
  },
  {
   "cell_type": "markdown",
   "metadata": {
    "slideshow": {
     "slide_type": "slide"
    }
   },
   "source": [
    "Veamos que si:"
   ]
  },
  {
   "cell_type": "markdown",
   "metadata": {
    "slideshow": {
     "slide_type": "slide"
    }
   },
   "source": [
    "En efecto, \n",
    "\n",
    "$$\\hat{M} = 3x^{2}y + 6x, \\quad \\quad \\hat{N} = x^{3} + 3y^{2} $$"
   ]
  },
  {
   "cell_type": "markdown",
   "metadata": {
    "slideshow": {
     "slide_type": "slide"
    }
   },
   "source": [
    "$$\\hat{M}_{y} = 3x^{2} , \\quad \\quad \\hat{N}_{x} = 3x^{2} $$"
   ]
  },
  {
   "cell_type": "markdown",
   "metadata": {
    "slideshow": {
     "slide_type": "slide"
    }
   },
   "source": [
    "$$\\psi = \\int (3x^{2}y + 6x)dx + h(y)  = x^{3}y + 3x^{2} + h(y) $$"
   ]
  },
  {
   "cell_type": "markdown",
   "metadata": {
    "slideshow": {
     "slide_type": "slide"
    }
   },
   "source": [
    "$$\\psi_{y} = x^{3} + h'(y) = \\hat{N} = x^{3} + 3y^{2} \\quad \\quad \\Rightarrow h'(y) = 3y^{2} $$"
   ]
  },
  {
   "cell_type": "markdown",
   "metadata": {
    "slideshow": {
     "slide_type": "slide"
    }
   },
   "source": [
    "$$h(y) = y^{3} $$"
   ]
  },
  {
   "cell_type": "markdown",
   "metadata": {
    "slideshow": {
     "slide_type": "slide"
    }
   },
   "source": [
    "la solución implícita es \n",
    "\n",
    "$$ x^{3}y + 3x^{2} + y^{3} = c $$"
   ]
  },
  {
   "cell_type": "code",
   "execution_count": null,
   "metadata": {
    "slideshow": {
     "slide_type": "skip"
    }
   },
   "outputs": [],
   "source": []
  },
  {
   "cell_type": "markdown",
   "metadata": {
    "slideshow": {
     "slide_type": "slide"
    }
   },
   "source": [
    "## Trazado de algunas curvas integrales "
   ]
  },
  {
   "cell_type": "code",
   "execution_count": 5,
   "metadata": {
    "slideshow": {
     "slide_type": "slide"
    }
   },
   "outputs": [
    {
     "data": {
      "image/png": "[encoded data removed]",
      "text/plain": [
       "<Figure size 432x288 with 1 Axes>"
      ]
     },
     "metadata": {
      "needs_background": "light"
     },
     "output_type": "display_data"
    }
   ],
   "source": [
    "import matplotlib.pyplot as plt \n",
    "from numpy import arange\n",
    "from numpy import meshgrid\n",
    "\n",
    "delta = 0.025\n",
    "xrange = arange(-5.0, 5.0, delta)\n",
    "yrange = arange(-5.0, 5.0, delta)\n",
    "X, Y = meshgrid(xrange,yrange)\n",
    "\n",
    "# F is one side of the equation, G is the other\n",
    "c=1 \n",
    "F = X**3*Y+3*X**2 + Y**3 \n",
    "G = c\n",
    "plt.contour(X, Y, (F - G), [0])\n",
    "plt.title(r'curvas integrales de una ED con factor integralte $\\mu = xy$')\n",
    "plt.savefig('curva_integral_1.jpg')\n",
    "plt.show()"
   ]
  },
  {
   "cell_type": "code",
   "execution_count": null,
   "metadata": {
    "slideshow": {
     "slide_type": "skip"
    }
   },
   "outputs": [],
   "source": []
  },
  {
   "cell_type": "markdown",
   "metadata": {
    "slideshow": {
     "slide_type": "slide"
    }
   },
   "source": [
    "[Verificación con symbolab](https://es.symbolab.com/solver/step-by-step/%5Cleft(3x%2B6%2Fy%5Cright)%2B%5Cleft(x%5E%7B2%7D%2Fy%20%2B3%5Ccdot%20y%2Fx%5Cright)y'%20%3D%200%20)"
   ]
  },
  {
   "cell_type": "markdown",
   "metadata": {
    "slideshow": {
     "slide_type": "slide"
    }
   },
   "source": [
    "## Solución con la función dsolve de Sympy "
   ]
  },
  {
   "cell_type": "code",
   "execution_count": 6,
   "metadata": {
    "slideshow": {
     "slide_type": "slide"
    }
   },
   "outputs": [
    {
     "data": {
      "text/latex": [
       "$\\displaystyle y{\\left(x \\right)} = \\infty$"
      ],
      "text/plain": [
       "Eq(y(x), oo)"
      ]
     },
     "execution_count": 6,
     "metadata": {},
     "output_type": "execute_result"
    }
   ],
   "source": [
    "from sympy import *\n",
    "x,y=symbols('x y') \n",
    "y=Function('y')(x) \n",
    "ED = (3*x+6/y) + (x**2/y+3*y/x)*diff(y,x) \n",
    "dsolve(ED,y) "
   ]
  },
  {
   "cell_type": "markdown",
   "metadata": {
    "slideshow": {
     "slide_type": "slide"
    }
   },
   "source": [
    "# Intentemos utilizar el método de las ED homogéneas "
   ]
  },
  {
   "cell_type": "markdown",
   "metadata": {
    "slideshow": {
     "slide_type": "slide"
    }
   },
   "source": [
    "multipliquemos la ED dada:\n",
    "$$ \\left( 3x + \\frac{6}{y} \\right) + \\left( \\frac{x^{2}}{y} + 3\\frac{y}{x} \\right)\\frac{dy}{dx} = 0 $$\n",
    "por $xy$ para eliminar los denominadores y luego apliquemos el cambio de variable $y = vx$"
   ]
  },
  {
   "cell_type": "markdown",
   "metadata": {
    "slideshow": {
     "slide_type": "slide"
    }
   },
   "source": [
    "$$ (3x^{2}y + 6x) + (x^{3} + 3y^{2})y' = 0 $$"
   ]
  },
  {
   "cell_type": "markdown",
   "metadata": {
    "slideshow": {
     "slide_type": "slide"
    }
   },
   "source": [
    "despejemos a $y'$:\n",
    "\n",
    "$$ y' = -\\frac{3x^{2}y + 6x}{x^{3} + 3y^{2}} $$"
   ]
  },
  {
   "cell_type": "markdown",
   "metadata": {
    "slideshow": {
     "slide_type": "slide"
    }
   },
   "source": [
    "Note que no hay ninguna potencia de $x$, por la que podamos dividir el numerador y el denominador del lado derecho para obtener una forma $f(y/x)$. Por lo tanto, la ED dada no es homogénea y no es aplicable el método de cambio de variable propio de este método. "
   ]
  },
  {
   "cell_type": "markdown",
   "metadata": {
    "slideshow": {
     "slide_type": "slide"
    }
   },
   "source": []
  },
  {
   "cell_type": "code",
   "execution_count": null,
   "metadata": {},
   "outputs": [],
   "source": []
  },
  {
   "cell_type": "code",
   "execution_count": null,
   "metadata": {},
   "outputs": [],
   "source": []
  }
 ],
 "metadata": {
  "celltoolbar": "Slideshow",
  "hide_input": false,
  "kernelspec": {
   "display_name": "Python 3",
   "language": "python",
   "name": "python3"
  },
  "language_info": {
   "codemirror_mode": {
    "name": "ipython",
    "version": 3
   },
   "file_extension": ".py",
   "mimetype": "text/x-python",
   "name": "python",
   "nbconvert_exporter": "python",
   "pygments_lexer": "ipython3",
   "version": "3.7.4"
  },
  "nbTranslate": {
   "displayLangs": [
    "*"
   ],
   "hotkey": "alt-t",
   "langInMainMenu": true,
   "sourceLang": "en",
   "targetLang": "es",
   "useGoogleTranslate": true
  },
  "rise": {
   "enable_chalkboard": true,
   "theme": "sky",
   "transition": "zoom"
  }
 },
 "nbformat": 4,
 "nbformat_minor": 2
}
