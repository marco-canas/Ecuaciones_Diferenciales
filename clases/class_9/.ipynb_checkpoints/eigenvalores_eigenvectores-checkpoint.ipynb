{
 "cells": [
  {
   "cell_type": "markdown",
   "metadata": {
    "lang": "en",
    "slideshow": {
     "slide_type": "slide"
    }
   },
   "source": [
    "<table align=\"left\">\n",
    "  <td>\n",
    "    <a href=\"https://colab.research.google.com/github/marco-canas/Ecuaciones_Diferenciales/blob/main/1_clases/class_9/.ipynb_checkpoints/eigenvalores_eigenvectores-checkpoint.ipynb\" target=\"_parent\"><img src=\"https://colab.research.google.com/assets/colab-badge.svg\" alt=\"Open In Colab\"/></a>\n",
    "  </td>\n",
    "  <td>\n",
    "    <a target=\"_blank\" href=\"https://kaggle.com/kernels/welcome?src=https://github.com/marco-canas/Ecuaciones_Diferenciales/blob/main/1_clases/class_9/.ipynb_checkpoints/eigenvalores_eigenvectores-checkpoint.ipynb\"><img src=\"https://kaggle.com/static/images/open-in-kaggle.svg\" /></a>\n",
    "  </td>\n",
    "</table>"
   ]
  },
  {
   "cell_type": "markdown",
   "metadata": {
    "slideshow": {
     "slide_type": "slide"
    }
   },
   "source": [
    "# Eigenvalores y eigenvectores \n",
    "Página 376 del Boyce DiPrima "
   ]
  },
  {
   "cell_type": "markdown",
   "metadata": {
    "slideshow": {
     "slide_type": "slide"
    }
   },
   "source": [
    "La ecuación $Ax = y$ puede considerarse como una transformación lineal que mapea o transforma una vector $x$ dado en un nuevo vector $y$. "
   ]
  },
  {
   "cell_type": "markdown",
   "metadata": {
    "slideshow": {
     "slide_type": "slide"
    }
   },
   "source": [
    "Los vectores que se transforman en múltiplos de sí mismos tienen una función importante en muchas aplicaciones. "
   ]
  },
  {
   "cell_type": "markdown",
   "metadata": {
    "slideshow": {
     "slide_type": "slide"
    }
   },
   "source": [
    "Para encontrar estos vectores se hace $y = \\lambda x$, en donde $\\lambda$ es un factor escalar de proporcionalidad, y se buscan soluciones de las ecuaciones \n",
    "\n",
    "$$ Ax = \\lambda x, $$\n",
    "\n",
    "o bien\n",
    "\n",
    "$$ (A - \\lambda I)x = 0. $$"
   ]
  },
  {
   "cell_type": "markdown",
   "metadata": {
    "slideshow": {
     "slide_type": "slide"
    }
   },
   "source": [
    "Esta última ecuación tiene soluciones diferentes de cero si se elige $\\lambda$ de modo que \n",
    "\n",
    "$$ \\Delta(\\lambda) = det(A - \\lambda I) = 0 $$\n"
   ]
  },
  {
   "cell_type": "markdown",
   "metadata": {
    "slideshow": {
     "slide_type": "slide"
    }
   },
   "source": [
    "Los valores de lambda que satisfacen la ecuación $ \\Delta(\\lambda) = det(A - \\lambda I) = 0 $ se llaman eigenvalores (o valores propios) de la matriz $A$ y las soluciones de las ecuaciones $Ax = \\lambda x$ y $(A -\\lambda I)x = 0$ que se obtienen al usar ese valor de $\\lambda$ se conocen como eigenvectores o vectores propios correspondientes a ese eigenvalor. "
   ]
  },
  {
   "cell_type": "markdown",
   "metadata": {
    "slideshow": {
     "slide_type": "slide"
    }
   },
   "source": [
    "Los eigenvectores quedan determinados sólo hasta una constante multiplicativa arbitraria; si se especifica esta constante de alguna manera, se dice que los **eigenvectores están normalizados**. "
   ]
  },
  {
   "cell_type": "markdown",
   "metadata": {
    "slideshow": {
     "slide_type": "slide"
    }
   },
   "source": [
    "A menudo conviene normalizar un eigenvector $\\textbf{x}$ al requerir $(x,x) = 1$."
   ]
  },
  {
   "cell_type": "markdown",
   "metadata": {
    "slideshow": {
     "slide_type": "slide"
    }
   },
   "source": [
    "De manera alternativa, es posible que se desee hacer que una de las componentes sea igual a $1$. "
   ]
  },
  {
   "cell_type": "markdown",
   "metadata": {
    "slideshow": {
     "slide_type": "slide"
    }
   },
   "source": [
    "Puesto que la ecuación $\\Delta(\\lambda) = det(A - \\lambda I) = 0$ es una ecuación polinomial en $\\lambda$ de grado $n$, existen $n$ eigenvalores $\\lambda_{1}, \\lambda_{2}, \\ldots, \\lambda_{n}$, algunos de los cuales pueden repetirse. "
   ]
  },
  {
   "cell_type": "markdown",
   "metadata": {
    "slideshow": {
     "slide_type": "slide"
    }
   },
   "source": [
    "Si el eigenvalor dado aparece $m$ veces como una raíz de $ \\Delta(\\lambda) = det(A - \\lambda I) = 0 $, se dice que ese eigenvalor tiene **multiplicidad** $m$. "
   ]
  },
  {
   "cell_type": "markdown",
   "metadata": {
    "slideshow": {
     "slide_type": "slide"
    }
   },
   "source": [
    "Cada eigenvalor tiene asociado por lo menos un eigenvector, y un eigenvalor de multiplicidad $m$ puede terner $q$ eigenvectores linealmente independientes, en donde \n",
    "\n",
    "$$ 1 \\leq q \\leq m $$\n"
   ]
  },
  {
   "cell_type": "markdown",
   "metadata": {
    "slideshow": {
     "slide_type": "slide"
    }
   },
   "source": [
    "En el ejemplo que sigue se ilustra que $q$ es menor que $m$. "
   ]
  },
  {
   "cell_type": "markdown",
   "metadata": {
    "slideshow": {
     "slide_type": "slide"
    }
   },
   "source": [
    "Si todos los eigenvalores de una matriz $A$ son simples (tiene multiplicidad $1$), es posible demostrar que los $n$ eigenvectores de $A$, uno para cada eigenvalor, son linealmente independientes. "
   ]
  },
  {
   "cell_type": "markdown",
   "metadata": {
    "slideshow": {
     "slide_type": "slide"
    }
   },
   "source": [
    "Por otra parte, si $A$ tiene repetidos uno o más eigenvalores, entonces puede haber  menos de $n$ eigenvectores linealmente independientes asociados a $A$, ya que para cada eigenvalor repetido, es posible que $q < m$.  "
   ]
  },
  {
   "cell_type": "markdown",
   "metadata": {
    "slideshow": {
     "slide_type": "slide"
    }
   },
   "source": [
    "Este hecho origina complicaciones más tarde en la resolución de ecuaciones diferenciales. "
   ]
  },
  {
   "cell_type": "markdown",
   "metadata": {
    "slideshow": {
     "slide_type": "slide"
    }
   },
   "source": [
    "## Ejemplo"
   ]
  },
  {
   "cell_type": "markdown",
   "metadata": {
    "slideshow": {
     "slide_type": "slide"
    }
   },
   "source": [
    "Encontrar los eigenvalores y eigenvectores de la matriz \n",
    "\n",
    "$$ A = \\begin{pmatrix} 1 & -1 \\\\ 1 & 3 \\end{pmatrix} $$\n"
   ]
  },
  {
   "cell_type": "markdown",
   "metadata": {
    "slideshow": {
     "slide_type": "slide"
    }
   },
   "source": [
    "### Solución: "
   ]
  },
  {
   "cell_type": "markdown",
   "metadata": {
    "slideshow": {
     "slide_type": "slide"
    }
   },
   "source": [
    "Los eigenvalores $\\lambda$ y eigenvectores $x$ satisfacen la ecuación $(A-\\lambda I)x = 0$, o bien\n",
    "\n",
    "$$ \\begin{pmatrix} 1 - \\lambda & -1 \\\\ \n",
    "1 & 3 - \\lambda \\end{pmatrix}\\begin{pmatrix} x_{1} \\\\ x_{2} \\end{pmatrix}  = \\begin{pmatrix} 0 \\\\ 0\\end{pmatrix}  $$\n"
   ]
  },
  {
   "cell_type": "markdown",
   "metadata": {
    "slideshow": {
     "slide_type": "slide"
    }
   },
   "source": [
    "## Verificación "
   ]
  },
  {
   "cell_type": "code",
   "execution_count": 11,
   "metadata": {
    "slideshow": {
     "slide_type": "slide"
    }
   },
   "outputs": [
    {
     "data": {
      "text/plain": [
       "(array([2.00000002, 1.99999998]), array([[-0.70710677, -0.70710679],\n",
       "        [ 0.70710679,  0.70710677]]))"
      ]
     },
     "execution_count": 11,
     "metadata": {},
     "output_type": "execute_result"
    }
   ],
   "source": [
    "import numpy \n",
    "A = np.array([[1,-1],[1,3]])\n",
    "np.linalg.eig(A) "
   ]
  },
  {
   "cell_type": "code",
   "execution_count": 9,
   "metadata": {},
   "outputs": [
    {
     "data": {
      "text/plain": [
       "array([2.00000002, 1.99999998])"
      ]
     },
     "execution_count": 9,
     "metadata": {},
     "output_type": "execute_result"
    }
   ],
   "source": [
    "lamba_A "
   ]
  },
  {
   "cell_type": "code",
   "execution_count": 10,
   "metadata": {},
   "outputs": [
    {
     "data": {
      "text/plain": [
       "array([[-0.70710677, -0.70710679],\n",
       "       [ 0.70710679,  0.70710677]])"
      ]
     },
     "execution_count": 10,
     "metadata": {},
     "output_type": "execute_result"
    }
   ],
   "source": [
    "x "
   ]
  },
  {
   "cell_type": "markdown",
   "metadata": {
    "slideshow": {
     "slide_type": "slide"
    }
   },
   "source": [
    "## Ejemplo 2 \n",
    "Página 378 del Boyce DiPrima "
   ]
  },
  {
   "cell_type": "markdown",
   "metadata": {
    "slideshow": {
     "slide_type": "slide"
    }
   },
   "source": [
    "Encontrar los eigenvalores y los eigenvectores de la matriz \n",
    "\n",
    "$$ A = \\begin{pmatrix} 0 & 1 & 1 \\\\ 1 & 0 & 1 \\\\ 1 & 1 & 0 \\end{pmatrix} $$"
   ]
  },
  {
   "cell_type": "code",
   "execution_count": null,
   "metadata": {
    "slideshow": {
     "slide_type": "slide"
    }
   },
   "outputs": [],
   "source": []
  },
  {
   "cell_type": "code",
   "execution_count": null,
   "metadata": {
    "slideshow": {
     "slide_type": "slide"
    }
   },
   "outputs": [],
   "source": []
  },
  {
   "cell_type": "code",
   "execution_count": null,
   "metadata": {
    "slideshow": {
     "slide_type": "slide"
    }
   },
   "outputs": [],
   "source": []
  },
  {
   "cell_type": "code",
   "execution_count": null,
   "metadata": {
    "slideshow": {
     "slide_type": "slide"
    }
   },
   "outputs": [],
   "source": []
  },
  {
   "cell_type": "markdown",
   "metadata": {
    "slideshow": {
     "slide_type": "slide"
    }
   },
   "source": [
    "#### Verificación con `linalg`"
   ]
  },
  {
   "cell_type": "code",
   "execution_count": 4,
   "metadata": {
    "slideshow": {
     "slide_type": "slide"
    }
   },
   "outputs": [],
   "source": [
    "import numpy as np \n",
    "A = np.array([[1,-1],[1,3]])\n",
    "lambda_A, x = np.linalg.eig(A) "
   ]
  },
  {
   "cell_type": "code",
   "execution_count": 6,
   "metadata": {
    "slideshow": {
     "slide_type": "slide"
    }
   },
   "outputs": [
    {
     "data": {
      "text/plain": [
       "array([2.00000002, 1.99999998])"
      ]
     },
     "execution_count": 6,
     "metadata": {},
     "output_type": "execute_result"
    }
   ],
   "source": [
    "lambda_A"
   ]
  },
  {
   "cell_type": "code",
   "execution_count": 7,
   "metadata": {
    "slideshow": {
     "slide_type": "slide"
    }
   },
   "outputs": [
    {
     "data": {
      "text/plain": [
       "array([[-0.70710677, -0.70710679],\n",
       "       [ 0.70710679,  0.70710677]])"
      ]
     },
     "execution_count": 7,
     "metadata": {},
     "output_type": "execute_result"
    }
   ],
   "source": [
    "x "
   ]
  },
  {
   "cell_type": "markdown",
   "metadata": {
    "slideshow": {
     "slide_type": "slide"
    }
   },
   "source": [
    "## Referencias"
   ]
  },
  {
   "cell_type": "markdown",
   "metadata": {},
   "source": [
    "* Boyce DiPrima "
   ]
  },
  {
   "cell_type": "code",
   "execution_count": null,
   "metadata": {},
   "outputs": [],
   "source": []
  }
 ],
 "metadata": {
  "celltoolbar": "Slideshow",
  "hide_input": false,
  "kernelspec": {
   "display_name": "Python 3",
   "language": "python",
   "name": "python3"
  },
  "language_info": {
   "codemirror_mode": {
    "name": "ipython",
    "version": 3
   },
   "file_extension": ".py",
   "mimetype": "text/x-python",
   "name": "python",
   "nbconvert_exporter": "python",
   "pygments_lexer": "ipython3",
   "version": "3.7.4"
  },
  "nbTranslate": {
   "displayLangs": [
    "*"
   ],
   "hotkey": "alt-t",
   "langInMainMenu": true,
   "sourceLang": "en",
   "targetLang": "es",
   "useGoogleTranslate": true
  },
  "rise": {
   "enable_chalkboard": true,
   "theme": "sky",
   "transition": "sky"
  }
 },
 "nbformat": 4,
 "nbformat_minor": 2
}
