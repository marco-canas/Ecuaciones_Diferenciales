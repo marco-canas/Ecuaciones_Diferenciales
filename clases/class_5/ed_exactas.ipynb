{
 "cells": [
  {
   "cell_type": "markdown",
   "id": "50498a5b",
   "metadata": {
    "slideshow": {
     "slide_type": "slide"
    }
   },
   "source": [
    "<table align=\"left\">\n",
    "  <td>\n",
    "    <a href=\"https://colab.research.google.com/github/marco-canas/innovaciones/blob/main/ref/geron/math_linear_algebra/linear_algebra.ipynb\" target=\"_parent\"><img src=\"https://colab.research.google.com/assets/colab-badge.svg\" alt=\"Open In Colab\"/></a>\n",
    "  </td>\n",
    "  <td>\n",
    "    <a target=\"_blank\" href=\"https://kaggle.com/kernels/welcome?src=https://github.com/marco-canas/innovaciones/blob/main/ref/geron/math_linear_algebra/linear_algebra.ipynb\"><img src=\"https://kaggle.com/static/images/open-in-kaggle.svg\" /></a>\n",
    "  </td>\n",
    "</table>"
   ]
  },
  {
   "cell_type": "markdown",
   "id": "fe0e28b1",
   "metadata": {
    "slideshow": {
     "slide_type": "slide"
    }
   },
   "source": [
    "# Ecuaciones diferenciales exactas \n"
   ]
  },
  {
   "cell_type": "markdown",
   "id": "e8bf7d84",
   "metadata": {
    "slideshow": {
     "slide_type": "slide"
    }
   },
   "source": [
    "## Definición"
   ]
  },
  {
   "cell_type": "markdown",
   "id": "87f486da",
   "metadata": {
    "slideshow": {
     "slide_type": "slide"
    }
   },
   "source": []
  },
  {
   "cell_type": "markdown",
   "id": "44adcb81",
   "metadata": {
    "slideshow": {
     "slide_type": "slide"
    }
   },
   "source": [
    "## Criterio de exactitud "
   ]
  },
  {
   "cell_type": "markdown",
   "id": "2f3fd1bf",
   "metadata": {
    "slideshow": {
     "slide_type": "slide"
    }
   },
   "source": []
  },
  {
   "cell_type": "markdown",
   "id": "3d99a946",
   "metadata": {
    "slideshow": {
     "slide_type": "slide"
    }
   },
   "source": [
    "## Ejemplo 1"
   ]
  },
  {
   "cell_type": "markdown",
   "id": "42d8cba9",
   "metadata": {
    "slideshow": {
     "slide_type": "slide"
    }
   },
   "source": [
    "$$ 2xydx + (x^{2} - 1)dy = 0 $$"
   ]
  },
  {
   "cell_type": "markdown",
   "id": "586f5168",
   "metadata": {
    "slideshow": {
     "slide_type": "slide"
    }
   },
   "source": [
    "## Ejemplo 2\n"
   ]
  },
  {
   "cell_type": "markdown",
   "id": "28703f95",
   "metadata": {
    "slideshow": {
     "slide_type": "slide"
    }
   },
   "source": [
    "Resuelva \n",
    "\n",
    "$$ (e^{2y} - y\\cos xy)dx + (2xe^{2y} -x\\cos xy + 2y)dy = 0  $$"
   ]
  },
  {
   "cell_type": "markdown",
   "id": "d224a45f",
   "metadata": {
    "slideshow": {
     "slide_type": "slide"
    }
   },
   "source": [
    "Primero empezamos identificando a las funciones $M(x,y)$ y $N(x,y)$:\n",
    "\n",
    "$$ M(x,y) = \\ \\ \\ \\ \\ N(x,y) =  $$\n"
   ]
  },
  {
   "cell_type": "code",
   "execution_count": null,
   "id": "234db5ea",
   "metadata": {},
   "outputs": [],
   "source": []
  },
  {
   "cell_type": "markdown",
   "id": "26f0c9d9",
   "metadata": {
    "slideshow": {
     "slide_type": "slide"
    }
   },
   "source": [
    "## Ejemplo 3 Problema con valores iniciales \n"
   ]
  },
  {
   "cell_type": "markdown",
   "id": "5ccb5f05",
   "metadata": {
    "slideshow": {
     "slide_type": "slide"
    }
   },
   "source": [
    "$$ \\frac{dy}{dx} = \\frac{xy^{2} - \\cos x\\sin x}{y(1-x^{2})} , \\ \\ \\ \\ \\  y(0) = 2$$"
   ]
  },
  {
   "cell_type": "markdown",
   "id": "d3ff10fc",
   "metadata": {
    "slideshow": {
     "slide_type": "slide"
    }
   },
   "source": [
    "## Solución:\n",
    "\n",
    "Empezamos resolviendo la ED:  \n",
    "\n",
    "$$ \\frac{dy}{dx} = \\frac{xy^{2} - \\cos x\\sin x}{y(1-x^{2})}$$\n"
   ]
  },
  {
   "cell_type": "markdown",
   "id": "5eb41dd5",
   "metadata": {
    "slideshow": {
     "slide_type": "slide"
    }
   },
   "source": [
    "Expresemos la ecuación en la forma: \n",
    "\n",
    "$$ M(x,y)dx + N(x,y)dy = 0 $$\n"
   ]
  },
  {
   "cell_type": "markdown",
   "id": "0b841aac",
   "metadata": {
    "slideshow": {
     "slide_type": "slide"
    }
   },
   "source": []
  },
  {
   "cell_type": "markdown",
   "id": "768d583c",
   "metadata": {
    "slideshow": {
     "slide_type": "slide"
    }
   },
   "source": [
    "En la figura 2.4.1, la curva solución del PVI es la curva dibujada en azul oscuro, y forma parte de una interesante familia de curvas. "
   ]
  },
  {
   "cell_type": "code",
   "execution_count": null,
   "id": "ce0fd403",
   "metadata": {
    "slideshow": {
     "slide_type": "slide"
    }
   },
   "outputs": [],
   "source": [
    "import matplotlib.pyplot\n",
    "from numpy import arange\n",
    "from numpy import meshgrid\n",
    "\n",
    "delta = 0.025\n",
    "xrange = arange(-5.0, 20.0, delta)\n",
    "yrange = arange(-5.0, 20.0, delta)\n",
    "X, Y = meshgrid(xrange,yrange)\n",
    "\n",
    "# F is one side of the equation, G is the other\n",
    "F = Y**X\n",
    "G = X**Y\n",
    "\n",
    "matplotlib.pyplot.contour(X, Y, (F - G), [0])\n",
    "matplotlib.pyplot.show()"
   ]
  },
  {
   "cell_type": "markdown",
   "id": "dcd11112",
   "metadata": {
    "slideshow": {
     "slide_type": "slide"
    }
   },
   "source": [
    "Las gráficas de los miembros de la familia uniparamétrica de soluciones dadas en la ecuación (7) se puede obtener de diferentes maneras, dos de las cuales son utilizando un paquete de computación para trazar gráficas de curvas de nivel (como se analizó en la sección 2.2) y usando un programa de graficación para dibujar cuidadosamente la gráfica de las funciones explícitas obtenidas para diferentes valores de c despejando a $y$ de $y^{2}=(c + cos^{2}x)/(1 -x^{2})$ para $y$."
   ]
  },
  {
   "cell_type": "markdown",
   "id": "4a0ff284",
   "metadata": {
    "slideshow": {
     "slide_type": "slide"
    }
   },
   "source": [
    "# Factores integrantes "
   ]
  },
  {
   "cell_type": "markdown",
   "id": "5478a51a",
   "metadata": {
    "slideshow": {
     "slide_type": "slide"
    }
   },
   "source": [
    "$$ \\mu(x) = e^{\\int \\frac{M_{y} - N_{x}}{N}dx} $$"
   ]
  },
  {
   "cell_type": "markdown",
   "id": "ec604ce2",
   "metadata": {
    "slideshow": {
     "slide_type": "slide"
    }
   },
   "source": [
    "$$ \\mu(y) =  e^{\\int \\frac{N_{x} - M_{y}}{M}dy}$$"
   ]
  },
  {
   "cell_type": "markdown",
   "id": "18c908fa",
   "metadata": {},
   "source": [
    "## Ejemplo 4 La ED no exacta hecha exacta\n"
   ]
  },
  {
   "cell_type": "markdown",
   "id": "2f34efa4",
   "metadata": {
    "slideshow": {
     "slide_type": "slide"
    }
   },
   "source": [
    "La ecuación diferencial no lineal de primer orden: \n",
    "\n",
    "$$xydx + (2x^{2} + 3y^{2} - 20)dy = 0   $$\n",
    "\n",
    "es no exacta. "
   ]
  },
  {
   "cell_type": "markdown",
   "id": "25addb49",
   "metadata": {
    "slideshow": {
     "slide_type": "slide"
    }
   },
   "source": [
    "## Solución con sympy "
   ]
  },
  {
   "cell_type": "code",
   "execution_count": 1,
   "id": "dd6134ae",
   "metadata": {
    "slideshow": {
     "slide_type": "slide"
    }
   },
   "outputs": [],
   "source": [
    "from sympy import *\n",
    "\n",
    "x,y = symbols('x y')\n",
    "\n",
    "y = Function('y')(x)\n",
    "# $$ xydx + (2x^{2} + 3y^{2} - 20)dy = 0  $$\n",
    "\n",
    "eq = (x*y)/(2*x**2+3*y**2-20) + diff(y,x) "
   ]
  },
  {
   "cell_type": "code",
   "execution_count": 2,
   "id": "832e89fd",
   "metadata": {
    "slideshow": {
     "slide_type": "slide"
    }
   },
   "outputs": [
    {
     "data": {
      "text/plain": [
       "('1st_power_series', 'lie_group')"
      ]
     },
     "execution_count": 2,
     "metadata": {},
     "output_type": "execute_result"
    }
   ],
   "source": [
    "classify_ode(eq, y)"
   ]
  },
  {
   "cell_type": "code",
   "execution_count": 7,
   "id": "40f48dce",
   "metadata": {
    "scrolled": true,
    "slideshow": {
     "slide_type": "slide"
    }
   },
   "outputs": [
    {
     "data": {
      "text/plain": [
       "[Eq(y(x), -sqrt(C1 + x**2)), Eq(y(x), sqrt(C1 + x**2))]"
      ]
     },
     "execution_count": 7,
     "metadata": {},
     "output_type": "execute_result"
    }
   ],
   "source": [
    "dsolve(eq,y, hint = '1st_exact')  "
   ]
  },
  {
   "cell_type": "code",
   "execution_count": 5,
   "id": "a49e6b41",
   "metadata": {
    "slideshow": {
     "slide_type": "slide"
    }
   },
   "outputs": [],
   "source": [
    "eq = Eq(x/y,diff(y,x))"
   ]
  },
  {
   "cell_type": "code",
   "execution_count": 6,
   "id": "2768ac7f",
   "metadata": {
    "scrolled": true
   },
   "outputs": [
    {
     "data": {
      "text/plain": [
       "('factorable',\n",
       " 'separable',\n",
       " '1st_exact',\n",
       " 'Bernoulli',\n",
       " '1st_homogeneous_coeff_best',\n",
       " '1st_homogeneous_coeff_subs_indep_div_dep',\n",
       " '1st_homogeneous_coeff_subs_dep_div_indep',\n",
       " '1st_power_series',\n",
       " 'lie_group',\n",
       " 'separable_Integral',\n",
       " '1st_exact_Integral',\n",
       " 'Bernoulli_Integral',\n",
       " '1st_homogeneous_coeff_subs_indep_div_dep_Integral',\n",
       " '1st_homogeneous_coeff_subs_dep_div_indep_Integral')"
      ]
     },
     "execution_count": 6,
     "metadata": {},
     "output_type": "execute_result"
    }
   ],
   "source": [
    "classify_ode(eq)"
   ]
  },
  {
   "cell_type": "markdown",
   "id": "476b61ac",
   "metadata": {
    "slideshow": {
     "slide_type": "slide"
    }
   },
   "source": [
    "**Conclusión:** La clasificación de las ecuaciones hace que el algoritmo computacional de solución funcione mejor. "
   ]
  },
  {
   "cell_type": "markdown",
   "id": "b2e475fb",
   "metadata": {
    "slideshow": {
     "slide_type": "slide"
    }
   },
   "source": [
    "## Graficación de algunas curvas solución con Matplotlib"
   ]
  },
  {
   "cell_type": "code",
   "execution_count": null,
   "id": "be86dcfa",
   "metadata": {},
   "outputs": [],
   "source": []
  },
  {
   "cell_type": "code",
   "execution_count": null,
   "id": "0c93bb1c",
   "metadata": {},
   "outputs": [],
   "source": []
  }
 ],
 "metadata": {
  "celltoolbar": "Slideshow",
  "kernelspec": {
   "display_name": "Python 3 (ipykernel)",
   "language": "python",
   "name": "python3"
  },
  "language_info": {
   "codemirror_mode": {
    "name": "ipython",
    "version": 3
   },
   "file_extension": ".py",
   "mimetype": "text/x-python",
   "name": "python",
   "nbconvert_exporter": "python",
   "pygments_lexer": "ipython3",
   "version": "3.9.7"
  }
 },
 "nbformat": 4,
 "nbformat_minor": 5
}
