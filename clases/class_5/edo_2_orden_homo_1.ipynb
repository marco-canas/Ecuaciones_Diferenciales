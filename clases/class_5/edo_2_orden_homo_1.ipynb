{
 "cells": [
  {
   "cell_type": "markdown",
   "metadata": {
    "slideshow": {
     "slide_type": "slide"
    }
   },
   "source": [
    "<table align=\"left\">\n",
    "  <td>\n",
    "    <a href=\"https://colab.research.google.com/github/marco-canas/innovaciones/blob/main/ref/geron/math_linear_algebra/linear_algebra.ipynb\" target=\"_parent\"><img src=\"https://colab.research.google.com/assets/colab-badge.svg\" alt=\"Open In Colab\"/></a>\n",
    "  </td>\n",
    "  \n",
    "</table>"
   ]
  },
  {
   "cell_type": "markdown",
   "metadata": {
    "slideshow": {
     "slide_type": "slide"
    }
   },
   "source": [
    "## [Video de apoyo]()"
   ]
  },
  {
   "cell_type": "markdown",
   "metadata": {
    "slideshow": {
     "slide_type": "slide"
    }
   },
   "source": [
    "# Ecuaciones lineales de segundo orden homogéneas de coeficientes constantes"
   ]
  },
  {
   "cell_type": "markdown",
   "metadata": {
    "slideshow": {
     "slide_type": "slide"
    }
   },
   "source": [
    "Consideremos la ecuación general \n",
    "\n",
    "$$ ay'' + by' + cy = 0 $$\n",
    "\n",
    "que tiene coeficientes reales arbitrarios. "
   ]
  },
  {
   "cell_type": "markdown",
   "metadata": {
    "slideshow": {
     "slide_type": "slide"
    }
   },
   "source": [
    "Con base en la experiencia adquirida con la ecuación $y' = y$, también buscamos soluciones exponenciales para esta ecuación. "
   ]
  },
  {
   "cell_type": "markdown",
   "metadata": {
    "slideshow": {
     "slide_type": "slide"
    }
   },
   "source": [
    "Por tanto se supone que $y = e^{rx}$, en donde $r$ es un parámetro por determinar. "
   ]
  },
  {
   "cell_type": "markdown",
   "metadata": {
    "slideshow": {
     "slide_type": "slide"
    }
   },
   "source": [
    "Luego se sigue que $y'=re^{rx}$ y $y''=r^{2}e^{rx}$. "
   ]
  },
  {
   "cell_type": "markdown",
   "metadata": {
    "slideshow": {
     "slide_type": "slide"
    }
   },
   "source": [
    "sustituir en la ED dada: \n",
    "\n",
    "\\begin{align*}\n",
    "ay'' + by' + cy = 0 & \\Rightarrow ar^{2}e^{rx} + bre^{rx} + ce^{rx} = 0 \\\\\n",
    "                    & \\Rightarrow  e^{rx}(ar^{2} + br + c) = 0 \n",
    "\\end{align*}\n",
    "\n"
   ]
  },
  {
   "cell_type": "markdown",
   "metadata": {
    "slideshow": {
     "slide_type": "slide"
    }
   },
   "source": [
    "o bien, dado que $e^{rx} \\neq 0$, \n",
    "\n",
    "$$ ar^{2}+br+c = 0 $$\n"
   ]
  },
  {
   "cell_type": "markdown",
   "metadata": {
    "slideshow": {
     "slide_type": "slide"
    }
   },
   "source": [
    "La ecuación anterior se llama ecuación característica de la ecuación:\n",
    "\n",
    "$$ ay'' + by' + cy = 0. $$\n"
   ]
  },
  {
   "cell_type": "markdown",
   "metadata": {
    "slideshow": {
     "slide_type": "slide"
    }
   },
   "source": [
    "Su importancia reside en el hecho de que si $r$ es una raíz de la ecuación polinomial \n",
    "\n",
    "$$ ar^{2}+br+c = 0, $$\n",
    "\n",
    "entonces $y=e^{rx}$ es solución de la ecuación diferencial \n",
    "\n",
    "$$ ay''+by'+cy = 0 $$\n",
    "\n"
   ]
  },
  {
   "cell_type": "markdown",
   "metadata": {
    "slideshow": {
     "slide_type": "slide"
    }
   },
   "source": [
    "Ya que $ar^{2}+br+c = 0,$ es una ecuación cuadrática con coeficientes reales, tiene dos raíces, que pueden ser:\n",
    "\n",
    "* reales y diferentes,\n",
    "* reales pero repetidas,\n",
    "* o complejas conjugadas\n"
   ]
  },
  {
   "cell_type": "markdown",
   "metadata": {
    "slideshow": {
     "slide_type": "slide"
    }
   },
   "source": [
    "Por ahora se tendrá en cuenta solo el primer caso y los otros se tratarán en las secciones $3.4$ y $3.5$. "
   ]
  },
  {
   "cell_type": "markdown",
   "metadata": {
    "slideshow": {
     "slide_type": "slide"
    }
   },
   "source": [
    "Si se supone que las raíces de la ecuación característica $ar^{2}+br+c = 0,$ son reales y diferentes, denotese por $r_{1}$ y $r_{2}$, en donde por supuesto $r_{1} \\neq r_{2}$. "
   ]
  },
  {
   "cell_type": "markdown",
   "metadata": {
    "slideshow": {
     "slide_type": "slide"
    }
   },
   "source": [
    "Entonces $y_{1}(x) = e^{r_{1}x}$ y $y_{2}(x) = e^{r_{2}x}$ son dos soluciones de la ecuación \n",
    "\n",
    "$$ ay''+by'+cy = 0 $$\n"
   ]
  },
  {
   "cell_type": "markdown",
   "metadata": {
    "slideshow": {
     "slide_type": "slide"
    }
   },
   "source": [
    "Así como con el ejemplo de $y''-y=0$, se puede concluir que \n",
    "\n",
    "$$y = c_{1}y_{1}(x) + c_{2}y_{2}(x) = c_{1}e^{r_{1}x} + c_{2}e^{r_{2}x} $$\n",
    "también es solución de \n",
    "\n",
    "$$ ay''+by'+cy = 0 $$\n"
   ]
  },
  {
   "cell_type": "markdown",
   "metadata": {
    "slideshow": {
     "slide_type": "slide"
    }
   },
   "source": [
    "# Verificación de la solución general encontrada "
   ]
  },
  {
   "cell_type": "markdown",
   "metadata": {
    "slideshow": {
     "slide_type": "slide"
    }
   },
   "source": [
    "Para verificar este hecho se puede derivar la expresión de la ecuación \n",
    "\n",
    "$$y = c_{1}e^{r_{1}x} + c_{2}e^{r_{2}x}; $$\n",
    "\n",
    "de donde\n",
    "\n",
    "$$y'= c_{1}r_{1}e^{r_{1}(x)} + c_{2}r_{2}e^{r_{2}x} $$\n",
    "\n",
    "$$y''= c_{1}r_{1}^{2}e^{r_{1}x} + c_{2}r_{2}^{2}e^{r_{2}x} $$\n"
   ]
  },
  {
   "cell_type": "markdown",
   "metadata": {
    "slideshow": {
     "slide_type": "slide"
    }
   },
   "source": [
    "Si se sustituyen estas expresiones para $y,y'$ y $y''$ en \n",
    "\n",
    "$$ ay''+by'+cy = 0, $$\n",
    "\n",
    "se obtiene \n",
    "\n",
    "$$ ay''+by'+cy = c_{1}(ar_{1}^{2} + br_{1} + c)e^{r_{1}x} + c_{2}(ar_{2}^{2}+br_{2}+c)e^{r_{2}x} $$\n"
   ]
  },
  {
   "cell_type": "markdown",
   "metadata": {
    "slideshow": {
     "slide_type": "slide"
    }
   },
   "source": [
    "La cantidad entre cada uno de los paréntesis de la ecuación anterior es cero porque $r_{1}$ y $r_{2}$ son raíces de \n",
    "\n",
    "$$ ay''+by'+cy = 0, $$\n"
   ]
  },
  {
   "cell_type": "markdown",
   "metadata": {
    "slideshow": {
     "slide_type": "slide"
    }
   },
   "source": [
    "por consiguiente, la función definida por $y = c_{1}e^{r_{1}x} + c_{2}e^{r_{2}x}$, es una solución de \n",
    "$$ ay''+by'+cy = 0, $$\n",
    "\n",
    "que era lo que queriamos comprobar. "
   ]
  },
  {
   "cell_type": "markdown",
   "metadata": {
    "slideshow": {
     "slide_type": "slide"
    }
   },
   "source": [
    "# Solución de un PVI "
   ]
  },
  {
   "cell_type": "markdown",
   "metadata": {
    "slideshow": {
     "slide_type": "slide"
    }
   },
   "source": [
    "Ahora suponga que se desea encontrar el miembro particular de la familia de soluciones  $y = c_{1}e^{r_{1}x} + c_{2}e^{r_{2}x}$ que satisfaga las condiciones inciales \n",
    "\n",
    "$$y(x_{0}) = y_{0}, \\quad y'(x_{0}) = y'_{0} $$\n"
   ]
  },
  {
   "cell_type": "markdown",
   "metadata": {
    "slideshow": {
     "slide_type": "slide"
    }
   },
   "source": [
    "Al sustituir $x = x_{0}$ y $y = y_{0}$ en \n",
    "\n",
    "$$ y = c_{1}e^{r_{1}x} + c_{2}e^{r_{2}x} $$\n",
    "\n",
    "se obtiene \n",
    "\n",
    "$$ c_{1}e^{r_{1}x_{0}} + c_{2}e^{r_{2}x_{0}} = y_{0} $$\n",
    "\n"
   ]
  },
  {
   "cell_type": "markdown",
   "metadata": {
    "slideshow": {
     "slide_type": "slide"
    }
   },
   "source": [
    "De menera semejante, al hacer $x_{0}$ y $y' = y'_{0}$ en \n",
    "\n",
    "$$y'= c_{1}r_{1}e^{r_{1}(x)} + c_{2}r_{2}e^{r_{2}x} $$\n",
    "\n",
    "se obtiene \n",
    "\n",
    "$$ c_{1}r_{1}e^{r_{1}x_{0}} + c_{2}r_{2}e^{r_{2}x_{0}} = y'_{0} $$\n"
   ]
  },
  {
   "cell_type": "markdown",
   "metadata": {
    "slideshow": {
     "slide_type": "slide"
    }
   },
   "source": [
    "Al resolver simultáneamente las ecuaciones \n",
    "\n",
    "\\begin{align*}\n",
    "c_{1}e^{r_{1}x_{0}} + c_{2}e^{r_{2}x_{0}} & = y_{0} \\\\\n",
    "c_{1}r_{1}e^{r_{1}x_{0}} + c_{2}r_{2}e^{r_{2}x_{0}} & = y'_{0}\n",
    "\\end{align*}\n",
    "\n",
    "para $c_{1}$ y $c_{2}$, se encuentra que \n",
    "\n",
    "$$ c_{1} = \\frac{y'_{0} - y_{0}r_{2}}{r_{1} - r_{2}}e^{-r_{1}x_{0}}, \\qquad c_{2} = \\frac{y_{0}r_{1} -y'_{0}}{r_{1}-r_{2}}e^{-r_{2}x_{0}} $$\n"
   ]
  },
  {
   "cell_type": "markdown",
   "metadata": {
    "slideshow": {
     "slide_type": "slide"
    }
   },
   "source": [
    "Por tanto, no importa cuales condiciones iniciales se asignen, es decir, sin importar los valores de $x_{0}, y_{0}$ y $y'_{0}$ de \n",
    "\n",
    "$$y(x_{0}) = y_{0}, \\qquad y'(x_{0})=y'_{0} $$\n",
    "\n",
    "siempre es posible determinar $c_{1}$ y $c_{2}$ de modo que se satisfagan las condiciones iniciales;\n"
   ]
  },
  {
   "cell_type": "markdown",
   "metadata": {
    "slideshow": {
     "slide_type": "slide"
    }
   },
   "source": [
    "es más, solo existe una elección posible de $c_{1}$ y $c_{2}$ para cada conjunto de condiciones iniciales. "
   ]
  },
  {
   "cell_type": "markdown",
   "metadata": {
    "slideshow": {
     "slide_type": "slide"
    }
   },
   "source": [
    "Con los valores $c_{1}$ y $c_{2}$ dados por la ecuación \n",
    "\n",
    "$$ c_{1} = \\frac{y'_{0} - y_{0}r_{2}}{r_{1} - r_{2}}e^{-r_{1}x_{0}}, \\qquad c_{2} = \\frac{y_{0}r_{1} -y'_{0}}{r_{1}-r_{2}}e^{-r_{2}x_{0}} $$\n",
    "\n",
    "la expresión \n",
    "\n",
    "$$y = c_{1}e^{r_{1}x} + c_{2}e^{r_{2}x}$$\n",
    "\n",
    "es la solución del problema con valor inicial \n",
    "\n",
    "$$ay''+by'+cy=0, \\qquad, y(x_{0}) = y_{0}, \\quad y'(x_{0}) = y'_{0} $$\n",
    "\n"
   ]
  },
  {
   "cell_type": "markdown",
   "metadata": {
    "slideshow": {
     "slide_type": "slide"
    }
   },
   "source": [
    "Es posible demostrar, con base en el teorema fundamental que se cita en la siguiente sección, que todas las soluciones de $ay''+by'+cy=0$ están incluidas en la expresión \n",
    "\n",
    "$$ y = c_{1}e^{r_{1}x} + c_{2}e^{r_{2}x}, $$\n",
    "\n",
    "al menos para el caso en que las raíces de \n",
    "\n",
    "$$ar^{2}+br+c=0$$\n",
    "\n",
    "son reales diferentes. \n"
   ]
  },
  {
   "cell_type": "markdown",
   "metadata": {
    "slideshow": {
     "slide_type": "slide"
    }
   },
   "source": [
    "Por lo tanto, la ecuación \n",
    "\n",
    "$$ y = c_{1}e^{r_{1}x} + c_{2}e^{r_{2}x}, $$\n",
    "\n",
    "se conoce como la **solución general** de la ecuación \n",
    "\n",
    "$$ ay''+by'+cy = 0, $$\n",
    "\n"
   ]
  },
  {
   "cell_type": "markdown",
   "metadata": {
    "slideshow": {
     "slide_type": "slide"
    }
   },
   "source": [
    "El hecho de que todas las condiciones iniciales posibles se puedan satisfacer al elegir de manera adecuada las constantes de la ecuación \n",
    "\n",
    "$$y = c_{1}e^{r_{1}x} + c_{2}e^{r_{2}x}$$\n",
    "\n",
    "hace más plausible la idea de que esta expresión en realidad incluye todas las soluciones de \n",
    "\n",
    "$$ ay''+by'+cy = 0, $$\n"
   ]
  },
  {
   "cell_type": "markdown",
   "metadata": {
    "slideshow": {
     "slide_type": "slide"
    }
   },
   "source": [
    "# Ejemplo:\n",
    "Página 140 del Boyce DiPrima"
   ]
  },
  {
   "cell_type": "markdown",
   "metadata": {
    "slideshow": {
     "slide_type": "slide"
    }
   },
   "source": [
    "Encontrar la solución general de \n",
    "$$ y'' + 5y' + 6y = 0 $$"
   ]
  },
  {
   "cell_type": "markdown",
   "metadata": {
    "slideshow": {
     "slide_type": "slide"
    }
   },
   "source": [
    "## Solución:"
   ]
  },
  {
   "cell_type": "markdown",
   "metadata": {
    "slideshow": {
     "slide_type": "slide"
    }
   },
   "source": [
    "Se supone que $y = e^{rx}$ y se sigue que $r$ debe ser raíz de la ecuación característica \n",
    "\n",
    "$$ r^{2} + 5r+6 = (r+3)(r+2) = 0 $$\n"
   ]
  },
  {
   "cell_type": "markdown",
   "metadata": {
    "slideshow": {
     "slide_type": "slide"
    }
   },
   "source": [
    "Por tanto, los valores posibles de $r$ son $r_{1}=-2$ y $r_{2}=-3$. "
   ]
  },
  {
   "cell_type": "markdown",
   "metadata": {
    "slideshow": {
     "slide_type": "slide"
    }
   },
   "source": [
    "La solución general de la ecuación $y''+5y'+6y=0$ es\n",
    "\n",
    "$$ y = c_{1}e^{-2x}+c_{2}e^{-3x} $$\n"
   ]
  },
  {
   "cell_type": "code",
   "execution_count": 1,
   "metadata": {
    "slideshow": {
     "slide_type": "slide"
    }
   },
   "outputs": [
    {
     "data": {
      "application/vnd.jupyter.widget-view+json": {
       "model_id": "bd294df014854a3c948d77a9916892ef",
       "version_major": 2,
       "version_minor": 0
      },
      "text/plain": [
       "interactive(children=(IntSlider(value=1, description='c1', max=7, min=-7), IntSlider(value=-1, description='c2…"
      ]
     },
     "metadata": {},
     "output_type": "display_data"
    },
    {
     "data": {
      "text/plain": [
       "<function __main__.cintegrales(c1=1, c2=-1)>"
      ]
     },
     "execution_count": 1,
     "metadata": {},
     "output_type": "execute_result"
    }
   ],
   "source": [
    "import numpy as np \n",
    "import matplotlib.pyplot as plt \n",
    "from ipywidgets import interact \n",
    "plt.style.use('dark_background')\n",
    "\n",
    "a,b=-1,5 # dominio de graficación \n",
    "r1,r2=-2,-3\n",
    "\n",
    "def cintegrales(c1=1,c2=-1):\n",
    "    x=np.linspace(a,b)\n",
    "    y=c1*np.exp(r1*x)+c2*np.exp(r2*x)\n",
    "    plt.plot(x,y,color = 'yellow')\n",
    "    plt.axis([a,b,-10,16])\n",
    "    plt.title(\"Algunas curvas integrales de $y'' + 5y' + 6y = 0$\")\n",
    "    plt.grid(True, alpha = 0.3)\n",
    "    plt.show() \n",
    "\n",
    "interact(cintegrales,c1=(-7,7),c2=(-7,7))    "
   ]
  },
  {
   "cell_type": "code",
   "execution_count": 5,
   "metadata": {
    "slideshow": {
     "slide_type": "slide"
    }
   },
   "outputs": [
    {
     "data": {
      "text/latex": [
       "$\\displaystyle f{\\left(x \\right)} = \\left(C_{1} e^{x} + C_{2}\\right) e^{- 3 x}$"
      ],
      "text/plain": [
       "Eq(f(x), (C1*exp(x) + C2)*exp(-3*x))"
      ]
     },
     "execution_count": 5,
     "metadata": {},
     "output_type": "execute_result"
    }
   ],
   "source": [
    "from sympy import Function, dsolve, Eq, Derivative, sin, cos\n",
    "from sympy.abc import x\n",
    "f = Function('f')\n",
    "a,b,c=1,5,6\n",
    "dsolve(a*Derivative(f(x),x,2)+b*Derivative(f(x),x)+c*f(x)).simplify()   "
   ]
  },
  {
   "cell_type": "markdown",
   "metadata": {
    "slideshow": {
     "slide_type": "slide"
    }
   },
   "source": [
    "**Nota:** No se traza campo de direcciones para una ecuación de segundo orden. "
   ]
  },
  {
   "cell_type": "markdown",
   "metadata": {
    "slideshow": {
     "slide_type": "slide"
    }
   },
   "source": [
    "# Ejemplo 2\n",
    "página 140"
   ]
  },
  {
   "cell_type": "markdown",
   "metadata": {
    "slideshow": {
     "slide_type": "slide"
    }
   },
   "source": [
    "Hallar la solución del problema con valor inicial \n",
    "\n",
    "$$ y''+5y'+6y=0, \\qquad y(0)=2, \\quad y'(0) = 3. $$"
   ]
  },
  {
   "cell_type": "markdown",
   "metadata": {
    "slideshow": {
     "slide_type": "slide"
    }
   },
   "source": [
    "## Solución: "
   ]
  },
  {
   "cell_type": "markdown",
   "metadata": {
    "slideshow": {
     "slide_type": "slide"
    }
   },
   "source": [
    "La solución general de la ecuación diferencial se encontró en el ejemplo anterior y está dada por la ecuación\n",
    "\n",
    "$$ y = c_{1}e^{-2x}+c_{2}e^{-3x} $$\n"
   ]
  },
  {
   "cell_type": "markdown",
   "metadata": {
    "slideshow": {
     "slide_type": "slide"
    }
   },
   "source": [
    "para satisfacer la primera condición se hace $x = 0$ y $y = 2$ en $ y = c_{1}e^{-2x}+c_{2}e^{-3x} $:\n",
    "\n",
    "$$2 = c_{1} + c_{2}$$\n"
   ]
  },
  {
   "cell_type": "markdown",
   "metadata": {
    "slideshow": {
     "slide_type": "slide"
    }
   },
   "source": [
    "Para usar la segunda condición inicial, primero debe derivarse la ecuación \n",
    "\n",
    "$$ y = c_{1}e^{-2x} + c_{2}e^{-3x} $$\n",
    "\n",
    "esto da\n",
    "\n",
    "$$ y' = -2c_{1}e^{-2x} - 3c_{2}e^{-3x} $$\n"
   ]
  },
  {
   "cell_type": "markdown",
   "metadata": {
    "slideshow": {
     "slide_type": "slide"
    }
   },
   "source": [
    "Entonces si se hace $x = 0$ y $y' = 3$ obtenemos \n",
    "\n",
    "$$-2c_{1} - 3c_{2} = 3$$\n"
   ]
  },
  {
   "cell_type": "markdown",
   "metadata": {
    "slideshow": {
     "slide_type": "slide"
    }
   },
   "source": [
    "Al resolver el sistema \n",
    "\n",
    "\\begin{align*}\n",
    "c_{1}+c_{2}    & = 2 \\\\\n",
    "-2c_{1}-3c_{2} & = 3\n",
    "\\end{align*}\n",
    "se encuantre que $c_{1} = 9$ y $c_{2} = -7$."
   ]
  },
  {
   "cell_type": "markdown",
   "metadata": {
    "slideshow": {
     "slide_type": "slide"
    }
   },
   "source": [
    "Si se usan estos valores en la expresión \n",
    "$$ y = c_{1}e^{-2x} + c_{2}e^{-3x} $$\n",
    "\n",
    "se encuentra la solución\n",
    "\n",
    "$$ y = 9e^{-2x} -7e^{-3x} $$\n",
    "\n",
    "del problema con valor inicial \n",
    "\n",
    "$$ y''+5y'+6y=0, \\qquad y(0)=2, \\quad y'(0) = 3. $$"
   ]
  },
  {
   "cell_type": "code",
   "execution_count": 1,
   "metadata": {
    "slideshow": {
     "slide_type": "slide"
    }
   },
   "outputs": [
    {
     "data": {
      "text/plain": [
       "1.3"
      ]
     },
     "execution_count": 1,
     "metadata": {},
     "output_type": "execute_result"
    }
   ],
   "source": [
    "26/100*5"
   ]
  },
  {
   "cell_type": "code",
   "execution_count": 6,
   "metadata": {
    "slideshow": {
     "slide_type": "slide"
    }
   },
   "outputs": [
    {
     "data": {
      "text/latex": [
       "$\\displaystyle f{\\left(x \\right)} = \\left(C_{1} + C_{2} e^{- x}\\right) e^{- 2 x}$"
      ],
      "text/plain": [
       "Eq(f(x), (C1 + C2*exp(-x))*exp(-2*x))"
      ]
     },
     "execution_count": 6,
     "metadata": {},
     "output_type": "execute_result"
    }
   ],
   "source": [
    "from sympy import Function, dsolve, Eq, Derivative, sin, cos\n",
    "from sympy.abc import x\n",
    "f = Function('f') # utilice la función Derivative(f(x),x)\n",
    "ED=Derivative(f(x),x,2)+5*Derivative(f(x),x)+6*f(x)# ED=0 y''+5y'+6y=0\n",
    "dsolve(ED,f(x))  "
   ]
  },
  {
   "cell_type": "markdown",
   "metadata": {
    "slideshow": {
     "slide_type": "slide"
    }
   },
   "source": [
    "$$ f'(x) = -2C_{1}e^{-2x} - 3C_{2}e^{-3x} $$ "
   ]
  },
  {
   "cell_type": "markdown",
   "metadata": {
    "slideshow": {
     "slide_type": "slide"
    }
   },
   "source": [
    "## Solución de sistemas de ecuaciones lineales "
   ]
  },
  {
   "cell_type": "code",
   "execution_count": 7,
   "metadata": {
    "slideshow": {
     "slide_type": "slide"
    }
   },
   "outputs": [
    {
     "data": {
      "text/plain": [
       "{c1: 9, c2: -7}"
      ]
     },
     "execution_count": 7,
     "metadata": {},
     "output_type": "execute_result"
    }
   ],
   "source": [
    "from sympy import *\n",
    "c1,c2 = symbols('c1 c2')\n",
    "solve([c1 + c2-2,-2*c1-3*c2-3],[c1,c2])"
   ]
  },
  {
   "cell_type": "code",
   "execution_count": 8,
   "metadata": {
    "slideshow": {
     "slide_type": "slide"
    }
   },
   "outputs": [
    {
     "data": {
      "application/vnd.jupyter.widget-view+json": {
       "model_id": "cb257585228c4d1f8a311d762c618348",
       "version_major": 2,
       "version_minor": 0
      },
      "text/plain": [
       "interactive(children=(IntSlider(value=9, description='c1', max=9, min=-7), IntSlider(value=-7, description='c2…"
      ]
     },
     "metadata": {},
     "output_type": "display_data"
    },
    {
     "data": {
      "text/plain": [
       "<function __main__.cintegrales(c1=9, c2=-7)>"
      ]
     },
     "execution_count": 8,
     "metadata": {},
     "output_type": "execute_result"
    }
   ],
   "source": [
    "import numpy as np \n",
    "import matplotlib.pyplot as plt \n",
    "from ipywidgets import interact \n",
    "a,b=-1,5 # dominio de graficación \n",
    "r1,r2=-2,-3 # raices de la ecuación auxiliar \n",
    "\n",
    "def cintegrales(c1=9,c2=-7):\n",
    "    x=np.linspace(a,b)\n",
    "    y=c1*np.exp(r1*x)+c2*np.exp(r2*x) # solución general\n",
    "    plt.plot(x,y,'b-')\n",
    "    plt.plot([0],[2],'ro') # la primera condición inicial \n",
    "    plt.plot(x,3*x+2,'g-') # la segunda condición inicial \n",
    "    plt.axis([a,b,-10,16]) # restángulo de visualización\n",
    "    plt.grid() \n",
    "    plt.show() \n",
    "\n",
    "interact(cintegrales,c1=(-7,9),c2=(-7,7))    "
   ]
  },
  {
   "cell_type": "markdown",
   "metadata": {
    "slideshow": {
     "slide_type": "slide"
    }
   },
   "source": [
    "## Ejemplo 3\n",
    "Página 141 "
   ]
  },
  {
   "cell_type": "markdown",
   "metadata": {
    "slideshow": {
     "slide_type": "slide"
    }
   },
   "source": [
    "Hallar la solución del problema con valor inicial \n",
    "\n",
    "$$ 4y'' -8y' +3y = 0 \\qquad y(0) = 2, \\quad y'(0) = \\frac{1}{2} $$"
   ]
  },
  {
   "cell_type": "markdown",
   "metadata": {
    "slideshow": {
     "slide_type": "slide"
    }
   },
   "source": [
    "Si $y = e^{rx}$, entonces la ecuación característica es\n",
    "\n",
    "$$ 4r^{2} - 8r + 3 = 0 $$\n"
   ]
  },
  {
   "cell_type": "code",
   "execution_count": 9,
   "metadata": {
    "scrolled": true,
    "slideshow": {
     "slide_type": "slide"
    }
   },
   "outputs": [
    {
     "data": {
      "text/plain": [
       "(0.5, 1.5)"
      ]
     },
     "execution_count": 9,
     "metadata": {},
     "output_type": "execute_result"
    }
   ],
   "source": [
    "from sympy import * # solución de ecuación característica \n",
    "r = Symbol('r')\n",
    "c1,c2=symbols('c1 c2') \n",
    "a,b,c=4,-8,3\n",
    "[r1,r2]=solve(a*r**2 + b*r+c,r) \n",
    "float(r1),float(r2) "
   ]
  },
  {
   "cell_type": "code",
   "execution_count": 10,
   "metadata": {
    "slideshow": {
     "slide_type": "slide"
    }
   },
   "outputs": [
    {
     "data": {
      "text/latex": [
       "$\\displaystyle f{\\left(x \\right)} = \\left(C_{1} + C_{2} e^{x}\\right) \\sqrt{e^{x}}$"
      ],
      "text/plain": [
       "Eq(f(x), (C1 + C2*exp(x))*sqrt(exp(x)))"
      ]
     },
     "execution_count": 10,
     "metadata": {},
     "output_type": "execute_result"
    }
   ],
   "source": [
    "from sympy import Function, dsolve, Eq, Derivative # solución de la ED\n",
    "from sympy.abc import x\n",
    "a,b,c=4,-8,3\n",
    "f = Function('f') # utilice la función Derivative(f(x),x)\n",
    "ED=a*Derivative(f(x),x,2)+b*Derivative(f(x),x)+c*f(x) # ED=0 y''+5y'+6y=0\n",
    "dsolve(ED,f(x))"
   ]
  },
  {
   "cell_type": "code",
   "execution_count": 11,
   "metadata": {
    "slideshow": {
     "slide_type": "slide"
    }
   },
   "outputs": [
    {
     "data": {
      "text/plain": [
       "{c1: 2.50000000000000, c2: -0.500000000000000}"
      ]
     },
     "execution_count": 11,
     "metadata": {},
     "output_type": "execute_result"
    }
   ],
   "source": [
    "from sympy import *\n",
    "c1,c2 = symbols('c1 c2')\n",
    "solve([c1 + c2-2,r1*c1+r2*c2-0.5],[c1,c2])"
   ]
  },
  {
   "cell_type": "code",
   "execution_count": 12,
   "metadata": {
    "slideshow": {
     "slide_type": "slide"
    }
   },
   "outputs": [
    {
     "data": {
      "application/vnd.jupyter.widget-view+json": {
       "model_id": "3c24225fa9474a4faea828ac0fcbe7b2",
       "version_major": 2,
       "version_minor": 0
      },
      "text/plain": [
       "interactive(children=(FloatSlider(value=2.5, description='c1', max=9.0, min=-7.0, step=0.5), FloatSlider(value…"
      ]
     },
     "metadata": {},
     "output_type": "display_data"
    },
    {
     "data": {
      "text/plain": [
       "<function __main__.curvas_integrales(c1=2.5, c2=-0.5)>"
      ]
     },
     "execution_count": 12,
     "metadata": {},
     "output_type": "execute_result"
    }
   ],
   "source": [
    "import numpy as np \n",
    "import matplotlib.pyplot as plt \n",
    "from ipywidgets import interact \n",
    "a,b=-1,5 # dominio de graficación \n",
    "\n",
    "def curvas_integrales(c1=2.5,c2=-0.5):\n",
    "    x=np.linspace(a,b)\n",
    "    y=c1*np.exp(0.5*x)+c2*np.exp(1.5*x)  # solución general\n",
    "    plt.plot(x,y,'b-')                   # curvas integrales \n",
    "    plt.plot([0],[2],'ro')               # la primera condición inicial \n",
    "    plt.plot(x,0.5*x+2,'g--', alpha=0.6) # la segunda condición inicial \n",
    "    plt.axis([a,b,-10,16])               # restángulo de visualización\n",
    "    plt.grid()                           # activa la cuadrícula\n",
    "    plt.show()                           # consolida en una sola figura los trazos anteriores \n",
    "\n",
    "interact(curvas_integrales,c1=(-7,9,0.5),c2=(-7,7,0.5))     "
   ]
  },
  {
   "cell_type": "markdown",
   "metadata": {
    "slideshow": {
     "slide_type": "slide"
    }
   },
   "source": [
    "## Ejemplo 4 \n",
    "Página 142"
   ]
  },
  {
   "cell_type": "markdown",
   "metadata": {
    "slideshow": {
     "slide_type": "slide"
    }
   },
   "source": [
    "$$ y'' + y' + - 12y = 0, \\qquad y(2) = 2, \\quad y'(2)= 0 $$"
   ]
  },
  {
   "cell_type": "markdown",
   "metadata": {
    "slideshow": {
     "slide_type": "slide"
    }
   },
   "source": [
    "Ecuación característica:\n",
    "\n",
    "$$r^{2} + r - 12 = 0$$\n"
   ]
  },
  {
   "cell_type": "code",
   "execution_count": 13,
   "metadata": {
    "slideshow": {
     "slide_type": "slide"
    }
   },
   "outputs": [
    {
     "data": {
      "text/plain": [
       "(-4.0, 3.0)"
      ]
     },
     "execution_count": 13,
     "metadata": {},
     "output_type": "execute_result"
    }
   ],
   "source": [
    "from sympy import * # solución de ecuación característica \n",
    "r = Symbol('r')\n",
    "c1,c2=symbols('c1 c2') \n",
    "a,b,c=1,1,-12\n",
    "[r1,r2]=solve(a*r**2 + b*r+c,r) \n",
    "float(r1),float(r2) "
   ]
  },
  {
   "cell_type": "code",
   "execution_count": 14,
   "metadata": {
    "slideshow": {
     "slide_type": "slide"
    }
   },
   "outputs": [
    {
     "data": {
      "text/latex": [
       "$\\displaystyle f{\\left(x \\right)} = C_{1} e^{- 4 x} + C_{2} e^{3 x}$"
      ],
      "text/plain": [
       "Eq(f(x), C1*exp(-4*x) + C2*exp(3*x))"
      ]
     },
     "execution_count": 14,
     "metadata": {},
     "output_type": "execute_result"
    }
   ],
   "source": [
    "from sympy import Function, dsolve, Eq, Derivative \n",
    "from sympy.abc import x\n",
    "a,b,c=1,1,-12 \n",
    "f = Function('f') # utilice la función Derivative(f(x),x)\n",
    "ED=a*Derivative(f(x),x,2)+b*Derivative(f(x),x)+c*f(x) # ED=0 y''+5y'+6y=0\n",
    "dsolve(ED,f(x))"
   ]
  },
  {
   "cell_type": "code",
   "execution_count": 15,
   "metadata": {
    "slideshow": {
     "slide_type": "slide"
    }
   },
   "outputs": [
    {
     "data": {
      "text/plain": [
       "{c1: 0.785714285714286, c2: 1.21428571428571}"
      ]
     },
     "execution_count": 15,
     "metadata": {},
     "output_type": "execute_result"
    }
   ],
   "source": [
    "from sympy import *\n",
    "c1,c2 = symbols('c1 c2')\n",
    "solve([c1 + c2-2,r1*c1+r2*c2-0.5],[c1,c2])"
   ]
  },
  {
   "cell_type": "code",
   "execution_count": 17,
   "metadata": {
    "slideshow": {
     "slide_type": "slide"
    }
   },
   "outputs": [
    {
     "data": {
      "application/vnd.jupyter.widget-view+json": {
       "model_id": "641d132e50cd4dc9953dd2f7396265ba",
       "version_major": 2,
       "version_minor": 0
      },
      "text/plain": [
       "interactive(children=(FloatSlider(value=2.5, description='c1', max=9.0, min=-7.0, step=0.5), FloatSlider(value…"
      ]
     },
     "metadata": {},
     "output_type": "display_data"
    },
    {
     "data": {
      "text/plain": [
       "<function __main__.curvas_integrales(c1=2.5, c2=-0.5)>"
      ]
     },
     "execution_count": 17,
     "metadata": {},
     "output_type": "execute_result"
    }
   ],
   "source": [
    "import numpy as np \n",
    "import matplotlib.pyplot as plt \n",
    "from ipywidgets import interact \n",
    "a,b=-1,5 # dominio de graficación \n",
    "\n",
    "def curvas_integrales(c1=2.5,c2=-0.5):\n",
    "    x=np.linspace(a,b)\n",
    "    y=c1*np.exp(0.5*x)+c2*np.exp(1.5*x)  # solución general\n",
    "    plt.plot(x,y,'b-')                   # curvas integrales \n",
    "    plt.plot([0],[2],'ro')               # la primera condición inicial \n",
    "    plt.plot(x,0.5*x+2,'g--', alpha=0.3) # la segunda condición inicial \n",
    "    plt.axis([a,b,-10,16])               # restángulo de visualización\n",
    "    plt.grid()                           # activa la cuadrícula\n",
    "    plt.title('y'' + y' + - 12y = 0,')\n",
    "    plt.show()                           # consolida en una sola figura los trazos anteriores \n",
    "\n",
    "interact(curvas_integrales,c1=(-7,9,0.5),c2=(-7,7,0.5))     "
   ]
  },
  {
   "cell_type": "markdown",
   "metadata": {
    "slideshow": {
     "slide_type": "slide"
    }
   },
   "source": [
    "# 3.2 Soluciones fundamentales de las ecuaciones lineales homogéneas"
   ]
  },
  {
   "cell_type": "markdown",
   "metadata": {
    "slideshow": {
     "slide_type": "slide"
    }
   },
   "source": [
    "En la sección anterior \n",
    "\n",
    "$$ay'' + by' + cy = 0$$\n"
   ]
  },
  {
   "cell_type": "markdown",
   "metadata": {
    "slideshow": {
     "slide_type": "slide"
    }
   },
   "source": [
    "# Ejercicios propuestos ecuaciones lineales de orden superior"
   ]
  },
  {
   "cell_type": "markdown",
   "metadata": {
    "slideshow": {
     "slide_type": "slide"
    }
   },
   "source": [
    "En los problemas 59 y 60 utilice un SymPy como ayuda para resolver la ecuación auxiliar.  \n",
    "Forme la solución general de la ecuación diferencial.   \n",
    "Después utilice un SAC como ayuda para resolver el sistema de ecuaciones para los coeficientes \n",
    "$c i, = 1, 2, 3, 4$ que resulta cuando se aplican las condiciones iniciales a la solución general.\n"
   ]
  },
  {
   "cell_type": "code",
   "execution_count": null,
   "metadata": {},
   "outputs": [],
   "source": []
  }
 ],
 "metadata": {
  "celltoolbar": "Slideshow",
  "hide_input": false,
  "kernelspec": {
   "display_name": "Python 3 (ipykernel)",
   "language": "python",
   "name": "python3"
  },
  "language_info": {
   "codemirror_mode": {
    "name": "ipython",
    "version": 3
   },
   "file_extension": ".py",
   "mimetype": "text/x-python",
   "name": "python",
   "nbconvert_exporter": "python",
   "pygments_lexer": "ipython3",
   "version": "3.9.7"
  },
  "latex_envs": {
   "LaTeX_envs_menu_present": true,
   "autoclose": false,
   "autocomplete": false,
   "bibliofile": "biblio.bib",
   "cite_by": "apalike",
   "current_citInitial": 1,
   "eqLabelWithNumbers": true,
   "eqNumInitial": 1,
   "hotkeys": {
    "equation": "Ctrl-E",
    "itemize": "Ctrl-I"
   },
   "labels_anchors": false,
   "latex_user_defs": false,
   "report_style_numbering": false,
   "user_envs_cfg": false
  },
  "nbTranslate": {
   "displayLangs": [
    "*"
   ],
   "hotkey": "alt-t",
   "langInMainMenu": true,
   "sourceLang": "en",
   "targetLang": "fr",
   "useGoogleTranslate": true
  },
  "rise": {
   "theme": "sky"
  }
 },
 "nbformat": 4,
 "nbformat_minor": 2
}
