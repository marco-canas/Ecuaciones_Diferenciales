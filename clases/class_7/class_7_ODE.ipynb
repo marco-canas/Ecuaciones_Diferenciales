{
 "cells": [
  {
   "cell_type": "markdown",
   "metadata": {
    "slideshow": {
     "slide_type": "slide"
    }
   },
   "source": [
    "<table align=\"left\">\n",
    "  <td>\n",
    "    <a href=\"https://colab.research.google.com/github/marco-canas/innovaciones/blob/main/ref/geron/math_linear_algebra/linear_algebra.ipynb\" target=\"_parent\"><img src=\"https://colab.research.google.com/assets/colab-badge.svg\" alt=\"Open In Colab\"/></a>\n",
    "  </td>\n",
    "  <td>\n",
    "    <a target=\"_blank\" href=\"https://kaggle.com/kernels/welcome?src=https://github.com/marco-canas/innovaciones/blob/main/ref/geron/math_linear_algebra/linear_algebra.ipynb\"><img src=\"https://kaggle.com/static/images/open-in-kaggle.svg\" /></a>\n",
    "  </td>\n",
    "</table>"
   ]
  },
  {
   "cell_type": "markdown",
   "metadata": {
    "slideshow": {
     "slide_type": "slide"
    }
   },
   "source": [
    "# Clase 7 "
   ]
  },
  {
   "cell_type": "markdown",
   "metadata": {
    "slideshow": {
     "slide_type": "slide"
    }
   },
   "source": [
    "[Video de apoyo]()"
   ]
  },
  {
   "cell_type": "markdown",
   "metadata": {
    "slideshow": {
     "slide_type": "skip"
    }
   },
   "source": [
    "Página 154 del Boyce DiPrima "
   ]
  },
  {
   "cell_type": "markdown",
   "metadata": {
    "slideshow": {
     "slide_type": "slide"
    }
   },
   "source": [
    "### Sección 3.3 Independencia lineal y Wronskiano "
   ]
  },
  {
   "cell_type": "markdown",
   "metadata": {
    "slideshow": {
     "slide_type": "slide"
    }
   },
   "source": [
    "La representación de la solución general de una ecuación diferencial lineal homogénea de segundo orden como una combinación lineal de dos soluciones cuyo wronsquiano es diferente de cero está estrechamente relacionada con el concepto de independencia lineal de dos funciones. "
   ]
  },
  {
   "cell_type": "markdown",
   "metadata": {
    "slideshow": {
     "slide_type": "slide"
    }
   },
   "source": [
    "## Definición de funciones Linealmente dependientes "
   ]
  },
  {
   "cell_type": "markdown",
   "metadata": {
    "slideshow": {
     "slide_type": "slide"
    }
   },
   "source": [
    "Se dice que dos funciones $f$ y $g$ son **Linealmente dependientes** sobre un intervalo si existen dos constantes $k_{1}$ y $k_{2}$, no ambas cero, tales que\n",
    "\n",
    "$$ k_{1}f(x) + k_{2}g(x) = 0 $$\n",
    "\n",
    "para toda $x$ en el intervalo. "
   ]
  },
  {
   "cell_type": "markdown",
   "metadata": {
    "slideshow": {
     "slide_type": "slide"
    }
   },
   "source": [
    "## Definición de dos funciones Linealmente Independientes"
   ]
  },
  {
   "cell_type": "markdown",
   "metadata": {
    "slideshow": {
     "slide_type": "slide"
    }
   },
   "source": [
    "Se dice que las funciones $f$ y $g$ son **Linealmente independientes** sobre un intervalo si no son linealmente dependientes, es decir, si la ecuación \n",
    "\n",
    "$$ k_{1}f(x) + k_{2}g(x) = 0 $$\n",
    "\n",
    "se cumple para toda $x$ en el intervalo sólo si $k_{1} = k_{2} = 0$. \n"
   ]
  },
  {
   "cell_type": "markdown",
   "metadata": {
    "slideshow": {
     "slide_type": "skip"
    }
   },
   "source": [
    "En la sección 4.1 estas definiciones se extienden a un número arbitrario de funciones. "
   ]
  },
  {
   "cell_type": "markdown",
   "metadata": {
    "slideshow": {
     "slide_type": "slide"
    }
   },
   "source": [
    "* Aunque puede ser dificil determinar si un conjunto grande de funciones es linealmente dependiente o independiente,   \n",
    "* suele ser fácil dar respuesta a esta pregunta para un conjunto de sólo dos funciones:   \n",
    "* son linealmente dependientes si son proporcionales entre sí y linealmente independientes en caso contrario. "
   ]
  },
  {
   "cell_type": "markdown",
   "metadata": {
    "slideshow": {
     "slide_type": "slide"
    }
   },
   "source": [
    "## Ejemplo 1 \n",
    "Página 154 del Boyce DiPrima "
   ]
  },
  {
   "cell_type": "markdown",
   "metadata": {
    "slideshow": {
     "slide_type": "slide"
    }
   },
   "source": [
    "Determinar si las funciones $\\sin(x)$ y $\\cos\\left(x - \\frac{\\pi}{2}\\right)$ son linealmente independientes o linealmente dependientes sobre un intervalo arbitrario. "
   ]
  },
  {
   "cell_type": "markdown",
   "metadata": {
    "slideshow": {
     "slide_type": "slide"
    }
   },
   "source": [
    "Las funciones dadas son linealmente dependientes sobre cualquier intervalo ya que \n",
    "\n",
    "$$ k_{1}\\sin(x) + k_{2}\\cos\\left(x - \\frac{\\pi}{2} \\right) = 0 $$\n",
    "\n",
    "para toda $x$ si se elige $k_{1} = 1$ y $k_{2} = -1$. \n"
   ]
  },
  {
   "cell_type": "markdown",
   "metadata": {
    "slideshow": {
     "slide_type": "slide"
    }
   },
   "source": [
    "## Ejemplo 2\n",
    "Página 154 "
   ]
  },
  {
   "cell_type": "markdown",
   "metadata": {
    "slideshow": {
     "slide_type": "slide"
    }
   },
   "source": [
    "Demostrar que las funciones $e^{x}$ y $e^{2x}$ son linealmente independientes sobre cualquier intervalo. "
   ]
  },
  {
   "cell_type": "markdown",
   "metadata": {
    "slideshow": {
     "slide_type": "skip"
    }
   },
   "source": [
    "Al fin de establecer este resultado, se supone que \n",
    "\n",
    "$$ k_{1}e^{x} + k_{2}e^{2x} = 0 $$\n",
    "\n",
    "para toda $x$ en un intervalo. "
   ]
  },
  {
   "cell_type": "markdown",
   "metadata": {
    "slideshow": {
     "slide_type": "skip"
    }
   },
   "source": [
    "Entonces es necesario demostrar que $k_{1} = k_{2} = 0$. "
   ]
  },
  {
   "cell_type": "markdown",
   "metadata": {
    "slideshow": {
     "slide_type": "skip"
    }
   },
   "source": [
    "Elija dos puntos $x_{0}$ y $x_{1}$, en donde $x_{0} \\neq x_{1}$. "
   ]
  },
  {
   "cell_type": "markdown",
   "metadata": {
    "slideshow": {
     "slide_type": "skip"
    }
   },
   "source": [
    "Si se evalua $$ k_{1}e^{x} + k_{2}e^{2x} = 0 $$ en estos puntos obtenemos:\n",
    "\n",
    "\\begin{align*}\n",
    "k_{1}e^{x_{0}} + k_{2}e^{2x_{0}} & = 0 \\\\\n",
    "k_{1}e^{x_{1}} + k_{2}e^{2x_{1}} & = 0\n",
    "\\end{align*}\n"
   ]
  },
  {
   "cell_type": "markdown",
   "metadata": {
    "slideshow": {
     "slide_type": "skip"
    }
   },
   "source": [
    "El determinante de los coeficientes es\n",
    "\n",
    "$$ e^{x_{0}}e^{2x_{1}} - e^{x_{1}}e^{2x_{0}} = e^{x_{0}}e^{x_{1}}(e^{x_{1}} - e^{x_{0}}) $$\n"
   ]
  },
  {
   "cell_type": "markdown",
   "metadata": {
    "slideshow": {
     "slide_type": "skip"
    }
   },
   "source": [
    "Dado que el determinante es diferente de cero, se concluye que la única solución del sistema \n",
    "\n",
    "\\begin{align*}\n",
    "k_{1}e^{x_{0}} + k_{2}e^{2x_{0}} & = 0 \\\\\n",
    "k_{1}e^{x_{1}} + k_{2}e^{2x_{1}} & = 0\n",
    "\\end{align*}\n",
    "\n",
    "es $k_{1} = k_{2} = 0$. \n",
    "\n"
   ]
  },
  {
   "cell_type": "markdown",
   "metadata": {
    "slideshow": {
     "slide_type": "skip"
    }
   },
   "source": [
    "De donde $e^{x}$ y $e^{2x}$ son linealmente independientes. "
   ]
  },
  {
   "cell_type": "markdown",
   "metadata": {
    "slideshow": {
     "slide_type": "slide"
    }
   },
   "source": [
    "## Teorema 3.3.1 "
   ]
  },
  {
   "cell_type": "markdown",
   "metadata": {
    "slideshow": {
     "slide_type": "slide"
    }
   },
   "source": [
    "Si $f$ y $g$ son funciones diferenciables sobre un intervalo abierto $I$ y si $W(f,g)(x_{0}) \\neq 0$ para algún $x_{0}$ en $I$, entonces $f$ y $g$ son linealmente independientes sobre $I$. "
   ]
  },
  {
   "cell_type": "markdown",
   "metadata": {
    "slideshow": {
     "slide_type": "slide"
    }
   },
   "source": [
    "De manera alternativa, si $f$ y $g$, son linealmente dependientes sobre $I$, entonces $W(f,g)(x) = 0$ para toda $x$ en $I$: "
   ]
  },
  {
   "cell_type": "markdown",
   "metadata": {
    "slideshow": {
     "slide_type": "skip"
    }
   },
   "source": [
    "### Demostración "
   ]
  },
  {
   "cell_type": "markdown",
   "metadata": {
    "slideshow": {
     "slide_type": "skip"
    }
   },
   "source": [
    "Para probar la primera proposición del teorema 3.3.1 considérese una combinación lineal \n",
    "\n",
    "$$ k_{1}f(x) + k_{2}g(x) = 0 $$\n",
    "\n",
    "y supóngase que esta función es cero en todo el intervalo. \n"
   ]
  },
  {
   "cell_type": "markdown",
   "metadata": {
    "slideshow": {
     "slide_type": "skip"
    }
   },
   "source": [
    "Si se evaluan la expresión  y su derivada en un punto $x_{0}$, se tiene \n",
    "\n",
    "\\begin{align*}\n",
    "k_{1}f(x_{0}) + k_{2}g(x_{0}) & = 0 \\\\\n",
    "k_{1}f'(x_{0}) + k_{2}g'(x_{0}) & = 0 \n",
    "\\end{align*}\n"
   ]
  },
  {
   "cell_type": "markdown",
   "metadata": {
    "slideshow": {
     "slide_type": "skip"
    }
   },
   "source": [
    "El determinante de los coeficientes del sistema anterior es precisamente\n",
    "\n",
    "$$ W(f,g)(x_{0}), $$\n",
    "\n",
    "que por hipótesis es diferente de cero. \n"
   ]
  },
  {
   "cell_type": "markdown",
   "metadata": {
    "slideshow": {
     "slide_type": "skip"
    }
   },
   "source": [
    "Por lo tanto, la única solución del sistema es $k_{1} = k_{2} = 0$, de modo que $f$ y $g$ son linealmente independientes. "
   ]
  },
  {
   "cell_type": "markdown",
   "metadata": {
    "slideshow": {
     "slide_type": "skip"
    }
   },
   "source": [
    "La segunda parte del teorema 3.3.1 se deduce de manera inmediata a partir de la primera. "
   ]
  },
  {
   "cell_type": "markdown",
   "metadata": {
    "slideshow": {
     "slide_type": "skip"
    }
   },
   "source": [
    "Sean $f$ y $g$ linealmente dependientes y supóngase que la conclusión es falsa; es decir, $W(f,g)$ no es cero en todo punto de $I$. "
   ]
  },
  {
   "cell_type": "markdown",
   "metadata": {
    "slideshow": {
     "slide_type": "skip"
    }
   },
   "source": [
    "Entonces existe un punto $x_{0}$ tal que $W(f,g)(x_{0}) \\neq 0$; por la primera parte del teorema 3.3.1, esto significa que $f$ y $g$ son linealmente independientes, lo cual es una contradicción, con lo que se completa la demostración. "
   ]
  },
  {
   "cell_type": "markdown",
   "metadata": {
    "slideshow": {
     "slide_type": "slide"
    }
   },
   "source": [
    "Este resultado puede aplicarse a las dos funciones $f(x) = e^{x}$ y $g(x) = e^{2x}$ analizadas en el ejemplo 2. "
   ]
  },
  {
   "cell_type": "markdown",
   "metadata": {
    "slideshow": {
     "slide_type": "slide"
    }
   },
   "source": [
    "Para cualquier punto $x_{0}$ se tiene \n",
    "\n",
    "$$ W(e^{x},e^{2x})(x_{0}) = \\left| \\begin{matrix} e^{x} & e^{2x} \\\\ e^{x} & 2e^{2x} \\end{matrix} \\right| = e^{3x_{0}} \\neq 0  $$\n"
   ]
  },
  {
   "cell_type": "markdown",
   "metadata": {
    "slideshow": {
     "slide_type": "slide"
    }
   },
   "source": [
    "Por consiguiente, las funciones $e^{x}$ y $e^{2x}$ son linealmente independientes sobre cualquier intervalo"
   ]
  },
  {
   "cell_type": "markdown",
   "metadata": {
    "slideshow": {
     "slide_type": "slide"
    }
   },
   "source": [
    "Es necesario tener cuidado en no leer demasiado el teorema 3.3.1. "
   ]
  },
  {
   "cell_type": "markdown",
   "metadata": {
    "slideshow": {
     "slide_type": "slide"
    }
   },
   "source": [
    "En particular, dos funciones $f$ y $g$ pueden ser linealmente independientes aunque $W(f,g)(x) = 0$ para $x$ en el intervalo $I$.  "
   ]
  },
  {
   "cell_type": "markdown",
   "metadata": {
    "slideshow": {
     "slide_type": "slide"
    }
   },
   "source": [
    "Este hecho se ilustra en el problema 23, sección 3.3. "
   ]
  },
  {
   "cell_type": "markdown",
   "metadata": {
    "slideshow": {
     "slide_type": "slide"
    }
   },
   "source": [
    "Ahora se analizarán más propiedades del Wronskuiano de dos soluciones de una ecuación diferencial lineal homogénea de segundo orden.  "
   ]
  },
  {
   "cell_type": "markdown",
   "metadata": {
    "slideshow": {
     "slide_type": "slide"
    }
   },
   "source": [
    "El siguiente teorema, que quizá sorprenda, da una fórmula explícita simple para el wronsquiano de dos soluciones cualesquiera de esas ecuaciones. "
   ]
  },
  {
   "cell_type": "markdown",
   "metadata": {
    "slideshow": {
     "slide_type": "slide"
    }
   },
   "source": [
    "## Teorema 3.3.2 (Teorema de Abel) "
   ]
  },
  {
   "cell_type": "markdown",
   "metadata": {
    "slideshow": {
     "slide_type": "slide"
    }
   },
   "source": [
    "Si $y_{1}$ y $y_{2}$ son soluciones de la ecuación diferencial \n",
    "\n",
    "$$ L[y] = y'' + p(x)y' + q(x)y = 0 $$\n",
    "\n",
    "en donde $p$ y $q$ son continuas sobre un intervalo abierto $I$, entonces el wronsquiano $w(y_{1}, y_{2})$ está dado por \n",
    "\n",
    "$$ w(y_{1},y_{2})(x) = c\\exp \\left( \\int p(x)dx \\right), $$\n",
    "\n",
    "donde $c$ es cierta constante que depende de $y_{1}$ y $y_{2}$ pero no de $x$. "
   ]
  },
  {
   "cell_type": "markdown",
   "metadata": {
    "slideshow": {
     "slide_type": "slide"
    }
   },
   "source": [
    "Es más, $w(y_{1},y_{2})(x) = 0$ para toda $x$ en $I$ (si $c = 0$), o bien nunca es cero en $I$, (si $c \\neq 0$). "
   ]
  },
  {
   "cell_type": "markdown",
   "metadata": {
    "slideshow": {
     "slide_type": "skip"
    }
   },
   "source": [
    "### Demostración "
   ]
  },
  {
   "cell_type": "markdown",
   "metadata": {
    "slideshow": {
     "slide_type": "skip"
    }
   },
   "source": [
    "Para probar el Teorema de Abel, nótese en principio que $y_{1}$ y $y_{2}$ satisfacen \n",
    "\n",
    "\\begin{align*}\n",
    "y_{1}'' + p(x)y_{1}' + q(x)y_{1} & = 0 \\\\\n",
    "y_{2}'' + p(x)y_{2}' + q(x)y_{2} & = 0 \n",
    "\\end{align*}\n"
   ]
  },
  {
   "cell_type": "markdown",
   "metadata": {
    "slideshow": {
     "slide_type": "skip"
    }
   },
   "source": [
    "Si se multiplica la primera ecuación por $-y_{2}$ y la segunda por $y_{1}$, y se suman las ecuaciones obtenidas, obtenemos \n",
    "\n",
    "$$ (y_{1}y_{2}'' - y_{1}''y_{2}) + p(y_{1}y_{2}' - y_{1}'y_{2}) = 0 $$\n"
   ]
  },
  {
   "cell_type": "markdown",
   "metadata": {
    "slideshow": {
     "slide_type": "skip"
    }
   },
   "source": [
    "Si se hace $w(x) = w(y_{1},y_{2})(x)$ y se observa que \n",
    "\n",
    "$$w' = y_{1}y_{2}'' - y_{1}''y_{2} $$\n",
    "es posible escribir la ecuación \n",
    "\n",
    "$$ (y_{1}y_{2}'' - y_{1}''y_{2}) + p(y_{1}y_{2}' - y_{1}'y_{2}) = 0 $$\n",
    "\n",
    "en la forma \n",
    "\n",
    "$$ w' + pw = 0 $$\n"
   ]
  },
  {
   "cell_type": "markdown",
   "metadata": {
    "slideshow": {
     "slide_type": "skip"
    }
   },
   "source": [
    "La ecuación anterior puede resolverse de inmediato, ya que es tanto una ecuación lineal de primer orden (sección 2.1) como separable (sección 2.3). "
   ]
  },
  {
   "cell_type": "markdown",
   "metadata": {
    "slideshow": {
     "slide_type": "skip"
    }
   },
   "source": [
    "Por tanto \n",
    "\n",
    "$$ w = c\\exp \\left[ - \\int p(x)dx \\right] $$\n",
    "\n",
    "donde $c$ es una constante. "
   ]
  },
  {
   "cell_type": "markdown",
   "metadata": {
    "slideshow": {
     "slide_type": "skip"
    }
   },
   "source": [
    "El valor de $c$ depende del par de soluciones de \n",
    "\n",
    "$$ L[y] = y'' + p(x)y' + q(x)y = 0 $$\n",
    "\n",
    "que intervengan. "
   ]
  },
  {
   "cell_type": "markdown",
   "metadata": {
    "slideshow": {
     "slide_type": "skip"
    }
   },
   "source": [
    "Sin embargo, dado que la función exponencial nunca es cero, $w(x)$ no es cero, a menos que $c = 0$, en cuyo caso $w(x)$ es cero para toda $x$ con lo que se completa la demostración del teorema 3.2.2. "
   ]
  },
  {
   "cell_type": "markdown",
   "metadata": {
    "slideshow": {
     "slide_type": "slide"
    }
   },
   "source": [
    "Observe que los wronskianos de dos conjuntos fundamentales cualesquiera de soluciones de la misma ecuación diferencial solo pueden diferir en una constante multiplicativa y que puede determinarse el wronskiano  de cualquier conjunto fundamental de soluciones, hasta una constante multiplicativa, sin resolver la ecuación diferencial.   "
   ]
  },
  {
   "cell_type": "markdown",
   "metadata": {
    "slideshow": {
     "slide_type": "slide"
    }
   },
   "source": [
    "## Ejemplo 3\n",
    "Página 157 "
   ]
  },
  {
   "cell_type": "markdown",
   "metadata": {
    "slideshow": {
     "slide_type": "slide"
    }
   },
   "source": [
    "En el ejemplo 5 de la sección 3.2 se comprobó que \n",
    "\n",
    "$$ y_{1} =  x^{1/2}, \\quad \\text{y} \\quad y_{2} = x^{-1} $$\n",
    "\n",
    "son soluciones de la ecuación \n",
    "\n",
    "$$ 2x^{2}y'' + 3xy'  - y = 0, \\quad \\quad x > 0 $$\n",
    "\n",
    "Comprobar que el wronskiano de $y_{1}$ y $y_{2}$ está dado por la ecuación \n",
    "\n",
    "$$ w = c\\exp \\left[ - \\int p(x)dx \\right] $$\n"
   ]
  },
  {
   "cell_type": "markdown",
   "metadata": {
    "slideshow": {
     "slide_type": "slide"
    }
   },
   "source": [
    "Con base en el ejemplo que acaba de citarse se sabe que $w(y_{1}, y_{2})(x) = -(3/2)x^{-3/2}$. "
   ]
  },
  {
   "cell_type": "markdown",
   "metadata": {
    "slideshow": {
     "slide_type": "slide"
    }
   },
   "source": [
    "Para utilizar la ecuación \n",
    "\n",
    "$$ w = c\\exp \\left[ - \\int p(x)dx \\right] $$\n",
    "\n",
    "es necesario necesario escribir la ecuación diferencial $2x^{2}y'' + 3xy'  - y = 0$ en la forma estándar con el coeficiente de $y''$ igual a $1$. "
   ]
  },
  {
   "cell_type": "markdown",
   "metadata": {
    "slideshow": {
     "slide_type": "slide"
    }
   },
   "source": [
    "Por tanto, se obtiene \n",
    "\n",
    "$$ y''  + \\frac{3}{2x}y' - \\frac{1}{2x^{2}}y = 0  $$\n"
   ]
  },
  {
   "cell_type": "markdown",
   "metadata": {
    "slideshow": {
     "slide_type": "slide"
    }
   },
   "source": [
    "De modo que $p(x) = \\frac{3}{2x}$. "
   ]
  },
  {
   "cell_type": "markdown",
   "metadata": {
    "slideshow": {
     "slide_type": "slide"
    }
   },
   "source": [
    "De donde \n",
    "\n",
    "\\begin{align*}\n",
    "w(y_{1}, y_{2})(x) & = c\\exp\\left( -\\int \\frac{3}{2x}dx \\right) \\\\\n",
    "& = c\\exp\\left( \\int -\\frac{3}{2}\\ln x  \\right) \\\\\n",
    "& = cx^{-3/2}. \n",
    "\\end{align*}\n"
   ]
  },
  {
   "cell_type": "markdown",
   "metadata": {
    "slideshow": {
     "slide_type": "slide"
    }
   },
   "source": [
    "La ecuación anterior da el wronskiano de cualquier par de soluciones de $ 2x^{2}y'' + 3xy'  - y = 0$."
   ]
  },
  {
   "cell_type": "markdown",
   "metadata": {
    "slideshow": {
     "slide_type": "slide"
    }
   },
   "source": [
    "  \n",
    "Para las soluciones particulares dadas en este ejemplo es necesario elegir $c = -3/2$. "
   ]
  },
  {
   "cell_type": "markdown",
   "metadata": {
    "slideshow": {
     "slide_type": "slide"
    }
   },
   "source": [
    "Puede establecerse una versión más poderosa del teorema 3.3.1 si las dos funciones que intervienen son soluciones de una ecuación diferencial lineal homogénea de segundo orden.  "
   ]
  },
  {
   "cell_type": "markdown",
   "metadata": {
    "slideshow": {
     "slide_type": "slide"
    }
   },
   "source": [
    "## Teorema 3.3.3 "
   ]
  },
  {
   "cell_type": "markdown",
   "metadata": {
    "slideshow": {
     "slide_type": "slide"
    }
   },
   "source": [
    "Sean $y_{1}$ y $y_{2}$ soluciones de la ecuación \n",
    "\n",
    "$$ L[y] = y'' + p(x)y' + q(x)y = 0, $$\n",
    "\n",
    "en donde $p$ y $q$ son continuas sobre un intervalo abierto $I$. \n",
    "\n",
    "Entonces $y_{1}$ y $y_{2}$ son linealmente dependientes sobre $I$ si y solo si $w(y_{1}, y_{2})(x)$ es cero para toda $x$ de $I$. \n",
    "\n",
    "De menare alternativa, $y_{1}$ y $y_{2}$ son linealmente independientes sobre $I$ si y solo si $w(y_{1}, y_{2})(x)$ nunca es cero en I. "
   ]
  },
  {
   "cell_type": "markdown",
   "metadata": {
    "slideshow": {
     "slide_type": "slide"
    }
   },
   "source": [
    "Por supuesto, por el teorema 3.3.2, se sabe que $w(y_{1}, y_{2})(x) = 0$ en todo punto de $I$, o bien no es cero en ningún punto de $I$.   "
   ]
  },
  {
   "cell_type": "markdown",
   "metadata": {
    "slideshow": {
     "slide_type": "skip"
    }
   },
   "source": [
    "Al probar el teorema 3.3.3, observe en primer lugar que si $y_{1}$ y $y_{2}$ son linealmente dependientes, entonces $w(y_{1}, y_{2})(x)$ es cero para toda $x$ de $I$ por el teorema 3.3.1. "
   ]
  },
  {
   "cell_type": "markdown",
   "metadata": {
    "slideshow": {
     "slide_type": "skip"
    }
   },
   "source": [
    "Queda por demostrar la inversa, es decir, si $w(y_{1}, y_{2})(x) = 0$ en $I$, entonces $y_{1}$ y $y_{2}$ son linealmente dependientes. "
   ]
  },
  {
   "cell_type": "markdown",
   "metadata": {
    "slideshow": {
     "slide_type": "skip"
    }
   },
   "source": [
    "Sea $x_{0}$ cualquier punto en $I$, entonces necesariamente $w(y_{1}, y_{2})(x_{0}) = 0$.   "
   ]
  },
  {
   "cell_type": "markdown",
   "metadata": {
    "slideshow": {
     "slide_type": "skip"
    }
   },
   "source": [
    "Como consecuencia, el sistema de ecuaciones \n",
    "\n",
    "\\begin{align*}\n",
    "c_{1}y_{1}(x_{0}) + c_{2}y_{2}(x_{0}) & = 0 \\\\\n",
    "c_{1}y_{1}'(x_{0}) + c_{2}y_{2}'(x_{0}) & = 0,\n",
    "\\end{align*}\n",
    "\n",
    "para $c_{1}$ y $c_{2}$ tiene una solución no trivial. \n"
   ]
  },
  {
   "cell_type": "markdown",
   "metadata": {
    "slideshow": {
     "slide_type": "skip"
    }
   },
   "source": [
    "Si se usan estos valores de $c_{1}$ y $c_{2}$ para \n",
    "$$ \\phi(x) = c_{1}y_{1}(x)  + c_{2}y_{2}(x) $$\n",
    "entonces $\\phi$ es una solución de la ecuación $y'' + p(x)y' + q(x)y = 0$ y de las ecuaciones \n",
    "\n",
    "\\begin{align*}\n",
    "c_{1}y_{1}(x_{0}) + c_{2}y_{2}(x_{0}) & = 0 \\\\\n",
    "c_{1}y_{1}'(x_{0}) + c_{2}y_{2}'(x_{0}) & = 0,\n",
    "\\end{align*}\n",
    "\n",
    "se infiere que $\\phi$ satisface las condiciones iniciales $\\phi(x_{0}) = 0$ y $\\phi'(x_{0}) = 0$ \n",
    "\n",
    "Por consiguiente, por la parte de unicidad del teorema 3.2.1 y por el ejemplo 2 de la sección 3.2 $\\phi(x) = 0$ para toda $x \\in I$. \n",
    "\n"
   ]
  },
  {
   "cell_type": "markdown",
   "metadata": {
    "slideshow": {
     "slide_type": "skip"
    }
   },
   "source": [
    "Ya que $\\phi(x) = c_{1}y_{1}(x) + c_{2}y_{2}(x)$ en donde $c_{1}$ y $c_{2}$ no son ambas cero, esto significa que $y_{1}$ y $y_{2}$ son linealmente dependientes.  "
   ]
  },
  {
   "cell_type": "markdown",
   "metadata": {
    "slideshow": {
     "slide_type": "skip"
    }
   },
   "source": [
    "La proposición alternativa del teorema se deduce de inmediato. "
   ]
  },
  {
   "cell_type": "markdown",
   "metadata": {
    "slideshow": {
     "slide_type": "slide"
    }
   },
   "source": [
    "# Resumen de los hechos"
   ]
  },
  {
   "cell_type": "markdown",
   "metadata": {
    "slideshow": {
     "slide_type": "slide"
    }
   },
   "source": [
    "Ahora es posible resumir los hechos acerca de los conjuntos fundamentales de soluciones, wronskianos e independencia lineal de la siguiente manera:  "
   ]
  },
  {
   "cell_type": "markdown",
   "metadata": {
    "slideshow": {
     "slide_type": "slide"
    }
   },
   "source": [
    "Sean $y_{1}$ y $y_{2}$ soluciones de la ecuación \n",
    "\n",
    "$$ y'' + p(x)y' + q(x)y = 0, $$\n",
    "\n",
    "en donde $p$ y $q$ son continuas sobre un intervalo abierto $I$. \n"
   ]
  },
  {
   "cell_type": "markdown",
   "metadata": {
    "slideshow": {
     "slide_type": "slide"
    }
   },
   "source": [
    "Entonces las cuatro proposiciones siguientes son equivalentes, en el sentido de que cada una incluye a las otras tres:  "
   ]
  },
  {
   "cell_type": "markdown",
   "metadata": {
    "slideshow": {
     "slide_type": "slide"
    }
   },
   "source": [
    "1. Las funciones $y_{1}$ y $y_{2}$ son un conjunto fundamental de soluciones sobre $I$. "
   ]
  },
  {
   "cell_type": "markdown",
   "metadata": {
    "slideshow": {
     "slide_type": "slide"
    }
   },
   "source": [
    "2. Las funciones $y_{1}$ y $y_{2}$ son linealmente independientes sobre $I$. "
   ]
  },
  {
   "cell_type": "markdown",
   "metadata": {
    "slideshow": {
     "slide_type": "slide"
    }
   },
   "source": [
    "3. $w(y_{1},y_{2})(x_{0}) \\neq 0$ para algún $x_{0} \\in I$. "
   ]
  },
  {
   "cell_type": "markdown",
   "metadata": {
    "slideshow": {
     "slide_type": "slide"
    }
   },
   "source": [
    "4. $w(y_{1},y_{2})(x) \\neq 0$ para toda $x \\in I$. "
   ]
  },
  {
   "cell_type": "markdown",
   "metadata": {
    "slideshow": {
     "slide_type": "skip"
    }
   },
   "source": [
    "Es interesante observar la semejanza entre la teoría de las ecuaciones diferenciales lineales homogéneas de segundo orden y el álgebra vectorial bidimensional. "
   ]
  },
  {
   "cell_type": "markdown",
   "metadata": {
    "slideshow": {
     "slide_type": "skip"
    }
   },
   "source": [
    "Se dice que dos vectores $a$ y $b$ son linealmente dependientes si existen dos escalares $k_{1}$ y $k_{2}$, no ambos cero,  tales que \n",
    "\n",
    "$$ k_{1}a + k_{2}b = 0,  $$\n",
    "\n",
    "en caso contrario se dice que son linealmente independientes. \n"
   ]
  },
  {
   "cell_type": "markdown",
   "metadata": {
    "slideshow": {
     "slide_type": "skip"
    }
   },
   "source": [
    "Sean $i$ y $j$ vectores unitarios dirigidos a lo largo de los ejes positivos $x$ y $y$, respectivamente."
   ]
  },
  {
   "cell_type": "markdown",
   "metadata": {
    "slideshow": {
     "slide_type": "skip"
    }
   },
   "source": [
    "Como $k_{1}i + k_{2}j = 0$ solo si $k_{1} = k_{2} = 0$, los vectores $i$ y $j$ son linealmente independientes. "
   ]
  },
  {
   "cell_type": "markdown",
   "metadata": {
    "slideshow": {
     "slide_type": "skip"
    }
   },
   "source": [
    "Además se sabe que cualquier vector $a$ con componentes $a_{1}$ y $a_{2}$ puede escribirse como $a = a_{1}i + a_{2}j$; es decir,  como una combinación lineal de los dos vectores linealmente independientes $i$ y $j$. "
   ]
  },
  {
   "cell_type": "markdown",
   "metadata": {
    "slideshow": {
     "slide_type": "skip"
    }
   },
   "source": [
    "No es difícil demostrar que cualquier vector en dos dimensiones puede sepresentarse como una combinación lineal de dos vectores bidimensionales linealmente independientes cualesquiera (ver el problema 12). "
   ]
  },
  {
   "cell_type": "markdown",
   "metadata": {
    "slideshow": {
     "slide_type": "skip"
    }
   },
   "source": [
    "Se dice que ese par de vectores linealmente independientes forman una base para el espacio vectorial de los vectores bidimensionales.  "
   ]
  },
  {
   "cell_type": "markdown",
   "metadata": {
    "slideshow": {
     "slide_type": "skip"
    }
   },
   "source": [
    "La expresión **espacio vectorial** también se aplica a otras colecciones de objetos matemáticos que obedecen las mismas leyes de la adición  y la multiplicación por escalares de los vectores geométricos. "
   ]
  },
  {
   "cell_type": "markdown",
   "metadata": {
    "slideshow": {
     "slide_type": "skip"
    }
   },
   "source": [
    "Por ejemplo, es posible demostrar que el conjunto de funciones que son dos veces diferenciables sobre un intervalo abierto $I$  forman un espacio vectorial. "
   ]
  },
  {
   "cell_type": "markdown",
   "metadata": {
    "slideshow": {
     "slide_type": "skip"
    }
   },
   "source": [
    "De modo semejante, el conjunto $V$ de funciones que satisfacen la ecuación \n",
    "\n",
    "$$ y'' + p(x)y' + q(x)y = 0 $$\n",
    "\n",
    "también forma un espacio vectorial. \n"
   ]
  },
  {
   "cell_type": "markdown",
   "metadata": {
    "slideshow": {
     "slide_type": "skip"
    }
   },
   "source": [
    "Dado que todo miembro de $V$ puede expresarse como una combinación lineal de dos miembros linealmente independientes $y_{1}$ y $y_{2}$, se dice que ese par forma una base para $V$. "
   ]
  },
  {
   "cell_type": "code",
   "execution_count": null,
   "metadata": {},
   "outputs": [],
   "source": []
  }
 ],
 "metadata": {
  "celltoolbar": "Slideshow",
  "hide_input": false,
  "kernelspec": {
   "display_name": "Python 3 (ipykernel)",
   "language": "python",
   "name": "python3"
  },
  "language_info": {
   "codemirror_mode": {
    "name": "ipython",
    "version": 3
   },
   "file_extension": ".py",
   "mimetype": "text/x-python",
   "name": "python",
   "nbconvert_exporter": "python",
   "pygments_lexer": "ipython3",
   "version": "3.9.7"
  },
  "latex_envs": {
   "LaTeX_envs_menu_present": true,
   "autoclose": false,
   "autocomplete": false,
   "bibliofile": "biblio.bib",
   "cite_by": "apalike",
   "current_citInitial": 1,
   "eqLabelWithNumbers": true,
   "eqNumInitial": 1,
   "hotkeys": {
    "equation": "Ctrl-E",
    "itemize": "Ctrl-I"
   },
   "labels_anchors": false,
   "latex_user_defs": false,
   "report_style_numbering": false,
   "user_envs_cfg": false
  },
  "nbTranslate": {
   "displayLangs": [
    "*"
   ],
   "hotkey": "alt-t",
   "langInMainMenu": true,
   "sourceLang": "en",
   "targetLang": "es",
   "useGoogleTranslate": true
  },
  "rise": {
   "enable_chalkboard": true,
   "theme": "sky",
   "transition": "zoom"
  }
 },
 "nbformat": 4,
 "nbformat_minor": 2
}
