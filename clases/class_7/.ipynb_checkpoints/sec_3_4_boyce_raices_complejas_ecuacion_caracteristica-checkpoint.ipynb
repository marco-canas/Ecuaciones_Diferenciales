{
 "cells": [
  {
   "cell_type": "markdown",
   "id": "bc85353b",
   "metadata": {},
   "source": [
    "# Sección 3.4 del Boyce DiPrima"
   ]
  },
  {
   "cell_type": "markdown",
   "id": "130acd5f",
   "metadata": {},
   "source": [
    "## Raices complejas de la ecuación característica"
   ]
  },
  {
   "cell_type": "markdown",
   "id": "69555e53",
   "metadata": {},
   "source": [
    "Página 160"
   ]
  },
  {
   "cell_type": "markdown",
   "id": "482e6257",
   "metadata": {},
   "source": [
    "En esta sección se continua el análisis de la ecuación:\n",
    "\n",
    "$$ ay'' + by' + cy = 0, $$\n",
    "\n",
    "en donde $a, b$ y $c$ son números reales dados. \n"
   ]
  },
  {
   "cell_type": "markdown",
   "id": "41684a02",
   "metadata": {},
   "source": [
    "En la sección 3.1 se vio que si se buscan soluciones de la forma $y = e^{rx}$, entonces $r$ debe ser la raíz de la ecuación característica \n",
    "\n",
    "$$ ar^{2} + br + c = 0. $$\n"
   ]
  },
  {
   "cell_type": "markdown",
   "id": "722f668f",
   "metadata": {},
   "source": [
    "Si las raíces $r_{1}$ y $r_{2}$ son reales y diferentes, lo que ocurre siempre que el discriminante $b^{2} - 4ac$ sea positivo, entonces la solución general de $ay'' + by' + cy = 0$ es:\n",
    "\n",
    "$$ y = c_{1}e^{r_{1}t} + c_{2}e^{r_{2}t}. $$\n"
   ]
  },
  {
   "cell_type": "markdown",
   "id": "ae0aaf98",
   "metadata": {},
   "source": [
    "Ahora suponga que $b^{2} - 4ac$ es negativo; entonces las raíces de $ar^{2} + br + c = 0$ son números complejos conjugados; se les denota por \n",
    "\n",
    "$$ r_{1} = \\lambda + i\\mu, \\  r_{2} = \\lambda - i\\mu, $$\n",
    "\n",
    "en donde $\\lambda$ y $\\mu$ son reales. \n"
   ]
  },
  {
   "cell_type": "code",
   "execution_count": null,
   "id": "439ffc48",
   "metadata": {},
   "outputs": [],
   "source": []
  },
  {
   "cell_type": "code",
   "execution_count": null,
   "id": "8ff8220f",
   "metadata": {},
   "outputs": [],
   "source": []
  },
  {
   "cell_type": "code",
   "execution_count": null,
   "id": "05cc6014",
   "metadata": {},
   "outputs": [],
   "source": []
  }
 ],
 "metadata": {
  "kernelspec": {
   "display_name": "Python 3",
   "language": "python",
   "name": "python3"
  },
  "language_info": {
   "codemirror_mode": {
    "name": "ipython",
    "version": 3
   },
   "file_extension": ".py",
   "mimetype": "text/x-python",
   "name": "python",
   "nbconvert_exporter": "python",
   "pygments_lexer": "ipython3",
   "version": "3.8.8"
  },
  "latex_envs": {
   "LaTeX_envs_menu_present": true,
   "autoclose": false,
   "autocomplete": true,
   "bibliofile": "biblio.bib",
   "cite_by": "apalike",
   "current_citInitial": 1,
   "eqLabelWithNumbers": true,
   "eqNumInitial": 1,
   "hotkeys": {
    "equation": "Ctrl-E",
    "itemize": "Ctrl-I"
   },
   "labels_anchors": false,
   "latex_user_defs": false,
   "report_style_numbering": false,
   "user_envs_cfg": false
  }
 },
 "nbformat": 4,
 "nbformat_minor": 5
}
