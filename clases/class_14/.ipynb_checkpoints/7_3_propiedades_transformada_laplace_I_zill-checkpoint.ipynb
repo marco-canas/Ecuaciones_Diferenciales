{
 "cells": [
  {
   "cell_type": "markdown",
   "id": "1ce35bac",
   "metadata": {},
   "source": [
    "# Propiedades operacionales de la transformada de Laplace I  "
   ]
  },
  {
   "cell_type": "markdown",
   "id": "ea0da941",
   "metadata": {},
   "source": [
    "Página 286 del Zill"
   ]
  },
  {
   "cell_type": "markdown",
   "id": "3ca91ae3",
   "metadata": {},
   "source": [
    "### Conceptos previos necesarios\n",
    "* Continúe practicando la descomposición en fracciones parciales:   \n",
    "  Descomposición cuando hay factores lineales repetidos. \n",
    "* Completar el cuadrado."
   ]
  },
  {
   "cell_type": "markdown",
   "id": "837fc13e",
   "metadata": {},
   "source": [
    "## INTRODUCCIÓN   \n",
    "No es conveniente usar la definición 7.1 cada vez que se desea encontrar la transformada de Laplace de una función $f(t)$.  "
   ]
  },
  {
   "cell_type": "markdown",
   "id": "2cf199b8",
   "metadata": {},
   "source": [
    "Por ejemplo, la integración por partes requerida para evaluar $L\\{ e^{t}t^{2}\\sin t \\}$ es formidable en pocas palabras. "
   ]
  },
  {
   "cell_type": "markdown",
   "id": "3b54e006",
   "metadata": {},
   "source": [
    "En esta sección y la que sigue se presentan varias propiedades operacionales de la transformada de Laplace que ahorran trabajo y permiten construir una lista más extensa de transformadas (vea la tabla del apéndice III) sin tener que recurrir a la  definición básica y a la integración."
   ]
  },
  {
   "cell_type": "markdown",
   "id": "6122049e",
   "metadata": {},
   "source": [
    "## 7.3.1 TRASLACIÓN EN EL EJE $s$"
   ]
  },
  {
   "cell_type": "markdown",
   "id": "56c5b5a4",
   "metadata": {},
   "source": [
    "### UNA TRASLACION  "
   ]
  },
  {
   "cell_type": "markdown",
   "id": "3c839b5d",
   "metadata": {},
   "source": [
    " \n",
    "Evaluar transformadas tales como $\\mathcal{L}\\{ e^{5}t^{3} \\}$ y $L\\{e^{-2t}\\cos 4t\\}$ es directo siempre que se conozca (y así es) $L\\{ t^{3} \\}$ y $L\\{ \\cos 4t \\}$. "
   ]
  },
  {
   "cell_type": "markdown",
   "id": "61978890",
   "metadata": {},
   "source": [
    "En general, si se conoce la transformada de Laplace de una función $f$, $L\\{ f(t) \\} = F(s)$, es posible calcular la transformada de Laplace de un múltiplo exponencial de $f$, es decir, $L\\{e^{at} f(t) \\}$, sin ningún esfuerzo adicional que no sea trasladar o desplazar, la transformada $F(s)$ a $F(s - a)$. "
   ]
  },
  {
   "cell_type": "markdown",
   "id": "c9e80ddc",
   "metadata": {},
   "source": [
    "Este resultado se conoce como primer **teorema de traslación** o **primer teorema de desplazamiento**."
   ]
  },
  {
   "cell_type": "markdown",
   "id": "cdd85a09",
   "metadata": {},
   "source": [
    "### TEOREMA 7.3.1 Primer teorema de traslación"
   ]
  },
  {
   "cell_type": "markdown",
   "id": "2fb63cb6",
   "metadata": {},
   "source": [
    "Si $\\mathcal{L}\\{ f(t) \\} = F(s)$ y $a$ es cualquier número real, entonces  \n",
    "$$ \\mathcal{L} \\{ e^{at} f(t) \\} = F(s - a) $$"
   ]
  },
  {
   "cell_type": "markdown",
   "id": "e9939c97",
   "metadata": {},
   "source": [
    "#### PRUEBA   "
   ]
  },
  {
   "cell_type": "markdown",
   "id": "91d6bd20",
   "metadata": {},
   "source": [
    "La demostración es inmediata, ya que por la defi nición 7.1.1"
   ]
  },
  {
   "cell_type": "markdown",
   "id": "6067bbfc",
   "metadata": {},
   "source": [
    "$$ L\\{ e^{at}f(t) \\} =  \\int_{0}^{\\infty} e^{-st}e^{at}f(t)dt = \\int_{0}^{\\infty}e^{-(s-a)t}f(t)dt = F(s-a) $$"
   ]
  },
  {
   "cell_type": "markdown",
   "id": "7c23a1a7",
   "metadata": {},
   "source": [
    "Si se considera $s$ una variable real, entonces la gráfica de $F(s - a)$ es la gráfica de $F(s)$ desplazada en el eje $s$ por la cantidad $|a|$."
   ]
  },
  {
   "cell_type": "markdown",
   "id": "8b43dff0",
   "metadata": {},
   "source": [
    "Si $a > 0$, la gráfica de $F(s)$ se desplaza $a$ unidades a la derecha, mientras que si $a < 0$, la gráfica se desplaza $|a|$ unidades a la izquierda. "
   ]
  },
  {
   "cell_type": "markdown",
   "id": "1752634d",
   "metadata": {},
   "source": [
    "Véase la siguiente figura"
   ]
  },
  {
   "cell_type": "markdown",
   "id": "8b5051e5",
   "metadata": {},
   "source": [
    "<img src = 'https://github.com/marco-canas/Ecuaciones_Diferenciales/blob/main/clases/class_14/figura_7_3_1.PNG?raw=true'> "
   ]
  },
  {
   "cell_type": "markdown",
   "id": "73bf6423",
   "metadata": {},
   "source": [
    " \n",
    "Para enfatizar, a veces es útil usar el simbolismo\n",
    "\n",
    "$$ L\\{ e^{at}f(t) \\} = \\left| L\\{ f(t) \\} \\right|_{s \\to s-a},  $$\n",
    "\n",
    "donde $s \\to s-a$ significa que en la transformada de Laplace $F(s)$ de $f(t)$ siempre que aparezca el símbolo $s$ se reemplaza por $s - a$.  "
   ]
  },
  {
   "cell_type": "markdown",
   "id": "c21f380d",
   "metadata": {},
   "source": [
    "## Animación con interact del desplazamiento de $F(s)$"
   ]
  },
  {
   "cell_type": "code",
   "execution_count": 5,
   "id": "212e1289",
   "metadata": {},
   "outputs": [
    {
     "data": {
      "application/vnd.jupyter.widget-view+json": {
       "model_id": "49b8e32c671d466abcfba967ee781b19",
       "version_major": 2,
       "version_minor": 0
      },
      "text/plain": [
       "interactive(children=(IntSlider(value=0, description='a', max=3, min=-3), Output()), _dom_classes=('widget-int…"
      ]
     },
     "metadata": {},
     "output_type": "display_data"
    }
   ],
   "source": [
    "import numpy as np\n",
    "from sympy import *\n",
    "from sympy.integrals import laplace_transform\n",
    "from sympy.abc import t,s,a \n",
    "\n",
    "import matplotlib.pyplot as plt \n",
    "from ipywidgets import interact \n",
    "\n",
    "plt.style.use('dark_background')\n",
    "\n",
    "\n",
    "def F(s):\n",
    "    return laplace_transform(1,t,s)(s)\n",
    "\n",
    "\n",
    "def desplazar(a = 0):\n",
    "    s_ = np.linspace(a,10,100)\n",
    "    fig, ax = plt.subplots()\n",
    "    \n",
    "  \n",
    "interact(desplazar, a = (-3,3))\n",
    "\n",
    "plt.show() \n",
    "    "
   ]
  },
  {
   "cell_type": "markdown",
   "id": "69a7d87b",
   "metadata": {},
   "source": [
    "## Ejemplo 1 Usando el primer teorema de traslación"
   ]
  },
  {
   "cell_type": "markdown",
   "id": "ed2d29e6",
   "metadata": {},
   "source": [
    "Evalue\n",
    "\n",
    "a. $L\\{ e^{5t} t^{3} \\}$  \n",
    "\n",
    "b. $L\\{ e^{-2t} \\cos 4t \\}$"
   ]
  },
  {
   "cell_type": "markdown",
   "id": "53a63e25",
   "metadata": {},
   "source": [
    "### SOLUCIÓN \n",
    "\n",
    "Los siguientes resultados se deducen de los teoremas 7.1.1 y 7.3.1."
   ]
  },
  {
   "cell_type": "markdown",
   "id": "69f417ac",
   "metadata": {},
   "source": [
    "\\begin{align*}\n",
    "L\\{ e^{5t}t^{3} \\} & = \\\\\n",
    "                   & = \n",
    "\\end{align*}"
   ]
  },
  {
   "cell_type": "markdown",
   "id": "2aa4ad0d",
   "metadata": {},
   "source": [
    "\\begin{align*}\n",
    "L\\{ e^{-2t} \\cos 4t \\} & = \\\\\n",
    "                       & = \n",
    "\\end{align*}"
   ]
  },
  {
   "cell_type": "markdown",
   "id": "87392be6",
   "metadata": {},
   "source": [
    "## Forma inversa del teorema $7.3.1$ "
   ]
  },
  {
   "cell_type": "markdown",
   "id": "1876e31f",
   "metadata": {},
   "source": [
    "Para calcular la inversa de $F(s - a)$, se debe reconocer $F(s)$, para encontrar $f(t)$ obteniendo la transformada de Laplace \n",
    "inversa de $F(s)$ y después multiplicar $f(t)$ por la función exponencial $e^{at}$. Este procedimiento se resume con símbolos de la siguiente manera:\n",
    "\n",
    "$$ L^{-1}\\{  F(s-a) \\} = L^{-1}\\{ \\left. F(s) \\right|_{s \\to s-a} \\} = e^{at}f(t), $$\n",
    "\n",
    "donde $f(t) = L^{-1}\\{F(s)\\}$.\n"
   ]
  },
  {
   "cell_type": "markdown",
   "id": "f6624cfb",
   "metadata": {},
   "source": [
    "En la primera parte del ejemplo siguiente se ilustra la descomposición en fracciones parciales en el caso cuando el denominador de $Y(s)$ contiene *factores lineales repetidos*.\n"
   ]
  },
  {
   "cell_type": "markdown",
   "id": "41720e00",
   "metadata": {},
   "source": [
    "## Ejemplo 2 Fracciones parciales: factores lineales repetidos. "
   ]
  },
  {
   "cell_type": "markdown",
   "id": "f59ffe1f",
   "metadata": {},
   "source": [
    "Evalúe \n",
    "\n",
    "a) $$ L^{-1}\\left\\{ \\frac{2s + 5}{(s-3)^{2}} \\right\\} $$\n",
    "\n",
    "b) $$ L^{-1}\\left\\{ \\frac{s/2 + 5/3}{s^{2} + 4s + 6} \\right\\} $$\n"
   ]
  },
  {
   "cell_type": "markdown",
   "id": "5d1d76db",
   "metadata": {},
   "source": [
    "### Solución: "
   ]
  },
  {
   "cell_type": "markdown",
   "id": "1f232b6d",
   "metadata": {},
   "source": [
    "a) Un factor lineal repetido es un término $(s - a)^{n}$, donde $a$ es un número real y $n$ es un entero positivo $n\\geq 2$."
   ]
  },
  {
   "cell_type": "markdown",
   "id": "80b37985",
   "metadata": {},
   "source": [
    "Recuerde que si $(s - a)^{n}$  aparece en el denominador de una expresión racional, entonces se supone que la descomposición contiene $n$ fracciones parciales con numeradores y denominadores constantes $s - a$, $(s - a)^{2}$, $\\ldots$, $(s - a)^{n}$."
   ]
  },
  {
   "cell_type": "markdown",
   "id": "89037a1d",
   "metadata": {},
   "source": [
    " Por tanto, con $a = 3$ y $n = 2$ se escribe\n",
    " \n",
    " $$ \\frac{2s + 5}{(s-3)^{2}} = \\frac{A}{s-3} + \\frac{B}{(s-3)^{2}}. $$\n",
    " "
   ]
  },
  {
   "cell_type": "markdown",
   "id": "b7324fd5",
   "metadata": {},
   "source": [
    "Colocando los dos términos del lado derecho con un denominador común, se obtiene el numerador 2s \u0006 5 \u0001 A(s \u0002 3) \u0006 B y esta identidad produce A \u0001 2 y B \u0001 11. "
   ]
  },
  {
   "cell_type": "markdown",
   "id": "a9fc2053",
   "metadata": {},
   "source": [
    "Por tanto,\n",
    "\n",
    "$$ \\frac{2s + 5}{(s-3)^{2}} = \\frac{2}{s-3} + \\frac{11}{(s-3)^{2}} $$\n"
   ]
  },
  {
   "cell_type": "markdown",
   "id": "3b1fb057",
   "metadata": {},
   "source": [
    "y \n",
    "\n",
    "\n",
    "$$ \\mathcal{L}^{-1} \\left\\{ \\frac{2s + 5}{(s-3)^{2}} \\right\\} = \\mathcal{L}^{-1} \\left\\{ \\frac{2}{s-3} \\right\\} + \\mathcal{L}^{-1}\\left\\{ \\frac{11}{(s-3)^{2}} \\right\\} $$\n"
   ]
  },
  {
   "cell_type": "markdown",
   "id": "0d22f983",
   "metadata": {},
   "source": []
  },
  {
   "cell_type": "code",
   "execution_count": null,
   "id": "946a71e5",
   "metadata": {},
   "outputs": [],
   "source": []
  },
  {
   "cell_type": "markdown",
   "id": "c07b3b55",
   "metadata": {},
   "source": [
    "Ahora mediante la división entre el denominador de cada término, la linealidad de $L^{-1}$, los incisos e) y d) del teorema 7.2.1 y por último (1),\n",
    "\n",
    "\\begin{align*}\n",
    "\\frac{s/2 + 5/3}{(s+2)^{2} + 2}    & = \\frac{}{} = \\frac{}{}\\frac{}{} + \\frac{}{}\\frac{}{} \\\\\n",
    "L^{-1} \\left\\{ \\frac{}{} \\right\\}  & = \n",
    "\\end{align*}\n"
   ]
  },
  {
   "cell_type": "markdown",
   "id": "b843cf7b",
   "metadata": {},
   "source": []
  },
  {
   "cell_type": "markdown",
   "id": "7ee063dc",
   "metadata": {},
   "source": [
    "## Ejemplo 3 Un problema con valores iniciales "
   ]
  },
  {
   "cell_type": "markdown",
   "id": "bd959f2e",
   "metadata": {},
   "source": [
    "Resuelva \n",
    "\n",
    "$$ y'' - 6y' + 9y = t^{2}e^{3t}, \\ \\ \\ \\ y(0) = 2, \\ \\ y'(0) = 17. $$"
   ]
  },
  {
   "cell_type": "markdown",
   "id": "0ac20c8f",
   "metadata": {},
   "source": [
    "### Solución:"
   ]
  },
  {
   "cell_type": "markdown",
   "id": "2bffe137",
   "metadata": {},
   "source": [
    "Antes de transformar la ED, observe que su lado derecho es similar a la función del inciso a) del ejemplo 1. Después de usar la linealidad, el teorema 7.3.1 y las condiciones iniciales, se simplifi ca y luego se resuelve para $Y(s) = L\\{ f(t) \\}$:\n"
   ]
  },
  {
   "cell_type": "markdown",
   "id": "a89bb3cd",
   "metadata": {},
   "source": [
    "\\begin{align*}\n",
    "L\\{\\} - L\\{\\} + L\\{\\}                                & = L\\{ t^{2}e^{3t} \\} \\\\\n",
    "s^{2}Y(s) - sy(0) - y'(0) - 6[sY(s) - y(0)]  + 9Y(s) & = \\frac{2}{(s-3)^{3}} \\\\\n",
    "                                                     & = \n",
    "\\end{align*}"
   ]
  },
  {
   "cell_type": "code",
   "execution_count": null,
   "id": "c772f5be",
   "metadata": {},
   "outputs": [],
   "source": []
  },
  {
   "cell_type": "markdown",
   "id": "47b6221b",
   "metadata": {},
   "source": [
    "## Ejemplo 4 Un problema con valores iniciales "
   ]
  },
  {
   "cell_type": "markdown",
   "id": "6824dba0",
   "metadata": {},
   "source": [
    "Resuelva\n",
    "\n",
    "$$ y'' + 4y' + 6y = 1 + e^{-t}, \\ \\ \\ \\ y(0) = 0, \\ \\ y'(0) = 0, $$\n"
   ]
  },
  {
   "cell_type": "markdown",
   "id": "4a3adf9f",
   "metadata": {},
   "source": [
    "### Solución: "
   ]
  },
  {
   "cell_type": "markdown",
   "id": "d384f2b4",
   "metadata": {},
   "source": [
    "\\begin{align*}\n",
    "L\\{y''\\} + 4L\\{y'\\} + 6L\\{y\\}  & = L\\{1\\} + L\\{e^{-t}\\} \\\\\n",
    "s^{2}Y(s) - sy(0) - y'(0) + 4[sY(s) - y(0)] + 6Y(s) & = \\frac{1}{s} + \\frac{1}{s+1} \\\\\n",
    "& = \n",
    "\\end{align*}"
   ]
  },
  {
   "cell_type": "markdown",
   "id": "2093f058",
   "metadata": {},
   "source": [
    "Puesto que el término cuadrático en el denominador no se factoriza en factores lineales reales, se encuentra que la descomposición en fracciones parciales para $Y(s)$ es\n",
    "\n",
    "$$ Y(s) = \\frac{1/6}{s} + \\frac{1/3}{s+1} - \\frac{s/2 + 5/3}{s^{2} + 4s + 6} $$\n"
   ]
  },
  {
   "cell_type": "markdown",
   "id": "12b44453",
   "metadata": {},
   "source": [
    "Además, en la preparación para tomar la transformada inversa, ya se manejó el último término en la forma necesaria del inciso b) del ejemplo 2. "
   ]
  },
  {
   "cell_type": "markdown",
   "id": "5908833f",
   "metadata": {},
   "source": [
    "Por lo que en vista de los resultados en (6) y (7), se tiene la solución\n",
    "\n",
    "\\begin{align*}\n",
    "y(t) & =  \\\\\n",
    "     & = \\frac{1}{6} + \n",
    "\\end{align*}\n"
   ]
  },
  {
   "cell_type": "markdown",
   "id": "463f5a3f",
   "metadata": {},
   "source": [
    "## 7.3.2 Traslación en el eje $t$"
   ]
  },
  {
   "cell_type": "markdown",
   "id": "ed1e72ab",
   "metadata": {},
   "source": [
    "### FUNCIÓN ESCALÓN UNITARIO "
   ]
  },
  {
   "cell_type": "markdown",
   "id": "772bcd87",
   "metadata": {},
   "source": [
    "En ingeniería es común encontrar funciones que están ya sea “desactivadas” o “activadas”. Por ejemplo, una fuerza externa que actúa en un sistema mecánico, o un voltaje aplicado a un circuito, se puede desactivar después de cierto tiempo. "
   ]
  },
  {
   "cell_type": "markdown",
   "id": "737e2cd6",
   "metadata": {},
   "source": [
    "Es conveniente entonces definir una función especial que es el número 0 (desactivada) hasta un cierto tiempo $t = a$ y entonces el número 1 (activada) después de ese tiempo. "
   ]
  },
  {
   "cell_type": "markdown",
   "id": "45df8f5c",
   "metadata": {},
   "source": [
    "La función se llama **función escalón unitario** o **función de Heaviside**."
   ]
  },
  {
   "cell_type": "markdown",
   "id": "93d6377a",
   "metadata": {},
   "source": [
    "### DEFINICIÓN 7.3.1 Función escalón unitario"
   ]
  },
  {
   "cell_type": "markdown",
   "id": "ea234128",
   "metadata": {},
   "source": [
    "La función escalón unitario $U(t - a)$ se define como\n",
    "\n",
    "$$ U(t-a) = \\begin{cases} 0, & 0 \\leq t < a \\\\ 1, & t \\geq a  \\end{cases}. $$\n"
   ]
  },
  {
   "cell_type": "markdown",
   "id": "690805ad",
   "metadata": {},
   "source": [
    "<img src = 'https://github.com/marco-canas/Ecuaciones_Diferenciales/blob/main/clases/class_14/figura_7_3_2.PNG?raw=true'>"
   ]
  },
  {
   "cell_type": "markdown",
   "id": "6ecf76d2",
   "metadata": {},
   "source": [
    "Observe que se define $U(t - a)$ sólo en el eje $t$ no negativo, puesto que esto es todo lo que interesa en el estudio de la transformada de Laplace. "
   ]
  },
  {
   "cell_type": "markdown",
   "id": "8727166c",
   "metadata": {},
   "source": [
    "En un sentido más amplio, $U(t - a) = 0$ para $t < a$."
   ]
  },
  {
   "cell_type": "markdown",
   "id": "9c0f3211",
   "metadata": {},
   "source": [
    " En la figura anterior 7.3.2, se muestra la gráfica de $U(t- a)$."
   ]
  },
  {
   "cell_type": "markdown",
   "id": "e7ba7c0c",
   "metadata": {},
   "source": [
    "Cuando una función f definida para t \u0002 0 se multiplica por (t a), la función \n",
    "escalón unitario “desactiva” una parte de la gráfi ca de esa función. Por ejemplo, con\u0002sidere la función f (t) \u0001 2t \u0002 3. Para “desactivar” la parte de la gráfi ca de f para 0 \u0003 t \u0004 1, simplemente formamos el producto (2 t 3) (t 1). Véase la fi gura 7.3.3. "
   ]
  },
  {
   "cell_type": "markdown",
   "id": "a4ef23ac",
   "metadata": {},
   "source": [
    "En general, la gráfica de $f(t)U(t - a)$ es $0$ (desactivada) para $0 \\leq t < a$ y es la parte de la gráfica de $f$ (activada) para $t \\geq a$."
   ]
  },
  {
   "cell_type": "code",
   "execution_count": null,
   "id": "2a02706b",
   "metadata": {},
   "outputs": [],
   "source": []
  },
  {
   "cell_type": "code",
   "execution_count": null,
   "id": "83fb6f38",
   "metadata": {},
   "outputs": [],
   "source": []
  },
  {
   "cell_type": "code",
   "execution_count": null,
   "id": "de688614",
   "metadata": {},
   "outputs": [],
   "source": []
  }
 ],
 "metadata": {
  "kernelspec": {
   "display_name": "Python 3",
   "language": "python",
   "name": "python3"
  },
  "language_info": {
   "codemirror_mode": {
    "name": "ipython",
    "version": 3
   },
   "file_extension": ".py",
   "mimetype": "text/x-python",
   "name": "python",
   "nbconvert_exporter": "python",
   "pygments_lexer": "ipython3",
   "version": "3.8.8"
  },
  "latex_envs": {
   "LaTeX_envs_menu_present": true,
   "autoclose": false,
   "autocomplete": false,
   "bibliofile": "biblio.bib",
   "cite_by": "apalike",
   "current_citInitial": 1,
   "eqLabelWithNumbers": true,
   "eqNumInitial": 1,
   "hotkeys": {
    "equation": "Ctrl-E",
    "itemize": "Ctrl-I"
   },
   "labels_anchors": false,
   "latex_user_defs": false,
   "report_style_numbering": false,
   "user_envs_cfg": false
  },
  "rise": {
   "enable_chalkboard": true,
   "theme": "sky",
   "transition": "sky"
  }
 },
 "nbformat": 4,
 "nbformat_minor": 5
}
