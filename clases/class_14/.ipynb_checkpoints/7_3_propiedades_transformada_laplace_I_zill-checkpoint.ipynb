{
 "cells": [
  {
   "cell_type": "markdown",
   "id": "cf614895",
   "metadata": {},
   "source": [
    "# Propiedades operacionales de la transformada de Laplace I  "
   ]
  },
  {
   "cell_type": "markdown",
   "id": "883e3288",
   "metadata": {},
   "source": [
    "Página 286 del Zill"
   ]
  },
  {
   "cell_type": "markdown",
   "id": "40121145",
   "metadata": {},
   "source": [
    "### Conceptos previos necesarios\n",
    "* Continúe practicando la descomposición en fracciones parciales.\n",
    "* Completar el cuadrado."
   ]
  },
  {
   "cell_type": "markdown",
   "id": "d0160f8a",
   "metadata": {},
   "source": [
    "## INTRODUCCIÓN   \n",
    "No es conveniente usar la definición 7.1 cada vez que se desea encontrar la transformada de Laplace de una función $f(t)$.  "
   ]
  },
  {
   "cell_type": "markdown",
   "id": "6721aa03",
   "metadata": {},
   "source": [
    "Por ejemplo, la integración por partes requerida para evaluar $L\\{ e^{t}t^{2}\\sin t \\}$ es formidable en pocas palabras. "
   ]
  },
  {
   "cell_type": "markdown",
   "id": "7d5098bb",
   "metadata": {},
   "source": [
    "En esta sección y la que sigue se presentan varias propiedades operacionales de la transformada de Laplace que ahorran trabajo y permiten construir una lista más extensa de transformadas (vea la tabla del apéndice III) sin tener que recurrir a la  definición básica y a la integración."
   ]
  },
  {
   "cell_type": "markdown",
   "id": "4b1c6b8a",
   "metadata": {},
   "source": [
    "## 7.3.1 TRASLACIÓN EN EL EJE $s$"
   ]
  },
  {
   "cell_type": "markdown",
   "id": "62b2a774",
   "metadata": {},
   "source": [
    "UNA TRASLACION Evaluar transformadas tales como {e\n",
    "5t\n",
    "t\n",
    "3} y {e\n",
    "2t\n",
    "cos 4t}\n",
    "es directo siempre que se conozca (y así es) {t\n",
    "3} y {cos 4t} . En general, si se co\u0002noce la transformada de Laplace de una función f, { f(t)} F(s), es posible calcular \n",
    "la transformada de Laplace de un múltiplo exponencial de f, es decir, {e\n",
    "at f(t)}, sin \n",
    "ningún esfuerzo adicional que no sea trasladar o desplazar, la transformada F(s) a \n",
    "F(s \u0002 a). Este resultado se conoce como primer teorema de traslación o primer \n",
    "teorema de desplazamiento."
   ]
  },
  {
   "cell_type": "code",
   "execution_count": null,
   "id": "2ae9a75c",
   "metadata": {},
   "outputs": [],
   "source": []
  },
  {
   "cell_type": "code",
   "execution_count": null,
   "id": "f7bfc7f1",
   "metadata": {},
   "outputs": [],
   "source": []
  },
  {
   "cell_type": "code",
   "execution_count": null,
   "id": "1f64ebe1",
   "metadata": {},
   "outputs": [],
   "source": []
  },
  {
   "cell_type": "code",
   "execution_count": null,
   "id": "a81d1000",
   "metadata": {},
   "outputs": [],
   "source": []
  },
  {
   "cell_type": "code",
   "execution_count": null,
   "id": "7e917be2",
   "metadata": {},
   "outputs": [],
   "source": []
  },
  {
   "cell_type": "code",
   "execution_count": null,
   "id": "936f80c2",
   "metadata": {},
   "outputs": [],
   "source": []
  },
  {
   "cell_type": "code",
   "execution_count": null,
   "id": "41a0a735",
   "metadata": {},
   "outputs": [],
   "source": []
  }
 ],
 "metadata": {
  "kernelspec": {
   "display_name": "Python 3",
   "language": "python",
   "name": "python3"
  },
  "language_info": {
   "codemirror_mode": {
    "name": "ipython",
    "version": 3
   },
   "file_extension": ".py",
   "mimetype": "text/x-python",
   "name": "python",
   "nbconvert_exporter": "python",
   "pygments_lexer": "ipython3",
   "version": "3.8.8"
  },
  "latex_envs": {
   "LaTeX_envs_menu_present": true,
   "autoclose": false,
   "autocomplete": false,
   "bibliofile": "biblio.bib",
   "cite_by": "apalike",
   "current_citInitial": 1,
   "eqLabelWithNumbers": true,
   "eqNumInitial": 1,
   "hotkeys": {
    "equation": "Ctrl-E",
    "itemize": "Ctrl-I"
   },
   "labels_anchors": false,
   "latex_user_defs": false,
   "report_style_numbering": false,
   "user_envs_cfg": false
  }
 },
 "nbformat": 4,
 "nbformat_minor": 5
}
