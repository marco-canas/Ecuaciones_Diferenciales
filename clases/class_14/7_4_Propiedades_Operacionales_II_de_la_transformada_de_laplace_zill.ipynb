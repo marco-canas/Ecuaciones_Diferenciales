{
 "cells": [
  {
   "cell_type": "markdown",
   "id": "bcea447c",
   "metadata": {},
   "source": [
    "# PROPIEDADES OPERACIONALES II\n",
    "Página 298"
   ]
  },
  {
   "cell_type": "markdown",
   "id": "e7bb1f99",
   "metadata": {},
   "source": [
    "### REPASO DE MATERIAL \n",
    "\n",
    "* Definición 7.1.1\n",
    "* Teoremas 7.3.1 y 7.3.2"
   ]
  },
  {
   "cell_type": "markdown",
   "id": "1a278026",
   "metadata": {},
   "source": [
    "## INTRODUCCIÓN "
   ]
  },
  {
   "cell_type": "markdown",
   "id": "d32b516a",
   "metadata": {},
   "source": [
    "En esta sección se desarrollan varias propiedades operacionales más de la transfor\u0002mada de Laplace. En especial, veremos cómo encontrar la transformada de una función $f(t)$ que se multiplica por un monomio $t n , la transformada de un tipo especial de integral y la transformada de una función periódica. "
   ]
  },
  {
   "cell_type": "markdown",
   "id": "f7aa9eca",
   "metadata": {},
   "source": [
    "Las dos últimas propiedades de transformada permiten resolver ecuaciones que no se han en\u0002contrado hasta este punto: ecuaciones integrales de Volterra, ecuaciones integrodiferenciales y ecuaciones \n",
    "diferenciales ordinarias en las que la función de entrada es una función periódica defi nida por tramos."
   ]
  },
  {
   "cell_type": "markdown",
   "id": "9c754287",
   "metadata": {},
   "source": [
    "## 7.4.1 DERIVADAS DE UNA TRANSFORMADA"
   ]
  },
  {
   "cell_type": "code",
   "execution_count": null,
   "id": "6bfaa495",
   "metadata": {},
   "outputs": [],
   "source": []
  },
  {
   "cell_type": "markdown",
   "id": "e89fdab0",
   "metadata": {},
   "source": [
    "## 7.4.3 TRANSFORMADA DE UNA FUNCIÓN PERIÓDICA"
   ]
  },
  {
   "cell_type": "code",
   "execution_count": null,
   "id": "9ad31161",
   "metadata": {},
   "outputs": [],
   "source": []
  },
  {
   "cell_type": "code",
   "execution_count": null,
   "id": "ca7a06dd",
   "metadata": {},
   "outputs": [],
   "source": []
  },
  {
   "cell_type": "code",
   "execution_count": null,
   "id": "04c03bd8",
   "metadata": {},
   "outputs": [],
   "source": []
  },
  {
   "cell_type": "code",
   "execution_count": null,
   "id": "def6e216",
   "metadata": {},
   "outputs": [],
   "source": []
  }
 ],
 "metadata": {
  "kernelspec": {
   "display_name": "Python 3",
   "language": "python",
   "name": "python3"
  },
  "language_info": {
   "codemirror_mode": {
    "name": "ipython",
    "version": 3
   },
   "file_extension": ".py",
   "mimetype": "text/x-python",
   "name": "python",
   "nbconvert_exporter": "python",
   "pygments_lexer": "ipython3",
   "version": "3.8.8"
  },
  "latex_envs": {
   "LaTeX_envs_menu_present": true,
   "autoclose": false,
   "autocomplete": false,
   "bibliofile": "biblio.bib",
   "cite_by": "apalike",
   "current_citInitial": 1,
   "eqLabelWithNumbers": true,
   "eqNumInitial": 1,
   "hotkeys": {
    "equation": "Ctrl-E",
    "itemize": "Ctrl-I"
   },
   "labels_anchors": false,
   "latex_user_defs": false,
   "report_style_numbering": false,
   "user_envs_cfg": false
  }
 },
 "nbformat": 4,
 "nbformat_minor": 5
}
