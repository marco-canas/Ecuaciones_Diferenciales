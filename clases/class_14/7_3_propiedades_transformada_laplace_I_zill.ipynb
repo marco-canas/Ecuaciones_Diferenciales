{
 "cells": [
  {
   "cell_type": "markdown",
   "id": "1ce35bac",
   "metadata": {},
   "source": [
    "# Propiedades operacionales de la transformada de Laplace I  "
   ]
  },
  {
   "cell_type": "markdown",
   "id": "ea0da941",
   "metadata": {},
   "source": [
    "Página 286 del Zill"
   ]
  },
  {
   "cell_type": "markdown",
   "id": "3ca91ae3",
   "metadata": {},
   "source": [
    "### Conceptos previos necesarios\n",
    "* Continúe practicando la descomposición en fracciones parciales.\n",
    "* Completar el cuadrado."
   ]
  },
  {
   "cell_type": "markdown",
   "id": "837fc13e",
   "metadata": {},
   "source": [
    "## INTRODUCCIÓN   \n",
    "No es conveniente usar la definición 7.1 cada vez que se desea encontrar la transformada de Laplace de una función $f(t)$.  "
   ]
  },
  {
   "cell_type": "markdown",
   "id": "2cf199b8",
   "metadata": {},
   "source": [
    "Por ejemplo, la integración por partes requerida para evaluar $L\\{ e^{t}t^{2}\\sin t \\}$ es formidable en pocas palabras. "
   ]
  },
  {
   "cell_type": "markdown",
   "id": "3b54e006",
   "metadata": {},
   "source": [
    "En esta sección y la que sigue se presentan varias propiedades operacionales de la transformada de Laplace que ahorran trabajo y permiten construir una lista más extensa de transformadas (vea la tabla del apéndice III) sin tener que recurrir a la  definición básica y a la integración."
   ]
  },
  {
   "cell_type": "markdown",
   "id": "6122049e",
   "metadata": {},
   "source": [
    "## 7.3.1 TRASLACIÓN EN EL EJE $s$"
   ]
  },
  {
   "cell_type": "markdown",
   "id": "56c5b5a4",
   "metadata": {},
   "source": [
    "### UNA TRASLACION  "
   ]
  },
  {
   "cell_type": "markdown",
   "id": "3c839b5d",
   "metadata": {},
   "source": [
    " \n",
    "Evaluar transformadas tales como $L\\{e^{5}t^{3}\\}$ y $L\\{e^{-2t}\\cos 4t\\}$ es directo siempre que se conozca (y así es) $L\\{ t^{3} \\}$ y $L\\{cos 4t \\}$. "
   ]
  },
  {
   "cell_type": "markdown",
   "id": "61978890",
   "metadata": {},
   "source": [
    "En general, si se conoce la transformada de Laplace de una función $f$, $L\\{ f(t) \\} = F(s)$, es posible calcular la transformada de Laplace de un múltiplo exponencial de $f$, es decir, $L\\{e^{at} f(t) \\}$, sin ningún esfuerzo adicional que no sea trasladar o desplazar, la transformada $F(s)$ a $F(s - a)$. "
   ]
  },
  {
   "cell_type": "markdown",
   "id": "c9e80ddc",
   "metadata": {},
   "source": [
    "Este resultado se conoce como primer teorema de traslación o primer teorema de desplazamiento."
   ]
  },
  {
   "cell_type": "markdown",
   "id": "cdd85a09",
   "metadata": {},
   "source": [
    "### TEOREMA 7.3.1 Primer teorema de traslación"
   ]
  },
  {
   "cell_type": "markdown",
   "id": "2fb63cb6",
   "metadata": {},
   "source": [
    "Si $L\\{ f(t) \\} F(s)$ y $a$ es cualquier número real, entonces  \n",
    "$$ L \\{e^{at} f(t) \\} = F(s - a) $$"
   ]
  },
  {
   "cell_type": "markdown",
   "id": "e9939c97",
   "metadata": {},
   "source": [
    "#### PRUEBA   "
   ]
  },
  {
   "cell_type": "markdown",
   "id": "91d6bd20",
   "metadata": {},
   "source": [
    "La demostración es inmediata, ya que por la defi nición 7.1.1"
   ]
  },
  {
   "cell_type": "markdown",
   "id": "6067bbfc",
   "metadata": {},
   "source": [
    "$$ L\\{ e^{at}f(t) \\} =  \\int_{0}^{\\infty} e^{-st}e^{at}f(t)dt = \\int_{0}^{\\infty}e^{-(s-a)t}f(t)dt = F(s-a) $$"
   ]
  },
  {
   "cell_type": "markdown",
   "id": "76e0bb5b",
   "metadata": {},
   "source": [
    "Si se considera $s$ una variable real, entonces la gráfica de $F(s - a)$ es la gráfica de $F(s)$ desplazada en el eje $s$ por la cantidad $|a|$."
   ]
  },
  {
   "cell_type": "markdown",
   "id": "d12212b2",
   "metadata": {},
   "source": [
    "Si $a > 0$, la gráfica de $F(s)$ se desplaza $a$ unidades a la derecha, mientras que si $a < 0$, la gráfica se desplaza $|a|$ unidades a la izquierda. "
   ]
  },
  {
   "cell_type": "markdown",
   "id": "9339e6d7",
   "metadata": {},
   "source": [
    "Véase la siguiente figura"
   ]
  },
  {
   "cell_type": "markdown",
   "id": "1b8caed2",
   "metadata": {},
   "source": [
    "<img src = ''>"
   ]
  },
  {
   "cell_type": "markdown",
   "id": "e11bd7b5",
   "metadata": {},
   "source": [
    " \n",
    "Para enfatizar, a veces es útil usar el simbolismo\n",
    "\n",
    "$$ L\\{ e^{at}f(t) \\} = \\left| L\\{ f(t) \\} \\right|_{s \\to s-a},  $$"
   ]
  },
  {
   "cell_type": "code",
   "execution_count": null,
   "id": "9c5b585d",
   "metadata": {},
   "outputs": [],
   "source": []
  },
  {
   "cell_type": "code",
   "execution_count": null,
   "id": "f8b7acb1",
   "metadata": {},
   "outputs": [],
   "source": []
  },
  {
   "cell_type": "code",
   "execution_count": null,
   "id": "a3a4deab",
   "metadata": {},
   "outputs": [],
   "source": []
  },
  {
   "cell_type": "code",
   "execution_count": null,
   "id": "e1d02408",
   "metadata": {},
   "outputs": [],
   "source": []
  },
  {
   "cell_type": "code",
   "execution_count": null,
   "id": "08162734",
   "metadata": {},
   "outputs": [],
   "source": []
  },
  {
   "cell_type": "code",
   "execution_count": null,
   "id": "7ca63d0a",
   "metadata": {},
   "outputs": [],
   "source": []
  }
 ],
 "metadata": {
  "kernelspec": {
   "display_name": "Python 3",
   "language": "python",
   "name": "python3"
  },
  "language_info": {
   "codemirror_mode": {
    "name": "ipython",
    "version": 3
   },
   "file_extension": ".py",
   "mimetype": "text/x-python",
   "name": "python",
   "nbconvert_exporter": "python",
   "pygments_lexer": "ipython3",
   "version": "3.8.8"
  },
  "latex_envs": {
   "LaTeX_envs_menu_present": true,
   "autoclose": false,
   "autocomplete": false,
   "bibliofile": "biblio.bib",
   "cite_by": "apalike",
   "current_citInitial": 1,
   "eqLabelWithNumbers": true,
   "eqNumInitial": 1,
   "hotkeys": {
    "equation": "Ctrl-E",
    "itemize": "Ctrl-I"
   },
   "labels_anchors": false,
   "latex_user_defs": false,
   "report_style_numbering": false,
   "user_envs_cfg": false
  }
 },
 "nbformat": 4,
 "nbformat_minor": 5
}
