{
 "cells": [
  {
   "cell_type": "markdown",
   "id": "1ce35bac",
   "metadata": {},
   "source": [
    "# Propiedades operacionales de la transformada de Laplace I  "
   ]
  },
  {
   "cell_type": "markdown",
   "id": "ea0da941",
   "metadata": {},
   "source": [
    "Página 286 del Zill"
   ]
  },
  {
   "cell_type": "markdown",
   "id": "3ca91ae3",
   "metadata": {},
   "source": [
    "### Conceptos previos necesarios\n",
    "* Continúe practicando la descomposición en fracciones parciales.\n",
    "* Completar el cuadrado."
   ]
  },
  {
   "cell_type": "markdown",
   "id": "837fc13e",
   "metadata": {},
   "source": [
    "## INTRODUCCIÓN   \n",
    "No es conveniente usar la definición 7.1 cada vez que se desea encontrar la transformada de Laplace de una función $f(t)$.  "
   ]
  },
  {
   "cell_type": "markdown",
   "id": "2cf199b8",
   "metadata": {},
   "source": [
    "Por ejemplo, la integración por partes requerida para evaluar $L\\{ e^{t}t^{2}\\sin t \\}$ es formidable en pocas palabras. "
   ]
  },
  {
   "cell_type": "markdown",
   "id": "3b54e006",
   "metadata": {},
   "source": [
    "En esta sección y la que sigue se presentan varias propiedades operacionales de la transformada de Laplace que ahorran trabajo y permiten construir una lista más extensa de transformadas (vea la tabla del apéndice III) sin tener que recurrir a la  definición básica y a la integración."
   ]
  },
  {
   "cell_type": "markdown",
   "id": "6122049e",
   "metadata": {},
   "source": [
    "## 7.3.1 TRASLACIÓN EN EL EJE $s$"
   ]
  },
  {
   "cell_type": "markdown",
   "id": "56c5b5a4",
   "metadata": {},
   "source": [
    "### UNA TRASLACION  "
   ]
  },
  {
   "cell_type": "markdown",
   "id": "3c839b5d",
   "metadata": {},
   "source": [
    " \n",
    "Evaluar transformadas tales como $L\\{e^{5}t^{3}\\}$ y $L\\{e^{-2t}\\cos 4t\\}$ es directo siempre que se conozca (y así es) $L\\{ t^{3} \\}$ y $L\\{cos 4t \\}$. "
   ]
  },
  {
   "cell_type": "markdown",
   "id": "61978890",
   "metadata": {},
   "source": [
    "En general, si se conoce la transformada de Laplace de una función $f$, $L\\{ f(t) \\} = F(s)$, es posible calcular la transformada de Laplace de un múltiplo exponencial de $f$, es decir, $L\\{e^{at} f(t) \\}$, sin ningún esfuerzo adicional que no sea trasladar o desplazar, la transformada $F(s)$ a $F(s - a)$. "
   ]
  },
  {
   "cell_type": "markdown",
   "id": "c9e80ddc",
   "metadata": {},
   "source": [
    "Este resultado se conoce como primer teorema de traslación o primer teorema de desplazamiento."
   ]
  },
  {
   "cell_type": "markdown",
   "id": "cdd85a09",
   "metadata": {},
   "source": [
    "### TEOREMA 7.3.1 Primer teorema de traslación"
   ]
  },
  {
   "cell_type": "markdown",
   "id": "2fb63cb6",
   "metadata": {},
   "source": [
    "Si $L\\{ f(t) \\} F(s)$ y $a$ es cualquier número real, entonces  \n",
    "$$ L \\{e^{at} f(t) \\} = F(s - a) $$"
   ]
  },
  {
   "cell_type": "markdown",
   "id": "e9939c97",
   "metadata": {},
   "source": [
    "#### PRUEBA   "
   ]
  },
  {
   "cell_type": "markdown",
   "id": "91d6bd20",
   "metadata": {},
   "source": [
    "La demostración es inmediata, ya que por la defi nición 7.1.1"
   ]
  },
  {
   "cell_type": "markdown",
   "id": "6067bbfc",
   "metadata": {},
   "source": [
    "$$ L\\{ e^{at}f(t) \\} =  \\int_{0}^{\\infty} e^{-st}e^{at}f(t)dt = \\int_{0}^{\\infty}e^{-(s-a)t}f(t)dt = F(s-a) $$"
   ]
  },
  {
   "cell_type": "markdown",
   "id": "c5e5c403",
   "metadata": {},
   "source": [
    "Si se considera $s$ una variable real, entonces la gráfica de $F(s - a)$ es la gráfica de $F(s)$ desplazada en el eje $s$ por la cantidad $|a|$."
   ]
  },
  {
   "cell_type": "markdown",
   "id": "363a9b18",
   "metadata": {},
   "source": [
    "Si $a > 0$, la gráfica de $F(s)$ se desplaza $a$ unidades a la derecha, mientras que si $a < 0$, la gráfica se desplaza $|a|$ unidades a la izquierda. "
   ]
  },
  {
   "cell_type": "markdown",
   "id": "78f789d9",
   "metadata": {},
   "source": [
    "Véase la siguiente figura"
   ]
  },
  {
   "cell_type": "markdown",
   "id": "95858d98",
   "metadata": {},
   "source": [
    "<img src = 'https://github.com/marco-canas/Ecuaciones_Diferenciales/blob/main/clases/class_14/figura_7_3_1.PNG?raw=true'> "
   ]
  },
  {
   "cell_type": "markdown",
   "id": "2617bac6",
   "metadata": {},
   "source": [
    " \n",
    "Para enfatizar, a veces es útil usar el simbolismo\n",
    "\n",
    "$$ L\\{ e^{at}f(t) \\} = \\left| L\\{ f(t) \\} \\right|_{s \\to s-a},  $$\n",
    "\n",
    "donde $s \\to s-a$ significa que en la transformada de Laplace $F(s)$ de $f(t)$ siempre que aparezca el símbolo $s$ se reemplaza por $s - a$.  "
   ]
  },
  {
   "cell_type": "markdown",
   "id": "80dd927a",
   "metadata": {},
   "source": [
    "## Ejemplo 1 Usando el primer teorema de traslación"
   ]
  },
  {
   "cell_type": "markdown",
   "id": "e33eb2cf",
   "metadata": {},
   "source": [
    "Evalue\n",
    "\n",
    "a. $L\\{ e^{5t} t^{3} \\}$  \n",
    "\n",
    "b. $L\\{ e^{-2t} \\cos 4t \\}$"
   ]
  },
  {
   "cell_type": "markdown",
   "id": "5761523a",
   "metadata": {},
   "source": [
    "### SOLUCIÓN \n",
    "\n",
    "Los siguientes resultados se deducen de los teoremas 7.1.1 y 7.3.1."
   ]
  },
  {
   "cell_type": "markdown",
   "id": "76e052b1",
   "metadata": {},
   "source": []
  },
  {
   "cell_type": "markdown",
   "id": "ce6b6d19",
   "metadata": {},
   "source": []
  },
  {
   "cell_type": "markdown",
   "id": "67ebcb80",
   "metadata": {},
   "source": [
    "## Forma inversa del teorema $7.3.1$ "
   ]
  },
  {
   "cell_type": "markdown",
   "id": "9672e724",
   "metadata": {},
   "source": [
    "Para calcular la inversa de $F(s - a)$, se debe reconocer $F(s)$, para encontrar $f(t)$ obteniendo la transformada de Laplace \n",
    "inversa de $F(s)$ y después multiplicar $f(t)$ por la función exponencial $e^{at}$. Este procedimiento se resume con símbolos de la siguiente manera:\n",
    "\n",
    "$$ L^{-1}\\{  F(s-a) \\} = L^{-1}\\{ \\left. F(s) \\right|_{s \\to s-a} \\} = e^{at}f(t), $$\n",
    "\n",
    "donde $f(t) = L^{-1}\\{F(s)\\}$.\n"
   ]
  },
  {
   "cell_type": "markdown",
   "id": "2ddf849f",
   "metadata": {},
   "source": [
    "En la primera parte del ejemplo siguiente se ilustra la descomposición en fracciones parciales en el caso cuando el denominador de $Y(s)$ contiene *factores lineales repetidos*.\n"
   ]
  },
  {
   "cell_type": "markdown",
   "id": "d16c968e",
   "metadata": {},
   "source": [
    "## Ejemplo 2 Fracciones parciales: factores lineales repetidos. "
   ]
  },
  {
   "cell_type": "markdown",
   "id": "6168b8ee",
   "metadata": {},
   "source": [
    "Evalúe \n",
    "\n",
    "a) $$ L^{-1}\\left\\{ \\frac{2s + 5}{(s-3)^{2}} \\right\\} $$\n",
    "\n",
    "b) $$ L^{-1}\\left\\{ \\frac{s/2 + 5/3}{s^{2} + 4s + 6} \\right\\} $$\n"
   ]
  },
  {
   "cell_type": "markdown",
   "id": "9f971db5",
   "metadata": {},
   "source": [
    "### Solución: "
   ]
  },
  {
   "cell_type": "markdown",
   "id": "37fadabe",
   "metadata": {},
   "source": []
  },
  {
   "cell_type": "markdown",
   "id": "876d51ba",
   "metadata": {},
   "source": []
  },
  {
   "cell_type": "markdown",
   "id": "f12945a2",
   "metadata": {},
   "source": [
    "## Ejemplo 3 Un problema con valores iniciales "
   ]
  },
  {
   "cell_type": "markdown",
   "id": "21f65ce7",
   "metadata": {},
   "source": [
    "Resuelva \n",
    "\n",
    "$$ y'' - 6y' + 9y = t^{2}e^{3t}, \\ \\ \\ \\ y(0) = 2, \\ \\ y'(0) = 17. $$"
   ]
  },
  {
   "cell_type": "markdown",
   "id": "18e5edc4",
   "metadata": {},
   "source": [
    "### Solución:"
   ]
  },
  {
   "cell_type": "markdown",
   "id": "79740eb9",
   "metadata": {},
   "source": [
    "Antes de transformar la ED, observe que su lado derecho es similar a la función del inciso a) del ejemplo 1. Después de usar la linealidad, el teorema 7.3.1 y las condiciones iniciales, se simplifi ca y luego se resuelve para $Y(s) = L\\{ f(t) \\}$:\n"
   ]
  },
  {
   "cell_type": "markdown",
   "id": "ed3747f8",
   "metadata": {},
   "source": [
    "\\begin{align*}\n",
    "L\\{\\} - L\\{\\} + L\\{\\}                                & = L\\{ t^{2}e^{3t} \\} \\\\\n",
    "s^{2}Y(s) - sy(0) - y'(0) - 6[sY(s) - y(0)]  + 9Y(s) & = \\frac{2}{(s-3)^{3}} \\\\\n",
    "                                                     & = \n",
    "\\end{align*}"
   ]
  },
  {
   "cell_type": "code",
   "execution_count": null,
   "id": "16c23295",
   "metadata": {},
   "outputs": [],
   "source": []
  },
  {
   "cell_type": "markdown",
   "id": "5e318821",
   "metadata": {},
   "source": [
    "## Ejemplo 4 Un problema con valores iniciales "
   ]
  },
  {
   "cell_type": "markdown",
   "id": "8963cf97",
   "metadata": {},
   "source": [
    "Resuelva\n",
    "\n",
    "$$ y'' + 4y' + 6y = 1 + e^{-t}, \\ \\ \\ \\ y(0) = 0, \\ \\ y'(0) = 0, $$\n"
   ]
  },
  {
   "cell_type": "markdown",
   "id": "8f0faa56",
   "metadata": {},
   "source": [
    "### Solución: "
   ]
  },
  {
   "cell_type": "markdown",
   "id": "f61c71f9",
   "metadata": {},
   "source": [
    "\\begin{align*}\n",
    "L\\{y''\\} + 4L\\{y'\\} + 6L\\{y\\}  & = L\\{1\\} + L\\{e^{-t}\\} \\\\\n",
    "s^{2}Y(s) - sy(0) - y'(0) + 4[sY(s) - y(0)] + 6Y(s) & = \\frac{1}{s} + \\frac{1}{s+1} \\\\\n",
    "& = \n",
    "\\end{align*}"
   ]
  },
  {
   "cell_type": "markdown",
   "id": "3705901a",
   "metadata": {},
   "source": [
    "Puesto que el término cuadrático en el denominador no se factoriza en factores lineales reales, se encuentra que la descomposición en fracciones parciales para $Y(s)$ es\n",
    "\n",
    "$$ Y(s) = \\frac{1/6}{s} + \\frac{1/3}{s+1} - \\frac{s/2 + 5/3}{s^{2} + 4s + 6} $$\n"
   ]
  },
  {
   "cell_type": "markdown",
   "id": "15be0b8b",
   "metadata": {},
   "source": [
    "Además, en la preparación para tomar la transformada inversa, ya se manejó el último término en la forma necesaria del inciso b) del ejemplo 2. "
   ]
  },
  {
   "cell_type": "markdown",
   "id": "e8da04e6",
   "metadata": {},
   "source": [
    "Por lo que en vista de los resultados en (6) y (7), se tiene la solución\n",
    "\n",
    "\\begin{align*}\n",
    "y(t) & =  \\\\\n",
    "     & = \\frac{1}{6} + \n",
    "\\end{align*}\n"
   ]
  },
  {
   "cell_type": "markdown",
   "id": "93233cfe",
   "metadata": {},
   "source": [
    "## 7.3.2 Traslación en el eje $t$"
   ]
  },
  {
   "cell_type": "markdown",
   "id": "feab4ee0",
   "metadata": {},
   "source": [
    "### FUNCIÓN ESCALÓN UNITARIO "
   ]
  },
  {
   "cell_type": "markdown",
   "id": "3b5ac9ca",
   "metadata": {},
   "source": [
    "En ingeniería es común encontrar funciones que están ya sea “desactivadas” o “activadas”. Por ejemplo, una fuerza externa que actúa en un sistema mecánico, o un voltaje aplicado a un circuito, se puede desactivar después de cierto tiempo. "
   ]
  },
  {
   "cell_type": "markdown",
   "id": "d72465d4",
   "metadata": {},
   "source": [
    "Es conveniente entonces definir una función especial que es el número 0 (desactivada) hasta un cierto tiempo $t = a$ y entonces el número 1 (activada) después de ese tiempo. "
   ]
  },
  {
   "cell_type": "markdown",
   "id": "cee59fb7",
   "metadata": {},
   "source": [
    "La función se llama **función escalón unitario** o **función de Heaviside**."
   ]
  },
  {
   "cell_type": "markdown",
   "id": "ba7054df",
   "metadata": {},
   "source": [
    "### DEFINICIÓN 7.3.1 Función escalón unitario"
   ]
  },
  {
   "cell_type": "markdown",
   "id": "07c584c0",
   "metadata": {},
   "source": [
    "La función escalón unitario $U(t - a)$ se define como\n",
    "\n",
    "$$ U(t-a) = \\begin{cases} 0, & 0 \\leq t < a \\\\ 1, & t \\geq a  \\end{cases} $$\n"
   ]
  },
  {
   "cell_type": "code",
   "execution_count": null,
   "id": "c66a05bb",
   "metadata": {},
   "outputs": [],
   "source": []
  },
  {
   "cell_type": "code",
   "execution_count": null,
   "id": "e267c00d",
   "metadata": {},
   "outputs": [],
   "source": []
  },
  {
   "cell_type": "code",
   "execution_count": null,
   "id": "a629bc18",
   "metadata": {},
   "outputs": [],
   "source": []
  },
  {
   "cell_type": "code",
   "execution_count": null,
   "id": "97259812",
   "metadata": {},
   "outputs": [],
   "source": []
  },
  {
   "cell_type": "code",
   "execution_count": null,
   "id": "770c1e59",
   "metadata": {},
   "outputs": [],
   "source": []
  }
 ],
 "metadata": {
  "kernelspec": {
   "display_name": "Python 3",
   "language": "python",
   "name": "python3"
  },
  "language_info": {
   "codemirror_mode": {
    "name": "ipython",
    "version": 3
   },
   "file_extension": ".py",
   "mimetype": "text/x-python",
   "name": "python",
   "nbconvert_exporter": "python",
   "pygments_lexer": "ipython3",
   "version": "3.8.8"
  },
  "latex_envs": {
   "LaTeX_envs_menu_present": true,
   "autoclose": false,
   "autocomplete": false,
   "bibliofile": "biblio.bib",
   "cite_by": "apalike",
   "current_citInitial": 1,
   "eqLabelWithNumbers": true,
   "eqNumInitial": 1,
   "hotkeys": {
    "equation": "Ctrl-E",
    "itemize": "Ctrl-I"
   },
   "labels_anchors": false,
   "latex_user_defs": false,
   "report_style_numbering": false,
   "user_envs_cfg": false
  },
  "rise": {
   "enable_chalkboard": true,
   "theme": "sky",
   "transition": "sky"
  }
 },
 "nbformat": 4,
 "nbformat_minor": 5
}
