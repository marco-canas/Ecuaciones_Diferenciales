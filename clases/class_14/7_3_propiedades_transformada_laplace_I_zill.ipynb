{
 "cells": [
  {
   "cell_type": "markdown",
   "id": "1ce35bac",
   "metadata": {},
   "source": [
    "# Propiedades operacionales de la transformada de Laplace I  "
   ]
  },
  {
   "cell_type": "markdown",
   "id": "ea0da941",
   "metadata": {},
   "source": [
    "Página 286 del Zill"
   ]
  },
  {
   "cell_type": "markdown",
   "id": "3ca91ae3",
   "metadata": {},
   "source": [
    "### Conceptos previos necesarios\n",
    "* Continúe practicando la descomposición en fracciones parciales:   \n",
    "  Descomposición cuando hay factores lineales repetidos. \n",
    "* Completar el cuadrado."
   ]
  },
  {
   "cell_type": "markdown",
   "id": "837fc13e",
   "metadata": {},
   "source": [
    "## INTRODUCCIÓN   \n",
    "No es conveniente usar la definición 7.1 cada vez que se desea encontrar la transformada de Laplace de una función $f(t)$.  "
   ]
  },
  {
   "cell_type": "markdown",
   "id": "2cf199b8",
   "metadata": {},
   "source": [
    "Por ejemplo, la integración por partes requerida para evaluar $L\\{ e^{t}t^{2}\\sin t \\}$ es formidable en pocas palabras. "
   ]
  },
  {
   "cell_type": "markdown",
   "id": "3b54e006",
   "metadata": {},
   "source": [
    "En esta sección y la que sigue se presentan varias propiedades operacionales de la transformada de Laplace que ahorran trabajo y permiten construir una lista más extensa de transformadas (vea la tabla del apéndice III) sin tener que recurrir a la  definición básica y a la integración."
   ]
  },
  {
   "cell_type": "markdown",
   "id": "6122049e",
   "metadata": {},
   "source": [
    "## 7.3.1 TRASLACIÓN EN EL EJE $s$"
   ]
  },
  {
   "cell_type": "markdown",
   "id": "56c5b5a4",
   "metadata": {},
   "source": [
    "### UNA TRASLACION  "
   ]
  },
  {
   "cell_type": "markdown",
   "id": "3c839b5d",
   "metadata": {},
   "source": [
    " \n",
    "Evaluar transformadas tales como $\\mathcal{L}\\{ e^{5}t^{3} \\}$ y $L\\{e^{-2t}\\cos 4t\\}$ es directo siempre que se conozca (y así es) $L\\{ t^{3} \\}$ y $L\\{ \\cos 4t \\}$. "
   ]
  },
  {
   "cell_type": "markdown",
   "id": "61978890",
   "metadata": {},
   "source": [
    "En general, si se conoce la transformada de Laplace de una función $f$, $L\\{ f(t) \\} = F(s)$, es posible calcular la transformada de Laplace de un múltiplo exponencial de $f$, es decir, $L\\{e^{at} f(t) \\}$, sin ningún esfuerzo adicional que no sea trasladar o desplazar, la transformada $F(s)$ a $F(s - a)$. "
   ]
  },
  {
   "cell_type": "markdown",
   "id": "c9e80ddc",
   "metadata": {},
   "source": [
    "Este resultado se conoce como primer **teorema de traslación** o **primer teorema de desplazamiento**."
   ]
  },
  {
   "cell_type": "markdown",
   "id": "cdd85a09",
   "metadata": {},
   "source": [
    "### TEOREMA 7.3.1 Primer teorema de traslación"
   ]
  },
  {
   "cell_type": "markdown",
   "id": "2fb63cb6",
   "metadata": {},
   "source": [
    "Si $\\mathcal{L}\\{ f(t) \\} = F(s)$ y $a$ es cualquier número real, entonces  \n",
    "$$ \\mathcal{L} \\{ e^{at} f(t) \\} = F(s - a) $$"
   ]
  },
  {
   "cell_type": "markdown",
   "id": "e9939c97",
   "metadata": {},
   "source": [
    "#### PRUEBA   "
   ]
  },
  {
   "cell_type": "markdown",
   "id": "91d6bd20",
   "metadata": {},
   "source": [
    "La demostración es inmediata, ya que por la defi nición 7.1.1"
   ]
  },
  {
   "cell_type": "markdown",
   "id": "6067bbfc",
   "metadata": {},
   "source": [
    "$$ L\\{ e^{at}f(t) \\} =  \\int_{0}^{\\infty} e^{-st}e^{at}f(t)dt = \\int_{0}^{\\infty}e^{-(s-a)t}f(t)dt = F(s-a) $$"
   ]
  },
  {
   "cell_type": "markdown",
   "id": "7113002a",
   "metadata": {},
   "source": [
    "Si se considera $s$ una variable real, entonces la gráfica de $F(s - a)$ es la gráfica de $F(s)$ desplazada en el eje $s$ por la cantidad $|a|$."
   ]
  },
  {
   "cell_type": "markdown",
   "id": "fa64c967",
   "metadata": {},
   "source": [
    "Si $a > 0$, la gráfica de $F(s)$ se desplaza $a$ unidades a la derecha, mientras que si $a < 0$, la gráfica se desplaza $|a|$ unidades a la izquierda. "
   ]
  },
  {
   "cell_type": "markdown",
   "id": "f2f939a2",
   "metadata": {},
   "source": [
    "Véase la siguiente figura"
   ]
  },
  {
   "cell_type": "markdown",
   "id": "2c28ad06",
   "metadata": {},
   "source": [
    "<img src = 'https://github.com/marco-canas/Ecuaciones_Diferenciales/blob/main/clases/class_14/figura_7_3_1.PNG?raw=true'> "
   ]
  },
  {
   "cell_type": "markdown",
   "id": "38ddfc77",
   "metadata": {},
   "source": [
    " \n",
    "Para enfatizar, a veces es útil usar el simbolismo\n",
    "\n",
    "$$ L\\{ e^{at}f(t) \\} = \\left| L\\{ f(t) \\} \\right|_{s \\to s-a},  $$\n",
    "\n",
    "donde $s \\to s-a$ significa que en la transformada de Laplace $F(s)$ de $f(t)$ siempre que aparezca el símbolo $s$ se reemplaza por $s - a$.  "
   ]
  },
  {
   "cell_type": "markdown",
   "id": "a3fd735b",
   "metadata": {},
   "source": [
    "## Animación con interact del desplazamiento de $F(s)$"
   ]
  },
  {
   "cell_type": "code",
   "execution_count": 5,
   "id": "39278339",
   "metadata": {},
   "outputs": [
    {
     "data": {
      "application/vnd.jupyter.widget-view+json": {
       "model_id": "49b8e32c671d466abcfba967ee781b19",
       "version_major": 2,
       "version_minor": 0
      },
      "text/plain": [
       "interactive(children=(IntSlider(value=0, description='a', max=3, min=-3), Output()), _dom_classes=('widget-int…"
      ]
     },
     "metadata": {},
     "output_type": "display_data"
    }
   ],
   "source": [
    "import numpy as np\n",
    "from sympy import *\n",
    "from sympy.integrals import laplace_transform\n",
    "from sympy.abc import t,s,a \n",
    "\n",
    "import matplotlib.pyplot as plt \n",
    "from ipywidgets import interact \n",
    "\n",
    "plt.style.use('dark_background')\n",
    "\n",
    "\n",
    "def F(s):\n",
    "    return laplace_transform(1,t,s)(s)\n",
    "\n",
    "\n",
    "def desplazar(a = 0):\n",
    "    s_ = np.linspace(a,10,100)\n",
    "    fig, ax = plt.subplots()\n",
    "    \n",
    "  \n",
    "interact(desplazar, a = (-3,3))\n",
    "\n",
    "plt.show() \n",
    "    "
   ]
  },
  {
   "cell_type": "markdown",
   "id": "47f2243c",
   "metadata": {},
   "source": [
    "## Ejemplo 1 Usando el primer teorema de traslación"
   ]
  },
  {
   "cell_type": "markdown",
   "id": "4619cb70",
   "metadata": {},
   "source": [
    "Evalue\n",
    "\n",
    "a. $L\\{ e^{5t} t^{3} \\}$  \n",
    "\n",
    "b. $L\\{ e^{-2t} \\cos 4t \\}$"
   ]
  },
  {
   "cell_type": "markdown",
   "id": "82b8b886",
   "metadata": {},
   "source": [
    "### SOLUCIÓN \n",
    "\n",
    "Los siguientes resultados se deducen de los teoremas 7.1.1 y 7.3.1."
   ]
  },
  {
   "cell_type": "markdown",
   "id": "d169c15b",
   "metadata": {},
   "source": [
    "\\begin{align*}\n",
    "L\\{ e^{5t}t^{3} \\} & = \\\\\n",
    "                   & = \n",
    "\\end{align*}"
   ]
  },
  {
   "cell_type": "markdown",
   "id": "7194b6c6",
   "metadata": {},
   "source": [
    "\\begin{align*}\n",
    "L\\{ e^{-2t} \\cos 4t \\} & = \\\\\n",
    "                       & = \n",
    "\\end{align*}"
   ]
  },
  {
   "cell_type": "markdown",
   "id": "b1376853",
   "metadata": {},
   "source": [
    "## Forma inversa del teorema $7.3.1$ "
   ]
  },
  {
   "cell_type": "markdown",
   "id": "2143b770",
   "metadata": {},
   "source": [
    "Para calcular la inversa de $F(s - a)$, se debe reconocer $F(s)$, para encontrar $f(t)$ obteniendo la transformada de Laplace \n",
    "inversa de $F(s)$ y después multiplicar $f(t)$ por la función exponencial $e^{at}$. Este procedimiento se resume con símbolos de la siguiente manera:\n",
    "\n",
    "$$ L^{-1}\\{  F(s-a) \\} = L^{-1}\\{ \\left. F(s) \\right|_{s \\to s-a} \\} = e^{at}f(t), $$\n",
    "\n",
    "donde $f(t) = L^{-1}\\{F(s)\\}$.\n"
   ]
  },
  {
   "cell_type": "markdown",
   "id": "6f641ab9",
   "metadata": {},
   "source": [
    "En la primera parte del ejemplo siguiente se ilustra la descomposición en fracciones parciales en el caso cuando el denominador de $Y(s)$ contiene *factores lineales repetidos*.\n"
   ]
  },
  {
   "cell_type": "markdown",
   "id": "a0d552eb",
   "metadata": {},
   "source": [
    "## Ejemplo 2 Fracciones parciales: factores lineales repetidos. "
   ]
  },
  {
   "cell_type": "markdown",
   "id": "3ca92f2b",
   "metadata": {},
   "source": [
    "Evalúe \n",
    "\n",
    "a) $$ L^{-1}\\left\\{ \\frac{2s + 5}{(s-3)^{2}} \\right\\} $$\n",
    "\n",
    "b) $$ L^{-1}\\left\\{ \\frac{s/2 + 5/3}{s^{2} + 4s + 6} \\right\\} $$\n"
   ]
  },
  {
   "cell_type": "markdown",
   "id": "fbf89d7d",
   "metadata": {},
   "source": [
    "### Solución: "
   ]
  },
  {
   "cell_type": "markdown",
   "id": "216ad264",
   "metadata": {},
   "source": [
    "a) Un factor lineal repetido es un término $(s - a)^{n}$, donde $a$ es un número real y $n$ es un entero positivo $n\\geq 2$."
   ]
  },
  {
   "cell_type": "markdown",
   "id": "b7ee212d",
   "metadata": {},
   "source": [
    "Recuerde que si $(s - a)^{n}$  aparece en el denominador de una expresión racional, entonces se supone que la descomposición contiene $n$ fracciones parciales con numeradores y denominadores constantes $s - a$, $(s - a)^{2}$, $\\ldots$, $(s - a)^{n}$."
   ]
  },
  {
   "cell_type": "markdown",
   "id": "44de5328",
   "metadata": {},
   "source": [
    " Por tanto, con $a = 3$ y $n = 2$ se escribe\n",
    " \n",
    " $$ \\frac{2s + 5}{(s-3)^{2}} = \\frac{A}{s-3} + \\frac{B}{(s-3)^{2}}. $$\n",
    " "
   ]
  },
  {
   "cell_type": "markdown",
   "id": "c50caf38",
   "metadata": {},
   "source": [
    "Colocando los dos términos del lado derecho con un denominador común, se obtiene el numerador 2s \u0006 5 \u0001 A(s \u0002 3) \u0006 B y esta identidad produce A \u0001 2 y B \u0001 11. "
   ]
  },
  {
   "cell_type": "markdown",
   "id": "c9777276",
   "metadata": {},
   "source": [
    "Por tanto,\n",
    "\n",
    "$$ \\frac{2s + 5}{(s-3)^{2}} = \\frac{2}{s-3} + \\frac{11}{(s-3)^{2}} $$\n"
   ]
  },
  {
   "cell_type": "markdown",
   "id": "384dcc6c",
   "metadata": {},
   "source": [
    "y \n",
    "\n",
    "\n",
    "$$ \\mathcal{L}^{-1} \\left\\{ \\frac{2s + 5}{(s-3)^{2}} \\right\\} = \\mathcal{L}^{-1} \\left\\{ \\frac{2}{s-3} \\right\\} + \\mathcal{L}^{-1}\\left\\{ \\frac{11}{(s-3)^{2}} \\right\\} $$\n"
   ]
  },
  {
   "cell_type": "markdown",
   "id": "e02c47d5",
   "metadata": {},
   "source": []
  },
  {
   "cell_type": "code",
   "execution_count": null,
   "id": "0aa296e7",
   "metadata": {},
   "outputs": [],
   "source": []
  },
  {
   "cell_type": "markdown",
   "id": "cf3bba00",
   "metadata": {},
   "source": [
    "Ahora mediante la división entre el denominador de cada término, la linealidad de $L^{-1}$, los incisos e) y d) del teorema 7.2.1 y por último (1),\n",
    "\n",
    "\\begin{align*}\n",
    "\\frac{s/2 + 5/3}{(s+2)^{2} + 2}    & = \\frac{}{} = \\frac{}{}\\frac{}{} + \\frac{}{}\\frac{}{} \\\\\n",
    "L^{-1} \\left\\{ \\frac{}{} \\right\\}  & = \n",
    "\\end{align*}\n"
   ]
  },
  {
   "cell_type": "markdown",
   "id": "90446cdf",
   "metadata": {},
   "source": []
  },
  {
   "cell_type": "markdown",
   "id": "dcb4712e",
   "metadata": {},
   "source": [
    "## Ejemplo 3 Un problema con valores iniciales "
   ]
  },
  {
   "cell_type": "markdown",
   "id": "13bc08a6",
   "metadata": {},
   "source": [
    "Resuelva \n",
    "\n",
    "$$ y'' - 6y' + 9y = t^{2}e^{3t}, \\ \\ \\ \\ y(0) = 2, \\ \\ y'(0) = 17. $$"
   ]
  },
  {
   "cell_type": "markdown",
   "id": "13ffd7b0",
   "metadata": {},
   "source": [
    "### Solución:"
   ]
  },
  {
   "cell_type": "markdown",
   "id": "9a298927",
   "metadata": {},
   "source": [
    "Antes de transformar la ED, observe que su lado derecho es similar a la función del inciso a) del ejemplo 1. Después de usar la linealidad, el teorema 7.3.1 y las condiciones iniciales, se simplifi ca y luego se resuelve para $Y(s) = L\\{ f(t) \\}$:\n"
   ]
  },
  {
   "cell_type": "markdown",
   "id": "9e96d161",
   "metadata": {},
   "source": [
    "\\begin{align*}\n",
    "L\\{\\} - L\\{\\} + L\\{\\}                                & = L\\{ t^{2}e^{3t} \\} \\\\\n",
    "s^{2}Y(s) - sy(0) - y'(0) - 6[sY(s) - y(0)]  + 9Y(s) & = \\frac{2}{(s-3)^{3}} \\\\\n",
    "                                                     & = \n",
    "\\end{align*}"
   ]
  },
  {
   "cell_type": "code",
   "execution_count": null,
   "id": "204de582",
   "metadata": {},
   "outputs": [],
   "source": []
  },
  {
   "cell_type": "markdown",
   "id": "13868fdc",
   "metadata": {},
   "source": [
    "## Ejemplo 4 Un problema con valores iniciales "
   ]
  },
  {
   "cell_type": "markdown",
   "id": "a263f72d",
   "metadata": {},
   "source": [
    "Resuelva\n",
    "\n",
    "$$ y'' + 4y' + 6y = 1 + e^{-t}, \\ \\ \\ \\ y(0) = 0, \\ \\ y'(0) = 0, $$\n"
   ]
  },
  {
   "cell_type": "markdown",
   "id": "56ca93f5",
   "metadata": {},
   "source": [
    "### Solución: "
   ]
  },
  {
   "cell_type": "markdown",
   "id": "31ecd52c",
   "metadata": {},
   "source": [
    "\\begin{align*}\n",
    "L\\{y''\\} + 4L\\{y'\\} + 6L\\{y\\}  & = L\\{1\\} + L\\{e^{-t}\\} \\\\\n",
    "s^{2}Y(s) - sy(0) - y'(0) + 4[sY(s) - y(0)] + 6Y(s) & = \\frac{1}{s} + \\frac{1}{s+1} \\\\\n",
    "& = \n",
    "\\end{align*}"
   ]
  },
  {
   "cell_type": "markdown",
   "id": "4e784e81",
   "metadata": {},
   "source": [
    "Puesto que el término cuadrático en el denominador no se factoriza en factores lineales reales, se encuentra que la descomposición en fracciones parciales para $Y(s)$ es\n",
    "\n",
    "$$ Y(s) = \\frac{1/6}{s} + \\frac{1/3}{s+1} - \\frac{s/2 + 5/3}{s^{2} + 4s + 6} $$\n"
   ]
  },
  {
   "cell_type": "markdown",
   "id": "75fae381",
   "metadata": {},
   "source": [
    "Además, en la preparación para tomar la transformada inversa, ya se manejó el último término en la forma necesaria del inciso b) del ejemplo 2. "
   ]
  },
  {
   "cell_type": "markdown",
   "id": "97add67b",
   "metadata": {},
   "source": [
    "Por lo que en vista de los resultados en (6) y (7), se tiene la solución\n",
    "\n",
    "\\begin{align*}\n",
    "y(t) & =  \\\\\n",
    "     & = \\frac{1}{6} + \n",
    "\\end{align*}\n"
   ]
  },
  {
   "cell_type": "markdown",
   "id": "86259b95",
   "metadata": {},
   "source": [
    "## 7.3.2 Traslación en el eje $t$"
   ]
  },
  {
   "cell_type": "markdown",
   "id": "6f4d588d",
   "metadata": {},
   "source": [
    "### FUNCIÓN ESCALÓN UNITARIO "
   ]
  },
  {
   "cell_type": "markdown",
   "id": "5a74a1bb",
   "metadata": {},
   "source": [
    "En ingeniería es común encontrar funciones que están ya sea “desactivadas” o “activadas”. Por ejemplo, una fuerza externa que actúa en un sistema mecánico, o un voltaje aplicado a un circuito, se puede desactivar después de cierto tiempo. "
   ]
  },
  {
   "cell_type": "markdown",
   "id": "3544a611",
   "metadata": {},
   "source": [
    "Es conveniente entonces definir una función especial que es el número 0 (desactivada) hasta un cierto tiempo $t = a$ y entonces el número 1 (activada) después de ese tiempo. "
   ]
  },
  {
   "cell_type": "markdown",
   "id": "d56e7c0d",
   "metadata": {},
   "source": [
    "La función se llama **función escalón unitario** o **función de Heaviside**."
   ]
  },
  {
   "cell_type": "markdown",
   "id": "7e6c0dd3",
   "metadata": {},
   "source": [
    "### DEFINICIÓN 7.3.1 Función escalón unitario"
   ]
  },
  {
   "cell_type": "markdown",
   "id": "6b5c3429",
   "metadata": {},
   "source": [
    "La función escalón unitario $U(t - a)$ se define como\n",
    "\n",
    "$$ U(t-a) = \\begin{cases} 0, & 0 \\leq t < a \\\\ 1, & t \\geq a  \\end{cases}. $$\n"
   ]
  },
  {
   "cell_type": "code",
   "execution_count": null,
   "id": "3646a548",
   "metadata": {},
   "outputs": [],
   "source": []
  },
  {
   "cell_type": "code",
   "execution_count": null,
   "id": "d7ff385b",
   "metadata": {},
   "outputs": [],
   "source": []
  },
  {
   "cell_type": "code",
   "execution_count": null,
   "id": "27351bee",
   "metadata": {},
   "outputs": [],
   "source": []
  },
  {
   "cell_type": "code",
   "execution_count": null,
   "id": "f6f84b97",
   "metadata": {},
   "outputs": [],
   "source": []
  },
  {
   "cell_type": "code",
   "execution_count": null,
   "id": "de1d9b9d",
   "metadata": {},
   "outputs": [],
   "source": []
  }
 ],
 "metadata": {
  "kernelspec": {
   "display_name": "Python 3",
   "language": "python",
   "name": "python3"
  },
  "language_info": {
   "codemirror_mode": {
    "name": "ipython",
    "version": 3
   },
   "file_extension": ".py",
   "mimetype": "text/x-python",
   "name": "python",
   "nbconvert_exporter": "python",
   "pygments_lexer": "ipython3",
   "version": "3.8.8"
  },
  "latex_envs": {
   "LaTeX_envs_menu_present": true,
   "autoclose": false,
   "autocomplete": false,
   "bibliofile": "biblio.bib",
   "cite_by": "apalike",
   "current_citInitial": 1,
   "eqLabelWithNumbers": true,
   "eqNumInitial": 1,
   "hotkeys": {
    "equation": "Ctrl-E",
    "itemize": "Ctrl-I"
   },
   "labels_anchors": false,
   "latex_user_defs": false,
   "report_style_numbering": false,
   "user_envs_cfg": false
  },
  "rise": {
   "enable_chalkboard": true,
   "theme": "sky",
   "transition": "sky"
  }
 },
 "nbformat": 4,
 "nbformat_minor": 5
}
