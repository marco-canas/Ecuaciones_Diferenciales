{
 "cells": [
  {
   "cell_type": "markdown",
   "id": "85555600",
   "metadata": {},
   "source": [
    "# 7.1 Definición de transformada de Laplace desde Zill\n",
    "Página 272"
   ]
  },
  {
   "cell_type": "markdown",
   "id": "c7ac8442",
   "metadata": {},
   "source": [
    "## Conceptos necesarios para esta sección"
   ]
  },
  {
   "cell_type": "markdown",
   "id": "cdfdd2eb",
   "metadata": {},
   "source": [
    "* Integrales impropias con límites de integración infinitos\n",
    "* Descomposición en fracciones parciales "
   ]
  },
  {
   "cell_type": "markdown",
   "id": "7eb65106",
   "metadata": {},
   "source": [
    "## Introducción"
   ]
  },
  {
   "cell_type": "markdown",
   "id": "4a6fcf5d",
   "metadata": {},
   "source": [
    "En cálculo elemental aprendió que la derivación y la integración son *transformadas*; esto significa, a grandes rasgos, que estas operaciones transforman una función en otra. "
   ]
  },
  {
   "cell_type": "markdown",
   "id": "ce7d511b",
   "metadata": {},
   "source": [
    "Por ejemplo, la función $x^{2}$ se transforma, a su vez, en una función lineal y en una familia de funciones polinomiales cúbicas con las operaciones de derivación e integración respectivamente:\n",
    "\n",
    "$$ \\frac{d}{dx}x^{2} = 2x, \\ \\ \\text{y}\\ \\ \\int x^{2}dx = \\frac{1}{3}x^{3} + c.  $$\n"
   ]
  },
  {
   "cell_type": "markdown",
   "id": "b5c3fac3",
   "metadata": {},
   "source": [
    "Además, estas dos transformadas tiene la **propiedad de linealidad** tal que la transformada de una conbinación lineal de funciones es una combinación lineal de las transformadas. "
   ]
  },
  {
   "cell_type": "markdown",
   "id": "9669b318",
   "metadata": {},
   "source": [
    "Para $\\alpha$ y $\\beta$ constantes \n",
    "\n",
    "$$ \\frac{d}{dx}[\\alpha f(x) + \\beta g(x)] = \\alpha f'(x) + \\beta g'(x)  $$\n",
    "\n",
    "y\n",
    "\n",
    "$$ \\int []dx = \\alpha \\int f(x)dx + \\beta \\int g(x)dx $$\n",
    "\n",
    "siempre que cada derivada e integral exista. \n"
   ]
  },
  {
   "cell_type": "markdown",
   "id": "a67dfe4a",
   "metadata": {},
   "source": [
    "En esta sección se examina un tipo especial de transformada integral llamada **transformada de Laplace**. "
   ]
  },
  {
   "cell_type": "markdown",
   "id": "01f591ea",
   "metadata": {},
   "source": [
    "Además de tener la propiedad de linealidad, la transformada de laplace tiene muchas otras propiedades interesantes que la hacen muy útil para resolver problemas lineales con valores iniciales. "
   ]
  },
  {
   "cell_type": "markdown",
   "id": "a0b5f790",
   "metadata": {},
   "source": [
    "## Transformada integral\n",
    "Página 272 del Zill"
   ]
  },
  {
   "cell_type": "markdown",
   "id": "baf48763",
   "metadata": {},
   "source": [
    "Si $f(x,y)$ es una función de dos variables, entonces una integral definida de $f$ respecto a una de las variables conduce a una función de la otra variable. "
   ]
  },
  {
   "cell_type": "markdown",
   "id": "17493b16",
   "metadata": {},
   "source": [
    "Por ejemplo, si se conserva $y$ constante, se ve que $\\int_{1}^{2} 2xy^{2} dx = 3y^{2}$. "
   ]
  },
  {
   "cell_type": "markdown",
   "id": "4b48d422",
   "metadata": {},
   "source": [
    "De igual modo, una integral una integral definida como $\\int_{a}^{b} K(s,t)f(t)dt$ transforma una función $f$ de la variable $t$ en una función $F$ de la variable $s$. "
   ]
  },
  {
   "cell_type": "markdown",
   "id": "0a6ebc14",
   "metadata": {},
   "source": [
    "Tenemos un particular interés en una transformada integral, donde el intervalo de integración es el intervalo no acotado $[0,+\\infty)$. "
   ]
  },
  {
   "cell_type": "markdown",
   "id": "f25bd2ff",
   "metadata": {},
   "source": [
    "Si $f(t)$ se define para $t \\geq 0$, entonces la integral impropia $\\int_{0}^{\\infty}K(s,t)f(t)dt$ se define como un límite \n",
    "\n",
    "$$ \\int_{0}^{\\infty} K(s,t)f(t)dt = \\lim_{b \\to \\infty} \\int_{0}^{b}K(s,t)f(t)dt $$\n"
   ]
  },
  {
   "cell_type": "markdown",
   "id": "d5c90cbe",
   "metadata": {},
   "source": [
    "Si existe el límite anterior, entonces se dice que la integral existe o es **convergente**, si no existe el límite, la integral no existe y es **divergente**. "
   ]
  },
  {
   "cell_type": "markdown",
   "id": "485d99cf",
   "metadata": {},
   "source": [
    "En general, el límite $$ \\int_{0}^{\\infty} K(s,t)f(t)dt = \\lim_{b \\to \\infty} \\int_{0}^{b}K(s,t)f(t)dt $$\n",
    "\n",
    "existirá solo para ciertos valores de la variable $s$. "
   ]
  },
  {
   "cell_type": "markdown",
   "id": "c8a49625",
   "metadata": {},
   "source": [
    "## Kernel o núcleo"
   ]
  },
  {
   "cell_type": "markdown",
   "id": "1987202c",
   "metadata": {},
   "source": [
    "La función $K(s,t)$ en \n",
    "\n",
    "$$ \\int_{0}^{\\infty} K(s,t)f(t)dt = \\lim_{b \\to \\infty} \\int_{0}^{b}K(s,t)f(t)dt $$\n",
    "\n",
    "se llama kernel o núcleo de la transformada. \n",
    "La elección de $K(s,t) = e^{-st}$ como el núcleo nos proporciona una transformada integral especialmente importante. "
   ]
  },
  {
   "cell_type": "markdown",
   "id": "ecd93034",
   "metadata": {},
   "source": [
    "## Definición 7.1.1 Transformada de Laplace"
   ]
  },
  {
   "cell_type": "markdown",
   "id": "8b8d504b",
   "metadata": {},
   "source": [
    "Sea $f$ una función definida para $t \\geq 0$. Entonces se dice que la integral \n",
    "\n",
    "$$L\\{f(t)\\} = \\int_{0}^{\\infty} e^{-st}f(t)dt $$\n",
    "\n",
    "es la **transformada de Laplace** de $f$, siempre que la integral converja. \n"
   ]
  },
  {
   "cell_type": "markdown",
   "id": "e969eecb",
   "metadata": {},
   "source": [
    "Cuando la integral \n",
    "\n",
    "$$L\\{f(t)\\} = \\int_{0}^{\\infty} e^{-st}f(t)dt, $$\n",
    "\n",
    "converge el resultado es una función de $s$. \n"
   ]
  },
  {
   "cell_type": "markdown",
   "id": "a4010e56",
   "metadata": {},
   "source": [
    "En el análisis general se una una letra minúscula para denotar la función que se transforma y la letra mayúscula correspondiente para denotar si transformada de Laplace. "
   ]
  },
  {
   "cell_type": "markdown",
   "id": "42a3f6db",
   "metadata": {},
   "source": [
    "Por ejemplo, \n",
    "\n",
    "$$ L\\{f(t)\\} = F(s), \\ \\ L\\{g(t)\\} = G(s), \\ \\ \\ L\\{y(t)\\} = Y(s). $$\n"
   ]
  },
  {
   "cell_type": "markdown",
   "id": "50abe227",
   "metadata": {},
   "source": [
    "## Ejemplo 1 Aplicando la definición 7.1.1"
   ]
  },
  {
   "cell_type": "markdown",
   "id": "a966bdcc",
   "metadata": {},
   "source": [
    "Evalue $L[1]$."
   ]
  },
  {
   "cell_type": "markdown",
   "id": "7e91cb5b",
   "metadata": {},
   "source": [
    "### Solución: "
   ]
  },
  {
   "cell_type": "markdown",
   "id": "dbc59ff4",
   "metadata": {},
   "source": [
    "\\begin{align*}\n",
    "L\\{1\\} & = \\int_{0}^{\\infty}e^{-st}(1)dt \\\\\n",
    "       & = \\left. \\frac{e^{-st}}{-s}\\right|_{0}^{\\infty} \\\\\n",
    "\\end{align*}\n",
    "\n",
    "si $s > 0$, entonces el exponente $-st$ es negativo y por tanto  $e^{-st} \\to 0$ cuando $t \\to \\infty$. "
   ]
  },
  {
   "cell_type": "markdown",
   "id": "8eb3cc4a",
   "metadata": {},
   "source": [
    "Luego, \n",
    "\n",
    "\\begin{align*}\n",
    "L\\{1\\} & = \\int_{0}^{\\infty}e^{-st}(1)dt \\\\\n",
    "       & = \\left. \\frac{e^{-st}}{-s}\\right|_{0}^{\\infty} \\\\\n",
    "       & = -0 + \\frac{e^{-s(0)}}{s} \\\\\n",
    "       & = \\frac{1}{s}.\n",
    "\\end{align*}\n"
   ]
  },
  {
   "cell_type": "markdown",
   "id": "5361c3ab",
   "metadata": {},
   "source": [
    "Note que la integral diverge si $s < 0$. "
   ]
  },
  {
   "cell_type": "markdown",
   "id": "99d029d9",
   "metadata": {},
   "source": [
    "## Ejemplo ilustrativo 2\n",
    "Página 273"
   ]
  },
  {
   "cell_type": "markdown",
   "id": "d3b439aa",
   "metadata": {},
   "source": [
    "Evalue $L\\{t\\}$"
   ]
  },
  {
   "cell_type": "markdown",
   "id": "ce19bda5",
   "metadata": {},
   "source": [
    "### Solución: "
   ]
  },
  {
   "cell_type": "markdown",
   "id": "a96a60a9",
   "metadata": {},
   "source": [
    "\\begin{align*}\n",
    "L\\{t\\} & = \\int_{0}^{\\infty} e^{-st}(t)dt \\\\\n",
    "       & = \\lim_{b \\to + \\infty} \\int_{0}^{b} e^{-st}(t)dt\n",
    "\\end{align*}"
   ]
  },
  {
   "cell_type": "markdown",
   "id": "293b5645",
   "metadata": {},
   "source": [
    "Utilicemos el método de integración por partes para calcular la integral definida \n",
    "\n",
    "$$ \\int_{0}^{b} e^{-st}(t)dt $$\n"
   ]
  },
  {
   "cell_type": "markdown",
   "id": "993716c9",
   "metadata": {},
   "source": []
  },
  {
   "cell_type": "code",
   "execution_count": null,
   "id": "3a5d6ff6",
   "metadata": {},
   "outputs": [],
   "source": []
  },
  {
   "cell_type": "code",
   "execution_count": null,
   "id": "045c1fcb",
   "metadata": {},
   "outputs": [],
   "source": []
  },
  {
   "cell_type": "code",
   "execution_count": null,
   "id": "86711a59",
   "metadata": {},
   "outputs": [],
   "source": []
  },
  {
   "cell_type": "code",
   "execution_count": null,
   "id": "3cd702a8",
   "metadata": {},
   "outputs": [],
   "source": []
  },
  {
   "cell_type": "code",
   "execution_count": null,
   "id": "54cfaba8",
   "metadata": {},
   "outputs": [],
   "source": []
  }
 ],
 "metadata": {
  "kernelspec": {
   "display_name": "Python 3",
   "language": "python",
   "name": "python3"
  },
  "language_info": {
   "codemirror_mode": {
    "name": "ipython",
    "version": 3
   },
   "file_extension": ".py",
   "mimetype": "text/x-python",
   "name": "python",
   "nbconvert_exporter": "python",
   "pygments_lexer": "ipython3",
   "version": "3.8.8"
  },
  "latex_envs": {
   "LaTeX_envs_menu_present": true,
   "autoclose": false,
   "autocomplete": false,
   "bibliofile": "biblio.bib",
   "cite_by": "apalike",
   "current_citInitial": 1,
   "eqLabelWithNumbers": true,
   "eqNumInitial": 1,
   "hotkeys": {
    "equation": "Ctrl-E",
    "itemize": "Ctrl-I"
   },
   "labels_anchors": false,
   "latex_user_defs": false,
   "report_style_numbering": false,
   "user_envs_cfg": false
  },
  "rise": {
   "enable_chalkboard": true,
   "theme": "sky",
   "transition": "sky"
  }
 },
 "nbformat": 4,
 "nbformat_minor": 5
}
