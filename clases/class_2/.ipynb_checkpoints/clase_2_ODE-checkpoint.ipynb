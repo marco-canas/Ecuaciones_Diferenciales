{
 "cells": [
  {
   "cell_type": "markdown",
   "metadata": {
    "slideshow": {
     "slide_type": "slide"
    }
   },
   "source": [
    "<table align=\"left\">\n",
    "  <td>\n",
    "    <a href=\"https://colab.research.google.com/github/marco-canas/innovaciones/blob/main/ref/geron/math_linear_algebra/linear_algebra.ipynb\" target=\"_parent\"><img src=\"https://colab.research.google.com/assets/colab-badge.svg\" alt=\"Open In Colab\"/></a>\n",
    "  </td>\n",
    "  <td>\n",
    "    <a target=\"_blank\" href=\"https://kaggle.com/kernels/welcome?src=https://github.com/marco-canas/innovaciones/blob/main/ref/geron/math_linear_algebra/linear_algebra.ipynb\"><img src=\"https://kaggle.com/static/images/open-in-kaggle.svg\" /></a>\n",
    "  </td>\n",
    "</table>"
   ]
  },
  {
   "cell_type": "markdown",
   "metadata": {
    "slideshow": {
     "slide_type": "slide"
    }
   },
   "source": [
    "# Clase 2\n",
    "Página 95 del Boyce DiPrima "
   ]
  },
  {
   "cell_type": "markdown",
   "metadata": {
    "slideshow": {
     "slide_type": "slide"
    }
   },
   "source": [
    "[Video de apoyo]()"
   ]
  },
  {
   "cell_type": "markdown",
   "metadata": {
    "slideshow": {
     "slide_type": "slide"
    }
   },
   "source": [
    "### Temas de la clase"
   ]
  },
  {
   "cell_type": "markdown",
   "metadata": {
    "slideshow": {
     "slide_type": "slide"
    }
   },
   "source": [
    "* Teoremas sobre exactas y factores integrantes, \n",
    "* ecuación lineal de primer orden y \n",
    "* ecuación de Bernoulli.\n",
    "* Sustituciones varias.\n",
    "* Teorema de Existencia y unicidad.\n",
    "* Identificar las diferentes ecuaciones diferenciales con los diferentes métodos para resolverlas."
   ]
  },
  {
   "cell_type": "markdown",
   "metadata": {
    "slideshow": {
     "slide_type": "slide"
    }
   },
   "source": []
  },
  {
   "cell_type": "markdown",
   "metadata": {
    "slideshow": {
     "slide_type": "slide"
    }
   },
   "source": [
    "## Ejemplo 1 sobre ecuaciones exactas \n",
    "Página 96 del Boyce DiPrima "
   ]
  },
  {
   "cell_type": "markdown",
   "metadata": {
    "slideshow": {
     "slide_type": "slide"
    }
   },
   "source": [
    "$$ 2x + y^{2} + 2xyy' = 0 $$"
   ]
  },
  {
   "cell_type": "markdown",
   "metadata": {
    "slideshow": {
     "slide_type": "slide"
    }
   },
   "source": [
    "Esta ecuación no es lineal ni separable. "
   ]
  },
  {
   "cell_type": "markdown",
   "metadata": {
    "slideshow": {
     "slide_type": "slide"
    }
   },
   "source": [
    "### Observación \n",
    "La función $\\psi(x,y) = x^{2} + xy^{2}$ tiene la propiedad que "
   ]
  },
  {
   "cell_type": "markdown",
   "metadata": {
    "slideshow": {
     "slide_type": "slide"
    }
   },
   "source": [
    "$$ 2x + y^{2} = \\frac{\\partial \\psi}{\\partial x} \\quad \\quad  2xy = \\frac{\\partial \\psi}{\\partial y} $$"
   ]
  },
  {
   "cell_type": "markdown",
   "metadata": {
    "slideshow": {
     "slide_type": "slide"
    }
   },
   "source": [
    "Por lo tanto, la ecuación diferencial puede escribirse como:\n",
    "\n",
    "$$ \\frac{\\partial}{\\partial y} (x^{2} + xy^{2}) + \\frac{\\partial }{\\partial y}(x^{2} + xy^{2})\\frac{dy}{dx} = 0  $$\n"
   ]
  },
  {
   "cell_type": "markdown",
   "metadata": {
    "slideshow": {
     "slide_type": "slide"
    }
   },
   "source": [
    "Si se supone que $y$ es función de $x$ y se aplica la regla de la cadena la ecuación anterior se puede escribir en la forma equivalente: \n",
    "\n",
    "$$ \\frac{d}{dx}(x^{2} + xy^{2}) = 0 $$\n"
   ]
  },
  {
   "cell_type": "markdown",
   "metadata": {
    "slideshow": {
     "slide_type": "slide"
    }
   },
   "source": [
    "Por lo tanto, \n",
    "\n",
    "$$ x^{2} + xy^{2} = c, $$\n",
    "\n",
    "donde $c$ es una constante arbitraria, es una expresión implícita de la solución de la ecuación. \n"
   ]
  },
  {
   "cell_type": "markdown",
   "metadata": {
    "slideshow": {
     "slide_type": "slide"
    }
   },
   "source": [
    "Al resolver \n",
    "\n",
    "$$ 2x + y^{2} + 2xyy' = 0, $$\n",
    "\n",
    "el paso clave fue el reconocimiento de que existe una función $\\psi$ que satisface \n",
    "\n",
    "$$ 2x + y^{2} = \\frac{\\partial \\psi}{\\partial x} \\quad \\quad  2xy = \\frac{\\partial \\psi}{\\partial y} $$\n"
   ]
  },
  {
   "cell_type": "markdown",
   "metadata": {
    "slideshow": {
     "slide_type": "slide"
    }
   },
   "source": [
    "En términos más generales sea la ecuación diferencial \n",
    "\n",
    "$$ M(x,y) + N(x,y)y' = 0 $$\n",
    "\n",
    "Suponga que es posible identificar una función $\\psi$ tal que \n",
    "\n",
    "$$ \\frac{\\partial \\psi}{\\partial x}(x,y) = M(x,y), \\quad \\quad \\frac{\\partial \\psi}{\\partial y}(x,y) = N(x,y), $$\n"
   ]
  },
  {
   "cell_type": "markdown",
   "metadata": {
    "slideshow": {
     "slide_type": "slide"
    }
   },
   "source": [
    "Tal que $\\psi(x,y) = c$ define implícitamente a $y = \\phi(x)$ como una función diferenciable de $x$;"
   ]
  },
  {
   "cell_type": "markdown",
   "metadata": {},
   "source": [
    "entonces \n",
    "\n",
    "$$ M(x,y) + N(x,y)y' = \\frac{\\partial \\psi}{\\partial x} + \\frac{\\partial \\psi}{\\partial y}\\frac{dy}{dx} = \\frac{d}{dx}\\psi(x,y)  $$\n"
   ]
  },
  {
   "cell_type": "markdown",
   "metadata": {},
   "source": [
    "y así, la ecuación diferencial \n",
    "\n",
    "$$ M(x,y) + N(x,y)y' = 0 $$\n",
    "\n",
    "se transforma en \n",
    "\n",
    "$$ \\frac{d}{dx}\\psi(x,y) = 0 $$\n"
   ]
  },
  {
   "cell_type": "markdown",
   "metadata": {},
   "source": [
    "En este caso se dice que \n",
    "\n",
    "$$ M(x,y) + N(x,y)y' = 0 $$\n",
    "\n",
    "es una ecuación diferencial **exacta**. \n"
   ]
  },
  {
   "cell_type": "markdown",
   "metadata": {},
   "source": [
    "La solución de la ecuación diferencial \n",
    "\n",
    "$$ M(x,y) + N(x,y)y' = 0 $$\n",
    "\n",
    "o de su equivalente \n",
    "\n",
    "$$ \\frac{d}{dx}\\psi(x,y) = 0, $$\n",
    "\n",
    "queda dada implícitamente por \n",
    "\n",
    "$$ \\psi(x,y) = c $$\n",
    "\n",
    "donde $c$ es una constante arbitraria. \n"
   ]
  },
  {
   "cell_type": "markdown",
   "metadata": {
    "slideshow": {
     "slide_type": "slide"
    }
   },
   "source": [
    "## Teorema 2.8.2 de la página 97 del Boyce DiPrima"
   ]
  },
  {
   "cell_type": "markdown",
   "metadata": {
    "slideshow": {
     "slide_type": "slide"
    }
   },
   "source": [
    "Sean las funciones $M,N,M_{y}$ y $N_{x}$, en donde los subíndices denotan derivadas parciales continuas en la región rectangular $R:\\alpha < x < \\beta$, $\\gamma < y < \\sigma$.  \n",
    "Entonces \n",
    "\n",
    "$$ M(x,y) + N(x,y)y' = 0 $$\n",
    "\n",
    "es una ecuación diferencial exacta si y solo si \n",
    "\n",
    "$$ M_{y}(x,y) = N_{x}(x,y) $$\n",
    "\n",
    "en cada punto de $R$. \n",
    "\n",
    "Es decir, existe una función $\\psi$ que satisface las ecuaciones \n",
    "\n",
    "$$ \\frac{\\partial \\psi}{\\partial x}(x,y) = M(x,y), \\quad \\quad \\frac{\\partial \\psi}{\\partial y}(x,y) = N(x,y), $$\n",
    "\n",
    "si y solo si $M$ y $N$ satisfacen la ecuación \n",
    "\n",
    "$$ M_{y}(x,y) = N_{x}(x,y) $$\n"
   ]
  },
  {
   "cell_type": "markdown",
   "metadata": {
    "slideshow": {
     "slide_type": "slide"
    }
   },
   "source": []
  },
  {
   "cell_type": "markdown",
   "metadata": {
    "slideshow": {
     "slide_type": "slide"
    }
   },
   "source": [
    "# Factores integrantes\n",
    "Página 99"
   ]
  },
  {
   "cell_type": "markdown",
   "metadata": {
    "slideshow": {
     "slide_type": "slide"
    }
   },
   "source": [
    "Algunas veces es posible convertir una ecuación diferencial que no es exacta en una exacta al multiplicarla por un factor integrante adecuado. "
   ]
  },
  {
   "cell_type": "markdown",
   "metadata": {
    "slideshow": {
     "slide_type": "slide"
    }
   },
   "source": [
    "Recuerde que este es el procedimiento que usó Boyce al resolver las ecuaciones lineales en las secciones 2.1 y 2.2. "
   ]
  },
  {
   "cell_type": "markdown",
   "metadata": {
    "slideshow": {
     "slide_type": "slide"
    }
   },
   "source": [
    "Con el fin de investigar la posibilidad de poner en práctica esta idea de manera más general, multiplíquese la ecuación\n",
    "\n",
    "$$ M(x,y)dx + N(x,y)dy = 0 $$\n",
    "\n",
    "por una función $\\mu$ y, a continuación, intente elegir $\\mu$ de modo que la ecuación resultante\n",
    "\n",
    "$$\\mu(x,y)M(x,y)dx + \\mu(x,y)N(x,y)dy = 0$$\n",
    "\n",
    "sea exacta. \n"
   ]
  },
  {
   "cell_type": "markdown",
   "metadata": {
    "slideshow": {
     "slide_type": "slide"
    }
   },
   "source": [
    "Por el teorema 2.8.1 la ecuación anterior es exacta si y solo si \n",
    "\n",
    "$$ (\\mu M)_{y} = (\\mu N)_{x}$$\n"
   ]
  },
  {
   "cell_type": "markdown",
   "metadata": {
    "slideshow": {
     "slide_type": "slide"
    }
   },
   "source": [
    "Dado que $M$ y $N$ son funciones dadas, entonces la ecuación anterior hace var que el factor integrante $\\mu$ debe satisfacer la ecuación diferencial de primer orden \n",
    "\n",
    "$$ \\mu M_{y} + \\mu_{y}M = \\mu N_{x} + \\mu_{x}N $$\n",
    "\n",
    "$$ \\mu(M_{y} - N_{x}) + (\\mu_{y}M - \\mu_{x}N) = 0 $$\n"
   ]
  },
  {
   "cell_type": "markdown",
   "metadata": {
    "slideshow": {
     "slide_type": "slide"
    }
   },
   "source": [
    "Si es posible encontrar una función $\\mu$ que satisfaga la ecuación anterior, entonces \n",
    "\n",
    "$$\\mu(x,y)M(x,y)dx + \\mu(x,y)N(x,y)dy = 0$$\n",
    "\n",
    "es exacta. \n"
   ]
  },
  {
   "cell_type": "markdown",
   "metadata": {},
   "source": [
    "Entonces puede obtenerse la solución de \n",
    "\n",
    "$$\\mu(x,y)M(x,y)dx + \\mu(x,y)N(x,y)dy = 0$$\n",
    "\n",
    "por el método descrito en la primera parte del tema sobre ecuaciones exactas. \n"
   ]
  },
  {
   "cell_type": "markdown",
   "metadata": {
    "slideshow": {
     "slide_type": "slide"
    }
   },
   "source": [
    "La solución hallada de esta manera también satisface la ecuación \n",
    "\n",
    "$$ M(x,y)dx + N(x,y)dy = 0, $$\n",
    "\n",
    "ya que el factor integrante en \n",
    "\n",
    "$$\\mu(x,y)M(x,y)dx + \\mu(x,y)N(x,y)dy = 0$$\n",
    "\n",
    "puede cancelarse. "
   ]
  },
  {
   "cell_type": "markdown",
   "metadata": {
    "slideshow": {
     "slide_type": "slide"
    }
   },
   "source": [
    "Una ecuación diferencial parcial de la forma \n",
    "\n",
    "$$ \\mu(M_{y} - N_{x}) + (\\mu_{y}M - \\mu_{x}N) = 0 $$\n",
    "\n",
    "puede tener más de una solución; si este es el caso, entonces puede usarse cualquiera de estas soliciones como un factor integrante de la ecuación \n",
    "\n",
    "$$ M(x,y)dx + N(x,y)dy = 0, $$\n"
   ]
  },
  {
   "cell_type": "markdown",
   "metadata": {
    "slideshow": {
     "slide_type": "slide"
    }
   },
   "source": [
    "Esta no unicidad posible del factor integrante Boyce la presenta en el ejemplo $4$ de la sección 2.8."
   ]
  },
  {
   "cell_type": "markdown",
   "metadata": {
    "slideshow": {
     "slide_type": "slide"
    }
   },
   "source": [
    "No obstante, la ecuación \n",
    "\n",
    "$$ \\mu(M_{y} - N_{x}) + (\\mu_{y}M - \\mu_{x}N) = 0, $$\n",
    "\n",
    "que determina el factor integrante $\\mu$, suele ser por lo menos tan difícil de resolver como la ecuación \n",
    "\n",
    "$$ M(x,y)dx + N(x,y)dy = 0, $$\n"
   ]
  },
  {
   "cell_type": "markdown",
   "metadata": {
    "slideshow": {
     "slide_type": "slide"
    }
   },
   "source": [
    "Por lo tanto, aunque en principio los factores integrantes son instrumentos poderosos para resolver las ecuaciones diferenciales, en la práctica por lo general solo pueden encontrarse en casos especiales. "
   ]
  },
  {
   "cell_type": "markdown",
   "metadata": {
    "slideshow": {
     "slide_type": "slide"
    }
   },
   "source": [
    "Las situaciones importantes en las que es posible hallar factores integrantes simples ocurren cuando $\\mu$ es función sólo de una de las variables $x$ o $y$, en vez de serlo de las dos. "
   ]
  },
  {
   "cell_type": "markdown",
   "metadata": {
    "slideshow": {
     "slide_type": "slide"
    }
   },
   "source": [
    "Considerese entonces la determinación de las condiciones necesarias en $M$ y $N$ de modo que kla ecuación \n",
    "\n",
    "$$ M(x,y)dx + N(x,y)dy = 0, $$\n",
    "\n",
    "tenga un factor integrante que dependa solo de $x$. \n"
   ]
  },
  {
   "cell_type": "markdown",
   "metadata": {
    "slideshow": {
     "slide_type": "slide"
    }
   },
   "source": [
    "Si se supone que $\\mu$ es una función sólo de $x$, se tiene \n",
    "\n",
    "$$ \\mu(M_{y} - N_{x}) + (\\mu_{y}M - \\mu_{x}N) = 0, $$\n",
    "\n",
    "$$ \\mu(M_{y} - N_{x}) + ((0)M - \\mu_{x}N) = 0, $$\n",
    "\n",
    "$$ \\mu(M_{y} - N_{x}) - \\mu_{x}N = 0, $$\n"
   ]
  },
  {
   "cell_type": "markdown",
   "metadata": {
    "slideshow": {
     "slide_type": "slide"
    }
   },
   "source": [
    "$$ \\mu(M_{y} - N_{x}) = \\mu_{x}N $$\n"
   ]
  },
  {
   "cell_type": "markdown",
   "metadata": {
    "slideshow": {
     "slide_type": "slide"
    }
   },
   "source": [
    "$$ \\frac{M_{y} - N_{x}}{N} = \\frac{\\mu'(x)}{\\mu(x)}  $$"
   ]
  },
  {
   "cell_type": "markdown",
   "metadata": {
    "slideshow": {
     "slide_type": "slide"
    }
   },
   "source": [
    "# Y si se supone que es una función exclusiva de $y$ ( $\\mu = \\mu(y)$) "
   ]
  },
  {
   "cell_type": "markdown",
   "metadata": {
    "slideshow": {
     "slide_type": "slide"
    }
   },
   "source": [
    "Si se supone que $\\mu$ es una función sólo de $y$, se tiene \n",
    "\n",
    "$$ \\mu(M_{y} - N_{x}) + (\\mu_{y}M - \\mu_{x}N) = 0, $$\n",
    "\n",
    "$$ \\mu(M_{y} - N_{x}) + (\\mu_{y}M - (0)N) = 0, $$\n",
    "\n",
    "$$ \\mu(M_{y} - N_{x}) + \\mu_{y}M = 0, $$\n"
   ]
  },
  {
   "cell_type": "markdown",
   "metadata": {
    "slideshow": {
     "slide_type": "slide"
    }
   },
   "source": []
  },
  {
   "cell_type": "code",
   "execution_count": null,
   "metadata": {
    "slideshow": {
     "slide_type": "slide"
    }
   },
   "outputs": [],
   "source": []
  },
  {
   "cell_type": "code",
   "execution_count": null,
   "metadata": {
    "slideshow": {
     "slide_type": "slide"
    }
   },
   "outputs": [],
   "source": []
  },
  {
   "cell_type": "markdown",
   "metadata": {
    "slideshow": {
     "slide_type": "slide"
    }
   },
   "source": [
    "# Apéndice de la Clase 2 "
   ]
  },
  {
   "cell_type": "markdown",
   "metadata": {
    "slideshow": {
     "slide_type": "slide"
    }
   },
   "source": [
    "Página 34  \n"
   ]
  },
  {
   "cell_type": "markdown",
   "metadata": {
    "slideshow": {
     "slide_type": "slide"
    }
   },
   "source": [
    "# Resolución de la ecuación lineal general de primer orden"
   ]
  },
  {
   "cell_type": "markdown",
   "metadata": {
    "slideshow": {
     "slide_type": "slide"
    }
   },
   "source": [
    "$$ y' + p(x)y = g(x). $$"
   ]
  },
  {
   "cell_type": "markdown",
   "metadata": {
    "slideshow": {
     "slide_type": "slide"
    }
   },
   "source": [
    "Multipliquemos por un factor integrante adecuado para llevar esta ecuación a una forma directamente integrable. "
   ]
  },
  {
   "cell_type": "markdown",
   "metadata": {
    "slideshow": {
     "slide_type": "slide"
    }
   },
   "source": [
    "Para encontrar este factor integrante primero se multiplica esta ecuación por una función $\\mu(x)$, que por el momento no está determinada. "
   ]
  },
  {
   "cell_type": "markdown",
   "metadata": {
    "slideshow": {
     "slide_type": "slide"
    }
   },
   "source": [
    "$$ \\mu(x)y' + \\mu(x)p(x)y = \\mu(x)g(x) $$"
   ]
  },
  {
   "cell_type": "markdown",
   "metadata": {
    "slideshow": {
     "slide_type": "slide"
    }
   },
   "source": [
    "El objetivo es elegir $\\mu(x)$ de modo que el primer miembro de la ecuación anterior sea la derivada de alguna función. "
   ]
  },
  {
   "cell_type": "markdown",
   "metadata": {
    "slideshow": {
     "slide_type": "slide"
    }
   },
   "source": [
    "El término $\\mu(x)y'$ sugiere que la función deseada podría ser el producto $\\mu(x)y$."
   ]
  },
  {
   "cell_type": "markdown",
   "metadata": {
    "slideshow": {
     "slide_type": "slide"
    }
   },
   "source": [
    "A fin de obtener la combinación $[\\mu(x)y]' = \\mu(x)y' + \\mu'(x)y$ es necesario sumar y restar el término $\\mu'(x)y$ en el primer miembro de \n",
    "\n",
    "$$ \\mu(x)y' + \\mu(x)p(x)y = \\mu(x)g(x) $$"
   ]
  },
  {
   "cell_type": "markdown",
   "metadata": {
    "slideshow": {
     "slide_type": "slide"
    }
   },
   "source": [
    "$$[\\mu(x)y' + \\mu'(x)y] - \\mu'(x)y + \\mu(x)p(x)y = \\mu(x)g(x)$$"
   ]
  },
  {
   "cell_type": "markdown",
   "metadata": {
    "slideshow": {
     "slide_type": "slide"
    }
   },
   "source": [
    "$$ [\\mu(x)y' + \\mu'(x)y] + [\\mu(x)p(x) - \\mu'(x)]y = \\mu(x)g(x) $$"
   ]
  },
  {
   "cell_type": "markdown",
   "metadata": {
    "slideshow": {
     "slide_type": "slide"
    }
   },
   "source": [
    "Para que esta ecuación sea fácilmente integrable debemos encontrar $\\mu$ tal que el segundo término del lado izquierdo se anule, es decir, necesitamos $\\mu(x)$ tal que \n",
    "\n",
    "$$[\\mu(x)p(x) - \\mu'(x)]y = 0$$\n"
   ]
  },
  {
   "cell_type": "markdown",
   "metadata": {
    "slideshow": {
     "slide_type": "slide"
    }
   },
   "source": [
    "Como $y$ no necesariamente es nula, entonces necesitamos que $\\mu(x)$ sea tal que \n",
    "\n",
    "$$ \\mu(x)p(x) - \\mu'(x) = 0 $$\n"
   ]
  },
  {
   "cell_type": "markdown",
   "metadata": {
    "slideshow": {
     "slide_type": "slide"
    }
   },
   "source": [
    "de donde \n",
    "\n",
    "$$\\frac{\\mu'(x)}{\\mu(x)} = p(x)$$\n"
   ]
  },
  {
   "cell_type": "markdown",
   "metadata": {
    "slideshow": {
     "slide_type": "slide"
    }
   },
   "source": [
    "integrando ambos lados con respecto a $x$ obtenemos:\n",
    "\n",
    "$$ \\int \\frac{\\mu'(x)}{\\mu(x)} = \\int p(x) $$\n"
   ]
  },
  {
   "cell_type": "markdown",
   "metadata": {
    "slideshow": {
     "slide_type": "slide"
    }
   },
   "source": [
    "$$ \\ln |\\mu(x)| = \\int p(x) dx + k $$\n",
    "\n",
    "donde $k$ es una constante arbitraria. "
   ]
  },
  {
   "cell_type": "markdown",
   "metadata": {
    "slideshow": {
     "slide_type": "slide"
    }
   },
   "source": [
    "como esta colección de funciones $\\mu(x)$ es infinita, podemos tomar una que sea positiva y para la que $k = 0$, de donde tendríamos "
   ]
  },
  {
   "cell_type": "markdown",
   "metadata": {
    "slideshow": {
     "slide_type": "slide"
    }
   },
   "source": [
    "$$\\ln \\mu(x) = \\int p(x)dx $$"
   ]
  },
  {
   "cell_type": "markdown",
   "metadata": {
    "slideshow": {
     "slide_type": "slide"
    }
   },
   "source": [
    "$$ \\mu(x) = exp\\left( \\int p(x)dx \\right) $$"
   ]
  },
  {
   "cell_type": "markdown",
   "metadata": {
    "slideshow": {
     "slide_type": "slide"
    }
   },
   "source": [
    "Así, memos integrado para obtener el factor que hace a la ecuación lineal general fácilmente integrable."
   ]
  },
  {
   "cell_type": "markdown",
   "metadata": {
    "slideshow": {
     "slide_type": "slide"
    }
   },
   "source": [
    "Así, tendremos que \n",
    "\n",
    "$$[\\mu(x)y]' = \\mu(x)g(x)$$\n",
    "\n",
    "es una ecuación equivalente a $y' + p(x)y = g(x)$. \n"
   ]
  },
  {
   "cell_type": "markdown",
   "metadata": {
    "slideshow": {
     "slide_type": "slide"
    }
   },
   "source": [
    "De donde la solución general de la ED lineal de primer orden es:\n",
    "\n",
    "$$ y = \\frac{\\int \\mu g + C}{\\mu} $$\n"
   ]
  },
  {
   "cell_type": "code",
   "execution_count": null,
   "metadata": {
    "slideshow": {
     "slide_type": "slide"
    }
   },
   "outputs": [],
   "source": []
  },
  {
   "cell_type": "markdown",
   "metadata": {
    "slideshow": {
     "slide_type": "slide"
    }
   },
   "source": [
    "Observe que para encontrar la solución dada se requieren dos integraciones:  \n",
    "* una para encontrar $\\mu(x)$  a partir de la ecuación $\\mu(x) = exp(\\int p(x)dx)$\n",
    "* o otra para determinar a $y$ a partir de \n",
    "\n",
    "$$ y = \\frac{\\int \\mu(x)g(x)dx + C}{\\mu(x)} $$\n"
   ]
  },
  {
   "cell_type": "markdown",
   "metadata": {
    "slideshow": {
     "slide_type": "slide"
    }
   },
   "source": [
    "También se observa que antes de calcular el factor integrante $\\mu(x)$  a partir de la ecuación\n",
    "\n",
    "$$ \\mu(x) = e^{\\int p(x)dx} $$\n",
    "\n",
    "es necesario asegurarse de que la ecuación diferencial esté exactamente en la forma \n",
    "\n",
    "$$ y' + p(x)y = g(x); $$\n",
    "\n",
    "específicamente, el coeficiente de $y'$ debe ser $1$. "
   ]
  },
  {
   "cell_type": "markdown",
   "metadata": {
    "slideshow": {
     "slide_type": "slide"
    }
   },
   "source": [
    "En caso contrario, la $p(x)$ usada para calcular $\\mu$ será incorrecta."
   ]
  },
  {
   "cell_type": "markdown",
   "metadata": {
    "slideshow": {
     "slide_type": "slide"
    }
   },
   "source": [
    "En segundo lugar, despues de calcular $\\mu(x)$ y multiplicar la ecuación \n",
    "\n",
    "$$y' + p(x)y = g(x)$$\n",
    "\n",
    "por ella, es necesario tener la certeza de que los términos en los que aparecen $y$ y $y'$ son, en efecto la derivada de $\\mu(x)y$, como debe ser. \n"
   ]
  },
  {
   "cell_type": "markdown",
   "metadata": {
    "slideshow": {
     "slide_type": "slide"
    }
   },
   "source": [
    "Con lo anterior se obtiene una comprobación del cálculo de $\\mu$. "
   ]
  },
  {
   "cell_type": "markdown",
   "metadata": {
    "slideshow": {
     "slide_type": "slide"
    }
   },
   "source": [
    "Por supuesto, una vez que se ha encontrado la solución $y$, también puede verificarse sustituyéndola en la ecuación diferencial. "
   ]
  },
  {
   "cell_type": "markdown",
   "metadata": {
    "slideshow": {
     "slide_type": "slide"
    }
   },
   "source": [
    "# Interpretación geométrica de la solución de la ED lineal de primer orden   \n",
    "(Página 35 del Boyce DiPrima)"
   ]
  },
  {
   "cell_type": "markdown",
   "metadata": {
    "slideshow": {
     "slide_type": "slide"
    }
   },
   "source": [
    "La interpretación geométrica de la ecuación \n",
    "\n",
    "$$y = \\frac{\\int \\mu(x)g(x)dx + C}{\\mu(x)}$$\n",
    "\n",
    "es una familia infinita de curvas, una para cada valor de $C$\n"
   ]
  },
  {
   "cell_type": "markdown",
   "metadata": {
    "slideshow": {
     "slide_type": "slide"
    }
   },
   "source": [
    "A menudo a estas curvas se les da el nombre de **curvas integrales**. "
   ]
  },
  {
   "cell_type": "markdown",
   "metadata": {
    "slideshow": {
     "slide_type": "slide"
    }
   },
   "source": [
    "Algunas veces es importante elegir un elemento específico de la familia de curvas integrales. "
   ]
  },
  {
   "cell_type": "markdown",
   "metadata": {
    "slideshow": {
     "slide_type": "slide"
    }
   },
   "source": [
    "Lo anterior se lleva a cabo al identificar un punto particular $(x_{0}, y_{0})$ por el que se requiera que pase la gráfica de la solución. "
   ]
  },
  {
   "cell_type": "markdown",
   "metadata": {
    "slideshow": {
     "slide_type": "slide"
    }
   },
   "source": [
    "Este requisito suele expresarse como\n",
    "\n",
    "$$ y(x_{0}) = y_{0} $$\n",
    "\n",
    "y se denomina **condición inicial**. "
   ]
  },
  {
   "cell_type": "markdown",
   "metadata": {
    "slideshow": {
     "slide_type": "slide"
    }
   },
   "source": [
    "Una ecuación diferencial de primer orden, como \n",
    "\n",
    "$$y' = f(x,y) $$\n",
    "\n",
    "con una condición inicial \n",
    "\n",
    "$$ y(x_{0}) = y_{0} $$\n",
    "\n",
    "constituyen un **problema con valor inicial**\n",
    "\n"
   ]
  },
  {
   "cell_type": "markdown",
   "metadata": {
    "slideshow": {
     "slide_type": "slide"
    }
   },
   "source": [
    "## Ejemplo de solución de un problema de valor inicial  \n",
    "Página 35 "
   ]
  },
  {
   "cell_type": "markdown",
   "metadata": {
    "slideshow": {
     "slide_type": "slide"
    }
   },
   "source": [
    "\\begin{align*}\n",
    "y' + 2y & = e^{-x} \\\\\n",
    "y(0) & = 0.75 \n",
    "\\end{align*}"
   ]
  },
  {
   "cell_type": "markdown",
   "metadata": {
    "slideshow": {
     "slide_type": "slide"
    }
   },
   "source": [
    "En el siguiente gráfico se muestra el campo direccional de la ecuación \n",
    "\n",
    "$$ y' + 2y = e^{-x} $$\n",
    "\n",
    "de donde es posible deducir el perfil general de las curvas integrales. \n"
   ]
  },
  {
   "cell_type": "code",
   "execution_count": null,
   "metadata": {
    "scrolled": false,
    "slideshow": {
     "slide_type": "slide"
    }
   },
   "outputs": [],
   "source": [
    "# Trazo del campo de direcciones \n",
    "import numpy as np\n",
    "from matplotlib import pyplot as plt\n",
    "\n",
    "# Differential equation\n",
    "# diff = y'= exp(-x) -2*y \n",
    "def diff(x,y):\n",
    "    return np.exp(-x) - 2*y \n",
    "a,b,c,d=-2,3,-1,3  # dimensiones del rectángulo de visualización \n",
    "x = np.linspace(a,b,20)\n",
    "y = np.linspace(c,d,20)  \n",
    "\n",
    "# use x,y\n",
    "for j in x:\n",
    "    for k in y:\n",
    "        slope = diff(j,k)\n",
    "        domain = np.linspace(j-0.03,j+0.03,2)\n",
    "        def fun(x1,y1):\n",
    "            z = slope*(domain-x1)+y1\n",
    "            return z\n",
    "        plt.plot(domain,fun(j,k))\n",
    "\n",
    "plt.title(r\"Slope field $y'$\")\n",
    "plt.axis([a,b,c,d])  \n",
    "plt.grid(True)\n",
    "plt.show()"
   ]
  },
  {
   "cell_type": "markdown",
   "metadata": {
    "slideshow": {
     "slide_type": "slide"
    }
   },
   "source": [
    "Para resolver la ecuación $ y' + 2y = e^{-x} $ observemos que tiene la forma \n",
    "\n",
    "$$ y' + p(x)y = g(x) $$\n",
    "\n",
    "con $p(x) = 2$ y $g(x) = e^{-x}$. \n"
   ]
  },
  {
   "cell_type": "markdown",
   "metadata": {
    "slideshow": {
     "slide_type": "slide"
    }
   },
   "source": [
    "Por tanto, el factor integrante es \n",
    "\n",
    "$$ \\mu(x) = exp\\left(\\int p(x)\\right) = exp(2x) = e^{2x}, $$\n"
   ]
  },
  {
   "cell_type": "markdown",
   "metadata": {
    "slideshow": {
     "slide_type": "slide"
    }
   },
   "source": [
    "Y al multiplicar la ecuación $y' + 2y = e^{-x}$ por esta cantidad se obtiene \n",
    "\n",
    "$$ e^{2x}y' + 2e^{2x}y = e^{x} $$\n"
   ]
  },
  {
   "cell_type": "markdown",
   "metadata": {
    "slideshow": {
     "slide_type": "slide"
    }
   },
   "source": [
    "El primer miembro de la ecuación anterior es la derivada de $e^{2x}y$, de modo quje esta ecuación puede escribirse como \n",
    "\n",
    "$$ (e^{2x}y)' = e^{x} $$\n"
   ]
  },
  {
   "cell_type": "markdown",
   "metadata": {
    "slideshow": {
     "slide_type": "slide"
    }
   },
   "source": [
    "y por integración se concluye que \n",
    "\n",
    "$$e^{2x}y = e^{x} + c, $$\n",
    "\n",
    "donde $C$ es una constante arbitraria. \n"
   ]
  },
  {
   "cell_type": "markdown",
   "metadata": {
    "slideshow": {
     "slide_type": "slide"
    }
   },
   "source": [
    "Por lo tanto, \n",
    "\n",
    "$$y = e^{-x} + ce^{-2x}$$\n",
    "\n",
    "es la solución general de la ecuación $y' + 2y = e^{-x}$. "
   ]
  },
  {
   "cell_type": "markdown",
   "metadata": {
    "slideshow": {
     "slide_type": "slide"
    }
   },
   "source": [
    "En la siguiente "
   ]
  },
  {
   "cell_type": "code",
   "execution_count": null,
   "metadata": {
    "slideshow": {
     "slide_type": "slide"
    }
   },
   "outputs": [],
   "source": [
    "# trazo curvas integrales \n",
    "a,b,c,d=-1,3,-1,2\n",
    "x1=np.linspace(a,b)\n",
    "constantes=[-3/4,-2/4,-1/4,0,1/4,2/4,3/4] \n",
    "for constante in constantes:\n",
    "    plt.plot(x1,np.exp(-x1) + constante*np.exp(-2*x1), label=r'$c={}$'.format(constante))  \n",
    "plt.grid(True) \n",
    "plt.axis([a,b,c,d])    \n",
    "plt.legend()     \n",
    "plt.show()    "
   ]
  },
  {
   "cell_type": "markdown",
   "metadata": {
    "slideshow": {
     "slide_type": "slide"
    }
   },
   "source": [
    "### Verificación con Python"
   ]
  },
  {
   "cell_type": "code",
   "execution_count": null,
   "metadata": {
    "slideshow": {
     "slide_type": "slide"
    }
   },
   "outputs": [],
   "source": [
    "import numpy as np \n",
    "from scipy.integrate import odeint \n",
    "import matplotlib.pyplot as plt "
   ]
  },
  {
   "cell_type": "code",
   "execution_count": null,
   "metadata": {
    "slideshow": {
     "slide_type": "slide"
    }
   },
   "outputs": [],
   "source": [
    "# function that return dy/dx\n",
    "def model(y,x):\n",
    "    dydx = np.exp(-x)-2*y\n",
    "    return dydx"
   ]
  },
  {
   "cell_type": "code",
   "execution_count": null,
   "metadata": {
    "slideshow": {
     "slide_type": "slide"
    }
   },
   "outputs": [],
   "source": [
    "# initial condition \n",
    "y0=0.75 "
   ]
  },
  {
   "cell_type": "code",
   "execution_count": null,
   "metadata": {
    "slideshow": {
     "slide_type": "slide"
    }
   },
   "outputs": [],
   "source": [
    "# x points \n",
    "x=np.linspace(-1,3,10000)"
   ]
  },
  {
   "cell_type": "code",
   "execution_count": null,
   "metadata": {
    "slideshow": {
     "slide_type": "slide"
    }
   },
   "outputs": [],
   "source": [
    "# solve ODE\n",
    "y=odeint(model,y0,x)  "
   ]
  },
  {
   "cell_type": "code",
   "execution_count": null,
   "metadata": {
    "slideshow": {
     "slide_type": "slide"
    }
   },
   "outputs": [],
   "source": [
    "plt.plot(x,y) \n",
    "plt.plot([0],[0.75],'ro') \n",
    "plt.plot(x,np.exp(-x) - 0.25*np.exp(-2*x)) \n",
    "plt.xlabel('x')\n",
    "plt.ylabel('y(x)') \n",
    "plt.grid(True)  \n",
    "plt.show()    "
   ]
  },
  {
   "cell_type": "code",
   "execution_count": null,
   "metadata": {
    "slideshow": {
     "slide_type": "slide"
    }
   },
   "outputs": [],
   "source": []
  },
  {
   "cell_type": "markdown",
   "metadata": {
    "slideshow": {
     "slide_type": "slide"
    }
   },
   "source": [
    "# Otras consideraciones acerca de las ecuaciones lineales"
   ]
  },
  {
   "cell_type": "markdown",
   "metadata": {
    "slideshow": {
     "slide_type": "slide"
    }
   },
   "source": [
    "Construir soluciones de problemas con valor inicial para ecuaciones diferenciales lineales de primer orden mediante el uso de un **factor integrante** para cambiar la ecuación diferencial por una **forma integrable**. "
   ]
  },
  {
   "cell_type": "markdown",
   "metadata": {
    "slideshow": {
     "slide_type": "slide"
    }
   },
   "source": [
    "1. ¿Un problema con valor inicial de este tipo siempre tiene solución?\n",
    "2. ¿Es posible que tenga más de una solución?\n",
    "3. ¿Es posible la solución para toda $x$ o solo para algún intervalo restringido alrededor del punto inicial?"
   ]
  },
  {
   "cell_type": "markdown",
   "metadata": {
    "slideshow": {
     "slide_type": "slide"
    }
   },
   "source": [
    "## Teorema 2.2.1"
   ]
  },
  {
   "cell_type": "markdown",
   "metadata": {
    "slideshow": {
     "slide_type": "skip"
    }
   },
   "source": [
    "Página 40 del Boyce DiPrima "
   ]
  },
  {
   "cell_type": "markdown",
   "metadata": {
    "slideshow": {
     "slide_type": "slide"
    }
   },
   "source": [
    "Si las funciones $p$ y $g$ son continuas en un intervalo abierto $I:\\alpha < x < \\beta$ que contenga al punto $x = x_{0}$, entonces existe una única solución $y = \\phi(x)$ que satisface la ecuación diferencial \n",
    "\n",
    "$$ y' + p(x)y = g(x) $$\n",
    "\n",
    "para toda $x$ en $I$ y que también satisface la condición inicial \n",
    "\n",
    "$$ y(x_{0}) = y_{0} $$\n",
    "\n",
    "en donde $y_{0}$ es un valor inicial arbitrario prescrito. \n"
   ]
  },
  {
   "cell_type": "markdown",
   "metadata": {
    "slideshow": {
     "slide_type": "slide"
    }
   },
   "source": [
    "* El teorema establece que el problema con   \n",
    "  valor inicial dado *tiene* solución y   \n",
    "* que esta es **única**. "
   ]
  },
  {
   "cell_type": "markdown",
   "metadata": {
    "slideshow": {
     "slide_type": "slide"
    }
   },
   "source": [
    "En otras palabras el teorema asegura la existencia y la unicidad de la solución del problema con valor unicial \n",
    "\n",
    "\\begin{align*}\n",
    "y' + p(x)y & = g(x) \\\\\n",
    "y(x_{0})   & = y_{0}\n",
    "\\end{align*}\n"
   ]
  },
  {
   "cell_type": "markdown",
   "metadata": {
    "slideshow": {
     "slide_type": "slide"
    }
   },
   "source": [
    "Además establece que la solución existe en toda la extensión del intervalo $I$ que contenga al punto inicial $x_{0}$ en el que los coeficientes $p$ y $g$ sean continuos. "
   ]
  },
  {
   "cell_type": "markdown",
   "metadata": {
    "slideshow": {
     "slide_type": "slide"
    }
   },
   "source": [
    "Es decir, la solución puede ser discontinua o no existir solo en los puntos en los que **por lo menos** una de $p$ y $g$ sea discontinua. "
   ]
  },
  {
   "cell_type": "markdown",
   "metadata": {
    "slideshow": {
     "slide_type": "slide"
    }
   },
   "source": [
    "A menudo estos puntos se identifican a primera vista. "
   ]
  },
  {
   "cell_type": "markdown",
   "metadata": {
    "slideshow": {
     "slide_type": "slide"
    }
   },
   "source": [
    "La demostración de este teorema está parcialmente contenida en el análisis que realizamos para deducir la fórmula \n",
    "\n",
    "$$y = \\frac{\\int \\mu(x)g(x)dx + c}{\\mu(x)} $$\n"
   ]
  },
  {
   "cell_type": "markdown",
   "metadata": {
    "slideshow": {
     "slide_type": "slide"
    }
   },
   "source": [
    "En donde \n",
    "\n",
    "$$\\mu(x) = \\text{exp} \\int p(x)dx $$\n"
   ]
  },
  {
   "cell_type": "markdown",
   "metadata": {
    "slideshow": {
     "slide_type": "slide"
    }
   },
   "source": [
    "Demostramos que si la ecuación $y' + p(x)y = g(x)$ tiene una solución, entonces esta debe estar dada por la ecuación \n",
    "\n",
    "$$ y = \\frac{\\int \\mu(x)g(x)dx + c}{\\mu(x)} $$ "
   ]
  },
  {
   "cell_type": "markdown",
   "metadata": {
    "slideshow": {
     "slide_type": "slide"
    }
   },
   "source": [
    "Al observar con más cuidado esa deducción, también puede concluir que, en efecto, la ecuación diferencial $y' + p(x)y = g(x)$ debe tener una solución. "
   ]
  },
  {
   "cell_type": "markdown",
   "metadata": {
    "slideshow": {
     "slide_type": "slide"
    }
   },
   "source": [
    "Dado que $p$ es continua para $\\alpha < x < \\beta$, se concluye que está definida en este intervalo y que $\\mu$ es una función diferenciable diferente de cero. "
   ]
  },
  {
   "cell_type": "markdown",
   "metadata": {
    "slideshow": {
     "slide_type": "slide"
    }
   },
   "source": [
    "Al multiplicar $y' + p(x)y=g(x)$ por $\\mu(x)$ se obtiene \n",
    "\n",
    "$$ [\\mu(x)y]' = \\mu(x)g(x) $$\n"
   ]
  },
  {
   "cell_type": "markdown",
   "metadata": {
    "slideshow": {
     "slide_type": "slide"
    }
   },
   "source": [
    "En virtud de que $\\mu$ y $g$ son continuas, la función $\\mu g$ es integrable, y de la ecuación \n",
    "\n",
    "$$y = \\frac{\\int \\mu g + c}{\\mu}$$\n",
    "\n",
    "se deduce de \n",
    "\n",
    "$$[\\mu y]' = \\mu g$$\n"
   ]
  },
  {
   "cell_type": "markdown",
   "metadata": {
    "slideshow": {
     "slide_type": "slide"
    }
   },
   "source": [
    "Luego $\\int \\mu g$ es diferenciable, de modo que la función  \n",
    "\n",
    "$$y = \\frac{\\int \\mu g + c}{\\mu} $$\n",
    "\n",
    "existe y es diferenciable en todo el intervalo $\\alpha < x < \\beta$. \n"
   ]
  },
  {
   "cell_type": "markdown",
   "metadata": {
    "slideshow": {
     "slide_type": "slide"
    }
   },
   "source": [
    "Al sustituir la expresión dada para $y$ por la ecuación \n",
    "\n",
    "$$y = \\frac{\\int \\mu g + c}{\\mu}$$\n",
    "\n",
    "en \n",
    "\n",
    "$$y' + p(x)y = g(x)$$\n",
    "\n",
    " o en \n",
    " \n",
    " $$ [\\mu y]'=\\mu g $$\n",
    " \n",
    " es fácil verificar que esta expresión satisface la ecuación diferencial en todo el intervalo $\\alpha < x < \\beta$. \n"
   ]
  },
  {
   "cell_type": "markdown",
   "metadata": {
    "slideshow": {
     "slide_type": "slide"
    }
   },
   "source": [
    "Por último, la condición inicial $y(x_{0}) = y_{0}$ determina de manera única la constante $c$, de modo que existe solo una solución del problema con valor inicial, con lo que se completa la demostración. "
   ]
  },
  {
   "cell_type": "markdown",
   "metadata": {
    "slideshow": {
     "slide_type": "slide"
    }
   },
   "source": [
    "Dado que la ecuación \n",
    "\n",
    "$$y = \\frac{\\int \\mu g + c}{\\mu} $$\n",
    "\n",
    "contiene todas las soluciones de la ecuación \n",
    "\n",
    "$$y' + p(x)y = g(x), $$\n",
    "\n",
    "esta expresión se llama solución general de la ecuación \n",
    "\n",
    "$$y' + p(x)y = g(x) $$\n"
   ]
  },
  {
   "cell_type": "markdown",
   "metadata": {
    "slideshow": {
     "slide_type": "slide"
    }
   },
   "source": [
    "# Sobre el factor de integración $\\mu$"
   ]
  },
  {
   "cell_type": "markdown",
   "metadata": {
    "slideshow": {
     "slide_type": "slide"
    }
   },
   "source": [
    "La ecuación \n",
    "\n",
    "$$ \\mu(x) = \\int p(x)dx $$\n",
    "\n",
    "determina el factor de integración $\\mu(x)$ solo hasta un factor multiplicativo que depende del límite inferior de integración. \n"
   ]
  },
  {
   "cell_type": "markdown",
   "metadata": {
    "slideshow": {
     "slide_type": "slide"
    }
   },
   "source": [
    "Si se exige este límite inferior como $x_{0}$, entonces \n",
    "\n",
    "$$\\mu(x) = exp \\int_{x_{0}}^{x} p(t)dt, $$\n",
    "\n",
    "y se concluye que $\\mu(x_{0}) = 1$. \n",
    "\n",
    "\n"
   ]
  },
  {
   "cell_type": "markdown",
   "metadata": {
    "slideshow": {
     "slide_type": "slide"
    }
   },
   "source": [
    "Al utilizar el factor integrante dado por la ecuación anterior y elegir el límite inferior de integración de la ecuación \n",
    "\n",
    "$$y = \\frac{\\int \\mu g + c}{\\mu} $$\n",
    "\n",
    "también igual a $x_{0}$, se obtiene la solución general de la ecuación $y' + p(x) = g(x)$ en la forma \n",
    "\n",
    "\n",
    "$$ y = \\frac{\\int_{x_{0}}^{x} \\mu(s)g(s)ds + c }{\\mu(x)} $$\n"
   ]
  },
  {
   "cell_type": "markdown",
   "metadata": {
    "slideshow": {
     "slide_type": "slide"
    }
   },
   "source": [
    "Para satisfacer la condición inicial $y(x_{0}) = y_{0}$ debe elegirse $c = y_{0}$, por tanto la solución del problema con valor inicial es \n",
    "\n",
    "$$y = \\frac{\\int_{x_{0}}^{x} \\mu(s)g(s)ds + y_{0} }{\\mu(x)}, $$\n",
    "\n",
    "donde $\\mu(x)$ está dada por\n",
    "\n",
    "$$\\mu(x) = exp \\int_{x_{0}}^{x}p(t)dt $$\n"
   ]
  },
  {
   "cell_type": "markdown",
   "metadata": {
    "slideshow": {
     "slide_type": "slide"
    }
   },
   "source": [
    "## Ejemplo de solución de un problema con valor inicial definido por una ED lineal de primer orden y determinación del intervalo de validez. \n",
    "Página 42 del Boyce DiPrima "
   ]
  },
  {
   "cell_type": "markdown",
   "metadata": {
    "slideshow": {
     "slide_type": "slide"
    }
   },
   "source": [
    "Resolver el problema con valor inicial \n",
    "\n",
    "\\begin{align*}\n",
    "xy'+2y & = 4x^{2}, \\\\\n",
    "y(1) & = 2 \n",
    "\\end{align*}\n",
    "\n",
    "y determine el intervalo en que la solución es válida. "
   ]
  },
  {
   "cell_type": "markdown",
   "metadata": {
    "slideshow": {
     "slide_type": "slide"
    }
   },
   "source": [
    "### Solución"
   ]
  },
  {
   "cell_type": "markdown",
   "metadata": {
    "slideshow": {
     "slide_type": "slide"
    }
   },
   "source": [
    "Dividamos por $x$   \n",
    "\n",
    "$$ y' + \\frac{2}{x}y = 4x $$\n",
    "\n",
    "y busquemos una solución en un intervalo que contenga a $x = 1$. \n"
   ]
  },
  {
   "cell_type": "markdown",
   "metadata": {
    "slideshow": {
     "slide_type": "slide"
    }
   },
   "source": [
    "Dado que los coeficientes de esta ecuación son continuos excepto en $x = 0$, entonces por el teorema de existencia y unicidad el problema con valor inicial dado tiene una solución válida por lo menos en el intervalo $0 < x < \\beta$. "
   ]
  },
  {
   "cell_type": "markdown",
   "metadata": {
    "slideshow": {
     "slide_type": "slide"
    }
   },
   "source": [
    "Para encontrar esta solución en primer lugar se calcula $\\mu(x)$:\n",
    "\n",
    "$$ \\mu(x) = exp \\left( \\int \\frac{2}{x}dx \\right) =  e^{2\\ln x} = x^{2}. $$\n"
   ]
  },
  {
   "cell_type": "markdown",
   "metadata": {
    "slideshow": {
     "slide_type": "slide"
    }
   },
   "source": [
    "Al multiplicar la ecuación $y' + \\frac{2}{x}y = 4x $ por $\\mu(x) = x^{2}$, se obtiene \n",
    "\n",
    "$$ x^{2}y' + 2xy = 4x^{3} $$\n"
   ]
  },
  {
   "cell_type": "markdown",
   "metadata": {},
   "source": [
    "$$ [x^{2}y]' = 4x^{3} $$"
   ]
  },
  {
   "cell_type": "markdown",
   "metadata": {
    "slideshow": {
     "slide_type": "slide"
    }
   },
   "source": [
    "y por consiguiente "
   ]
  },
  {
   "cell_type": "markdown",
   "metadata": {
    "slideshow": {
     "slide_type": "slide"
    }
   },
   "source": [
    "$$ x^{2}y = x^{4} + c $$"
   ]
  },
  {
   "cell_type": "markdown",
   "metadata": {
    "slideshow": {
     "slide_type": "slide"
    }
   },
   "source": [
    "donde $c$ es una constante arbitraria. "
   ]
  },
  {
   "cell_type": "markdown",
   "metadata": {
    "slideshow": {
     "slide_type": "slide"
    }
   },
   "source": [
    "Se concluye que\n",
    "\n",
    "$$ y = x^{2} + \\frac{c}{x^{2}} $$\n",
    "\n",
    "es la solución general de la ecuación $xy'+2y  = 4x^{2}$. \n"
   ]
  },
  {
   "cell_type": "markdown",
   "metadata": {
    "slideshow": {
     "slide_type": "slide"
    }
   },
   "source": [
    "Tracemos algunas curvas integrales de $xy'+2y  = 4x^{2}$ para varios valores de $c$. "
   ]
  },
  {
   "cell_type": "code",
   "execution_count": null,
   "metadata": {
    "slideshow": {
     "slide_type": "slide"
    }
   },
   "outputs": [],
   "source": [
    "# trazo curvas integrales \n",
    "a,b,c,d=-2,2,-2,4\n",
    "x1=np.linspace(a,b)\n",
    "x2=np.linspace(0.01,b)\n",
    "constantes=[-3,-2,-1,0,1,2,3] \n",
    "for constante in constantes:\n",
    "    plt.plot(x1,x1**2 + constante/x1**2, label=r'$c={}$'.format(constante))  \n",
    "plt.plot(x2,x2**2 + 1/x2**2, label=r'$c=1$',linewidth=4)    \n",
    "plt.grid(True) \n",
    "plt.axis([a,b,c,d])    \n",
    "plt.legend()     \n",
    "plt.show()    "
   ]
  },
  {
   "cell_type": "markdown",
   "metadata": {
    "slideshow": {
     "slide_type": "slide"
    }
   },
   "source": [
    "Deternemos el valor adecuado de $c$. "
   ]
  },
  {
   "cell_type": "markdown",
   "metadata": {
    "slideshow": {
     "slide_type": "slide"
    }
   },
   "source": [
    "Sustituimos la condición $y(1) = 2$. \n",
    "$$  y = x^{2} + \\frac{c}{x^{2}}  $$\n",
    "obtenemos \n",
    "\n",
    "$$ 2 = 1^{2} + \\frac{c}{1^{2}}  \\quad \\Rightarrow \\quad 2 = 1+c \\quad \\Rightarrow \\quad c = 1 $$\n"
   ]
  },
  {
   "cell_type": "markdown",
   "metadata": {
    "slideshow": {
     "slide_type": "slide"
    }
   },
   "source": [
    "Por tanto, \n",
    "\n",
    "$$ y = x^{2} + \\frac{1}{x^{2}} \\quad x > 0 $$\n",
    "\n",
    "es la solución del problema con valor inicial \n",
    "\n",
    "\\begin{align*}\n",
    "xy'+2y & = 4x^{2}, \\\\\n",
    "y(1) & = 2 \n",
    "\\end{align*}\n"
   ]
  },
  {
   "cell_type": "markdown",
   "metadata": {
    "slideshow": {
     "slide_type": "slide"
    }
   },
   "source": [
    "Observe que la función $y = x^{2} + \\frac{1}{x^{2}}$, para $x < 0$, no forma parte de la solución de este problema con valor inicial. "
   ]
  },
  {
   "cell_type": "markdown",
   "metadata": {
    "slideshow": {
     "slide_type": "slide"
    }
   },
   "source": []
  },
  {
   "cell_type": "code",
   "execution_count": null,
   "metadata": {
    "slideshow": {
     "slide_type": "slide"
    }
   },
   "outputs": [],
   "source": []
  },
  {
   "cell_type": "markdown",
   "metadata": {
    "slideshow": {
     "slide_type": "slide"
    }
   },
   "source": [
    "# Ejemplo 2 Sobre la función error \n",
    "Página 43 del Boyce DiPrima "
   ]
  },
  {
   "cell_type": "markdown",
   "metadata": {
    "slideshow": {
     "slide_type": "slide"
    }
   },
   "source": [
    "Encontrar la solución del problema con valor inicial \n",
    "\n",
    "$$ y' - 2xy = 1,  \\quad \\quad y(0) = -0.5 $$\n"
   ]
  },
  {
   "cell_type": "markdown",
   "metadata": {
    "slideshow": {
     "slide_type": "slide"
    }
   },
   "source": [
    "Para resolver la ecuación diferencial se observa que, $\\mu(x) = e^{-x^{2}}$, por consiguiente \n",
    "\n",
    "$$ e^{-x^{2}}(y'-2xy) = e^{-x^{2}} $$\n"
   ]
  },
  {
   "cell_type": "markdown",
   "metadata": {
    "slideshow": {
     "slide_type": "slide"
    }
   },
   "source": [
    "y así \n",
    "\n",
    "$$ e^{-x^{2}}y = \\int e^{-x^{2}}dx + c $$\n",
    "\n",
    "Para evaluar $c$ es conveniente tomar el límite de integración como el punto inicial $x = x_{0} =0$. \n"
   ]
  },
  {
   "cell_type": "markdown",
   "metadata": {
    "slideshow": {
     "slide_type": "slide"
    }
   },
   "source": [
    "Luego al resolver para $y$ se obtiene \n",
    "\n",
    "$$ y = e^{x^{2}} \\int_{0}^{x} e^{-t^{2}}dt +  ce^{x^{2}}, $$\n",
    "\n",
    "que es la solución general de la ecuación diferencial dada.  \n"
   ]
  },
  {
   "cell_type": "markdown",
   "metadata": {
    "slideshow": {
     "slide_type": "slide"
    }
   },
   "source": [
    "Para satisfacer la condición inicial $y(0) = -0.5$, debe elegirse  $c = -0.5$; de donde \n",
    "\n",
    "$$ y = e^{x^{2}} \\int_{0}^{x} e^{-t^{2}}dt -0.5e^{x^{2}}, $$\n",
    "\n",
    "es la solución del problema con valor inicial dado, "
   ]
  },
  {
   "cell_type": "markdown",
   "metadata": {
    "slideshow": {
     "slide_type": "slide"
    }
   },
   "source": [
    "## Trazo de algunas curvas integrales para este ejemplo\n",
    "\n",
    "$$ y = e^{x^{2}} \\int_{0}^{x} e^{-t^{2}}dt +ce^{x^{2}}, $$\n"
   ]
  },
  {
   "cell_type": "code",
   "execution_count": 2,
   "metadata": {
    "slideshow": {
     "slide_type": "slide"
    }
   },
   "outputs": [],
   "source": []
  },
  {
   "cell_type": "code",
   "execution_count": 2,
   "metadata": {
    "slideshow": {
     "slide_type": "slide"
    }
   },
   "outputs": [
    {
     "data": {
      "image/png": "[encoded data removed]",
      "text/plain": [
       "<Figure size 432x288 with 1 Axes>"
      ]
     },
     "metadata": {
      "needs_background": "light"
     },
     "output_type": "display_data"
    }
   ],
   "source": [
    "# trazo curvas integrales \n",
    "import numpy as np \n",
    "import matplotlib.pyplot as plt \n",
    "def trapezoid(b):    # pagina 201 del kiusalaas \n",
    "    '''Esta función integra en de cero a b para b negativo, cero o positivo'''\n",
    "    if b==0:\n",
    "        I=0\n",
    "    elif b < 0:\n",
    "        h=0.01\n",
    "        X=np.arange(b,0+h,h)\n",
    "        Y=expo_menos_x_a_la_dos(X)\n",
    "        coef=2*np.ones(len(X))\n",
    "        coef[0],coef[-1]=1,1\n",
    "        I=-Y.dot(coef)*h/2 \n",
    "    else: \n",
    "        h=0.01\n",
    "        X=np.arange(0,b+h,h)\n",
    "        Y=expo_menos_x_a_la_dos(X)\n",
    "        coef=2*np.ones(len(X))\n",
    "        coef[0],coef[-1]=1,1\n",
    "        I=Y.dot(coef)*h/2 \n",
    "    return I\n",
    "\n",
    "def expo_menos_x_a_la_dos(t):\n",
    "    return np.exp(-t**2)\n",
    "    \n",
    "        \n",
    "a,b,c,d=-3,3,-3,3\n",
    "x1=np.linspace(a,b)\n",
    "x2=np.linspace(0.01,b)\n",
    "\n",
    "constantes=np.arange(-9,9,1) \n",
    "for constante in constantes/4: \n",
    "    y1=[(np.exp(z**2)*trapezoid(z) + constante*np.exp(z**2)) for z in x1] \n",
    "    plt.plot(x1,y1, label=r'$c={}$'.format(constante))  \n",
    "plt.grid(True) \n",
    "plt.axis([a,b,c,d])    \n",
    "plt.legend()     \n",
    "plt.show()    "
   ]
  },
  {
   "cell_type": "markdown",
   "metadata": {
    "slideshow": {
     "slide_type": "slide"
    }
   },
   "source": [
    "En la figura anterior se muestran algunas de las curvas integrales y la solución particular que pasa por $(0,-0.5)$"
   ]
  },
  {
   "cell_type": "markdown",
   "metadata": {
    "slideshow": {
     "slide_type": "slide"
    }
   },
   "source": [
    "En la solución del problema anterior, la integral de $exp(-x^{2}) = e^{-x^{2}}$ no es expresable como una función elemental. "
   ]
  },
  {
   "cell_type": "markdown",
   "metadata": {
    "slideshow": {
     "slide_type": "slide"
    }
   },
   "source": [
    "Esto ilustra el hecho de que puede ser necesario dejar en forma de integral incluso la solución de un problema muy sencillo. "
   ]
  },
  {
   "cell_type": "markdown",
   "metadata": {
    "slideshow": {
     "slide_type": "slide"
    }
   },
   "source": [
    "Sin embargo, una expresión integral como la ecuación \n",
    "\n",
    "$$ y = e^{x^{2}}\\int_{0}^{x}e^{-t^{2}}dt - 0.5e^{x^{2}} $$\n",
    "\n",
    "puede ser un punto de partida para el **cálculo numérico** de la solución de un problema con valor inicial.  "
   ]
  },
  {
   "cell_type": "markdown",
   "metadata": {
    "slideshow": {
     "slide_type": "slide"
    }
   },
   "source": [
    "Para un valor fijo de $x$, la integral de\n",
    "\n",
    "$$ y = e^{x^{2}}\\int_{0}^{x}e^{-t^{2}}dt - 0.5e^{x^{2}} $$\n",
    "\n",
    "es una *integral definida*, y su valor puede obtenerse en forma muy aproximada por la regla de Simpson o algún otro método de integración numérica.   \n"
   ]
  },
  {
   "cell_type": "markdown",
   "metadata": {
    "slideshow": {
     "slide_type": "slide"
    }
   },
   "source": [
    "Al repetir la integración numérica para valores diferentes de $x$, es posible elaborar una tabla de valores, o construir una gráfica de la solución $y$. "
   ]
  },
  {
   "cell_type": "markdown",
   "metadata": {
    "slideshow": {
     "slide_type": "slide"
    }
   },
   "source": [
    "También existen otros procedimientos numéricos en los que se utiliza la ecuación diferencial derectamente para calcular valores aproximados de la solución, para un conjunto dado de valores de $x$. "
   ]
  },
  {
   "cell_type": "markdown",
   "metadata": {
    "slideshow": {
     "slide_type": "slide"
    }
   },
   "source": [
    "En el caso de la ecuación \n",
    "\n",
    "$$ y = e^{x^{2}}\\int_{0}^{x}e^{-t^{2}}dt - 0.5e^{x^{2}}, $$\n",
    "\n",
    "también sucede que la función \n",
    "\n",
    "$$erf(x) = \\frac{2}{\\sqrt{\\pi}} \\int_{0}^{x} e^{-t^{2}}dt,  $$\n",
    "\n",
    "llamada **función de error** ya se ha tabulado con amplitud y a menudo se considera como una función conocida. "
   ]
  },
  {
   "cell_type": "markdown",
   "metadata": {},
   "source": [
    "Por tanto, en vez de la ecuación \n",
    "\n",
    "$$ y = e^{x^{2}}\\int_{0}^{x}e^{-t^{2}}dt - 0.5e^{x^{2}} $$\n",
    "\n",
    "es posible escribir \n",
    "\n",
    "$$y = e^{x^{2}}\\left[ \\frac{\\sqrt{\\pi}}{2}\\text{erf}(x) - 0.5 \\right] $$\n"
   ]
  },
  {
   "cell_type": "markdown",
   "metadata": {
    "slideshow": {
     "slide_type": "slide"
    }
   },
   "source": [
    "A fin de evaluar el segundo miembro de la ecuación anterior para un valor dado de $x$ es posible consultar una tabla de valores de la función de error, o bien apoyarse en una procedimiento numérico como se sugirió antes. "
   ]
  },
  {
   "cell_type": "markdown",
   "metadata": {
    "slideshow": {
     "slide_type": "slide"
    }
   },
   "source": [
    "En principio, trabajar con la función de error no es más difícil que trabajar con la función $exp(x^{2})$. "
   ]
  },
  {
   "cell_type": "markdown",
   "metadata": {
    "slideshow": {
     "slide_type": "slide"
    }
   },
   "source": [
    "La diferencia más importante es que muchas calculadoras tienen rutinas integradas para evaluar la función exponencial mientras que no cuentan con rutinas semejantes para evaluar la función de error u otras funciones integrales que puedieran presentarse en la resolución de una ecuación diferencial. "
   ]
  },
  {
   "cell_type": "markdown",
   "metadata": {
    "slideshow": {
     "slide_type": "slide"
    }
   },
   "source": [
    "# Resumen de algunas de las propiedades de las ED lineales de primner orden y de sus soluciones"
   ]
  },
  {
   "cell_type": "markdown",
   "metadata": {
    "slideshow": {
     "slide_type": "slide"
    }
   },
   "source": [
    "1. Existe una solución general, que contiene una constante arbitraria, que incluye todas las   \n",
    "   soluciones de la ecuación diferencial. Al elegir el valor adecuado para la constante arbitraria   \n",
    "   es posible seleccionar una solución particular que satisfaga una condición inicial dada. "
   ]
  },
  {
   "cell_type": "markdown",
   "metadata": {
    "slideshow": {
     "slide_type": "slide"
    }
   },
   "source": [
    "2. Existe una fórmula para la solución, a saber, la ecuación \n",
    "\n",
    "$$ y = \\frac{\\int \\mu(x) g(x) dx + c }{\\mu(x)} $$\n",
    "\n",
    "o la \n",
    "\n",
    "\n",
    "$$y = \\frac{\\int_{x_{0}}^{x} \\mu(s)g(s)ds + c }{\\mu(x)}. $$\n",
    "\n",
    "Además, aunque comprenda dos integraciones, la fórmula es explícita para la solución $y = \\phi(x)$, en vez de ser una ecuación que defina a $\\phi$. \n"
   ]
  },
  {
   "cell_type": "markdown",
   "metadata": {
    "slideshow": {
     "slide_type": "slide"
    }
   },
   "source": [
    "3. Los puntos posibles de discontinuidad, o singularidades, de la solución, pueden identificarse   \n",
    "   sin resolver el problema, simplemente al hallar los puntos de discontinuidad de los coeficientes.  \n",
    "   Por tanto, si los coeficientes son continuos para toda $x$, entonces la solución también existe y   \n",
    "   es continua para toda $x$. "
   ]
  },
  {
   "cell_type": "markdown",
   "metadata": {
    "slideshow": {
     "slide_type": "slide"
    }
   },
   "source": [
    "# Gráfica de la función de error $erf(x)$ "
   ]
  },
  {
   "cell_type": "code",
   "execution_count": 33,
   "metadata": {
    "slideshow": {
     "slide_type": "slide"
    }
   },
   "outputs": [
    {
     "data": {
      "image/png": "[encoded data removed]",
      "text/plain": [
       "<Figure size 432x288 with 1 Axes>"
      ]
     },
     "metadata": {
      "needs_background": "light"
     },
     "output_type": "display_data"
    }
   ],
   "source": [
    "x=np.linspace(-3,3)\n",
    "y=np.array([trapezoid(a) for a in x])\n",
    "plt.plot(x,y)\n",
    "plt.grid(True) "
   ]
  },
  {
   "cell_type": "markdown",
   "metadata": {
    "slideshow": {
     "slide_type": "slide"
    }
   },
   "source": [
    "# Otra ecuación de Bernoulli"
   ]
  },
  {
   "cell_type": "markdown",
   "metadata": {
    "slideshow": {
     "slide_type": "slide"
    }
   },
   "source": [
    "$$y' = \\epsilon y - \\sigma y^{3} , \\quad \\quad \\epsilon > 0, \\quad \\sigma > 0 $$\n",
    "\n",
    "Esta ecuación se presenta en el estudio de la estabilidad del flujo de fluidos. "
   ]
  },
  {
   "cell_type": "markdown",
   "metadata": {
    "slideshow": {
     "slide_type": "slide"
    }
   },
   "source": []
  },
  {
   "cell_type": "markdown",
   "metadata": {
    "slideshow": {
     "slide_type": "slide"
    }
   },
   "source": [
    "# Deducción de la solución general de una ecuación separable   \n",
    "Página 49 del Boyce DiPrima "
   ]
  },
  {
   "cell_type": "markdown",
   "metadata": {
    "slideshow": {
     "slide_type": "slide"
    }
   },
   "source": [
    "Sea \n",
    "\n",
    "$$ M(x) + N(y)\\frac{dy}{dx} = 0 $$\n",
    "\n",
    "una ecuación separable. "
   ]
  },
  {
   "cell_type": "markdown",
   "metadata": {
    "slideshow": {
     "slide_type": "slide"
    }
   },
   "source": [
    "Sean $H_{1}$ y $H_{2}$ funciones cualesquiera tales que \n",
    "\n",
    "$$ H_{1}'(x) = M(x) \\quad \\quad H_{2}'(y) = N(y).  $$ \n"
   ]
  },
  {
   "cell_type": "markdown",
   "metadata": {
    "slideshow": {
     "slide_type": "slide"
    }
   },
   "source": [
    "Entonces \n",
    "\n",
    "$$ M(x) + N(y)\\frac{dy}{dx} = 0 $$\n",
    "\n",
    "nos queda \n",
    "\n",
    "$$ H_{1}'(x) + H_{2}'(y)\\frac{dy}{dx} = 0 $$\n"
   ]
  },
  {
   "cell_type": "markdown",
   "metadata": {
    "slideshow": {
     "slide_type": "slide"
    }
   },
   "source": [
    "donde $H_{2}'(y) = \\frac{d}{dy}H_{2}(y)$. "
   ]
  },
  {
   "cell_type": "markdown",
   "metadata": {
    "slideshow": {
     "slide_type": "slide"
    }
   },
   "source": [
    "De la regla de la cadena podemos decir que \n",
    "\n",
    "$$ H_{2}'(y)\\frac{dy}{dx} = \\frac{d}{dx}H_{2}(y) $$\n"
   ]
  },
  {
   "cell_type": "markdown",
   "metadata": {
    "slideshow": {
     "slide_type": "slide"
    }
   },
   "source": [
    "Por tanto, \n",
    "\n",
    "$$ H_{1}'(x) + H_{2}'(y)\\frac{dy}{dx} = 0 $$\n",
    "\n",
    "nos queda \n",
    "\n",
    "$$ \\frac{d}{dx}H_{1}(x) + \\frac{d}{dx}H_{2}(y) = 0 $$\n"
   ]
  },
  {
   "cell_type": "markdown",
   "metadata": {
    "slideshow": {
     "slide_type": "slide"
    }
   },
   "source": [
    "de donde \n",
    "\n",
    "$$\\frac{d}{dx} (H_{1}(x) + H_{2}(y)) = 0 $$\n"
   ]
  },
  {
   "cell_type": "markdown",
   "metadata": {
    "slideshow": {
     "slide_type": "slide"
    }
   },
   "source": [
    "y así, \n",
    "\n",
    "$$ H_{1}(x) + H_{2}(y) = c, $$\n",
    "\n",
    "donde $c$ es una constante arbitraria. "
   ]
  },
  {
   "cell_type": "markdown",
   "metadata": {
    "slideshow": {
     "slide_type": "slide"
    }
   },
   "source": [
    "Cualquier función diferenciable $y = \\phi(x)$ que satisfaga la ecuación anterior es una solución de la ecuación \n",
    "\n",
    "$$ M(x) + N(y)\\frac{dy}{dx} = 0 $$\n"
   ]
  },
  {
   "cell_type": "markdown",
   "metadata": {
    "slideshow": {
     "slide_type": "slide"
    }
   },
   "source": [
    "En otras palabras, \n",
    "\n",
    "$$ H_{1}(x) + H_{2}(y) = c, $$\n",
    "\n",
    "define la solución implícita, en vez de explícitamente. \n"
   ]
  },
  {
   "cell_type": "markdown",
   "metadata": {
    "slideshow": {
     "slide_type": "slide"
    }
   },
   "source": [
    "En la práctica, la ecuación \n",
    "\n",
    "$$ H_{1}(x) + H_{2}(y) = c, $$\n",
    "\n",
    "se obtiene casi siempre a partir de \n",
    "\n",
    "$$ M(x)dx = -N(y)dy $$\n",
    "\n",
    "al integrar el primer miembro con respecto a $x$ y el segundo con respecto a $y$. "
   ]
  },
  {
   "cell_type": "markdown",
   "metadata": {
    "slideshow": {
     "slide_type": "slide"
    }
   },
   "source": [
    "Si, además de la ecuación diferencial, se prescribe una condición inicial $y(x_{0}) = y_{0}$, entonces la solución de \n",
    "\n",
    "$$M(x) + N(y)\\frac{dy}{dx} = 0$$\n",
    "\n",
    "que satisface esta condición se obtiene al hacer $x = x_{0}$ y $y = y_{0}$ en \n",
    "\n",
    "$$H_{1}(x) + H_{2}(y) = c$$\n"
   ]
  },
  {
   "cell_type": "markdown",
   "metadata": {
    "slideshow": {
     "slide_type": "slide"
    }
   },
   "source": [
    "Con lo anterior se obtiene \n",
    "\n",
    "$$ c = H_{1}(x_{0}) + H_{2}(y_{0}) $$\n"
   ]
  },
  {
   "cell_type": "markdown",
   "metadata": {
    "slideshow": {
     "slide_type": "slide"
    }
   },
   "source": [
    "Al sustituir este valor de $c$ en \n",
    "\n",
    "$$ H_{1}(x) + H_{2}(y) = c $$\n",
    "\n",
    "y al observar que \n",
    "\n",
    "$$ H_{1}(x) - H_{1}(x_{0}) = \\int_{x_{0}}^{x}M(t)dt, \\quad \\quad H_{2}(y) - H_{2}(y_{0}) = \\int_{y_{0}}^{y} N(t)dt $$\n",
    "\n",
    "se obtiene \n",
    "\n",
    "\n",
    "$$ \\int_{x_{0}}^{x}M(t)dt + \\int_{y_{0}}^{y}N(t)dt = 0 $$\n"
   ]
  },
  {
   "cell_type": "markdown",
   "metadata": {
    "slideshow": {
     "slide_type": "slide"
    }
   },
   "source": [
    "La ecuación anterior es el representación implícita de la solución de la ecuación diferencial \n",
    "\n",
    "$$ M(x) + N(y)\\frac{dy}{dx}=0 $$\n",
    "\n",
    "que también satisface la condición inicial $y(x_{0}) = y_{0}$. \n"
   ]
  },
  {
   "cell_type": "markdown",
   "metadata": {
    "slideshow": {
     "slide_type": "slide"
    }
   },
   "source": [
    "Es necesario tener presente que la determinación de la fórmula explícita para la solución requiere que en \n",
    "\n",
    "$$ \\int_{x_{0}}^{x}M(t)dt + \\int_{y_{0}}^{y}N(t)dt = 0 $$\n",
    "\n",
    "se despeje $y$ como una función de $x$, esto puede presentar enormes dificultades. \n"
   ]
  },
  {
   "cell_type": "markdown",
   "metadata": {
    "slideshow": {
     "slide_type": "slide"
    }
   },
   "source": [
    "# Ejemplo de ED separables \n",
    "Página 50 del Boyce DiPrima"
   ]
  },
  {
   "cell_type": "markdown",
   "metadata": {
    "slideshow": {
     "slide_type": "slide"
    }
   },
   "source": [
    "Resolver el problema con valor inicial \n",
    "\n",
    "$$ \\frac{dy}{dx} = \\frac{3x^{2} + 4x + 2}{2(y-1)},  \\quad \\quad y(0) = -1 $$"
   ]
  },
  {
   "cell_type": "markdown",
   "metadata": {
    "slideshow": {
     "slide_type": "slide"
    }
   },
   "source": [
    "### Solución:\n",
    "\n",
    "La ED puede escribirse como\n",
    "\n",
    "$$ 2(y-1)dy = (3x^{2} + 4x + 2)dx $$\n"
   ]
  },
  {
   "cell_type": "markdown",
   "metadata": {
    "slideshow": {
     "slide_type": "slide"
    }
   },
   "source": [
    "Al integrar el primer miembro con respecto a $y$ y el segundo con respecto a $x$ da\n",
    "\n",
    "$$ y^{2} - 2y = x^{3} + 2x^{2} + 2x + c,  $$\n",
    "\n",
    "en donde $c$ es una constante arbitraria. \n"
   ]
  },
  {
   "cell_type": "markdown",
   "metadata": {
    "slideshow": {
     "slide_type": "slide"
    }
   },
   "source": [
    "Para determinar la solución que satisface la condición inicial prescrita, en la ecuación anterior se sustituyen $x = 0$ y $y = -1$, con lo que se obtiene $c = 3$. "
   ]
  },
  {
   "cell_type": "markdown",
   "metadata": {
    "slideshow": {
     "slide_type": "slide"
    }
   },
   "source": [
    "Por tanto, la solución del problema con valor inicial está dada implícitamente por \n",
    "\n",
    "$$ y^{2} - 2y = x^{3} + 2x^{2} + 2x + 3. $$\n"
   ]
  },
  {
   "cell_type": "markdown",
   "metadata": {
    "slideshow": {
     "slide_type": "slide"
    }
   },
   "source": [
    "A fin de obtener la solución de manera explícita, es necesario despejar $y$ en la ecuación anterior, en términos de $x$. "
   ]
  },
  {
   "cell_type": "markdown",
   "metadata": {
    "slideshow": {
     "slide_type": "slide"
    }
   },
   "source": [
    "En este caso es fácil, ya que la ecuación anterior es cuadrática en $y$, por lo que se obtiene \n",
    "\n",
    "$$ y = 1 \\pm \\sqrt{x^{3} + 2x^{2} + 2x + 4} $$\n"
   ]
  },
  {
   "cell_type": "markdown",
   "metadata": {
    "slideshow": {
     "slide_type": "slide"
    }
   },
   "source": [
    "La ecuación anterior da dos soluciones de la ecuación diferencial, sin embargo, sólo una de ellas satisface la condición inicial dada. "
   ]
  },
  {
   "cell_type": "markdown",
   "metadata": {
    "slideshow": {
     "slide_type": "slide"
    }
   },
   "source": [
    "Esta es la solución correspondiente al signo negativo en la ecuación anterior, de modo que por último se obtiene \n",
    "\n",
    "$$y = \\phi(x) = 1 - \\sqrt{x^{3} + 2x^{2} + 2x + 4} $$\n",
    "\n",
    "como la solución del problema de valor inicial \n",
    "\n",
    "$$ \\frac{dy}{dx} = \\frac{3x^{2} + 4x + 2}{2(y-1)},  \\quad \\quad y(0) = -1 $$"
   ]
  },
  {
   "cell_type": "code",
   "execution_count": 5,
   "metadata": {
    "slideshow": {
     "slide_type": "slide"
    }
   },
   "outputs": [
    {
     "data": {
      "image/png": "[encoded data removed]",
      "text/plain": [
       "<Figure size 432x288 with 1 Axes>"
      ]
     },
     "metadata": {
      "needs_background": "light"
     },
     "output_type": "display_data"
    },
    {
     "data": {
      "image/png": "[encoded data removed]",
      "text/plain": [
       "<Figure size 432x288 with 1 Axes>"
      ]
     },
     "metadata": {
      "needs_background": "light"
     },
     "output_type": "display_data"
    },
    {
     "data": {
      "image/png": "[encoded data removed]",
      "text/plain": [
       "<Figure size 432x288 with 1 Axes>"
      ]
     },
     "metadata": {
      "needs_background": "light"
     },
     "output_type": "display_data"
    },
    {
     "data": {
      "image/png": "[encoded data removed]",
      "text/plain": [
       "<Figure size 432x288 with 1 Axes>"
      ]
     },
     "metadata": {
      "needs_background": "light"
     },
     "output_type": "display_data"
    },
    {
     "data": {
      "image/png": "[encoded data removed]",
      "text/plain": [
       "<Figure size 432x288 with 1 Axes>"
      ]
     },
     "metadata": {
      "needs_background": "light"
     },
     "output_type": "display_data"
    },
    {
     "data": {
      "image/png": "[encoded data removed]",
      "text/plain": [
       "<Figure size 432x288 with 1 Axes>"
      ]
     },
     "metadata": {
      "needs_background": "light"
     },
     "output_type": "display_data"
    },
    {
     "data": {
      "image/png": "[encoded data removed]",
      "text/plain": [
       "<Figure size 432x288 with 1 Axes>"
      ]
     },
     "metadata": {
      "needs_background": "light"
     },
     "output_type": "display_data"
    }
   ],
   "source": [
    "# trazo curvas integrales \n",
    "from sympy import plot_implicit, symbols, Eq, And\n",
    "x, y = symbols('x y')\n",
    "constants=np.arange(-3,4,1)\n",
    "for c in constants:\n",
    "    plot_implicit(\n",
    "    Eq(y**2-2*y, x**3+2*x**2+2*x+c), (x, -3, 3), (y, -3, 3))"
   ]
  },
  {
   "cell_type": "code",
   "execution_count": 8,
   "metadata": {
    "slideshow": {
     "slide_type": "slide"
    }
   },
   "outputs": [
    {
     "data": {
      "text/plain": [
       "7776"
      ]
     },
     "execution_count": 8,
     "metadata": {},
     "output_type": "execute_result"
    }
   ],
   "source": [
    "6**5 "
   ]
  },
  {
   "cell_type": "code",
   "execution_count": 10,
   "metadata": {
    "slideshow": {
     "slide_type": "slide"
    }
   },
   "outputs": [
    {
     "data": {
      "text/plain": [
       "225"
      ]
     },
     "execution_count": 10,
     "metadata": {},
     "output_type": "execute_result"
    }
   ],
   "source": [
    "5**2*3**2\n"
   ]
  },
  {
   "cell_type": "code",
   "execution_count": 11,
   "metadata": {},
   "outputs": [
    {
     "data": {
      "text/plain": [
       "196"
      ]
     },
     "execution_count": 11,
     "metadata": {},
     "output_type": "execute_result"
    }
   ],
   "source": [
    "14**2"
   ]
  },
  {
   "cell_type": "code",
   "execution_count": 12,
   "metadata": {},
   "outputs": [
    {
     "data": {
      "text/plain": [
       "196"
      ]
     },
     "execution_count": 12,
     "metadata": {},
     "output_type": "execute_result"
    }
   ],
   "source": [
    "14*14"
   ]
  },
  {
   "cell_type": "code",
   "execution_count": null,
   "metadata": {},
   "outputs": [],
   "source": []
  },
  {
   "cell_type": "code",
   "execution_count": null,
   "metadata": {},
   "outputs": [],
   "source": []
  },
  {
   "cell_type": "code",
   "execution_count": null,
   "metadata": {},
   "outputs": [],
   "source": []
  },
  {
   "cell_type": "code",
   "execution_count": null,
   "metadata": {},
   "outputs": [],
   "source": []
  },
  {
   "cell_type": "code",
   "execution_count": null,
   "metadata": {},
   "outputs": [],
   "source": []
  },
  {
   "cell_type": "code",
   "execution_count": null,
   "metadata": {},
   "outputs": [],
   "source": []
  },
  {
   "cell_type": "code",
   "execution_count": null,
   "metadata": {},
   "outputs": [],
   "source": []
  },
  {
   "cell_type": "code",
   "execution_count": null,
   "metadata": {},
   "outputs": [],
   "source": []
  },
  {
   "cell_type": "code",
   "execution_count": null,
   "metadata": {},
   "outputs": [],
   "source": []
  },
  {
   "cell_type": "code",
   "execution_count": null,
   "metadata": {},
   "outputs": [],
   "source": []
  },
  {
   "cell_type": "code",
   "execution_count": null,
   "metadata": {},
   "outputs": [],
   "source": []
  },
  {
   "cell_type": "code",
   "execution_count": null,
   "metadata": {},
   "outputs": [],
   "source": []
  },
  {
   "cell_type": "code",
   "execution_count": null,
   "metadata": {},
   "outputs": [],
   "source": []
  },
  {
   "cell_type": "code",
   "execution_count": null,
   "metadata": {},
   "outputs": [],
   "source": []
  },
  {
   "cell_type": "code",
   "execution_count": null,
   "metadata": {},
   "outputs": [],
   "source": []
  },
  {
   "cell_type": "code",
   "execution_count": null,
   "metadata": {},
   "outputs": [],
   "source": []
  },
  {
   "cell_type": "code",
   "execution_count": null,
   "metadata": {},
   "outputs": [],
   "source": []
  },
  {
   "cell_type": "code",
   "execution_count": null,
   "metadata": {},
   "outputs": [],
   "source": []
  },
  {
   "cell_type": "code",
   "execution_count": null,
   "metadata": {},
   "outputs": [],
   "source": []
  },
  {
   "cell_type": "code",
   "execution_count": null,
   "metadata": {},
   "outputs": [],
   "source": []
  },
  {
   "cell_type": "code",
   "execution_count": null,
   "metadata": {},
   "outputs": [],
   "source": []
  },
  {
   "cell_type": "code",
   "execution_count": null,
   "metadata": {},
   "outputs": [],
   "source": []
  },
  {
   "cell_type": "code",
   "execution_count": null,
   "metadata": {},
   "outputs": [],
   "source": []
  },
  {
   "cell_type": "code",
   "execution_count": null,
   "metadata": {},
   "outputs": [],
   "source": []
  },
  {
   "cell_type": "code",
   "execution_count": null,
   "metadata": {},
   "outputs": [],
   "source": []
  },
  {
   "cell_type": "code",
   "execution_count": null,
   "metadata": {},
   "outputs": [],
   "source": []
  },
  {
   "cell_type": "code",
   "execution_count": null,
   "metadata": {},
   "outputs": [],
   "source": []
  },
  {
   "cell_type": "code",
   "execution_count": null,
   "metadata": {},
   "outputs": [],
   "source": []
  },
  {
   "cell_type": "code",
   "execution_count": null,
   "metadata": {},
   "outputs": [],
   "source": []
  },
  {
   "cell_type": "code",
   "execution_count": null,
   "metadata": {},
   "outputs": [],
   "source": []
  },
  {
   "cell_type": "code",
   "execution_count": null,
   "metadata": {},
   "outputs": [],
   "source": []
  },
  {
   "cell_type": "code",
   "execution_count": null,
   "metadata": {},
   "outputs": [],
   "source": []
  },
  {
   "cell_type": "code",
   "execution_count": null,
   "metadata": {},
   "outputs": [],
   "source": []
  },
  {
   "cell_type": "code",
   "execution_count": null,
   "metadata": {},
   "outputs": [],
   "source": []
  },
  {
   "cell_type": "code",
   "execution_count": null,
   "metadata": {},
   "outputs": [],
   "source": []
  },
  {
   "cell_type": "code",
   "execution_count": null,
   "metadata": {},
   "outputs": [],
   "source": []
  },
  {
   "cell_type": "code",
   "execution_count": null,
   "metadata": {},
   "outputs": [],
   "source": []
  },
  {
   "cell_type": "code",
   "execution_count": null,
   "metadata": {},
   "outputs": [],
   "source": []
  },
  {
   "cell_type": "code",
   "execution_count": null,
   "metadata": {},
   "outputs": [],
   "source": []
  },
  {
   "cell_type": "code",
   "execution_count": null,
   "metadata": {},
   "outputs": [],
   "source": []
  },
  {
   "cell_type": "code",
   "execution_count": null,
   "metadata": {},
   "outputs": [],
   "source": []
  },
  {
   "cell_type": "code",
   "execution_count": null,
   "metadata": {
    "slideshow": {
     "slide_type": "slide"
    }
   },
   "outputs": [],
   "source": []
  },
  {
   "cell_type": "code",
   "execution_count": null,
   "metadata": {
    "slideshow": {
     "slide_type": "slide"
    }
   },
   "outputs": [],
   "source": []
  },
  {
   "cell_type": "code",
   "execution_count": null,
   "metadata": {},
   "outputs": [],
   "source": []
  },
  {
   "cell_type": "code",
   "execution_count": null,
   "metadata": {},
   "outputs": [],
   "source": []
  }
 ],
 "metadata": {
  "celltoolbar": "Slideshow",
  "hide_input": false,
  "kernelspec": {
   "display_name": "Python 3",
   "language": "python",
   "name": "python3"
  },
  "language_info": {
   "codemirror_mode": {
    "name": "ipython",
    "version": 3
   },
   "file_extension": ".py",
   "mimetype": "text/x-python",
   "name": "python",
   "nbconvert_exporter": "python",
   "pygments_lexer": "ipython3",
   "version": "3.8.8"
  },
  "latex_envs": {
   "LaTeX_envs_menu_present": true,
   "autoclose": false,
   "autocomplete": false,
   "bibliofile": "biblio.bib",
   "cite_by": "apalike",
   "current_citInitial": 1,
   "eqLabelWithNumbers": true,
   "eqNumInitial": 1,
   "hotkeys": {
    "equation": "Ctrl-E",
    "itemize": "Ctrl-I"
   },
   "labels_anchors": false,
   "latex_user_defs": false,
   "report_style_numbering": false,
   "user_envs_cfg": false
  },
  "nbTranslate": {
   "displayLangs": [
    "*"
   ],
   "hotkey": "alt-t",
   "langInMainMenu": true,
   "sourceLang": "en",
   "targetLang": "es",
   "useGoogleTranslate": true
  },
  "rise": {
   "enable_chalkboard": true,
   "theme": "sky",
   "transition": "sky"
  }
 },
 "nbformat": 4,
 "nbformat_minor": 2
}
