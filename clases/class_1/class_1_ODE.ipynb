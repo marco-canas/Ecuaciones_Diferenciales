{
 "cells": [
  {
   "cell_type": "markdown",
   "metadata": {
    "slideshow": {
     "slide_type": "slide"
    }
   },
   "source": [
    "<table align=\"left\">\n",
    "  <td>\n",
    "    <a href=\"https://colab.research.google.com/github/marco-canas/edo/blob/main/clases/class_1/class_1_ODE.ipynb\" target=\"_parent\"><img src=\"https://colab.research.google.com/assets/colab-badge.svg\" alt=\"Open In Colab\"/></a>\n",
    "  </td>\n",
    "</table>"
   ]
  },
  {
   "cell_type": "markdown",
   "metadata": {
    "slideshow": {
     "slide_type": "slide"
    }
   },
   "source": [
    "# clase 1 Ecuaciones diferenciales"
   ]
  },
  {
   "cell_type": "markdown",
   "metadata": {
    "slideshow": {
     "slide_type": "slide"
    }
   },
   "source": [
    "## [Video de apoyo]()"
   ]
  },
  {
   "cell_type": "code",
   "execution_count": 4,
   "metadata": {
    "scrolled": true,
    "slideshow": {
     "slide_type": "slide"
    }
   },
   "outputs": [
    {
     "data": {
      "text/html": [
       "<div>\n",
       "<style scoped>\n",
       "    .dataframe tbody tr th:only-of-type {\n",
       "        vertical-align: middle;\n",
       "    }\n",
       "\n",
       "    .dataframe tbody tr th {\n",
       "        vertical-align: top;\n",
       "    }\n",
       "\n",
       "    .dataframe thead th {\n",
       "        text-align: right;\n",
       "    }\n",
       "</style>\n",
       "<table border=\"1\" class=\"dataframe\">\n",
       "  <thead>\n",
       "    <tr style=\"text-align: right;\">\n",
       "      <th></th>\n",
       "      <th>Fechas</th>\n",
       "      <th>asesoría</th>\n",
       "    </tr>\n",
       "  </thead>\n",
       "  <tbody>\n",
       "    <tr>\n",
       "      <th>febrero</th>\n",
       "      <td>(21, 28)</td>\n",
       "      <td>jueves 8 - 9 AM</td>\n",
       "    </tr>\n",
       "    <tr>\n",
       "      <th>marzo</th>\n",
       "      <td>(7, 14, 28)</td>\n",
       "      <td></td>\n",
       "    </tr>\n",
       "    <tr>\n",
       "      <th>abril</th>\n",
       "      <td>(4, 11, 28, 25)</td>\n",
       "      <td></td>\n",
       "    </tr>\n",
       "    <tr>\n",
       "      <th>mayo</th>\n",
       "      <td>(2, 9, 16, 23, 30)</td>\n",
       "      <td></td>\n",
       "    </tr>\n",
       "    <tr>\n",
       "      <th>junio</th>\n",
       "      <td>(6,)</td>\n",
       "      <td></td>\n",
       "    </tr>\n",
       "  </tbody>\n",
       "</table>\n",
       "</div>"
      ],
      "text/plain": [
       "                     Fechas         asesoría\n",
       "febrero            (21, 28)  jueves 8 - 9 AM\n",
       "marzo           (7, 14, 28)                 \n",
       "abril       (4, 11, 28, 25)                 \n",
       "mayo     (2, 9, 16, 23, 30)                 \n",
       "junio                  (6,)                 "
      ]
     },
     "execution_count": 4,
     "metadata": {},
     "output_type": "execute_result"
    }
   ],
   "source": [
    "import pandas as pd \n",
    "indices = ['febrero', 'marzo', 'abril', 'mayo', 'junio']\n",
    "\n",
    "asesoría = pd.Series(['jueves 8 - 9 AM','', '', '', ''], index = indices)\n",
    "fechas = pd.Series([(21,28),(7,14,28),(4,11,28,25),(2,9,16,23,30),(6,)], index = indices)\n",
    "\n",
    "edo ={'Fechas':fechas, 'asesoría':asesoría}\n",
    "\n",
    "\n",
    "df=pd.DataFrame(edo) \n",
    "df "
   ]
  },
  {
   "cell_type": "markdown",
   "metadata": {
    "slideshow": {
     "slide_type": "slide"
    }
   },
   "source": [
    "# Presaberes para esta clase"
   ]
  },
  {
   "cell_type": "markdown",
   "metadata": {
    "slideshow": {
     "slide_type": "slide"
    }
   },
   "source": [
    "* $e^{\\ln x} = x$ \n",
    "* $\\ln(x) = \\ln(y)$ $\\to$ $x = y$ \n",
    "* descomposición en fracciones parciales cuando los factores son lineales no repetidos. \n",
    "* $\\int \\frac{du}{u} = \\ln|u| + c$. \n",
    "* La regla de la cadena para derivación:\n",
    "\n",
    "$$ \\frac{d}{dx}f(u) = \\frac{df}{du} \\cdot \\frac{du}{dx}  $$\n",
    "\n",
    "* propiedades de los logaritmos \n",
    "\n",
    "$$n\\ln x = \\ln x^{n} $$\n",
    "\n",
    "* Método de integración por partes \n",
    "\n",
    "$$ \\int udv = uv - \\int vdu  $$\n"
   ]
  },
  {
   "cell_type": "markdown",
   "metadata": {
    "slideshow": {
     "slide_type": "slide"
    }
   },
   "source": [
    "## Unidad 1 "
   ]
  },
  {
   "cell_type": "markdown",
   "metadata": {
    "slideshow": {
     "slide_type": "slide"
    }
   },
   "source": [
    "### clase 1"
   ]
  },
  {
   "cell_type": "markdown",
   "metadata": {
    "slideshow": {
     "slide_type": "slide"
    }
   },
   "source": [
    "* Definición de ecuación diferencial y\n",
    "* orden de una ecuación diferencial.   \n",
    "* Definición de solución,   \n",
    "  * definición de solución general y  \n",
    "  * solución particular, \n",
    "* problema de valor inicial.\n",
    "* Clasificación de las ecuaciones diferenciales.\n",
    "  * Ecuaciones lineales, \n",
    "  * Ecuaciones de Bernoulli \n",
    "  * Ecuaciones separables y  \n",
    "  * ecuaciones Exactas.\n",
    "  * ecuaciones homogéneas,   \n",
    "  "
   ]
  },
  {
   "cell_type": "markdown",
   "metadata": {
    "slideshow": {
     "slide_type": "slide"
    }
   },
   "source": [
    "## Ecuaciones diferenciales de primer orden\n",
    "Página 31 del Boyce DiPrima"
   ]
  },
  {
   "cell_type": "markdown",
   "metadata": {
    "slideshow": {
     "slide_type": "slide"
    }
   },
   "source": [
    "$$ \\frac{dy}{dx} = f(x,y) $$"
   ]
  },
  {
   "cell_type": "markdown",
   "metadata": {
    "slideshow": {
     "slide_type": "slide"
    }
   },
   "source": [
    "$f$ función dada de dos variables. "
   ]
  },
  {
   "cell_type": "markdown",
   "metadata": {
    "slideshow": {
     "slide_type": "slide"
    }
   },
   "source": [
    "No existe un método general para resolver esta ecuación en términos de funciones elementales. "
   ]
  },
  {
   "cell_type": "markdown",
   "metadata": {
    "slideshow": {
     "slide_type": "slide"
    }
   },
   "source": [
    "## Ejemplo:\n",
    "\n",
    "sea $y = e^{x^{2}}$, entonces \n",
    "\n",
    "$$ y' = e^{x^{2}}2x = 2xy $$\n",
    "\n",
    "Trate de hallar la función $y = y(x)$ tal que $y' = 2xy$. En esto consiste el problema de resolver ecuaciones diferenciales. \n"
   ]
  },
  {
   "cell_type": "markdown",
   "metadata": {
    "slideshow": {
     "slide_type": "slide"
    }
   },
   "source": [
    "## Clasificación de las ED"
   ]
  },
  {
   "cell_type": "markdown",
   "metadata": {
    "slideshow": {
     "slide_type": "slide"
    }
   },
   "source": [
    "* Según el tipo: Ordinarias y parciales\n",
    "* Criterio del orden \n",
    "* Criterio de linealidad.  \n"
   ]
  },
  {
   "cell_type": "markdown",
   "metadata": {
    "slideshow": {
     "slide_type": "slide"
    }
   },
   "source": [
    "## Clasificación por tipo"
   ]
  },
  {
   "cell_type": "markdown",
   "metadata": {
    "slideshow": {
     "slide_type": "slide"
    }
   },
   "source": [
    "Ordinarias\n",
    "$$  $$"
   ]
  },
  {
   "cell_type": "markdown",
   "metadata": {
    "slideshow": {
     "slide_type": "slide"
    }
   },
   "source": [
    "Parciales:   \n",
    "\n",
    "$$ \\frac{\\partial^{2} f}{\\partial x^{2}} + \\frac{\\partial^{2}f}{\\partial y^{2}} = 0  $$"
   ]
  },
  {
   "cell_type": "markdown",
   "metadata": {
    "slideshow": {
     "slide_type": "slide"
    }
   },
   "source": [
    "## Clasificación por orden"
   ]
  },
  {
   "cell_type": "markdown",
   "metadata": {
    "slideshow": {
     "slide_type": "slide"
    }
   },
   "source": [
    "$$  $$"
   ]
  },
  {
   "cell_type": "markdown",
   "metadata": {
    "slideshow": {
     "slide_type": "slide"
    }
   },
   "source": [
    "## Clasificación por linealidad"
   ]
  },
  {
   "cell_type": "markdown",
   "metadata": {
    "slideshow": {
     "slide_type": "slide"
    }
   },
   "source": [
    "$$ a_{n}(x) \\frac{d^{n}y}{dx^{n}} +  $$"
   ]
  },
  {
   "cell_type": "markdown",
   "metadata": {
    "slideshow": {
     "slide_type": "slide"
    }
   },
   "source": [
    "## Ecuaciones lineales"
   ]
  },
  {
   "cell_type": "markdown",
   "metadata": {
    "slideshow": {
     "slide_type": "slide"
    }
   },
   "source": [
    "$$ y' = f(x,y) $$"
   ]
  },
  {
   "cell_type": "markdown",
   "metadata": {
    "slideshow": {
     "slide_type": "slide"
    }
   },
   "source": [
    "$$y' + p(x)y = g(x)$$"
   ]
  },
  {
   "cell_type": "markdown",
   "metadata": {
    "slideshow": {
     "slide_type": "slide"
    }
   },
   "source": [
    "## Solución de una ED"
   ]
  },
  {
   "cell_type": "markdown",
   "metadata": {
    "slideshow": {
     "slide_type": "slide"
    }
   },
   "source": [
    "$y = \\phi(x)$ tal que $\\phi'(x) = f(x,\\phi(x)) $ para cada $x \\in I$. "
   ]
  },
  {
   "cell_type": "code",
   "execution_count": null,
   "metadata": {},
   "outputs": [],
   "source": []
  },
  {
   "cell_type": "markdown",
   "metadata": {
    "slideshow": {
     "slide_type": "slide"
    }
   },
   "source": [
    "## Intervalo de definición"
   ]
  },
  {
   "cell_type": "code",
   "execution_count": null,
   "metadata": {},
   "outputs": [],
   "source": []
  },
  {
   "cell_type": "markdown",
   "metadata": {},
   "source": [
    "## Ejemplo de verificación de soluciones"
   ]
  },
  {
   "cell_type": "markdown",
   "metadata": {
    "slideshow": {
     "slide_type": "slide"
    }
   },
   "source": [
    "$$ \\frac{dy}{dx} = xy^{\\frac{1}{2}}, \\ \\ \\ \\ y = \\frac{1}{16}x^{4} $$"
   ]
  },
  {
   "cell_type": "markdown",
   "metadata": {
    "slideshow": {
     "slide_type": "slide"
    }
   },
   "source": [
    "## Curva solución: "
   ]
  },
  {
   "cell_type": "markdown",
   "metadata": {
    "slideshow": {
     "slide_type": "slide"
    }
   },
   "source": [
    "La gráfica de una solución $\\phi$ de una EDo se llama curva solución. "
   ]
  },
  {
   "cell_type": "markdown",
   "metadata": {
    "slideshow": {
     "slide_type": "slide"
    }
   },
   "source": [
    "## Función contra solución"
   ]
  },
  {
   "cell_type": "markdown",
   "metadata": {
    "slideshow": {
     "slide_type": "slide"
    }
   },
   "source": [
    "$$y = \\frac{1}{x} $$\n",
    "\n",
    "$$ xy' + y = 0 $$"
   ]
  },
  {
   "cell_type": "code",
   "execution_count": 11,
   "metadata": {},
   "outputs": [
    {
     "data": {
      "image/png": "[encoded data removed]",
      "text/plain": [
       "<Figure size 432x288 with 1 Axes>"
      ]
     },
     "metadata": {
      "needs_background": "light"
     },
     "output_type": "display_data"
    }
   ],
   "source": [
    "import numpy as np \n",
    "import matplotlib.pyplot as plt \n",
    "\n",
    "x1 = np.linspace(-3,-0.01, 50)\n",
    "x2 = np.linspace(0.01, 3, 50)\n",
    "\n",
    "x = np.concatenate((x1,x2), axis = 0)\n",
    "\n",
    "\n",
    "\n",
    "plt.plot(x1,1/x1, color = 'red')\n",
    "plt.plot(x2,1/x2, color = 'red') \n",
    "\n",
    "plt.grid() \n",
    "\n",
    "plt.show() "
   ]
  },
  {
   "cell_type": "code",
   "execution_count": 14,
   "metadata": {
    "scrolled": true
   },
   "outputs": [
    {
     "data": {
      "image/png": "[encoded data removed]",
      "text/plain": [
       "<Figure size 432x288 with 1 Axes>"
      ]
     },
     "metadata": {
      "needs_background": "light"
     },
     "output_type": "display_data"
    }
   ],
   "source": [
    "import numpy as np \n",
    "import matplotlib.pyplot as plt \n",
    "\n",
    "x1 = np.linspace(-3,-0.01, 50)\n",
    "x2 = np.linspace(0.01, 3, 50)\n",
    "\n",
    "x = np.concatenate((x1,x2), axis = 0)\n",
    "\n",
    "\n",
    "\n",
    "#plt.plot(x1,1/x1, color = 'red')\n",
    "plt.plot(x2,1/x2, color = 'red') \n",
    "\n",
    "plt.grid() \n",
    "\n",
    "plt.axis([-3,3, -100, 100])\n",
    "\n",
    "plt.show() "
   ]
  },
  {
   "cell_type": "markdown",
   "metadata": {
    "slideshow": {
     "slide_type": "slide"
    }
   },
   "source": [
    "## Soluciones explícitas e implícitas"
   ]
  },
  {
   "cell_type": "markdown",
   "metadata": {
    "slideshow": {
     "slide_type": "slide"
    }
   },
   "source": [
    "Usted debe estar familiarizado con los términos funciones explícitas y funciones implícitas de su curso de cálculo. "
   ]
  },
  {
   "cell_type": "markdown",
   "metadata": {
    "slideshow": {
     "slide_type": "slide"
    }
   },
   "source": [
    "Una \n",
    "solución en la cual la variable dependiente se expresa sólo en términos de la variable \n",
    "independiente y las constantes se dice que es una solución explícita. Para nuestros \n",
    "propósitos, consideremos una solución explícita como una fórmula explícita y \u0004 \u0001(x) \n",
    "que podamos manejar, evaluar y derivar usando las reglas usuales. Acabamos de ver \n",
    "en los dos últimos ejemplos que \n",
    "\n",
    "$$ y = \\frac{1}{16}x^{4}, \\ \\ \\ \\ \\  y \u0004 xex , \\ \\ \\ \\  y y \u0004 1\u0001x $$\n",
    "\n",
    "son soluciones explícitas, respectivamente, de \n",
    "\n",
    "$$ \\frac{dy}{dx}= xy^{1/2},\\ \\ \\ \\  y\u0002 \u0005 2y\u0001 \u0003 y \u0004 0, y xy\u0001 \u0003 y \u0004 0.  $$\n",
    "\n",
    "Además, la solución trivial $y = 0$ es una solución explícita de cada una de estas tres ecuaciones. "
   ]
  },
  {
   "cell_type": "markdown",
   "metadata": {
    "slideshow": {
     "slide_type": "slide"
    }
   },
   "source": [
    "Cuando lleguemos al punto de realmente resolver las ecuaciones diferenciales ordinarias veremos que los métodos de solución no siempre conducen directamente a una solución explícita y \u0004 \u0001(x). "
   ]
  },
  {
   "cell_type": "markdown",
   "metadata": {
    "slideshow": {
     "slide_type": "slide"
    }
   },
   "source": [
    "Esto es particularmente cierto cuando intentamos resolver ecuaciones diferenciales de primer orden. "
   ]
  },
  {
   "cell_type": "markdown",
   "metadata": {
    "slideshow": {
     "slide_type": "slide"
    }
   },
   "source": [
    "Con frecuencia tenemos que conformarnos con una relación o expresión $G(x,y)=0$ que define una solución."
   ]
  },
  {
   "cell_type": "markdown",
   "metadata": {
    "slideshow": {
     "slide_type": "slide"
    }
   },
   "source": [
    "## Ejemplo:  Comprobabión de una solución implícita\n",
    "\n"
   ]
  },
  {
   "cell_type": "markdown",
   "metadata": {
    "slideshow": {
     "slide_type": "slide"
    }
   },
   "source": [
    "$$ x^{2} + y^{2} = 25 $$\n",
    "\n",
    "$$ \\frac{dy}{dx} = -\\frac{x}{y} $$\n"
   ]
  },
  {
   "cell_type": "markdown",
   "metadata": {
    "slideshow": {
     "slide_type": "slide"
    }
   },
   "source": [
    "## FAMILIAS DE SOLUCIONES"
   ]
  },
  {
   "cell_type": "markdown",
   "metadata": {
    "slideshow": {
     "slide_type": "slide"
    }
   },
   "source": [
    "El estudio de ecuaciones diferenciales es similar al del cálculo integral. "
   ]
  },
  {
   "cell_type": "markdown",
   "metadata": {
    "slideshow": {
     "slide_type": "slide"
    }
   },
   "source": [
    "En algunos libros una solución $\\phi$ es algunas veces llamada **integral** de la ecuación y su gráfica se llama **curva integral**. "
   ]
  },
  {
   "cell_type": "markdown",
   "metadata": {
    "slideshow": {
     "slide_type": "slide"
    }
   },
   "source": [
    "Cuando obtenemos una antiderivada o una integral indefinida en cálculo, usamos una sola constante $c$ de integración. "
   ]
  },
  {
   "cell_type": "markdown",
   "metadata": {
    "slideshow": {
     "slide_type": "slide"
    }
   },
   "source": [
    "De modo similar, cuando resolvemos una ecuación diferencial de primer orden $F(x, y, y') = 0$, normalmente obtenemos una solución que contiene una sola constante arbitraria o parámetro $c$. "
   ]
  },
  {
   "cell_type": "markdown",
   "metadata": {
    "slideshow": {
     "slide_type": "slide"
    }
   },
   "source": [
    "Una solución que contiene una constante arbitraria representa un conjunto $G(x, y, c) = 0$ de soluciones llamado familia de soluciones uniparamétrica. "
   ]
  },
  {
   "cell_type": "markdown",
   "metadata": {
    "slideshow": {
     "slide_type": "slide"
    }
   },
   "source": [
    "Cuando resolvemos una ecuación diferencial de orden $n$, $F(x, y, y', . . . , y^{(n)})=0$, \n",
    "buscamos una familia de soluciones $n$-paramétrica $G(x, y, c_{1},c_{2}, \\ldots , c_{n})=0$. "
   ]
  },
  {
   "cell_type": "markdown",
   "metadata": {
    "slideshow": {
     "slide_type": "slide"
    }
   },
   "source": [
    "Esto significa que una sola ecuación diferencial puede tener un número infinito de soluciones correspondiendo a un número ilimitado de elecciones de los parámetros. "
   ]
  },
  {
   "cell_type": "markdown",
   "metadata": {
    "slideshow": {
     "slide_type": "slide"
    }
   },
   "source": [
    "Una solución de una ecuación diferencial que está libre de la elección de parámetros se llama solución particular. "
   ]
  },
  {
   "cell_type": "markdown",
   "metadata": {
    "slideshow": {
     "slide_type": "slide"
    }
   },
   "source": [
    "Por ejemplo, la familia uniparamétrica $y = cx - x\\cos x$ es una solución explícita de la ecuación lineal de primer orden $xy'- y = x^{2}\\sin x$ en el intervalo $(-\\infty,+\\infty)$ (Compruebe). "
   ]
  },
  {
   "cell_type": "code",
   "execution_count": 17,
   "metadata": {
    "slideshow": {
     "slide_type": "slide"
    }
   },
   "outputs": [
    {
     "data": {
      "image/png": "[encoded data removed]",
      "text/plain": [
       "<Figure size 432x288 with 1 Axes>"
      ]
     },
     "metadata": {
      "needs_background": "light"
     },
     "output_type": "display_data"
    }
   ],
   "source": [
    "import numpy as np \n",
    "import matplotlib.pyplot as plt \n",
    "\n",
    "C = [-2,-1, 0, 1, 2]\n",
    "\n",
    "X = np.linspace(-10,10,100)\n",
    "\n",
    "for c in C:\n",
    "    Y = [c*x- - x*np.cos(x) for x in X]\n",
    "    plt.plot(X,Y)\n",
    "\n",
    "plt.grid() "
   ]
  },
  {
   "cell_type": "markdown",
   "metadata": {
    "slideshow": {
     "slide_type": "slide"
    }
   },
   "source": [
    "La figura 1.1.3 que se obtuvo usando un paquete computacional de trazado de gráficas, muestra las gráficas de algunas de las soluciones en esta familia. "
   ]
  },
  {
   "cell_type": "markdown",
   "metadata": {
    "slideshow": {
     "slide_type": "slide"
    }
   },
   "source": [
    "La solución $y \u0004 \u0005x cos x$, la curva azul en la figura, es una solución particular correspondiente a $c \u0004 0$. "
   ]
  },
  {
   "cell_type": "markdown",
   "metadata": {
    "slideshow": {
     "slide_type": "slide"
    }
   },
   "source": [
    "En forma similar, en el intervalo $(\u0005\u0006, \u0006)$, $y \u0004 c1 e x \u0003 c2 xex$ es una familia de soluciones de dos parámetros de la ecuación lineal de segundo orden $y\u0002 \u0005 2y\u0001 \u0003 y \u0004 0$ del ejemplo 1 (Compruebe). "
   ]
  },
  {
   "cell_type": "markdown",
   "metadata": {
    "slideshow": {
     "slide_type": "slide"
    }
   },
   "source": [
    "Algunas soluciones particulares de la ecuación son la solución trivial $y \u0004 0 (c1 \u0004 c2 \u0004 0)$, y \u0004 xex (c1 \u0004 0,  c2 \u0004 1), y \u0004 5e x \u0005 2xex  (c1 \u0004 5, c2 \u0004 \u00052), etcétera."
   ]
  },
  {
   "cell_type": "markdown",
   "metadata": {
    "slideshow": {
     "slide_type": "slide"
    }
   },
   "source": [
    "## ED lineal de primer orden"
   ]
  },
  {
   "cell_type": "markdown",
   "metadata": {
    "slideshow": {
     "slide_type": "slide"
    }
   },
   "source": [
    "Para el caso en que la función $f$ depende linealmente de $y$, podemos escribir la ecuación $y'=f(x,y)$ como \n",
    "\n",
    "$$y' + p(x)y = g(x) $$\n"
   ]
  },
  {
   "cell_type": "markdown",
   "metadata": {
    "slideshow": {
     "slide_type": "slide"
    }
   },
   "source": [
    "supondremos que $p$ y $g$ son funciones continuas dadas definidas en un intervalo $[\\alpha, \\beta]$. "
   ]
  },
  {
   "cell_type": "markdown",
   "metadata": {
    "slideshow": {
     "slide_type": "slide"
    }
   },
   "source": [
    "## Ejemplo 1 Página 32\n",
    "Resolver la ecuación y determinar el comportamiento de las soluciones para valores grandes de $x$. \n",
    "También determinar la solución cuya gráfica contiene al punto $(0,2)$. \n",
    "$$ \\frac{dy}{dx} + \\frac{1}{2}y = \\frac{3}{2} $$\n"
   ]
  },
  {
   "cell_type": "markdown",
   "metadata": {
    "slideshow": {
     "slide_type": "slide"
    }
   },
   "source": [
    "### Solución: "
   ]
  },
  {
   "cell_type": "markdown",
   "metadata": {
    "slideshow": {
     "slide_type": "slide"
    }
   },
   "source": [
    "Suponiendo que $y \\neq 3$, entonces \n",
    "\n",
    "$$ \\frac{dy/dx}{y-3} = -\\frac{1}{2} $$\n"
   ]
  },
  {
   "cell_type": "markdown",
   "metadata": {
    "slideshow": {
     "slide_type": "slide"
    }
   },
   "source": [
    "Como el primer miembro de esta ecuación es la derivada de $\\ln |x-3|$, entonces \n",
    "\n",
    "$$ \\frac{d}{dx} \\ln|y-3| = -\\frac{1}{2} $$\n"
   ]
  },
  {
   "cell_type": "markdown",
   "metadata": {
    "slideshow": {
     "slide_type": "slide"
    }
   },
   "source": [
    "de esto se infiere que \n",
    "\n",
    "$$\\ln|y-3| = -\\frac{1}{2}x + C $$\n",
    "\n",
    "donde $C$ es una constante arbitraria de integración. \n"
   ]
  },
  {
   "cell_type": "markdown",
   "metadata": {
    "slideshow": {
     "slide_type": "slide"
    }
   },
   "source": [
    "Al tomar exponencial a ambos lados obtenemos \n",
    "\n",
    "$$ |y-3| = e^{C}e^{-x/2}, $$\n"
   ]
  },
  {
   "cell_type": "markdown",
   "metadata": {
    "slideshow": {
     "slide_type": "slide"
    }
   },
   "source": [
    "es decir, \n",
    "\n",
    "$$ y-3 = \\pm e^{C}e^{-x/2} $$\n"
   ]
  },
  {
   "cell_type": "markdown",
   "metadata": {
    "slideshow": {
     "slide_type": "slide"
    }
   },
   "source": [
    "y finalmente, \n",
    "\n",
    "$$ y = 3 + ce^{-x/2} $$\n",
    "\n",
    "donde $c = \\pm e^{C}$ también es una constante arbitraria diferente de cero. \n",
    "\n"
   ]
  },
  {
   "cell_type": "markdown",
   "metadata": {
    "slideshow": {
     "slide_type": "slide"
    }
   },
   "source": [
    "Observe que la solución constante $y = 3$ también esta contenda en la expresión anterior si se permite que $c = 0$. "
   ]
  },
  {
   "cell_type": "markdown",
   "metadata": {
    "slideshow": {
     "slide_type": "slide"
    }
   },
   "source": [
    "En la animación siguiente mostramos las gráficas de $y$ para varios valores de $c$. "
   ]
  },
  {
   "cell_type": "code",
   "execution_count": 2,
   "metadata": {
    "scrolled": true,
    "slideshow": {
     "slide_type": "slide"
    }
   },
   "outputs": [
    {
     "data": {
      "application/vnd.jupyter.widget-view+json": {
       "model_id": "e34e0fb33d4e48ff9488f13e0725ddf8",
       "version_major": 2,
       "version_minor": 0
      },
      "text/plain": [
       "interactive(children=(IntSlider(value=0, description='c', max=7, min=-7), Output()), _dom_classes=('widget-int…"
      ]
     },
     "metadata": {},
     "output_type": "display_data"
    },
    {
     "data": {
      "text/plain": [
       "<function __main__.f(c)>"
      ]
     },
     "execution_count": 2,
     "metadata": {},
     "output_type": "execute_result"
    }
   ],
   "source": [
    "import numpy as np \n",
    "import matplotlib.pyplot as plt \n",
    "from ipywidgets import interact\n",
    "\n",
    "def f(c):\n",
    "    x=np.linspace(-1,5)\n",
    "    y=3+c*np.exp(-x/2)\n",
    "    plt.plot(x,y,'b-',[0],[2],'ro')\n",
    "    plt.axis([-1,5,-10,16])\n",
    "    plt.grid(True) \n",
    "    plt.show() \n",
    "    \n",
    "interact(f, c=(-7,7))    "
   ]
  },
  {
   "cell_type": "markdown",
   "metadata": {
    "slideshow": {
     "slide_type": "slide"
    }
   },
   "source": [
    "## Ejemplo 2 de ecuaciones lineales "
   ]
  },
  {
   "cell_type": "markdown",
   "metadata": {
    "slideshow": {
     "slide_type": "slide"
    }
   },
   "source": []
  },
  {
   "cell_type": "code",
   "execution_count": null,
   "metadata": {},
   "outputs": [],
   "source": []
  },
  {
   "cell_type": "markdown",
   "metadata": {
    "slideshow": {
     "slide_type": "slide"
    }
   },
   "source": [
    "# Ecuaciones de Bernoulli"
   ]
  },
  {
   "cell_type": "markdown",
   "metadata": {
    "slideshow": {
     "slide_type": "slide"
    }
   },
   "source": [
    "Página 47 del Boyce DiPrima "
   ]
  },
  {
   "cell_type": "markdown",
   "metadata": {
    "slideshow": {
     "slide_type": "slide"
    }
   },
   "source": [
    "$$ y' + p(x)y = q(x)y^{n} $$"
   ]
  },
  {
   "cell_type": "markdown",
   "metadata": {
    "slideshow": {
     "slide_type": "slide"
    }
   },
   "source": [
    "Problemas 21 al 31 del Boyce DiPrima Tratan sobre estas ecuaciones "
   ]
  },
  {
   "cell_type": "markdown",
   "metadata": {
    "slideshow": {
     "slide_type": "slide"
    }
   },
   "source": [
    "## Ejercicio ilustrativo 1 para la ecuación de Bernoulli"
   ]
  },
  {
   "cell_type": "markdown",
   "metadata": {
    "slideshow": {
     "slide_type": "slide"
    }
   },
   "source": [
    "1. Resuelva la ecuación de Bernoulli cuando $n = 0$ y cuando $n = 1$.  \n",
    "2. Demuestre que si $n \\neq 0$, entonces la sustitución $v=y^{1-n}$ reduce la ecuación de Bernoulli a una ecuación lineal.\n",
    "3. Resuelva las siguientes cuatro ecuaciones de Bernoulli aplicando la sustitución $v=y^{1-n}$."
   ]
  },
  {
   "cell_type": "markdown",
   "metadata": {
    "slideshow": {
     "slide_type": "slide"
    }
   },
   "source": [
    "*  $x^{2}y'+2xy - y^{3} = 0$, para $x > 0$. (Página 47 del Boyce DiPrima) "
   ]
  },
  {
   "cell_type": "markdown",
   "metadata": {
    "slideshow": {
     "slide_type": "slide"
    }
   },
   "source": [
    "## Solución: "
   ]
  },
  {
   "cell_type": "markdown",
   "metadata": {
    "slideshow": {
     "slide_type": "slide"
    }
   },
   "source": [
    "Dividamos por $x^{2}$:"
   ]
  },
  {
   "cell_type": "markdown",
   "metadata": {
    "slideshow": {
     "slide_type": "slide"
    }
   },
   "source": [
    "$$ y' + \\frac{2}{x}y = \\frac{1}{x^{2}}y^{3} $$"
   ]
  },
  {
   "cell_type": "markdown",
   "metadata": {
    "slideshow": {
     "slide_type": "slide"
    }
   },
   "source": [
    "Compare con la forma estándar \n",
    "\n",
    "$$y'+p(x)y = q(x)y^{n}$$\n",
    "\n",
    "para identificar a $n$\n"
   ]
  },
  {
   "cell_type": "markdown",
   "metadata": {
    "slideshow": {
     "slide_type": "slide"
    }
   },
   "source": [
    "Entonces el cambio de variable que convierte la ecuación dada en una ecuación lineal es:\n",
    "\n",
    "$$ v=y^{1-n} = y^{1-3} = y^{-2} $$\n"
   ]
  },
  {
   "cell_type": "markdown",
   "metadata": {
    "slideshow": {
     "slide_type": "slide"
    }
   },
   "source": [
    "Despejemos a $y$ "
   ]
  },
  {
   "cell_type": "markdown",
   "metadata": {
    "slideshow": {
     "slide_type": "slide"
    }
   },
   "source": [
    "$$ y = v^{-1/2} $$"
   ]
  },
  {
   "cell_type": "markdown",
   "metadata": {
    "slideshow": {
     "slide_type": "slide"
    }
   },
   "source": [
    "Derivamos con respecto a $x$\n",
    "\n",
    "$$ y' = \\frac{dy}{dx} = -\\frac{1}{2}v^{-3/2}\\frac{dv}{dx} = -\\frac{1}{2}v^{-3/2} v'$$\n"
   ]
  },
  {
   "cell_type": "markdown",
   "metadata": {
    "slideshow": {
     "slide_type": "slide"
    }
   },
   "source": [
    "Sustituyamos $y'=-\\frac{1}{2}v^{-3/2} v'$ y $ y = v^{-1/2} $ en la ecuación estandarizada\n",
    "\n",
    "$$ y' + \\frac{2}{x}y = \\frac{1}{x^{2}}y^{3} $$"
   ]
  },
  {
   "cell_type": "markdown",
   "metadata": {
    "slideshow": {
     "slide_type": "slide"
    }
   },
   "source": [
    "$$ -\\frac{1}{2}v^{-3/2} v' + \\frac{2}{x}v^{-1/2} = \\frac{1}{x^{2}}v^{-3/2} $$"
   ]
  },
  {
   "cell_type": "markdown",
   "metadata": {
    "slideshow": {
     "slide_type": "slide"
    }
   },
   "source": [
    "## Verificación del ejercicio 28 con Sympy"
   ]
  },
  {
   "cell_type": "code",
   "execution_count": 5,
   "metadata": {
    "slideshow": {
     "slide_type": "slide"
    }
   },
   "outputs": [
    {
     "data": {
      "text/plain": [
       "[Eq(y(x), -sqrt(5)*sqrt(x/(C1*x**5 + 2))),\n",
       " Eq(y(x), sqrt(5)*sqrt(x/(C1*x**5 + 2)))]"
      ]
     },
     "execution_count": 5,
     "metadata": {},
     "output_type": "execute_result"
    }
   ],
   "source": [
    "from sympy import Function, dsolve, Eq, Derivative, sin, cos, diff\n",
    "from sympy.abc import x,y\n",
    "y = Function('y')(x)\n",
    "dsolve((x**2)*diff(y,x) + 2*x*y-y**3,y)   "
   ]
  },
  {
   "cell_type": "markdown",
   "metadata": {
    "slideshow": {
     "slide_type": "slide"
    }
   },
   "source": [
    "$$ y = \\pm \\sqrt{5}\\sqrt{\\frac{x}{c_{1}x^{5} + 2}}$$"
   ]
  },
  {
   "cell_type": "markdown",
   "metadata": {
    "slideshow": {
     "slide_type": "slide"
    }
   },
   "source": [
    "# Ecuaciones separables"
   ]
  },
  {
   "cell_type": "markdown",
   "metadata": {
    "slideshow": {
     "slide_type": "slide"
    }
   },
   "source": [
    "Sección 2.3, página 47 del Boyce DiPrima  "
   ]
  },
  {
   "cell_type": "markdown",
   "metadata": {
    "slideshow": {
     "slide_type": "slide"
    }
   },
   "source": [
    "Ecuaciones diferenciales de primer orden\n",
    "\n",
    "$$ \\frac{dy}{dx}=f(x,y). $$\n"
   ]
  },
  {
   "cell_type": "markdown",
   "metadata": {
    "slideshow": {
     "slide_type": "slide"
    }
   },
   "source": [
    "Existen ecuaciones que pueden ser no lineales, es decir, ecuaciones en las que $f$ depende de una manera no lineal de la variable dependiente $y$.  \n"
   ]
  },
  {
   "cell_type": "markdown",
   "metadata": {
    "slideshow": {
     "slide_type": "slide"
    }
   },
   "source": [
    "A menudo es conveniente escribir la ecuación \n",
    "\n",
    "$$ \\frac{dy}{dx} = f(x,y) $$\n",
    "\n",
    "en la forma \n",
    "\n",
    "$$ M(x,y) + N(x,y)\\frac{dy}{dx} = 0 $$\n"
   ]
  },
  {
   "cell_type": "markdown",
   "metadata": {
    "slideshow": {
     "slide_type": "slide"
    }
   },
   "source": [
    "Siempre es posible hacer lo anterior estableciendo $M(x,y) = -f(x,y)$ y $N(x,y) = 1$, pero pueden existir otras maneras. "
   ]
  },
  {
   "cell_type": "markdown",
   "metadata": {
    "slideshow": {
     "slide_type": "slide"
    }
   },
   "source": [
    "En el caso en el que $M$ sea solo función de $x$ y $N$ sea sólo función de $y$, entonces \n",
    "$$ M(x,y) + N(x,y)\\frac{dy}{dx} = 0 $$\n",
    "queda \n",
    "$$ M(x) + N(y)\\frac{dy}{dx} = 0 $$"
   ]
  },
  {
   "cell_type": "markdown",
   "metadata": {
    "slideshow": {
     "slide_type": "slide"
    }
   },
   "source": [
    "Se dice que una ecuación de este tipo es separable porque si se escribe en la forma diferencial \n",
    "\n",
    "$$M(x)dx = -N(y)dy$$\n",
    "\n",
    "entonces cada miembro de la ecuación depende solamente de una de las variables. "
   ]
  },
  {
   "cell_type": "markdown",
   "metadata": {
    "slideshow": {
     "slide_type": "slide"
    }
   },
   "source": [
    "## Ejemplo 1: Ecuaciones separables \n",
    "Página 48 del Boyce DiPrima "
   ]
  },
  {
   "cell_type": "markdown",
   "metadata": {
    "slideshow": {
     "slide_type": "slide"
    }
   },
   "source": [
    "Demostrar que la ecuación \n",
    "\n",
    "$$ \\frac{dy}{dx} = \\frac{x^{2}}{1-y^{2}} $$\n",
    "\n",
    "es separable, y luego, encontrar una ecuación para sus curvas integrales. "
   ]
  },
  {
   "cell_type": "markdown",
   "metadata": {
    "slideshow": {
     "slide_type": "slide"
    }
   },
   "source": [
    "### Solución:"
   ]
  },
  {
   "cell_type": "markdown",
   "metadata": {
    "slideshow": {
     "slide_type": "slide"
    }
   },
   "source": [
    "$$ (1-y^{2})\\frac{dy}{dx} = x^{2} $$"
   ]
  },
  {
   "cell_type": "markdown",
   "metadata": {
    "slideshow": {
     "slide_type": "slide"
    }
   },
   "source": [
    "$$ -x^{2} + (1-y^{2})\\frac{dy}{dx}=0  $$"
   ]
  },
  {
   "cell_type": "markdown",
   "metadata": {
    "slideshow": {
     "slide_type": "slide"
    }
   },
   "source": [
    "$$ \\frac{d}{dx}\\left(-\\frac{x^{3}}{3}\\right) + \\frac{d}{dx}\\left( y - \\frac{y^{3}}{3} \\right) = 0 $$"
   ]
  },
  {
   "cell_type": "markdown",
   "metadata": {
    "slideshow": {
     "slide_type": "slide"
    }
   },
   "source": [
    "$$ \\frac{d}{dx} \\left( -\\frac{x^{3}}{3} + y - \\frac{y^{3}}{3} \\right) = 0 $$"
   ]
  },
  {
   "cell_type": "markdown",
   "metadata": {
    "slideshow": {
     "slide_type": "slide"
    }
   },
   "source": [
    "$$-\\frac{x^{3}}{3} + y - \\frac{y^{3}}{3} = c$$\n",
    "\n",
    "donde $c$ es una constante arbiraria. "
   ]
  },
  {
   "cell_type": "markdown",
   "metadata": {
    "slideshow": {
     "slide_type": "slide"
    }
   },
   "source": [
    "La ecuación anterior es la ecuación para las curvas integrales de la ecuación diferencial dada:\n",
    "\n",
    "$$ \\frac{dy}{dx} = \\frac{x^{2}}{1-y^{2}} $$ \n"
   ]
  },
  {
   "cell_type": "markdown",
   "metadata": {
    "slideshow": {
     "slide_type": "slide"
    }
   },
   "source": [
    "### Trazado del campo de direcciones con matplotlib "
   ]
  },
  {
   "cell_type": "code",
   "execution_count": 2,
   "metadata": {
    "slideshow": {
     "slide_type": "slide"
    }
   },
   "outputs": [
    {
     "data": {
      "image/png": "[encoded data removed]",
      "text/plain": [
       "<Figure size 432x288 with 1 Axes>"
      ]
     },
     "metadata": {
      "needs_background": "light"
     },
     "output_type": "display_data"
    }
   ],
   "source": [
    "import numpy as np\n",
    "from matplotlib import pyplot as plt\n",
    "\n",
    "# Differential equation\n",
    "# diff = y'= x**2/(1-y**2) \n",
    "def diff(x,y):\n",
    "    return (x**2)/(1-y**2) \n",
    "\n",
    "x = np.linspace(-3,3,20)\n",
    "y = np.linspace(-3,3,20)  \n",
    "\n",
    "# use x,y\n",
    "for j in x:\n",
    "    for k in y:\n",
    "        slope = diff(j,k)\n",
    "        domain = np.linspace(j-0.03,j+0.03,2)\n",
    "        def fun(x1,y1):\n",
    "            z = slope*(domain-x1)+y1\n",
    "            return z\n",
    "        plt.plot(domain,fun(j,k))\n",
    "\n",
    "plt.title(r\"Campo de pendientes de $y'$\")\n",
    "plt.axis([-3,3,-3,3]) \n",
    "plt.grid(True)\n",
    "plt.show()"
   ]
  },
  {
   "cell_type": "markdown",
   "metadata": {
    "slideshow": {
     "slide_type": "slide"
    }
   },
   "source": [
    "# Ecuaciones exactas y factores integrantes "
   ]
  },
  {
   "cell_type": "markdown",
   "metadata": {
    "slideshow": {
     "slide_type": "slide"
    }
   },
   "source": [
    "Página 95"
   ]
  },
  {
   "cell_type": "markdown",
   "metadata": {
    "slideshow": {
     "slide_type": "slide"
    }
   },
   "source": [
    "Ejemplo 1 de la página 96 del Boyce DiPrima "
   ]
  },
  {
   "cell_type": "markdown",
   "metadata": {
    "slideshow": {
     "slide_type": "slide"
    }
   },
   "source": [
    "$$ 2x + y^{2} + 2xyy' = 0 $$"
   ]
  },
  {
   "cell_type": "markdown",
   "metadata": {
    "slideshow": {
     "slide_type": "slide"
    }
   },
   "source": [
    "Esta ecuación no es lineal ni separable. "
   ]
  },
  {
   "cell_type": "markdown",
   "metadata": {
    "slideshow": {
     "slide_type": "slide"
    }
   },
   "source": [
    "Observe que la función $\\psi(x,y) = x^{2} + xy^{2}$ tiene la propiedad que \n",
    "\n",
    "$$ 2x + y^{2} = \\frac{\\partial \\psi}{\\partial x}, \\quad 2xy = \\frac{\\partial \\psi}{\\partial y} $$\n"
   ]
  },
  {
   "cell_type": "markdown",
   "metadata": {
    "slideshow": {
     "slide_type": "slide"
    }
   },
   "source": [
    "Por lo tanto, la ecuación diferencial puede escribirse como:\n",
    "\n",
    "$$ \\frac{\\partial}{\\partial x} (x^{2} + xy^{2}) + \\frac{\\partial }{\\partial y} (x^{2} + xy^{2}) \\frac{dy}{dx} = 0 $$\n"
   ]
  },
  {
   "cell_type": "markdown",
   "metadata": {
    "slideshow": {
     "slide_type": "slide"
    }
   },
   "source": [
    "Si se supone que $y$ es una función de $x$ y se aplica regla de la cadena, entonces la ecuación anterior es equivalente a \n",
    "\n",
    "$$ \\frac{d}{dx}(x^{2} + xy^{2}) = 0 $$\n"
   ]
  },
  {
   "cell_type": "markdown",
   "metadata": {
    "slideshow": {
     "slide_type": "slide"
    }
   },
   "source": [
    "Por lo tanto, \n",
    "\n",
    "$$x^{2} + xy^{2} = c$$\n",
    "\n",
    "con $c$ una constante arbitraria, es la expresión implícita de la solución de la ecuación dada. \n"
   ]
  },
  {
   "cell_type": "markdown",
   "metadata": {
    "slideshow": {
     "slide_type": "slide"
    }
   },
   "source": [
    "## Deducción de la solución de una ecuación diferencial exacta"
   ]
  },
  {
   "cell_type": "markdown",
   "metadata": {
    "slideshow": {
     "slide_type": "slide"
    }
   },
   "source": [
    "$$M(x,y) + N(x,y)y' = 0$$"
   ]
  },
  {
   "cell_type": "markdown",
   "metadata": {
    "slideshow": {
     "slide_type": "slide"
    }
   },
   "source": [
    "Suponga que es posible identificar una función $\\psi(x,y)$ tal que \n",
    "\n",
    "$$ \\frac{\\partial \\psi}{\\partial x} (x,y) = M(x,y), \\quad \\frac{\\partial \\psi}{\\partial y}(x,y) = N(x,y) $$\n"
   ]
  },
  {
   "cell_type": "markdown",
   "metadata": {
    "slideshow": {
     "slide_type": "slide"
    }
   },
   "source": [
    "y tal que $\\psi(x,y) = c$ define implícitamente a $y = \\phi(x)$ como una función diferenciable de $x$. "
   ]
  },
  {
   "cell_type": "markdown",
   "metadata": {
    "slideshow": {
     "slide_type": "slide"
    }
   },
   "source": [
    "Entonces, \n",
    "\n",
    "$$ M(x,y) + N(x,y)y' = \\frac{\\partial \\psi}{\\partial x} + \\frac{\\partial \\psi}{\\partial y}\\frac{dy}{dx} = \\frac{d}{dx}\\psi(x,\\phi(x)) $$\n"
   ]
  },
  {
   "cell_type": "markdown",
   "metadata": {
    "slideshow": {
     "slide_type": "slide"
    }
   },
   "source": [
    "Y así, la ecuación diferencial\n",
    "\n",
    "$$M(x,y) + N(x,y)\\frac{dy}{dx} = 0$$\n",
    "\n",
    "se transforma \n",
    "\n",
    "$$\\frac{d}{dx}\\psi(x,\\phi(x)) = 0$$"
   ]
  },
  {
   "cell_type": "markdown",
   "metadata": {
    "slideshow": {
     "slide_type": "slide"
    }
   },
   "source": [
    "En esta caso se dice que \n",
    "\n",
    "$$M(x,y) + N(x,y)\\frac{dy}{dx} = 0$$\n",
    "\n",
    "es una ecuación diferencial exacta."
   ]
  },
  {
   "cell_type": "markdown",
   "metadata": {
    "slideshow": {
     "slide_type": "slide"
    }
   },
   "source": [
    "La solución de la ecuación \n",
    "\n",
    "$$M(x,y) + N(x,y)\\frac{dy}{dx} = 0$$\n",
    "\n",
    "queda dada implícitamente por \n",
    "\n",
    "$$\\psi(x,y) = c$$\n",
    "\n",
    "donde $c$ es una constante arbitraria. \n"
   ]
  },
  {
   "cell_type": "markdown",
   "metadata": {
    "slideshow": {
     "slide_type": "slide"
    }
   },
   "source": [
    "### Teorema 2.8.2 (Criterio para ecuaciones exactas) \n",
    "Página 97 del Boyce DiPrima "
   ]
  },
  {
   "cell_type": "markdown",
   "metadata": {
    "slideshow": {
     "slide_type": "slide"
    }
   },
   "source": [
    "Sean las funciones $M,N,M_{y}$ y $N_{x}$, en donde los subíndices denotan derivadas parciales, continuas en la región rectangular $R$: $\\alpha < x < \\beta$, $\\gamma < y < \\delta$, entonces \n",
    "\n",
    "$$ M(x,y) + N(x,y)y' = 0 $$\n",
    "\n",
    "es una ecuación diferencial exacta si y solo si \n",
    "\n",
    "$$ M_{y}(x,y) = N_{x}(x,y) $$\n",
    "\n",
    "en cada punto de $R$. Es decir, existe una función $\\psi$ que satisface \n",
    "\n",
    "$$\\frac{\\partial}{\\partial x}\\psi(x,y) = M(x,y), \\quad \\frac{\\partial \\psi}{\\partial y}\\psi(x,y) = N(x,y) $$\n",
    "si y solo si $M$ y $N$ satisfacel la ecuación $M_{y}(x,y) = N_{x}(x,y)$. "
   ]
  },
  {
   "cell_type": "markdown",
   "metadata": {
    "slideshow": {
     "slide_type": "slide"
    }
   },
   "source": [
    "## Ejemplo 2 \n",
    "Página 98 del Boyce DiPrima "
   ]
  },
  {
   "cell_type": "markdown",
   "metadata": {
    "slideshow": {
     "slide_type": "slide"
    }
   },
   "source": [
    "Resolver la ecuación diferencial: \n",
    "$$ (y\\cos x + 2xe^{y})+ (\\sin x + x^{2}e^{y} - 1)y' = 0 $$"
   ]
  },
  {
   "cell_type": "markdown",
   "metadata": {
    "slideshow": {
     "slide_type": "slide"
    }
   },
   "source": [
    "## Ecuaciones Exactas. Factores integrantes "
   ]
  },
  {
   "cell_type": "markdown",
   "metadata": {},
   "source": [
    "Página 99 del Boyce DiPrima "
   ]
  },
  {
   "cell_type": "markdown",
   "metadata": {},
   "source": [
    "Algunas veces es posible convertir una ecuación diferencial que no sea exacta en una exacta al multiplicarla por un factor integrante adecuado. "
   ]
  },
  {
   "cell_type": "markdown",
   "metadata": {
    "slideshow": {
     "slide_type": "slide"
    }
   },
   "source": [
    "multipliquemos por $\\mu$ a la ecuación:\n",
    "\n",
    "$$M(x,y)dx + N(x,y)dy = 0$$"
   ]
  },
  {
   "cell_type": "markdown",
   "metadata": {},
   "source": [
    "y luego trate de elegir $\\mu$ de modo que la ecuación resultante \n",
    "\n",
    "$$\\mu(x,y)M(x,y) + \\mu(x,y)N(x,y) = 0$$\n",
    "\n",
    "sea exacta. \n"
   ]
  },
  {
   "cell_type": "markdown",
   "metadata": {
    "slideshow": {
     "slide_type": "slide"
    }
   },
   "source": [
    "El criterio dado por el teorema 2.8.1 establece que la enterior ecuación es exacta si y solo si \n",
    "\n",
    "$$ (\\mu M)_{y} = (\\mu N)_{x} $$\n"
   ]
  },
  {
   "cell_type": "markdown",
   "metadata": {},
   "source": [
    "Dado que $M$ y $N$ son funciones dadas, entonces la ecuación anterior hace ver que el factor integrante $\\mu$ debe satisfacer la ecuación diferencial parcial de primer orden:\n",
    "\n",
    "$$M\\mu_{y} - N\\mu_{x} + (M_{y} - N_{x})\\mu = 0$$\n"
   ]
  },
  {
   "cell_type": "markdown",
   "metadata": {
    "slideshow": {
     "slide_type": "slide"
    }
   },
   "source": [
    "Si es posible encontrar $\\mu$ que satisfaga la ecuación anterior, entonces \n",
    "\n",
    "$$\\mu(x,y)M(x,y) + \\mu(x,y)N(x,y) = 0$$\n",
    "\n",
    "será exacta. \n"
   ]
  },
  {
   "cell_type": "markdown",
   "metadata": {
    "slideshow": {
     "slide_type": "slide"
    }
   },
   "source": [
    "## Ejemplo 4  (ED exactas. Factor integrante)\n",
    "Página 101 del Boyce DiPrima "
   ]
  },
  {
   "cell_type": "markdown",
   "metadata": {
    "slideshow": {
     "slide_type": "slide"
    }
   },
   "source": [
    "Determinar un factor integrante de la ecuación \n",
    "\n",
    "$$ (3xy + y^{2}) + (x^{2} + xy)y' = 0 $$\n"
   ]
  },
  {
   "cell_type": "markdown",
   "metadata": {
    "slideshow": {
     "slide_type": "slide"
    }
   },
   "source": [
    "# Ecuaciones homogéneas\n",
    "Página 103 del Boyce DiPrima "
   ]
  },
  {
   "cell_type": "markdown",
   "metadata": {
    "slideshow": {
     "slide_type": "slide"
    }
   },
   "source": [
    "$$ \\frac{dy}{dx} = f(x,y) $$"
   ]
  },
  {
   "cell_type": "markdown",
   "metadata": {},
   "source": [
    "$$\\frac{dy}{dx} = F(y/x)$$"
   ]
  },
  {
   "cell_type": "markdown",
   "metadata": {},
   "source": [
    "La forma de la ecuación homogénea sugiere que es posible simplificarla mediante la introducción de una nueva variable, que se denotará por $v$, con el fin de representar la razón de $y$ y $x$. "
   ]
  },
  {
   "cell_type": "markdown",
   "metadata": {
    "slideshow": {
     "slide_type": "slide"
    }
   },
   "source": [
    "Por tanto, $y = xv$. "
   ]
  },
  {
   "cell_type": "markdown",
   "metadata": {},
   "source": [
    "Y así la ecuación $dy/dx = F(y/x)$ se transforma en\n",
    "\n",
    "$$ \\frac{dy}{dx} = F(v) $$\n"
   ]
  },
  {
   "cell_type": "markdown",
   "metadata": {},
   "source": [
    "Si se toma a $y$ como una nueva variable dependiente (en sustitución de $y$), es necesario considerar a $v$ como una función de $x$ y reemplazar y reemplazar de la ecuación \n",
    "\n",
    "$$ \\frac{dy}{dx} = F(v) $$\n",
    "\n",
    "por una expresión conveniente en términos de $v$. \n"
   ]
  },
  {
   "cell_type": "markdown",
   "metadata": {
    "slideshow": {
     "slide_type": "slide"
    }
   },
   "source": [
    "Al derivar la ecuación $y = vx$ con respecto a $x$ obtenemos \n",
    "\n",
    "$$ \\frac{dy}{dx} = x\\frac{dv}{dx} + v, $$\n"
   ]
  },
  {
   "cell_type": "markdown",
   "metadata": {
    "slideshow": {
     "slide_type": "slide"
    }
   },
   "source": [
    "de donde \n",
    "\n",
    "$$ \\frac{dy}{dx} = F(v) $$\n",
    "\n",
    "queda \n",
    "\n",
    "$$x\\frac{dv}{dx} + v = F(v)$$\n",
    "\n",
    "la cual es una ecuación separable. \n"
   ]
  },
  {
   "cell_type": "markdown",
   "metadata": {},
   "source": [
    "Al separar las variables obtenemos \n",
    "\n",
    "$$ \\frac{dx}{x} = \\frac{dv}{F(v) - v} $$\n"
   ]
  },
  {
   "cell_type": "markdown",
   "metadata": {
    "slideshow": {
     "slide_type": "slide"
    }
   },
   "source": [
    "## Ejemplo de ecuación homogénea\n",
    "Página 105 del Boyce DiPrima "
   ]
  },
  {
   "cell_type": "markdown",
   "metadata": {
    "slideshow": {
     "slide_type": "slide"
    }
   },
   "source": [
    "Resolver la ecuación diferencial \n",
    "\n",
    "$$\\frac{dy}{dx} = \\frac{y^{2} + 2xy}{x^{2}} $$\n"
   ]
  },
  {
   "cell_type": "markdown",
   "metadata": {
    "slideshow": {
     "slide_type": "slide"
    }
   },
   "source": [
    "### Solución: "
   ]
  },
  {
   "cell_type": "markdown",
   "metadata": {
    "slideshow": {
     "slide_type": "slide"
    }
   },
   "source": [
    "Empecemos mostrando que la ecuación dada se puede llevar a la forma $y' = F(y/x)$. "
   ]
  },
  {
   "cell_type": "markdown",
   "metadata": {},
   "source": [
    "# Problemas propuestos para el primer parcial"
   ]
  },
  {
   "cell_type": "markdown",
   "metadata": {},
   "source": [
    "## Problemas sobre ecuaciones lineales "
   ]
  },
  {
   "cell_type": "markdown",
   "metadata": {
    "slideshow": {
     "slide_type": "slide"
    }
   },
   "source": [
    "Encuentre la solución general de la ecuación diferencial dada:\n",
    "* $y'+3y=x+e^{-2x}$  \n",
    "* "
   ]
  },
  {
   "cell_type": "markdown",
   "metadata": {},
   "source": [
    "## Problemas sobre ecuaciones diferenciales separables"
   ]
  },
  {
   "cell_type": "markdown",
   "metadata": {},
   "source": [
    "* Sección 2.3,   \n",
    "* Página 47 del Boyce DiPrima \n",
    "* Problemas sobre ED separables en la página 53"
   ]
  },
  {
   "cell_type": "markdown",
   "metadata": {
    "slideshow": {
     "slide_type": "slide"
    }
   },
   "source": [
    "* $xy'=(1+y^{2})^{1/2}$  \n",
    "* $ \\frac{dy}{dx} = \\frac{x^{2}}{1+y^{2}}$"
   ]
  },
  {
   "cell_type": "markdown",
   "metadata": {},
   "source": [
    "## Problemas sobre ecuaciones diferenciales homogéneas "
   ]
  },
  {
   "cell_type": "markdown",
   "metadata": {},
   "source": [
    "* Sección 2.9 Ecuaciones homogéneas  \n",
    "* Página 103 del Boyce DiPrima \n",
    "* Ejercicios en la página 106 "
   ]
  },
  {
   "cell_type": "markdown",
   "metadata": {},
   "source": [
    "Demuestre que las ecuaciones son homogéneas y encuentre su solución\n",
    "*  $ \\frac{dy}{dx} = \\frac{x+y}{x} $ \n",
    "*  $ $  \n",
    "* $ $"
   ]
  },
  {
   "cell_type": "markdown",
   "metadata": {},
   "source": [
    "## Problemas sobre ecuaciones diferenciales exactas "
   ]
  },
  {
   "cell_type": "markdown",
   "metadata": {},
   "source": [
    "* "
   ]
  },
  {
   "cell_type": "code",
   "execution_count": 7,
   "metadata": {},
   "outputs": [
    {
     "name": "stdout",
     "output_type": "stream",
     "text": [
      "Collecting package metadata (current_repodata.json): ...working... done\n",
      "Solving environment: ...working... done\n",
      "\n",
      "# All requested packages already installed.\n",
      "\n",
      "\n",
      "Note: you may need to restart the kernel to use updated packages.\n"
     ]
    }
   ],
   "source": [
    "conda install -c conda-forge/label/cf201901 jupyter_nbextensions_configurator"
   ]
  },
  {
   "cell_type": "markdown",
   "metadata": {},
   "source": [
    "# Verificaciones con sympy "
   ]
  },
  {
   "cell_type": "code",
   "execution_count": null,
   "metadata": {},
   "outputs": [],
   "source": [
    "import sympy as sp \n",
    "x=sp.Symbol('x')  \n",
    "f=sp.Function('f')(x)   \n",
    "DiffEq=Eq(f.diff(x)-2*x,0) \n",
    "dsolve(DiffEq,f) "
   ]
  },
  {
   "cell_type": "code",
   "execution_count": null,
   "metadata": {},
   "outputs": [],
   "source": []
  },
  {
   "cell_type": "markdown",
   "metadata": {},
   "source": [
    "# Ejemplo ilustrativo de solución de una ED lineal de primer orden "
   ]
  },
  {
   "cell_type": "markdown",
   "metadata": {},
   "source": [
    "Página 35"
   ]
  },
  {
   "cell_type": "markdown",
   "metadata": {},
   "source": [
    "Determinar la solución del problema con valor inicial: "
   ]
  },
  {
   "cell_type": "markdown",
   "metadata": {},
   "source": [
    "\\begin{align*}\n",
    "y' + 2y & = e^{-x} \\\\\n",
    "y(0)    & = 0.75 \n",
    "\\end{align*} "
   ]
  },
  {
   "cell_type": "markdown",
   "metadata": {},
   "source": [
    "$$y' + p(x)y = g(x) $$"
   ]
  },
  {
   "cell_type": "markdown",
   "metadata": {
    "slideshow": {
     "slide_type": "slide"
    }
   },
   "source": [
    "$p(x) = 2$"
   ]
  },
  {
   "cell_type": "markdown",
   "metadata": {
    "slideshow": {
     "slide_type": "slide"
    }
   },
   "source": [
    "$$\\mu(x) = e^{\\int p(x)dx}$$"
   ]
  },
  {
   "cell_type": "markdown",
   "metadata": {},
   "source": [
    "$$\\mu(x) = e^{2x}$$"
   ]
  },
  {
   "cell_type": "markdown",
   "metadata": {},
   "source": [
    "$$ y = \\frac{\\int \\mu(x)g(x)dx + C}{\\mu(x)} $$"
   ]
  },
  {
   "cell_type": "markdown",
   "metadata": {},
   "source": [
    "$$y = \\frac{\\int e^{2x}e^{-x}dx + C}{e^{2x}}$$"
   ]
  },
  {
   "cell_type": "markdown",
   "metadata": {},
   "source": [
    "$$ y = e^{-x} + Ce^{-2x} $$"
   ]
  },
  {
   "cell_type": "markdown",
   "metadata": {},
   "source": [
    "$$0.75 = e^{0} + Ce^{0}$$"
   ]
  },
  {
   "cell_type": "markdown",
   "metadata": {},
   "source": [
    "$$0.75 - 1 = C$$"
   ]
  },
  {
   "cell_type": "markdown",
   "metadata": {},
   "source": [
    "$$C = -\\frac{1}{4} $$"
   ]
  },
  {
   "cell_type": "markdown",
   "metadata": {},
   "source": [
    "$$y = e^{-1} - \\frac{e^{-2x}}{4}$$"
   ]
  },
  {
   "cell_type": "code",
   "execution_count": null,
   "metadata": {},
   "outputs": [],
   "source": [
    "from sympy.interactive import printing \n",
    "printing.init_printing(use_latex=True) \n",
    "from sympy import *\n",
    "import sympy as sp "
   ]
  },
  {
   "cell_type": "code",
   "execution_count": null,
   "metadata": {},
   "outputs": [],
   "source": [
    "x=sp.Symbol('x')  "
   ]
  },
  {
   "cell_type": "code",
   "execution_count": null,
   "metadata": {},
   "outputs": [],
   "source": [
    "f=sp.Function('f')(x)   "
   ]
  },
  {
   "cell_type": "code",
   "execution_count": null,
   "metadata": {},
   "outputs": [],
   "source": [
    "DiffEq=Eq(f.diff(x)+2*f-exp(-x),0) "
   ]
  },
  {
   "cell_type": "code",
   "execution_count": null,
   "metadata": {
    "slideshow": {
     "slide_type": "slide"
    }
   },
   "outputs": [],
   "source": [
    "dsolve(DiffEq,f) "
   ]
  },
  {
   "cell_type": "code",
   "execution_count": null,
   "metadata": {
    "scrolled": true,
    "slideshow": {
     "slide_type": "slide"
    }
   },
   "outputs": [],
   "source": [
    "import numpy as np \n",
    "import matplotlib.pyplot as plt \n",
    "import ipywidgets as widgets \n",
    "@widgets.interact(C=(-3,3))\n",
    "def graficar(C):\n",
    "    X=np.linspace(-2,4)\n",
    "    y = [(C/4 + np.exp(b))*np.exp(-2*b) for b in X] \n",
    "    plt.plot(X,y) \n",
    "    plt.plot([0],[0.75],'ro') \n",
    "    plt.axis([-2,4,-2,3]) \n",
    "    plt.grid() "
   ]
  },
  {
   "cell_type": "markdown",
   "metadata": {
    "slideshow": {
     "slide_type": "slide"
    }
   },
   "source": [
    "# Ejemplo ilustrativo 2 EDO lineales de primer orden"
   ]
  },
  {
   "cell_type": "markdown",
   "metadata": {
    "slideshow": {
     "slide_type": "slide"
    }
   },
   "source": [
    "Página 42 del Boyce Di Prima "
   ]
  },
  {
   "cell_type": "markdown",
   "metadata": {
    "slideshow": {
     "slide_type": "slide"
    }
   },
   "source": [
    "Resolver el problema con valor inicial \n",
    "\n",
    "\\begin{align*}\n",
    "xy' + 2y & = 4x^{2} \\\\\n",
    "y(1) & = 2\n",
    "\\end{align*}"
   ]
  },
  {
   "cell_type": "markdown",
   "metadata": {},
   "source": [
    "# Ejercicios propuestos"
   ]
  },
  {
   "cell_type": "markdown",
   "metadata": {
    "slideshow": {
     "slide_type": "slide"
    }
   },
   "source": [
    "Resuelva la ecuación de Bernoulli:\n",
    "\n",
    "*  $y'=ry-ky^{2}$, $r>0$ y $k > 0$. Esta ecuación es importante en la dinámica de poblaciones   \n",
    "   y se analiza con detalle en la sección 2.6 del Boyce DiPrima. \n",
    "*  \n"
   ]
  },
  {
   "cell_type": "markdown",
   "metadata": {
    "slideshow": {
     "slide_type": "slide"
    }
   },
   "source": [
    "# Ejercicios propuestos"
   ]
  },
  {
   "cell_type": "markdown",
   "metadata": {
    "slideshow": {
     "slide_type": "slide"
    }
   },
   "source": [
    "1. Página 26 de Zill Determinar el orden de una ecuación diferencial y determinar si es lineal o no\n",
    "2. establezca si la ecuación diferencial de primer orden dada es lineal en la variable dependiente comparándola con la ecuación:\n",
    "\n",
    "$$ a_{1}(x)\\frac{dy}{dx} + a_{0}(x)y = g(x) $$\n"
   ]
  },
  {
   "cell_type": "code",
   "execution_count": null,
   "metadata": {},
   "outputs": [],
   "source": []
  }
 ],
 "metadata": {
  "celltoolbar": "Slideshow",
  "hide_input": false,
  "kernelspec": {
   "display_name": "Python 3 (ipykernel)",
   "language": "python",
   "name": "python3"
  },
  "language_info": {
   "codemirror_mode": {
    "name": "ipython",
    "version": 3
   },
   "file_extension": ".py",
   "mimetype": "text/x-python",
   "name": "python",
   "nbconvert_exporter": "python",
   "pygments_lexer": "ipython3",
   "version": "3.9.7"
  },
  "latex_envs": {
   "LaTeX_envs_menu_present": true,
   "autoclose": false,
   "autocomplete": false,
   "bibliofile": "biblio.bib",
   "cite_by": "apalike",
   "current_citInitial": 1,
   "eqLabelWithNumbers": true,
   "eqNumInitial": 1,
   "hotkeys": {
    "equation": "Ctrl-E",
    "itemize": "Ctrl-I"
   },
   "labels_anchors": false,
   "latex_user_defs": false,
   "report_style_numbering": false,
   "user_envs_cfg": false
  },
  "nbTranslate": {
   "displayLangs": [
    "*"
   ],
   "hotkey": "alt-t",
   "langInMainMenu": true,
   "sourceLang": "en",
   "targetLang": "fr",
   "useGoogleTranslate": true
  },
  "rise": {
   "enable_chalkboard": true,
   "theme": "sky",
   "transition": "zoom"
  }
 },
 "nbformat": 4,
 "nbformat_minor": 2
}
