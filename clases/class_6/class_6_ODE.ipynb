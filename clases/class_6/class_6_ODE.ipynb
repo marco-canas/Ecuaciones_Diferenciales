{
 "cells": [
  {
   "cell_type": "markdown",
   "metadata": {
    "slideshow": {
     "slide_type": "slide"
    }
   },
   "source": [
    "<table align=\"left\">\n",
    "  <td>\n",
    "    <a href=\"https://colab.research.google.com/github/marco-canas/innovaciones/blob/main/ref/geron/math_linear_algebra/linear_algebra.ipynb\" target=\"_parent\"><img src=\"https://colab.research.google.com/assets/colab-badge.svg\" alt=\"Open In Colab\"/></a>\n",
    "  </td>\n",
    "  <td>\n",
    "    <a target=\"_blank\" href=\"https://kaggle.com/kernels/welcome?src=https://github.com/marco-canas/innovaciones/blob/main/ref/geron/math_linear_algebra/linear_algebra.ipynb\"><img src=\"https://kaggle.com/static/images/open-in-kaggle.svg\" /></a>\n",
    "  </td>\n",
    "</table>"
   ]
  },
  {
   "cell_type": "markdown",
   "metadata": {
    "slideshow": {
     "slide_type": "slide"
    }
   },
   "source": [
    "## [Video de apoyo]()"
   ]
  },
  {
   "cell_type": "markdown",
   "metadata": {
    "slideshow": {
     "slide_type": "slide"
    }
   },
   "source": [
    "# 3.2 Soluciones fundamentales de las ecuaciones lineales homogéneas"
   ]
  },
  {
   "cell_type": "markdown",
   "metadata": {
    "slideshow": {
     "slide_type": "slide"
    }
   },
   "source": [
    "En la sección anterior se mostró cómo resolver algunas ecuaciones diferenciales de la forma \n",
    "\n",
    "$$ ay'' + by' + cy = 0, $$\n",
    "\n",
    "en donde $a,b$ y $c$ son constantes. "
   ]
  },
  {
   "cell_type": "markdown",
   "metadata": {
    "slideshow": {
     "slide_type": "slide"
    }
   },
   "source": [
    "trabajaremos con esos resultados para dar una imagen más clara de la estructura de las soluciones de todas las ecuaciones lineales homogéneas de segundo orden. "
   ]
  },
  {
   "cell_type": "markdown",
   "metadata": {
    "slideshow": {
     "slide_type": "slide"
    }
   },
   "source": [
    "A su vez, este conocimiento será útil para hallar las soluciones de otros problemas que se encontrarán posteriormente. "
   ]
  },
  {
   "cell_type": "markdown",
   "metadata": {
    "slideshow": {
     "slide_type": "slide"
    }
   },
   "source": [
    "## Notación de operador diferencial"
   ]
  },
  {
   "cell_type": "markdown",
   "metadata": {
    "slideshow": {
     "slide_type": "slide"
    }
   },
   "source": [
    "En el desarrollo de la teoría de las ecuaciones diferenciales lineales, ayuda introducir la notación de operador diferencial.  "
   ]
  },
  {
   "cell_type": "markdown",
   "metadata": {
    "slideshow": {
     "slide_type": "slide"
    }
   },
   "source": [
    "Sean $p$ y $q$ funciones continuas sobre el intervalo abierto $I$, es decir, continuas en $\\alpha < x < \\beta$. "
   ]
  },
  {
   "cell_type": "markdown",
   "metadata": {
    "slideshow": {
     "slide_type": "slide"
    }
   },
   "source": [
    "Se incluyen los casos $\\alpha = -\\infty$ o $\\beta = \\infty$ o los dos. "
   ]
  },
  {
   "cell_type": "markdown",
   "metadata": {
    "slideshow": {
     "slide_type": "slide"
    }
   },
   "source": [
    "Entonces, para cualquier función $\\phi$, que sea dos veces diferenciable sobre $I$, se define el operador diferencial $L$ por la ecuación:\n",
    "\n",
    "$$L[\\phi] = \\phi'' + p\\phi' + q\\phi $$\n"
   ]
  },
  {
   "cell_type": "markdown",
   "metadata": {
    "slideshow": {
     "slide_type": "slide"
    }
   },
   "source": [
    "Observe que $L[\\phi]$ es una función sobre $I$. "
   ]
  },
  {
   "cell_type": "markdown",
   "metadata": {
    "slideshow": {
     "slide_type": "slide"
    }
   },
   "source": [
    "El valor de $L[\\phi]$ en el punto $x$ es \n",
    "\n",
    "$$ L[\\phi](x) = \\phi''(x) + p(x)\\phi'(x) + q(x)\\phi(x) $$\n"
   ]
  },
  {
   "cell_type": "markdown",
   "metadata": {
    "slideshow": {
     "slide_type": "slide"
    }
   },
   "source": [
    "Por ejemplo, si $p(x) = x^{2}$ y $q(x) = 1+x$ y $\\phi(x) = \\sin(3x)$, entonces\n",
    "\n",
    "\\begin{align*}\n",
    "L[\\phi](x) & = (\\sin 3x)'' + x^{2}(\\sin 3x)' + (1+x)\\sin 3x \\\\\n",
    "           & = -9\\sin 3x + 3x^{2}\\sin 3x + (1+x)\\sin 3x\n",
    "\\end{align*}\n"
   ]
  },
  {
   "cell_type": "markdown",
   "metadata": {
    "slideshow": {
     "slide_type": "slide"
    }
   },
   "source": [
    "El operador suele escribirse como $L = D^{2} + pD+q$, en donde $D$ es operador derivada. "
   ]
  },
  {
   "cell_type": "markdown",
   "metadata": {
    "slideshow": {
     "slide_type": "slide"
    }
   },
   "source": [
    "En esta sección se estudia la ecuación lineal homogénea de segundo orden \n",
    "\n",
    "$$L[\\phi](x) = 0 $$\n"
   ]
  },
  {
   "cell_type": "markdown",
   "metadata": {
    "slideshow": {
     "slide_type": "slide"
    }
   },
   "source": [
    "Dado que se acostumbra usar el símbolo $y$ para denotar $\\phi(x)$, por lo general esta ecuación se escribirá en la forma\n",
    "\n",
    "$$ L[y] = y'' + p(x)y' + q(x)y = 0 $$\n"
   ]
  },
  {
   "cell_type": "markdown",
   "metadata": {
    "slideshow": {
     "slide_type": "slide"
    }
   },
   "source": [
    "# Problema con condiciones iniciales (PVI)"
   ]
  },
  {
   "cell_type": "markdown",
   "metadata": {
    "slideshow": {
     "slide_type": "slide"
    }
   },
   "source": [
    "A la ecuación $ L[y] = y'' + p(x)y' + q(x)y = 0 $ se le asocia un conjunto de condiciones iniciales \n",
    "\n",
    "$$ y(x_{0}) = y_{0}, \\quad \\quad y'(x_{0}) = y'_{0} $$\n",
    "\n",
    "en donde $x_{0}$ es cualquier punto en el intervalo $I$, y $y_{0}$ y $y'_{0}$ son números reales dados. "
   ]
  },
  {
   "cell_type": "markdown",
   "metadata": {
    "slideshow": {
     "slide_type": "slide"
    }
   },
   "source": [
    "El resultado teórico fundamental para los problemas con valor inicial de las ecuaciones lineales de segundo orden se enuncia en el siguiente teorema, que es el análogo del teorema 2.2.1 para las ecuaciones lineales de primer orden.  "
   ]
  },
  {
   "cell_type": "markdown",
   "metadata": {
    "slideshow": {
     "slide_type": "slide"
    }
   },
   "source": [
    "Este resultado se aplica con igual propiedad a las ecuaciones no homogéneas, por lo que el resultado se enuncia en esa forma. "
   ]
  },
  {
   "cell_type": "markdown",
   "metadata": {
    "slideshow": {
     "slide_type": "slide"
    }
   },
   "source": [
    "## **Teorema 3.2.1**"
   ]
  },
  {
   "cell_type": "markdown",
   "metadata": {
    "slideshow": {
     "slide_type": "slide"
    }
   },
   "source": [
    "Página 145 del Boyce DiPrima"
   ]
  },
  {
   "cell_type": "markdown",
   "metadata": {
    "slideshow": {
     "slide_type": "slide"
    }
   },
   "source": [
    "Considérese el problema con valor inicial \n",
    "\n",
    "$$ y'' + p(x)y' + q(x)y = g(x), \\quad \\quad y(x_{0}) = y_{0}, \\quad y'(x_{0}) = y'_{0} $$\n",
    "\n",
    "en donde $p,q$ y $g$ son continuas sobre un intervalo abierto $I$. \n",
    "Entonces existe exactamente una solución $y = \\phi(x)$ de este problema y la solución existe en todo el intervalo $I$.  "
   ]
  },
  {
   "cell_type": "markdown",
   "metadata": {
    "slideshow": {
     "slide_type": "slide"
    }
   },
   "source": [
    "Se hace hincapié en que el teorema afirma tres cosas: "
   ]
  },
  {
   "cell_type": "markdown",
   "metadata": {
    "slideshow": {
     "slide_type": "slide"
    }
   },
   "source": [
    "1. El problema con valor inicial *tiene* una solución; en otras palabras *existe* una solución. \n",
    "2. El problema con valor inicial tiene *una* sola solución, es decir, la solución es *única*.\n",
    "3. La solución es una función por lo menos dos veces diferenciable *en todo el intervalo $I$* en  \n",
    "   donde los coeficientes son continuos. "
   ]
  },
  {
   "cell_type": "markdown",
   "metadata": {
    "slideshow": {
     "slide_type": "slide"
    }
   },
   "source": [
    "Para algunos problemas, es fácil probar algunas de estas afirmaciones. "
   ]
  },
  {
   "cell_type": "markdown",
   "metadata": {
    "slideshow": {
     "slide_type": "slide"
    }
   },
   "source": [
    "## Ejemplo"
   ]
  },
  {
   "cell_type": "markdown",
   "metadata": {
    "slideshow": {
     "slide_type": "slide"
    }
   },
   "source": [
    "En la sección 3.1, se encontró que el problema con valor inicial \n",
    "\n",
    "$$ y'' - y = 0, \\quad \\quad y(0) = 2, \\quad y'(0) = -1,  $$\n",
    "\n",
    "tiene una solución \n",
    "\n",
    "$$ y = \\frac{1}{2}e^{x} + \\frac{3}{2}e^{-x} $$\n"
   ]
  },
  {
   "cell_type": "markdown",
   "metadata": {
    "slideshow": {
     "slide_type": "slide"
    }
   },
   "source": [
    "El hecho de que se encuentra una solución evidentemente establece que existe una solución para este problema con valor inicial.  "
   ]
  },
  {
   "cell_type": "markdown",
   "metadata": {
    "slideshow": {
     "slide_type": "slide"
    }
   },
   "source": [
    "De manera semejante, la solución $ y = \\frac{1}{2}e^{x} + \\frac{3}{2}e^{-x}$ es dos veces diferenciable, de hecho lo es cualquier número de veces, en todo el intervalo $(-\\infty,\\infty)$ en donde los coeficientes de la ecuación diferencial son continuos.  "
   ]
  },
  {
   "cell_type": "markdown",
   "metadata": {
    "slideshow": {
     "slide_type": "slide"
    }
   },
   "source": [
    "Por otra parte, no es obvio, y es más difícil demostrar, que el problema con valor inicial \n",
    "$$ y'' - y = 0, \\quad \\quad y(0) = 2, \\quad y'(0) = -1,  $$\n",
    "no tiene otras soluciones que no sean la dada por la ecuación \n",
    "\n",
    "$$ y = \\frac{1}{2}e^{x} + \\frac{3}{2}e^{-x} $$\n"
   ]
  },
  {
   "cell_type": "markdown",
   "metadata": {
    "slideshow": {
     "slide_type": "slide"
    }
   },
   "source": [
    "Sin embargo, el teorema $3.2.1$ afirma que esta solución es única, de modo que $$ y = \\frac{1}{2}e^{x} + \\frac{3}{2}e^{-x} $$ es de hecho, la única solución del problema con valor inicial \n",
    "$$ y'' - y = 0, \\quad \\quad y(0) = 2, \\quad y'(0) = -1,  $$"
   ]
  },
  {
   "cell_type": "markdown",
   "metadata": {
    "slideshow": {
     "slide_type": "slide"
    }
   },
   "source": [
    "Para el problema más general \n",
    "\n",
    "$$ y'' + p(x)y' + q(x)y = g(x), \\quad \\quad y(x_{0}) = y_{0}, \\quad y'(x_{0}) = y'_{0} $$\n",
    "\n",
    "por lo común, es posible escribir una fórmula simple para la solución. "
   ]
  },
  {
   "cell_type": "markdown",
   "metadata": {
    "slideshow": {
     "slide_type": "slide"
    }
   },
   "source": [
    "Por lo tanto, todas las partes del teorema deben probarse por métodos generales que no entrañen el conocimiento de la solución en términos de funciones elementales. "
   ]
  },
  {
   "cell_type": "markdown",
   "metadata": {
    "slideshow": {
     "slide_type": "slide"
    }
   },
   "source": [
    "Esta es una diferencia importante entre las ecuaciones lineales de primer orden y las de segundo. "
   ]
  },
  {
   "cell_type": "markdown",
   "metadata": {
    "slideshow": {
     "slide_type": "slide"
    }
   },
   "source": [
    "La demostración del teorema 3.2.1 es bastante difícil, por lo que no se abordará aquí. "
   ]
  },
  {
   "cell_type": "markdown",
   "metadata": {
    "slideshow": {
     "slide_type": "slide"
    }
   },
   "source": [
    "Sin embargo se aceptará este teorema como verdadero y se aplicará siempre que sea necesario. "
   ]
  },
  {
   "cell_type": "markdown",
   "metadata": {
    "slideshow": {
     "slide_type": "slide"
    }
   },
   "source": [
    "## Ejemplo 1\n",
    "Página 146 "
   ]
  },
  {
   "cell_type": "markdown",
   "metadata": {
    "slideshow": {
     "slide_type": "slide"
    }
   },
   "source": [
    "Encontrar el intervalo más largo en el que se tiene la certeza de que existe la solución del problema con valor inicial \n",
    "\n",
    "$$ (x^{2} - 3x)y'' + xy' -(x+3)y = 0, \\quad \\quad y(1) = 2, \\quad y'(1) = 1 $$\n"
   ]
  },
  {
   "cell_type": "markdown",
   "metadata": {
    "slideshow": {
     "slide_type": "slide"
    }
   },
   "source": [
    "Si la ecuación diferencial se escribe en la forma de la ecuación \n",
    "\n",
    "$$ y'' + p(x)y' + q(x)y = g(x), \\quad \\quad y(x_{0}) = y_{0}, \\quad y'(x_{0}) = y'_{0} $$\n",
    "\n",
    "entonces \n",
    "\n",
    "$$p(x) = \\frac{1}{x-3}, \\quad \\quad q(x) = -\\frac{x+3}{x(x-3)} \\quad \\text{y} \\quad g(x) = 0  $$\n"
   ]
  },
  {
   "cell_type": "markdown",
   "metadata": {
    "slideshow": {
     "slide_type": "slide"
    }
   },
   "source": [
    "Los únicos puntos de discontinuidad de los coeficientes son $0$ y $3$. "
   ]
  },
  {
   "cell_type": "markdown",
   "metadata": {
    "slideshow": {
     "slide_type": "slide"
    }
   },
   "source": [
    "Por consiguiente, el intervalo más largo que contiene el punto inicial $x=1$, en el que todos los coeficientes son continuos es $0 < x < 3$. "
   ]
  },
  {
   "cell_type": "markdown",
   "metadata": {
    "slideshow": {
     "slide_type": "slide"
    }
   },
   "source": [
    "Por tanto, este es el intervalo más largo para el cual el teorema 3.2.1 garantiza la existencia de solución. "
   ]
  },
  {
   "cell_type": "markdown",
   "metadata": {
    "slideshow": {
     "slide_type": "slide"
    }
   },
   "source": [
    "## Ejemplo"
   ]
  },
  {
   "cell_type": "markdown",
   "metadata": {
    "slideshow": {
     "slide_type": "slide"
    }
   },
   "source": [
    "Hallar la solución única del problema con valor inicial \n",
    "\n",
    "$$ y'' + p(x)y' + q(x)y = 0, \\quad \\quad y(x_{0}) = 0, \\quad y'(x_{0}) = 0 $$\n",
    "\n",
    "en donde $p$ y $q$ son continuas en un intervalo abierto $I$ que contiene a $x_{0}$. "
   ]
  },
  {
   "cell_type": "markdown",
   "metadata": {
    "slideshow": {
     "slide_type": "slide"
    }
   },
   "source": [
    "La función $y = \\phi(x) = 0$ para toda $x$ en $I$, evidentemente satisface la ecuación diferencial y las condiciones iniciales. "
   ]
  },
  {
   "cell_type": "markdown",
   "metadata": {
    "slideshow": {
     "slide_type": "slide"
    }
   },
   "source": [
    "Por el teorema 3.2.1 es la única solución del problema dado. "
   ]
  },
  {
   "cell_type": "code",
   "execution_count": null,
   "metadata": {
    "slideshow": {
     "slide_type": "slide"
    }
   },
   "outputs": [],
   "source": []
  },
  {
   "cell_type": "markdown",
   "metadata": {
    "slideshow": {
     "slide_type": "slide"
    }
   },
   "source": [
    "# Principio de superposición "
   ]
  },
  {
   "cell_type": "markdown",
   "metadata": {
    "slideshow": {
     "slide_type": "slide"
    }
   },
   "source": [
    "Supóngase ahora que $y_{1}$ y $y_{2}$ son dos soluciones de la ecuación \n",
    "\n",
    "$$ L[y] = y'' + p(x)y' + q(x)y = 0, $$\n",
    "\n",
    "en otras palabras, \n",
    "\n",
    "$$L[y_{1}] = y_{1}'' + p(x)y_{1}' + q(x)y_{1} = 0, $$\n",
    "\n",
    "y de manera semejante para $y_{2}$. \n"
   ]
  },
  {
   "cell_type": "markdown",
   "metadata": {
    "slideshow": {
     "slide_type": "slide"
    }
   },
   "source": [
    "Entonces, así como en los ejemplos de la sección 3.1, es posible generar más soluciones mediante la formación de combinaciones lineales de $y_{1}$ y $y_{2}$. "
   ]
  },
  {
   "cell_type": "markdown",
   "metadata": {
    "slideshow": {
     "slide_type": "slide"
    }
   },
   "source": [
    "Se enunciará este resultado como un teorema. "
   ]
  },
  {
   "cell_type": "markdown",
   "metadata": {
    "slideshow": {
     "slide_type": "slide"
    }
   },
   "source": [
    "## **Teorema 3.2.2** **Principio de superposición** "
   ]
  },
  {
   "cell_type": "markdown",
   "metadata": {
    "slideshow": {
     "slide_type": "slide"
    }
   },
   "source": [
    "Si $y_{1}$ y $y_{2}$ son dos soluciones de la ecuación diferencial \n",
    "\n",
    "$$ L[y] = y'' + p(x)y' + q(x)y = 0, $$\n",
    "\n",
    "entonces la combinación lineal $c_{1}y_{1} + c_{2}y_{2}$ también es una solución para cualesquiera valores de las constantes $c_{1}$ y $c_{2}$. \n"
   ]
  },
  {
   "cell_type": "markdown",
   "metadata": {
    "slideshow": {
     "slide_type": "slide"
    }
   },
   "source": [
    "## Demostración "
   ]
  },
  {
   "cell_type": "markdown",
   "metadata": {
    "slideshow": {
     "slide_type": "slide"
    }
   },
   "source": [
    "Para demostrar el teorema 3.2.2 solamente es necesario sustituir $y$ por \n",
    "\n",
    "$$ y = c_{1}y_{1} + c_{2}y_{2} $$\n",
    "\n",
    "en \n",
    "\n",
    "$$ L[y] = y'' + p(x)y' + q(x)y = 0, $$\n"
   ]
  },
  {
   "cell_type": "markdown",
   "metadata": {
    "slideshow": {
     "slide_type": "slide"
    }
   },
   "source": [
    "El resultado es \n",
    "\n",
    "\\begin{align*}\n",
    "L[ c_{1}y_{1} + c_{2}y_{2}] & = [c_{1}y_{1} + c_{2}y_{2}]'' + p(x)[c_{1}y_{1} + c_{2}y_{2}]' + q(x)[ c_{1}y_{1} + c_{2}y_{2}] \\\\\n",
    "& = c_{1}y_{1}'' + c_{1}py_{1}' + c_{1}qy_{1} + c_{2}y_{2}'' + c_{2}py_{2}' + c_{2}qy_{2} \\\\\n",
    "& = c_{1}[y_{1}'' + py_{1}' + qy_{1}] + c_{2}[y_{1}'' + py_{1}' + qy_{1}] \\\\\n",
    "& = c_{1}L[y_{1}] + c_{2}L[y_{2}]\n",
    "\\end{align*}\n"
   ]
  },
  {
   "cell_type": "markdown",
   "metadata": {
    "slideshow": {
     "slide_type": "slide"
    }
   },
   "source": [
    "Dado que $L[y_{1}] = 0$ y $L[y_{2}] = 0$, se deduce que también $L[c_{1}y_{1} + c_{2}y_{2}] = 0$. "
   ]
  },
  {
   "cell_type": "markdown",
   "metadata": {
    "slideshow": {
     "slide_type": "slide"
    }
   },
   "source": [
    "Por lo tanto, sin importar los valores de $c_{1}$ y $c_{2}$, en  \n",
    "\n",
    "$$y = c_{1}y_{1} + c_{2}y_{2} $$\n",
    "\n",
    "se satisface la ecuación diferencial \n",
    "\n",
    "$$ L[y] = y'' + p(x)y' + q(x)y = 0, $$\n",
    "\n",
    "y así se completa la demostración del teorema 3.2.2\n"
   ]
  },
  {
   "cell_type": "markdown",
   "metadata": {
    "slideshow": {
     "slide_type": "slide"
    }
   },
   "source": [
    "## Caso especial del teorema 3.2.2 \n",
    "Página 147 "
   ]
  },
  {
   "cell_type": "markdown",
   "metadata": {
    "slideshow": {
     "slide_type": "slide"
    }
   },
   "source": [
    "Se tiene una caso especial del teorema 3.2.2 si $c_{1}$ o $c_{2}$ es cero. "
   ]
  },
  {
   "cell_type": "markdown",
   "metadata": {
    "slideshow": {
     "slide_type": "slide"
    }
   },
   "source": [
    "Entonces se concluye que cualquier múltiplo de la solución de la ecuación \n",
    "\n",
    "$$ L[y] = y'' + p(x)y' + q(x)y = 0, $$\n",
    "\n",
    "también es una solución. \n"
   ]
  },
  {
   "cell_type": "markdown",
   "metadata": {
    "slideshow": {
     "slide_type": "slide"
    }
   },
   "source": [
    "## Determinación de las constantes $c_{1}$ y $c_{2}$ de modo que se satisfagan las condiciones iniciales "
   ]
  },
  {
   "cell_type": "markdown",
   "metadata": {
    "slideshow": {
     "slide_type": "slide"
    }
   },
   "source": [
    "Ahora se regresará a la cuestión de si pueden elegirse las constantes $c_{1}$ y $c_{2}$ de modo que se satisfagan las condiciones iniciales \n",
    "\n",
    "$$y(x_{0}) = y_{0}, \\quad y'(x_{0}) = y'_{0} $$\n"
   ]
  },
  {
   "cell_type": "markdown",
   "metadata": {
    "slideshow": {
     "slide_type": "slide"
    }
   },
   "source": [
    "Estas condiciones iniciales requieren que $c_{1}$ y $c_{2}$ satisfagan que \n",
    "\n",
    "\\begin{align*}\n",
    "c_{1}y_{1}(x_{0}) + c_{2}y_{2}(x_{0}) & = y_{0} \\\\\n",
    "c_{1}y_{1}'(x_{0}) + c_{2}y_{2}'(x_{0}) & = y'_{0} \n",
    "\\end{align*}\n"
   ]
  },
  {
   "cell_type": "markdown",
   "metadata": {
    "slideshow": {
     "slide_type": "slide"
    }
   },
   "source": [
    "Al resolver las anteriores ecuaciones obtenemos \n",
    "\n",
    "\\begin{align*}\n",
    "c_{1} & = \\frac{ y_{0}y_{2}'(x_{0}) - y_{0}'y_{2}(x_{0}) }{ y_{1}(x_{0})y_{2}'(x_{0}) - y_{1}'(x_{0})y_{2}(x_{0}) } \\\\\n",
    "c_{2} & = \\frac{ -y_{0}y_{1}'(x_{0}) - y_{0}'y_{1}(x_{0}) }{ y_{1}(x_{0})y_{2}'(x_{0}) - y_{1}'(x_{0})y_{2}(x_{0}) }\n",
    "\\end{align*}\n"
   ]
  },
  {
   "cell_type": "markdown",
   "metadata": {
    "slideshow": {
     "slide_type": "slide"
    }
   },
   "source": [
    "o bien en términos de determinantes\n",
    "\n",
    "$$ c_{1} = \\frac{\\left| \\begin{matrix} y_{0} & y_{2}(x_{0}) \\\\ y_{0}' & y_{2}'(x_{0}) \\end{matrix} \\right|}{\\left| \\begin{matrix} y_{1}(x_{0}) & y_{2}(x_{2}) \\\\ y_{1}'(x_{0}) & y_{2}'(x_{0}) \\end{matrix} \\right|} ,\\quad \\quad c_{2} = \\frac{\\left| \\begin{matrix} y_{1}(x_{0}) & y_{0} \\\\  y_{1}'(x_{0}) & y'_{0} \\end{matrix} \\right|}{\\left| \\begin{matrix} y_{1}(x_{0}) & y_{2}(x_{0}) \\\\ y_{1}'(x_{0}) & y_{2}'(x_{0}) \\end{matrix} \\right|} $$\n"
   ]
  },
  {
   "cell_type": "markdown",
   "metadata": {
    "slideshow": {
     "slide_type": "slide"
    }
   },
   "source": [
    "Con estos valores de $c_{1}$ y $c_{2}$, la expresión $y = c_{1}y_{1} + c_{2}y_{2}$ satisface las condiciones iniciales $y(x_{0}) = y_{0}$ y $y'(x_{0}) = y'_{0}$, así como la ecuación diferencial $y''+ p(x)y + q(x)y = 0$. "
   ]
  },
  {
   "cell_type": "markdown",
   "metadata": {
    "slideshow": {
     "slide_type": "slide"
    }
   },
   "source": [
    "A fin de que las expresiones para $c_{1}$ y $c_{2}$ de las ecuaciones \n",
    "\n",
    "$$ c_{1} = \\frac{\\left| \\begin{matrix} y_{0} & y_{2}(x_{0}) \\\\ y_{0}' & y_{2}'(x_{0}) \\end{matrix} \\right|}{\\left| \\begin{matrix} y_{1}(x_{0}) & y_{2}(x_{2}) \\\\ y_{1}'(x_{0}) & y_{2}'(x_{0}) \\end{matrix} \\right|} ,\\quad \\quad c_{2} = \\frac{\\left| \\begin{matrix} y_{1}(x_{0}) & y_{0} \\\\  y_{1}'(x_{0}) & y'_{0} \\end{matrix} \\right|}{\\left| \\begin{matrix} y_{1}(x_{0}) & y_{2}(x_{0}) \\\\ y_{1}'(x_{0}) & y_{2}'(x_{0}) \\end{matrix} \\right|} $$\n",
    "\n",
    "tengan sentido es necesario que los denominadores sean diferentes de cero. \n"
   ]
  },
  {
   "cell_type": "markdown",
   "metadata": {
    "slideshow": {
     "slide_type": "slide"
    }
   },
   "source": [
    "Para los dos, $c_{1}$ y $c_{2}$, el denominador es el mismo, a saber el determinante \n",
    "\n",
    "$$W = \\left| \\begin{matrix} y_{1}(x_{0}) & y_{2}(x_{0}) \\\\ y_{1}'(x_{0}) & y_{2}'(x_{0}) \\end{matrix} \\right| = y_{1}(x_{0})y_{2}'(x_{0}) - y_{1}'(x_{0})y_{2}(x_{0}) $$\n"
   ]
  },
  {
   "cell_type": "markdown",
   "metadata": {
    "slideshow": {
     "slide_type": "slide"
    }
   },
   "source": [
    "El determinante $W$ se conoce como **determinante Wronsquiano**, o simplemente **Wronskiano**, de las soluciones $y_{1}$ y $y_{2}$. "
   ]
  },
  {
   "cell_type": "markdown",
   "metadata": {
    "slideshow": {
     "slide_type": "slide"
    }
   },
   "source": [
    "Algunas veces se utiliza la notación más amplia $W(y_{1},y_{2})(x_{0})$ para representar la expresión del segundo miembro de la ecuación \n",
    "\n",
    "$$W = \\left| \\begin{matrix} y_{1}(x_{0}) & y_{2}(x_{0}) \\\\ y_{1}'(x_{0}) & y_{2}'(x_{0}) \\end{matrix} \\right| = y_{1}(x_{0})y_{2}'(x_{0}) - y_{1}'(x_{0})y_{2}(x_{0}) $$\n",
    "\n",
    "haciendo resaltar de esta manera que el wronskiano depende de las funciones $y_{1}$ y $y_{2}$, y que se evalúa en el punto $x_{0}$.  "
   ]
  },
  {
   "cell_type": "markdown",
   "metadata": {
    "slideshow": {
     "slide_type": "slide"
    }
   },
   "source": [
    "La argumentación precedente basta para establecer el resultado siguiente:"
   ]
  },
  {
   "cell_type": "markdown",
   "metadata": {
    "slideshow": {
     "slide_type": "slide"
    }
   },
   "source": [
    "## **Teorema 3.2.3**  \n",
    "Página 148"
   ]
  },
  {
   "cell_type": "markdown",
   "metadata": {
    "slideshow": {
     "slide_type": "slide"
    }
   },
   "source": [
    "Supógase que $y_{1}$ y $y_{2}$ son dos soluciones de la ecuación \n",
    "\n",
    "$$ y'' + p(x)y' + q(x)y = 0 $$\n",
    "\n",
    "y que el Wronsquiano \n",
    "\n",
    "$$ W = y_{1}y_{2}' - y_{1}'y_{2} $$\n",
    "\n",
    "es diferente de cero en el punto $x_{0}$ donde se asignan las condiciones iniciales \n",
    "\n",
    "$$ y(x_{0}) = y_{0}, \\quad \\quad y'(x_{0}) = y'_{0} $$\n",
    "\n",
    "Entonces existe una elección de las constantes $c_{1}$ y $c_{2}$ para la que \n",
    "\n",
    "$$y = c_{1}y_{1} + c_{2}y_{2}$$\n",
    "\n",
    "satisface la ecuación diferencial $$ y'' + p(x)y' + q(x)y = 0 $$ y las condiciones iniciales \n",
    "\n",
    "$$ y(x_{0}) = y_{0}, \\quad \\quad y'(x_{0}) = y'_{0} $$\n",
    "\n"
   ]
  },
  {
   "cell_type": "markdown",
   "metadata": {
    "slideshow": {
     "slide_type": "slide"
    }
   },
   "source": [
    "## Ejemplo 3\n",
    "Página 148 \n",
    "\n"
   ]
  },
  {
   "cell_type": "markdown",
   "metadata": {
    "slideshow": {
     "slide_type": "slide"
    }
   },
   "source": [
    "En el ejemplo 1 de la sección 3.1 se encontró que $y_{1}(x) = e^{-2x}$ y $y_{2}(x) = e^{-3x}$ son soluciones de la ecuación diferencial \n",
    "\n",
    "$$y'' + 5y' + 6y = 0$$\n",
    "\n",
    "Hallar el wronskiano de $y_{1}$ y $y_{2}$ \n"
   ]
  },
  {
   "cell_type": "markdown",
   "metadata": {
    "slideshow": {
     "slide_type": "slide"
    }
   },
   "source": [
    "El wronskiano de estas dos funciones es \n",
    "\n",
    "$$ W = \\left| \\begin{matrix} e^{-2x} & e^{-3x} \\\\ -2e^{-2x} & -3e^{-3x} \\end{matrix} \\right| = -e^{-5x} $$\n"
   ]
  },
  {
   "cell_type": "markdown",
   "metadata": {
    "slideshow": {
     "slide_type": "slide"
    }
   },
   "source": [
    "Dado que $W$ es diferente de cero para todos los valores de $x$, pueden usarse las funciones $y_{1}$ y $y_{2}$ para construir las soluciones de la ecuación diferencial dada, junto con condiciones iniciales prescritas en cualquier valor de $x$. "
   ]
  },
  {
   "cell_type": "markdown",
   "metadata": {
    "slideshow": {
     "slide_type": "slide"
    }
   },
   "source": [
    "### Teorema 3.2.4"
   ]
  },
  {
   "cell_type": "markdown",
   "metadata": {
    "slideshow": {
     "slide_type": "slide"
    }
   },
   "source": [
    "Si $y_{1}$ y $y_{2}$ son dos soluciones de la ecuación doferencial \n",
    "\n",
    "$$ L[y] = y'' + p(x)y' + q(x)y = 0, $$\n",
    "\n",
    "y si existe un punto $x_{0}$ en donde el wronskiano de $y_{1}$ y $y_{2}$ es diferente de cero, entonces la familia de soluciones \n",
    "\n",
    "$$ y = c_{1}y_{1}(x) + c_{2}y_{2}(x) $$\n",
    "\n",
    "con coeficientes arbitrarios $c_{1}$ y $c_{2}$ incluye toda solución de la ecuación \n",
    "\n",
    "$$ L[y] = y'' + p(x)y' + q(x)y = 0, $$"
   ]
  },
  {
   "cell_type": "markdown",
   "metadata": {
    "slideshow": {
     "slide_type": "slide"
    }
   },
   "source": [
    "Sea $\\phi$ cualquier solución de la ecuación \n",
    "\n",
    "$$ L[y] = y'' + p(x)y' + q(x)y = 0, $$\n",
    "\n"
   ]
  },
  {
   "cell_type": "markdown",
   "metadata": {
    "slideshow": {
     "slide_type": "slide"
    }
   },
   "source": [
    "Para probar el teorema es necesario demostrar que $\\phi$ está incluida en la combinación \n",
    "\n",
    "$$ c_{1}y_{1} + c_{2}y_{2}; $$\n",
    "\n",
    "es decir, para alguna elección de las constantes $c_{1}$ y $c_{2}$ la combinación lineal es igual a $\\phi$. "
   ]
  },
  {
   "cell_type": "markdown",
   "metadata": {
    "slideshow": {
     "slide_type": "slide"
    }
   },
   "source": [
    "Sea $x_{0}$ un punto en donde el wronskiano de $y_{1}$ y $y_{2}$ es diferente de cero. "
   ]
  },
  {
   "cell_type": "markdown",
   "metadata": {
    "slideshow": {
     "slide_type": "slide"
    }
   },
   "source": [
    "Entonces, evalúese $\\phi$ y $\\phi'$ en este punto y se llama a estos valores $y_{0}$ y $y_{0}'$, respectivamente; por tanto, \n",
    "\n",
    "$$ y_{0} = \\phi(x_{0}), \\quad \\quad y_{0}' = \\phi'(x_{0}). $$\n"
   ]
  },
  {
   "cell_type": "markdown",
   "metadata": {
    "slideshow": {
     "slide_type": "slide"
    }
   },
   "source": [
    "A continuación, considérese el problema con valor inicial \n",
    "\n",
    "$$ y'' + p(x)y' + q(x)y = 0, \\quad \\quad y(x_{0}), \\quad y'(x_{0}) = y'_{0}, $$\n"
   ]
  },
  {
   "cell_type": "markdown",
   "metadata": {
    "slideshow": {
     "slide_type": "slide"
    }
   },
   "source": [
    "La función $\\phi$ evidentemente es una solución de este problema con valor inicial. "
   ]
  },
  {
   "cell_type": "markdown",
   "metadata": {
    "slideshow": {
     "slide_type": "slide"
    }
   },
   "source": [
    "Por otra parte, como $W(y_{1}, y_{2})(x_{0})$ es diferente de cero, es posible (por el teorema 3.2.3)  elegir $c_{1}$ y $c_{2}$ de modo que $y = c_{1}y_{1} + c_{2}y_{2}$ también sea una solución del problema con valor inicial \n",
    "\n",
    "$$ y'' + p(x)y' + q(x)y = 0, \\quad \\quad y(x_{0}), \\quad y'(x_{0}) = y'_{0}, $$\n"
   ]
  },
  {
   "cell_type": "markdown",
   "metadata": {
    "slideshow": {
     "slide_type": "slide"
    }
   },
   "source": [
    "En efecto, los valores adecuados de $c_{1}$ y $c_{2}$ los dan las ecuaciones \n",
    "\n",
    "$$ c_{1} = \\frac{\\left| \\begin{matrix} y_{0} & y_{2}(x_{0}) \\\\ y_{0}' & y_{2}'(x_{0}) \\end{matrix} \\right|}{\\left| \\begin{matrix} y_{1}(x_{0}) & y_{2}(x_{2}) \\\\ y_{1}'(x_{0}) & y_{2}'(x_{0}) \\end{matrix} \\right|} ,\\quad \\quad c_{2} = \\frac{\\left| \\begin{matrix} y_{1}(x_{0}) & y_{0} \\\\  y_{1}'(x_{0}) & y'_{0} \\end{matrix} \\right|}{\\left| \\begin{matrix} y_{1}(x_{0}) & y_{2}(x_{0}) \\\\ y_{1}'(x_{0}) & y_{2}'(x_{0}) \\end{matrix} \\right|}. $$\n",
    "\n"
   ]
  },
  {
   "cell_type": "markdown",
   "metadata": {
    "slideshow": {
     "slide_type": "slide"
    }
   },
   "source": [
    "La parte de la unicidad del teorema 3.2.1 garantiza que estas dos soluciones del mismo problema con valor inicial, en realidad son la misma función; por tanto, para la elección adecuada de $c_{1}$ y $c_{2}$\n",
    "\n",
    "$$ \\phi(x) = c_{1}y_{1}(x) + c_{2}y_{2}(x) $$\n"
   ]
  },
  {
   "cell_type": "markdown",
   "metadata": {
    "slideshow": {
     "slide_type": "slide"
    }
   },
   "source": [
    "y por tanto $\\phi$ está incluida en la familia de funciones $c_{1}y_{1} + c_{2}y_{2}$. "
   ]
  },
  {
   "cell_type": "markdown",
   "metadata": {
    "slideshow": {
     "slide_type": "slide"
    }
   },
   "source": [
    "Por último, como $\\phi$ es una solución arbitraria de \n",
    "\n",
    "$$L[y] = y'' + p(x)y' + q(x)y = 0, $$\n",
    "\n",
    "se concluye que toda solución de esta ecuación está incluida en esta familia. \n",
    "Esto completa la demostración del teorema 3.2.4\n"
   ]
  },
  {
   "cell_type": "markdown",
   "metadata": {
    "slideshow": {
     "slide_type": "slide"
    }
   },
   "source": [
    "El teorema 3.2.4 afirma que, en tanto que el wronskiano de $y_{1}$ y $y_{2}$ sea diferente de cero, la combinación lineal $y = c_{1}y_{1} + c_{2}y_{2}$ contiene todas las soluciones de la ecuación \n",
    "\n",
    "$$ L[y] = y'' + p(x)y' + q(x)y = 0 $$\n"
   ]
  },
  {
   "cell_type": "markdown",
   "metadata": {
    "slideshow": {
     "slide_type": "slide"
    }
   },
   "source": [
    "Por consiguiente, es natural (y ya se hizo esto en la sección precedente) llamar a la expresión \n",
    "\n",
    "$$ y = c_{1}y_{1}(x) + c_{2}y_{2}(x), $$\n",
    "\n",
    "con coeficientes constantes arbitrarios, **solución general** de \n",
    "\n",
    "$$ L[y] = y'' + p(x)y' + q(x)y = 0 $$\n"
   ]
  },
  {
   "cell_type": "markdown",
   "metadata": {
    "slideshow": {
     "slide_type": "slide"
    }
   },
   "source": [
    "Se dice que las soluciones $y_{1}$ y $y_{2}$, con wronskiano diferente de cero, forman un **conjunto fundamental de soluciones** de \n",
    "\n",
    "$$ L[y] = y'' + p(x)y' + q(x)y = 0 $$\n"
   ]
  },
  {
   "cell_type": "markdown",
   "metadata": {
    "slideshow": {
     "slide_type": "slide"
    }
   },
   "source": [
    "Puede reenunciarse el resultado del teorema 3.2.4 en un lenguaje ligeramente diferente: "
   ]
  },
  {
   "cell_type": "markdown",
   "metadata": {
    "slideshow": {
     "slide_type": "slide"
    }
   },
   "source": [
    "para encontrar la solución general y, por tanto, todas las soluciones de una ecuación de la forma \n",
    "\n",
    "$$ L[y] = y'' + p(x)y' + q(x)y = 0, $$\n",
    "\n",
    "basta hallar dos soluciones de la ecuación dada cuyo wronskiano sea diferente de cero. \n"
   ]
  },
  {
   "cell_type": "markdown",
   "metadata": {
    "slideshow": {
     "slide_type": "slide"
    }
   },
   "source": [
    "Eso fue precisamente lo que se hizo en varios ejemplos de la sección 3.1, aunque ahí no se calcularon los wronskianos. "
   ]
  },
  {
   "cell_type": "markdown",
   "metadata": {
    "slideshow": {
     "slide_type": "slide"
    }
   },
   "source": [
    "Ahora el lector debe regresar y calcularlos y comprobar de esa manera que todas las soluciones de la sección 3.1, a las que se llamó soluciones generales, en realidad satisfacen la condición necesaria del wronskiano. "
   ]
  },
  {
   "cell_type": "markdown",
   "metadata": {
    "slideshow": {
     "slide_type": "slide"
    }
   },
   "source": [
    "De manera alternativa, en el siguiente ejemplo se incluyen todos los que se mencionaron en la sección 3.1, así como muchos problemas semejantes. "
   ]
  },
  {
   "cell_type": "code",
   "execution_count": null,
   "metadata": {
    "slideshow": {
     "slide_type": "slide"
    }
   },
   "outputs": [],
   "source": []
  },
  {
   "cell_type": "markdown",
   "metadata": {
    "slideshow": {
     "slide_type": "slide"
    }
   },
   "source": [
    "## Ejemplo"
   ]
  },
  {
   "cell_type": "markdown",
   "metadata": {
    "slideshow": {
     "slide_type": "slide"
    }
   },
   "source": [
    "Supóngase que $y_{1}(x) = e^{r_{1}x}$ y $y_{2}(x) = e^{r_{2}x}$ son dos soluciones de la ecuación de la forma \n",
    "\n",
    "$$ L[y] = y'' + p(x)y' + q(x)y = 0 $$\n",
    "\n",
    "Demostrar que forman un conjunto fundamental de soluciones si $r_{1} \\neq r_{2}$. \n"
   ]
  },
  {
   "cell_type": "markdown",
   "metadata": {
    "slideshow": {
     "slide_type": "slide"
    }
   },
   "source": [
    "## Solución: "
   ]
  },
  {
   "cell_type": "markdown",
   "metadata": {
    "slideshow": {
     "slide_type": "slide"
    }
   },
   "source": [
    "Calcule el wronskiano de $y_{1}$ y $y_{2}$: \n",
    "\n",
    "$$ W = \\left| \\begin{matrix} e^{r_{1}x} & e^{r_{2}x} \\\\ r_{1}e^{r_{1}x} & r_{2}e^{r_{2}x} \\end{matrix} \\right| = (r_{2} - r_{1})\\exp[(r_{2} - r_{1})x] $$\n"
   ]
  },
  {
   "cell_type": "markdown",
   "metadata": {
    "slideshow": {
     "slide_type": "slide"
    }
   },
   "source": [
    "Dado que la función exponencial nunca es cero y como $r_{2} - r_{1} \\neq 0$ por la proposición del problema, se deduce que $W$ es diferente de cero para todo valor de $x$. "
   ]
  },
  {
   "cell_type": "markdown",
   "metadata": {
    "slideshow": {
     "slide_type": "slide"
    }
   },
   "source": [
    "Como consecuencia, $y_{1}$ y $y_{2}$ forman un conjunto fundamental de soluciones. "
   ]
  },
  {
   "cell_type": "markdown",
   "metadata": {
    "slideshow": {
     "slide_type": "slide"
    }
   },
   "source": [
    "## Ejemplo "
   ]
  },
  {
   "cell_type": "markdown",
   "metadata": {
    "slideshow": {
     "slide_type": "slide"
    }
   },
   "source": [
    "Demostrar qie $y_{1}(x) = x^{1/2}$ y $y_{2}(x) = x^{-1}$ forman un conjunto fundamental de soluciones de \n",
    "\n",
    "$$ 2x^{2}y'' + 3xy' - y = 0, \\quad \\quad x > 0. $$\n"
   ]
  },
  {
   "cell_type": "markdown",
   "metadata": {
    "slideshow": {
     "slide_type": "slide"
    }
   },
   "source": [
    "En la sección 5.5 se mostrará cómo resolver la ecuación; ver también el problema 32 en la sección 3.4. "
   ]
  },
  {
   "cell_type": "markdown",
   "metadata": {
    "slideshow": {
     "slide_type": "slide"
    }
   },
   "source": [
    "Sin embargo, en esta etapa es posible comprobar por sustitución directa que $y_{1}$ y $y_{2}$ son soluciones de la ecuación direrencial."
   ]
  },
  {
   "cell_type": "markdown",
   "metadata": {
    "slideshow": {
     "slide_type": "slide"
    }
   },
   "source": [
    "Dado que \n",
    "\n",
    "$$ y_{1}'(x) = \\frac{1}{2}x^{-1/2} \\quad \\quad \\text{y} \\quad \\quad y_{1}''(x) = -\\frac{1}{4}x^{-3/2},  $$\n",
    "se tiene"
   ]
  },
  {
   "cell_type": "markdown",
   "metadata": {
    "slideshow": {
     "slide_type": "slide"
    }
   },
   "source": [
    "$$ 2x^{2}\\left( -\\frac{1}{4} x^{-3/2} \\right) + 3x\\left( \\frac{1}{2}x^{-1/2} \\right) - x^{1/2} = \\left( -\\frac{1}{2} + \\frac{3}{2} - 1 \\right)x^{1/2} = 0  $$"
   ]
  },
  {
   "cell_type": "markdown",
   "metadata": {
    "slideshow": {
     "slide_type": "slide"
    }
   },
   "source": [
    "De modo semejante, $y_{2}'(x) = -x^{-2}$ y $ y_{2}''(x) = 2x^{-3}$, así que \n",
    "\n",
    "$$ 2x^{2}(2x^{-3}) + 3x(-x^{-2}) - x^{-1} = (4-3 - 1)x^{-1} = 0  $$\n"
   ]
  },
  {
   "cell_type": "markdown",
   "metadata": {
    "slideshow": {
     "slide_type": "slide"
    }
   },
   "source": [
    "A continuación calcule el wronskiano $W$ de $y_{1}$ y $y_{2}$: \n",
    "\n",
    "$$ W = \\left| \\begin{matrix} x^{1/2} & x^{-1} \\\\ \\frac{1}{2}x^{-1/2} & -x^{-2} \\end{matrix} \\right| = -\\frac{3}{2}x^{-3/2} $$\n"
   ]
  },
  {
   "cell_type": "markdown",
   "metadata": {
    "slideshow": {
     "slide_type": "slide"
    }
   },
   "source": [
    "Como $W \\neq 0$ para $x > 0$, se concluye que $y_{1}$ y $y_{2}$ forman un conjunto fundamental de soluciones allí. "
   ]
  },
  {
   "cell_type": "markdown",
   "metadata": {
    "slideshow": {
     "slide_type": "slide"
    }
   },
   "source": [
    "## Teorema 3.2.5 (Conjunto fundamental de soluciones)"
   ]
  },
  {
   "cell_type": "markdown",
   "metadata": {
    "slideshow": {
     "slide_type": "slide"
    }
   },
   "source": [
    "Considérese la ecuación diferencial \n",
    "\n",
    "$$ L[y] = y'' + p(x)y' + q(x)y = 0 $$\n",
    "\n",
    "cuyos coeficientes $p$ y $q$ son continuos sobre algún intervalo abierto $I$. "
   ]
  },
  {
   "cell_type": "markdown",
   "metadata": {
    "slideshow": {
     "slide_type": "slide"
    }
   },
   "source": [
    "Elija algún punto $x_{0}$ en $I$. "
   ]
  },
  {
   "cell_type": "markdown",
   "metadata": {
    "slideshow": {
     "slide_type": "slide"
    }
   },
   "source": [
    "Sea $y_{1}$ la solución de la ecuación \n",
    "\n",
    "$$ L[y] = y'' + p(x)y' + q(x)y = 0 $$\n",
    "\n",
    "que también satisface las condiciones inciales \n",
    "\n",
    "$$y(x_{0}) = 1, \\quad \\quad y'(x_{0}) = 0, $$"
   ]
  },
  {
   "cell_type": "markdown",
   "metadata": {
    "slideshow": {
     "slide_type": "slide"
    }
   },
   "source": [
    "y $y_{2}$ la solución de \n",
    "\n",
    "$$ L[y] = y'' + p(x)y' + q(x)y = 0 $$\n",
    "\n",
    "que satisface las condiciones iniciales \n",
    "\n",
    "$$ y(x_{0}) = 0, \\quad \\quad \\text{y} \\quad \\quad y'(x_{0}) = 1. $$"
   ]
  },
  {
   "cell_type": "markdown",
   "metadata": {
    "slideshow": {
     "slide_type": "slide"
    }
   },
   "source": [
    "Entonces, $y_{1}$ y $y_{2}$ forman un conjunto fundamental de soluciones de la ecuación \n",
    "\n",
    "$$ L[y] = y'' + p(x)y' + q(x)y = 0 $$\n"
   ]
  },
  {
   "cell_type": "code",
   "execution_count": null,
   "metadata": {
    "slideshow": {
     "slide_type": "slide"
    }
   },
   "outputs": [],
   "source": []
  },
  {
   "cell_type": "markdown",
   "metadata": {
    "slideshow": {
     "slide_type": "slide"
    }
   },
   "source": [
    "### Demostración:"
   ]
  },
  {
   "cell_type": "markdown",
   "metadata": {
    "slideshow": {
     "slide_type": "slide"
    }
   },
   "source": [
    "Primero, observe que la *existencia* de las funciones $y_{1}$ y $y_{2}$ está asegurada por parte de la existencia del teorema 3.2.1.  "
   ]
  },
  {
   "cell_type": "markdown",
   "metadata": {
    "slideshow": {
     "slide_type": "slide"
    }
   },
   "source": [
    "Para demostrar que forman un conjunto fundamental de soluciones, basta calcular su wronskiano en $x_{0}$: \n",
    "\n",
    "$$ w(y_{1},y_{2})(x_{0}) = \n",
    "\\left| \\begin{matrix}\n",
    "y_{1}(x_{0}) & y_{2}(x_{0}) \n",
    "\\\\ y_{1}'(x_{0}) & y_{2}'(x_{0}) \n",
    "\\end{matrix} \\right| =\n",
    "\\left| \\begin{matrix}\n",
    "1&0\n",
    "\\\\0&1\n",
    "\\end{matrix} \\right| = 1 $$\n"
   ]
  },
  {
   "cell_type": "markdown",
   "metadata": {
    "slideshow": {
     "slide_type": "slide"
    }
   },
   "source": [
    "Ya que su wronskiano es diferente de cero en el punto $x_{0}$, las funciones $y_{1}$ y $y_{2}$ forman un conjunto fundamental de soluciones, con lo que se completa la demostración del teorema 3.2.5."
   ]
  },
  {
   "cell_type": "markdown",
   "metadata": {
    "slideshow": {
     "slide_type": "slide"
    }
   },
   "source": [
    "# 3.3 Independencia lineal y Wronskiano \n",
    "Página 154 del Boyce DiPrima "
   ]
  },
  {
   "cell_type": "markdown",
   "metadata": {
    "slideshow": {
     "slide_type": "slide"
    }
   },
   "source": [
    "La representación de la solución general de una ecuación diferencial lineal homogénea de segundo orden como combinación lineal de dos soluciones cuyo wronskiano es diferente de cero está estrechamente relacionada con el concepto de independencia lineal de dos funciones. "
   ]
  },
  {
   "cell_type": "markdown",
   "metadata": {
    "slideshow": {
     "slide_type": "slide"
    }
   },
   "source": [
    "Ésta es una idea muy importante y tiene un significado que rebasa con mucho el contexto actual, en esta sección se le analizará brevemente. "
   ]
  },
  {
   "cell_type": "markdown",
   "metadata": {
    "slideshow": {
     "slide_type": "slide"
    }
   },
   "source": [
    "## Definición de Independencia lineal "
   ]
  },
  {
   "cell_type": "markdown",
   "metadata": {
    "slideshow": {
     "slide_type": "slide"
    }
   },
   "source": [
    "Se dice que dos funciones $f$ y $g$ son **linealmente dependientes** sobre un intervalo $I$ si existen dos constantes $k_{1}$ y $k_{2}$, no ambas cero, tales que \n",
    "\n",
    "$$k_{1}f(x) + k_{2}g(x) = 0$$\n",
    "\n",
    "para toda $x$ en $I$\n"
   ]
  },
  {
   "cell_type": "markdown",
   "metadata": {
    "slideshow": {
     "slide_type": "slide"
    }
   },
   "source": [
    "Se dice que las funciones son **linealmente independientes** sobre un intervalo si no son linealmente dependientes, es decir, si la ecuación \n",
    "\n",
    "$$k_{1}f(x) + k_{2}g(x) = 0$$\n",
    "\n",
    "se cumple para toda $x$ en el intervalo solo si $k_{1}$ y $k_{2}$ son cero. \n"
   ]
  },
  {
   "cell_type": "markdown",
   "metadata": {
    "slideshow": {
     "slide_type": "slide"
    }
   },
   "source": [
    "En la sección 4.1 estas definiciones se extienden a un número arbitrario de funciones. "
   ]
  },
  {
   "cell_type": "markdown",
   "metadata": {
    "slideshow": {
     "slide_type": "slide"
    }
   },
   "source": [
    "Aunque puede ser difícil determinar si un conjunto grande de funciones es linealmente dependiente o independiente, suele ser fácil dar respuesta a esta pregunta para un conjunto de sólo dos funciones: "
   ]
  },
  {
   "cell_type": "markdown",
   "metadata": {
    "slideshow": {
     "slide_type": "slide"
    }
   },
   "source": [
    "Dos funciones son linealmente dependientes si son proporcionales entre sí, y lenealmente independientes en caso contrario. "
   ]
  },
  {
   "cell_type": "markdown",
   "metadata": {
    "slideshow": {
     "slide_type": "slide"
    }
   },
   "source": [
    "Los siguientes ejemplos ilustran la aplicación de las definiciones que acaban de darse. "
   ]
  },
  {
   "cell_type": "markdown",
   "metadata": {
    "slideshow": {
     "slide_type": "slide"
    }
   },
   "source": [
    "## Ejemplo 1\n",
    "Página 154 del Boyce DiPrima "
   ]
  },
  {
   "cell_type": "markdown",
   "metadata": {
    "slideshow": {
     "slide_type": "slide"
    }
   },
   "source": [
    "Determinar si las funciones $\\sin(x)$ y $\\cos\\left(x - \\frac{\\pi}{2} \\right)$ son linealmente independientes o linealmente dependientes sobre cualquier intervalo arbitrario. "
   ]
  },
  {
   "cell_type": "markdown",
   "metadata": {
    "slideshow": {
     "slide_type": "slide"
    }
   },
   "source": [
    "### Solución: Las funciones dadas son linealmente dependientes sobre cualquier intervalo ya que \n",
    "\n",
    "$$k_{1}\\sin(x) + k_{2}\\cos\\left(x - \\frac{\\pi}{2} \\right) = 0  $$\n",
    "\n",
    "para toda $x$ si se eligen $k_{1} = 1$ y $k_{2} = -1$. \n"
   ]
  },
  {
   "cell_type": "code",
   "execution_count": null,
   "metadata": {
    "slideshow": {
     "slide_type": "slide"
    }
   },
   "outputs": [],
   "source": []
  },
  {
   "cell_type": "markdown",
   "metadata": {
    "slideshow": {
     "slide_type": "slide"
    }
   },
   "source": [
    "## Ejemplo 2 \n",
    "Página 154 del Boyce DiPrima "
   ]
  },
  {
   "cell_type": "markdown",
   "metadata": {
    "slideshow": {
     "slide_type": "slide"
    }
   },
   "source": [
    "Demostrar que las funciones $e^{x}$ y $e^{2x}$ son linealmente independientes sobre cualquier intervalo. "
   ]
  },
  {
   "cell_type": "markdown",
   "metadata": {
    "slideshow": {
     "slide_type": "slide"
    }
   },
   "source": [
    "### Solución:"
   ]
  },
  {
   "cell_type": "markdown",
   "metadata": {
    "slideshow": {
     "slide_type": "slide"
    }
   },
   "source": [
    "A fin de establecer este resultado, se supone que \n",
    "\n",
    "$$ k_{1}e^{x} + k_{2}e^{2x} = 0 $$\n",
    "\n",
    "para toda $x$ en el intervalo. \n"
   ]
  },
  {
   "cell_type": "markdown",
   "metadata": {
    "slideshow": {
     "slide_type": "slide"
    }
   },
   "source": [
    "Entonces, es necesario demostrar que $k_{1} = k_{2} = 0$. "
   ]
  },
  {
   "cell_type": "markdown",
   "metadata": {
    "slideshow": {
     "slide_type": "slide"
    }
   },
   "source": [
    "Elija dos puntos $x_{0}$ y $x_{1}$ en el intervalo, en donde $x_{0} \\neq x_{1}$. "
   ]
  },
  {
   "cell_type": "markdown",
   "metadata": {
    "slideshow": {
     "slide_type": "slide"
    }
   },
   "source": [
    "Si se evalúa \n",
    "\n",
    "$$ k_{1}e^{x} + k_{2}e^{2x} = 0 $$\n",
    "\n",
    "en estos puntos se obtiene \n",
    "\n",
    "\\begin{align*}\n",
    "k_{1}e^{x_{0}} + k_{2}e^{2x_{0}} & = 0 \\\\\n",
    "k_{1}e^{x_{1}} + k_{2}e^{2x_{1}} & = 0\n",
    "\\end{align*}\n",
    "\n",
    "\n"
   ]
  },
  {
   "cell_type": "markdown",
   "metadata": {
    "slideshow": {
     "slide_type": "slide"
    }
   },
   "source": [
    "El determinante de los coeficientes es \n",
    "\n",
    "$$ e^{x_{0}}e^{2x_{1}} - e^{2x_{0}}e^{x_{1}} = e^{x_{0}}e^{x_{1}}(e^{x_{1}} - e^{x_{0}}) $$\n"
   ]
  },
  {
   "cell_type": "markdown",
   "metadata": {
    "slideshow": {
     "slide_type": "slide"
    }
   },
   "source": [
    "Dado que el determinante es diferente de cero, se concluye que la única solución del sistema \n",
    "\n",
    "\\begin{align*}\n",
    "k_{1}e^{x_{0}} + k_{2}e^{2x_{0}} & = 0 \\\\\n",
    "k_{1}e^{x_{1}} + k_{2}e^{2x_{1}} & = 0\n",
    "\\end{align*}\n",
    "\n",
    "es $k_{1} = k_{2} = 0$. \n"
   ]
  },
  {
   "cell_type": "markdown",
   "metadata": {
    "slideshow": {
     "slide_type": "slide"
    }
   },
   "source": [
    "De modo que $e^{x}$ y $e^{2x}$ son linealmente independientes "
   ]
  },
  {
   "cell_type": "markdown",
   "metadata": {
    "slideshow": {
     "slide_type": "slide"
    }
   },
   "source": [
    "El siguiente teorema relaciona la independencia y dependencia lineal con el wronskiano. "
   ]
  },
  {
   "cell_type": "markdown",
   "metadata": {
    "slideshow": {
     "slide_type": "slide"
    }
   },
   "source": [
    "## Teorema 3.3.1\n",
    "Página 155 del Boyce DiPrima  "
   ]
  },
  {
   "cell_type": "markdown",
   "metadata": {
    "slideshow": {
     "slide_type": "slide"
    }
   },
   "source": [
    "Si $f$ y $g$ son funciones diferenciables sobre un intervalo abierto $I$, y si $W(f,g)(x_{0}) \\neq 0$ para algún punto $x_{0}$ en $I$, entonces $f$ y $g$ son linealmente independientes sobre $I$. "
   ]
  },
  {
   "cell_type": "markdown",
   "metadata": {
    "slideshow": {
     "slide_type": "slide"
    }
   },
   "source": [
    "De manera alternativa, si $f$ y $g$ son linealmente dependientes sobre $I$, entonces $W(f,g)(x) = 0$ para toda $x$ en $I$. "
   ]
  },
  {
   "cell_type": "markdown",
   "metadata": {
    "slideshow": {
     "slide_type": "slide"
    }
   },
   "source": [
    "## Teorema 3.3.2 (Teorema de Abel) \n",
    "Página 156 del Boyce DiPrima \n",
    "Si $y_{1}$ y $y_{2}$ son soluciones de la ecuación diferencial \n",
    "\n",
    "$$L[y] = y'' + p(x)y' + q(x)y = 0,$$\n",
    "\n",
    "en donde $p$ y $q$ son continuas sobre un intervalo abierto $I$, entonces el wronskiano de $y_{1}$ y $y_{2}$ está dado por \n",
    "\n",
    "$$ W(y_{1},y_{2})(x) = c\\ exp\\left( -\\int p(x) dx \\right) $$\n",
    "\n",
    "donde $c$ es cierta constante que depende de $y_{1}$ y de $y_{2}$ pero no de $x$. "
   ]
  },
  {
   "cell_type": "markdown",
   "metadata": {
    "slideshow": {
     "slide_type": "slide"
    }
   },
   "source": [
    "Es más, $W(y_{1},y_{2})(x)$ es cero para toda $x \\in I$ (si $c = 0$), o bien nunca es cero en $I$ (si $c \\neq 0$). "
   ]
  },
  {
   "cell_type": "markdown",
   "metadata": {
    "slideshow": {
     "slide_type": "slide"
    }
   },
   "source": [
    "### Demostración del teorema de Abel "
   ]
  },
  {
   "cell_type": "markdown",
   "metadata": {
    "slideshow": {
     "slide_type": "slide"
    }
   },
   "source": [
    "## Ejemplo 3 de aplicación del teorema de Abel \n",
    "Página 157 del Boyce DiPrima "
   ]
  },
  {
   "cell_type": "markdown",
   "metadata": {
    "slideshow": {
     "slide_type": "slide"
    }
   },
   "source": [
    "Del ejemplo 5 de la sección 3.2 se comprobó que $y_{1}(x) = x^{1/2}$ y $y_{2}(x) = x^{-1}$ son soluciones de la ecuación \n",
    "\n",
    "$$ 2x^{2}y'' + 3xy' - y = 0, \\quad \\quad x > 0 $$\n",
    "Comprobar que el Wronskiano de $y_{1}$ y $y_{2}$ está dado por la ecuación \n",
    "\n",
    "$$ W(y_{1},y_{2})(x) = c\\ exp\\left( -\\int p(x) dx \\right) $$\n"
   ]
  },
  {
   "cell_type": "markdown",
   "metadata": {
    "slideshow": {
     "slide_type": "slide"
    }
   },
   "source": [
    "### Solución: "
   ]
  },
  {
   "cell_type": "markdown",
   "metadata": {
    "slideshow": {
     "slide_type": "slide"
    }
   },
   "source": [
    "Con base en el ejemplo que acaba de citarse se sabe que $W(y_{1},y_{2})(x) = -(3/2)x^{-3/2}$.  "
   ]
  },
  {
   "cell_type": "markdown",
   "metadata": {
    "slideshow": {
     "slide_type": "slide"
    }
   },
   "source": [
    "Para utilizar la ecuación \n",
    "\n",
    "$$ W(y_{1},y_{2})(x) = c\\ exp\\left( -\\int p(x) dx \\right) $$\n",
    "\n",
    "es necesario escribir la ED \n",
    "\n",
    "$$ 2x^{2}y'' + 3xy' - y = 0, \\quad \\quad x > 0 $$\n",
    "\n",
    "en la forma estándar con el coeficiente de $y'' = 1$. \n"
   ]
  },
  {
   "cell_type": "markdown",
   "metadata": {
    "slideshow": {
     "slide_type": "slide"
    }
   },
   "source": [
    "Por tanto, se obtiene \n",
    "\n",
    "$$ y'' + \\frac{3}{2x}y' - \\frac{1}{2x^{2}}y = 0 $$\n"
   ]
  },
  {
   "cell_type": "markdown",
   "metadata": {
    "slideshow": {
     "slide_type": "slide"
    }
   },
   "source": [
    "De modo que \n",
    "\n",
    "$$p(x) = \\frac{3}{2x}, $$\n"
   ]
  },
  {
   "cell_type": "markdown",
   "metadata": {
    "slideshow": {
     "slide_type": "slide"
    }
   },
   "source": [
    "de donde, \n",
    "\n",
    "$$W(y_{1},y_{2})(x) = c\\ \\exp \\left[-\\int \\frac{3}{2x}dx \\right] = c\\exp \\left[ -\\frac{3}{2}\\ln x \\right] = cx^{-3/2} $$\n"
   ]
  },
  {
   "cell_type": "markdown",
   "metadata": {
    "slideshow": {
     "slide_type": "slide"
    }
   },
   "source": [
    "Esta ecuación da el Wronskiano de cualquier par de soluciones de \n",
    "\n",
    "$$ 2x^{2}y'' + 3xy' - y = 0, \\quad \\quad x > 0 $$"
   ]
  },
  {
   "cell_type": "markdown",
   "metadata": {
    "slideshow": {
     "slide_type": "slide"
    }
   },
   "source": [
    "Para las soluciones particulares dadas en este ejemplo es necesario elegir $c = -\\frac{3}{2}$.  "
   ]
  },
  {
   "cell_type": "code",
   "execution_count": null,
   "metadata": {
    "slideshow": {
     "slide_type": "slide"
    }
   },
   "outputs": [],
   "source": []
  },
  {
   "cell_type": "markdown",
   "metadata": {
    "slideshow": {
     "slide_type": "slide"
    }
   },
   "source": [
    "## Teorema 3.3.3 \n",
    "Página 157 del Boyce DiPrima "
   ]
  },
  {
   "cell_type": "markdown",
   "metadata": {
    "slideshow": {
     "slide_type": "slide"
    }
   },
   "source": [
    "Sean $y_{1}$ y $y_{2}$ soluciones de la ecuación \n",
    "\n",
    "$$ L[y] = y'' + p(x)y' + q(x)y = 0, $$\n",
    "\n",
    "en donde $p$ y $q$ son continuas en un intervalo abierto $I$. \n",
    "\n"
   ]
  },
  {
   "cell_type": "markdown",
   "metadata": {
    "slideshow": {
     "slide_type": "slide"
    }
   },
   "source": [
    "Entonces, $y_{1}$ y $y_{2}$ son linealmente dependientes sobre $I$, si y solo si $ W(y_{1}, y_{2})(x) $\n",
    "es cero para toda $x$ en $I$\n"
   ]
  },
  {
   "cell_type": "markdown",
   "metadata": {
    "slideshow": {
     "slide_type": "slide"
    }
   },
   "source": [
    "De manera alternativa, $y_{1}$ y $y_{2}$ son linealmente independientes sobre $I$ si y solo si $W(y_{1}, y_{2})(x)$ nunca es cero en $I$. "
   ]
  },
  {
   "cell_type": "markdown",
   "metadata": {
    "slideshow": {
     "slide_type": "slide"
    }
   },
   "source": [
    "### Demostración del Teorema 3.3.3 \n",
    "Página 157 del Boyce DiPrima "
   ]
  },
  {
   "cell_type": "markdown",
   "metadata": {
    "slideshow": {
     "slide_type": "slide"
    }
   },
   "source": [
    "Por supuesto, por el teorema 3.3.2 se base que $W(y_{1},y_{2})(x) = 0$ para todo punto de $I$, o bien no es cero en ningún punto de $I$. "
   ]
  },
  {
   "cell_type": "code",
   "execution_count": null,
   "metadata": {
    "slideshow": {
     "slide_type": "skip"
    }
   },
   "outputs": [],
   "source": []
  },
  {
   "cell_type": "markdown",
   "metadata": {
    "slideshow": {
     "slide_type": "slide"
    }
   },
   "source": [
    "# 3.4 Raices complejas de la ecuación característica\n",
    "Página 160 del Boyce DiPrima "
   ]
  },
  {
   "cell_type": "markdown",
   "metadata": {
    "slideshow": {
     "slide_type": "slide"
    }
   },
   "source": [
    "En esta sección se continúa el análisis de la ecuación \n",
    "\n",
    "$$ ay'' + by' + cy = 0  $$\n",
    "donde $a,b$ y $c$ son números reales dados. "
   ]
  },
  {
   "cell_type": "markdown",
   "metadata": {
    "slideshow": {
     "slide_type": "slide"
    }
   },
   "source": [
    "En la sección 3.1 se vio que si se buscan soluciones de la forma $y = e^{rx}$, entonces $r$ debe ser una raíz de la ecuación característica \n",
    "\n",
    "$$ar^{2} + br + c = 0, $$\n"
   ]
  },
  {
   "cell_type": "markdown",
   "metadata": {
    "slideshow": {
     "slide_type": "slide"
    }
   },
   "source": [
    "Si las raíces $r_{1}$ y $r_{2}$ son reales diferentes, lo que ocurre siempre que el discriminante \n",
    "\n",
    "$$b^{2} - 4ac > 0, $$\n",
    "\n",
    "entonces la solución general de \n",
    "\n",
    "$$ ay'' + by' + cy = 0  $$\n",
    "\n",
    "es \n",
    "\n",
    "$$ y = c_{1}e^{r_{1}x} + c_{2}e^{r_{2}x}. $$\n",
    "\n",
    "\n"
   ]
  },
  {
   "cell_type": "markdown",
   "metadata": {
    "slideshow": {
     "slide_type": "slide"
    }
   },
   "source": [
    "Ahora suponga que $b^{2} - 4ac < 0$, entonces las raíces de \n",
    "\n",
    "$$ar^{2} + br + c = 0 $$\n",
    "\n",
    "son números complejos conjugados; "
   ]
  },
  {
   "cell_type": "markdown",
   "metadata": {
    "slideshow": {
     "slide_type": "slide"
    }
   },
   "source": [
    "se les denota por \n",
    "\n",
    "$$ r_{1} = \\lambda + i\\mu, \\quad \\quad r_{2} = \\lambda - i\\mu, $$\n"
   ]
  },
  {
   "cell_type": "markdown",
   "metadata": {
    "slideshow": {
     "slide_type": "slide"
    }
   },
   "source": [
    "donde $\\lambda$ y $\\mu$ son reales. "
   ]
  },
  {
   "cell_type": "markdown",
   "metadata": {
    "slideshow": {
     "slide_type": "slide"
    }
   },
   "source": [
    "Las expresiones correspondientes para $y$ son \n",
    "\n",
    "$$ y_{1} = \\exp[(\\lambda + i\\mu)x] \\quad \\quad y_{2} = \\exp[(\\lambda - i\\mu)x]. $$\n"
   ]
  },
  {
   "cell_type": "markdown",
   "metadata": {
    "slideshow": {
     "slide_type": "slide"
    }
   },
   "source": [
    "La primera tarea es examinar el significado de estas expresiones, lo cual comprende la evaluación de la función exponencial para un número complejo. "
   ]
  },
  {
   "cell_type": "markdown",
   "metadata": {
    "slideshow": {
     "slide_type": "slide"
    }
   },
   "source": [
    "Por ejemplo, si $\\lambda = -1$, $\\mu = 2$ y $x = 3$, entonces por la ecuación \n",
    "\n",
    "$$ y_{1}(3) = e^{-3 + 6i} $$\n"
   ]
  },
  {
   "cell_type": "markdown",
   "metadata": {
    "slideshow": {
     "slide_type": "slide"
    }
   },
   "source": [
    "¿Qué significa elevar un número, como $e$, a una potencia compleja?"
   ]
  },
  {
   "cell_type": "markdown",
   "metadata": {
    "slideshow": {
     "slide_type": "slide"
    }
   },
   "source": [
    "La respuesta es proporcionada por una importante relación comocida como la fórmula de **Euler**. "
   ]
  },
  {
   "cell_type": "markdown",
   "metadata": {
    "slideshow": {
     "slide_type": "slide"
    }
   },
   "source": [
    "## Fórmula de Euler "
   ]
  },
  {
   "cell_type": "markdown",
   "metadata": {
    "slideshow": {
     "slide_type": "slide"
    }
   },
   "source": [
    "Para dar significado a las ecuaciones \n",
    "$$ y_{1} = \\exp[(\\lambda + i\\mu)x] \\quad \\quad y_{2} = \\exp[(\\lambda - i\\mu)x]. $$\n",
    "es necesario contar con una definición de la función exponencial compleja. "
   ]
  },
  {
   "cell_type": "markdown",
   "metadata": {
    "slideshow": {
     "slide_type": "slide"
    }
   },
   "source": [
    "Por supuesto, se desea que la definición se reduzca a la función exponencial cuando el exponente es real. "
   ]
  },
  {
   "cell_type": "markdown",
   "metadata": {
    "slideshow": {
     "slide_type": "slide"
    }
   },
   "source": [
    "Existen varias maneras de realizar esta extensión de la función exponencial. "
   ]
  },
  {
   "cell_type": "markdown",
   "metadata": {
    "slideshow": {
     "slide_type": "slide"
    }
   },
   "source": [
    "Aquí se aplica un método basado en series infinitas, en el problema 24 se bosqueja un método alternativo. "
   ]
  },
  {
   "cell_type": "markdown",
   "metadata": {
    "slideshow": {
     "slide_type": "slide"
    }
   },
   "source": [
    "Recuerde, por lo visto en cálculo elemental, que la serie de Taylor para $e^{x}$ en torno a $x = 0$ es:\n",
    "\n",
    "$$ e^{x} = \\sum_{n = 0}^{\\infty} \\frac{x^{n}}{n!}, \\quad \\quad -\\infty < x < \\infty $$\n"
   ]
  },
  {
   "cell_type": "code",
   "execution_count": 1,
   "metadata": {
    "slideshow": {
     "slide_type": "slide"
    }
   },
   "outputs": [],
   "source": [
    "import numpy as np \n",
    "import math as m "
   ]
  },
  {
   "cell_type": "code",
   "execution_count": 2,
   "metadata": {
    "slideshow": {
     "slide_type": "slide"
    }
   },
   "outputs": [
    {
     "data": {
      "text/plain": [
       "array([0, 1, 2, 3, 4])"
      ]
     },
     "execution_count": 2,
     "metadata": {},
     "output_type": "execute_result"
    }
   ],
   "source": [
    "n_terminos=5\n",
    "N=np.arange(0,n_terminos,1)\n",
    "N "
   ]
  },
  {
   "cell_type": "code",
   "execution_count": 3,
   "metadata": {
    "slideshow": {
     "slide_type": "slide"
    }
   },
   "outputs": [],
   "source": [
    "x = 1 "
   ]
  },
  {
   "cell_type": "code",
   "execution_count": 4,
   "metadata": {
    "slideshow": {
     "slide_type": "slide"
    }
   },
   "outputs": [
    {
     "data": {
      "text/plain": [
       "2.708333333333333"
      ]
     },
     "execution_count": 4,
     "metadata": {},
     "output_type": "execute_result"
    }
   ],
   "source": [
    "valores=sum([x**n/m.factorial(n) for n in N]) \n",
    "valores "
   ]
  },
  {
   "cell_type": "markdown",
   "metadata": {
    "slideshow": {
     "slide_type": "slide"
    }
   },
   "source": [
    "Si ahora se supone que $x$ puede sustituirse por $ix$ en esta ecuación, entonces se obtiene\n",
    "\n",
    "\\begin{align*}\n",
    "e^{ix} & = \\sum_{n = 0}^{\\infty} \\frac{(ix)^{n}}{n!}  \\\\\n",
    "& = \\sum_{n = 0}^{\\infty} \\frac{(-1)^{n}x^{2n}}{(2n)!} + i\\sum_{n = 1}^{\\infty} \\frac{(-1)^{n}x^{2n-1}}{(2n-1)!},\n",
    "\\end{align*}\n"
   ]
  },
  {
   "cell_type": "markdown",
   "metadata": {
    "slideshow": {
     "slide_type": "slide"
    }
   },
   "source": [
    "# Presentación de Zill sobre Ecuaciones lineales homogéneas con coeficientes constantes"
   ]
  },
  {
   "cell_type": "markdown",
   "metadata": {
    "slideshow": {
     "slide_type": "slide"
    }
   },
   "source": [
    "## Ecuación auxiliar "
   ]
  },
  {
   "cell_type": "markdown",
   "metadata": {
    "slideshow": {
     "slide_type": "slide"
    }
   },
   "source": [
    "$$ ay'' + by' + cy = 0, $$\n",
    "donde $a, b$ y $c$ son constantes. "
   ]
  },
  {
   "cell_type": "markdown",
   "metadata": {
    "slideshow": {
     "slide_type": "slide"
    }
   },
   "source": [
    "Si se intenta encontrar una solución de la forma $y = e^{mx}$, entonces después de sustituir \n",
    "$$ y' = me^{mx}, \\ \\ \\ \\ \\ \\text{y} \\ \\ \\ \\ \\ y'' = m^{2}e^{mx} $$\n",
    "\n",
    "la ecuación diferencial se convierte en \n",
    "\n",
    "$$ e^{mx}(am^{2} + bm + c) = 0 $$\n"
   ]
  },
  {
   "cell_type": "markdown",
   "metadata": {
    "slideshow": {
     "slide_type": "slide"
    }
   },
   "source": [
    "Debido a que $e^{mx} \\neq 0$ para toda $x$, entonces, la única forma de que $y = e^{mx}$ sea solución de la ED dada es que $m$ sea una raiz de la ecuación cuadrática:\n",
    "\n",
    "$$ am^{2} + bm + c = 0 $$\n"
   ]
  },
  {
   "cell_type": "markdown",
   "metadata": {
    "slideshow": {
     "slide_type": "slide"
    }
   },
   "source": [
    "Esta última la llamamos ecuación auxiliar de la ecuación diferencial dada.  "
   ]
  },
  {
   "cell_type": "markdown",
   "metadata": {
    "slideshow": {
     "slide_type": "slide"
    }
   },
   "source": [
    "Como las dos raíces son:\n",
    "\n",
    "$$ m_{1} = \\frac{b^{2} + \\sqrt{b^{2} - 4ac}}{2a}, \\ \\ \\ \\ \\ \\text{y} \\ \\ \\ \\ \\ m_{2} = \\frac{b^{2} - \\sqrt{b^{2} - 4ac}}{2a} $$\n"
   ]
  },
  {
   "cell_type": "markdown",
   "metadata": {
    "slideshow": {
     "slide_type": "slide"
    }
   },
   "source": [
    "* $m_{1}$ y $m_{2}$ reales y distintas ($b^{2} - 4ac > 0$),  "
   ]
  },
  {
   "cell_type": "markdown",
   "metadata": {
    "slideshow": {
     "slide_type": "slide"
    }
   },
   "source": [
    "* $m_{1}$ y $m_{2}$ reales e iguales ($b^{2} - 4ac = 0$), y "
   ]
  },
  {
   "cell_type": "markdown",
   "metadata": {
    "slideshow": {
     "slide_type": "slide"
    }
   },
   "source": [
    " \n",
    "• $m_{1}$ y $m_{2}$ números conjugados complejos ($b^{2}- 4ac < 0$)."
   ]
  },
  {
   "cell_type": "markdown",
   "metadata": {
    "slideshow": {
     "slide_type": "slide"
    }
   },
   "source": [
    "Analicemos cada uno de estos casos."
   ]
  },
  {
   "cell_type": "markdown",
   "metadata": {
    "slideshow": {
     "slide_type": "slide"
    }
   },
   "source": [
    "CASO 1: RAÍCES REALES Y DISTINTAS Bajo la suposición de que la ecuación \n",
    "auxiliar (3) tiene dos raíces reales desiguales ml\n",
    " y m2\n",
    ", encontramos dos soluciones, \n",
    "y1 e\n",
    "m1x\n",
    " y y2 e\n",
    "m2x\n",
    ". Vemos que estas funciones son linealmente independientes \n",
    "en (\u0003\u0005, \u0005) y, por tanto, forman un conjunto fundamental. Se deduce que la solución \n",
    "general de (2) en este intervalo es\n",
    "\n",
    "$$ y = c_{1}e^{m_{1}x} + c_{2}e^{m_{2}x} $$\n"
   ]
  },
  {
   "cell_type": "markdown",
   "metadata": {
    "slideshow": {
     "slide_type": "slide"
    }
   },
   "source": [
    "## CASO II:   \n",
    "### RAÍCES REALES REPETIDAS  \n",
    "\n",
    "Cuando $ml = m2$, necesariamente se obtiene sólo una solución exponencial, $y_{1} = e^{m_{1}x}$.  "
   ]
  },
  {
   "cell_type": "markdown",
   "metadata": {
    "slideshow": {
     "slide_type": "slide"
    }
   },
   "source": [
    "De la fórmula cuadrática se encuentra que $m_{1} = -b/2a$ puesto que la única forma en que se tiene que $m_{1} = m_{2}$ es tener $b^{2}-4ac = 0$. "
   ]
  },
  {
   "cell_type": "markdown",
   "metadata": {
    "slideshow": {
     "slide_type": "slide"
    }
   },
   "source": [
    "Tenemos de (5) en la sección 4.2 que una segunda solución de la ecuación es\n",
    "\n",
    "\\begin{equation}\\label{(5)} y_{2} =  e^{m_{1}x} \\int \\frac{e^{2m_{1}x}}{e^{2m_{1}x}}dx = e^{m_{1}x}\\int dx = xe^{m_{1}x}  \\end{equation}"
   ]
  },
  {
   "cell_type": "markdown",
   "metadata": {
    "slideshow": {
     "slide_type": "slide"
    }
   },
   "source": [
    "En (5) hemos usado el hecho de que $– b/a = 2m_{1}$. La solución general es entonces\n",
    "\n",
    "$$ y = c_{1}e^{m_{1}x} + c_{2}xe^{m_{1}x} $$\n"
   ]
  },
  {
   "cell_type": "markdown",
   "metadata": {
    "slideshow": {
     "slide_type": "slide"
    }
   },
   "source": [
    "## CASO III:\n",
    "### RAÍCES COMPLEJAS CONJUGADAS \n",
    "\n",
    "Si $ml$ y $m2$ son complejas, entonces se puede escribir $ml \u0001 a \u0004 ib$ y $m2 \u0001 a \u0003 ib$, donde $a$ y $b \t 0$ son reales $i2 \u0001 \u00031$. "
   ]
  },
  {
   "cell_type": "markdown",
   "metadata": {
    "slideshow": {
     "slide_type": "slide"
    }
   },
   "source": [
    "De manera formal, no hay diferencia entre este caso y el caso I y, por tanto,\n",
    "\n",
    "$$ y = c_{1}e^{(\\alpha + i\\beta)x} + c_{1}e^{(\\alpha - i\\beta)x} $$\n"
   ]
  },
  {
   "cell_type": "markdown",
   "metadata": {
    "slideshow": {
     "slide_type": "slide"
    }
   },
   "source": [
    "Sin embargo, en la práctica se prefiere trabajar con funciones reales en lugar de exponenciales complejas. Con este fin se usa la fórmula de Euler:\n",
    "\n",
    "$$ e^{i\\theta} =  $$\n"
   ]
  },
  {
   "cell_type": "markdown",
   "metadata": {
    "slideshow": {
     "slide_type": "slide"
    }
   },
   "source": [
    "donde $\\theta$ es cualquier número real.* Se tiene de esta fórmula que\n",
    "\n",
    "$$ e^{i\\beta x} =  \\cos \\beta x + i\\sin \\beta x \\ \\ \\ \\ \\text{y} \\ \\ \\ \\ e^{i\\beta x} =  \\cos \\beta x - i\\sin \\beta x $$\n"
   ]
  },
  {
   "cell_type": "markdown",
   "metadata": {
    "slideshow": {
     "slide_type": "slide"
    }
   },
   "source": [
    "donde se usaron $cos(-\\beta x) = cos (\\beta x)$ y $sen(-\\beta x) = - sen \\beta x$. "
   ]
  },
  {
   "cell_type": "markdown",
   "metadata": {
    "slideshow": {
     "slide_type": "slide"
    }
   },
   "source": [
    "Observe que si primero se suma y luego se restan las dos ecuaciones en (7), se obtiene, respectivamente,\n",
    "\n",
    "$$ e^{i\\beta x} + e^{-i\\beta x} = 2\\cos \\beta x \\ \\ \\ \\ \\ \\ \\ \\text{y} \\ \\ \\ \\ \\ \\ \\ e^{i\\beta x} - e^{-i\\beta x} = 2i\\sin \\beta x  $$\n"
   ]
  },
  {
   "cell_type": "markdown",
   "metadata": {
    "slideshow": {
     "slide_type": "slide"
    }
   },
   "source": [
    "Puesto que $y = c_{1}e^{(\\alpha + i\\beta)x} + c_{2}e^{(\\alpha - i\\beta)x}$ es la solución de $ay'' + by' + cy = 0$ para alguna elección de las constantes $c_{1}$ y $c_{2}$, las elecciones $c_{1} = c_{2} = 1$ y $c_{1} = 1$, $c_{2} = -1$ dan, a su vez, dos soluciones \n",
    "\n",
    "$$ y = e^{(\\alpha + i\\beta)x} + e^{(\\alpha - i\\beta)x}\\ \\ \\  \\ \\ \\text{y} \\ \\ \\ \\ \\ y = e^{(\\alpha + i\\beta)x} - e^{(\\alpha - i\\beta)x} $$\n"
   ]
  },
  {
   "cell_type": "markdown",
   "metadata": {
    "slideshow": {
     "slide_type": "slide"
    }
   },
   "source": [
    "Pero \n",
    "\n",
    "$$ y_{1} = e^{\\alpha x}(e^{i\\beta x} + e^{-i\\beta x}) = 2e^{\\alpha x}\\cos \\beta x $$\n",
    "\n",
    "y \n",
    "\n",
    "$$ y_{2} = e^{\\alpha x}(e^{i\\beta x} - e^{-i\\beta x}) = 2ie^{\\alpha x}\\sin \\beta x $$"
   ]
  },
  {
   "cell_type": "markdown",
   "metadata": {
    "slideshow": {
     "slide_type": "slide"
    }
   },
   "source": [
    "Por tanto, del corolario A) del teorema 4.1.2, los dos últimos resultados muestran que $e^{\\alpha x}\\cos \\beta x$ y $e^{\\alpha x}\\sin \\beta x$ son soluciones reales de (2). Además, estas soluciones forman \n",
    "un conjunto fundamental en $(-\\infty, \\infty)$. Por tanto, la solución general es\n",
    "\n",
    "$$ y = c_{1}e^{\\alpha x} \\cos \\beta x + c_{2}e^{\\alpha x}\\sin \\beta x = e^{\\alpha x}(c_{1}\\cos \\beta x + c_{2}\\sin \\beta x) $$\n"
   ]
  },
  {
   "cell_type": "markdown",
   "metadata": {
    "slideshow": {
     "slide_type": "slide"
    }
   },
   "source": [
    "## Ejemplo 1  ED de segundo orden\n",
    "\n",
    "Resuelva las siguientes ecuaciones diferenciales.\n",
    "\n",
    "$$ a)2y''-5y' - 3y = 0 \\ \\ \\ \\ \\ \\ \\ \\ b)y'' - 10y' + 25y = 0 \\ \\ \\ \\ \\ \\ \\ \\ c) y'' + 4y' + 7y = 0 $$\n"
   ]
  },
  {
   "cell_type": "code",
   "execution_count": 2,
   "metadata": {
    "slideshow": {
     "slide_type": "slide"
    }
   },
   "outputs": [
    {
     "data": {
      "application/vnd.jupyter.widget-view+json": {
       "model_id": "e50d12a2bfd7477ea368a107fa043351",
       "version_major": 2,
       "version_minor": 0
      },
      "text/plain": [
       "interactive(children=(IntSlider(value=0, description='c1', max=3, min=-3), IntSlider(value=0, description='c2'…"
      ]
     },
     "metadata": {},
     "output_type": "display_data"
    },
    {
     "data": {
      "text/plain": [
       "<function __main__.graficar(c1=0, c2=0)>"
      ]
     },
     "execution_count": 2,
     "metadata": {},
     "output_type": "execute_result"
    }
   ],
   "source": [
    "import numpy as np \n",
    "import matplotlib.pyplot as plt \n",
    "\n",
    "from ipywidgets import interact \n",
    "\n",
    "x = np.linspace(-3,3) \n",
    "\n",
    "def graficar(c1=0, c2 = 0):\n",
    "    y = c1*np.exp(3*x)+c2*np.exp((-1/2)*x)\n",
    "    plt.plot(x,y)\n",
    "    \n",
    "    \n",
    "interact(graficar, c1 = (-3,3), c2 = (-3,3))    \n"
   ]
  },
  {
   "cell_type": "markdown",
   "metadata": {
    "slideshow": {
     "slide_type": "slide"
    }
   },
   "source": [
    "## EJEMPLO 2 Un problema con valores iniciales\n",
    "\n",
    "Resuelva \n",
    "\n",
    "$$ 4y'' + 4y' + 17y = 0, \\ \\ \\:\\:\\: y(0) = -1, \\:\\:\\: y'(0) = 2 $$\n"
   ]
  },
  {
   "cell_type": "code",
   "execution_count": null,
   "metadata": {
    "slideshow": {
     "slide_type": "slide"
    }
   },
   "outputs": [],
   "source": []
  },
  {
   "cell_type": "markdown",
   "metadata": {
    "slideshow": {
     "slide_type": "slide"
    }
   },
   "source": [
    "# DOS ECUACIONES QUE MERECEN CONOCERSE \n",
    "\n",
    "$$ y'' + k^{2}y = 0 \\ \\ \\ \\ \\:\\:\\:\\: y'' - k^{2}y = 0 $$\n"
   ]
  },
  {
   "cell_type": "markdown",
   "metadata": {
    "slideshow": {
     "slide_type": "slide"
    }
   },
   "source": [
    "donde $k$ es real, son importantes en matemáticas aplicadas. "
   ]
  },
  {
   "cell_type": "markdown",
   "metadata": {
    "slideshow": {
     "slide_type": "slide"
    }
   },
   "source": [
    "Para y\u0006 \u0004 k 2 y \u0001 0, la ecua\u0002ción auxiliar m2 \u0004 k 2 \u0001 0 tienen raíces imaginarias m1 \u0001 ki y m2 \u0001 \u0003ki. Con a \u0001 0 y b \u0001 k en (8) se ve que la solución general de la ED es\n",
    "\n",
    "$$ y = c_{1}\\cos kx + c_{2}\\sin kx $$\n"
   ]
  },
  {
   "cell_type": "code",
   "execution_count": null,
   "metadata": {
    "slideshow": {
     "slide_type": "slide"
    }
   },
   "outputs": [],
   "source": []
  },
  {
   "cell_type": "markdown",
   "metadata": {
    "slideshow": {
     "slide_type": "slide"
    }
   },
   "source": [
    "# ECUACIONES DE ORDEN SUPERIOR "
   ]
  },
  {
   "cell_type": "markdown",
   "metadata": {
    "slideshow": {
     "slide_type": "slide"
    }
   },
   "source": [
    "$$ a_{n}m^{n} + a_{n-1}m^{n-1} + \\cdots + a_{2}m^{2} + a_{1}m + a_{0} = 0.   $$"
   ]
  },
  {
   "cell_type": "code",
   "execution_count": null,
   "metadata": {
    "slideshow": {
     "slide_type": "slide"
    }
   },
   "outputs": [],
   "source": []
  },
  {
   "cell_type": "markdown",
   "metadata": {
    "slideshow": {
     "slide_type": "slide"
    }
   },
   "source": [
    "## EJEMPLO 3 ED de tercer orden  \n",
    "\n",
    "Resuelva  $y''' + 3y''  - 4y = 0 $\n"
   ]
  },
  {
   "cell_type": "code",
   "execution_count": null,
   "metadata": {
    "slideshow": {
     "slide_type": "slide"
    }
   },
   "outputs": [],
   "source": []
  },
  {
   "cell_type": "markdown",
   "metadata": {
    "slideshow": {
     "slide_type": "slide"
    }
   },
   "source": [
    "# USO DE COMPUTADORAS "
   ]
  },
  {
   "cell_type": "markdown",
   "metadata": {
    "slideshow": {
     "slide_type": "slide"
    }
   },
   "source": [
    "Determinar las raíces o aproximar las raíces de ecuaciones auxiliares es un problema de rutina con una calculadora apropiada o con un paquete de cómputo. "
   ]
  },
  {
   "cell_type": "markdown",
   "metadata": {
    "slideshow": {
     "slide_type": "slide"
    }
   },
   "source": [
    "Las ecuaciones polinomiales (en una variable) de grado menor que cinco se resuelven por medio de fórmulas algebraicas usando las instrucciones solve en Mathematica y Maple. "
   ]
  },
  {
   "cell_type": "markdown",
   "metadata": {
    "slideshow": {
     "slide_type": "slide"
    }
   },
   "source": [
    "Para ecuaciones polinomiales de grado cinco o mayor podría ser necesario recurrir a comandos numéricos tales como NSolve y FindRoot en Mathematica. "
   ]
  },
  {
   "cell_type": "markdown",
   "metadata": {
    "slideshow": {
     "slide_type": "slide"
    }
   },
   "source": [
    "Debido a su capacidad para resolver ecuaciones polinomiales, no es sorprendente que estos sistemas algebraicos para computadora también puedan, usando sus comandos dsolve, dar soluciones \n",
    "explícitas de ecuaciones diferenciales lineales homogéneas con coefi cientes constantes.\n",
    "En el libro clásico Differential Equations de Ralph Palmer Agnew* (que el autor \n",
    "usó cuando era estudiante), se expresa el siguiente enunciado:\n",
    "No es razonable esperar que los alumnos de este curso tengan la capacidad y el \n",
    "equipo de cómputo necesario para resolver de manera efi caz ecuaciones tales como\n",
    "\n",
    "$$ 4.317 \\frac{d^{4}y}{dx^{4}}  $$\n"
   ]
  },
  {
   "cell_type": "code",
   "execution_count": null,
   "metadata": {
    "slideshow": {
     "slide_type": "slide"
    }
   },
   "outputs": [],
   "source": []
  },
  {
   "cell_type": "code",
   "execution_count": null,
   "metadata": {},
   "outputs": [],
   "source": []
  },
  {
   "cell_type": "markdown",
   "metadata": {
    "slideshow": {
     "slide_type": "slide"
    }
   },
   "source": [
    "# Ejercicios propuestos para esta clase"
   ]
  },
  {
   "cell_type": "markdown",
   "metadata": {
    "slideshow": {
     "slide_type": "slide"
    }
   },
   "source": [
    "1. En los problemas 59 y 60 utilice un Matplotlib y sympy como ayuda para resolver la ecuación auxiliar. \n",
    "\n",
    "2. Forme la solución general de la ecuación diferencial. Después utilice un matplotlib y sympy como ayuda para  resolver el sistema de ecuaciones para los coeficientes $c_{i},$ $i = 1,2,3,4$ que resulta \n",
    "   cuando se aplican las condiciones iniciales a la solución general.\n",
    "\n",
    "3. Realice un video de explicación "
   ]
  },
  {
   "cell_type": "markdown",
   "metadata": {
    "slideshow": {
     "slide_type": "slide"
    }
   },
   "source": [
    "59. $$ 2y^{(4)} + 3y''' - 16y'' + 15y' - 4y = 0 $$\n",
    "\n",
    "$$ y(0) = -2, \\ \\ \\ \\ y'(0) = 6, \\ \\ \\ \\ \\ y''(0) = 3, \\ \\ \\ \\ y'''(0) = \\frac{1}{2}. $$\n"
   ]
  },
  {
   "cell_type": "markdown",
   "metadata": {
    "slideshow": {
     "slide_type": "slide"
    }
   },
   "source": [
    "60. $$ y^{(4)} - 3y''' + 3y'' - y' = 0 $$\n",
    "\n",
    "$$ y(0) = y'(0) = 0, \\ \\ \\ \\ y''(0) = y'''(0) = 1 $$\n"
   ]
  },
  {
   "cell_type": "code",
   "execution_count": 1,
   "metadata": {
    "slideshow": {
     "slide_type": "slide"
    }
   },
   "outputs": [
    {
     "name": "stdout",
     "output_type": "stream",
     "text": [
      "{1: 2}\n"
     ]
    }
   ],
   "source": [
    "from sympy import roots, Symbol\n",
    "\n",
    "m = Symbol(\"m\")\n",
    "print(roots(m**2 - 2*m + 1))\n"
   ]
  },
  {
   "cell_type": "markdown",
   "metadata": {
    "slideshow": {
     "slide_type": "slide"
    }
   },
   "source": [
    "## Referentes\n",
    "\n",
    "* La función `roots()` de sympy: "
   ]
  },
  {
   "cell_type": "code",
   "execution_count": null,
   "metadata": {},
   "outputs": [],
   "source": []
  }
 ],
 "metadata": {
  "celltoolbar": "Slideshow",
  "hide_input": false,
  "kernelspec": {
   "display_name": "Python 3 (ipykernel)",
   "language": "python",
   "name": "python3"
  },
  "language_info": {
   "codemirror_mode": {
    "name": "ipython",
    "version": 3
   },
   "file_extension": ".py",
   "mimetype": "text/x-python",
   "name": "python",
   "nbconvert_exporter": "python",
   "pygments_lexer": "ipython3",
   "version": "3.9.7"
  },
  "latex_envs": {
   "LaTeX_envs_menu_present": true,
   "autoclose": false,
   "autocomplete": false,
   "bibliofile": "biblio.bib",
   "cite_by": "apalike",
   "current_citInitial": 1,
   "eqLabelWithNumbers": true,
   "eqNumInitial": 1,
   "hotkeys": {
    "equation": "Ctrl-E",
    "itemize": "Ctrl-I"
   },
   "labels_anchors": false,
   "latex_user_defs": false,
   "report_style_numbering": false,
   "user_envs_cfg": false
  },
  "nbTranslate": {
   "displayLangs": [
    "*"
   ],
   "hotkey": "alt-t",
   "langInMainMenu": true,
   "sourceLang": "en",
   "targetLang": "es",
   "useGoogleTranslate": true
  },
  "rise": {
   "enable_chalkboard": "true",
   "theme": "sky",
   "transition": "sky"
  }
 },
 "nbformat": 4,
 "nbformat_minor": 2
}
