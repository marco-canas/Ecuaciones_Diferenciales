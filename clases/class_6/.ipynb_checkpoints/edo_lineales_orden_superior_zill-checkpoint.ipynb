{
 "cells": [
  {
   "cell_type": "markdown",
   "metadata": {
    "slideshow": {
     "slide_type": "slide"
    }
   },
   "source": [
    "<table align=\"left\">\n",
    "  <td>\n",
    "    <a href=\"https://colab.research.google.com/github/marco-canas/edo/blob/main/clases/class_6/class_6_ODE.ipynb\" target=\"_parent\"><img src=\"https://colab.research.google.com/assets/colab-badge.svg\" alt=\"Open In Colab\"/></a>\n",
    "  </td>\n",
    "</table>"
   ]
  },
  {
   "cell_type": "markdown",
   "metadata": {
    "slideshow": {
     "slide_type": "slide"
    }
   },
   "source": [
    "## [Video de apoyo]()"
   ]
  },
  {
   "cell_type": "markdown",
   "metadata": {
    "slideshow": {
     "slide_type": "slide"
    }
   },
   "source": [
    "# Presentación de Zill sobre Ecuaciones lineales homogéneas con coeficientes constantes"
   ]
  },
  {
   "cell_type": "markdown",
   "metadata": {
    "slideshow": {
     "slide_type": "slide"
    }
   },
   "source": [
    "## Ecuación auxiliar "
   ]
  },
  {
   "cell_type": "markdown",
   "metadata": {
    "slideshow": {
     "slide_type": "slide"
    }
   },
   "source": [
    "$$ ay'' + by' + cy = 0, $$\n",
    "donde $a, b$ y $c$ son constantes. "
   ]
  },
  {
   "cell_type": "markdown",
   "metadata": {
    "slideshow": {
     "slide_type": "slide"
    }
   },
   "source": [
    "Si se intenta encontrar una solución de la forma $y = e^{mx}$, entonces después de sustituir \n",
    "$$ y' = me^{mx}, \\ \\ \\ \\ \\ \\text{y} \\ \\ \\ \\ \\ y'' = m^{2}e^{mx} $$\n",
    "\n",
    "la ecuación diferencial se convierte en \n",
    "\n",
    "$$ e^{mx}(am^{2} + bm + c) = 0 $$\n"
   ]
  },
  {
   "cell_type": "markdown",
   "metadata": {
    "slideshow": {
     "slide_type": "slide"
    }
   },
   "source": [
    "Debido a que $e^{mx} \\neq 0$ para toda $x$, entonces, la única forma de que $y = e^{mx}$ sea solución de la ED dada es que $m$ sea una raiz de la ecuación cuadrática:\n",
    "\n",
    "$$ am^{2} + bm + c = 0 $$\n"
   ]
  },
  {
   "cell_type": "markdown",
   "metadata": {
    "slideshow": {
     "slide_type": "slide"
    }
   },
   "source": [
    "Esta última la llamamos ecuación auxiliar de la ecuación diferencial dada.  "
   ]
  },
  {
   "cell_type": "markdown",
   "metadata": {
    "slideshow": {
     "slide_type": "slide"
    }
   },
   "source": [
    "Como las dos raíces son:\n",
    "\n",
    "$$ m_{1} = \\frac{b^{2} + \\sqrt{b^{2} - 4ac}}{2a}, \\ \\ \\ \\ \\ \\text{y} \\ \\ \\ \\ \\ m_{2} = \\frac{b^{2} - \\sqrt{b^{2} - 4ac}}{2a} $$\n"
   ]
  },
  {
   "cell_type": "markdown",
   "metadata": {
    "slideshow": {
     "slide_type": "slide"
    }
   },
   "source": [
    "* $m_{1}$ y $m_{2}$ reales y distintas ($b^{2} - 4ac > 0$),  "
   ]
  },
  {
   "cell_type": "markdown",
   "metadata": {
    "slideshow": {
     "slide_type": "slide"
    }
   },
   "source": [
    "* $m_{1}$ y $m_{2}$ reales e iguales ($b^{2} - 4ac = 0$), y "
   ]
  },
  {
   "cell_type": "markdown",
   "metadata": {
    "slideshow": {
     "slide_type": "slide"
    }
   },
   "source": [
    " \n",
    "• $m_{1}$ y $m_{2}$ números conjugados complejos ($b^{2}- 4ac < 0$)."
   ]
  },
  {
   "cell_type": "markdown",
   "metadata": {
    "slideshow": {
     "slide_type": "slide"
    }
   },
   "source": [
    "Analicemos cada uno de estos casos."
   ]
  },
  {
   "cell_type": "markdown",
   "metadata": {
    "slideshow": {
     "slide_type": "slide"
    }
   },
   "source": [
    "CASO 1: RAÍCES REALES Y DISTINTAS Bajo la suposición de que la ecuación \n",
    "auxiliar (3) tiene dos raíces reales desiguales ml\n",
    " y m2\n",
    ", encontramos dos soluciones, \n",
    "y1 e\n",
    "m1x\n",
    " y y2 e\n",
    "m2x\n",
    ". Vemos que estas funciones son linealmente independientes \n",
    "en (\u0003\u0005, \u0005) y, por tanto, forman un conjunto fundamental. Se deduce que la solución \n",
    "general de (2) en este intervalo es\n",
    "\n",
    "$$ y = c_{1}e^{m_{1}x} + c_{2}e^{m_{2}x} $$\n"
   ]
  },
  {
   "cell_type": "markdown",
   "metadata": {
    "slideshow": {
     "slide_type": "slide"
    }
   },
   "source": [
    "## CASO II:   \n",
    "### RAÍCES REALES REPETIDAS  \n",
    "\n",
    "Cuando $ml = m2$, necesariamente se obtiene sólo una solución exponencial, $y_{1} = e^{m_{1}x}$.  "
   ]
  },
  {
   "cell_type": "markdown",
   "metadata": {
    "slideshow": {
     "slide_type": "slide"
    }
   },
   "source": [
    "De la fórmula cuadrática se encuentra que $m_{1} = -b/2a$ puesto que la única forma en que se tiene que $m_{1} = m_{2}$ es tener $b^{2}-4ac = 0$. "
   ]
  },
  {
   "cell_type": "markdown",
   "metadata": {
    "slideshow": {
     "slide_type": "slide"
    }
   },
   "source": [
    "Tenemos de (5) en la sección 4.2 que una segunda solución de la ecuación es\n",
    "\n",
    "\\begin{equation}\\label{(5)} y_{2} =  e^{m_{1}x} \\int \\frac{e^{2m_{1}x}}{e^{2m_{1}x}}dx = e^{m_{1}x}\\int dx = xe^{m_{1}x}  \\end{equation}"
   ]
  },
  {
   "cell_type": "markdown",
   "metadata": {
    "slideshow": {
     "slide_type": "slide"
    }
   },
   "source": [
    "En (5) hemos usado el hecho de que $– b/a = 2m_{1}$. La solución general es entonces\n",
    "\n",
    "$$ y = c_{1}e^{m_{1}x} + c_{2}xe^{m_{1}x} $$\n"
   ]
  },
  {
   "cell_type": "markdown",
   "metadata": {
    "slideshow": {
     "slide_type": "slide"
    }
   },
   "source": [
    "## CASO III:\n",
    "### RAÍCES COMPLEJAS CONJUGADAS \n",
    "\n",
    "Si $ml$ y $m2$ son complejas, entonces se puede escribir $ml \u0001 a \u0004 ib$ y $m2 \u0001 a \u0003 ib$, donde $a$ y $b \t 0$ son reales $i2 \u0001 \u00031$. "
   ]
  },
  {
   "cell_type": "markdown",
   "metadata": {
    "slideshow": {
     "slide_type": "slide"
    }
   },
   "source": [
    "De manera formal, no hay diferencia entre este caso y el caso I y, por tanto,\n",
    "\n",
    "$$ y = c_{1}e^{(\\alpha + i\\beta)x} + c_{1}e^{(\\alpha - i\\beta)x} $$\n"
   ]
  },
  {
   "cell_type": "markdown",
   "metadata": {
    "slideshow": {
     "slide_type": "slide"
    }
   },
   "source": [
    "Sin embargo, en la práctica se prefiere trabajar con funciones reales en lugar de exponenciales complejas. Con este fin se usa la fórmula de Euler:\n",
    "\n",
    "$$ e^{i\\theta} =  $$\n"
   ]
  },
  {
   "cell_type": "markdown",
   "metadata": {
    "slideshow": {
     "slide_type": "slide"
    }
   },
   "source": [
    "donde $\\theta$ es cualquier número real.* Se tiene de esta fórmula que\n",
    "\n",
    "$$ e^{i\\beta x} =  \\cos \\beta x + i\\sin \\beta x \\ \\ \\ \\ \\text{y} \\ \\ \\ \\ e^{i\\beta x} =  \\cos \\beta x - i\\sin \\beta x $$\n"
   ]
  },
  {
   "cell_type": "markdown",
   "metadata": {
    "slideshow": {
     "slide_type": "slide"
    }
   },
   "source": [
    "donde se usaron $cos(-\\beta x) = cos (\\beta x)$ y $sen(-\\beta x) = - sen \\beta x$. "
   ]
  },
  {
   "cell_type": "markdown",
   "metadata": {
    "slideshow": {
     "slide_type": "slide"
    }
   },
   "source": [
    "Observe que si primero se suma y luego se restan las dos ecuaciones en (7), se obtiene, respectivamente,\n",
    "\n",
    "$$ e^{i\\beta x} + e^{-i\\beta x} = 2\\cos \\beta x \\ \\ \\ \\ \\ \\ \\ \\text{y} \\ \\ \\ \\ \\ \\ \\ e^{i\\beta x} - e^{-i\\beta x} = 2i\\sin \\beta x  $$\n"
   ]
  },
  {
   "cell_type": "markdown",
   "metadata": {
    "slideshow": {
     "slide_type": "slide"
    }
   },
   "source": [
    "Puesto que $y = c_{1}e^{(\\alpha + i\\beta)x} + c_{2}e^{(\\alpha - i\\beta)x}$ es la solución de $ay'' + by' + cy = 0$ para alguna elección de las constantes $c_{1}$ y $c_{2}$, las elecciones $c_{1} = c_{2} = 1$ y $c_{1} = 1$, $c_{2} = -1$ dan, a su vez, dos soluciones \n",
    "\n",
    "$$ y = e^{(\\alpha + i\\beta)x} + e^{(\\alpha - i\\beta)x}\\ \\ \\  \\ \\ \\text{y} \\ \\ \\ \\ \\ y = e^{(\\alpha + i\\beta)x} - e^{(\\alpha - i\\beta)x} $$\n"
   ]
  },
  {
   "cell_type": "markdown",
   "metadata": {
    "slideshow": {
     "slide_type": "slide"
    }
   },
   "source": [
    "Pero \n",
    "\n",
    "$$ y_{1} = e^{\\alpha x}(e^{i\\beta x} + e^{-i\\beta x}) = 2e^{\\alpha x}\\cos \\beta x $$\n",
    "\n",
    "y \n",
    "\n",
    "$$ y_{2} = e^{\\alpha x}(e^{i\\beta x} - e^{-i\\beta x}) = 2ie^{\\alpha x}\\sin \\beta x $$"
   ]
  },
  {
   "cell_type": "markdown",
   "metadata": {
    "slideshow": {
     "slide_type": "slide"
    }
   },
   "source": [
    "Por tanto, del corolario A) del teorema 4.1.2, los dos últimos resultados muestran que $e^{\\alpha x}\\cos \\beta x$ y $e^{\\alpha x}\\sin \\beta x$ son soluciones reales de (2). Además, estas soluciones forman \n",
    "un conjunto fundamental en $(-\\infty, \\infty)$. Por tanto, la solución general es\n",
    "\n",
    "$$ y = c_{1}e^{\\alpha x} \\cos \\beta x + c_{2}e^{\\alpha x}\\sin \\beta x = e^{\\alpha x}(c_{1}\\cos \\beta x + c_{2}\\sin \\beta x) $$\n"
   ]
  },
  {
   "cell_type": "markdown",
   "metadata": {
    "slideshow": {
     "slide_type": "slide"
    }
   },
   "source": [
    "## Ejemplo 1  ED de segundo orden\n",
    "\n",
    "Resuelva las siguientes ecuaciones diferenciales.\n",
    "\n",
    "$$ a)2y''-5y' - 3y = 0 \\ \\ \\ \\ \\ \\ \\ \\ b)y'' - 10y' + 25y = 0 \\ \\ \\ \\ \\ \\ \\ \\ c) y'' + 4y' + 7y = 0 $$\n"
   ]
  },
  {
   "cell_type": "code",
   "execution_count": 7,
   "metadata": {
    "slideshow": {
     "slide_type": "slide"
    }
   },
   "outputs": [
    {
     "data": {
      "application/vnd.jupyter.widget-view+json": {
       "model_id": "97287ec84d804a92b14266e3e14855b7",
       "version_major": 2,
       "version_minor": 0
      },
      "text/plain": [
       "interactive(children=(IntSlider(value=0, description='c1', max=3, min=-3), IntSlider(value=0, description='c2'…"
      ]
     },
     "metadata": {},
     "output_type": "display_data"
    },
    {
     "data": {
      "text/plain": [
       "<function __main__.graficar(c1=0, c2=0)>"
      ]
     },
     "execution_count": 7,
     "metadata": {},
     "output_type": "execute_result"
    }
   ],
   "source": [
    "import numpy as np \n",
    "import matplotlib.pyplot as plt \n",
    "\n",
    "from ipywidgets import interact \n",
    "\n",
    "x = np.linspace(-3,3) \n",
    "\n",
    "def graficar(c1=0, c2 = 0):\n",
    "    #y = c1*np.exp(3*x)+c2*np.exp((-1/2)*x)\n",
    "    #y = c1*np.exp(3*x)+c2*x+np.exp((-1/2)*x)\n",
    "    y = np.exp(2*x)*(c1*np.cos(np.sqrt(3)*x)+c2*np.sin(np.sqrt(3)*x)) \n",
    "    plt.plot(x,y)\n",
    "    plt.axis([-3,3, -100,100])\n",
    "    plt.grid(alpha = 0.6)\n",
    "    \n",
    "    \n",
    "interact(graficar, c1 = (-3,3), c2 = (-3,3))    \n"
   ]
  },
  {
   "cell_type": "markdown",
   "metadata": {
    "slideshow": {
     "slide_type": "slide"
    }
   },
   "source": [
    "## EJEMPLO 2 Un problema con valores iniciales\n",
    "\n",
    "Resuelva \n",
    "\n",
    "$$ 4y'' + 4y' + 17y = 0, \\ \\ \\:\\:\\: y(0) = -1, \\:\\:\\: y'(0) = 2 $$\n"
   ]
  },
  {
   "cell_type": "code",
   "execution_count": null,
   "metadata": {
    "slideshow": {
     "slide_type": "slide"
    }
   },
   "outputs": [],
   "source": []
  },
  {
   "cell_type": "markdown",
   "metadata": {
    "slideshow": {
     "slide_type": "slide"
    }
   },
   "source": [
    "# DOS ECUACIONES QUE MERECEN CONOCERSE \n",
    "\n",
    "$$ y'' + k^{2}y = 0 \\ \\ \\ \\ \\:\\:\\:\\: y'' - k^{2}y = 0 $$\n"
   ]
  },
  {
   "cell_type": "markdown",
   "metadata": {
    "slideshow": {
     "slide_type": "slide"
    }
   },
   "source": [
    "donde $k$ es real, son importantes en matemáticas aplicadas. "
   ]
  },
  {
   "cell_type": "markdown",
   "metadata": {
    "slideshow": {
     "slide_type": "slide"
    }
   },
   "source": [
    "Para y\u0006 \u0004 k 2 y \u0001 0, la ecua\u0002ción auxiliar m2 \u0004 k 2 \u0001 0 tienen raíces imaginarias m1 \u0001 ki y m2 \u0001 \u0003ki. Con a \u0001 0 y b \u0001 k en (8) se ve que la solución general de la ED es\n",
    "\n",
    "$$ y = c_{1}\\cos kx + c_{2}\\sin kx $$\n"
   ]
  },
  {
   "cell_type": "code",
   "execution_count": null,
   "metadata": {
    "slideshow": {
     "slide_type": "slide"
    }
   },
   "outputs": [],
   "source": []
  },
  {
   "cell_type": "markdown",
   "metadata": {
    "slideshow": {
     "slide_type": "slide"
    }
   },
   "source": [
    "# ECUACIONES DE ORDEN SUPERIOR "
   ]
  },
  {
   "cell_type": "markdown",
   "metadata": {
    "slideshow": {
     "slide_type": "slide"
    }
   },
   "source": [
    "$$ a_{n}m^{n} + a_{n-1}m^{n-1} + \\cdots + a_{2}m^{2} + a_{1}m + a_{0} = 0.   $$"
   ]
  },
  {
   "cell_type": "code",
   "execution_count": null,
   "metadata": {
    "slideshow": {
     "slide_type": "slide"
    }
   },
   "outputs": [],
   "source": []
  },
  {
   "cell_type": "markdown",
   "metadata": {
    "slideshow": {
     "slide_type": "slide"
    }
   },
   "source": [
    "## EJEMPLO 3 ED de tercer orden  \n",
    "\n",
    "Resuelva  $y''' + 3y''  - 4y = 0 $\n"
   ]
  },
  {
   "cell_type": "code",
   "execution_count": null,
   "metadata": {
    "slideshow": {
     "slide_type": "slide"
    }
   },
   "outputs": [],
   "source": []
  },
  {
   "cell_type": "markdown",
   "metadata": {
    "slideshow": {
     "slide_type": "slide"
    }
   },
   "source": [
    "# USO DE COMPUTADORAS "
   ]
  },
  {
   "cell_type": "markdown",
   "metadata": {
    "slideshow": {
     "slide_type": "slide"
    }
   },
   "source": [
    "Determinar las raíces o aproximar las raíces de ecuaciones auxiliares es un problema de rutina con una calculadora apropiada o con un paquete de cómputo. "
   ]
  },
  {
   "cell_type": "markdown",
   "metadata": {
    "slideshow": {
     "slide_type": "slide"
    }
   },
   "source": [
    "Las ecuaciones polinomiales (en una variable) de grado menor que cinco se resuelven por medio de fórmulas algebraicas usando las instrucciones solve en Mathematica y Maple. "
   ]
  },
  {
   "cell_type": "markdown",
   "metadata": {
    "slideshow": {
     "slide_type": "slide"
    }
   },
   "source": [
    "Para ecuaciones polinomiales de grado cinco o mayor podría ser necesario recurrir a comandos numéricos tales como NSolve y FindRoot en Mathematica. "
   ]
  },
  {
   "cell_type": "markdown",
   "metadata": {
    "slideshow": {
     "slide_type": "slide"
    }
   },
   "source": [
    "Debido a su capacidad para resolver ecuaciones polinomiales, no es sorprendente que estos sistemas algebraicos para computadora también puedan, usando sus comandos dsolve, dar soluciones \n",
    "explícitas de ecuaciones diferenciales lineales homogéneas con coefi cientes constantes.\n",
    "En el libro clásico Differential Equations de Ralph Palmer Agnew* (que el autor \n",
    "usó cuando era estudiante), se expresa el siguiente enunciado:\n",
    "No es razonable esperar que los alumnos de este curso tengan la capacidad y el \n",
    "equipo de cómputo necesario para resolver de manera efi caz ecuaciones tales como\n",
    "\n",
    "$$ 4.317 \\frac{d^{4}y}{dx^{4}}  $$\n"
   ]
  },
  {
   "cell_type": "code",
   "execution_count": null,
   "metadata": {
    "slideshow": {
     "slide_type": "slide"
    }
   },
   "outputs": [],
   "source": []
  },
  {
   "cell_type": "code",
   "execution_count": null,
   "metadata": {},
   "outputs": [],
   "source": []
  },
  {
   "cell_type": "markdown",
   "metadata": {
    "slideshow": {
     "slide_type": "slide"
    }
   },
   "source": [
    "# Ejercicios propuestos para esta clase"
   ]
  },
  {
   "cell_type": "markdown",
   "metadata": {
    "slideshow": {
     "slide_type": "slide"
    }
   },
   "source": [
    "1. En los problemas 59 y 60 utilice un Matplotlib y sympy como ayuda para resolver la ecuación auxiliar. \n",
    "\n",
    "2. Forme la solución general de la ecuación diferencial. Después utilice un matplotlib y sympy como ayuda para  resolver el sistema de ecuaciones para los coeficientes $c_{i},$ $i = 1,2,3,4$ que resulta \n",
    "   cuando se aplican las condiciones iniciales a la solución general.\n",
    "\n",
    "3. Realice un video de explicación "
   ]
  },
  {
   "cell_type": "markdown",
   "metadata": {
    "slideshow": {
     "slide_type": "slide"
    }
   },
   "source": [
    "59. $$ 2y^{(4)} + 3y''' - 16y'' + 15y' - 4y = 0 $$\n",
    "\n",
    "$$ y(0) = -2, \\ \\ \\ \\ y'(0) = 6, \\ \\ \\ \\ \\ y''(0) = 3, \\ \\ \\ \\ y'''(0) = \\frac{1}{2}. $$\n"
   ]
  },
  {
   "cell_type": "markdown",
   "metadata": {
    "slideshow": {
     "slide_type": "slide"
    }
   },
   "source": [
    "60. $$ y^{(4)} - 3y''' + 3y'' - y' = 0 $$\n",
    "\n",
    "$$ y(0) = y'(0) = 0, \\ \\ \\ \\ y''(0) = y'''(0) = 1 $$\n"
   ]
  },
  {
   "cell_type": "code",
   "execution_count": 1,
   "metadata": {
    "slideshow": {
     "slide_type": "slide"
    }
   },
   "outputs": [
    {
     "name": "stdout",
     "output_type": "stream",
     "text": [
      "{1: 2}\n"
     ]
    }
   ],
   "source": [
    "from sympy import roots, Symbol\n",
    "\n",
    "m = Symbol(\"m\")\n",
    "print(roots(m**2 - 2*m + 1))\n"
   ]
  },
  {
   "cell_type": "markdown",
   "metadata": {
    "slideshow": {
     "slide_type": "slide"
    }
   },
   "source": [
    "## Referentes\n",
    "\n",
    "* La función `roots()` de sympy: "
   ]
  },
  {
   "cell_type": "code",
   "execution_count": null,
   "metadata": {},
   "outputs": [],
   "source": []
  }
 ],
 "metadata": {
  "celltoolbar": "Slideshow",
  "hide_input": false,
  "kernelspec": {
   "display_name": "Python 3 (ipykernel)",
   "language": "python",
   "name": "python3"
  },
  "language_info": {
   "codemirror_mode": {
    "name": "ipython",
    "version": 3
   },
   "file_extension": ".py",
   "mimetype": "text/x-python",
   "name": "python",
   "nbconvert_exporter": "python",
   "pygments_lexer": "ipython3",
   "version": "3.9.12"
  },
  "latex_envs": {
   "LaTeX_envs_menu_present": true,
   "autoclose": false,
   "autocomplete": false,
   "bibliofile": "biblio.bib",
   "cite_by": "apalike",
   "current_citInitial": 1,
   "eqLabelWithNumbers": true,
   "eqNumInitial": 1,
   "hotkeys": {
    "equation": "Ctrl-E",
    "itemize": "Ctrl-I"
   },
   "labels_anchors": false,
   "latex_user_defs": false,
   "report_style_numbering": false,
   "user_envs_cfg": false
  },
  "nbTranslate": {
   "displayLangs": [
    "*"
   ],
   "hotkey": "alt-t",
   "langInMainMenu": true,
   "sourceLang": "en",
   "targetLang": "es",
   "useGoogleTranslate": true
  },
  "rise": {
   "enable_chalkboard": "true",
   "theme": "sky",
   "transition": "sky"
  }
 },
 "nbformat": 4,
 "nbformat_minor": 2
}
