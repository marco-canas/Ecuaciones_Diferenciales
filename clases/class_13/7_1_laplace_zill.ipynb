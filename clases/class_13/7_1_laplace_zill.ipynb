{
 "cells": [
  {
   "cell_type": "markdown",
   "metadata": {
    "slideshow": {
     "slide_type": "slide"
    }
   },
   "source": [
    "# Clase 13 Transformada de Laplace "
   ]
  },
  {
   "cell_type": "markdown",
   "metadata": {
    "slideshow": {
     "slide_type": "slide"
    }
   },
   "source": [
    "Tomado de Dennis Zill, página 255 del pdf "
   ]
  },
  {
   "cell_type": "markdown",
   "metadata": {
    "slideshow": {
     "slide_type": "slide"
    }
   },
   "source": [
    "7.1 Definición de transformada de Laplace  \n",
    "7.2 Transformadas inversas y transformadas de derivadas.  \n",
    "7.3 Propiedades operacionales I\n",
    "  * Translación en el eje $s$  \n",
    "  * Translación en el eje $t$  \n",
    "  \n",
    "7.4 Propiedades operacionales II  \n",
    "  * Derivadas de la transformada  \n",
    "  * Transformada de una función periódica \n",
    "  \n",
    "7.5 La función delta de Dirac    \n",
    "7.6 Sistemas de ecuaciones diferenciales lineales   "
   ]
  },
  {
   "cell_type": "markdown",
   "metadata": {
    "slideshow": {
     "slide_type": "slide"
    }
   },
   "source": [
    "En los modelos matemáticos lineales para sistemas físicos tales como un sistema resorte - masa o un circuito eléctrico en serie, el miembro del lado derecho o entrada de las ecuaciones diferenciales\n",
    "\n",
    "$$ m\\frac{d^{2}x}{dt^{2}} + \\beta\\frac{dx}{dt} + kx = f(t) $$\n",
    "\n",
    "o\n",
    "\n",
    "$$  L\\frac{d^{2}q}{dt^{2}} + R\\frac{dq}{dt} + \\frac{1}{C}q = E(t)  $$\n",
    "\n",
    "es una función de conducción y representa ya sea una fuerza externa $f(t)$ o un voltaje aplicado $E(t)$. \n"
   ]
  },
  {
   "cell_type": "markdown",
   "metadata": {
    "slideshow": {
     "slide_type": "slide"
    }
   },
   "source": [
    "En la sección 5.1 consideramos problemas en los que las funciones $f$ y $E$ eran continuas. "
   ]
  },
  {
   "cell_type": "markdown",
   "metadata": {
    "slideshow": {
     "slide_type": "slide"
    }
   },
   "source": [
    "Sin embargo, las funciones de conducción discontinua son comunes. "
   ]
  },
  {
   "cell_type": "markdown",
   "metadata": {
    "slideshow": {
     "slide_type": "slide"
    }
   },
   "source": [
    "Por ejemplo, el voltaje aplicado a un circuito podría ser continuo en tramos y periódico tal como la función `diente de sierra` que se muestra seguidamente.  "
   ]
  },
  {
   "cell_type": "code",
   "execution_count": 10,
   "metadata": {
    "slideshow": {
     "slide_type": "slide"
    }
   },
   "outputs": [
    {
     "data": {
      "image/png": "[encoded data removed]",
      "text/plain": [
       "<Figure size 432x288 with 1 Axes>"
      ]
     },
     "metadata": {},
     "output_type": "display_data"
    }
   ],
   "source": [
    "from scipy import signal \n",
    "import matplotlib.pyplot as plot \n",
    "import numpy as np \n",
    "plt.style.use('dark_background')  \n",
    "t = np.linspace(0, 1, 1000, endpoint=True) \n",
    "  \n",
    "plot.plot(t, signal.sawtooth(2 * np.pi * 5 * t)) \n",
    "  \n",
    "plot.xlabel('Time') \n",
    "plot.ylabel('Amplitude') \n",
    "plot.title('Sawtooth Signal - Geeksforgeeks') \n",
    "  \n",
    "plot.axhline(y=-1, color='k')  \n",
    "  \n",
    "plot.show() "
   ]
  },
  {
   "cell_type": "markdown",
   "metadata": {
    "slideshow": {
     "slide_type": "slide"
    }
   },
   "source": [
    "En este caso, resolver la ecuación diferencial del circuito es difícil usando las tecnicas del capítulo 4. "
   ]
  },
  {
   "cell_type": "markdown",
   "metadata": {
    "slideshow": {
     "slide_type": "slide"
    }
   },
   "source": [
    "La transformada de Laplace que se estudia en este capítulo es una valiosa herramienta que simplifica la solución de problemas como éste. "
   ]
  },
  {
   "cell_type": "markdown",
   "metadata": {
    "slideshow": {
     "slide_type": "slide"
    }
   },
   "source": [
    "Página 256 del Zill"
   ]
  },
  {
   "cell_type": "markdown",
   "metadata": {
    "slideshow": {
     "slide_type": "slide"
    }
   },
   "source": [
    "# 7.1 Definición de la Transformada de Laplace "
   ]
  },
  {
   "cell_type": "markdown",
   "metadata": {
    "slideshow": {
     "slide_type": "slide"
    }
   },
   "source": [
    "## Repaso del material"
   ]
  },
  {
   "cell_type": "markdown",
   "metadata": {
    "slideshow": {
     "slide_type": "slide"
    }
   },
   "source": [
    "* Integrales impropias \n",
    "\n",
    "$$ \\int_{1}^{\\infty} \\frac{1}{x}dx $$\n",
    "\n",
    "$$ \\int_{0}^{\\infty} e^{-x} dx $$"
   ]
  },
  {
   "cell_type": "code",
   "execution_count": 11,
   "metadata": {
    "slideshow": {
     "slide_type": "slide"
    }
   },
   "outputs": [
    {
     "data": {
      "text/latex": [
       "$\\displaystyle 1$"
      ],
      "text/plain": [
       "1"
      ]
     },
     "execution_count": 11,
     "metadata": {},
     "output_type": "execute_result"
    }
   ],
   "source": [
    "from sympy import *\n",
    "x = symbols('x')\n",
    "integrate(exp(-x), (x,0,oo)) "
   ]
  },
  {
   "cell_type": "markdown",
   "metadata": {
    "slideshow": {
     "slide_type": "slide"
    }
   },
   "source": [
    "* Descomposición en fracciones parciales \n",
    "\n",
    "$$\\frac{1}{(x-1)(x+1)}$$"
   ]
  },
  {
   "cell_type": "markdown",
   "metadata": {
    "slideshow": {
     "slide_type": "slide"
    }
   },
   "source": [
    "$$ \\frac{1}{(x-1)(x+1)} = \\frac{A}{x-1} + \\frac{B}{x+1} $$"
   ]
  },
  {
   "cell_type": "markdown",
   "metadata": {
    "slideshow": {
     "slide_type": "slide"
    }
   },
   "source": [
    "$$ \\frac{1}{(x-1)(x+1)} = \\frac{A(x+1) + B(x-1)}{(x-1)(x+1)} $$"
   ]
  },
  {
   "cell_type": "markdown",
   "metadata": {
    "slideshow": {
     "slide_type": "slide"
    }
   },
   "source": [
    "$$ 1 = (A+B)x + (A-B) $$"
   ]
  },
  {
   "cell_type": "markdown",
   "metadata": {
    "slideshow": {
     "slide_type": "slide"
    }
   },
   "source": [
    "Utilizando la comparación de funciones polinómicas podemos decir:\n",
    "\n",
    "$$ 0x + 1 = (A+B)x + (A-B) $$\n",
    "\n",
    "\\begin{align*}\n",
    "A+B & = 0 \\\\\n",
    "A-B & = 1\n",
    "\\end{align*}\n"
   ]
  },
  {
   "cell_type": "markdown",
   "metadata": {
    "slideshow": {
     "slide_type": "slide"
    }
   },
   "source": [
    "Sumando las ecuaciones lado a lado obtenemos:\n",
    "\n",
    "$$ 2A = 1 \\Rightarrow A = \\frac{1}{2} $$\n"
   ]
  },
  {
   "cell_type": "markdown",
   "metadata": {
    "slideshow": {
     "slide_type": "slide"
    }
   },
   "source": [
    "como $A + B = 0$, entonces \n",
    "\n",
    "$$ B = -\\frac{1}{2} $$"
   ]
  },
  {
   "cell_type": "markdown",
   "metadata": {
    "slideshow": {
     "slide_type": "slide"
    }
   },
   "source": [
    "## Introducción "
   ]
  },
  {
   "cell_type": "markdown",
   "metadata": {
    "slideshow": {
     "slide_type": "slide"
    }
   },
   "source": [
    "En cálculo elemental aprendió que la derivación y la integración son *transformadas*; esto significa, a grandes rasgos, que estas operaciones transforman una función en otra. "
   ]
  },
  {
   "cell_type": "markdown",
   "metadata": {
    "slideshow": {
     "slide_type": "slide"
    }
   },
   "source": [
    "Por ejemplo, la función $f(x) = x^{2}$ se transforma,  a su vez, en una función lineal y en una familia de funciones polinomiales cúbicas con las operaciones de derivación e integración:\n",
    "\n",
    "$$ \\frac{d}{dx}x^{2} = 2x,$$ \n",
    "\n",
    "$$  \\text{y} \\ \\ \\  \\int x^{2}dx = \\frac{1}{3}x^{3} + c $$"
   ]
  },
  {
   "cell_type": "markdown",
   "metadata": {
    "slideshow": {
     "slide_type": "slide"
    }
   },
   "source": [
    "Además, estas dos transformadas tienen la **propiedad de linealidad** tal que la transformada de una combinación lineal de funciones es una combinación lineal de las transformadas. "
   ]
  },
  {
   "cell_type": "markdown",
   "metadata": {
    "slideshow": {
     "slide_type": "slide"
    }
   },
   "source": [
    "Para $\\alpha$ y $\\beta$ constantes \n",
    "$$ \\frac{d}{dx}[\\alpha f(x) + \\beta g(x)] = \\alpha \\frac{d}{dx}f(x) + \\beta \\frac{d}{dx}g(x)  $$\n",
    "\n",
    "y \n",
    "\n",
    "$$ \\int [\\alpha f(x) + \\beta g(x)]dx = \\alpha \\int f(x) dx + \\beta \\int g(x) dx $$\n",
    "\n",
    "siempre que cada derivada e integral existan. "
   ]
  },
  {
   "cell_type": "markdown",
   "metadata": {
    "slideshow": {
     "slide_type": "slide"
    }
   },
   "source": [
    "En esta sección se examina un tipo especial de transformada integral llamada **transformada de Laplace**. "
   ]
  },
  {
   "cell_type": "markdown",
   "metadata": {
    "slideshow": {
     "slide_type": "slide"
    }
   },
   "source": [
    "Además de tener la propiedad de linealidad, la transformada de Laplace tiene muchas otras propiedades interesantes que la hacen muy útil para resolver problemas lineales con valores iniciales. "
   ]
  },
  {
   "cell_type": "markdown",
   "metadata": {
    "slideshow": {
     "slide_type": "slide"
    }
   },
   "source": [
    "## Transformada integral "
   ]
  },
  {
   "cell_type": "markdown",
   "metadata": {
    "slideshow": {
     "slide_type": "slide"
    }
   },
   "source": [
    "Si $f(x,y)$ es una función de dos variables, entonces una integral definida respecto a una de las variables conduce a una función de la otra variable. "
   ]
  },
  {
   "cell_type": "markdown",
   "metadata": {
    "slideshow": {
     "slide_type": "slide"
    }
   },
   "source": [
    "Por ejemplo, si se conserva $y$ constante, se ve que \n",
    "\n",
    "$$\\int_{1}^{2} 2xy^{2}dx  = 3y^{2}.$$\n"
   ]
  },
  {
   "cell_type": "markdown",
   "metadata": {
    "slideshow": {
     "slide_type": "slide"
    }
   },
   "source": [
    "De igual modo, una integral definida como \n",
    "\n",
    "$$\\int_{a}^{b}K(s,t)f(t)dt $$\n",
    "\n",
    "transforma una función $f$ de la variable $t$ en una función $F$ de la variable $s$. \n"
   ]
  },
  {
   "cell_type": "markdown",
   "metadata": {
    "slideshow": {
     "slide_type": "slide"
    }
   },
   "source": [
    "Tenemos un particular interes en una transformada integral, donde el intervalo de integración es el intervalo no acotado $[0,\\infty)$. "
   ]
  },
  {
   "cell_type": "markdown",
   "metadata": {
    "slideshow": {
     "slide_type": "slide"
    }
   },
   "source": [
    "Si $f(t)$ se define para $t \\geq 0$, entonces la integral impropia \n",
    "\n",
    "$$\\int_{0}^{\\infty} K(s,t)f(t)dt$$\n",
    "\n",
    "se define como un límite \n",
    "\n",
    "$$\\int_{0}^{\\infty} K(s,t)f(t)dt = \\lim_{b \\to \\infty} \\int_{0}^{b} K(s,t)f(t)dt. $$\n"
   ]
  },
  {
   "cell_type": "markdown",
   "metadata": {
    "slideshow": {
     "slide_type": "slide"
    }
   },
   "source": [
    "Si existe el límite anterior, entonces se dice que la integral existe o es **convergente**; si no existe el límite, la integral no existe y es **divergente**. "
   ]
  },
  {
   "cell_type": "markdown",
   "metadata": {
    "slideshow": {
     "slide_type": "slide"
    }
   },
   "source": [
    "En general, el límite en \n",
    "$$\\int_{0}^{\\infty} K(s,t)f(t)dt = \\lim_{b \\to \\infty} \\int_{0}^{b} K(s,t)f(t)dt $$\n",
    "existirá solo para ciertos valores de la variable $s$. "
   ]
  },
  {
   "cell_type": "markdown",
   "metadata": {
    "slideshow": {
     "slide_type": "slide"
    }
   },
   "source": [
    "## Una definición"
   ]
  },
  {
   "cell_type": "markdown",
   "metadata": {
    "slideshow": {
     "slide_type": "slide"
    }
   },
   "source": [
    "La función $K(s,t)$ en \n",
    "$$\\int_{0}^{\\infty} K(s,t)f(t)dt = \\lim_{b \\to \\infty} \\int_{0}^{b} K(s,t)f(t)dt $$\n",
    "\n",
    "se llama **kernel** o **núcleo** de la transformada.   \n",
    "La elección de $K(s,t) = e^{-st}$ como el núcleo nos proporciona una transformada integral especialmente importante. "
   ]
  },
  {
   "cell_type": "markdown",
   "metadata": {
    "slideshow": {
     "slide_type": "slide"
    }
   },
   "source": [
    "## Definición 7.1.1 Transformada de Laplace"
   ]
  },
  {
   "cell_type": "markdown",
   "metadata": {
    "slideshow": {
     "slide_type": "slide"
    }
   },
   "source": [
    "Sea $f$ una función definida para $t \\geq 0$.  \n",
    "Entonces, se dice que la integral \n",
    "\n",
    "$$ L\\{f(t)\\} = \\int_{0}^{\\infty}e^{-st}f(t)dt $$\n",
    "\n",
    "es la **transformada de Laplace** de $f$, siempre que la integral converja. \n"
   ]
  },
  {
   "cell_type": "markdown",
   "metadata": {
    "slideshow": {
     "slide_type": "slide"
    }
   },
   "source": [
    "Cuando la integral \n",
    "\n",
    "$$ L\\{f(t)\\} = \\int_{0}^{\\infty}e^{-st}f(t)dt $$\n",
    "\n",
    "converge, el resultado es una función de $s$. "
   ]
  },
  {
   "cell_type": "markdown",
   "metadata": {
    "slideshow": {
     "slide_type": "slide"
    }
   },
   "source": [
    "* En el análisis general se usa una letra minúscula para denotar la función que se transforma y   \n",
    "* la letra mayúscula correspondiente para denotar su transformada de Laplace, por ejemplo\n",
    "$$ L\\{f(t)\\} = F(s) , \\quad \\ \\  L\\{g(t)\\} = G(s) , \\quad \\ \\  L\\{y(t)\\} = Y(s).    $$"
   ]
  },
  {
   "cell_type": "markdown",
   "metadata": {
    "slideshow": {
     "slide_type": "slide"
    }
   },
   "source": [
    "## Ejemplo 1"
   ]
  },
  {
   "cell_type": "markdown",
   "metadata": {
    "slideshow": {
     "slide_type": "slide"
    }
   },
   "source": [
    "Evalúe $L\\{1\\}$ "
   ]
  },
  {
   "cell_type": "markdown",
   "metadata": {
    "slideshow": {
     "slide_type": "slide"
    }
   },
   "source": [
    "### Solución:\n",
    "\\begin{align*}\n",
    "L\\{1\\} & =  \\int_{0}^{\\infty}e^{-st}(1)dt \\\\\n",
    "       & = \\lim_{b \\to \\infty} \\int_{0}^{b}e^{-st}dt \\\\\n",
    "       & = \\lim_{b \\to \\infty} \\left. \\frac{1}{-s}e^{-st} \\right|_{0}^{b} \\\\ \n",
    "       & = \\frac{1}{s} \\lim_{b \\to \\infty} -(e^{-sb} - e^{-s(0)} ) \\\\\n",
    "       & \n",
    "\\end{align*}"
   ]
  },
  {
   "cell_type": "markdown",
   "metadata": {
    "slideshow": {
     "slide_type": "slide"
    }
   },
   "source": [
    "\\begin{align*}\n",
    "& = \\frac{1}{s}\\lim_{b \\to \\infty} (1 - e^{-sb})\n",
    "\\end{align*}\n",
    "\n",
    "note que $e^{-sb}$ es una exponencial **no positiva** si $s$ es positivo. Por tanto, para que nuestra integral impropia converja, debemos asumir que $s > 0$. "
   ]
  },
  {
   "cell_type": "markdown",
   "metadata": {
    "slideshow": {
     "slide_type": "slide"
    }
   },
   "source": [
    "$$ = \\frac{1}{s} $$"
   ]
  },
  {
   "cell_type": "markdown",
   "metadata": {
    "slideshow": {
     "slide_type": "slide"
    }
   },
   "source": [
    "## Ejemplo 2  \n",
    "Evalúe $L\\{t\\}$  \n",
    "[Laplace transforms in wolfram](https://www.wolframalpha.com/input/?i=laplace+transform%281%29)"
   ]
  },
  {
   "cell_type": "code",
   "execution_count": 12,
   "metadata": {
    "slideshow": {
     "slide_type": "slide"
    }
   },
   "outputs": [],
   "source": [
    "from sympy import *\n",
    "init_printing()"
   ]
  },
  {
   "cell_type": "code",
   "execution_count": 13,
   "metadata": {
    "slideshow": {
     "slide_type": "slide"
    }
   },
   "outputs": [],
   "source": [
    "import matplotlib.pyplot as plt\n",
    "%matplotlib inline"
   ]
  },
  {
   "cell_type": "code",
   "execution_count": 14,
   "metadata": {
    "slideshow": {
     "slide_type": "slide"
    }
   },
   "outputs": [],
   "source": [
    "t, s = symbols('t, s')\n",
    "a = symbols('a', real=True, positive=True)"
   ]
  },
  {
   "cell_type": "code",
   "execution_count": 15,
   "metadata": {
    "slideshow": {
     "slide_type": "slide"
    }
   },
   "outputs": [],
   "source": [
    "f = Function('f')(t) "
   ]
  },
  {
   "cell_type": "code",
   "execution_count": 16,
   "metadata": {
    "slideshow": {
     "slide_type": "slide"
    }
   },
   "outputs": [],
   "source": [
    "f = t"
   ]
  },
  {
   "cell_type": "code",
   "execution_count": 17,
   "metadata": {
    "slideshow": {
     "slide_type": "slide"
    }
   },
   "outputs": [
    {
     "data": {
      "image/png": "[encoded data removed]",
      "text/latex": [
       "$\\displaystyle \\begin{cases} \\frac{1}{s^{2}} & \\text{for}\\: \\left|{\\arg{\\left(s \\right)}}\\right| < \\frac{\\pi}{2} \\\\\\int\\limits_{0}^{\\infty} t e^{- s t}\\, dt & \\text{otherwise} \\end{cases}$"
      ],
      "text/plain": [
       "⎧     1                       π\n",
       "⎪     ──       for │arg(s)│ < ─\n",
       "⎪      2                      2\n",
       "⎪     s                        \n",
       "⎪                              \n",
       "⎨∞                             \n",
       "⎪⌠                             \n",
       "⎪⎮    -s⋅t                     \n",
       "⎪⎮ t⋅ℯ     dt     otherwise    \n",
       "⎪⌡                             \n",
       "⎩0                             "
      ]
     },
     "execution_count": 17,
     "metadata": {},
     "output_type": "execute_result"
    }
   ],
   "source": [
    "integrate(f*exp(-s*t), (t, 0, oo))"
   ]
  },
  {
   "cell_type": "code",
   "execution_count": 18,
   "metadata": {
    "slideshow": {
     "slide_type": "slide"
    }
   },
   "outputs": [
    {
     "data": {
      "image/png": "[encoded data removed]",
      "text/latex": [
       "$\\displaystyle \\left( \\frac{1}{s^{2}}, \\  0, \\  \\text{True}\\right)$"
      ],
      "text/plain": [
       "⎛1          ⎞\n",
       "⎜──, 0, True⎟\n",
       "⎜ 2         ⎟\n",
       "⎝s          ⎠"
      ]
     },
     "execution_count": 18,
     "metadata": {},
     "output_type": "execute_result"
    }
   ],
   "source": [
    "laplace_transform(f, t, s)"
   ]
  },
  {
   "cell_type": "markdown",
   "metadata": {
    "slideshow": {
     "slide_type": "slide"
    }
   },
   "source": [
    "### Solución analítica: "
   ]
  },
  {
   "cell_type": "markdown",
   "metadata": {
    "slideshow": {
     "slide_type": "slide"
    }
   },
   "source": [
    "\\begin{align*}\n",
    "L\\{t\\} & = \\int_{0}^{\\infty} e^{-st}tdt \\\\\n",
    "       & = \\lim_{b \\to \\infty} \\int_{0}^{b} te^{-st}dt \\\\\n",
    "\\end{align*}"
   ]
  },
  {
   "cell_type": "markdown",
   "metadata": {
    "slideshow": {
     "slide_type": "slide"
    }
   },
   "source": [
    "$$ \\int_{0}^{b} te^{-st} dt $$\n",
    "\n",
    "$$ u = t, \\ \\ \\ \\ dv = e^{-st}dt $$\n",
    "\n",
    "$$ du = dt, \\ \\ \\ \\ v = \\frac{1}{-s} e^{-st} $$\n"
   ]
  },
  {
   "cell_type": "markdown",
   "metadata": {
    "slideshow": {
     "slide_type": "slide"
    }
   },
   "source": [
    "$$ \\int_{0}^{b} te^{-st} dt = - \\frac{1}{s}te^{-st} + \\frac{1}{s}\\int_{0}^{b} e^{-st}dt $$"
   ]
  },
  {
   "cell_type": "markdown",
   "metadata": {
    "slideshow": {
     "slide_type": "slide"
    }
   },
   "source": [
    "$$ \\int_{0}^{b} te^{-st} dt = \\left. - \\frac{1}{s}te^{-st}\\right|_{0}^{b} + \\frac{1}{s} \\left. \\frac{ e^{-st} }{-s}\\right|_{0}^{\\infty} $$"
   ]
  },
  {
   "cell_type": "code",
   "execution_count": null,
   "metadata": {
    "slideshow": {
     "slide_type": "slide"
    }
   },
   "outputs": [],
   "source": []
  },
  {
   "cell_type": "markdown",
   "metadata": {
    "slideshow": {
     "slide_type": "slide"
    }
   },
   "source": [
    "## Ejemplo 3\n",
    "Evalue $\\mathcal{L}\\{e^{-3t}\\}$"
   ]
  },
  {
   "cell_type": "markdown",
   "metadata": {
    "slideshow": {
     "slide_type": "slide"
    }
   },
   "source": [
    "### Solución: \n",
    "\n",
    "\n",
    "$$ L\\{ e^{-3t} \\}  = \\int_{0}^{\\infty} e^{-st}e^{-3t} dt $$\n",
    "              \n",
    "\n"
   ]
  },
  {
   "cell_type": "markdown",
   "metadata": {
    "slideshow": {
     "slide_type": "subslide"
    }
   },
   "source": [
    "$$ = \\int_{0}^{\\infty} e^{-(s+3)t} $$"
   ]
  },
  {
   "cell_type": "markdown",
   "metadata": {
    "slideshow": {
     "slide_type": "subslide"
    }
   },
   "source": [
    "$$ = \\left. -\\frac{1}{s+3} e^{-(s+3)t} \\right|_{0}^{\\infty} $$\n",
    "\n",
    "note que esta integral converge si $s + 3 > 0$, es decir, si $s > -3$. "
   ]
  },
  {
   "cell_type": "markdown",
   "metadata": {
    "slideshow": {
     "slide_type": "slide"
    }
   },
   "source": [
    "$$ = \\frac{1}{s+3} \\left[e^{-(s+3)(0)} - e^{-(s+3)(\\infty)} \\right] $$"
   ]
  },
  {
   "cell_type": "code",
   "execution_count": null,
   "metadata": {
    "slideshow": {
     "slide_type": "slide"
    }
   },
   "outputs": [],
   "source": []
  },
  {
   "cell_type": "markdown",
   "metadata": {
    "slideshow": {
     "slide_type": "slide"
    }
   },
   "source": [
    "## Ejemplo 4\n",
    "Evalue $L\\{\\sin 2t\\}$"
   ]
  },
  {
   "cell_type": "markdown",
   "metadata": {
    "slideshow": {
     "slide_type": "slide"
    }
   },
   "source": [
    "### Solución:"
   ]
  },
  {
   "cell_type": "markdown",
   "metadata": {
    "slideshow": {
     "slide_type": "slide"
    }
   },
   "source": [
    "$$ L\\{\\sin 2t \\} = \\int_{0}^{\\infty} e^{-st}\\sin 2t \\ dt $$"
   ]
  },
  {
   "cell_type": "markdown",
   "metadata": {
    "slideshow": {
     "slide_type": "slide"
    }
   },
   "source": [
    "Como el integrando es el producto de una función exponencial y una función trigonométrica entonces esta integral se resuelve aplicando el método de integración por partes aplicado dos veces. "
   ]
  },
  {
   "cell_type": "markdown",
   "metadata": {
    "slideshow": {
     "slide_type": "slide"
    }
   },
   "source": []
  },
  {
   "cell_type": "code",
   "execution_count": null,
   "metadata": {
    "slideshow": {
     "slide_type": "slide"
    }
   },
   "outputs": [],
   "source": []
  },
  {
   "cell_type": "code",
   "execution_count": null,
   "metadata": {
    "slideshow": {
     "slide_type": "slide"
    }
   },
   "outputs": [],
   "source": []
  },
  {
   "cell_type": "markdown",
   "metadata": {
    "slideshow": {
     "slide_type": "slide"
    }
   },
   "source": [
    "## $L$ es una transformación lineal"
   ]
  },
  {
   "cell_type": "markdown",
   "metadata": {},
   "source": [
    "$$L[\\alpha f(t) + \\beta g(t)] = \\alpha L[f(t)] + \\beta L[g(t)]$$"
   ]
  },
  {
   "cell_type": "markdown",
   "metadata": {
    "slideshow": {
     "slide_type": "slide"
    }
   },
   "source": [
    "Para una combinación lineal de funciones podemos escribir \n",
    "\n",
    "\\begin{align*}\n",
    "L\\{\\alpha f(t) + \\beta g(t)\\} & = \\int_{0}^{\\infty}e^{-st}[\\alpha f(t) + \\beta g(t)] dt \\\\\n",
    "                              & = \n",
    "\\end{align*}\n"
   ]
  },
  {
   "cell_type": "markdown",
   "metadata": {
    "slideshow": {
     "slide_type": "slide"
    }
   },
   "source": [
    "$$ =  \\int_{0}^{\\infty} \\left[ \\alpha e^{-st}f(t) + \\beta e^{-st}g(t) \\right]\\ dt $$"
   ]
  },
  {
   "cell_type": "markdown",
   "metadata": {
    "slideshow": {
     "slide_type": "slide"
    }
   },
   "source": [
    "$$ =  $$"
   ]
  },
  {
   "cell_type": "code",
   "execution_count": null,
   "metadata": {
    "slideshow": {
     "slide_type": "slide"
    }
   },
   "outputs": [],
   "source": []
  },
  {
   "cell_type": "markdown",
   "metadata": {
    "slideshow": {
     "slide_type": "slide"
    }
   },
   "source": [
    "## Teorema: Transformada de algunas funciones básicas"
   ]
  },
  {
   "cell_type": "markdown",
   "metadata": {
    "slideshow": {
     "slide_type": "subslide"
    }
   },
   "source": [
    "1.  $$ L\\{1\\} = \\frac{1}{s} $$\n",
    "2.  $$ L\\{t^{n}\\} = \\frac{n!}{s^{n+1}}, \\ \\ \\ n = 1,2,3,\\ldots $$\n",
    "3.  $$ L\\{e^{at}\\} = \\frac{1}{s-a} $$"
   ]
  },
  {
   "cell_type": "markdown",
   "metadata": {
    "slideshow": {
     "slide_type": "subslide"
    }
   },
   "source": [
    "4.  $$ L\\{ \\sin kt \\} = \\frac{k}{s^{2} + k^{2}} $$\n",
    "5.  $$ L\\{ \\cos kt \\} = \\frac{s}{s^{2} + k^{2}} $$"
   ]
  },
  {
   "cell_type": "markdown",
   "metadata": {
    "slideshow": {
     "slide_type": "subslide"
    }
   },
   "source": [
    "6.  $$ L\\{\\sinh kt \\} =  \\frac{k}{s^{2} - k^{2}} $$\n",
    "7.  $$ L\\{\\cosh kt \\} = \\frac{s}{s^{2} - k^{2}} $$"
   ]
  },
  {
   "cell_type": "markdown",
   "metadata": {
    "slideshow": {
     "slide_type": "slide"
    }
   },
   "source": [
    "## Condiciones suficientes para la existencia de $L\\{f(t)\\}$"
   ]
  },
  {
   "cell_type": "markdown",
   "metadata": {
    "slideshow": {
     "slide_type": "slide"
    }
   },
   "source": [
    "La integral que define la transformada de Laplace no tiene que converger. "
   ]
  },
  {
   "cell_type": "markdown",
   "metadata": {
    "slideshow": {
     "slide_type": "slide"
    }
   },
   "source": [
    "Por ejemplo, no existe \n",
    "\n",
    "$$ L \\left\\{ \\frac{1}{t} \\right\\} $$\n",
    "\n",
    "$$ L\\{e^{t^{2}}\\} $$\n"
   ]
  },
  {
   "cell_type": "markdown",
   "metadata": {
    "slideshow": {
     "slide_type": "slide"
    }
   },
   "source": [
    "Las condiciones suficientes que garantizan la existencia de $L\\{f(t)\\}$ son que $f$ sea continua por tramos en $[0,\\infty)$ y que $f$ sea de orden exponencial para $t > T$. "
   ]
  },
  {
   "cell_type": "markdown",
   "metadata": {
    "slideshow": {
     "slide_type": "slide"
    }
   },
   "source": [
    "Recuerde que una función es continua por tramos en $[0,\\infty)$ si, en cualquier intervalo \n",
    "\n",
    "$$ 0 \\leq a \\leq t \\leq b, $$\n",
    "\n",
    "hay un número finito de puntos $t_{k}$, $k = 1,2,\\ldots, n$, ($t_{k-1} < t_{k}$) en los que $f$ tiene discontinuidades finitas y es continua en cada intervalo abierto $(t_{k-1}, t_{k})$. "
   ]
  },
  {
   "cell_type": "markdown",
   "metadata": {},
   "source": [
    "<img src = 'https://github.com/marco-canas/Ecuaciones_Diferenciales/blob/main/clases/class_13/figura_7_1_1.PNG?raw=true'>"
   ]
  },
  {
   "cell_type": "markdown",
   "metadata": {
    "slideshow": {
     "slide_type": "slide"
    }
   },
   "source": [
    "El concepto de orden exponencial se define de la siguiente manera: "
   ]
  },
  {
   "cell_type": "markdown",
   "metadata": {
    "slideshow": {
     "slide_type": "slide"
    }
   },
   "source": [
    "## Definición de orden exponencial"
   ]
  },
  {
   "cell_type": "markdown",
   "metadata": {
    "slideshow": {
     "slide_type": "slide"
    }
   },
   "source": [
    "Se dice que $f$ es de **orden exponencial** $\\mathbf{c}$ si existen constantes $c$, $M > 0$ y $T > 0$ tales que \n",
    "\n",
    "$$ |f(t)| \\leq Me^{ct}, \\ \\ \\ \\ t > T.  $$\n"
   ]
  },
  {
   "cell_type": "markdown",
   "metadata": {
    "slideshow": {
     "slide_type": "slide"
    }
   },
   "source": [
    "Si $f$ es una función creciente, entonces la condición $|f(t)| \\leq Me^{ct}$, $t > T$, simplemente establece que la gráfica de $f$  en el intervalo $(T, \\infty)$ no crece más rápido que la gráfica de la función exponencial $Me^{ct}$, donde $c$ es una constante positiva. "
   ]
  },
  {
   "cell_type": "markdown",
   "metadata": {
    "slideshow": {
     "slide_type": "slide"
    }
   },
   "source": [
    "<img src = 'https://github.com/marco-canas/Ecuaciones_Diferenciales/blob/main/clases/class_13/figura_7_1_3.PNG?raw=true'> "
   ]
  },
  {
   "cell_type": "markdown",
   "metadata": {
    "slideshow": {
     "slide_type": "slide"
    }
   },
   "source": [
    "Las funciones $f(t) = t$, $f(t) = e^{-t}$ y $f(t) = 2\\cos t$ son de orden exponencial $c = 1$ para $t > 0$ puesto que se tiene respectivamente\n",
    "\n",
    "$$ |t| \\leq e^{t}, \\ \\ \\ |e^{-t}| \\leq e^{t}, \\ \\ \\\\text{y} \\ \\ \\  |2\\cos t| \\leq 2e^{t}.  $$\n"
   ]
  },
  {
   "cell_type": "markdown",
   "metadata": {},
   "source": [
    "<img src = 'https://github.com/marco-canas/Ecuaciones_Diferenciales/blob/main/clases/class_13/figura_7_1_4.PNG?raw=true'>"
   ]
  },
  {
   "cell_type": "markdown",
   "metadata": {
    "slideshow": {
     "slide_type": "slide"
    }
   },
   "source": [
    "## Teorema 7.1.2 Condiciones suficientes para la existencia"
   ]
  },
  {
   "cell_type": "markdown",
   "metadata": {
    "slideshow": {
     "slide_type": "slide"
    }
   },
   "source": [
    "Si $f$ es una función continua por tramos en $[0,\\infty)$ y de orden exponencial $c$, entonces $L\\{f(t)\\}$ existe para $s > c$.  "
   ]
  },
  {
   "cell_type": "markdown",
   "metadata": {
    "slideshow": {
     "slide_type": "skip"
    }
   },
   "source": [
    "### Demostración: "
   ]
  },
  {
   "cell_type": "markdown",
   "metadata": {
    "slideshow": {
     "slide_type": "slide"
    }
   },
   "source": [
    "## Ejemplo 5 Transformada de una función continua por tramos"
   ]
  },
  {
   "cell_type": "markdown",
   "metadata": {
    "slideshow": {
     "slide_type": "slide"
    }
   },
   "source": [
    "Evaúe $L\\{f(t)\\}$ donde \n",
    "\n",
    "$$ f(t) = \\begin{cases} 0 & 0 \\leq t < 3 \\\\ 2 & t \\geq 3  \\end{cases} $$"
   ]
  },
  {
   "cell_type": "code",
   "execution_count": 19,
   "metadata": {
    "slideshow": {
     "slide_type": "slide"
    }
   },
   "outputs": [
    {
     "data": {
      "text/plain": [
       "[<matplotlib.lines.Line2D at 0x2a33ca79400>]"
      ]
     },
     "execution_count": 19,
     "metadata": {},
     "output_type": "execute_result"
    },
    {
     "data": {
      "image/png": "[encoded data removed]",
      "text/plain": [
       "<Figure size 432x288 with 1 Axes>"
      ]
     },
     "metadata": {},
     "output_type": "display_data"
    }
   ],
   "source": [
    "# Funciones definidas a trozos (piecewise) con numpy \n",
    "# https://numython.github.io/posts/2016/02/funciones-definidas-trozos-piecewise/\n",
    "import numpy as np\n",
    "import matplotlib.pyplot as plt \n",
    "plt.style.use('dark_background') \n",
    "x1 = np.linspace(0,3)\n",
    "x2 = np.linspace(3,10)\n",
    "y1 = 0*x1\n",
    "y2 = 2*np.ones_like(x2)\n",
    "x = np.concatenate((x1,x2))\n",
    "y = np.concatenate((y1,y2))\n",
    "fig, ax = plt.subplots() \n",
    "ax.plot(x,y, color = 'yellow')   "
   ]
  },
  {
   "cell_type": "markdown",
   "metadata": {
    "slideshow": {
     "slide_type": "slide"
    }
   },
   "source": [
    "### Solución "
   ]
  },
  {
   "cell_type": "markdown",
   "metadata": {
    "slideshow": {
     "slide_type": "slide"
    }
   },
   "source": [
    "La función que se muestra en la figura enterior es continua por tramos y de orden exponencial para $t > 0$. "
   ]
  },
  {
   "cell_type": "markdown",
   "metadata": {
    "slideshow": {
     "slide_type": "slide"
    }
   },
   "source": [
    "Puesto que $f$ se define en dos tramos, $L\\{f(t)\\}$ se expresa como la suma de dos integrales: \n",
    "\n",
    "\\begin{align*}\n",
    "L\\{f(t)\\} = \\int_{0}^{\\infty} e^{-st}f(t)\\ dt & =  + \\\\\n",
    "          & = \\\\\n",
    "          & = \n",
    "\\end{align*}\n"
   ]
  },
  {
   "cell_type": "code",
   "execution_count": null,
   "metadata": {
    "slideshow": {
     "slide_type": "slide"
    }
   },
   "outputs": [],
   "source": []
  },
  {
   "cell_type": "markdown",
   "metadata": {
    "slideshow": {
     "slide_type": "slide"
    }
   },
   "source": [
    "## Teorema 7.1.3 Comportamiento de $F(s)$ conformo $s \\to \\infty$"
   ]
  },
  {
   "cell_type": "markdown",
   "metadata": {
    "slideshow": {
     "slide_type": "slide"
    }
   },
   "source": [
    "Si $f$ es continua por partes en $(0,\\infty)$ y de orden exponencial y $F(s) = L\\{f(t)\\}$, entonces \n",
    "\n",
    "$$ \\lim_{s \\to \\infty} F(s) = 0 $$\n"
   ]
  },
  {
   "cell_type": "markdown",
   "metadata": {
    "slideshow": {
     "slide_type": "skip"
    }
   },
   "source": [
    "### Demostración: "
   ]
  },
  {
   "cell_type": "markdown",
   "metadata": {
    "slideshow": {
     "slide_type": "slide"
    }
   },
   "source": [
    "## Comentarios"
   ]
  },
  {
   "cell_type": "markdown",
   "metadata": {
    "slideshow": {
     "slide_type": "slide"
    }
   },
   "source": [
    "i. En este capítulo  nos dedicaremos principalmente a funciones que son continuas por tramos y de orden exponencial.   "
   ]
  },
  {
   "cell_type": "markdown",
   "metadata": {
    "slideshow": {
     "slide_type": "slide"
    }
   },
   "source": [
    "ii. "
   ]
  },
  {
   "cell_type": "code",
   "execution_count": null,
   "metadata": {
    "slideshow": {
     "slide_type": "slide"
    }
   },
   "outputs": [],
   "source": []
  },
  {
   "cell_type": "markdown",
   "metadata": {
    "slideshow": {
     "slide_type": "slide"
    }
   },
   "source": [
    "## Sección 7.2 Transformadas inversas y transformadas de derivadas"
   ]
  },
  {
   "cell_type": "markdown",
   "metadata": {
    "slideshow": {
     "slide_type": "slide"
    }
   },
   "source": [
    "Página 278 del Zill"
   ]
  },
  {
   "cell_type": "markdown",
   "metadata": {
    "slideshow": {
     "slide_type": "slide"
    }
   },
   "source": [
    "## Repaso de material\n",
    "* Descomposición en fracciones parciales. "
   ]
  },
  {
   "cell_type": "markdown",
   "metadata": {
    "slideshow": {
     "slide_type": "slide"
    }
   },
   "source": [
    "## Introducción "
   ]
  },
  {
   "cell_type": "markdown",
   "metadata": {
    "slideshow": {
     "slide_type": "slide"
    }
   },
   "source": [
    "### Conceptos necesarios para abordar el tema:\n",
    "\n",
    "* Descomposición en fracciones parciales"
   ]
  },
  {
   "cell_type": "markdown",
   "metadata": {
    "slideshow": {
     "slide_type": "slide"
    }
   },
   "source": [
    "## 7.2.1 Transformadas inversas"
   ]
  },
  {
   "cell_type": "markdown",
   "metadata": {
    "slideshow": {
     "slide_type": "slide"
    }
   },
   "source": [
    "### El problema inverso "
   ]
  },
  {
   "cell_type": "markdown",
   "metadata": {
    "slideshow": {
     "slide_type": "slide"
    }
   },
   "source": [
    "Si $F(s)$ representa la transformada de Laplace de una función $f(t)$, es decir, $L\\{f(t)\\} = F(s)$, se dice entonces que $f(t)$ es la **transformada de Laplace inversa** de $F(s)$ y se escribe\n",
    "\n",
    "$$L^{-1}\\{F(s)\\} = f(t) $$\n"
   ]
  },
  {
   "cell_type": "markdown",
   "metadata": {
    "slideshow": {
     "slide_type": "slide"
    }
   },
   "source": [
    "|Transformada|Transformada inversa|  \n",
    "|-|-|  \n",
    "|$L\\{1\\} = \\frac{1}{s}$| $1 = L^{-1}\\left\\{ \\frac{1}{2} \\right\\}$ |\n",
    "|$L\\{t\\} = \\frac{1}{s^{2}} $|$t = L^{-1} \\left\\{ \\frac{1}{s^{2}} \\right\\}$|\n",
    "|$L\\{ e^{-3t}\\}=\\frac{1}{s + 3}$|$e^{-3t} = L^{-1}\\left\\{ \\frac{1}{s+3} \\right\\}$|"
   ]
  },
  {
   "cell_type": "markdown",
   "metadata": {
    "slideshow": {
     "slide_type": "slide"
    }
   },
   "source": [
    "Pronto veremos que en la aplicación de la transformada de Laplace a ecuaciones no se puede determinar de manera directa una función desconocida $f(t)$; más bien, se puede despejar la transformada de Laplace $F(s)$; pero a partir de ese conocimiento, se determina $f$ calculando \n",
    "\n",
    "$$ f(t) = L^{-1} \\{F(s)\\}. $$"
   ]
  },
  {
   "cell_type": "markdown",
   "metadata": {
    "slideshow": {
     "slide_type": "slide"
    }
   },
   "source": [
    "La idea es simplemente esta:   \n",
    "\n",
    "suponga que \n",
    "\n",
    "$$ F(s) = \\frac{-2s + 6}{s^{2} + 4} $$\n",
    "\n",
    "es una transformada de Laplace; encuentre una función $f(t)$ tal que $L\\{f(t)\\} =  F(s)$."
   ]
  },
  {
   "cell_type": "markdown",
   "metadata": {
    "slideshow": {
     "slide_type": "subslide"
    }
   },
   "source": [
    "Este ejercicio lo realizaremos posteriormente. "
   ]
  },
  {
   "cell_type": "markdown",
   "metadata": {
    "slideshow": {
     "slide_type": "slide"
    }
   },
   "source": [
    "## Teorema 7.2.1 Algunas transformadas inversas "
   ]
  },
  {
   "cell_type": "markdown",
   "metadata": {
    "slideshow": {
     "slide_type": "slide"
    }
   },
   "source": [
    "a. $1 = L^{-1} \\left\\{ \\frac{1}{2} \\right\\}$  "
   ]
  },
  {
   "cell_type": "markdown",
   "metadata": {
    "slideshow": {
     "slide_type": "slide"
    }
   },
   "source": [
    "b. $t^{n} = L^{-1} \\left\\{ \\frac{n!}{s^{n+1}} \\right\\}$, $n = 1,2,3,\\ldots$.   "
   ]
  },
  {
   "cell_type": "markdown",
   "metadata": {
    "slideshow": {
     "slide_type": "slide"
    }
   },
   "source": [
    "c. $e^{at} = L^{-1}\\left\\{ \\frac{1}{s-a} \\right\\} $  "
   ]
  },
  {
   "cell_type": "markdown",
   "metadata": {
    "slideshow": {
     "slide_type": "slide"
    }
   },
   "source": [
    "d. $\\sin kt = L^{-1}\\left\\{ \\frac{k}{s^{2} + k^{2}} \\right\\}$  "
   ]
  },
  {
   "cell_type": "markdown",
   "metadata": {
    "slideshow": {
     "slide_type": "slide"
    }
   },
   "source": [
    "e. $$\\cos kt = L^{-1} \\left\\{ \\frac{s}{s^{2} + k^{2}} \\right\\} $$"
   ]
  },
  {
   "cell_type": "markdown",
   "metadata": {
    "slideshow": {
     "slide_type": "slide"
    }
   },
   "source": [
    "Al evaluar las transformadas inversas, suele suceder que una función de $s$ que estamos considerando no concuerda exactamente con la forma de una transformada de Laplace $F(s)$ que se presenta en la tabla. "
   ]
  },
  {
   "cell_type": "markdown",
   "metadata": {},
   "source": [
    "Es posible que sea necesario arreglar la función de $s$ multiplicando y dividiendo entre una constante apropiada. "
   ]
  },
  {
   "cell_type": "markdown",
   "metadata": {
    "slideshow": {
     "slide_type": "slide"
    }
   },
   "source": [
    "## Ejemplo 1 Aplicando el teorema 7.2.1"
   ]
  },
  {
   "cell_type": "markdown",
   "metadata": {
    "slideshow": {
     "slide_type": "slide"
    }
   },
   "source": [
    "Evalúe \n",
    "\n",
    "$$ a. L^{-1}\\left\\{ \\frac{1}{s^{5}} \\right\\} \\ \\ \\ \\ b. L^{-1}\\left\\{ \\frac{1}{s^{2} + 7} \\right\\} $$\n"
   ]
  },
  {
   "cell_type": "code",
   "execution_count": 20,
   "metadata": {
    "slideshow": {
     "slide_type": "slide"
    }
   },
   "outputs": [
    {
     "name": "stdout",
     "output_type": "stream",
     "text": [
      "t**4*Heaviside(t)/24\n"
     ]
    }
   ],
   "source": [
    "# import inverse_laplace_transform\n",
    "from sympy.integrals.transforms import inverse_laplace_transform\n",
    "from sympy import exp, Symbol\n",
    "from sympy.abc import s, t\n",
    "\n",
    "a = Symbol('a', positive = True)\n",
    "# Using inverse_laplace_transform() method\n",
    "gfg = inverse_laplace_transform(1/s**5, s, t)\n",
    "\n",
    "print(gfg)\n"
   ]
  },
  {
   "cell_type": "markdown",
   "metadata": {
    "slideshow": {
     "slide_type": "slide"
    }
   },
   "source": [
    "### Solución del item $a.$"
   ]
  },
  {
   "cell_type": "markdown",
   "metadata": {
    "slideshow": {
     "slide_type": "slide"
    }
   },
   "source": [
    "Para hacer coincidir la forma dada \n",
    "\n",
    "$$ \\frac{n!}{t^{n+1}}, \\ \\ \\ n = 1,2,3, \\ldots $$\n",
    "\n",
    "se identifica $n + 1 = 5$ o $n = 4$ y luego se multiplica y divide por $4!$: "
   ]
  },
  {
   "cell_type": "markdown",
   "metadata": {
    "slideshow": {
     "slide_type": "slide"
    }
   },
   "source": [
    "\\begin{align*}\n",
    "L^{-1} \\left\\{ \\frac{1}{s^{5}} \\right\\} & =  \n",
    "\\end{align*}"
   ]
  },
  {
   "cell_type": "markdown",
   "metadata": {
    "slideshow": {
     "slide_type": "slide"
    }
   },
   "source": [
    "### Solución del item b. \n",
    "\n",
    "\\begin{align*}\n",
    "L^{-1}\\left\\{ \\frac{1}{s^{2} + 7} \\right\\} & = \n",
    "\\end{align*}\n"
   ]
  },
  {
   "cell_type": "markdown",
   "metadata": {
    "slideshow": {
     "slide_type": "slide"
    }
   },
   "source": [
    "## $L^{-1}$ es una transformada lineal "
   ]
  },
  {
   "cell_type": "markdown",
   "metadata": {
    "slideshow": {
     "slide_type": "slide"
    }
   },
   "source": [
    "$$ L^{-1} \\{ \\alpha F(s) + \\beta G(s) \\} = \\alpha L^{-1}\\{F(s)\\} + \\beta L^{-1}\\{G(s)\\} $$"
   ]
  },
  {
   "cell_type": "markdown",
   "metadata": {
    "slideshow": {
     "slide_type": "slide"
    }
   },
   "source": [
    "## Ejemplo 2 División término a término y linealidad"
   ]
  },
  {
   "cell_type": "markdown",
   "metadata": {
    "slideshow": {
     "slide_type": "slide"
    }
   },
   "source": [
    "Evalúe \n",
    "\n",
    "$$ L^{-1}\\left\\{ \\frac{-2s + 6}{s^{2} + 4} \\right\\} $$"
   ]
  },
  {
   "cell_type": "markdown",
   "metadata": {
    "slideshow": {
     "slide_type": "slide"
    }
   },
   "source": [
    "### Solución:"
   ]
  },
  {
   "cell_type": "markdown",
   "metadata": {
    "slideshow": {
     "slide_type": "slide"
    }
   },
   "source": [
    "Empecemos distribuyendo el denominador para cada uno de los sumandos del numerador:\n",
    "\n",
    "$$ \\frac{-2s + 6}{s^{2} + 4}  $$\n"
   ]
  },
  {
   "cell_type": "code",
   "execution_count": null,
   "metadata": {
    "slideshow": {
     "slide_type": "slide"
    }
   },
   "outputs": [],
   "source": []
  },
  {
   "cell_type": "markdown",
   "metadata": {
    "slideshow": {
     "slide_type": "slide"
    }
   },
   "source": [
    "## Fracciones parciales "
   ]
  },
  {
   "cell_type": "markdown",
   "metadata": {
    "slideshow": {
     "slide_type": "slide"
    }
   },
   "source": [
    "Las fracciones parciales juegan un papel importante en la determinación de transformadas de Laplace inversas. "
   ]
  },
  {
   "cell_type": "markdown",
   "metadata": {
    "slideshow": {
     "slide_type": "slide"
    }
   },
   "source": []
  },
  {
   "cell_type": "markdown",
   "metadata": {
    "slideshow": {
     "slide_type": "slide"
    }
   },
   "source": [
    "## Ejemplo 3 Fracciones parciales: diferentes factores lineales "
   ]
  },
  {
   "cell_type": "markdown",
   "metadata": {
    "slideshow": {
     "slide_type": "slide"
    }
   },
   "source": [
    "Evalúe \n",
    "\n",
    "$$ L^{-1}\\left\\{ \\frac{s^{2} + 6s + 9}{(s-1)(s-2)(s + 4)} \\right\\} $$\n"
   ]
  },
  {
   "cell_type": "code",
   "execution_count": null,
   "metadata": {
    "slideshow": {
     "slide_type": "slide"
    }
   },
   "outputs": [],
   "source": []
  },
  {
   "cell_type": "markdown",
   "metadata": {
    "slideshow": {
     "slide_type": "slide"
    }
   },
   "source": [
    "## 7.2.2 Transformadas de derivadas "
   ]
  },
  {
   "cell_type": "markdown",
   "metadata": {
    "slideshow": {
     "slide_type": "slide"
    }
   },
   "source": [
    "### Transformada de una derivada"
   ]
  },
  {
   "cell_type": "markdown",
   "metadata": {
    "slideshow": {
     "slide_type": "slide"
    }
   },
   "source": [
    "Como se indicó en la introducción de la clase de hoy, el objetivo inmediato es usar la transformada de Laplace para resolver ecuaciones diferenciales. "
   ]
  },
  {
   "cell_type": "markdown",
   "metadata": {
    "slideshow": {
     "slide_type": "slide"
    }
   },
   "source": [
    "Para este fin, es necesario evaluar cantidades como \n",
    "\n",
    "$$ L \\left\\{ \\frac{dy}{dt} \\right\\} $$\n",
    "\n",
    "y \n",
    "\n",
    "$$ L \\left\\{ \\frac{d^{2}y}{dt^{2}} \\right\\}. $$"
   ]
  },
  {
   "cell_type": "markdown",
   "metadata": {
    "slideshow": {
     "slide_type": "skip"
    }
   },
   "source": [
    "Por ejemplo, si $f'$ es continua para $t \\geq 0$, entonces integrando por partes se tiene \n",
    "\n",
    "\\begin{align*}\n",
    "L\\{f'(t)\\} & = \n",
    "\\end{align*}\n"
   ]
  },
  {
   "cell_type": "code",
   "execution_count": null,
   "metadata": {
    "slideshow": {
     "slide_type": "skip"
    }
   },
   "outputs": [],
   "source": []
  },
  {
   "cell_type": "markdown",
   "metadata": {
    "slideshow": {
     "slide_type": "slide"
    }
   },
   "source": [
    "## Teorema 7.2.2 Transformada de una derivada "
   ]
  },
  {
   "cell_type": "markdown",
   "metadata": {
    "slideshow": {
     "slide_type": "slide"
    }
   },
   "source": [
    "Si $f,f', \\ldots, f^{(n-1)}$ son continuas en $[0,\\infty)$ y son de orden exponencial y si $f^{(n)}(t)$ es continua por tramos en $[0,\\infty)$, entonces \n",
    "\n",
    "$$ L\\{f^{(n)}(t)\\} = s^{n}F(s) - s^{n-1}f(0) - s^{n-2}f'(0) - \\cdots - f^{(n-1)}(0) $$\n",
    "\n",
    "donde \n",
    "\n",
    "$$F(s) = L\\{f(t)\\} $$\n"
   ]
  },
  {
   "cell_type": "code",
   "execution_count": null,
   "metadata": {
    "slideshow": {
     "slide_type": "slide"
    }
   },
   "outputs": [],
   "source": []
  },
  {
   "cell_type": "markdown",
   "metadata": {
    "slideshow": {
     "slide_type": "slide"
    }
   },
   "source": [
    "## Solución de EDO lineales "
   ]
  },
  {
   "cell_type": "markdown",
   "metadata": {
    "slideshow": {
     "slide_type": "slide"
    }
   },
   "source": [
    "Es evidente del resultado general dado en el teorema anterior que \n",
    "\n",
    "$$ L\\left\\{ \\frac{d^{n}y}{dt^{n}} \\right\\} $$\n",
    "\n",
    "depende de $Y(s) = L\\{y(t)\\}$  y las $n-1$ derivadas de $y(t)$ evaluadas en $t = 0$. "
   ]
  },
  {
   "cell_type": "markdown",
   "metadata": {
    "slideshow": {
     "slide_type": "slide"
    }
   },
   "source": [
    "Esta propiedad hace que la transformada de Laplace sea adecuada para resolver problemas lineales con valores iniciales en los que la ecuación diferencial tiene coeficientes constantes. "
   ]
  },
  {
   "cell_type": "markdown",
   "metadata": {},
   "source": []
  },
  {
   "cell_type": "markdown",
   "metadata": {
    "slideshow": {
     "slide_type": "slide"
    }
   },
   "source": [
    "## Ejemplo 4 Solución de un PVI de primer orden "
   ]
  },
  {
   "cell_type": "markdown",
   "metadata": {
    "slideshow": {
     "slide_type": "slide"
    }
   },
   "source": [
    "Use la transformada de Laplace para resolver el problema con valores iniciales \n",
    "\n",
    "$$ \\frac{dy}{dt} + 3y = 13\\sin 2t, \\ \\ \\ \\ y(0) = 6 $$\n"
   ]
  },
  {
   "cell_type": "markdown",
   "metadata": {
    "slideshow": {
     "slide_type": "slide"
    }
   },
   "source": [
    "### Solución: "
   ]
  },
  {
   "cell_type": "markdown",
   "metadata": {
    "slideshow": {
     "slide_type": "slide"
    }
   },
   "source": [
    "Primero se toma la transformada de cada miembro de la ecuación diferencial:\n",
    "\n",
    "$$ L \\left\\{ \\frac{dy}{dt} \\right\\} + 3L\\{ y \\} = 13L\\{\\}.  $$\n"
   ]
  },
  {
   "cell_type": "markdown",
   "metadata": {
    "slideshow": {
     "slide_type": "slide"
    }
   },
   "source": []
  },
  {
   "cell_type": "code",
   "execution_count": null,
   "metadata": {
    "slideshow": {
     "slide_type": "slide"
    }
   },
   "outputs": [],
   "source": []
  },
  {
   "cell_type": "markdown",
   "metadata": {
    "slideshow": {
     "slide_type": "slide"
    }
   },
   "source": [
    "## Ejemplo 5  Solución de un PVI de segundo orden"
   ]
  },
  {
   "cell_type": "markdown",
   "metadata": {
    "slideshow": {
     "slide_type": "slide"
    }
   },
   "source": [
    "Resuelva \n",
    "\n",
    "$$ y''  - 3y' + 2y = e^{-4t}, \\ \\ y(0) = 1, \\ \\ \\ y'(0) = 5 $$\n"
   ]
  },
  {
   "cell_type": "markdown",
   "metadata": {
    "slideshow": {
     "slide_type": "slide"
    }
   },
   "source": [
    "### Solución "
   ]
  },
  {
   "cell_type": "markdown",
   "metadata": {
    "slideshow": {
     "slide_type": "slide"
    }
   },
   "source": [
    "Procediendo como en el ejemplo 4, se transforma la ED. "
   ]
  },
  {
   "cell_type": "markdown",
   "metadata": {
    "slideshow": {
     "slide_type": "slide"
    }
   },
   "source": [
    "Se toma la suma de las transformadas de cada término, se usan las ecuaciones \n",
    "\n",
    "$$ L\\{f'(t)\\} = sF(s) - f(0) $$\n",
    "\n",
    "$$ L\\{f'(t)\\} = s^{2}F(s) - sf(0) - f'(0), $$\n",
    "\n",
    "las condiciones iniciales dadas, el inciso $c.$ del teorema 7.2.1 \n",
    "\n",
    "$$ e^{at} = L^{-1}\\left\\{ \\frac{1}{s-a} \\right\\} $$\n",
    "\n",
    "y entonces se resuelve para $Y(s)$\n"
   ]
  },
  {
   "cell_type": "markdown",
   "metadata": {
    "slideshow": {
     "slide_type": "slide"
    }
   },
   "source": [
    "\\begin{align*}\n",
    "L\\left\\{ \\frac{d^{2}y}{dx^{2}} \\right\\} -3 L\\left\\{ \\frac{dy}{dx} \\right\\} + 2L\\{y\\} & = L\\{e^{-4t}\\} \\\\ \n",
    "s^{2}Y(s) - sy(0) - y'(0) - 3[sY(s) - y(0)] + 2Y(s)  & =  \\frac{1}{s+4} \\\\\n",
    "(s^{2} - 3s + 2)Y(s) & = s + 2 + \\frac{1}{s + 4}\n",
    "\\end{align*}"
   ]
  },
  {
   "cell_type": "markdown",
   "metadata": {
    "slideshow": {
     "slide_type": "slide"
    }
   },
   "source": [
    "$$ Y(s) = \\frac{s+2}{s^{2} - 3s + 2} + \\frac{1}{(s^{2} - 3s + 2)(s+4)} $$"
   ]
  },
  {
   "cell_type": "markdown",
   "metadata": {
    "slideshow": {
     "slide_type": "slide"
    }
   },
   "source": [
    "$$ Y(s) = \\frac{s^{2} + 6s + 9}{(s-1)(s-2)(s+4)}. $$"
   ]
  },
  {
   "cell_type": "markdown",
   "metadata": {
    "slideshow": {
     "slide_type": "slide"
    }
   },
   "source": [
    "Los detalles de la descomposición en fracciones parciales de $Y(s)$ ya se presentaron en el ejemplo 3. "
   ]
  },
  {
   "cell_type": "markdown",
   "metadata": {
    "slideshow": {
     "slide_type": "slide"
    }
   },
   "source": [
    "En vista de los resultados \n",
    "\n",
    "$$ s^{2} + 6s + 9 = A(s-2)(s+4) + B(s-1)(s+4) + C(s-1)(s-2) $$\n",
    "\n",
    "$$ \\frac{s^{2} + 6s + 9}{(s-1)(s-2)(s+4)} = \\frac{16/5}{s-1} + \\frac{25/6}{s-2} + \\frac{1/30}{s+4} $$\n"
   ]
  },
  {
   "cell_type": "code",
   "execution_count": 21,
   "metadata": {
    "slideshow": {
     "slide_type": "slide"
    }
   },
   "outputs": [
    {
     "data": {
      "image/png": "[encoded data removed]",
      "text/latex": [
       "$\\displaystyle \\frac{1}{30 \\left(s + 4\\right)} - \\frac{16}{5 \\left(s - 1\\right)} + \\frac{25}{6 \\left(s - 2\\right)}$"
      ],
      "text/plain": [
       "    1            16          25   \n",
       "────────── - ───────── + ─────────\n",
       "30⋅(s + 4)   5⋅(s - 1)   6⋅(s - 2)"
      ]
     },
     "execution_count": 21,
     "metadata": {},
     "output_type": "execute_result"
    }
   ],
   "source": [
    "from sympy import *\n",
    "s = symbols('s')\n",
    "F = (s**2+ 6*s + 9)/((s-1)*(s-2)*(s+4))\n",
    "apart(F)\n",
    "# Partial fraction decomposition\n",
    "# http://mattpap.github.io/scipy-2011-tutorial/html/partfrac.html"
   ]
  },
  {
   "cell_type": "markdown",
   "metadata": {
    "slideshow": {
     "slide_type": "slide"
    }
   },
   "source": [
    "En los ejemplos 4 y 5, se ilustra el procedimiento básico de cómo usar la transformada de Laplace para resolver un problema lineal con valores iniciales, pero podría parecer que estos ejemplos demuestran un método que no es mucho mejor que el aplicado en los problemas descritos en las secciones 2.3 y $4.3$ a $4.6$.  "
   ]
  },
  {
   "cell_type": "markdown",
   "metadata": {
    "slideshow": {
     "slide_type": "slide"
    }
   },
   "source": [
    "No saque consclusiones negativas de sólo dos ejemplos. "
   ]
  },
  {
   "cell_type": "code",
   "execution_count": null,
   "metadata": {
    "slideshow": {
     "slide_type": "slide"
    }
   },
   "outputs": [],
   "source": []
  },
  {
   "cell_type": "code",
   "execution_count": null,
   "metadata": {
    "slideshow": {
     "slide_type": "slide"
    }
   },
   "outputs": [],
   "source": []
  },
  {
   "cell_type": "markdown",
   "metadata": {
    "slideshow": {
     "slide_type": "slide"
    }
   },
   "source": [
    "## Comentarios "
   ]
  },
  {
   "cell_type": "markdown",
   "metadata": {
    "slideshow": {
     "slide_type": "slide"
    }
   },
   "source": [
    "1. La transformada de Laplace inversa de una función $F(s)$ podría no ser única; en otras palabras, es posible que $L\\{f_{1}(t)\\} = L\\{f_{2}(t)\\}$ y sin embargo $f_{1} \\neq f_{2}$. "
   ]
  },
  {
   "cell_type": "code",
   "execution_count": null,
   "metadata": {
    "slideshow": {
     "slide_type": "slide"
    }
   },
   "outputs": [],
   "source": []
  },
  {
   "cell_type": "code",
   "execution_count": null,
   "metadata": {
    "slideshow": {
     "slide_type": "slide"
    }
   },
   "outputs": [],
   "source": []
  },
  {
   "cell_type": "code",
   "execution_count": null,
   "metadata": {
    "slideshow": {
     "slide_type": "slide"
    }
   },
   "outputs": [],
   "source": []
  },
  {
   "cell_type": "code",
   "execution_count": null,
   "metadata": {
    "slideshow": {
     "slide_type": "slide"
    }
   },
   "outputs": [],
   "source": []
  },
  {
   "cell_type": "code",
   "execution_count": null,
   "metadata": {
    "slideshow": {
     "slide_type": "slide"
    }
   },
   "outputs": [],
   "source": []
  }
 ],
 "metadata": {
  "celltoolbar": "Slideshow",
  "hide_input": false,
  "interpreter": {
   "hash": "ec9676ad9f5f678c6129e80930667ff10a4176bd4043345bcdc6bd53c57c67c7"
  },
  "kernelspec": {
   "display_name": "Python 3",
   "language": "python",
   "name": "python3"
  },
  "language_info": {
   "codemirror_mode": {
    "name": "ipython",
    "version": 3
   },
   "file_extension": ".py",
   "mimetype": "text/x-python",
   "name": "python",
   "nbconvert_exporter": "python",
   "pygments_lexer": "ipython3",
   "version": "3.8.8"
  },
  "latex_envs": {
   "LaTeX_envs_menu_present": true,
   "autoclose": false,
   "autocomplete": false,
   "bibliofile": "biblio.bib",
   "cite_by": "apalike",
   "current_citInitial": 1,
   "eqLabelWithNumbers": true,
   "eqNumInitial": 1,
   "hotkeys": {
    "equation": "Ctrl-E",
    "itemize": "Ctrl-I"
   },
   "labels_anchors": false,
   "latex_user_defs": false,
   "report_style_numbering": false,
   "user_envs_cfg": false
  },
  "nbTranslate": {
   "displayLangs": [
    "*"
   ],
   "hotkey": "alt-t",
   "langInMainMenu": true,
   "sourceLang": "en",
   "targetLang": "es",
   "useGoogleTranslate": true
  },
  "rise": {
   "enable_chalkboard": true,
   "theme": "sky",
   "transition": "sky"
  }
 },
 "nbformat": 4,
 "nbformat_minor": 2
}
