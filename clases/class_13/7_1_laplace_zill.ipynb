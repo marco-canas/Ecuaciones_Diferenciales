{
 "cells": [
  {
   "cell_type": "markdown",
   "source": [
    "# Clase 13 Transformada de Laplace "
   ],
   "metadata": {}
  },
  {
   "cell_type": "markdown",
   "source": [
    "Tomado de Dennis Zill, página 255 del pdf "
   ],
   "metadata": {}
  },
  {
   "cell_type": "markdown",
   "source": [
    "7.1 Definición de transformada de Laplace  \n",
    "7.2 Transformadas inversas y transformadas de derivadas.  \n",
    "7.3 Propiedades operacionales I\n",
    "  * Translación en el eje $s$  \n",
    "  * Translación en el eje $t$  \n",
    "  \n",
    "7.4 Propiedades operacionales II  \n",
    "  * Derivadas de la transformada  \n",
    "  * Transformada de una función periódica \n",
    "  \n",
    "7.5 La función delta de Dirac    \n",
    "7.6 Sistemas de ecuaciones diferenciales lineales   "
   ],
   "metadata": {}
  },
  {
   "cell_type": "markdown",
   "source": [
    "En los modelos matemáticos lineales para sistemas físicos tales como un sistema resorte - masa o un circuito eléctrico en serie, el miembro del lado derecho o entrada de las ecuaciones diferenciales\n",
    "\n",
    "$$ m\\frac{d^{2}x}{dt^{2}} + \\beta\\frac{dx}{dt} + kx = f(t) \\qquad \\text{o} \\qquad L\\frac{d^{2}q}{dt^{2}} + R\\frac{dq}{dt} + \\frac{1}{C}q = E(t)  $$\n",
    "\n",
    "es una función de conducción y representa ya sea una fuerza externa $f(t)$ o un voltaje aplicado $E(t)$. \n"
   ],
   "metadata": {}
  },
  {
   "cell_type": "markdown",
   "source": [
    "En la sección 5.1 consideramos problemas en los que las funciones $f$ y $E$ eran continuas. "
   ],
   "metadata": {}
  },
  {
   "cell_type": "markdown",
   "source": [
    "Sin embargo, las funciones de conducción discontinua son comunes. "
   ],
   "metadata": {}
  },
  {
   "cell_type": "markdown",
   "source": [
    "Por ejemplo, el voltaje aplicado a un circuito podría ser continuo en tramos y periódico tal como la función `diente de sierra` que se muestra seguidamente.  "
   ],
   "metadata": {}
  },
  {
   "cell_type": "code",
   "execution_count": 1,
   "source": [
    "from scipy import signal \r\n",
    "import matplotlib.pyplot as plot \r\n",
    "import numpy as np \r\n",
    "  \r\n",
    "t = np.linspace(0, 1, 1000, endpoint=True) \r\n",
    "  \r\n",
    "plot.plot(t, signal.sawtooth(2 * np.pi * 5 * t)) \r\n",
    "  \r\n",
    "plot.xlabel('Time') \r\n",
    "plot.ylabel('Amplitude') \r\n",
    "plot.title('Sawtooth Signal - Geeksforgeeks') \r\n",
    "  \r\n",
    "plot.axhline(y=-1, color='k')  \r\n",
    "  \r\n",
    "plot.show() "
   ],
   "outputs": [
    {
     "output_type": "display_data",
     "data": {
      "image/png": "[encoded data removed]",
      "text/plain": [
       "<Figure size 432x288 with 1 Axes>"
      ]
     },
     "metadata": {
      "needs_background": "light"
     }
    }
   ],
   "metadata": {}
  },
  {
   "cell_type": "markdown",
   "source": [
    "En este caso, resolver la ecuación diferencial del circuito es difícil usando las tecnicas del capítulo 4. "
   ],
   "metadata": {}
  },
  {
   "cell_type": "markdown",
   "source": [
    "La transformada de Laplace que se estudia en este capítulo es una valiosa herramienta que simplifica la solución de problemas como éste. "
   ],
   "metadata": {}
  },
  {
   "cell_type": "markdown",
   "source": [
    "Página 256 del Zill"
   ],
   "metadata": {}
  },
  {
   "cell_type": "markdown",
   "source": [
    "# 7.1 Definición de la Transformada de Laplace "
   ],
   "metadata": {}
  },
  {
   "cell_type": "markdown",
   "source": [
    "## Repaso del material"
   ],
   "metadata": {}
  },
  {
   "cell_type": "markdown",
   "source": [
    "* Integrales impropias \r\n",
    "\r\n",
    "$$ \\int_{0}^{\\infty} \\frac{1}{x}dx $$\r\n",
    "\r\n",
    "$$ \\int_{0}^{\\infty} \\frac{1}{x^{2}} dx $$\r\n",
    "\r\n",
    "\r\n",
    "* Descomposición en fracciones parciales \r\n",
    "\r\n",
    "$$\\frac{1}{(x-1)(x+1)}$$\r\n"
   ],
   "metadata": {}
  },
  {
   "cell_type": "markdown",
   "source": [
    "## Introducción "
   ],
   "metadata": {}
  },
  {
   "cell_type": "markdown",
   "source": [
    "En cálculo elemental aprendió que la derivación y la integración son *transformadas*; esto significa, a grandes rasgos, que estas operaciones transforman una función en otra. "
   ],
   "metadata": {}
  },
  {
   "cell_type": "markdown",
   "source": [
    "Por ejemplo, la función $f(x) = x^{2}$ se transforma,  a su vez, en una función lineal y en una familia de funciones polinomiales cúbicas con las operaciones de derivación e integración:\r\n",
    "\r\n",
    "$$ \\frac{d}{dx}x^{2} = 2x, \\qquad \\text{y} \\qquad \\int x^{2}dx = \\frac{1}{3}x^{3} + c $$"
   ],
   "metadata": {}
  },
  {
   "cell_type": "markdown",
   "source": [
    "Además, estas dos transformadas tienen la **propiedad de linealidad** tal que la transformada de una combinación lineal de funciones es una combinación lineal de las transformadas. "
   ],
   "metadata": {}
  },
  {
   "cell_type": "markdown",
   "source": [
    "Para $\\alpha$ y $\\beta$ constantes \r\n",
    "$$ \\frac{d}{dx}[\\alpha f(x) + \\beta g(x)] = \\alpha \\frac{d}{dx}f(x) + \\beta \\frac{d}{dx}g(x)  $$\r\n",
    "\r\n",
    "y \r\n",
    "\r\n",
    "$$  $$"
   ],
   "metadata": {}
  },
  {
   "cell_type": "markdown",
   "source": [],
   "metadata": {}
  },
  {
   "cell_type": "markdown",
   "source": [],
   "metadata": {}
  },
  {
   "cell_type": "markdown",
   "source": [],
   "metadata": {}
  },
  {
   "cell_type": "code",
   "execution_count": null,
   "source": [],
   "outputs": [],
   "metadata": {}
  },
  {
   "cell_type": "code",
   "execution_count": null,
   "source": [],
   "outputs": [],
   "metadata": {}
  },
  {
   "cell_type": "markdown",
   "source": [
    "Por ejemplo, "
   ],
   "metadata": {}
  },
  {
   "cell_type": "code",
   "execution_count": null,
   "source": [],
   "outputs": [],
   "metadata": {}
  },
  {
   "cell_type": "code",
   "execution_count": null,
   "source": [],
   "outputs": [],
   "metadata": {}
  },
  {
   "cell_type": "code",
   "execution_count": null,
   "source": [],
   "outputs": [],
   "metadata": {}
  },
  {
   "cell_type": "code",
   "execution_count": null,
   "source": [],
   "outputs": [],
   "metadata": {}
  }
 ],
 "metadata": {
  "hide_input": false,
  "kernelspec": {
   "name": "python3",
   "display_name": "Python 3.9.7 64-bit (windows store)"
  },
  "language_info": {
   "codemirror_mode": {
    "name": "ipython",
    "version": 3
   },
   "file_extension": ".py",
   "mimetype": "text/x-python",
   "name": "python",
   "nbconvert_exporter": "python",
   "pygments_lexer": "ipython3",
   "version": "3.9.7"
  },
  "nbTranslate": {
   "displayLangs": [
    "*"
   ],
   "hotkey": "alt-t",
   "langInMainMenu": true,
   "sourceLang": "en",
   "targetLang": "fr",
   "useGoogleTranslate": true
  },
  "interpreter": {
   "hash": "ec9676ad9f5f678c6129e80930667ff10a4176bd4043345bcdc6bd53c57c67c7"
  }
 },
 "nbformat": 4,
 "nbformat_minor": 2
}