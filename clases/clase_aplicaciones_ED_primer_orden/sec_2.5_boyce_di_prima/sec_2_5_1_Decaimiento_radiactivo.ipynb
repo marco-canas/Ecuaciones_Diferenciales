{
 "cells": [
  {
   "cell_type": "markdown",
   "metadata": {},
   "source": [
    "# Decaimiento radiactivo "
   ]
  },
  {
   "cell_type": "markdown",
   "metadata": {},
   "source": [
    "Página 61 del Boyce DiPrima   \n",
    "Sección 2.5  \n",
    "Primera aplicación de las ecuaciones diferenciales lineales de primer orden. "
   ]
  },
  {
   "cell_type": "markdown",
   "metadata": {},
   "source": [
    "El isótopo radiactivo torio 234 se desintegra con una rapidez proporcional a la cantidad presente del mismo. "
   ]
  },
  {
   "cell_type": "markdown",
   "metadata": {},
   "source": [
    "Si $100$ mg de este material se reducen a $82.04$ mg en una semana, encontrar una expresión para la cantidad presente en cualquier instante. "
   ]
  },
  {
   "cell_type": "markdown",
   "metadata": {},
   "source": [
    "También, hallar el intervalo de tiempo que debe transcurrir para que la masa decaiga hasta la mitad de su valor original. "
   ]
  },
  {
   "cell_type": "markdown",
   "metadata": {},
   "source": [
    "## Solución: "
   ]
  },
  {
   "cell_type": "markdown",
   "metadata": {},
   "source": [
    "Sea $Q(t)$ la cantidad de torio 234 presente en cualquier instante $t$, en donde $Q$ se mide en miligramos y $t$ se mide en días. "
   ]
  },
  {
   "cell_type": "markdown",
   "metadata": {},
   "source": [
    "La observación física de que el torio 234 se desintegra con una rapidez proporcional a la cantidad presente significa que la razón de cambio con respecto al tiempo $dQ/dt$ es proporcional a $Q$; por tanto, $Q$ satisface la ecuación diferencial\n",
    "\n",
    "$$ \\frac{dQ}{dt} = -rQ, $$\n",
    "\n",
    "en donde la constante $r > 0$ se conoce como la razón de decaimiento. \n"
   ]
  },
  {
   "cell_type": "markdown",
   "metadata": {},
   "source": [
    "Se busca la solución de la ecuación diferencial anterior. "
   ]
  },
  {
   "cell_type": "code",
   "execution_count": null,
   "metadata": {},
   "outputs": [],
   "source": []
  },
  {
   "cell_type": "code",
   "execution_count": null,
   "metadata": {},
   "outputs": [],
   "source": []
  },
  {
   "cell_type": "code",
   "execution_count": null,
   "metadata": {},
   "outputs": [],
   "source": []
  },
  {
   "cell_type": "code",
   "execution_count": null,
   "metadata": {},
   "outputs": [],
   "source": []
  },
  {
   "cell_type": "code",
   "execution_count": null,
   "metadata": {},
   "outputs": [],
   "source": []
  },
  {
   "cell_type": "code",
   "execution_count": null,
   "metadata": {},
   "outputs": [],
   "source": []
  },
  {
   "cell_type": "code",
   "execution_count": null,
   "metadata": {},
   "outputs": [],
   "source": []
  },
  {
   "cell_type": "code",
   "execution_count": null,
   "metadata": {},
   "outputs": [],
   "source": []
  }
 ],
 "metadata": {
  "hide_input": false,
  "kernelspec": {
   "display_name": "Python 3",
   "language": "python",
   "name": "python3"
  },
  "language_info": {
   "codemirror_mode": {
    "name": "ipython",
    "version": 3
   },
   "file_extension": ".py",
   "mimetype": "text/x-python",
   "name": "python",
   "nbconvert_exporter": "python",
   "pygments_lexer": "ipython3",
   "version": "3.7.4"
  },
  "nbTranslate": {
   "displayLangs": [
    "*"
   ],
   "hotkey": "alt-t",
   "langInMainMenu": true,
   "sourceLang": "en",
   "targetLang": "fr",
   "useGoogleTranslate": true
  }
 },
 "nbformat": 4,
 "nbformat_minor": 2
}
