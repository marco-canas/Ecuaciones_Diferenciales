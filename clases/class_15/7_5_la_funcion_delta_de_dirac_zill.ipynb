{
 "cells": [
  {
   "cell_type": "markdown",
   "id": "ee5b3b35",
   "metadata": {
    "slideshow": {
     "slide_type": "slide"
    }
   },
   "source": [
    "<table align=\"left\">\n",
    "  <td>\n",
    "    <a href=\"https://colab.research.google.com/github/marco-canas/Ecuaciones_Diferenciales/blob/main/asesoria_EDO/ejer_sec_3.1/Ejer_22_sec_3.1_Boyce_DiPrima.ipynb\" target=\"_parent\"><img src=\"https://colab.research.google.com/assets/colab-badge.svg\" alt=\"Open In Colab\"/></a>\n",
    "  </td>\n",
    "  <td>\n",
    "    <a target=\"_blank\" href=\"https://kaggle.com/kernels/welcome?src=https://github.com/marco-canas/Ecuaciones_Diferenciales/blob/main/asesoria_EDO/ejer_sec_3.1/Ejer_22_sec_3.1_Boyce_DiPrima.ipynb\"><img src=\"https://kaggle.com/static/images/open-in-kaggle.svg\" /></a>\n",
    "  </td>\n",
    "</table>"
   ]
  },
  {
   "cell_type": "markdown",
   "id": "119da498",
   "metadata": {
    "slideshow": {
     "slide_type": "slide"
    }
   },
   "source": [
    "# 7.5 La función delta de dirac"
   ]
  },
  {
   "cell_type": "markdown",
   "id": "32194586",
   "metadata": {
    "slideshow": {
     "slide_type": "slide"
    }
   },
   "source": [
    "Página 308 de Denis Zill"
   ]
  },
  {
   "cell_type": "markdown",
   "id": "c234b988",
   "metadata": {
    "slideshow": {
     "slide_type": "slide"
    }
   },
   "source": [
    "## [Video de apoyo]()"
   ]
  },
  {
   "cell_type": "markdown",
   "id": "628a38aa",
   "metadata": {
    "slideshow": {
     "slide_type": "slide"
    }
   },
   "source": [
    "## INTRODUCCIÓN"
   ]
  },
  {
   "cell_type": "markdown",
   "id": "90000cb0",
   "metadata": {
    "slideshow": {
     "slide_type": "slide"
    }
   },
   "source": [
    "En el último párrafo de la página 261, se indicó que como una consecuencia inmediata del teorema 7.1.3, $F(s) = 1$ no puede ser la transformada de Laplace de una función $f$ que es continua por tramos en $[0,\\infty)$ y de orden exponencial. "
   ]
  },
  {
   "cell_type": "markdown",
   "id": "60111551",
   "metadata": {
    "slideshow": {
     "slide_type": "slide"
    }
   },
   "source": [
    "En el análisis siguiente se introduce una función que es muy diferente de las que ha estudiado en cursos anteriores. Más tarde veremos que de hecho existe una función o más precisamente, una función generalizada, cuya transformada de Laplace es $F(s) = 1$."
   ]
  },
  {
   "cell_type": "markdown",
   "id": "16347ffe",
   "metadata": {
    "slideshow": {
     "slide_type": "slide"
    }
   },
   "source": [
    "## IMPULSO UNITARIO "
   ]
  },
  {
   "cell_type": "markdown",
   "id": "8f9dfdd5",
   "metadata": {
    "slideshow": {
     "slide_type": "slide"
    }
   },
   "source": [
    "Los sistemas mecánicos suelen ser afectados por una fuerza externa (o fuerza electromotriz en un circuito eléctrico) de gran magnitud que actúa sólo por un periodo muy corto. "
   ]
  },
  {
   "cell_type": "markdown",
   "id": "1e10e765",
   "metadata": {
    "slideshow": {
     "slide_type": "slide"
    }
   },
   "source": [
    "Por ejemplo, podría caer un rayo en el ala vibrante de un avión, un martillo de bola podría golpear con precisión una masa en un resorte, una bola (de beisbol, golf, tenis) podría ser enviada por el aire al ser golpeada de modo violento con un bate, \n",
    "palo de golf o raqueta. "
   ]
  },
  {
   "cell_type": "markdown",
   "id": "01413b4d",
   "metadata": {
    "slideshow": {
     "slide_type": "slide"
    }
   },
   "source": [
    "Vea la figura 7.5.1. La gráfica de la función definida por partes  \n",
    "\n",
    "$$ \\delta_{a}(t - t_{0}) = \\begin{cases} 0 & 0 \\leq t < t_{0} - a \\\\ \\frac{1}{2a} & t_{0} - a \\leq t < t_{0} + a \\\\ 0  & t \\geq t_{0} + a \\end{cases} $$"
   ]
  },
  {
   "cell_type": "markdown",
   "id": "e8d07d59",
   "metadata": {
    "slideshow": {
     "slide_type": "slide"
    }
   },
   "source": [
    "$ a> 0$, $t_{0} > 0$, que se muestra en la figura 7.5.2a, podría servir como modelo para tal fuerza. "
   ]
  },
  {
   "cell_type": "markdown",
   "id": "629e3202",
   "metadata": {
    "slideshow": {
     "slide_type": "slide"
    }
   },
   "source": [
    "Para un valor pequeño de $a$, $\\delta_{a}(t - t_{0})$ es en esencia una función constante de gran magnitud que está “activada” sólo durante un periodo muy corto, alrededor de $t_{0}$."
   ]
  },
  {
   "cell_type": "markdown",
   "id": "9418cab2",
   "metadata": {
    "slideshow": {
     "slide_type": "slide"
    }
   },
   "source": [
    " El comportamiento de $\\delta_{a}(t - t_{0})$ conforme $a \\to 0$ se ilustra en la siguiente gráfica realizada con matplotlib."
   ]
  },
  {
   "cell_type": "code",
   "execution_count": 36,
   "id": "10ec17a1",
   "metadata": {
    "slideshow": {
     "slide_type": "slide"
    }
   },
   "outputs": [
    {
     "data": {
      "application/vnd.jupyter.widget-view+json": {
       "model_id": "c4e5f8bdbc0f432fb96575c457dc33e0",
       "version_major": 2,
       "version_minor": 0
      },
      "text/plain": [
       "interactive(children=(FloatSlider(value=0.1, description='a', max=1.0, step=0.01), Output()), _dom_classes=('w…"
      ]
     },
     "metadata": {},
     "output_type": "display_data"
    }
   ],
   "source": [
    "import numpy as np \n",
    "import matplotlib.pyplot as plt \n",
    "\n",
    "from ipywidgets import interact \n",
    "\n",
    "t0 = 2\n",
    "\n",
    "\n",
    "def trazar_impulso_unitario(a = 0.1):\n",
    "    fig = plt.figure()\n",
    "    ax = fig.add_subplot()\n",
    "    T = np.linspace(0,5,200) \n",
    "    tramo1 = [0 for t in T if t < t0-a]\n",
    "    tramo2 = [1/(2*a) for t in T if t>= (t0-a) and t < (t0+a)]\n",
    "    tramo3 = [0 for t in T if t >= (t0 + a)]\n",
    "    y = np.concatenate((tramo1,tramo2,tramo3)) \n",
    "    ax.plot(T,y)\n",
    "    ax.set_xlim(0,5) \n",
    "    ax.set_ylim(0,10) \n",
    "    ax.grid() \n",
    "        \n",
    "    \n",
    "interact(trazar_impulso_unitario, a = (0,1,0.01))    \n",
    "\n",
    "plt.show() \n"
   ]
  },
  {
   "cell_type": "markdown",
   "id": "3f761394",
   "metadata": {
    "slideshow": {
     "slide_type": "slide"
    }
   },
   "source": [
    " La función $\\delta_{a}(t - t_{0})$ se llama impulso unitario porque tiene la propiedad de integración \n",
    " \n",
    " $ \\int_{0}^{\\infty} \\delta_{a}(t - t_{0}) dt = 1 $$\n",
    " "
   ]
  },
  {
   "cell_type": "markdown",
   "id": "8aa9a587",
   "metadata": {
    "slideshow": {
     "slide_type": "slide"
    }
   },
   "source": [
    "## LA FUNCION DELTA DE DIRAC "
   ]
  },
  {
   "cell_type": "markdown",
   "id": "ee5d00f9",
   "metadata": {
    "slideshow": {
     "slide_type": "slide"
    }
   },
   "source": [
    "En la práctica es conveniente trabajar con otro tipo de impulso unitario, una “función” que aproxima a $\\delta_{a}(t - t_{0})$ y se define por el límite\n",
    "\n",
    "$$ \\delta(t - t_{0}) = \\lim_{a \\to 0} \\delta_{a}(t - t_{0})  $$\n"
   ]
  },
  {
   "cell_type": "markdown",
   "id": "7a963b02",
   "metadata": {
    "slideshow": {
     "slide_type": "slide"
    }
   },
   "source": [
    "La última expresión, que no es una función en absoluto, se puede caracterizar por las dos propiedades:\n",
    "\n",
    "1. \n",
    "\n",
    "\n",
    "$$ \\delta(t - t_{0}) = \\begin{cases} \\infty, & t = t_{0} \\\\ 0, & t \\neq t_{0} \\end{cases} $$\n",
    "\n",
    "y\n"
   ]
  },
  {
   "cell_type": "markdown",
   "id": "9f8fbf65",
   "metadata": {
    "slideshow": {
     "slide_type": "slide"
    }
   },
   "source": [
    "$$ \\int_{0}^{\\infty} \\delta(t-t_{0}) dt = 1. $$"
   ]
  },
  {
   "cell_type": "markdown",
   "id": "fd58841c",
   "metadata": {
    "slideshow": {
     "slide_type": "slide"
    }
   },
   "source": [
    "El impulso unitario d(t \u0002 t\n",
    "0\n",
    ") se llama función delta de Dirac.\n",
    "Es posible obtener la transformada de Laplace de la función delta de Dirac por la \n",
    "suposición formal de que { (t t0\n",
    ")} líma : 0 { a\n",
    "(t t0\n",
    ")} ."
   ]
  },
  {
   "cell_type": "code",
   "execution_count": null,
   "id": "d39397d7",
   "metadata": {
    "slideshow": {
     "slide_type": "slide"
    }
   },
   "outputs": [],
   "source": []
  },
  {
   "cell_type": "code",
   "execution_count": null,
   "id": "115fb684",
   "metadata": {
    "slideshow": {
     "slide_type": "slide"
    }
   },
   "outputs": [],
   "source": []
  },
  {
   "cell_type": "code",
   "execution_count": null,
   "id": "61cb2bfe",
   "metadata": {},
   "outputs": [],
   "source": []
  },
  {
   "cell_type": "code",
   "execution_count": null,
   "id": "25b70df6",
   "metadata": {},
   "outputs": [],
   "source": []
  }
 ],
 "metadata": {
  "celltoolbar": "Slideshow",
  "kernelspec": {
   "display_name": "Python 3",
   "language": "python",
   "name": "python3"
  },
  "language_info": {
   "codemirror_mode": {
    "name": "ipython",
    "version": 3
   },
   "file_extension": ".py",
   "mimetype": "text/x-python",
   "name": "python",
   "nbconvert_exporter": "python",
   "pygments_lexer": "ipython3",
   "version": "3.8.8"
  },
  "latex_envs": {
   "LaTeX_envs_menu_present": true,
   "autoclose": false,
   "autocomplete": false,
   "bibliofile": "biblio.bib",
   "cite_by": "apalike",
   "current_citInitial": 1,
   "eqLabelWithNumbers": true,
   "eqNumInitial": 1,
   "hotkeys": {
    "equation": "Ctrl-E",
    "itemize": "Ctrl-I"
   },
   "labels_anchors": false,
   "latex_user_defs": false,
   "report_style_numbering": false,
   "user_envs_cfg": false
  }
 },
 "nbformat": 4,
 "nbformat_minor": 5
}
