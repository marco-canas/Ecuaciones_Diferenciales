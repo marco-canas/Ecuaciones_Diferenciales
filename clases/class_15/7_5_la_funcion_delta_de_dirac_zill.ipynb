{
 "cells": [
  {
   "cell_type": "markdown",
   "id": "119da498",
   "metadata": {},
   "source": [
    "# 7.5 La función delta de dirac"
   ]
  },
  {
   "cell_type": "markdown",
   "id": "32194586",
   "metadata": {},
   "source": [
    "Página 308 de Denis Zill]"
   ]
  },
  {
   "cell_type": "markdown",
   "id": "628a38aa",
   "metadata": {},
   "source": [
    "## INTRODUCCIÓN"
   ]
  },
  {
   "cell_type": "markdown",
   "id": "90000cb0",
   "metadata": {},
   "source": [
    "En el último párrafo de la página 261, se indicó que como una consecuencia inmediata del teorema 7.1.3, $F(s) = 1$ no puede ser la transformada de Laplace de una función $f$ que es continua por tramos en $[0,\\infty)$ y de orden exponencial. "
   ]
  },
  {
   "cell_type": "markdown",
   "id": "60111551",
   "metadata": {},
   "source": [
    "En el análisis siguiente se introduce una función que es muy diferente de las que ha estudiado en cursos anteriores. Más tarde veremos que de hecho existe una función o más precisamente, una función generalizada, cuya transformada de Laplace es $F(s) = 1$."
   ]
  },
  {
   "cell_type": "markdown",
   "id": "16347ffe",
   "metadata": {},
   "source": [
    "## IMPULSO UNITARIO "
   ]
  },
  {
   "cell_type": "markdown",
   "id": "8f9dfdd5",
   "metadata": {},
   "source": [
    "Los sistemas mecánicos suelen ser afectados por una fuerza externa (o fuerza electromotriz en un circuito eléctrico) de gran magnitud que actúa sólo por un periodo muy corto. "
   ]
  },
  {
   "cell_type": "markdown",
   "id": "1e10e765",
   "metadata": {},
   "source": [
    "Por ejemplo, podría caer un rayo en el ala vibrante de un avión, un martillo de bola podría golpear con precisión una masa en un resorte, una bola (de beisbol, golf, tenis) podría ser enviada por el aire al ser golpeada de modo violento con un bate, \n",
    "palo de golf o raqueta. "
   ]
  },
  {
   "cell_type": "markdown",
   "id": "01413b4d",
   "metadata": {},
   "source": [
    "Vea la figura 7.5.1. La gráfica de la función definida por partes  \n",
    "\n",
    "$$ \\delta_{a}(t - t_{0}) = \\begin{cases} 0 & 0 \\leq t < t_{0} - a \\\\ \\frac{1}{2a} & t_{0} - a \\leq t < t_{0} + a \\\\ 0  & t \\geq t_{0} + a \\end{cases} $$"
   ]
  },
  {
   "cell_type": "markdown",
   "id": "e8d07d59",
   "metadata": {},
   "source": [
    "$ a> 0$, $t_{0} > 0$, que se muestra en la figura 7.5.2a, podría servir como modelo para tal fuerza. "
   ]
  },
  {
   "cell_type": "markdown",
   "id": "3f761394",
   "metadata": {},
   "source": [
    "Para un valor pequeño de a, da\n",
    "(t \u0002 t\n",
    "0\n",
    ") es en esencia una función constante de gran mag\u0002nitud que está “activada” sólo durante un periodo muy corto, alrededor de t\n",
    "0\n",
    ". El compor\u0002tamiento de da\n",
    "(t\u0002t\n",
    "0\n",
    ") conforme a: 0 se ilustra en la fi gura 7.5.2b. La función da\n",
    "(t\u0002t\n",
    "0\n",
    ") se \n",
    "llama impulso unitario porque tiene la propiedad de integración 0 a\n",
    "(t t0\n",
    ") dt 1 ."
   ]
  },
  {
   "cell_type": "code",
   "execution_count": null,
   "id": "e46af4a8",
   "metadata": {},
   "outputs": [],
   "source": []
  },
  {
   "cell_type": "code",
   "execution_count": null,
   "id": "e1c9f3ce",
   "metadata": {},
   "outputs": [],
   "source": []
  },
  {
   "cell_type": "code",
   "execution_count": null,
   "id": "4799a2b6",
   "metadata": {},
   "outputs": [],
   "source": []
  },
  {
   "cell_type": "code",
   "execution_count": null,
   "id": "16b34b05",
   "metadata": {},
   "outputs": [],
   "source": []
  },
  {
   "cell_type": "code",
   "execution_count": null,
   "id": "235346d3",
   "metadata": {},
   "outputs": [],
   "source": []
  },
  {
   "cell_type": "code",
   "execution_count": null,
   "id": "d39397d7",
   "metadata": {},
   "outputs": [],
   "source": []
  },
  {
   "cell_type": "code",
   "execution_count": null,
   "id": "115fb684",
   "metadata": {},
   "outputs": [],
   "source": []
  },
  {
   "cell_type": "code",
   "execution_count": null,
   "id": "61cb2bfe",
   "metadata": {},
   "outputs": [],
   "source": []
  },
  {
   "cell_type": "code",
   "execution_count": null,
   "id": "25b70df6",
   "metadata": {},
   "outputs": [],
   "source": []
  }
 ],
 "metadata": {
  "kernelspec": {
   "display_name": "Python 3",
   "language": "python",
   "name": "python3"
  },
  "language_info": {
   "codemirror_mode": {
    "name": "ipython",
    "version": 3
   },
   "file_extension": ".py",
   "mimetype": "text/x-python",
   "name": "python",
   "nbconvert_exporter": "python",
   "pygments_lexer": "ipython3",
   "version": "3.8.8"
  },
  "latex_envs": {
   "LaTeX_envs_menu_present": true,
   "autoclose": false,
   "autocomplete": false,
   "bibliofile": "biblio.bib",
   "cite_by": "apalike",
   "current_citInitial": 1,
   "eqLabelWithNumbers": true,
   "eqNumInitial": 1,
   "hotkeys": {
    "equation": "Ctrl-E",
    "itemize": "Ctrl-I"
   },
   "labels_anchors": false,
   "latex_user_defs": false,
   "report_style_numbering": false,
   "user_envs_cfg": false
  }
 },
 "nbformat": 4,
 "nbformat_minor": 5
}
