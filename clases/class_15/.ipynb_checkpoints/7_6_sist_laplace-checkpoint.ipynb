{
 "cells": [
  {
   "cell_type": "markdown",
   "id": "550dc7ad",
   "metadata": {
    "slideshow": {
     "slide_type": "slide"
    }
   },
   "source": [
    "# 7.6 Sistemas de ecuaciones diferenciales lineales.     \n",
    "\n",
    "## Resolución con transformada de Laplace"
   ]
  },
  {
   "cell_type": "markdown",
   "id": "75fb491e",
   "metadata": {
    "slideshow": {
     "slide_type": "slide"
    }
   },
   "source": [
    "Página 311 de Dennis Zill"
   ]
  },
  {
   "cell_type": "markdown",
   "id": "fb4c467b",
   "metadata": {
    "slideshow": {
     "slide_type": "slide"
    }
   },
   "source": [
    "## [Video de apoyo]() "
   ]
  },
  {
   "cell_type": "markdown",
   "id": "b0893e3e",
   "metadata": {
    "slideshow": {
     "slide_type": "slide"
    }
   },
   "source": [
    "## REPASO DE MATERIAL  \n",
    "\n",
    "* Solución de sistemas de dos ecuaciones con dos incógnitas."
   ]
  },
  {
   "cell_type": "markdown",
   "id": "e7785743",
   "metadata": {
    "slideshow": {
     "slide_type": "slide"
    }
   },
   "source": [
    "## INTRODUCCIÓN   "
   ]
  },
  {
   "cell_type": "markdown",
   "id": "1a37fab3",
   "metadata": {
    "slideshow": {
     "slide_type": "slide"
    }
   },
   "source": [
    "Cuando se especifican las condiciones iniciales, la transformada de Laplace de cada ecuación en un sistema de ecuaciones diferenciales lineales con coeficientes constantes reduce el sistema de ED a un conjunto de ecuaciones algebraicas simultáneas en las funciones transformadas. "
   ]
  },
  {
   "cell_type": "markdown",
   "id": "e85fd460",
   "metadata": {
    "slideshow": {
     "slide_type": "slide"
    }
   },
   "source": [
    "Se resuelve el sistema de ecuaciones algebraicas para cada una de las funciones transformadas y luego se determinan las transformadas de Laplace inversas en la manera usual."
   ]
  },
  {
   "cell_type": "markdown",
   "id": "a3ba3069",
   "metadata": {
    "slideshow": {
     "slide_type": "slide"
    }
   },
   "source": [
    "## RESORTES ACOPLADOS   "
   ]
  },
  {
   "cell_type": "markdown",
   "id": "fbd8c3f7",
   "metadata": {
    "slideshow": {
     "slide_type": "slide"
    }
   },
   "source": [
    "<img src = 'https://github.com/marco-canas/Ecuaciones_Diferenciales/blob/main/clases/class_15/figura_7_6_1.PNG?raw=true'> "
   ]
  },
  {
   "cell_type": "markdown",
   "id": "638b933d",
   "metadata": {
    "slideshow": {
     "slide_type": "slide"
    }
   },
   "source": [
    "Dos masas $m_{1}$  y $m_{2}$ están conectadas a dos resortes A y B de masa despreciable con constantes de resorte $k_{1}$ y $k_{2}$  respectivamente. "
   ]
  },
  {
   "cell_type": "markdown",
   "id": "6949b98c",
   "metadata": {
    "slideshow": {
     "slide_type": "slide"
    }
   },
   "source": [
    "A su vez, los dos resortes están unidos como se muestra en la figura 7.6.1. "
   ]
  },
  {
   "cell_type": "markdown",
   "id": "c7096e96",
   "metadata": {
    "slideshow": {
     "slide_type": "slide"
    }
   },
   "source": [
    "Sean $x_{1}(t)$ y $x_{2}(t)$ los desplazamientos verticales de las masas desde sus posiciones de equilibrio. "
   ]
  },
  {
   "cell_type": "markdown",
   "id": "ced5af06",
   "metadata": {
    "slideshow": {
     "slide_type": "slide"
    }
   },
   "source": [
    "Cuando el sistema está en movimiento, el resorte $B$ está sujeto a elongación y compresión; por lo que su elongación neta es $x_{2} – x_{1}$. "
   ]
  },
  {
   "cell_type": "markdown",
   "id": "87b2c4fd",
   "metadata": {
    "slideshow": {
     "slide_type": "slide"
    }
   },
   "source": [
    "Por tanto, se deduce de la ley de Hooke que los resortes $A$ y $B$ ejercen fuerzas $k_{1}x_{1}$ y $k_{2}(x_{2} - x_{1})$ respectivamente, en $m_{1}$.  "
   ]
  },
  {
   "cell_type": "markdown",
   "id": "cef1048d",
   "metadata": {
    "slideshow": {
     "slide_type": "slide"
    }
   },
   "source": [
    "Si ninguna fuerza externa se aplica al sistema y si ninguna fuerza de amortiguamiento está presente, entonces la fuerza neta en $m_{1}$ es $-k_{1}x_{1} + k_{2}(x_{2} - x_{1})$. "
   ]
  },
  {
   "cell_type": "markdown",
   "id": "2df06300",
   "metadata": {
    "slideshow": {
     "slide_type": "slide"
    }
   },
   "source": [
    "Por la segunda ley de Newton se puede escribir \n",
    "\n",
    "$$ m_{1}\\frac{d^{2}x_{1}}{dt^{2}} = -k_{1}x_{1} + k_{2}(x_{2} - x_{1})   $$\n"
   ]
  },
  {
   "cell_type": "markdown",
   "id": "20e95d52",
   "metadata": {
    "slideshow": {
     "slide_type": "slide"
    }
   },
   "source": [
    "De igual manera, la fuerza neta ejercida en la masa $m_{2}$ se debe solo a la elongación neta de $B$; es decir, $-k_{2}(x_{2} - x_{1})$. "
   ]
  },
  {
   "cell_type": "markdown",
   "id": "6a100e75",
   "metadata": {
    "slideshow": {
     "slide_type": "slide"
    }
   },
   "source": [
    "Por tanto se tiene, \n",
    "\n",
    "$$ m_{2}\\frac{d^{2}x_{2}}{dt^{2}} = -k_{2}(x_{2} - x_{1}). $$\n"
   ]
  },
  {
   "cell_type": "markdown",
   "id": "d580b668",
   "metadata": {
    "slideshow": {
     "slide_type": "slide"
    }
   },
   "source": [
    "En otras palabras, el movimiento del sistema acoplado se representa por el sistema \n",
    "de ecuaciones diferenciales simultáneas de segundo orden\n",
    "\n",
    "\\begin{align*}\n",
    "m_{1}x_{1}'' & = -k_{1}x_{1} + k_{2}(x_{2} - x_{1}) \\\\\n",
    "m_{2}x_{2}'' & = -k_{2}(x_{2} - x_{1}) \n",
    "\\end{align*}\n"
   ]
  },
  {
   "cell_type": "markdown",
   "id": "951e4015",
   "metadata": {
    "slideshow": {
     "slide_type": "slide"
    }
   },
   "source": [
    "En el ejemplo siguiente se resuelve el sistema anterior bajo las suposiciones de que $k_{1} = 6$, $k_{2} = 4$, $m_{1} = 1, $m_{2} = 1$ y que las masas comienzan desde sus posiciones de equilibrio con \n",
    "velocidades unitarias opuestas."
   ]
  },
  {
   "cell_type": "markdown",
   "id": "ca4d0a5b",
   "metadata": {
    "slideshow": {
     "slide_type": "slide"
    }
   },
   "source": [
    "## EJEMPLO 1 Resortes acoplados"
   ]
  },
  {
   "cell_type": "markdown",
   "id": "6716ba44",
   "metadata": {
    "slideshow": {
     "slide_type": "slide"
    }
   },
   "source": [
    "Resuelva\n",
    "\n",
    "\\begin{align*}\n",
    "x_{1}'' + 10x_{1} - 4x_{2}  & = 0 \\\\\n",
    "-4x_{1} + x_{2}'' + 4x_{2} & = 0 \n",
    "\\end{align*}\n",
    "\n",
    "Sujeta a $x_{1}(0) = 0$, $x_{1}'(0) = 1$, $x_{2}(0) = 0$ y $x_{2}'(0) = -1$. "
   ]
  },
  {
   "cell_type": "markdown",
   "id": "32bde40d",
   "metadata": {
    "slideshow": {
     "slide_type": "slide"
    }
   },
   "source": [
    "## Solución "
   ]
  },
  {
   "cell_type": "markdown",
   "id": "5e2adacb",
   "metadata": {
    "slideshow": {
     "slide_type": "slide"
    }
   },
   "source": [
    "La transformada de cada ecuación es: \n",
    "\n",
    "\\begin{align*}\n",
    "s^{2}X_{1}(s) - sx_{1}(0) - x_{1}'(0) + 10X_{1}(s) - 4X_{2}(s)  & = 0 \\\\\n",
    "-4X_{1}(s) + s^{2}X_{2}(s) - sx_{2}(0) - x_{2}'(0) + 4X_{2}(s) & = 0, \n",
    "\\end{align*}\n"
   ]
  },
  {
   "cell_type": "markdown",
   "id": "14421196",
   "metadata": {
    "slideshow": {
     "slide_type": "slide"
    }
   },
   "source": [
    "donde $X_{1}(s) = L\\{x_{1}(t)\\}$, $X_{2}(s) = L\\{x_{2}(t)\\}$."
   ]
  },
  {
   "cell_type": "markdown",
   "id": "c8b3ed2f",
   "metadata": {
    "slideshow": {
     "slide_type": "slide"
    }
   },
   "source": [
    "El sistema anterior es igual a: \n",
    "\n",
    "\n",
    "\\begin{align*}\n",
    "(s^{2} + 10)X_{1}(s) - 4X_{2}(s) & = 1 \\\\\n",
    "-4X_{1}(s) + (s^{2} + 4)X_{2}(s) & = -1\n",
    "\\end{align*}\n"
   ]
  },
  {
   "cell_type": "markdown",
   "id": "a12a0122",
   "metadata": {
    "slideshow": {
     "slide_type": "slide"
    }
   },
   "source": [
    "Resolviendo el anterior sistema para $X_{1}(s)$ y usando fracciones parciales en el resultado, se obtiene \n",
    "\n",
    "$$ X_{1}(s) = \\frac{s^{2}}{(s^{2} + 2)(s^{2} + 12)} = - \\frac{1/5}{s^{2} + 2} + \\frac{6/5}{s^{2} + 12} $$\n"
   ]
  },
  {
   "cell_type": "markdown",
   "id": "8640a8e3",
   "metadata": {
    "slideshow": {
     "slide_type": "slide"
    }
   },
   "source": [
    "y por tanto, \n",
    "\n",
    "\\begin{align*}\n",
    "x_{1}(t) & = -\\frac{1}{5\\sqrt{2}}L^{-1}\\left\\{ \\frac{\\sqrt{2}}{s^{2} + 2} \\right\\} + \\frac{6}{5\\sqrt{12}} L^{-1}\\left\\{ \\frac{\\sqrt{12}}{s^{2} + 12} \\right\\} \\\\\n",
    "         & = -\\frac{\\sqrt{2}}{10} \\sin \\sqrt{2}t + \\frac{\\sqrt{3}}{5} \\sin 2\\sqrt{3}t. \n",
    "\\end{align*}\n"
   ]
  },
  {
   "cell_type": "markdown",
   "id": "ef609e3a",
   "metadata": {
    "slideshow": {
     "slide_type": "slide"
    }
   },
   "source": [
    "## Gráfica de $x_{1}(t)$ vs. $t$"
   ]
  },
  {
   "cell_type": "code",
   "execution_count": 6,
   "id": "f9aaaa1b",
   "metadata": {
    "slideshow": {
     "slide_type": "slide"
    }
   },
   "outputs": [
    {
     "data": {
      "image/png": "[encoded data removed]",
      "text/plain": [
       "<Figure size 432x288 with 1 Axes>"
      ]
     },
     "metadata": {},
     "output_type": "display_data"
    }
   ],
   "source": [
    "import numpy as np \n",
    "import matplotlib.pyplot as plt \n",
    "\n",
    "plt.style.use('dark_background') \n",
    "\n",
    "fig, ax = plt.subplots() \n",
    "\n",
    "t = np.linspace(0,15,100)\n",
    "\n",
    "x1 = -(np.sqrt(2)/10)*np.sin(np.sqrt(2)*t) + (np.sqrt(3)/5)*np.sin(2*np.sqrt(3)*t)\n",
    "\n",
    "ax.plot(t, x1, color = 'yellow') \n",
    "\n",
    "ax.grid(True, alpha = 0.3) \n",
    "\n",
    "\n",
    "plt.show()\n"
   ]
  },
  {
   "cell_type": "markdown",
   "id": "0d1dca3f",
   "metadata": {
    "slideshow": {
     "slide_type": "slide"
    }
   },
   "source": [
    "Sustituyendo la expresión para $X_{1}(s)$ en la primera ecuación de \n",
    "\\begin{align*}\n",
    "(s^{2} + 10)X_{1}(s) - 4X_{2}(s) & = 1 \\\\\n",
    "-4X_{1}(s) + (s^{2} + 4)X_{2}(s) & = -1,\n",
    "\\end{align*}\n",
    "\n",
    "se obtiene\n",
    "\n",
    "\\begin{align*}\n",
    "X_{2}(s) & = -\\frac{s^{2} + 6}{(s^{2} + 2)(s^{2} + 12)} = -\\frac{2/5}{s^{2} + 2} - \\frac{3/5}{s^{2} + 12} \\\\\n",
    "x_{2}(t) & = -\\frac{2}{5\\sqrt{2}} L^{-1} \\left\\{ \\frac{\\sqrt{2}}{s^{2} + 2} \\right\\} -\\frac{3}{5\\sqrt{12}} L^{-1} \\left\\{ \\frac{\\sqrt{12}}{s^{2} + 12} \\right\\} \\\\\n",
    "         & = -\\frac{\\sqrt{2}}{5} \\sin \\sqrt{2}t - \\frac{\\sqrt{3}}{10} \\sin 2\\sqrt{3}t\n",
    "\\end{align*}\n"
   ]
  },
  {
   "cell_type": "code",
   "execution_count": 19,
   "id": "cdf72eda",
   "metadata": {
    "slideshow": {
     "slide_type": "slide"
    }
   },
   "outputs": [
    {
     "data": {
      "image/png": "[encoded data removed]",
      "text/plain": [
       "<Figure size 432x288 with 1 Axes>"
      ]
     },
     "metadata": {},
     "output_type": "display_data"
    }
   ],
   "source": [
    "import numpy as np \n",
    "import matplotlib.pyplot as plt \n",
    "\n",
    "plt.style.use('dark_background') \n",
    "\n",
    "fig, ax = plt.subplots() \n",
    "\n",
    "t = np.linspace(0,15,100)\n",
    "\n",
    "x2 = -(np.sqrt(2)/5)*np.sin(np.sqrt(2)*t) - (np.sqrt(3)/10)*np.sin(2*np.sqrt(3)*t)\n",
    "\n",
    "ax.plot(t, x2, color = 'yellow') \n",
    "\n",
    "ax.grid(True, alpha = 0.2)  \n",
    "\n",
    "\n",
    "plt.show()"
   ]
  },
  {
   "cell_type": "markdown",
   "id": "843ec171",
   "metadata": {
    "slideshow": {
     "slide_type": "slide"
    }
   },
   "source": [
    "Por último, la solución del sistema dado es:\n",
    "\n",
    "\\begin{align*}\n",
    "x_{1}(t) & = -\\frac{\\sqrt{2}}{10}\\sin \\sqrt{2}t + \\frac{\\sqrt{3}}{5}\\sin 2\\sqrt{3}t \\\\\n",
    "x_{2}(t) & = -\\frac{\\sqrt{2}}{5}\\sin \\sqrt{2}t -\\frac{\\sqrt{3}}{10}\\sin 2\\sqrt{3}t\n",
    "\\end{align*}\n",
    "\n"
   ]
  },
  {
   "cell_type": "markdown",
   "id": "2aaaa8b1",
   "metadata": {
    "slideshow": {
     "slide_type": "slide"
    }
   },
   "source": [
    "Las gráficas de $x_{1}$  y $x_{2}$ de las figuras anteriores revelan el complicado movimiento oscilatorio de cada masa."
   ]
  },
  {
   "cell_type": "markdown",
   "id": "5500402f",
   "metadata": {
    "slideshow": {
     "slide_type": "slide"
    }
   },
   "source": [
    "## Redes "
   ]
  },
  {
   "cell_type": "markdown",
   "id": "5fdd494d",
   "metadata": {
    "slideshow": {
     "slide_type": "slide"
    }
   },
   "source": [
    "<img src = 'https://github.com/marco-canas/edo/blob/main/clases/class_15/figura_7_6_2.PNG?raw=true'> "
   ]
  },
  {
   "cell_type": "markdown",
   "id": "c6f9d5bb",
   "metadata": {
    "slideshow": {
     "slide_type": "slide"
    }
   },
   "source": []
  },
  {
   "cell_type": "code",
   "execution_count": null,
   "id": "e432ea98",
   "metadata": {
    "slideshow": {
     "slide_type": "slide"
    }
   },
   "outputs": [],
   "source": []
  },
  {
   "cell_type": "code",
   "execution_count": null,
   "id": "b0981546",
   "metadata": {
    "slideshow": {
     "slide_type": "slide"
    }
   },
   "outputs": [],
   "source": []
  },
  {
   "cell_type": "code",
   "execution_count": null,
   "id": "c843e62d",
   "metadata": {
    "slideshow": {
     "slide_type": "slide"
    }
   },
   "outputs": [],
   "source": []
  },
  {
   "cell_type": "code",
   "execution_count": null,
   "id": "d88907ae",
   "metadata": {
    "slideshow": {
     "slide_type": "slide"
    }
   },
   "outputs": [],
   "source": []
  },
  {
   "cell_type": "code",
   "execution_count": null,
   "id": "8f31f95f",
   "metadata": {
    "slideshow": {
     "slide_type": "slide"
    }
   },
   "outputs": [],
   "source": []
  },
  {
   "cell_type": "code",
   "execution_count": null,
   "id": "26dfbf1e",
   "metadata": {},
   "outputs": [],
   "source": []
  },
  {
   "cell_type": "markdown",
   "id": "dd6fcb1f",
   "metadata": {
    "slideshow": {
     "slide_type": "slide"
    }
   },
   "source": [
    "## Referentes \n",
    "\n",
    "* Zill, Dennis G., Cullen, Michael R. (2002) *Ecuaciones diferenciales con problemas de valores en la frontera*, Thomson.\n",
    "* https://dynamics-and-control.readthedocs.io/en/latest/1_Dynamics/3_Linear_systems/Laplace%20transforms.html  \n",
    "* http://mattpap.github.io/scipy-2011-tutorial/html/partfrac.html "
   ]
  },
  {
   "cell_type": "code",
   "execution_count": null,
   "id": "35ec7b03",
   "metadata": {},
   "outputs": [],
   "source": []
  }
 ],
 "metadata": {
  "celltoolbar": "Slideshow",
  "kernelspec": {
   "display_name": "Python 3",
   "language": "python",
   "name": "python3"
  },
  "language_info": {
   "codemirror_mode": {
    "name": "ipython",
    "version": 3
   },
   "file_extension": ".py",
   "mimetype": "text/x-python",
   "name": "python",
   "nbconvert_exporter": "python",
   "pygments_lexer": "ipython3",
   "version": "3.8.8"
  },
  "latex_envs": {
   "LaTeX_envs_menu_present": true,
   "autoclose": false,
   "autocomplete": false,
   "bibliofile": "biblio.bib",
   "cite_by": "apalike",
   "current_citInitial": 1,
   "eqLabelWithNumbers": true,
   "eqNumInitial": 1,
   "hotkeys": {
    "equation": "Ctrl-E",
    "itemize": "Ctrl-I"
   },
   "labels_anchors": false,
   "latex_user_defs": false,
   "report_style_numbering": false,
   "user_envs_cfg": false
  },
  "rise": {
   "enable_chalkboard": true,
   "theme": "sky",
   "transition": "zoom"
  }
 },
 "nbformat": 4,
 "nbformat_minor": 5
}
