{
 "cells": [
  {
   "cell_type": "markdown",
   "id": "6e1a82c6",
   "metadata": {},
   "source": [
    "# 7.6 Sistemas de ecuaciones diferenciales lineales. Resolución con transformada de Laplace"
   ]
  },
  {
   "cell_type": "markdown",
   "id": "dcd4d853",
   "metadata": {},
   "source": [
    "Página 311 de Dennis Zill"
   ]
  },
  {
   "cell_type": "markdown",
   "id": "8bec689d",
   "metadata": {},
   "source": [
    "## [Video de apoyo]() "
   ]
  },
  {
   "cell_type": "markdown",
   "id": "fe09be49",
   "metadata": {},
   "source": [
    "## REPASO DE MATERIAL  \n",
    "\n",
    "* Solución de sistemas de dos ecuaciones con dos incógnitas."
   ]
  },
  {
   "cell_type": "markdown",
   "id": "9e852e4d",
   "metadata": {},
   "source": [
    "## INTRODUCCIÓN   "
   ]
  },
  {
   "cell_type": "markdown",
   "id": "283721a9",
   "metadata": {},
   "source": [
    "Cuando se especifican las condiciones iniciales, la transformada de Laplace de cada ecuación en un sistema de ecuaciones diferenciales lineales con coeficientes constantes reduce el sistema de ED a un conjunto de ecuaciones algebraicas simultáneas en las funciones transformadas. "
   ]
  },
  {
   "cell_type": "markdown",
   "id": "07d4fe06",
   "metadata": {},
   "source": [
    "Se resuelve el sistema de ecuaciones algebraicas para cada una de las funciones transformadas y luego se determinan las transformadas de Laplace inversas en la manera usual."
   ]
  },
  {
   "cell_type": "markdown",
   "id": "a1be02f3",
   "metadata": {},
   "source": [
    "## RESORTES ACOPLADOS   "
   ]
  },
  {
   "cell_type": "markdown",
   "id": "ca08efae",
   "metadata": {},
   "source": [
    "Dos masas $m_{1}$  y $m_{2}$ están conectadas a dos resortes A y B de masa despreciable con constantes de resorte $k_{1}$ y $k_{2}$  respectivamente. "
   ]
  },
  {
   "cell_type": "markdown",
   "id": "9fd61987",
   "metadata": {},
   "source": [
    "A su vez, los dos resortes están unidos como se muestra en la figura 7.6.1. "
   ]
  },
  {
   "cell_type": "markdown",
   "id": "3d6c4062",
   "metadata": {},
   "source": [
    "Sean $x_{1}(t)$ y $x_{2}(t)$ los desplazamientos verticales de las masas desde sus posiciones de equilibrio. "
   ]
  },
  {
   "cell_type": "markdown",
   "id": "f25f7088",
   "metadata": {},
   "source": [
    "Cuando el sistema está en movimiento, el resorte $B$ está sujeto a elongación y compresión; por lo que su elongación neta es $x2 – x1$. "
   ]
  },
  {
   "cell_type": "markdown",
   "id": "cf986a60",
   "metadata": {},
   "source": [
    "Por tanto, se deduce de la ley de Hooke que los resortes A y B ejercen fuerzas \u0002k1\n",
    "x1\n",
    " y k2\n",
    "(x2 \u0002 x1\n",
    ") respectivamente, en m1\n",
    ". "
   ]
  },
  {
   "cell_type": "markdown",
   "id": "0b74dbe0",
   "metadata": {},
   "source": [
    "Si ninguna fuerza externa se aplica al sistema y si ninguna fuerza de amortiguamiento está presente, entonces la fuerza neta en $m_{1}$ es $-k_{1}x_{1} + k_{2}(x_{2} - x_{1})$. "
   ]
  },
  {
   "cell_type": "markdown",
   "id": "89fbd7d8",
   "metadata": {},
   "source": [
    "Por la segunda ley de Newton se puede escribir \n",
    "\n",
    "$$ m_{1}\\frac{d^{2}x_{1}}{dt^{2}}   $$\n"
   ]
  },
  {
   "cell_type": "markdown",
   "id": "93972a4a",
   "metadata": {},
   "source": []
  },
  {
   "cell_type": "code",
   "execution_count": null,
   "id": "0d4f5b22",
   "metadata": {},
   "outputs": [],
   "source": []
  },
  {
   "cell_type": "code",
   "execution_count": null,
   "id": "cea741a7",
   "metadata": {},
   "outputs": [],
   "source": []
  },
  {
   "cell_type": "markdown",
   "id": "986e7f59",
   "metadata": {},
   "source": [
    "## Referentes \n",
    "\n",
    "* Zill, Dennis G., Cullen, Michael R. (2002) *Ecuaciones diferenciales con problemas de valores en la frontera*, Thomson.\n",
    "* https://dynamics-and-control.readthedocs.io/en/latest/1_Dynamics/3_Linear_systems/Laplace%20transforms.html  \n",
    "* http://mattpap.github.io/scipy-2011-tutorial/html/partfrac.html "
   ]
  },
  {
   "cell_type": "code",
   "execution_count": null,
   "id": "ecf5bc96",
   "metadata": {},
   "outputs": [],
   "source": []
  }
 ],
 "metadata": {
  "kernelspec": {
   "display_name": "Python 3",
   "language": "python",
   "name": "python3"
  },
  "language_info": {
   "codemirror_mode": {
    "name": "ipython",
    "version": 3
   },
   "file_extension": ".py",
   "mimetype": "text/x-python",
   "name": "python",
   "nbconvert_exporter": "python",
   "pygments_lexer": "ipython3",
   "version": "3.8.8"
  },
  "latex_envs": {
   "LaTeX_envs_menu_present": true,
   "autoclose": false,
   "autocomplete": false,
   "bibliofile": "biblio.bib",
   "cite_by": "apalike",
   "current_citInitial": 1,
   "eqLabelWithNumbers": true,
   "eqNumInitial": 1,
   "hotkeys": {
    "equation": "Ctrl-E",
    "itemize": "Ctrl-I"
   },
   "labels_anchors": false,
   "latex_user_defs": false,
   "report_style_numbering": false,
   "user_envs_cfg": false
  }
 },
 "nbformat": 4,
 "nbformat_minor": 5
}
