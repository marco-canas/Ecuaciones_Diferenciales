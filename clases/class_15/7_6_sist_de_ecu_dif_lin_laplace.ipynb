{
 "cells": [
  {
   "cell_type": "markdown",
   "id": "27075138",
   "metadata": {},
   "source": [
    "# 7.6 Sistemas de ecuaciones diferenciales lineales. Resolución con transformada de Laplace"
   ]
  },
  {
   "cell_type": "markdown",
   "id": "24744c3e",
   "metadata": {},
   "source": [
    "Página 311 de Dennis Zill"
   ]
  },
  {
   "cell_type": "markdown",
   "id": "fc13ad4d",
   "metadata": {},
   "source": [
    "## [Video de apoyo]() "
   ]
  },
  {
   "cell_type": "markdown",
   "id": "46a638f7",
   "metadata": {},
   "source": [
    "## REPASO DE MATERIAL  \n",
    "\n",
    "* Solución de sistemas de dos ecuaciones con dos incógnitas."
   ]
  },
  {
   "cell_type": "markdown",
   "id": "353fff7c",
   "metadata": {},
   "source": [
    "## INTRODUCCIÓN   "
   ]
  },
  {
   "cell_type": "markdown",
   "id": "1491a84d",
   "metadata": {},
   "source": [
    "Cuando se especifican las condiciones iniciales, la transformada de Laplace de cada ecuación en un sistema de ecuaciones diferenciales lineales con coeficientes constantes reduce el sistema de ED a un conjunto de ecuaciones algebraicas simultáneas en las funciones transformadas. "
   ]
  },
  {
   "cell_type": "markdown",
   "id": "ba85171b",
   "metadata": {},
   "source": [
    "Se resuelve el sistema de ecuaciones algebraicas para cada una de las funciones transformadas y luego se determinan las transformadas de Laplace inversas en la manera usual."
   ]
  },
  {
   "cell_type": "markdown",
   "id": "9c192bb2",
   "metadata": {},
   "source": [
    "## RESORTES ACOPLADOS   "
   ]
  },
  {
   "cell_type": "markdown",
   "id": "48891f94",
   "metadata": {},
   "source": [
    "Dos masas $m_{1}$  y $m_{2}$ están conectadas a dos resortes A y B de masa despreciable con constantes de resorte $k_{1}$ y $k_{2}$  respectivamente. "
   ]
  },
  {
   "cell_type": "markdown",
   "id": "72d44657",
   "metadata": {},
   "source": [
    "A su vez, los dos resortes están unidos como se muestra en la figura 7.6.1. "
   ]
  },
  {
   "cell_type": "markdown",
   "id": "1fd81e89",
   "metadata": {},
   "source": [
    "Sean $x_{1}(t)$ y $x_{2}(t)$ los desplazamientos verticales de las masas desde sus posiciones de equilibrio. "
   ]
  },
  {
   "cell_type": "markdown",
   "id": "a889fada",
   "metadata": {},
   "source": [
    "Cuando el sistema está en movimiento, el resorte $B$ está sujeto a elongación y compresión; por lo que su elongación neta es $x_{2} – x_{1}$. "
   ]
  },
  {
   "cell_type": "markdown",
   "id": "9dc1fa4b",
   "metadata": {},
   "source": [
    "Por tanto, se deduce de la ley de Hooke que los resortes $A$ y $B$ ejercen fuerzas $k_{1}x_{1}$ y $k_{2}(x_{2} - x_{1})$ respectivamente, en $m_{1}$.  "
   ]
  },
  {
   "cell_type": "markdown",
   "id": "084787fc",
   "metadata": {},
   "source": [
    "Si ninguna fuerza externa se aplica al sistema y si ninguna fuerza de amortiguamiento está presente, entonces la fuerza neta en $m_{1}$ es $-k_{1}x_{1} + k_{2}(x_{2} - x_{1})$. "
   ]
  },
  {
   "cell_type": "markdown",
   "id": "18274a23",
   "metadata": {},
   "source": [
    "Por la segunda ley de Newton se puede escribir \n",
    "\n",
    "$$ m_{1}\\frac{d^{2}x_{1}}{dt^{2}}   $$\n"
   ]
  },
  {
   "cell_type": "markdown",
   "id": "3f629d8e",
   "metadata": {},
   "source": []
  },
  {
   "cell_type": "code",
   "execution_count": null,
   "id": "7c02c534",
   "metadata": {},
   "outputs": [],
   "source": []
  },
  {
   "cell_type": "code",
   "execution_count": null,
   "id": "818a7701",
   "metadata": {},
   "outputs": [],
   "source": []
  },
  {
   "cell_type": "markdown",
   "id": "769f50f9",
   "metadata": {},
   "source": [
    "## Referentes \n",
    "\n",
    "* Zill, Dennis G., Cullen, Michael R. (2002) *Ecuaciones diferenciales con problemas de valores en la frontera*, Thomson.\n",
    "* https://dynamics-and-control.readthedocs.io/en/latest/1_Dynamics/3_Linear_systems/Laplace%20transforms.html  \n",
    "* http://mattpap.github.io/scipy-2011-tutorial/html/partfrac.html "
   ]
  },
  {
   "cell_type": "code",
   "execution_count": null,
   "id": "b86aa137",
   "metadata": {},
   "outputs": [],
   "source": []
  }
 ],
 "metadata": {
  "kernelspec": {
   "display_name": "Python 3",
   "language": "python",
   "name": "python3"
  },
  "language_info": {
   "codemirror_mode": {
    "name": "ipython",
    "version": 3
   },
   "file_extension": ".py",
   "mimetype": "text/x-python",
   "name": "python",
   "nbconvert_exporter": "python",
   "pygments_lexer": "ipython3",
   "version": "3.8.8"
  },
  "latex_envs": {
   "LaTeX_envs_menu_present": true,
   "autoclose": false,
   "autocomplete": false,
   "bibliofile": "biblio.bib",
   "cite_by": "apalike",
   "current_citInitial": 1,
   "eqLabelWithNumbers": true,
   "eqNumInitial": 1,
   "hotkeys": {
    "equation": "Ctrl-E",
    "itemize": "Ctrl-I"
   },
   "labels_anchors": false,
   "latex_user_defs": false,
   "report_style_numbering": false,
   "user_envs_cfg": false
  }
 },
 "nbformat": 4,
 "nbformat_minor": 5
}
