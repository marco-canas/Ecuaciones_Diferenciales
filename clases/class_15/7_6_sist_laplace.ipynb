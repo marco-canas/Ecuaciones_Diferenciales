{
 "cells": [
  {
   "cell_type": "markdown",
   "id": "803952e2",
   "metadata": {
    "slideshow": {
     "slide_type": "slide"
    }
   },
   "source": [
    "<table align=\"left\">\n",
    "  <td>\n",
    "    <a href=\"https://colab.research.google.com/github/marco-canas/edo/blob/main/clases/class_15/7_6_sist_laplace.ipynb#scrollTo=fb4c467b\" target=\"_parent\"><img src=\"https://colab.research.google.com/assets/colab-badge.svg\" alt=\"Open In Colab\"/></a>\n",
    "  </td>\n",
    "  <td>\n",
    "    <a target=\"_blank\" href=\"https://kaggle.com/kernels/welcome?src=https://github.com/marco-canas/edo/blob/main/clases/class_15/7_6_sist_laplace.ipynb#scrollTo=fb4c467b\"><img src=\"https://kaggle.com/static/images/open-in-kaggle.svg\" /></a>\n",
    "  </td>\n",
    "</table>"
   ]
  },
  {
   "cell_type": "markdown",
   "id": "550dc7ad",
   "metadata": {
    "slideshow": {
     "slide_type": "slide"
    }
   },
   "source": [
    "# 7.6 Sistemas de ecuaciones diferenciales lineales.     \n",
    "\n",
    "## Resolución con transformada de Laplace"
   ]
  },
  {
   "cell_type": "markdown",
   "id": "75fb491e",
   "metadata": {
    "slideshow": {
     "slide_type": "slide"
    }
   },
   "source": [
    "Página 311 de Dennis Zill"
   ]
  },
  {
   "cell_type": "markdown",
   "id": "fb4c467b",
   "metadata": {
    "slideshow": {
     "slide_type": "slide"
    }
   },
   "source": [
    "## [Video de apoyo](https://www.youtube.com/watch?v=EecH-ve73OI) "
   ]
  },
  {
   "cell_type": "markdown",
   "id": "b0893e3e",
   "metadata": {
    "slideshow": {
     "slide_type": "slide"
    }
   },
   "source": [
    "## REPASO DE MATERIAL  \n",
    "\n",
    "* Solución de sistemas de dos ecuaciones con dos incógnitas."
   ]
  },
  {
   "cell_type": "markdown",
   "id": "e7785743",
   "metadata": {
    "slideshow": {
     "slide_type": "slide"
    }
   },
   "source": [
    "## INTRODUCCIÓN   "
   ]
  },
  {
   "cell_type": "markdown",
   "id": "1a37fab3",
   "metadata": {
    "slideshow": {
     "slide_type": "slide"
    }
   },
   "source": [
    "Cuando se especifican las condiciones iniciales, la transformada de Laplace de cada ecuación en un sistema de ecuaciones diferenciales lineales con coeficientes constantes reduce el sistema de ED a un conjunto de ecuaciones algebraicas simultáneas en las funciones transformadas. "
   ]
  },
  {
   "cell_type": "markdown",
   "id": "e85fd460",
   "metadata": {
    "slideshow": {
     "slide_type": "slide"
    }
   },
   "source": [
    "Se resuelve el sistema de ecuaciones algebraicas para cada una de las funciones transformadas y luego se determinan las transformadas de Laplace inversas en la manera usual."
   ]
  },
  {
   "cell_type": "markdown",
   "id": "a3ba3069",
   "metadata": {
    "slideshow": {
     "slide_type": "slide"
    }
   },
   "source": [
    "## RESORTES ACOPLADOS   "
   ]
  },
  {
   "cell_type": "markdown",
   "id": "fbd8c3f7",
   "metadata": {
    "slideshow": {
     "slide_type": "slide"
    }
   },
   "source": [
    "<img src = 'https://github.com/marco-canas/Ecuaciones_Diferenciales/blob/main/clases/class_15/figura_7_6_1.PNG?raw=true'> "
   ]
  },
  {
   "cell_type": "markdown",
   "id": "638b933d",
   "metadata": {
    "slideshow": {
     "slide_type": "slide"
    }
   },
   "source": [
    "Dos masas $m_{1}$  y $m_{2}$ están conectadas a dos resortes A y B de masa despreciable con constantes de resorte $k_{1}$ y $k_{2}$  respectivamente. "
   ]
  },
  {
   "cell_type": "markdown",
   "id": "6949b98c",
   "metadata": {
    "slideshow": {
     "slide_type": "slide"
    }
   },
   "source": [
    "A su vez, los dos resortes están unidos como se muestra en la figura anterior. "
   ]
  },
  {
   "cell_type": "markdown",
   "id": "c7096e96",
   "metadata": {
    "slideshow": {
     "slide_type": "slide"
    }
   },
   "source": [
    "Sean $x_{1}(t)$ y $x_{2}(t)$ los desplazamientos verticales de las masas desde sus posiciones de equilibrio. "
   ]
  },
  {
   "cell_type": "markdown",
   "id": "ced5af06",
   "metadata": {
    "slideshow": {
     "slide_type": "slide"
    }
   },
   "source": [
    "Cuando el sistema está en movimiento, el resorte $B$ está sujeto a elongación y compresión; por lo que su elongación neta es $x_{2} - x_{1}$. "
   ]
  },
  {
   "cell_type": "markdown",
   "id": "87b2c4fd",
   "metadata": {
    "slideshow": {
     "slide_type": "slide"
    }
   },
   "source": [
    "Por tanto, se deduce de la ley de Hooke que los resortes $A$ y $B$ ejercen fuerzas $k_{1}x_{1}$ y $k_{2}(x_{2} - x_{1})$ respectivamente, en $m_{1}$.  "
   ]
  },
  {
   "cell_type": "markdown",
   "id": "cef1048d",
   "metadata": {
    "slideshow": {
     "slide_type": "slide"
    }
   },
   "source": [
    "Si ninguna fuerza externa se aplica al sistema y si ninguna fuerza de amortiguamiento está presente, entonces la fuerza neta en\n",
    "$ m_{1}$ es\n",
    "\n",
    "$$ -k_{1}x_{1} + k_{2}(x_{2} - x_{1}). $$ "
   ]
  },
  {
   "cell_type": "markdown",
   "id": "2df06300",
   "metadata": {
    "slideshow": {
     "slide_type": "slide"
    }
   },
   "source": [
    "Por la segunda ley de Newton se puede escribir \n",
    "\n",
    "$$ m_{1}\\frac{d^{2}x_{1}}{dt^{2}} = -k_{1}x_{1} + k_{2}(x_{2} - x_{1})   $$\n"
   ]
  },
  {
   "cell_type": "markdown",
   "id": "20e95d52",
   "metadata": {
    "slideshow": {
     "slide_type": "slide"
    }
   },
   "source": [
    "De igual manera, la fuerza neta ejercida en la masa $m_{2}$ se debe solo a la elongación neta de $B$; es decir, \n",
    "\n",
    "$$ -k_{2}(x_{2} - x_{1}). $$ "
   ]
  },
  {
   "cell_type": "markdown",
   "id": "6a100e75",
   "metadata": {
    "slideshow": {
     "slide_type": "slide"
    }
   },
   "source": [
    "Por tanto se tiene, \n",
    "\n",
    "$$ m_{2}\\frac{d^{2}x_{2}}{dt^{2}} = -k_{2}(x_{2} - x_{1}). $$\n"
   ]
  },
  {
   "cell_type": "markdown",
   "id": "d580b668",
   "metadata": {
    "slideshow": {
     "slide_type": "slide"
    }
   },
   "source": [
    "En otras palabras, el movimiento del sistema acoplado se representa por el sistema \n",
    "de ecuaciones diferenciales simultáneas de segundo orden\n",
    "\n",
    "\\begin{align*}\n",
    "m_{1}x_{1}'' & = -k_{1}x_{1} + k_{2}(x_{2} - x_{1}) \\\\\n",
    "m_{2}x_{2}'' & = -k_{2}(x_{2} - x_{1}) \n",
    "\\end{align*}\n"
   ]
  },
  {
   "cell_type": "markdown",
   "id": "951e4015",
   "metadata": {
    "slideshow": {
     "slide_type": "slide"
    }
   },
   "source": [
    "En el ejemplo siguiente se resuelve el sistema anterior bajo las suposiciones de que $k_{1} = 6$, $k_{2} = 4$, $m_{1} = 1$, $m_{2} = 1$ y que las masas comienzan desde sus posiciones de equilibrio con velocidades unitarias opuestas."
   ]
  },
  {
   "cell_type": "markdown",
   "id": "ca4d0a5b",
   "metadata": {
    "slideshow": {
     "slide_type": "slide"
    }
   },
   "source": [
    "## EJEMPLO 1 Resortes acoplados"
   ]
  },
  {
   "cell_type": "markdown",
   "id": "6716ba44",
   "metadata": {
    "slideshow": {
     "slide_type": "slide"
    }
   },
   "source": [
    "Resuelva\n",
    "\n",
    "\\begin{align*}\n",
    "x_{1}'' + 10x_{1} - 4x_{2}  & = 0 \\\\\n",
    "-4x_{1} + x_{2}'' + 4x_{2} & = 0 \n",
    "\\end{align*}\n",
    "\n",
    "Sujeta a $x_{1}(0) = 0$, $x_{1}'(0) = 1$, $x_{2}(0) = 0$ y $x_{2}'(0) = -1$. "
   ]
  },
  {
   "cell_type": "markdown",
   "id": "32bde40d",
   "metadata": {
    "slideshow": {
     "slide_type": "slide"
    }
   },
   "source": [
    "## Solución "
   ]
  },
  {
   "cell_type": "markdown",
   "id": "6a487a49",
   "metadata": {
    "slideshow": {
     "slide_type": "slide"
    }
   },
   "source": [
    "\\begin{align*}\n",
    "L\\{ x_{1}'' + 10x_{1} - 4x_{2} \\}  & = L\\{0\\} \\\\\n",
    "L\\{ -4x_{1} + x_{2}'' + 4x_{2} \\}  & = L\\{0\\} \n",
    "\\end{align*}\n",
    "\n",
    "Sujeta a $x_{1}(0) = 0$, $x_{1}'(0) = 1$, $x_{2}(0) = 0$ y $x_{2}'(0) = -1$. "
   ]
  },
  {
   "cell_type": "markdown",
   "id": "fa02d8c4",
   "metadata": {
    "slideshow": {
     "slide_type": "slide"
    }
   },
   "source": [
    "\\begin{align*}\n",
    "L\\{ x_{1}''\\} + 10L\\{x_{1}\\} - 4L\\{ x_{2} \\}  & = L\\{0\\} \\\\\n",
    "-4L\\{x_{1}\\} + L\\{x_{2}''\\} + 4L\\{x_{2}\\}  & = L\\{0\\} \n",
    "\\end{align*}\n",
    "\n",
    "Sujeta a $x_{1}(0) = 0$, $x_{1}'(0) = 1$, $x_{2}(0) = 0$ y $x_{2}'(0) = -1$. "
   ]
  },
  {
   "cell_type": "markdown",
   "id": "5e2adacb",
   "metadata": {
    "slideshow": {
     "slide_type": "slide"
    }
   },
   "source": [
    "La transformada de cada ecuación es: \n",
    "\n",
    "\\begin{align*}\n",
    "s^{2}X_{1}(s) - sx_{1}(0) - x_{1}'(0) + 10X_{1}(s) - 4X_{2}(s)  & = 0 \\\\\n",
    "-4X_{1}(s) + s^{2}X_{2}(s) - sx_{2}(0) - x_{2}'(0) + 4X_{2}(s) & = 0, \n",
    "\\end{align*}\n"
   ]
  },
  {
   "cell_type": "markdown",
   "id": "14421196",
   "metadata": {
    "slideshow": {
     "slide_type": "slide"
    }
   },
   "source": [
    "donde $X_{1}(s) = L\\{x_{1}(t)\\}$, $X_{2}(s) = L\\{x_{2}(t)\\}$."
   ]
  },
  {
   "cell_type": "markdown",
   "id": "c8b3ed2f",
   "metadata": {
    "slideshow": {
     "slide_type": "slide"
    }
   },
   "source": [
    "El sistema anterior es igual a: \n",
    "\n",
    "\n",
    "\\begin{align*}\n",
    "(s^{2} + 10)X_{1}(s) - 4X_{2}(s) & = 1 \\\\\n",
    "-4X_{1}(s) + (s^{2} + 4)X_{2}(s) & = -1\n",
    "\\end{align*}\n"
   ]
  },
  {
   "cell_type": "markdown",
   "id": "a12a0122",
   "metadata": {
    "slideshow": {
     "slide_type": "slide"
    }
   },
   "source": [
    "Resolviendo el anterior sistema para $X_{1}(s)$ y usando fracciones parciales en el resultado, se obtiene \n",
    "\n",
    "$$ X_{1}(s) = \\frac{s^{2}}{(s^{2} + 2)(s^{2} + 12)} = - \\frac{1/5}{s^{2} + 2} + \\frac{6/5}{s^{2} + 12} $$\n"
   ]
  },
  {
   "cell_type": "markdown",
   "id": "8640a8e3",
   "metadata": {
    "slideshow": {
     "slide_type": "slide"
    }
   },
   "source": [
    "y por tanto, \n",
    "\n",
    "\\begin{align*}\n",
    "x_{1}(t) & = -\\frac{1}{5\\sqrt{2}}L^{-1}\\left\\{ \\frac{\\sqrt{2}}{s^{2} + 2} \\right\\} + \\frac{6}{5\\sqrt{12}} L^{-1}\\left\\{ \\frac{\\sqrt{12}}{s^{2} + 12} \\right\\} \\\\\n",
    "         & \\\\ \n",
    "         & = -\\frac{\\sqrt{2}}{10} \\sin \\sqrt{2}t + \\frac{\\sqrt{3}}{5} \\sin 2\\sqrt{3}t. \n",
    "\\end{align*}\n"
   ]
  },
  {
   "cell_type": "markdown",
   "id": "ef609e3a",
   "metadata": {
    "slideshow": {
     "slide_type": "slide"
    }
   },
   "source": [
    "## Gráfica de $x_{1}(t)$ vs. $t$"
   ]
  },
  {
   "cell_type": "code",
   "execution_count": null,
   "id": "f9aaaa1b",
   "metadata": {
    "slideshow": {
     "slide_type": "slide"
    }
   },
   "outputs": [],
   "source": [
    "import numpy as np \n",
    "import matplotlib.pyplot as plt \n",
    "\n",
    "plt.style.use('dark_background') \n",
    "\n",
    "fig, ax = plt.subplots() \n",
    "\n",
    "t = np.linspace(0,15,100)\n",
    "\n",
    "x1 = -(np.sqrt(2)/10)*np.sin(np.sqrt(2)*t) + (np.sqrt(3)/5)*np.sin(2*np.sqrt(3)*t)\n",
    "\n",
    "ax.plot(t, x1, color = 'yellow') \n",
    "\n",
    "ax.grid(True, alpha = 0.3) \n",
    "\n",
    "ax.set(title = r'Este es el gráfico de $x_{1}(t)$', xlabel = r'$t$', ylabel = r'$x_{1}(t)$') \n",
    "\n",
    "plt.savefig('gráfico_primer_sol_sist.jpg') \n",
    "\n",
    "plt.show()\n"
   ]
  },
  {
   "cell_type": "markdown",
   "id": "11c3f0b9",
   "metadata": {
    "slideshow": {
     "slide_type": "slide"
    }
   },
   "source": [
    "Sustituyendo la expresión para $X_{1}(s)$ en la primera ecuación de \n",
    "\\begin{align*}\n",
    "(s^{2} + 10)X_{1}(s) - 4X_{2}(s) & = 1 \\\\\n",
    "-4X_{1}(s) + (s^{2} + 4)X_{2}(s) & = -1,\n",
    "\\end{align*}"
   ]
  },
  {
   "cell_type": "markdown",
   "id": "0d1dca3f",
   "metadata": {
    "slideshow": {
     "slide_type": "slide"
    }
   },
   "source": [
    "se obtiene\n",
    "\n",
    "\\begin{align*}\n",
    "X_{2}(s) & = -\\frac{s^{2} + 6}{(s^{2} + 2)(s^{2} + 12)} = -\\frac{2/5}{s^{2} + 2} - \\frac{3/5}{s^{2} + 12} \\\\\n",
    "& \\\\ \n",
    "x_{2}(t) & = -\\frac{2}{5\\sqrt{2}} L^{-1} \\left\\{ \\frac{\\sqrt{2}}{s^{2} + 2} \\right\\} -\\frac{3}{5\\sqrt{12}} L^{-1} \\left\\{ \\frac{\\sqrt{12}}{s^{2} + 12} \\right\\} \\\\\n",
    " & \\\\ \n",
    "         & = -\\frac{\\sqrt{2}}{5} \\sin \\sqrt{2}t - \\frac{\\sqrt{3}}{10} \\sin 2\\sqrt{3}t\n",
    "\\end{align*}"
   ]
  },
  {
   "cell_type": "code",
   "execution_count": null,
   "id": "2c816485",
   "metadata": {
    "slideshow": {
     "slide_type": "slide"
    }
   },
   "outputs": [],
   "source": [
    "import numpy as np \n",
    "import matplotlib.pyplot as plt \n",
    "\n",
    "plt.style.use('dark_background') \n",
    "\n",
    "fig, ax = plt.subplots() \n",
    "\n",
    "t = np.linspace(0,20,100)\n",
    "\n",
    "x2 = -(np.sqrt(2)/5)*np.sin(np.sqrt(2)*t) - (np.sqrt(3)/10)*np.sin(2*np.sqrt(3)*t)\n",
    "\n",
    "ax.plot(t, x2, color = 'yellow') \n",
    "\n",
    "ax.grid(True, alpha = 0.2)  \n",
    "\n",
    "ax.set(title = r'Gráfico de $x_{2}(t)$' , xlabel = r'$t$' , ylabel = r'$x_{2}(t)$' )\n",
    "\n",
    "plt.savefig('grafico_segunda_solucion.png')\n",
    "\n",
    "plt.show()"
   ]
  },
  {
   "cell_type": "markdown",
   "id": "939c3681",
   "metadata": {
    "slideshow": {
     "slide_type": "slide"
    }
   },
   "source": [
    "Por último, la solución del sistema dado es:\n",
    "\n",
    "\\begin{align*}\n",
    "x_{1}(t) & = -\\frac{\\sqrt{2}}{10}\\sin \\sqrt{2}t + \\frac{\\sqrt{3}}{5}\\sin 2\\sqrt{3}t \\\\\n",
    "x_{2}(t) & = -\\frac{\\sqrt{2}}{5}\\sin \\sqrt{2}t -\\frac{\\sqrt{3}}{10}\\sin 2\\sqrt{3}t\n",
    "\\end{align*}\n",
    "\n"
   ]
  },
  {
   "cell_type": "markdown",
   "id": "e02ce27a",
   "metadata": {
    "slideshow": {
     "slide_type": "slide"
    }
   },
   "source": [
    "Las gráficas de $x_{1}$  y $x_{2}$ de las figuras anteriores revelan el complicado movimiento oscilatorio de cada masa."
   ]
  },
  {
   "cell_type": "markdown",
   "id": "8c9f7d2f",
   "metadata": {
    "slideshow": {
     "slide_type": "slide"
    }
   },
   "source": [
    "## Solución del ejercicio anterior con sympy"
   ]
  },
  {
   "cell_type": "markdown",
   "id": "690a7539",
   "metadata": {
    "slideshow": {
     "slide_type": "slide"
    }
   },
   "source": [
    "Empecemos construyendo un programa en Python para el cálculo de la transformada de Laplace de derivadas de orden 1 y 2. "
   ]
  },
  {
   "cell_type": "code",
   "execution_count": null,
   "id": "a70308de",
   "metadata": {
    "slideshow": {
     "slide_type": "slide"
    }
   },
   "outputs": [],
   "source": [
    "from sympy import *\n",
    "\n",
    "t = symbols('t', real = True, nonegative = True) \n",
    "s = symbols('s', real = True, positive = True) \n",
    "\n",
    "x,X,y,Y,f,F,g,G = symbols('x,X,y,Y,f,F,g,G', real = True)\n",
    "\n",
    "x = Function('x')\n",
    "y = Function('y')\n",
    "\n",
    "f = Function('f')\n",
    "g = Function('g') \n",
    "\n",
    "X = Function('X')\n",
    "Y = Function('Y') \n",
    "\n",
    "\n",
    "def L(f):\n",
    "    return laplace_transform(f,t,s, noconds = True)  \n",
    "\n",
    "def inv_L(F):\n",
    "    return inverse_laplace_transform(F,s,t, noconds = True)  \n",
    "\n",
    "def L_diff(f, f0, f_p0, f_pp0 = 0 , n = 1): # esta función es para calcular transformadas de derivadas\n",
    "    \"\"\"\n",
    "    n puede asumir los valores de 0,1,2,3 y representa el orden de la derivada\n",
    "    \"\"\"\n",
    "    F = str(f).upper()\n",
    "    F = symbols(F) \n",
    "    F = Function(F)(s) \n",
    "    if n == 0:\n",
    "        L = F\n",
    "    elif n == 1:\n",
    "        L = s*F - f0\n",
    "    elif n == 2:\n",
    "        L = s**2*F - s*f0 - f_p0\n",
    "    elif n == 3:\n",
    "        L = s**3*F - s**2*f0,-s*f_p0 - f_pp0\n",
    "    return L "
   ]
  },
  {
   "cell_type": "markdown",
   "id": "f213aed8",
   "metadata": {
    "slideshow": {
     "slide_type": "slide"
    }
   },
   "source": [
    "## Calculemos ahora la ecuaciones transformadas  \n",
    "\n",
    "Resuelva\n",
    "\n",
    "\\begin{align*}\n",
    "x_{1}'' + 10x_{1} - 4x_{2}  & = 0 \\\\\n",
    "-4x_{1} + x_{2}'' + 4x_{2} & = 0 \n",
    "\\end{align*}\n",
    "\n",
    "Sujeta a $x_{1}(0) = 0$, $x_{1}'(0) = 1$, $x_{2}(0) = 0$ y $x_{2}'(0) = -1$. \n"
   ]
  },
  {
   "cell_type": "code",
   "execution_count": null,
   "id": "6df1cf3c",
   "metadata": {
    "slideshow": {
     "slide_type": "slide"
    }
   },
   "outputs": [],
   "source": [
    "x1,x2 = symbols('x1,x2')\n",
    "x1 = Function('x1')\n",
    "x2 = Function('x2')\n",
    "\n",
    "X1,X2 = symbols('X1, X2')\n",
    "X1 = Function('X1')\n",
    "X2 = Function('X2')\n",
    "\n",
    "eq1_laplace = Eq(L_diff(x1,0,1, n = 2) + 10*L_diff(x1,0,1,n = 0) - 4*L_diff(x2, 0, -1, n = 0), 0)\n",
    "eq2_laplace = Eq(-4*L_diff(x1,0,1, n = 0) + L_diff(x2,0,-1,n = 2) + 4*L_diff(x2, 0, -1, 0), 0)"
   ]
  },
  {
   "cell_type": "code",
   "execution_count": null,
   "id": "b4a22079",
   "metadata": {
    "slideshow": {
     "slide_type": "slide"
    }
   },
   "outputs": [],
   "source": [
    "display(eq1_laplace, eq2_laplace) "
   ]
  },
  {
   "cell_type": "markdown",
   "id": "23128c48",
   "metadata": {
    "slideshow": {
     "slide_type": "slide"
    }
   },
   "source": [
    "Del proceso analítico obtuvimos:\n",
    "\n",
    "\n",
    "\\begin{align*}\n",
    "(s^{2} + 10)X_{1}(s) - 4X_{2}(s) & = 1 \\\\\n",
    "-4X_{1}(s) + (s^{2} + 4)X_{2}(s) & = -1\n",
    "\\end{align*}\n",
    "\n",
    "De donde comcluimos consistencia en los dos métodos adoptados de solución(método analítico y método con la calculadora de calculo simbólico Sympy de Python) \n"
   ]
  },
  {
   "cell_type": "code",
   "execution_count": null,
   "id": "22d8a2ec",
   "metadata": {
    "scrolled": true,
    "slideshow": {
     "slide_type": "slide"
    }
   },
   "outputs": [],
   "source": [
    "sol_laplace = solve([eq1_laplace, eq2_laplace],( X1(s), X2(s) ) ) \n",
    "sol_laplace "
   ]
  },
  {
   "cell_type": "code",
   "execution_count": null,
   "id": "9846324c",
   "metadata": {
    "slideshow": {
     "slide_type": "slide"
    }
   },
   "outputs": [],
   "source": [
    "X1 = list(sol_laplace.values())[0]  \n",
    "X2 = list(sol_laplace.values())[1] "
   ]
  },
  {
   "cell_type": "code",
   "execution_count": null,
   "id": "2a168788",
   "metadata": {
    "slideshow": {
     "slide_type": "slide"
    }
   },
   "outputs": [],
   "source": [
    "display(X1 = apart(X1), X2 = apart(X2))  \n"
   ]
  },
  {
   "cell_type": "code",
   "execution_count": null,
   "id": "60d07919",
   "metadata": {
    "slideshow": {
     "slide_type": "slide"
    }
   },
   "outputs": [],
   "source": [
    "x = inv_L((6/5)/(s**2 + 12))  - inv_L((1/5)/(s**2 + 2))  \n",
    "y = inv_L() + inv_L()"
   ]
  },
  {
   "cell_type": "code",
   "execution_count": null,
   "id": "ad66032e",
   "metadata": {
    "slideshow": {
     "slide_type": "slide"
    }
   },
   "outputs": [],
   "source": [
    "display(x,y)  "
   ]
  },
  {
   "cell_type": "markdown",
   "id": "e54cfeba",
   "metadata": {
    "slideshow": {
     "slide_type": "slide"
    }
   },
   "source": [
    "Comparemos con la solución obtenida en el proceso analítico: \n",
    "\n",
    "\\begin{align*}\n",
    "x_{1}(t) & = -\\frac{\\sqrt{2}}{10}\\sin \\sqrt{2}t + \\frac{\\sqrt{3}}{5}\\sin 2\\sqrt{3}t \\\\\n",
    "x_{2}(t) & = -\\frac{\\sqrt{2}}{5}\\sin \\sqrt{2}t -\\frac{\\sqrt{3}}{10}\\sin 2\\sqrt{3}t\n",
    "\\end{align*}\n"
   ]
  },
  {
   "cell_type": "code",
   "execution_count": null,
   "id": "5433265d",
   "metadata": {
    "slideshow": {
     "slide_type": "slide"
    }
   },
   "outputs": [],
   "source": []
  },
  {
   "cell_type": "code",
   "execution_count": null,
   "id": "e9676ca7",
   "metadata": {},
   "outputs": [],
   "source": []
  },
  {
   "cell_type": "markdown",
   "id": "2ccb5a54",
   "metadata": {
    "slideshow": {
     "slide_type": "slide"
    }
   },
   "source": [
    "## Redes "
   ]
  },
  {
   "cell_type": "markdown",
   "id": "8523ea72",
   "metadata": {
    "slideshow": {
     "slide_type": "slide"
    }
   },
   "source": [
    "<img src = 'https://github.com/marco-canas/edo/blob/main/clases/class_15/figura_7_6_2.PNG?raw=true'> "
   ]
  },
  {
   "cell_type": "markdown",
   "id": "1baa056a",
   "metadata": {
    "slideshow": {
     "slide_type": "slide"
    }
   },
   "source": [
    "En la expresión (18) de la sección 3.3 vimos que las corrientes $i_{1}(t)$ e $i_{2}(t)$ de la red que se muestra en la figura anterior con un inductor, un resistor y un capacitor, estaban gobernadas por el sistema de ecuaciones diferenciales de primer orden\n",
    "\n",
    "\\begin{align*}\n",
    "L\\frac{di_{1}}{dt} + Ri_{2} & = E(t) \\\\\n",
    "RC \\frac{di_{2}}{dt} + i_{2} - i_{1} & = 0.\n",
    "\\end{align*}\n"
   ]
  },
  {
   "cell_type": "markdown",
   "id": "5800f12e",
   "metadata": {
    "slideshow": {
     "slide_type": "slide"
    }
   },
   "source": [
    "Resolvemos este sistema con la transformada de Laplace en el siguiente ejemplo."
   ]
  },
  {
   "cell_type": "markdown",
   "id": "85e8d798",
   "metadata": {
    "slideshow": {
     "slide_type": "slide"
    }
   },
   "source": [
    "## EJEMPLO 2 Una red eléctrica"
   ]
  },
  {
   "cell_type": "markdown",
   "id": "0df5099d",
   "metadata": {
    "slideshow": {
     "slide_type": "slide"
    }
   },
   "source": [
    "Resuelva el sistema en (5) bajo las condiciones $E(t) = 60\\ V$, $L = 1\\ h$, $R = 50 \\Omega$, $C =\n",
    "10^{-4} \\  f$ y al inicio las corrientes $i_{1}$ e $i_{2}$ son cero."
   ]
  },
  {
   "cell_type": "markdown",
   "id": "10605d85",
   "metadata": {
    "slideshow": {
     "slide_type": "slide"
    }
   },
   "source": [
    "### SOLUCIÓN   \n",
    "\n",
    "Debemos resolver\n",
    "\n",
    "\\begin{align*}\n",
    "\\frac{di_{1}}{dt} + 50i_{2} & = 60 \\\\\n",
    "50(10^{-4})\\frac{di_{2}}{dt} + i_{2} - i_{1} & = 0.\n",
    "\\end{align*}\n",
    "\n",
    "sujeta $i_{1}(0) = 0$, $i_{2}(0) = 0$. "
   ]
  },
  {
   "cell_type": "markdown",
   "id": "f462a1bd",
   "metadata": {
    "slideshow": {
     "slide_type": "slide"
    }
   },
   "source": [
    "Aplicando la transformada de Laplace a cada ecuación del sistema y simplificando, se obtiene\n",
    "\n",
    "\\begin{align*}\n",
    "sI_{1}(s) + 50I_{2}(s) & = \\frac{60}{s} \\\\\n",
    "-200I_{1}(s) + (s + 200)I_{2}(s) & = 0, \n",
    "\\end{align*}\n",
    "\n",
    "donde $I_{1}(s) = L^{-1}\\{i_{1}(t)\\}$ y $I_{2}(s) = L^{-1}\\{ i_{2}(t) \\}$. "
   ]
  },
  {
   "cell_type": "markdown",
   "id": "ebd4fe5e",
   "metadata": {
    "slideshow": {
     "slide_type": "slide"
    }
   },
   "source": [
    "Resolviendo el sistema para $I_{1}$ e $I_{2}$ y descomponiendo los resultados en fracciones parciales se obtiene:\n",
    "\n",
    "\\begin{align*}\n",
    "I_{1}(s) & = \\frac{60s + 12\\ 000}{s(s + 100)^{2}} = \\frac{6/5}{s} - \\frac{6/5}{s + 100} - \\frac{60}{(s+100)^{2}}  \\\\\n",
    "I_{2}(s) & = \\frac{12\\ 000}{s(s + 100)^{2}} = \\frac{6/5}{s} - \\frac{6/5}{s + 100} - \\frac{120}{(s + 100)^{2}} \n",
    "\\end{align*}\n"
   ]
  },
  {
   "cell_type": "markdown",
   "id": "ac959249",
   "metadata": {
    "slideshow": {
     "slide_type": "slide"
    }
   },
   "source": [
    "Tomando la transformada inversa de Laplace, encontramos que las corrientes son:\n",
    "\n",
    "\\begin{align*}\n",
    "i_{1}(t) & = \\frac{6}{5} - \\frac{6}{5}e^{-100t} -60te^{-100t} \\\\\n",
    "i_{2}(t) & = \\frac{6}{5} - \\frac{6}{5}e^{-100t} -120te^{-100t}\n",
    "\\end{align*}\n"
   ]
  },
  {
   "cell_type": "markdown",
   "id": "396ecffa",
   "metadata": {
    "slideshow": {
     "slide_type": "slide"
    }
   },
   "source": [
    "Observe que tanto $i_{1}(t)$ como $i_{2}(t)$ del ejemplo anterior tienden hacia el valor $E/R = \\frac{6}{5}$ conforme $t \\to \\infty$. "
   ]
  },
  {
   "cell_type": "markdown",
   "id": "3e5203b4",
   "metadata": {
    "slideshow": {
     "slide_type": "slide"
    }
   },
   "source": [
    "Además, puesto que la corriente a través del capacitor es $i_{3}(t) = i_{1}(t) - i_{2}(t) = 60te^{-100t}$, se observa que $i_{3}(t) \\to 0$ conforme $t \\to \\infty $."
   ]
  },
  {
   "cell_type": "markdown",
   "id": "cdac487c",
   "metadata": {
    "slideshow": {
     "slide_type": "slide"
    }
   },
   "source": [
    "## PÉNDULO DOBLE  "
   ]
  },
  {
   "cell_type": "markdown",
   "id": "f0a51e9f",
   "metadata": {
    "slideshow": {
     "slide_type": "slide"
    }
   },
   "source": [
    "Considere el sistema de péndulo doble que consiste en un péndulo unido a otro como se muestra en la figura 7.6.4. Se supone que el sistema oscila en un plano vertical bajo la influencia de la gravedad, que la masa de cada varilla es \n",
    "despreciable y que ninguna fuerza de amortiguamiento actúa sobre el sistema. "
   ]
  },
  {
   "cell_type": "markdown",
   "id": "6a3744d5",
   "metadata": {
    "slideshow": {
     "slide_type": "slide"
    }
   },
   "source": [
    "<img src = 'https://github.com/marco-canas/edo/blob/main/clases/class_15/figura_7_6_4.PNG?raw=true'>"
   ]
  },
  {
   "cell_type": "markdown",
   "id": "86ca41ca",
   "metadata": {
    "slideshow": {
     "slide_type": "slide"
    }
   },
   "source": [
    "En la figura anterior también se muestra que el ángulo de desplazamiento $\\theta_{1}$ se mide (en radianes) desde una línea vertical que se extiende hacia abajo desde el pivote del sistema y que $\\theta_{2}$ se mide desde una línea vertical que se extiende desde el centro de masa $m_{1}$."
   ]
  },
  {
   "cell_type": "markdown",
   "id": "0c297be4",
   "metadata": {
    "slideshow": {
     "slide_type": "slide"
    }
   },
   "source": [
    " \n",
    "La dirección positiva es a la derecha; la dirección negativa es a la izquierda. "
   ]
  },
  {
   "cell_type": "markdown",
   "id": "c4e3ed5a",
   "metadata": {
    "slideshow": {
     "slide_type": "slide"
    }
   },
   "source": [
    "Como se esperaría del análisis que condujo a la ecuación (6) de la sección 5.3, el sistema de ecuaciones diferenciales que describe el movimiento es no lineal:"
   ]
  },
  {
   "cell_type": "markdown",
   "id": "a04a8de8",
   "metadata": {
    "slideshow": {
     "slide_type": "slide"
    }
   },
   "source": [
    "\\begin{align*}\n",
    "(m_{1} + m_{2})l_{1}^{2}\\theta_{1}'' + m_{2}l_{1}l_{2} \\theta_{2}''\\cos(theta_{1} - \\theta_{2}) + m_{2}   & = \\\\ \n",
    "& = \n",
    "\\end{align*}"
   ]
  },
  {
   "cell_type": "markdown",
   "id": "b28d2627",
   "metadata": {
    "slideshow": {
     "slide_type": "slide"
    }
   },
   "source": [
    "Pero si se supone que los desplazamientos u1(t) y u2(t) son pequeños, entonces las aproximaciones cos(u1 \u0002 u2\n",
    ") \u0003 1, sen(u1 \u0002 u2\n",
    ") \u0003 0, sen u1 \u0003 u1\n",
    ", sen u2 \u0003 u2\n",
    " nos permi\u0002ten reemplazar el sistema (6) por la linealización\n"
   ]
  },
  {
   "cell_type": "markdown",
   "id": "90c97a5a",
   "metadata": {
    "slideshow": {
     "slide_type": "slide"
    }
   },
   "source": [
    "\\begin{align*}\n",
    "& = \\\\\n",
    "& = \n",
    "\\end{align*}"
   ]
  },
  {
   "cell_type": "markdown",
   "id": "0db144f8",
   "metadata": {
    "slideshow": {
     "slide_type": "slide"
    }
   },
   "source": [
    "## EJEMPLO 3 Doble péndulo\n"
   ]
  },
  {
   "cell_type": "markdown",
   "id": "00d14631",
   "metadata": {
    "slideshow": {
     "slide_type": "slide"
    }
   },
   "source": [
    "Se deja como ejercicio completar los detalles de usar la transformada de Laplace para \n",
    "resolver el sistema (7) cuando m1 3, m2 1, l1 l2 16, u1(0) 1, u2(0)\n",
    "1, 1\n",
    "(0) 0 y 2\n",
    "(0) 0 . Debe encontrar que"
   ]
  },
  {
   "cell_type": "markdown",
   "id": "677e8f63",
   "metadata": {
    "slideshow": {
     "slide_type": "slide"
    }
   },
   "source": [
    "\\begin{align*}\n",
    "& = \\\\\n",
    "& = \n",
    "\\end{align*}"
   ]
  },
  {
   "cell_type": "markdown",
   "id": "a9785885",
   "metadata": {
    "slideshow": {
     "slide_type": "slide"
    }
   },
   "source": [
    "En la fi gura 7.6.5 se muestran con la ayuda de un SAC las posiciones de las dos masas \n",
    "en t \u0001 0 y en tiempos posteriores. Véase el problema 21 en los ejercicios 7.6"
   ]
  },
  {
   "cell_type": "markdown",
   "id": "30f6a261",
   "metadata": {
    "slideshow": {
     "slide_type": "slide"
    }
   },
   "source": [
    "<img src = 'https://github.com/marco-canas/edo/blob/main/clases/class_15/figura_7_6_5.PNG?raw=true'> "
   ]
  },
  {
   "cell_type": "markdown",
   "id": "abcb7199",
   "metadata": {
    "slideshow": {
     "slide_type": "slide"
    }
   },
   "source": [
    "## Otros ejemplos discutidos en clase"
   ]
  },
  {
   "cell_type": "markdown",
   "id": "2122277c",
   "metadata": {
    "slideshow": {
     "slide_type": "slide"
    }
   },
   "source": [
    "### Ejercicio 8 de la página 315 de Dennis Zill"
   ]
  },
  {
   "cell_type": "markdown",
   "id": "e9ebc919",
   "metadata": {
    "slideshow": {
     "slide_type": "slide"
    }
   },
   "source": [
    "Use la transformada de Laplace para resolver el sistema dado de ecuaciones diferenciales:\n",
    "\n",
    "\\begin{align*}\n",
    "\\frac{d^{2}x}{dt^{2}} + \\frac{dx}{dt} + \\frac{dy}{dt} & = 0 \\\\\n",
    "\\frac{d^{2}y}{dt^{2}} + \\frac{dy}{dt} -4 \\frac{dx}{dt} & = 0\n",
    "\\end{align*}\n",
    "\n",
    "$x(0) = 1$, $x'(0) = 0$, $y(0) = -1$, y $y'(0) = 5$. "
   ]
  },
  {
   "cell_type": "markdown",
   "id": "d234a90a",
   "metadata": {
    "slideshow": {
     "slide_type": "slide"
    }
   },
   "source": [
    "Presentemos el problema en la notación de Euler para sintetizar la escritura:\n",
    "\n",
    "\\begin{align*}\n",
    "x'' + x' + y' & = 0 \\\\\n",
    "y'' + y' - 4x' & = 0\n",
    "\\end{align*}\n",
    "\n",
    "$x(0) = 1$, $x'(0) = 0$, $y(0) = -1$, y $y'(0) = 5$. "
   ]
  },
  {
   "cell_type": "markdown",
   "id": "907c8c8c",
   "metadata": {
    "slideshow": {
     "slide_type": "slide"
    }
   },
   "source": [
    "## Solución analítica:"
   ]
  },
  {
   "cell_type": "markdown",
   "id": "a21f4a83",
   "metadata": {
    "slideshow": {
     "slide_type": "slide"
    }
   },
   "source": [
    "Empecemos aplicando transformada de Laplace a cada una de las ecuaciones del sistema dado:"
   ]
  },
  {
   "cell_type": "markdown",
   "id": "3251a1ee",
   "metadata": {
    "slideshow": {
     "slide_type": "slide"
    }
   },
   "source": [
    "\\begin{align*}\n",
    "L\\left\\{ \\frac{d^{2}x}{dt^{2}} \\right\\} + L\\left\\{ \\frac{dx}{dt} \\right\\} + L\\left\\{ \\frac{dy}{dt} \\right\\} & = 0 \\\\\n",
    "L\\left\\{ \\frac{d^{2}y}{dt^{2}} \\right\\} + L\\left\\{ \\frac{dy}{dt} \\right\\} -4 L\\left\\{ \\frac{dx}{dt} \\right\\}  & = 0\n",
    "\\end{align*}\n",
    "\n",
    "$x(0) = 1$, $x'(0) = 0$, $y(0) = -1$, y $y'(0) = 5$. "
   ]
  },
  {
   "cell_type": "markdown",
   "id": "cb92532e",
   "metadata": {
    "slideshow": {
     "slide_type": "slide"
    }
   },
   "source": [
    "\\begin{align*}\n",
    "(s^{2}X - sx(0) - x'(0)) + (sX - x(0)) + (sY - y(0))  & = 0 \\\\\n",
    "(s^{2}Y - sy(0) - y'(0)) + (sY - y(0)) - 4(sX - x(0)) & = 0 \n",
    "\\end{align*}"
   ]
  },
  {
   "cell_type": "markdown",
   "id": "b0794a6c",
   "metadata": {
    "slideshow": {
     "slide_type": "slide"
    }
   },
   "source": [
    "Sustituyamos las condiciones iniciales: $x(0) = 1$, $x'(0) = 0$, $y(0) = -1$, y $y'(0) = 5$ para obtener el sistema algebraico en las variables $X(s)$ y $Y(s)$:\n",
    "\n",
    "\\begin{align*}\n",
    "(s^{2}X - s(1) - 0) + (sX - 1) + (sY - (-1))   & = 0 \\\\\n",
    "(s^{2}Y - s(-1) - 5) + (sY - (-1)) - 4(sX - 1) & = 0 \n",
    "\\end{align*}\n"
   ]
  },
  {
   "cell_type": "markdown",
   "id": "3b4ba9ba",
   "metadata": {
    "slideshow": {
     "slide_type": "slide"
    }
   },
   "source": [
    "\\begin{align*}\n",
    "(s^{2}X - s) + (sX - 1) + (sY + 1)   & = 0 \\\\\n",
    "(s^{2}Y + s - 5) + (sY + 1)) - 4(sX - 1) & = 0 \n",
    "\\end{align*}\n"
   ]
  },
  {
   "cell_type": "markdown",
   "id": "54320dda",
   "metadata": {
    "slideshow": {
     "slide_type": "slide"
    }
   },
   "source": [
    "\\begin{align*}\n",
    "s^{2}X  + sX + sY  & = s \\\\\n",
    "s^{2}Y  + sY - 4sX & = -s\n",
    "\\end{align*}"
   ]
  },
  {
   "cell_type": "markdown",
   "id": "2bc550e9",
   "metadata": {
    "slideshow": {
     "slide_type": "slide"
    }
   },
   "source": [
    "\\begin{align*}\n",
    "(s^{2} + s)X + sY & = s \\\\\n",
    "(-4s)X + (s^{2} + s)Y & = -s\n",
    "\\end{align*}"
   ]
  },
  {
   "cell_type": "markdown",
   "id": "281e6e86",
   "metadata": {
    "slideshow": {
     "slide_type": "slide"
    }
   },
   "source": [
    "\\begin{align*}\n",
    "s(s + 1)X + sY & = s \\\\\n",
    "-4sX + s(s + 1)Y & = -s\n",
    "\\end{align*}"
   ]
  },
  {
   "cell_type": "markdown",
   "id": "2d01c222",
   "metadata": {
    "slideshow": {
     "slide_type": "slide"
    }
   },
   "source": [
    "## Verificación con Sympy del cálculo del sistema algebraico"
   ]
  },
  {
   "cell_type": "code",
   "execution_count": 16,
   "id": "efc5019d",
   "metadata": {
    "slideshow": {
     "slide_type": "slide"
    }
   },
   "outputs": [
    {
     "data": {
      "text/latex": [
       "$\\displaystyle s^{2} X{\\left(s \\right)} + s X{\\left(s \\right)} + s Y{\\left(s \\right)} - s = 0$"
      ],
      "text/plain": [
       "Eq(s**2*X(s) + s*X(s) + s*Y(s) - s, 0)"
      ]
     },
     "metadata": {},
     "output_type": "display_data"
    },
    {
     "data": {
      "text/latex": [
       "$\\displaystyle s^{2} Y{\\left(s \\right)} - 4 s X{\\left(s \\right)} + s Y{\\left(s \\right)} + s = 0$"
      ],
      "text/plain": [
       "Eq(s**2*Y(s) - 4*s*X(s) + s*Y(s) + s, 0)"
      ]
     },
     "metadata": {},
     "output_type": "display_data"
    }
   ],
   "source": [
    "from sympy import *\n",
    "t = symbols('t', real = True, nonegative = True) \n",
    "s = symbols('s', real = True, positive = True) \n",
    "x,X,y,Y = symbols('x,X,y,Y', real = True)\n",
    "x = Function('x')\n",
    "y = Function('y')\n",
    "\n",
    "X = Function('X')\n",
    "Y = Function('Y') \n",
    "\n",
    "\n",
    "def L(f):\n",
    "    return laplace_transform(f,t,s, noconds = True)  \n",
    "\n",
    "def inv_L(F):\n",
    "    return inverse_laplace_transform(F,s,t, noconds = True)  \n",
    "\n",
    "def L_diff(f, f0, f_p0, f_pp0 = 0 , n = 1): # esta función es para calcular transformadas de derivadas\n",
    "    \"\"\"\n",
    "    n puede asumir los valores de 0,1,2,3 y representa el orden de la derivada\n",
    "    \"\"\"\n",
    "    F = str(f).upper()\n",
    "    F = symbols(F) \n",
    "    F = Function(F)(s) \n",
    "    if n == 0:\n",
    "        L = F\n",
    "    elif n == 1:\n",
    "        L = s*F - f0\n",
    "    elif n == 2:\n",
    "        L = s**2*F - s*f0 - f_p0\n",
    "    elif n == 3:\n",
    "        L = s**3*F - s**2*f0,-s*f_p0 - f_pp0\n",
    "    return L \n",
    "\n",
    "eq1_laplace = Eq(L_diff(x, 1, 0, n = 2) + L_diff(x, 1, 0, n = 1) + L_diff(y, -1, 5, n = 1), 0)\n",
    "eq2_laplace = Eq(L_diff(y, -1, 5, n = 2) + L_diff(y, -1, 5, n = 1) - 4*L_diff(x, 1, 0, 1), 0)\n",
    "\n",
    "# \\begin{align*}\n",
    "# x'' + x' + y' & = 0 \\\\\n",
    "# y'' + y' - 4x' & = 0\n",
    "# \\end{align*}\n",
    "\n",
    "# $x(0) = 1$, $x'(0) = 0$, $y(0) = -1$, y $y'(0) = 5$. \n",
    "\n",
    "display(eq1_laplace, eq2_laplace)  \n"
   ]
  },
  {
   "cell_type": "markdown",
   "id": "d98735b7",
   "metadata": {},
   "source": [
    "Note que habíamos obtenido lo mismo:\n",
    "\n",
    "\\begin{align*}\n",
    "s(s + 1)X + sY & = s \\\\\n",
    "-4sX + s(s + 1)Y & = -s\n",
    "\\end{align*}\n"
   ]
  },
  {
   "cell_type": "markdown",
   "id": "95afa241",
   "metadata": {
    "slideshow": {
     "slide_type": "slide"
    }
   },
   "source": [
    "Empecemos eliminando la variable $Y$ multiplicando la primera ecuación por $s+1$ y luego restando estas ecuaciones: \n",
    "\n",
    "\\begin{align*}\n",
    "s(s + 1)^{2}X + s(s+1)Y & = s(s+1) \\\\\n",
    "-4sX + s(s + 1)Y & = -s\n",
    "\\end{align*}\n"
   ]
  },
  {
   "cell_type": "markdown",
   "id": "79c3ed7c",
   "metadata": {
    "slideshow": {
     "slide_type": "slide"
    }
   },
   "source": [
    "$$ X(s(s+1)^{2} + 4s) = s(s+1) + s $$"
   ]
  },
  {
   "cell_type": "markdown",
   "id": "0b732864",
   "metadata": {
    "slideshow": {
     "slide_type": "slide"
    }
   },
   "source": [
    "$$ X(s(s^{2} + 2s + 1) + 4s) = s^{2} + 2s $$"
   ]
  },
  {
   "cell_type": "markdown",
   "id": "310b59cc",
   "metadata": {
    "slideshow": {
     "slide_type": "slide"
    }
   },
   "source": [
    "$$ X(s^{2} + 5s) = s(s + 2) $$"
   ]
  },
  {
   "cell_type": "markdown",
   "id": "ec84d055",
   "metadata": {
    "slideshow": {
     "slide_type": "slide"
    }
   },
   "source": [
    "$$ Xs(s+5) = s(s+2) $$"
   ]
  },
  {
   "cell_type": "markdown",
   "id": "40c70fb3",
   "metadata": {
    "slideshow": {
     "slide_type": "slide"
    }
   },
   "source": [
    "$$ X = \\frac{s+2}{s+5} $$"
   ]
  },
  {
   "cell_type": "markdown",
   "id": "a7c2bcf3",
   "metadata": {
    "slideshow": {
     "slide_type": "slide"
    }
   },
   "source": [
    "$$ X = \\frac{(s + 2 + 3) - 3}{s+5} = \\frac{s+5}{s+5} - 3\\cdot \\frac{1}{s + 5}  $$"
   ]
  },
  {
   "cell_type": "markdown",
   "id": "03ddae08",
   "metadata": {
    "slideshow": {
     "slide_type": "slide"
    }
   },
   "source": [
    "$$ X = 1 $$"
   ]
  },
  {
   "cell_type": "code",
   "execution_count": null,
   "id": "83d87a23",
   "metadata": {
    "slideshow": {
     "slide_type": "slide"
    }
   },
   "outputs": [],
   "source": []
  },
  {
   "cell_type": "markdown",
   "id": "04a87e5c",
   "metadata": {
    "slideshow": {
     "slide_type": "slide"
    }
   },
   "source": [
    "Continuemos eliminando la variable $X$ multiplicando la primera ecuación por $-4$, multiplicando la segunda por $(s+1)$  y luego restando estas ecuaciones: \n",
    "\n",
    "\\begin{align*}\n",
    "s(s + 1)X + sY & = s \\\\\n",
    "-4sX + s(s + 1)Y & = -s\n",
    "\\end{align*}"
   ]
  },
  {
   "cell_type": "markdown",
   "id": "51b03dfb",
   "metadata": {
    "slideshow": {
     "slide_type": "slide"
    }
   },
   "source": [
    "\\begin{align*}\n",
    "-4s(s+1)X - 4sY & = -4s \\\\\n",
    "-4s(s+1)X + s(s + 1)^{2}Y & = -s(s+1)\n",
    "\\end{align*}"
   ]
  },
  {
   "cell_type": "markdown",
   "id": "9bac0529",
   "metadata": {
    "slideshow": {
     "slide_type": "slide"
    }
   },
   "source": [
    "$$ (-4s - s(s+1)^{2})Y = -4s + s(s+1)  $$"
   ]
  },
  {
   "cell_type": "code",
   "execution_count": null,
   "id": "af37bbc4",
   "metadata": {
    "slideshow": {
     "slide_type": "slide"
    }
   },
   "outputs": [],
   "source": []
  },
  {
   "cell_type": "markdown",
   "id": "130f3a9e",
   "metadata": {
    "slideshow": {
     "slide_type": "slide"
    }
   },
   "source": [
    "## Solución con cálculo simbólico de Sympy Python"
   ]
  },
  {
   "cell_type": "code",
   "execution_count": 4,
   "id": "b189195d",
   "metadata": {
    "slideshow": {
     "slide_type": "slide"
    }
   },
   "outputs": [],
   "source": [
    "from sympy import *"
   ]
  },
  {
   "cell_type": "code",
   "execution_count": 5,
   "id": "436fc0a6",
   "metadata": {
    "slideshow": {
     "slide_type": "slide"
    }
   },
   "outputs": [],
   "source": [
    "t = symbols('t', real = True, nonegative = True) \n",
    "s = symbols('s', real = True, positive = True) "
   ]
  },
  {
   "cell_type": "code",
   "execution_count": 6,
   "id": "2389fb07",
   "metadata": {
    "slideshow": {
     "slide_type": "slide"
    }
   },
   "outputs": [],
   "source": [
    "x,X,y,Y = symbols('x,X,y,Y', real = True)"
   ]
  },
  {
   "cell_type": "code",
   "execution_count": 7,
   "id": "49f03f59",
   "metadata": {
    "slideshow": {
     "slide_type": "slide"
    }
   },
   "outputs": [],
   "source": [
    "x = Function('x')\n",
    "y = Function('y')\n",
    "\n",
    "X = Function('X')\n",
    "Y = Function('Y') \n",
    "\n",
    "\n",
    "def L(f):\n",
    "    return laplace_transform(f,t,s, noconds = True)  \n",
    "\n",
    "def inv_L(F):\n",
    "    return inverse_laplace_transform(F,s,t, noconds = True)  \n",
    "\n",
    "def L_diff(f, f0, f_p0, f_pp0 = 0 , n = 1): # esta función es para calcular transformadas de derivadas\n",
    "    \"\"\"\n",
    "    n puede asumir los valores de 0,1,2,3 y representa el orden de la derivada\n",
    "    \"\"\"\n",
    "    F = str(f).upper()\n",
    "    F = symbols(F) \n",
    "    F = Function(F)(s) \n",
    "    if n == 0:\n",
    "        L = F\n",
    "    elif n == 1:\n",
    "        L = s*F - f0\n",
    "    elif n == 2:\n",
    "        L = s**2*F - s*f0 - f_p0\n",
    "    elif n == 3:\n",
    "        L = s**3*F - s**2*f0,-s*f_p0 - f_pp0\n",
    "    return L "
   ]
  },
  {
   "cell_type": "code",
   "execution_count": 10,
   "id": "4b59b8ec",
   "metadata": {
    "slideshow": {
     "slide_type": "slide"
    }
   },
   "outputs": [],
   "source": [
    "eq1_laplace = Eq(L_diff(x, 1, 0, n = 2) + L_diff(x, 1, 0, n = 1) + L_diff(y, -1, 5, n = 1), 0)\n",
    "eq2_laplace = Eq(L_diff(y, -1, 5, n = 2) + L_diff(y, -1, 5, n = 1) + 4*L_diff(x, 1, 0, 1), 0)"
   ]
  },
  {
   "cell_type": "markdown",
   "id": "88487474",
   "metadata": {
    "slideshow": {
     "slide_type": "slide"
    }
   },
   "source": [
    "\\begin{align*}\n",
    "x'' + x' + y' & = 0 \\\\\n",
    "y'' + y' - 4x' & = 0\n",
    "\\end{align*}\n",
    "\n",
    "$x(0) = 1$, $x'(0) = 0$, $y(0) = -1$, y $y'(0) = 5$. "
   ]
  },
  {
   "cell_type": "code",
   "execution_count": 11,
   "id": "b9dcbd4b",
   "metadata": {
    "slideshow": {
     "slide_type": "slide"
    }
   },
   "outputs": [
    {
     "data": {
      "text/latex": [
       "$\\displaystyle s^{2} X{\\left(s \\right)} + s X{\\left(s \\right)} + s Y{\\left(s \\right)} - s = 0$"
      ],
      "text/plain": [
       "Eq(s**2*X(s) + s*X(s) + s*Y(s) - s, 0)"
      ]
     },
     "metadata": {},
     "output_type": "display_data"
    },
    {
     "data": {
      "text/latex": [
       "$\\displaystyle s^{2} Y{\\left(s \\right)} + 4 s X{\\left(s \\right)} + s Y{\\left(s \\right)} + s - 8 = 0$"
      ],
      "text/plain": [
       "Eq(s**2*Y(s) + 4*s*X(s) + s*Y(s) + s - 8, 0)"
      ]
     },
     "metadata": {},
     "output_type": "display_data"
    }
   ],
   "source": [
    "display(eq1_laplace, eq2_laplace) "
   ]
  },
  {
   "cell_type": "code",
   "execution_count": null,
   "id": "b48f6548",
   "metadata": {
    "slideshow": {
     "slide_type": "slide"
    }
   },
   "outputs": [],
   "source": []
  },
  {
   "cell_type": "code",
   "execution_count": null,
   "id": "0f7b8668",
   "metadata": {
    "slideshow": {
     "slide_type": "slide"
    }
   },
   "outputs": [],
   "source": []
  },
  {
   "cell_type": "code",
   "execution_count": null,
   "id": "2cccd020",
   "metadata": {
    "slideshow": {
     "slide_type": "slide"
    }
   },
   "outputs": [],
   "source": []
  },
  {
   "cell_type": "code",
   "execution_count": null,
   "id": "bc2268c8",
   "metadata": {},
   "outputs": [],
   "source": []
  },
  {
   "cell_type": "markdown",
   "id": "0bfcc4d9",
   "metadata": {
    "slideshow": {
     "slide_type": "slide"
    }
   },
   "source": [
    "## Construcción de una función de sympy que calcule la transformada de derivadas"
   ]
  },
  {
   "cell_type": "code",
   "execution_count": null,
   "id": "f7327940",
   "metadata": {
    "slideshow": {
     "slide_type": "slide"
    }
   },
   "outputs": [],
   "source": [
    "def L_diff(f, f0, fp0, fpp0 = 0 , n = 1): # esta función es para calcular transformadas de derivadas\n",
    "    \"\"\"\n",
    "    f es la variable simbólica de sympy con la que denota el usiario a la función f(t) \n",
    "      a la que quiere calcularle la transformada de la derivada de orden n de ella\n",
    "    n puede asumir los valores de 0,1,2,3 y representa el orden de la derivada\n",
    "    \"\"\"\n",
    "    F = str(f).upper()\n",
    "    F = symbols(F) \n",
    "    F = Function(F)(s) \n",
    "    if n == 0:\n",
    "        L = F\n",
    "    elif n == 1:\n",
    "        L = s*F - f0\n",
    "    elif n == 2:\n",
    "        L = s**2*F - s*f0 - fp0\n",
    "    elif n == 3:\n",
    "        L = s**3*F - s**2*f0,-s*fp0 - fpp0\n",
    "    return L "
   ]
  },
  {
   "cell_type": "code",
   "execution_count": null,
   "id": "1e691065",
   "metadata": {
    "slideshow": {
     "slide_type": "slide"
    }
   },
   "outputs": [],
   "source": []
  },
  {
   "cell_type": "code",
   "execution_count": null,
   "id": "72a41ce4",
   "metadata": {
    "slideshow": {
     "slide_type": "slide"
    }
   },
   "outputs": [],
   "source": []
  },
  {
   "cell_type": "code",
   "execution_count": null,
   "id": "d48e3f88",
   "metadata": {
    "slideshow": {
     "slide_type": "slide"
    }
   },
   "outputs": [],
   "source": []
  },
  {
   "cell_type": "code",
   "execution_count": null,
   "id": "0829bc4b",
   "metadata": {
    "slideshow": {
     "slide_type": "slide"
    }
   },
   "outputs": [],
   "source": []
  },
  {
   "cell_type": "markdown",
   "id": "4250c4af",
   "metadata": {
    "slideshow": {
     "slide_type": "slide"
    }
   },
   "source": [
    "## Funciones de Python utilizadas para la elaboración de este cuaderno"
   ]
  },
  {
   "cell_type": "markdown",
   "id": "b974f97a",
   "metadata": {
    "slideshow": {
     "slide_type": "slide"
    }
   },
   "source": [
    "* `Eq()` \n",
    "* El atributo `.lhs` que sirve para tomar la parte izquierda de una ecuación de simpy\n",
    "* el atributo `.rhs`\n",
    "* `laplace_transform(f,t,s, noconds = True)` \n",
    "* `inverse_laplace_transform(F,s,t, noconds = True)` \n",
    "* $\\theta(t)$: es la función de paso de Heaviside "
   ]
  },
  {
   "cell_type": "code",
   "execution_count": null,
   "id": "f5361120",
   "metadata": {
    "slideshow": {
     "slide_type": "slide"
    }
   },
   "outputs": [],
   "source": [
    "from sympy import *\n",
    "t = symbols('t', real = True, nonegative = True) \n",
    "Heaviside(t) "
   ]
  },
  {
   "cell_type": "markdown",
   "id": "f88f409a",
   "metadata": {
    "slideshow": {
     "slide_type": "slide"
    }
   },
   "source": [
    "## Temas y secciones a evaluar en el último parcial"
   ]
  },
  {
   "cell_type": "markdown",
   "id": "2d02678f",
   "metadata": {
    "slideshow": {
     "slide_type": "slide"
    }
   },
   "source": [
    "1. La transformada de Laplace (Definición, utilidad, transformadas de algunas funciones) y transformada inversa. (De Dennis Zill, sección )  \n",
    "\n",
    "   **No** estudie los ejercicios del 43 al 48 de la sección 7.1.   \n",
    "\n",
    "2. Transformada inversa y transforma de derivadas y solución de PVI's de primero y segundo orden. (Sección 7.2 de Dennis Zill)  \n",
    "\n",
    "   **No** estudie los ejercicios del 43 al 486 de la sección 7.2.  \n",
    "\n",
    "3. Resolver PVI's asociados a sistemas de ecuaciones diferenciales lineales de primero y segundo orden. (Sección 7.6 de Dennis Zill)\n",
    "\n",
    "   **No** estudie los ejercicios 15, 16 y 21 de la sección 7.6.  "
   ]
  },
  {
   "cell_type": "markdown",
   "id": "dd6fcb1f",
   "metadata": {
    "slideshow": {
     "slide_type": "slide"
    }
   },
   "source": [
    "## Referentes \n",
    "\n",
    "* Zill, Dennis G., Cullen, Michael R. (2002) *Ecuaciones diferenciales con problemas de valores en la frontera*, Thomson.  \n",
    "\n",
    "* https://dynamics-and-control.readthedocs.io/en/latest/1_Dynamics/3_Linear_systems/Laplace%20transforms.html  \n",
    "\n",
    "* http://mattpap.github.io/scipy-2011-tutorial/html/partfrac.html  \n",
    "\n",
    "* https://docs.sympy.org/latest/modules/functions/index.html \n"
   ]
  },
  {
   "cell_type": "code",
   "execution_count": null,
   "id": "c0dcaf99",
   "metadata": {},
   "outputs": [],
   "source": []
  }
 ],
 "metadata": {
  "celltoolbar": "Slideshow",
  "kernelspec": {
   "display_name": "Python 3",
   "language": "python",
   "name": "python3"
  },
  "language_info": {
   "codemirror_mode": {
    "name": "ipython",
    "version": 3
   },
   "file_extension": ".py",
   "mimetype": "text/x-python",
   "name": "python",
   "nbconvert_exporter": "python",
   "pygments_lexer": "ipython3",
   "version": "3.8.8"
  },
  "latex_envs": {
   "LaTeX_envs_menu_present": true,
   "autoclose": false,
   "autocomplete": false,
   "bibliofile": "biblio.bib",
   "cite_by": "apalike",
   "current_citInitial": 1,
   "eqLabelWithNumbers": true,
   "eqNumInitial": 1,
   "hotkeys": {
    "equation": "Ctrl-E",
    "itemize": "Ctrl-I"
   },
   "labels_anchors": false,
   "latex_user_defs": false,
   "report_style_numbering": false,
   "user_envs_cfg": false
  },
  "rise": {
   "enable_chalkboard": true,
   "theme": "sky",
   "transition": "zoom"
  }
 },
 "nbformat": 4,
 "nbformat_minor": 5
}
