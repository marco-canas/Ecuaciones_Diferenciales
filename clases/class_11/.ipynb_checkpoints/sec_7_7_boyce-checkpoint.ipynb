{
 "cells": [
  {
   "cell_type": "markdown",
   "id": "7377f58d",
   "metadata": {},
   "source": [
    "# Clase 11 Sistemas de ecuaciones diferenciales "
   ]
  },
  {
   "cell_type": "markdown",
   "id": "28c9cb25",
   "metadata": {},
   "source": [
    "La consideración del sistema lineal homogéneo con coeficientes constantes\n",
    "\n",
    "$$ x' = Ax $$\n",
    "\n",
    "se concluye con el análisis del caso en el que la matriz $A$ tiene un eigenvalor repetido. "
   ]
  },
  {
   "cell_type": "markdown",
   "id": "770693db",
   "metadata": {},
   "source": [
    "Una vez más, el análisis de esta sección es válido sin importar que $A$ sea real o compleja. "
   ]
  },
  {
   "cell_type": "markdown",
   "id": "94c20402",
   "metadata": {},
   "source": [
    "Si $r = \\rho$ es una raíz con multiplicidad $k$ de una ecuación \n",
    "\n",
    "$$ det(A - rI) = 0, $$\n",
    "\n",
    "se dice que $\\rho$ es un eigenvalor de multiplicidad $k$ de la matriz $A$. "
   ]
  },
  {
   "cell_type": "markdown",
   "id": "25852a57",
   "metadata": {},
   "source": [
    "En este caso, se tienen dos posibilidades:  \n",
    "* existen $k$ eigenvectores linealmente independientes correspondientes al eigenvalor $\\rho$, \n",
    "* o bien existen menos de esos $k$ eigenvectores.  "
   ]
  },
  {
   "cell_type": "markdown",
   "id": "db137325",
   "metadata": {},
   "source": [
    "Estas posibilidades se ilustraron en los ejemplos $4$ y $5$ de la sección 7.3; \n",
    "\n",
    "* en el ejemplo 5 un eigenvalor doble estaba acompañado por dos eigenvectores linealmente independientes, \n",
    "* mientras que en el ejemplo 4 un eigenvalor doble estaba asociado con solo un eigenvector linealmente independiente. "
   ]
  },
  {
   "cell_type": "markdown",
   "id": "a6fe1003",
   "metadata": {},
   "source": [
    "En el primer caso, considérese que $\\xi^{(1)}, \\ldots, \\xi^{(k)}$ son $k$ eigenvectores linealmente independientes asociados con el eigenvalor $\\rho$ de multiplicidad $k$. "
   ]
  },
  {
   "cell_type": "markdown",
   "id": "efb280ad",
   "metadata": {},
   "source": [
    "Entonces $x^{(1)}(t) = \\xi^{(1)}e^{\\rho t}, \\ldots, \\xi^{(k)}e^{\\rho t}$ son $k$ soluciones linealmente independientes de la ecuación $x' = Ax$. "
   ]
  },
  {
   "cell_type": "markdown",
   "id": "b34cfd85",
   "metadata": {},
   "source": [
    "Por tanto, en este caso no afecta el que el eigenvalor $r = \\rho$ esté repetido; todavía se tiene un conjunto fundamental de soluciones de la ecuación $x' = Ax$, de la forma $\\xi e^{rt}$. "
   ]
  },
  {
   "cell_type": "markdown",
   "id": "b0d5ec23",
   "metadata": {},
   "source": [
    "Este caso siempre ocurre si la matriz de coeficientes $A$ es hermitiana."
   ]
  },
  {
   "cell_type": "markdown",
   "id": "246bbfd8",
   "metadata": {},
   "source": [
    "Sin embargo, si la matriz de coeficientes no es hermitiana puede haber menos de $k$ eigenvectores independientes correspondientes a un eigen valor $\\rho$ de multiplicidad $k$ y, de ser así habrá menos de $k$ soluciones de $x' = Ax$, de la forma $\\xi e^{\\rho t}$, asociadas con este eigenvalor. "
   ]
  },
  {
   "cell_type": "markdown",
   "id": "c3f8fdf3",
   "metadata": {},
   "source": [
    "Por lo tanto para construir la solución general de la ecuación $x' = Ax$ es necesario encontrar otras soluciones de forma diferente. "
   ]
  },
  {
   "cell_type": "markdown",
   "id": "d17b0fd0",
   "metadata": {},
   "source": [
    "Por analofía con los resultados anteriores de las ecuaciones lineales de orden $n$, es natural buscar soluciones adicionales que comprendan productos de polinomios y funciones exponenciales. "
   ]
  },
  {
   "cell_type": "markdown",
   "id": "8a1e83dd",
   "metadata": {},
   "source": [
    "En primer lugar se considera un ejemplo. "
   ]
  },
  {
   "cell_type": "markdown",
   "id": "2bf3a13e",
   "metadata": {},
   "source": [
    "## Ejemplo 1 "
   ]
  },
  {
   "cell_type": "markdown",
   "id": "a7dad14d",
   "metadata": {},
   "source": [
    "Encontrar un conjunto fundamental de soluciones del sistema \n",
    "\n",
    "$$ x' = Ax = \\begin{pmatrix} 1 & -1 \\\\ 1 & 3 \\end{pmatrix}x $$\n"
   ]
  },
  {
   "cell_type": "markdown",
   "id": "d7932b44",
   "metadata": {},
   "source": [
    "### Solución: "
   ]
  },
  {
   "cell_type": "markdown",
   "id": "11aed4eb",
   "metadata": {},
   "source": [
    "Si se supone que $x = \\xi e^{rt}$ y se sustituye $x$ en la ecuación anterior, se obtiene \n",
    "\n",
    "$$ \\begin{pmatrix} 1 - r & -1 \\\\ 1 & 3 - r \\end{pmatrix} \\begin{pmatrix} \\xi_{1} \\\\ \\xi_{2} \\end{pmatrix} = \\begin{pmatrix} 0 \\\\ 0 \\end{pmatrix}, $$\n",
    "\n",
    "de lo cual se deduce que los eigenvalores de $A$ son $r_{1} = r_{2} = 2$. "
   ]
  },
  {
   "cell_type": "markdown",
   "id": "7d2dd20d",
   "metadata": {},
   "source": [
    "Para este valor de $r$, las ecuaciones \n",
    "\n",
    "$$ \\begin{pmatrix} 1 - r & -1 \\\\ 1 & 3 - r \\end{pmatrix} \\begin{pmatrix} \\xi_{1} \\\\ \\xi_{2} \\end{pmatrix} = \\begin{pmatrix} 0 \\\\ 0 \\end{pmatrix}, $$\n",
    "\n",
    "expresan que $\\xi_{1} + \\xi_{2} = 0$. "
   ]
  },
  {
   "cell_type": "markdown",
   "id": "4ed1046b",
   "metadata": {},
   "source": [
    "Por tanto, solo existe un eigenvector $\\xi$, dado por $\\xi^{T} = (1,-1)$ correspondiente al eigenvalor doble. "
   ]
  },
  {
   "cell_type": "markdown",
   "id": "16ad73c8",
   "metadata": {},
   "source": [
    "Por tanto, una solución del sistema \n",
    "\n",
    "$$ \\begin{pmatrix} 1 - r & -1 \\\\ 1 & 3 - r \\end{pmatrix} \\begin{pmatrix} \\xi_{1} \\\\ \\xi_{2} \\end{pmatrix} = \\begin{pmatrix} 0 \\\\ 0 \\end{pmatrix}, $$\n",
    "\n",
    "es \n",
    "\n",
    "$$ x^{(1)}(t) = \\begin{pmatrix} 1 \\\\ -1 \\end{pmatrix} e^{2t}, $$\n",
    "\n",
    "pero no existe una segunda solución de la forma $x = \\xi e^{rt}$. \n"
   ]
  },
  {
   "cell_type": "markdown",
   "id": "0f41cf9c",
   "metadata": {},
   "source": [
    "Es natural tratar de hallar una segunda solución del sistema \n",
    "\n",
    "$$ \\begin{pmatrix} 1 - r & -1 \\\\ 1 & 3 - r \\end{pmatrix} \\begin{pmatrix} \\xi_{1} \\\\ \\xi_{2} \\end{pmatrix} = \\begin{pmatrix} 0 \\\\ 0 \\end{pmatrix}, $$\n",
    "\n",
    "de la forma \n",
    "\n",
    "$$ x = \\xi te^{2t}, $$\n",
    "\n",
    "en donde $\\xi$ es un vector constante por determinar. \n"
   ]
  },
  {
   "cell_type": "markdown",
   "id": "ea3c3373",
   "metadata": {},
   "source": [
    "Si se sustituye $x$ en la ecuación \n",
    "\n",
    "$$ \\begin{pmatrix} 1 - r & -1 \\\\ 1 & 3 - r \\end{pmatrix} \\begin{pmatrix} \\xi_{1} \\\\ \\xi_{2} \\end{pmatrix} = \\begin{pmatrix} 0 \\\\ 0 \\end{pmatrix}, $$\n",
    "\n",
    "da \n",
    "\n",
    "$$ 2\\xi te^{2t} + \\xi e^{2t} - A\\xi te^{2t} = 0. $$\n"
   ]
  },
  {
   "cell_type": "markdown",
   "id": "e99c122c",
   "metadata": {},
   "source": [
    "A fin de que se satisfaga la ecuación anterior para $t$, es necesario que cada uno de los coeficientes $te^{2t}$ y $e^{2t}$ sean cero. "
   ]
  },
  {
   "cell_type": "markdown",
   "id": "65174239",
   "metadata": {},
   "source": [
    "A partir del término $e^{2t}$ se encuentra que \n",
    "\n",
    "$$ \\xi = 0. $$\n"
   ]
  },
  {
   "cell_type": "markdown",
   "id": "d3364d3e",
   "metadata": {},
   "source": [
    "De donde, no existe solución diferente de cero del sistema \n",
    "\n",
    "$$ \\begin{pmatrix} 1 - r & -1 \\\\ 1 & 3 - r \\end{pmatrix} \\begin{pmatrix} \\xi_{1} \\\\ \\xi_{2} \\end{pmatrix} = \\begin{pmatrix} 0 \\\\ 0 \\end{pmatrix}, $$\n",
    "\n",
    "que sea de la forma $\\xi te^{2t}$. \n"
   ]
  },
  {
   "cell_type": "markdown",
   "id": "6215b207",
   "metadata": {},
   "source": [
    "Dado que la ecuación $2\\xi te^{2t} + \\xi e^{2t} - A\\xi te^{2t} = 0$ contiene términos tanto en $te^{2t}$ como en $e^{2t}$, parece que además de $\\xi te^{2t}$, la segunda solución debe contener un término de la forma $\\eta e^{2t}$; en otras palabras es necesario suponer que \n",
    "\n",
    "$$ x = \\xi te^{2t} + \\eta e^{2t}, $$\n",
    "\n",
    "en donde $\\xi$ y $\\eta$ son vectores constantes. "
   ]
  },
  {
   "cell_type": "markdown",
   "id": "1ca0df3e",
   "metadata": {},
   "source": [
    "Una vez que se sustituye $x$ por esta expresión en la ecuación \n",
    "\n",
    "$$ \\begin{pmatrix} 1 - r & -1 \\\\ 1 & 3 - r \\end{pmatrix} \\begin{pmatrix} \\xi_{1} \\\\ \\xi_{2} \\end{pmatrix} = \\begin{pmatrix} 0 \\\\ 0 \\end{pmatrix} $$\n",
    "\n",
    "se obtiene \n",
    "\n",
    "$$ 2\\xi te^{2t} + (\\xi + 2\\eta)e^{2t} = A(\\xi te^{2t} + \\eta e^{2t}).  $$\n"
   ]
  },
  {
   "cell_type": "markdown",
   "id": "52662256",
   "metadata": {},
   "source": [
    "Si se igualan los coeficientes de $te^{2t}$ y $e^{2t}$ en cada mienbro de la ecuación anterior obtenemos las ecuaciones \n",
    "\n",
    "$$ (A - 2I)\\xi = 0$$\n",
    "\n",
    "y \n",
    "\n",
    "$$ (A - 2I)\\eta = \\xi $$\n",
    "\n",
    "para la determinación de $\\xi$ y $\\eta$. "
   ]
  },
  {
   "cell_type": "markdown",
   "id": "08d2a35d",
   "metadata": {},
   "source": [
    "La ecuación $(A - 2I)\\xi = 0$ se satisface si $\\xi$ es un eigenvector de $A$ que corresponde al eigenvalor $r = 2$; es decir $\\xi^{T} = (1,-1)$. "
   ]
  },
  {
   "cell_type": "markdown",
   "id": "bf28862f",
   "metadata": {},
   "source": [
    "Dado que $det(A - 2I) = 0$, podría esperarse que no fuera posible resolver la ecuación $(A-2I)\\eta = \\xi$; sin embargo, esto no es necesariamente cierto, ya que para algunos vectores $\\xi$ es posible resolverla.  "
   ]
  },
  {
   "cell_type": "markdown",
   "id": "c398e4f0",
   "metadata": {},
   "source": [
    "De hecho, la matriz aumentada de la ecuación $(A - 2I)\\eta = \\xi$ es\n",
    "\n",
    "$$ \\begin{pmatrix} -1 & -1 & | & 1 \\\\ 1 & 1 & | & -1 \\end{pmatrix}.  $$\n"
   ]
  },
  {
   "cell_type": "markdown",
   "id": "c20a67e5",
   "metadata": {},
   "source": [
    "El segundo renglón de esta matriz es proporcional al primero, de modo que el sistema es resoluble. "
   ]
  },
  {
   "cell_type": "markdown",
   "id": "841aaf6f",
   "metadata": {},
   "source": [
    "Se tiene\n",
    "\n",
    "$$ -\\eta_{1} - \\eta_{2} = 1, $$\n",
    "\n",
    "por lo que si $\\eta_{1} = k$, en donde $k$ es arbitraria, entonces $\\eta_{2} = -k - 1$.  \n"
   ]
  },
  {
   "cell_type": "markdown",
   "id": "fada9229",
   "metadata": {},
   "source": [
    "Si se escribe \n",
    "\n",
    "$$ \\eta = \\begin{pmatrix} k \\\\ -1 -k \\end{pmatrix} = \\begin{pmatrix} 0 \\\\ -1 \\end{pmatrix} + k\\begin{pmatrix} 1 \\\\ -1 \\end{pmatrix}, $$\n",
    "\n",
    "entonces al sustituir $\\xi$ y $\\eta$ en la ecuación $x = \\xi te^{2t} + \\eta e^{2t}$, se obtiene\n",
    "\n",
    "$$ x = \\begin{pmatrix} 1 \\\\ -1 \\end{pmatrix}te^{2t}  + \\begin{pmatrix} 0 \\\\ -1 \\end{pmatrix}e^{2t} + k\\begin{pmatrix} 1 \\\\ -1 \\end{pmatrix}e^{2t}. $$\n"
   ]
  },
  {
   "cell_type": "markdown",
   "id": "a353585e",
   "metadata": {},
   "source": [
    "El último término de la ecuación anterior es simplemente un múltiplo de la primera solución $x^{(1)}(t)$ y es posible ignorarlo, pero los dos primeros términos constituyen una solución\n",
    "\n",
    "$$ x^{(2)}(t) = \\begin{pmatrix} 1 \\\\ -1 \\end{pmatrix}te^{2t}  + \\begin{pmatrix} 0 \\\\ -1 \\end{pmatrix}e^{2t}$$\n"
   ]
  },
  {
   "cell_type": "markdown",
   "id": "1810c6d6",
   "metadata": {},
   "source": [
    "Un cálculo elemental muestra que $W[x^{(1)}, x^{(2)}](t) = -e^{4t}$ y, por consiguiente, $x^{(1)}$ y $x^{(2)}$ forman un conjunto fudamental de soluciones del sistema \n",
    "\n",
    "$$ \\begin{pmatrix} 1 - r & -1 \\\\ 1 & 3 - r \\end{pmatrix} \\begin{pmatrix} \\xi_{1} \\\\ \\xi_{2} \\end{pmatrix} = \\begin{pmatrix} 0 \\\\ 0 \\end{pmatrix}. $$\n",
    "\n"
   ]
  },
  {
   "cell_type": "markdown",
   "id": "4b52c524",
   "metadata": {},
   "source": [
    "La solución general es:\n",
    "\n",
    "\\begin{align*}\n",
    "x & = c_{1}x^{(1)}(t) + c_{2}x^{(2)}(t) \\\\\n",
    "  & = c_{1}\\begin{pmatrix} 1 \\\\ -1 \\end{pmatrix}e^{2t} + c_{2}\\begin{bmatrix} \\begin{pmatrix} 1 \\\\ -1 \\end{pmatrix} te^{2t} + \\begin{pmatrix} 0 \\\\ -1 \\end{pmatrix}e^{2t}  \\end{bmatrix}\n",
    "\\end{align*}\n"
   ]
  },
  {
   "cell_type": "markdown",
   "id": "10d8a2da",
   "metadata": {},
   "source": [
    "# Visualización de la solución"
   ]
  },
  {
   "cell_type": "code",
   "execution_count": 1,
   "id": "cfdfa046",
   "metadata": {},
   "outputs": [],
   "source": [
    "import numpy as np \n",
    "import matplotlib.pyplot as plt \n",
    "\n",
    "xi = np.array([1,-1])\n",
    "eta = np.array([0,-1])\n",
    "\n",
    "def x_super_1(t):\n",
    "    return xi*np.exp(2*t)\n",
    "\n",
    "def x_super_2(t):\n",
    "    return xi*t*np.exp(2*t) + eta*np.exp(2*t)"
   ]
  },
  {
   "cell_type": "code",
   "execution_count": 2,
   "id": "8cda22c8",
   "metadata": {},
   "outputs": [
    {
     "data": {
      "text/plain": [
       "1.0"
      ]
     },
     "execution_count": 2,
     "metadata": {},
     "output_type": "execute_result"
    }
   ],
   "source": [
    "x_super_1(0)[0] "
   ]
  },
  {
   "cell_type": "code",
   "execution_count": 3,
   "id": "cf877ec5",
   "metadata": {
    "scrolled": false
   },
   "outputs": [
    {
     "data": {
      "image/png": "[encoded data removed]",
      "text/plain": [
       "<Figure size 432x288 with 1 Axes>"
      ]
     },
     "metadata": {
      "needs_background": "light"
     },
     "output_type": "display_data"
    }
   ],
   "source": [
    "c1,c2 = -1,0 \n",
    "T = np.linspace(-2,2,200) \n",
    "\n",
    "fig = plt.figure()\n",
    "ax1 = fig.add_subplot()\n",
    "\n",
    "\n",
    "x_coord = [c1*x_super_1(t)[0] + c2*x_super_2(t)[0] for t in T]\n",
    "y_coord = [c1*x_super_1(t)[1] + c2*x_super_2(t)[1] for t in T]\n",
    "\n",
    "ax1.plot(x_coord, y_coord)\n",
    "ax1.set_xlabel('$x$')\n",
    "\n",
    "ax1.axis([-3,3,-3,3])\n",
    "\n",
    "ax1.grid(True, alpha = 0.5) \n",
    "\n",
    "plt.show() \n"
   ]
  },
  {
   "cell_type": "markdown",
   "id": "ad174490",
   "metadata": {},
   "source": [
    "## Gráfica de $x_{1}$ contra $t$"
   ]
  },
  {
   "cell_type": "code",
   "execution_count": 4,
   "id": "0f803960",
   "metadata": {},
   "outputs": [
    {
     "data": {
      "image/png": "[encoded data removed]",
      "text/plain": [
       "<Figure size 432x288 with 1 Axes>"
      ]
     },
     "metadata": {
      "needs_background": "light"
     },
     "output_type": "display_data"
    }
   ],
   "source": [
    "c1,c2 = -1,-1\n",
    "T = np.linspace(-2,2,200) \n",
    "\n",
    "fig = plt.figure()\n",
    "ax1 = fig.add_subplot()\n",
    "\n",
    "\n",
    "x_coord = T \n",
    "y_coord = [c1*x_super_1(t)[0] + c2*x_super_2(t)[0] for t in T]\n",
    "\n",
    "ax1.plot(x_coord, y_coord)\n",
    "ax1.set_xlabel('$x$')\n",
    "\n",
    "ax1.axis([-0,3,-2,2])\n",
    "\n",
    "ax1.grid(True, alpha = 0.5) \n",
    "\n",
    "plt.show() \n"
   ]
  },
  {
   "cell_type": "markdown",
   "id": "7fcf56f4",
   "metadata": {},
   "source": [
    "## Análisis del gráfico de la solución"
   ]
  },
  {
   "cell_type": "markdown",
   "id": "73e9a236",
   "metadata": {},
   "source": [
    "La gráfica de la solución \n",
    "\n",
    "\\begin{align*}\n",
    "x & = c_{1}x^{(1)}(t) + c_{2}x^{(2)}(t) \\\\\n",
    "  & = c_{1}\\begin{pmatrix} 1 \\\\ -1 \\end{pmatrix}e^{2t} + c_{2}\\begin{bmatrix} \\begin{pmatrix} 1 \\\\ -1 \\end{pmatrix} te^{2t} + \\begin{pmatrix} 0 \\\\ -1 \\end{pmatrix}e^{2t}  \\end{bmatrix}\n",
    "\\end{align*}\n",
    "\n",
    "es un poco más difícil de analizar que en algunos de los ejemplos anteriores. "
   ]
  },
  {
   "cell_type": "markdown",
   "id": "0836a8aa",
   "metadata": {},
   "source": [
    "* Es evidente que $x$ se vuelve no acotada cuando $t \\to \\infty$ y \n",
    "* que $x \\to 0$ cuando $t \\to -\\infty$. "
   ]
  },
  {
   "cell_type": "markdown",
   "id": "58d411fe",
   "metadata": {},
   "source": [
    "Es imposible demostrar que cuando $t \\to -\\infty$, todas las soluciones tienden al origen tangentes a la recta $x_{2} = -x_{1}$, determinada por el eigenvector. "
   ]
  },
  {
   "cell_type": "markdown",
   "id": "36ec6d3b",
   "metadata": {},
   "source": [
    "De manera semejante, cuando $t \\to infty$, cada trayectoria es asintótica a una recta de pendiente $-1$. "
   ]
  },
  {
   "cell_type": "markdown",
   "id": "846e879f",
   "metadata": {},
   "source": [
    "En la figura 7.7.1a se muestran las trayectorias del sistema \n",
    "$$ x' = Ax = \\begin{pmatrix} 1 & -1 \\\\ 1 & 3 \\end{pmatrix}x, $$\n",
    "y en la figura 7.7.1b, algunas gráficas típicas de $x_{1}$ contra $t$. "
   ]
  },
  {
   "cell_type": "markdown",
   "id": "b75919cd",
   "metadata": {},
   "source": [
    "El patrón de trayectorias de esta figura es típico de los sistemas de segundo orden $x' = Ax$ con eigenvalores iguales y un solo eigenvector independiente. "
   ]
  },
  {
   "cell_type": "markdown",
   "id": "f8e5a7b3",
   "metadata": {},
   "source": [
    "En este caso, el origen también se denomina nodo. "
   ]
  },
  {
   "cell_type": "markdown",
   "id": "e279eeb6",
   "metadata": {},
   "source": [
    "Si los eigenvalores son negativos, las trayectorias son semejantes, aunque se recorren en dirección hacia adentro. "
   ]
  },
  {
   "cell_type": "code",
   "execution_count": null,
   "id": "a6cfeaf2",
   "metadata": {},
   "outputs": [],
   "source": []
  },
  {
   "cell_type": "markdown",
   "id": "18124eb4",
   "metadata": {},
   "source": [
    "## Ejemplo 2\n",
    "Página 409 del Boyce DiPrima "
   ]
  },
  {
   "cell_type": "markdown",
   "id": "b816a3d3",
   "metadata": {},
   "source": [
    "Encontrar la solución del problema con valor inicial\n",
    "\n",
    "$$ x' = \\begin{pmatrix} 1 & -9 \\\\ -1 & -5 \\end{pmatrix}x \\ \\  x(0) = \\begin{pmatrix} 1 \\\\ -1 \\end{pmatrix} \n",
    "$$\n"
   ]
  },
  {
   "cell_type": "markdown",
   "id": "43675dac",
   "metadata": {},
   "source": [
    "### Solución: "
   ]
  },
  {
   "cell_type": "markdown",
   "id": "53973eab",
   "metadata": {},
   "source": [
    "Si se supone que $x = \\xi e^{rt}$ se obtiene el sistema algebraico \n",
    "\n",
    "$$ \\begin{pmatrix} 1- r & -9 \\\\ -1 & -5 - r \\end{pmatrix}\\begin{pmatrix} \\xi_{1} \\\\ \\xi_{2} \\end{pmatrix} = \\begin{pmatrix} 0 \\\\ 0 \\end{pmatrix} $$\n"
   ]
  },
  {
   "cell_type": "markdown",
   "id": "bd19885b",
   "metadata": {},
   "source": [
    "Por tanto, los eigenvalores son las raíces de \n",
    "\n",
    "$$ (1-r)(-5-r) + 9 = r^{2} + 4r + 4 = (r + 2)^{2} = 0, $$\n",
    "\n",
    "de modo que $r_{1} = r_{2} = -2$."
   ]
  },
  {
   "cell_type": "markdown",
   "id": "d49e5f55",
   "metadata": {},
   "source": [
    "Por la ecuación \n",
    "\n",
    "$$ \\begin{pmatrix} 1- r & -9 \\\\ -1 & -5 - r \\end{pmatrix}\\begin{pmatrix} \\xi_{1} \\\\ \\xi_{2} \\end{pmatrix} = \\begin{pmatrix} 0 \\\\ 0 \\end{pmatrix} $$\n",
    "\n",
    "se encuentra que el eigenvector correspondiente es $\\xi^{T} = (3,-1)$. "
   ]
  },
  {
   "cell_type": "markdown",
   "id": "0914319e",
   "metadata": {},
   "source": [
    "Por tanto, una solución del sistema \n",
    "$$ x' = \\begin{pmatrix} 1 & -9 \\\\ -1 & -5 \\end{pmatrix}x \\ \\  x(0) = \\begin{pmatrix} 1 \\\\ -1 \\end{pmatrix} \n",
    "$$\n",
    "es \n",
    "\n",
    "$$ x^{(1)}(t) = \\begin{pmatrix} 3 \\\\ -1 \\end{pmatrix} e^{-2t}. $$\n"
   ]
  },
  {
   "cell_type": "markdown",
   "id": "32ae61ea",
   "metadata": {},
   "source": [
    "Una segunda solución independiente es de la forma \n",
    "\n",
    "$$ x = \\xi t e^{-2t} + \\eta e^{-2t} $$\n",
    "\n",
    "en donde $\\xi$ es el mismo que antes y $\\eta$ satisface\n",
    "\n",
    "\n",
    "$$ (A + 2I)\\eta = \\xi,  $$\n",
    "\n",
    "o bien, \n",
    "\n",
    "$$ \\begin{pmatrix} 3 & 9 \\\\ -1 & -3 \\end{pmatrix} \\begin{pmatrix} \\eta_{1} \\\\ \\eta_{2} \\end{pmatrix} = \\begin{pmatrix} 3 \\\\ -1 \\end{pmatrix}.  $$\n"
   ]
  },
  {
   "cell_type": "markdown",
   "id": "46786710",
   "metadata": {},
   "source": [
    "De donde $\\eta_{1} + 3\\eta_{2} = 1$, de modo que si $n_{2} = k$, entonces $\\eta_{1} = 1 - 3k$, en donde $k$ es arbitraria. "
   ]
  },
  {
   "cell_type": "markdown",
   "id": "b39ea711",
   "metadata": {},
   "source": []
  },
  {
   "cell_type": "code",
   "execution_count": null,
   "id": "83490df7",
   "metadata": {},
   "outputs": [],
   "source": []
  },
  {
   "cell_type": "markdown",
   "id": "e9af22bb",
   "metadata": {},
   "source": [
    "En la figura 7.7.2 se muestra la gráfica de la solución. "
   ]
  },
  {
   "cell_type": "code",
   "execution_count": null,
   "id": "04eecbb7",
   "metadata": {},
   "outputs": [],
   "source": []
  },
  {
   "cell_type": "code",
   "execution_count": null,
   "id": "2955d1ee",
   "metadata": {},
   "outputs": [],
   "source": []
  },
  {
   "cell_type": "code",
   "execution_count": null,
   "id": "b349a52f",
   "metadata": {},
   "outputs": [],
   "source": []
  },
  {
   "cell_type": "code",
   "execution_count": null,
   "id": "5fc9aca5",
   "metadata": {},
   "outputs": [],
   "source": []
  }
 ],
 "metadata": {
  "kernelspec": {
   "display_name": "Python 3",
   "language": "python",
   "name": "python3"
  },
  "language_info": {
   "codemirror_mode": {
    "name": "ipython",
    "version": 3
   },
   "file_extension": ".py",
   "mimetype": "text/x-python",
   "name": "python",
   "nbconvert_exporter": "python",
   "pygments_lexer": "ipython3",
   "version": "3.8.8"
  },
  "latex_envs": {
   "LaTeX_envs_menu_present": true,
   "autoclose": false,
   "autocomplete": true,
   "bibliofile": "biblio.bib",
   "cite_by": "apalike",
   "current_citInitial": 1,
   "eqLabelWithNumbers": true,
   "eqNumInitial": 1,
   "hotkeys": {
    "equation": "Ctrl-E",
    "itemize": "Ctrl-I"
   },
   "labels_anchors": false,
   "latex_user_defs": false,
   "report_style_numbering": false,
   "user_envs_cfg": false
  },
  "rise": {
   "enable_chalkboard": true,
   "theme": "sky",
   "transition": "sky"
  }
 },
 "nbformat": 4,
 "nbformat_minor": 5
}
