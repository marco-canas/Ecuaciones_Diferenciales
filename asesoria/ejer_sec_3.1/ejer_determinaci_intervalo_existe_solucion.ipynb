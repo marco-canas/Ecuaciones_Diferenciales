{
 "cells": [
  {
   "cell_type": "markdown",
   "id": "b2a8ffb2",
   "metadata": {
    "slideshow": {
     "slide_type": "slide"
    }
   },
   "source": [
    "<table align=\"left\">\n",
    "  <td>\n",
    "    <a href=\"https://colab.research.google.com/github/marco-canas/innovaciones/blob/main/ref/geron/math_linear_algebra/linear_algebra.ipynb\" target=\"_parent\"><img src=\"https://colab.research.google.com/assets/colab-badge.svg\" alt=\"Open In Colab\"/></a>\n",
    "  </td>\n",
    "  <td>\n",
    "    <a target=\"_blank\" href=\"https://kaggle.com/kernels/welcome?src=https://github.com/marco-canas/innovaciones/blob/main/ref/geron/math_linear_algebra/linear_algebra.ipynb\"><img src=\"https://kaggle.com/static/images/open-in-kaggle.svg\" /></a>\n",
    "  </td>\n",
    "</table>"
   ]
  },
  {
   "cell_type": "markdown",
   "id": "b44686f2",
   "metadata": {
    "slideshow": {
     "slide_type": "slide"
    }
   },
   "source": [
    "# Ejercicio sobre determinación de intervalo más largo donde existe la solución"
   ]
  },
  {
   "cell_type": "markdown",
   "id": "b8e81511",
   "metadata": {
    "slideshow": {
     "slide_type": "slide"
    }
   },
   "source": [
    "1. Encontrar el intervalo más largo en el que se tiene la certeza de que existe la solución del problema con valor inicial \n",
    "\n",
    "$$ (x^{2} - 3x)y'' + xy' - (x+3)y = 0, \\ \\ \\ \\ y(1) = 2, \\ \\ y'(1) = 1. $$\n",
    "\n",
    "2. Grafique las funciones coeficientes de la ecuación diferencial estadarizada. \n"
   ]
  },
  {
   "cell_type": "markdown",
   "id": "fb9c315c",
   "metadata": {
    "slideshow": {
     "slide_type": "slide"
    }
   },
   "source": [
    "## [Video de apoyo 1](https://www.youtube.com/watch?v=AOxn1BDtX-A)"
   ]
  },
  {
   "cell_type": "markdown",
   "id": "71167347",
   "metadata": {
    "slideshow": {
     "slide_type": "slide"
    }
   },
   "source": [
    "## [Video de apoyo 2](https://www.youtube.com/watch?v=uSllxawZbYI)"
   ]
  },
  {
   "cell_type": "markdown",
   "id": "a248f907",
   "metadata": {
    "slideshow": {
     "slide_type": "slide"
    }
   },
   "source": [
    "## Solución\n"
   ]
  },
  {
   "cell_type": "markdown",
   "id": "9f5e8c22",
   "metadata": {
    "slideshow": {
     "slide_type": "slide"
    }
   },
   "source": [
    "Empecemos estandarizando la ecuación diferencial del PVI dado:\n",
    "\n",
    "$$ y'' + \\frac{x}{x^{2} - 3x}y' - \\frac{x+3}{x^{2} - 3x}y = 0  $$\n"
   ]
  },
  {
   "cell_type": "markdown",
   "id": "a5be7324",
   "metadata": {
    "slideshow": {
     "slide_type": "slide"
    }
   },
   "source": [
    "$$ y'' + \\frac{x}{x(x - 3)}y' - \\frac{x+3}{x(x - 3)}y = 0  $$\n"
   ]
  },
  {
   "cell_type": "markdown",
   "id": "9c1f7f5c",
   "metadata": {
    "slideshow": {
     "slide_type": "slide"
    }
   },
   "source": [
    "$$ y'' + \\frac{1}{x - 3}y' - \\frac{x+3}{x(x - 3)}y = 0  $$"
   ]
  },
  {
   "cell_type": "markdown",
   "id": "f456418b",
   "metadata": {
    "slideshow": {
     "slide_type": "slide"
    }
   },
   "source": [
    "Como la forma estandar general es:\n",
    "\n",
    "$$ y'' + p(x)y' + q(x)y = 0 $$\n",
    "\n",
    "entonces los coeficientes $p$ y $q$ son:\n",
    "\n",
    "$$ p(x) = \\frac{1}{x-3},\\ \\ \\ \\ \\ \\  q(x) = \\frac{x+3}{x(3-x)} = \\frac{x+3}{-x^{2} + 3x} $$\n",
    "\n"
   ]
  },
  {
   "cell_type": "code",
   "execution_count": 13,
   "id": "a7ffe519",
   "metadata": {
    "slideshow": {
     "slide_type": "slide"
    }
   },
   "outputs": [
    {
     "data": {
      "text/plain": [
       "(0, x + 3)"
      ]
     },
     "execution_count": 13,
     "metadata": {},
     "output_type": "execute_result"
    }
   ],
   "source": [
    "from sympy import *\n",
    "x,p,q = symbols('x p q')\n",
    "q = div(x+3,x*(3-x))\n",
    "q "
   ]
  },
  {
   "cell_type": "markdown",
   "id": "539790ca",
   "metadata": {
    "slideshow": {
     "slide_type": "slide"
    }
   },
   "source": [
    "### Determinemos los puntos de discontinuidad de las funciones $p$ y $q$. "
   ]
  },
  {
   "cell_type": "markdown",
   "id": "3b1ad5bc",
   "metadata": {
    "slideshow": {
     "slide_type": "slide"
    }
   },
   "source": [
    "$$ p(x) = \\frac{1}{x-3},\\ \\ \\ \\ \\ \\  q(x) = \\frac{x+3}{x(3-x)} = \\frac{x+3}{-x^{2} + 3x} $$"
   ]
  },
  {
   "cell_type": "markdown",
   "id": "ef4229b1",
   "metadata": {
    "slideshow": {
     "slide_type": "subslide"
    }
   },
   "source": [
    "Para estas funciones racionales los puntos de discontinuidad son los ceros de sus denominadores. Por tanto, $0$ y $3$ son los puntos de discontinuidad de estos coeficientes. "
   ]
  },
  {
   "cell_type": "markdown",
   "id": "d01f0de3",
   "metadata": {
    "slideshow": {
     "slide_type": "slide"
    }
   },
   "source": [
    "Los intervalos donde estas dos funciones son continuas a la vez son \n",
    "\n",
    "$$(-\\infty, 0), \\ \\ \\  (0,3), \\ \\ \\  \\text{y} \\ \\ \\  (3, \\infty)$$\n"
   ]
  },
  {
   "cell_type": "markdown",
   "id": "642b36c8",
   "metadata": {
    "slideshow": {
     "slide_type": "slide"
    }
   },
   "source": [
    "y el intervalo que contiene el punto $x_{0} = 1$ donde están definidas las condiciones iniciales es $(0,3)$. Por lo tanto, este es el mayor intervalo donde existe la solución del PVI dado."
   ]
  },
  {
   "cell_type": "markdown",
   "id": "f91f4628",
   "metadata": {
    "slideshow": {
     "slide_type": "slide"
    }
   },
   "source": [
    "## Graficación de las funciones coeficientes $p(x)$ y $q(x)$ solo en el intervalo donde se garantiza la existencia de la solución del PVI."
   ]
  },
  {
   "cell_type": "code",
   "execution_count": 14,
   "id": "419c5e3e",
   "metadata": {
    "scrolled": true,
    "slideshow": {
     "slide_type": "slide"
    }
   },
   "outputs": [
    {
     "data": {
      "image/png": "[encoded data removed]",
      "text/plain": [
       "<Figure size 936x360 with 2 Axes>"
      ]
     },
     "metadata": {
      "needs_background": "light"
     },
     "output_type": "display_data"
    }
   ],
   "source": [
    "import numpy as np \n",
    "import matplotlib.pyplot as plt \n",
    "\n",
    "x = np.linspace(0.01, 2.99, 200) # dominio de graficación\n",
    "p = 1/(x-3) # lista de valores bajo la función p\n",
    "q = (x+3)/(x*(3-x))\n",
    "\n",
    "fig = plt.figure(figsize = (13,5))   \n",
    "ax1 = fig.add_subplot(121)\n",
    "ax1.set_title(r'Coeficiente $p(x) = \\frac{1}{x-3}$')\n",
    "ax1.plot([0,3],[0,0], color = 'red') # grafica del eje x\n",
    "ax1.grid(True)\n",
    "ax1.plot(x,p)\n",
    "\n",
    "\n",
    "ax2 = fig.add_subplot(122)\n",
    "ax2.set_title(r'Coeficiente $q(x) = \\frac{x+3}{x(3-x)}$')\n",
    "ax2.plot([0,3],[0,0], color = 'red') # grafica del eje x\n",
    "ax2.grid(True)\n",
    "ax2.plot(x,q)\n",
    "\n",
    "plt.savefig('coeficientes_p_and_q.jpg')\n",
    "plt.show()\n",
    "\n",
    "\n"
   ]
  },
  {
   "cell_type": "markdown",
   "id": "00100bd2",
   "metadata": {
    "slideshow": {
     "slide_type": "slide"
    }
   },
   "source": [
    "## Graficación de los coeficientes por métodos intuitivos y analíticos "
   ]
  },
  {
   "cell_type": "markdown",
   "id": "e5b05586",
   "metadata": {
    "slideshow": {
     "slide_type": "slide"
    }
   },
   "source": [
    "$$ p(x) = \\frac{1}{x-3},\\ \\ \\ \\ \\ \\  q(x) = \\frac{x+3}{x(3-x)} = \\frac{x+3}{-x^{2} + 3x} $$"
   ]
  },
  {
   "cell_type": "markdown",
   "id": "967b80f8",
   "metadata": {
    "slideshow": {
     "slide_type": "slide"
    }
   },
   "source": [
    "* Determine dominio\n",
    "* Determine intersectos con los ejes coordenados\n",
    "* determine asíntotas.\n",
    "* determine intervalos de positividad de la función. "
   ]
  },
  {
   "cell_type": "markdown",
   "id": "692dcbe0",
   "metadata": {
    "slideshow": {
     "slide_type": "slide"
    }
   },
   "source": [
    "## Determinación de la solución con Sympy"
   ]
  },
  {
   "cell_type": "code",
   "execution_count": 15,
   "id": "9b7e3036",
   "metadata": {
    "slideshow": {
     "slide_type": "slide"
    }
   },
   "outputs": [
    {
     "data": {
      "text/latex": [
       "$\\displaystyle y{\\left(x \\right)} = C_{2} x + C_{1} + O\\left(x^{6}\\right)$"
      ],
      "text/plain": [
       "Eq(y(x), C2*x + C1 + O(x**6))"
      ]
     },
     "execution_count": 15,
     "metadata": {},
     "output_type": "execute_result"
    }
   ],
   "source": [
    "from sympy import *\n",
    "x,y = symbols('x y')\n",
    "y = Function('y')(x)\n",
    "eq = diff(y,x,2) + 1/(x-3)*diff(y,x) + (x+3)/(x*(3-x))*y \n",
    "dsolve(eq,y) "
   ]
  },
  {
   "cell_type": "markdown",
   "id": "ba907b3e",
   "metadata": {
    "slideshow": {
     "slide_type": "slide"
    }
   },
   "source": [
    "$$ \\Rightarrow y'(x) = c_{2} $$"
   ]
  },
  {
   "cell_type": "markdown",
   "id": "35593919",
   "metadata": {
    "slideshow": {
     "slide_type": "slide"
    }
   },
   "source": [
    "Como $y(1) = 2$, entonces\n",
    "\n",
    "$$ c_{2}+ c_{1} = 2 $$\n"
   ]
  },
  {
   "cell_type": "markdown",
   "id": "42729125",
   "metadata": {
    "slideshow": {
     "slide_type": "slide"
    }
   },
   "source": [
    "Y como $y'(1) = 1$, entonces\n",
    "\n",
    "$$c_{2} = 1 $$\n"
   ]
  },
  {
   "cell_type": "markdown",
   "id": "6af11ce2",
   "metadata": {
    "slideshow": {
     "slide_type": "slide"
    }
   },
   "source": [
    "De donde $c_{1} = 1$ y así, la solución del PVI dado es $y(x) = x + 1$. para $0 < x < 3$. "
   ]
  },
  {
   "cell_type": "markdown",
   "id": "00c5f781",
   "metadata": {
    "slideshow": {
     "slide_type": "slide"
    }
   },
   "source": [
    "## Referentes "
   ]
  },
  {
   "cell_type": "markdown",
   "id": "5b3afaa1",
   "metadata": {
    "slideshow": {
     "slide_type": "slide"
    }
   },
   "source": [
    "Boyce and DiPrima"
   ]
  },
  {
   "cell_type": "code",
   "execution_count": null,
   "id": "cc2099d8",
   "metadata": {},
   "outputs": [],
   "source": []
  }
 ],
 "metadata": {
  "celltoolbar": "Slideshow",
  "kernelspec": {
   "display_name": "Python 3",
   "language": "python",
   "name": "python3"
  },
  "language_info": {
   "codemirror_mode": {
    "name": "ipython",
    "version": 3
   },
   "file_extension": ".py",
   "mimetype": "text/x-python",
   "name": "python",
   "nbconvert_exporter": "python",
   "pygments_lexer": "ipython3",
   "version": "3.8.8"
  },
  "latex_envs": {
   "LaTeX_envs_menu_present": true,
   "autoclose": false,
   "autocomplete": false,
   "bibliofile": "biblio.bib",
   "cite_by": "apalike",
   "current_citInitial": 1,
   "eqLabelWithNumbers": true,
   "eqNumInitial": 1,
   "hotkeys": {
    "equation": "Ctrl-E",
    "itemize": "Ctrl-I"
   },
   "labels_anchors": false,
   "latex_user_defs": false,
   "report_style_numbering": false,
   "user_envs_cfg": false
  },
  "rise": {
   "enable_chalkboard": true,
   "theme": "sky",
   "transition": "sky"
  }
 },
 "nbformat": 4,
 "nbformat_minor": 5
}
