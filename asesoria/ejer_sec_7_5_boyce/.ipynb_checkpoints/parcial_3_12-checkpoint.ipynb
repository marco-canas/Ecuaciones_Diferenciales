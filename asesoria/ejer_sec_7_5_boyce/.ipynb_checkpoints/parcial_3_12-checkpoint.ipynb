{
 "cells": [
  {
   "cell_type": "markdown",
   "id": "00d7ea1b",
   "metadata": {},
   "source": [
    "# Supletorio del tercer parcial Luz Katherine Gallo"
   ]
  },
  {
   "cell_type": "markdown",
   "id": "62a6c628",
   "metadata": {},
   "source": [
    "## Punto 1 "
   ]
  },
  {
   "cell_type": "markdown",
   "id": "78f5d2dd",
   "metadata": {},
   "source": [
    "Suponga que $R_{1} = R_{2} = 4$ ohms, $C = \\frac{1}{2}$ farad y $L = 8$ henry.\n",
    "\n",
    "$$ \\frac{d}{dt}\\begin{pmatrix} I \\\\ V \\end{pmatrix} = \\begin{pmatrix} - \\frac{1}{2} & -\\frac{1}{8} \\\\ 2 & -\\frac{1}{2} \\end{pmatrix} \\begin{pmatrix} I \\\\ V \\end{pmatrix}, $$\n",
    "\n",
    "En donde $I$ es la corriente que pasa por la inductancia y $V$ es la caída de voltaje a través del capacitor. \n",
    "\n",
    "1. Encuentre la solución general del sistema en términos de funciones de valores reales. \n",
    "2. Encuentre $I(t)$ y $V(t)$ si $I(0) = 2$ y $V(0) = 3$.\n",
    "3. Determine los valores límite de $I(t)$ y $V(t)$ cuando $t \\to \\infty$. \n",
    "4. Los anteriores valores límite dependen de las condiciones iniciales. "
   ]
  },
  {
   "cell_type": "code",
   "execution_count": null,
   "id": "1c65f390",
   "metadata": {
    "scrolled": true
   },
   "outputs": [],
   "source": [
    "from IPython.display import Image\n",
    "Image('punto_13_sec_7_6.png', width = 800, height = 400)"
   ]
  },
  {
   "cell_type": "markdown",
   "id": "4389fd21",
   "metadata": {},
   "source": [
    "## Solución con sympy "
   ]
  },
  {
   "cell_type": "code",
   "execution_count": null,
   "id": "b357dc25",
   "metadata": {},
   "outputs": [],
   "source": [
    "from sympy import *\n",
    "A = Matrix([[-1/2,-1/8],[2,-1/2]])  \n",
    "r_vec1, r_vec2 = A.eigenvects() \n",
    "r_vec1, r_vec2"
   ]
  },
  {
   "cell_type": "code",
   "execution_count": null,
   "id": "7cf634f9",
   "metadata": {},
   "outputs": [],
   "source": [
    "import numpy as np \n",
    "from sympy import *\n",
    "t = symbols('t') \n",
    "A = Matrix([[-1/2,-1/8],[2,-1/2]])    \n",
    "r_vec1, r_vec2 = A.eigenvects() \n",
    "r1, r2 = r_vec1[0]/r_vec1[1],  r_vec2[0]/r_vec2[1]\n",
    "v1, v2 = A.eigenvects()[0][2][0], A.eigenvects()[1][2][0]\n",
    "lambda1, mu1 = re(r1), im(r1)\n",
    "lambda2, mu2 = re(r2), re(r2)\n",
    "\n",
    "x_super1_sympy = v1*exp(r1*t)\n",
    "u_sympy = re( v2*exp(lambda2*t)*(cos(mu2*t) + I*sin(mu2*t)) )\n",
    "v_sympy = im( v2*exp(lambda2*t)*(cos(mu2*t) + I*sin(mu2*t)) )\n",
    "\n",
    "display(u_sympy)\n",
    "display(v_sympy)"
   ]
  },
  {
   "cell_type": "code",
   "execution_count": null,
   "id": "cb194249",
   "metadata": {},
   "outputs": [],
   "source": [
    "x_sup1 = lambdify(t, v1*exp(r1*t))\n",
    "\n",
    "u = lambdify(t, re( v1*exp(lambda1*t)*(cos(mu1*t) + I*sin(mu1*t)) ) ) \n",
    "v = lambdify(t, im( v1*exp(lambda1*t)*(cos(mu1*t) + I*sin(mu1*t)) ) )  \n",
    "c1, c2 = 1, 1\n",
    "x = lambda t: c1*u(t) + c2*v(t) "
   ]
  },
  {
   "cell_type": "code",
   "execution_count": null,
   "id": "a7cc56a4",
   "metadata": {},
   "outputs": [],
   "source": []
  },
  {
   "cell_type": "markdown",
   "id": "35c14301",
   "metadata": {},
   "source": [
    "## Gráfica de la solución con Matplotlib "
   ]
  },
  {
   "cell_type": "code",
   "execution_count": null,
   "id": "d0330f1b",
   "metadata": {
    "scrolled": true
   },
   "outputs": [],
   "source": [
    "import numpy as np \n",
    "import matplotlib.pyplot as plt\n",
    "\n",
    "plt.style.use('dark_background') \n",
    "\n",
    "fig, ax = plt.subplots(figsize = (8,6))\n",
    "\n",
    "t = np.linspace(0,10,100)  \n",
    "\n",
    "u_0 = u(t)[0].reshape(-1,1) # reshape convierte la matriz 1 x 100 en un vector columna 100 x 1\n",
    "v_0 = v(t)[0]\n",
    "\n",
    "ax.plot(t,u_0)  \n",
    "\n",
    "ax.grid(True, alpha = 0.6) \n",
    "ax.set_title('La función de valor real $u(t)$') \n",
    "\n",
    "\n",
    "\n",
    "plt.savefig('punto_2.png') "
   ]
  },
  {
   "cell_type": "code",
   "execution_count": null,
   "id": "75a86442",
   "metadata": {},
   "outputs": [],
   "source": [
    "u_0[0] "
   ]
  },
  {
   "cell_type": "markdown",
   "id": "68244ee6",
   "metadata": {},
   "source": [
    "## Punto 2\n",
    "\n",
    "1. (15 puntos) Encontrar la solución  \n",
    "\n",
    "$$ x' = \\begin{pmatrix}0&0&1\\\\0&0&-1\\\\0&1&0\\end{pmatrix}x $$\n",
    "\n",
    "No puede omitir ningún paso de solución y debe describir verbalmente su procedimiento y justificar los pasos esenciales. (Las descripciones y justificaciones verbales valen la mitad del proceso de solución). \n",
    "\n",
    "2. (5 puntos) Verifique por sustitución directa en el sistema original dado. \n",
    "\n",
    "3. (5 puntos) Utilice el wronkiano para mostrar que $x^{(1)}, x^{(2)}$ y $x^{(3)}$ es un   \n",
    "   conjunto fundamental de soluciones. Redacte una conclusión que se derive de este cálculo. \n",
    "   \n",
    "4. (Opcional) Entregar el pantallazo de la verificación con Colaboratory, Symbolab o [WolframAlpha](https://www.wolframalpha.com/input/?i2d=true&i=x%27+%3D+%7B%7B1%2C-1%2C2%7D%2C%7B-1%2C1%2C0%7D%2C%7B-1%2C0%2C1%7D%7Dx)    "
   ]
  },
  {
   "cell_type": "markdown",
   "id": "e62dca7d",
   "metadata": {},
   "source": [
    "## Solución con sympy "
   ]
  },
  {
   "cell_type": "code",
   "execution_count": null,
   "id": "27943881",
   "metadata": {},
   "outputs": [],
   "source": [
    "from sympy import *\n",
    "A = Matrix([[0,0,1],[0,0,-1],[0,1,0]]) \n",
    "r_vec1, r_vec2, r_vec3 = A.eigenvects() "
   ]
  },
  {
   "cell_type": "code",
   "execution_count": null,
   "id": "37222b2e",
   "metadata": {},
   "outputs": [],
   "source": [
    "r_vec1 "
   ]
  },
  {
   "cell_type": "code",
   "execution_count": null,
   "id": "d27de689",
   "metadata": {},
   "outputs": [],
   "source": [
    "r1 = r_vec1[0]/r_vec1[1] \n",
    "r1 "
   ]
  },
  {
   "cell_type": "code",
   "execution_count": null,
   "id": "a34e954e",
   "metadata": {},
   "outputs": [],
   "source": [
    "import numpy as np \n",
    "from sympy import *\n",
    "t = symbols('t') \n",
    "A = Matrix([[0,0,1],[0,0,-1],[0,1,0]]) \n",
    "r_vec1, r_vec2, r_vec3 = A.eigenvects() \n",
    "r1, r2, r3 = r_vec1[0]/r_vec1[1],  r_vec2[0]/r_vec2[1], r_vec3[0]/r_vec3[1]  \n",
    "vectores = A.eigenvects() \n",
    "v1, v2, v3 = vectores[0][2][0], A.eigenvects()[1][2][0], A.eigenvects()[2][2][0]\n",
    "lambda1, mu1 = re(r1), im(r1)\n",
    "lambda2, mu2 = re(r2), im(r2)\n",
    "lambda3, mu3 = re(r3), im(r3)\n",
    "\n",
    "x_super1_sympy = v1*exp(r1*t)\n",
    "u_sympy = re( v2*exp(lambda2*t)*(cos(mu2*t) + I*sin(mu2*t)) )\n",
    "v_sympy = im( v2*exp(lambda2*t)*(cos(mu2*t) + I*sin(mu2*t)) )\n",
    "display(x_super1_sympy)\n",
    "display(u_sympy)\n",
    "display(v_sympy) "
   ]
  },
  {
   "cell_type": "code",
   "execution_count": null,
   "id": "1d141284",
   "metadata": {},
   "outputs": [],
   "source": [
    "x_sup1 = lambdify(t, v1*exp(r1*t))\n",
    "x_sup2 = lambdify( t, v2*exp(lambda2*t)*(cos(mu2*t) + I*sin(mu2*t)) ) \n",
    "u = lambdify(t, re( v2*exp(lambda2*t)*(cos(mu2*t) + I*sin(mu2*t)) ) ) \n",
    "v = lambdify(t, im( v2*exp(lambda2*t)*(cos(mu2*t) + I*sin(mu2*t)) ) )  \n",
    "c1,c2 = 1,1\n",
    "x = lambda t:c1*x_sup1(t) + c2*u(t) + c3*v(t) "
   ]
  },
  {
   "cell_type": "markdown",
   "id": "2eaa4478",
   "metadata": {},
   "source": [
    "## Gráfica de la solución con matplotlib"
   ]
  },
  {
   "cell_type": "code",
   "execution_count": null,
   "id": "075fc8e4",
   "metadata": {},
   "outputs": [],
   "source": [
    "import numpy as np \n",
    "import matplotlib.pyplot as plt\n",
    "plt.style.use('dark_background')\n",
    "\n",
    "fig,ax = plt.subplots(figsize = (10,8))\n",
    "\n",
    "t = np.linspace(0,10,200)\n",
    "\n",
    "ax.set_title(r\"Soluciones de $x(t)$\")\n",
    "\n",
    "\n",
    "\n",
    "plt.savefig('punto_2.png') \n"
   ]
  },
  {
   "cell_type": "markdown",
   "id": "d23a592e",
   "metadata": {},
   "source": [
    "## Punto 3\n",
    "\n",
    "1. (15 puntos) Muestre que las siguientes funciones son LI \n",
    "\n",
    "$$ x^{(1)} = \\begin{pmatrix} 1 \\\\ -1\\end{pmatrix}e^{-2t}, \\ \\ \\ x^{(2)} = \\begin{pmatrix} 3\\\\5 \\end{pmatrix}e^{6t}  $$\n",
    "\n",
    "2. (10 puntos) Solucione el sistema \n",
    "\n",
    "$$ x' = \\begin{pmatrix}1&3\\\\5&3\\end{pmatrix}x $$\n",
    "\n",
    "No puede omitir ningún paso de solución y de cálculo algoritmicos y debe describir verbalmente su procedimiento y justificar los pasos esenciales. "
   ]
  },
  {
   "cell_type": "markdown",
   "id": "87ccf088",
   "metadata": {},
   "source": [
    "## Solución con sympy "
   ]
  },
  {
   "cell_type": "code",
   "execution_count": null,
   "id": "eceb940b",
   "metadata": {},
   "outputs": [],
   "source": [
    "from sympy import *\n",
    "A = Matrix([[1,3],[5,3]])  \n",
    "r_vec1, r_vec2 = A.eigenvects() \n",
    "r_vec2 "
   ]
  },
  {
   "cell_type": "code",
   "execution_count": null,
   "id": "07dff06b",
   "metadata": {},
   "outputs": [],
   "source": [
    "import numpy as np \n",
    "from sympy import *\n",
    "t = symbols('t') \n",
    "A = Matrix([[1,3],[5,3]]) \n",
    "r_vec1, r_vec2 = A.eigenvects() \n",
    "r1, r2 = r_vec1[0]/r_vec1[1],  r_vec2[0]/r_vec2[1] \n",
    "vectores = A.eigenvects() \n",
    "v1, v2 = vectores[0][2][0], A.eigenvects()[1][2][0]\n",
    "lambda1, mu1 = re(r1), im(r1)\n",
    "lambda2, mu2 = re(r2), im(r2)\n",
    "\n",
    "x_super1_sympy = v1*exp(r1*t)\n",
    "x_super2_sympy = v2*exp(r2*t)\n",
    "\n",
    "display(x_super1_sympy)\n",
    "display(x_super2_sympy) \n"
   ]
  },
  {
   "cell_type": "code",
   "execution_count": null,
   "id": "cd2c4246",
   "metadata": {},
   "outputs": [],
   "source": [
    "x_sup1 = lambdify(t, v1*exp(r1*t))\n",
    "x_sup2 = lambdify(t, v2*exp(r2*t))\n",
    "\n",
    "c1,c2 = 1,1\n",
    "x = lambda t: c1*x_sup1(t) + c2*x_sup2(t)"
   ]
  },
  {
   "cell_type": "markdown",
   "id": "cbca7f3c",
   "metadata": {},
   "source": [
    "## Gráfica de la solución"
   ]
  },
  {
   "cell_type": "code",
   "execution_count": null,
   "id": "6133c15e",
   "metadata": {},
   "outputs": [],
   "source": [
    "import numpy as np \n",
    "import matplotlib.pyplot as plt \n",
    "\n",
    "plt.style.use('dark_background') \n",
    "\n",
    "fig,ax = plt.subplots(figsize = (20,10)) \n",
    "\n",
    "ax.set_title(r\" Solución de $x' = Ax$\")\n",
    "\n",
    "plt.savefig('punto_3.jpg') \n"
   ]
  },
  {
   "cell_type": "code",
   "execution_count": null,
   "id": "0a85d7d4",
   "metadata": {},
   "outputs": [],
   "source": []
  }
 ],
 "metadata": {
  "kernelspec": {
   "display_name": "Python 3",
   "language": "python",
   "name": "python3"
  },
  "language_info": {
   "codemirror_mode": {
    "name": "ipython",
    "version": 3
   },
   "file_extension": ".py",
   "mimetype": "text/x-python",
   "name": "python",
   "nbconvert_exporter": "python",
   "pygments_lexer": "ipython3",
   "version": "3.8.8"
  },
  "latex_envs": {
   "LaTeX_envs_menu_present": true,
   "autoclose": false,
   "autocomplete": false,
   "bibliofile": "biblio.bib",
   "cite_by": "apalike",
   "current_citInitial": 1,
   "eqLabelWithNumbers": true,
   "eqNumInitial": 1,
   "hotkeys": {
    "equation": "Ctrl-E",
    "itemize": "Ctrl-I"
   },
   "labels_anchors": false,
   "latex_user_defs": false,
   "report_style_numbering": false,
   "user_envs_cfg": false
  }
 },
 "nbformat": 4,
 "nbformat_minor": 5
}
