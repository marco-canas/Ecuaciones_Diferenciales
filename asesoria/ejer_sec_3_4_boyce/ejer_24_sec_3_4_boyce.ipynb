{
 "cells": [
  {
   "cell_type": "markdown",
   "id": "7786fa5d",
   "metadata": {
    "slideshow": {
     "slide_type": "slide"
    }
   },
   "source": [
    "<table align=\"left\">\n",
    "  <td>\n",
    "    <a href=\"https://colab.research.google.com/github/marco-canas/innovaciones/blob/main/ref/geron/math_linear_algebra/linear_algebra.ipynb\" target=\"_parent\"><img src=\"https://colab.research.google.com/assets/colab-badge.svg\" alt=\"Open In Colab\"/></a>\n",
    "  </td>\n",
    "  <td>\n",
    "    <a target=\"_blank\" href=\"https://kaggle.com/kernels/welcome?src=https://github.com/marco-canas/innovaciones/blob/main/ref/geron/math_linear_algebra/linear_algebra.ipynb\"><img src=\"https://kaggle.com/static/images/open-in-kaggle.svg\" /></a>\n",
    "  </td>\n",
    "</table>"
   ]
  },
  {
   "cell_type": "markdown",
   "id": "44771afe",
   "metadata": {
    "slideshow": {
     "slide_type": "slide"
    }
   },
   "source": [
    "# Ejercicio 24 de la sección 3.4 del Boyce DiPrima\n",
    "## Deducción de la ecuación de Euler $e^{i\\theta} = \\cos \\theta + i\\sin \\theta$ desde el punto de vista de las ecuaciones diferenciales de segundo orden"
   ]
  },
  {
   "cell_type": "markdown",
   "id": "be4e2565",
   "metadata": {
    "slideshow": {
     "slide_type": "slide"
    }
   },
   "source": [
    "[Video de apoyo]()"
   ]
  },
  {
   "cell_type": "markdown",
   "id": "69363e1d",
   "metadata": {
    "slideshow": {
     "slide_type": "slide"
    }
   },
   "source": [
    "En este problema se bosqueja una solución diferente de la ecuación de Euler "
   ]
  },
  {
   "cell_type": "markdown",
   "id": "130adeec",
   "metadata": {
    "slideshow": {
     "slide_type": "slide"
    }
   },
   "source": [
    "1. Muestre que $y_{1}(x) = \\cos x$ y $y_{2}(x) = \\sin x$ son un conjunto fundamental de soluciones de \n",
    "\n",
    "$$ y'' + y = 0; $$\n",
    "\n",
    "es decir, demuestre que son soluciones y que su wronskiano no es cero. \n"
   ]
  },
  {
   "cell_type": "markdown",
   "id": "76293062",
   "metadata": {
    "slideshow": {
     "slide_type": "slide"
    }
   },
   "source": [
    "2. Verifique que $y = e^{ix}$  también es una solución de $y'' + y = 0$ de donde se infiere que \n",
    "\n",
    "$$e^{ix} = c_{1}\\cos x + c_{2}\\sin x, $$\n",
    "\n",
    "\n",
    "para dos números complejos fijos apropiados $c_{1}$ y $c_{2}$. (Justifique esta última afirmación). \n"
   ]
  },
  {
   "cell_type": "markdown",
   "id": "59292ab3",
   "metadata": {
    "slideshow": {
     "slide_type": "slide"
    }
   },
   "source": [
    "3. Haga $x = 0$ en la ecuación \n",
    "\n",
    "$$e^{ix} = c_{1}\\cos x + c_{2}\\sin x, $$\n",
    "\n",
    "para determinar a $c_{1}$"
   ]
  },
  {
   "cell_type": "markdown",
   "id": "0599ef86",
   "metadata": {
    "slideshow": {
     "slide_type": "slide"
    }
   },
   "source": [
    "4. Derive la ecuación \n",
    "$$e^{ix} = c_{1}\\cos x + c_{2}\\sin x, $$\n",
    "\n",
    "y haga $x = 0$ para así determinar a $c_{2}$. "
   ]
  },
  {
   "cell_type": "markdown",
   "id": "a47acfa9",
   "metadata": {
    "slideshow": {
     "slide_type": "slide"
    }
   },
   "source": [
    "5. Utilice los valores de $c_{1}$ y $c_{2}$ encontrados para construir finalmente la ecuación de Euler. "
   ]
  },
  {
   "cell_type": "markdown",
   "id": "bb687441",
   "metadata": {
    "slideshow": {
     "slide_type": "slide"
    }
   },
   "source": [
    "## Solución: "
   ]
  },
  {
   "cell_type": "markdown",
   "id": "7b267036",
   "metadata": {
    "slideshow": {
     "slide_type": "slide"
    }
   },
   "source": []
  },
  {
   "cell_type": "code",
   "execution_count": null,
   "id": "ee6f3ede",
   "metadata": {
    "slideshow": {
     "slide_type": "slide"
    }
   },
   "outputs": [],
   "source": []
  },
  {
   "cell_type": "code",
   "execution_count": null,
   "id": "4022295e",
   "metadata": {
    "slideshow": {
     "slide_type": "slide"
    }
   },
   "outputs": [],
   "source": []
  },
  {
   "cell_type": "code",
   "execution_count": null,
   "id": "a52b1efd",
   "metadata": {
    "slideshow": {
     "slide_type": "slide"
    }
   },
   "outputs": [],
   "source": []
  },
  {
   "cell_type": "code",
   "execution_count": null,
   "id": "dc126e38",
   "metadata": {
    "slideshow": {
     "slide_type": "slide"
    }
   },
   "outputs": [],
   "source": []
  }
 ],
 "metadata": {
  "celltoolbar": "Slideshow",
  "kernelspec": {
   "display_name": "Python 3",
   "language": "python",
   "name": "python3"
  },
  "language_info": {
   "codemirror_mode": {
    "name": "ipython",
    "version": 3
   },
   "file_extension": ".py",
   "mimetype": "text/x-python",
   "name": "python",
   "nbconvert_exporter": "python",
   "pygments_lexer": "ipython3",
   "version": "3.8.8"
  },
  "latex_envs": {
   "LaTeX_envs_menu_present": true,
   "autoclose": false,
   "autocomplete": false,
   "bibliofile": "biblio.bib",
   "cite_by": "apalike",
   "current_citInitial": 1,
   "eqLabelWithNumbers": true,
   "eqNumInitial": 1,
   "hotkeys": {
    "equation": "Ctrl-E",
    "itemize": "Ctrl-I"
   },
   "labels_anchors": false,
   "latex_user_defs": false,
   "report_style_numbering": false,
   "user_envs_cfg": false
  },
  "nbTranslate": {
   "displayLangs": [
    "*"
   ],
   "hotkey": "alt-t",
   "langInMainMenu": true,
   "sourceLang": "en",
   "targetLang": "es",
   "useGoogleTranslate": true
  },
  "rise": {
   "enable_chalkboard": true,
   "theme": "sky",
   "transition": "zoom"
  }
 },
 "nbformat": 4,
 "nbformat_minor": 5
}
