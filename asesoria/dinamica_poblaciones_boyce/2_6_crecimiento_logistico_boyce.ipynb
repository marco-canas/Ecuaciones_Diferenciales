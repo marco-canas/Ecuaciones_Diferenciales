{
 "cells": [
  {
   "cell_type": "markdown",
   "id": "3d4b64ce",
   "metadata": {},
   "source": [
    "# 2.6 Crecimiento logístico según Boyce"
   ]
  },
  {
   "cell_type": "markdown",
   "id": "c784bbc4",
   "metadata": {},
   "source": [
    "Página 72"
   ]
  },
  {
   "cell_type": "markdown",
   "id": "310e0cd7",
   "metadata": {},
   "source": [
    "Para tomar en cuenta el hecho de que la tasa de crecimiento en realidad depende de la población, en la ecuación \n",
    "\n",
    "$$ \\frac{dN}{dt} = rN $$\n",
    "\n",
    "se reemplaza la constante $r$ por la función $f(N)$, con lo que se obtiene la ecuación modificada\n",
    "\n",
    "\n",
    "$$ \\frac{dN}{dt} = f(N)N $$\n"
   ]
  },
  {
   "cell_type": "markdown",
   "id": "5d6c2627",
   "metadata": {},
   "source": []
  },
  {
   "cell_type": "code",
   "execution_count": null,
   "id": "84fb8bdf",
   "metadata": {},
   "outputs": [],
   "source": []
  },
  {
   "cell_type": "code",
   "execution_count": null,
   "id": "172fd048",
   "metadata": {},
   "outputs": [],
   "source": []
  }
 ],
 "metadata": {
  "kernelspec": {
   "display_name": "Python 3",
   "language": "python",
   "name": "python3"
  },
  "language_info": {
   "codemirror_mode": {
    "name": "ipython",
    "version": 3
   },
   "file_extension": ".py",
   "mimetype": "text/x-python",
   "name": "python",
   "nbconvert_exporter": "python",
   "pygments_lexer": "ipython3",
   "version": "3.8.8"
  },
  "latex_envs": {
   "LaTeX_envs_menu_present": true,
   "autoclose": false,
   "autocomplete": false,
   "bibliofile": "biblio.bib",
   "cite_by": "apalike",
   "current_citInitial": 1,
   "eqLabelWithNumbers": true,
   "eqNumInitial": 1,
   "hotkeys": {
    "equation": "Ctrl-E",
    "itemize": "Ctrl-I"
   },
   "labels_anchors": false,
   "latex_user_defs": false,
   "report_style_numbering": false,
   "user_envs_cfg": false
  }
 },
 "nbformat": 4,
 "nbformat_minor": 5
}
