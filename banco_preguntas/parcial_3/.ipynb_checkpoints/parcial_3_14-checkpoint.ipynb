{
 "cells": [
  {
   "cell_type": "markdown",
   "id": "c7af184e",
   "metadata": {
    "slideshow": {
     "slide_type": "slide"
    }
   },
   "source": [
    "<table align=\"left\">\n",
    "  <td>\n",
    "    <a href=\"https://colab.research.google.com/github/marco-canas/edo/blob/main/banco_preguntas/parcial_3/parcial_3_14.ipynb\" target=\"_parent\"><img src=\"https://colab.research.google.com/assets/colab-badge.svg\" alt=\"Open In Colab\"/></a>\n",
    "  </td>\n",
    "</table>"
   ]
  },
  {
   "cell_type": "markdown",
   "id": "b772456f",
   "metadata": {
    "slideshow": {
     "slide_type": "slide"
    }
   },
   "source": [
    "# Parcial 3.14"
   ]
  },
  {
   "cell_type": "markdown",
   "id": "2c013bb0",
   "metadata": {
    "slideshow": {
     "slide_type": "slide"
    }
   },
   "source": [
    "## Punto 1\n",
    "\n",
    "* **(5 puntos)** clasifique la ED del PVI dado \n",
    "* **(10 puntos)** Considere el problema con valores en la frontera $y'' + \\lambda y = 0$, $y(0) = 0$, $y'(\\pi/2) = 0$.  \n",
    "\n",
    "Analice: ¿es posible determinar valores de $\\lambda$ tal que el problema tenga \n",
    "\n",
    "a) soluciones puramente exponenciales de valor real?,   \n",
    "\n",
    "b) ¿soluciones con componente exponencial y componente trigonométrico?\n",
    "\n",
    "Tome un valor de $\\lambda $ para que la solución sea puramente exponencial y resuelva el PVI. \n",
    "\n",
    "* **(10 puntos)** verifique por sustitución que la solución encontrada es correcta. \n"
   ]
  },
  {
   "cell_type": "markdown",
   "id": "2fbd5ecd",
   "metadata": {
    "slideshow": {
     "slide_type": "slide"
    }
   },
   "source": [
    "## Punto 2\n",
    "\n",
    "* **(5 puntos)** clasifique \n",
    "* **(10 puntos)** obtenga la solución general de la ecuación diferencial de segundo orden dada.\n",
    "* **(10 puntos)** verifique \n",
    "\n",
    "\n",
    "\n",
    "$$ 2y'' + 2y' + y = 0 $$"
   ]
  },
  {
   "cell_type": "markdown",
   "id": "fa053dcc",
   "metadata": {
    "slideshow": {
     "slide_type": "slide"
    }
   },
   "source": [
    "## Punto 3\n",
    "\n",
    "* **(5 puntos)** clasifique la ED del PVI dado. \n",
    "* **(10 puntos)** resuelva el problema con valores iniciales \n",
    "* **(10 puntos)** verifique que la función solución encontrada satisface la ED dada del PVI **y que también satisface las condiciones iniciales** \n",
    "\n",
    "  \n",
    " \n",
    " $$ y'' + y = 0, \\ \\ \\ \\ \\ y\\left( \\frac{\\pi}{3} \\right) = 0, \\ \\ \\ \\ \\ y'\\left( \\frac{\\pi}{3} \\right) = 2  $$\n"
   ]
  },
  {
   "cell_type": "markdown",
   "id": "ef299bc5",
   "metadata": {
    "slideshow": {
     "slide_type": "slide"
    }
   },
   "source": [
    "## Punto 4\n",
    "\n",
    "* **(5 puntos)** clasifique \n",
    "* **(10 puntos)** Encuentre la solución del problema con valor inicial dado\n",
    "* **(5 puntos)** Trace la gráfica de la solución\n",
    "* **(5 puntos)** verifique que la función solución encontrada satisface tanto la ED del PVI como las condiciones iniciales del mismo\n",
    "\n",
    "$$ y'' + y' - 2y = 0, \\ \\ \\ \\ y(0) = 1, \\ \\ \\ \\ y'(0) = 1  $$\n"
   ]
  },
  {
   "cell_type": "markdown",
   "id": "1e7d9318",
   "metadata": {
    "slideshow": {
     "slide_type": "slide"
    }
   },
   "source": []
  },
  {
   "cell_type": "code",
   "execution_count": null,
   "id": "5e766a5f",
   "metadata": {},
   "outputs": [],
   "source": []
  },
  {
   "cell_type": "code",
   "execution_count": null,
   "id": "ae934509",
   "metadata": {},
   "outputs": [],
   "source": []
  },
  {
   "cell_type": "code",
   "execution_count": null,
   "id": "6f59cd55",
   "metadata": {},
   "outputs": [],
   "source": []
  },
  {
   "cell_type": "code",
   "execution_count": null,
   "id": "0a32e914",
   "metadata": {},
   "outputs": [],
   "source": []
  },
  {
   "cell_type": "code",
   "execution_count": null,
   "id": "81525d9c",
   "metadata": {},
   "outputs": [],
   "source": []
  }
 ],
 "metadata": {
  "celltoolbar": "Slideshow",
  "kernelspec": {
   "display_name": "Python 3 (ipykernel)",
   "language": "python",
   "name": "python3"
  },
  "language_info": {
   "codemirror_mode": {
    "name": "ipython",
    "version": 3
   },
   "file_extension": ".py",
   "mimetype": "text/x-python",
   "name": "python",
   "nbconvert_exporter": "python",
   "pygments_lexer": "ipython3",
   "version": "3.9.12"
  }
 },
 "nbformat": 4,
 "nbformat_minor": 5
}
