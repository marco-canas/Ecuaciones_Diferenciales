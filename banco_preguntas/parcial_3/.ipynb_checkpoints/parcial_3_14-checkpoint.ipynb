{
 "cells": [
  {
   "cell_type": "markdown",
   "id": "c7af184e",
   "metadata": {
    "slideshow": {
     "slide_type": "slide"
    }
   },
   "source": [
    "<table align=\"left\">\n",
    "  <td>\n",
    "    <a href=\"https://colab.research.google.com/github/marco-canas/edo/blob/main/banco_preguntas/parcial_3/parcial_3_14.ipynb\" target=\"_parent\"><img src=\"https://colab.research.google.com/assets/colab-badge.svg\" alt=\"Open In Colab\"/></a>\n",
    "  </td>\n",
    "</table>"
   ]
  },
  {
   "cell_type": "markdown",
   "id": "b772456f",
   "metadata": {
    "slideshow": {
     "slide_type": "slide"
    }
   },
   "source": [
    "# Parcial 3.14 Sobre Ecuaciones diferenciales lineales de segundo orden homogéneas de coeficientes constantes"
   ]
  },
  {
   "cell_type": "markdown",
   "id": "2c013bb0",
   "metadata": {
    "slideshow": {
     "slide_type": "slide"
    }
   },
   "source": [
    "## Punto 1\n",
    "\n",
    "* **(5 puntos)** clasifique la ED del PVI dado justificando el proceso de clasificación. \n",
    "* **(10 puntos)** Considere el problema con valores en la iniciales \n",
    "\n",
    "$$ y'' + \\lambda y = 0, \\ \\ \\ \\ \\ y(0) = 0, \\ \\ \\ \\ \\ y'(0) = 0. $$  \n",
    "\n",
    "Analice: ¿es posible determinar valores de $\\lambda$ tal que el problema tenga \n",
    "\n",
    "a) soluciones puramente exponenciales de valor real?,   \n",
    "\n",
    "b) ¿soluciones con componente exponencial y componente trigonométrico?\n",
    "\n",
    "Tome un valor de $\\lambda $ para que la solución sea puramente exponencial y resuelva el PVI. \n",
    "\n",
    "* **(10 puntos)** verifique por sustitución que la solución encontrada es correcta. \n"
   ]
  },
  {
   "cell_type": "markdown",
   "id": "37acc8ee",
   "metadata": {
    "slideshow": {
     "slide_type": "slide"
    }
   },
   "source": [
    "# Solución analítica"
   ]
  },
  {
   "cell_type": "markdown",
   "id": "9c92641c",
   "metadata": {
    "slideshow": {
     "slide_type": "slide"
    }
   },
   "source": [
    "$$ y'' + \\lambda y = 0, \\ \\ \\ \\ \\ y(0) = 0, \\ \\ \\ \\ \\ y'(0) = 0. $$  "
   ]
  },
  {
   "cell_type": "markdown",
   "id": "5f25a702",
   "metadata": {
    "slideshow": {
     "slide_type": "slide"
    }
   },
   "source": [
    "Empecemos realizando la clasificación justificada que nos piden: "
   ]
  },
  {
   "cell_type": "markdown",
   "id": "b0b5e588",
   "metadata": {
    "slideshow": {
     "slide_type": "slide"
    }
   },
   "source": [
    "La ED del PVI es de segundo orden pues la derivada de mayor orden presente en la ecuación es de orden 2. "
   ]
  },
  {
   "cell_type": "markdown",
   "id": "24afb596",
   "metadata": {
    "slideshow": {
     "slide_type": "slide"
    }
   },
   "source": [
    "La ED del PVI es lineal porque todos sus términos son de la forma $a_{i}(x)y^{(i)}$ "
   ]
  },
  {
   "cell_type": "code",
   "execution_count": null,
   "id": "6ffc8ae8",
   "metadata": {},
   "outputs": [],
   "source": []
  },
  {
   "cell_type": "markdown",
   "id": "b5619db4",
   "metadata": {
    "slideshow": {
     "slide_type": "slide"
    }
   },
   "source": [
    "## Solución utilizando calculadora simbólica SymPy"
   ]
  },
  {
   "cell_type": "code",
   "execution_count": 39,
   "id": "9ff5429c",
   "metadata": {
    "slideshow": {
     "slide_type": "slide"
    }
   },
   "outputs": [],
   "source": [
    "from sympy import var, Symbol, Function, Eq, diff, ode_order, classify_ode, solve, discriminant, dsolve, solvers, checkodesol "
   ]
  },
  {
   "cell_type": "code",
   "execution_count": 40,
   "id": "8629b4af",
   "metadata": {
    "slideshow": {
     "slide_type": "slide"
    }
   },
   "outputs": [],
   "source": [
    "lambda_ = Symbol('lambda', real = True)    # declarar el parámetro lambda como contante real. \n",
    "m = Symbol('m', complex = True)\n",
    "x, y = var('x y')    # definir las variables simbólicas "
   ]
  },
  {
   "cell_type": "code",
   "execution_count": 41,
   "id": "b0b17b78",
   "metadata": {
    "slideshow": {
     "slide_type": "slide"
    }
   },
   "outputs": [],
   "source": [
    "y = Function('y')  # establecer la relación funcional entre x y y"
   ]
  },
  {
   "cell_type": "code",
   "execution_count": 42,
   "id": "37572d9a",
   "metadata": {
    "slideshow": {
     "slide_type": "slide"
    }
   },
   "outputs": [
    {
     "data": {
      "text/latex": [
       "$\\displaystyle \\lambda y{\\left(x \\right)} + \\frac{d^{2}}{d x^{2}} y{\\left(x \\right)} = 0$"
      ],
      "text/plain": [
       "Eq(lambda*y(x) + Derivative(y(x), (x, 2)), 0)"
      ]
     },
     "execution_count": 42,
     "metadata": {},
     "output_type": "execute_result"
    }
   ],
   "source": [
    "# y'' + lambda y = 0\n",
    "eq_dif = Eq(diff(y(x),x,2) + lambda_*y(x), 0)\n",
    "eq_dif "
   ]
  },
  {
   "cell_type": "code",
   "execution_count": 43,
   "id": "b19a8f31",
   "metadata": {
    "slideshow": {
     "slide_type": "slide"
    }
   },
   "outputs": [
    {
     "data": {
      "text/latex": [
       "$\\displaystyle \\lambda + m^{2} = 0$"
      ],
      "text/plain": [
       "Eq(lambda + m**2, 0)"
      ]
     },
     "execution_count": 43,
     "metadata": {},
     "output_type": "execute_result"
    }
   ],
   "source": [
    "eq_aux = Eq(m**2 + lambda_, 0)\n",
    "eq_aux "
   ]
  },
  {
   "cell_type": "code",
   "execution_count": 44,
   "id": "a72194fb",
   "metadata": {
    "slideshow": {
     "slide_type": "slide"
    }
   },
   "outputs": [
    {
     "data": {
      "text/plain": [
       "[-sqrt(-lambda), sqrt(-lambda)]"
      ]
     },
     "execution_count": 44,
     "metadata": {},
     "output_type": "execute_result"
    }
   ],
   "source": [
    "solve(eq_aux, m)"
   ]
  },
  {
   "cell_type": "code",
   "execution_count": 45,
   "id": "52eac4a7",
   "metadata": {
    "slideshow": {
     "slide_type": "slide"
    }
   },
   "outputs": [
    {
     "data": {
      "text/latex": [
       "$\\displaystyle - 4 \\lambda$"
      ],
      "text/plain": [
       "-4*lambda"
      ]
     },
     "execution_count": 45,
     "metadata": {},
     "output_type": "execute_result"
    }
   ],
   "source": [
    "discriminant(eq_aux, m)"
   ]
  },
  {
   "cell_type": "code",
   "execution_count": 47,
   "id": "d303dd9e",
   "metadata": {
    "slideshow": {
     "slide_type": "slide"
    }
   },
   "outputs": [
    {
     "data": {
      "text/plain": [
       "2"
      ]
     },
     "execution_count": 47,
     "metadata": {},
     "output_type": "execute_result"
    }
   ],
   "source": [
    "ode_order(eq_dif, y(x))"
   ]
  },
  {
   "cell_type": "code",
   "execution_count": 48,
   "id": "11e84d1c",
   "metadata": {
    "slideshow": {
     "slide_type": "slide"
    }
   },
   "outputs": [
    {
     "data": {
      "text/plain": [
       "('nth_linear_constant_coeff_homogeneous',\n",
       " '2nd_power_series_ordinary',\n",
       " '2nd_nonlinear_autonomous_conserved',\n",
       " '2nd_nonlinear_autonomous_conserved_Integral')"
      ]
     },
     "execution_count": 48,
     "metadata": {},
     "output_type": "execute_result"
    }
   ],
   "source": [
    "classify_ode(eq_dif, y(x))"
   ]
  },
  {
   "cell_type": "code",
   "execution_count": 54,
   "id": "e3174d34",
   "metadata": {
    "slideshow": {
     "slide_type": "slide"
    }
   },
   "outputs": [
    {
     "data": {
      "text/latex": [
       "$\\displaystyle y{\\left(x \\right)} = 0$"
      ],
      "text/plain": [
       "Eq(y(x), 0)"
      ]
     },
     "execution_count": 54,
     "metadata": {},
     "output_type": "execute_result"
    }
   ],
   "source": [
    "eq_sol = dsolve(eq_dif, y(x), hint = 'nth_linear_constant_coeff_homogeneous', ics = {y(0):0, y(x).diff(x).subs(x,0):0} ) \n",
    "eq_sol "
   ]
  },
  {
   "cell_type": "markdown",
   "id": "55d44f4b",
   "metadata": {
    "slideshow": {
     "slide_type": "slide"
    }
   },
   "source": [
    "## Gráfica de la solución general de la ED "
   ]
  },
  {
   "cell_type": "code",
   "execution_count": null,
   "id": "29f10bfb",
   "metadata": {},
   "outputs": [],
   "source": []
  },
  {
   "cell_type": "markdown",
   "id": "e0d4079f",
   "metadata": {},
   "source": [
    "## Observaciones e inferencias del gráfico animado"
   ]
  },
  {
   "cell_type": "markdown",
   "id": "73ea3350",
   "metadata": {},
   "source": [
    "## Gráfica de la solución del PVI"
   ]
  },
  {
   "cell_type": "code",
   "execution_count": null,
   "id": "e17d6640",
   "metadata": {
    "slideshow": {
     "slide_type": "slide"
    }
   },
   "outputs": [],
   "source": []
  },
  {
   "cell_type": "markdown",
   "id": "f38db84b",
   "metadata": {
    "slideshow": {
     "slide_type": "slide"
    }
   },
   "source": [
    "## Observaciones del Gráfico de la función solución del PVI"
   ]
  },
  {
   "cell_type": "markdown",
   "id": "2fbd5ecd",
   "metadata": {
    "slideshow": {
     "slide_type": "slide"
    }
   },
   "source": [
    "## Punto 2\n",
    "\n",
    "* **(10 puntos)** clasifique justificando cada una de las clases a las que afirme que la ED pertenece. \n",
    "* **(15 puntos)** obtenga la solución general de la ecuación diferencial de segundo orden dada.\n",
    "* **(Opcional)** verifique \n",
    "\n",
    "\n",
    "\n",
    "$$ 2y'' + 2y' + y = 0 $$"
   ]
  },
  {
   "cell_type": "markdown",
   "id": "10e2ec74",
   "metadata": {
    "slideshow": {
     "slide_type": "slide"
    }
   },
   "source": [
    "## Clasifica justificando cada clase a la que afirme que la ED pertenece. "
   ]
  },
  {
   "cell_type": "markdown",
   "id": "b125034e",
   "metadata": {
    "slideshow": {
     "slide_type": "slide"
    }
   },
   "source": [
    "La ecuación dada tiene la forma general \n",
    "\n",
    "$$ ay'' + by' + cy = 0 $$\n",
    "\n",
    "lo que la hace de segundo orden lineal de coeficientes constantes homogénea\n"
   ]
  },
  {
   "cell_type": "markdown",
   "id": "458fa485",
   "metadata": {
    "slideshow": {
     "slide_type": "slide"
    }
   },
   "source": [
    "## Resuelva de manera analítica la ED dada"
   ]
  },
  {
   "cell_type": "markdown",
   "id": "31e212e5",
   "metadata": {
    "slideshow": {
     "slide_type": "slide"
    }
   },
   "source": []
  },
  {
   "cell_type": "code",
   "execution_count": 24,
   "id": "9fcdc5da",
   "metadata": {
    "slideshow": {
     "slide_type": "slide"
    }
   },
   "outputs": [],
   "source": [
    "from sympy import var, Function, Eq, ode_order, classify_ode, dsolve"
   ]
  },
  {
   "cell_type": "code",
   "execution_count": 30,
   "id": "a266fd0c",
   "metadata": {
    "slideshow": {
     "slide_type": "slide"
    }
   },
   "outputs": [],
   "source": [
    "x,y = var('x y') "
   ]
  },
  {
   "cell_type": "code",
   "execution_count": 31,
   "id": "0d9fb528",
   "metadata": {
    "slideshow": {
     "slide_type": "slide"
    }
   },
   "outputs": [],
   "source": [
    "y = Function('y')"
   ]
  },
  {
   "cell_type": "code",
   "execution_count": 32,
   "id": "06b124aa",
   "metadata": {
    "slideshow": {
     "slide_type": "slide"
    }
   },
   "outputs": [
    {
     "data": {
      "text/latex": [
       "$\\displaystyle y{\\left(x \\right)} + 2 \\frac{d}{d x} y{\\left(x \\right)} + 2 \\frac{d^{2}}{d x^{2}} y{\\left(x \\right)} = 0$"
      ],
      "text/plain": [
       "Eq(y(x) + 2*Derivative(y(x), x) + 2*Derivative(y(x), (x, 2)), 0)"
      ]
     },
     "execution_count": 32,
     "metadata": {},
     "output_type": "execute_result"
    }
   ],
   "source": [
    "# $$ 2y'' + 2y' + y = 0 $$\n",
    "eq_dif = Eq(2*diff(y(x),x,2) + 2*diff(y(x),x) + y(x), 0)\n",
    "eq_dif "
   ]
  },
  {
   "cell_type": "code",
   "execution_count": 38,
   "id": "b37100cd",
   "metadata": {
    "slideshow": {
     "slide_type": "slide"
    }
   },
   "outputs": [
    {
     "data": {
      "text/latex": [
       "$\\displaystyle y{\\left(x \\right)} = \\left(5 \\sin{\\left(\\frac{x}{2} \\right)} + 5 \\cos{\\left(\\frac{x}{2} \\right)}\\right) e^{- \\frac{x}{2}}$"
      ],
      "text/plain": [
       "Eq(y(x), (5*sin(x/2) + 5*cos(x/2))*exp(-x/2))"
      ]
     },
     "execution_count": 38,
     "metadata": {},
     "output_type": "execute_result"
    }
   ],
   "source": [
    "edo_sol = dsolve(eq_dif, y(x))\n",
    "edo_sol "
   ]
  },
  {
   "cell_type": "code",
   "execution_count": 35,
   "id": "93fb953e",
   "metadata": {
    "slideshow": {
     "slide_type": "slide"
    }
   },
   "outputs": [
    {
     "data": {
      "text/latex": [
       "$\\displaystyle y{\\left(0 \\right)}$"
      ],
      "text/plain": [
       "y(0)"
      ]
     },
     "execution_count": 35,
     "metadata": {},
     "output_type": "execute_result"
    }
   ],
   "source": [
    "y(0)"
   ]
  },
  {
   "cell_type": "code",
   "execution_count": 37,
   "id": "fb1d6863",
   "metadata": {
    "slideshow": {
     "slide_type": "slide"
    }
   },
   "outputs": [
    {
     "data": {
      "text/latex": [
       "$\\displaystyle 5 = C_{2}$"
      ],
      "text/plain": [
       "Eq(5, C2)"
      ]
     },
     "execution_count": 37,
     "metadata": {},
     "output_type": "execute_result"
    }
   ],
   "source": [
    "ics = {y(0):5, y(x).diff(x).subs(x,0):0}\n",
    "c_eq = Eq(edo_sol.lhs.subs({x:0}).subs(ics), edo_sol.rhs.subs({x:0}))\n",
    "c_eq "
   ]
  },
  {
   "cell_type": "code",
   "execution_count": null,
   "id": "2e952e1a",
   "metadata": {},
   "outputs": [],
   "source": []
  },
  {
   "cell_type": "markdown",
   "id": "fa053dcc",
   "metadata": {
    "slideshow": {
     "slide_type": "slide"
    }
   },
   "source": [
    "## Punto 3\n",
    "\n",
    "* **(5 puntos)** clasifique la ED del PVI dado. \n",
    "* **(10 puntos)** resuelva el problema con valores iniciales \n",
    "* **(10 puntos)** verifique que la función solución encontrada satisface la ED dada del PVI **y que también satisface las condiciones iniciales** \n",
    "\n",
    "  \n",
    " \n",
    " $$ y'' + y = 0, \\ \\ \\ \\ \\ y\\left( \\frac{\\pi}{3} \\right) = 0, \\ \\ \\ \\ \\ y'\\left( \\frac{\\pi}{3} \\right) = 2  $$\n"
   ]
  },
  {
   "cell_type": "markdown",
   "id": "d1491a39",
   "metadata": {
    "slideshow": {
     "slide_type": "slide"
    }
   },
   "source": [
    "## Solución del PVI con Sympy"
   ]
  },
  {
   "cell_type": "code",
   "execution_count": 7,
   "id": "e53213f5",
   "metadata": {
    "slideshow": {
     "slide_type": "slide"
    }
   },
   "outputs": [],
   "source": [
    "from sympy import var, Eq, Function, diff, dsolve, pi"
   ]
  },
  {
   "cell_type": "code",
   "execution_count": 6,
   "id": "14b47f4a",
   "metadata": {
    "slideshow": {
     "slide_type": "slide"
    }
   },
   "outputs": [],
   "source": [
    "x,y = var('x y')\n",
    "y = Function('y') \n",
    "\n",
    "e_dif = Eq(diff(y(x), x, 2) + y(x), 0)\n",
    "sol_gen = dsolve(e_dif, y(x)) "
   ]
  },
  {
   "cell_type": "code",
   "execution_count": 16,
   "id": "45021385",
   "metadata": {
    "slideshow": {
     "slide_type": "slide"
    }
   },
   "outputs": [],
   "source": [
    "ics = {\n",
    "    sol_gen.lhs.subs(x,pi/3):0,\n",
    "    diff(y(x),x).subs(x,pi/3):2\n",
    "}"
   ]
  },
  {
   "cell_type": "code",
   "execution_count": 18,
   "id": "c6e3cca2",
   "metadata": {
    "scrolled": false,
    "slideshow": {
     "slide_type": "slide"
    }
   },
   "outputs": [
    {
     "data": {
      "text/latex": [
       "$\\displaystyle y{\\left(x \\right)} = \\sin{\\left(x \\right)} - \\sqrt{3} \\cos{\\left(x \\right)}$"
      ],
      "text/plain": [
       "Eq(y(x), sin(x) - sqrt(3)*cos(x))"
      ]
     },
     "execution_count": 18,
     "metadata": {},
     "output_type": "execute_result"
    }
   ],
   "source": [
    "sol_pvi = dsolve(e_dif, y(x), ics = ics) \n",
    "sol_pvi"
   ]
  },
  {
   "cell_type": "code",
   "execution_count": 20,
   "id": "4359172f",
   "metadata": {},
   "outputs": [],
   "source": [
    "def sol_pvi_python(x):\n",
    "    return np.sin(x) - np.sqrt(3)*np.cos(x) "
   ]
  },
  {
   "cell_type": "markdown",
   "id": "578bd92b",
   "metadata": {
    "slideshow": {
     "slide_type": "slide"
    }
   },
   "source": [
    "## Gráfica de la solución general con Matplotlib"
   ]
  },
  {
   "cell_type": "code",
   "execution_count": 23,
   "id": "9da37dbd",
   "metadata": {
    "slideshow": {
     "slide_type": "slide"
    }
   },
   "outputs": [
    {
     "data": {
      "image/png": "[encoded data removed]",
      "text/plain": [
       "<Figure size 432x288 with 1 Axes>"
      ]
     },
     "metadata": {
      "needs_background": "light"
     },
     "output_type": "display_data"
    }
   ],
   "source": [
    "import numpy as np \n",
    "import matplotlib.pyplot as plt \n",
    "\n",
    "X = np.linspace(-2*np.pi, 2*np.pi, 200) \n",
    "Y = [sol_pvi_python(x) for x in X]\n",
    "fig, ax = plt.subplots()\n",
    "\n",
    "ax.plot(X,Y)\n",
    "ax.grid(alpha = 0.6) \n"
   ]
  },
  {
   "cell_type": "code",
   "execution_count": null,
   "id": "f0dda047",
   "metadata": {},
   "outputs": [],
   "source": []
  },
  {
   "cell_type": "code",
   "execution_count": null,
   "id": "5baf0bc1",
   "metadata": {},
   "outputs": [],
   "source": []
  },
  {
   "cell_type": "markdown",
   "id": "ef299bc5",
   "metadata": {
    "slideshow": {
     "slide_type": "slide"
    }
   },
   "source": [
    "## Punto 4\n",
    "\n",
    "* **(5 puntos)** clasifique \n",
    "* **(10 puntos)** Encuentre la solución del problema con valor inicial dado\n",
    "* **(5 puntos)** Trace la gráfica de la solución\n",
    "* **(5 puntos)** verifique que la función solución encontrada satisface tanto la ED del PVI como las condiciones iniciales del mismo\n",
    "\n",
    "$$ y'' + y' - 2y = 0, \\ \\ \\ \\ y(0) = 1, \\ \\ \\ \\ y'(0) = 1  $$\n"
   ]
  },
  {
   "cell_type": "markdown",
   "id": "1e7d9318",
   "metadata": {
    "slideshow": {
     "slide_type": "slide"
    }
   },
   "source": []
  },
  {
   "cell_type": "code",
   "execution_count": null,
   "id": "5e766a5f",
   "metadata": {},
   "outputs": [],
   "source": []
  },
  {
   "cell_type": "code",
   "execution_count": null,
   "id": "ae934509",
   "metadata": {},
   "outputs": [],
   "source": []
  },
  {
   "cell_type": "code",
   "execution_count": null,
   "id": "6f59cd55",
   "metadata": {
    "slideshow": {
     "slide_type": "slide"
    }
   },
   "outputs": [],
   "source": []
  },
  {
   "cell_type": "code",
   "execution_count": null,
   "id": "0a32e914",
   "metadata": {
    "slideshow": {
     "slide_type": "slide"
    }
   },
   "outputs": [],
   "source": []
  },
  {
   "cell_type": "markdown",
   "id": "103a37d5",
   "metadata": {
    "slideshow": {
     "slide_type": "slide"
    }
   },
   "source": [
    "## Referencias  \n",
    "\n",
    "* Solución de un PVI con sympy: https://relopezbriega.github.io/blog/2016/01/10/ecuaciones-diferenciales-con-python/"
   ]
  },
  {
   "cell_type": "code",
   "execution_count": null,
   "id": "020707d9",
   "metadata": {},
   "outputs": [],
   "source": []
  }
 ],
 "metadata": {
  "celltoolbar": "Slideshow",
  "kernelspec": {
   "display_name": "Python 3 (ipykernel)",
   "language": "python",
   "name": "python3"
  },
  "language_info": {
   "codemirror_mode": {
    "name": "ipython",
    "version": 3
   },
   "file_extension": ".py",
   "mimetype": "text/x-python",
   "name": "python",
   "nbconvert_exporter": "python",
   "pygments_lexer": "ipython3",
   "version": "3.9.12"
  }
 },
 "nbformat": 4,
 "nbformat_minor": 5
}
