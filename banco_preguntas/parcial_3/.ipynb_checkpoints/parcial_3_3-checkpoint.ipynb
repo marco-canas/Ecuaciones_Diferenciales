{
 "cells": [
  {
   "cell_type": "markdown",
   "id": "1c37bec0",
   "metadata": {
    "slideshow": {
     "slide_type": "slide"
    }
   },
   "source": [
    "# Parcial 3_3"
   ]
  },
  {
   "cell_type": "markdown",
   "id": "880656c9",
   "metadata": {
    "slideshow": {
     "slide_type": "slide"
    }
   },
   "source": [
    "## Punto 1"
   ]
  },
  {
   "cell_type": "markdown",
   "id": "eb464106",
   "metadata": {
    "slideshow": {
     "slide_type": "slide"
    }
   },
   "source": [
    "1. **(15 puntos) Resuelva el problema con valores iniciales:**\n",
    "\n",
    "$$ x' = \\begin{pmatrix} 1&1 &4 \\\\ 0& 2& 0 \\\\ 1& 1& 1 \\end{pmatrix}x, \\ \\ x(0) = \\begin{pmatrix}1 \\\\3 \\\\0 \\end{pmatrix} $$\n",
    "\n",
    "No omita ninguno de los pasos de solución o verificación describiendo y justificando verbalmente para cada caso necesario. \n",
    "\n",
    "2. **(10 puntos) Verifique**\n",
    "\n",
    "No omita ninguno de los pasos de solución o verificación describiendo y justificando verbalmente para cada caso necesario. "
   ]
  },
  {
   "cell_type": "code",
   "execution_count": 4,
   "id": "25a1ee30",
   "metadata": {
    "slideshow": {
     "slide_type": "slide"
    }
   },
   "outputs": [
    {
     "data": {
      "text/plain": [
       "(3,\n",
       " 1,\n",
       " [Matrix([\n",
       "  [2],\n",
       "  [0],\n",
       "  [1]])])"
      ]
     },
     "execution_count": 4,
     "metadata": {},
     "output_type": "execute_result"
    }
   ],
   "source": [
    "from sympy import *\n",
    "A = Matrix([[1,1,4],[0,2,0],[1,1,1]]) \n",
    "r_vec1, r_vec2, r_vec3 = A.eigenvects() \n",
    "r_vec3 "
   ]
  },
  {
   "cell_type": "code",
   "execution_count": 7,
   "id": "45aacde2",
   "metadata": {
    "slideshow": {
     "slide_type": "slide"
    }
   },
   "outputs": [
    {
     "data": {
      "text/plain": [
       "array([[ 0.5],\n",
       "       [-1.5],\n",
       "       [ 2. ]])"
      ]
     },
     "execution_count": 7,
     "metadata": {},
     "output_type": "execute_result"
    }
   ],
   "source": [
    "import numpy as np \n",
    "from sympy import *\n",
    "t = symbols('t') \n",
    "A = Matrix([[1,1,4],[0,2,0],[1,1,1]])  \n",
    "r1,r2,r3 = A.eigenvals().keys()  # obtendrás un diccionario \n",
    "v1,v2,v3 = A.eigenvects()[0][2][0],A.eigenvects()[1][2][0],A.eigenvects()[2][2][0] \n",
    "lambda1, mu1 = re(r1),im(r1)\n",
    "lambda2, mu2 = re(r2),re(r2)\n",
    "lambda3, mu3 = re(r3),im(r3) \n",
    "x_sup1 = lambdify(t,v1*(exp(lambda1*t)*cos(mu1*t) + 1*I*sin(mu1*t))) \n",
    "u = lambdify(t,re(v2*(exp(lambda2*t)*cos(mu2*t) + 1*I*sin(mu2*t)))) \n",
    "v = lambdify(t,im(v2*(exp(lambda2*t)*cos(mu2*t) + 1*I*sin(mu2*t))))  \n",
    "c1,c2,c3 = 1,1,1\n",
    "x = lambda t:c1*x_sup1(t) + c2*u(t) + c3*v(t) \n",
    "x(0) "
   ]
  },
  {
   "cell_type": "markdown",
   "id": "d9354543",
   "metadata": {
    "slideshow": {
     "slide_type": "slide"
    }
   },
   "source": [
    "## Punto 2"
   ]
  },
  {
   "cell_type": "markdown",
   "id": "25a6f2c9",
   "metadata": {
    "slideshow": {
     "slide_type": "slide"
    }
   },
   "source": [
    "Resuelva el problema con valores iniciales:\n",
    "\n",
    "$$ \\begin{pmatrix} \\frac{1}{2} & 0 \\\\ 1 & - \\frac{1}{2}  \\end{pmatrix}, \\ \\ x(0) = \\begin{pmatrix} 3 \\\\ 5 \\end{pmatrix} $$\n",
    "\n",
    "2. Verifique la solución encontrada por sustitución directa. "
   ]
  },
  {
   "cell_type": "code",
   "execution_count": 1,
   "id": "3e7464bd",
   "metadata": {
    "slideshow": {
     "slide_type": "slide"
    }
   },
   "outputs": [
    {
     "data": {
      "text/plain": [
       "(0.500000000000000,\n",
       " 1,\n",
       " [Matrix([\n",
       "  [0.707106781186548],\n",
       "  [0.707106781186548]])])"
      ]
     },
     "execution_count": 1,
     "metadata": {},
     "output_type": "execute_result"
    }
   ],
   "source": [
    "from sympy import *\n",
    "A = Matrix([[1/2,0],[1,-1/2]])\n",
    "r_vec1, r_vec2 = A.eigenvects() \n",
    "r_vec1 "
   ]
  },
  {
   "cell_type": "code",
   "execution_count": 1,
   "id": "86736217",
   "metadata": {
    "slideshow": {
     "slide_type": "slide"
    }
   },
   "outputs": [
    {
     "data": {
      "text/plain": [
       "(array([-0.5,  0.5]),\n",
       " array([[0.        , 0.70710678],\n",
       "        [1.        , 0.70710678]]))"
      ]
     },
     "execution_count": 1,
     "metadata": {},
     "output_type": "execute_result"
    }
   ],
   "source": [
    "import numpy as np \n",
    "from sympy import *\n",
    "t = symbols('t') \n",
    "A = Matrix([[1,1,4],[0,2,0],[1,1,1]])  \n",
    "r1,r2,r3 = A.eigenvals().keys()  # obtendrás un diccionario \n",
    "v1,v2,v3 = A.eigenvects()[0][2][0],A.eigenvects()[1][2][0],A.eigenvects()[2][2][0] \n",
    "lambda1, mu1 = re(r1),im(r1)\n",
    "lambda2, mu2 = re(r2),re(r2)\n",
    "lambda3, mu3 = re(r3),im(r3) \n",
    "x_sup1 = lambdify(t,v1*(exp(lambda1*t)*cos(mu1*t) + 1*I*sin(mu1*t))) \n",
    "u = lambdify(t,re(v2*(exp(lambda2*t)*cos(mu2*t) + 1*I*sin(mu2*t)))) \n",
    "v = lambdify(t,im(v2*(exp(lambda2*t)*cos(mu2*t) + 1*I*sin(mu2*t))))  \n",
    "c1,c2,c3 = 1,1,1\n",
    "x = lambda t:c1*x_sup1(t) + c2*u(t) + c3*v(t) \n",
    "x(0) "
   ]
  },
  {
   "cell_type": "markdown",
   "id": "8b447470",
   "metadata": {
    "slideshow": {
     "slide_type": "slide"
    }
   },
   "source": [
    "## Punto 3"
   ]
  },
  {
   "cell_type": "markdown",
   "id": "939f39f2",
   "metadata": {
    "slideshow": {
     "slide_type": "slide"
    }
   },
   "source": [
    "1. Determine la solución general del sistema dado:\n",
    "\n",
    "$$ x' = \\begin{pmatrix}-1 &4 &2 \\\\4 &-1 &-2  \\\\0 &0 &6  \\end{pmatrix}x $$\n",
    "\n",
    "2. Verifique la solución encontrada por sustitución directa. \n",
    "\n",
    "No omitir ninguno de los pasos de solución. \n",
    "\n",
    "Incluir las descripciones verbales y las justificaciones de los procedimientos que aplique. \n"
   ]
  },
  {
   "cell_type": "code",
   "execution_count": 3,
   "id": "ab0fd73e",
   "metadata": {
    "slideshow": {
     "slide_type": "slide"
    }
   },
   "outputs": [
    {
     "data": {
      "text/plain": [
       "(array([ 3., -5.,  6.]),\n",
       " array([[ 0.70710678, -0.70710678,  0.17609018],\n",
       "        [ 0.70710678,  0.70710678, -0.17609018],\n",
       "        [ 0.        ,  0.        ,  0.968496  ]]))"
      ]
     },
     "execution_count": 3,
     "metadata": {},
     "output_type": "execute_result"
    }
   ],
   "source": [
    "import numpy as np \n",
    "A = np.array([[-1,4,2],[4,-1,-2],[0,0,6]]) \n",
    "np.linalg.eig(A) "
   ]
  },
  {
   "cell_type": "code",
   "execution_count": null,
   "id": "a5346442",
   "metadata": {
    "slideshow": {
     "slide_type": "slide"
    }
   },
   "outputs": [],
   "source": [
    "from sympy import *\n",
    "A = Matrix(A)\n",
    "A.eigenvects()           "
   ]
  },
  {
   "cell_type": "markdown",
   "id": "e8c6512f",
   "metadata": {
    "slideshow": {
     "slide_type": "slide"
    }
   },
   "source": [
    "## Punto 4"
   ]
  },
  {
   "cell_type": "markdown",
   "id": "61576b9f",
   "metadata": {
    "slideshow": {
     "slide_type": "slide"
    }
   },
   "source": [
    "**Presentación oral**  "
   ]
  },
  {
   "cell_type": "markdown",
   "id": "91e6138e",
   "metadata": {
    "slideshow": {
     "slide_type": "slide"
    }
   },
   "source": [
    "$$ x' = \\begin{pmatrix} & & \\\\ & &  \\\\ & &  \\end{pmatrix}x, \\ \\ \\ \\ x(0) = \\begin{pmatrix} \\\\ \\\\ \\end{pmatrix} $$"
   ]
  },
  {
   "cell_type": "code",
   "execution_count": null,
   "id": "f74f7c82",
   "metadata": {},
   "outputs": [],
   "source": [
    "import numpy as np \n",
    "A = np.array([[],[]])\n",
    "np.linalg(A)"
   ]
  },
  {
   "cell_type": "code",
   "execution_count": null,
   "id": "ff88912f",
   "metadata": {},
   "outputs": [],
   "source": [
    "from sympy import *\n",
    "A = Matrix(A) \n",
    "A.eigenvects()           "
   ]
  }
 ],
 "metadata": {
  "celltoolbar": "Slideshow",
  "kernelspec": {
   "display_name": "Python 3",
   "language": "python",
   "name": "python3"
  },
  "language_info": {
   "codemirror_mode": {
    "name": "ipython",
    "version": 3
   },
   "file_extension": ".py",
   "mimetype": "text/x-python",
   "name": "python",
   "nbconvert_exporter": "python",
   "pygments_lexer": "ipython3",
   "version": "3.8.8"
  },
  "latex_envs": {
   "LaTeX_envs_menu_present": true,
   "autoclose": false,
   "autocomplete": false,
   "bibliofile": "biblio.bib",
   "cite_by": "apalike",
   "current_citInitial": 1,
   "eqLabelWithNumbers": true,
   "eqNumInitial": 1,
   "hotkeys": {
    "equation": "Ctrl-E",
    "itemize": "Ctrl-I"
   },
   "labels_anchors": false,
   "latex_user_defs": false,
   "report_style_numbering": false,
   "user_envs_cfg": false
  },
  "rise": {
   "enable_chalkboard": true,
   "theme": "sky",
   "transition": "sky"
  }
 },
 "nbformat": 4,
 "nbformat_minor": 5
}
