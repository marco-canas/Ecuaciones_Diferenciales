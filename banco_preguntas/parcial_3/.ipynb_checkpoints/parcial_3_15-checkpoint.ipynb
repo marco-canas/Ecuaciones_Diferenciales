{
 "cells": [
  {
   "cell_type": "markdown",
   "id": "d08a3062",
   "metadata": {},
   "source": [
    "<table align=\"left\">\n",
    "  <td>\n",
    "    <a href=\"https://colab.research.google.com/github/marco-canas/edo/blob/main/banco_preguntas/parcial_3/parcial_3_15.ipynb\" target=\"_parent\"><img src=\"https://colab.research.google.com/assets/colab-badge.svg\" alt=\"Open In Colab\"/></a>\n",
    "  </td>\n",
    "</table>"
   ]
  },
  {
   "cell_type": "markdown",
   "id": "2c13088d",
   "metadata": {},
   "source": [
    "# Parcial 3 sobre ecuaciones diferenciales lineales de segundo orden homogéneas de coeficientes constantes"
   ]
  },
  {
   "cell_type": "markdown",
   "id": "9fbea46a",
   "metadata": {},
   "source": [
    "## Punto 1\n",
    "\n",
    "* **(5 puntos)** clasifique la ED del PVI justificando  cada paso del proceso de clasificación. \n",
    "\n",
    "* **(10 puntos)** Considere el problema con valores en la iniciales \n",
    "\n",
    "$$ y'' + \\lambda y = 0, \\ \\ \\ \\ \\ y(0) = 1, \\ \\ \\ \\ \\ y'(0) = 0. $$  \n",
    "\n",
    "Analice: ¿es posible determinar valores de $\\lambda$ tal que el problema tenga \n",
    "\n",
    "a) soluciones puramente exponenciales de valor real?,   \n",
    "\n",
    "b) ¿soluciones con componente puramente trigonométrico?\n",
    "\n",
    "c) Determine si es posible encontrar valores reales de $\\lambda$ para que la ED del PVI tenga soluciones con componente exponencial y componente trigonométrica. \n",
    "\n",
    "Tome un valor de $\\lambda $ para que la solución sea puramente trigonométrica y resuelva el PVI. \n",
    "\n",
    "* **(10 puntos)** verifique por sustitución que la solución encontrada es correcta. \n"
   ]
  },
  {
   "cell_type": "markdown",
   "id": "f78ddb85",
   "metadata": {},
   "source": [
    "## Punto 2\n",
    "\n",
    "* **(10 puntos)** clasifique justificando cada una de las clases a las que afirme que la ED pertenece. \n",
    "* **(15 puntos)** obtenga la solución general de la ecuación diferencial de segundo orden dada. \n",
    "\n",
    "\n",
    "\n",
    "$$ 2y'' + 2y' + y = 0 $$"
   ]
  },
  {
   "cell_type": "markdown",
   "id": "70fce2e4",
   "metadata": {},
   "source": [
    "## Punto 3\n",
    "\n",
    "* **(5 puntos)** clasifique la ED del PVI dado. \n",
    "* **(10 puntos)** resuelva el problema con valores iniciales \n",
    "* **(10 puntos)** verifique que la función solución encontrada satisface la ED dada del PVI **y que también satisface las condiciones iniciales** \n",
    "\n",
    "  \n",
    " \n",
    " $$ y'' + y = 0, \\ \\ \\ \\ \\ y\\left( \\frac{\\pi}{3} \\right) = 0, \\ \\ \\ \\ \\ y'\\left( \\frac{\\pi}{3} \\right) = 2  $$\n"
   ]
  },
  {
   "cell_type": "markdown",
   "id": "b701a394",
   "metadata": {},
   "source": [
    "## Punto 4\n",
    "\n",
    "* **(5 puntos)** clasifique \n",
    "* **(10 puntos)** Encuentre la solución del problema con valor inicial dado\n",
    "* **(5 puntos)** Trace la gráfica de la solución\n",
    "* **(5 puntos)** verifique que la función solución encontrada satisface tanto la ED del PVI como las condiciones iniciales del mismo\n",
    "\n",
    "$$ y'' + y' - 2y = 0, \\ \\ \\ \\ y(0) = 1, \\ \\ \\ \\ y'(0) = 1  $$\n"
   ]
  },
  {
   "cell_type": "code",
   "execution_count": null,
   "id": "c9eaf755",
   "metadata": {},
   "outputs": [],
   "source": []
  },
  {
   "cell_type": "code",
   "execution_count": null,
   "id": "c746825c",
   "metadata": {},
   "outputs": [],
   "source": []
  },
  {
   "cell_type": "code",
   "execution_count": null,
   "id": "e78547da",
   "metadata": {},
   "outputs": [],
   "source": []
  },
  {
   "cell_type": "code",
   "execution_count": null,
   "id": "01085836",
   "metadata": {},
   "outputs": [],
   "source": []
  },
  {
   "cell_type": "code",
   "execution_count": null,
   "id": "e9010cfa",
   "metadata": {},
   "outputs": [],
   "source": []
  },
  {
   "cell_type": "code",
   "execution_count": null,
   "id": "58b48674",
   "metadata": {},
   "outputs": [],
   "source": []
  },
  {
   "cell_type": "code",
   "execution_count": null,
   "id": "c698437f",
   "metadata": {},
   "outputs": [],
   "source": []
  }
 ],
 "metadata": {
  "kernelspec": {
   "display_name": "Python 3 (ipykernel)",
   "language": "python",
   "name": "python3"
  },
  "language_info": {
   "codemirror_mode": {
    "name": "ipython",
    "version": 3
   },
   "file_extension": ".py",
   "mimetype": "text/x-python",
   "name": "python",
   "nbconvert_exporter": "python",
   "pygments_lexer": "ipython3",
   "version": "3.9.12"
  }
 },
 "nbformat": 4,
 "nbformat_minor": 5
}
