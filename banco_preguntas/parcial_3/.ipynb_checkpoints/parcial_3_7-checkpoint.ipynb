{
 "cells": [
  {
   "cell_type": "markdown",
   "id": "1e813828",
   "metadata": {},
   "source": [
    "# Parcial 3_7"
   ]
  },
  {
   "cell_type": "markdown",
   "id": "2f02d025",
   "metadata": {},
   "source": [
    "## Punto 1\n",
    "\n",
    "1. (15 puntos) Encontrar la solución  \n",
    "\n",
    "$$ x' = \\begin{pmatrix}1&3\\\\5&3\\end{pmatrix}x $$\n",
    "\n",
    "2. (10 puntos) Verifique \n",
    "\n",
    "No puede omitir ningún paso de solución y de cálculo algoritmicos y debe describir verbalmente su procedimiento y justificar los pasos esenciales. "
   ]
  },
  {
   "cell_type": "code",
   "execution_count": 5,
   "id": "6d199a03",
   "metadata": {},
   "outputs": [
    {
     "data": {
      "text/plain": [
       "(array([-2.,  6.]),\n",
       " array([[-0.70710678, -0.51449576],\n",
       "        [ 0.70710678, -0.85749293]]))"
      ]
     },
     "execution_count": 5,
     "metadata": {},
     "output_type": "execute_result"
    }
   ],
   "source": [
    "import numpy as np \n",
    "A = np.array([[1,3],[5,3]]) \n",
    "np.linalg.eig(A)"
   ]
  },
  {
   "cell_type": "code",
   "execution_count": 8,
   "id": "9a8677aa",
   "metadata": {},
   "outputs": [
    {
     "data": {
      "text/plain": [
       "[(-2,\n",
       "  1,\n",
       "  [Matrix([\n",
       "   [-1],\n",
       "   [ 1]])]),\n",
       " (6,\n",
       "  1,\n",
       "  [Matrix([\n",
       "   [3/5],\n",
       "   [  1]])])]"
      ]
     },
     "execution_count": 8,
     "metadata": {},
     "output_type": "execute_result"
    }
   ],
   "source": [
    "from sympy import *\n",
    "A = Matrix(A)\n",
    "A.eigenvals() \n",
    "A.eigenvects() "
   ]
  },
  {
   "cell_type": "markdown",
   "id": "3ae2f3bc",
   "metadata": {},
   "source": [
    "## Punto 2\n",
    "\n",
    "1. (15 puntos) Encontrar la solución  \n",
    "\n",
    "$$ x' = \\begin{pmatrix}2&3\\\\2&1\\end{pmatrix}x $$\n",
    "\n",
    "2. (10 puntos) Verifique \n",
    "\n",
    "No puede omitir ningún paso de solución y de cálculo algoritmicos y debe describir verbalmente su procedimiento y justificar los pasos esenciales. "
   ]
  },
  {
   "cell_type": "code",
   "execution_count": 9,
   "id": "8e4c9885",
   "metadata": {},
   "outputs": [
    {
     "data": {
      "text/plain": [
       "(array([ 4., -1.]),\n",
       " array([[ 0.83205029, -0.70710678],\n",
       "        [ 0.5547002 ,  0.70710678]]))"
      ]
     },
     "execution_count": 9,
     "metadata": {},
     "output_type": "execute_result"
    }
   ],
   "source": [
    "import numpy as np \n",
    "A = np.array([[2,3],[2,1]]) \n",
    "np.linalg.eig(A)"
   ]
  },
  {
   "cell_type": "code",
   "execution_count": 10,
   "id": "10681351",
   "metadata": {},
   "outputs": [
    {
     "data": {
      "text/plain": [
       "[(-1,\n",
       "  1,\n",
       "  [Matrix([\n",
       "   [-1],\n",
       "   [ 1]])]),\n",
       " (4,\n",
       "  1,\n",
       "  [Matrix([\n",
       "   [3/2],\n",
       "   [  1]])])]"
      ]
     },
     "execution_count": 10,
     "metadata": {},
     "output_type": "execute_result"
    }
   ],
   "source": [
    "from sympy import *\n",
    "A = Matrix(A)\n",
    "A.eigenvals() \n",
    "A.eigenvects() "
   ]
  },
  {
   "cell_type": "markdown",
   "id": "45618b8a",
   "metadata": {},
   "source": [
    "## Punto 3\n",
    "\n",
    "1. (15 puntos) Encontrar la solución  \n",
    "\n",
    "$$ x' = \\begin{pmatrix}-4&1&1\\\\1&5&-1\\\\0&1&-3\\end{pmatrix}x $$\n",
    "\n",
    "2. (10 puntos) Verifique \n",
    "\n",
    "No puede omitir ningún paso de solución y de cálculo algoritmicos y debe describir verbalmente su procedimiento y justificar los pasos esenciales. "
   ]
  },
  {
   "cell_type": "code",
   "execution_count": 11,
   "id": "deb3456b",
   "metadata": {},
   "outputs": [
    {
     "data": {
      "text/plain": [
       "(array([ 5., -4., -3.]),\n",
       " array([[-1.23091491e-01,  9.90147543e-01,  7.07106781e-01],\n",
       "        [-9.84731928e-01, -9.90147543e-02,  8.82242979e-17],\n",
       "        [-1.23091491e-01,  9.90147543e-02,  7.07106781e-01]]))"
      ]
     },
     "execution_count": 11,
     "metadata": {},
     "output_type": "execute_result"
    }
   ],
   "source": [
    "import numpy as np \n",
    "A = np.array([[-4,1,1],[1,5,-1],[0,1,-3]]) \n",
    "np.linalg.eig(A)"
   ]
  },
  {
   "cell_type": "code",
   "execution_count": 12,
   "id": "bd4d9e38",
   "metadata": {},
   "outputs": [
    {
     "data": {
      "text/plain": [
       "[(-4,\n",
       "  1,\n",
       "  [Matrix([\n",
       "   [10],\n",
       "   [-1],\n",
       "   [ 1]])]),\n",
       " (-3,\n",
       "  1,\n",
       "  [Matrix([\n",
       "   [1],\n",
       "   [0],\n",
       "   [1]])]),\n",
       " (5,\n",
       "  1,\n",
       "  [Matrix([\n",
       "   [1],\n",
       "   [8],\n",
       "   [1]])])]"
      ]
     },
     "execution_count": 12,
     "metadata": {},
     "output_type": "execute_result"
    }
   ],
   "source": [
    "from sympy import *\n",
    "A = Matrix(A)\n",
    "A.eigenvals() \n",
    "A.eigenvects() "
   ]
  }
 ],
 "metadata": {
  "kernelspec": {
   "display_name": "Python 3",
   "language": "python",
   "name": "python3"
  },
  "language_info": {
   "codemirror_mode": {
    "name": "ipython",
    "version": 3
   },
   "file_extension": ".py",
   "mimetype": "text/x-python",
   "name": "python",
   "nbconvert_exporter": "python",
   "pygments_lexer": "ipython3",
   "version": "3.8.8"
  },
  "latex_envs": {
   "LaTeX_envs_menu_present": true,
   "autoclose": false,
   "autocomplete": false,
   "bibliofile": "biblio.bib",
   "cite_by": "apalike",
   "current_citInitial": 1,
   "eqLabelWithNumbers": true,
   "eqNumInitial": 1,
   "hotkeys": {
    "equation": "Ctrl-E",
    "itemize": "Ctrl-I"
   },
   "labels_anchors": false,
   "latex_user_defs": false,
   "report_style_numbering": false,
   "user_envs_cfg": false
  }
 },
 "nbformat": 4,
 "nbformat_minor": 5
}
