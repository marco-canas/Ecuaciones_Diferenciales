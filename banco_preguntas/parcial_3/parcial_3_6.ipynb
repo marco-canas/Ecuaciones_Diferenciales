{
 "cells": [
  {
   "cell_type": "markdown",
   "id": "19f7b209",
   "metadata": {},
   "source": [
    "# Parcial 3_6"
   ]
  },
  {
   "cell_type": "markdown",
   "id": "97ff558c",
   "metadata": {},
   "source": [
    "## Punto 1\n",
    "\n",
    "1. Comprueba que en el intervalo $(-\\infty, \\infty)$ \n",
    "\n",
    "$$ x^{(1)} = \\begin{pmatrix} 1\\\\-1 \\end{pmatrix}e^{-2t}, \\ \\ \\  x^{(2)} = \\begin{pmatrix} 3 \\\\ 5 \\end{pmatrix}e^{6t} $$\n",
    "\n",
    "son soluciones de \n",
    "\n",
    "$$ x' = \\begin{pmatrix}1&3\\\\5&3\\end{pmatrix}x $$\n",
    "\n",
    "2. Verifique, es decir, soluciones el sistema \n",
    "\n",
    "$$ x' = \\begin{pmatrix}1&3\\\\5&3\\end{pmatrix}x $$\n",
    "\n",
    "No puede omitir ningún paso de solución y de cálculo algoritmicos y debe describir verbalmente su procedimiento y justificar los pasos esenciales. \n"
   ]
  },
  {
   "cell_type": "code",
   "execution_count": null,
   "id": "9d82d3df",
   "metadata": {},
   "outputs": [],
   "source": [
    "import numpy as np \n",
    "A = np.array([[1,3],[5,3]])\n",
    "np.linalg.eig(A)"
   ]
  },
  {
   "cell_type": "code",
   "execution_count": null,
   "id": "5bc4343e",
   "metadata": {},
   "outputs": [],
   "source": [
    "from sympy import * \n",
    "A = Matrix(A)\n",
    "A.eigenvects() "
   ]
  },
  {
   "cell_type": "markdown",
   "id": "699ebe3c",
   "metadata": {},
   "source": [
    "## Punto 2\n",
    "\n",
    "1. Encontrar la solución  \n",
    "\n",
    "$$ x' = \\begin{pmatrix}3&-5\\\\4&8\\end{pmatrix}x $$\n",
    "\n",
    "2. Verifique \n",
    "\n",
    "No puede omitir ningún paso de solución y de cálculo algoritmicos y debe describir verbalmente su procedimiento y justificar los pasos esenciales. "
   ]
  },
  {
   "cell_type": "code",
   "execution_count": null,
   "id": "b0e9879e",
   "metadata": {},
   "outputs": [],
   "source": [
    "import numpy as np \n",
    "A = np.array([[3,-5],[4,8]]) \n",
    "np.linalg.eig(A)"
   ]
  },
  {
   "cell_type": "code",
   "execution_count": null,
   "id": "f344d8ac",
   "metadata": {},
   "outputs": [],
   "source": [
    "from sympy import * \n",
    "A = Matrix(A)\n",
    "A.eigenvects() "
   ]
  },
  {
   "cell_type": "markdown",
   "id": "229a9f48",
   "metadata": {},
   "source": [
    "## Punto 3\n",
    "\n",
    "1. (15 puntos) Encontrar la solución  \n",
    "\n",
    "$$ x' = \\begin{pmatrix}0&6&0\\\\1&0&1\\\\1&1&0\\end{pmatrix}x $$\n",
    "\n",
    "2. (10 puntos) Verifique \n",
    "\n",
    "No puede omitir ningún paso de solución y de cálculo algoritmicos y debe describir verbalmente su procedimiento y justificar los pasos esenciales. "
   ]
  },
  {
   "cell_type": "code",
   "execution_count": null,
   "id": "495bcf38",
   "metadata": {},
   "outputs": [],
   "source": [
    "import numpy as np \n",
    "A = np.array([[0,6,0],[1,0,1],[1,1,0]]) \n",
    "np.linalg.eig(A)"
   ]
  },
  {
   "cell_type": "code",
   "execution_count": null,
   "id": "4e776f1e",
   "metadata": {},
   "outputs": [],
   "source": [
    "from sympy import * \n",
    "A = Matrix(A)\n",
    "A.eigenvects() "
   ]
  },
  {
   "cell_type": "code",
   "execution_count": null,
   "id": "fa6e98cc",
   "metadata": {},
   "outputs": [],
   "source": []
  }
 ],
 "metadata": {
  "kernelspec": {
   "display_name": "Python 3",
   "language": "python",
   "name": "python3"
  },
  "language_info": {
   "codemirror_mode": {
    "name": "ipython",
    "version": 3
   },
   "file_extension": ".py",
   "mimetype": "text/x-python",
   "name": "python",
   "nbconvert_exporter": "python",
   "pygments_lexer": "ipython3",
   "version": "3.8.8"
  },
  "latex_envs": {
   "LaTeX_envs_menu_present": true,
   "autoclose": false,
   "autocomplete": false,
   "bibliofile": "biblio.bib",
   "cite_by": "apalike",
   "current_citInitial": 1,
   "eqLabelWithNumbers": true,
   "eqNumInitial": 1,
   "hotkeys": {
    "equation": "Ctrl-E",
    "itemize": "Ctrl-I"
   },
   "labels_anchors": false,
   "latex_user_defs": false,
   "report_style_numbering": false,
   "user_envs_cfg": false
  }
 },
 "nbformat": 4,
 "nbformat_minor": 5
}
