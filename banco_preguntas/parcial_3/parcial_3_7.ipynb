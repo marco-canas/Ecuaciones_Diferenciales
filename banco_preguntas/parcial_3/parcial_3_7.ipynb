{
 "cells": [
  {
   "cell_type": "markdown",
   "id": "1e813828",
   "metadata": {},
   "source": [
    "# Parcial 3_7"
   ]
  },
  {
   "cell_type": "markdown",
   "id": "2f02d025",
   "metadata": {},
   "source": [
    "## Punto 1\n",
    "\n",
    "1. (15 puntos) Encontrar la solución  \n",
    "\n",
    "$$ x' = \\begin{pmatrix}1&3\\\\5&3\\end{pmatrix}x $$\n",
    "\n",
    "2. (10 puntos) Verifique \n",
    "\n",
    "No puede omitir ningún paso de solución y de cálculo algoritmicos y debe describir verbalmente su procedimiento y justificar los pasos esenciales. "
   ]
  },
  {
   "cell_type": "code",
   "execution_count": null,
   "id": "6d199a03",
   "metadata": {},
   "outputs": [],
   "source": [
    "import numpy as np \n",
    "A = np.array([[1,3],[5,3]]) \n",
    "np.linalg.eig(A)"
   ]
  },
  {
   "cell_type": "code",
   "execution_count": null,
   "id": "9a8677aa",
   "metadata": {},
   "outputs": [],
   "source": [
    "from sympy import *\n",
    "A = Matrix(A)\n",
    "A.eigenvals() \n",
    "A.eigenvects() "
   ]
  },
  {
   "cell_type": "markdown",
   "id": "3ae2f3bc",
   "metadata": {},
   "source": [
    "## Punto 2\n",
    "\n",
    "1. (15 puntos) Encontrar la solución  \n",
    "\n",
    "$$ x' = \\begin{pmatrix}2&3\\\\2&1\\end{pmatrix}x $$\n",
    "\n",
    "2. (10 puntos) Verifique \n",
    "\n",
    "No puede omitir ningún paso de solución y de cálculo algoritmicos y debe describir verbalmente su procedimiento y justificar los pasos esenciales. "
   ]
  },
  {
   "cell_type": "code",
   "execution_count": null,
   "id": "8e4c9885",
   "metadata": {},
   "outputs": [],
   "source": [
    "import numpy as np \n",
    "A = np.array([[2,3],[2,1]]) \n",
    "np.linalg.eig(A)"
   ]
  },
  {
   "cell_type": "code",
   "execution_count": null,
   "id": "10681351",
   "metadata": {},
   "outputs": [],
   "source": [
    "from sympy import *\n",
    "A = Matrix(A)\n",
    "A.eigenvals() \n",
    "A.eigenvects() "
   ]
  },
  {
   "cell_type": "markdown",
   "id": "45618b8a",
   "metadata": {},
   "source": [
    "## Punto 3\n",
    "\n",
    "1. (15 puntos) Encontrar la solución  \n",
    "\n",
    "$$ x' = \\begin{pmatrix}-4&1&1\\\\1&5&-1\\\\0&1&-3\\end{pmatrix}x $$\n",
    "\n",
    "2. (10 puntos) Verifique \n",
    "\n",
    "No puede omitir ningún paso de solución y de cálculo algoritmicos y debe describir verbalmente su procedimiento y justificar los pasos esenciales. "
   ]
  },
  {
   "cell_type": "code",
   "execution_count": null,
   "id": "deb3456b",
   "metadata": {},
   "outputs": [],
   "source": [
    "import numpy as np \n",
    "A = np.array([[-4,1,1],[1,5,-1],[0,1,-3]]) \n",
    "np.linalg.eig(A)"
   ]
  },
  {
   "cell_type": "code",
   "execution_count": null,
   "id": "bd4d9e38",
   "metadata": {},
   "outputs": [],
   "source": [
    "from sympy import *\n",
    "A = Matrix(A)\n",
    "A.eigenvals() \n",
    "A.eigenvects() "
   ]
  }
 ],
 "metadata": {
  "kernelspec": {
   "display_name": "Python 3",
   "language": "python",
   "name": "python3"
  },
  "language_info": {
   "codemirror_mode": {
    "name": "ipython",
    "version": 3
   },
   "file_extension": ".py",
   "mimetype": "text/x-python",
   "name": "python",
   "nbconvert_exporter": "python",
   "pygments_lexer": "ipython3",
   "version": "3.8.8"
  },
  "latex_envs": {
   "LaTeX_envs_menu_present": true,
   "autoclose": false,
   "autocomplete": false,
   "bibliofile": "biblio.bib",
   "cite_by": "apalike",
   "current_citInitial": 1,
   "eqLabelWithNumbers": true,
   "eqNumInitial": 1,
   "hotkeys": {
    "equation": "Ctrl-E",
    "itemize": "Ctrl-I"
   },
   "labels_anchors": false,
   "latex_user_defs": false,
   "report_style_numbering": false,
   "user_envs_cfg": false
  }
 },
 "nbformat": 4,
 "nbformat_minor": 5
}
