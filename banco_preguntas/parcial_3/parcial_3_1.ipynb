{
 "cells": [
  {
   "cell_type": "markdown",
   "id": "b9815096",
   "metadata": {},
   "source": [
    "# Parcial 3_1"
   ]
  },
  {
   "cell_type": "markdown",
   "id": "d885e2dd",
   "metadata": {},
   "source": [
    "## Punto 1\n",
    "\n",
    "1. **(15 puntos) Encontrar la solución**   \n",
    "\n",
    "$$ x' = \\begin{pmatrix}5&1\\\\-2&3\\end{pmatrix}x $$\n",
    "\n",
    "No puede omitir ningún paso de solución y debe describir verbalmente su procedimiento y justificar los pasos esenciales. \n",
    "\n",
    "2. **(10 puntos) Verifique utilizando el procedimiento de sustitución directa** \n",
    "\n",
    "3. (opcional) Entregar el pantallazo y conclusión de la verificación realizada en un cuaderno Colaboratory o en [Wolframe](https://www.wolframalpha.com/input/?i=x%27+%3D+%7B%7B6%2C-1%7D%2C%7B5%2C4%7D%7Dx+) y solo con estas aplicaciones. \n",
    "\n",
    "* No puede omitir ningún paso de solución y de cálculo algoritmicos y debe describir verbalmente   \n",
    "  su procedimiento y justificar los pasos esenciales.   \n",
    "* Estas descripciones y justificaciones verbales valen la mitad del punto. \n",
    "\n",
    "No puede omitir ningún paso de solución y de cálculo algoritmicos y debe describir verbalmente su procedimiento y justificar los pasos esenciales. "
   ]
  },
  {
   "cell_type": "code",
   "execution_count": 1,
   "id": "48159881",
   "metadata": {},
   "outputs": [
    {
     "data": {
      "text/plain": [
       "(array([4.+1.j, 4.-1.j]),\n",
       " array([[-0.40824829-0.40824829j, -0.40824829+0.40824829j],\n",
       "        [ 0.81649658+0.j        ,  0.81649658-0.j        ]]))"
      ]
     },
     "execution_count": 1,
     "metadata": {},
     "output_type": "execute_result"
    }
   ],
   "source": [
    "import numpy as np \n",
    "A = np.array([[5,1],[-2,3]]) \n",
    "np.linalg.eig(A)"
   ]
  },
  {
   "cell_type": "code",
   "execution_count": 2,
   "id": "e48c9e11",
   "metadata": {
    "scrolled": true
   },
   "outputs": [
    {
     "data": {
      "text/plain": [
       "[(4 - I,\n",
       "  1,\n",
       "  [Matrix([\n",
       "   [-1/2 + I/2],\n",
       "   [         1]])]),\n",
       " (4 + I,\n",
       "  1,\n",
       "  [Matrix([\n",
       "   [-1/2 - I/2],\n",
       "   [         1]])])]"
      ]
     },
     "execution_count": 2,
     "metadata": {},
     "output_type": "execute_result"
    }
   ],
   "source": [
    "from sympy import *\n",
    "A = Matrix(A)\n",
    "A.eigenvects() "
   ]
  },
  {
   "cell_type": "code",
   "execution_count": 1,
   "id": "6d819b91",
   "metadata": {},
   "outputs": [
    {
     "data": {
      "text/latex": [
       "$\\displaystyle \\left[\\begin{matrix}\\left(- \\frac{\\sin{\\left(4 \\operatorname{re}{\\left(t\\right)} \\right)} \\sinh{\\left(4 \\operatorname{im}{\\left(t\\right)} \\right)}}{2} + \\frac{\\sin{\\left(4 \\operatorname{re}{\\left(t\\right)} \\right)} \\cosh{\\left(4 \\operatorname{im}{\\left(t\\right)} \\right)}}{2} + \\frac{\\cos{\\left(4 \\operatorname{re}{\\left(t\\right)} \\right)} \\sinh{\\left(4 \\operatorname{im}{\\left(t\\right)} \\right)}}{2} - \\frac{\\cos{\\left(4 \\operatorname{re}{\\left(t\\right)} \\right)} \\cosh{\\left(4 \\operatorname{im}{\\left(t\\right)} \\right)}}{2}\\right) e^{4 \\operatorname{re}{\\left(t\\right)}} \\cos{\\left(4 \\operatorname{im}{\\left(t\\right)} \\right)} - \\left(\\frac{\\sin{\\left(4 \\operatorname{re}{\\left(t\\right)} \\right)} \\sinh{\\left(4 \\operatorname{im}{\\left(t\\right)} \\right)}}{2} - \\frac{\\sin{\\left(4 \\operatorname{re}{\\left(t\\right)} \\right)} \\cosh{\\left(4 \\operatorname{im}{\\left(t\\right)} \\right)}}{2} + \\frac{\\cos{\\left(4 \\operatorname{re}{\\left(t\\right)} \\right)} \\sinh{\\left(4 \\operatorname{im}{\\left(t\\right)} \\right)}}{2} - \\frac{\\cos{\\left(4 \\operatorname{re}{\\left(t\\right)} \\right)} \\cosh{\\left(4 \\operatorname{im}{\\left(t\\right)} \\right)}}{2}\\right) e^{4 \\operatorname{re}{\\left(t\\right)}} \\sin{\\left(4 \\operatorname{im}{\\left(t\\right)} \\right)}\\\\- \\left(- \\sin{\\left(4 \\operatorname{re}{\\left(t\\right)} \\right)} \\sinh{\\left(4 \\operatorname{im}{\\left(t\\right)} \\right)} + \\sin{\\left(4 \\operatorname{re}{\\left(t\\right)} \\right)} \\cosh{\\left(4 \\operatorname{im}{\\left(t\\right)} \\right)}\\right) e^{4 \\operatorname{re}{\\left(t\\right)}} \\sin{\\left(4 \\operatorname{im}{\\left(t\\right)} \\right)} + \\left(- \\cos{\\left(4 \\operatorname{re}{\\left(t\\right)} \\right)} \\sinh{\\left(4 \\operatorname{im}{\\left(t\\right)} \\right)} + \\cos{\\left(4 \\operatorname{re}{\\left(t\\right)} \\right)} \\cosh{\\left(4 \\operatorname{im}{\\left(t\\right)} \\right)}\\right) e^{4 \\operatorname{re}{\\left(t\\right)}} \\cos{\\left(4 \\operatorname{im}{\\left(t\\right)} \\right)}\\end{matrix}\\right]$"
      ],
      "text/plain": [
       "Matrix([\n",
       "[(-sin(4*re(t))*sinh(4*im(t))/2 + sin(4*re(t))*cosh(4*im(t))/2 + cos(4*re(t))*sinh(4*im(t))/2 - cos(4*re(t))*cosh(4*im(t))/2)*exp(4*re(t))*cos(4*im(t)) - (sin(4*re(t))*sinh(4*im(t))/2 - sin(4*re(t))*cosh(4*im(t))/2 + cos(4*re(t))*sinh(4*im(t))/2 - cos(4*re(t))*cosh(4*im(t))/2)*exp(4*re(t))*sin(4*im(t))],\n",
       "[                                                                                                                                  -(-sin(4*re(t))*sinh(4*im(t)) + sin(4*re(t))*cosh(4*im(t)))*exp(4*re(t))*sin(4*im(t)) + (-cos(4*re(t))*sinh(4*im(t)) + cos(4*re(t))*cosh(4*im(t)))*exp(4*re(t))*cos(4*im(t))]])"
      ]
     },
     "metadata": {},
     "output_type": "display_data"
    },
    {
     "data": {
      "text/latex": [
       "$\\displaystyle \\left[\\begin{matrix}\\left(- \\frac{\\sin{\\left(4 \\operatorname{re}{\\left(t\\right)} \\right)} \\sinh{\\left(4 \\operatorname{im}{\\left(t\\right)} \\right)}}{2} + \\frac{\\sin{\\left(4 \\operatorname{re}{\\left(t\\right)} \\right)} \\cosh{\\left(4 \\operatorname{im}{\\left(t\\right)} \\right)}}{2} + \\frac{\\cos{\\left(4 \\operatorname{re}{\\left(t\\right)} \\right)} \\sinh{\\left(4 \\operatorname{im}{\\left(t\\right)} \\right)}}{2} - \\frac{\\cos{\\left(4 \\operatorname{re}{\\left(t\\right)} \\right)} \\cosh{\\left(4 \\operatorname{im}{\\left(t\\right)} \\right)}}{2}\\right) e^{4 \\operatorname{re}{\\left(t\\right)}} \\sin{\\left(4 \\operatorname{im}{\\left(t\\right)} \\right)} + \\left(\\frac{\\sin{\\left(4 \\operatorname{re}{\\left(t\\right)} \\right)} \\sinh{\\left(4 \\operatorname{im}{\\left(t\\right)} \\right)}}{2} - \\frac{\\sin{\\left(4 \\operatorname{re}{\\left(t\\right)} \\right)} \\cosh{\\left(4 \\operatorname{im}{\\left(t\\right)} \\right)}}{2} + \\frac{\\cos{\\left(4 \\operatorname{re}{\\left(t\\right)} \\right)} \\sinh{\\left(4 \\operatorname{im}{\\left(t\\right)} \\right)}}{2} - \\frac{\\cos{\\left(4 \\operatorname{re}{\\left(t\\right)} \\right)} \\cosh{\\left(4 \\operatorname{im}{\\left(t\\right)} \\right)}}{2}\\right) e^{4 \\operatorname{re}{\\left(t\\right)}} \\cos{\\left(4 \\operatorname{im}{\\left(t\\right)} \\right)}\\\\\\left(- \\sin{\\left(4 \\operatorname{re}{\\left(t\\right)} \\right)} \\sinh{\\left(4 \\operatorname{im}{\\left(t\\right)} \\right)} + \\sin{\\left(4 \\operatorname{re}{\\left(t\\right)} \\right)} \\cosh{\\left(4 \\operatorname{im}{\\left(t\\right)} \\right)}\\right) e^{4 \\operatorname{re}{\\left(t\\right)}} \\cos{\\left(4 \\operatorname{im}{\\left(t\\right)} \\right)} + \\left(- \\cos{\\left(4 \\operatorname{re}{\\left(t\\right)} \\right)} \\sinh{\\left(4 \\operatorname{im}{\\left(t\\right)} \\right)} + \\cos{\\left(4 \\operatorname{re}{\\left(t\\right)} \\right)} \\cosh{\\left(4 \\operatorname{im}{\\left(t\\right)} \\right)}\\right) e^{4 \\operatorname{re}{\\left(t\\right)}} \\sin{\\left(4 \\operatorname{im}{\\left(t\\right)} \\right)}\\end{matrix}\\right]$"
      ],
      "text/plain": [
       "Matrix([\n",
       "[(-sin(4*re(t))*sinh(4*im(t))/2 + sin(4*re(t))*cosh(4*im(t))/2 + cos(4*re(t))*sinh(4*im(t))/2 - cos(4*re(t))*cosh(4*im(t))/2)*exp(4*re(t))*sin(4*im(t)) + (sin(4*re(t))*sinh(4*im(t))/2 - sin(4*re(t))*cosh(4*im(t))/2 + cos(4*re(t))*sinh(4*im(t))/2 - cos(4*re(t))*cosh(4*im(t))/2)*exp(4*re(t))*cos(4*im(t))],\n",
       "[                                                                                                                                   (-sin(4*re(t))*sinh(4*im(t)) + sin(4*re(t))*cosh(4*im(t)))*exp(4*re(t))*cos(4*im(t)) + (-cos(4*re(t))*sinh(4*im(t)) + cos(4*re(t))*cosh(4*im(t)))*exp(4*re(t))*sin(4*im(t))]])"
      ]
     },
     "metadata": {},
     "output_type": "display_data"
    }
   ],
   "source": [
    "import numpy as np \n",
    "from sympy import *\n",
    "t = symbols('t') \n",
    "A = Matrix([[5,1],[-2,3]])     \n",
    "r_vec1, r_vec2 = A.eigenvects() \n",
    "r1, r2 = r_vec1[0]/r_vec1[1],  r_vec2[0]/r_vec2[1]\n",
    "v1, v2 = A.eigenvects()[0][2][0], A.eigenvects()[1][2][0]\n",
    "lambda1, mu1 = re(r1), im(r1)\n",
    "lambda2, mu2 = re(r2), re(r2)\n",
    "\n",
    "x_super1_sympy = v1*exp(r1*t)\n",
    "u_sympy = re( v2*exp(lambda2*t)*(cos(mu2*t) + I*sin(mu2*t)) )\n",
    "v_sympy = im( v2*exp(lambda2*t)*(cos(mu2*t) + I*sin(mu2*t)) )\n",
    "\n",
    "display(u_sympy)\n",
    "display(v_sympy)"
   ]
  },
  {
   "cell_type": "code",
   "execution_count": 2,
   "id": "7b862ef7",
   "metadata": {},
   "outputs": [],
   "source": [
    "x_sup1 = lambdify(t, v1*exp(r1*t))\n",
    "\n",
    "u = lambdify(t, re( v1*exp(lambda1*t)*(cos(mu1*t) + I*sin(mu1*t)) ) ) \n",
    "v = lambdify(t, im( v1*exp(lambda1*t)*(cos(mu1*t) + I*sin(mu1*t)) ) )  \n",
    "c1, c2 = 1, 1\n",
    "x = lambda t: c1*u(t) + c2*v(t) "
   ]
  },
  {
   "cell_type": "markdown",
   "id": "98ffc7a6",
   "metadata": {},
   "source": [
    "$$r_{2} = 4 + i,\\ \\ \\ \\  \\xi^{(1)} = \\begin{pmatrix} -1/2 -i/2 \\\\ 1 \\end{pmatrix}$$"
   ]
  },
  {
   "cell_type": "markdown",
   "id": "1c191645",
   "metadata": {},
   "source": [
    "## Punto 2\n",
    "\n",
    "1. **(15 puntos) Encontrar la solución**  \n",
    "\n",
    "$$ x' = \\begin{pmatrix}4&5\\\\-2&6\\end{pmatrix}x $$\n",
    "\n",
    "No puede omitir ningún paso de solución y debe describir verbalmente su procedimiento y justificar los pasos esenciales. \n",
    "\n",
    "2. **(10 puntos) Verifique** \n",
    "\n",
    "3. (opcional) Entregar el pantallazo y conclusión de la verificación realizada en un cuaderno Colaboratory o en [Wolframe](https://www.wolframalpha.com/input/?i=x%27+%3D+%7B%7B6%2C-1%7D%2C%7B5%2C4%7D%7Dx+) y solo con estas aplicaciones. \n",
    "\n",
    "* No puede omitir ningún paso de solución y de cálculo algoritmicos y debe describir verbalmente   \n",
    "  su procedimiento y justificar los pasos esenciales.   \n",
    "* Estas descripciones y justificaciones verbales valen la mitad del punto. \n",
    "\n"
   ]
  },
  {
   "cell_type": "code",
   "execution_count": 3,
   "id": "6a76888d",
   "metadata": {},
   "outputs": [
    {
     "data": {
      "text/plain": [
       "(array([5.+3.j, 5.-3.j]),\n",
       " array([[0.84515425+0.j        , 0.84515425-0.j        ],\n",
       "        [0.16903085+0.50709255j, 0.16903085-0.50709255j]]))"
      ]
     },
     "execution_count": 3,
     "metadata": {},
     "output_type": "execute_result"
    }
   ],
   "source": [
    "import numpy as np \n",
    "A = np.array([[4,5],[-2,6]]) \n",
    "np.linalg.eig(A)"
   ]
  },
  {
   "cell_type": "code",
   "execution_count": 4,
   "id": "e680b7de",
   "metadata": {},
   "outputs": [
    {
     "data": {
      "text/plain": [
       "[(5 - 3*I,\n",
       "  1,\n",
       "  [Matrix([\n",
       "   [1/2 + 3*I/2],\n",
       "   [          1]])]),\n",
       " (5 + 3*I,\n",
       "  1,\n",
       "  [Matrix([\n",
       "   [1/2 - 3*I/2],\n",
       "   [          1]])])]"
      ]
     },
     "execution_count": 4,
     "metadata": {},
     "output_type": "execute_result"
    }
   ],
   "source": [
    "from sympy import *\n",
    "A = Matrix(A)\n",
    "A.eigenvects() "
   ]
  },
  {
   "cell_type": "markdown",
   "id": "4d99c979",
   "metadata": {},
   "source": [
    "## Punto 3\n",
    "\n",
    "1. **(15 puntos) Encontrar la solución**  \n",
    "\n",
    "$$ x' = \\begin{pmatrix}4&-5\\\\5&-4\\end{pmatrix}x $$\n",
    "\n",
    "No puede omitir ningún paso de solución y debe describir verbalmente su procedimiento y justificar los pasos esenciales. \n",
    "\n",
    "2. **(10 puntos) Verifique** \n",
    "\n",
    "3. (opcional) Entregar el pantallazo y conclusión de la verificación realizada en un cuaderno Colaboratory o en [Wolframe](https://www.wolframalpha.com/input/?i=x%27+%3D+%7B%7B6%2C-1%7D%2C%7B5%2C4%7D%7Dx+) y solo con estas aplicaciones. \n",
    "\n",
    "* No puede omitir ningún paso de solución y de cálculo algoritmicos y debe describir verbalmente   \n",
    "  su procedimiento y justificar los pasos esenciales.   \n",
    "* Estas descripciones y justificaciones verbales valen la mitad del punto. "
   ]
  },
  {
   "cell_type": "code",
   "execution_count": null,
   "id": "9bf00e7d",
   "metadata": {},
   "outputs": [],
   "source": [
    "import numpy as np \n",
    "A = np.array([[4,-5],[5,-4]]) \n",
    "np.linalg.eig(A)"
   ]
  },
  {
   "cell_type": "code",
   "execution_count": null,
   "id": "329d031d",
   "metadata": {},
   "outputs": [],
   "source": [
    "from sympy import *\n",
    "A = Matrix(A)\n",
    "A.eigenvects() "
   ]
  }
 ],
 "metadata": {
  "kernelspec": {
   "display_name": "Python 3",
   "language": "python",
   "name": "python3"
  },
  "language_info": {
   "codemirror_mode": {
    "name": "ipython",
    "version": 3
   },
   "file_extension": ".py",
   "mimetype": "text/x-python",
   "name": "python",
   "nbconvert_exporter": "python",
   "pygments_lexer": "ipython3",
   "version": "3.8.8"
  },
  "latex_envs": {
   "LaTeX_envs_menu_present": true,
   "autoclose": false,
   "autocomplete": false,
   "bibliofile": "biblio.bib",
   "cite_by": "apalike",
   "current_citInitial": 1,
   "eqLabelWithNumbers": true,
   "eqNumInitial": 1,
   "hotkeys": {
    "equation": "Ctrl-E",
    "itemize": "Ctrl-I"
   },
   "labels_anchors": false,
   "latex_user_defs": false,
   "report_style_numbering": false,
   "user_envs_cfg": false
  }
 },
 "nbformat": 4,
 "nbformat_minor": 5
}
