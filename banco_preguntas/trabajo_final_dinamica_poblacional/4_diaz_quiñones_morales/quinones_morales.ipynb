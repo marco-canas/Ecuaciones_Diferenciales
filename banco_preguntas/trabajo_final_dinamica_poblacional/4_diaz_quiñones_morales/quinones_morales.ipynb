{
  "cells": [
    {
      "cell_type": "markdown",
      "id": "7ca7e81a",
      "metadata": {
        "id": "7ca7e81a"
      },
      "source": [
        "<table align=\"left\">\n",
        "  <td>\n",
        "    <a href=\"https://colab.research.google.com/github/marco-canas/edo/blob/main/banco_preguntas/trabajo_final_dinamica_poblacional/4_diaz_qui%C3%B1ones_morales/quinones_morales.ipynb\" target=\"_parent\"><img src=\"https://colab.research.google.com/assets/colab-badge.svg\" alt=\"Open In Colab\"/></a>\n",
        "  </td>\n",
        "</table>"
      ]
    },
    {
      "cell_type": "markdown",
      "id": "edd10163",
      "metadata": {
        "id": "edd10163"
      },
      "source": [
        "# Población salvaje  \n",
        "\n",
        "La razón de cambio del número de coyotes $N(t)$ en una población es directamente proporcional a $650 - N(t)$, donde $t$ es el tiempo en años. Cuando $t = 0$, la población es 300, y cuando $t = 2$, la población se incrementó a 500.   \n",
        "\n",
        "Encontrar la población cuando $t = 3$.  \n",
        "\n",
        "Ejercicio de la página 446 del Larson.  "
      ]
    },
    {
      "cell_type": "markdown",
      "id": "931aad85",
      "metadata": {
        "id": "931aad85"
      },
      "source": [
        "# Rúbrica "
      ]
    },
    {
      "cell_type": "markdown",
      "id": "72d6997d",
      "metadata": {
        "id": "72d6997d"
      },
      "source": [
        "## Empiece planteando la ED y el PVI que modela la situación planteada"
      ]
    },
    {
      "cell_type": "markdown",
      "id": "8a68a8b2",
      "metadata": {
        "id": "8a68a8b2"
      },
      "source": [
        "$$ \\frac{dN}{dt} = k (650 - N(t)),  \\ \\ \\ N(0) = 300, \\ \\ \\ N(2) = 500, \\ \\ \\ N(3) = ??$$\n",
        "\n",
        "con $t$ medido en años. "
      ]
    },
    {
      "cell_type": "markdown",
      "id": "adba8abf",
      "metadata": {
        "id": "adba8abf"
      },
      "source": [
        "Interpretación del PVI: La velocidad de crecimiento del número de coyotes es directamente proporcional al número de coyotes faltante para alcanzar la población límite. "
      ]
    },
    {
      "cell_type": "markdown",
      "id": "56c0d072",
      "metadata": {
        "id": "56c0d072"
      },
      "source": [
        "## Continue clasificando la ED de manera justificada  \n",
        "\n",
        "\n",
        "* diga y justifique si es lineal o no\n",
        "* diga y justifique si es ordinaria o parcial.  \n",
        "* diga y justifique cu+al es el orden de la ED.\n",
        "* diga y justifique si es lineal homogénea \n",
        "* diga y justifique si es de coeficientes constantes o no. \n"
      ]
    },
    {
      "cell_type": "markdown",
      "id": "9725e691",
      "metadata": {
        "id": "9725e691"
      },
      "source": [
        "Es lineal porque se puede expresar en la forma estándar \n",
        "\n",
        "$$ N' + p(t)N = g(t) $$\n"
      ]
    },
    {
      "cell_type": "markdown",
      "id": "f4f08deb",
      "metadata": {
        "id": "f4f08deb"
      },
      "source": [
        "## Resolver analíticamente el problema de crecimiento poblacional que se le asignó\n",
        "\n",
        "Recuerde resolver por sustitución o por diferenciación implícita. "
      ]
    },
    {
      "cell_type": "markdown",
      "id": "4463195c",
      "metadata": {
        "id": "4463195c"
      },
      "source": [
        "$$ \\frac{d}{dt}N(t) = k(650-N(t)), \\ \\ \\ \\  $$"
      ]
    },
    {
      "cell_type": "markdown",
      "id": "48e1925f",
      "metadata": {
        "id": "48e1925f"
      },
      "source": [
        ""
      ]
    },
    {
      "cell_type": "markdown",
      "id": "04202788",
      "metadata": {
        "id": "04202788"
      },
      "source": [
        ""
      ]
    },
    {
      "cell_type": "markdown",
      "id": "03b2d1d2",
      "metadata": {
        "id": "03b2d1d2"
      },
      "source": [
        ""
      ]
    },
    {
      "cell_type": "code",
      "execution_count": null,
      "id": "03137ac6",
      "metadata": {
        "id": "03137ac6"
      },
      "outputs": [],
      "source": [
        ""
      ]
    },
    {
      "cell_type": "code",
      "execution_count": null,
      "id": "0b7a0d75",
      "metadata": {
        "id": "0b7a0d75"
      },
      "outputs": [],
      "source": [
        ""
      ]
    },
    {
      "cell_type": "markdown",
      "id": "1aba7de8",
      "metadata": {
        "id": "1aba7de8"
      },
      "source": [
        "## Resolver con sympy el problema que se le asignó y redactar conclusiones verbales de la comparación con la forma analítica de solución y la forma con asistencia computacional de solución"
      ]
    },
    {
      "cell_type": "code",
      "execution_count": null,
      "id": "36633100",
      "metadata": {
        "id": "36633100"
      },
      "outputs": [],
      "source": [
        "from sympy import var, Function, Eq, classify_ode, diff, dsolve, solve, exp "
      ]
    },
    {
      "cell_type": "markdown",
      "id": "27809a03",
      "metadata": {
        "id": "27809a03"
      },
      "source": [
        "**Sugerencia:**   \n",
        "\n",
        "`dsolve(eq, f(x), hint)` $->$ Solve ordinary differential equation `eq` for function `f(x)`, using method `hint`."
      ]
    },
    {
      "cell_type": "code",
      "execution_count": null,
      "id": "9592e334",
      "metadata": {
        "id": "9592e334"
      },
      "outputs": [],
      "source": [
        "N,t, k, C1 = var('N, t, k, C1') # donde k es la constante de proporcionalidad."
      ]
    },
    {
      "cell_type": "code",
      "execution_count": null,
      "id": "82972868",
      "metadata": {
        "id": "82972868"
      },
      "outputs": [],
      "source": [
        "N = Function('N') # aquí establecimos que N es la variable dependiente. "
      ]
    },
    {
      "cell_type": "code",
      "execution_count": null,
      "id": "3a50f2f4",
      "metadata": {
        "id": "3a50f2f4",
        "outputId": "3ebad0c1-18fd-4c2a-c3e1-c34e17992636"
      },
      "outputs": [
        {
          "data": {
            "text/latex": [
              "$\\displaystyle \\frac{d}{d t} N{\\left(t \\right)} = k \\left(650 - N{\\left(t \\right)}\\right)$"
            ],
            "text/plain": [
              "Eq(Derivative(N(t), t), k*(650 - N(t)))"
            ]
          },
          "execution_count": 7,
          "metadata": {},
          "output_type": "execute_result"
        }
      ],
      "source": [
        "ed = Eq(diff(N(t), t), k*(650 - N(t))) \n",
        "ed "
      ]
    },
    {
      "cell_type": "code",
      "execution_count": null,
      "id": "c4d5c3d8",
      "metadata": {
        "id": "c4d5c3d8",
        "outputId": "e99179cc-e0aa-4110-e372-fd456192c888"
      },
      "outputs": [
        {
          "data": {
            "text/plain": [
              "('separable',\n",
              " '1st_exact',\n",
              " '1st_linear',\n",
              " 'Bernoulli',\n",
              " 'almost_linear',\n",
              " '1st_power_series',\n",
              " 'lie_group',\n",
              " 'nth_linear_constant_coeff_undetermined_coefficients',\n",
              " 'nth_linear_constant_coeff_variation_of_parameters',\n",
              " 'separable_Integral',\n",
              " '1st_exact_Integral',\n",
              " '1st_linear_Integral',\n",
              " 'Bernoulli_Integral',\n",
              " 'almost_linear_Integral',\n",
              " 'nth_linear_constant_coeff_variation_of_parameters_Integral')"
            ]
          },
          "execution_count": 8,
          "metadata": {},
          "output_type": "execute_result"
        }
      ],
      "source": [
        "classify_ode(ed, N(t))"
      ]
    },
    {
      "cell_type": "markdown",
      "id": "90639c4a",
      "metadata": {
        "id": "90639c4a"
      },
      "source": [
        "Entonces, esta función nos dice que esta ecuación es separable, lineal de primer orden, exacta, de Bernoulli. "
      ]
    },
    {
      "cell_type": "markdown",
      "id": "57f8d7a0",
      "metadata": {
        "id": "57f8d7a0"
      },
      "source": [
        "## Resolvamos con SymPy la ED"
      ]
    },
    {
      "cell_type": "code",
      "execution_count": null,
      "id": "00e28e27",
      "metadata": {
        "id": "00e28e27",
        "outputId": "5c43526e-cea2-4d11-b7da-8efc6072fb53"
      },
      "outputs": [
        {
          "data": {
            "text/latex": [
              "$\\displaystyle N{\\left(t \\right)} = C_{1} e^{- k t} + 650$"
            ],
            "text/plain": [
              "Eq(N(t), C1*exp(-k*t) + 650)"
            ]
          },
          "execution_count": 10,
          "metadata": {},
          "output_type": "execute_result"
        }
      ],
      "source": [
        "sol_gen =dsolve(ed, N(t), hint = 'separable') \n",
        "sol_gen "
      ]
    },
    {
      "cell_type": "markdown",
      "id": "09bc38bd",
      "metadata": {
        "id": "09bc38bd"
      },
      "source": [
        "Así, hemos obtenido la solución general explícita de la ED que hace parte del PVI, pero no tenemos determinada la constante de proporcionalidad. Pero para ello debemos determinar primero la constante de integración $C_{1}$. "
      ]
    },
    {
      "cell_type": "markdown",
      "id": "794982b1",
      "metadata": {
        "id": "794982b1"
      },
      "source": [
        "# Determinación de la constante de integración $C_{1}$"
      ]
    },
    {
      "cell_type": "code",
      "execution_count": null,
      "id": "78a3685a",
      "metadata": {
        "id": "78a3685a",
        "outputId": "48593381-1a14-4f11-e7df-94aa64a7e746"
      },
      "outputs": [
        {
          "data": {
            "text/latex": [
              "$\\displaystyle 300 = C_{1} + 650$"
            ],
            "text/plain": [
              "Eq(300, C1 + 650)"
            ]
          },
          "execution_count": 20,
          "metadata": {},
          "output_type": "execute_result"
        }
      ],
      "source": [
        "ecua = Eq(sol_gen.lhs.subs(t,0).subs(N(0), 300), sol_gen.rhs.subs(t,0))\n",
        "ecua "
      ]
    },
    {
      "cell_type": "code",
      "execution_count": null,
      "id": "a0e0f3ec",
      "metadata": {
        "id": "a0e0f3ec",
        "outputId": "7f9ee97c-0a0a-4e40-9848-185e298178d6"
      },
      "outputs": [
        {
          "data": {
            "text/latex": [
              "$\\displaystyle -350$"
            ],
            "text/plain": [
              "-350"
            ]
          },
          "execution_count": 26,
          "metadata": {},
          "output_type": "execute_result"
        }
      ],
      "source": [
        "solve(ecua, C1)[0]"
      ]
    },
    {
      "cell_type": "code",
      "execution_count": null,
      "id": "4528a2f2",
      "metadata": {
        "id": "4528a2f2"
      },
      "outputs": [],
      "source": [
        "sol_pvi = sol_gen.subs(C1, -350)"
      ]
    },
    {
      "cell_type": "code",
      "execution_count": null,
      "id": "bf1582ff",
      "metadata": {
        "id": "bf1582ff",
        "outputId": "d929113b-142d-4224-fe5f-3c4053450c92"
      },
      "outputs": [
        {
          "data": {
            "text/latex": [
              "$\\displaystyle N{\\left(t \\right)} = 650 - 350 e^{- k t}$"
            ],
            "text/plain": [
              "Eq(N(t), 650 - 350*exp(-k*t))"
            ]
          },
          "execution_count": 28,
          "metadata": {},
          "output_type": "execute_result"
        }
      ],
      "source": [
        "sol_pvi"
      ]
    },
    {
      "cell_type": "markdown",
      "id": "764d61e8",
      "metadata": {
        "id": "764d61e8"
      },
      "source": [
        "# Determinación de la constante de proporcionalidad"
      ]
    },
    {
      "cell_type": "markdown",
      "id": "e02e2fcb",
      "metadata": {
        "id": "e02e2fcb"
      },
      "source": [
        "Esta constante $k$ la determinamos sustituyendo la segunda condición $N(2) = 500$"
      ]
    },
    {
      "cell_type": "code",
      "execution_count": null,
      "id": "94918625",
      "metadata": {
        "id": "94918625",
        "outputId": "ffd778ab-d29e-44d5-f7d6-659c922d20b0"
      },
      "outputs": [
        {
          "data": {
            "text/latex": [
              "$\\displaystyle 0.42$"
            ],
            "text/plain": [
              "0.42"
            ]
          },
          "execution_count": 42,
          "metadata": {},
          "output_type": "execute_result"
        }
      ],
      "source": [
        "round(solve(Eq(500, 650-350*exp(-k*2)),k)[0].evalf(),2)"
      ]
    },
    {
      "cell_type": "markdown",
      "id": "0d47abb1",
      "metadata": {
        "id": "0d47abb1"
      },
      "source": [
        "Entonces la constante de proporcionalidad es $k = 0.42$"
      ]
    },
    {
      "cell_type": "code",
      "execution_count": null,
      "id": "e073ea4e",
      "metadata": {
        "id": "e073ea4e",
        "outputId": "84b493fd-f11b-4ac9-bb38-b6eb19ad54cc"
      },
      "outputs": [
        {
          "ename": "TypeError",
          "evalue": "'Symbol' object is not callable",
          "output_type": "error",
          "traceback": [
            "\u001b[1;31m---------------------------------------------------------------------------\u001b[0m",
            "\u001b[1;31mTypeError\u001b[0m                                 Traceback (most recent call last)",
            "\u001b[1;32m~\\AppData\\Local\\Temp/ipykernel_8772/1981983800.py\u001b[0m in \u001b[0;36m<cell line: 1>\u001b[1;34m()\u001b[0m\n\u001b[1;32m----> 1\u001b[1;33m \u001b[0msol_pvi\u001b[0m\u001b[1;33m.\u001b[0m\u001b[0mlhs\u001b[0m\u001b[1;33m.\u001b[0m\u001b[0msubs\u001b[0m\u001b[1;33m(\u001b[0m\u001b[0mt\u001b[0m\u001b[1;33m,\u001b[0m \u001b[1;36m2\u001b[0m\u001b[1;33m)\u001b[0m\u001b[1;33m.\u001b[0m\u001b[0msubs\u001b[0m\u001b[1;33m(\u001b[0m\u001b[0mN\u001b[0m\u001b[1;33m(\u001b[0m\u001b[1;36m2\u001b[0m\u001b[1;33m)\u001b[0m\u001b[1;33m,\u001b[0m \u001b[1;36m500\u001b[0m\u001b[1;33m)\u001b[0m\u001b[1;33m\u001b[0m\u001b[1;33m\u001b[0m\u001b[0m\n\u001b[0m",
            "\u001b[1;31mTypeError\u001b[0m: 'Symbol' object is not callable"
          ]
        }
      ],
      "source": [
        "sol_pvi.lhs.subs(t, 2).subs(N(2), 500)"
      ]
    },
    {
      "cell_type": "code",
      "execution_count": null,
      "id": "0ef9857e",
      "metadata": {
        "id": "0ef9857e"
      },
      "outputs": [],
      "source": [
        ""
      ]
    },
    {
      "cell_type": "markdown",
      "id": "c3b29aec",
      "metadata": {
        "id": "c3b29aec"
      },
      "source": [
        "# Gráfica de la solución animada utilizando un deslizador para el parámetro $C$"
      ]
    },
    {
      "cell_type": "markdown",
      "id": "89d672c0",
      "metadata": {
        "id": "89d672c0"
      },
      "source": [
        "Lo que buscamos con esto es encontrar las cualidades comunes de las soluciones de la ED. "
      ]
    },
    {
      "cell_type": "code",
      "execution_count": 4,
      "id": "1f8fd79e",
      "metadata": {
        "scrolled": false,
        "id": "1f8fd79e",
        "outputId": "7935b9d7-20c3-4b6d-c91d-4bc84c2bd8ba",
        "colab": {
          "base_uri": "https://localhost:8080/",
          "height": 438,
          "referenced_widgets": [
            "d066c009b3274cf9af375bb8d8640ea2",
            "8c918281d32c4814a0da138129a4f34a",
            "ecf984d0021a42baa1b385b54adfc330",
            "94c6250200334f888e866fd71f33dbb6",
            "78bab214709f4f399c39862182a5bce8",
            "91f2cd4cbb594adca2096b5e0bb612de",
            "e4726db55ea8413390e2773509497462"
          ]
        }
      },
      "outputs": [
        {
          "output_type": "display_data",
          "data": {
            "text/plain": [
              "interactive(children=(IntSlider(value=-3, description='c', max=3, min=-3), Output()), _dom_classes=('widget-in…"
            ],
            "application/vnd.jupyter.widget-view+json": {
              "version_major": 2,
              "version_minor": 0,
              "model_id": "d066c009b3274cf9af375bb8d8640ea2"
            }
          },
          "metadata": {}
        },
        {
          "output_type": "execute_result",
          "data": {
            "text/plain": [
              "<function __main__.graficar_sol_gen>"
            ]
          },
          "metadata": {},
          "execution_count": 4
        }
      ],
      "source": [
        "import numpy as np \n",
        "import matplotlib.pyplot as plt \n",
        "\n",
        "from ipywidgets import interact \n",
        "\n",
        "def solGen(c, t):\n",
        "    return c*np.exp(-0.42*t) + 650\n",
        "\n",
        "def graficar_sol_gen(c = -3):\n",
        "    fig, ax = plt.subplots(figsize = (12, 6))\n",
        "    ax.set(xlabel = 'tiempo', ylabel = r'Número de coyotes $N(t)$')\n",
        "    ax.grid() \n",
        "    dominio = np.linspace(0,6) # por que la variable independiente es el tiempo \n",
        "    rango= [solGen(c,t) for t in dominio]\n",
        "    ax.plot(dominio, rango)\n",
        "    ax.axis([min(dominio), max(dominio), 645, 655])\n",
        "    ax.plot([0,6],[650,650], 'g-.', label = 'Asíntota horizontal') # trazo de la asíntota horizontal\n",
        "    ax.legend() \n",
        "\n",
        "interact(graficar_sol_gen, c = (-3,3))\n"
      ]
    },
    {
      "cell_type": "markdown",
      "id": "b77cd874",
      "metadata": {
        "id": "b77cd874"
      },
      "source": [
        "# Cinco observaciones del gráfico de la solución general"
      ]
    },
    {
      "cell_type": "markdown",
      "id": "7511cfd3",
      "metadata": {
        "id": "7511cfd3"
      },
      "source": [
        "1. Todas las soluciones buscan el punto de equilibrio $N = 650$. \n",
        "2. Para los $C_{1}$ negativos las soluciones son crecientes.\n",
        "3. "
      ]
    },
    {
      "cell_type": "markdown",
      "id": "707e2245",
      "metadata": {
        "id": "707e2245"
      },
      "source": [
        "Verificar la solución encontrada utilizando la función `checkode` de sympy "
      ]
    },
    {
      "cell_type": "markdown",
      "id": "8c512e29",
      "metadata": {
        "id": "8c512e29"
      },
      "source": [
        "## Grafique utilizando matplotlib la solución general de la ED\n",
        "\n",
        "No olvide incluir en el gráfico el deslizador para poder que el gráfico quede animado y que el usuario pueda escoger el valor de $C$ correspondiente q la solución que quiera observar. "
      ]
    },
    {
      "cell_type": "code",
      "execution_count": null,
      "id": "904a2324",
      "metadata": {
        "id": "904a2324"
      },
      "outputs": [],
      "source": [
        "import numpy as np \n",
        "import matplotlib.pyplot as plt \n",
        "\n",
        "from ipywidgets import interact \n",
        "\n",
        "\n"
      ]
    },
    {
      "cell_type": "code",
      "execution_count": null,
      "id": "d89f235e",
      "metadata": {
        "id": "d89f235e"
      },
      "outputs": [],
      "source": [
        ""
      ]
    },
    {
      "cell_type": "code",
      "execution_count": null,
      "id": "7a034518",
      "metadata": {
        "id": "7a034518"
      },
      "outputs": [],
      "source": [
        ""
      ]
    },
    {
      "cell_type": "markdown",
      "id": "88952b55",
      "metadata": {
        "id": "88952b55"
      },
      "source": [
        "## Redacte por lo menos 4 observaciones del gráfico animado anterior para caracterizar a las soluciones de la ED. "
      ]
    },
    {
      "cell_type": "code",
      "execution_count": null,
      "id": "56201c9a",
      "metadata": {
        "id": "56201c9a"
      },
      "outputs": [],
      "source": [
        ""
      ]
    },
    {
      "cell_type": "markdown",
      "id": "bca3ffa4",
      "metadata": {
        "id": "bca3ffa4"
      },
      "source": [
        "## Grafique con matplotlib la solución del PVI  y redacte por lo menos 4 observaciones de esta solución"
      ]
    },
    {
      "cell_type": "code",
      "execution_count": null,
      "id": "472196fa",
      "metadata": {
        "id": "472196fa"
      },
      "outputs": [],
      "source": [
        "import numpy as np \n",
        "import matplotlib.pyplot as plt \n",
        "\n",
        "\n"
      ]
    },
    {
      "cell_type": "code",
      "execution_count": null,
      "id": "ec36c70d",
      "metadata": {
        "id": "ec36c70d"
      },
      "outputs": [],
      "source": [
        ""
      ]
    },
    {
      "cell_type": "code",
      "execution_count": null,
      "id": "6285a939",
      "metadata": {
        "id": "6285a939"
      },
      "outputs": [],
      "source": [
        ""
      ]
    },
    {
      "cell_type": "markdown",
      "id": "0b772c26",
      "metadata": {
        "id": "0b772c26"
      },
      "source": [
        "## Referencias  \n",
        "\n",
        "* La documentación de sympy para solución de ODE(Ecuaciones diferenciales ordinarias): https://docs.sympy.org/latest/modules/solvers/ode.html\n",
        "\n"
      ]
    }
  ],
  "metadata": {
    "celltoolbar": "Slideshow",
    "kernelspec": {
      "display_name": "Python 3 (ipykernel)",
      "language": "python",
      "name": "python3"
    },
    "language_info": {
      "codemirror_mode": {
        "name": "ipython",
        "version": 3
      },
      "file_extension": ".py",
      "mimetype": "text/x-python",
      "name": "python",
      "nbconvert_exporter": "python",
      "pygments_lexer": "ipython3",
      "version": "3.9.12"
    },
    "colab": {
      "name": "quinones_morales.ipynb",
      "provenance": []
    },
    "widgets": {
      "application/vnd.jupyter.widget-state+json": {
        "d066c009b3274cf9af375bb8d8640ea2": {
          "model_module": "@jupyter-widgets/controls",
          "model_name": "VBoxModel",
          "model_module_version": "1.5.0",
          "state": {
            "_dom_classes": [
              "widget-interact"
            ],
            "_model_module": "@jupyter-widgets/controls",
            "_model_module_version": "1.5.0",
            "_model_name": "VBoxModel",
            "_view_count": null,
            "_view_module": "@jupyter-widgets/controls",
            "_view_module_version": "1.5.0",
            "_view_name": "VBoxView",
            "box_style": "",
            "children": [
              "IPY_MODEL_8c918281d32c4814a0da138129a4f34a",
              "IPY_MODEL_ecf984d0021a42baa1b385b54adfc330"
            ],
            "layout": "IPY_MODEL_94c6250200334f888e866fd71f33dbb6"
          }
        },
        "8c918281d32c4814a0da138129a4f34a": {
          "model_module": "@jupyter-widgets/controls",
          "model_name": "IntSliderModel",
          "model_module_version": "1.5.0",
          "state": {
            "_dom_classes": [],
            "_model_module": "@jupyter-widgets/controls",
            "_model_module_version": "1.5.0",
            "_model_name": "IntSliderModel",
            "_view_count": null,
            "_view_module": "@jupyter-widgets/controls",
            "_view_module_version": "1.5.0",
            "_view_name": "IntSliderView",
            "continuous_update": true,
            "description": "c",
            "description_tooltip": null,
            "disabled": false,
            "layout": "IPY_MODEL_78bab214709f4f399c39862182a5bce8",
            "max": 3,
            "min": -3,
            "orientation": "horizontal",
            "readout": true,
            "readout_format": "d",
            "step": 1,
            "style": "IPY_MODEL_91f2cd4cbb594adca2096b5e0bb612de",
            "value": -3
          }
        },
        "ecf984d0021a42baa1b385b54adfc330": {
          "model_module": "@jupyter-widgets/output",
          "model_name": "OutputModel",
          "model_module_version": "1.0.0",
          "state": {
            "_dom_classes": [],
            "_model_module": "@jupyter-widgets/output",
            "_model_module_version": "1.0.0",
            "_model_name": "OutputModel",
            "_view_count": null,
            "_view_module": "@jupyter-widgets/output",
            "_view_module_version": "1.0.0",
            "_view_name": "OutputView",
            "layout": "IPY_MODEL_e4726db55ea8413390e2773509497462",
            "msg_id": "",
            "outputs": [
              {
                "output_type": "display_data",
                "data": {
                  "text/plain": "<Figure size 864x432 with 1 Axes>",
                  "image/png": "iVBORw0KGgoAAAANSUhEUgAAAtwAAAFzCAYAAAANC97PAAAABHNCSVQICAgIfAhkiAAAAAlwSFlzAAALEgAACxIB0t1+/AAAADh0RVh0U29mdHdhcmUAbWF0cGxvdGxpYiB2ZXJzaW9uMy4yLjIsIGh0dHA6Ly9tYXRwbG90bGliLm9yZy+WH4yJAAAgAElEQVR4nO3dd5hdV33v//d3etdImlGXJblo3C3bssG4IGMwTmKIQwwXLiUyF4xJLiFPCAkpvxsglzQcQk9C4OIQHBPH1EAMAWLFBeMi2Vi2JbnK6mVUp9f1++McjUayyhxp9ozO6P16nvOcs/dZe5/v0Tq2Pl5ee+1IKSFJkiQpGyXjXYAkSZI0kRm4JUmSpAwZuCVJkqQMGbglSZKkDBm4JUmSpAwZuCVJkqQMlY13AaOtsbExnX766eNdho5RR0cHtbW1412GjpH9V7zsu+Jm/xUv+664LV++vDWl1Hy0dhMucE+fPp1HH310vMvQMVq2bBlLliwZ7zJ0jOy/4mXfFTf7r3jZd8UtIl4aSTunlEiSJEkZMnBLkiRJGTJwS5IkSRmacHO4JUmSRlNfXx8bNmygu7t71M89adIkVq1aNern1eiqqqpizpw5lJeXH9PxBm5JkqQj2LBhA/X19cyfP5+IGNVzt7W1UV9fP6rn1OhKKbFjxw42bNjAggULjukcTimRJEk6gu7ubqZOnTrqYVvFISKYOnXqcf0fDgO3JEnSURRj2P7c5z5He3v7eJcxIRxv/xu4JUmSisB3vvMdIoLVq1cfte3f//3f09HRQV1d3WHb3HbbbWzatOmo5/r0pz9NZ2dnQbUuWbLkuO6LsmnTJm688cZjPv5QRvo9jrf2QzFwS5IkFYE77riDK664gjvuuOOI7QYHB6moqOAjH/nIEdtlGbiPR39/P7NmzeKuu+4a1fOO9fcYzsAtSZJ0gmtvb+f+++/nK1/5Ct/4xjeG9m/evJmrrrqKRYsWce6553LfffdRUlLCxz/+cVpbW1m7di1nnXUW733veznnnHO49tpr6erq4q677uLRRx/l7W9/O4sWLaKrq4uf/vSnXHjhhZx33nm8+93vpqenh89+9rNs2rSJq6++mquvvhqA97///SxevJhzzjmHP/3TPz1szf/2b//GpZdeysKFC7nvvvuA3Hz4m266ifPOO48LL7yQe+65B8iF/ze+8Y285jWv4ZprrmHt2rWce+65ALznPe9h0aJFLFq0iObmZj72sY+RUuLDH/4w5557Lueddx7/+q//Cuy/c+eNN97ImWeeydvf/nZSSsf1PUaDq5RIkiQVYMltS47a5vqF1/N7r/q9ofZLFy1l6aKltHa2cuOd+6dKDAwMcN//uu+o5/vud7/Lddddx8KFC5k6dSrLly/n4osv5l/+5V94/etfzx//8R8zMDBwyBHcZ599ljvuuIN//Md/5C1veQvf/OY3ecc73sHnP/95br31VhYvXkx3dzdLly7lpz/9KQsXLuRd73oXf/d3f8fv/M7v8KlPfYp77rmHpqYmAD7xiU8wZcoUBgYGuOaaa3jiiSc4//zzX/a5/f39PPzww/zHf/wHH/vYx/jJT37CF77wBSKClStXsnr1aq699lqeeeYZAFasWMETTzzBlClTWLt27dB5vvzlLwPw0ksvcd1117F06VK+9a1v8fjjj/OLX/yC1tZWLrnkEq666ioAHnvsMZ566ilmzZrF5ZdfzgMPPMBv//ZvH/P3GA2OcEuSJJ3g7rjjDt761rcC8Na3vnVoWskll1zCV7/6VT760Y+ycuXKQy4xuGDBAhYtWgTAxRdffECY3WfNmjUsWLCAhQsXAvAbv/Eb3HvvvYes5c477+Siiy7iwgsv5KmnnuLpp58+ZLs3velNL/vM+++/n3e84x0AnHnmmcybN28ocL/uda9jypQphzxXd3c3b37zm/nc5z7HvHnzuP/++3nb295GaWkp06dP59WvfjWPPPIIAJdeeilz5syhpKSERYsWHfL7FvI9RoMj3JIkSQVYtnTZMbdvqmk6YLutre2ox+/cuZP/+q//YuXKlUQEAwMDRASf/OQnueqqq7j33nv5wQ9+wNKlS/nd3/1d3vWudx1wfGVl5dDr0tJSurq6Cqp/uBdffJFbb72VRx55hMmTJ7N06dLDLpe373NLS0vp7+8/6rlra2sP+94tt9zCm970Jl772tce9TwHf99DfXYh32M0OMItSZJ0Arvrrrt45zvfyUsvvcTatWtZv349CxYs4L777uOll15i+vTpvPe97+U973kPK1asGPF56+vrhwJ/S0sLa9eu5bnnngPgn//5n3n1q1/9snZ79+6ltraWSZMmsXXrVu6+++6CvsuVV17J7bffDsAzzzzDunXraGlpOeIxX/jCF2hrazvgItArr7ySf/3Xf2VgYIDt27dz7733cumll474+x7v9yiUI9ySJEknsDvuuIM/+IM/OGDfr//6r3PHHXfwyle+kk9+8pOUl5dTV1fH1772tRGfd+nSpdxyyy1UV1fz4IMP8tWvfpU3v/nN9Pf3c8kll3DLLbcAcPPNN3Pdddcxa9Ys7rnnHi688ELOPPNM5s6dy+WXX17Qd/nN3/xN3v/+93PeeedRVlbGbbfddsCI9KHceuutlJeXD02LueWWW3jf+97Hgw8+yAUXXEBE8Nd//dfMmDHjiEsmjub3KFSklDL9gLHW0tKS1qxZM95l6Bjtu7pYxcn+K172XXGz/7K1atUqzjrrrEzO7a3di8ehfgcRsTyltPhoxzqlRJIkScqQgVuSJEnKkIFbkiRJypCBW5Ik6Sgm2jVvKszx9r+BW5Ik6QiqqqrYsWOHofsklVJix44dVFVVHfM5XBZQkiTpCObMmcOGDRvYvn37qJ+7u7v7uIKcxkZVVRVz5sw55uMN3JIkSUdQXl7OggULMjn3smXLuPDCCzM5t04cTimRJEmSMmTgliRJkjJk4JYkSZIyZOCWJEmSMjTmgTsiGiPirohYHRGrIuKyiPhoRGyMiMfzj18+6JhTIqI9In5vrOuVJEmSjsd4rFLyGeCHKaUbI6ICqAFeD/xtSunWwxzzKeDusSpQkiRJGi1jGrgjYhJwFbAUIKXUC/RGxJGOuQF4EegYgxIlSZKkURVjedekiFgEfAl4GrgAWA58EPgwuRC+F3gU+FBKaVdE1AE/Bl4H/B7QfqhR8Ii4GbgZoLm5+eI777wz+y+jTLS3t1NXVzfeZegY2X/Fy74rbvZf8bLvitvVV1+9PKW0+GjtxjpwLwZ+DlyeUnooIj5DLmR/HmgFEvBnwMyU0rsj4lbg4ZTSnRHxUQ4TuIdraWlJa9asyfR7KDvLli1jyZIl412GjpH9V7zsu+Jm/xUv+664RcSIAvdYz+HeAGxIKT2U374L+EhKaeu+BhHxj8D385uvAG6MiL8GGoHBiOhOKX1+LIuWJEmSjtWYBu6U0paIWB8RLSmlNcA1wNMRMTOltDnf7NeAJ/Ptr9x37LARbsO2JEmSisZ4rFLyAeD2/AolLwA3AZ/Nz+9OwFrgfeNQlyRJkjTqxjxwp5QeBw6e6/LOERz30UwKkiRJkjLknSYlSZKkDBm4JUmSpAwZuCVJkqQMGbglSZKkDBm4JUmSpAwZuCVJkqQMGbglSZKkDBm4JUmSpAwZuCVJkqQMGbglSZKkDBm4JUmSpAwZuCVJkqQMGbglSZKkDBm4JUmSpAwZuCVJkqQMGbglSZKkDBm4JUmSpAwZuCVJkqQMGbglSZKkDBm4JUmSpAwZuCVJkqQMGbglSZKkDBm4JUmSpAwZuCVJkqQMGbglSZKkDBm4JUmSpAwZuCVJkqQMGbglSZKkDBm4JUmSpAwZuCVJkqQMGbglSZKkDBm4JUmSpAwZuCVJkqQMGbglSZKkDBm4JUmSpAwZuCVJkqQMGbglSZKkDBm4JUmSpAwZuCVJkqQMGbglSZKkDBm4JUmSpAwZuCVJkqQMGbglSZKkDBm4JUmSpAwZuCVJkqQMGbglSZKkDBm4JUmSpAwZuCVJkqQMGbglSZKkDBm4JUmSpAwZuCVJkqQMGbglSZKkDBm4JUmSpAwZuCVJkqQMGbglSZKkDBm4JUmSpAyNeeCOiMaIuCsiVkfEqoi4LCI+GhEbI+Lx/OOX821fFxHLI2Jl/vk1Y12vJEmSdDzKxuEzPwP8MKV0Y0RUADXA64G/TSndelDbVuANKaVNEXEu8CNg9tiWK0mSJB27MQ3cETEJuApYCpBS6gV6I+KQ7VNKjw3bfAqojojKlFJPxqVKkiRJoyJSSmP3YRGLgC8BTwMXAMuBDwIfJhfC9wKPAh9KKe066NgbgVtSSq89xHlvBm4GaG5uvvjOO+/M8FsoS+3t7dTV1Y13GTpG9l/xsu+Km/1XvOy74nb11VcvTyktPlq7sQ7ci4GfA5enlB6KiM+QC9mfJzd9JAF/BsxMKb172HHnAN8Drk0pPX+kz2hpaUlr1qzJ6isoY8uWLWPJkiXjXYaOkf1XvOy74mb/FS/7rrhFxIgC91hfNLkB2JBSeii/fRdwUUppa0ppIKU0CPwjcOm+AyJiDvBt4F1HC9uSJEnSiWZMA3dKaQuwPiJa8ruuAZ6OiJnDmv0a8CTkVjQBfgB8JKX0wFjWKkmSJI2G8Vil5APA7fkVSl4AbgI+m5/fnYC1wPvybf83cDrwfyLi/+T3XZtS2ja2JUuSJEnHZswDd0rpceDguS7vPEzb/wv838yLkiRJkjLinSYlSZKkDB1T4I6I2ogoHe1iJEmSpIlmRIE7Ikoi4n9GxA8iYhuwGtgcEU9HxCcj4vRsy5QkSZKK00hHuO8BTgP+EJiRUpqbUpoGXEFuXe2/ioh3ZFSjJEmSVLRGetHka1NKfRExP79WNgAppZ3AN4FvRkR5JhVKkiRJRWxEI9wppb78y28d/F5EvPKgNpIkSZLyRjqH+y0R8ZdAfUScFRHDj/tSNqVJkiRJxW+kU0oeAKqA9wCfAloiYjewCejKqDZJkiSp6I0ocKeUNgJfi4jn991iPSKmAvPJrVgiSZIk6RBGFLgjIlLOA/v2pZR2ADsObpNBjZIkSVLRGvGygBHxgYg4ZfjOiKiIiNdExD8BvzH65UmSJEnFbaRzuK8D3g3cERELgN3k5nSXAv8JfDql9Fg2JUqSJEnFa6RzuLuBLwJfzK+33QR0pZR2Z1mcJEmSVOxGuizgvH2vU0p9KaXNhm1JkiTp6EY6peTuiJhGbkWSJ4CV+55TSnuzKk6SJEkqdiOdUnJ2RFQCZwPnAecDvwqcHxE9KaUFGdYoSZIkFa2RjnCTUuoBHouI58jd7KYJWEhupFuSJEnSIYx0He4W4FeA64Fm4MfA7cDNKaXe7MqTJEmSittIR7hXAY8BfwV8Nz/aLUmSJOkoRhq43w+cC/wW8PmI2EHuwsmV5C6c/E5G9UmSJElFbaQXTf7D8O2ImMP+iyd/HTBwS5IkSYcw4osmh0spbQA2AHePbjmSJEnSxDKiG99IkiRJOjYGbkmSJClDBQXuiHhzRNTnX/9JRHwrIi7KpjRJkiSp+BU6wv3/pZTaIuIK4LXAV4C/G/2yJEmSpImh0MA9kH/+FeBLKaUfABWjW5IkSZI0cRQauDdGxD8AbwX+IyIqj+EckiRJ0kmj0LD8FuBHwLUppd3AFODDo16VJEmSNEEUGri7gFrgbfntcmD3qFYkSZIkTSCFBu4vAq9kf+BuA74wqhVJkiRJE0ihd5p8RUrpooh4DCCltCsivGhSkiRJOoxCR7j7IqIUSAAR0QwMjnpVkiRJ0gRRaOD+LPBtYFpEfAK4H/iLUa9KkiRJmiAKmlKSUro9IpYD1wAB3JBSWpVJZZIkSdIEUFDgjoi/Sin9AbD6EPskSZIkHaTQKSWvO8S+XxqNQiRJkqSJaEQj3BHxfuA3gVMj4ol9u4E64IGMapMkSZKK3kinlPwLcDe5CyQ/Mmx/W0pp56hXJUmSJE0QIwrcKaU9wB7gbRFxAXBl/q37AAO3JEmSdBgFzeGOiN8Gbgem5R9fj4gPZFGYJEmSNBEUeqfJ95C722QH5FYoAR4EPjfahUmSJEkTQaGrlAQwMGx7IL9PkiRJ0iEUOsL9VeChiPh2fvsG4CujW5IkSZI0cRR6p8lPRcQy4Ir8rptSSo+NelWSJEnSBFHonSY/AHw9pbQio3okSZKkCaXQOdzTgUci4s6IuC4inL8tSZIkHUFBgTul9CfAGeTmbS8Fno2IP4+I0zKoTZIkSSp6hY5wk1JKwJb8ox+YDNwVEX89yrVJkiRJRa/QOdwfBN4FtAJfBj6cUuqLiBLgWeD3R79ESZIkqXgVuizgFOBNKaWXhu9MKQ1GxPWjV5YkSZI0MRS6LOCfRsQFEfGG/K77Ukq/yL+3atSrkyRJkopcQXO4I+K3gduBafnH1/NLBUqSJEk6hEKnlLwHeEVKqQMgIv4KeBD43GgXJkmSJE0Eha5SEsDAsO2B/D5JkiRJh1DoCPdXgYci4tv57RvIrcktSZIk6RAKvfHNp4CbgJ35x00ppU8Xco6IaIyIuyJidUSsiojLIuKjEbExIh7PP355WPs/jIjnImJNRLy+kM+SJEmSxluhI9yklFYAK47jMz8D/DCldGNEVAA1wOuBv00p3Tq8YUScDbwVOAeYBfwkIhamlAYOPqkkSZJ0Iip0lZJ/iojGYduTI+L/FXD8JOAq8tNQUkq9KaXdRzjkV4FvpJR6UkovAs8BlxZSsyRJkjSeCh3hPn94QE4p7YqICws4fgGwHfhqRFwALAc+mH/vf0fEu4BHgQ+llHYBs4GfDzt+Q37fYa3vXM+S25YcsYjrF17P773q9wBYctsSli5aytJFS2ntbOXGO2886pc4uP2HLvsQb2h5A2ta1/C+77/vqMcf3P7Pr/lzXjX3Vfxs/c/4o5/+0VGPP7j9P1z/D7Q0tfDva/6dv3nwb456/MHt73rLXTTVNHHb47dx2+O3HfX4g9svW7oMgFt/divff+b7Rz1+ePsHNzzIN9/yTQD+8Cd/yN1P3k3j2sbDHju1ZuoB7Xd07eBLb/gSADf/+808s+OZI372wqkLD2g/tXoqf/HavwDg1+/8dXZ07jji8ZfNueyA9pfNueyA39LRTPTf3u7du4/Yfyfyb+/BDQ8e8diJ/ts7Wt+d6L+9o5nov70j9d+J/ts7mon+2zvaP3sn+m/vSE72395whQbukoiYnA/DRMSUAs9RBlwEfCCl9FBEfAb4CPB54M+AlH/+G+DdIz1pRNwM3AxQPqOc3buPNGgOzz//PMt6lwGwe/duVq9ezbLdy9jTt+eoxwIva79y5UrqN9ezrnPdiI4/uP2KFSvofb6XJ/c8OaLjD27/0MMPsblmMytbV47o+IPbP/DAA0wqn8TqLatHdPzB7ZctWwbA8+ufH9Hxw9tv37t9aHvdunUMDAwc8RyDHYMHtN/Tv2doe9PmTezuPPLnb+rddED7jrKOoe3t27ezt2/vEY9fN7jugPbP9xz4Wzqaif7bO1r/nci/vd17j3z8RP/tHa3vTvTf3tFM9N/ekfrvRP/tHc1E/+0d7Z+9E/23dyQn+29vuEgpjbxxbgT6j4B/y+96M/CJlNI/j/D4GcDPU0rz89tXAh9JKf3KsDbzge+nlM6NiD8ESCn9Rf69HwEfTSkd9j/JWlpa0po1a0b8nXRiWbZsGUuWLBnvMnSM7L/iZd8VN/uveNl3xS0ilqeUFh+tXaGrlHwNeBOwNf9400jDdv74LcD6iGjJ77oGeDoiZg5r9mvAk/nX3wPeGhGVEbEAOAN4uJCaJUmSpPF0LKuUPA08fRyf+QHg9vwKJS+QW2bwsxGxiNyUkrXA+/Kf9VRE3Jn/vH7gt1yhRJIkScWk4MB9vFJKjwMHD72/8wjtPwF8ItOiJEmSpIwUemt3SZIkSQUoaIQ7IgJ4O3BqSunjEXEKMCOl5LxqSZIkTUgpJXoHBuntH6Rn36Nv5LOcC51S8kVgEHgN8HGgDfgmcEmB55EkSZJGbHAwF3q7+wbo6c89d/cN0tOfe963v6d/gJ6+Qbrzz0P7+oe16Xv5vv1hev9xvf0DQwH7eBQauF+RUrooIh6DoRvfVBxXBZIkSSo6KSV6+gfp6h2gu38g99w3SFffAD19A3TlH/vC8P5Hfrt/+Hv7gvPL3+/pG6A7H4iPR0VpCZVlJVSWl1BZVrr/uayEirISGqrLc+/nt/e9N7zd/kcpFWUl/NpfjeyzCw3cfRFRSm41ESKimdyItyRJkk4QA4OJrr4BOnv76e4dpLOvn67eXCjO7d8Xhvfv6+oboHvodT5I7wvOw153DwvSxyICqspKqSovoaq8lOryUirL89tlpTTVlVFVXpp/HBiO97WpzD9XleeC8PC2Bx6zPyyXlMQo/ymPXKGB+7PAt4HpEfEJ4EbgT0a9KkmSpAluYDDR1Z/Yurebjp5+OnsH8o9cOO7sHaCzb4Cu3n46egaGAnRnPjh39Obe2xegu/PtO3sHjmk0uKKshOp8AK6uKM2H4RKqK0qZXFNOZXkpNfkgXF1RSlVZCVUVufb7gvPwEL2/XT4E59+vKC0hd1ngyaOgwJ1Suj0ilpO7YQ3ADSmlVaNfliRJ0omjt3+Qzt5+2vPBuL2nn86eATp6++no6aejd4DOnmGv88E5F5Rzz53DgnNHT//+ecE/+emIaqgqL6Gmoozq8lJqKnKP6opSptVXUZ0PvjUV+wPz/tf7jxnebl8g3heOS8dxBHiiG1HgjojfPcxbvxQRv5RS+tQo1iRJknRcBgYTHb39tHfnQnL7vjDc0097z0D++eX7OnqH798fqPsG0og/u7YiF3JrK0upqSijtqKUhupyZjRUUVNZSm1FGTWVpdSUl7F5/VrOP7tlKEDXVJQNheV9AXlfyDYQF6+RjnDX559byK1I8r389hvwVuuSJGmU9PYP0t7TT1t3H23d/bQNBeYDtzt6cmG6bSgwHxiuO3tHtmRbaUlQW1FKXWUZtflHXWUZ0+orh17XVJRRlw/PdZVlQ6G5trKMmorS/HG5fdXlpQXNFV62bCNLXnHKsf5xqUiMKHCnlD4GEBH3AhellNry2x8FfpBZdZIkqWh09w2wd1hQ3h+ac897u/rYO+y9XLDuPyBgj2T5tbKSoK6qjNqKMuqrciF4Sm0Fc6fUUJ8PybWV+9+rHbavtrL0gH2VZSfffGKNvUIvmpwO9A7b7s3vkyRJRSylRHffIHu7+/LBuI+9Xf3DtvuPuL+tu5/egSOH5QioqyijobqcunwgbqqrYH5TLfVVZUNhub6qjLqq8v37qsqor9p/jCFZxabQwP014OGI+HZ++wbgtlGtSJIkHZOUEu09/ezp6ht67D3g9YHv7Xt/b3fu9dHmKVfm1ypuqMqF5saa3KhyQ3UuHDdU5d6r3xeWq8ppqN6/XVdRNq5Ls0njpdBVSj4REXcDV+Z33ZRSemz0y5Ik6eTVPzDInq4+dnf1sbuzjz1dvfnnvqHn3Otednf1sbm1k777fszurj4GBg8fmktLgoaqMiZVl9NQXc6k6nJmT65mUv71pOryXGjOh+R9wbohH5irykvH8E9BmjgKHeEmpbQCWJFBLZIkTSj7Rpx3dfSxq7OXXZ297OnqY1dHL7vywTm3v489+eddnb20dfcf8bwNVWVMqimnsbqCxppyTmko4Yx5M2jM7xseqBuqy4bCdF1lmVMxpHFQcOCWJOlkNDw878yH510dvezsyI0+7zzE9u7O3iNO02ioKqOxpoLJNbnpGfObaplcU5EPzrl9jfn3GocCdPnLlodbtmwZS5acl/UfgaRjZOCWJJ2U+gcG2d3Vx86OXna05wL0jo79oXnf6x0dvezs6GFXR99hLwosLQkm15QzuaaCyTUVzG+q4aLaRhprKpiSD82TayqYXHtgeC4rLRnjby1pPBi4JUkTQkqJPV197MgH6B3tPbR25J73herW9p78+z3s7uojHWbwub6qjKm1FUyprWB2YzXnzW5gSm0lU2srmFxbwZTa/eF6cm0F9ZVeDCjp8AoO3BFxAfsvmrwvpfSL0S1JkqSc/oFBdnb0sr29h9b2XlrbeoZCc2tbz9D+faG6/zAXDDbWlDO1toKptZWcMa2OV546ZShAT6mtGArSU2sraKypoKLMkWdJo6egwB0RHwTeC3wrv+vrEfGllNLnRr0ySdKENDiY2NnZy/a2nv2P9v2vW9v3PXLTPA41Cl1ZVkJTXSVN9ZXMbqzi/NmTaKqvYEptJU11uWA9tW5/kC536oakcVToCPf/Al6RUuoAiIi/Ah4EDNySdJLr7htg294etrV1sy0fnre1db8sVLe29x5y6brq8lKa63OBef7UWhbPn0JTXSXNdRVD4bqpLve+q21IKiaFBu4ABoZtD+T3SZImqM7e/nyQ7mHr3lyY3tbWPRSut+7tYdvebvYeYim70pKgqa6C5vpKmusqOXtmA831lUyrr8rty+9vrq+kttLLiiRNTIX+2+2rwEMH3WnyK6NbkiRpLAwMJrbnQ/Tyrf2se3AtW/bkAvTWvd1s2dvN1j3dtPW8PEhXlJbQXF/J9IZKTm+u4/LTpjKtoSq/r4pp9ZVMq69kck2FFxNKOumNOHBH7v/d/RuwDLgiv9s7TUrSCai7b4Ate7rZvKebLXu72LS7Ox+mu4fC9Pa2Hg6Y2fHYU5SWBNPyofn05jquOL2JaQ25Eenpw54nVZc7pUOSRmjEgTullCLiP1JK5+GdJiVp3HT29ueC9L5AvadraHtTfntXZ9/LjmuoKmPGpCqmN1SxcHr90OvpDVVsfPZJfvk1lzO1tvJlN1WRJB2fQqeUrIiIS1JKj2RSjSSd5PoHBtnW1sOm3V1s3J0L0pt2d+Uf3Wza08XuQ4TpKbUVzGioYtakKi46pZFZjdXMaKhi5qQqZuQfNRWH/1f+sm2rmFZfleVXk6STVqGB+xXAOyJiLdBB7oLJlFI6f7QLk6SJqK27j427u9i4KxeoN+aD9OZ8qN6yt5uDF/CYVF3OzElVzG6s5qJ5jcycVM3sxmpmTMoF6ukNVVSVl47PF5IkHVWhgfv1mVQhSRNASomdHb0HBOoN+0r2ZygAABmZSURBVIL1ri427Op82UoeFaUlzGysYtakai47rYlZjVXMaqzOPSZVMbOxmjpX75Ckolbov8XXAW8HTk0pfTwiTgFmAC+NemWSdILZd+vw9Ttz4Xn9rk7W7+xi/a7OXLDe1UVX38ABx9RVljG7sZrZk6u5eN5kZk+uZs7k6qF9TbWVruIhSRNcoYH7i8Ag8Brg40Ab8E3gklGuS5LGRWdvfy5E7+zMh+rc6/W7utiws/NlS+Q1VJUxd0oNpzXX8uqFzUNBenZjNXMn19BQ7Q1aJOlkV/Ac7pTSRRHxGEBKaVdEVGRQlyRlIqXc2tPrdnby0o5O1u3szL/uYN3OLlrbew5oX1VewtzJNcydUsOl8yczd0oNcyZXMye/b1J1+Th9E0lSsSg0cPdFRCmQACKimdyItySdMPoGBtmwq4u1OzpYnw/WL+3oZH0+XA+f9hEBMxuqOGVqDdecOY1TpuYC9dwpNcydXENTXYUj1JKk41Jo4P4s8G1gWkR8ArgR+JNRr0qSjqK3f5D1u3Ij02tbO1m7o4O1OzpZ29rBxt1dDAxb6qOqvIRTptRwypRaLj+9iXlTa3Lb+XBdWeYKH5Kk7BQUuFNKt0fEcuAacksC3pBSWpVJZZJOen0Dg6zf2cmLrfvDdC5Yd7BxV9cBy+fVVZYxv6mG8+dM4o0XzGJ+Uy3zptYwb0oNzfWVjlJLksZNwWtNpZRWA6szqEXSSSilxLa2Hl7Y3sELre28uL2DF1s7eKG1g3U7Ow8Yqa6vKmNBUy2L5k7m1xbNZt7UWuY31TB/ai1Tap36IUk6MRUUuCNiMfDHwLz8sd74RtKItPf088L2dl5s7eD5fKh+MR+wO3r3z6muLCthQVMtZ82s55fPm8GCpjoWNNWyoKmWyTXlhmpJUtEpdIT7duDDwEq8WFLSQVJKbNvbzXPb2nl+ezvPb+8Yer15T/dQuwiYM7maBU11LJ43hVObc4H61OY6ZjZUuS61JGlCKTRwb08pfS+TSiQVjf6BQV7a2cnz29p5bns7z2/r4Lnt7TyzuZOuH/10qF1tRSmnTavjslOnctq0Ok5rzoXqU6bUeCtySdJJo9DA/acR8WXgp8DQYrUppW+NalWSTgh9A4O8tKODZ7a28+zWdp7Z1sZzW9t5obWdvoH9c6unN1RyWnMdr5pVxlWLWjituY7Tp9UxvcGLFSVJKjRw3wScCZSzf0pJAgzcUhHr7R8WrLe18Wz++cXWjqFgHQFzJ9ewcHodV585jdOn5UL1ac211Fflbv6ybNkylrxq/jh+E0mSTjyFBu5LUkotmVQiKXODg4n1uzpZvaWNNVvaWLO1jWe25IJ1/+D+YD1vSg2nT6vntWdN54zpdZwxrZ7TmuuornAaiCRJhSo0cP8sIs5OKT2dSTWSRkVKidb2XtZsaWP1lr08szUXsJ/Z2j50l8UIOGVKDQun13PtOdM5Y1o9Z0yv47TmOudXS5I0igoN3K8EfhERL5Cbw+2ygNI46+odYM3WNlZv3nvAyPXOjt6hNk11FbTMqOdtl55Cy4w6WmY0sHB6HTUVBS/FL0mSClTo37bXZVKFpKNKKbF1bw+rNu/l6c17WZV/vNjaMXTHxZqKUhZOr+d1Z02nZUY9Z86oZ+GMeprqKse3eEmSTmKFBu7fOMz+jx9vIZL26+0f5Llt7QcE61Wb97Krs2+ozZzJ1Zw1s4FfOX8WZ8+s56yZDcydXOMa1pIknWCOGrgj4jpgRUppG9Ax7K0q4HpgVUa1SSeFjp5+Vm3ey5Mb9/Dkpr08tWkvz21rG1odpLKshDNn1PP6c2Zw1swGzprZwJkz62nIrwwiSZJObCMZ4d4A/HNEfCSl9DfD34iIW4EfZVKZNAHt7uzlqU3Dw/UeXmztIOWnhDTVVXDOrEksaWnmrJkNnD2znvlTaykrLRnfwiVJ0jE7auBOKT0ZEW8ADrUcYA0wZ9SrkiaAbW3duWC9MRewn9q0l427u4ben91YzTmzGrhh0WzOmdXAubMnMa3eG8VIkjTRjGgOd0qpF1gZESvJ3egGoBRoBv4so9qkorGzo5eVG/fwxPrdPLFxDys37GHL3m4gt/zegqZaLpo3mXddNo9zZ0/i7JkNTK6tGOeqJUnSWCj0osnrh73uB7amlPpHsR7phLenq48nN+7hiQ17WLlxN09s2MOGXftHrk9truWy06Zy3uxJnDcnF65rK11+T5Kkk9WIUkBE/J8jvJdSSo5ya0Lq6h3gyU17+MX63fmAnZtzvc8pU2q4YG4j77psHufNbuTc2Q1DtzmXJEmCkY9wdxxiXw3wHmAqTivRBDA4mHihtZ3H1u3m8fW5x+otbQzkF7meNamK8+ZM4saL53D+nEmcN3sSjTVOC5EkSUc20jncQ6uTREQ98EHg3cA3gL853HHSiay1vYfHh4XrX2zYTVt3boZUfWUZ58+dxC2vPpVFcydzwdxJTKuvGueKJUlSMRrxxNKImAL8LvB24J+Ai1JKu7IqTBpNvf2DPLVpDyvW7WbFul38Yv3uoXnXpSVBy/R63nDBLBbNbeTCuY2c1lznDWQkSdKoGOkc7k8CbwK+BJyXUmrPtCrpOLW297DipV0sX7eLFS/t4okNe+jpHwRyy/EtmtvIb1w2n0WnNHLurElUV5SOc8WSJGmiGukI94eAHuBPgD8etk5wACml1JBBbdKIDAwmntnaxvKXdrEiH7DX7ugEoLw0OHf2JN75ynlcPG8yF82bzPQGp4ZIkqSxM9I53N7mTieMjp5+VqzbxaNrcwH7sXW7ae/Jzb1uqqvk4nmNvO3SU7h43mTOnT2JqnJHryVJ0vhxcWCd8Ha09/DI2l08snYnj6zdyVOb9jIwmCgJOHNGAzdcOIuL503m4lOmMHdKtXdqlCRJJ5QxD9wR0Qh8GTiX3F0r351SejD/3oeAW4HmlFJrREwCvg6ckq/11pTSV8e6Zo2dlBLrd3by8Is7efSlnTz84k6e355blbKyrIRFcxt5/6tP45IFU7jolEbXvJYkSSe88Rjh/gzww5TSjRFRQW49byJiLnAtsG5Y298Cnk4pvSEimoE1EXF7/lbzmgAGBxPPbmvn4Rd38PDaXdy/uotdP7oHgIaqMhbPn8KNF8/l0gW56SGVZU4PkSRJxWVMA3d+xPoqYClAPjjvC89/C/w+8N1hhySgPnJzBOqAneRuKa8itS9g//yFHfz8hR089OJOdnbkfgLTGyo5Y3IJ17/iTC6ZP4WW6fUuzSdJkopepJTG7sMiFpFbWvBp4AJgObmb6LwWeE1K6YMRsRZYnJ9SUg98DzgTqAf+R0rpB4c4783AzQDNzc0X33nnnWPxdTQCKSU2tSdW7Rxg9c4B1uwcoK0v915TdXDmlFJaJpfQMqWU5uqgo6ODurq68S1ax6y9vd3+K1L2XXGz/4qXfVfcrr766uUppcVHazfWgXsx8HPg8pTSQxHxGXIj3FcB16aU9hwUuG8ELid3w53TgB8DF6SU9h7uM1paWtKaNWuy/io6jJQOGsF+YSc78iPYsxuruey0qbzy1Km8YsEU5k6pednxy5YtY8mSJWNctUaL/Ve87LviZv8VL/uuuEXEiAL3WM/h3gBsSCk9lN++C/gosAD4RX51iTnAioi4FLgJ+MuU+6+C5yLiRXKj3Q+Pcd06jJQS63Z28sBzO3jguVZ+/sKOAwL2kpZpvPLUKbzy1KmHDNiSJEkT3ZgG7pTSlohYHxEtKaU1wDXAipTSNfvaHDTCvS7f5r6ImA60AC+MZc16ue1tPfzs+VZ+9twO7n+ulY27c7dInzmpile3NHPZqVMN2JIkSXnjsUrJB4Db8yuUvEBuFPtw/gy4LSJWkrur5R+klFrHoEYN097Tz8Mv7hgaxV69pQ3IrSLyqtOauOXVp3L56U0saKp1DWxJkqSDjHngTik9Dhx2rktKaf6w15vILRWoMdTbP8jj63dz/3Ot/Oy5Vh5fv5v+wURFWQmXzp/C7183iytOb+KcWZModRURSZKkI/JOkwLgpR0d3PvMdv77mVYefL6Vjt4BSgLOm9PIzVedyhWnN3HRvMneJl2SJKlABu6TVHtPPw8+v4N7n9nOvc9u56UdnQDMmVzNr144m6vOaOay06Yyqdo7OUqSJB0PA/dJYnAw8fTmvdz77HbufWY7y1/aRd9Aorq8lMtOm8pNr5rPVQubnYctSZI0ygzcE9jOjt78NJHt3Pfsdlrbc8v1nTWzgXdfsYBXn9HMxfMne7t0SZKkDBm4J5CUEk9t2ss9q7dxz5ptPLZ+NynBlNoKrjyjiavOaObKhU1Mq68a71IlSZJOGgbuItfe088Dz7UOheyte3sAuGDOJD54zRlc3TKN82ZPosTVRCRJksaFgbsIvdjawX+t3sY9q7fx8Is76R0YpL6yjCsXNnF1yzSWtEyjub5yvMuUJEkSBu6i0DcwyMMv7uQnq7Zyz+ptrM2vKHL6tDqWXj6fq1umsXj+ZMpLS8a5UkmSJB3MwH2C2tvdx7I12/nJ01u5Z8022rr7qSgr4bJTp3LT5Qt4zZnTvHW6JElSETBwn0A27e7iJ6u28uOnt/LzF3bQN5CYWlvBdefM4HVnT+eKM5qoqbDLJEmSionpbRyllFsb+8dP50L2U5v2AnBqUy3vvnwBrzt7OheeMtnbp0uSJBUxA/cY6xsY5KEXdvLjp7fwk1Xb2Li7iwi46JTJfOSXzuR1Z0/ntOa68S5TkiRJo8TAPQa6+wa4/9lW7n5yCz9ZtZU9XX1UlZdwxenNuaX7znRVEUmSpInKwJ2Rzt5+lq3Zzt1PbuG/Vm2lo3eA+qoyXnfWdF5/7gyuOqOZ6grv8ChJkjTRGbhH0d7uPn66ais/fHIL//3Mdrr7BplaW8EbF83iunNnctmpU6koc+k+SZKkk4mB+zjt7Ojlx09v4e4nt/DAc630DSSmN1TyPxbP5bpzZ3LJ/MmUuT62JEnSScvAfQx2dvTywye38IOVm/j5CzsZGEzMmVzN0lfN57pzZ3Lh3EZvpS5JkiTAwD1ie7r6+M+ntvD9JzZz/3OtDAwmTm2q5f2vPo3rzp3BObMaiDBkS5Ik6UAG7iPo6OnnJ6u28u+/2My9z2ynd2CQOZOrufmqU7n+/JmcPdOQLUmSpCMzcB+kq3eAe9Zs4/tPbOKnq7bR0z/IjIYq3nXZPK6/YBYXzJlkyJYkSdKIGbiBnv4B7n2mle8/sYkfP72Vzt4Bmuoqeeslc7n+gllcfMpk52RLkiTpmJy0gXtwMPHI2p185/GN/OCJzezt7qexppxfXTSbN5w/k1ecOtVbqkuSJOm4nXSB+9mtbXz7sY189/FNbNzdRU1FKdedM4M3LprF5ac3Ue4SfpIkSRpFJ0Xg3rq3m+89vonvPL6RpzbtpbQkuPKMJn7/uhZed/Z0aipOij8GSZIkjYMJmzTbuvv40VNb+c5jG3ng+VZSggvmNvLRN5zN9RfMoqmucrxLlCRJ0klgwgXuzv7EB+54jB8/vYXuvkFOmVLDB15zBjcsmsWpzXXjXZ4kSZJOMhMucG/rTNz/7HbefPFcbrhwNhed0ugyfpIkSRo3Ey5wT6sJHvqj11JR5sWPkiRJGn8TLpXWlIVhW5IkSScMk6kkSZKUIQO3JEmSlCEDtyRJkpQhA7ckSZKUIQO3JEmSlCEDtyRJkpQhA7ckSZKUIQO3JEmSlCEDtyRJkpQhA7ckSZKUIQO3JEmSlCEDtyRJkpQhA7ckSZKUIQO3JEmSlCEDtyRJkpQhA7ckSZKUIQO3JEmSlCEDtyRJkpQhA7ckSZKUIQO3JEmSlCEDtyRJkpQhA7ckSZKUIQO3JEmSlCEDtyRJkpQhA7ckSZKUIQO3JEmSlCEDtyRJkpShMQ/cEdEYEXdFxOqIWBURlw1770MRkSKiadi+JRHxeEQ8FRH/Pdb1SpIkScejbBw+8zPAD1NKN0ZEBVADEBFzgWuBdfsaRkQj8EXgupTSuoiYNg71SpIkScdsTEe4I2IScBXwFYCUUm9KaXf+7b8Ffh9Iww75n8C3Ukrr8u23jWG5kiRJ0nGLlNLRW43Wh0UsAr4EPA1cACwHPgi8FnhNSumDEbEWWJxSao2ITwPlwDlAPfCZlNLXDnHem4GbAZqbmy++8847x+LrKAPt7e3U1dWNdxk6RvZf8bLvipv9V7zsu+J29dVXL08pLT5au7EO3IuBnwOXp5QeiojPAL3kRr2vTSntOShwfx5YDFwDVAMPAr+SUnrmcJ/R0tKS1qxZk/VXUUaWLVvGkiVLxrsMHSP7r3jZd8XN/ite9l1xi4gRBe6xvmhyA7AhpfRQfvsu4CJgAfCLfNieA6yIiBn59j9KKXWklFqBe8mNjEuSJElFYUwDd0ppC7A+Ilryu64BVqSUpqWU5qeU5pML2Rfl234XuCIiyiKiBngFsGosa5YkSZKOx3isUvIB4Pb8CiUvADcdrmFKaVVE/BB4AhgEvpxSenJsypQkSZKO35gH7pTS4+TmZR/u/fkHbX8S+GTGZUmSJEmZ8E6TkiRJUoYM3JIkSVKGDNySJElShgzckiRJUoYM3JIkSVKGDNySJElShgzckiRJUoYM3JIkSVKGDNySJElShgzckiRJUoYM3JIkSVKGDNySJElShgzckiRJUoYM3JIkSVKGDNySJElShgzckiRJUoYM3JIkSVKGDNySJElShgzckiRJUoYM3JIkSVKGDNySJElShgzckiRJUoYM3JIkSVKGDNySJElShgzckiRJUoYM3JIkSVKGDNySJElShiKlNN41jKqIaAPWjHcdOmZNQOt4F6FjZv8VL/uuuNl/xcu+K24tKaX6ozUqG4tKxtialNLi8S5CxyYiHrX/ipf9V7zsu+Jm/xUv+664RcSjI2nnlBJJkiQpQwZuSZIkKUMTMXB/abwL0HGx/4qb/Ve87LviZv8VL/uuuI2o/ybcRZOSJEnSiWQijnBLkiRJJ4wJFbgj4rqIWBMRz0XER8a7Ho1cRPy/iNgWEU+Ody0qTETMjYh7IuLpiHgqIj443jVp5CKiKiIejohf5PvvY+NdkwoTEaUR8VhEfH+8a1FhImJtRKyMiMdHutqFTgwR0RgRd0XE6ohYFRGXHbH9RJlSEhGlwDPA64ANwCPA21JKT49rYRqRiLgKaAe+llI6d7zr0chFxExgZkppRUTUA8uBG/xnrzhERAC1KaX2iCgH7gc+mFL6+TiXphGKiN8FFgMNKaXrx7sejVxErAUWp5Rch7vIRMQ/AfellL4cERVATUpp9+HaT6QR7kuB51JKL6SUeoFvAL86zjVphFJK9wI7x7sOFS6ltDmltCL/ug1YBcwe36o0UimnPb9Znn9MjJGYk0BEzAF+BfjyeNcinSwiYhJwFfAVgJRS75HCNkyswD0bWD9sewP+pS+NqYiYD1wIPDS+lagQ+SkJjwPbgB+nlOy/4vFp4PeBwfEuRMckAf8ZEcsj4ubxLkYjtgDYDnw1P53ryxFRe6QDJlLgljSOIqIO+CbwOymlveNdj0YupTSQUloEzAEujQindRWBiLge2JZSWj7eteiYXZFSugj4JeC38tMrdeIrAy4C/i6ldCHQARzx2sGJFLg3AnOHbc/J75OUsfzc328Ct6eUvjXe9ejY5P+X6D3AdeNdi0bkcuCN+XnA3wBeExFfH9+SVIiU0sb88zbg2+Smx+rEtwHYMOz/Bt5FLoAf1kQK3I8AZ0TEgvzk9bcC3xvnmqQJL3/R3VeAVSmlT413PSpMRDRHRGP+dTW5C89Xj29VGomU0h+mlOaklOaT+zvvv1JK7xjnsjRCEVGbv9Cc/HSEawFX6ioCKaUtwPqIaMnvugY44kIBZZlXNUZSSv0R8b+BHwGlwP9LKT01zmVphCLiDmAJ0BQRG4A/TSl9ZXyr0ghdDrwTWJmfBwzwRyml/xjHmjRyM4F/yq/0VALcmVJyeTkpe9OBb+fGLCgD/iWl9MPxLUkF+ABwe36Q9wXgpiM1njDLAkqSJEknook0pUSSJEk64Ri4JUmSpAwZuCVJkqQMGbglSZKkDBm4JUmSpAwZuCWpyEVEY0T8Zv71rIi4a7xrkiTt57KAklTkImI+8P2Ukrdkl6QTkCPcklT8/hI4LSIej4h/i4gnASKiNCI+GRGPRMQTEfG+/P4lEfHfEfHdiHghIv4yIt4eEQ9HxMqIOC3f7raI+PuIeDQinomI6/P7qyLiq/m2j0XE1eP2zSWpCEyYO01K0knsI8C5KaVF+0a78/v/F7AnpXRJRFQCD0TEf+bfuwA4C9hJ7i5pX04pXRoRHyR3B7XfybebD1wKnAbcExGnA78FpJTSeRFxJvCfEbEwpdSd9ReVpGLkCLckTVzXAu+KiMeBh4CpwBn59x5JKW1OKfUAzwP7gvhKciF7nztTSoMppWfJBfMzgSuArwOklFYDLwELM/4uklS0HOGWpIkrgA+klH50wM6IJUDPsF2Dw7YHOfDvhoMv9PHCH0kqkCPcklT82oD6Q+z/EfD+iCgHiIiFEVFb4LnfHBEl+XndpwJrgPuAt+87J3BKfr8k6RAc4ZakIpdS2hERD+Qvllw17K0vk5sesiIiAtgO3FDg6dcBDwMNwC0ppe6I+CLwdxGxEugHluanpkiSDsFlASVJhxQRt5FbbtB1vSXpODilRJIkScqQI9ySJElShhzhliRJkjJk4JYkSZIyZOCWJEmSMmTgliRJkjJk4JYkSZIyZOCWJEmSMvT/A4RrEiITUDw/AAAAAElFTkSuQmCC\n"
                },
                "metadata": {
                  "needs_background": "light"
                }
              }
            ]
          }
        },
        "94c6250200334f888e866fd71f33dbb6": {
          "model_module": "@jupyter-widgets/base",
          "model_name": "LayoutModel",
          "model_module_version": "1.2.0",
          "state": {
            "_model_module": "@jupyter-widgets/base",
            "_model_module_version": "1.2.0",
            "_model_name": "LayoutModel",
            "_view_count": null,
            "_view_module": "@jupyter-widgets/base",
            "_view_module_version": "1.2.0",
            "_view_name": "LayoutView",
            "align_content": null,
            "align_items": null,
            "align_self": null,
            "border": null,
            "bottom": null,
            "display": null,
            "flex": null,
            "flex_flow": null,
            "grid_area": null,
            "grid_auto_columns": null,
            "grid_auto_flow": null,
            "grid_auto_rows": null,
            "grid_column": null,
            "grid_gap": null,
            "grid_row": null,
            "grid_template_areas": null,
            "grid_template_columns": null,
            "grid_template_rows": null,
            "height": null,
            "justify_content": null,
            "justify_items": null,
            "left": null,
            "margin": null,
            "max_height": null,
            "max_width": null,
            "min_height": null,
            "min_width": null,
            "object_fit": null,
            "object_position": null,
            "order": null,
            "overflow": null,
            "overflow_x": null,
            "overflow_y": null,
            "padding": null,
            "right": null,
            "top": null,
            "visibility": null,
            "width": null
          }
        },
        "78bab214709f4f399c39862182a5bce8": {
          "model_module": "@jupyter-widgets/base",
          "model_name": "LayoutModel",
          "model_module_version": "1.2.0",
          "state": {
            "_model_module": "@jupyter-widgets/base",
            "_model_module_version": "1.2.0",
            "_model_name": "LayoutModel",
            "_view_count": null,
            "_view_module": "@jupyter-widgets/base",
            "_view_module_version": "1.2.0",
            "_view_name": "LayoutView",
            "align_content": null,
            "align_items": null,
            "align_self": null,
            "border": null,
            "bottom": null,
            "display": null,
            "flex": null,
            "flex_flow": null,
            "grid_area": null,
            "grid_auto_columns": null,
            "grid_auto_flow": null,
            "grid_auto_rows": null,
            "grid_column": null,
            "grid_gap": null,
            "grid_row": null,
            "grid_template_areas": null,
            "grid_template_columns": null,
            "grid_template_rows": null,
            "height": null,
            "justify_content": null,
            "justify_items": null,
            "left": null,
            "margin": null,
            "max_height": null,
            "max_width": null,
            "min_height": null,
            "min_width": null,
            "object_fit": null,
            "object_position": null,
            "order": null,
            "overflow": null,
            "overflow_x": null,
            "overflow_y": null,
            "padding": null,
            "right": null,
            "top": null,
            "visibility": null,
            "width": null
          }
        },
        "91f2cd4cbb594adca2096b5e0bb612de": {
          "model_module": "@jupyter-widgets/controls",
          "model_name": "SliderStyleModel",
          "model_module_version": "1.5.0",
          "state": {
            "_model_module": "@jupyter-widgets/controls",
            "_model_module_version": "1.5.0",
            "_model_name": "SliderStyleModel",
            "_view_count": null,
            "_view_module": "@jupyter-widgets/base",
            "_view_module_version": "1.2.0",
            "_view_name": "StyleView",
            "description_width": "",
            "handle_color": null
          }
        },
        "e4726db55ea8413390e2773509497462": {
          "model_module": "@jupyter-widgets/base",
          "model_name": "LayoutModel",
          "model_module_version": "1.2.0",
          "state": {
            "_model_module": "@jupyter-widgets/base",
            "_model_module_version": "1.2.0",
            "_model_name": "LayoutModel",
            "_view_count": null,
            "_view_module": "@jupyter-widgets/base",
            "_view_module_version": "1.2.0",
            "_view_name": "LayoutView",
            "align_content": null,
            "align_items": null,
            "align_self": null,
            "border": null,
            "bottom": null,
            "display": null,
            "flex": null,
            "flex_flow": null,
            "grid_area": null,
            "grid_auto_columns": null,
            "grid_auto_flow": null,
            "grid_auto_rows": null,
            "grid_column": null,
            "grid_gap": null,
            "grid_row": null,
            "grid_template_areas": null,
            "grid_template_columns": null,
            "grid_template_rows": null,
            "height": null,
            "justify_content": null,
            "justify_items": null,
            "left": null,
            "margin": null,
            "max_height": null,
            "max_width": null,
            "min_height": null,
            "min_width": null,
            "object_fit": null,
            "object_position": null,
            "order": null,
            "overflow": null,
            "overflow_x": null,
            "overflow_y": null,
            "padding": null,
            "right": null,
            "top": null,
            "visibility": null,
            "width": null
          }
        }
      }
    }
  },
  "nbformat": 4,
  "nbformat_minor": 5
}