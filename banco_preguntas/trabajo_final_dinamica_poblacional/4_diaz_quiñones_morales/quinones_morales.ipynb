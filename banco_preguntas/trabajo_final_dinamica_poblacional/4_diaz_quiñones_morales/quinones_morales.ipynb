{
 "cells": [
  {
   "cell_type": "markdown",
   "id": "7ca7e81a",
   "metadata": {
    "slideshow": {
     "slide_type": "slide"
    }
   },
   "source": [
    "<table align=\"left\">\n",
    "  <td>\n",
    "    <a href=\"https://colab.research.google.com/github/marco-canas/edo/blob/main/banco_preguntas/trabajo_final_dinamica_poblacional/4_diaz_qui%C3%B1ones_morales/quinones_morales.ipynb\" target=\"_parent\"><img src=\"https://colab.research.google.com/assets/colab-badge.svg\" alt=\"Open In Colab\"/></a>\n",
    "  </td>\n",
    "</table>"
   ]
  },
  {
   "cell_type": "markdown",
   "id": "edd10163",
   "metadata": {
    "slideshow": {
     "slide_type": "slide"
    }
   },
   "source": [
    "# Población salvaje  \n",
    "\n",
    "La razón de cambio del número de iguanas $I(t)$ en una población es directamente proporcional a $500 - I(t)$, donde $t$ es el tiempo en años. Cuando $t = 0$, la población es 150, y cuando $t = 2$, la población se incrementó a 300.   \n",
    "\n",
    "Encontrar la población cuando $t = 3$.  \n",
    "\n",
    "Ejercicio de la página 446 del Larson.  "
   ]
  },
  {
   "cell_type": "markdown",
   "id": "931aad85",
   "metadata": {
    "slideshow": {
     "slide_type": "slide"
    }
   },
   "source": [
    "# Rúbrica "
   ]
  },
  {
   "cell_type": "markdown",
   "id": "72d6997d",
   "metadata": {
    "slideshow": {
     "slide_type": "slide"
    }
   },
   "source": [
    "## Empiece planteando la ED y el PVI que modela la situación planteada"
   ]
  },
  {
   "cell_type": "markdown",
   "id": "ceb8f180",
   "metadata": {
    "slideshow": {
     "slide_type": "slide"
    }
   },
   "source": [
    "$$ \\frac{dI}{dt} = k (500 - I(t)),  \\ \\ \\ I(0) = 150, \\ \\ \\ I(2) = 300, \\ \\ \\ I(3) = ??$$\n",
    "\n",
    "con $t$ medido en años. "
   ]
  },
  {
   "cell_type": "markdown",
   "id": "15c4a6f0",
   "metadata": {
    "slideshow": {
     "slide_type": "slide"
    }
   },
   "source": [
    "Interpretación del PVI: La velocidad de crecimiento del número de coyotes es directamente proporcional al número de coyotes faltante para alcanzar la población límite. "
   ]
  },
  {
   "cell_type": "markdown",
   "id": "56c0d072",
   "metadata": {
    "slideshow": {
     "slide_type": "slide"
    }
   },
   "source": [
    "## Continue clasificando la ED de manera justificada  \n",
    "\n",
    "\n",
    "* diga y justifique si es lineal o no\n",
    "* diga y justifique si es ordinaria o parcial.  \n",
    "* diga y justifique cu+al es el orden de la ED.\n",
    "* diga y justifique si es lineal homogénea \n",
    "* diga y justifique si es de coeficientes constantes o no. \n"
   ]
  },
  {
   "cell_type": "markdown",
   "id": "332a7fa2",
   "metadata": {
    "slideshow": {
     "slide_type": "slide"
    }
   },
   "source": [
    "Es lineal porque se puede expresar en la forma estándar \n",
    "\n",
    "$$ I' + p(t)I = g(t) $$\n",
    "\n",
    "$$ \\frac{dN}{dt} + kN(t) = 650k  $$\n",
    "\n",
    "donde $k$ es la constante de proporcionalidad. \n"
   ]
  },
  {
   "cell_type": "markdown",
   "id": "14f46255",
   "metadata": {
    "slideshow": {
     "slide_type": "slide"
    }
   },
   "source": [
    "Pero también es separable pues se puede ver como una ecuación de la forma:\n",
    "\n",
    "$$ I' = f(I)g(t) $$\n",
    "\n",
    "donde $f(I) = 500-I$\n",
    "y $g(t) = k$, donde $k$ es la constante de proporcionalidad. \n"
   ]
  },
  {
   "cell_type": "markdown",
   "id": "f4f08deb",
   "metadata": {
    "slideshow": {
     "slide_type": "slide"
    }
   },
   "source": [
    "## Resolver analíticamente el problema de crecimiento poblacional que se le asignó\n",
    "Empezaremos resolviendo la ED interpretándola como ED separable. \n",
    "Recuerde verificar por sustitución o por diferenciación implícita. "
   ]
  },
  {
   "cell_type": "markdown",
   "id": "4463195c",
   "metadata": {
    "slideshow": {
     "slide_type": "slide"
    }
   },
   "source": [
    "$$ \\frac{d}{dt}N(t) = k(650-N(t)), \\ \\ \\ \\  $$"
   ]
  },
  {
   "cell_type": "markdown",
   "id": "48e1925f",
   "metadata": {
    "slideshow": {
     "slide_type": "slide"
    }
   },
   "source": [
    "Empecemos separando las variables:\n",
    "\n",
    "$$ \\frac{1}{500 - N}dN = kdt  $$\n"
   ]
  },
  {
   "cell_type": "markdown",
   "id": "2cef858a",
   "metadata": {
    "slideshow": {
     "slide_type": "slide"
    }
   },
   "source": [
    "Integremos el lado izquierdo de la ecuación anterior con respecto a $N$ y el lado derecho de la misma con respecto a $t$:\n",
    "\n",
    "$$ \\int \\frac{1}{500 - I}dI = \\int kdt  $$\n"
   ]
  },
  {
   "cell_type": "markdown",
   "id": "f19d2d19",
   "metadata": {
    "slideshow": {
     "slide_type": "slide"
    }
   },
   "source": [
    "$u = 500 - I $, entonces $du = -dI$"
   ]
  },
  {
   "cell_type": "markdown",
   "id": "1b19dd39",
   "metadata": {
    "slideshow": {
     "slide_type": "slide"
    }
   },
   "source": [
    "$$ \\int  -\\frac{du}{u} = \\int kdt $$"
   ]
  },
  {
   "cell_type": "markdown",
   "id": "7b244b75",
   "metadata": {
    "slideshow": {
     "slide_type": "slide"
    }
   },
   "source": [
    "$$ -\\int  \\frac{du}{u} = \\int kdt $$"
   ]
  },
  {
   "cell_type": "markdown",
   "id": "219cdeeb",
   "metadata": {
    "slideshow": {
     "slide_type": "slide"
    }
   },
   "source": [
    "$$ -ln|u| = kt + C_{1} $$"
   ]
  },
  {
   "cell_type": "markdown",
   "id": "f0995946",
   "metadata": {
    "slideshow": {
     "slide_type": "slide"
    }
   },
   "source": [
    "Note que la fracción propia del lado izquierdo se puede integrar llevandola a la forma $du/u$ con el método de integración de $u$ sustitución:\n",
    "\n",
    "$$ -\\ln(650 - I) = kt + C_{1} $$"
   ]
  },
  {
   "cell_type": "markdown",
   "id": "e09642ef",
   "metadata": {
    "slideshow": {
     "slide_type": "slide"
    }
   },
   "source": [
    "Así hemos obtenido la solución general implícita"
   ]
  },
  {
   "cell_type": "markdown",
   "id": "f25f98ab",
   "metadata": {
    "slideshow": {
     "slide_type": "slide"
    }
   },
   "source": [
    "# Determinación de la solución general explícita, es decir, depejemos la $I$"
   ]
  },
  {
   "cell_type": "markdown",
   "id": "8532254d",
   "metadata": {
    "slideshow": {
     "slide_type": "slide"
    }
   },
   "source": [
    "$$ \\ln \\left( \\frac{1}{500 - I} \\right) = kt + C_{1}  $$"
   ]
  },
  {
   "cell_type": "markdown",
   "id": "af0c240b",
   "metadata": {
    "slideshow": {
     "slide_type": "slide"
    }
   },
   "source": [
    "$$ \\frac{1}{500 - I} = e^{C_{1}}e^{kt} $$"
   ]
  },
  {
   "cell_type": "markdown",
   "id": "b8185bfc",
   "metadata": {
    "slideshow": {
     "slide_type": "slide"
    }
   },
   "source": [
    "$$ \\frac{1}{500 - I} = C_{2}e^{kt} $$"
   ]
  },
  {
   "cell_type": "markdown",
   "id": "dc10d5d9",
   "metadata": {
    "slideshow": {
     "slide_type": "slide"
    }
   },
   "source": [
    "$$ 1 = C_{2}e^{kt}(500 - I) $$ "
   ]
  },
  {
   "cell_type": "markdown",
   "id": "6400ad42",
   "metadata": {},
   "source": [
    "$$ \\frac{1}{C_{2}e^{kt}} = 500 - I $$"
   ]
  },
  {
   "cell_type": "markdown",
   "id": "67ced530",
   "metadata": {},
   "source": [
    "$$ \\frac{1}{C_{2}e^{kt}} - 500 = - I $$"
   ]
  },
  {
   "cell_type": "markdown",
   "id": "da06e921",
   "metadata": {},
   "source": [
    "$$ 500 - \\frac{1}{C_{2}e^{kt}} = I   $$"
   ]
  },
  {
   "cell_type": "markdown",
   "id": "392ab860",
   "metadata": {},
   "source": [
    "$$ 500 - C_{3}e^{-kt} = I $$"
   ]
  },
  {
   "cell_type": "markdown",
   "id": "584c7bfc",
   "metadata": {
    "slideshow": {
     "slide_type": "slide"
    }
   },
   "source": [
    "# Ahora, resolvamos la ED interpretándola como lineal"
   ]
  },
  {
   "cell_type": "code",
   "execution_count": null,
   "id": "82803521",
   "metadata": {},
   "outputs": [],
   "source": []
  },
  {
   "cell_type": "code",
   "execution_count": null,
   "id": "52f32711",
   "metadata": {
    "slideshow": {
     "slide_type": "slide"
    }
   },
   "outputs": [],
   "source": []
  },
  {
   "cell_type": "code",
   "execution_count": null,
   "id": "04729ebf",
   "metadata": {},
   "outputs": [],
   "source": []
  },
  {
   "cell_type": "markdown",
   "id": "1aba7de8",
   "metadata": {
    "slideshow": {
     "slide_type": "slide"
    }
   },
   "source": [
    "## Resolver con sympy el problema que se le asignó y redactar conclusiones verbales de la comparación con la forma analítica de solución y la forma con asistencia computacional de solución"
   ]
  },
  {
   "cell_type": "code",
   "execution_count": 1,
   "id": "36633100",
   "metadata": {
    "slideshow": {
     "slide_type": "slide"
    }
   },
   "outputs": [],
   "source": [
    "from sympy import var, Function, Eq, classify_ode, diff, dsolve, solve, exp, checkodesol"
   ]
  },
  {
   "cell_type": "markdown",
   "id": "27809a03",
   "metadata": {
    "slideshow": {
     "slide_type": "slide"
    }
   },
   "source": [
    "**Sugerencia:**   \n",
    "\n",
    "`dsolve(eq, f(x), hint)` $->$ Solve ordinary differential equation `eq` for function `f(x)`, using method `hint`."
   ]
  },
  {
   "cell_type": "code",
   "execution_count": 2,
   "id": "9592e334",
   "metadata": {
    "slideshow": {
     "slide_type": "slide"
    }
   },
   "outputs": [],
   "source": [
    "I,t, k, C1 = var('I, t, k, C1') # donde k es la constante de proporcionalidad. y C1 constante de integración."
   ]
  },
  {
   "cell_type": "code",
   "execution_count": 3,
   "id": "50149086",
   "metadata": {
    "slideshow": {
     "slide_type": "slide"
    }
   },
   "outputs": [],
   "source": [
    "I = Function('I') # aquí establecimos que N es la variable dependiente. "
   ]
  },
  {
   "cell_type": "code",
   "execution_count": 4,
   "id": "036840d0",
   "metadata": {
    "slideshow": {
     "slide_type": "slide"
    }
   },
   "outputs": [
    {
     "data": {
      "text/latex": [
       "$\\displaystyle \\frac{d}{d t} I{\\left(t \\right)} = k \\left(500 - I{\\left(t \\right)}\\right)$"
      ],
      "text/plain": [
       "Eq(Derivative(I(t), t), k*(500 - I(t)))"
      ]
     },
     "execution_count": 4,
     "metadata": {},
     "output_type": "execute_result"
    }
   ],
   "source": [
    "ed = Eq(diff(I(t), t), k*(500 - I(t))) \n",
    "ed "
   ]
  },
  {
   "cell_type": "code",
   "execution_count": 5,
   "id": "17f4eb3c",
   "metadata": {
    "slideshow": {
     "slide_type": "slide"
    }
   },
   "outputs": [
    {
     "data": {
      "text/plain": [
       "('separable',\n",
       " '1st_exact',\n",
       " '1st_linear',\n",
       " 'Bernoulli',\n",
       " 'almost_linear',\n",
       " '1st_power_series',\n",
       " 'lie_group',\n",
       " 'nth_linear_constant_coeff_undetermined_coefficients',\n",
       " 'nth_linear_constant_coeff_variation_of_parameters',\n",
       " 'separable_Integral',\n",
       " '1st_exact_Integral',\n",
       " '1st_linear_Integral',\n",
       " 'Bernoulli_Integral',\n",
       " 'almost_linear_Integral',\n",
       " 'nth_linear_constant_coeff_variation_of_parameters_Integral')"
      ]
     },
     "execution_count": 5,
     "metadata": {},
     "output_type": "execute_result"
    }
   ],
   "source": [
    "classify_ode(ed, I(t))"
   ]
  },
  {
   "cell_type": "markdown",
   "id": "a2f1495b",
   "metadata": {
    "slideshow": {
     "slide_type": "slide"
    }
   },
   "source": [
    "Entonces, esta función nos dice que esta ecuación es separable, lineal de primer orden, exacta, de Bernoulli. "
   ]
  },
  {
   "cell_type": "markdown",
   "id": "ccd800fa",
   "metadata": {
    "slideshow": {
     "slide_type": "slide"
    }
   },
   "source": [
    "## Resolvamos con SymPy la ED"
   ]
  },
  {
   "cell_type": "code",
   "execution_count": 6,
   "id": "09a65021",
   "metadata": {
    "slideshow": {
     "slide_type": "slide"
    }
   },
   "outputs": [
    {
     "data": {
      "text/latex": [
       "$\\displaystyle I{\\left(t \\right)} = C_{1} e^{- k t} + 500$"
      ],
      "text/plain": [
       "Eq(I(t), C1*exp(-k*t) + 500)"
      ]
     },
     "execution_count": 6,
     "metadata": {},
     "output_type": "execute_result"
    }
   ],
   "source": [
    "sol_gen_1 = dsolve(ed, I(t), hint =  'separable') \n",
    "sol_gen_1 "
   ]
  },
  {
   "cell_type": "code",
   "execution_count": 7,
   "id": "bce34f8d",
   "metadata": {
    "slideshow": {
     "slide_type": "slide"
    }
   },
   "outputs": [
    {
     "data": {
      "text/latex": [
       "$\\displaystyle I{\\left(t \\right)} = \\left(C_{1} + 500 e^{k t}\\right) e^{- k t}$"
      ],
      "text/plain": [
       "Eq(I(t), (C1 + 500*exp(k*t))*exp(-k*t))"
      ]
     },
     "execution_count": 7,
     "metadata": {},
     "output_type": "execute_result"
    }
   ],
   "source": [
    "sol_gen_2 =dsolve(ed, I(t), hint =  '1st_linear') \n",
    "sol_gen_2"
   ]
  },
  {
   "cell_type": "markdown",
   "id": "34c06537",
   "metadata": {
    "slideshow": {
     "slide_type": "slide"
    }
   },
   "source": [
    "Así, hemos obtenido la solución general explícita de la ED que hace parte del PVI, pero no tenemos determinada la constante de proporcionalidad $k$. Pero para ello debemos determinar primero la constante de integración $C_{1}$. "
   ]
  },
  {
   "cell_type": "markdown",
   "id": "551e85fc",
   "metadata": {
    "slideshow": {
     "slide_type": "slide"
    }
   },
   "source": [
    "# Determinación de la constante de integración $C_{1}$"
   ]
  },
  {
   "cell_type": "code",
   "execution_count": 8,
   "id": "48bc5dcc",
   "metadata": {
    "slideshow": {
     "slide_type": "slide"
    }
   },
   "outputs": [
    {
     "data": {
      "text/latex": [
       "$\\displaystyle 150 = C_{1} + 500$"
      ],
      "text/plain": [
       "Eq(150, C1 + 500)"
      ]
     },
     "execution_count": 8,
     "metadata": {},
     "output_type": "execute_result"
    }
   ],
   "source": [
    "ecua = Eq(sol_gen_1.lhs.subs(t,0).subs(I(0), 150), sol_gen_1.rhs.subs(t,0))\n",
    "ecua "
   ]
  },
  {
   "cell_type": "code",
   "execution_count": 9,
   "id": "fc3e69b2",
   "metadata": {
    "slideshow": {
     "slide_type": "slide"
    }
   },
   "outputs": [
    {
     "data": {
      "text/latex": [
       "$\\displaystyle -350$"
      ],
      "text/plain": [
       "-350"
      ]
     },
     "execution_count": 9,
     "metadata": {},
     "output_type": "execute_result"
    }
   ],
   "source": [
    "C1_ = solve(ecua, C1)[0]\n",
    "C1_"
   ]
  },
  {
   "cell_type": "code",
   "execution_count": 10,
   "id": "203cb9d3",
   "metadata": {
    "slideshow": {
     "slide_type": "slide"
    }
   },
   "outputs": [],
   "source": [
    "sol_pvi = sol_gen_1.subs(C1, C1_) "
   ]
  },
  {
   "cell_type": "code",
   "execution_count": 11,
   "id": "720a7d39",
   "metadata": {
    "slideshow": {
     "slide_type": "slide"
    }
   },
   "outputs": [
    {
     "data": {
      "text/latex": [
       "$\\displaystyle I{\\left(t \\right)} = 500 - 350 e^{- k t}$"
      ],
      "text/plain": [
       "Eq(I(t), 500 - 350*exp(-k*t))"
      ]
     },
     "execution_count": 11,
     "metadata": {},
     "output_type": "execute_result"
    }
   ],
   "source": [
    "sol_pvi"
   ]
  },
  {
   "cell_type": "markdown",
   "id": "33c742ff",
   "metadata": {
    "slideshow": {
     "slide_type": "slide"
    }
   },
   "source": [
    "# Determinación de la constante de proporcionalidad"
   ]
  },
  {
   "cell_type": "markdown",
   "id": "bad984bf",
   "metadata": {
    "slideshow": {
     "slide_type": "slide"
    }
   },
   "source": [
    "Esta constante $k$ la determinamos sustituyendo la segunda condición $I(2) = 300$"
   ]
  },
  {
   "cell_type": "code",
   "execution_count": 12,
   "id": "00f054cd",
   "metadata": {
    "slideshow": {
     "slide_type": "slide"
    }
   },
   "outputs": [
    {
     "data": {
      "text/latex": [
       "$\\displaystyle 0.28$"
      ],
      "text/plain": [
       "0.280"
      ]
     },
     "execution_count": 12,
     "metadata": {},
     "output_type": "execute_result"
    }
   ],
   "source": [
    "k = round(solve(Eq(300, 500-350*exp(-k*2)),k)[0].evalf(),3)\n",
    "k "
   ]
  },
  {
   "cell_type": "markdown",
   "id": "2aaeb40d",
   "metadata": {
    "slideshow": {
     "slide_type": "slide"
    }
   },
   "source": [
    "Entonces la constante de proporcionalidad es $k = 0.28$"
   ]
  },
  {
   "cell_type": "code",
   "execution_count": null,
   "id": "f5256fe3",
   "metadata": {
    "slideshow": {
     "slide_type": "slide"
    }
   },
   "outputs": [],
   "source": []
  },
  {
   "cell_type": "markdown",
   "id": "1134964c",
   "metadata": {
    "slideshow": {
     "slide_type": "slide"
    }
   },
   "source": [
    "# Gráfica de la solución animada utilizando un deslizador para el parámetro $C$"
   ]
  },
  {
   "cell_type": "markdown",
   "id": "b2c0b7f7",
   "metadata": {
    "slideshow": {
     "slide_type": "slide"
    }
   },
   "source": [
    "Lo que buscamos con esto es encontrar las cualidades comunes de las soluciones de la ED. "
   ]
  },
  {
   "cell_type": "code",
   "execution_count": 22,
   "id": "85b26899",
   "metadata": {
    "scrolled": false,
    "slideshow": {
     "slide_type": "slide"
    }
   },
   "outputs": [
    {
     "data": {
      "application/vnd.jupyter.widget-view+json": {
       "model_id": "af61e93844574206a12939da63468d3f",
       "version_major": 2,
       "version_minor": 0
      },
      "text/plain": [
       "interactive(children=(IntSlider(value=-340, description='c', max=-340, min=-360), Output()), _dom_classes=('wi…"
      ]
     },
     "metadata": {},
     "output_type": "display_data"
    },
    {
     "data": {
      "text/plain": [
       "<function __main__.graficar_sol_gen(c=-3)>"
      ]
     },
     "execution_count": 22,
     "metadata": {},
     "output_type": "execute_result"
    }
   ],
   "source": [
    "import numpy as np \n",
    "import matplotlib.pyplot as plt \n",
    "\n",
    "from ipywidgets import interact \n",
    "\n",
    "def solGen(c, t):\n",
    "    return c*np.exp(-0.28*t) + 500\n",
    "\n",
    "def graficar_sol_gen(c = -3):\n",
    "    fig, ax = plt.subplots(figsize = (12, 6))\n",
    "    ax.set(xlabel = 'tiempo', ylabel = r'Número de coyotes $N(t)$')\n",
    "    ax.grid() \n",
    "    dominio = np.linspace(0,14)                      # por que la variable independiente es el tiempo \n",
    "    rango= [solGen(c,t) for t in dominio]\n",
    "    ax.plot(dominio, rango)                         # gráfico de la solución para cada C\n",
    "    ax.axis([min(dominio), max(dominio), 100, 510])\n",
    "    ax.plot([0,max(dominio)],[500, 500], 'g-.')                # gráfico de la población límite\n",
    "\n",
    "\n",
    "interact(graficar_sol_gen, c = (-360,-340))\n"
   ]
  },
  {
   "cell_type": "markdown",
   "id": "2fe5507e",
   "metadata": {
    "slideshow": {
     "slide_type": "slide"
    }
   },
   "source": [
    "# Cinco observaciones del gráfico de la solución general"
   ]
  },
  {
   "cell_type": "markdown",
   "id": "a8a1a374",
   "metadata": {},
   "source": [
    "1. Todas las soluciones buscan el punto de equilibrio $N = 650$. \n",
    "2. Para los $C_{1}$ negativos las soluciones son crecientes.\n",
    "3. "
   ]
  },
  {
   "cell_type": "markdown",
   "id": "707e2245",
   "metadata": {
    "slideshow": {
     "slide_type": "slide"
    }
   },
   "source": [
    "Verificar la solución encontrada utilizando la función `checkode` de sympy "
   ]
  },
  {
   "cell_type": "markdown",
   "id": "8c512e29",
   "metadata": {
    "slideshow": {
     "slide_type": "slide"
    }
   },
   "source": [
    "## Grafique utilizando matplotlib la solución general de la ED\n",
    "\n",
    "No olvide incluir en el gráfico el deslizador para poder que el gráfico quede animado y que el usuario pueda escoger el valor de $C$ correspondiente q la solución que quiera observar. "
   ]
  },
  {
   "cell_type": "code",
   "execution_count": null,
   "id": "904a2324",
   "metadata": {
    "slideshow": {
     "slide_type": "slide"
    }
   },
   "outputs": [],
   "source": [
    "import numpy as np \n",
    "import matplotlib.pyplot as plt \n",
    "\n",
    "from ipywidgets import interact \n",
    "\n",
    "\n"
   ]
  },
  {
   "cell_type": "code",
   "execution_count": null,
   "id": "d89f235e",
   "metadata": {
    "slideshow": {
     "slide_type": "slide"
    }
   },
   "outputs": [],
   "source": []
  },
  {
   "cell_type": "code",
   "execution_count": null,
   "id": "7a034518",
   "metadata": {},
   "outputs": [],
   "source": []
  },
  {
   "cell_type": "markdown",
   "id": "88952b55",
   "metadata": {
    "slideshow": {
     "slide_type": "slide"
    }
   },
   "source": [
    "## Redacte por lo menos 4 observaciones del gráfico animado anterior para caracterizar a las soluciones de la ED. "
   ]
  },
  {
   "cell_type": "code",
   "execution_count": null,
   "id": "56201c9a",
   "metadata": {
    "slideshow": {
     "slide_type": "slide"
    }
   },
   "outputs": [],
   "source": []
  },
  {
   "cell_type": "markdown",
   "id": "bca3ffa4",
   "metadata": {
    "slideshow": {
     "slide_type": "slide"
    }
   },
   "source": [
    "## Grafique con matplotlib la solución del PVI  y redacte por lo menos 4 observaciones de esta solución"
   ]
  },
  {
   "cell_type": "code",
   "execution_count": null,
   "id": "472196fa",
   "metadata": {
    "slideshow": {
     "slide_type": "slide"
    }
   },
   "outputs": [],
   "source": [
    "import numpy as np \n",
    "import matplotlib.pyplot as plt \n",
    "\n",
    "\n"
   ]
  },
  {
   "cell_type": "code",
   "execution_count": null,
   "id": "ec36c70d",
   "metadata": {
    "slideshow": {
     "slide_type": "slide"
    }
   },
   "outputs": [],
   "source": []
  },
  {
   "cell_type": "code",
   "execution_count": null,
   "id": "6285a939",
   "metadata": {
    "slideshow": {
     "slide_type": "slide"
    }
   },
   "outputs": [],
   "source": []
  },
  {
   "cell_type": "markdown",
   "id": "0b772c26",
   "metadata": {
    "slideshow": {
     "slide_type": "slide"
    }
   },
   "source": [
    "## Referencias  \n",
    "\n",
    "* La documentación de sympy para solución de ODE(Ecuaciones diferenciales ordinarias): https://docs.sympy.org/latest/modules/solvers/ode.html\n",
    "\n"
   ]
  }
 ],
 "metadata": {
  "celltoolbar": "Slideshow",
  "kernelspec": {
   "display_name": "Python 3 (ipykernel)",
   "language": "python",
   "name": "python3"
  },
  "language_info": {
   "codemirror_mode": {
    "name": "ipython",
    "version": 3
   },
   "file_extension": ".py",
   "mimetype": "text/x-python",
   "name": "python",
   "nbconvert_exporter": "python",
   "pygments_lexer": "ipython3",
   "version": "3.9.12"
  }
 },
 "nbformat": 4,
 "nbformat_minor": 5
}
