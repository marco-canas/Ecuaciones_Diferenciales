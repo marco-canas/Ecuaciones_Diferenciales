{
 "cells": [
  {
   "cell_type": "markdown",
   "id": "7ca7e81a",
   "metadata": {
    "slideshow": {
     "slide_type": "slide"
    }
   },
   "source": [
    "<table align=\"left\">\n",
    "  <td>\n",
    "    <a href=\"https://colab.research.google.com/github/marco-canas/edo/blob/main/banco_preguntas/trabajo_final_dinamica_poblacional/4_diaz_qui%C3%B1ones_morales/quinones_morales.ipynb\" target=\"_parent\"><img src=\"https://colab.research.google.com/assets/colab-badge.svg\" alt=\"Open In Colab\"/></a>\n",
    "  </td>\n",
    "</table>"
   ]
  },
  {
   "cell_type": "markdown",
   "id": "edd10163",
   "metadata": {
    "slideshow": {
     "slide_type": "slide"
    }
   },
   "source": [
    "# Población salvaje  \n",
    "\n",
    "La razón de cambio del número de coyotes $N(t)$ en una población es directamente proporcional a $650 - N(t)$, donde $t$ es el tiempo en años. Cuando $t = 0$, la población es 300, y cuando $t = 2$, la población se incrementó a 500.   \n",
    "\n",
    "Encontrar la población cuando $t = 3$.  \n",
    "\n",
    "Ejercicio de la página 446 del Larson.  "
   ]
  },
  {
   "cell_type": "markdown",
   "id": "931aad85",
   "metadata": {
    "slideshow": {
     "slide_type": "slide"
    }
   },
   "source": [
    "# Rúbrica "
   ]
  },
  {
   "cell_type": "markdown",
   "id": "72d6997d",
   "metadata": {
    "slideshow": {
     "slide_type": "slide"
    }
   },
   "source": [
    "## Empiece planteando la ED y el PVI que modela la situación planteada"
   ]
  },
  {
   "cell_type": "markdown",
   "id": "ceb8f180",
   "metadata": {
    "slideshow": {
     "slide_type": "slide"
    }
   },
   "source": [
    "$$ \\frac{dN}{dt} = k (650 - N(t)),  \\ \\ \\ N(0) = 300, \\ \\ \\ N(2) = 500, \\ \\ \\ N(3) = ??$$\n",
    "\n",
    "con $t$ medido en años. "
   ]
  },
  {
   "cell_type": "markdown",
   "id": "15c4a6f0",
   "metadata": {
    "slideshow": {
     "slide_type": "slide"
    }
   },
   "source": [
    "Interpretación del PVI: La velocidad de crecimiento del número de coyotes es directamente proporcional al número de coyotes faltante para alcanzar la población límite. "
   ]
  },
  {
   "cell_type": "markdown",
   "id": "56c0d072",
   "metadata": {
    "slideshow": {
     "slide_type": "slide"
    }
   },
   "source": [
    "## Continue clasificando la ED de manera justificada  \n",
    "\n",
    "\n",
    "* diga y justifique si es lineal o no\n",
    "* diga y justifique si es ordinaria o parcial.  \n",
    "* diga y justifique cu+al es el orden de la ED.\n",
    "* diga y justifique si es lineal homogénea \n",
    "* diga y justifique si es de coeficientes constantes o no. \n"
   ]
  },
  {
   "cell_type": "markdown",
   "id": "332a7fa2",
   "metadata": {
    "slideshow": {
     "slide_type": "slide"
    }
   },
   "source": [
    "Es lineal porque se puede expresar en la forma estándar \n",
    "\n",
    "$$ N' + p(t)N = g(t) $$\n"
   ]
  },
  {
   "cell_type": "markdown",
   "id": "f4f08deb",
   "metadata": {
    "slideshow": {
     "slide_type": "slide"
    }
   },
   "source": [
    "## Resolver analíticamente el problema de crecimiento poblacional que se le asignó\n",
    "\n",
    "Recuerde resolver por sustitución o por diferenciación implícita. "
   ]
  },
  {
   "cell_type": "markdown",
   "id": "4463195c",
   "metadata": {
    "slideshow": {
     "slide_type": "slide"
    }
   },
   "source": [
    "$$ \\frac{d}{dt}N(t) = k(650-N(t)), \\ \\ \\ \\  $$"
   ]
  },
  {
   "cell_type": "markdown",
   "id": "48e1925f",
   "metadata": {
    "slideshow": {
     "slide_type": "slide"
    }
   },
   "source": [
    "Empecemos separando las variables:\n",
    "\n",
    "$$ \\frac{1}{650 - N}dN = kdt  $$\n"
   ]
  },
  {
   "cell_type": "markdown",
   "id": "2cef858a",
   "metadata": {
    "slideshow": {
     "slide_type": "slide"
    }
   },
   "source": [
    "Integremos el lado izquierdo de la ecuación anterior con respecto a $N$ y el lado derecho de la misma con respecto a $t$:\n",
    "\n",
    "$$ \\int \\frac{1}{650 - N}dN = \\int kdt  $$\n"
   ]
  },
  {
   "cell_type": "markdown",
   "id": "f0995946",
   "metadata": {
    "slideshow": {
     "slide_type": "slide"
    }
   },
   "source": []
  },
  {
   "cell_type": "code",
   "execution_count": null,
   "id": "6790d155",
   "metadata": {
    "slideshow": {
     "slide_type": "slide"
    }
   },
   "outputs": [],
   "source": []
  },
  {
   "cell_type": "code",
   "execution_count": null,
   "id": "f605897b",
   "metadata": {
    "slideshow": {
     "slide_type": "slide"
    }
   },
   "outputs": [],
   "source": []
  },
  {
   "cell_type": "markdown",
   "id": "1aba7de8",
   "metadata": {
    "slideshow": {
     "slide_type": "slide"
    }
   },
   "source": [
    "## Resolver con sympy el problema que se le asignó y redactar conclusiones verbales de la comparación con la forma analítica de solución y la forma con asistencia computacional de solución"
   ]
  },
  {
   "cell_type": "code",
   "execution_count": 36,
   "id": "36633100",
   "metadata": {
    "slideshow": {
     "slide_type": "slide"
    }
   },
   "outputs": [],
   "source": [
    "from sympy import var, Function, Eq, classify_ode, diff, dsolve, solve, exp "
   ]
  },
  {
   "cell_type": "markdown",
   "id": "27809a03",
   "metadata": {
    "slideshow": {
     "slide_type": "slide"
    }
   },
   "source": [
    "**Sugerencia:**   \n",
    "\n",
    "`dsolve(eq, f(x), hint)` $->$ Solve ordinary differential equation `eq` for function `f(x)`, using method `hint`."
   ]
  },
  {
   "cell_type": "code",
   "execution_count": 24,
   "id": "9592e334",
   "metadata": {
    "slideshow": {
     "slide_type": "slide"
    }
   },
   "outputs": [],
   "source": [
    "N,t, k, C1 = var('N, t, k, C1') # donde k es la constante de proporcionalidad."
   ]
  },
  {
   "cell_type": "code",
   "execution_count": 5,
   "id": "50149086",
   "metadata": {
    "slideshow": {
     "slide_type": "slide"
    }
   },
   "outputs": [],
   "source": [
    "N = Function('N') # aquí establecimos que N es la variable dependiente. "
   ]
  },
  {
   "cell_type": "code",
   "execution_count": 7,
   "id": "036840d0",
   "metadata": {
    "slideshow": {
     "slide_type": "slide"
    }
   },
   "outputs": [
    {
     "data": {
      "text/latex": [
       "$\\displaystyle \\frac{d}{d t} N{\\left(t \\right)} = k \\left(650 - N{\\left(t \\right)}\\right)$"
      ],
      "text/plain": [
       "Eq(Derivative(N(t), t), k*(650 - N(t)))"
      ]
     },
     "execution_count": 7,
     "metadata": {},
     "output_type": "execute_result"
    }
   ],
   "source": [
    "ed = Eq(diff(N(t), t), k*(650 - N(t))) \n",
    "ed "
   ]
  },
  {
   "cell_type": "code",
   "execution_count": 8,
   "id": "17f4eb3c",
   "metadata": {
    "slideshow": {
     "slide_type": "slide"
    }
   },
   "outputs": [
    {
     "data": {
      "text/plain": [
       "('separable',\n",
       " '1st_exact',\n",
       " '1st_linear',\n",
       " 'Bernoulli',\n",
       " 'almost_linear',\n",
       " '1st_power_series',\n",
       " 'lie_group',\n",
       " 'nth_linear_constant_coeff_undetermined_coefficients',\n",
       " 'nth_linear_constant_coeff_variation_of_parameters',\n",
       " 'separable_Integral',\n",
       " '1st_exact_Integral',\n",
       " '1st_linear_Integral',\n",
       " 'Bernoulli_Integral',\n",
       " 'almost_linear_Integral',\n",
       " 'nth_linear_constant_coeff_variation_of_parameters_Integral')"
      ]
     },
     "execution_count": 8,
     "metadata": {},
     "output_type": "execute_result"
    }
   ],
   "source": [
    "classify_ode(ed, N(t))"
   ]
  },
  {
   "cell_type": "markdown",
   "id": "a2f1495b",
   "metadata": {
    "slideshow": {
     "slide_type": "slide"
    }
   },
   "source": [
    "Entonces, esta función nos dice que esta ecuación es separable, lineal de primer orden, exacta, de Bernoulli. "
   ]
  },
  {
   "cell_type": "markdown",
   "id": "ccd800fa",
   "metadata": {
    "slideshow": {
     "slide_type": "slide"
    }
   },
   "source": [
    "## Resolvamos con SymPy la ED"
   ]
  },
  {
   "cell_type": "code",
   "execution_count": 10,
   "id": "bce34f8d",
   "metadata": {
    "slideshow": {
     "slide_type": "slide"
    }
   },
   "outputs": [
    {
     "data": {
      "text/latex": [
       "$\\displaystyle N{\\left(t \\right)} = C_{1} e^{- k t} + 650$"
      ],
      "text/plain": [
       "Eq(N(t), C1*exp(-k*t) + 650)"
      ]
     },
     "execution_count": 10,
     "metadata": {},
     "output_type": "execute_result"
    }
   ],
   "source": [
    "sol_gen =dsolve(ed, N(t), hint = 'separable') \n",
    "sol_gen "
   ]
  },
  {
   "cell_type": "markdown",
   "id": "34c06537",
   "metadata": {
    "slideshow": {
     "slide_type": "slide"
    }
   },
   "source": [
    "Así, hemos obtenido la solución general explícita de la ED que hace parte del PVI, pero no tenemos determinada la constante de proporcionalidad. Pero para ello debemos determinar primero la constante de integración $C_{1}$. "
   ]
  },
  {
   "cell_type": "markdown",
   "id": "551e85fc",
   "metadata": {
    "slideshow": {
     "slide_type": "slide"
    }
   },
   "source": [
    "# Determinación de la constante de integración $C_{1}$"
   ]
  },
  {
   "cell_type": "code",
   "execution_count": 20,
   "id": "48bc5dcc",
   "metadata": {
    "slideshow": {
     "slide_type": "slide"
    }
   },
   "outputs": [
    {
     "data": {
      "text/latex": [
       "$\\displaystyle 300 = C_{1} + 650$"
      ],
      "text/plain": [
       "Eq(300, C1 + 650)"
      ]
     },
     "execution_count": 20,
     "metadata": {},
     "output_type": "execute_result"
    }
   ],
   "source": [
    "ecua = Eq(sol_gen.lhs.subs(t,0).subs(N(0), 300), sol_gen.rhs.subs(t,0))\n",
    "ecua "
   ]
  },
  {
   "cell_type": "code",
   "execution_count": 26,
   "id": "fc3e69b2",
   "metadata": {
    "slideshow": {
     "slide_type": "slide"
    }
   },
   "outputs": [
    {
     "data": {
      "text/latex": [
       "$\\displaystyle -350$"
      ],
      "text/plain": [
       "-350"
      ]
     },
     "execution_count": 26,
     "metadata": {},
     "output_type": "execute_result"
    }
   ],
   "source": [
    "solve(ecua, C1)[0]"
   ]
  },
  {
   "cell_type": "code",
   "execution_count": 27,
   "id": "203cb9d3",
   "metadata": {
    "slideshow": {
     "slide_type": "slide"
    }
   },
   "outputs": [],
   "source": [
    "sol_pvi = sol_gen.subs(C1, -350)"
   ]
  },
  {
   "cell_type": "code",
   "execution_count": 28,
   "id": "720a7d39",
   "metadata": {
    "slideshow": {
     "slide_type": "slide"
    }
   },
   "outputs": [
    {
     "data": {
      "text/latex": [
       "$\\displaystyle N{\\left(t \\right)} = 650 - 350 e^{- k t}$"
      ],
      "text/plain": [
       "Eq(N(t), 650 - 350*exp(-k*t))"
      ]
     },
     "execution_count": 28,
     "metadata": {},
     "output_type": "execute_result"
    }
   ],
   "source": [
    "sol_pvi"
   ]
  },
  {
   "cell_type": "markdown",
   "id": "33c742ff",
   "metadata": {
    "slideshow": {
     "slide_type": "slide"
    }
   },
   "source": [
    "# Determinación de la constante de proporcionalidad"
   ]
  },
  {
   "cell_type": "markdown",
   "id": "bad984bf",
   "metadata": {
    "slideshow": {
     "slide_type": "slide"
    }
   },
   "source": [
    "Esta constante $k$ la determinamos sustituyendo la segunda condición $N(2) = 500$"
   ]
  },
  {
   "cell_type": "code",
   "execution_count": 42,
   "id": "00f054cd",
   "metadata": {},
   "outputs": [
    {
     "data": {
      "text/latex": [
       "$\\displaystyle 0.42$"
      ],
      "text/plain": [
       "0.42"
      ]
     },
     "execution_count": 42,
     "metadata": {},
     "output_type": "execute_result"
    }
   ],
   "source": [
    "round(solve(Eq(500, 650-350*exp(-k*2)),k)[0].evalf(),2)"
   ]
  },
  {
   "cell_type": "markdown",
   "id": "2aaeb40d",
   "metadata": {
    "slideshow": {
     "slide_type": "slide"
    }
   },
   "source": [
    "Entonces la constante de proporcionalidad es $k = 0.42$"
   ]
  },
  {
   "cell_type": "code",
   "execution_count": null,
   "id": "f5256fe3",
   "metadata": {
    "slideshow": {
     "slide_type": "slide"
    }
   },
   "outputs": [],
   "source": []
  },
  {
   "cell_type": "markdown",
   "id": "1134964c",
   "metadata": {
    "slideshow": {
     "slide_type": "slide"
    }
   },
   "source": [
    "# Gráfica de la solución animada utilizando un deslizador para el parámetro $C$"
   ]
  },
  {
   "cell_type": "markdown",
   "id": "b2c0b7f7",
   "metadata": {
    "slideshow": {
     "slide_type": "slide"
    }
   },
   "source": [
    "Lo que buscamos con esto es encontrar las cualidades comunes de las soluciones de la ED. "
   ]
  },
  {
   "cell_type": "code",
   "execution_count": 55,
   "id": "85b26899",
   "metadata": {
    "scrolled": false,
    "slideshow": {
     "slide_type": "slide"
    }
   },
   "outputs": [
    {
     "data": {
      "application/vnd.jupyter.widget-view+json": {
       "model_id": "d3b60c0853cc4374ad4bff985d7279be",
       "version_major": 2,
       "version_minor": 0
      },
      "text/plain": [
       "interactive(children=(IntSlider(value=-3, description='c', max=3, min=-3), Output()), _dom_classes=('widget-in…"
      ]
     },
     "metadata": {},
     "output_type": "display_data"
    },
    {
     "data": {
      "text/plain": [
       "<function __main__.graficar_sol_gen(c=-3)>"
      ]
     },
     "execution_count": 55,
     "metadata": {},
     "output_type": "execute_result"
    }
   ],
   "source": [
    "import numpy as np \n",
    "import matplotlib.pyplot as plt \n",
    "\n",
    "from ipywidgets import interact \n",
    "\n",
    "def solGen(c, t):\n",
    "    return c*np.exp(-0.42*t) + 650\n",
    "\n",
    "def graficar_sol_gen(c = -3):\n",
    "    fig, ax = plt.subplots(figsize = (12, 6))\n",
    "    ax.set(xlabel = 'tiempo', ylabel = r'Número de coyotes $N(t)$')\n",
    "    ax.grid() \n",
    "    dominio = np.linspace(0,6) # por que la variable independiente es el tiempo \n",
    "    rango= [solGen(c,t) for t in dominio]\n",
    "    ax.plot(dominio, rango)\n",
    "    ax.axis([min(dominio), max(dominio), 645, 655])\n",
    "    ax.plot([0,6],[650,650], 'g-.')\n",
    "\n",
    "\n",
    "interact(graficar_sol_gen, c = (-3,3))\n"
   ]
  },
  {
   "cell_type": "markdown",
   "id": "2fe5507e",
   "metadata": {
    "slideshow": {
     "slide_type": "slide"
    }
   },
   "source": [
    "# Cinco observaciones del gráfico de la solución general"
   ]
  },
  {
   "cell_type": "markdown",
   "id": "a8a1a374",
   "metadata": {},
   "source": [
    "1. Todas las soluciones buscan el punto de equilibrio $N = 650$. \n",
    "2. Para los $C_{1}$ negativos las soluciones son crecientes.\n",
    "3. "
   ]
  },
  {
   "cell_type": "markdown",
   "id": "707e2245",
   "metadata": {
    "slideshow": {
     "slide_type": "slide"
    }
   },
   "source": [
    "Verificar la solución encontrada utilizando la función `checkode` de sympy "
   ]
  },
  {
   "cell_type": "markdown",
   "id": "8c512e29",
   "metadata": {
    "slideshow": {
     "slide_type": "slide"
    }
   },
   "source": [
    "## Grafique utilizando matplotlib la solución general de la ED\n",
    "\n",
    "No olvide incluir en el gráfico el deslizador para poder que el gráfico quede animado y que el usuario pueda escoger el valor de $C$ correspondiente q la solución que quiera observar. "
   ]
  },
  {
   "cell_type": "code",
   "execution_count": null,
   "id": "904a2324",
   "metadata": {
    "slideshow": {
     "slide_type": "slide"
    }
   },
   "outputs": [],
   "source": [
    "import numpy as np \n",
    "import matplotlib.pyplot as plt \n",
    "\n",
    "from ipywidgets import interact \n",
    "\n",
    "\n"
   ]
  },
  {
   "cell_type": "code",
   "execution_count": null,
   "id": "d89f235e",
   "metadata": {
    "slideshow": {
     "slide_type": "slide"
    }
   },
   "outputs": [],
   "source": []
  },
  {
   "cell_type": "code",
   "execution_count": null,
   "id": "7a034518",
   "metadata": {},
   "outputs": [],
   "source": []
  },
  {
   "cell_type": "markdown",
   "id": "88952b55",
   "metadata": {
    "slideshow": {
     "slide_type": "slide"
    }
   },
   "source": [
    "## Redacte por lo menos 4 observaciones del gráfico animado anterior para caracterizar a las soluciones de la ED. "
   ]
  },
  {
   "cell_type": "code",
   "execution_count": null,
   "id": "56201c9a",
   "metadata": {
    "slideshow": {
     "slide_type": "slide"
    }
   },
   "outputs": [],
   "source": []
  },
  {
   "cell_type": "markdown",
   "id": "bca3ffa4",
   "metadata": {
    "slideshow": {
     "slide_type": "slide"
    }
   },
   "source": [
    "## Grafique con matplotlib la solución del PVI  y redacte por lo menos 4 observaciones de esta solución"
   ]
  },
  {
   "cell_type": "code",
   "execution_count": null,
   "id": "472196fa",
   "metadata": {
    "slideshow": {
     "slide_type": "slide"
    }
   },
   "outputs": [],
   "source": [
    "import numpy as np \n",
    "import matplotlib.pyplot as plt \n",
    "\n",
    "\n"
   ]
  },
  {
   "cell_type": "code",
   "execution_count": null,
   "id": "ec36c70d",
   "metadata": {
    "slideshow": {
     "slide_type": "slide"
    }
   },
   "outputs": [],
   "source": []
  },
  {
   "cell_type": "code",
   "execution_count": null,
   "id": "6285a939",
   "metadata": {
    "slideshow": {
     "slide_type": "slide"
    }
   },
   "outputs": [],
   "source": []
  },
  {
   "cell_type": "markdown",
   "id": "0b772c26",
   "metadata": {
    "slideshow": {
     "slide_type": "slide"
    }
   },
   "source": [
    "## Referencias  \n",
    "\n",
    "* La documentación de sympy para solución de ODE(Ecuaciones diferenciales ordinarias): https://docs.sympy.org/latest/modules/solvers/ode.html\n",
    "\n"
   ]
  }
 ],
 "metadata": {
  "celltoolbar": "Slideshow",
  "kernelspec": {
   "display_name": "Python 3 (ipykernel)",
   "language": "python",
   "name": "python3"
  },
  "language_info": {
   "codemirror_mode": {
    "name": "ipython",
    "version": 3
   },
   "file_extension": ".py",
   "mimetype": "text/x-python",
   "name": "python",
   "nbconvert_exporter": "python",
   "pygments_lexer": "ipython3",
   "version": "3.9.12"
  }
 },
 "nbformat": 4,
 "nbformat_minor": 5
}
