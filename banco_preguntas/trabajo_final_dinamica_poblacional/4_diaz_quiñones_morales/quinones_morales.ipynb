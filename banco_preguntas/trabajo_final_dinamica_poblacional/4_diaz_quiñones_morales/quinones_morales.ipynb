{
 "cells": [
  {
   "cell_type": "markdown",
   "id": "69c5c80d",
   "metadata": {
    "slideshow": {
     "slide_type": "slide"
    }
   },
   "source": [
    "<table align=\"left\">\n",
    "  <td>\n",
    "    <a href=\"https://colab.research.google.com/github/marco-canas/didactica_ciencia_datos/blob/main/referentes/geron/part_2/c_10/c_10.ipynb\" target=\"_parent\"><img src=\"https://colab.research.google.com/assets/colab-badge.svg\" alt=\"Open In Colab\"/></a>\n",
    "  </td>\n",
    "</table>"
   ]
  },
  {
   "cell_type": "markdown",
   "id": "07359dd4",
   "metadata": {
    "slideshow": {
     "slide_type": "slide"
    }
   },
   "source": [
    "# Población salvaje  \n",
    "\n",
    "La razón de cambio del número de coyotes $N(t)$ en una población es directamente proporcional a $650 - N(t)$, donde $t$ es el tiempo en años. Cuando $t = 0$, la población es 300, y cuando $t = 2$, la población se incrementó a 500.   \n",
    "\n",
    "Encontrar la población cuando $t = 3$.  \n",
    "\n",
    "Ejercicio de la página 446 del Larson.  "
   ]
  },
  {
   "cell_type": "markdown",
   "id": "c3f404b1",
   "metadata": {
    "slideshow": {
     "slide_type": "slide"
    }
   },
   "source": [
    "# Rúbrica "
   ]
  },
  {
   "cell_type": "markdown",
   "id": "d731df2c",
   "metadata": {
    "slideshow": {
     "slide_type": "slide"
    }
   },
   "source": [
    "## Resolver analíticamente el problema de crecimiento poblacional que se le asignó\n",
    "\n",
    "Recuerde resolver por sustitución o por diferenciación implícita. "
   ]
  },
  {
   "cell_type": "code",
   "execution_count": null,
   "id": "1882229f",
   "metadata": {
    "slideshow": {
     "slide_type": "slide"
    }
   },
   "outputs": [],
   "source": []
  },
  {
   "cell_type": "markdown",
   "id": "e0c8cd15",
   "metadata": {
    "slideshow": {
     "slide_type": "slide"
    }
   },
   "source": [
    "## Resolver con sympy el problema que se le asignó y redactar conclusiones verbales de la comparación con la forma analítica de solución y la forma con asistencia computacional de solución"
   ]
  },
  {
   "cell_type": "code",
   "execution_count": null,
   "id": "4efd045a",
   "metadata": {
    "slideshow": {
     "slide_type": "slide"
    }
   },
   "outputs": [],
   "source": []
  },
  {
   "cell_type": "markdown",
   "id": "664bf875",
   "metadata": {
    "slideshow": {
     "slide_type": "slide"
    }
   },
   "source": [
    "## Grafique utilizando matplotlib la solución general de la ED\n",
    "\n",
    "No olvide incluir en el gráfico el deslizador para poder que el gráfico quede animado y que el usuario pueda escoger el valor de $C$ correspondiente q la solución que quiera observar. "
   ]
  },
  {
   "cell_type": "code",
   "execution_count": null,
   "id": "76f77e25",
   "metadata": {
    "slideshow": {
     "slide_type": "slide"
    }
   },
   "outputs": [],
   "source": []
  },
  {
   "cell_type": "markdown",
   "id": "4e50d076",
   "metadata": {
    "slideshow": {
     "slide_type": "slide"
    }
   },
   "source": [
    "## Redacte por lo menos 4 observaciones del gráfico animado anterior para caracterizar a las soluciones de la ED. "
   ]
  },
  {
   "cell_type": "code",
   "execution_count": null,
   "id": "026bd21b",
   "metadata": {
    "slideshow": {
     "slide_type": "slide"
    }
   },
   "outputs": [],
   "source": []
  },
  {
   "cell_type": "markdown",
   "id": "ccfc407f",
   "metadata": {
    "slideshow": {
     "slide_type": "slide"
    }
   },
   "source": [
    "## Grafique con matplotlib la solución del PVI  y redacte por lo menos 4 observaciones de esta solución"
   ]
  },
  {
   "cell_type": "code",
   "execution_count": null,
   "id": "e6fc250a",
   "metadata": {
    "slideshow": {
     "slide_type": "slide"
    }
   },
   "outputs": [],
   "source": []
  },
  {
   "cell_type": "code",
   "execution_count": null,
   "id": "877443c7",
   "metadata": {
    "slideshow": {
     "slide_type": "slide"
    }
   },
   "outputs": [],
   "source": []
  },
  {
   "cell_type": "code",
   "execution_count": null,
   "id": "c096bb0c",
   "metadata": {},
   "outputs": [],
   "source": []
  },
  {
   "cell_type": "code",
   "execution_count": null,
   "id": "2aa63fd9",
   "metadata": {},
   "outputs": [],
   "source": []
  }
 ],
 "metadata": {
  "celltoolbar": "Slideshow",
  "kernelspec": {
   "display_name": "Python 3 (ipykernel)",
   "language": "python",
   "name": "python3"
  },
  "language_info": {
   "codemirror_mode": {
    "name": "ipython",
    "version": 3
   },
   "file_extension": ".py",
   "mimetype": "text/x-python",
   "name": "python",
   "nbconvert_exporter": "python",
   "pygments_lexer": "ipython3",
   "version": "3.9.12"
  }
 },
 "nbformat": 4,
 "nbformat_minor": 5
}
