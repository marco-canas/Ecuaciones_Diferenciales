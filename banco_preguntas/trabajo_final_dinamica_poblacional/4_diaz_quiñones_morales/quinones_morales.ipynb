{
 "cells": [
  {
   "cell_type": "markdown",
   "id": "d9d484c4",
   "metadata": {
    "slideshow": {
     "slide_type": "slide"
    }
   },
   "source": [
    "<table align=\"left\">\n",
    "  <td>\n",
    "    <a href=\"https://colab.research.google.com/github/marco-canas/edo/blob/main/banco_preguntas/trabajo_final_dinamica_poblacional/4_diaz_qui%C3%B1ones_morales/quinones_morales.ipynb\" target=\"_parent\"><img src=\"https://colab.research.google.com/assets/colab-badge.svg\" alt=\"Open In Colab\"/></a>\n",
    "  </td>\n",
    "</table>"
   ]
  },
  {
   "cell_type": "markdown",
   "id": "471626d1",
   "metadata": {
    "slideshow": {
     "slide_type": "slide"
    }
   },
   "source": [
    "# Población salvaje  \n",
    "\n",
    "La razón de cambio del número de coyotes $N(t)$ en una población es directamente proporcional a $650 - N(t)$, donde $t$ es el tiempo en años. Cuando $t = 0$, la población es 300, y cuando $t = 2$, la población se incrementó a 500.   \n",
    "\n",
    "Encontrar la población cuando $t = 3$.  \n",
    "\n",
    "Ejercicio de la página 446 del Larson.  "
   ]
  },
  {
   "cell_type": "markdown",
   "id": "178a0578",
   "metadata": {
    "slideshow": {
     "slide_type": "slide"
    }
   },
   "source": [
    "# Rúbrica "
   ]
  },
  {
   "cell_type": "markdown",
   "id": "2932d930",
   "metadata": {
    "slideshow": {
     "slide_type": "slide"
    }
   },
   "source": [
    "## Empiece planteando la ED y el PVI que modela la situación planteada"
   ]
  },
  {
   "cell_type": "code",
   "execution_count": null,
   "id": "6609e5a2",
   "metadata": {
    "slideshow": {
     "slide_type": "slide"
    }
   },
   "outputs": [],
   "source": []
  },
  {
   "cell_type": "markdown",
   "id": "62cb4b85",
   "metadata": {
    "slideshow": {
     "slide_type": "slide"
    }
   },
   "source": [
    "## Continue clasificando la ED de manera justificada  \n",
    "\n",
    "\n",
    "* diga y justifique si es lineal o no\n",
    "* diga y justifique si es ordinaria o parcial.  \n",
    "* diga y justifique cu+al es el orden de la ED.\n",
    "* diga y justifique si es lineal homogénea \n",
    "* diga y justifique si es de coeficientes constantes o no. \n"
   ]
  },
  {
   "cell_type": "markdown",
   "id": "c30a2b00",
   "metadata": {
    "slideshow": {
     "slide_type": "slide"
    }
   },
   "source": [
    "## Resolver analíticamente el problema de crecimiento poblacional que se le asignó\n",
    "\n",
    "Recuerde resolver por sustitución o por diferenciación implícita. "
   ]
  },
  {
   "cell_type": "markdown",
   "id": "a31770a9",
   "metadata": {
    "slideshow": {
     "slide_type": "slide"
    }
   },
   "source": []
  },
  {
   "cell_type": "markdown",
   "id": "c0493c89",
   "metadata": {
    "slideshow": {
     "slide_type": "slide"
    }
   },
   "source": []
  },
  {
   "cell_type": "code",
   "execution_count": null,
   "id": "3a756ffc",
   "metadata": {},
   "outputs": [],
   "source": []
  },
  {
   "cell_type": "markdown",
   "id": "081190f8",
   "metadata": {
    "slideshow": {
     "slide_type": "slide"
    }
   },
   "source": [
    "## Resolver con sympy el problema que se le asignó y redactar conclusiones verbales de la comparación con la forma analítica de solución y la forma con asistencia computacional de solución"
   ]
  },
  {
   "cell_type": "code",
   "execution_count": null,
   "id": "2171ead6",
   "metadata": {
    "slideshow": {
     "slide_type": "slide"
    }
   },
   "outputs": [],
   "source": [
    "from sympy import var, Function, Eq, classifyode, diff, dsolve, solvers"
   ]
  },
  {
   "cell_type": "markdown",
   "id": "ad1f1a51",
   "metadata": {
    "slideshow": {
     "slide_type": "slide"
    }
   },
   "source": [
    "**Sugerencia:**   \n",
    "\n",
    "`dsolve(eq, f(x), hint)` $->$ Solve ordinary differential equation `eq` for function `f(x)`, using method `hint`."
   ]
  },
  {
   "cell_type": "code",
   "execution_count": null,
   "id": "ddc6d276",
   "metadata": {
    "slideshow": {
     "slide_type": "slide"
    }
   },
   "outputs": [],
   "source": []
  },
  {
   "cell_type": "markdown",
   "id": "c8c08c0d",
   "metadata": {
    "slideshow": {
     "slide_type": "slide"
    }
   },
   "source": [
    "Verificar la solución encontrada utilizando la función `checkode` de sympy "
   ]
  },
  {
   "cell_type": "markdown",
   "id": "9566babf",
   "metadata": {
    "slideshow": {
     "slide_type": "slide"
    }
   },
   "source": [
    "## Grafique utilizando matplotlib la solución general de la ED\n",
    "\n",
    "No olvide incluir en el gráfico el deslizador para poder que el gráfico quede animado y que el usuario pueda escoger el valor de $C$ correspondiente q la solución que quiera observar. "
   ]
  },
  {
   "cell_type": "code",
   "execution_count": null,
   "id": "efb76e7d",
   "metadata": {
    "slideshow": {
     "slide_type": "slide"
    }
   },
   "outputs": [],
   "source": []
  },
  {
   "cell_type": "markdown",
   "id": "209b93ba",
   "metadata": {
    "slideshow": {
     "slide_type": "slide"
    }
   },
   "source": [
    "## Redacte por lo menos 4 observaciones del gráfico animado anterior para caracterizar a las soluciones de la ED. "
   ]
  },
  {
   "cell_type": "code",
   "execution_count": null,
   "id": "284de1fc",
   "metadata": {
    "slideshow": {
     "slide_type": "slide"
    }
   },
   "outputs": [],
   "source": []
  },
  {
   "cell_type": "markdown",
   "id": "ec1d6fc5",
   "metadata": {
    "slideshow": {
     "slide_type": "slide"
    }
   },
   "source": [
    "## Grafique con matplotlib la solución del PVI  y redacte por lo menos 4 observaciones de esta solución"
   ]
  },
  {
   "cell_type": "code",
   "execution_count": null,
   "id": "4e4a94cd",
   "metadata": {
    "slideshow": {
     "slide_type": "slide"
    }
   },
   "outputs": [],
   "source": [
    "import numpy as np \n",
    "import matplotlib.pyplot as plt \n",
    "\n"
   ]
  },
  {
   "cell_type": "code",
   "execution_count": null,
   "id": "86a96d6a",
   "metadata": {
    "slideshow": {
     "slide_type": "slide"
    }
   },
   "outputs": [],
   "source": []
  },
  {
   "cell_type": "code",
   "execution_count": null,
   "id": "d8234c3d",
   "metadata": {
    "slideshow": {
     "slide_type": "slide"
    }
   },
   "outputs": [],
   "source": []
  },
  {
   "cell_type": "markdown",
   "id": "37983ad1",
   "metadata": {
    "slideshow": {
     "slide_type": "slide"
    }
   },
   "source": [
    "## Referencias  \n",
    "\n",
    "* La documentación de sympy para solución de ODE(Ecuaciones diferenciales ordinarias): https://docs.sympy.org/latest/modules/solvers/ode.html\n",
    "\n"
   ]
  }
 ],
 "metadata": {
  "celltoolbar": "Slideshow",
  "kernelspec": {
   "display_name": "Python 3 (ipykernel)",
   "language": "python",
   "name": "python3"
  },
  "language_info": {
   "codemirror_mode": {
    "name": "ipython",
    "version": 3
   },
   "file_extension": ".py",
   "mimetype": "text/x-python",
   "name": "python",
   "nbconvert_exporter": "python",
   "pygments_lexer": "ipython3",
   "version": "3.9.12"
  }
 },
 "nbformat": 4,
 "nbformat_minor": 5
}
