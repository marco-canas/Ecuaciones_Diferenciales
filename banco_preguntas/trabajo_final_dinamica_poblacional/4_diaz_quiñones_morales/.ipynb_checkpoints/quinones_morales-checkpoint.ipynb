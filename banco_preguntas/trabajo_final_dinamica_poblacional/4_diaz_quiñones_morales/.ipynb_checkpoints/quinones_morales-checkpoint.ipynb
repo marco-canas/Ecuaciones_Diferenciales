{
 "cells": [
  {
   "cell_type": "markdown",
   "id": "7ca7e81a",
   "metadata": {
    "slideshow": {
     "slide_type": "slide"
    }
   },
   "source": [
    "<table align=\"left\">\n",
    "  <td>\n",
    "    <a href=\"https://colab.research.google.com/github/marco-canas/edo/blob/main/banco_preguntas/trabajo_final_dinamica_poblacional/4_diaz_qui%C3%B1ones_morales/quinones_morales.ipynb\" target=\"_parent\"><img src=\"https://colab.research.google.com/assets/colab-badge.svg\" alt=\"Open In Colab\"/></a>\n",
    "  </td>\n",
    "</table>"
   ]
  },
  {
   "cell_type": "markdown",
   "id": "edd10163",
   "metadata": {
    "slideshow": {
     "slide_type": "slide"
    }
   },
   "source": [
    "# Población salvaje  \n",
    "\n",
    "La razón de cambio del número de coyotes $N(t)$ en una población es directamente proporcional a $650 - N(t)$, donde $t$ es el tiempo en años. Cuando $t = 0$, la población es 300, y cuando $t = 2$, la población se incrementó a 500.   \n",
    "\n",
    "Encontrar la población cuando $t = 3$.  \n",
    "\n",
    "Ejercicio de la página 446 del Larson.  "
   ]
  },
  {
   "cell_type": "markdown",
   "id": "931aad85",
   "metadata": {
    "slideshow": {
     "slide_type": "slide"
    }
   },
   "source": [
    "# Rúbrica "
   ]
  },
  {
   "cell_type": "markdown",
   "id": "72d6997d",
   "metadata": {
    "slideshow": {
     "slide_type": "slide"
    }
   },
   "source": [
    "## Empiece planteando la ED y el PVI que modela la situación planteada"
   ]
  },
  {
   "cell_type": "code",
   "execution_count": null,
   "id": "782081f4",
   "metadata": {
    "slideshow": {
     "slide_type": "slide"
    }
   },
   "outputs": [],
   "source": []
  },
  {
   "cell_type": "markdown",
   "id": "56c0d072",
   "metadata": {
    "slideshow": {
     "slide_type": "slide"
    }
   },
   "source": [
    "## Continue clasificando la ED de manera justificada  \n",
    "\n",
    "\n",
    "* diga y justifique si es lineal o no\n",
    "* diga y justifique si es ordinaria o parcial.  \n",
    "* diga y justifique cu+al es el orden de la ED.\n",
    "* diga y justifique si es lineal homogénea \n",
    "* diga y justifique si es de coeficientes constantes o no. \n"
   ]
  },
  {
   "cell_type": "markdown",
   "id": "f4f08deb",
   "metadata": {
    "slideshow": {
     "slide_type": "slide"
    }
   },
   "source": [
    "## Resolver analíticamente el problema de crecimiento poblacional que se le asignó\n",
    "\n",
    "Recuerde resolver por sustitución o por diferenciación implícita. "
   ]
  },
  {
   "cell_type": "markdown",
   "id": "4463195c",
   "metadata": {
    "slideshow": {
     "slide_type": "slide"
    }
   },
   "source": [
    "$$ \\frac{d}{dt}N(t) = k(650-N(t)), \\ \\ \\ \\  $$"
   ]
  },
  {
   "cell_type": "markdown",
   "id": "48e1925f",
   "metadata": {
    "slideshow": {
     "slide_type": "slide"
    }
   },
   "source": []
  },
  {
   "cell_type": "code",
   "execution_count": null,
   "id": "329cd19b",
   "metadata": {},
   "outputs": [],
   "source": []
  },
  {
   "cell_type": "markdown",
   "id": "1aba7de8",
   "metadata": {
    "slideshow": {
     "slide_type": "slide"
    }
   },
   "source": [
    "## Resolver con sympy el problema que se le asignó y redactar conclusiones verbales de la comparación con la forma analítica de solución y la forma con asistencia computacional de solución"
   ]
  },
  {
   "cell_type": "code",
   "execution_count": null,
   "id": "36633100",
   "metadata": {
    "slideshow": {
     "slide_type": "slide"
    }
   },
   "outputs": [],
   "source": [
    "from sympy import var, Function, Eq, classifyode, diff, dsolve, solvers"
   ]
  },
  {
   "cell_type": "markdown",
   "id": "27809a03",
   "metadata": {
    "slideshow": {
     "slide_type": "slide"
    }
   },
   "source": [
    "**Sugerencia:**   \n",
    "\n",
    "`dsolve(eq, f(x), hint)` $->$ Solve ordinary differential equation `eq` for function `f(x)`, using method `hint`."
   ]
  },
  {
   "cell_type": "code",
   "execution_count": null,
   "id": "9592e334",
   "metadata": {
    "slideshow": {
     "slide_type": "slide"
    }
   },
   "outputs": [],
   "source": []
  },
  {
   "cell_type": "markdown",
   "id": "707e2245",
   "metadata": {
    "slideshow": {
     "slide_type": "slide"
    }
   },
   "source": [
    "Verificar la solución encontrada utilizando la función `checkode` de sympy "
   ]
  },
  {
   "cell_type": "markdown",
   "id": "8c512e29",
   "metadata": {
    "slideshow": {
     "slide_type": "slide"
    }
   },
   "source": [
    "## Grafique utilizando matplotlib la solución general de la ED\n",
    "\n",
    "No olvide incluir en el gráfico el deslizador para poder que el gráfico quede animado y que el usuario pueda escoger el valor de $C$ correspondiente q la solución que quiera observar. "
   ]
  },
  {
   "cell_type": "code",
   "execution_count": null,
   "id": "904a2324",
   "metadata": {
    "slideshow": {
     "slide_type": "slide"
    }
   },
   "outputs": [],
   "source": [
    "import numpy as np \n",
    "import matplotlib.pyplot as plt \n",
    "\n",
    "from ipywidgets import interact \n",
    "\n",
    "\n"
   ]
  },
  {
   "cell_type": "code",
   "execution_count": null,
   "id": "d89f235e",
   "metadata": {
    "slideshow": {
     "slide_type": "slide"
    }
   },
   "outputs": [],
   "source": []
  },
  {
   "cell_type": "code",
   "execution_count": null,
   "id": "7a034518",
   "metadata": {},
   "outputs": [],
   "source": []
  },
  {
   "cell_type": "markdown",
   "id": "88952b55",
   "metadata": {
    "slideshow": {
     "slide_type": "slide"
    }
   },
   "source": [
    "## Redacte por lo menos 4 observaciones del gráfico animado anterior para caracterizar a las soluciones de la ED. "
   ]
  },
  {
   "cell_type": "code",
   "execution_count": null,
   "id": "56201c9a",
   "metadata": {
    "slideshow": {
     "slide_type": "slide"
    }
   },
   "outputs": [],
   "source": []
  },
  {
   "cell_type": "markdown",
   "id": "bca3ffa4",
   "metadata": {
    "slideshow": {
     "slide_type": "slide"
    }
   },
   "source": [
    "## Grafique con matplotlib la solución del PVI  y redacte por lo menos 4 observaciones de esta solución"
   ]
  },
  {
   "cell_type": "code",
   "execution_count": null,
   "id": "472196fa",
   "metadata": {
    "slideshow": {
     "slide_type": "slide"
    }
   },
   "outputs": [],
   "source": [
    "import numpy as np \n",
    "import matplotlib.pyplot as plt \n",
    "\n",
    "\n"
   ]
  },
  {
   "cell_type": "code",
   "execution_count": null,
   "id": "ec36c70d",
   "metadata": {
    "slideshow": {
     "slide_type": "slide"
    }
   },
   "outputs": [],
   "source": []
  },
  {
   "cell_type": "code",
   "execution_count": null,
   "id": "6285a939",
   "metadata": {
    "slideshow": {
     "slide_type": "slide"
    }
   },
   "outputs": [],
   "source": []
  },
  {
   "cell_type": "markdown",
   "id": "0b772c26",
   "metadata": {
    "slideshow": {
     "slide_type": "slide"
    }
   },
   "source": [
    "## Referencias  \n",
    "\n",
    "* La documentación de sympy para solución de ODE(Ecuaciones diferenciales ordinarias): https://docs.sympy.org/latest/modules/solvers/ode.html\n",
    "\n"
   ]
  }
 ],
 "metadata": {
  "celltoolbar": "Slideshow",
  "kernelspec": {
   "display_name": "Python 3 (ipykernel)",
   "language": "python",
   "name": "python3"
  },
  "language_info": {
   "codemirror_mode": {
    "name": "ipython",
    "version": 3
   },
   "file_extension": ".py",
   "mimetype": "text/x-python",
   "name": "python",
   "nbconvert_exporter": "python",
   "pygments_lexer": "ipython3",
   "version": "3.9.12"
  }
 },
 "nbformat": 4,
 "nbformat_minor": 5
}
