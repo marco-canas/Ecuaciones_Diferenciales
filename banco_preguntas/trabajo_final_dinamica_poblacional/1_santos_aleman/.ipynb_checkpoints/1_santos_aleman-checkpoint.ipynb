{
 "cells": [
  {
   "cell_type": "markdown",
   "id": "cb482b03",
   "metadata": {
    "slideshow": {
     "slide_type": "slide"
    }
   },
   "source": [
    "<table align=\"left\">\n",
    "  <td>\n",
    "    <a href=\"https://colab.research.google.com/github/marco-canas/edo/blob/main/banco_preguntas/trabajo_final_dinamica_poblacional/1_santos_aleman/1_santos_aleman.ipynb\" target=\"_parent\"><img src=\"https://colab.research.google.com/assets/colab-badge.svg\" alt=\"Open In Colab\"/></a>\n",
    "  </td>\n",
    "</table>"
   ]
  },
  {
   "cell_type": "markdown",
   "id": "4abb9e15",
   "metadata": {
    "slideshow": {
     "slide_type": "slide"
    }
   },
   "source": [
    "# Dinámica poblacional para Ingeniería Agropecuaria"
   ]
  },
  {
   "cell_type": "markdown",
   "id": "e9675b6b",
   "metadata": {
    "slideshow": {
     "slide_type": "slide"
    }
   },
   "source": [
    "## Ejercicio 1. Ganancia de peso "
   ]
  },
  {
   "cell_type": "markdown",
   "id": "341bb283",
   "metadata": {
    "slideshow": {
     "slide_type": "slide"
    }
   },
   "source": [
    "Un becerro que pesa 60 libras al nacer gana peso a razón de \n",
    "\n",
    "$$ \\frac{dw}{dt} = k(1200-w), $$\n",
    "\n",
    "donde $w$ es el peso en libras y $t$ es el tiempo en años.   \n",
    "\n",
    "Resolver la ecuación diferencial usando la función `dsolve()` de SymPy.\n",
    "\n",
    "a) Usar Sympy de Python para resolver la ecuación diferencial para $k = 0.8, 0.9$ y $1$.\n",
    "\n",
    "b) Representar las tres soluciones utilizando deslizadores de Matplotlib.  \n",
    "\n",
    "c) Si el animal se vende cuando su peso alcanza 800 libras, encontrar el tiempo de venta de cada uno de los modelos en el apartado a).  \n",
    "\n",
    "d) ¿Cuál es el peso máximo del animal para cada uno de los modelos?"
   ]
  },
  {
   "cell_type": "markdown",
   "id": "d69a8475",
   "metadata": {
    "slideshow": {
     "slide_type": "slide"
    }
   },
   "source": [
    "## Ejercicio 2. Ganancia de peso"
   ]
  },
  {
   "cell_type": "markdown",
   "id": "262c9cf0",
   "metadata": {
    "slideshow": {
     "slide_type": "slide"
    }
   },
   "source": [
    "Un becerro que pesa $w_{0}$ libras al nacer gana peso a razón de \n",
    " \n",
    "$$ \\frac{dw}{dt} =  1200 - w, $$   \n",
    " \n",
    "donde $w$ es el peso en libras y $t$ es el tiempo en años. Resolver la ecuación diferencial.  \n",
    "\n",
    "Ejercicio tomado de la página de 451 Larson"
   ]
  },
  {
   "cell_type": "code",
   "execution_count": null,
   "id": "049d6bec",
   "metadata": {
    "slideshow": {
     "slide_type": "slide"
    }
   },
   "outputs": [],
   "source": []
  },
  {
   "cell_type": "markdown",
   "id": "d15e560e",
   "metadata": {
    "slideshow": {
     "slide_type": "slide"
    }
   },
   "source": [
    "# Rúbrica de evaluación de este trabajo de modelamiento de problemas de dinámica poblacional para formación de ingenieros agropecuarios"
   ]
  },
  {
   "cell_type": "markdown",
   "id": "87187bad",
   "metadata": {},
   "source": [
    "## Empieza palnteando completamente el PVI de manera simbólica e interpretando el PVI en el contexto real "
   ]
  },
  {
   "cell_type": "code",
   "execution_count": null,
   "id": "cf078c27",
   "metadata": {
    "slideshow": {
     "slide_type": "slide"
    }
   },
   "outputs": [],
   "source": []
  },
  {
   "cell_type": "markdown",
   "id": "d60b70f7",
   "metadata": {
    "slideshow": {
     "slide_type": "slide"
    }
   },
   "source": [
    "## Resuelve analíticamente el PVI dado "
   ]
  },
  {
   "cell_type": "markdown",
   "id": "17bf024d",
   "metadata": {
    "slideshow": {
     "slide_type": "slide"
    }
   },
   "source": [
    "$$ \\frac{dw}{dt} = (1200 - w) , \\ \\ \\ \\ \\ w(0) = 60 $$"
   ]
  },
  {
   "cell_type": "markdown",
   "id": "9af05a3a",
   "metadata": {
    "slideshow": {
     "slide_type": "slide"
    }
   },
   "source": []
  },
  {
   "cell_type": "markdown",
   "id": "cce8c1bc",
   "metadata": {
    "slideshow": {
     "slide_type": "slide"
    }
   },
   "source": [
    "## Clasifica,  Resuelve y verifica el PVI utilizando Sympy"
   ]
  },
  {
   "cell_type": "code",
   "execution_count": null,
   "id": "9107f131",
   "metadata": {
    "slideshow": {
     "slide_type": "slide"
    }
   },
   "outputs": [],
   "source": []
  },
  {
   "cell_type": "code",
   "execution_count": null,
   "id": "18016902",
   "metadata": {
    "slideshow": {
     "slide_type": "slide"
    }
   },
   "outputs": [],
   "source": []
  },
  {
   "cell_type": "code",
   "execution_count": null,
   "id": "36718c0a",
   "metadata": {
    "slideshow": {
     "slide_type": "slide"
    }
   },
   "outputs": [],
   "source": []
  },
  {
   "cell_type": "code",
   "execution_count": null,
   "id": "18ccd5df",
   "metadata": {
    "slideshow": {
     "slide_type": "slide"
    }
   },
   "outputs": [],
   "source": []
  },
  {
   "cell_type": "code",
   "execution_count": null,
   "id": "a65297eb",
   "metadata": {
    "slideshow": {
     "slide_type": "slide"
    }
   },
   "outputs": [],
   "source": []
  }
 ],
 "metadata": {
  "celltoolbar": "Slideshow",
  "kernelspec": {
   "display_name": "Python 3 (ipykernel)",
   "language": "python",
   "name": "python3"
  },
  "language_info": {
   "codemirror_mode": {
    "name": "ipython",
    "version": 3
   },
   "file_extension": ".py",
   "mimetype": "text/x-python",
   "name": "python",
   "nbconvert_exporter": "python",
   "pygments_lexer": "ipython3",
   "version": "3.9.12"
  }
 },
 "nbformat": 4,
 "nbformat_minor": 5
}
