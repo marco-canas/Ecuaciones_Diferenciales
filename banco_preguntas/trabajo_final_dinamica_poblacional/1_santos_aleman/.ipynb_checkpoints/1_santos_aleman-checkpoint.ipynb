{
 "cells": [
  {
   "cell_type": "markdown",
   "id": "cb482b03",
   "metadata": {
    "slideshow": {
     "slide_type": "slide"
    }
   },
   "source": [
    "<table align=\"left\">\n",
    "  <td>\n",
    "    <a href=\"https://colab.research.google.com/github/marco-canas/edo/blob/main/banco_preguntas/trabajo_final_dinamica_poblacional/1_santos_aleman/1_santos_aleman.ipynb\" target=\"_parent\"><img src=\"https://colab.research.google.com/assets/colab-badge.svg\" alt=\"Open In Colab\"/></a>\n",
    "  </td>\n",
    "</table>"
   ]
  },
  {
   "cell_type": "markdown",
   "id": "4abb9e15",
   "metadata": {
    "slideshow": {
     "slide_type": "slide"
    }
   },
   "source": [
    "# Dinámica poblacional para Ingeniería Agropecuaria"
   ]
  },
  {
   "cell_type": "markdown",
   "id": "e9675b6b",
   "metadata": {
    "slideshow": {
     "slide_type": "slide"
    }
   },
   "source": [
    "## Ejercicio 1. Ganancia de peso "
   ]
  },
  {
   "cell_type": "markdown",
   "id": "341bb283",
   "metadata": {
    "slideshow": {
     "slide_type": "slide"
    }
   },
   "source": [
    "Un becerro que pesa 60 libras al nacer gana peso a razón de \n",
    "\n",
    "$$ \\frac{dw}{dt} = k(1200-w), $$\n",
    "\n",
    "donde $w$ es el peso en libras y $t$ es el tiempo en años.   \n",
    "\n",
    "Resolver la ecuación diferencial usando la función `dsolve()` de SymPy.\n",
    "\n",
    "a) Usar Sympy de Python para resolver la ecuación diferencial para $k = 0.8, 0.9$ y $1$.\n",
    "\n",
    "b) Representar las tres soluciones utilizando deslizadores de Matplotlib.  \n",
    "\n",
    "c) Si el animal se vende cuando su peso alcanza 800 libras, encontrar el tiempo de venta de cada uno de los modelos en el apartado a).  \n",
    "\n",
    "d) ¿Cuál es el peso máximo del animal para cada uno de los modelos?"
   ]
  },
  {
   "cell_type": "markdown",
   "id": "d69a8475",
   "metadata": {
    "slideshow": {
     "slide_type": "slide"
    }
   },
   "source": [
    "## Ejercicio 2. Ganancia de peso"
   ]
  },
  {
   "cell_type": "markdown",
   "id": "262c9cf0",
   "metadata": {
    "slideshow": {
     "slide_type": "slide"
    }
   },
   "source": [
    "Un becerro que pesa $w_{0}$ libras al nacer gana peso a razón de \n",
    " \n",
    "$$ \\frac{dw}{dt} =  k(1200 - w), $$   \n",
    " \n",
    "donde $w$ es el peso en libras y $t$ es el tiempo en años. Resolver la ecuación diferencial.  \n",
    "\n",
    "Ejercicio tomado de la página de 451 Larson"
   ]
  },
  {
   "cell_type": "markdown",
   "id": "0ac4c384",
   "metadata": {
    "slideshow": {
     "slide_type": "slide"
    }
   },
   "source": [
    "<img src = 'https://bmeditores.mx/wp-content/uploads/2020/09/Crecimiento-ternero-1068x534.jpg'>"
   ]
  },
  {
   "cell_type": "markdown",
   "id": "d15e560e",
   "metadata": {
    "slideshow": {
     "slide_type": "slide"
    }
   },
   "source": [
    "# Rúbrica de evaluación de este trabajo de modelamiento de problemas de dinámica poblacional para formación de ingenieros agropecuarios"
   ]
  },
  {
   "cell_type": "markdown",
   "id": "36753274",
   "metadata": {
    "slideshow": {
     "slide_type": "slide"
    }
   },
   "source": [
    "## Empieza planteando completamente el PVI de manera simbólica e interpretando el PVI en el contexto real "
   ]
  },
  {
   "cell_type": "markdown",
   "id": "2ce0edd4",
   "metadata": {
    "slideshow": {
     "slide_type": "slide"
    }
   },
   "source": [
    "$$ \\frac{dw}{dt} = k(1200 - w), \\ \\ \\ \\ \\ \\ w(0) = 60 $$"
   ]
  },
  {
   "cell_type": "markdown",
   "id": "34d0c1b6",
   "metadata": {
    "slideshow": {
     "slide_type": "slide"
    }
   },
   "source": [
    "## Resuelve analíticamente el PVI dado "
   ]
  },
  {
   "cell_type": "markdown",
   "id": "b2c4b9b3",
   "metadata": {
    "slideshow": {
     "slide_type": "slide"
    }
   },
   "source": [
    "$$ \\frac{dw}{dt} = k(1200 - w) , \\ \\ \\ \\ \\ w(0) = 60 $$"
   ]
  },
  {
   "cell_type": "markdown",
   "id": "78c1c13b",
   "metadata": {
    "slideshow": {
     "slide_type": "slide"
    }
   },
   "source": [
    "Empezamos resolviendo la ED \n",
    "\n",
    "$$ \\frac{dw}{dt} = k(1200 - w) $$\n"
   ]
  },
  {
   "cell_type": "markdown",
   "id": "d96c0395",
   "metadata": {
    "slideshow": {
     "slide_type": "slide"
    }
   },
   "source": [
    "y para ello la vamos a clasificar: \n",
    "\n",
    "Como la ED dada la podemos llevar a la forma estándar \n",
    "\n",
    "$$ y' + p(x)y = g(x) $$\n",
    "\n",
    "entonces ella es lineal de primer orden.  \n"
   ]
  },
  {
   "cell_type": "markdown",
   "id": "f8396860",
   "metadata": {
    "slideshow": {
     "slide_type": "slide"
    }
   },
   "source": [
    "En efecto, \n",
    "\n",
    "$$ \\frac{dw}{dt} + kw = 1200k $$\n",
    "\n",
    "donde $k$ es la constante de proporcionalidad. \n"
   ]
  },
  {
   "cell_type": "markdown",
   "id": "4330a0a7",
   "metadata": {
    "slideshow": {
     "slide_type": "slide"
    }
   },
   "source": [
    "Entonces $p(t) = k$, es decir, $p$ es una función constante. "
   ]
  },
  {
   "cell_type": "markdown",
   "id": "6072e64d",
   "metadata": {
    "slideshow": {
     "slide_type": "slide"
    }
   },
   "source": [
    "Entonces, el factor integrante $\\mu(t)$ es:\n",
    "\n",
    "$$ \\mu(t) = \\exp\\left( \\int kdt \\right) = \\exp(kt) $$\n"
   ]
  },
  {
   "cell_type": "markdown",
   "id": "c7f7590b",
   "metadata": {
    "slideshow": {
     "slide_type": "slide"
    }
   },
   "source": [
    "Multipliquemos la ED estandarizada por este factor integrante $\\mu$ que acabamos de obtener:  \n",
    "\n",
    "$$ \\mu w' + \\mu p(t)w = 1200k\\mu $$\n",
    "$$ e^{kt} w' + e^{kt} kw = 1200ke^{kt} $$\n"
   ]
  },
  {
   "cell_type": "markdown",
   "id": "6a2ae2a4",
   "metadata": {
    "slideshow": {
     "slide_type": "slide"
    }
   },
   "source": [
    "$$ [e^{kt}w]' = 1200ke^{kt} $$"
   ]
  },
  {
   "cell_type": "markdown",
   "id": "d5c06a55",
   "metadata": {
    "slideshow": {
     "slide_type": "slide"
    }
   },
   "source": [
    "$$ e^{kt}w = 1200e^{kt} + C_{1} $$"
   ]
  },
  {
   "cell_type": "markdown",
   "id": "58285ae6",
   "metadata": {
    "slideshow": {
     "slide_type": "slide"
    }
   },
   "source": [
    "$$ w = C_{1}e^{-kt} + 1200 $$\n",
    "\n",
    "esta es la solución general explícita de la ED que hace parte del PVI dado. "
   ]
  },
  {
   "cell_type": "markdown",
   "id": "94b0ea31",
   "metadata": {
    "slideshow": {
     "slide_type": "slide"
    }
   },
   "source": [
    "Determinemos $C_{1}$ utilizando la condición inicial $w(0) = 60$: "
   ]
  },
  {
   "cell_type": "markdown",
   "id": "e363e342",
   "metadata": {
    "slideshow": {
     "slide_type": "slide"
    }
   },
   "source": [
    "$$ 60 = C_{1}e^{0} + 1200 $$"
   ]
  },
  {
   "cell_type": "markdown",
   "id": "00a2108f",
   "metadata": {
    "slideshow": {
     "slide_type": "slide"
    }
   },
   "source": [
    "$$ C_{1} = 60 - 1200 = -1140 $$"
   ]
  },
  {
   "cell_type": "code",
   "execution_count": null,
   "id": "d33577f5",
   "metadata": {
    "slideshow": {
     "slide_type": "slide"
    }
   },
   "outputs": [],
   "source": []
  },
  {
   "cell_type": "markdown",
   "id": "3bb2b1e0",
   "metadata": {
    "slideshow": {
     "slide_type": "slide"
    }
   },
   "source": [
    "## Verifique analíticamente que la función solución encontrada si satisface la ED y las condiciones iniciales "
   ]
  },
  {
   "cell_type": "markdown",
   "id": "32f69dfe",
   "metadata": {
    "slideshow": {
     "slide_type": "slide"
    }
   },
   "source": [
    "Veamos por sustitución directa que \n",
    "$$ \\frac{dw}{dt} = k(1200 - w), \\ \\ \\ \\ \\ \\ w(0) = 60 $$"
   ]
  },
  {
   "cell_type": "code",
   "execution_count": null,
   "id": "9633fda4",
   "metadata": {
    "slideshow": {
     "slide_type": "slide"
    }
   },
   "outputs": [],
   "source": []
  },
  {
   "cell_type": "markdown",
   "id": "9f7de007",
   "metadata": {
    "slideshow": {
     "slide_type": "slide"
    }
   },
   "source": [
    "## Clasifica,  Resuelve y verifica el PVI utilizando Sympy"
   ]
  },
  {
   "cell_type": "code",
   "execution_count": null,
   "id": "9107f131",
   "metadata": {
    "slideshow": {
     "slide_type": "slide"
    }
   },
   "outputs": [],
   "source": [
    "from sympy import var, Function, diff, Eq, classify_ode, dsolve, checkodesol, solvers"
   ]
  },
  {
   "cell_type": "code",
   "execution_count": null,
   "id": "18016902",
   "metadata": {
    "slideshow": {
     "slide_type": "slide"
    }
   },
   "outputs": [],
   "source": [
    "w,t,k = var('w t k') # declaro las variables del problema "
   ]
  },
  {
   "cell_type": "code",
   "execution_count": null,
   "id": "75572d0d",
   "metadata": {
    "slideshow": {
     "slide_type": "slide"
    }
   },
   "outputs": [],
   "source": [
    "w = Function('w')"
   ]
  },
  {
   "cell_type": "code",
   "execution_count": null,
   "id": "36718c0a",
   "metadata": {
    "slideshow": {
     "slide_type": "slide"
    }
   },
   "outputs": [],
   "source": [
    "ecuacion_dif = Eq(diff(w(t), t), k*(1200 - w(t))) \n",
    "ecuacion_dif "
   ]
  },
  {
   "cell_type": "markdown",
   "id": "9d5d7b1e",
   "metadata": {
    "slideshow": {
     "slide_type": "slide"
    }
   },
   "source": [
    "## Clasifique con sympy la ED dada"
   ]
  },
  {
   "cell_type": "code",
   "execution_count": null,
   "id": "91f0dc0c",
   "metadata": {
    "slideshow": {
     "slide_type": "slide"
    }
   },
   "outputs": [],
   "source": [
    "classify_ode(ecuacion_dif)"
   ]
  },
  {
   "cell_type": "markdown",
   "id": "b500c78f",
   "metadata": {
    "slideshow": {
     "slide_type": "slide"
    }
   },
   "source": [
    "## Determina la solución general de la ED que hace parte del PVI dado"
   ]
  },
  {
   "cell_type": "code",
   "execution_count": null,
   "id": "a65297eb",
   "metadata": {
    "slideshow": {
     "slide_type": "slide"
    }
   },
   "outputs": [],
   "source": [
    "sol_gen = dsolve(ecuacion_dif, w(t), hint = 'separable') \n",
    "sol_gen "
   ]
  },
  {
   "cell_type": "markdown",
   "id": "02a2d471",
   "metadata": {
    "slideshow": {
     "slide_type": "slide"
    }
   },
   "source": [
    "## Grafica de manera animada con deslizador la solución general para ver algunas de las funciones que hacen parte de la familia solución"
   ]
  },
  {
   "cell_type": "code",
   "execution_count": null,
   "id": "eac6048a",
   "metadata": {
    "slideshow": {
     "slide_type": "slide"
    }
   },
   "outputs": [],
   "source": [
    "import numpy as np \n",
    "\n",
    "import matplotlib.pyplot as plt \n",
    "\n",
    "from ipywidgets import interact \n",
    "\n",
    "def graficar_animado(C1 = -1140, k = 1):\n",
    "    T = np.linspace(0,5)\n",
    "    W = C1*np.exp(-k*T) + 1200\n",
    "    plt.figure(figsize = (12,8))\n",
    "    plt.plot(T,W)\n",
    "    plt.plot([0,5],[1200,1200], 'r--')\n",
    "    plt.plot([0],[60],'ro')\n",
    "    plt.plot([0,0],[0,2000],'g--')\n",
    "    plt.axis([-1,5,0, 2000])\n",
    "    plt.grid(alpha = 0.4)\n",
    "    plt.title('Crecimiento limitado')\n",
    "    plt.xlabel('tiempo en años')\n",
    "    plt.ylabel('peso de un becerro')\n",
    "    \n",
    "interact(graficar_animado, C1 = (-1200,1200,50), k = (0.8, 1.4, 0.1))    \n",
    "\n",
    "plt.show() \n"
   ]
  },
  {
   "cell_type": "markdown",
   "id": "d2d396f6",
   "metadata": {
    "slideshow": {
     "slide_type": "slide"
    }
   },
   "source": [
    "## Redacta por lo menos 4 observaciones acerca del comportamiento general de la familia de soluciones de la ED"
   ]
  },
  {
   "cell_type": "markdown",
   "id": "54fb3ffe",
   "metadata": {
    "slideshow": {
     "slide_type": "slide"
    }
   },
   "source": [
    "1.  \n",
    "2.  \n",
    "3.  \n",
    "4.  \n",
    "5.  "
   ]
  },
  {
   "cell_type": "markdown",
   "id": "8fe309bf",
   "metadata": {
    "slideshow": {
     "slide_type": "slide"
    }
   },
   "source": [
    "## Determina la solución del PVI utilizando la función `dsolve()` y el hiperparámetro `ics`"
   ]
  },
  {
   "cell_type": "code",
   "execution_count": null,
   "id": "9cebb7eb",
   "metadata": {
    "slideshow": {
     "slide_type": "slide"
    }
   },
   "outputs": [],
   "source": [
    "sol_pvi = dsolve(ecuacion_dif, w(t), ics = {sol_gen.lhs.subs(t,0):60})\n",
    "sol_pvi "
   ]
  },
  {
   "cell_type": "markdown",
   "id": "f02aaf18",
   "metadata": {
    "slideshow": {
     "slide_type": "slide"
    }
   },
   "source": [
    "## Grafica la solución del PVI para cada valor de $k$"
   ]
  },
  {
   "cell_type": "code",
   "execution_count": null,
   "id": "9ba8bbde",
   "metadata": {
    "slideshow": {
     "slide_type": "slide"
    }
   },
   "outputs": [],
   "source": [
    "import numpy as np \n",
    "import matplotlib.pyplot as plt \n",
    "k = 1\n",
    "T = np.linspace(0,5)\n",
    "C1 = -1140\n",
    "W = C1*np.exp(-k*T) + 1200\n",
    "plt.figure(figsize = (12,8))\n",
    "plt.plot(T,W)\n",
    "plt.plot([0,5], [1200, 1200], 'r--')# grafica de la asíntota horizontal o peso límite\n",
    "plt.grid(alpha = 0.6)\n",
    "\n",
    "plt.show() \n"
   ]
  },
  {
   "cell_type": "markdown",
   "id": "eb47976b",
   "metadata": {
    "slideshow": {
     "slide_type": "slide"
    }
   },
   "source": [
    "# Redacta por lo menos 4 observaciones o inferencias del gráfico de la solución del PVI"
   ]
  },
  {
   "cell_type": "markdown",
   "id": "401cfd3f",
   "metadata": {
    "slideshow": {
     "slide_type": "slide"
    }
   },
   "source": [
    "1. El comportamiento cuando $t \\to \\infty$ del paso $w$ es:  \n",
    "2.   \n",
    "3.  \n",
    "4.  "
   ]
  },
  {
   "cell_type": "markdown",
   "id": "8029068a",
   "metadata": {
    "slideshow": {
     "slide_type": "slide"
    }
   },
   "source": [
    "## Verifica que la solución del PVI es correcta utilizando python y sympy"
   ]
  },
  {
   "cell_type": "code",
   "execution_count": null,
   "id": "fdcf72c2",
   "metadata": {
    "slideshow": {
     "slide_type": "slide"
    }
   },
   "outputs": [],
   "source": [
    "checkodesol(ecuacion_dif, sol_pvi) "
   ]
  },
  {
   "cell_type": "code",
   "execution_count": null,
   "id": "d70a5bb4",
   "metadata": {
    "slideshow": {
     "slide_type": "slide"
    }
   },
   "outputs": [],
   "source": [
    "sol_pvi.rhs.subs(t,0)"
   ]
  },
  {
   "cell_type": "markdown",
   "id": "b5030e9e",
   "metadata": {
    "slideshow": {
     "slide_type": "slide"
    }
   },
   "source": [
    "## Redacta la conclusión de la verificación de la solución del PVI con sympy"
   ]
  },
  {
   "cell_type": "code",
   "execution_count": null,
   "id": "146da128",
   "metadata": {
    "slideshow": {
     "slide_type": "slide"
    }
   },
   "outputs": [],
   "source": []
  },
  {
   "cell_type": "code",
   "execution_count": null,
   "id": "8636be1b",
   "metadata": {
    "slideshow": {
     "slide_type": "slide"
    }
   },
   "outputs": [],
   "source": []
  },
  {
   "cell_type": "code",
   "execution_count": null,
   "id": "83404ba4",
   "metadata": {},
   "outputs": [],
   "source": []
  }
 ],
 "metadata": {
  "celltoolbar": "Slideshow",
  "kernelspec": {
   "display_name": "Python 3 (ipykernel)",
   "language": "python",
   "name": "python3"
  },
  "language_info": {
   "codemirror_mode": {
    "name": "ipython",
    "version": 3
   },
   "file_extension": ".py",
   "mimetype": "text/x-python",
   "name": "python",
   "nbconvert_exporter": "python",
   "pygments_lexer": "ipython3",
   "version": "3.9.12"
  },
  "rise": {
   "theme": "sky"
  }
 },
 "nbformat": 4,
 "nbformat_minor": 5
}
