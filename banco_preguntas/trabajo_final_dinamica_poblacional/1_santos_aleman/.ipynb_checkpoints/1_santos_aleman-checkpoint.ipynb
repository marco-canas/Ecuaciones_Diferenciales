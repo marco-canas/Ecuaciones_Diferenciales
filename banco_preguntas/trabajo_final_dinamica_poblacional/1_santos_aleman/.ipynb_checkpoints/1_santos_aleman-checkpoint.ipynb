{
 "cells": [
  {
   "cell_type": "markdown",
   "id": "cb482b03",
   "metadata": {
    "slideshow": {
     "slide_type": "slide"
    }
   },
   "source": [
    "<table align=\"left\">\n",
    "  <td>\n",
    "    <a href=\"https://colab.research.google.com/github/marco-canas/edo/blob/main/banco_preguntas/trabajo_final_dinamica_poblacional/1_santos_aleman/1_santos_aleman.ipynb\" target=\"_parent\"><img src=\"https://colab.research.google.com/assets/colab-badge.svg\" alt=\"Open In Colab\"/></a>\n",
    "  </td>\n",
    "</table>"
   ]
  },
  {
   "cell_type": "markdown",
   "id": "4abb9e15",
   "metadata": {
    "slideshow": {
     "slide_type": "slide"
    }
   },
   "source": [
    "# Dinámica poblacional para Ingeniería Agropecuaria"
   ]
  },
  {
   "cell_type": "markdown",
   "id": "e9675b6b",
   "metadata": {
    "slideshow": {
     "slide_type": "slide"
    }
   },
   "source": [
    "## Ejercicio 1. Ganancia de peso "
   ]
  },
  {
   "cell_type": "markdown",
   "id": "341bb283",
   "metadata": {
    "slideshow": {
     "slide_type": "slide"
    }
   },
   "source": [
    "Un becerro que pesa 60 libras al nacer gana peso a razón de \n",
    "\n",
    "$$ \\frac{dw}{dt} = k(1200-w), $$\n",
    "\n",
    "donde $w$ es el peso en libras y $t$ es el tiempo en años.   \n",
    "\n",
    "Resolver la ecuación diferencial usando la función `dsolve()` de SymPy.\n",
    "\n",
    "a) Usar Sympy de Python para resolver la ecuación diferencial para $k = 0.8, 0.9$ y $1$.\n",
    "\n",
    "b) Representar las tres soluciones utilizando deslizadores de Matplotlib.  \n",
    "\n",
    "c) Si el animal se vende cuando su peso alcanza 800 libras, encontrar el tiempo de venta de cada uno de los modelos en el apartado a).  \n",
    "\n",
    "d) ¿Cuál es el peso máximo del animal para cada uno de los modelos?"
   ]
  },
  {
   "cell_type": "markdown",
   "id": "d69a8475",
   "metadata": {
    "slideshow": {
     "slide_type": "slide"
    }
   },
   "source": [
    "## Ejercicio 2. Ganancia de peso"
   ]
  },
  {
   "cell_type": "markdown",
   "id": "262c9cf0",
   "metadata": {
    "slideshow": {
     "slide_type": "slide"
    }
   },
   "source": [
    "Un becerro que pesa $w_{0}$ libras al nacer gana peso a razón de \n",
    " \n",
    "$$ \\frac{dw}{dt} =  k(1200 - w), $$   \n",
    " \n",
    "donde $w$ es el peso en libras y $t$ es el tiempo en años. Resolver la ecuación diferencial.  \n",
    "\n",
    "Ejercicio tomado de la página de 451 Larson"
   ]
  },
  {
   "cell_type": "markdown",
   "id": "be0b2ff2",
   "metadata": {
    "slideshow": {
     "slide_type": "slide"
    }
   },
   "source": [
    "<img src = 'https://bmeditores.mx/wp-content/uploads/2020/09/Crecimiento-ternero-1068x534.jpg'>"
   ]
  },
  {
   "cell_type": "markdown",
   "id": "d15e560e",
   "metadata": {
    "slideshow": {
     "slide_type": "slide"
    }
   },
   "source": [
    "# Rúbrica de evaluación de este trabajo de modelamiento de problemas de dinámica poblacional para formación de ingenieros agropecuarios"
   ]
  },
  {
   "cell_type": "markdown",
   "id": "36753274",
   "metadata": {
    "slideshow": {
     "slide_type": "slide"
    }
   },
   "source": [
    "## Empieza planteando completamente el PVI de manera simbólica e interpretando el PVI en el contexto real "
   ]
  },
  {
   "cell_type": "markdown",
   "id": "2ce0edd4",
   "metadata": {
    "slideshow": {
     "slide_type": "slide"
    }
   },
   "source": [
    "$$ \\frac{dw}{dt} = k(1200 - w), \\ \\ \\ \\ \\ \\ w(0) = 60 $$"
   ]
  },
  {
   "cell_type": "markdown",
   "id": "34d0c1b6",
   "metadata": {
    "slideshow": {
     "slide_type": "slide"
    }
   },
   "source": [
    "## Resuelve analíticamente el PVI dado "
   ]
  },
  {
   "cell_type": "markdown",
   "id": "b2c4b9b3",
   "metadata": {
    "slideshow": {
     "slide_type": "slide"
    }
   },
   "source": [
    "$$ \\frac{dw}{dt} = k(1200 - w) , \\ \\ \\ \\ \\ w(0) = 60 $$"
   ]
  },
  {
   "cell_type": "markdown",
   "id": "78c1c13b",
   "metadata": {
    "slideshow": {
     "slide_type": "slide"
    }
   },
   "source": [
    "Empezamos resolviendo la ED \n",
    "\n",
    "$$ \\frac{dw}{dt} = k(1200 - w) $$\n"
   ]
  },
  {
   "cell_type": "markdown",
   "id": "880885b6",
   "metadata": {
    "slideshow": {
     "slide_type": "slide"
    }
   },
   "source": [
    "y para ello la vamos a clasificar: \n",
    "\n",
    "Como la ED dada la podemos llevar a la forma estándar \n",
    "\n",
    "$$ y' + p(x)y = g(x) $$\n",
    "\n",
    "entonces ella es lineal de primer orden.  \n"
   ]
  },
  {
   "cell_type": "markdown",
   "id": "9f60b50c",
   "metadata": {
    "slideshow": {
     "slide_type": "slide"
    }
   },
   "source": [
    "En efecto, \n",
    "\n",
    "$$ \\frac{dw}{dt} + kw = 1200k $$\n",
    "\n",
    "donde $k$ es la constante de proporcionalidad. \n"
   ]
  },
  {
   "cell_type": "code",
   "execution_count": null,
   "id": "bb0c0bbd",
   "metadata": {
    "slideshow": {
     "slide_type": "slide"
    }
   },
   "outputs": [],
   "source": []
  },
  {
   "cell_type": "code",
   "execution_count": null,
   "id": "862d6478",
   "metadata": {
    "slideshow": {
     "slide_type": "slide"
    }
   },
   "outputs": [],
   "source": []
  },
  {
   "cell_type": "code",
   "execution_count": null,
   "id": "faa74f91",
   "metadata": {},
   "outputs": [],
   "source": []
  },
  {
   "cell_type": "markdown",
   "id": "9f7de007",
   "metadata": {
    "slideshow": {
     "slide_type": "slide"
    }
   },
   "source": [
    "## Clasifica,  Resuelve y verifica el PVI utilizando Sympy"
   ]
  },
  {
   "cell_type": "code",
   "execution_count": 2,
   "id": "9107f131",
   "metadata": {
    "slideshow": {
     "slide_type": "slide"
    }
   },
   "outputs": [],
   "source": [
    "from sympy import var, Function, diff, Eq, classify_ode, dsolve, checkodesol, solvers"
   ]
  },
  {
   "cell_type": "code",
   "execution_count": 3,
   "id": "18016902",
   "metadata": {
    "slideshow": {
     "slide_type": "slide"
    }
   },
   "outputs": [],
   "source": [
    "w,t,k = var('w t k') # declaro las variables del problema "
   ]
  },
  {
   "cell_type": "code",
   "execution_count": 4,
   "id": "75572d0d",
   "metadata": {
    "slideshow": {
     "slide_type": "slide"
    }
   },
   "outputs": [],
   "source": [
    "w = Function('w')"
   ]
  },
  {
   "cell_type": "code",
   "execution_count": 5,
   "id": "36718c0a",
   "metadata": {
    "slideshow": {
     "slide_type": "slide"
    }
   },
   "outputs": [
    {
     "data": {
      "text/latex": [
       "$\\displaystyle \\frac{d}{d t} w{\\left(t \\right)} = k \\left(1200 - w{\\left(t \\right)}\\right)$"
      ],
      "text/plain": [
       "Eq(Derivative(w(t), t), k*(1200 - w(t)))"
      ]
     },
     "execution_count": 5,
     "metadata": {},
     "output_type": "execute_result"
    }
   ],
   "source": [
    "ecuacion_dif = Eq(diff(w(t), t), k*(1200 - w(t))) \n",
    "ecuacion_dif "
   ]
  },
  {
   "cell_type": "markdown",
   "id": "9d5d7b1e",
   "metadata": {
    "slideshow": {
     "slide_type": "slide"
    }
   },
   "source": [
    "## Clasifique con sympy la ED dada"
   ]
  },
  {
   "cell_type": "code",
   "execution_count": 6,
   "id": "91f0dc0c",
   "metadata": {
    "slideshow": {
     "slide_type": "slide"
    }
   },
   "outputs": [
    {
     "data": {
      "text/plain": [
       "('separable',\n",
       " '1st_exact',\n",
       " '1st_linear',\n",
       " 'Bernoulli',\n",
       " 'almost_linear',\n",
       " '1st_power_series',\n",
       " 'lie_group',\n",
       " 'nth_linear_constant_coeff_undetermined_coefficients',\n",
       " 'nth_linear_constant_coeff_variation_of_parameters',\n",
       " 'separable_Integral',\n",
       " '1st_exact_Integral',\n",
       " '1st_linear_Integral',\n",
       " 'Bernoulli_Integral',\n",
       " 'almost_linear_Integral',\n",
       " 'nth_linear_constant_coeff_variation_of_parameters_Integral')"
      ]
     },
     "execution_count": 6,
     "metadata": {},
     "output_type": "execute_result"
    }
   ],
   "source": [
    "classify_ode(ecuacion_dif)"
   ]
  },
  {
   "cell_type": "markdown",
   "id": "b500c78f",
   "metadata": {
    "slideshow": {
     "slide_type": "slide"
    }
   },
   "source": [
    "## Determina la solución general de la ED que hace parte del PVI dado"
   ]
  },
  {
   "cell_type": "code",
   "execution_count": 7,
   "id": "a65297eb",
   "metadata": {
    "slideshow": {
     "slide_type": "slide"
    }
   },
   "outputs": [
    {
     "data": {
      "text/latex": [
       "$\\displaystyle w{\\left(t \\right)} = C_{1} e^{- k t} + 1200$"
      ],
      "text/plain": [
       "Eq(w(t), C1*exp(-k*t) + 1200)"
      ]
     },
     "execution_count": 7,
     "metadata": {},
     "output_type": "execute_result"
    }
   ],
   "source": [
    "sol_gen = dsolve(ecuacion_dif, w(t), hint = 'separable') \n",
    "sol_gen "
   ]
  },
  {
   "cell_type": "markdown",
   "id": "02a2d471",
   "metadata": {
    "slideshow": {
     "slide_type": "slide"
    }
   },
   "source": [
    "## Grafica de manera animada con deslizador la solución general para ver algunas de las funciones que hacen parte de la familia solución"
   ]
  },
  {
   "cell_type": "code",
   "execution_count": 12,
   "id": "eac6048a",
   "metadata": {
    "slideshow": {
     "slide_type": "slide"
    }
   },
   "outputs": [
    {
     "data": {
      "application/vnd.jupyter.widget-view+json": {
       "model_id": "ecf78f4ff1d642b18ad587bdac2d3c82",
       "version_major": 2,
       "version_minor": 0
      },
      "text/plain": [
       "interactive(children=(IntSlider(value=-1140, description='C1', max=1200, min=-1200, step=50), FloatSlider(valu…"
      ]
     },
     "metadata": {},
     "output_type": "display_data"
    },
    {
     "data": {
      "text/plain": [
       "<function __main__.graficar_animado(C1=-1140, k=1)>"
      ]
     },
     "execution_count": 12,
     "metadata": {},
     "output_type": "execute_result"
    }
   ],
   "source": [
    "import numpy as np \n",
    "\n",
    "import matplotlib.pyplot as plt \n",
    "\n",
    "from ipywidgets import interact \n",
    "\n",
    "def graficar_animado(C1 = -1140, k = 1):\n",
    "    T = np.linspace(0,5)\n",
    "    W = C1*np.exp(-k*T) + 1200\n",
    "    plt.plot(T,W)\n",
    "    plt.plot([0,5],[1200,1200], 'r--')\n",
    "    plt.axis([0,5,0, 2500])\n",
    "    plt.grid(alpha = 0.4)\n",
    "    \n",
    "interact(graficar_animado, C1 = (-1200,1200,50), k = (0.8, 1.4, 0.2))    \n"
   ]
  },
  {
   "cell_type": "markdown",
   "id": "d2d396f6",
   "metadata": {
    "slideshow": {
     "slide_type": "slide"
    }
   },
   "source": [
    "## Redacta por lo menos 4 observaciones acerca del comportamiento general de la familia de soluciones de la ED"
   ]
  },
  {
   "cell_type": "markdown",
   "id": "54fb3ffe",
   "metadata": {
    "slideshow": {
     "slide_type": "slide"
    }
   },
   "source": [
    "1.  \n",
    "2.  \n",
    "3.  \n",
    "4.  \n",
    "5.  "
   ]
  },
  {
   "cell_type": "markdown",
   "id": "8fe309bf",
   "metadata": {
    "slideshow": {
     "slide_type": "slide"
    }
   },
   "source": [
    "## Determina la solución del PVI utilizando la función `dsolve()` y el hiperparámetro `ics`"
   ]
  },
  {
   "cell_type": "code",
   "execution_count": 34,
   "id": "9cebb7eb",
   "metadata": {
    "slideshow": {
     "slide_type": "slide"
    }
   },
   "outputs": [
    {
     "data": {
      "text/latex": [
       "$\\displaystyle w{\\left(t \\right)} = 1200 - 1140 e^{- t}$"
      ],
      "text/plain": [
       "Eq(w(t), 1200 - 1140*exp(-t))"
      ]
     },
     "execution_count": 34,
     "metadata": {},
     "output_type": "execute_result"
    }
   ],
   "source": [
    "sol_pvi = dsolve(ecuacion_dif, w(t), ics = {sol_gen.lhs.subs(t,0):60})\n",
    "sol_pvi "
   ]
  },
  {
   "cell_type": "markdown",
   "id": "f02aaf18",
   "metadata": {
    "slideshow": {
     "slide_type": "slide"
    }
   },
   "source": [
    "## Grafica la solución del PVI"
   ]
  },
  {
   "cell_type": "code",
   "execution_count": 33,
   "id": "9ba8bbde",
   "metadata": {
    "slideshow": {
     "slide_type": "slide"
    }
   },
   "outputs": [
    {
     "data": {
      "image/png": "[encoded data removed]",
      "text/plain": [
       "<Figure size 432x288 with 1 Axes>"
      ]
     },
     "metadata": {
      "needs_background": "light"
     },
     "output_type": "display_data"
    }
   ],
   "source": [
    "import numpy as np \n",
    "import matplotlib.pyplot as plt \n",
    "\n",
    "T = np.linspace(0,5)\n",
    "C1 = -1140\n",
    "W = C1*np.exp(-T) + 1200\n",
    "plt.plot(T,W)\n",
    "plt.plot([0,5], [1200, 1200], 'r--')# grafica de la asíntota horizontal o peso límite\n",
    "plt.grid(alpha = 0.6)\n",
    "\n",
    "plt.show() \n"
   ]
  },
  {
   "cell_type": "markdown",
   "id": "eb47976b",
   "metadata": {
    "slideshow": {
     "slide_type": "slide"
    }
   },
   "source": [
    "# Redacta por lo menos 4 observaciones o inferencias del gráfico de la solución del PVI"
   ]
  },
  {
   "cell_type": "markdown",
   "id": "401cfd3f",
   "metadata": {
    "slideshow": {
     "slide_type": "slide"
    }
   },
   "source": [
    "1. El comportamiento cuando $t \\to \\infty$ del paso $w$ es:  \n",
    "2.   \n",
    "3.  \n",
    "4.  "
   ]
  },
  {
   "cell_type": "markdown",
   "id": "8029068a",
   "metadata": {
    "slideshow": {
     "slide_type": "slide"
    }
   },
   "source": [
    "## Verifica que la solución del PVI es correcta utilizando python y sympy"
   ]
  },
  {
   "cell_type": "code",
   "execution_count": 35,
   "id": "fdcf72c2",
   "metadata": {
    "slideshow": {
     "slide_type": "slide"
    }
   },
   "outputs": [
    {
     "data": {
      "text/plain": [
       "(True, 0)"
      ]
     },
     "execution_count": 35,
     "metadata": {},
     "output_type": "execute_result"
    }
   ],
   "source": [
    "checkodesol(ecuacion_dif, sol_pvi) "
   ]
  },
  {
   "cell_type": "code",
   "execution_count": 36,
   "id": "d70a5bb4",
   "metadata": {
    "slideshow": {
     "slide_type": "slide"
    }
   },
   "outputs": [
    {
     "data": {
      "text/latex": [
       "$\\displaystyle 60$"
      ],
      "text/plain": [
       "60"
      ]
     },
     "execution_count": 36,
     "metadata": {},
     "output_type": "execute_result"
    }
   ],
   "source": [
    "sol_pvi.rhs.subs(t,0)"
   ]
  },
  {
   "cell_type": "markdown",
   "id": "b5030e9e",
   "metadata": {
    "slideshow": {
     "slide_type": "slide"
    }
   },
   "source": [
    "## Redacta la conclusión de la verificación de la solución del PVI con sympy"
   ]
  },
  {
   "cell_type": "code",
   "execution_count": null,
   "id": "146da128",
   "metadata": {
    "slideshow": {
     "slide_type": "slide"
    }
   },
   "outputs": [],
   "source": []
  },
  {
   "cell_type": "code",
   "execution_count": null,
   "id": "8636be1b",
   "metadata": {},
   "outputs": [],
   "source": []
  },
  {
   "cell_type": "code",
   "execution_count": null,
   "id": "83404ba4",
   "metadata": {},
   "outputs": [],
   "source": []
  }
 ],
 "metadata": {
  "celltoolbar": "Slideshow",
  "kernelspec": {
   "display_name": "Python 3 (ipykernel)",
   "language": "python",
   "name": "python3"
  },
  "language_info": {
   "codemirror_mode": {
    "name": "ipython",
    "version": 3
   },
   "file_extension": ".py",
   "mimetype": "text/x-python",
   "name": "python",
   "nbconvert_exporter": "python",
   "pygments_lexer": "ipython3",
   "version": "3.9.12"
  },
  "rise": {
   "theme": "sky"
  }
 },
 "nbformat": 4,
 "nbformat_minor": 5
}
