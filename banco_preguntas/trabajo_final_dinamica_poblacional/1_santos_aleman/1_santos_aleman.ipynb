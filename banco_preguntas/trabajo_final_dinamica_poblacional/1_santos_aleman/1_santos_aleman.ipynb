{
 "cells": [
  {
   "cell_type": "markdown",
   "id": "cb482b03",
   "metadata": {
    "slideshow": {
     "slide_type": "slide"
    }
   },
   "source": [
    "<table align=\"left\">\n",
    "  <td>\n",
    "    <a href=\"https://colab.research.google.com/github/marco-canas/edo/blob/main/banco_preguntas/trabajo_final_dinamica_poblacional/1_santos_aleman/1_santos_aleman.ipynb\" target=\"_parent\"><img src=\"https://colab.research.google.com/assets/colab-badge.svg\" alt=\"Open In Colab\"/></a>\n",
    "  </td>\n",
    "</table>"
   ]
  },
  {
   "cell_type": "markdown",
   "id": "4abb9e15",
   "metadata": {
    "slideshow": {
     "slide_type": "slide"
    }
   },
   "source": [
    "# Dinámica poblacional para Ingeniería Agropecuaria"
   ]
  },
  {
   "cell_type": "markdown",
   "id": "e9675b6b",
   "metadata": {
    "slideshow": {
     "slide_type": "slide"
    }
   },
   "source": [
    "## Ejercicio 1. Ganancia de peso "
   ]
  },
  {
   "cell_type": "markdown",
   "id": "341bb283",
   "metadata": {
    "slideshow": {
     "slide_type": "slide"
    }
   },
   "source": [
    "Un becerro que pesa 60 libras al nacer gana peso a razón de \n",
    "\n",
    "$$ \\frac{dw}{dt} = k(1200-w), $$\n",
    "\n",
    "donde $w$ es el peso en libras y $t$ es el tiempo en años.   \n",
    "\n",
    "Resolver la ecuación diferencial usando la función `dsolve()` de SymPy.\n",
    "\n",
    "a) Usar Sympy de Python para resolver la ecuación diferencial para $k = 0.8, 0.9$ y $1$.\n",
    "\n",
    "b) Representar las tres soluciones utilizando deslizadores de Matplotlib.  \n",
    "\n",
    "c) Si el animal se vende cuando su peso alcanza 800 libras, encontrar el tiempo de venta de cada uno de los modelos en el apartado a).  \n",
    "\n",
    "d) ¿Cuál es el peso máximo del animal para cada uno de los modelos?"
   ]
  },
  {
   "cell_type": "markdown",
   "id": "d69a8475",
   "metadata": {
    "slideshow": {
     "slide_type": "slide"
    }
   },
   "source": [
    "## Ejercicio 2. Ganancia de peso"
   ]
  },
  {
   "cell_type": "markdown",
   "id": "262c9cf0",
   "metadata": {
    "slideshow": {
     "slide_type": "slide"
    }
   },
   "source": [
    "Un becerro que pesa $w_{0}$ libras al nacer gana peso a razón de \n",
    " \n",
    "$$ \\frac{dw}{dt} =  1200 - w, $$   \n",
    " \n",
    "donde $w$ es el peso en libras y $t$ es el tiempo en años. Resolver la ecuación diferencial.  \n",
    "\n",
    "Ejercicio tomado de la página de 451 Larson"
   ]
  },
  {
   "cell_type": "code",
   "execution_count": null,
   "id": "049d6bec",
   "metadata": {
    "slideshow": {
     "slide_type": "slide"
    }
   },
   "outputs": [],
   "source": []
  },
  {
   "cell_type": "markdown",
   "id": "d15e560e",
   "metadata": {
    "slideshow": {
     "slide_type": "slide"
    }
   },
   "source": [
    "# Rúbrica de evaluación de este trabajo de modelamiento de problemas de dinámica poblacional para formación de ingenieros agropecuarios"
   ]
  },
  {
   "cell_type": "markdown",
   "id": "e4961cf3",
   "metadata": {},
   "source": [
    "## Empieza palnteando completamente el PVI de manera simbólica e interpretando el PVI en el contexto real "
   ]
  },
  {
   "cell_type": "code",
   "execution_count": null,
   "id": "e959c63d",
   "metadata": {
    "slideshow": {
     "slide_type": "slide"
    }
   },
   "outputs": [],
   "source": []
  },
  {
   "cell_type": "markdown",
   "id": "d8a4500d",
   "metadata": {
    "slideshow": {
     "slide_type": "slide"
    }
   },
   "source": [
    "## Resuelve analíticamente el PVI dado "
   ]
  },
  {
   "cell_type": "markdown",
   "id": "1d62bf4e",
   "metadata": {
    "slideshow": {
     "slide_type": "slide"
    }
   },
   "source": [
    "$$ \\frac{dw}{dt} = (1200 - w) , \\ \\ \\ \\ \\ w(0) = 60 $$"
   ]
  },
  {
   "cell_type": "markdown",
   "id": "b0c0ef8b",
   "metadata": {
    "slideshow": {
     "slide_type": "slide"
    }
   },
   "source": []
  },
  {
   "cell_type": "markdown",
   "id": "98046de1",
   "metadata": {
    "slideshow": {
     "slide_type": "slide"
    }
   },
   "source": [
    "## Clasifica,  Resuelve y verifica el PVI utilizando Sympy"
   ]
  },
  {
   "cell_type": "code",
   "execution_count": 1,
   "id": "9107f131",
   "metadata": {
    "slideshow": {
     "slide_type": "slide"
    }
   },
   "outputs": [],
   "source": [
    "from sympy import var, Function, diff, Eq, classify_ode, dsolve, checkodesol, solvers"
   ]
  },
  {
   "cell_type": "code",
   "execution_count": 2,
   "id": "18016902",
   "metadata": {
    "slideshow": {
     "slide_type": "slide"
    }
   },
   "outputs": [],
   "source": [
    "w,t = var('w t') # declaro las variables del problema "
   ]
  },
  {
   "cell_type": "code",
   "execution_count": 3,
   "id": "b8c2c6d0",
   "metadata": {
    "slideshow": {
     "slide_type": "slide"
    }
   },
   "outputs": [],
   "source": [
    "w = Function('w')"
   ]
  },
  {
   "cell_type": "code",
   "execution_count": 5,
   "id": "36718c0a",
   "metadata": {
    "slideshow": {
     "slide_type": "slide"
    }
   },
   "outputs": [
    {
     "data": {
      "text/latex": [
       "$\\displaystyle \\frac{d}{d t} w{\\left(t \\right)} = 1200 - w{\\left(t \\right)}$"
      ],
      "text/plain": [
       "Eq(Derivative(w(t), t), 1200 - w(t))"
      ]
     },
     "execution_count": 5,
     "metadata": {},
     "output_type": "execute_result"
    }
   ],
   "source": [
    "ecuacion_dif = Eq(diff(w(t), t), 1200 - w(t))\n",
    "ecuacion_dif "
   ]
  },
  {
   "cell_type": "markdown",
   "id": "cb581479",
   "metadata": {
    "slideshow": {
     "slide_type": "slide"
    }
   },
   "source": [
    "## Determina la solución general de la ED que hace parte del PVI dado"
   ]
  },
  {
   "cell_type": "code",
   "execution_count": 6,
   "id": "a65297eb",
   "metadata": {
    "slideshow": {
     "slide_type": "slide"
    }
   },
   "outputs": [
    {
     "data": {
      "text/latex": [
       "$\\displaystyle w{\\left(t \\right)} = C_{1} e^{- t} + 1200$"
      ],
      "text/plain": [
       "Eq(w(t), C1*exp(-t) + 1200)"
      ]
     },
     "execution_count": 6,
     "metadata": {},
     "output_type": "execute_result"
    }
   ],
   "source": [
    "dsolve(ecuacion_dif, w(t)) "
   ]
  },
  {
   "cell_type": "markdown",
   "id": "b7a00dcd",
   "metadata": {
    "slideshow": {
     "slide_type": "slide"
    }
   },
   "source": [
    "## Grafica de manera animada con deslizador la solución general para ver algunas de las funciones que hacen parte de la familia solución"
   ]
  },
  {
   "cell_type": "code",
   "execution_count": 7,
   "id": "8f18cdd8",
   "metadata": {},
   "outputs": [],
   "source": [
    "import numpy as np \n",
    "\n"
   ]
  },
  {
   "cell_type": "code",
   "execution_count": null,
   "id": "e323858b",
   "metadata": {},
   "outputs": [],
   "source": []
  },
  {
   "cell_type": "code",
   "execution_count": null,
   "id": "34918aae",
   "metadata": {},
   "outputs": [],
   "source": []
  }
 ],
 "metadata": {
  "celltoolbar": "Slideshow",
  "kernelspec": {
   "display_name": "Python 3 (ipykernel)",
   "language": "python",
   "name": "python3"
  },
  "language_info": {
   "codemirror_mode": {
    "name": "ipython",
    "version": 3
   },
   "file_extension": ".py",
   "mimetype": "text/x-python",
   "name": "python",
   "nbconvert_exporter": "python",
   "pygments_lexer": "ipython3",
   "version": "3.9.12"
  }
 },
 "nbformat": 4,
 "nbformat_minor": 5
}
