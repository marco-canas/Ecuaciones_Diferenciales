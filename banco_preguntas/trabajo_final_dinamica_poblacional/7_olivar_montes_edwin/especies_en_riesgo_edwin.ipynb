{
  "cells": [
    {
      "cell_type": "markdown",
      "id": "fb8fd6dd",
      "metadata": {
        "id": "fb8fd6dd"
      },
      "source": [
        "<table align=\"left\">\n",
        "  <td>\n",
        "    <a href=\"https://colab.research.google.com/github/marco-canas/edo/blob/main/banco_preguntas/trabajo_final_dinamica_poblacional/7_olivar_montes_edwin/especies_en_riesgo_edwin.ipynb\" target=\"_parent\"><img src=\"https://colab.research.google.com/assets/colab-badge.svg\" alt=\"Open In Colab\"/></a>\n",
        "  </td>\n",
        "</table>"
      ]
    },
    {
      "cell_type": "markdown",
      "id": "6638d7ff",
      "metadata": {
        "id": "6638d7ff"
      },
      "source": [
        "## Especies en peligro de muerte"
      ]
    },
    {
      "cell_type": "markdown",
      "id": "5a05400f",
      "metadata": {
        "id": "5a05400f"
      },
      "source": [
        "Una organización de conservación libera 25 iguanas de Caucasia en el campus de la Seccional Bajo Cauca de la Universidad de Antioquia.   \n",
        "\n",
        "Después de 2 años, hay 39 iguanas en la zona.   \n",
        "\n",
        "La seccional tiene una capacidad límite o de soporte de 500 iguanas.  "
      ]
    },
    {
      "cell_type": "markdown",
      "id": "e6926d16",
      "metadata": {
        "id": "e6926d16"
      },
      "source": [
        "a) Escribir una ecuación logística que modele la población de las panteras en el refugio. \n",
        "\n",
        "Recuerde que en general la ecuación diferencial logística tiene la forma:\n",
        "\n",
        "$$ \\frac{dy}{dt} = ky(1 - \\frac{y}{L}) $$"
      ]
    },
    {
      "cell_type": "markdown",
      "id": "bbaa5060",
      "metadata": {
        "id": "bbaa5060"
      },
      "source": [
        "b) Encontrar la población después de 5 años.  \n",
        "\n",
        "c) ¿Cuándo la población será de 100 panteras?  "
      ]
    },
    {
      "cell_type": "markdown",
      "id": "e55b46e2",
      "metadata": {
        "id": "e55b46e2"
      },
      "source": [
        "d) Escribir una ecuación diferencial logística que modele la tasa de crecimiento de la población de las panteras. Entonces repetir el apartado b) mediante el método de Euler con \n",
        "un tamaño de paso de $h = 1$. Comparar la aproximación con las respuestas exactas.  "
      ]
    },
    {
      "cell_type": "markdown",
      "id": "7d383253",
      "metadata": {
        "id": "7d383253"
      },
      "source": [
        "e) ¿En qué tiempo la población de iguanas crecerá más rápidamente? Explicar."
      ]
    },
    {
      "cell_type": "markdown",
      "id": "ae7b1286",
      "metadata": {
        "id": "ae7b1286"
      },
      "source": [
        "## Solución"
      ]
    },
    {
      "cell_type": "markdown",
      "id": "15a3d33b",
      "metadata": {
        "id": "15a3d33b"
      },
      "source": [
        "## Escribe el modelo o PVI que representa el problema y cuya solución permite realizar predicciones sobre el comportamiento de la especie en riesgo"
      ]
    },
    {
      "cell_type": "markdown",
      "id": "820da6e1",
      "metadata": {
        "id": "820da6e1"
      },
      "source": [
        "$$ \\frac{dp}{dt} = kp\\left(1 - \\frac{p}{200} \\right), \\ \\ \\ \\ \\ \\ p(0) = 25,\\ \\ \\ \\ \\  p(2) = 39 $$\n",
        "\n",
        "donde $k$ es la constante de proporcionalidad y $t$ es medido en años."
      ]
    },
    {
      "cell_type": "markdown",
      "id": "01823db1",
      "metadata": {
        "id": "01823db1"
      },
      "source": [
        "## Redacta una interpretación de la ED y de la condición inicial "
      ]
    },
    {
      "cell_type": "markdown",
      "id": "9a957ed3",
      "metadata": {
        "id": "9a957ed3"
      },
      "source": [
        "La velocidad de crecimiento de la población de panteras en un tiempo $t$, $\\frac{dp}{dt}(t)$,  es proporcional al número de panteras en el mismo año $t$, $p(t)$ y al porcentaje de iguanas faltantes para llegar a la población límite en el refugio, $\\left(1-\\frac{p(t)}{500}\\right)$. "
      ]
    },
    {
      "cell_type": "markdown",
      "id": "827e44d9",
      "metadata": {
        "id": "827e44d9"
      },
      "source": [
        "## Clasifica la ED que hace parte del PVI para poder establecer el método de solución del problema "
      ]
    },
    {
      "cell_type": "markdown",
      "id": "5b274d70",
      "metadata": {
        "id": "5b274d70"
      },
      "source": [
        "La ED dada es una Ecuación de primer orden pues la única derivada de presente en la ED es de orden 1.  "
      ]
    },
    {
      "cell_type": "markdown",
      "id": "8fabb76d",
      "metadata": {
        "id": "8fabb76d"
      },
      "source": [
        "La ED es separable pues es de la forma:\n",
        "\n",
        "$$p' = F(p)G(t)$$\n",
        " "
      ]
    },
    {
      "cell_type": "markdown",
      "id": "8020168e",
      "metadata": {
        "id": "8020168e"
      },
      "source": [
        "## Soluciona analíticamente el PVI, es decir, redacta en lenguaje latex la solución describiendo o justificando, según el caso, cada paso del proceso de solución"
      ]
    },
    {
      "cell_type": "markdown",
      "id": "8b476198",
      "metadata": {
        "id": "8b476198"
      },
      "source": [
        "$$ \\frac{dp}{dt} = kp\\left( 1 - \\frac{p}{500}\\right), \\ \\ \\ p(0) = 25, \\ \\ p(2) = 39 $$"
      ]
    },
    {
      "cell_type": "markdown",
      "id": "a1d42775",
      "metadata": {
        "id": "a1d42775"
      },
      "source": [
        ""
      ]
    },
    {
      "cell_type": "code",
      "execution_count": null,
      "id": "1eaab683",
      "metadata": {
        "id": "1eaab683"
      },
      "outputs": [],
      "source": [
        ""
      ]
    },
    {
      "cell_type": "code",
      "execution_count": null,
      "id": "ede5a8ac",
      "metadata": {
        "id": "ede5a8ac"
      },
      "outputs": [],
      "source": [
        ""
      ]
    },
    {
      "cell_type": "markdown",
      "id": "53f17f0c",
      "metadata": {
        "id": "53f17f0c"
      },
      "source": [
        "## Clasifica la ED utilizando la función `classify_ode()` de sympy"
      ]
    },
    {
      "cell_type": "code",
      "execution_count": null,
      "id": "d1ce309d",
      "metadata": {
        "id": "d1ce309d"
      },
      "outputs": [],
      "source": [
        "from sympy import var, Function, diff, Eq, classify_ode"
      ]
    },
    {
      "cell_type": "code",
      "execution_count": null,
      "id": "49a74736",
      "metadata": {
        "id": "49a74736"
      },
      "outputs": [],
      "source": [
        ""
      ]
    },
    {
      "cell_type": "markdown",
      "id": "28b9e58b",
      "metadata": {
        "id": "28b9e58b"
      },
      "source": [
        "## Soluciona con sympy el PVI"
      ]
    },
    {
      "cell_type": "code",
      "execution_count": null,
      "id": "b0bb0365",
      "metadata": {
        "id": "b0bb0365"
      },
      "outputs": [],
      "source": [
        "from sympy import var, Function, Eq, diff, classify_ode, dsolve, checkodesol"
      ]
    },
    {
      "cell_type": "code",
      "execution_count": null,
      "id": "713acfa2",
      "metadata": {
        "id": "713acfa2"
      },
      "outputs": [],
      "source": [
        "p,t,k = var('p,t,k')"
      ]
    },
    {
      "cell_type": "code",
      "execution_count": null,
      "id": "154b4e37",
      "metadata": {
        "id": "154b4e37"
      },
      "outputs": [],
      "source": [
        "p = Function('p')"
      ]
    },
    {
      "cell_type": "code",
      "execution_count": null,
      "id": "db2f54e2",
      "metadata": {
        "id": "db2f54e2"
      },
      "outputs": [],
      "source": [
        "l = 500\n",
        "eq = Eq(diff(p(t),t), k*p(t)*(1-p(t)/l))\n",
        "eq "
      ]
    },
    {
      "cell_type": "code",
      "execution_count": null,
      "id": "045b92e0",
      "metadata": {
        "id": "045b92e0"
      },
      "outputs": [],
      "source": [
        "sol_gen = dsolve(eq, p(t), hint = 'separable') \n",
        "sol_gen "
      ]
    },
    {
      "cell_type": "code",
      "execution_count": null,
      "id": "025dc075",
      "metadata": {
        "id": "025dc075"
      },
      "outputs": [],
      "source": [
        "p0 = 25\n",
        "sol_pvi = dsolve(eq, p(t), hint = 'separable', ics = {sol_gen.lhs.subs(t, 0):p0})\n",
        "sol_pvi "
      ]
    },
    {
      "cell_type": "markdown",
      "id": "dbd8b45b",
      "metadata": {
        "id": "dbd8b45b"
      },
      "source": [
        "## Determine el valor de la constante de proporcionalidad $k$"
      ]
    },
    {
      "cell_type": "code",
      "execution_count": null,
      "id": "3f7a0fb8",
      "metadata": {
        "id": "3f7a0fb8"
      },
      "outputs": [],
      "source": [
        ""
      ]
    },
    {
      "cell_type": "code",
      "execution_count": null,
      "id": "8b250b1b",
      "metadata": {
        "id": "8b250b1b"
      },
      "outputs": [],
      "source": [
        ""
      ]
    },
    {
      "cell_type": "markdown",
      "id": "67f5e157",
      "metadata": {
        "id": "67f5e157"
      },
      "source": [
        "## Verifica que la solución encontrada es correcta utilizando sympy"
      ]
    },
    {
      "cell_type": "code",
      "execution_count": null,
      "id": "2dbae721",
      "metadata": {
        "id": "2dbae721"
      },
      "outputs": [],
      "source": [
        "from sympy import checkodesol"
      ]
    },
    {
      "cell_type": "code",
      "execution_count": null,
      "id": "b40ab92b",
      "metadata": {
        "id": "b40ab92b"
      },
      "outputs": [],
      "source": [
        "checkodesol(eq,sol_gen)"
      ]
    },
    {
      "cell_type": "markdown",
      "id": "8f04696a",
      "metadata": {
        "id": "8f04696a"
      },
      "source": [
        "## Gráfica animada de la solución general"
      ]
    },
    {
      "cell_type": "code",
      "execution_count": null,
      "id": "07d29f59",
      "metadata": {
        "id": "07d29f59"
      },
      "outputs": [],
      "source": [
        ""
      ]
    },
    {
      "cell_type": "markdown",
      "id": "1c563211",
      "metadata": {
        "id": "1c563211"
      },
      "source": [
        "## Cinco observaciones o inferencias del gráfico animado de la solución general"
      ]
    },
    {
      "cell_type": "code",
      "execution_count": null,
      "id": "1f4fbe9d",
      "metadata": {
        "id": "1f4fbe9d"
      },
      "outputs": [],
      "source": [
        ""
      ]
    },
    {
      "cell_type": "markdown",
      "id": "f02c1412",
      "metadata": {
        "id": "f02c1412"
      },
      "source": [
        "## Grafica con Matplotlib la solución del PVI"
      ]
    },
    {
      "cell_type": "code",
      "execution_count": null,
      "id": "7b4e3add",
      "metadata": {
        "id": "7b4e3add",
        "outputId": "ca93e1b0-9542-45b4-c8c6-2d200b85706d"
      },
      "outputs": [
        {
          "data": {
            "image/png": "[encoded data removed]",
            "text/plain": [
              "<Figure size 432x288 with 1 Axes>"
            ]
          },
          "metadata": {
            "needs_background": "light"
          },
          "output_type": "display_data"
        }
      ],
      "source": [
        "import numpy as np \n",
        "import matplotlib.pyplot as plt \n",
        "\n",
        "fig, ax = plt.subplots() \n",
        "\n",
        "ax.set(title = 'Comportamiento de la población de iguanas en la UdeA Bajo Cauca',\\\n",
        "      xlabel = 'tiempo en años', ylabel = 'población')\n",
        "\n",
        "dominio = np.arange(0,31)\n",
        "l = 500\n",
        "rango = 500/(19*np.exp(-0.23*dominio) + 1)\n",
        "\n",
        "ax.plot(dominio, rango) # grafica de la curva de población \n",
        "ax.plot([0, 0], [0, np.max(rango)]) # grafico del eje vertical\n",
        "ax.plot([np.min(dominio), np.max(dominio)], [0,0], 'orange')   # gráfico del eje horizontal\n",
        "ax.plot([0, np.max(dominio)], [l, l], 'r--')  # grafico de la asíntota horizontal\n",
        "ax.grid(alpha = 0.6)\n"
      ]
    },
    {
      "cell_type": "markdown",
      "id": "67bc9705",
      "metadata": {
        "id": "67bc9705"
      },
      "source": [
        "## Cinco observaciones o inferencias del gráfico de la solución del PVI"
      ]
    },
    {
      "cell_type": "code",
      "execution_count": null,
      "id": "b72361a3",
      "metadata": {
        "id": "b72361a3"
      },
      "outputs": [],
      "source": [
        ""
      ]
    },
    {
      "cell_type": "markdown",
      "id": "45e946c2",
      "metadata": {
        "id": "45e946c2"
      },
      "source": [
        "## Gráfico de la función derivada $\\frac{dp}{dt}(t)$"
      ]
    },
    {
      "cell_type": "code",
      "execution_count": null,
      "id": "cb1581be",
      "metadata": {
        "id": "cb1581be"
      },
      "outputs": [],
      "source": [
        "def p(t):\n",
        "    return 500/(19*np.exp(-0.23*t) + 1)"
      ]
    },
    {
      "cell_type": "code",
      "execution_count": null,
      "id": "7cfd3996",
      "metadata": {
        "id": "7cfd3996"
      },
      "outputs": [],
      "source": [
        "def derivada_p(t):\n",
        "    return 0.23*p(t)*(1-p(t)/500)"
      ]
    },
    {
      "cell_type": "code",
      "execution_count": null,
      "id": "424b084d",
      "metadata": {
        "id": "424b084d",
        "outputId": "6d1a3cdb-992b-4e1e-c518-0dcd2884bba2"
      },
      "outputs": [
        {
          "data": {
            "image/png": "[encoded data removed]",
            "text/plain": [
              "<Figure size 432x288 with 1 Axes>"
            ]
          },
          "metadata": {
            "needs_background": "light"
          },
          "output_type": "display_data"
        }
      ],
      "source": [
        "import numpy as np \n",
        "import matplotlib.pyplot as plt \n",
        "\n",
        "fig, ax = plt.subplots() \n",
        "\n",
        "ax.set(title = 'Comportamiento de la derivada de población de iguanas en la UdeA Bajo Cauca',\\\n",
        "      xlabel = 'tiempo en años', ylabel = 'derivada población')\n",
        "\n",
        "dominio = np.arange(0,31)\n",
        "l = 500\n",
        "rango = [derivada_p(t) for t in dominio]\n",
        "\n",
        "ax.plot(dominio, rango) # grafica de la curva derivada de población \n",
        "ax.plot([0, 0], [0, np.max(rango)]) # grafico del eje vertical\n",
        "ax.plot([np.min(dominio), np.max(dominio)], [0,0], 'orange')   # gráfico del eje horizontal\n",
        "\n",
        "ax.grid(alpha = 0.6)\n"
      ]
    },
    {
      "cell_type": "markdown",
      "id": "78515d01",
      "metadata": {
        "id": "78515d01"
      },
      "source": [
        "## Cinco observaciones o inferencias del gráfico de la función velocidad de crecimiento de la población de iguanas"
      ]
    },
    {
      "cell_type": "markdown",
      "id": "8a5fe441",
      "metadata": {
        "id": "8a5fe441"
      },
      "source": [
        "1.  \n",
        "2.  \n",
        "3.  \n",
        "4.  \n",
        "5.  "
      ]
    },
    {
      "cell_type": "markdown",
      "id": "687d1c7b",
      "metadata": {
        "id": "687d1c7b"
      },
      "source": [
        "## Referencias\n",
        "\n",
        "* Página 452 de Zill. "
      ]
    },
    {
      "cell_type": "code",
      "execution_count": null,
      "id": "d75623c0",
      "metadata": {
        "id": "d75623c0"
      },
      "outputs": [],
      "source": [
        ""
      ]
    }
  ],
  "metadata": {
    "celltoolbar": "Slideshow",
    "kernelspec": {
      "display_name": "Python 3 (ipykernel)",
      "language": "python",
      "name": "python3"
    },
    "language_info": {
      "codemirror_mode": {
        "name": "ipython",
        "version": 3
      },
      "file_extension": ".py",
      "mimetype": "text/x-python",
      "name": "python",
      "nbconvert_exporter": "python",
      "pygments_lexer": "ipython3",
      "version": "3.9.12"
    },
    "rise": {
      "theme": "sky"
    },
    "colab": {
      "name": "especies_en_riesgo_edwin.ipynb",
      "provenance": []
    }
  },
  "nbformat": 4,
  "nbformat_minor": 5
}