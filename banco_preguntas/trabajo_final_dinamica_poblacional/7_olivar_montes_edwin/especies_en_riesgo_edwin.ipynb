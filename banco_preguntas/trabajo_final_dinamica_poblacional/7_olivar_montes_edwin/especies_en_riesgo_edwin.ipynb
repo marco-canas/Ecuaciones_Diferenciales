{
<<<<<<< HEAD
 "cells": [
  {
   "cell_type": "markdown",
   "id": "fb8fd6dd",
   "metadata": {
    "slideshow": {
     "slide_type": "slide"
    }
   },
   "source": [
    "<table align=\"left\">\n",
    "  <td>\n",
    "    <a href=\"https://colab.research.google.com/github/marco-canas/edo/blob/main/banco_preguntas/trabajo_final_dinamica_poblacional/7_olivar_montes_edwin/especies_en_riesgo_edwin.ipynb\" target=\"_parent\"><img src=\"https://colab.research.google.com/assets/colab-badge.svg\" alt=\"Open In Colab\"/></a>\n",
    "  </td>\n",
    "</table>"
   ]
  },
  {
   "cell_type": "markdown",
   "id": "6638d7ff",
   "metadata": {
    "slideshow": {
     "slide_type": "slide"
    }
   },
   "source": [
    "## Especies en peligro"
   ]
  },
  {
   "cell_type": "markdown",
   "id": "ac2dc0b7",
   "metadata": {
    "slideshow": {
     "slide_type": "slide"
    }
   },
   "source": [
    "Una organización de conservación libera 25 iguanas de Caucasia en el campus de la Seccional Bajo Cauca de la Universidad de Antioquia.   \n",
    "\n",
    "Después de 1 años, hay 39 iguanas en la zona.   \n",
    "\n",
    "La seccional tiene una capacidad límite o de soporte de 350 iguanas.  "
   ]
  },
  {
   "cell_type": "markdown",
   "id": "0f6f4958",
   "metadata": {
    "slideshow": {
     "slide_type": "slide"
    }
   },
   "source": [
    "a) Escribir una ecuación logística que modele la población de las panteras en el refugio. \n",
    "\n",
    "Recuerde que en general la ecuación diferencial logística tiene la forma:\n",
    "\n",
    "$$ \\frac{dy}{dt} = ky(1 - \\frac{y}{L}) $$"
   ]
  },
  {
   "cell_type": "markdown",
   "id": "181e1c28",
   "metadata": {
    "slideshow": {
     "slide_type": "slide"
    }
   },
   "source": [
    "b) Encontrar la población después de 5 años.  \n",
    "\n",
    "c) ¿Cuándo la población será de 100 iguanas?  "
   ]
  },
  {
   "cell_type": "markdown",
   "id": "59aa255a",
   "metadata": {
    "slideshow": {
     "slide_type": "slide"
    }
   },
   "source": [
    "d) Escribir una ecuación diferencial logística que modele la tasa de crecimiento de la población de las iguanas. \n",
    "\n",
    "Entonces repetir el apartado b) mediante el método de Euler con un tamaño de paso de $h = 1$. "
   ]
  },
  {
   "cell_type": "markdown",
   "id": "9acc7217",
   "metadata": {
    "slideshow": {
     "slide_type": "slide"
    }
   },
   "source": [
    "Comparar la aproximación con las respuestas exactas.  "
   ]
  },
  {
   "cell_type": "markdown",
   "id": "7d383253",
   "metadata": {
    "slideshow": {
     "slide_type": "slide"
    }
   },
   "source": [
    "e) ¿En qué tiempo la población de iguanas crecerá más rápidamente? Explicar."
   ]
  },
  {
   "cell_type": "markdown",
   "id": "ae7b1286",
   "metadata": {
    "slideshow": {
     "slide_type": "slide"
    }
   },
   "source": [
    "## Solución"
   ]
  },
  {
   "cell_type": "markdown",
   "id": "15a3d33b",
   "metadata": {
    "slideshow": {
     "slide_type": "slide"
    }
   },
   "source": [
    "## Escribe el modelo o PVI que representa el problema y cuya solución permite realizar predicciones sobre el comportamiento de la especie en riesgo"
   ]
  },
  {
   "cell_type": "markdown",
   "id": "820da6e1",
   "metadata": {
    "slideshow": {
     "slide_type": "slide"
    }
   },
   "source": [
    "$$ \\frac{dp}{dt} = kp\\left(1 - \\frac{p}{350} \\right), \\ \\ \\ \\ \\ \\ p(0) = 25,\\ \\ \\ \\ \\  p(1) = 39 $$\n",
    "\n",
    "donde $k$ es la constante de proporcionalidad y $t$ es medido en años."
   ]
  },
  {
   "cell_type": "markdown",
   "id": "01823db1",
   "metadata": {
    "slideshow": {
     "slide_type": "slide"
    }
   },
   "source": [
    "## Redacta una interpretación de la ED y de la condición inicial "
   ]
  },
  {
   "cell_type": "markdown",
   "id": "9a957ed3",
   "metadata": {
    "slideshow": {
     "slide_type": "slide"
    }
   },
   "source": [
    "La velocidad de crecimiento de la población de panteras en un tiempo $t$, $\\frac{dp}{dt}(t)$,  es proporcional al número de panteras en el mismo año $t$, $p(t)$ y al porcentaje de iguanas faltantes para llegar a la población límite en el refugio, $\\left(1-\\frac{p(t)}{500}\\right)$. "
   ]
  },
  {
   "cell_type": "markdown",
   "id": "827e44d9",
   "metadata": {
    "slideshow": {
     "slide_type": "slide"
    }
   },
   "source": [
    "## Clasifica la ED que hace parte del PVI para poder establecer el método de solución del problema "
   ]
  },
  {
   "cell_type": "markdown",
   "id": "5b274d70",
   "metadata": {
    "slideshow": {
     "slide_type": "slide"
    }
   },
   "source": [
    "La ED dada es una Ecuación de primer orden pues la única derivada de presente en la ED es de orden 1.  "
   ]
  },
  {
   "cell_type": "markdown",
   "id": "8fabb76d",
   "metadata": {
    "slideshow": {
     "slide_type": "slide"
    }
   },
   "source": [
    "La ED es separable pues es de la forma:\n",
    "\n",
    "$$p' = F(p)G(t)$$\n",
    " "
   ]
  },
  {
   "cell_type": "markdown",
   "id": "8020168e",
   "metadata": {
    "slideshow": {
     "slide_type": "slide"
    }
   },
   "source": [
    "## Soluciona analíticamente el PVI, es decir, redacta en lenguaje latex la solución describiendo o justificando, según el caso, cada paso del proceso de solución"
   ]
  },
  {
   "cell_type": "markdown",
   "id": "19bf52b7",
   "metadata": {
    "slideshow": {
     "slide_type": "slide"
    }
   },
   "source": [
    "$$ \\frac{dp}{dt} = kp\\left( 1 - \\frac{p}{350}\\right), \\ \\ \\ p(0) = 25, \\ \\ p(2) = 39 $$"
   ]
  },
  {
   "cell_type": "markdown",
   "id": "1c51eff9",
   "metadata": {
    "slideshow": {
     "slide_type": "slide"
    }
   },
   "source": [
    "Empecemos sepando las variables transponiendo factores: \n",
    "\n",
    "$$\\frac{1}{p\\left( 1 - \\frac{p}{350} \\right)} dp = kdt $$\n"
   ]
  },
  {
   "cell_type": "code",
   "execution_count": null,
   "id": "0ced3139",
   "metadata": {
    "slideshow": {
     "slide_type": "slide"
    }
   },
   "outputs": [],
   "source": []
  },
  {
   "cell_type": "code",
   "execution_count": null,
   "id": "ac0dc88a",
   "metadata": {
    "slideshow": {
     "slide_type": "slide"
    }
   },
   "outputs": [],
   "source": []
  },
  {
   "cell_type": "markdown",
   "id": "53f17f0c",
   "metadata": {
    "slideshow": {
     "slide_type": "slide"
    }
   },
   "source": [
    "## Clasifica la ED utilizando la función `classify_ode()` de sympy"
   ]
  },
  {
   "cell_type": "code",
   "execution_count": 3,
   "id": "d1ce309d",
   "metadata": {
    "slideshow": {
     "slide_type": "slide"
    }
   },
   "outputs": [],
   "source": [
    "from sympy import var, Function, diff, Eq, classify_ode"
   ]
  },
  {
   "cell_type": "code",
   "execution_count": 4,
   "id": "581c1537",
   "metadata": {
    "slideshow": {
     "slide_type": "slide"
    }
   },
   "outputs": [
=======
  "cells": [
>>>>>>> 96398b61938e7d084c20c1b6fef89fbbccdbc84c
    {
      "cell_type": "markdown",
      "id": "fb8fd6dd",
      "metadata": {
        "id": "fb8fd6dd"
      },
      "source": [
        "<table align=\"left\">\n",
        "  <td>\n",
        "    <a href=\"https://colab.research.google.com/github/marco-canas/edo/blob/main/banco_preguntas/trabajo_final_dinamica_poblacional/7_olivar_montes_edwin/especies_en_riesgo_edwin.ipynb\" target=\"_parent\"><img src=\"https://colab.research.google.com/assets/colab-badge.svg\" alt=\"Open In Colab\"/></a>\n",
        "  </td>\n",
        "</table>"
      ]
    },
    {
      "cell_type": "markdown",
      "id": "6638d7ff",
      "metadata": {
        "id": "6638d7ff"
      },
      "source": [
        "## Especies en peligro de muerte"
      ]
    },
    {
      "cell_type": "markdown",
      "id": "5a05400f",
      "metadata": {
        "id": "5a05400f"
      },
      "source": [
        "Una organización de conservación libera 25 iguanas de Caucasia en el campus de la Seccional Bajo Cauca de la Universidad de Antioquia.   \n",
        "\n",
        "Después de 2 años, hay 39 iguanas en la zona.   \n",
        "\n",
        "La seccional tiene una capacidad límite o de soporte de 500 iguanas.  "
      ]
    },
    {
      "cell_type": "markdown",
      "id": "e6926d16",
      "metadata": {
        "id": "e6926d16"
      },
      "source": [
        "a) Escribir una ecuación logística que modele la población de las panteras en el refugio. \n",
        "\n",
        "Recuerde que en general la ecuación diferencial logística tiene la forma:\n",
        "\n",
        "$$ \\frac{dy}{dt} = ky(1 - \\frac{y}{L}) $$"
      ]
    },
    {
      "cell_type": "markdown",
      "id": "bbaa5060",
      "metadata": {
        "id": "bbaa5060"
      },
      "source": [
        "b) Encontrar la población después de 5 años.  \n",
        "\n",
        "c) ¿Cuándo la población será de 100 panteras?  "
      ]
    },
    {
      "cell_type": "markdown",
      "id": "e55b46e2",
      "metadata": {
        "id": "e55b46e2"
      },
      "source": [
        "d) Escribir una ecuación diferencial logística que modele la tasa de crecimiento de la población de las panteras. Entonces repetir el apartado b) mediante el método de Euler con \n",
        "un tamaño de paso de $h = 1$. Comparar la aproximación con las respuestas exactas.  "
      ]
    },
    {
      "cell_type": "markdown",
      "id": "7d383253",
      "metadata": {
        "id": "7d383253"
      },
      "source": [
        "e) ¿En qué tiempo la población de iguanas crecerá más rápidamente? Explicar."
      ]
    },
    {
      "cell_type": "markdown",
      "id": "ae7b1286",
      "metadata": {
        "id": "ae7b1286"
      },
      "source": [
        "## Solución"
      ]
    },
    {
      "cell_type": "markdown",
      "id": "15a3d33b",
      "metadata": {
        "id": "15a3d33b"
      },
      "source": [
        "## Escribe el modelo o PVI que representa el problema y cuya solución permite realizar predicciones sobre el comportamiento de la especie en riesgo"
      ]
    },
    {
      "cell_type": "markdown",
      "id": "820da6e1",
      "metadata": {
        "id": "820da6e1"
      },
      "source": [
        "$$ \\frac{dp}{dt} = kp\\left(1 - \\frac{p}{200} \\right), \\ \\ \\ \\ \\ \\ p(0) = 25,\\ \\ \\ \\ \\  p(2) = 39 $$\n",
        "\n",
        "donde $k$ es la constante de proporcionalidad y $t$ es medido en años."
      ]
    },
    {
      "cell_type": "markdown",
      "id": "01823db1",
      "metadata": {
        "id": "01823db1"
      },
      "source": [
        "## Redacta una interpretación de la ED y de la condición inicial "
      ]
    },
    {
      "cell_type": "markdown",
      "id": "9a957ed3",
      "metadata": {
        "id": "9a957ed3"
      },
      "source": [
        "La velocidad de crecimiento de la población de panteras en un tiempo $t$, $\\frac{dp}{dt}(t)$,  es proporcional al número de panteras en el mismo año $t$, $p(t)$ y al porcentaje de iguanas faltantes para llegar a la población límite en el refugio, $\\left(1-\\frac{p(t)}{500}\\right)$. "
      ]
    },
    {
      "cell_type": "markdown",
      "id": "827e44d9",
      "metadata": {
        "id": "827e44d9"
      },
      "source": [
        "## Clasifica la ED que hace parte del PVI para poder establecer el método de solución del problema "
      ]
    },
    {
      "cell_type": "markdown",
      "id": "5b274d70",
      "metadata": {
        "id": "5b274d70"
      },
      "source": [
        "La ED dada es una Ecuación de primer orden pues la única derivada de presente en la ED es de orden 1.  "
      ]
    },
    {
      "cell_type": "markdown",
      "id": "8fabb76d",
      "metadata": {
        "id": "8fabb76d"
      },
      "source": [
        "La ED es separable pues es de la forma:\n",
        "\n",
        "$$p' = F(p)G(t)$$\n",
        " "
      ]
    },
    {
      "cell_type": "markdown",
      "id": "8020168e",
      "metadata": {
        "id": "8020168e"
      },
      "source": [
        "## Soluciona analíticamente el PVI, es decir, redacta en lenguaje latex la solución describiendo o justificando, según el caso, cada paso del proceso de solución"
      ]
    },
    {
      "cell_type": "markdown",
      "id": "8b476198",
      "metadata": {
        "id": "8b476198"
      },
      "source": [
        "$$ \\frac{dp}{dt} = kp\\left( 1 - \\frac{p}{500}\\right), \\ \\ \\ p(0) = 25, \\ \\ p(2) = 39 $$"
      ]
    },
    {
      "cell_type": "markdown",
      "id": "a1d42775",
      "metadata": {
        "id": "a1d42775"
      },
      "source": [
        ""
      ]
    },
    {
      "cell_type": "code",
      "execution_count": null,
      "id": "1eaab683",
      "metadata": {
        "id": "1eaab683"
      },
      "outputs": [],
      "source": [
        ""
      ]
    },
    {
      "cell_type": "code",
      "execution_count": null,
      "id": "ede5a8ac",
      "metadata": {
        "id": "ede5a8ac"
      },
      "outputs": [],
      "source": [
        ""
      ]
    },
    {
      "cell_type": "markdown",
      "id": "53f17f0c",
      "metadata": {
        "id": "53f17f0c"
      },
      "source": [
        "## Clasifica la ED utilizando la función `classify_ode()` de sympy"
      ]
    },
    {
      "cell_type": "code",
      "execution_count": null,
      "id": "d1ce309d",
      "metadata": {
        "id": "d1ce309d"
      },
      "outputs": [],
      "source": [
        "from sympy import var, Function, diff, Eq, classify_ode"
      ]
    },
    {
      "cell_type": "code",
      "execution_count": null,
      "id": "49a74736",
      "metadata": {
        "id": "49a74736"
      },
      "outputs": [],
      "source": [
        ""
      ]
    },
    {
      "cell_type": "markdown",
      "id": "28b9e58b",
      "metadata": {
        "id": "28b9e58b"
      },
      "source": [
        "## Soluciona con sympy el PVI"
      ]
    },
    {
      "cell_type": "code",
      "execution_count": null,
      "id": "b0bb0365",
      "metadata": {
        "id": "b0bb0365"
      },
      "outputs": [],
      "source": [
        "from sympy import var, Function, Eq, diff, classify_ode, dsolve, checkodesol"
      ]
    },
    {
      "cell_type": "code",
      "execution_count": null,
      "id": "713acfa2",
      "metadata": {
        "id": "713acfa2"
      },
      "outputs": [],
      "source": [
        "p,t,k = var('p,t,k')"
      ]
    },
    {
      "cell_type": "code",
      "execution_count": null,
      "id": "154b4e37",
      "metadata": {
        "id": "154b4e37"
      },
      "outputs": [],
      "source": [
        "p = Function('p')"
      ]
    },
    {
      "cell_type": "code",
      "execution_count": null,
      "id": "db2f54e2",
      "metadata": {
        "id": "db2f54e2"
      },
      "outputs": [],
      "source": [
        "l = 500\n",
        "eq = Eq(diff(p(t),t), k*p(t)*(1-p(t)/l))\n",
        "eq "
      ]
    },
    {
      "cell_type": "code",
      "execution_count": null,
      "id": "045b92e0",
      "metadata": {
        "id": "045b92e0"
      },
      "outputs": [],
      "source": [
        "sol_gen = dsolve(eq, p(t), hint = 'separable') \n",
        "sol_gen "
      ]
    },
    {
      "cell_type": "code",
      "execution_count": null,
      "id": "025dc075",
      "metadata": {
        "id": "025dc075"
      },
      "outputs": [],
      "source": [
        "p0 = 25\n",
        "sol_pvi = dsolve(eq, p(t), hint = 'separable', ics = {sol_gen.lhs.subs(t, 0):p0})\n",
        "sol_pvi "
      ]
    },
    {
      "cell_type": "markdown",
      "id": "dbd8b45b",
      "metadata": {
        "id": "dbd8b45b"
      },
      "source": [
        "## Determine el valor de la constante de proporcionalidad $k$"
      ]
    },
    {
      "cell_type": "code",
      "execution_count": null,
      "id": "3f7a0fb8",
      "metadata": {
        "id": "3f7a0fb8"
      },
      "outputs": [],
      "source": [
        ""
      ]
    },
    {
      "cell_type": "code",
      "execution_count": null,
      "id": "8b250b1b",
      "metadata": {
        "id": "8b250b1b"
      },
      "outputs": [],
      "source": [
        ""
      ]
    },
    {
      "cell_type": "markdown",
      "id": "67f5e157",
      "metadata": {
        "id": "67f5e157"
      },
      "source": [
        "## Verifica que la solución encontrada es correcta utilizando sympy"
      ]
    },
    {
      "cell_type": "code",
      "execution_count": null,
      "id": "2dbae721",
      "metadata": {
        "id": "2dbae721"
      },
      "outputs": [],
      "source": [
        "from sympy import checkodesol"
      ]
    },
    {
      "cell_type": "code",
      "execution_count": null,
      "id": "b40ab92b",
      "metadata": {
        "id": "b40ab92b"
      },
      "outputs": [],
      "source": [
        "checkodesol(eq,sol_gen)"
      ]
    },
    {
      "cell_type": "markdown",
      "id": "8f04696a",
      "metadata": {
        "id": "8f04696a"
      },
      "source": [
        "## Gráfica animada de la solución general"
      ]
    },
    {
      "cell_type": "code",
      "execution_count": null,
      "id": "07d29f59",
      "metadata": {
        "id": "07d29f59"
      },
      "outputs": [],
      "source": [
        ""
      ]
    },
    {
      "cell_type": "markdown",
      "id": "1c563211",
      "metadata": {
        "id": "1c563211"
      },
      "source": [
        "## Cinco observaciones o inferencias del gráfico animado de la solución general"
      ]
    },
    {
      "cell_type": "code",
      "execution_count": null,
      "id": "1f4fbe9d",
      "metadata": {
        "id": "1f4fbe9d"
      },
      "outputs": [],
      "source": [
        ""
      ]
    },
    {
      "cell_type": "markdown",
      "id": "f02c1412",
      "metadata": {
        "id": "f02c1412"
      },
      "source": [
        "## Grafica con Matplotlib la solución del PVI"
      ]
    },
    {
      "cell_type": "code",
      "execution_count": null,
      "id": "7b4e3add",
      "metadata": {
        "id": "7b4e3add",
        "outputId": "ca93e1b0-9542-45b4-c8c6-2d200b85706d"
      },
      "outputs": [
        {
          "data": {
            "image/png": "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\n",
            "text/plain": [
              "<Figure size 432x288 with 1 Axes>"
            ]
          },
          "metadata": {
            "needs_background": "light"
          },
          "output_type": "display_data"
        }
      ],
      "source": [
        "import numpy as np \n",
        "import matplotlib.pyplot as plt \n",
        "\n",
        "fig, ax = plt.subplots() \n",
        "\n",
        "ax.set(title = 'Comportamiento de la población de iguanas en la UdeA Bajo Cauca',\\\n",
        "      xlabel = 'tiempo en años', ylabel = 'población')\n",
        "\n",
        "dominio = np.arange(0,31)\n",
        "l = 500\n",
        "rango = 500/(19*np.exp(-0.23*dominio) + 1)\n",
        "\n",
        "ax.plot(dominio, rango) # grafica de la curva de población \n",
        "ax.plot([0, 0], [0, np.max(rango)]) # grafico del eje vertical\n",
        "ax.plot([np.min(dominio), np.max(dominio)], [0,0], 'orange')   # gráfico del eje horizontal\n",
        "ax.plot([0, np.max(dominio)], [l, l], 'r--')  # grafico de la asíntota horizontal\n",
        "ax.grid(alpha = 0.6)\n"
      ]
    },
    {
      "cell_type": "markdown",
      "id": "67bc9705",
      "metadata": {
        "id": "67bc9705"
      },
      "source": [
        "## Cinco observaciones o inferencias del gráfico de la solución del PVI"
      ]
    },
    {
      "cell_type": "code",
      "execution_count": null,
      "id": "b72361a3",
      "metadata": {
        "id": "b72361a3"
      },
      "outputs": [],
      "source": [
        ""
      ]
    },
    {
      "cell_type": "markdown",
      "id": "45e946c2",
      "metadata": {
        "id": "45e946c2"
      },
      "source": [
        "## Gráfico de la función derivada $\\frac{dp}{dt}(t)$"
      ]
    },
    {
      "cell_type": "code",
      "execution_count": null,
      "id": "cb1581be",
      "metadata": {
        "id": "cb1581be"
      },
      "outputs": [],
      "source": [
        "def p(t):\n",
        "    return 500/(19*np.exp(-0.23*t) + 1)"
      ]
    },
    {
      "cell_type": "code",
      "execution_count": null,
      "id": "7cfd3996",
      "metadata": {
        "id": "7cfd3996"
      },
      "outputs": [],
      "source": [
        "def derivada_p(t):\n",
        "    return 0.23*p(t)*(1-p(t)/500)"
      ]
    },
    {
      "cell_type": "code",
      "execution_count": null,
      "id": "424b084d",
      "metadata": {
        "id": "424b084d",
        "outputId": "6d1a3cdb-992b-4e1e-c518-0dcd2884bba2"
      },
      "outputs": [
        {
          "data": {
            "image/png": "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\n",
            "text/plain": [
              "<Figure size 432x288 with 1 Axes>"
            ]
          },
          "metadata": {
            "needs_background": "light"
          },
          "output_type": "display_data"
        }
      ],
      "source": [
        "import numpy as np \n",
        "import matplotlib.pyplot as plt \n",
        "\n",
        "fig, ax = plt.subplots() \n",
        "\n",
        "ax.set(title = 'Comportamiento de la derivada de población de iguanas en la UdeA Bajo Cauca',\\\n",
        "      xlabel = 'tiempo en años', ylabel = 'derivada población')\n",
        "\n",
        "dominio = np.arange(0,31)\n",
        "l = 500\n",
        "rango = [derivada_p(t) for t in dominio]\n",
        "\n",
        "ax.plot(dominio, rango) # grafica de la curva derivada de población \n",
        "ax.plot([0, 0], [0, np.max(rango)]) # grafico del eje vertical\n",
        "ax.plot([np.min(dominio), np.max(dominio)], [0,0], 'orange')   # gráfico del eje horizontal\n",
        "\n",
        "ax.grid(alpha = 0.6)\n"
      ]
<<<<<<< HEAD
     },
     "execution_count": 16,
     "metadata": {},
     "output_type": "execute_result"
    }
   ],
   "source": [
    "sol_gen = dsolve(eq, p(t), hint = 'separable') \n",
    "sol_gen "
   ]
  },
  {
   "cell_type": "markdown",
   "id": "70a75619",
   "metadata": {
    "slideshow": {
     "slide_type": "slide"
    }
   },
   "source": [
    "La anterior es la solución general explícita de la ED que hace parte del PVI"
   ]
  },
  {
   "cell_type": "code",
   "execution_count": 17,
   "id": "025dc075",
   "metadata": {
    "slideshow": {
     "slide_type": "slide"
    }
   },
   "outputs": [
=======
    },
>>>>>>> 96398b61938e7d084c20c1b6fef89fbbccdbc84c
    {
      "cell_type": "markdown",
      "id": "78515d01",
      "metadata": {
        "id": "78515d01"
      },
      "source": [
        "## Cinco observaciones o inferencias del gráfico de la función velocidad de crecimiento de la población de iguanas"
      ]
<<<<<<< HEAD
     },
     "execution_count": 17,
     "metadata": {},
     "output_type": "execute_result"
    }
   ],
   "source": [
    "p0 = 25\n",
    "solucion_pvi = dsolve(eq, p(t), hint = 'separable', ics = {sol_gen.lhs.subs(t, 0):p0})\n",
    "solucion_pvi "
   ]
  },
  {
   "cell_type": "markdown",
   "id": "02c8051c",
   "metadata": {},
   "source": [
    "Pero todavía no conocemos la constante de proporcionalidad $k$. "
   ]
  },
  {
   "cell_type": "markdown",
   "id": "06c5d3b5",
   "metadata": {
    "slideshow": {
     "slide_type": "slide"
    }
   },
   "source": [
    "## Determine el valor de la constante de proporcionalidad $k$"
   ]
  },
  {
   "cell_type": "code",
   "execution_count": 20,
   "id": "e5b92e25",
   "metadata": {},
   "outputs": [
=======
    },
>>>>>>> 96398b61938e7d084c20c1b6fef89fbbccdbc84c
    {
      "cell_type": "markdown",
      "id": "8a5fe441",
      "metadata": {
        "id": "8a5fe441"
      },
      "source": [
        "1.  \n",
        "2.  \n",
        "3.  \n",
        "4.  \n",
        "5.  "
      ]
    },
    {
      "cell_type": "markdown",
      "id": "687d1c7b",
      "metadata": {
        "id": "687d1c7b"
      },
      "source": [
        "## Referencias\n",
        "\n",
        "* Página 452 de Zill. "
      ]
    },
    {
      "cell_type": "code",
      "execution_count": null,
      "id": "d75623c0",
      "metadata": {
        "id": "d75623c0"
      },
      "outputs": [],
      "source": [
        ""
      ]
    }
  ],
  "metadata": {
    "celltoolbar": "Slideshow",
    "kernelspec": {
      "display_name": "Python 3 (ipykernel)",
      "language": "python",
      "name": "python3"
    },
    "language_info": {
      "codemirror_mode": {
        "name": "ipython",
        "version": 3
      },
      "file_extension": ".py",
      "mimetype": "text/x-python",
      "name": "python",
      "nbconvert_exporter": "python",
      "pygments_lexer": "ipython3",
      "version": "3.9.12"
    },
    "rise": {
      "theme": "sky"
    },
    "colab": {
      "name": "especies_en_riesgo_edwin.ipynb",
      "provenance": []
    }
  },
<<<<<<< HEAD
  {
   "cell_type": "markdown",
   "id": "cb502c25",
   "metadata": {
    "slideshow": {
     "slide_type": "slide"
    }
   },
   "source": [
    "Entonces la solución del PVI con la constante de proporcionalidad $k$ es \n",
    "\n",
    "\n",
    "$$ p(t) = \\frac{350}{13e^{-0.49t} + 1} $$\n"
   ]
  },
  {
   "cell_type": "code",
   "execution_count": 29,
   "id": "b87bdc8c",
   "metadata": {
    "slideshow": {
     "slide_type": "slide"
    }
   },
   "outputs": [
    {
     "data": {
      "text/latex": [
       "$\\displaystyle p{\\left(t \\right)} = \\frac{350}{1 + 13 e^{- 0.488718091411949 t}}$"
      ],
      "text/plain": [
       "Eq(p(t), 350/(1 + 13*exp(-0.488718091411949*t)))"
      ]
     },
     "execution_count": 29,
     "metadata": {},
     "output_type": "execute_result"
    }
   ],
   "source": [
    "sol_completa = solucion_pvi.subs(k, log(507/311))\n",
    "sol_completa "
   ]
  },
  {
   "cell_type": "markdown",
   "id": "67f5e157",
   "metadata": {
    "slideshow": {
     "slide_type": "slide"
    }
   },
   "source": [
    "## Verifica que la solución encontrada es correcta utilizando sympy"
   ]
  },
  {
   "cell_type": "code",
   "execution_count": 31,
   "id": "2dbae721",
   "metadata": {
    "slideshow": {
     "slide_type": "slide"
    }
   },
   "outputs": [],
   "source": [
    "from sympy import checkodesol"
   ]
  },
  {
   "cell_type": "code",
   "execution_count": 33,
   "id": "b40ab92b",
   "metadata": {
    "slideshow": {
     "slide_type": "slide"
    }
   },
   "outputs": [
    {
     "data": {
      "text/plain": [
       "(True, 0)"
      ]
     },
     "execution_count": 33,
     "metadata": {},
     "output_type": "execute_result"
    }
   ],
   "source": [
    "checkodesol(eq,sol_gen)"
   ]
  },
  {
   "cell_type": "code",
   "execution_count": 37,
   "id": "41858189",
   "metadata": {
    "slideshow": {
     "slide_type": "slide"
    }
   },
   "outputs": [
    {
     "data": {
      "text/latex": [
       "$\\displaystyle p{\\left(3.3 \\right)} = 97.4563404229809$"
      ],
      "text/plain": [
       "Eq(p(3.3), 97.4563404229809)"
      ]
     },
     "execution_count": 37,
     "metadata": {},
     "output_type": "execute_result"
    }
   ],
   "source": [
    "sol_completa.subs(t,3.3)"
   ]
  },
  {
   "cell_type": "markdown",
   "id": "88d848cc",
   "metadata": {
    "slideshow": {
     "slide_type": "slide"
    }
   },
   "source": [
    "## Gráfica animada de la solución general"
   ]
  },
  {
   "cell_type": "code",
   "execution_count": null,
   "id": "b374d8ca",
   "metadata": {
    "slideshow": {
     "slide_type": "slide"
    }
   },
   "outputs": [],
   "source": []
  },
  {
   "cell_type": "markdown",
   "id": "4cd79cc7",
   "metadata": {
    "slideshow": {
     "slide_type": "slide"
    }
   },
   "source": [
    "## Cinco observaciones o inferencias del gráfico animado de la solución general"
   ]
  },
  {
   "cell_type": "code",
   "execution_count": null,
   "id": "c6bf99fb",
   "metadata": {
    "slideshow": {
     "slide_type": "slide"
    }
   },
   "outputs": [],
   "source": []
  },
  {
   "cell_type": "markdown",
   "id": "f02c1412",
   "metadata": {
    "slideshow": {
     "slide_type": "slide"
    }
   },
   "source": [
    "## Grafica con Matplotlib la solución del PVI"
   ]
  },
  {
   "cell_type": "code",
   "execution_count": 40,
   "id": "7b4e3add",
   "metadata": {
    "slideshow": {
     "slide_type": "slide"
    }
   },
   "outputs": [
    {
     "data": {
      "image/png": "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\n",
      "text/plain": [
       "<Figure size 432x288 with 1 Axes>"
      ]
     },
     "metadata": {
      "needs_background": "light"
     },
     "output_type": "display_data"
    }
   ],
   "source": [
    "import numpy as np \n",
    "import matplotlib.pyplot as plt \n",
    "\n",
    "fig, ax = plt.subplots() \n",
    "\n",
    "ax.set(title = 'Comportamiento de la población de iguanas en la UdeA Bajo Cauca',\\\n",
    "      xlabel = 'tiempo en años', ylabel = 'población')\n",
    "\n",
    "dominio = np.arange(0,16)\n",
    "l = 350\n",
    "rango = 350/(13*np.exp(-0.49*dominio) + 1)\n",
    "\n",
    "ax.plot(dominio, rango) # grafica de la curva de población \n",
    "ax.plot([0, 0], [0, np.max(rango)]) # grafico del eje vertical\n",
    "ax.plot([np.min(dominio), np.max(dominio)], [0,0], 'orange')   # gráfico del eje horizontal\n",
    "ax.plot([0, np.max(dominio)], [l, l], 'r--')  # grafico de la asíntota horizontal\n",
    "ax.grid(alpha = 0.6)\n"
   ]
  },
  {
   "cell_type": "markdown",
   "id": "37f6ebfb",
   "metadata": {
    "slideshow": {
     "slide_type": "slide"
    }
   },
   "source": [
    "## Cinco observaciones o inferencias del gráfico de la solución del PVI"
   ]
  },
  {
   "cell_type": "code",
   "execution_count": null,
   "id": "96411cf4",
   "metadata": {
    "slideshow": {
     "slide_type": "slide"
    }
   },
   "outputs": [],
   "source": []
  },
  {
   "cell_type": "markdown",
   "id": "1d41d9f2",
   "metadata": {
    "slideshow": {
     "slide_type": "slide"
    }
   },
   "source": [
    "## Gráfico de la función derivada $\\frac{dp}{dt}(t)$"
   ]
  },
  {
   "cell_type": "code",
   "execution_count": 42,
   "id": "0751b6b2",
   "metadata": {
    "slideshow": {
     "slide_type": "slide"
    }
   },
   "outputs": [],
   "source": [
    "def p(t):\n",
    "    return 350/(13*np.exp(-0.49*t) + 1)"
   ]
  },
  {
   "cell_type": "code",
   "execution_count": 45,
   "id": "2822afc6",
   "metadata": {
    "slideshow": {
     "slide_type": "slide"
    }
   },
   "outputs": [],
   "source": [
    "def derivada_de_p(t):\n",
    "    return 0.49*p(t)*(1-p(t)/350)"
   ]
  },
  {
   "cell_type": "code",
   "execution_count": 48,
   "id": "2b0d3b69",
   "metadata": {
    "slideshow": {
     "slide_type": "slide"
    }
   },
   "outputs": [
    {
     "data": {
      "image/png": "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\n",
      "text/plain": [
       "<Figure size 432x288 with 1 Axes>"
      ]
     },
     "metadata": {
      "needs_background": "light"
     },
     "output_type": "display_data"
    }
   ],
   "source": [
    "import numpy as np \n",
    "import matplotlib.pyplot as plt \n",
    "\n",
    "fig, ax = plt.subplots() \n",
    "\n",
    "ax.set(title = 'Comportamiento de la derivada de población de iguanas en la UdeA Bajo Cauca',\\\n",
    "      xlabel = 'tiempo en años', ylabel = 'derivada población')\n",
    "\n",
    "dominio = np.arange(0,16, 0.25)\n",
    "l = 350\n",
    "rango = [derivada_de_p(t) for t in dominio]\n",
    "\n",
    "ax.plot(dominio, rango) # grafica de la curva derivada de población \n",
    "ax.plot([0, 0], [0, np.max(rango)]) # grafico del eje vertical\n",
    "ax.plot([np.min(dominio), np.max(dominio)], [0,0], 'orange')   # gráfico del eje horizontal\n",
    "\n",
    "ax.grid(alpha = 0.6)\n"
   ]
  },
  {
   "cell_type": "markdown",
   "id": "9bba368b",
   "metadata": {
    "slideshow": {
     "slide_type": "slide"
    }
   },
   "source": [
    "## Cinco observaciones o inferencias del gráfico de la función velocidad de crecimiento de la población de iguanas"
   ]
  },
  {
   "cell_type": "markdown",
   "id": "3cf8e39c",
   "metadata": {
    "slideshow": {
     "slide_type": "slide"
    }
   },
   "source": [
    "1.  \n",
    "2.  \n",
    "3.  \n",
    "4.  \n",
    "5.  "
   ]
  },
  {
   "cell_type": "markdown",
   "id": "21d527b6",
   "metadata": {
    "slideshow": {
     "slide_type": "slide"
    }
   },
   "source": [
    "# El método de Euler  \n",
    "\n",
    "Página 429 de larson, sección 6.1: Campo de pendientes y método de Euler"
   ]
  },
  {
   "cell_type": "markdown",
   "id": "cf3da7bf",
   "metadata": {
    "slideshow": {
     "slide_type": "slide"
    }
   },
   "source": [
    "El método de Euler es un método numérico para aproximar la solución particular de la ecuación diferencial\n",
    "\n",
    "$$ y' = F(x, y)$$\n"
   ]
  },
  {
   "cell_type": "code",
   "execution_count": null,
   "id": "c9b0c30c",
   "metadata": {
    "slideshow": {
     "slide_type": "slide"
    }
   },
   "outputs": [],
   "source": []
  },
  {
   "cell_type": "code",
   "execution_count": null,
   "id": "80dd0c63",
   "metadata": {
    "slideshow": {
     "slide_type": "slide"
    }
   },
   "outputs": [],
   "source": []
  },
  {
   "cell_type": "code",
   "execution_count": null,
   "id": "8198e205",
   "metadata": {},
   "outputs": [],
   "source": []
  },
  {
   "cell_type": "markdown",
   "id": "687d1c7b",
   "metadata": {
    "slideshow": {
     "slide_type": "slide"
    }
   },
   "source": [
    "## Referencias\n",
    "\n",
    "* Página 452 de Zill. "
   ]
  },
  {
   "cell_type": "code",
   "execution_count": 9,
   "id": "d75623c0",
   "metadata": {
    "slideshow": {
     "slide_type": "slide"
    }
   },
   "outputs": [],
   "source": [
    "from sympy import * \n",
    "x = Symbol('x')"
   ]
  },
  {
   "cell_type": "code",
   "execution_count": 11,
   "id": "c12c5c2a",
   "metadata": {
    "slideshow": {
     "slide_type": "slide"
    }
   },
   "outputs": [
    {
     "data": {
      "text/plain": [
       "{x: -1}"
      ]
     },
     "execution_count": 11,
     "metadata": {},
     "output_type": "execute_result"
    }
   ],
   "source": [
    "solve((x+1,0),x)"
   ]
  },
  {
   "cell_type": "code",
   "execution_count": null,
   "id": "0d808fa2",
   "metadata": {
    "slideshow": {
     "slide_type": "slide"
    }
   },
   "outputs": [],
   "source": []
  }
 ],
 "metadata": {
  "celltoolbar": "Slideshow",
  "kernelspec": {
   "display_name": "Python 3 (ipykernel)",
   "language": "python",
   "name": "python3"
  },
  "language_info": {
   "codemirror_mode": {
    "name": "ipython",
    "version": 3
   },
   "file_extension": ".py",
   "mimetype": "text/x-python",
   "name": "python",
   "nbconvert_exporter": "python",
   "pygments_lexer": "ipython3",
   "version": "3.9.12"
  },
  "rise": {
   "theme": "sky"
  }
 },
 "nbformat": 4,
 "nbformat_minor": 5
}
=======
  "nbformat": 4,
  "nbformat_minor": 5
}
>>>>>>> 96398b61938e7d084c20c1b6fef89fbbccdbc84c
