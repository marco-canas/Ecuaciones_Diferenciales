{
 "cells": [
  {
   "cell_type": "markdown",
   "id": "fb8fd6dd",
   "metadata": {
    "slideshow": {
     "slide_type": "slide"
    }
   },
   "source": [
    "<table align=\"left\">\n",
    "  <td>\n",
    "    <a href=\"https://colab.research.google.com/github/marco-canas/edo/blob/main/banco_preguntas/trabajo_final_dinamica_poblacional/7_olivar_montes_edwin/especies_en_riesgo_edwin.ipynb\" target=\"_parent\"><img src=\"https://colab.research.google.com/assets/colab-badge.svg\" alt=\"Open In Colab\"/></a>\n",
    "  </td>\n",
    "</table>"
   ]
  },
  {
   "cell_type": "markdown",
   "id": "6638d7ff",
   "metadata": {
    "slideshow": {
     "slide_type": "slide"
    }
   },
   "source": [
    "## Especies en peligro"
   ]
  },
  {
   "cell_type": "markdown",
   "id": "ac2dc0b7",
   "metadata": {
    "slideshow": {
     "slide_type": "slide"
    }
   },
   "source": [
    "Una organización de conservación libera 25 iguanas de Caucasia en el campus de la Seccional Bajo Cauca de la Universidad de Antioquia.   \n",
    "\n",
    "Después de 1 años, hay 39 iguanas en la zona.   \n",
    "\n",
    "La seccional tiene una capacidad límite o de soporte de 350 iguanas.  "
   ]
  },
  {
   "cell_type": "markdown",
   "id": "0f6f4958",
   "metadata": {
    "slideshow": {
     "slide_type": "slide"
    }
   },
   "source": [
    "a) Escribir una ecuación logística que modele la población de las panteras en el refugio. \n",
    "\n",
    "Recuerde que en general la ecuación diferencial logística tiene la forma:\n",
    "\n",
    "$$ \\frac{dy}{dt} = ky(1 - \\frac{y}{L}) $$"
   ]
  },
  {
   "cell_type": "markdown",
   "id": "181e1c28",
   "metadata": {
    "slideshow": {
     "slide_type": "slide"
    }
   },
   "source": [
    "b) Encontrar la población después de 5 años.  \n",
    "\n",
    "c) ¿Cuándo la población será de 100 iguanas?  "
   ]
  },
  {
   "cell_type": "markdown",
   "id": "59aa255a",
   "metadata": {
    "slideshow": {
     "slide_type": "slide"
    }
   },
   "source": [
    "d) Escribir una ecuación diferencial logística que modele la tasa de crecimiento de la población de las iguanas. \n",
    "\n",
    "Entonces repetir el apartado b) mediante el método de Euler con un tamaño de paso de $h = 1$. "
   ]
  },
  {
   "cell_type": "markdown",
   "id": "9acc7217",
   "metadata": {
    "slideshow": {
     "slide_type": "slide"
    }
   },
   "source": [
    "Comparar la aproximación con las respuestas exactas.  "
   ]
  },
  {
   "cell_type": "markdown",
   "id": "7d383253",
   "metadata": {
    "slideshow": {
     "slide_type": "slide"
    }
   },
   "source": [
    "e) ¿En qué tiempo la población de iguanas crecerá más rápidamente? Explicar."
   ]
  },
  {
   "cell_type": "markdown",
   "id": "ae7b1286",
   "metadata": {
    "slideshow": {
     "slide_type": "slide"
    }
   },
   "source": [
    "## Solución"
   ]
  },
  {
   "cell_type": "markdown",
   "id": "15a3d33b",
   "metadata": {
    "slideshow": {
     "slide_type": "slide"
    }
   },
   "source": [
    "## Escribe el modelo o PVI que representa el problema y cuya solución permite realizar predicciones sobre el comportamiento de la especie en riesgo"
   ]
  },
  {
   "cell_type": "markdown",
   "id": "820da6e1",
   "metadata": {
    "slideshow": {
     "slide_type": "slide"
    }
   },
   "source": [
    "$$ \\frac{dp}{dt} = kp\\left(1 - \\frac{p}{350} \\right), \\ \\ \\ \\ \\ \\ p(0) = 25,\\ \\ \\ \\ \\  p(1) = 39 $$\n",
    "\n",
    "donde $k$ es la constante de proporcionalidad y $t$ es medido en años."
   ]
  },
  {
   "cell_type": "markdown",
   "id": "01823db1",
   "metadata": {
    "slideshow": {
     "slide_type": "slide"
    }
   },
   "source": [
    "## Redacta una interpretación de la ED y de la condición inicial "
   ]
  },
  {
   "cell_type": "markdown",
   "id": "9a957ed3",
   "metadata": {
    "slideshow": {
     "slide_type": "slide"
    }
   },
   "source": [
    "La velocidad de crecimiento de la población de panteras en un tiempo $t$, $\\frac{dp}{dt}(t)$,  es proporcional al número de panteras en el mismo año $t$, $p(t)$ y al porcentaje de iguanas faltantes para llegar a la población límite en el refugio, $\\left(1-\\frac{p(t)}{500}\\right)$. "
   ]
  },
  {
   "cell_type": "markdown",
   "id": "827e44d9",
   "metadata": {
    "slideshow": {
     "slide_type": "slide"
    }
   },
   "source": [
    "## Clasifica la ED que hace parte del PVI para poder establecer el método de solución del problema "
   ]
  },
  {
   "cell_type": "markdown",
   "id": "5b274d70",
   "metadata": {
    "slideshow": {
     "slide_type": "slide"
    }
   },
   "source": [
    "La ED dada es una Ecuación de primer orden pues la única derivada de presente en la ED es de orden 1.  "
   ]
  },
  {
   "cell_type": "markdown",
   "id": "8fabb76d",
   "metadata": {
    "slideshow": {
     "slide_type": "slide"
    }
   },
   "source": [
    "La ED es separable pues es de la forma:\n",
    "\n",
    "$$p' = F(p)G(t)$$\n",
    " "
   ]
  },
  {
   "cell_type": "markdown",
   "id": "8020168e",
   "metadata": {
    "slideshow": {
     "slide_type": "slide"
    }
   },
   "source": [
    "## Soluciona analíticamente el PVI, es decir, redacta en lenguaje latex la solución describiendo o justificando, según el caso, cada paso del proceso de solución"
   ]
  },
  {
   "cell_type": "markdown",
   "id": "19bf52b7",
   "metadata": {
    "slideshow": {
     "slide_type": "slide"
    }
   },
   "source": [
    "$$ \\frac{dp}{dt} = kp\\left( 1 - \\frac{p}{350}\\right), \\ \\ \\ p(0) = 25, \\ \\ p(2) = 39 $$"
   ]
  },
  {
   "cell_type": "markdown",
   "id": "1c51eff9",
   "metadata": {
    "slideshow": {
     "slide_type": "slide"
    }
   },
   "source": [
    "Empecemos sepando las variables transponiendo factores: \n",
    "\n",
    "$$\\frac{1}{p\\left( 1 - \\frac{p}{350} \\right)} dp = kdt $$\n"
   ]
  },
  {
   "cell_type": "code",
   "execution_count": null,
   "id": "0ced3139",
   "metadata": {
    "slideshow": {
     "slide_type": "slide"
    }
   },
   "outputs": [],
   "source": []
  },
  {
   "cell_type": "code",
   "execution_count": null,
   "id": "ac0dc88a",
   "metadata": {
    "slideshow": {
     "slide_type": "slide"
    }
   },
   "outputs": [],
   "source": []
  },
  {
   "cell_type": "markdown",
   "id": "53f17f0c",
   "metadata": {
    "slideshow": {
     "slide_type": "slide"
    }
   },
   "source": [
    "## Clasifica la ED utilizando la función `classify_ode()` de sympy"
   ]
  },
  {
   "cell_type": "code",
   "execution_count": 3,
   "id": "d1ce309d",
   "metadata": {
    "slideshow": {
     "slide_type": "slide"
    }
   },
   "outputs": [],
   "source": [
    "from sympy import var, Function, diff, Eq, classify_ode"
   ]
  },
  {
   "cell_type": "code",
   "execution_count": 4,
   "id": "581c1537",
   "metadata": {
    "slideshow": {
     "slide_type": "slide"
    }
   },
   "outputs": [
    {
     "data": {
      "text/plain": [
       "('factorable',\n",
       " 'separable',\n",
       " '1st_exact',\n",
       " 'Bernoulli',\n",
       " '1st_rational_riccati',\n",
       " '1st_power_series',\n",
       " 'lie_group',\n",
       " 'separable_Integral',\n",
       " '1st_exact_Integral',\n",
       " 'Bernoulli_Integral')"
      ]
     },
     "execution_count": 4,
     "metadata": {},
     "output_type": "execute_result"
    }
   ],
   "source": [
    "p,t, k = var('p,t,k')\n",
    "p = Function('p')\n",
    "eq = Eq(diff(p(t), t), k*p(t)*(1-p(t)/350))\n",
    "classify_ode(eq, p(t))"
   ]
  },
  {
   "cell_type": "markdown",
   "id": "28b9e58b",
   "metadata": {
    "slideshow": {
     "slide_type": "slide"
    }
   },
   "source": [
    "## Soluciona con sympy el PVI"
   ]
  },
  {
   "cell_type": "code",
   "execution_count": 12,
   "id": "b0bb0365",
   "metadata": {
    "slideshow": {
     "slide_type": "slide"
    }
   },
   "outputs": [],
   "source": [
    "from sympy import var, Function, Eq, diff, classify_ode, dsolve, checkodesol, solve"
   ]
  },
  {
   "cell_type": "code",
   "execution_count": 13,
   "id": "713acfa2",
   "metadata": {
    "slideshow": {
     "slide_type": "slide"
    }
   },
   "outputs": [],
   "source": [
    "p,t,k = var('p,t,k')"
   ]
  },
  {
   "cell_type": "code",
   "execution_count": 14,
   "id": "154b4e37",
   "metadata": {
    "slideshow": {
     "slide_type": "slide"
    }
   },
   "outputs": [],
   "source": [
    "p = Function('p')"
   ]
  },
  {
   "cell_type": "code",
   "execution_count": 15,
   "id": "db2f54e2",
   "metadata": {
    "slideshow": {
     "slide_type": "slide"
    }
   },
   "outputs": [
    {
     "data": {
      "text/latex": [
       "$\\displaystyle \\frac{d}{d t} p{\\left(t \\right)} = k \\left(1 - \\frac{p{\\left(t \\right)}}{350}\\right) p{\\left(t \\right)}$"
      ],
      "text/plain": [
       "Eq(Derivative(p(t), t), k*(1 - p(t)/350)*p(t))"
      ]
     },
     "execution_count": 15,
     "metadata": {},
     "output_type": "execute_result"
    }
   ],
   "source": [
    "l = 350\n",
    "eq = Eq(diff(p(t),t), k*p(t)*(1-p(t)/l))\n",
    "eq "
   ]
  },
  {
   "cell_type": "code",
   "execution_count": 16,
   "id": "045b92e0",
   "metadata": {
    "slideshow": {
     "slide_type": "slide"
    }
   },
   "outputs": [
    {
     "data": {
      "text/latex": [
       "$\\displaystyle p{\\left(t \\right)} = \\frac{350}{C_{1} e^{- k t} + 1}$"
      ],
      "text/plain": [
       "Eq(p(t), 350/(C1*exp(-k*t) + 1))"
      ]
     },
     "execution_count": 16,
     "metadata": {},
     "output_type": "execute_result"
    }
   ],
   "source": [
    "sol_gen = dsolve(eq, p(t), hint = 'separable') \n",
    "sol_gen "
   ]
  },
  {
   "cell_type": "markdown",
   "id": "70a75619",
   "metadata": {
    "slideshow": {
     "slide_type": "slide"
    }
   },
   "source": [
    "La anterior es la solución general explícita de la ED que hace parte del PVI"
   ]
  },
  {
   "cell_type": "code",
   "execution_count": 17,
   "id": "025dc075",
   "metadata": {
    "slideshow": {
     "slide_type": "slide"
    }
   },
   "outputs": [
    {
     "data": {
      "text/latex": [
       "$\\displaystyle p{\\left(t \\right)} = \\frac{350}{1 + 13 e^{- k t}}$"
      ],
      "text/plain": [
       "Eq(p(t), 350/(1 + 13*exp(-k*t)))"
      ]
     },
     "execution_count": 17,
     "metadata": {},
     "output_type": "execute_result"
    }
   ],
   "source": [
    "p0 = 25\n",
    "solucion_pvi = dsolve(eq, p(t), hint = 'separable', ics = {sol_gen.lhs.subs(t, 0):p0})\n",
    "solucion_pvi "
   ]
  },
  {
   "cell_type": "markdown",
   "id": "02c8051c",
   "metadata": {},
   "source": [
    "Pero todavía no conocemos la constante de proporcionalidad $k$. "
   ]
  },
  {
   "cell_type": "markdown",
   "id": "06c5d3b5",
   "metadata": {
    "slideshow": {
     "slide_type": "slide"
    }
   },
   "source": [
    "## Determine el valor de la constante de proporcionalidad $k$"
   ]
  },
  {
   "cell_type": "code",
   "execution_count": 20,
   "id": "e5b92e25",
   "metadata": {},
   "outputs": [
    {
     "data": {
      "text/latex": [
       "$\\displaystyle 39 = \\frac{350}{1 + 13 e^{- k}}$"
      ],
      "text/plain": [
       "Eq(39, 350/(1 + 13*exp(-k)))"
      ]
     },
     "execution_count": 20,
     "metadata": {},
     "output_type": "execute_result"
    }
   ],
   "source": [
    "eq_k = Eq(solucion_pvi.lhs.subs(t,1).subs(p(1), 39), solucion_pvi.rhs.subs(t,1))\n",
    "eq_k"
   ]
  },
  {
   "cell_type": "code",
   "execution_count": 22,
   "id": "4863eb35",
   "metadata": {
    "slideshow": {
     "slide_type": "slide"
    }
   },
   "outputs": [
    {
     "data": {
      "text/latex": [
       "$\\displaystyle \\log{\\left(\\frac{507}{311} \\right)}$"
      ],
      "text/plain": [
       "log(507/311)"
      ]
     },
     "execution_count": 22,
     "metadata": {},
     "output_type": "execute_result"
    }
   ],
   "source": [
    "solve(39-350/(1+13*exp(-k)), k)[0] # ojo, solve es una función que pide la ecuación igualada a cero"
   ]
  },
  {
   "cell_type": "code",
   "execution_count": 24,
   "id": "aefeb58b",
   "metadata": {
    "slideshow": {
     "slide_type": "slide"
    }
   },
   "outputs": [
    {
     "data": {
      "text/latex": [
       "$\\displaystyle 0.49$"
      ],
      "text/plain": [
       "0.49"
      ]
     },
     "execution_count": 24,
     "metadata": {},
     "output_type": "execute_result"
    }
   ],
   "source": [
    "round(log(507/311),2)"
   ]
  },
  {
   "cell_type": "markdown",
   "id": "cb502c25",
   "metadata": {
    "slideshow": {
     "slide_type": "slide"
    }
   },
   "source": [
    "Entonces la solución del PVI con la constante de proporcionalidad $k$ es \n",
    "\n",
    "\n",
    "$$ p(t) = \\frac{350}{13e^{-0.49t} + 1} $$\n"
   ]
  },
  {
   "cell_type": "code",
   "execution_count": 29,
   "id": "b87bdc8c",
   "metadata": {
    "slideshow": {
     "slide_type": "slide"
    }
   },
   "outputs": [
    {
     "data": {
      "text/latex": [
       "$\\displaystyle p{\\left(t \\right)} = \\frac{350}{1 + 13 e^{- 0.488718091411949 t}}$"
      ],
      "text/plain": [
       "Eq(p(t), 350/(1 + 13*exp(-0.488718091411949*t)))"
      ]
     },
     "execution_count": 29,
     "metadata": {},
     "output_type": "execute_result"
    }
   ],
   "source": [
    "sol_completa = solucion_pvi.subs(k, log(507/311))\n",
    "sol_completa "
   ]
  },
  {
   "cell_type": "markdown",
   "id": "67f5e157",
   "metadata": {
    "slideshow": {
     "slide_type": "slide"
    }
   },
   "source": [
    "## Verifica que la solución encontrada es correcta utilizando sympy"
   ]
  },
  {
   "cell_type": "code",
   "execution_count": 31,
   "id": "2dbae721",
   "metadata": {
    "slideshow": {
     "slide_type": "slide"
    }
   },
   "outputs": [],
   "source": [
    "from sympy import checkodesol"
   ]
  },
  {
   "cell_type": "code",
   "execution_count": 33,
   "id": "b40ab92b",
   "metadata": {
    "slideshow": {
     "slide_type": "slide"
    }
   },
   "outputs": [
    {
     "data": {
      "text/plain": [
       "(True, 0)"
      ]
     },
     "execution_count": 33,
     "metadata": {},
     "output_type": "execute_result"
    }
   ],
   "source": [
    "checkodesol(eq,sol_gen)"
   ]
  },
  {
   "cell_type": "code",
   "execution_count": 37,
   "id": "41858189",
   "metadata": {
    "slideshow": {
     "slide_type": "slide"
    }
   },
   "outputs": [
    {
     "data": {
      "text/latex": [
       "$\\displaystyle p{\\left(3.3 \\right)} = 97.4563404229809$"
      ],
      "text/plain": [
       "Eq(p(3.3), 97.4563404229809)"
      ]
     },
     "execution_count": 37,
     "metadata": {},
     "output_type": "execute_result"
    }
   ],
   "source": [
    "sol_completa.subs(t,3.3)"
   ]
  },
  {
   "cell_type": "markdown",
   "id": "88d848cc",
   "metadata": {
    "slideshow": {
     "slide_type": "slide"
    }
   },
   "source": [
    "## Gráfica animada de la solución general"
   ]
  },
  {
   "cell_type": "code",
   "execution_count": null,
   "id": "b374d8ca",
   "metadata": {
    "slideshow": {
     "slide_type": "slide"
    }
   },
   "outputs": [],
   "source": []
  },
  {
   "cell_type": "markdown",
   "id": "4cd79cc7",
   "metadata": {
    "slideshow": {
     "slide_type": "slide"
    }
   },
   "source": [
    "## Cinco observaciones o inferencias del gráfico animado de la solución general"
   ]
  },
  {
   "cell_type": "code",
   "execution_count": null,
   "id": "c6bf99fb",
   "metadata": {
    "slideshow": {
     "slide_type": "slide"
    }
   },
   "outputs": [],
   "source": []
  },
  {
   "cell_type": "markdown",
   "id": "f02c1412",
   "metadata": {
    "slideshow": {
     "slide_type": "slide"
    }
   },
   "source": [
    "## Grafica con Matplotlib la solución del PVI"
   ]
  },
  {
   "cell_type": "code",
   "execution_count": 40,
   "id": "7b4e3add",
   "metadata": {
    "slideshow": {
     "slide_type": "slide"
    }
   },
   "outputs": [
    {
     "data": {
      "image/png": "[encoded data removed]",
      "text/plain": [
       "<Figure size 432x288 with 1 Axes>"
      ]
     },
     "metadata": {
      "needs_background": "light"
     },
     "output_type": "display_data"
    }
   ],
   "source": [
    "import numpy as np \n",
    "import matplotlib.pyplot as plt \n",
    "\n",
    "fig, ax = plt.subplots() \n",
    "\n",
    "ax.set(title = 'Comportamiento de la población de iguanas en la UdeA Bajo Cauca',\\\n",
    "      xlabel = 'tiempo en años', ylabel = 'población')\n",
    "\n",
    "dominio = np.arange(0,16)\n",
    "l = 350\n",
    "rango = 350/(13*np.exp(-0.49*dominio) + 1)\n",
    "\n",
    "ax.plot(dominio, rango) # grafica de la curva de población \n",
    "ax.plot([0, 0], [0, np.max(rango)]) # grafico del eje vertical\n",
    "ax.plot([np.min(dominio), np.max(dominio)], [0,0], 'orange')   # gráfico del eje horizontal\n",
    "ax.plot([0, np.max(dominio)], [l, l], 'r--')  # grafico de la asíntota horizontal\n",
    "ax.grid(alpha = 0.6)\n"
   ]
  },
  {
   "cell_type": "markdown",
   "id": "37f6ebfb",
   "metadata": {
    "slideshow": {
     "slide_type": "slide"
    }
   },
   "source": [
    "## Cinco observaciones o inferencias del gráfico de la solución del PVI"
   ]
  },
  {
   "cell_type": "code",
   "execution_count": null,
   "id": "96411cf4",
   "metadata": {
    "slideshow": {
     "slide_type": "slide"
    }
   },
   "outputs": [],
   "source": []
  },
  {
   "cell_type": "markdown",
   "id": "1d41d9f2",
   "metadata": {
    "slideshow": {
     "slide_type": "slide"
    }
   },
   "source": [
    "## Gráfico de la función derivada $\\frac{dp}{dt}(t)$"
   ]
  },
  {
   "cell_type": "code",
   "execution_count": 42,
   "id": "0751b6b2",
   "metadata": {
    "slideshow": {
     "slide_type": "slide"
    }
   },
   "outputs": [],
   "source": [
    "def p(t):\n",
    "    return 350/(13*np.exp(-0.49*t) + 1)"
   ]
  },
  {
   "cell_type": "code",
   "execution_count": 45,
   "id": "2822afc6",
   "metadata": {
    "slideshow": {
     "slide_type": "slide"
    }
   },
   "outputs": [],
   "source": [
    "def derivada_de_p(t):\n",
    "    return 0.49*p(t)*(1-p(t)/350)"
   ]
  },
  {
   "cell_type": "code",
   "execution_count": 48,
   "id": "2b0d3b69",
   "metadata": {
    "slideshow": {
     "slide_type": "slide"
    }
   },
   "outputs": [
    {
     "data": {
      "image/png": "[encoded data removed]",
      "text/plain": [
       "<Figure size 432x288 with 1 Axes>"
      ]
     },
     "metadata": {
      "needs_background": "light"
     },
     "output_type": "display_data"
    }
   ],
   "source": [
    "import numpy as np \n",
    "import matplotlib.pyplot as plt \n",
    "\n",
    "fig, ax = plt.subplots() \n",
    "\n",
    "ax.set(title = 'Comportamiento de la derivada de población de iguanas en la UdeA Bajo Cauca',\\\n",
    "      xlabel = 'tiempo en años', ylabel = 'derivada población')\n",
    "\n",
    "dominio = np.arange(0,16, 0.25)\n",
    "l = 350\n",
    "rango = [derivada_de_p(t) for t in dominio]\n",
    "\n",
    "ax.plot(dominio, rango) # grafica de la curva derivada de población \n",
    "ax.plot([0, 0], [0, np.max(rango)]) # grafico del eje vertical\n",
    "ax.plot([np.min(dominio), np.max(dominio)], [0,0], 'orange')   # gráfico del eje horizontal\n",
    "\n",
    "ax.grid(alpha = 0.6)\n"
   ]
  },
  {
   "cell_type": "markdown",
   "id": "9bba368b",
   "metadata": {
    "slideshow": {
     "slide_type": "slide"
    }
   },
   "source": [
    "## Cinco observaciones o inferencias del gráfico de la función velocidad de crecimiento de la población de iguanas"
   ]
  },
  {
   "cell_type": "markdown",
   "id": "3cf8e39c",
   "metadata": {
    "slideshow": {
     "slide_type": "slide"
    }
   },
   "source": [
    "1.  \n",
    "2.  \n",
    "3.  \n",
    "4.  \n",
    "5.  "
   ]
  },
  {
   "cell_type": "markdown",
   "id": "21d527b6",
   "metadata": {
    "slideshow": {
     "slide_type": "slide"
    }
   },
   "source": [
    "# El método de Euler  \n",
    "\n",
    "Página 429 de larson, sección 6.1: Campo de pendientes y método de Euler"
   ]
  },
  {
   "cell_type": "markdown",
   "id": "cf3da7bf",
   "metadata": {
    "slideshow": {
     "slide_type": "slide"
    }
   },
   "source": [
    "El método de Euler es un método numérico para aproximar la solución particular de la ecuación diferencial\n",
    "\n",
    "$$ y' = F(x, y)$$\n"
   ]
  },
  {
   "cell_type": "code",
   "execution_count": null,
   "id": "c9b0c30c",
   "metadata": {
    "slideshow": {
     "slide_type": "slide"
    }
   },
   "outputs": [],
   "source": []
  },
  {
   "cell_type": "code",
   "execution_count": null,
   "id": "80dd0c63",
   "metadata": {
    "slideshow": {
     "slide_type": "slide"
    }
   },
   "outputs": [],
   "source": []
  },
  {
   "cell_type": "code",
   "execution_count": null,
   "id": "8198e205",
   "metadata": {},
   "outputs": [],
   "source": []
  },
  {
   "cell_type": "markdown",
   "id": "687d1c7b",
   "metadata": {
    "slideshow": {
     "slide_type": "slide"
    }
   },
   "source": [
    "## Referencias\n",
    "\n",
    "* Página 452 de Zill. "
   ]
  },
  {
   "cell_type": "code",
   "execution_count": 9,
   "id": "d75623c0",
   "metadata": {
    "slideshow": {
     "slide_type": "slide"
    }
   },
   "outputs": [],
   "source": [
    "from sympy import * \n",
    "x = Symbol('x')"
   ]
  },
  {
   "cell_type": "code",
   "execution_count": 11,
   "id": "c12c5c2a",
   "metadata": {
    "slideshow": {
     "slide_type": "slide"
    }
   },
   "outputs": [
    {
     "data": {
      "text/plain": [
       "{x: -1}"
      ]
     },
     "execution_count": 11,
     "metadata": {},
     "output_type": "execute_result"
    }
   ],
   "source": [
    "solve((x+1,0),x)"
   ]
  },
  {
   "cell_type": "code",
   "execution_count": null,
   "id": "0d808fa2",
   "metadata": {
    "slideshow": {
     "slide_type": "slide"
    }
   },
   "outputs": [],
   "source": []
  }
 ],
 "metadata": {
  "celltoolbar": "Slideshow",
  "kernelspec": {
   "display_name": "Python 3 (ipykernel)",
   "language": "python",
   "name": "python3"
  },
  "language_info": {
   "codemirror_mode": {
    "name": "ipython",
    "version": 3
   },
   "file_extension": ".py",
   "mimetype": "text/x-python",
   "name": "python",
   "nbconvert_exporter": "python",
   "pygments_lexer": "ipython3",
   "version": "3.9.12"
  },
  "rise": {
   "theme": "sky"
  }
 },
 "nbformat": 4,
 "nbformat_minor": 5
}
