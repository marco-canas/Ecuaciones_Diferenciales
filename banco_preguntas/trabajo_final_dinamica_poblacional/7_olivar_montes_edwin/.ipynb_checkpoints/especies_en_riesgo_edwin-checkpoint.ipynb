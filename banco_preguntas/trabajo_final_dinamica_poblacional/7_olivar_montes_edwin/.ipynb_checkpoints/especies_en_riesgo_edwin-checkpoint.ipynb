{
 "cells": [
  {
   "cell_type": "markdown",
   "id": "fb8fd6dd",
   "metadata": {
    "slideshow": {
     "slide_type": "slide"
    }
   },
   "source": [
    "<table align=\"left\">\n",
    "  <td>\n",
    "    <a href=\"https://colab.research.google.com/github/marco-canas/edo/blob/main/banco_preguntas/trabajo_final_dinamica_poblacional/7_olivar_montes_edwin/especies_en_riesgo_edwin.ipynb\" target=\"_parent\"><img src=\"https://colab.research.google.com/assets/colab-badge.svg\" alt=\"Open In Colab\"/></a>\n",
    "  </td>\n",
    "</table>"
   ]
  },
  {
   "cell_type": "markdown",
   "id": "6638d7ff",
   "metadata": {
    "slideshow": {
     "slide_type": "slide"
    }
   },
   "source": [
    "# Especies en peligro"
   ]
  },
  {
   "cell_type": "markdown",
   "id": "989e2b8d",
   "metadata": {
    "slideshow": {
     "slide_type": "slide"
    }
   },
   "source": [
    "## [Video de apoyo](https://www.youtube.com/watch?v=_HDSPy3FI04&t=508s)"
   ]
  },
  {
   "cell_type": "markdown",
   "id": "ac2dc0b7",
   "metadata": {
    "slideshow": {
     "slide_type": "slide"
    }
   },
   "source": [
    "Una organización de conservación libera 25 iguanas de Caucasia en el campus de la Seccional Bajo Cauca de la Universidad de Antioquia.   \n",
    "\n",
    "Después de 1 años, hay 39 iguanas en la zona.   \n",
    "\n",
    "La seccional tiene una capacidad límite o de soporte de 350 iguanas.  "
   ]
  },
  {
   "cell_type": "markdown",
   "id": "0f6f4958",
   "metadata": {
    "slideshow": {
     "slide_type": "slide"
    }
   },
   "source": [
    "a) Escribir una ecuación logística que modele la población de las iguanas en la Seccional. \n",
    "\n",
    "Recuerde que en general la ecuación diferencial logística tiene la forma:\n",
    "\n",
    "$$ \\frac{dy}{dt} = ky\\left(1 - \\frac{y}{L} \\right) $$"
   ]
  },
  {
   "cell_type": "markdown",
   "id": "8ab7b1fa",
   "metadata": {
    "slideshow": {
     "slide_type": "slide"
    }
   },
   "source": [
    "### Interpretación de la ED logística\n",
    "La velocidad de variación de $y$ es proporcional el tamaño de la población en el instante $t$ y al porcentaje de individuos que faltan para alcanzar la población límite. "
   ]
  },
  {
   "cell_type": "markdown",
   "id": "6a36e7d3",
   "metadata": {
    "slideshow": {
     "slide_type": "slide"
    }
   },
   "source": [
    "$$ \\frac{dp}{dt}(t) = kp(t)\\left( 1 - \\frac{p(t)}{L} \\right) $$\n",
    "\n",
    "donde $k$ es la constante de proporcionalidad. "
   ]
  },
  {
   "cell_type": "markdown",
   "id": "181e1c28",
   "metadata": {
    "slideshow": {
     "slide_type": "slide"
    }
   },
   "source": [
    "b) Encontrar la población después de 5 años.  \n",
    "\n",
    "c) ¿Cuándo la población será de 100 iguanas?  "
   ]
  },
  {
   "cell_type": "markdown",
   "id": "59aa255a",
   "metadata": {
    "slideshow": {
     "slide_type": "slide"
    }
   },
   "source": [
    "d) Escribir una ecuación diferencial logística que modele la tasa de crecimiento de la población de las iguanas. \n",
    "\n",
    "Entonces repetir el apartado b) mediante el método de Euler con un tamaño de paso de $h = 1$. "
   ]
  },
  {
   "cell_type": "markdown",
   "id": "9acc7217",
   "metadata": {
    "slideshow": {
     "slide_type": "slide"
    }
   },
   "source": [
    "Comparar la aproximación con las respuestas exactas.  "
   ]
  },
  {
   "cell_type": "markdown",
   "id": "7d383253",
   "metadata": {
    "slideshow": {
     "slide_type": "slide"
    }
   },
   "source": [
    "e) ¿En qué tiempo la población de iguanas crecerá más rápidamente? Explicar."
   ]
  },
  {
   "cell_type": "markdown",
   "id": "ae7b1286",
   "metadata": {
    "slideshow": {
     "slide_type": "slide"
    }
   },
   "source": [
    "## Solución"
   ]
  },
  {
   "cell_type": "markdown",
   "id": "15a3d33b",
   "metadata": {
    "slideshow": {
     "slide_type": "slide"
    }
   },
   "source": [
    "## Escribe el modelo o PVI que representa el problema y cuya solución permite realizar predicciones sobre el comportamiento de la especie en riesgo"
   ]
  },
  {
   "cell_type": "markdown",
   "id": "820da6e1",
   "metadata": {
    "slideshow": {
     "slide_type": "slide"
    }
   },
   "source": [
    "$$ \\frac{dp}{dt} = kp\\left(1 - \\frac{p}{350} \\right), \\ \\ \\ \\ \\ \\ p(0) = 25,\\ \\ \\ \\ \\  p(1) = 39 $$\n",
    "\n",
    "donde $k$ es la constante de proporcionalidad y $t$ es medido en años."
   ]
  },
  {
   "cell_type": "code",
   "execution_count": 16,
   "id": "a8bcedc3",
   "metadata": {
    "slideshow": {
     "slide_type": "slide"
    }
   },
   "outputs": [],
   "source": [
    "# definición de los tres parámetros del problema\n",
    "L = 350\n",
    "p0 = 25\n",
    "p1 = 39"
   ]
  },
  {
   "cell_type": "markdown",
   "id": "01823db1",
   "metadata": {
    "slideshow": {
     "slide_type": "slide"
    }
   },
   "source": [
    "## Redacta una interpretación de la ED y de la condición inicial "
   ]
  },
  {
   "cell_type": "markdown",
   "id": "9a957ed3",
   "metadata": {
    "slideshow": {
     "slide_type": "slide"
    }
   },
   "source": [
    "La velocidad de crecimiento de la población de iguanas en un tiempo $t$, $\\frac{dp}{dt}(t)$,  es proporcional al número de iguanas en el mismo año $t$, $p(t)$ y al porcentaje de iguanas faltantes para llegar a la población límite en el refugio, $\\left(1-\\frac{p(t)}{500}\\right)$. "
   ]
  },
  {
   "cell_type": "markdown",
   "id": "827e44d9",
   "metadata": {
    "slideshow": {
     "slide_type": "slide"
    }
   },
   "source": [
    "## Clasifica la ED que hace parte del PVI para poder establecer el método de solución del problema "
   ]
  },
  {
   "cell_type": "markdown",
   "id": "5b274d70",
   "metadata": {
    "slideshow": {
     "slide_type": "slide"
    }
   },
   "source": [
    "La ED dada es una Ecuación de primer orden pues la única derivada de presente en la ED es de orden 1.  "
   ]
  },
  {
   "cell_type": "markdown",
   "id": "8fabb76d",
   "metadata": {
    "slideshow": {
     "slide_type": "slide"
    }
   },
   "source": [
    "La ED es separable pues es de la forma:\n",
    "\n",
    "$$p' = F(p)G(t)$$\n",
    " "
   ]
  },
  {
   "cell_type": "markdown",
   "id": "8020168e",
   "metadata": {
    "slideshow": {
     "slide_type": "slide"
    }
   },
   "source": [
    "## Soluciona analíticamente el PVI, es decir, redacta en lenguaje latex la solución describiendo o justificando, según el caso, cada paso del proceso de solución"
   ]
  },
  {
   "cell_type": "markdown",
   "id": "19bf52b7",
   "metadata": {
    "slideshow": {
     "slide_type": "slide"
    }
   },
   "source": [
    "$$ \\frac{dp}{dt} = kp\\left( 1 - \\frac{p}{350}\\right), \\ \\ \\ p(0) = 25, \\ \\ p(2) = 39 $$"
   ]
  },
  {
   "cell_type": "markdown",
   "id": "1c51eff9",
   "metadata": {
    "slideshow": {
     "slide_type": "slide"
    }
   },
   "source": [
    "Empecemos sepando las variables transponiendo factores: \n",
    "\n",
    "$$\\frac{1}{p\\left( 1 - \\frac{p}{350} \\right)} dp = kdt $$\n"
   ]
  },
  {
   "cell_type": "markdown",
   "id": "bed6fea9",
   "metadata": {
    "slideshow": {
     "slide_type": "slide"
    }
   },
   "source": [
    "Restas fracciones y divides para obtener la expreseión simplificada: \n",
    "\n",
    "$$ \\frac{350}{p(350 - p)}dp = kdt $$"
   ]
  },
  {
   "cell_type": "markdown",
   "id": "22191f48",
   "metadata": {
    "slideshow": {
     "slide_type": "slide"
    }
   },
   "source": [
    "Descompongamos en fracciones parciales a la fracción propia:\n",
    "\n",
    "$$ \\frac{350}{p(350 - p)} $$\n"
   ]
  },
  {
   "cell_type": "markdown",
   "id": "c0837a25",
   "metadata": {
    "slideshow": {
     "slide_type": "slide"
    }
   },
   "source": [
    "Cómo los factores del denominador son lineales no repetidos, entonces esta fracción descompone como:\n",
    "\n",
    "$$ \\frac{350}{p(350 - p)} = \\frac{A}{p} + \\frac{B}{350 - p} $$\n"
   ]
  },
  {
   "cell_type": "markdown",
   "id": "9d27ae1d",
   "metadata": {
    "slideshow": {
     "slide_type": "slide"
    }
   },
   "source": [
    "$$ \\frac{350}{p(350 - p)} = \\frac{A(350 - p) + Bp}{p(350 - p)} $$"
   ]
  },
  {
   "cell_type": "markdown",
   "id": "37767101",
   "metadata": {
    "slideshow": {
     "slide_type": "slide"
    }
   },
   "source": [
    "de donde $A = B = 1$ y por tanto la descomposición en fracciones parciales nos queda:\n",
    "\n",
    "$$ \\frac{350}{p(350 - p)} = \\frac{1}{p} + \\frac{1}{350 - p} $$\n"
   ]
  },
  {
   "cell_type": "markdown",
   "id": "76028f3a",
   "metadata": {
    "slideshow": {
     "slide_type": "slide"
    }
   },
   "source": [
    "$$ \\int \\left( \\frac{1}{p} + \\frac{1}{350 - p} \\right)dp = \\int kdt $$"
   ]
  },
  {
   "cell_type": "markdown",
   "id": "e53cfcf6",
   "metadata": {
    "slideshow": {
     "slide_type": "slide"
    }
   },
   "source": []
  },
  {
   "cell_type": "code",
   "execution_count": null,
   "id": "9e7e49bd",
   "metadata": {},
   "outputs": [],
   "source": []
  },
  {
   "cell_type": "code",
   "execution_count": null,
   "id": "e648e7df",
   "metadata": {},
   "outputs": [],
   "source": []
  },
  {
   "cell_type": "markdown",
   "id": "3e77bc7d",
   "metadata": {
    "slideshow": {
     "slide_type": "slide"
    }
   },
   "source": [
    "## Verificación analítica de la solución encontrada\n",
    "\n",
    "Recuerde que esto implica verificar que la solución satisface la ED y luego verificar que también satisface la condición inicial y la condición de frontera. "
   ]
  },
  {
   "cell_type": "code",
   "execution_count": null,
   "id": "df6d410d",
   "metadata": {
    "slideshow": {
     "slide_type": "slide"
    }
   },
   "outputs": [],
   "source": []
  },
  {
   "cell_type": "markdown",
   "id": "027eb590",
   "metadata": {
    "slideshow": {
     "slide_type": "slide"
    }
   },
   "source": [
    "## Determinación del orden de la ED"
   ]
  },
  {
   "cell_type": "code",
   "execution_count": 17,
   "id": "664096ae",
   "metadata": {
    "slideshow": {
     "slide_type": "slide"
    }
   },
   "outputs": [],
   "source": [
    "from sympy import var, Function, diff, Eq, ode_order"
   ]
  },
  {
   "cell_type": "code",
   "execution_count": 18,
   "id": "3136ebb9",
   "metadata": {},
   "outputs": [],
   "source": [
    "p,t,k = var('p,t,k') "
   ]
  },
  {
   "cell_type": "code",
   "execution_count": 19,
   "id": "3d32645c",
   "metadata": {
    "slideshow": {
     "slide_type": "slide"
    }
   },
   "outputs": [],
   "source": [
    "p = Function('p')"
   ]
  },
  {
   "cell_type": "code",
   "execution_count": 21,
   "id": "89e73580",
   "metadata": {
    "slideshow": {
     "slide_type": "slide"
    }
   },
   "outputs": [],
   "source": [
    "eq = Eq(diff(p(t), t), k*p(t)*(1-p(t)/L))"
   ]
  },
  {
   "cell_type": "code",
   "execution_count": 22,
   "id": "c84f103f",
   "metadata": {
    "slideshow": {
     "slide_type": "slide"
    }
   },
   "outputs": [
    {
     "data": {
      "text/plain": [
       "1"
      ]
     },
     "execution_count": 22,
     "metadata": {},
     "output_type": "execute_result"
    }
   ],
   "source": [
    "ode_order(eq, p(t))"
   ]
  },
  {
   "cell_type": "markdown",
   "id": "065df64d",
   "metadata": {
    "slideshow": {
     "slide_type": "slide"
    }
   },
   "source": [
    "Así, hemos verificado que la ecuación diferencial es de orden 1"
   ]
  },
  {
   "cell_type": "markdown",
   "id": "53f17f0c",
   "metadata": {
    "slideshow": {
     "slide_type": "slide"
    }
   },
   "source": [
    "## Clasifica la ED utilizando la función `classify_ode()` de sympy"
   ]
  },
  {
   "cell_type": "code",
   "execution_count": 24,
   "id": "d1ce309d",
   "metadata": {
    "slideshow": {
     "slide_type": "slide"
    }
   },
   "outputs": [],
   "source": [
    "from sympy import classify_ode"
   ]
  },
  {
   "cell_type": "code",
   "execution_count": 25,
   "id": "581c1537",
   "metadata": {
    "slideshow": {
     "slide_type": "slide"
    }
   },
   "outputs": [
    {
     "data": {
      "text/plain": [
       "('factorable',\n",
       " 'separable',\n",
       " '1st_exact',\n",
       " 'Bernoulli',\n",
       " '1st_rational_riccati',\n",
       " '1st_power_series',\n",
       " 'lie_group',\n",
       " 'separable_Integral',\n",
       " '1st_exact_Integral',\n",
       " 'Bernoulli_Integral')"
      ]
     },
     "execution_count": 25,
     "metadata": {},
     "output_type": "execute_result"
    }
   ],
   "source": [
    "\n",
    "classify_ode(eq, p(t))"
   ]
  },
  {
   "cell_type": "markdown",
   "id": "28b9e58b",
   "metadata": {
    "slideshow": {
     "slide_type": "slide"
    }
   },
   "source": [
    "## Soluciona con sympy el PVI"
   ]
  },
  {
   "cell_type": "code",
   "execution_count": 26,
   "id": "b0bb0365",
   "metadata": {
    "slideshow": {
     "slide_type": "slide"
    }
   },
   "outputs": [],
   "source": [
    "from sympy import dsolve, checkodesol, solve"
   ]
  },
  {
   "cell_type": "code",
   "execution_count": 27,
   "id": "045b92e0",
   "metadata": {
    "slideshow": {
     "slide_type": "slide"
    }
   },
   "outputs": [
    {
     "data": {
      "text/latex": [
       "$\\displaystyle p{\\left(t \\right)} = \\frac{350}{C_{1} e^{- k t} + 1}$"
      ],
      "text/plain": [
       "Eq(p(t), 350/(C1*exp(-k*t) + 1))"
      ]
     },
     "execution_count": 27,
     "metadata": {},
     "output_type": "execute_result"
    }
   ],
   "source": [
    "sol_gen = dsolve(eq, p(t), hint = 'separable') \n",
    "sol_gen "
   ]
  },
  {
   "cell_type": "markdown",
   "id": "70a75619",
   "metadata": {
    "slideshow": {
     "slide_type": "slide"
    }
   },
   "source": [
    "La anterior es la solución general explícita de la ED que hace parte del PVI"
   ]
  },
  {
   "cell_type": "code",
   "execution_count": 37,
   "id": "025dc075",
   "metadata": {
    "slideshow": {
     "slide_type": "slide"
    }
   },
   "outputs": [
    {
     "data": {
      "text/latex": [
       "$\\displaystyle p{\\left(t \\right)} = \\frac{350}{1 + 13 e^{- k t}}$"
      ],
      "text/plain": [
       "Eq(p(t), 350/(1 + 13*exp(-k*t)))"
      ]
     },
     "execution_count": 37,
     "metadata": {},
     "output_type": "execute_result"
    }
   ],
   "source": [
    "sol_pvi = dsolve(eq, p(t), hint = 'separable', ics = {sol_gen.lhs.subs(t, 0):p0})\n",
    "sol_pvi "
   ]
  },
  {
   "cell_type": "markdown",
   "id": "02c8051c",
   "metadata": {
    "slideshow": {
     "slide_type": "slide"
    }
   },
   "source": [
    "Pero todavía no conocemos la constante de proporcionalidad $k$. "
   ]
  },
  {
   "cell_type": "markdown",
   "id": "06c5d3b5",
   "metadata": {
    "slideshow": {
     "slide_type": "slide"
    }
   },
   "source": [
    "## Determine el valor de la constante de proporcionalidad $k$"
   ]
  },
  {
   "cell_type": "code",
   "execution_count": 29,
   "id": "e5b92e25",
   "metadata": {
    "slideshow": {
     "slide_type": "slide"
    }
   },
   "outputs": [
    {
     "data": {
      "text/latex": [
       "$\\displaystyle 39 = \\frac{350}{1 + 13 e^{- k}}$"
      ],
      "text/plain": [
       "Eq(39, 350/(1 + 13*exp(-k)))"
      ]
     },
     "execution_count": 29,
     "metadata": {},
     "output_type": "execute_result"
    }
   ],
   "source": [
    "eq_k = Eq(solucion_pvi.lhs.subs(t,1).subs(p(1), 39), solucion_pvi.rhs.subs(t,1))\n",
    "eq_k"
   ]
  },
  {
   "cell_type": "code",
   "execution_count": 33,
   "id": "4863eb35",
   "metadata": {
    "slideshow": {
     "slide_type": "slide"
    }
   },
   "outputs": [
    {
     "data": {
      "text/latex": [
       "$\\displaystyle \\log{\\left(\\frac{507}{311} \\right)}$"
      ],
      "text/plain": [
       "log(507/311)"
      ]
     },
     "execution_count": 33,
     "metadata": {},
     "output_type": "execute_result"
    }
   ],
   "source": [
    "from sympy import exp, log\n",
    "solve(39-350/(1+13*exp(-k)), k)[0] # ojo, solve es una función que pide la ecuación igualada a cero"
   ]
  },
  {
   "cell_type": "code",
   "execution_count": 34,
   "id": "aefeb58b",
   "metadata": {
    "slideshow": {
     "slide_type": "slide"
    }
   },
   "outputs": [
    {
     "data": {
      "text/latex": [
       "$\\displaystyle 0.49$"
      ],
      "text/plain": [
       "0.49"
      ]
     },
     "execution_count": 34,
     "metadata": {},
     "output_type": "execute_result"
    }
   ],
   "source": [
    "round(log(507/311),2)"
   ]
  },
  {
   "cell_type": "markdown",
   "id": "cb502c25",
   "metadata": {
    "slideshow": {
     "slide_type": "slide"
    }
   },
   "source": [
    "Entonces la solución del PVI con la constante de proporcionalidad $k$ es \n",
    "\n",
    "\n",
    "$$ p(t) = \\frac{350}{13e^{-0.49t} + 1} $$\n"
   ]
  },
  {
   "cell_type": "code",
   "execution_count": 40,
   "id": "b87bdc8c",
   "metadata": {
    "slideshow": {
     "slide_type": "slide"
    }
   },
   "outputs": [
    {
     "data": {
      "text/latex": [
       "$\\displaystyle p{\\left(t \\right)} = \\frac{350}{1 + 13 e^{- 0.488718091411949 t}}$"
      ],
      "text/plain": [
       "Eq(p(t), 350/(1 + 13*exp(-0.488718091411949*t)))"
      ]
     },
     "execution_count": 40,
     "metadata": {},
     "output_type": "execute_result"
    }
   ],
   "source": [
    "sol_completa = solucion_pvi.subs(k, log(507/311))\n",
    "sol_completa "
   ]
  },
  {
   "cell_type": "markdown",
   "id": "67f5e157",
   "metadata": {
    "slideshow": {
     "slide_type": "slide"
    }
   },
   "source": [
    "## Verifica que la solución encontrada es correcta utilizando sympy"
   ]
  },
  {
   "cell_type": "code",
   "execution_count": 31,
   "id": "2dbae721",
   "metadata": {
    "slideshow": {
     "slide_type": "slide"
    }
   },
   "outputs": [],
   "source": [
    "from sympy import checkodesol"
   ]
  },
  {
   "cell_type": "code",
   "execution_count": 35,
   "id": "a67e3d58",
   "metadata": {
    "slideshow": {
     "slide_type": "slide"
    }
   },
   "outputs": [
    {
     "data": {
      "text/plain": [
       "(True, 0)"
      ]
     },
     "execution_count": 35,
     "metadata": {},
     "output_type": "execute_result"
    }
   ],
   "source": [
    "checkodesol(eq,sol_gen)"
   ]
  },
  {
   "cell_type": "code",
   "execution_count": 38,
   "id": "b40ab92b",
   "metadata": {
    "slideshow": {
     "slide_type": "slide"
    }
   },
   "outputs": [
    {
     "data": {
      "text/plain": [
       "(True, 0)"
      ]
     },
     "execution_count": 38,
     "metadata": {},
     "output_type": "execute_result"
    }
   ],
   "source": [
    "checkodesol(eq,sol_pvi)"
   ]
  },
  {
   "cell_type": "code",
   "execution_count": 37,
   "id": "41858189",
   "metadata": {
    "slideshow": {
     "slide_type": "slide"
    }
   },
   "outputs": [
    {
     "data": {
      "text/latex": [
       "$\\displaystyle p{\\left(3.3 \\right)} = 97.4563404229809$"
      ],
      "text/plain": [
       "Eq(p(3.3), 97.4563404229809)"
      ]
     },
     "execution_count": 37,
     "metadata": {},
     "output_type": "execute_result"
    }
   ],
   "source": [
    "sol_completa.subs(t,3.3)"
   ]
  },
  {
   "cell_type": "markdown",
   "id": "7eb21d66",
   "metadata": {},
   "source": [
    "Veamos que la condición inicial también se verifica"
   ]
  },
  {
   "cell_type": "code",
   "execution_count": 41,
   "id": "15d2bfa3",
   "metadata": {
    "slideshow": {
     "slide_type": "slide"
    }
   },
   "outputs": [
    {
     "data": {
      "text/latex": [
       "$\\displaystyle p{\\left(0 \\right)} = 25$"
      ],
      "text/plain": [
       "Eq(p(0), 25)"
      ]
     },
     "execution_count": 41,
     "metadata": {},
     "output_type": "execute_result"
    }
   ],
   "source": [
    "sol_completa.subs(t, 0)"
   ]
  },
  {
   "cell_type": "code",
   "execution_count": 42,
   "id": "c8922d71",
   "metadata": {
    "slideshow": {
     "slide_type": "slide"
    }
   },
   "outputs": [
    {
     "data": {
      "text/latex": [
       "$\\displaystyle p{\\left(1 \\right)} = 39.0$"
      ],
      "text/plain": [
       "Eq(p(1), 39.0)"
      ]
     },
     "execution_count": 42,
     "metadata": {},
     "output_type": "execute_result"
    }
   ],
   "source": [
    "sol_completa.subs(t,1)"
   ]
  },
  {
   "cell_type": "markdown",
   "id": "85f9c784",
   "metadata": {
    "slideshow": {
     "slide_type": "slide"
    }
   },
   "source": [
    "#### Conclusion: La solución encontrada satisface la ED y las condiciones iniciales y de frontera"
   ]
  },
  {
   "cell_type": "markdown",
   "id": "88d848cc",
   "metadata": {
    "slideshow": {
     "slide_type": "slide"
    }
   },
   "source": [
    "## Gráfica animada de la solución general"
   ]
  },
  {
   "cell_type": "code",
   "execution_count": 7,
   "id": "b374d8ca",
   "metadata": {
    "scrolled": false,
    "slideshow": {
     "slide_type": "slide"
    }
   },
   "outputs": [
    {
     "data": {
      "application/vnd.jupyter.widget-view+json": {
       "model_id": "2a347d4f2b054f6984e8541a3e874e6d",
       "version_major": 2,
       "version_minor": 0
      },
      "text/plain": [
       "interactive(children=(IntSlider(value=1, description='C1', max=13, min=1), Output()), _dom_classes=('widget-in…"
      ]
     },
     "metadata": {},
     "output_type": "display_data"
    }
   ],
   "source": [
    "import numpy as np \n",
    "import matplotlib.pyplot as plt\n",
    "\n",
    "from ipywidgets import interact \n",
    "\n",
    "def sol_Gen(t, C1):\n",
    "    return 350/(C1*np.exp(-0.49*t)+1)\n",
    "\n",
    "\n",
    "def grafica_de_algunas_soluciones(C1 = 1):\n",
    "    dominio = np.arange(0, 15, 0.25)\n",
    "    rango = [sol_Gen(t, C1 = C1) for t in dominio]\n",
    "    plt.plot(dominio, rango)\n",
    "    plt.grid(alpha = 0.4)\n",
    "    plt.plot([np.min(dominio), np.max(dominio)],[350, 350], 'r-.', label = 'Población límite')\n",
    "    plt.legend()\n",
    "    \n",
    "interact(grafica_de_algunas_soluciones, C1 = (1,13))  \n",
    "\n",
    "plt.show()"
   ]
  },
  {
   "cell_type": "markdown",
   "id": "4cd79cc7",
   "metadata": {
    "slideshow": {
     "slide_type": "slide"
    }
   },
   "source": [
    "## Cinco observaciones o inferencias del gráfico animado de la solución general"
   ]
  },
  {
   "cell_type": "markdown",
   "id": "52a6359f",
   "metadata": {
    "slideshow": {
     "slide_type": "slide"
    }
   },
   "source": [
    "1. Las soluciones graficadas son todas funciones estrictamente crecientes \n",
    "2. Las soluciones todas tienen asíntota horizontal $y = 350$. \n",
    "3.  \n",
    "4.  \n",
    "5.  "
   ]
  },
  {
   "cell_type": "markdown",
   "id": "f02c1412",
   "metadata": {
    "slideshow": {
     "slide_type": "slide"
    }
   },
   "source": [
    "## Gráfica con Matplotlib la solución del PVI"
   ]
  },
  {
   "cell_type": "code",
   "execution_count": 11,
   "id": "7b4e3add",
   "metadata": {
    "scrolled": true,
    "slideshow": {
     "slide_type": "slide"
    }
   },
   "outputs": [
    {
     "data": {
      "image/png": "[encoded data removed]",
      "text/plain": [
       "<Figure size 720x360 with 1 Axes>"
      ]
     },
     "metadata": {
      "needs_background": "light"
     },
     "output_type": "display_data"
    }
   ],
   "source": [
    "import numpy as np \n",
    "import matplotlib.pyplot as plt \n",
    "\n",
    "fig, ax = plt.subplots(figsize = (10,5)) \n",
    "\n",
    "ax.set(title = 'Comportamiento de la población de iguanas en la UdeA Bajo Cauca',\\\n",
    "      xlabel = 'tiempo en años', ylabel = 'población')\n",
    "\n",
    "dominio = np.arange(0,16,0.25)\n",
    "l = 350\n",
    "rango = 350/(13*np.exp(-0.49*dominio) + 1)\n",
    "\n",
    "ax.plot(dominio, rango) # grafica de la curva de población \n",
    "ax.plot([0, 0], [0, np.max(rango)]) # grafico del eje vertical\n",
    "ax.plot([np.min(dominio), np.max(dominio)], [0,0], 'orange')   # gráfico del eje horizontal\n",
    "ax.plot([0, np.max(dominio)], [l, l], 'r--')  # grafico de la asíntota horizontal\n",
    "plt.yticks(np.arange(0, 350, step=20)) \n",
    "plt.xticks(np.arange(0, 16, step=1)) \n",
    "ax.grid(alpha = 0.6)\n",
    "\n",
    "plt.savefig('solucion_del_PVI.jpg')\n",
    "\n",
    "plt.show()\n"
   ]
  },
  {
   "cell_type": "code",
   "execution_count": 57,
   "id": "5d954851",
   "metadata": {
    "slideshow": {
     "slide_type": "slide"
    }
   },
   "outputs": [],
   "source": [
    "def sol_Pvi_completa(t):\n",
    "    return int(350/(13*np.exp(-0.49*t)+1))"
   ]
  },
  {
   "cell_type": "code",
   "execution_count": 58,
   "id": "48efc57a",
   "metadata": {
    "slideshow": {
     "slide_type": "slide"
    }
   },
   "outputs": [
    {
     "data": {
      "text/plain": [
       "164"
      ]
     },
     "execution_count": 58,
     "metadata": {},
     "output_type": "execute_result"
    }
   ],
   "source": [
    "sol_Pvi_completa(5)"
   ]
  },
  {
   "cell_type": "markdown",
   "id": "37f6ebfb",
   "metadata": {
    "slideshow": {
     "slide_type": "slide"
    }
   },
   "source": [
    "## Cinco observaciones o inferencias del gráfico de la solución del PVI"
   ]
  },
  {
   "cell_type": "markdown",
   "id": "fccc61d8",
   "metadata": {
    "slideshow": {
     "slide_type": "slide"
    }
   },
   "source": [
    "1.  La población $p(t)$ es una función estrictamente creciente con población inicial igual a 25. \n",
    "2.  La población al cabo de un año es de aproximadamente 40 iguanas\n",
    "3.  \n",
    "4.  \n",
    "5.  \n"
   ]
  },
  {
   "cell_type": "markdown",
   "id": "379754ed",
   "metadata": {
    "slideshow": {
     "slide_type": "slide"
    }
   },
   "source": [
    "## Gráfica con Matplotlib la solución del PVI con la grafica de la pendiente de la curva en cada punto de la misma utilizando la animación dada por la función interact"
   ]
  },
  {
   "cell_type": "code",
   "execution_count": 23,
   "id": "13c4b11e",
   "metadata": {
    "slideshow": {
     "slide_type": "slide"
    }
   },
   "outputs": [
    {
     "data": {
      "application/vnd.jupyter.widget-view+json": {
       "model_id": "a8a2ad50c59b44478bcd5eced3898247",
       "version_major": 2,
       "version_minor": 0
      },
      "text/plain": [
       "interactive(children=(FloatSlider(value=0.0, description='t0', max=16.0, step=0.5), Output()), _dom_classes=('…"
      ]
     },
     "metadata": {},
     "output_type": "display_data"
    }
   ],
   "source": [
    "import numpy as np \n",
    "import matplotlib.pyplot as plt \n",
    "from ipywidgets import interact \n",
    "\n",
    "def sol_Pvi_completa(t):\n",
    "    return int(350/(13*np.exp(-0.49*t)+1))\n",
    "\n",
    "def derivada_p(t):\n",
    "    return 0.49*sol_Pvi_completa(t)*(1 - sol_Pvi_completa(t)/L )\n",
    "\n",
    "\n",
    "def pendiente_curva(t0 = 0):\n",
    "    fig, ax = plt.subplots(figsize = (14,7)) \n",
    "    ax.scatter([t0],[sol_Pvi_completa(t0)], color = 'red')\n",
    "    dominio_recta_tangente = np.arange(t0-1, t0+1, 0.25)\n",
    "    # \n",
    "    rango_recta_tangente = []\n",
    "    ax.set(title = 'Comportamiento de la población de iguanas en la UdeA Bajo Cauca',\\\n",
    "      xlabel = 'tiempo en años', ylabel = 'población de iguanas')\n",
    "\n",
    "    dominio = np.linspace(0,16,200, endpoint = True)\n",
    "    rango = 350/(13*np.exp(-0.49*dominio) + 1)\n",
    "\n",
    "    ax.plot(dominio, rango) # grafica de la curva de población \n",
    "    ax.plot([0, 0], [0, np.max(rango)]) # grafico del eje vertical\n",
    "    ax.plot([np.min(dominio), np.max(dominio)], [0,0], 'orange')   # gráfico del eje horizontal\n",
    "    ax.plot([0, np.max(dominio)], [l, l], 'r--')  # grafico de la asíntota horizontal\n",
    "    plt.yticks(np.arange(0, 350, step=25)) \n",
    "    ax.grid(alpha = 0.6)\n",
    "\n",
    "\n",
    "interact(pendiente_curva, t0 = (0,16, 0.5))\n",
    "\n",
    "plt.show()"
   ]
  },
  {
   "cell_type": "markdown",
   "id": "1d41d9f2",
   "metadata": {
    "slideshow": {
     "slide_type": "slide"
    }
   },
   "source": [
    "## Gráfico de la función derivada $\\frac{dp}{dt}(t)$"
   ]
  },
  {
   "cell_type": "code",
   "execution_count": 13,
   "id": "2b0d3b69",
   "metadata": {
    "slideshow": {
     "slide_type": "slide"
    }
   },
   "outputs": [
    {
     "data": {
      "image/png": "[encoded data removed]",
      "text/plain": [
       "<Figure size 432x288 with 1 Axes>"
      ]
     },
     "metadata": {
      "needs_background": "light"
     },
     "output_type": "display_data"
    }
   ],
   "source": [
    "def p(t):\n",
    "    return 350/(13*np.exp(-0.49*t) + 1)\n",
    "\n",
    "def derivada_de_p(t):\n",
    "    return 0.49*p(t)*(1-p(t)/350)\n",
    "\n",
    "\n",
    "import numpy as np \n",
    "import matplotlib.pyplot as plt \n",
    "\n",
    "fig, ax = plt.subplots() \n",
    "\n",
    "ax.set(title = 'Comportamiento de la derivada de población de iguanas en la UdeA Bajo Cauca',\\\n",
    "      xlabel = 'tiempo en años', ylabel = 'derivada población')\n",
    "\n",
    "dominio = np.arange(0,16, 0.25)\n",
    "l = 350\n",
    "rango = [derivada_de_p(t) for t in dominio]\n",
    "\n",
    "ax.plot(dominio, rango) # grafica de la curva derivada de población \n",
    "ax.plot([0, 0], [0, np.max(rango)]) # grafico del eje vertical\n",
    "ax.plot([np.min(dominio), np.max(dominio)], [0,0], 'orange')   # gráfico del eje horizontal\n",
    "\n",
    "ax.grid(alpha = 0.6)\n",
    "plt.yticks(np.arange(0,50,4))\n",
    "plt.xticks(np.arange(0,16))\n",
    "plt.show() "
   ]
  },
  {
   "cell_type": "markdown",
   "id": "9bba368b",
   "metadata": {
    "slideshow": {
     "slide_type": "slide"
    }
   },
   "source": [
    "## Cinco observaciones o inferencias del gráfico de la función velocidad de crecimiento de la población de iguanas"
   ]
  },
  {
   "cell_type": "markdown",
   "id": "3cf8e39c",
   "metadata": {
    "slideshow": {
     "slide_type": "slide"
    }
   },
   "source": [
    "1.  La velocidad máxima es de 43 y se da a los cinco años. \n",
    "2.  \n",
    "3.  \n",
    "4.  \n",
    "5.  "
   ]
  },
  {
   "cell_type": "markdown",
   "id": "30b1dbca",
   "metadata": {
    "slideshow": {
     "slide_type": "slide"
    }
   },
   "source": [
    "# El método de Euler  \n",
    "\n",
    "Página 429 de larson, sección 6.1: Campo de pendientes y método de Euler"
   ]
  },
  {
   "cell_type": "markdown",
   "id": "a93e645d",
   "metadata": {
    "slideshow": {
     "slide_type": "slide"
    }
   },
   "source": [
    "El método de Euler es un método numérico para aproximar la solución particular de la ecuación diferencial\n",
    "\n",
    "$$ y' = F(x, y)$$\n"
   ]
  },
  {
   "cell_type": "markdown",
   "id": "28353d4b",
   "metadata": {
    "slideshow": {
     "slide_type": "slide"
    }
   },
   "source": [
    "que pasa a través del punto $(x_{0}, y_{0})$."
   ]
  },
  {
   "cell_type": "markdown",
   "id": "30e93a23",
   "metadata": {
    "slideshow": {
     "slide_type": "slide"
    }
   },
   "source": [
    "Con esta información se sabe que la gráfica de esa solución pasa a través del punto $(x_{0}, y_{0})$ y tiene una pendiente de $F(x_{0}, y_{0})$ en ese punto. "
   ]
  },
  {
   "cell_type": "markdown",
   "id": "5395ad91",
   "metadata": {
    "slideshow": {
     "slide_type": "slide"
    }
   },
   "source": [
    "Esto da un “punto inicial” para aproximar la solución."
   ]
  },
  {
   "cell_type": "markdown",
   "id": "2fd86615",
   "metadata": {
    "slideshow": {
     "slide_type": "slide"
    }
   },
   "source": [
    "A partir del punto inicial, se sigue en la dirección indicada por la pendiente. "
   ]
  },
  {
   "cell_type": "markdown",
   "id": "810cbbca",
   "metadata": {
    "slideshow": {
     "slide_type": "slide"
    }
   },
   "source": [
    "Mediante un pequeño paso $h$, se mueve a lo largo de la recta tangente hasta llegar al punto $(x_{1}, y_{1})$, donde"
   ]
  },
  {
   "cell_type": "markdown",
   "id": "f78758f4",
   "metadata": {
    "slideshow": {
     "slide_type": "fragment"
    }
   },
   "source": [
    "$$ x_{1} = x_{0} + h, \\ \\ \\ \\ \\ \\text{y} \\ \\ \\ \\ \\ y_{1} = y_{0} + hF(x_{0}, y_{0}) $$"
   ]
  },
  {
   "cell_type": "code",
   "execution_count": 62,
   "id": "d5726e4b",
   "metadata": {
    "slideshow": {
     "slide_type": "slide"
    }
   },
   "outputs": [],
   "source": [
    "def euler(F,x0, y0, h, x_stop): # de a F como una función lambda de Python\n",
    "    x = x0\n",
    "    while x<=x_stop:\n",
    "        x = x+h\n",
    "    return y"
   ]
  },
  {
   "cell_type": "code",
   "execution_count": null,
   "id": "4dbaad4b",
   "metadata": {},
   "outputs": [],
   "source": []
  },
  {
   "cell_type": "code",
   "execution_count": null,
   "id": "a64c1f98",
   "metadata": {},
   "outputs": [],
   "source": []
  },
  {
   "cell_type": "code",
   "execution_count": null,
   "id": "982c509d",
   "metadata": {},
   "outputs": [],
   "source": []
  },
  {
   "cell_type": "markdown",
   "id": "687d1c7b",
   "metadata": {
    "slideshow": {
     "slide_type": "slide"
    }
   },
   "source": [
    "## Referencias\n",
    "\n",
    "* Página 452 de Zill. "
   ]
  },
  {
   "cell_type": "code",
   "execution_count": 9,
   "id": "d75623c0",
   "metadata": {
    "slideshow": {
     "slide_type": "slide"
    }
   },
   "outputs": [],
   "source": [
    "from sympy import * \n",
    "x = Symbol('x')"
   ]
  },
  {
   "cell_type": "code",
   "execution_count": 11,
   "id": "c12c5c2a",
   "metadata": {
    "slideshow": {
     "slide_type": "slide"
    }
   },
   "outputs": [
    {
     "data": {
      "text/plain": [
       "{x: -1}"
      ]
     },
     "execution_count": 11,
     "metadata": {},
     "output_type": "execute_result"
    }
   ],
   "source": [
    "solve((x+1,0),x)"
   ]
  },
  {
   "cell_type": "code",
   "execution_count": null,
   "id": "0d808fa2",
   "metadata": {
    "slideshow": {
     "slide_type": "slide"
    }
   },
   "outputs": [],
   "source": []
  }
 ],
 "metadata": {
  "celltoolbar": "Slideshow",
  "kernelspec": {
   "display_name": "Python 3 (ipykernel)",
   "language": "python",
   "name": "python3"
  },
  "language_info": {
   "codemirror_mode": {
    "name": "ipython",
    "version": 3
   },
   "file_extension": ".py",
   "mimetype": "text/x-python",
   "name": "python",
   "nbconvert_exporter": "python",
   "pygments_lexer": "ipython3",
   "version": "3.9.12"
  },
  "rise": {
   "theme": "sky"
  }
 },
 "nbformat": 4,
 "nbformat_minor": 5
}
