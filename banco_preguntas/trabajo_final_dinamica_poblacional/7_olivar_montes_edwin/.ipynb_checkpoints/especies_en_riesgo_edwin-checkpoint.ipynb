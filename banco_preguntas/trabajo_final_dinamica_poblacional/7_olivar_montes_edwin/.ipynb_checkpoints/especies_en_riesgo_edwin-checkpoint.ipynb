{
 "cells": [
  {
   "cell_type": "markdown",
   "id": "fb8fd6dd",
   "metadata": {
    "slideshow": {
     "slide_type": "slide"
    }
   },
   "source": [
    "<table align=\"left\">\n",
    "  <td>\n",
    "    <a href=\"https://colab.research.google.com/github/marco-canas/edo/blob/main/banco_preguntas/trabajo_final_dinamica_poblacional/7_olivar_montes_edwin/especies_en_riesgo_edwin.ipynb\" target=\"_parent\"><img src=\"https://colab.research.google.com/assets/colab-badge.svg\" alt=\"Open In Colab\"/></a>\n",
    "  </td>\n",
    "</table>"
   ]
  },
  {
   "cell_type": "markdown",
   "id": "6638d7ff",
   "metadata": {
    "slideshow": {
     "slide_type": "slide"
    }
   },
   "source": [
    "## Especies en peligro"
   ]
  },
  {
   "cell_type": "markdown",
   "id": "7d383253",
   "metadata": {
    "slideshow": {
     "slide_type": "slide"
    }
   },
   "source": [
    "Una organización de conservación libera 25 iguanas de Caucasia en el campus de la Seccional Bajo Cauca de la Universidad de Antioquia.   \n",
    "\n",
    "Después de 2 años, hay 39 iguanas en la zona.   \n",
    "\n",
    "La seccional tiene una capacidad límite o de soporte de 500 iguanas.  \n",
    "\n",
    "\n",
    "a) Escribir una ecuación logística que modele la población de las panteras en el refugio. \n",
    "\n",
    "Recuerde que en general la ecuación diferencial logística tiene la forma:\n",
    "\n",
    "$$ \\frac{dy}{dt} = ky(1 - \\frac{y}{L}) $$\n",
    "\n",
    "\n",
    "\n",
    "b) Encontrar la población después de 5 años.  \n",
    "\n",
    "c) ¿Cuándo la población será de 100 panteras?  \n",
    "\n",
    "d) Escribir una ecuación diferencial logística que modele la tasa de crecimiento de la población de las panteras. Entonces repetir el apartado b) mediante el método de Euler con \n",
    "un tamaño de paso de $h = 1$. Comparar la aproximación con las respuestas exactas.  \n",
    "\n",
    "e) ¿En qué tiempo la población de las panteras crecerá más rápidamente? Explicar.\n"
   ]
  },
  {
   "cell_type": "markdown",
   "id": "ae7b1286",
   "metadata": {
    "slideshow": {
     "slide_type": "slide"
    }
   },
   "source": [
    "## Solución"
   ]
  },
  {
   "cell_type": "markdown",
   "id": "15a3d33b",
   "metadata": {
    "slideshow": {
     "slide_type": "slide"
    }
   },
   "source": [
    "## Escribe el modelo o PVI que representa el problema y cuya solución permite realizar predicciones sobre el comportamiento de la especie en riesgo"
   ]
  },
  {
   "cell_type": "markdown",
   "id": "820da6e1",
   "metadata": {
    "slideshow": {
     "slide_type": "slide"
    }
   },
   "source": [
    "$$ \\frac{dp}{dt} = kp\\left(1 - \\frac{p}{200} \\right), \\ \\ \\ \\ \\ \\ p(0) = 25,\\ \\ \\ \\ \\  p(2) = 39 $$\n",
    "\n",
    "donde $k$ es la constante de proporcionalidad y $t$ es medido en años."
   ]
  },
  {
   "cell_type": "markdown",
   "id": "01823db1",
   "metadata": {
    "slideshow": {
     "slide_type": "slide"
    }
   },
   "source": [
    "## Redacta una interpretación de la ED y de la condición inicial "
   ]
  },
  {
   "cell_type": "markdown",
   "id": "9a957ed3",
   "metadata": {
    "slideshow": {
     "slide_type": "slide"
    }
   },
   "source": [
    "La velocidad de crecimiento de la población de panteras en un tiempo $t$, $\\frac{dp}{dt}(t)$,  es proporcional al número de panteras en el mismo año $t$, $p(t)$ y al porcentaje de panteras faltantes para llegar a la población límite en el refugio, $\\left(1-\\frac{p(t)}{200}\\right)$. "
   ]
  },
  {
   "cell_type": "markdown",
   "id": "827e44d9",
   "metadata": {
    "slideshow": {
     "slide_type": "slide"
    }
   },
   "source": [
    "## Clasifica la ED que hace parte del PVI para poder establecer el método de solución del problema "
   ]
  },
  {
   "cell_type": "markdown",
   "id": "5b274d70",
   "metadata": {
    "slideshow": {
     "slide_type": "slide"
    }
   },
   "source": [
    "La ED dada es una Ecuación de primer orden pues la única derivada de presente en la ED es de orden 1.  "
   ]
  },
  {
   "cell_type": "markdown",
   "id": "8fabb76d",
   "metadata": {
    "slideshow": {
     "slide_type": "slide"
    }
   },
   "source": [
    "La ED es separable pues es de la forma:\n",
    "\n",
    "$$p' = F(p)G(t)$$\n",
    " "
   ]
  },
  {
   "cell_type": "markdown",
   "id": "8020168e",
   "metadata": {
    "slideshow": {
     "slide_type": "slide"
    }
   },
   "source": [
    "## Soluciona analíticamente el PVI, es decir, redacta en lenguaje latex la solución describiendo o justificando, según el caso, cada paso del proceso de solución"
   ]
  },
  {
   "cell_type": "markdown",
   "id": "319d7963",
   "metadata": {
    "slideshow": {
     "slide_type": "slide"
    }
   },
   "source": [
    "$$ \\frac{dp}{dt} = kp\\left( 1 - \\frac{p}{200}\\right) $$"
   ]
  },
  {
   "cell_type": "markdown",
   "id": "24bb0f2b",
   "metadata": {
    "slideshow": {
     "slide_type": "slide"
    }
   },
   "source": []
  },
  {
   "cell_type": "code",
   "execution_count": null,
   "id": "8a498b55",
   "metadata": {
    "slideshow": {
     "slide_type": "slide"
    }
   },
   "outputs": [],
   "source": []
  },
  {
   "cell_type": "code",
   "execution_count": null,
   "id": "04bda19b",
   "metadata": {
    "slideshow": {
     "slide_type": "slide"
    }
   },
   "outputs": [],
   "source": []
  },
  {
   "cell_type": "markdown",
   "id": "53f17f0c",
   "metadata": {
    "slideshow": {
     "slide_type": "slide"
    }
   },
   "source": [
    "## Clasifica la ED utilizando la función `classify_ode()` de sympy"
   ]
  },
  {
   "cell_type": "code",
   "execution_count": 1,
   "id": "d1ce309d",
   "metadata": {
    "slideshow": {
     "slide_type": "slide"
    }
   },
   "outputs": [],
   "source": [
    "from sympy import var, Function, diff, Eq, classify_ode"
   ]
  },
  {
   "cell_type": "code",
   "execution_count": null,
   "id": "251c8c49",
   "metadata": {
    "slideshow": {
     "slide_type": "slide"
    }
   },
   "outputs": [],
   "source": []
  },
  {
   "cell_type": "markdown",
   "id": "28b9e58b",
   "metadata": {
    "slideshow": {
     "slide_type": "slide"
    }
   },
   "source": [
    "## Soluciona con sympy el PVI"
   ]
  },
  {
   "cell_type": "code",
   "execution_count": 10,
   "id": "b0bb0365",
   "metadata": {
    "slideshow": {
     "slide_type": "slide"
    }
   },
   "outputs": [],
   "source": [
    "from sympy import var, Function, Eq, diff, classify_ode, dsolve, checkodesol"
   ]
  },
  {
   "cell_type": "code",
   "execution_count": 11,
   "id": "713acfa2",
   "metadata": {
    "slideshow": {
     "slide_type": "slide"
    }
   },
   "outputs": [],
   "source": [
    "p,t,k = var('p,t,k')"
   ]
  },
  {
   "cell_type": "code",
   "execution_count": 12,
   "id": "154b4e37",
   "metadata": {
    "slideshow": {
     "slide_type": "slide"
    }
   },
   "outputs": [],
   "source": [
    "p = Function('p')"
   ]
  },
  {
   "cell_type": "code",
   "execution_count": 13,
   "id": "db2f54e2",
   "metadata": {
    "slideshow": {
     "slide_type": "slide"
    }
   },
   "outputs": [
    {
     "data": {
      "text/latex": [
       "$\\displaystyle \\frac{d}{d t} p{\\left(t \\right)} = k \\left(1 - \\frac{p{\\left(t \\right)}}{200}\\right) p{\\left(t \\right)}$"
      ],
      "text/plain": [
       "Eq(Derivative(p(t), t), k*(1 - p(t)/200)*p(t))"
      ]
     },
     "execution_count": 13,
     "metadata": {},
     "output_type": "execute_result"
    }
   ],
   "source": [
    "eq = Eq(diff(p(t),t), k*p(t)*(1-p(t)/200))\n",
    "eq "
   ]
  },
  {
   "cell_type": "code",
   "execution_count": 15,
   "id": "045b92e0",
   "metadata": {
    "slideshow": {
     "slide_type": "slide"
    }
   },
   "outputs": [
    {
     "data": {
      "text/latex": [
       "$\\displaystyle p{\\left(t \\right)} = \\frac{200}{C_{1} e^{- k t} + 1}$"
      ],
      "text/plain": [
       "Eq(p(t), 200/(C1*exp(-k*t) + 1))"
      ]
     },
     "execution_count": 15,
     "metadata": {},
     "output_type": "execute_result"
    }
   ],
   "source": [
    "sol_gen = dsolve(eq, p(t), hint = 'separable') \n",
    "sol_gen "
   ]
  },
  {
   "cell_type": "code",
   "execution_count": null,
   "id": "025dc075",
   "metadata": {
    "slideshow": {
     "slide_type": "slide"
    }
   },
   "outputs": [],
   "source": []
  },
  {
   "cell_type": "markdown",
   "id": "67f5e157",
   "metadata": {
    "slideshow": {
     "slide_type": "slide"
    }
   },
   "source": [
    "## Verifica que la solución encontrada es correcta utilizando sympy"
   ]
  },
  {
   "cell_type": "code",
   "execution_count": 3,
   "id": "2dbae721",
   "metadata": {
    "slideshow": {
     "slide_type": "slide"
    }
   },
   "outputs": [],
   "source": [
    "from sympy import checkodesol"
   ]
  },
  {
   "cell_type": "code",
   "execution_count": 16,
   "id": "b40ab92b",
   "metadata": {
    "slideshow": {
     "slide_type": "slide"
    }
   },
   "outputs": [
    {
     "data": {
      "text/plain": [
       "(True, 0)"
      ]
     },
     "execution_count": 16,
     "metadata": {},
     "output_type": "execute_result"
    }
   ],
   "source": [
    "checkodesol(eq,sol_gen)"
   ]
  },
  {
   "cell_type": "markdown",
   "id": "f02c1412",
   "metadata": {
    "slideshow": {
     "slide_type": "slide"
    }
   },
   "source": [
    "## Grafica con Matplotlib la solución del PVI"
   ]
  },
  {
   "cell_type": "code",
   "execution_count": 10,
   "id": "7b4e3add",
   "metadata": {
    "slideshow": {
     "slide_type": "slide"
    }
   },
   "outputs": [
    {
     "data": {
      "image/png": "[encoded data removed]",
      "text/plain": [
       "<Figure size 432x288 with 1 Axes>"
      ]
     },
     "metadata": {
      "needs_background": "light"
     },
     "output_type": "display_data"
    }
   ],
   "source": [
    "import numpy as np \n",
    "import matplotlib.pyplot as plt \n",
    "\n",
    "fig, ax = plt.subplots() \n",
    "\n",
    "ax.set(title = 'Comportamiento de la población de iguanas en la UdeA Bajo Cauca',\\\n",
    "      xlabel = 'tiempo en años', ylabel = 'población')\n",
    "\n",
    "dominio = np.arange(0,31)\n",
    "\n",
    "rango = 500/(19*np.exp(-0.23*dominio) + 1)\n",
    "\n",
    "ax.plot(dominio, rango)\n",
    "ax.grid(alpha = 0.6)\n"
   ]
  },
  {
   "cell_type": "markdown",
   "id": "687d1c7b",
   "metadata": {
    "slideshow": {
     "slide_type": "slide"
    }
   },
   "source": [
    "## Referencias\n",
    "\n",
    "* Página 452 de Zill. "
   ]
  },
  {
   "cell_type": "code",
   "execution_count": null,
   "id": "d75623c0",
   "metadata": {},
   "outputs": [],
   "source": []
  }
 ],
 "metadata": {
  "celltoolbar": "Slideshow",
  "kernelspec": {
   "display_name": "Python 3 (ipykernel)",
   "language": "python",
   "name": "python3"
  },
  "language_info": {
   "codemirror_mode": {
    "name": "ipython",
    "version": 3
   },
   "file_extension": ".py",
   "mimetype": "text/x-python",
   "name": "python",
   "nbconvert_exporter": "python",
   "pygments_lexer": "ipython3",
   "version": "3.9.12"
  },
  "rise": {
   "theme": "sky"
  }
 },
 "nbformat": 4,
 "nbformat_minor": 5
}
