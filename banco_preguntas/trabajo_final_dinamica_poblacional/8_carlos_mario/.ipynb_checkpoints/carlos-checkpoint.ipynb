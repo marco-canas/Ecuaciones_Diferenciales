{
 "cells": [
  {
   "cell_type": "markdown",
   "id": "b36d0a3f",
   "metadata": {
    "slideshow": {
     "slide_type": "slide"
    }
   },
   "source": [
    "<table align=\"left\">\n",
    "  <td>\n",
    "    <a href=\"https://colab.research.google.com/github/marco-canas/edo/blob/main/banco_preguntas/trabajo_final_dinamica_poblacional/8_carlos_mario/carlos.ipynb\"_parent\"><img src=\"https://colab.research.google.com/assets/colab-badge.svg\" alt=\"Open In Colab\"/></a>\n",
    "  </td>\n",
    "</table>"
   ]
  },
  {
   "cell_type": "markdown",
   "id": "bdbcf84e",
   "metadata": {
    "slideshow": {
     "slide_type": "slide"
    }
   },
   "source": [
    "# Crecimiento de la población "
   ]
  },
  {
   "cell_type": "markdown",
   "id": "f813c2d9",
   "metadata": {
    "slideshow": {
     "slide_type": "slide"
    }
   },
   "source": [
    "las ecuaciones diferenciales se pueden usar para describir o modelar diversos sistemas físicos. "
   ]
  },
  {
   "cell_type": "markdown",
   "id": "92ef7f88",
   "metadata": {
    "slideshow": {
     "slide_type": "slide"
    }
   },
   "source": [
    "En este problema suponemos que un modelo de crecimiento de la población de una pequeña comunidad está dado por el problema con valores iniciales \n",
    "\n",
    "$$ \\frac{dP}{dt} = 0.15P(t) + 20, \\ \\ \\ \\ P(0) = 100  $$\n",
    "\n",
    "donde $P$ es el número de personas en la comunidad y el tiempo $t$ se mide en años.   "
   ]
  },
  {
   "cell_type": "markdown",
   "id": "a7e3801a",
   "metadata": {
    "slideshow": {
     "slide_type": "slide"
    }
   },
   "source": [
    "¿Qué tan rápido, es decir, con qué razón está aumentando la población en $t = 0$?   "
   ]
  },
  {
   "cell_type": "markdown",
   "id": "80a2195a",
   "metadata": {},
   "source": []
  },
  {
   "cell_type": "markdown",
   "id": "5bb059f7",
   "metadata": {},
   "source": [
    "¿Qué tan rápido está creciendo la población cuando la población es de 500?"
   ]
  },
  {
   "cell_type": "markdown",
   "id": "98b4c452",
   "metadata": {},
   "source": []
  },
  {
   "cell_type": "markdown",
   "id": "d418a292",
   "metadata": {},
   "source": [
    "Ejercicio tomado de la página 35 de Ecuaciones diferenciales de Zill"
   ]
  },
  {
   "cell_type": "markdown",
   "id": "f0a457f5",
   "metadata": {
    "slideshow": {
     "slide_type": "slide"
    }
   },
   "source": [
    "## Resuelva analíticamente el PVI dado"
   ]
  },
  {
   "cell_type": "code",
   "execution_count": null,
   "id": "84b0ce3a",
   "metadata": {
    "slideshow": {
     "slide_type": "slide"
    }
   },
   "outputs": [],
   "source": []
  },
  {
   "cell_type": "markdown",
   "id": "8e1729e5",
   "metadata": {
    "slideshow": {
     "slide_type": "slide"
    }
   },
   "source": [
    "# Verifique analíticamente por sustitución o por diferenciación implícita que la solución obtenida es correcta"
   ]
  },
  {
   "cell_type": "markdown",
   "id": "b1632974",
   "metadata": {
    "slideshow": {
     "slide_type": "slide"
    }
   },
   "source": []
  },
  {
   "cell_type": "markdown",
   "id": "f54590ff",
   "metadata": {
    "slideshow": {
     "slide_type": "slide"
    }
   },
   "source": [
    "# Resuelva y verifique con sympy el PVI"
   ]
  },
  {
   "cell_type": "code",
   "execution_count": 1,
   "id": "d92839db",
   "metadata": {
    "slideshow": {
     "slide_type": "slide"
    }
   },
   "outputs": [],
   "source": [
    "from sympy import var, Function, dsolve"
   ]
  },
  {
   "cell_type": "markdown",
   "id": "8090783f",
   "metadata": {
    "slideshow": {
     "slide_type": "slide"
    }
   },
   "source": [
    "# Grafique la solución general de la ED del PVI utilizando deslizadores de la libería Matplotlib"
   ]
  },
  {
   "cell_type": "code",
   "execution_count": 2,
   "id": "1b86af5d",
   "metadata": {
    "slideshow": {
     "slide_type": "slide"
    }
   },
   "outputs": [],
   "source": [
    "import numpy as np "
   ]
  },
  {
   "cell_type": "markdown",
   "id": "ecda31c6",
   "metadata": {
    "slideshow": {
     "slide_type": "slide"
    }
   },
   "source": [
    "## Redacte por lo menos 4 observaciones sobre los comportamientos de algunas de las soluciones de la ED que hace parte del PVI. "
   ]
  },
  {
   "cell_type": "code",
   "execution_count": null,
   "id": "c599c732",
   "metadata": {},
   "outputs": [],
   "source": []
  },
  {
   "cell_type": "code",
   "execution_count": null,
   "id": "d4e164e6",
   "metadata": {},
   "outputs": [],
   "source": []
  },
  {
   "cell_type": "code",
   "execution_count": null,
   "id": "e3cb28af",
   "metadata": {},
   "outputs": [],
   "source": []
  }
 ],
 "metadata": {
  "celltoolbar": "Slideshow",
  "kernelspec": {
   "display_name": "Python 3 (ipykernel)",
   "language": "python",
   "name": "python3"
  },
  "language_info": {
   "codemirror_mode": {
    "name": "ipython",
    "version": 3
   },
   "file_extension": ".py",
   "mimetype": "text/x-python",
   "name": "python",
   "nbconvert_exporter": "python",
   "pygments_lexer": "ipython3",
   "version": "3.9.12"
  }
 },
 "nbformat": 4,
 "nbformat_minor": 5
}
