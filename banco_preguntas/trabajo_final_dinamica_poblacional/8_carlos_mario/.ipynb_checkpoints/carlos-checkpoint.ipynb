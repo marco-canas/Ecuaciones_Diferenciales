{
 "cells": [
  {
   "cell_type": "markdown",
   "id": "74ef5cf0",
   "metadata": {
    "slideshow": {
     "slide_type": "slide"
    }
   },
   "source": [
    "<table align=\"left\">\n",
    "  <td>\n",
    "    <a href=\"https://colab.research.google.com/github/marco-canas/edo/blob/main/banco_preguntas/parcial_3/parcial_3_14.ipynb\" target=\"_parent\"><img src=\"https://colab.research.google.com/assets/colab-badge.svg\" alt=\"Open In Colab\"/></a>\n",
    "  </td>\n",
    "</table>"
   ]
  },
  {
   "cell_type": "markdown",
   "id": "3f36e01e",
   "metadata": {
    "slideshow": {
     "slide_type": "slide"
    }
   },
   "source": [
    "# Crecimiento de la población "
   ]
  },
  {
   "cell_type": "markdown",
   "id": "6f61a70e",
   "metadata": {
    "slideshow": {
     "slide_type": "slide"
    }
   },
   "source": [
    "las ecuaciones diferenciales se pueden usar para describir o modelar diversos sistemas físicos. "
   ]
  },
  {
   "cell_type": "markdown",
   "id": "62054d7e",
   "metadata": {},
   "source": [
    "En este problema suponemos que un modelo de crecimiento de la población de una pequeña comunidad está dado por el problema con valores iniciales \n",
    "\n",
    "$$ \\frac{dP}{dt} = 0.15P(t) + 20, \\ \\ \\ \\ P(0) = 100  $$\n",
    "\n",
    "donde $P$ es el número de personas en la comunidad y el tiempo $t$ se mide en años.   "
   ]
  },
  {
   "cell_type": "markdown",
   "id": "33b3c050",
   "metadata": {},
   "source": [
    "¿Qué tan rápido, es decir, con qué razón está aumentando la población en $t = 0$?   "
   ]
  },
  {
   "cell_type": "markdown",
   "id": "ba91dc64",
   "metadata": {},
   "source": []
  },
  {
   "cell_type": "markdown",
   "id": "cf844e4e",
   "metadata": {},
   "source": [
    "¿Qué tan rápido está creciendo la población cuando la población es de 500?"
   ]
  },
  {
   "cell_type": "markdown",
   "id": "d30b3f85",
   "metadata": {},
   "source": []
  },
  {
   "cell_type": "markdown",
   "id": "8414bfdc",
   "metadata": {},
   "source": [
    "Ejercicio tomado de la página 35 de Ecuaciones diferenciales de Zill"
   ]
  },
  {
   "cell_type": "markdown",
   "id": "8dcfd7d9",
   "metadata": {},
   "source": [
    "## Resuelva analíticamente el PVI dado"
   ]
  },
  {
   "cell_type": "code",
   "execution_count": null,
   "id": "2f4f6ddd",
   "metadata": {},
   "outputs": [],
   "source": []
  },
  {
   "cell_type": "code",
   "execution_count": null,
   "id": "d5eba859",
   "metadata": {},
   "outputs": [],
   "source": []
  },
  {
   "cell_type": "code",
   "execution_count": null,
   "id": "ee03bcff",
   "metadata": {},
   "outputs": [],
   "source": []
  },
  {
   "cell_type": "code",
   "execution_count": null,
   "id": "ce2fe560",
   "metadata": {},
   "outputs": [],
   "source": []
  },
  {
   "cell_type": "code",
   "execution_count": null,
   "id": "6a77f091",
   "metadata": {},
   "outputs": [],
   "source": []
  },
  {
   "cell_type": "code",
   "execution_count": null,
   "id": "07d111fd",
   "metadata": {},
   "outputs": [],
   "source": []
  },
  {
   "cell_type": "code",
   "execution_count": null,
   "id": "a7cf9b7b",
   "metadata": {},
   "outputs": [],
   "source": []
  },
  {
   "cell_type": "code",
   "execution_count": null,
   "id": "deadef57",
   "metadata": {},
   "outputs": [],
   "source": []
  },
  {
   "cell_type": "code",
   "execution_count": null,
   "id": "c850dd28",
   "metadata": {},
   "outputs": [],
   "source": []
  }
 ],
 "metadata": {
  "celltoolbar": "Slideshow",
  "kernelspec": {
   "display_name": "Python 3 (ipykernel)",
   "language": "python",
   "name": "python3"
  },
  "language_info": {
   "codemirror_mode": {
    "name": "ipython",
    "version": 3
   },
   "file_extension": ".py",
   "mimetype": "text/x-python",
   "name": "python",
   "nbconvert_exporter": "python",
   "pygments_lexer": "ipython3",
   "version": "3.9.12"
  }
 },
 "nbformat": 4,
 "nbformat_minor": 5
}
