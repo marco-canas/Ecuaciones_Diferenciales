{
 "cells": [
  {
   "cell_type": "markdown",
   "id": "b36d0a3f",
   "metadata": {
    "slideshow": {
     "slide_type": "slide"
    }
   },
   "source": [
    "<table align=\"left\">\n",
    "  <td>\n",
    "    <a href=\"https://colab.research.google.com/github/marco-canas/edo/blob/main/banco_preguntas/trabajo_final_dinamica_poblacional/8_carlos_mario/carlos.ipynb\"_parent\"><img src=\"https://colab.research.google.com/assets/colab-badge.svg\" alt=\"Open In Colab\"/></a>\n",
    "  </td>\n",
    "</table>"
   ]
  },
  {
   "cell_type": "markdown",
   "id": "bdbcf84e",
   "metadata": {
    "slideshow": {
     "slide_type": "slide"
    }
   },
   "source": [
    "# Crecimiento de la población "
   ]
  },
  {
   "cell_type": "markdown",
   "id": "f813c2d9",
   "metadata": {
    "slideshow": {
     "slide_type": "slide"
    }
   },
   "source": [
    "las ecuaciones diferenciales se pueden usar para describir o modelar diversos sistemas físicos. "
   ]
  },
  {
   "cell_type": "markdown",
   "id": "92ef7f88",
   "metadata": {
    "slideshow": {
     "slide_type": "slide"
    }
   },
   "source": [
    "En este problema suponemos que un modelo de crecimiento de la población de una pequeña comunidad está dado por el problema con valores iniciales \n",
    "\n",
    "$$ \\frac{dP}{dt} = 0.15P(t) + 20, \\ \\ \\ \\ P(0) = 100  $$\n",
    "\n",
    "donde $P$ es el número de personas en la comunidad y el tiempo $t$ se mide en años.   "
   ]
  },
  {
   "cell_type": "markdown",
   "id": "a7e3801a",
   "metadata": {
    "slideshow": {
     "slide_type": "slide"
    }
   },
   "source": [
    "¿Qué tan rápido, es decir, con qué razón está aumentando la población en $t = 0$?   "
   ]
  },
  {
   "cell_type": "markdown",
   "id": "80a2195a",
   "metadata": {
    "slideshow": {
     "slide_type": "slide"
    }
   },
   "source": [
    "## Solución a esta primera pregunta"
   ]
  },
  {
   "cell_type": "markdown",
   "id": "eefa7107",
   "metadata": {
    "slideshow": {
     "slide_type": "slide"
    }
   },
   "source": [
    "Como \n",
    "\n",
    "$$ \\frac{dP}{dt}(t) = 0.15P(t) + 20 $$\n",
    "\n",
    "entonces \n",
    "\n",
    "$$ \\frac{dP}{dt}(0) = 0.15P(0) + 20  = 0.15(100) + 20 = 15+20 = 35$$\n",
    "\n",
    "Porlo tanto, la razón de aumento de la población en $t = 0$ es de 35 personas por año. \n"
   ]
  },
  {
   "cell_type": "code",
   "execution_count": null,
   "id": "89bd8fd3",
   "metadata": {
    "slideshow": {
     "slide_type": "slide"
    }
   },
   "outputs": [],
   "source": [
    "def razon_de_cambio_P(t):\n",
    "    return 0.15*P(t) + 20 "
   ]
  },
  {
   "cell_type": "code",
   "execution_count": 6,
   "id": "8bbdf540",
   "metadata": {
    "slideshow": {
     "slide_type": "slide"
    }
   },
   "outputs": [],
   "source": [
    "import numpy as np \n",
    "from sympy import var, Function, Eq, diff, classify_ode, dsolve, solvers, checkodesol \n",
    "t,P = var('t P') \n",
    "P = Function('P')\n",
    "edo = Eq(diff(P(t),t) - 0.15*P(t) - 20, 0) "
   ]
  },
  {
   "cell_type": "code",
   "execution_count": 4,
   "id": "68bcbdf0",
   "metadata": {
    "slideshow": {
     "slide_type": "slide"
    }
   },
   "outputs": [
    {
     "data": {
      "text/latex": [
       "$\\displaystyle P{\\left(t \\right)} = C_{1} e^{0.15 t} - 133.333333333333$"
      ],
      "text/plain": [
       "Eq(P(t), C1*exp(0.15*t) - 133.333333333333)"
      ]
     },
     "execution_count": 4,
     "metadata": {},
     "output_type": "execute_result"
    }
   ],
   "source": [
    "dsolve(edo, P(t))"
   ]
  },
  {
   "cell_type": "code",
   "execution_count": 7,
   "id": "ddb06e5a",
   "metadata": {
    "slideshow": {
     "slide_type": "slide"
    }
   },
   "outputs": [],
   "source": [
    "def P(t,C1):\n",
    "    return C1*np.exp(0.15*t) - 133 - 1/3"
   ]
  },
  {
   "cell_type": "code",
   "execution_count": null,
   "id": "dcd7f3c0",
   "metadata": {
    "slideshow": {
     "slide_type": "slide"
    }
   },
   "outputs": [],
   "source": []
  },
  {
   "cell_type": "markdown",
   "id": "5bb059f7",
   "metadata": {
    "slideshow": {
     "slide_type": "slide"
    }
   },
   "source": [
    "¿Qué tan rápido está creciendo la población cuando la población es de 500?"
   ]
  },
  {
   "cell_type": "markdown",
   "id": "98b4c452",
   "metadata": {
    "slideshow": {
     "slide_type": "slide"
    }
   },
   "source": [
    "## Solución al la segunda pregunta"
   ]
  },
  {
   "cell_type": "markdown",
   "id": "36721112",
   "metadata": {
    "slideshow": {
     "slide_type": "slide"
    }
   },
   "source": []
  },
  {
   "cell_type": "code",
   "execution_count": null,
   "id": "0050f6de",
   "metadata": {},
   "outputs": [],
   "source": []
  },
  {
   "cell_type": "markdown",
   "id": "d418a292",
   "metadata": {
    "slideshow": {
     "slide_type": "slide"
    }
   },
   "source": [
    "Ejercicio tomado de la página 35 de Ecuaciones diferenciales de Zill"
   ]
  },
  {
   "cell_type": "markdown",
   "id": "f0a457f5",
   "metadata": {
    "slideshow": {
     "slide_type": "slide"
    }
   },
   "source": [
    "## Resuelva analíticamente el PVI dado"
   ]
  },
  {
   "cell_type": "code",
   "execution_count": null,
   "id": "84b0ce3a",
   "metadata": {
    "slideshow": {
     "slide_type": "slide"
    }
   },
   "outputs": [],
   "source": []
  },
  {
   "cell_type": "markdown",
   "id": "8e1729e5",
   "metadata": {
    "slideshow": {
     "slide_type": "slide"
    }
   },
   "source": [
    "# Verifique analíticamente por sustitución o por diferenciación implícita que la solución obtenida es correcta"
   ]
  },
  {
   "cell_type": "markdown",
   "id": "e4cad5a9",
   "metadata": {
    "slideshow": {
     "slide_type": "slide"
    }
   },
   "source": []
  },
  {
   "cell_type": "markdown",
   "id": "f54590ff",
   "metadata": {
    "slideshow": {
     "slide_type": "slide"
    }
   },
   "source": [
    "# Resuelva y verifique con sympy el PVI"
   ]
  },
  {
   "cell_type": "code",
   "execution_count": null,
   "id": "d92839db",
   "metadata": {
    "slideshow": {
     "slide_type": "slide"
    }
   },
   "outputs": [],
   "source": [
    "from sympy import var, Function, Eq, checkodesol, solvers, dsolve"
   ]
  },
  {
   "cell_type": "markdown",
   "id": "8090783f",
   "metadata": {
    "slideshow": {
     "slide_type": "slide"
    }
   },
   "source": [
    "# Grafique la solución general de la ED del PVI utilizando deslizadores de la libería Matplotlib"
   ]
  },
  {
   "cell_type": "code",
   "execution_count": null,
   "id": "1b86af5d",
   "metadata": {
    "slideshow": {
     "slide_type": "slide"
    }
   },
   "outputs": [],
   "source": [
    "import numpy as np \n",
    "import matplotlib.pyplot as plt \n",
    "from ipywidgets import interact \n",
    "\n",
    "\n"
   ]
  },
  {
   "cell_type": "markdown",
   "id": "ecda31c6",
   "metadata": {
    "slideshow": {
     "slide_type": "slide"
    }
   },
   "source": [
    "## Redacte por lo menos 4 observaciones sobre los comportamientos de algunas de las soluciones de la ED que hace parte del PVI. "
   ]
  },
  {
   "cell_type": "code",
   "execution_count": null,
   "id": "c599c732",
   "metadata": {
    "slideshow": {
     "slide_type": "slide"
    }
   },
   "outputs": [],
   "source": []
  },
  {
   "cell_type": "markdown",
   "id": "b6de154b",
   "metadata": {
    "slideshow": {
     "slide_type": "slide"
    }
   },
   "source": [
    "## Expone de manera clara, correcta y fluida la situación problemática y su solución. "
   ]
  },
  {
   "cell_type": "code",
   "execution_count": null,
   "id": "e3cb28af",
   "metadata": {},
   "outputs": [],
   "source": []
  }
 ],
 "metadata": {
  "celltoolbar": "Slideshow",
  "kernelspec": {
   "display_name": "Python 3 (ipykernel)",
   "language": "python",
   "name": "python3"
  },
  "language_info": {
   "codemirror_mode": {
    "name": "ipython",
    "version": 3
   },
   "file_extension": ".py",
   "mimetype": "text/x-python",
   "name": "python",
   "nbconvert_exporter": "python",
   "pygments_lexer": "ipython3",
   "version": "3.9.12"
  }
 },
 "nbformat": 4,
 "nbformat_minor": 5
}
