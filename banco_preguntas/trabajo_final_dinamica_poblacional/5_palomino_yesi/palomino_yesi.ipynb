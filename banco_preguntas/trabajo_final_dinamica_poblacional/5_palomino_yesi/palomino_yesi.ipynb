{
 "cells": [
  {
   "cell_type": "markdown",
   "id": "61c80fa0",
   "metadata": {
    "slideshow": {
     "slide_type": "slide"
    }
   },
   "source": [
    "<table align=\"left\">\n",
    "  <td>\n",
    "    <a href=\"https://colab.research.google.com/github/marco-canas/edo/blob/main/banco_preguntas/trabajo_final_dinamica_poblacional/5_palomino_yesi/palomino_yesi.ipynb\" target=\"_parent\"><img src=\"https://colab.research.google.com/assets/colab-badge.svg\" alt=\"Open In Colab\"/></a>\n",
    "  </td>\n",
    "</table>"
   ]
  },
  {
   "cell_type": "markdown",
   "id": "c7be79b8",
   "metadata": {
    "slideshow": {
     "slide_type": "slide"
    }
   },
   "source": [
    "# Describa la situación agregándole imágenes ilustrativas. \n",
    "Deje claro cual es el problema a resolver. "
   ]
  },
  {
   "cell_type": "markdown",
   "id": "212862b7",
   "metadata": {
    "slideshow": {
     "slide_type": "slide"
    }
   },
   "source": [
    "# Crecimiento de bacterias"
   ]
  },
  {
   "cell_type": "markdown",
   "id": "efc1bbc1",
   "metadata": {
    "slideshow": {
     "slide_type": "slide"
    }
   },
   "source": [
    "En el tiempo $t = 0$, un cultivo bacteriano pesa 1 gramo.   \n",
    "Dos horas después, el cultivo pesa 4 gramos.  \n",
    "El peso máximo del cultivo es de 20 gramos.  \n",
    "\n",
    " a) Escribir una ecuación logística que modele el peso del cultivo bacteriano.  \n",
    " \n",
    " b) Encontrar el peso del cultivo después de 5 horas.  \n",
    " \n",
    " c) ¿Cuándo el peso del cultivo será de 18 gramos?  \n",
    " \n",
    " d) Escribir una ecuación diferencial logística que modele la razón de crecimiento del peso del cultivo. Entonces repetir \n",
    "el inciso b) mediante el método de Euler con un tamaño de  paso de h \u0015 1. Comparar la aproximación con los resultados\n",
    "exactos.  \n",
    "\n",
    " e) ¿En qué tiempo se incrementará el peso más rápidamente? Explicar."
   ]
  },
  {
   "cell_type": "markdown",
   "id": "85bd1056",
   "metadata": {
    "slideshow": {
     "slide_type": "slide"
    }
   },
   "source": [
    "## Recuerde que la ecuación logística es:\n",
    "\n",
    "$$ \\frac{dy}{dt} = ky \\left( 1 - \\frac{y}{L} \\right) $$\n",
    "\n",
    "donde $k$ y $L$ son constantes positivas.  "
   ]
  },
  {
   "cell_type": "markdown",
   "id": "0d34b94c",
   "metadata": {
    "slideshow": {
     "slide_type": "slide"
    }
   },
   "source": [
    " \n",
    "Una población que satisface esta ecuación no crece sin límite, pero se aproxima a la cantidad límite o de soporte $L$ al aumentar $t$. "
   ]
  },
  {
   "cell_type": "markdown",
   "id": "60546003",
   "metadata": {
    "slideshow": {
     "slide_type": "slide"
    }
   },
   "source": [
    "## Realizar una lectura o interpretación de la ED y de la condición inicial"
   ]
  },
  {
   "cell_type": "markdown",
   "id": "a8748c7f",
   "metadata": {
    "slideshow": {
     "slide_type": "slide"
    }
   },
   "source": [
    "$$ \\frac{dw}{dt} = kw\\left(1 - \\frac{w}{20} \\right), \\ \\ \\ \\ \\ \\ w(0) = 1, \\ \\ \\ \\ \\ w(2) = 4, \\ \\ w(5) = ??? $$\n",
    "\n",
    "don de el tiempo está en horas. "
   ]
  },
  {
   "cell_type": "markdown",
   "id": "504df5a2",
   "metadata": {
    "slideshow": {
     "slide_type": "slide"
    }
   },
   "source": [
    "Suponiendo que $w < 20$, entonces $\\frac{w}{20} < 1$, de donde $0 < 1 - \\frac{w}{20}$, es decir, este factor es positivo y decreciente a cero. "
   ]
  },
  {
   "cell_type": "markdown",
   "id": "1746afb0",
   "metadata": {
    "slideshow": {
     "slide_type": "slide"
    }
   },
   "source": [
    "## Clasifica la ED justificando su proceso de clasificación"
   ]
  },
  {
   "cell_type": "markdown",
   "id": "7fe166bd",
   "metadata": {
    "slideshow": {
     "slide_type": "slide"
    }
   },
   "source": [
    "Como la ecuación dada es de la forma $w' = f(w)g(t)$, \n",
    "\n",
    "con $f(w) = w\\left( 1 - \\frac{w(t)}{L} \\right)$ y $g(t) = k$, entonces la ED dada es separable. "
   ]
  },
  {
   "cell_type": "markdown",
   "id": "e7430df7",
   "metadata": {
    "slideshow": {
     "slide_type": "slide"
    }
   },
   "source": [
    "## Realice la solución analítica y describala con fluidez \n",
    "\n",
    "Una línea del cuaderno por paso descrito verbalmente, simbólicamente y justificado verbalmente. "
   ]
  },
  {
   "cell_type": "markdown",
   "id": "c3c1cda6",
   "metadata": {
    "slideshow": {
     "slide_type": "slide"
    }
   },
   "source": [
    "$$ \\frac{dw}{dt} = kw\\left(1- \\frac{w}{20} \\right), \\ \\ \\ \\ \\ \\  w(0) = 1 $$"
   ]
  },
  {
   "cell_type": "markdown",
   "id": "5d95b4fc",
   "metadata": {
    "slideshow": {
     "slide_type": "slide"
    }
   },
   "source": [
    "Empecemos sepando las variables: \n",
    "$$ \\frac{dw}{w\\left( 1- \\frac{w}{20}  \\right)} = kdt $$"
   ]
  },
  {
   "cell_type": "markdown",
   "id": "21b7b0e9",
   "metadata": {
    "slideshow": {
     "slide_type": "slide"
    }
   },
   "source": [
    "sumando y dividiendo fracciones obtenemos: \n",
    "\n",
    "$$ \\frac{20}{w(20-w)}dw = kdt $$"
   ]
  },
  {
   "cell_type": "markdown",
   "id": "eb77eb28",
   "metadata": {
    "slideshow": {
     "slide_type": "slide"
    }
   },
   "source": [
    "y ahora que separamos integremos cada lado: \n",
    "\n",
    "$$ \\int \\frac{20}{w(20-w)}dw = \\int kdt $$"
   ]
  },
  {
   "cell_type": "markdown",
   "id": "ef73406e",
   "metadata": {
    "slideshow": {
     "slide_type": "slide"
    }
   },
   "source": [
    "$$ \\int \\frac{20}{w(20-w)}dw = \\int kdt $$"
   ]
  },
  {
   "cell_type": "markdown",
   "id": "e0b11376",
   "metadata": {
    "slideshow": {
     "slide_type": "slide"
    }
   },
   "source": [
    "Note que el integrando del lado izquierdo es una fracción propia, donde los factores del denominador son lineales no repetidos, por tanto esa fracción se descompone así:\n",
    "\n",
    "\n",
    "$$  \\int \\left( \\frac{A}{w} + \\frac{B}{20-w} \\right) = \\int kdt $$"
   ]
  },
  {
   "cell_type": "markdown",
   "id": "8bbfed1a",
   "metadata": {
    "slideshow": {
     "slide_type": "slide"
    }
   },
   "source": [
    "Para determinar a $A$ y a $B$ planteamos la siguiente igualdad:\n",
    "\n",
    "$$ \\frac{20}{w(20-w)}  =  \\frac{A}{w} + \\frac{B}{20-w}  $$\n"
   ]
  },
  {
   "cell_type": "markdown",
   "id": "8a9a5d83",
   "metadata": {
    "slideshow": {
     "slide_type": "slide"
    }
   },
   "source": [
    "$$ \\frac{1}{w(20-w)}  = \\frac{A(20 - w) + Bw}{w(20-w)} $$"
   ]
  },
  {
   "cell_type": "markdown",
   "id": "6e860690",
   "metadata": {
    "slideshow": {
     "slide_type": "slide"
    }
   },
   "source": [
    "Pasemos el denominador del lado derecho a multiplicar al lado izquierdo:\n",
    "\n",
    "$$ \\frac{w(20-w)}{w(20-w)}  = A(20 - w) + Bw $$"
   ]
  },
  {
   "cell_type": "markdown",
   "id": "fd5064bb",
   "metadata": {
    "slideshow": {
     "slide_type": "slide"
    }
   },
   "source": [
    "$$ 1 = A(20 - w) + Bw  $$"
   ]
  },
  {
   "cell_type": "markdown",
   "id": "b131c23d",
   "metadata": {
    "slideshow": {
     "slide_type": "slide"
    }
   },
   "source": [
    "Si hago $w = 0$, podemos hallar a $A$:\n",
    "\n",
    "$$ 1 = A(20 - 0) + B(0) \\: \\: \\: \\Rightarrow \\ \\ \\ A = \\frac{1}{20} = B$$\n"
   ]
  },
  {
   "cell_type": "markdown",
   "id": "5a62eb0c",
   "metadata": {
    "slideshow": {
     "slide_type": "slide"
    }
   },
   "source": [
    "Volviendo a la ecuación integral obtenemos:\n",
    "\n",
    "\n",
    "$$ \\int \\left( \\frac{1}{w} + \\frac{1}{20-w} \\right)dw = \\int kdt $$"
   ]
  },
  {
   "cell_type": "markdown",
   "id": "b3ed94d8",
   "metadata": {
    "slideshow": {
     "slide_type": "slide"
    }
   },
   "source": [
    "$$ \\int \\frac{dw}{w} + \\int \\frac{dw}{20-w} = kt + C_{1} $$"
   ]
  },
  {
   "cell_type": "markdown",
   "id": "f06cc7a9",
   "metadata": {
    "slideshow": {
     "slide_type": "slide"
    }
   },
   "source": [
    "$$ \\ln w - \\ln (20 - w ) = kt + C_{1} $$"
   ]
  },
  {
   "cell_type": "markdown",
   "id": "ce14925a",
   "metadata": {
    "slideshow": {
     "slide_type": "slide"
    }
   },
   "source": [
    "$$ \\ln \\left( \\frac{w}{20-w} \\right) = kt + C_{1} $$"
   ]
  },
  {
   "cell_type": "markdown",
   "id": "65ddeb91",
   "metadata": {
    "slideshow": {
     "slide_type": "slide"
    }
   },
   "source": [
    "$$ \\frac{w}{20-w} = e^{kt + C_{1}} $$"
   ]
  },
  {
   "cell_type": "markdown",
   "id": "ac0538aa",
   "metadata": {
    "slideshow": {
     "slide_type": "slide"
    }
   },
   "source": [
    "$$ w = e^{kt + C_{1}}(20 - w) = e^{kt}e^{C_{1}}(20-w)$$"
   ]
  },
  {
   "cell_type": "markdown",
   "id": "c39ebd4d",
   "metadata": {
    "slideshow": {
     "slide_type": "slide"
    }
   },
   "source": [
    "$$ w = C_{2}e^{kt}(20 - w) $$"
   ]
  },
  {
   "cell_type": "markdown",
   "id": "1c7c3a5d",
   "metadata": {
    "slideshow": {
     "slide_type": "slide"
    }
   },
   "source": [
    "$$ w = 20C_{2}e^{kt} - C_{2}we^{kt} $$"
   ]
  },
  {
   "cell_type": "markdown",
   "id": "1e77f532",
   "metadata": {
    "slideshow": {
     "slide_type": "slide"
    }
   },
   "source": [
    "$$ w + C_{2}we^{kt} = 20C_{2}e^{kt} $$"
   ]
  },
  {
   "cell_type": "markdown",
   "id": "9cf155fe",
   "metadata": {
    "slideshow": {
     "slide_type": "slide"
    }
   },
   "source": [
    "$$ w = \\frac{20C_{2}e^{kt}}{1 + C_{2}e^{kt}} $$"
   ]
  },
  {
   "cell_type": "markdown",
   "id": "a1b43990",
   "metadata": {
    "slideshow": {
     "slide_type": "slide"
    }
   },
   "source": [
    "dividamos numerador y denominador por $C_{2}e^{kt}$:\n",
    "\n",
    "$$ w = \\frac{20}{\\frac{1}{C_{2}e^{kt}} + 1} $$"
   ]
  },
  {
   "cell_type": "markdown",
   "id": "d6e7f086",
   "metadata": {
    "slideshow": {
     "slide_type": "slide"
    }
   },
   "source": [
    "## Solución general explícita "
   ]
  },
  {
   "cell_type": "markdown",
   "id": "0fda8557",
   "metadata": {
    "slideshow": {
     "slide_type": "slide"
    }
   },
   "source": [
    "Luego, la solución general explícita es:  \n",
    "\n",
    "$$ w = \\frac{20}{C_{3}e^{-kt} + 1} $$"
   ]
  },
  {
   "cell_type": "code",
   "execution_count": 6,
   "id": "74252a6f",
   "metadata": {
    "slideshow": {
     "slide_type": "slide"
    }
   },
   "outputs": [],
   "source": [
    "def sol_gen(t,c,k):\n",
    "    return 20/(c*np.exp(-k*t)+1) "
   ]
  },
  {
   "cell_type": "markdown",
   "id": "dcf6ed7e",
   "metadata": {
    "slideshow": {
     "slide_type": "slide"
    }
   },
   "source": [
    "Sustituimos la condición inicial $p(0) = 1$ para determinar $C_{3}$:\n",
    "\n",
    "$$ 1 = \\frac{20}{C_{3} + 1} $$\n"
   ]
  },
  {
   "cell_type": "markdown",
   "id": "2cf80b37",
   "metadata": {
    "slideshow": {
     "slide_type": "slide"
    }
   },
   "source": [
    "$$ C_{3} = 19 $$"
   ]
  },
  {
   "cell_type": "markdown",
   "id": "29bba084",
   "metadata": {
    "slideshow": {
     "slide_type": "slide"
    }
   },
   "source": [
    "Y así la solución del PVI es \n",
    "\n",
    "$$ w = \\frac{20}{19e^{-kt} + 1} $$"
   ]
  },
  {
   "cell_type": "markdown",
   "id": "78d2c2fd",
   "metadata": {
    "slideshow": {
     "slide_type": "slide"
    }
   },
   "source": [
    "Pero todavía no tenemos la constante de proporcionalidad $k$. Y para determinarla sustituimos la segunda condición $p(2) = 4$:\n",
    "\n",
    "$$ 4 = \\frac{20}{19e^{-2k} + 1} $$\n"
   ]
  },
  {
   "cell_type": "markdown",
   "id": "400a8976",
   "metadata": {
    "slideshow": {
     "slide_type": "slide"
    }
   },
   "source": [
    "$$ 4(19e^{-2k} + 1) = 20 $$"
   ]
  },
  {
   "cell_type": "markdown",
   "id": "cc48bdcb",
   "metadata": {
    "slideshow": {
     "slide_type": "slide"
    }
   },
   "source": [
    "$$ 76e^{-2k} + 4 = 20 $$"
   ]
  },
  {
   "cell_type": "markdown",
   "id": "98cf90a1",
   "metadata": {
    "slideshow": {
     "slide_type": "slide"
    }
   },
   "source": [
    "$$ 76e^{-2k} = 20 - 4 = 16 $$"
   ]
  },
  {
   "cell_type": "markdown",
   "id": "15bc1d92",
   "metadata": {
    "slideshow": {
     "slide_type": "slide"
    }
   },
   "source": [
    "$$ e^{-2k} = \\frac{16}{76} $$"
   ]
  },
  {
   "cell_type": "markdown",
   "id": "d3a8a2b2",
   "metadata": {
    "slideshow": {
     "slide_type": "slide"
    }
   },
   "source": [
    "$$ -2k = \\ln \\left( \\frac{16}{76} \\right) $$"
   ]
  },
  {
   "cell_type": "markdown",
   "id": "9790afd2",
   "metadata": {
    "slideshow": {
     "slide_type": "slide"
    }
   },
   "source": [
    "$$ -2k = \\ln \\frac{8}{38} $$"
   ]
  },
  {
   "cell_type": "markdown",
   "id": "77fb4053",
   "metadata": {
    "slideshow": {
     "slide_type": "slide"
    }
   },
   "source": [
    "$$ -2k = \\ln \\frac{4}{19} $$"
   ]
  },
  {
   "cell_type": "markdown",
   "id": "19993f41",
   "metadata": {
    "slideshow": {
     "slide_type": "slide"
    }
   },
   "source": [
    "$$ k = \\frac{\\ln(4/19)}{-2} $$"
   ]
  },
  {
   "cell_type": "markdown",
   "id": "5e38fa3d",
   "metadata": {
    "slideshow": {
     "slide_type": "slide"
    }
   },
   "source": [
    "Por lo tanto, la ecuación logística que satisface la ED y las dos condiciones iniciales es:\n",
    "\n",
    "$$ w(t) = \\frac{20}{19e^{\\frac{\\ln(4/19)}{2}t} + 1} $$\n"
   ]
  },
  {
   "cell_type": "code",
   "execution_count": 3,
   "id": "269743cc",
   "metadata": {
    "slideshow": {
     "slide_type": "slide"
    }
   },
   "outputs": [
    {
     "data": {
      "text/plain": [
       "-0.78"
      ]
     },
     "execution_count": 3,
     "metadata": {},
     "output_type": "execute_result"
    }
   ],
   "source": [
    "import numpy as np \n",
    "k = np.log(4/19)/2 \n",
    "round(k,2) "
   ]
  },
  {
   "cell_type": "markdown",
   "id": "733d9cb8",
   "metadata": {
    "slideshow": {
     "slide_type": "slide"
    }
   },
   "source": [
    "$$ w(t) = \\frac{20}{19e^{-0.78t} + 1} $$"
   ]
  },
  {
   "cell_type": "markdown",
   "id": "ca8d70a8",
   "metadata": {
    "slideshow": {
     "slide_type": "slide"
    }
   },
   "source": [
    "# Realice la solución con SymPy del PVI y verifique la solución obtenida también con Sympy"
   ]
  },
  {
   "cell_type": "code",
   "execution_count": 3,
   "id": "e8b97d90",
   "metadata": {
    "slideshow": {
     "slide_type": "slide"
    }
   },
   "outputs": [],
   "source": [
    "from sympy import var, Function, Eq, diff, classify_ode, solve, dsolve,  checkodesol"
   ]
  },
  {
   "cell_type": "code",
   "execution_count": 11,
   "id": "082c5734",
   "metadata": {
    "slideshow": {
     "slide_type": "slide"
    }
   },
   "outputs": [],
   "source": [
    "t,w, k = var('t w k') "
   ]
  },
  {
   "cell_type": "code",
   "execution_count": 12,
   "id": "687de8e8",
   "metadata": {
    "slideshow": {
     "slide_type": "slide"
    }
   },
   "outputs": [],
   "source": [
    "w = Function('w')"
   ]
  },
  {
   "cell_type": "code",
   "execution_count": 13,
   "id": "a212a2fa",
   "metadata": {
    "slideshow": {
     "slide_type": "slide"
    }
   },
   "outputs": [
    {
     "data": {
      "text/latex": [
       "$\\displaystyle \\frac{d}{d t} w{\\left(t \\right)} = k \\left(1 - \\frac{w{\\left(t \\right)}}{20}\\right) w{\\left(t \\right)}$"
      ],
      "text/plain": [
       "Eq(Derivative(w(t), t), k*(1 - w(t)/20)*w(t))"
      ]
     },
     "execution_count": 13,
     "metadata": {},
     "output_type": "execute_result"
    }
   ],
   "source": [
    "ecuacion = Eq(diff(w(t), t),k*w(t)*(1-w(t)/20) )\n",
    "ecuacion "
   ]
  },
  {
   "cell_type": "code",
   "execution_count": 14,
   "id": "7f6cac10",
   "metadata": {
    "scrolled": true,
    "slideshow": {
     "slide_type": "slide"
    }
   },
   "outputs": [
    {
     "data": {
      "text/plain": [
       "('factorable',\n",
       " 'separable',\n",
       " '1st_exact',\n",
       " 'Bernoulli',\n",
       " '1st_rational_riccati',\n",
       " '1st_power_series',\n",
       " 'lie_group',\n",
       " 'separable_Integral',\n",
       " '1st_exact_Integral',\n",
       " 'Bernoulli_Integral')"
      ]
     },
     "execution_count": 14,
     "metadata": {},
     "output_type": "execute_result"
    }
   ],
   "source": [
    "classify_ode(ecuacion, w(t))"
   ]
  },
  {
   "cell_type": "code",
   "execution_count": 15,
   "id": "c815a825",
   "metadata": {
    "slideshow": {
     "slide_type": "slide"
    }
   },
   "outputs": [
    {
     "data": {
      "text/latex": [
       "$\\displaystyle w{\\left(t \\right)} = \\frac{20}{C_{1} e^{- k t} + 1}$"
      ],
      "text/plain": [
       "Eq(w(t), 20/(C1*exp(-k*t) + 1))"
      ]
     },
     "execution_count": 15,
     "metadata": {},
     "output_type": "execute_result"
    }
   ],
   "source": [
    "sol_gen = dsolve(ecuacion, w(t), hint = 'separable')\n",
    "sol_gen "
   ]
  },
  {
   "cell_type": "code",
   "execution_count": 16,
   "id": "726714c5",
   "metadata": {
    "slideshow": {
     "slide_type": "slide"
    }
   },
   "outputs": [
    {
     "data": {
      "text/latex": [
       "$\\displaystyle w{\\left(t \\right)} = \\frac{20}{1 + 19 e^{- k t}}$"
      ],
      "text/plain": [
       "Eq(w(t), 20/(1 + 19*exp(-k*t)))"
      ]
     },
     "execution_count": 16,
     "metadata": {},
     "output_type": "execute_result"
    }
   ],
   "source": [
    "sol_pvi = dsolve(ecuacion, w(t), hint = 'separable', ics = {sol_gen.lhs.subs(t,0): 1})\n",
    "sol_pvi "
   ]
  },
  {
   "cell_type": "markdown",
   "id": "2a2e46e6",
   "metadata": {
    "slideshow": {
     "slide_type": "subslide"
    }
   },
   "source": [
    "## Determine $k$ utilizando la segunda condición del problema, es decir, utilizando que cuando $t = 2$, $w = 4$"
   ]
  },
  {
   "cell_type": "code",
   "execution_count": 17,
   "id": "355be5b7",
   "metadata": {
    "slideshow": {
     "slide_type": "slide"
    }
   },
   "outputs": [
    {
     "data": {
      "text/plain": [
       "[-log(2) + log(19)/2, -log(2) + log(19)/2 + I*pi]"
      ]
     },
     "execution_count": 17,
     "metadata": {},
     "output_type": "execute_result"
    }
   ],
   "source": [
    "solve(Eq(sol_pvi.lhs.subs(t,2).subs(w(2), 4), sol_pvi.rhs.subs(t, 2) ), k)"
   ]
  },
  {
   "cell_type": "markdown",
   "id": "bfd93233",
   "metadata": {
    "slideshow": {
     "slide_type": "slide"
    }
   },
   "source": [
    " $$ k = \\ln \\frac{\\sqrt{19}}{2} $$ "
   ]
  },
  {
   "cell_type": "code",
   "execution_count": 3,
   "id": "dababd9e",
   "metadata": {
    "slideshow": {
     "slide_type": "slide"
    }
   },
   "outputs": [
    {
     "data": {
      "text/plain": [
       "0.78"
      ]
     },
     "execution_count": 3,
     "metadata": {},
     "output_type": "execute_result"
    }
   ],
   "source": [
    "import numpy as np \n",
    "k = np.log(np.sqrt(19)/2)\n",
    "round(k,2)  "
   ]
  },
  {
   "cell_type": "markdown",
   "id": "0b405449",
   "metadata": {
    "slideshow": {
     "slide_type": "slide"
    }
   },
   "source": [
    "Por lo tanto, hemos encontrado con Sympy, la misma solución que con el método analítico aplicado que fue bastante largo y dispendioso. "
   ]
  },
  {
   "cell_type": "markdown",
   "id": "10949bbe",
   "metadata": {
    "slideshow": {
     "slide_type": "slide"
    }
   },
   "source": [
    "## Grafique con matplotlib la solución general de la ED que hace parte de su PVI con deslizadores \n",
    "\n",
    "La gráfica de la solución general la debe hacer incluyendo el deslizador para el parámetro $C_{1}$ y un deslizador para el parámetro $k$(constante de proporcionalidad). \n"
   ]
  },
  {
   "cell_type": "code",
   "execution_count": 4,
   "id": "a9ffa130",
   "metadata": {
    "slideshow": {
     "slide_type": "slide"
    }
   },
   "outputs": [],
   "source": [
    "import numpy as np \n",
    "def w(t, k = np.log(np.sqrt(19)/2)):\n",
    "    return 20/(1 + 19*np.exp(-k*t))"
   ]
  },
  {
   "cell_type": "code",
   "execution_count": 6,
   "id": "310a50d5",
   "metadata": {
    "slideshow": {
     "slide_type": "slide"
    }
   },
   "outputs": [
    {
     "data": {
      "text/plain": [
       "14.43"
      ]
     },
     "execution_count": 6,
     "metadata": {},
     "output_type": "execute_result"
    }
   ],
   "source": [
    "round(w(5),2)"
   ]
  },
  {
   "cell_type": "markdown",
   "id": "71830014",
   "metadata": {
    "slideshow": {
     "slide_type": "slide"
    }
   },
   "source": [
    "## Gráfico animado de la solución general de la ED con los deslizadores para los parámetros $C_{1}$ y $k$"
   ]
  },
  {
   "cell_type": "code",
   "execution_count": 21,
   "id": "a2a62a80",
   "metadata": {
    "scrolled": true,
    "slideshow": {
     "slide_type": "slide"
    }
   },
   "outputs": [
    {
     "data": {
      "application/vnd.jupyter.widget-view+json": {
       "model_id": "1878518959034083b5d6fc9125d0358b",
       "version_major": 2,
       "version_minor": 0
      },
      "text/plain": [
       "interactive(children=(IntSlider(value=19, description='c', max=20, min=1), FloatSlider(value=0.78, description…"
      ]
     },
     "metadata": {},
     "output_type": "display_data"
    }
   ],
   "source": [
    "import numpy as np \n",
    "import matplotlib.pyplot as plt \n",
    "from ipywidgets import interact\n",
    "\n",
    "def sol_Gen(t,c,k):\n",
    "    return 20/(c*np.exp(-k*t)+1) \n",
    "\n",
    "def grafica_sol_gen(c=19, k=0.78):\n",
    "    fig,ax = plt.subplots(figsize = (8,7))\n",
    "    ax.set(title = 'Solución general de la ED del PVI',\\\n",
    "       xlabel = r'tiempo $t$', ylabel = r'peso $w$')\n",
    "    dominio = np.arange(0,30, 0.1)\n",
    "    rango = [sol_Gen(t, k = k, c = c) for t in dominio]\n",
    "    ax.plot(dominio, rango)\n",
    "    # dimensiones del rectángulo de visualización\n",
    "    \n",
    "    ax.axis([np.min(dominio)-1, np.max(dominio)+1, np.min(rango)-1,\\\n",
    "             np.max(rango)+1])\n",
    "    ax.grid(alpha = 0.4)\n",
    "    plt.yticks(np.arange(1,22))\n",
    "    \n",
    "interact(grafica_sol_gen, c = (1,20), k = (0,1,0.01))    \n",
    "plt.show() "
   ]
  },
  {
   "cell_type": "markdown",
   "id": "06f449b9",
   "metadata": {
    "slideshow": {
     "slide_type": "slide"
    }
   },
   "source": [
    "## Observaciones he inferencias del gráfico de la solución general"
   ]
  },
  {
   "cell_type": "markdown",
   "id": "6b59405e",
   "metadata": {
    "slideshow": {
     "slide_type": "slide"
    }
   },
   "source": [
    "1. Los valores de $k$ pequeños hacen que el tiempo en alcanzar el peso máximo sea mayor.  \n",
    "2.  \n",
    "3.  \n",
    "4.  \n",
    "5.  "
   ]
  },
  {
   "cell_type": "markdown",
   "id": "cf9ab183",
   "metadata": {
    "slideshow": {
     "slide_type": "slide"
    }
   },
   "source": [
    "# Gráfica de la solución del PVI"
   ]
  },
  {
   "cell_type": "markdown",
   "id": "856cece4",
   "metadata": {
    "slideshow": {
     "slide_type": "slide"
    }
   },
   "source": [
    "## Observaciones e inferencias del gráfico"
   ]
  },
  {
   "cell_type": "code",
   "execution_count": 15,
   "id": "d06c59d9",
   "metadata": {
    "slideshow": {
     "slide_type": "slide"
    }
   },
   "outputs": [
    {
     "data": {
      "image/png": "[encoded data removed]",
      "text/plain": [
       "<Figure size 432x288 with 1 Axes>"
      ]
     },
     "metadata": {
      "needs_background": "light"
     },
     "output_type": "display_data"
    }
   ],
   "source": [
    "import numpy as np \n",
    "import matplotlib.pyplot as plt \n",
    "\n",
    "a,b = 0, 19\n",
    "k = np.log(np.sqrt(19)/2)\n",
    "\n",
    "fig,ax = plt.subplots()\n",
    "dominio = np.linspace(a,b, 200)\n",
    "rango = [w(t) for t in dominio]\n",
    "ax.plot(dominio, rango)   \n",
    "ax.grid(alpha = 0.6)\n",
    "ax.set(xlabel = 'tiempo en horas', ylabel = 'peso en gramos')\n",
    "plt.yticks(np.arange(1,20))\n",
    "plt.xticks(np.arange(0,19))\n",
    "plt.show()\n"
   ]
  },
  {
   "cell_type": "markdown",
   "id": "a074fe04",
   "metadata": {
    "slideshow": {
     "slide_type": "slide"
    }
   },
   "source": [
    "## Observaciones e inferencias del gráfico del PVI"
   ]
  },
  {
   "cell_type": "markdown",
   "id": "19c2b75e",
   "metadata": {
    "slideshow": {
     "slide_type": "slide"
    }
   },
   "source": [
    "1. El peso inicial es de 1 gramo.  \n",
    "2. A las dos horas es de 4 gramos  \n",
    "3.  \n",
    "4.  \n",
    "5.  "
   ]
  },
  {
   "cell_type": "code",
   "execution_count": null,
   "id": "9daf3525",
   "metadata": {
    "slideshow": {
     "slide_type": "slide"
    }
   },
   "outputs": [],
   "source": []
  },
  {
   "cell_type": "code",
   "execution_count": null,
   "id": "90f593f3",
   "metadata": {},
   "outputs": [],
   "source": []
  },
  {
   "cell_type": "markdown",
   "id": "b06f8e14",
   "metadata": {
    "slideshow": {
     "slide_type": "slide"
    }
   },
   "source": [
    "# Gráfica de la función derivada"
   ]
  },
  {
   "cell_type": "code",
   "execution_count": 16,
   "id": "d3a0c52c",
   "metadata": {},
   "outputs": [],
   "source": [
    "def derivada_de_w(t):\n",
    "    return k*w(t)*(1-w(t)/20)"
   ]
  },
  {
   "cell_type": "code",
   "execution_count": 17,
   "id": "0910b637",
   "metadata": {},
   "outputs": [
    {
     "data": {
      "image/png": "[encoded data removed]",
      "text/plain": [
       "<Figure size 432x288 with 1 Axes>"
      ]
     },
     "metadata": {
      "needs_background": "light"
     },
     "output_type": "display_data"
    }
   ],
   "source": [
    "import numpy as np \n",
    "import matplotlib.pyplot as plt \n",
    "\n",
    "a,b = 0, 19\n",
    "k = np.log(np.sqrt(19)/2)\n",
    "\n",
    "fig,ax = plt.subplots()\n",
    "dominio = np.linspace(a,b, 200)\n",
    "rango = [derivada_de_w(t) for t in dominio]\n",
    "ax.plot(dominio, rango)   \n",
    "ax.grid(alpha = 0.6)\n",
    "ax.set(xlabel = 'tiempo en horas', ylabel = 'velocidad de variación del peso en gramos')\n",
    "plt.yticks(np.arange(1,20))\n",
    "plt.xticks(np.arange(0,19))\n",
    "plt.show()\n"
   ]
  },
  {
   "cell_type": "code",
   "execution_count": null,
   "id": "808b9a1b",
   "metadata": {},
   "outputs": [],
   "source": []
  },
  {
   "cell_type": "markdown",
   "id": "486375e1",
   "metadata": {
    "slideshow": {
     "slide_type": "slide"
    }
   },
   "source": [
    "## Referentes  \n",
    "\n",
    "* Documentación sobre solución de ODE con sympy: https://docs.sympy.org/latest/modules/solvers/ode.html "
   ]
  },
  {
   "cell_type": "code",
   "execution_count": null,
   "id": "e340881e",
   "metadata": {},
   "outputs": [],
   "source": []
  }
 ],
 "metadata": {
  "celltoolbar": "Slideshow",
  "kernelspec": {
   "display_name": "Python 3 (ipykernel)",
   "language": "python",
   "name": "python3"
  },
  "language_info": {
   "codemirror_mode": {
    "name": "ipython",
    "version": 3
   },
   "file_extension": ".py",
   "mimetype": "text/x-python",
   "name": "python",
   "nbconvert_exporter": "python",
   "pygments_lexer": "ipython3",
   "version": "3.9.12"
  },
  "rise": {
   "theme": "sky"
  }
 },
 "nbformat": 4,
 "nbformat_minor": 5
}
