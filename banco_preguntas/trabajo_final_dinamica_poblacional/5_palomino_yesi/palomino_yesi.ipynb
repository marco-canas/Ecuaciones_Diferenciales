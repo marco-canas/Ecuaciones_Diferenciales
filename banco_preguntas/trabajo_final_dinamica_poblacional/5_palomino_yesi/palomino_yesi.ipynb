{
 "cells": [
  {
   "cell_type": "markdown",
   "id": "61c80fa0",
   "metadata": {
    "slideshow": {
     "slide_type": "slide"
    }
   },
   "source": [
    "<table align=\"left\">\n",
    "  <td>\n",
    "    <a href=\"https://colab.research.google.com/github/marco-canas/edo/blob/main/banco_preguntas/trabajo_final_dinamica_poblacional/5_palomino_yesi/palomino_yesi.ipynb\" target=\"_parent\"><img src=\"https://colab.research.google.com/assets/colab-badge.svg\" alt=\"Open In Colab\"/></a>\n",
    "  </td>\n",
    "</table>"
   ]
  },
  {
   "cell_type": "markdown",
   "id": "c7be79b8",
   "metadata": {
    "slideshow": {
     "slide_type": "slide"
    }
   },
   "source": [
    "# Describa la situación agregándole imágenes ilustrativas. \n",
    "Deje claro cual es el problema a resolver. "
   ]
  },
  {
   "cell_type": "markdown",
   "id": "212862b7",
   "metadata": {
    "slideshow": {
     "slide_type": "slide"
    }
   },
   "source": [
    "# Crecimiento de bacterias"
   ]
  },
  {
   "cell_type": "markdown",
   "id": "efc1bbc1",
   "metadata": {
    "slideshow": {
     "slide_type": "slide"
    }
   },
   "source": [
    "Crecimiento de bacterias En el tiempo $t = 0$, un cultivo bacteriano pesa 1 gramo. Dos horas después, el cultivo pesa 4 \n",
    "gramos. El peso máximo del cultivo es de 20 gramos.  \n",
    "\n",
    " a) Escribir una ecuación logística que modele el peso del cultivo bacteriano.  \n",
    " \n",
    " b) Encontrar el peso del cultivo después de 5 horas.  \n",
    " \n",
    " c) ¿Cuándo el peso del cultivo será de 18 gramos?  \n",
    " \n",
    " d) Escribir una ecuación diferencial logística que modele la razón de crecimiento del peso del cultivo. Entonces repetir \n",
    "el inciso b) mediante el método de Euler con un tamaño de  paso de h \u0015 1. Comparar la aproximación con los resultados\n",
    "exactos.  \n",
    "\n",
    " e) ¿En qué tiempo se incrementará el peso más rápidamente? Explicar."
   ]
  },
  {
   "cell_type": "markdown",
   "id": "0d34b94c",
   "metadata": {
    "slideshow": {
     "slide_type": "slide"
    }
   },
   "source": [
    "## Recuerde que la ecuación logística es:\n",
    "\n",
    "$$ \\frac{dy}{dt} = ky \\left( 1 - \\frac{y}{L} \\right) $$\n",
    "\n",
    "donde $k$ y $L$ son constantes positivas. \n",
    "Una población que satisface esta ecuación no crece sin límite, pero se aproxima a la cantidad límite o de soporte $L$ al aumentar $t$. \n"
   ]
  },
  {
   "cell_type": "markdown",
   "id": "69957ac8",
   "metadata": {
    "slideshow": {
     "slide_type": "slide"
    }
   },
   "source": [
    "## Clasifica la ED"
   ]
  },
  {
   "cell_type": "markdown",
   "id": "e7430df7",
   "metadata": {
    "slideshow": {
     "slide_type": "slide"
    }
   },
   "source": [
    "## Realice la solución analítica y describala con fluidez \n",
    "\n",
    "Una línea del cuaderno por paso descrito verbalmente, simbólicamente y justificado verbalmente. "
   ]
  },
  {
   "cell_type": "markdown",
   "id": "c3c1cda6",
   "metadata": {
    "slideshow": {
     "slide_type": "slide"
    }
   },
   "source": [
    "$$ \\frac{dw}{dt} = kw\\left(1- \\frac{w}{20} \\right), \\ \\ \\ \\ \\ \\  w(0) = 1 $$"
   ]
  },
  {
   "cell_type": "markdown",
   "id": "b4ba7d9d",
   "metadata": {
    "slideshow": {
     "slide_type": "slide"
    }
   },
   "source": [
    "Empecemos sepando las variables: \n",
    "$$ \\frac{dw}{w\\left( 1- \\frac{w}{20}  \\right)} = kdt $$"
   ]
  },
  {
   "cell_type": "markdown",
   "id": "d2608422",
   "metadata": {
    "slideshow": {
     "slide_type": "slide"
    }
   },
   "source": [
    "sumando y dividiendo fracciones obtenemos: \n",
    "\n",
    "$$ \\frac{20}{w(20-w)}dw = kdt $$"
   ]
  },
  {
   "cell_type": "markdown",
   "id": "ffeda07b",
   "metadata": {
    "slideshow": {
     "slide_type": "slide"
    }
   },
   "source": [
    "y ahora que separamos integremos cada lado: \n",
    "\n",
    "$$ \\int \\frac{20}{w(20-w)}dw = \\int kdt $$"
   ]
  },
  {
   "cell_type": "markdown",
   "id": "618e7fc2",
   "metadata": {
    "slideshow": {
     "slide_type": "slide"
    }
   },
   "source": [
    "$$ 20\\int \\frac{1}{w(20-w)}dw = \\int kdt $$"
   ]
  },
  {
   "cell_type": "markdown",
   "id": "07e881df",
   "metadata": {
    "slideshow": {
     "slide_type": "slide"
    }
   },
   "source": [
    "Note que el integrando del lado izquierdo es una fracción propia, donde los factores del denominador son lineales no repetidos, por tanto esa fracción se descompone así:\n",
    "\n",
    "\n",
    "$$ 20 \\int \\left( \\frac{A}{w} + \\frac{B}{20-w} \\right) = \\int kdt $$"
   ]
  },
  {
   "cell_type": "markdown",
   "id": "1c9e2458",
   "metadata": {
    "slideshow": {
     "slide_type": "slide"
    }
   },
   "source": [
    "Para determinar a $A$ y a $B$ planteamos la siguiente igualdad:\n",
    "\n",
    "$$ \\frac{1}{w(20-w)}  =  \\frac{A}{w} + \\frac{B}{20-w}  $$\n"
   ]
  },
  {
   "cell_type": "markdown",
   "id": "5e4a3dc2",
   "metadata": {
    "slideshow": {
     "slide_type": "slide"
    }
   },
   "source": [
    "$$ \\frac{1}{w(20-w)}  = \\frac{A(20 - w) + Bw}{w(20-w)} $$"
   ]
  },
  {
   "cell_type": "markdown",
   "id": "3735cd81",
   "metadata": {
    "slideshow": {
     "slide_type": "slide"
    }
   },
   "source": [
    "Pasemos el denominador del lado derecho a multiplicar al lado izquierdo:\n",
    "\n",
    "$$ \\frac{w(20-w)}{w(20-w)}  = A(20 - w) + Bw $$"
   ]
  },
  {
   "cell_type": "markdown",
   "id": "2e353c1b",
   "metadata": {
    "slideshow": {
     "slide_type": "slide"
    }
   },
   "source": [
    "$$ 1 = A(20 - w) + Bw  $$"
   ]
  },
  {
   "cell_type": "markdown",
   "id": "1b828e69",
   "metadata": {
    "slideshow": {
     "slide_type": "slide"
    }
   },
   "source": [
    "Si hago $w = 0$, podemos hallar a $A$:\n",
    "\n",
    "$$ 1 = A(20 - 0) + B(0) \\: \\: \\: \\Rightarrow \\ \\ \\ A = \\frac{1}{20} = B$$\n"
   ]
  },
  {
   "cell_type": "markdown",
   "id": "8346e6a0",
   "metadata": {
    "slideshow": {
     "slide_type": "slide"
    }
   },
   "source": [
    "Volviendo a la ecuación integral obtenemos:\n",
    "\n",
    "\n",
    "$$ \\int \\left( \\frac{1}{w} + \\frac{1}{20-w} \\right)dw = \\int kdt $$"
   ]
  },
  {
   "cell_type": "markdown",
   "id": "ec509f39",
   "metadata": {
    "slideshow": {
     "slide_type": "slide"
    }
   },
   "source": [
    "$$ \\int \\frac{dw}{w} + \\int \\frac{dw}{20-w} = kt + C $$"
   ]
  },
  {
   "cell_type": "markdown",
   "id": "cc52a586",
   "metadata": {
    "slideshow": {
     "slide_type": "slide"
    }
   },
   "source": [
    "$$ \\ln w - \\ln (20 - w ) = kt + C $$"
   ]
  },
  {
   "cell_type": "markdown",
   "id": "6f04d6dd",
   "metadata": {
    "slideshow": {
     "slide_type": "slide"
    }
   },
   "source": [
    "$$ \\ln \\left( \\frac{w}{20-w} \\right) = kt + C $$"
   ]
  },
  {
   "cell_type": "code",
   "execution_count": null,
   "id": "b99bebf1",
   "metadata": {
    "slideshow": {
     "slide_type": "slide"
    }
   },
   "outputs": [],
   "source": []
  },
  {
   "cell_type": "code",
   "execution_count": null,
   "id": "f83861f2",
   "metadata": {
    "slideshow": {
     "slide_type": "slide"
    }
   },
   "outputs": [],
   "source": []
  },
  {
   "cell_type": "markdown",
   "id": "f100fc10",
   "metadata": {
    "slideshow": {
     "slide_type": "slide"
    }
   },
   "source": [
    "## Realizar una lectura o interpretación de la ED y de la condición inicial"
   ]
  },
  {
   "cell_type": "markdown",
   "id": "e49c733b",
   "metadata": {
    "slideshow": {
     "slide_type": "slide"
    }
   },
   "source": []
  },
  {
   "cell_type": "markdown",
   "id": "ca8d70a8",
   "metadata": {
    "slideshow": {
     "slide_type": "slide"
    }
   },
   "source": [
    "# Realice la solución con SymPy del PVI y verifique la solución obtenida también con Sympy"
   ]
  },
  {
   "cell_type": "code",
   "execution_count": 3,
   "id": "e8b97d90",
   "metadata": {
    "slideshow": {
     "slide_type": "slide"
    }
   },
   "outputs": [],
   "source": [
    "from sympy import var, Eq, Function, dsolve, diff, checkodesol"
   ]
  },
  {
   "cell_type": "code",
   "execution_count": null,
   "id": "53cb8f99",
   "metadata": {
    "slideshow": {
     "slide_type": "slide"
    }
   },
   "outputs": [],
   "source": []
  },
  {
   "cell_type": "code",
   "execution_count": null,
   "id": "035be665",
   "metadata": {
    "slideshow": {
     "slide_type": "slide"
    }
   },
   "outputs": [],
   "source": []
  },
  {
   "cell_type": "markdown",
   "id": "10949bbe",
   "metadata": {
    "slideshow": {
     "slide_type": "slide"
    }
   },
   "source": [
    "## Grafique con matplotlib la solución general de la ED que hace parte de su PVI\n",
    "\n",
    "La gráfica de la solución general la debe hacer incluyendo el deslizador para el parámetro $C_{1}$. \n"
   ]
  },
  {
   "cell_type": "code",
   "execution_count": 2,
   "id": "d06c59d9",
   "metadata": {
    "slideshow": {
     "slide_type": "slide"
    }
   },
   "outputs": [
    {
     "data": {
      "application/vnd.jupyter.widget-view+json": {
       "model_id": "0958e463702d45efbcdb6db305623c7d",
       "version_major": 2,
       "version_minor": 0
      },
      "text/plain": [
       "interactive(children=(IntSlider(value=0, description='C', max=3, min=-3), Output()), _dom_classes=('widget-int…"
      ]
     },
     "metadata": {},
     "output_type": "display_data"
    },
    {
     "data": {
      "text/plain": [
       "<function __main__.graficar(C=0)>"
      ]
     },
     "execution_count": 2,
     "metadata": {},
     "output_type": "execute_result"
    }
   ],
   "source": [
    "import numpy as np \n",
    "import matplotlib.pyplot as plt \n",
    "\n",
    "from ipywidgets import interact \n",
    "\n",
    "def graficar(C = 0):\n",
    "    fig,ax = plt.subplots()\n",
    "    \n",
    "    \n",
    "interact(graficar, C = (-3,3))    \n"
   ]
  },
  {
   "cell_type": "markdown",
   "id": "856cece4",
   "metadata": {
    "slideshow": {
     "slide_type": "slide"
    }
   },
   "source": [
    "## Observaciones e inferencias del gráfico"
   ]
  },
  {
   "cell_type": "markdown",
   "id": "19c2b75e",
   "metadata": {
    "slideshow": {
     "slide_type": "slide"
    }
   },
   "source": [
    "1.  \n",
    "2.  \n",
    "3.  \n",
    "4.  \n",
    "5.  "
   ]
  },
  {
   "cell_type": "markdown",
   "id": "cf9ab183",
   "metadata": {
    "slideshow": {
     "slide_type": "slide"
    }
   },
   "source": [
    "# Gráfica de la solución del PVI"
   ]
  },
  {
   "cell_type": "code",
   "execution_count": 5,
   "id": "a2a62a80",
   "metadata": {
    "slideshow": {
     "slide_type": "slide"
    }
   },
   "outputs": [],
   "source": [
    "import numpy as np \n"
   ]
  },
  {
   "cell_type": "markdown",
   "id": "a074fe04",
   "metadata": {
    "slideshow": {
     "slide_type": "slide"
    }
   },
   "source": [
    "## Observaciones e inferencias del gráfico del PVI"
   ]
  },
  {
   "cell_type": "markdown",
   "id": "6b59405e",
   "metadata": {
    "slideshow": {
     "slide_type": "slide"
    }
   },
   "source": [
    "1.  \n",
    "2.  \n",
    "3.  \n",
    "4.  \n",
    "5.  "
   ]
  },
  {
   "cell_type": "code",
   "execution_count": null,
   "id": "9daf3525",
   "metadata": {},
   "outputs": [],
   "source": []
  },
  {
   "cell_type": "code",
   "execution_count": null,
   "id": "90f593f3",
   "metadata": {},
   "outputs": [],
   "source": []
  },
  {
   "cell_type": "code",
   "execution_count": null,
   "id": "26b9d102",
   "metadata": {},
   "outputs": [],
   "source": []
  }
 ],
 "metadata": {
  "celltoolbar": "Slideshow",
  "kernelspec": {
   "display_name": "Python 3 (ipykernel)",
   "language": "python",
   "name": "python3"
  },
  "language_info": {
   "codemirror_mode": {
    "name": "ipython",
    "version": 3
   },
   "file_extension": ".py",
   "mimetype": "text/x-python",
   "name": "python",
   "nbconvert_exporter": "python",
   "pygments_lexer": "ipython3",
   "version": "3.9.12"
  }
 },
 "nbformat": 4,
 "nbformat_minor": 5
}
