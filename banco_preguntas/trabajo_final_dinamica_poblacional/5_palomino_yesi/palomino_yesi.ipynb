{
 "cells": [
  {
   "cell_type": "markdown",
   "id": "61c80fa0",
   "metadata": {
    "slideshow": {
     "slide_type": "slide"
    }
   },
   "source": [
    "<table align=\"left\">\n",
    "  <td>\n",
    "    <a href=\"https://colab.research.google.com/github/marco-canas/edo/blob/main/banco_preguntas/trabajo_final_dinamica_poblacional/5_palomino_yesi/palomino_yesi.ipynb\" target=\"_parent\"><img src=\"https://colab.research.google.com/assets/colab-badge.svg\" alt=\"Open In Colab\"/></a>\n",
    "  </td>\n",
    "</table>"
   ]
  },
  {
   "cell_type": "markdown",
   "id": "c7be79b8",
   "metadata": {
    "slideshow": {
     "slide_type": "slide"
    }
   },
   "source": [
    "# Describa la situación agregándole imágenes ilustrativas. \n",
    "Deje claro cual es el problema a resolver. "
   ]
  },
  {
   "cell_type": "markdown",
   "id": "212862b7",
   "metadata": {
    "slideshow": {
     "slide_type": "slide"
    }
   },
   "source": [
    "# Crecimiento de bacterias"
   ]
  },
  {
   "cell_type": "markdown",
   "id": "efc1bbc1",
   "metadata": {
    "slideshow": {
     "slide_type": "slide"
    }
   },
   "source": [
    "Crecimiento de bacterias En el tiempo $t = 0$, un cultivo bacteriano pesa 1 gramo. Dos horas después, el cultivo pesa 4 \n",
    "gramos. El peso máximo del cultivo es de 20 gramos.  \n",
    "\n",
    " a) Escribir una ecuación logística que modele el peso del cultivo bacteriano.  \n",
    " \n",
    " b) Encontrar el peso del cultivo después de 5 horas.  \n",
    " \n",
    " c) ¿Cuándo el peso del cultivo será de 18 gramos?  \n",
    " \n",
    " d) Escribir una ecuación diferencial logística que modele la razón de crecimiento del peso del cultivo. Entonces repetir \n",
    "el inciso b) mediante el método de Euler con un tamaño de  paso de h \u0015 1. Comparar la aproximación con los resultados\n",
    "exactos.  \n",
    "\n",
    " e) ¿En qué tiempo se incrementará el peso más rápidamente? Explicar."
   ]
  },
  {
   "cell_type": "markdown",
   "id": "0d34b94c",
   "metadata": {
    "slideshow": {
     "slide_type": "slide"
    }
   },
   "source": [
    "## Recuerde que la ecuación logística es:\n",
    "\n",
    "$$ \\frac{dy}{dt} = ky \\left( 1 - \\frac{y}{L} \\right) $$\n",
    "\n",
    "donde $k$ y $L$ son constantes positivas. \n",
    "Una población que satisface esta ecuación no crece sin límite, pero se aproxima a la cantidad límite o de soporte $L$ al aumentar $t$. \n"
   ]
  },
  {
   "cell_type": "markdown",
   "id": "60546003",
   "metadata": {
    "slideshow": {
     "slide_type": "slide"
    }
   },
   "source": [
    "## Realizar una lectura o interpretación de la ED y de la condición inicial"
   ]
  },
  {
   "cell_type": "markdown",
   "id": "a8748c7f",
   "metadata": {
    "slideshow": {
     "slide_type": "slide"
    }
   },
   "source": [
    "$$ \\frac{dw}{dt} = kw\\left(1 - \\frac{w}{20} \\right), \\ \\ \\ \\ \\ \\ w(0) = 1, \\ \\ \\ \\ \\ w(2) = 4 $$"
   ]
  },
  {
   "cell_type": "markdown",
   "id": "a17a79b6",
   "metadata": {
    "slideshow": {
     "slide_type": "slide"
    }
   },
   "source": [
    "Suponiendo que $w < 20$, entonces $\\frac{w}{20} < 1$, de donde $0 < 1 - \\frac{w}{20}$, es decir, este factor es positivo y decreciente a cero. "
   ]
  },
  {
   "cell_type": "markdown",
   "id": "1746afb0",
   "metadata": {
    "slideshow": {
     "slide_type": "slide"
    }
   },
   "source": [
    "## Clasifica la ED justificando su proceso de clasificación"
   ]
  },
  {
   "cell_type": "markdown",
   "id": "7fe166bd",
   "metadata": {
    "slideshow": {
     "slide_type": "slide"
    }
   },
   "source": [
    "Como la ecuación dada es de la forma $w' = f(w)g(t)$, entonces la ED dada es separable. "
   ]
  },
  {
   "cell_type": "markdown",
   "id": "e7430df7",
   "metadata": {
    "slideshow": {
     "slide_type": "slide"
    }
   },
   "source": [
    "## Realice la solución analítica y describala con fluidez \n",
    "\n",
    "Una línea del cuaderno por paso descrito verbalmente, simbólicamente y justificado verbalmente. "
   ]
  },
  {
   "cell_type": "markdown",
   "id": "c3c1cda6",
   "metadata": {
    "slideshow": {
     "slide_type": "slide"
    }
   },
   "source": [
    "$$ \\frac{dw}{dt} = kw\\left(1- \\frac{w}{20} \\right), \\ \\ \\ \\ \\ \\  w(0) = 1 $$"
   ]
  },
  {
   "cell_type": "markdown",
   "id": "5d95b4fc",
   "metadata": {
    "slideshow": {
     "slide_type": "slide"
    }
   },
   "source": [
    "Empecemos sepando las variables: \n",
    "$$ \\frac{dw}{w\\left( 1- \\frac{w}{20}  \\right)} = kdt $$"
   ]
  },
  {
   "cell_type": "markdown",
   "id": "21b7b0e9",
   "metadata": {
    "slideshow": {
     "slide_type": "slide"
    }
   },
   "source": [
    "sumando y dividiendo fracciones obtenemos: \n",
    "\n",
    "$$ \\frac{20}{w(20-w)}dw = kdt $$"
   ]
  },
  {
   "cell_type": "markdown",
   "id": "eb77eb28",
   "metadata": {
    "slideshow": {
     "slide_type": "slide"
    }
   },
   "source": [
    "y ahora que separamos integremos cada lado: \n",
    "\n",
    "$$ \\int \\frac{20}{w(20-w)}dw = \\int kdt $$"
   ]
  },
  {
   "cell_type": "markdown",
   "id": "ef73406e",
   "metadata": {
    "slideshow": {
     "slide_type": "slide"
    }
   },
   "source": [
    "$$ 20\\int \\frac{1}{w(20-w)}dw = \\int kdt $$"
   ]
  },
  {
   "cell_type": "markdown",
   "id": "e0b11376",
   "metadata": {
    "slideshow": {
     "slide_type": "slide"
    }
   },
   "source": [
    "Note que el integrando del lado izquierdo es una fracción propia, donde los factores del denominador son lineales no repetidos, por tanto esa fracción se descompone así:\n",
    "\n",
    "\n",
    "$$ 20 \\int \\left( \\frac{A}{w} + \\frac{B}{20-w} \\right) = \\int kdt $$"
   ]
  },
  {
   "cell_type": "markdown",
   "id": "8bbfed1a",
   "metadata": {
    "slideshow": {
     "slide_type": "slide"
    }
   },
   "source": [
    "Para determinar a $A$ y a $B$ planteamos la siguiente igualdad:\n",
    "\n",
    "$$ \\frac{1}{w(20-w)}  =  \\frac{A}{w} + \\frac{B}{20-w}  $$\n"
   ]
  },
  {
   "cell_type": "markdown",
   "id": "8a9a5d83",
   "metadata": {
    "slideshow": {
     "slide_type": "slide"
    }
   },
   "source": [
    "$$ \\frac{1}{w(20-w)}  = \\frac{A(20 - w) + Bw}{w(20-w)} $$"
   ]
  },
  {
   "cell_type": "markdown",
   "id": "6e860690",
   "metadata": {
    "slideshow": {
     "slide_type": "slide"
    }
   },
   "source": [
    "Pasemos el denominador del lado derecho a multiplicar al lado izquierdo:\n",
    "\n",
    "$$ \\frac{w(20-w)}{w(20-w)}  = A(20 - w) + Bw $$"
   ]
  },
  {
   "cell_type": "markdown",
   "id": "fd5064bb",
   "metadata": {
    "slideshow": {
     "slide_type": "slide"
    }
   },
   "source": [
    "$$ 1 = A(20 - w) + Bw  $$"
   ]
  },
  {
   "cell_type": "markdown",
   "id": "b131c23d",
   "metadata": {
    "slideshow": {
     "slide_type": "slide"
    }
   },
   "source": [
    "Si hago $w = 0$, podemos hallar a $A$:\n",
    "\n",
    "$$ 1 = A(20 - 0) + B(0) \\: \\: \\: \\Rightarrow \\ \\ \\ A = \\frac{1}{20} = B$$\n"
   ]
  },
  {
   "cell_type": "markdown",
   "id": "5a62eb0c",
   "metadata": {
    "slideshow": {
     "slide_type": "slide"
    }
   },
   "source": [
    "Volviendo a la ecuación integral obtenemos:\n",
    "\n",
    "\n",
    "$$ \\int \\left( \\frac{1}{w} + \\frac{1}{20-w} \\right)dw = \\int kdt $$"
   ]
  },
  {
   "cell_type": "markdown",
   "id": "b3ed94d8",
   "metadata": {
    "slideshow": {
     "slide_type": "slide"
    }
   },
   "source": [
    "$$ \\int \\frac{dw}{w} + \\int \\frac{dw}{20-w} = kt + C $$"
   ]
  },
  {
   "cell_type": "markdown",
   "id": "f06cc7a9",
   "metadata": {
    "slideshow": {
     "slide_type": "slide"
    }
   },
   "source": [
    "$$ \\ln w - \\ln (20 - w ) = kt + C $$"
   ]
  },
  {
   "cell_type": "markdown",
   "id": "ce14925a",
   "metadata": {
    "slideshow": {
     "slide_type": "slide"
    }
   },
   "source": [
    "$$ \\ln \\left( \\frac{w}{20-w} \\right) = kt + C $$"
   ]
  },
  {
   "cell_type": "markdown",
   "id": "65ddeb91",
   "metadata": {
    "slideshow": {
     "slide_type": "slide"
    }
   },
   "source": [
    "$$ \\frac{w}{20-w} = e^{kt + C} $$"
   ]
  },
  {
   "cell_type": "markdown",
   "id": "ac0538aa",
   "metadata": {
    "slideshow": {
     "slide_type": "slide"
    }
   },
   "source": [
    "$$ w = e^{kt + C}(20 - w) = e^{kt}e^{C}(20-w)$$"
   ]
  },
  {
   "cell_type": "markdown",
   "id": "c39ebd4d",
   "metadata": {
    "slideshow": {
     "slide_type": "slide"
    }
   },
   "source": [
    "$$ w = e^{kt}C_{1}(20 - w) $$"
   ]
  },
  {
   "cell_type": "markdown",
   "id": "1c7c3a5d",
   "metadata": {
    "slideshow": {
     "slide_type": "slide"
    }
   },
   "source": [
    "$$  $$"
   ]
  },
  {
   "cell_type": "markdown",
   "id": "1e77f532",
   "metadata": {
    "slideshow": {
     "slide_type": "slide"
    }
   },
   "source": []
  },
  {
   "cell_type": "markdown",
   "id": "ca8d70a8",
   "metadata": {
    "slideshow": {
     "slide_type": "slide"
    }
   },
   "source": [
    "# Realice la solución con SymPy del PVI y verifique la solución obtenida también con Sympy"
   ]
  },
  {
   "cell_type": "code",
   "execution_count": 12,
   "id": "e8b97d90",
   "metadata": {
    "slideshow": {
     "slide_type": "slide"
    }
   },
   "outputs": [],
   "source": [
    "from sympy import var, Function, Eq, diff, classify_ode, dsolve,  checkodesol"
   ]
  },
  {
   "cell_type": "code",
   "execution_count": 6,
   "id": "082c5734",
   "metadata": {
    "slideshow": {
     "slide_type": "slide"
    }
   },
   "outputs": [],
   "source": [
    "t,w, k = var('t w k') "
   ]
  },
  {
   "cell_type": "code",
   "execution_count": 7,
   "id": "687de8e8",
   "metadata": {
    "slideshow": {
     "slide_type": "slide"
    }
   },
   "outputs": [],
   "source": [
    "w = Function('w')"
   ]
  },
  {
   "cell_type": "code",
   "execution_count": 11,
   "id": "a212a2fa",
   "metadata": {
    "slideshow": {
     "slide_type": "slide"
    }
   },
   "outputs": [
    {
     "data": {
      "text/latex": [
       "$\\displaystyle \\frac{d}{d t} w{\\left(t \\right)} = k \\left(1 - \\frac{w{\\left(t \\right)}}{20}\\right) w{\\left(t \\right)}$"
      ],
      "text/plain": [
       "Eq(Derivative(w(t), t), k*(1 - w(t)/20)*w(t))"
      ]
     },
     "execution_count": 11,
     "metadata": {},
     "output_type": "execute_result"
    }
   ],
   "source": [
    "ecuacion = Eq(diff(w(t), t),k*w(t)*(1-w(t)/20) )\n",
    "ecuacion "
   ]
  },
  {
   "cell_type": "code",
   "execution_count": 13,
   "id": "7f6cac10",
   "metadata": {
    "scrolled": true
   },
   "outputs": [
    {
     "data": {
      "text/plain": [
       "('factorable',\n",
       " 'separable',\n",
       " '1st_exact',\n",
       " 'Bernoulli',\n",
       " '1st_rational_riccati',\n",
       " '1st_power_series',\n",
       " 'lie_group',\n",
       " 'separable_Integral',\n",
       " '1st_exact_Integral',\n",
       " 'Bernoulli_Integral')"
      ]
     },
     "execution_count": 13,
     "metadata": {},
     "output_type": "execute_result"
    }
   ],
   "source": [
    "classify_ode(ecuacion, w(t))"
   ]
  },
  {
   "cell_type": "code",
   "execution_count": 15,
   "id": "c815a825",
   "metadata": {
    "slideshow": {
     "slide_type": "slide"
    }
   },
   "outputs": [
    {
     "data": {
      "text/latex": [
       "$\\displaystyle w{\\left(t \\right)} = \\frac{20}{C_{1} e^{- k t} + 1}$"
      ],
      "text/plain": [
       "Eq(w(t), 20/(C1*exp(-k*t) + 1))"
      ]
     },
     "execution_count": 15,
     "metadata": {},
     "output_type": "execute_result"
    }
   ],
   "source": [
    "sol_gen = dsolve(ecuacion, w(t), hint = 'separable')\n",
    "sol_gen "
   ]
  },
  {
   "cell_type": "code",
   "execution_count": 17,
   "id": "726714c5",
   "metadata": {},
   "outputs": [
    {
     "data": {
      "text/latex": [
       "$\\displaystyle w{\\left(t \\right)} = \\frac{20}{1 + 19 e^{- k t}}$"
      ],
      "text/plain": [
       "Eq(w(t), 20/(1 + 19*exp(-k*t)))"
      ]
     },
     "execution_count": 17,
     "metadata": {},
     "output_type": "execute_result"
    }
   ],
   "source": [
    "sol_pvi = dsolve(ecuacion, w(t), hint = 'separable', ics = {sol_gen.lhs.subs(t,0): 1})\n",
    "sol_pvi "
   ]
  },
  {
   "cell_type": "markdown",
   "id": "2a2e46e6",
   "metadata": {
    "slideshow": {
     "slide_type": "subslide"
    }
   },
   "source": [
    "## Determine $k$ utilizando la segunda condición del problema, es decir, utilizando que cuando $t = 2$, $w = 4$"
   ]
  },
  {
   "cell_type": "code",
   "execution_count": null,
   "id": "355be5b7",
   "metadata": {},
   "outputs": [],
   "source": []
  },
  {
   "cell_type": "markdown",
   "id": "10949bbe",
   "metadata": {
    "slideshow": {
     "slide_type": "slide"
    }
   },
   "source": [
    "## Grafique con matplotlib la solución general de la ED que hace parte de su PVI\n",
    "\n",
    "La gráfica de la solución general la debe hacer incluyendo el deslizador para el parámetro $C_{1}$. \n"
   ]
  },
  {
   "cell_type": "code",
   "execution_count": 21,
   "id": "a9ffa130",
   "metadata": {
    "slideshow": {
     "slide_type": "slide"
    }
   },
   "outputs": [],
   "source": [
    "import numpy as np \n",
    "def w(t, k):\n",
    "    return 20/(1 + 19*np.exp(-k*t))"
   ]
  },
  {
   "cell_type": "code",
   "execution_count": 22,
   "id": "d06c59d9",
   "metadata": {
    "slideshow": {
     "slide_type": "slide"
    }
   },
   "outputs": [
    {
     "data": {
      "text/plain": [
       "[<matplotlib.lines.Line2D at 0x1a10075efd0>]"
      ]
     },
     "execution_count": 22,
     "metadata": {},
     "output_type": "execute_result"
    },
    {
     "data": {
      "image/png": "[encoded data removed]",
      "text/plain": [
       "<Figure size 432x288 with 1 Axes>"
      ]
     },
     "metadata": {
      "needs_background": "light"
     },
     "output_type": "display_data"
    }
   ],
   "source": [
    "import numpy as np \n",
    "import matplotlib.pyplot as plt \n",
    "\n",
    "a,b = 0, 10\n",
    "k = 1\n",
    "\n",
    "fig,ax = plt.subplots()\n",
    "dominio = np.linspace(a,b, 200)\n",
    "rango = [w(t,k = 1) for t in dominio]\n",
    "ax.plot(dominio, rango)   \n"
   ]
  },
  {
   "cell_type": "markdown",
   "id": "856cece4",
   "metadata": {
    "slideshow": {
     "slide_type": "slide"
    }
   },
   "source": [
    "## Observaciones e inferencias del gráfico"
   ]
  },
  {
   "cell_type": "markdown",
   "id": "19c2b75e",
   "metadata": {
    "slideshow": {
     "slide_type": "slide"
    }
   },
   "source": [
    "1.  \n",
    "2.  \n",
    "3.  \n",
    "4.  \n",
    "5.  "
   ]
  },
  {
   "cell_type": "markdown",
   "id": "cf9ab183",
   "metadata": {
    "slideshow": {
     "slide_type": "slide"
    }
   },
   "source": [
    "# Gráfica de la solución del PVI"
   ]
  },
  {
   "cell_type": "code",
   "execution_count": 5,
   "id": "a2a62a80",
   "metadata": {
    "slideshow": {
     "slide_type": "slide"
    }
   },
   "outputs": [],
   "source": [
    "import numpy as np \n"
   ]
  },
  {
   "cell_type": "markdown",
   "id": "a074fe04",
   "metadata": {
    "slideshow": {
     "slide_type": "slide"
    }
   },
   "source": [
    "## Observaciones e inferencias del gráfico del PVI"
   ]
  },
  {
   "cell_type": "markdown",
   "id": "6b59405e",
   "metadata": {
    "slideshow": {
     "slide_type": "slide"
    }
   },
   "source": [
    "1.  \n",
    "2.  \n",
    "3.  \n",
    "4.  \n",
    "5.  "
   ]
  },
  {
   "cell_type": "code",
   "execution_count": null,
   "id": "9daf3525",
   "metadata": {},
   "outputs": [],
   "source": []
  },
  {
   "cell_type": "code",
   "execution_count": null,
   "id": "90f593f3",
   "metadata": {},
   "outputs": [],
   "source": []
  },
  {
   "cell_type": "code",
   "execution_count": null,
   "id": "26b9d102",
   "metadata": {},
   "outputs": [],
   "source": []
  }
 ],
 "metadata": {
  "celltoolbar": "Slideshow",
  "kernelspec": {
   "display_name": "Python 3 (ipykernel)",
   "language": "python",
   "name": "python3"
  },
  "language_info": {
   "codemirror_mode": {
    "name": "ipython",
    "version": 3
   },
   "file_extension": ".py",
   "mimetype": "text/x-python",
   "name": "python",
   "nbconvert_exporter": "python",
   "pygments_lexer": "ipython3",
   "version": "3.9.12"
  },
  "rise": {
   "theme": "sky"
  }
 },
 "nbformat": 4,
 "nbformat_minor": 5
}
