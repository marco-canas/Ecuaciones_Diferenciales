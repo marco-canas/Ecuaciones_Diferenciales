{
 "cells": [
  {
   "cell_type": "markdown",
   "id": "61c80fa0",
   "metadata": {
    "slideshow": {
     "slide_type": "slide"
    }
   },
   "source": [
    "<table align=\"left\">\n",
    "  <td>\n",
    "    <a href=\"https://colab.research.google.com/github/marco-canas/camino-udea/blob/main/0_diagnostico/diagnos_prueba_inicial_pivu/41.ipynb\" target=\"_parent\"><img src=\"https://colab.research.google.com/assets/colab-badge.svg\" alt=\"Open In Colab\"/></a>\n",
    "  </td>\n",
    "</table>"
   ]
  },
  {
   "cell_type": "markdown",
   "id": "c7be79b8",
   "metadata": {
    "slideshow": {
     "slide_type": "slide"
    }
   },
   "source": [
    "# Describa la situación agregándole imágenes ilustrativas. \n",
    "Deje claro cual es el problema a resolver. "
   ]
  },
  {
   "cell_type": "markdown",
   "id": "212862b7",
   "metadata": {
    "slideshow": {
     "slide_type": "slide"
    }
   },
   "source": [
    "# Crecimiento de bacterias"
   ]
  },
  {
   "cell_type": "markdown",
   "id": "efc1bbc1",
   "metadata": {
    "slideshow": {
     "slide_type": "slide"
    }
   },
   "source": [
    "Crecimiento de bacterias En el tiempo $t = 0$, un cultivo bacteriano pesa 1 gramo. Dos horas después, el cultivo pesa 4 \n",
    "gramos. El peso máximo del cultivo es de 20 gramos.  \n",
    "\n",
    " a) Escribir una ecuación logística que modele el peso del cultivo bacteriano.  \n",
    " \n",
    " b) Encontrar el peso del cultivo después de 5 horas.  \n",
    " \n",
    " c) ¿Cuándo el peso del cultivo será de 18 gramos?  \n",
    " \n",
    " d) Escribir una ecuación diferencial logística que modele la razón de crecimiento del peso del cultivo. Entonces repetir \n",
    "el inciso b) mediante el método de Euler con un tamaño de  paso de h \u0015 1. Comparar la aproximación con los resultados\n",
    "exactos.  \n",
    "\n",
    " e) ¿En qué tiempo se incrementará el peso más rápidamente? Explicar."
   ]
  },
  {
   "cell_type": "markdown",
   "id": "0d34b94c",
   "metadata": {
    "slideshow": {
     "slide_type": "slide"
    }
   },
   "source": [
    "## Recuerde que la ecuación logíatica es:\n",
    "\n",
    "$$ \\frac{dy}{dt} = ky \\left( 1 - \\frac{y}{L} \\right) $$\n",
    "\n",
    "donde $k$ y $L$ son constantes positivas. \n",
    "Una población que satisface esta ecuación no crece sin límite, pero se aproxima a la cantidad límite o de soporte $L$ al aumentar $t$. \n"
   ]
  },
  {
   "cell_type": "markdown",
   "id": "e7430df7",
   "metadata": {
    "slideshow": {
     "slide_type": "slide"
    }
   },
   "source": [
    "## Realice la solución analítica y describala con fluidez \n",
    "\n",
    "Una línea del cuaderno por paso descrito verbalmente, simbólicamente y justificado verbalmente. "
   ]
  },
  {
   "cell_type": "markdown",
   "id": "71dc42e4",
   "metadata": {
    "slideshow": {
     "slide_type": "slide"
    }
   },
   "source": [
    "$$ \\frac{dw}{dt} = kw\\left(1- \\frac{w}{20} \\right), \\ \\ \\ \\ \\ \\  w(0) = 1 $$"
   ]
  },
  {
   "cell_type": "code",
   "execution_count": null,
   "id": "4993e9f3",
   "metadata": {
    "slideshow": {
     "slide_type": "slide"
    }
   },
   "outputs": [],
   "source": []
  },
  {
   "cell_type": "code",
   "execution_count": null,
   "id": "f9f037de",
   "metadata": {},
   "outputs": [],
   "source": []
  },
  {
   "cell_type": "markdown",
   "id": "04a325b5",
   "metadata": {
    "slideshow": {
     "slide_type": "slide"
    }
   },
   "source": [
    "# Realice la solución con SymPy del PVI y verifique la solución obtenida también con Sympy"
   ]
  },
  {
   "cell_type": "code",
   "execution_count": 3,
   "id": "af9080eb",
   "metadata": {
    "slideshow": {
     "slide_type": "slide"
    }
   },
   "outputs": [],
   "source": [
    "from sympy import var, Eq, Function, dsolve, diff, checkodesol"
   ]
  },
  {
   "cell_type": "markdown",
   "id": "10949bbe",
   "metadata": {
    "slideshow": {
     "slide_type": "slide"
    }
   },
   "source": [
    "## Grafique con matplotlib la solución general de la ED que hace parte de su PVI\n",
    "\n",
    "La gráfica de la solución general la debe hacer incluyendo el deslizador para el parámetro $C_{1}$. \n"
   ]
  },
  {
   "cell_type": "code",
   "execution_count": 4,
   "id": "d06c59d9",
   "metadata": {
    "slideshow": {
     "slide_type": "slide"
    }
   },
   "outputs": [],
   "source": [
    "import numpy as np \n",
    "import matplotlib.pyplot as plt \n",
    "\n"
   ]
  },
  {
   "cell_type": "markdown",
   "id": "00832547",
   "metadata": {
    "slideshow": {
     "slide_type": "slide"
    }
   },
   "source": [
    "## Observaciones e inferencias del gráfico"
   ]
  },
  {
   "cell_type": "markdown",
   "id": "fef17743",
   "metadata": {
    "slideshow": {
     "slide_type": "slide"
    }
   },
   "source": [
    "1.  \n",
    "2.  \n",
    "3.  \n",
    "4.  \n",
    "5.  "
   ]
  },
  {
   "cell_type": "markdown",
   "id": "cf9ab183",
   "metadata": {
    "slideshow": {
     "slide_type": "slide"
    }
   },
   "source": [
    "# Gráfica de la solución del PVI"
   ]
  },
  {
   "cell_type": "code",
   "execution_count": 5,
   "id": "a2a62a80",
   "metadata": {
    "slideshow": {
     "slide_type": "slide"
    }
   },
   "outputs": [],
   "source": [
    "import numpy as np \n"
   ]
  },
  {
   "cell_type": "markdown",
   "id": "76393c45",
   "metadata": {
    "slideshow": {
     "slide_type": "slide"
    }
   },
   "source": [
    "## Observaciones e inferencias del gráfico del PVI"
   ]
  },
  {
   "cell_type": "markdown",
   "id": "5add344e",
   "metadata": {
    "slideshow": {
     "slide_type": "slide"
    }
   },
   "source": [
    "1.  \n",
    "2.  \n",
    "3.  \n",
    "4.  \n",
    "5.  "
   ]
  },
  {
   "cell_type": "code",
   "execution_count": null,
   "id": "9daf3525",
   "metadata": {},
   "outputs": [],
   "source": []
  },
  {
   "cell_type": "code",
   "execution_count": null,
   "id": "90f593f3",
   "metadata": {},
   "outputs": [],
   "source": []
  },
  {
   "cell_type": "code",
   "execution_count": null,
   "id": "26b9d102",
   "metadata": {},
   "outputs": [],
   "source": []
  }
 ],
 "metadata": {
  "celltoolbar": "Slideshow",
  "kernelspec": {
   "display_name": "Python 3 (ipykernel)",
   "language": "python",
   "name": "python3"
  },
  "language_info": {
   "codemirror_mode": {
    "name": "ipython",
    "version": 3
   },
   "file_extension": ".py",
   "mimetype": "text/x-python",
   "name": "python",
   "nbconvert_exporter": "python",
   "pygments_lexer": "ipython3",
   "version": "3.9.12"
  }
 },
 "nbformat": 4,
 "nbformat_minor": 5
}
