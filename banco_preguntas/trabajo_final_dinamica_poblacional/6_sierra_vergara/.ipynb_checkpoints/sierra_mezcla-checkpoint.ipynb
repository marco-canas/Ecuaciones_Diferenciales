{
 "cells": [
  {
   "cell_type": "markdown",
   "id": "164a32e4",
   "metadata": {
    "slideshow": {
     "slide_type": "slide"
    }
   },
   "source": [
    "<table align=\"left\">\n",
    "  <td>\n",
    "    <a href=\"https://colab.research.google.com/github/marco-canas/edo/blob/main/banco_preguntas/trabajo_final_dinamica_poblacional/6_sierra_vergara/sierra_mezcla.ipynb\" target=\"_parent\"><img src=\"https://colab.research.google.com/assets/colab-badge.svg\" alt=\"Open In Colab\"/></a>\n",
    "  </td>\n",
    "</table>"
   ]
  },
  {
   "cell_type": "markdown",
   "id": "105920b3",
   "metadata": {
    "slideshow": {
     "slide_type": "slide"
    }
   },
   "source": [
    "# Aplicaciones  "
   ]
  },
  {
   "cell_type": "markdown",
   "id": "c8cce215",
   "metadata": {
    "slideshow": {
     "slide_type": "slide"
    }
   },
   "source": [
    "Un tipo de problema que se puede describir en términos de una ecuación diferencial involucra mezclas químicas, como se ilustra en el siguiente ejemplo.  "
   ]
  },
  {
   "cell_type": "markdown",
   "id": "09b78385",
   "metadata": {
    "slideshow": {
     "slide_type": "slide"
    }
   },
   "source": [
    "El proximo ejemplo es tomado de la página 455 del Larson. "
   ]
  },
  {
   "cell_type": "markdown",
   "id": "6916a710",
   "metadata": {
    "slideshow": {
     "slide_type": "slide"
    }
   },
   "source": [
    "## EJEMPLO 4 Un problema de mezcla"
   ]
  },
  {
   "cell_type": "markdown",
   "id": "55af6fb7",
   "metadata": {
    "slideshow": {
     "slide_type": "slide"
    }
   },
   "source": [
    "Un tanque contiene 50 galones de una disolución compuesta por 90% agua y 10% alcohol.  \n",
    "\n",
    "Una segunda disolución que contiene 50% agua y 50% alcohol se agrega al tanque a una tasa de 4 galones por minuto. Conforme se añade la segunda, el tanque empieza a drenar a una tasa de 5 galones por minuto, como se muestra en la figura 6.21.   \n",
    "\n",
    "Si se supone que la disolución en el tanque se agita constantemente, ¿cuánto alcohol permanecerá en el tanque después de 10 minutos?"
   ]
  },
  {
   "cell_type": "markdown",
   "id": "702d81ce",
   "metadata": {
    "slideshow": {
     "slide_type": "slide"
    }
   },
   "source": [
    "<img src = 'https://github.com/marco-canas/edo/blob/main/banco_preguntas/trabajo_final_dinamica_poblacional/6_sierra_vergara/figura_6_21.jpg?raw=true'>"
   ]
  },
  {
   "cell_type": "markdown",
   "id": "92a84ee7",
   "metadata": {
    "slideshow": {
     "slide_type": "slide"
    }
   },
   "source": [
    "## Resuelva analíticamente el PVI que modela el problema de mezclas asignado: "
   ]
  },
  {
   "cell_type": "markdown",
   "id": "1a6143c5",
   "metadata": {
    "slideshow": {
     "slide_type": "slide"
    }
   },
   "source": [
    "Sea $y$ el número de galones de alcohol en el tanque en cualquier instante $t$. "
   ]
  },
  {
   "cell_type": "markdown",
   "id": "b075afdc",
   "metadata": {
    "slideshow": {
     "slide_type": "slide"
    }
   },
   "source": [
    "Se sabe que $y = 5$ cuando $t = 0$."
   ]
  },
  {
   "cell_type": "markdown",
   "id": "32f44575",
   "metadata": {
    "slideshow": {
     "slide_type": "slide"
    }
   },
   "source": [
    "Dado que el número de galones en el tanque en cualquier tiempo es $50 - t$, y que el tanque pierde 5 galones por minuto, se debe perder $[5/(50 - t)]y$ galones de alcohol por minuto. "
   ]
  },
  {
   "cell_type": "markdown",
   "id": "afa73ad8",
   "metadata": {
    "slideshow": {
     "slide_type": "slide"
    }
   },
   "source": [
    "Además, ya que el tanque gana 2 galones de alcohol por minuto, el ritmo o velocidad de cambio de alcohol en el tanque está dada por  \n",
    "\n",
    "$$ \\frac{dy}{dt} = 2 - \\left( \\frac{5}{50 - t} \\right)y \\ \\ \\ \\ \\ \\ \\ \\Rightarrow \\ \\ \\ \\  \\ \\ \\ \\frac{dy}{dt} + \\left( \\frac{5}{50 - t} \\right)y = 2  $$\n",
    "\n"
   ]
  },
  {
   "cell_type": "markdown",
   "id": "01ebf529",
   "metadata": {
    "slideshow": {
     "slide_type": "slide"
    }
   },
   "source": [
    "Para resolver esta ecuación diferencial sea $p(t) = \\frac{5}{50 - t}$ "
   ]
  },
  {
   "cell_type": "markdown",
   "id": "cc609dd5",
   "metadata": {
    "slideshow": {
     "slide_type": "slide"
    }
   },
   "source": []
  },
  {
   "cell_type": "markdown",
   "id": "c32c7842",
   "metadata": {
    "slideshow": {
     "slide_type": "slide"
    }
   },
   "source": []
  },
  {
   "cell_type": "markdown",
   "id": "ef99b554",
   "metadata": {
    "slideshow": {
     "slide_type": "slide"
    }
   },
   "source": []
  },
  {
   "cell_type": "markdown",
   "id": "1a972812",
   "metadata": {
    "slideshow": {
     "slide_type": "slide"
    }
   },
   "source": []
  },
  {
   "cell_type": "markdown",
   "id": "b724d528",
   "metadata": {
    "slideshow": {
     "slide_type": "slide"
    }
   },
   "source": [
    "# Resuelva y verifique con sympy el PVI y redacte una conclusión verbal donde compare la solución hallada analíticamente con la solución hallada con la librería de cálculo simbólico sympy.  "
   ]
  },
  {
   "cell_type": "code",
   "execution_count": 1,
   "id": "59e5806e",
   "metadata": {
    "slideshow": {
     "slide_type": "slide"
    }
   },
   "outputs": [],
   "source": [
    "from sympy import var, Function, Eq, ode_order, classify_ode, diff, dsolve, solvers, checkodesol "
   ]
  },
  {
   "cell_type": "code",
   "execution_count": 2,
   "id": "5d065132",
   "metadata": {
    "slideshow": {
     "slide_type": "slide"
    }
   },
   "outputs": [],
   "source": [
    "t,y = var('t y') # definición de las variables simbólicas \n"
   ]
  },
  {
   "cell_type": "code",
   "execution_count": 4,
   "id": "ceb888b4",
   "metadata": {
    "slideshow": {
     "slide_type": "slide"
    }
   },
   "outputs": [],
   "source": [
    "y = Function('y')   # establecer la relación funcional entre t y y"
   ]
  },
  {
   "cell_type": "code",
   "execution_count": 6,
   "id": "72f84ed6",
   "metadata": {
    "slideshow": {
     "slide_type": "slide"
    }
   },
   "outputs": [],
   "source": [
    "ecuacion_dif = Eq(diff(y(t), t) + (5/(50 - t))*y(t) - 2, 0)"
   ]
  },
  {
   "cell_type": "markdown",
   "id": "f03fe227",
   "metadata": {
    "slideshow": {
     "slide_type": "slide"
    }
   },
   "source": [
    "## Determine el orden de la ED utilizando la función `ode_order` de sympy"
   ]
  },
  {
   "cell_type": "code",
   "execution_count": 7,
   "id": "5b174bc9",
   "metadata": {
    "slideshow": {
     "slide_type": "slide"
    }
   },
   "outputs": [
    {
     "data": {
      "text/plain": [
       "1"
      ]
     },
     "execution_count": 7,
     "metadata": {},
     "output_type": "execute_result"
    }
   ],
   "source": [
    "ode_order(ecuacion_dif, y(t))"
   ]
  },
  {
   "cell_type": "markdown",
   "id": "e046f4de",
   "metadata": {
    "slideshow": {
     "slide_type": "slide"
    }
   },
   "source": [
    "## Clasifica la ecuación diferencial del problema de valor inicial dado"
   ]
  },
  {
   "cell_type": "code",
   "execution_count": 8,
   "id": "17ba474f",
   "metadata": {
    "scrolled": true,
    "slideshow": {
     "slide_type": "slide"
    }
   },
   "outputs": [
    {
     "data": {
      "text/plain": [
       "('factorable',\n",
       " '1st_exact',\n",
       " '1st_linear',\n",
       " 'Bernoulli',\n",
       " 'almost_linear',\n",
       " 'linear_coefficients',\n",
       " '1st_power_series',\n",
       " 'lie_group',\n",
       " '1st_exact_Integral',\n",
       " '1st_linear_Integral',\n",
       " 'Bernoulli_Integral',\n",
       " 'almost_linear_Integral',\n",
       " 'linear_coefficients_Integral')"
      ]
     },
     "execution_count": 8,
     "metadata": {},
     "output_type": "execute_result"
    }
   ],
   "source": [
    "classify_ode(ecuacion_dif)"
   ]
  },
  {
   "cell_type": "markdown",
   "id": "31db0d12",
   "metadata": {
    "slideshow": {
     "slide_type": "slide"
    }
   },
   "source": [
    "## Resuelve el PVI con sympy "
   ]
  },
  {
   "cell_type": "code",
   "execution_count": 10,
   "id": "cedc25d0",
   "metadata": {},
   "outputs": [
    {
     "data": {
      "text/latex": [
       "$\\displaystyle y{\\left(t \\right)} = C_{1} t^{5} - 250 C_{1} t^{4} + 25000 C_{1} t^{3} - 1250000 C_{1} t^{2} + 31250000 C_{1} t - 312500000 C_{1} - \\frac{t}{2} + 25$"
      ],
      "text/plain": [
       "Eq(y(t), C1*t**5 - 250*C1*t**4 + 25000*C1*t**3 - 1250000*C1*t**2 + 31250000*C1*t - 312500000*C1 - t/2 + 25)"
      ]
     },
     "execution_count": 10,
     "metadata": {},
     "output_type": "execute_result"
    }
   ],
   "source": [
    "sol_gen = dsolve(ecuacion_dif, y(t)) \n",
    "sol_gen "
   ]
  },
  {
   "cell_type": "markdown",
   "id": "677dffbe",
   "metadata": {
    "slideshow": {
     "slide_type": "slide"
    }
   },
   "source": []
  },
  {
   "cell_type": "code",
   "execution_count": 13,
   "id": "b5b62369",
   "metadata": {
    "slideshow": {
     "slide_type": "slide"
    }
   },
   "outputs": [
    {
     "data": {
      "text/latex": [
       "$\\displaystyle y{\\left(t \\right)} = \\frac{t^{5}}{15625000} - \\frac{t^{4}}{62500} + \\frac{t^{3}}{625} - \\frac{2 t^{2}}{25} + \\frac{3 t}{2} + 5$"
      ],
      "text/plain": [
       "Eq(y(t), t**5/15625000 - t**4/62500 + t**3/625 - 2*t**2/25 + 3*t/2 + 5)"
      ]
     },
     "execution_count": 13,
     "metadata": {},
     "output_type": "execute_result"
    }
   ],
   "source": [
    "dsolve(ecuacion_dif, y(t), ics = {sol_gen.lhs.subs(t,0):5})"
   ]
  },
  {
   "cell_type": "markdown",
   "id": "1a09cd57",
   "metadata": {
    "slideshow": {
     "slide_type": "slide"
    }
   },
   "source": [
    "## Describa y clasifique la solución del PVI"
   ]
  },
  {
   "cell_type": "markdown",
   "id": "3f0d51fb",
   "metadata": {
    "slideshow": {
     "slide_type": "slide"
    }
   },
   "source": [
    "1.  \n",
    "2.  \n",
    "3.  "
   ]
  },
  {
   "cell_type": "markdown",
   "id": "1ce689fd",
   "metadata": {
    "slideshow": {
     "slide_type": "slide"
    }
   },
   "source": [
    "## Diga que tipo de funciones es la solución de la ED. "
   ]
  },
  {
   "cell_type": "markdown",
   "id": "dfb5f4bb",
   "metadata": {
    "slideshow": {
     "slide_type": "slide"
    }
   },
   "source": [
    "**Sugerencia** \n",
    "\n",
    "`ics` is the set of initial conditions for the differential equation.\n",
    "\n",
    "It should be given in the form of `{f(x0): x1, f(x).diff(x).subs(x, x2): x3}` and so on.   \n",
    "\n",
    "For power series solutions, if no initial conditions are specified `f(0)` is assumed to be C0 and the power series solution is calculated about 0.\n"
   ]
  },
  {
   "cell_type": "markdown",
   "id": "dfe0096e",
   "metadata": {
    "slideshow": {
     "slide_type": "slide"
    }
   },
   "source": [
    "# Gráfica de la solución general de la ED usando matplotlib y la función interact del módulo ipywidgets para gráficos animados con deslizadores "
   ]
  },
  {
   "cell_type": "code",
   "execution_count": null,
   "id": "ece0f2f2",
   "metadata": {
    "slideshow": {
     "slide_type": "slide"
    }
   },
   "outputs": [],
   "source": [
    "import numpy as np \n",
    "import matplotlib.pyplot as plt \n",
    "from ipywidgets import interact \n",
    "\n",
    "def graficar_animado():\n",
    "    \n"
   ]
  },
  {
   "cell_type": "markdown",
   "id": "cfb9d8d4",
   "metadata": {
    "slideshow": {
     "slide_type": "slide"
    }
   },
   "source": [
    "## Graficar la solución particular "
   ]
  },
  {
   "cell_type": "code",
   "execution_count": null,
   "id": "322c636d",
   "metadata": {
    "slideshow": {
     "slide_type": "slide"
    }
   },
   "outputs": [],
   "source": []
  },
  {
   "cell_type": "markdown",
   "id": "46680cab",
   "metadata": {
    "slideshow": {
     "slide_type": "slide"
    }
   },
   "source": [
    "## Observaciones e inferencias del grafico de la solución del PVI"
   ]
  },
  {
   "cell_type": "markdown",
   "id": "34a22fb3",
   "metadata": {},
   "source": [
    "1.  \n",
    "2.  \n",
    "3.  \n",
    "4.  \n",
    "5.  "
   ]
  },
  {
   "cell_type": "code",
   "execution_count": null,
   "id": "52a120a7",
   "metadata": {},
   "outputs": [],
   "source": []
  },
  {
   "cell_type": "markdown",
   "id": "32ddaed5",
   "metadata": {
    "slideshow": {
     "slide_type": "slide"
    }
   },
   "source": [
    "## Referencias  \n",
    "\n",
    "* Guí de ususario sobre solución de ODE con Sympy: https://docs.sympy.org/latest/modules/solvers/ode.html"
   ]
  },
  {
   "cell_type": "code",
   "execution_count": null,
   "id": "185b6b88",
   "metadata": {},
   "outputs": [],
   "source": []
  }
 ],
 "metadata": {
  "celltoolbar": "Slideshow",
  "kernelspec": {
   "display_name": "Python 3 (ipykernel)",
   "language": "python",
   "name": "python3"
  },
  "language_info": {
   "codemirror_mode": {
    "name": "ipython",
    "version": 3
   },
   "file_extension": ".py",
   "mimetype": "text/x-python",
   "name": "python",
   "nbconvert_exporter": "python",
   "pygments_lexer": "ipython3",
   "version": "3.9.12"
  }
 },
 "nbformat": 4,
 "nbformat_minor": 5
}
