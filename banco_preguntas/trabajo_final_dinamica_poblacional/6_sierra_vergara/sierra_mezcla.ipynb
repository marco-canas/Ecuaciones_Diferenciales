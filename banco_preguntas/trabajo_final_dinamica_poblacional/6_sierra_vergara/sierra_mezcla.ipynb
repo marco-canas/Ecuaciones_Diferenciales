{
 "cells": [
  {
   "cell_type": "markdown",
   "id": "164a32e4",
   "metadata": {
    "slideshow": {
     "slide_type": "slide"
    }
   },
   "source": [
    "<table align=\"left\">\n",
    "  <td>\n",
    "    <a href=\"https://colab.research.google.com/github/marco-canas/edo/blob/main/banco_preguntas/trabajo_final_dinamica_poblacional/6_sierra_vergara/sierra_mezcla.ipynb\" target=\"_parent\"><img src=\"https://colab.research.google.com/assets/colab-badge.svg\" alt=\"Open In Colab\"/></a>\n",
    "  </td>\n",
    "</table>"
   ]
  },
  {
   "cell_type": "markdown",
   "id": "105920b3",
   "metadata": {
    "slideshow": {
     "slide_type": "slide"
    }
   },
   "source": [
    "# Aplicaciones  "
   ]
  },
  {
   "cell_type": "markdown",
   "id": "c8cce215",
   "metadata": {
    "slideshow": {
     "slide_type": "slide"
    }
   },
   "source": [
    "Un tipo de problema que se puede describir en términos de una ecuación diferencial involucra mezclas químicas, como se ilustra en el siguiente ejemplo.  "
   ]
  },
  {
   "cell_type": "markdown",
   "id": "09b78385",
   "metadata": {
    "slideshow": {
     "slide_type": "slide"
    }
   },
   "source": [
    "El proximo ejemplo es tomado de la página 455 del Larson. "
   ]
  },
  {
   "cell_type": "markdown",
   "id": "6916a710",
   "metadata": {
    "slideshow": {
     "slide_type": "slide"
    }
   },
   "source": [
    "## EJEMPLO 4 Un problema de mezcla"
   ]
  },
  {
   "cell_type": "markdown",
   "id": "55af6fb7",
   "metadata": {
    "slideshow": {
     "slide_type": "slide"
    }
   },
   "source": [
    "Un tanque contiene 50 galones de una disolución compuesta por 90% agua y 10% alcohol.  \n",
    "\n",
    "Una segunda disolución que contiene 50% agua y 50% alcohol se agrega al tanque a una tasa de 4 galones por minuto. Conforme se añade la segunda, el tanque empieza a drenar a una tasa de 5 galones por minuto, como se muestra en la figura 6.21.   \n",
    "\n",
    "Si se supone que la disolución en el tanque se agita constantemente, ¿cuánto alcohol permanecerá en el tanque después de 10 minutos?"
   ]
  },
  {
   "cell_type": "markdown",
   "id": "702d81ce",
   "metadata": {
    "slideshow": {
     "slide_type": "slide"
    }
   },
   "source": [
    "<img src = 'https://github.com/marco-canas/edo/blob/main/banco_preguntas/trabajo_final_dinamica_poblacional/6_sierra_vergara/figura_6_21.jpg?raw=true'>"
   ]
  },
  {
   "cell_type": "markdown",
   "id": "01dd40b9",
   "metadata": {
    "slideshow": {
     "slide_type": "slide"
    }
   },
   "source": [
    "## [Video de apoyo](https://www.youtube.com/watch?v=ACo-VT5E_r0) "
   ]
  },
  {
   "cell_type": "markdown",
   "id": "92a84ee7",
   "metadata": {
    "slideshow": {
     "slide_type": "slide"
    }
   },
   "source": [
    "## Resuelva analíticamente el PVI que modela el problema de mezclas asignado: "
   ]
  },
  {
   "cell_type": "markdown",
   "id": "1a6143c5",
   "metadata": {
    "slideshow": {
     "slide_type": "slide"
    }
   },
   "source": [
    "Sea $y(t)$ el número de galones de alcohol en el tanque en cualquier instante $t$. "
   ]
  },
  {
   "cell_type": "markdown",
   "id": "b075afdc",
   "metadata": {
    "slideshow": {
     "slide_type": "slide"
    }
   },
   "source": [
    "Se sabe que $y = 5$ cuando $t = 0$."
   ]
  },
  {
   "cell_type": "markdown",
   "id": "e239d4d0",
   "metadata": {
    "slideshow": {
     "slide_type": "slide"
    }
   },
   "source": [
    "Como la diferencia entre lo que entra y lo que sale del tanque es de $1$ galón por minuto, entonces \n",
    "\n",
    "La función que modela el volumen de líquido en la mezcla en cada instante es lineal (tasa de decrecimiento constante) \n",
    "\n",
    "$$ \\text{número de galones en cada instante es} = -1(t) + 50 = 50 - t $$\n"
   ]
  },
  {
   "cell_type": "markdown",
   "id": "32f44575",
   "metadata": {
    "slideshow": {
     "slide_type": "slide"
    }
   },
   "source": [
    "Dado que el número de galones en el tanque en cualquier tiempo es $50 - t \\geq 0$, y que el tanque pierde 5 galones por minuto, se debe perder $[5/(50 - t)]y$ galones de alcohol por minuto. "
   ]
  },
  {
   "cell_type": "markdown",
   "id": "3da174cd",
   "metadata": {
    "slideshow": {
     "slide_type": "slide"
    }
   },
   "source": [
    "Esto, porque $$ \\frac{y(t)}{50-t} $$ es la concentración de alcohol en el tanque en el instante $t$ y esta concentración por la taza de salida, nos da la tasa de alcohol que sale. Note que la concentración es un porcentaje representado en forma decimal. \n",
    "\n",
    "$$ \\text{tasa de salida de alcohol en el instante $t$} = \\text{tasa de salida de mezcla} \\cdot \\text{porcentaje de alcohol en la mezcla en el instante $t$}$$"
   ]
  },
  {
   "cell_type": "markdown",
   "id": "f04f9f01",
   "metadata": {
    "slideshow": {
     "slide_type": "slide"
    }
   },
   "source": [
    "$$ \\text{tasa de alcohol que sale en el instante $t$} = 5 \\cdot \\frac{y(t)}{5-t}  $$"
   ]
  },
  {
   "cell_type": "markdown",
   "id": "afa73ad8",
   "metadata": {
    "slideshow": {
     "slide_type": "slide"
    }
   },
   "source": [
    "Además, ya que el tanque gana 2 galones de alcohol por minuto, el ritmo o velocidad de cambio de alcohol en el tanque está dada por  \n",
    "\n",
    "$$ \\frac{d}{dt} y(t) = 2 - 5\\left( \\frac{y(t)}{50 - t} \\right) \\ \\ \\ \\ \\ \\ \\ \\Rightarrow \\ \\ \\ \\  \\ \\ \\ \\frac{dy}{dt} + \\left( \\frac{5}{50 - t} \\right)y = 2  $$\n",
    "\n",
    "$$ y' + p(t)y = g(t) $$"
   ]
  },
  {
   "cell_type": "markdown",
   "id": "01ebf529",
   "metadata": {
    "slideshow": {
     "slide_type": "slide"
    }
   },
   "source": [
    "Para resolver esta ecuación diferencial sea $p(t) = \\frac{5}{50 - t}$ "
   ]
  },
  {
   "cell_type": "markdown",
   "id": "cc609dd5",
   "metadata": {
    "slideshow": {
     "slide_type": "slide"
    }
   },
   "source": [
    "$$ \\mu(t) = \\exp \\left(\\int \\frac{5}{50-t}dt \\right) =  $$"
   ]
  },
  {
   "cell_type": "markdown",
   "id": "8db5190c",
   "metadata": {
    "slideshow": {
     "slide_type": "slide"
    }
   },
   "source": [
    "$$ \\mu(t) = \\exp \\left( 5 \\int \\frac{1}{50 - t} dt \\right) $$"
   ]
  },
  {
   "cell_type": "markdown",
   "id": "b123b9e8",
   "metadata": {
    "slideshow": {
     "slide_type": "slide"
    }
   },
   "source": [
    "$$ \\mu(t) = \\exp \\left( -5 \\int \\frac{-dt}{50-t} \\right) $$"
   ]
  },
  {
   "cell_type": "markdown",
   "id": "9a972c9f",
   "metadata": {
    "slideshow": {
     "slide_type": "slide"
    }
   },
   "source": [
    "$$ \\mu(t) = \\exp \\left( -5\\ln(50-t) \\right) = \\exp \\left( \\ln \\left[ \\frac{1}{ (50-t)^{5} } \\right] \\right)  $$"
   ]
  },
  {
   "cell_type": "markdown",
   "id": "bd183e2f",
   "metadata": {
    "slideshow": {
     "slide_type": "slide"
    }
   },
   "source": [
    "$$ \\mu(t) = \\frac{1}{(50-t)^{5}} = (50-t)^{-5} $$"
   ]
  },
  {
   "cell_type": "markdown",
   "id": "fd279405",
   "metadata": {
    "slideshow": {
     "slide_type": "slide"
    }
   },
   "source": [
    "Multipliquemos la ED por este factor integrante:\n",
    "\n",
    "\n",
    "$$ \\frac{dy}{dt} + \\left( \\frac{5}{50 - t} \\right)y = 2 $$\n",
    "\n",
    "$$ \\frac{dy}{dt}\\cdot \\frac{1}{(50-t)^{5}}  + \\left( \\frac{5}{50 - t} \\right)y \\cdot \\frac{1}{(50-t)^{5}} = 2 \\cdot \\frac{1}{(50-t)^{5}} $$\n"
   ]
  },
  {
   "cell_type": "markdown",
   "id": "59eec06c",
   "metadata": {
    "slideshow": {
     "slide_type": "slide"
    }
   },
   "source": [
    "$$ \\left[ y(t) \\cdot \\frac{1}{(50-t)^{5}} \\right]' = 2(50-t)^{-5} $$"
   ]
  },
  {
   "cell_type": "markdown",
   "id": "5b8e7edb",
   "metadata": {
    "slideshow": {
     "slide_type": "slide"
    }
   },
   "source": [
    "$$ \\int \\left[ y(t) \\cdot \\frac{1}{(50-t)^{5}} \\right]'dt = \\int 2(50-t)^{-5}dt $$"
   ]
  },
  {
   "cell_type": "markdown",
   "id": "95ed62a4",
   "metadata": {
    "slideshow": {
     "slide_type": "slide"
    }
   },
   "source": [
    "$$ y(t) \\cdot \\frac{1}{(50-t)^{5}} = -2\\int (50 - t)^{-5}(-dt) $$\n",
    "\n",
    "\n",
    "$$ y(t) \\cdot \\frac{1}{(50-t)^{5}} = -2\\int u^{-5} du $$\n",
    "\n",
    "donde $u = 50-t$"
   ]
  },
  {
   "cell_type": "markdown",
   "id": "3eec168c",
   "metadata": {
    "slideshow": {
     "slide_type": "slide"
    }
   },
   "source": [
    "$$ \\frac{y(t)}{(50-t)^{5}} = -2\\frac{(50-t)^{-4}}{-4} + C_{1} $$"
   ]
  },
  {
   "cell_type": "markdown",
   "id": "cc9941aa",
   "metadata": {
    "slideshow": {
     "slide_type": "slide"
    }
   },
   "source": [
    "$$ \\frac{y(t)}{(50 - t)^{5}} = \\frac{1}{2(50-t)^{4}} + C_{1} $$"
   ]
  },
  {
   "cell_type": "markdown",
   "id": "cc024326",
   "metadata": {
    "slideshow": {
     "slide_type": "slide"
    }
   },
   "source": []
  },
  {
   "cell_type": "code",
   "execution_count": null,
   "id": "d3d46c9c",
   "metadata": {
    "slideshow": {
     "slide_type": "slide"
    }
   },
   "outputs": [],
   "source": []
  },
  {
   "cell_type": "code",
   "execution_count": null,
   "id": "f0672f54",
   "metadata": {},
   "outputs": [],
   "source": []
  },
  {
   "cell_type": "markdown",
   "id": "231a7e23",
   "metadata": {
    "slideshow": {
     "slide_type": "slide"
    }
   },
   "source": [
    "## Verificar analiticamente que la función solución del PVI efectivamente satisface la ED y la condición inicial. "
   ]
  },
  {
   "cell_type": "code",
   "execution_count": null,
   "id": "52bdccfc",
   "metadata": {
    "slideshow": {
     "slide_type": "slide"
    }
   },
   "outputs": [],
   "source": []
  },
  {
   "cell_type": "code",
   "execution_count": null,
   "id": "ddef89f8",
   "metadata": {
    "slideshow": {
     "slide_type": "slide"
    }
   },
   "outputs": [],
   "source": []
  },
  {
   "cell_type": "code",
   "execution_count": null,
   "id": "d0d0f9f7",
   "metadata": {
    "slideshow": {
     "slide_type": "slide"
    }
   },
   "outputs": [],
   "source": []
  },
  {
   "cell_type": "code",
   "execution_count": null,
   "id": "c18a3f46",
   "metadata": {
    "slideshow": {
     "slide_type": "slide"
    }
   },
   "outputs": [],
   "source": []
  },
  {
   "cell_type": "markdown",
   "id": "b724d528",
   "metadata": {
    "slideshow": {
     "slide_type": "slide"
    }
   },
   "source": [
    "# Resuelva y verifique con sympy el PVI y redacte una conclusión verbal donde compare la solución hallada analíticamente con la solución hallada con la librería de cálculo simbólico sympy.  "
   ]
  },
  {
   "cell_type": "code",
   "execution_count": 1,
   "id": "59e5806e",
   "metadata": {
    "slideshow": {
     "slide_type": "slide"
    }
   },
   "outputs": [],
   "source": [
    "from sympy import var, Function, diff, Eq, ode_order,\\\n",
    "classify_ode, dsolve, solvers, checkodesol "
   ]
  },
  {
   "cell_type": "code",
   "execution_count": 2,
   "id": "5d065132",
   "metadata": {
    "slideshow": {
     "slide_type": "slide"
    }
   },
   "outputs": [],
   "source": [
    "t,y = var('t y') # definición de las variables simbólicas \n"
   ]
  },
  {
   "cell_type": "code",
   "execution_count": 3,
   "id": "ceb888b4",
   "metadata": {
    "slideshow": {
     "slide_type": "slide"
    }
   },
   "outputs": [],
   "source": [
    "y = Function('y')   # establecer la relación funcional entre t y y"
   ]
  },
  {
   "cell_type": "code",
   "execution_count": 5,
   "id": "72f84ed6",
   "metadata": {
    "slideshow": {
     "slide_type": "slide"
    }
   },
   "outputs": [
    {
     "data": {
      "text/latex": [
       "$\\displaystyle \\frac{d}{d t} y{\\left(t \\right)} - 2 + \\frac{5 y{\\left(t \\right)}}{50 - t} = 0$"
      ],
      "text/plain": [
       "Eq(Derivative(y(t), t) - 2 + 5*y(t)/(50 - t), 0)"
      ]
     },
     "execution_count": 5,
     "metadata": {},
     "output_type": "execute_result"
    }
   ],
   "source": [
    "ecuacion_dif = Eq(diff(y(t), t) + (5/(50 - t))*y(t) - 2, 0)\n",
    "ecuacion_dif"
   ]
  },
  {
   "cell_type": "markdown",
   "id": "f03fe227",
   "metadata": {
    "slideshow": {
     "slide_type": "slide"
    }
   },
   "source": [
    "## Determine el orden de la ED utilizando la función `ode_order` de sympy"
   ]
  },
  {
   "cell_type": "code",
   "execution_count": 6,
   "id": "5b174bc9",
   "metadata": {
    "slideshow": {
     "slide_type": "slide"
    }
   },
   "outputs": [
    {
     "data": {
      "text/plain": [
       "1"
      ]
     },
     "execution_count": 6,
     "metadata": {},
     "output_type": "execute_result"
    }
   ],
   "source": [
    "ode_order(ecuacion_dif, y(t))"
   ]
  },
  {
   "cell_type": "markdown",
   "id": "a332ab30",
   "metadata": {
    "slideshow": {
     "slide_type": "slide"
    }
   },
   "source": [
    "## Clasifica la ecuación diferencial del problema de valor inicial dado"
   ]
  },
  {
   "cell_type": "code",
   "execution_count": 7,
   "id": "efac6901",
   "metadata": {
    "scrolled": false,
    "slideshow": {
     "slide_type": "slide"
    }
   },
   "outputs": [
    {
     "data": {
      "text/plain": [
       "('factorable',\n",
       " '1st_exact',\n",
       " '1st_linear',\n",
       " 'Bernoulli',\n",
       " 'almost_linear',\n",
       " 'linear_coefficients',\n",
       " '1st_power_series',\n",
       " 'lie_group',\n",
       " '1st_exact_Integral',\n",
       " '1st_linear_Integral',\n",
       " 'Bernoulli_Integral',\n",
       " 'almost_linear_Integral',\n",
       " 'linear_coefficients_Integral')"
      ]
     },
     "execution_count": 7,
     "metadata": {},
     "output_type": "execute_result"
    }
   ],
   "source": [
    "classify_ode(ecuacion_dif)"
   ]
  },
  {
   "cell_type": "markdown",
   "id": "defc8133",
   "metadata": {
    "slideshow": {
     "slide_type": "slide"
    }
   },
   "source": [
    "Así, la función `classify_ode` nos confirma que la ED dada es lineal de primer orden. "
   ]
  },
  {
   "cell_type": "markdown",
   "id": "b1747d96",
   "metadata": {
    "slideshow": {
     "slide_type": "slide"
    }
   },
   "source": [
    "## Resuelve el PVI con sympy "
   ]
  },
  {
   "cell_type": "code",
   "execution_count": 8,
   "id": "e51da830",
   "metadata": {
    "slideshow": {
     "slide_type": "slide"
    }
   },
   "outputs": [
    {
     "data": {
      "text/latex": [
       "$\\displaystyle y{\\left(t \\right)} = C_{1} t^{5} - 250 C_{1} t^{4} + 25000 C_{1} t^{3} - 1250000 C_{1} t^{2} + 31250000 C_{1} t - 312500000 C_{1} - \\frac{t}{2} + 25$"
      ],
      "text/plain": [
       "Eq(y(t), C1*t**5 - 250*C1*t**4 + 25000*C1*t**3 - 1250000*C1*t**2 + 31250000*C1*t - 312500000*C1 - t/2 + 25)"
      ]
     },
     "execution_count": 8,
     "metadata": {},
     "output_type": "execute_result"
    }
   ],
   "source": [
    "sol_gen_latex = dsolve(ecuacion_dif, y(t))  \n",
    "sol_gen_latex "
   ]
  },
  {
   "cell_type": "code",
   "execution_count": 9,
   "id": "577cff30",
   "metadata": {
    "slideshow": {
     "slide_type": "slide"
    }
   },
   "outputs": [],
   "source": [
    "def sol_gen(t, C1 = 0):\n",
    "    return C1*(t**5 - 250*t**4 + 25000*t**3 - 1250000*t**2 + 31250000*t - 312500000) - t/2 + 25"
   ]
  },
  {
   "cell_type": "code",
   "execution_count": 12,
   "id": "9f7b776f",
   "metadata": {
    "slideshow": {
     "slide_type": "slide"
    }
   },
   "outputs": [
    {
     "data": {
      "text/plain": [
       "0.0"
      ]
     },
     "execution_count": 12,
     "metadata": {},
     "output_type": "execute_result"
    }
   ],
   "source": [
    " sol_gen(50, C1 = 20/50**5)"
   ]
  },
  {
   "cell_type": "code",
   "execution_count": null,
   "id": "b5b62369",
   "metadata": {
    "slideshow": {
     "slide_type": "slide"
    }
   },
   "outputs": [],
   "source": [
    "dsolve(ecuacion_dif, y(t), ics = {sol_gen_latex.lhs.subs(t,0):5})"
   ]
  },
  {
   "cell_type": "code",
   "execution_count": null,
   "id": "79ebb85b",
   "metadata": {
    "slideshow": {
     "slide_type": "slide"
    }
   },
   "outputs": [],
   "source": [
    "def sol_pvi(t):\n",
    "    return t**5/15625000 - t**4/62500 + t**3/625 - 2*t**2/25 + 3*t/2 + 5"
   ]
  },
  {
   "cell_type": "markdown",
   "id": "ffa3d6f7",
   "metadata": {
    "slideshow": {
     "slide_type": "slide"
    }
   },
   "source": [
    "## Describa y clasifique la solución del PVI"
   ]
  },
  {
   "cell_type": "markdown",
   "id": "1278cd10",
   "metadata": {
    "slideshow": {
     "slide_type": "slide"
    }
   },
   "source": [
    "1. Note que la función solución es una función polinómica de grado $5$ con coeficiente lider positivo, lo que implica que en el futuro la solución se va a infinito. \n",
    "2. El término independiente de $t$ es $5$ lo que concuerda con el hecho de que la condición inicial es de $5$ galones de alcohol. \n",
    "3. El coeficiente lider de esta función polinómica es muy pequeño.  "
   ]
  },
  {
   "cell_type": "markdown",
   "id": "1ce689fd",
   "metadata": {
    "slideshow": {
     "slide_type": "slide"
    }
   },
   "source": [
    "## Diga que tipo de funciones es la solución de la ED. "
   ]
  },
  {
   "cell_type": "markdown",
   "id": "dfb5f4bb",
   "metadata": {
    "slideshow": {
     "slide_type": "slide"
    }
   },
   "source": [
    "**Sugerencia** \n",
    "\n",
    "`ics` is the Set of Initial Conditions for the differential equation.\n",
    "\n",
    "It should be given in the form of `{f(x0): x1, f(x).diff(x).subs(x, x2): x3}` and so on.   \n",
    "\n"
   ]
  },
  {
   "cell_type": "markdown",
   "id": "dfe0096e",
   "metadata": {
    "slideshow": {
     "slide_type": "slide"
    }
   },
   "source": [
    "# Gráfica de la solución general de la ED usando matplotlib y la función interact del módulo ipywidgets para gráficos animados con deslizadores "
   ]
  },
  {
   "cell_type": "code",
   "execution_count": 13,
   "id": "ece0f2f2",
   "metadata": {
    "scrolled": true,
    "slideshow": {
     "slide_type": "slide"
    }
   },
   "outputs": [
    {
     "data": {
      "application/vnd.jupyter.widget-view+json": {
       "model_id": "aaf8901c964a41458fc2c1d43a0358c5",
       "version_major": 2,
       "version_minor": 0
      },
      "text/plain": [
       "interactive(children=(IntSlider(value=5, description='C1', max=8, min=5), Output()), _dom_classes=('widget-int…"
      ]
     },
     "metadata": {},
     "output_type": "display_data"
    }
   ],
   "source": [
    "import numpy as np \n",
    "import matplotlib.pyplot as plt \n",
    "from ipywidgets import interact \n",
    "\n",
    "def sol_gen(t, C1 = 0):\n",
    "    return C1*(t**5 - 250*t**4 + 25000*t**3 - 1250000*t**2 + 31250000*t - 312500000) - t/2 + 25\n",
    "\n",
    "\n",
    "def graficar_animado(C1 = 0):\n",
    "    fig, ax = plt.subplots()\n",
    "    T = np.linspace(0,50,300)\n",
    "    Y = [sol_gen(t, C1 = C1*10**-8) for t in T]\n",
    "    ax.plot(T,Y)\n",
    "    ax.set(title = 'nivel de alcohol en el tanque en cada instante',\\\n",
    "          xlabel = 'Tiempo en minutos', ylabel = 'cantidad de alcohol en galones')\n",
    "    ax.axis([0,60, -1,20])\n",
    "    ax.plot([0,50], [0,0], 'g-.')\n",
    "    ax.grid(alpha = 0.6)\n",
    "\n",
    "interact(graficar_animado, C1 = (5,8))    \n",
    "\n",
    "plt.show() "
   ]
  },
  {
   "cell_type": "markdown",
   "id": "7c472894",
   "metadata": {
    "slideshow": {
     "slide_type": "slide"
    }
   },
   "source": [
    "## Observaciones a la solución general"
   ]
  },
  {
   "cell_type": "markdown",
   "id": "4758ef44",
   "metadata": {
    "slideshow": {
     "slide_type": "slide"
    }
   },
   "source": [
    "1. Cambiar la constante de integración $C_{1}$ cambia la condición inicial y el máximo alcanzado de alcohol.  \n",
    "2.  \n",
    "3.  \n",
    "4.  \n",
    "5.  "
   ]
  },
  {
   "cell_type": "markdown",
   "id": "2f576c50",
   "metadata": {
    "slideshow": {
     "slide_type": "slide"
    }
   },
   "source": [
    "## Graficar la solución particular "
   ]
  },
  {
   "cell_type": "code",
   "execution_count": 14,
   "id": "322c636d",
   "metadata": {
    "scrolled": true,
    "slideshow": {
     "slide_type": "slide"
    }
   },
   "outputs": [
    {
     "data": {
      "image/png": "[encoded data removed]",
      "text/plain": [
       "<Figure size 432x288 with 1 Axes>"
      ]
     },
     "metadata": {
      "needs_background": "light"
     },
     "output_type": "display_data"
    }
   ],
   "source": [
    "import numpy as np \n",
    "import matplotlib.pyplot as plt \n",
    "\n",
    "def sol_pvi(t):\n",
    "    return t**5/15625000 - t**4/62500 + t**3/625 - 2*t**2/25 + 3*t/2 + 5\n",
    "\n",
    "T = np.linspace(0,50, 300)\n",
    "Y = [sol_pvi(t) for t in T]\n",
    "\n",
    "plt.plot(T,Y)\n",
    "plt.grid(alpha = 0.6) \n",
    "plt.title('Cantidad de alcohol en la mezcla')\n",
    "plt.plot([np.min(T), np.max(T)],[0,0])\n",
    "plt.plot([0,0], [-5,15], 'orange') # trazo de eje vertical\n",
    "plt.xlabel('tiempo en minutos')\n",
    "plt.ylabel('cantidad de alcohol en galones')\n",
    "\n",
    "plt.savefig('solución PVI.jpg')\n",
    "\n",
    "plt.show() "
   ]
  },
  {
   "cell_type": "markdown",
   "id": "b9075dd3",
   "metadata": {
    "slideshow": {
     "slide_type": "slide"
    }
   },
   "source": [
    "## Observaciones e inferencias del gráfico de la solución del PVI"
   ]
  },
  {
   "cell_type": "markdown",
   "id": "cc1b108a",
   "metadata": {
    "slideshow": {
     "slide_type": "slide"
    }
   },
   "source": [
    "1. La cantidad de alcohol en el tanque es una función diferenciable cuyo cero es $t = 50$ y cuyo valor inicial es de 5 galones de alcohol. \n",
    "2.  \n",
    "3.  \n",
    "4.  \n",
    "5.  "
   ]
  },
  {
   "cell_type": "code",
   "execution_count": null,
   "id": "52a120a7",
   "metadata": {
    "slideshow": {
     "slide_type": "slide"
    }
   },
   "outputs": [],
   "source": []
  },
  {
   "cell_type": "markdown",
   "id": "32ddaed5",
   "metadata": {
    "slideshow": {
     "slide_type": "slide"
    }
   },
   "source": [
    "## Referencias  \n",
    "\n",
    "* Guí de ususario sobre solución de ODE con Sympy: https://docs.sympy.org/latest/modules/solvers/ode.html"
   ]
  },
  {
   "cell_type": "code",
   "execution_count": null,
   "id": "185b6b88",
   "metadata": {},
   "outputs": [],
   "source": []
  }
 ],
 "metadata": {
  "celltoolbar": "Slideshow",
  "kernelspec": {
   "display_name": "Python 3 (ipykernel)",
   "language": "python",
   "name": "python3"
  },
  "language_info": {
   "codemirror_mode": {
    "name": "ipython",
    "version": 3
   },
   "file_extension": ".py",
   "mimetype": "text/x-python",
   "name": "python",
   "nbconvert_exporter": "python",
   "pygments_lexer": "ipython3",
   "version": "3.9.12"
  }
 },
 "nbformat": 4,
 "nbformat_minor": 5
}
