{
 "cells": [
  {
   "cell_type": "markdown",
   "id": "164a32e4",
   "metadata": {
    "slideshow": {
     "slide_type": "slide"
    }
   },
   "source": [
    "<table align=\"left\">\n",
    "  <td>\n",
    "    <a href=\"https://colab.research.google.com/github/marco-canas/edo/blob/main/banco_preguntas/trabajo_final_dinamica_poblacional/6_sierra_vergara/sierra_mezcla.ipynb\" target=\"_parent\"><img src=\"https://colab.research.google.com/assets/colab-badge.svg\" alt=\"Open In Colab\"/></a>\n",
    "  </td>\n",
    "</table>"
   ]
  },
  {
   "cell_type": "markdown",
   "id": "105920b3",
   "metadata": {
    "slideshow": {
     "slide_type": "slide"
    }
   },
   "source": [
    "# Aplicaciones  "
   ]
  },
  {
   "cell_type": "markdown",
   "id": "c8cce215",
   "metadata": {
    "slideshow": {
     "slide_type": "slide"
    }
   },
   "source": [
    "Un tipo de problema que se puede describir en términos de una ecuación diferencial involucra mezclas químicas, como se ilustra en el siguiente ejemplo.  "
   ]
  },
  {
   "cell_type": "markdown",
   "id": "09b78385",
   "metadata": {
    "slideshow": {
     "slide_type": "slide"
    }
   },
   "source": [
    "El proximo ejemplo es tomado de la página 455 del Larson. "
   ]
  },
  {
   "cell_type": "markdown",
   "id": "6916a710",
   "metadata": {
    "slideshow": {
     "slide_type": "slide"
    }
   },
   "source": [
    "## EJEMPLO 4 Un problema de mezcla"
   ]
  },
  {
   "cell_type": "markdown",
   "id": "55af6fb7",
   "metadata": {
    "slideshow": {
     "slide_type": "slide"
    }
   },
   "source": [
    "Un tanque contiene 50 galones de una disolución compuesta por 90% agua y 10% alcohol.  \n",
    "\n",
    "Una segunda disolución que contiene 50% agua y 50% alcohol se agrega al tanque a una tasa de 4 galones por minuto. Conforme se añade la segunda, el tanque empieza a drenar a una tasa de 5 galones por minuto, como se muestra en la figura 6.21.   \n",
    "\n",
    "Si se supone que la disolución en el tanque se agita constantemente, ¿cuánto alcohol permanecerá en el tanque después de 10 minutos?"
   ]
  },
  {
   "cell_type": "markdown",
   "id": "702d81ce",
   "metadata": {
    "slideshow": {
     "slide_type": "slide"
    }
   },
   "source": [
    "<img src = 'https://github.com/marco-canas/edo/blob/main/banco_preguntas/trabajo_final_dinamica_poblacional/6_sierra_vergara/figura_6_21.jpg?raw=true'>"
   ]
  },
  {
   "cell_type": "markdown",
   "id": "92a84ee7",
   "metadata": {
    "slideshow": {
     "slide_type": "slide"
    }
   },
   "source": [
    "## Resuelva analíticamente el PVI que modela el problema de mezclas asignado: "
   ]
  },
  {
   "cell_type": "markdown",
   "id": "1a6143c5",
   "metadata": {
    "slideshow": {
     "slide_type": "slide"
    }
   },
   "source": [
    "Sea $y$ el número de galones de alcohol en el tanque en cualquier instante $t$. "
   ]
  },
  {
   "cell_type": "markdown",
   "id": "b075afdc",
   "metadata": {
    "slideshow": {
     "slide_type": "slide"
    }
   },
   "source": [
    "Se sabe que $y = 5$ cuando $t = 0$."
   ]
  },
  {
   "cell_type": "markdown",
   "id": "e239d4d0",
   "metadata": {
    "slideshow": {
     "slide_type": "slide"
    }
   },
   "source": [
    "Como la diferencia entre lo que entra y lo que sale del tanque es de $1$ galón por minuto, entonces \n",
    "\n",
    "La función que modela el volumen de líquido en la mezcla en cada instante es lineal (tasa de decrecimiento constante) \n",
    "\n",
    "$$ \\text{número de galones en cada instante es} = -1(t) + 50 = 50 - t $$\n"
   ]
  },
  {
   "cell_type": "markdown",
   "id": "32f44575",
   "metadata": {
    "slideshow": {
     "slide_type": "slide"
    }
   },
   "source": [
    "Dado que el número de galones en el tanque en cualquier tiempo es $50 - t$, y que el tanque pierde 5 galones por minuto, se debe perder $[5/(50 - t)]y$ galones de alcohol por minuto. "
   ]
  },
  {
   "cell_type": "markdown",
   "id": "afa73ad8",
   "metadata": {
    "slideshow": {
     "slide_type": "slide"
    }
   },
   "source": [
    "Además, ya que el tanque gana 2 galones de alcohol por minuto, el ritmo o velocidad de cambio de alcohol en el tanque está dada por  \n",
    "\n",
    "$$ \\frac{dy}{dt} = 2 - \\left( \\frac{5}{50 - t} \\right)y \\ \\ \\ \\ \\ \\ \\ \\Rightarrow \\ \\ \\ \\  \\ \\ \\ \\frac{dy}{dt} + \\left( \\frac{5}{50 - t} \\right)y = 2  $$\n",
    "\n"
   ]
  },
  {
   "cell_type": "markdown",
   "id": "01ebf529",
   "metadata": {
    "slideshow": {
     "slide_type": "slide"
    }
   },
   "source": [
    "Para resolver esta ecuación diferencial sea $p(t) = \\frac{5}{50 - t}$ "
   ]
  },
  {
   "cell_type": "markdown",
   "id": "cc609dd5",
   "metadata": {
    "slideshow": {
     "slide_type": "slide"
    }
   },
   "source": []
  },
  {
   "cell_type": "markdown",
   "id": "8db5190c",
   "metadata": {
    "slideshow": {
     "slide_type": "slide"
    }
   },
   "source": []
  },
  {
   "cell_type": "markdown",
   "id": "9a972c9f",
   "metadata": {
    "slideshow": {
     "slide_type": "slide"
    }
   },
   "source": []
  },
  {
   "cell_type": "markdown",
   "id": "bd183e2f",
   "metadata": {
    "slideshow": {
     "slide_type": "slide"
    }
   },
   "source": []
  },
  {
   "cell_type": "markdown",
   "id": "b724d528",
   "metadata": {
    "slideshow": {
     "slide_type": "slide"
    }
   },
   "source": [
    "# Resuelva y verifique con sympy el PVI y redacte una conclusión verbal donde compare la solución hallada analíticamente con la solución hallada con la librería de cálculo simbólico sympy.  "
   ]
  },
  {
   "cell_type": "code",
   "execution_count": 1,
   "id": "59e5806e",
   "metadata": {
    "slideshow": {
     "slide_type": "slide"
    }
   },
   "outputs": [],
   "source": [
    "from sympy import var, Function, Eq, ode_order, classify_ode, diff, dsolve, solvers, checkodesol "
   ]
  },
  {
   "cell_type": "code",
   "execution_count": 2,
   "id": "5d065132",
   "metadata": {
    "slideshow": {
     "slide_type": "slide"
    }
   },
   "outputs": [],
   "source": [
    "t,y = var('t y') # definición de las variables simbólicas \n"
   ]
  },
  {
   "cell_type": "code",
   "execution_count": 4,
   "id": "ceb888b4",
   "metadata": {
    "slideshow": {
     "slide_type": "slide"
    }
   },
   "outputs": [],
   "source": [
    "y = Function('y')   # establecer la relación funcional entre t y y"
   ]
  },
  {
   "cell_type": "code",
   "execution_count": 6,
   "id": "72f84ed6",
   "metadata": {
    "slideshow": {
     "slide_type": "slide"
    }
   },
   "outputs": [],
   "source": [
    "ecuacion_dif = Eq(diff(y(t), t) + (5/(50 - t))*y(t) - 2, 0)"
   ]
  },
  {
   "cell_type": "markdown",
   "id": "f03fe227",
   "metadata": {
    "slideshow": {
     "slide_type": "slide"
    }
   },
   "source": [
    "## Determine el orden de la ED utilizando la función `ode_order` de sympy"
   ]
  },
  {
   "cell_type": "code",
   "execution_count": 7,
   "id": "5b174bc9",
   "metadata": {
    "slideshow": {
     "slide_type": "slide"
    }
   },
   "outputs": [
    {
     "data": {
      "text/plain": [
       "1"
      ]
     },
     "execution_count": 7,
     "metadata": {},
     "output_type": "execute_result"
    }
   ],
   "source": [
    "ode_order(ecuacion_dif, y(t))"
   ]
  },
  {
   "cell_type": "markdown",
   "id": "a332ab30",
   "metadata": {
    "slideshow": {
     "slide_type": "slide"
    }
   },
   "source": [
    "## Clasifica la ecuación diferencial del problema de valor inicial dado"
   ]
  },
  {
   "cell_type": "code",
   "execution_count": 8,
   "id": "efac6901",
   "metadata": {
    "scrolled": true,
    "slideshow": {
     "slide_type": "slide"
    }
   },
   "outputs": [
    {
     "data": {
      "text/plain": [
       "('factorable',\n",
       " '1st_exact',\n",
       " '1st_linear',\n",
       " 'Bernoulli',\n",
       " 'almost_linear',\n",
       " 'linear_coefficients',\n",
       " '1st_power_series',\n",
       " 'lie_group',\n",
       " '1st_exact_Integral',\n",
       " '1st_linear_Integral',\n",
       " 'Bernoulli_Integral',\n",
       " 'almost_linear_Integral',\n",
       " 'linear_coefficients_Integral')"
      ]
     },
     "execution_count": 8,
     "metadata": {},
     "output_type": "execute_result"
    }
   ],
   "source": [
    "classify_ode(ecuacion_dif)"
   ]
  },
  {
   "cell_type": "markdown",
   "id": "b1747d96",
   "metadata": {
    "slideshow": {
     "slide_type": "slide"
    }
   },
   "source": [
    "## Resuelve el PVI con sympy "
   ]
  },
  {
   "cell_type": "code",
   "execution_count": 30,
   "id": "e51da830",
   "metadata": {
    "slideshow": {
     "slide_type": "slide"
    }
   },
   "outputs": [
    {
     "data": {
      "text/latex": [
       "$\\displaystyle y{\\left(t \\right)} = C_{1} t^{5} - 250 C_{1} t^{4} + 25000 C_{1} t^{3} - 1250000 C_{1} t^{2} + 31250000 C_{1} t - 312500000 C_{1} - \\frac{t}{2} + 25$"
      ],
      "text/plain": [
       "Eq(y(t), C1*t**5 - 250*C1*t**4 + 25000*C1*t**3 - 1250000*C1*t**2 + 31250000*C1*t - 312500000*C1 - t/2 + 25)"
      ]
     },
     "execution_count": 30,
     "metadata": {},
     "output_type": "execute_result"
    }
   ],
   "source": [
    "sol_gen_latex = dsolve(ecuacion_dif, y(t)) \n",
    "sol_gen_latex "
   ]
  },
  {
   "cell_type": "code",
   "execution_count": 31,
   "id": "577cff30",
   "metadata": {
    "slideshow": {
     "slide_type": "slide"
    }
   },
   "outputs": [],
   "source": [
    "def sol_gen(t, C1 = 0):\n",
    "    return C1*(t**5 - 250*t**4 + 25000*t**3 - 1250000*t**2 + 31250000*t - 312500000) - t/2 + 25"
   ]
  },
  {
   "cell_type": "code",
   "execution_count": 32,
   "id": "b5b62369",
   "metadata": {
    "slideshow": {
     "slide_type": "slide"
    }
   },
   "outputs": [
    {
     "data": {
      "text/latex": [
       "$\\displaystyle y{\\left(t \\right)} = \\frac{t^{5}}{15625000} - \\frac{t^{4}}{62500} + \\frac{t^{3}}{625} - \\frac{2 t^{2}}{25} + \\frac{3 t}{2} + 5$"
      ],
      "text/plain": [
       "Eq(y(t), t**5/15625000 - t**4/62500 + t**3/625 - 2*t**2/25 + 3*t/2 + 5)"
      ]
     },
     "execution_count": 32,
     "metadata": {},
     "output_type": "execute_result"
    }
   ],
   "source": [
    "dsolve(ecuacion_dif, y(t), ics = {sol_gen_latex.lhs.subs(t,0):5})"
   ]
  },
  {
   "cell_type": "code",
   "execution_count": 33,
   "id": "79ebb85b",
   "metadata": {
    "slideshow": {
     "slide_type": "slide"
    }
   },
   "outputs": [],
   "source": [
    "def sol_pvi(t):\n",
    "    return t**5/15625000 - t**4/62500 + t**3/625 - 2*t**2/25 + 3*t/2 + 5"
   ]
  },
  {
   "cell_type": "markdown",
   "id": "ffa3d6f7",
   "metadata": {
    "slideshow": {
     "slide_type": "slide"
    }
   },
   "source": [
    "## Describa y clasifique la solución del PVI"
   ]
  },
  {
   "cell_type": "markdown",
   "id": "1278cd10",
   "metadata": {
    "slideshow": {
     "slide_type": "slide"
    }
   },
   "source": [
    "1.  \n",
    "2.  \n",
    "3.  "
   ]
  },
  {
   "cell_type": "markdown",
   "id": "1ce689fd",
   "metadata": {
    "slideshow": {
     "slide_type": "slide"
    }
   },
   "source": [
    "## Diga que tipo de funciones es la solución de la ED. "
   ]
  },
  {
   "cell_type": "markdown",
   "id": "dfb5f4bb",
   "metadata": {
    "slideshow": {
     "slide_type": "slide"
    }
   },
   "source": [
    "**Sugerencia** \n",
    "\n",
    "`ics` is the set of initial conditions for the differential equation.\n",
    "\n",
    "It should be given in the form of `{f(x0): x1, f(x).diff(x).subs(x, x2): x3}` and so on.   \n",
    "\n",
    "For power series solutions, if no initial conditions are specified `f(0)` is assumed to be C0 and the power series solution is calculated about 0.\n"
   ]
  },
  {
   "cell_type": "markdown",
   "id": "dfe0096e",
   "metadata": {
    "slideshow": {
     "slide_type": "slide"
    }
   },
   "source": [
    "# Gráfica de la solución general de la ED usando matplotlib y la función interact del módulo ipywidgets para gráficos animados con deslizadores "
   ]
  },
  {
   "cell_type": "code",
   "execution_count": 48,
   "id": "ece0f2f2",
   "metadata": {
    "slideshow": {
     "slide_type": "slide"
    }
   },
   "outputs": [
    {
     "data": {
      "application/vnd.jupyter.widget-view+json": {
       "model_id": "a404435dfd194ed39e18e7a12c73deae",
       "version_major": 2,
       "version_minor": 0
      },
      "text/plain": [
       "interactive(children=(IntSlider(value=5, description='C1', max=8, min=5), Output()), _dom_classes=('widget-int…"
      ]
     },
     "metadata": {},
     "output_type": "display_data"
    }
   ],
   "source": [
    "import numpy as np \n",
    "import matplotlib.pyplot as plt \n",
    "from ipywidgets import interact \n",
    "\n",
    "\n",
    "def graficar_animado(C1 = 0):\n",
    "    fig, ax = plt.subplots()\n",
    "    T = np.linspace(0,12,300)\n",
    "    Y = [sol_gen(t, C1 = C1*10**-8) for t in T]\n",
    "    ax.plot(T,Y)\n",
    "    ax.axis([0,12, -1,12])\n",
    "    ax.grid(alpha = 0.6)\n",
    "\n",
    "interact(graficar_animado, C1 = (5,8))    \n",
    "\n",
    "plt.show() "
   ]
  },
  {
   "cell_type": "markdown",
   "id": "2f576c50",
   "metadata": {
    "slideshow": {
     "slide_type": "slide"
    }
   },
   "source": [
    "## Graficar la solución particular "
   ]
  },
  {
   "cell_type": "code",
   "execution_count": 16,
   "id": "322c636d",
   "metadata": {
    "slideshow": {
     "slide_type": "slide"
    }
   },
   "outputs": [
    {
     "data": {
      "image/png": "[encoded data removed]",
      "text/plain": [
       "<Figure size 432x288 with 1 Axes>"
      ]
     },
     "metadata": {
      "needs_background": "light"
     },
     "output_type": "display_data"
    }
   ],
   "source": [
    "import numpy as np \n",
    "import matplotlib.pyplot as plt \n",
    "\n",
    "T = np.linspace(0,12, 300)\n",
    "Y = [sol_pvi(t) for t in T]\n",
    "\n",
    "plt.plot(T,Y)\n",
    "plt.grid(alpha = 0.6) \n",
    "\n",
    "plt.show() "
   ]
  },
  {
   "cell_type": "markdown",
   "id": "b9075dd3",
   "metadata": {
    "slideshow": {
     "slide_type": "slide"
    }
   },
   "source": [
    "## Observaciones e inferencias del grafico de la solución del PVI"
   ]
  },
  {
   "cell_type": "markdown",
   "id": "cc1b108a",
   "metadata": {
    "slideshow": {
     "slide_type": "slide"
    }
   },
   "source": [
    "1.  \n",
    "2.  \n",
    "3.  \n",
    "4.  \n",
    "5.  "
   ]
  },
  {
   "cell_type": "code",
   "execution_count": null,
   "id": "52a120a7",
   "metadata": {
    "slideshow": {
     "slide_type": "slide"
    }
   },
   "outputs": [],
   "source": []
  },
  {
   "cell_type": "markdown",
   "id": "32ddaed5",
   "metadata": {
    "slideshow": {
     "slide_type": "slide"
    }
   },
   "source": [
    "## Referencias  \n",
    "\n",
    "* Guí de ususario sobre solución de ODE con Sympy: https://docs.sympy.org/latest/modules/solvers/ode.html"
   ]
  },
  {
   "cell_type": "code",
   "execution_count": null,
   "id": "185b6b88",
   "metadata": {},
   "outputs": [],
   "source": []
  }
 ],
 "metadata": {
  "celltoolbar": "Slideshow",
  "kernelspec": {
   "display_name": "Python 3 (ipykernel)",
   "language": "python",
   "name": "python3"
  },
  "language_info": {
   "codemirror_mode": {
    "name": "ipython",
    "version": 3
   },
   "file_extension": ".py",
   "mimetype": "text/x-python",
   "name": "python",
   "nbconvert_exporter": "python",
   "pygments_lexer": "ipython3",
   "version": "3.9.12"
  }
 },
 "nbformat": 4,
 "nbformat_minor": 5
}
