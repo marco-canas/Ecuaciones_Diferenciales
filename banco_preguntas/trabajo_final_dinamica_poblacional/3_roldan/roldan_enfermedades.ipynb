{
 "cells": [
  {
   "cell_type": "markdown",
   "id": "5cddaba0",
   "metadata": {
    "slideshow": {
     "slide_type": "slide"
    }
   },
   "source": [
    "<table align=\"left\">\n",
    "  <td>\n",
    "    <a href=\"https://colab.research.google.com/github/marco-canas/edo/blob/main/banco_preguntas/trabajo_final_dinamica_poblacional/3_roldan/roldan_enfermedades.ipynb\" target=\"_parent\"><img src=\"https://colab.research.google.com/assets/colab-badge.svg\" alt=\"Open In Colab\"/></a>\n",
    "  </td>\n",
    "</table>"
   ]
  },
  {
   "cell_type": "markdown",
   "id": "8567ac95",
   "metadata": {
    "slideshow": {
     "slide_type": "slide"
    }
   },
   "source": [
    "# Epidemias"
   ]
  },
  {
   "cell_type": "markdown",
   "id": "88e2848a",
   "metadata": {
    "slideshow": {
     "slide_type": "slide"
    }
   },
   "source": [
    "El empleo de los métodos matemáticos para estudiar la propagación de enfermedades contagiosas se remonta por lo menos hasta uno trabajos de daniel Bernoulli sobre la viruela, en 1760. "
   ]
  },
  {
   "cell_type": "markdown",
   "id": "7a67b41b",
   "metadata": {
    "slideshow": {
     "slide_type": "slide"
    }
   },
   "source": [
    "En años más recientes se han propuesto y estudiado muchos modelos para muchas enfermedades diferentes. "
   ]
  },
  {
   "cell_type": "markdown",
   "id": "8aaf8721",
   "metadata": {
    "slideshow": {
     "slide_type": "slide"
    }
   },
   "source": [
    "En el siguiente problema se trata uno de los modelos más sencillos y las conclusiones que es posible obtener de ellos. "
   ]
  },
  {
   "cell_type": "markdown",
   "id": "01fb2aec",
   "metadata": {
    "slideshow": {
     "slide_type": "slide"
    }
   },
   "source": [
    "También se han utilizado modelos semejantes para describir la propagación de rumores y de productos para el consumidor. "
   ]
  },
  {
   "cell_type": "markdown",
   "id": "3fb98492",
   "metadata": {
    "slideshow": {
     "slide_type": "slide"
    }
   },
   "source": [
    "## Planteamiento del problema a resolver"
   ]
  },
  {
   "cell_type": "markdown",
   "id": "d543d732",
   "metadata": {
    "slideshow": {
     "slide_type": "slide"
    }
   },
   "source": [
    "Suponga que una población dada puede dividirse en dos partes: aquellos que tienen una enfermedad dada y pueden contagiar a los demás,  y aquellos que no la tienen pero son suceptibles de adquirirla. "
   ]
  },
  {
   "cell_type": "markdown",
   "id": "1a486370",
   "metadata": {
    "slideshow": {
     "slide_type": "slide"
    }
   },
   "source": [
    "Sea $x$ la proporción de individuos suceptibles y $y$ la proporción de individuos infectados; entonces $x + y = 1$. "
   ]
  },
  {
   "cell_type": "markdown",
   "id": "40bd5b2a",
   "metadata": {
    "slideshow": {
     "slide_type": "slide"
    }
   },
   "source": [
    "Suponga que la enfermedad se propaga por contacto entre los miembros enfermos y los sanos de la población y que la razón de propagación $dy/dt$ es proporcional al número de esos contactos. "
   ]
  },
  {
   "cell_type": "markdown",
   "id": "300a0ccb",
   "metadata": {
    "slideshow": {
     "slide_type": "slide"
    }
   },
   "source": [
    "Además, suponga que los miembros de los dos grupos se desplazan libremente entre sí, de modo que el número de contactos es proporcional al producto de $x$ y $y$. "
   ]
  },
  {
   "cell_type": "markdown",
   "id": "bc6e4997",
   "metadata": {
    "slideshow": {
     "slide_type": "slide"
    }
   },
   "source": [
    "Como $x = 1-y$, se obtiene el problema con valor inicial \n",
    "\n",
    "$$ \\frac{dy}{dt} =  \\alpha y(1-y), \\ \\ \\ \\ \\ y(0) = y_{0} $$\n",
    "\n",
    "en donde $\\alpha$ es un factor de proporcionalidad positivo y $y_{0}$ es la proporción inicia de individuos infectados. \n"
   ]
  },
  {
   "cell_type": "markdown",
   "id": "e5fdeb19",
   "metadata": {
    "slideshow": {
     "slide_type": "slide"
    }
   },
   "source": [
    "a. Encuentre los puntos de equilibrio de la ecuación diferencial del PVI dado y determine si cada uno es estable o inestable. (Leer desde la página 72 del Boyce DiPrima). \n",
    "\n",
    "b. Resuelva el problema con valor inicial y verifique que las conclusiones a las que llegó en el inciso a) son correctas. \n",
    "\n",
    "c. Demuestre que $y(t) \\to 1$, cuando $t \\to \\infty$, lo cual significa que la enfermedad terminará por propagarse por toda la población. "
   ]
  },
  {
   "cell_type": "markdown",
   "id": "12f302ac",
   "metadata": {
    "slideshow": {
     "slide_type": "slide"
    }
   },
   "source": []
  },
  {
   "cell_type": "markdown",
   "id": "81ce8bfd",
   "metadata": {
    "slideshow": {
     "slide_type": "slide"
    }
   },
   "source": [
    "Ejercicio toma de del texto de Boyce DiPrima página 84, ejercicio 20. "
   ]
  },
  {
   "cell_type": "code",
   "execution_count": null,
   "id": "8ada60c7",
   "metadata": {
    "slideshow": {
     "slide_type": "slide"
    }
   },
   "outputs": [],
   "source": []
  },
  {
   "cell_type": "code",
   "execution_count": null,
   "id": "d7a7334f",
   "metadata": {
    "slideshow": {
     "slide_type": "slide"
    }
   },
   "outputs": [],
   "source": []
  },
  {
   "cell_type": "code",
   "execution_count": null,
   "id": "cc7ffae5",
   "metadata": {},
   "outputs": [],
   "source": []
  },
  {
   "cell_type": "code",
   "execution_count": null,
   "id": "9b078345",
   "metadata": {},
   "outputs": [],
   "source": []
  },
  {
   "cell_type": "code",
   "execution_count": null,
   "id": "954447e4",
   "metadata": {},
   "outputs": [],
   "source": []
  },
  {
   "cell_type": "code",
   "execution_count": null,
   "id": "6fef83f2",
   "metadata": {},
   "outputs": [],
   "source": []
  },
  {
   "cell_type": "code",
   "execution_count": null,
   "id": "1239865d",
   "metadata": {},
   "outputs": [],
   "source": []
  },
  {
   "cell_type": "code",
   "execution_count": null,
   "id": "9a73e34a",
   "metadata": {},
   "outputs": [],
   "source": []
  }
 ],
 "metadata": {
  "celltoolbar": "Slideshow",
  "kernelspec": {
   "display_name": "Python 3 (ipykernel)",
   "language": "python",
   "name": "python3"
  },
  "language_info": {
   "codemirror_mode": {
    "name": "ipython",
    "version": 3
   },
   "file_extension": ".py",
   "mimetype": "text/x-python",
   "name": "python",
   "nbconvert_exporter": "python",
   "pygments_lexer": "ipython3",
   "version": "3.9.12"
  }
 },
 "nbformat": 4,
 "nbformat_minor": 5
}
