{
 "cells": [
  {
   "cell_type": "markdown",
   "id": "5cddaba0",
   "metadata": {
    "slideshow": {
     "slide_type": "slide"
    }
   },
   "source": [
    "<table align=\"left\">\n",
    "  <td>\n",
    "    <a href=\"https://colab.research.google.com/github/marco-canas/edo/blob/main/banco_preguntas/trabajo_final_dinamica_poblacional/3_roldan/roldan_enfermedades.ipynb\" target=\"_parent\"><img src=\"https://colab.research.google.com/assets/colab-badge.svg\" alt=\"Open In Colab\"/></a>\n",
    "  </td>\n",
    "</table>"
   ]
  },
  {
   "cell_type": "markdown",
   "id": "8567ac95",
   "metadata": {
    "slideshow": {
     "slide_type": "slide"
    }
   },
   "source": [
    "# Epidemias"
   ]
  },
  {
   "cell_type": "markdown",
   "id": "88e2848a",
   "metadata": {
    "slideshow": {
     "slide_type": "slide"
    }
   },
   "source": [
    "El empleo de los métodos matemáticos para estudiar la propagación de enfermedades contagiosas se remonta por lo menos hasta uno trabajos de Daniel Bernoulli sobre la viruela, en 1760. "
   ]
  },
  {
   "cell_type": "markdown",
   "id": "7a67b41b",
   "metadata": {
    "slideshow": {
     "slide_type": "slide"
    }
   },
   "source": [
    "En años más recientes se han propuesto y estudiado muchos modelos para muchas enfermedades diferentes. "
   ]
  },
  {
   "cell_type": "markdown",
   "id": "8aaf8721",
   "metadata": {
    "slideshow": {
     "slide_type": "slide"
    }
   },
   "source": [
    "En el siguiente problema se trata uno de los modelos más sencillos y las conclusiones que es posible obtener de ellos. "
   ]
  },
  {
   "cell_type": "markdown",
   "id": "01fb2aec",
   "metadata": {
    "slideshow": {
     "slide_type": "slide"
    }
   },
   "source": [
    "También se han utilizado modelos semejantes para describir la propagación de rumores y de productos para el consumidor. "
   ]
  },
  {
   "cell_type": "markdown",
   "id": "3fb98492",
   "metadata": {
    "slideshow": {
     "slide_type": "slide"
    }
   },
   "source": [
    "## Planteamiento del problema a resolver"
   ]
  },
  {
   "cell_type": "markdown",
   "id": "d543d732",
   "metadata": {
    "slideshow": {
     "slide_type": "slide"
    }
   },
   "source": [
    "Suponga que una población dada puede dividirse en dos partes: aquellos que tienen una enfermedad dada y pueden contagiar a los demás,  y aquellos que no la tienen pero son suceptibles de adquirirla. "
   ]
  },
  {
   "cell_type": "markdown",
   "id": "1a486370",
   "metadata": {
    "slideshow": {
     "slide_type": "slide"
    }
   },
   "source": [
    "Sea $x$ la proporción de individuos suceptibles y $y$ la proporción de individuos infectados; entonces $x + y = 1$. "
   ]
  },
  {
   "cell_type": "markdown",
   "id": "40bd5b2a",
   "metadata": {
    "slideshow": {
     "slide_type": "slide"
    }
   },
   "source": [
    "Suponga que la enfermedad se propaga por contacto entre los miembros enfermos y los sanos de la población y que la razón de propagación $dy/dt$ es proporcional al número de esos contactos. "
   ]
  },
  {
   "cell_type": "markdown",
   "id": "300a0ccb",
   "metadata": {
    "slideshow": {
     "slide_type": "slide"
    }
   },
   "source": [
    "Además, suponga que los miembros de los dos grupos se desplazan libremente entre sí, de modo que el número de contactos es proporcional al producto de $x$ y $y$. "
   ]
  },
  {
   "cell_type": "markdown",
   "id": "bc6e4997",
   "metadata": {
    "slideshow": {
     "slide_type": "slide"
    }
   },
   "source": [
    "Como $x = 1-y$, se obtiene el problema con valor inicial \n",
    "\n",
    "$$ \\frac{dy}{dt} =  \\alpha y(1-y), \\ \\ \\ \\ \\ y(0) = y_{0} $$\n",
    "\n",
    "en donde $\\alpha$ es un factor de proporcionalidad positivo y $y_{0}$ es la proporción inicia de individuos infectados. \n"
   ]
  },
  {
   "cell_type": "markdown",
   "id": "e5fdeb19",
   "metadata": {
    "slideshow": {
     "slide_type": "slide"
    }
   },
   "source": [
    "a. Encuentre los puntos de equilibrio de la ecuación diferencial del PVI dado y determine si cada uno es estable o inestable. (Leer desde la página 72 del Boyce DiPrima). \n",
    "\n",
    "b. Resuelva el problema con valor inicial y verifique que las conclusiones a las que llegó en el inciso a) son correctas. \n",
    "\n",
    "c. Demuestre que $y(t) \\to 1$, cuando $t \\to \\infty$, lo cual significa que la enfermedad terminará por propagarse por toda la población. "
   ]
  },
  {
   "cell_type": "markdown",
   "id": "81ce8bfd",
   "metadata": {
    "slideshow": {
     "slide_type": "slide"
    }
   },
   "source": [
    "Ejercicio toma de del texto de Boyce DiPrima página 84, ejercicio 20. "
   ]
  },
  {
   "cell_type": "markdown",
   "id": "d4f6fbc8",
   "metadata": {
    "slideshow": {
     "slide_type": "slide"
    }
   },
   "source": [
    "## Solución"
   ]
  },
  {
   "cell_type": "markdown",
   "id": "458d7e3d",
   "metadata": {
    "slideshow": {
     "slide_type": "slide"
    }
   },
   "source": [
    "## Redacte una interpretación de la ED del PVI"
   ]
  },
  {
   "cell_type": "markdown",
   "id": "938a7b0b",
   "metadata": {
    "slideshow": {
     "slide_type": "slide"
    }
   },
   "source": [
    "La razón de propagación de la enfermedad es proporcional al producto entre el porcentaje de infectados y el porcentaje que no la tienen pero que son susceptibles a ella. El porcentaje inicial de infectados es $y_{0}$.  "
   ]
  },
  {
   "cell_type": "markdown",
   "id": "9f232544",
   "metadata": {
    "slideshow": {
     "slide_type": "slide"
    }
   },
   "source": [
    "## Clasifique la ED del PVI justificando su clasificación"
   ]
  },
  {
   "cell_type": "markdown",
   "id": "9b02f487",
   "metadata": {
    "slideshow": {
     "slide_type": "slide"
    }
   },
   "source": [
    "$$ \\frac{dy}{dt} =  \\alpha y(1-y), \\ \\ \\ \\ \\ y(0) = y_{0} $$"
   ]
  },
  {
   "cell_type": "markdown",
   "id": "37112207",
   "metadata": {
    "slideshow": {
     "slide_type": "slide"
    }
   },
   "source": [
    "Como la ED dada tiene la forma $y' = f(t)g(y)$, entonces es una ED separable. "
   ]
  },
  {
   "cell_type": "markdown",
   "id": "e23d1711",
   "metadata": {
    "slideshow": {
     "slide_type": "slide"
    }
   },
   "source": [
    "## Solucione analíticamente el PVI describiendo y/o justificando cada paso"
   ]
  },
  {
   "cell_type": "markdown",
   "id": "98312f7b",
   "metadata": {
    "slideshow": {
     "slide_type": "slide"
    }
   },
   "source": [
    "$$ \\frac{dy}{dt} =  \\alpha y(1-y), \\ \\ \\ \\ \\ y(0) = y_{0} $$\n",
    "\n",
    "donde $\\alpha$ es la constante de proporcionalidad. "
   ]
  },
  {
   "cell_type": "markdown",
   "id": "d7e88305",
   "metadata": {
    "slideshow": {
     "slide_type": "slide"
    }
   },
   "source": [
    "Note que $y = 0$ y $y = 1$ son las soluciones de equilibrio del PVI dado, pero la solución $y = 0$ es un punto de equilibrio inestable pues solo se logra si la condición inicial es cero.  "
   ]
  },
  {
   "cell_type": "markdown",
   "id": "b20b4a73",
   "metadata": {
    "slideshow": {
     "slide_type": "slide"
    }
   },
   "source": [
    "$$ \\frac{1}{y(1-y)}dy = \\alpha dt $$"
   ]
  },
  {
   "cell_type": "markdown",
   "id": "b4c623b5",
   "metadata": {
    "slideshow": {
     "slide_type": "slide"
    }
   },
   "source": [
    "$$ \\left( \\frac{1}{y} + \\frac{1}{1-y} \\right) = \\alpha dt  $$"
   ]
  },
  {
   "cell_type": "markdown",
   "id": "f9fd17c5",
   "metadata": {
    "slideshow": {
     "slide_type": "slide"
    }
   },
   "source": [
    "$$ \\int \\left( \\frac{1}{y} + \\frac{1}{1-y} \\right) = \\int \\alpha dt  $$"
   ]
  },
  {
   "cell_type": "markdown",
   "id": "92bf144f",
   "metadata": {
    "slideshow": {
     "slide_type": "slide"
    }
   },
   "source": [
    "$$ \\ln y - \\ln(1-y) = \\alpha t + c_{1} $$\n",
    "\n",
    "pues $y > 0$ y $y < 1$. "
   ]
  },
  {
   "cell_type": "markdown",
   "id": "723ab144",
   "metadata": {
    "slideshow": {
     "slide_type": "slide"
    }
   },
   "source": [
    "$$ \\ln \\left( \\frac{y}{1-y} \\right) = \\alpha t + c_{1} $$"
   ]
  },
  {
   "cell_type": "markdown",
   "id": "d6ffc565",
   "metadata": {
    "slideshow": {
     "slide_type": "slide"
    }
   },
   "source": [
    "$$ \\frac{y}{1-y} = e^{\\alpha t + c_{1}} $$"
   ]
  },
  {
   "cell_type": "markdown",
   "id": "8421aa56",
   "metadata": {
    "slideshow": {
     "slide_type": "slide"
    }
   },
   "source": [
    "$$ \\frac{y}{1-y} = e^{c_{1}}e^{\\alpha t} $$"
   ]
  },
  {
   "cell_type": "markdown",
   "id": "c34885b3",
   "metadata": {
    "slideshow": {
     "slide_type": "slide"
    }
   },
   "source": [
    "$$ \\frac{y}{1-y} = c_{2}e^{\\alpha t} $$\n",
    "\n",
    "donde hemos hecho $c_{2} = e^{c_{1}}$. "
   ]
  },
  {
   "cell_type": "markdown",
   "id": "9c8443a0",
   "metadata": {
    "slideshow": {
     "slide_type": "slide"
    }
   },
   "source": [
    "$$ y = c_{2}e^{\\alpha t}(1-y) $$"
   ]
  },
  {
   "cell_type": "markdown",
   "id": "e273ebe4",
   "metadata": {
    "slideshow": {
     "slide_type": "slide"
    }
   },
   "source": [
    "$$ y = c_{2}e^{\\alpha t} - c_{2}ye^{\\alpha t} $$"
   ]
  },
  {
   "cell_type": "markdown",
   "id": "43bcb0a3",
   "metadata": {
    "slideshow": {
     "slide_type": "slide"
    }
   },
   "source": [
    "$$ y + c_{2}ye^{\\alpha t} = c_{2}e^{\\alpha t} $$"
   ]
  },
  {
   "cell_type": "markdown",
   "id": "c64e132c",
   "metadata": {
    "slideshow": {
     "slide_type": "slide"
    }
   },
   "source": [
    "$$y(1 + c_{2}e^{\\alpha t}) = c_{2}e^{\\alpha t}$$"
   ]
  },
  {
   "cell_type": "markdown",
   "id": "b81390b0",
   "metadata": {
    "slideshow": {
     "slide_type": "slide"
    }
   },
   "source": [
    "$$ y = \\frac{c_{2}e^{\\alpha t}}{1 + c_{2}e^{\\alpha t}} $$"
   ]
  },
  {
   "cell_type": "markdown",
   "id": "ef527dbb",
   "metadata": {
    "slideshow": {
     "slide_type": "slide"
    }
   },
   "source": [
    "$$ y = \\frac{1}{\\frac{1}{c_{2}e^{\\alpha t}} + 1} $$"
   ]
  },
  {
   "cell_type": "markdown",
   "id": "4ef65c2a",
   "metadata": {
    "slideshow": {
     "slide_type": "slide"
    }
   },
   "source": [
    "Por tanto, la solución general de la ED es:  \n",
    "\n",
    "$$ y = \\frac{1}{c_{3}e^{-\\alpha t} + 1} $$"
   ]
  },
  {
   "cell_type": "markdown",
   "id": "b52662da",
   "metadata": {
    "slideshow": {
     "slide_type": "slide"
    }
   },
   "source": [
    "Determinemos la única función que satisface la condición inicial $y(0) = y_{0}$. "
   ]
  },
  {
   "cell_type": "markdown",
   "id": "b45a1774",
   "metadata": {
    "slideshow": {
     "slide_type": "slide"
    }
   },
   "source": [
    "$$ y_{0} = \\frac{1}{c_{3}e^{-\\alpha (0)} + 1} $$"
   ]
  },
  {
   "cell_type": "markdown",
   "id": "82f3acf3",
   "metadata": {
    "slideshow": {
     "slide_type": "slide"
    }
   },
   "source": [
    "$$ y_{0} = \\frac{1}{c_{3} + 1} $$"
   ]
  },
  {
   "cell_type": "markdown",
   "id": "b9aee23f",
   "metadata": {
    "slideshow": {
     "slide_type": "slide"
    }
   },
   "source": [
    "$$ y_{0}(c_{3} + 1) = 1 $$"
   ]
  },
  {
   "cell_type": "markdown",
   "id": "8431469b",
   "metadata": {
    "slideshow": {
     "slide_type": "slide"
    }
   },
   "source": [
    "$$ c_{3} + 1 = \\frac{1}{y_{0}} $$"
   ]
  },
  {
   "cell_type": "markdown",
   "id": "ca546459",
   "metadata": {
    "slideshow": {
     "slide_type": "slide"
    }
   },
   "source": [
    "$$ c_{3} = \\frac{1}{y_{0}} - 1 $$\n",
    "\n",
    "Note que a medida que la condición inicial tiende a cero, entonces $c_{3}$ tiende a infinito y así la solución $t$ tiende a cero. Como la solución de equilibrio $y = 0$ solo se logra cuando $y_{0}$ es cero, entonces $y = 0$ es solución de equilibrio o punto de equilibrio inestable. "
   ]
  },
  {
   "cell_type": "code",
   "execution_count": null,
   "id": "517a5224",
   "metadata": {
    "slideshow": {
     "slide_type": "slide"
    }
   },
   "outputs": [],
   "source": []
  },
  {
   "cell_type": "code",
   "execution_count": null,
   "id": "0124bcf9",
   "metadata": {
    "slideshow": {
     "slide_type": "slide"
    }
   },
   "outputs": [],
   "source": []
  },
  {
   "cell_type": "code",
   "execution_count": null,
   "id": "7180bb72",
   "metadata": {
    "slideshow": {
     "slide_type": "slide"
    }
   },
   "outputs": [],
   "source": []
  },
  {
   "cell_type": "code",
   "execution_count": null,
   "id": "19dc9721",
   "metadata": {
    "slideshow": {
     "slide_type": "slide"
    }
   },
   "outputs": [],
   "source": []
  },
  {
   "cell_type": "code",
   "execution_count": null,
   "id": "8d50593d",
   "metadata": {
    "slideshow": {
     "slide_type": "slide"
    }
   },
   "outputs": [],
   "source": []
  },
  {
   "cell_type": "code",
   "execution_count": null,
   "id": "9660ac02",
   "metadata": {
    "slideshow": {
     "slide_type": "slide"
    }
   },
   "outputs": [],
   "source": []
  },
  {
   "cell_type": "code",
   "execution_count": null,
   "id": "b80af4d8",
   "metadata": {
    "slideshow": {
     "slide_type": "slide"
    }
   },
   "outputs": [],
   "source": []
  }
 ],
 "metadata": {
  "celltoolbar": "Slideshow",
  "kernelspec": {
   "display_name": "Python 3 (ipykernel)",
   "language": "python",
   "name": "python3"
  },
  "language_info": {
   "codemirror_mode": {
    "name": "ipython",
    "version": 3
   },
   "file_extension": ".py",
   "mimetype": "text/x-python",
   "name": "python",
   "nbconvert_exporter": "python",
   "pygments_lexer": "ipython3",
   "version": "3.9.12"
  }
 },
 "nbformat": 4,
 "nbformat_minor": 5
}
