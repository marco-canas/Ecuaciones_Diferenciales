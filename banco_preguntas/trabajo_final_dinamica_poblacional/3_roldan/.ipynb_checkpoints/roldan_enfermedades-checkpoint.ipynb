{
 "cells": [
  {
   "cell_type": "markdown",
   "id": "5cddaba0",
   "metadata": {
    "slideshow": {
     "slide_type": "slide"
    }
   },
   "source": [
    "<table align=\"left\">\n",
    "  <td>\n",
    "    <a href=\"https://colab.research.google.com/github/marco-canas/edo/blob/main/banco_preguntas/trabajo_final_dinamica_poblacional/3_roldan/roldan_enfermedades.ipynb\" target=\"_parent\"><img src=\"https://colab.research.google.com/assets/colab-badge.svg\" alt=\"Open In Colab\"/></a>\n",
    "  </td>\n",
    "</table>"
   ]
  },
  {
   "cell_type": "markdown",
   "id": "8567ac95",
   "metadata": {
    "slideshow": {
     "slide_type": "slide"
    }
   },
   "source": [
    "# Epidemias"
   ]
  },
  {
   "cell_type": "markdown",
   "id": "88e2848a",
   "metadata": {
    "slideshow": {
     "slide_type": "slide"
    }
   },
   "source": [
    "El empleo de los métodos matemáticos para estudiar la propagación de enfermedades contagiosas se remonta por lo menos hasta uno trabajos de Daniel Bernoulli sobre la viruela, en 1760. "
   ]
  },
  {
   "cell_type": "markdown",
   "id": "7a67b41b",
   "metadata": {
    "slideshow": {
     "slide_type": "slide"
    }
   },
   "source": [
    "En años más recientes se han propuesto y estudiado muchos modelos para muchas enfermedades diferentes. "
   ]
  },
  {
   "cell_type": "markdown",
   "id": "8aaf8721",
   "metadata": {
    "slideshow": {
     "slide_type": "slide"
    }
   },
   "source": [
    "En el siguiente problema se trata uno de los modelos más sencillos y las conclusiones que es posible obtener de ellos. "
   ]
  },
  {
   "cell_type": "markdown",
   "id": "01fb2aec",
   "metadata": {
    "slideshow": {
     "slide_type": "slide"
    }
   },
   "source": [
    "También se han utilizado modelos semejantes para describir la propagación de rumores y de productos para el consumidor. "
   ]
  },
  {
   "cell_type": "markdown",
   "id": "3fb98492",
   "metadata": {
    "slideshow": {
     "slide_type": "slide"
    }
   },
   "source": [
    "## Planteamiento del problema a resolver"
   ]
  },
  {
   "cell_type": "markdown",
   "id": "d543d732",
   "metadata": {
    "slideshow": {
     "slide_type": "slide"
    }
   },
   "source": [
    "Suponga que una población dada puede dividirse en dos partes: aquellos que tienen una enfermedad dada y pueden contagiar a los demás,  y aquellos que no la tienen pero son suceptibles de adquirirla. "
   ]
  },
  {
   "cell_type": "markdown",
   "id": "1a486370",
   "metadata": {
    "slideshow": {
     "slide_type": "slide"
    }
   },
   "source": [
    "Sea $x$ la proporción de individuos suceptibles y $y$ la proporción de individuos infectados; entonces $x + y = 1$. "
   ]
  },
  {
   "cell_type": "markdown",
   "id": "40bd5b2a",
   "metadata": {
    "slideshow": {
     "slide_type": "slide"
    }
   },
   "source": [
    "Suponga que la enfermedad se propaga por contacto entre los miembros enfermos y los sanos de la población y que la razón de propagación $dy/dt$ es proporcional al número de esos contactos. "
   ]
  },
  {
   "cell_type": "markdown",
   "id": "300a0ccb",
   "metadata": {
    "slideshow": {
     "slide_type": "slide"
    }
   },
   "source": [
    "Además, suponga que los miembros de los dos grupos se desplazan libremente entre sí, de modo que el número de contactos es proporcional al producto de $x$ y $y$. "
   ]
  },
  {
   "cell_type": "markdown",
   "id": "bc6e4997",
   "metadata": {
    "slideshow": {
     "slide_type": "slide"
    }
   },
   "source": [
    "Como $x = 1-y$, se obtiene el problema con valor inicial \n",
    "\n",
    "$$ \\frac{dy}{dt} =  \\alpha y(1-y), \\ \\ \\ \\ \\ y(0) = y_{0} $$\n",
    "\n",
    "en donde $\\alpha$ es un factor de proporcionalidad positivo y $y_{0}$ es la proporción inicia de individuos infectados. \n"
   ]
  },
  {
   "cell_type": "markdown",
   "id": "e5fdeb19",
   "metadata": {
    "slideshow": {
     "slide_type": "slide"
    }
   },
   "source": [
    "a. Encuentre los puntos de equilibrio de la ecuación diferencial del PVI dado y determine si cada uno es estable o inestable. (Leer desde la página 72 del Boyce DiPrima). \n",
    "\n",
    "b. Resuelva el problema con valor inicial y verifique que las conclusiones a las que llegó en el inciso a) son correctas. \n",
    "\n",
    "c. Demuestre que $y(t) \\to 1$, cuando $t \\to \\infty$, lo cual significa que la enfermedad terminará por propagarse por toda la población. "
   ]
  },
  {
   "cell_type": "markdown",
   "id": "81ce8bfd",
   "metadata": {
    "slideshow": {
     "slide_type": "slide"
    }
   },
   "source": [
    "Ejercicio toma de del texto de Boyce DiPrima página 84, ejercicio 20. "
   ]
  },
  {
   "cell_type": "markdown",
   "id": "55d2bb54",
   "metadata": {
    "slideshow": {
     "slide_type": "slide"
    }
   },
   "source": [
    "## [Video de apoyo](https://www.youtube.com/watch?v=tKhpqt-FkUE)"
   ]
  },
  {
   "cell_type": "markdown",
   "id": "d4f6fbc8",
   "metadata": {
    "slideshow": {
     "slide_type": "slide"
    }
   },
   "source": [
    "## Solución"
   ]
  },
  {
   "cell_type": "markdown",
   "id": "458d7e3d",
   "metadata": {
    "slideshow": {
     "slide_type": "slide"
    }
   },
   "source": [
    "## Redacte una interpretación de la ED del PVI"
   ]
  },
  {
   "cell_type": "markdown",
   "id": "938a7b0b",
   "metadata": {
    "slideshow": {
     "slide_type": "slide"
    }
   },
   "source": [
    "La razón de propagación de la enfermedad es proporcional al producto entre el porcentaje de infectados y el porcentaje que no la tienen pero que son susceptibles a ella. El porcentaje inicial de infectados es $y_{0}$.  "
   ]
  },
  {
   "cell_type": "markdown",
   "id": "9f232544",
   "metadata": {
    "slideshow": {
     "slide_type": "slide"
    }
   },
   "source": [
    "## Clasifique la ED del PVI justificando su clasificación"
   ]
  },
  {
   "cell_type": "markdown",
   "id": "9b02f487",
   "metadata": {
    "slideshow": {
     "slide_type": "slide"
    }
   },
   "source": [
    "$$ \\frac{dy}{dt} =  \\alpha y(1-y), \\ \\ \\ \\ \\ y(0) = y_{0} $$"
   ]
  },
  {
   "cell_type": "markdown",
   "id": "37112207",
   "metadata": {
    "slideshow": {
     "slide_type": "slide"
    }
   },
   "source": [
    "Como la ED dada tiene la forma $y' = f(t)g(y)$, entonces es una ED separable. "
   ]
  },
  {
   "cell_type": "markdown",
   "id": "e23d1711",
   "metadata": {
    "slideshow": {
     "slide_type": "slide"
    }
   },
   "source": [
    "## Solucione analíticamente el PVI describiendo y/o justificando cada paso"
   ]
  },
  {
   "cell_type": "markdown",
   "id": "98312f7b",
   "metadata": {
    "slideshow": {
     "slide_type": "slide"
    }
   },
   "source": [
    "$$ \\frac{dy}{dt} =  \\alpha y(1-y), \\ \\ \\ \\ \\ y(0) = y_{0} $$\n",
    "\n",
    "donde $\\alpha$ es la constante de proporcionalidad. "
   ]
  },
  {
   "cell_type": "markdown",
   "id": "08b965fc",
   "metadata": {
    "slideshow": {
     "slide_type": "slide"
    }
   },
   "source": [
    "Note que $y = 0$ y $y = 1$ son las soluciones de equilibrio del PVI dado, pero la solución $y = 0$ es un punto de equilibrio inestable pues solo se logra si la condición inicial es cero.  "
   ]
  },
  {
   "cell_type": "markdown",
   "id": "17bba933",
   "metadata": {
    "slideshow": {
     "slide_type": "slide"
    }
   },
   "source": [
    "Separamos las variables transponiendo factores:  \n",
    "\n",
    "$$ \\frac{1}{y(1-y)}dy = \\alpha dt $$"
   ]
  },
  {
   "cell_type": "markdown",
   "id": "ad8fffd3",
   "metadata": {
    "slideshow": {
     "slide_type": "slide"
    }
   },
   "source": [
    "$$ \\left( \\frac{1}{y} + \\frac{1}{1-y} \\right) = \\alpha dt  $$"
   ]
  },
  {
   "cell_type": "markdown",
   "id": "b579976e",
   "metadata": {
    "slideshow": {
     "slide_type": "slide"
    }
   },
   "source": [
    "$$ \\int \\left( \\frac{1}{y} + \\frac{1}{1-y} \\right) = \\int \\alpha dt  $$"
   ]
  },
  {
   "cell_type": "markdown",
   "id": "ecc9925d",
   "metadata": {
    "slideshow": {
     "slide_type": "slide"
    }
   },
   "source": [
    "# Solución general implícita de la ED del PVI"
   ]
  },
  {
   "cell_type": "markdown",
   "id": "d1bc3173",
   "metadata": {
    "slideshow": {
     "slide_type": "slide"
    }
   },
   "source": [
    "$$ \\ln y - \\ln(1-y) = \\alpha t + c_{1} $$\n",
    "\n",
    "pues $y > 0$ y $y < 1$. "
   ]
  },
  {
   "cell_type": "markdown",
   "id": "0dfe8d10",
   "metadata": {
    "slideshow": {
     "slide_type": "slide"
    }
   },
   "source": [
    "# Determinación de la solución general explícita"
   ]
  },
  {
   "cell_type": "markdown",
   "id": "696be518",
   "metadata": {
    "slideshow": {
     "slide_type": "slide"
    }
   },
   "source": [
    "Apliquemos que la diferencia de logaritmos es el logaritmo de un cociente:\n",
    "\n",
    "$$ \\ln \\left( \\frac{y}{1-y} \\right) = \\alpha t + c_{1} $$"
   ]
  },
  {
   "cell_type": "markdown",
   "id": "201daea7",
   "metadata": {
    "slideshow": {
     "slide_type": "slide"
    }
   },
   "source": [
    "Apliquemos el hecho de que $e^{(\\cdot)}$ es un función, es decir, evaluar la función exponencial en argumentos iguales, lleva a imágenes iguales para obtener:\n",
    "\n",
    "$$ \\frac{y}{1-y} = e^{\\alpha t + c_{1}} $$"
   ]
  },
  {
   "cell_type": "markdown",
   "id": "5ba3d445",
   "metadata": {
    "slideshow": {
     "slide_type": "slide"
    }
   },
   "source": [
    "Utilizando la conmutatividad de la suma en $\\mathbb{R}$ y una potencia elevada a una suma es igual a el producto de potencias obtenemos: \n",
    "\n",
    "$$ \\frac{y}{1-y} = e^{c_{1}}e^{\\alpha t} $$"
   ]
  },
  {
   "cell_type": "markdown",
   "id": "434eede7",
   "metadata": {
    "slideshow": {
     "slide_type": "slide"
    }
   },
   "source": [
    "$$ \\frac{y}{1-y} = c_{2}e^{\\alpha t} $$\n",
    "\n",
    "donde hemos hecho $e^{c_{1}} = c_{2}$. "
   ]
  },
  {
   "cell_type": "markdown",
   "id": "98d9b5fc",
   "metadata": {
    "slideshow": {
     "slide_type": "slide"
    }
   },
   "source": [
    "$$ y = c_{2}e^{\\alpha t}(1-y) $$"
   ]
  },
  {
   "cell_type": "markdown",
   "id": "079885f6",
   "metadata": {
    "slideshow": {
     "slide_type": "slide"
    }
   },
   "source": [
    "$$ y = c_{2}e^{\\alpha t} - c_{2}ye^{\\alpha t} $$"
   ]
  },
  {
   "cell_type": "markdown",
   "id": "3b43fc8f",
   "metadata": {
    "slideshow": {
     "slide_type": "slide"
    }
   },
   "source": [
    "$$ y + c_{2}ye^{\\alpha t} = c_{2}e^{\\alpha t} $$"
   ]
  },
  {
   "cell_type": "markdown",
   "id": "571afb90",
   "metadata": {
    "slideshow": {
     "slide_type": "slide"
    }
   },
   "source": [
    "$$y(1 + c_{2}e^{\\alpha t}) = c_{2}e^{\\alpha t}$$"
   ]
  },
  {
   "cell_type": "markdown",
   "id": "0a9ce26b",
   "metadata": {
    "slideshow": {
     "slide_type": "slide"
    }
   },
   "source": [
    "Transponiendo el segundo factor del lado derecho de la ecuación anterior obtenemos la solución general explícita de la ED del PVI: \n",
    "\n",
    "\n",
    "$$ y = \\frac{c_{2}e^{\\alpha t}}{1 + c_{2}e^{\\alpha t}} $$\n",
    "\n",
    "Pero predecir que pasará con la proporción de infectados $y$ en el futuro es difícil con esta representación de este modelo predictor, por lo tanto, simplificaremos la fracción de la derecha utilizando el factor $c_{2}e^{\\alpha t}$. "
   ]
  },
  {
   "cell_type": "markdown",
   "id": "466483cb",
   "metadata": {
    "slideshow": {
     "slide_type": "slide"
    }
   },
   "source": [
    "Esta es la solución general explícita, la cual es una familia infinita de funciones:\n",
    "\n",
    "$$ y = \\frac{1}{\\frac{1}{c_{2}e^{\\alpha t}} + 1} $$"
   ]
  },
  {
   "cell_type": "markdown",
   "id": "87fc8240",
   "metadata": {
    "slideshow": {
     "slide_type": "slide"
    }
   },
   "source": [
    "Por tanto, la solución general de la ED es:  \n",
    "\n",
    "$$ y = \\frac{1}{c_{3}e^{-\\alpha t} + 1} $$\n",
    "\n",
    "Note que con esta representación de la función de porcentaje de infectados $y$, es fácil ver qué pasará en el futuro con este porcentaje. "
   ]
  },
  {
   "cell_type": "markdown",
   "id": "236d8edf",
   "metadata": {
    "slideshow": {
     "slide_type": "slide"
    }
   },
   "source": [
    "# Determinación de la solución del PVI"
   ]
  },
  {
   "cell_type": "markdown",
   "id": "5f44fcdd",
   "metadata": {
    "slideshow": {
     "slide_type": "slide"
    }
   },
   "source": [
    "Determinemos la única función que satisface la condición inicial $y(0) = y_{0}$. "
   ]
  },
  {
   "cell_type": "markdown",
   "id": "8c918930",
   "metadata": {
    "slideshow": {
     "slide_type": "slide"
    }
   },
   "source": [
    "$$ y_{0} = \\frac{1}{c_{3}e^{-\\alpha (0)} + 1} $$"
   ]
  },
  {
   "cell_type": "markdown",
   "id": "843d8a53",
   "metadata": {
    "slideshow": {
     "slide_type": "slide"
    }
   },
   "source": [
    "$$ y_{0} = \\frac{1}{c_{3} + 1} $$"
   ]
  },
  {
   "cell_type": "markdown",
   "id": "81c8f0b8",
   "metadata": {
    "slideshow": {
     "slide_type": "slide"
    }
   },
   "source": [
    "$$ y_{0}(c_{3} + 1) = 1 $$"
   ]
  },
  {
   "cell_type": "markdown",
   "id": "c52c3e8d",
   "metadata": {
    "slideshow": {
     "slide_type": "slide"
    }
   },
   "source": [
    "$$ c_{3} + 1 = \\frac{1}{y_{0}} $$"
   ]
  },
  {
   "cell_type": "markdown",
   "id": "1807ba27",
   "metadata": {
    "slideshow": {
     "slide_type": "slide"
    }
   },
   "source": [
    "$$ c_{3} = \\frac{1}{y_{0}} - 1 $$\n",
    "\n",
    "Note que a medida que la condición inicial tiende a cero, entonces $c_{3}$ tiende a infinito y así la solución $t$ tiende a cero. Como la solución de equilibrio $y = 0$ solo se logra cuando $y_{0}$ es cero, entonces $y = 0$ es solución de equilibrio o punto de equilibrio inestable. "
   ]
  },
  {
   "cell_type": "markdown",
   "id": "5646836b",
   "metadata": {
    "slideshow": {
     "slide_type": "slide"
    }
   },
   "source": [
    "Por lo tanto, la solución explícita del PVI es:\n",
    "\n",
    "$$ y =  \\frac{1}{\\left( \\frac{1}{y_{0}} - 1 \\right)e^{-\\alpha t} + 1}$$\n"
   ]
  },
  {
   "cell_type": "markdown",
   "id": "b413e3f1",
   "metadata": {
    "slideshow": {
     "slide_type": "slide"
    }
   },
   "source": [
    "# Gráfica animada de la solución del PVI moviendo el parámetro $y_{0}$"
   ]
  },
  {
   "cell_type": "code",
   "execution_count": null,
   "id": "06ab8616",
   "metadata": {
    "slideshow": {
     "slide_type": "slide"
    }
   },
   "outputs": [],
   "source": [
    "import numpy as np \n",
    "import matplotlib.pyplot as plt \n",
    "\n",
    "from ipywidgets import interact  \n",
    "\n",
    "alpha = 1\n",
    "\n",
    "def solPvi(t,y0):\n",
    "    return 1/((1/y0-1)*np.exp(-alpha * t) + 1)\n",
    "\n",
    "def sol_pvi_animada(y0 = 0.1):\n",
    "    fig,ax = plt.subplots(figsize = (18, 6))\n",
    "    ax.set(title = 'Propagación de enfermedades en función del número de contagiados inicial',\\\n",
    "          xlabel = r'tiempo $t$', ylabel = 'proporción de individuos infectados')\n",
    "    dominio = np.linspace(0, 10, 200)\n",
    "    rango = [solPvi(t,y0) for t in dominio]\n",
    "    ax.plot(dominio, rango)\n",
    "    ax.axis([np.min(dominio) - 1, np.max(dominio) + 1, \\\n",
    "             np.min(rango) - .1, np.max(rango) + .1] )\n",
    "    plt.xticks(np.arange(0, 11, 1))\n",
    "    plt.yticks(np.arange(0, 1.1, 0.1))\n",
    "    ax.grid(alpha = 0.4)\n",
    "    \n",
    "interact(sol_pvi_animada, y0 = (0.0001, 0.9999, 0.0001))   \n",
    "\n",
    "plt.show() "
   ]
  },
  {
   "cell_type": "markdown",
   "id": "30c8a60f",
   "metadata": {
    "slideshow": {
     "slide_type": "slide"
    }
   },
   "source": [
    "# Solución con sympy de un PVI"
   ]
  },
  {
   "cell_type": "code",
   "execution_count": 4,
   "id": "58ef0f3c",
   "metadata": {
    "slideshow": {
     "slide_type": "slide"
    }
   },
   "outputs": [],
   "source": [
    "from sympy import symbols, Function, diff, Eq, classify_ode, dsolve, checkodesol"
   ]
  },
  {
   "cell_type": "code",
   "execution_count": 5,
   "id": "a8680723",
   "metadata": {
    "slideshow": {
     "slide_type": "slide"
    }
   },
   "outputs": [],
   "source": [
    "y, t, alpha, y0 = symbols('y, t, alpha, y0', real = True) "
   ]
  },
  {
   "cell_type": "code",
   "execution_count": 6,
   "id": "2f6eee1e",
   "metadata": {
    "slideshow": {
     "slide_type": "slide"
    }
   },
   "outputs": [
    {
     "data": {
      "text/latex": [
       "$\\displaystyle \\alpha$"
      ],
      "text/plain": [
       "alpha"
      ]
     },
     "execution_count": 6,
     "metadata": {},
     "output_type": "execute_result"
    }
   ],
   "source": [
    "alpha "
   ]
  },
  {
   "cell_type": "code",
   "execution_count": 7,
   "id": "9ab82d82",
   "metadata": {
    "slideshow": {
     "slide_type": "slide"
    }
   },
   "outputs": [],
   "source": [
    "y = Function('y')  # definir a y como variable dependiente"
   ]
  },
  {
   "cell_type": "code",
   "execution_count": 8,
   "id": "f6d34d83",
   "metadata": {
    "slideshow": {
     "slide_type": "slide"
    }
   },
   "outputs": [
    {
     "data": {
      "text/latex": [
       "$\\displaystyle \\frac{d}{d t} y{\\left(t \\right)} = \\alpha \\left(1 - y{\\left(t \\right)}\\right) y{\\left(t \\right)}$"
      ],
      "text/plain": [
       "Eq(Derivative(y(t), t), alpha*(1 - y(t))*y(t))"
      ]
     },
     "execution_count": 8,
     "metadata": {},
     "output_type": "execute_result"
    }
   ],
   "source": [
    "ed = Eq(diff(y(t), t), alpha*y(t)*(1-y(t))) # Construir la ecuación diferencial ed\n",
    "ed "
   ]
  },
  {
   "cell_type": "markdown",
   "id": "528807c2",
   "metadata": {
    "slideshow": {
     "slide_type": "slide"
    }
   },
   "source": [
    "# Clasificación de la ED para establecer el método de solución"
   ]
  },
  {
   "cell_type": "code",
   "execution_count": 9,
   "id": "1701865b",
   "metadata": {
    "slideshow": {
     "slide_type": "slide"
    }
   },
   "outputs": [
    {
     "data": {
      "text/plain": [
       "('separable',\n",
       " '1st_exact',\n",
       " 'Bernoulli',\n",
       " '1st_rational_riccati',\n",
       " '1st_power_series',\n",
       " 'lie_group',\n",
       " 'separable_Integral',\n",
       " '1st_exact_Integral',\n",
       " 'Bernoulli_Integral')"
      ]
     },
     "execution_count": 9,
     "metadata": {},
     "output_type": "execute_result"
    }
   ],
   "source": [
    "classify_ode(ed, y(t))"
   ]
  },
  {
   "cell_type": "markdown",
   "id": "0bca818b",
   "metadata": {
    "slideshow": {
     "slide_type": "slide"
    }
   },
   "source": [
    "# Determinación de la solución general explícita utilizando la función `dsolve` de SymPy"
   ]
  },
  {
   "cell_type": "code",
   "execution_count": 10,
   "id": "bfe8303c",
   "metadata": {
    "slideshow": {
     "slide_type": "slide"
    }
   },
   "outputs": [
    {
     "data": {
      "text/latex": [
       "$\\displaystyle y{\\left(t \\right)} = \\frac{1}{C_{1} e^{- \\alpha t} + 1}$"
      ],
      "text/plain": [
       "Eq(y(t), 1/(C1*exp(-alpha*t) + 1))"
      ]
     },
     "execution_count": 10,
     "metadata": {},
     "output_type": "execute_result"
    }
   ],
   "source": [
    "sol_gen = dsolve(ed, y(t), hint = 'separable')\n",
    "sol_gen"
   ]
  },
  {
   "cell_type": "markdown",
   "id": "83588bd5",
   "metadata": {
    "slideshow": {
     "slide_type": "slide"
    }
   },
   "source": [
    "# Gráfica interactiva y animada de la solución general de la ED"
   ]
  },
  {
   "cell_type": "code",
   "execution_count": 18,
   "id": "897f2a76",
   "metadata": {
    "slideshow": {
     "slide_type": "slide"
    }
   },
   "outputs": [
    {
     "data": {
      "application/vnd.jupyter.widget-view+json": {
       "model_id": "091b3e5a6283429299405f4ae8324f46",
       "version_major": 2,
       "version_minor": 0
      },
      "text/plain": [
       "interactive(children=(FloatSlider(value=0.1, description='c', max=1.0), Output()), _dom_classes=('widget-inter…"
      ]
     },
     "metadata": {},
     "output_type": "display_data"
    }
   ],
   "source": [
    "import numpy as np \n",
    "import matplotlib.pyplot as plt\n",
    "\n",
    "from ipywidgets import interact \n",
    "alpha = 1        # establecemos la constante de proporcionalidad alpha en 1\n",
    "def sol_Gen(c, t):\n",
    "    return 1/(c*np.exp(-alpha*t) + 1)\n",
    "\n",
    "def graficar_sol_gen(c = 0.1):\n",
    "    fig,ax = plt.subplots(figsize = (10,6))\n",
    "    ax.set(title = r'Porcentaje de contagiados $y(t)$', xlabel = '', ylabel = '')\n",
    "    dominio = np.arange(0, 8, 0.5)\n",
    "    rango = [sol_Gen(c, t) for t in dominio] \n",
    "    ax.axis([np.min(dominio)- 0.4, np.max(dominio) + 0.4, np.min(rango)-0.4, np.max(rango)+0.4])\n",
    "    ax.plot(dominio, rango, label = r'$y(t)$')\n",
    "    ax.grid()\n",
    "    ax.legend()\n",
    "    \n",
    "interact(graficar_sol_gen, c = (0,1,0.1))    \n",
    "\n",
    "plt.show() "
   ]
  },
  {
   "cell_type": "markdown",
   "id": "fd36fe31",
   "metadata": {
    "slideshow": {
     "slide_type": "slide"
    }
   },
   "source": [
    "# Determinación de la solución del PVI utilizando el parámetro `ics` de la función `dsolve()` de SymPy"
   ]
  },
  {
   "cell_type": "code",
   "execution_count": null,
   "id": "fa4faadb",
   "metadata": {
    "slideshow": {
     "slide_type": "slide"
    }
   },
   "outputs": [],
   "source": [
    "\n",
    "sol_pvi = dsolve(ed, y(t), hint = 'separable', ics = { sol_gen.lhs.subs(t,0):y0 })\n",
    "sol_pvi "
   ]
  },
  {
   "cell_type": "code",
   "execution_count": null,
   "id": "5ff4ff45",
   "metadata": {
    "slideshow": {
     "slide_type": "slide"
    }
   },
   "outputs": [],
   "source": []
  },
  {
   "cell_type": "code",
   "execution_count": null,
   "id": "42cb950d",
   "metadata": {},
   "outputs": [],
   "source": []
  },
  {
   "cell_type": "code",
   "execution_count": null,
   "id": "0f148557",
   "metadata": {},
   "outputs": [],
   "source": []
  },
  {
   "cell_type": "markdown",
   "id": "964bc4ef",
   "metadata": {
    "slideshow": {
     "slide_type": "slide"
    }
   },
   "source": [
    "## Referencias"
   ]
  },
  {
   "cell_type": "markdown",
   "id": "f4c08560",
   "metadata": {
    "slideshow": {
     "slide_type": "slide"
    }
   },
   "source": [
    "* Documentación de la función dsolve de sympy para solución de ED y PVI: https://docs.sympy.org/latest/modules/solvers/ode.html#sympy.solvers.ode.dsolve "
   ]
  }
 ],
 "metadata": {
  "celltoolbar": "Slideshow",
  "kernelspec": {
   "display_name": "Python 3 (ipykernel)",
   "language": "python",
   "name": "python3"
  },
  "language_info": {
   "codemirror_mode": {
    "name": "ipython",
    "version": 3
   },
   "file_extension": ".py",
   "mimetype": "text/x-python",
   "name": "python",
   "nbconvert_exporter": "python",
   "pygments_lexer": "ipython3",
   "version": "3.9.12"
  }
 },
 "nbformat": 4,
 "nbformat_minor": 5
}
