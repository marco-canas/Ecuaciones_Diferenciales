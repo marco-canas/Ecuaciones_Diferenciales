{
 "cells": [
  {
   "cell_type": "markdown",
   "metadata": {
    "slideshow": {
     "slide_type": "slide"
    }
   },
   "source": [
    "# Parcial 1 EDO"
   ]
  },
  {
   "cell_type": "markdown",
   "metadata": {
    "slideshow": {
     "slide_type": "slide"
    }
   },
   "source": [
    "## Punto 1"
   ]
  },
  {
   "cell_type": "markdown",
   "metadata": {
    "slideshow": {
     "slide_type": "slide"
    }
   },
   "source": [
    "(5 puntos) Resolver la ecuación diferencial \n",
    "\n",
    "$$ (3xy + y^{2}) + (x^{2} + xy)y' = 0 $$\n",
    "\n",
    "utilizando el factor integrante \n",
    "\n",
    "$$ \\mu(x,y) = [xy(2x+y)]^{-1}= \\frac{1}{xy(2x+y)} $$\n"
   ]
  },
  {
   "cell_type": "code",
   "execution_count": null,
   "metadata": {
    "slideshow": {
     "slide_type": "skip"
    }
   },
   "outputs": [],
   "source": []
  },
  {
   "cell_type": "markdown",
   "metadata": {
    "slideshow": {
     "slide_type": "slide"
    }
   },
   "source": [
    "## Solución"
   ]
  },
  {
   "cell_type": "markdown",
   "metadata": {
    "slideshow": {
     "slide_type": "slide"
    }
   },
   "source": [
    "$$\\frac{y(3x+y)}{xy(2x+y)} + \\frac{x(x+y)}{xy(2x+y)}y' = 0 $$"
   ]
  },
  {
   "cell_type": "markdown",
   "metadata": {
    "slideshow": {
     "slide_type": "slide"
    }
   },
   "source": [
    "$$\\frac{3x+y}{x(2x+y)} + \\frac{x+y}{y(2x+y)}y' = 0 $$"
   ]
  },
  {
   "cell_type": "markdown",
   "metadata": {
    "slideshow": {
     "slide_type": "slide"
    }
   },
   "source": [
    "Verifiquemos que esta ecuación es exacta:"
   ]
  },
  {
   "cell_type": "markdown",
   "metadata": {
    "slideshow": {
     "slide_type": "slide"
    }
   },
   "source": [
    "\\begin{align*}\n",
    "\\hat{M} =  \\frac{3x+y}{x(2x+y)} & = (3x+y)(2x^{2}+xy)^{-1} \n",
    "\\end{align*}"
   ]
  },
  {
   "cell_type": "markdown",
   "metadata": {
    "slideshow": {
     "slide_type": "slide"
    }
   },
   "source": [
    "\\begin{align*}\n",
    "& \\Rightarrow \\hat{M}_{y}= (3x+y)(-1)(2x^{2}+xy)^{-2}(x) + (1)(2x^{2}+xy)^{-1} \\\\\n",
    "& \\Rightarrow  \\hat{M}_{y}= \\frac{-3x^{2}-xy}{(2x^{2} + xy)^{2}} + \\frac{1}{2x^{2}+xy} \\\\\n",
    "& \\Rightarrow  \\hat{M}_{y}= \\frac{-3x^{2}-xy}{(2x^{2} + xy)^{2}} + \\frac{2x^{2}+xy}{(2x^{2}+xy)^{2}}\n",
    "\\end{align*}"
   ]
  },
  {
   "cell_type": "markdown",
   "metadata": {
    "slideshow": {
     "slide_type": "slide"
    }
   },
   "source": [
    "\\begin{align*}\n",
    "& \\Rightarrow  \\hat{M}_{y}= \\frac{2x^{2} -3x^{2} + xy - xy}{(2x^{2} + xy)^{2}} \\\\\n",
    "& \\Rightarrow  \\hat{M}_{y}= - \\frac{x^{2}}{x^{2}(2x+y)^{2}} \\\\\n",
    "& \\Rightarrow \\hat{M}_{y} = - \\frac{1}{(2x+y)^{2}}\n",
    "\\end{align*}"
   ]
  },
  {
   "cell_type": "markdown",
   "metadata": {
    "slideshow": {
     "slide_type": "slide"
    }
   },
   "source": [
    "## Determinación de derivadas parciales con sympy "
   ]
  },
  {
   "cell_type": "code",
   "execution_count": null,
   "metadata": {
    "slideshow": {
     "slide_type": "slide"
    }
   },
   "outputs": [],
   "source": [
    "from sympy import * \n",
    "x,y=symbols('x y')\n",
    "y=Function('y')(x)\n",
    "M=(3*x+y)/(x*(2*x+y))\n",
    "diff(M,y).simplify()  "
   ]
  },
  {
   "cell_type": "markdown",
   "metadata": {
    "slideshow": {
     "slide_type": "slide"
    }
   },
   "source": [
    "\\begin{align*}\n",
    "\\hat{N} = \\frac{x+y}{y(2x+y)} & = (x+y)(2xy+y^{2})^{-1} \\\\\n",
    "& \\Rightarrow \\hat{N}_{x} = (x+y)(-1)(2xy+y^{2})^{-2}(2y) + (1)(2xy+y^{2})^{-1} \\\\\n",
    "& \\Rightarrow \\hat{N}_{x} = \\frac{-(x+y)(2y)}{(2xy + y^{2})^{2}} + \\frac{1}{2xy + y^{2}} \\\\\n",
    "& \\Rightarrow  \\hat{N}_{x} = \\frac{-(x+y)(2y)}{(2xy + y^{2})^{2}} + \\frac{2xy + y^{2}}{(2xy + y^{2})^{2}}  \\\\\n",
    "& \\Rightarrow  \\hat{N}_{x} = \\frac{-y^{2}}{(2xy + y^{2})^{2}} \\\\\n",
    "& \\Rightarrow \\hat{N}_{x} = -\\frac{1}{(2x + y)^{2}}\n",
    "\\end{align*} "
   ]
  },
  {
   "cell_type": "markdown",
   "metadata": {
    "slideshow": {
     "slide_type": "slide"
    }
   },
   "source": [
    "## Determinación de $N_{x}$ con sympy "
   ]
  },
  {
   "cell_type": "code",
   "execution_count": null,
   "metadata": {
    "slideshow": {
     "slide_type": "slide"
    }
   },
   "outputs": [],
   "source": [
    "from sympy import * \n",
    "x,y=symbols('x y')\n",
    "y=Function('y')(x)\n",
    "N=(x+y)/(y*(2*x+y))\n",
    "diff(N,x).simplify()  "
   ]
  },
  {
   "cell_type": "markdown",
   "metadata": {
    "slideshow": {
     "slide_type": "slide"
    }
   },
   "source": [
    "Por tanto, $ \\hat{M}_{y} = \\hat{N}_{x} \\iff $ La nueva ED \n",
    "\n",
    "$$\\frac{3x+y}{x(2x+y)} + \\frac{x+y}{y(2x+y)}y' = 0 $$\n",
    "\n",
    "es exacta. \n"
   ]
  },
  {
   "cell_type": "markdown",
   "metadata": {
    "slideshow": {
     "slide_type": "slide"
    }
   },
   "source": [
    "Ahora, hallemos su solución"
   ]
  },
  {
   "cell_type": "markdown",
   "metadata": {
    "slideshow": {
     "slide_type": "slide"
    }
   },
   "source": [
    "$$ \\psi = \\int \\hat{M}dx + h(y) $$"
   ]
  },
  {
   "cell_type": "markdown",
   "metadata": {
    "slideshow": {
     "slide_type": "slide"
    }
   },
   "source": [
    "$$\\psi = \\int \\frac{3x+y}{x(2x+y)}dx + h(y) $$"
   ]
  },
  {
   "cell_type": "markdown",
   "metadata": {
    "slideshow": {
     "slide_type": "slide"
    }
   },
   "source": [
    "$$ I  = \\int \\frac{3x+y}{x(2x+y)}dx $$"
   ]
  },
  {
   "cell_type": "markdown",
   "metadata": {
    "slideshow": {
     "slide_type": "slide"
    }
   },
   "source": [
    "$$\\frac{3x+y}{x(2x+y)} = \\frac{A}{x} + \\frac{B}{2x+y} $$"
   ]
  },
  {
   "cell_type": "markdown",
   "metadata": {
    "slideshow": {
     "slide_type": "slide"
    }
   },
   "source": [
    "$$\\frac{3x+y}{x(2x+y)} = \\frac{1}{x} + \\frac{1}{2x+y} $$"
   ]
  },
  {
   "cell_type": "markdown",
   "metadata": {
    "slideshow": {
     "slide_type": "slide"
    }
   },
   "source": [
    "$$\\psi = \\ln|x| + \\frac{1}{2}\\ln|2x+y| + h(y) $$"
   ]
  },
  {
   "cell_type": "markdown",
   "metadata": {
    "slideshow": {
     "slide_type": "slide"
    }
   },
   "source": [
    "$$\\psi = \\ln|x| + \\ln\\sqrt{|2x+y|} + h(y) $$"
   ]
  },
  {
   "cell_type": "markdown",
   "metadata": {
    "slideshow": {
     "slide_type": "slide"
    }
   },
   "source": [
    "$$\\psi_{y} = \\frac{1}{(2x + y)^{1/2}} \\cdot \\frac{1}{2(2x+y)^{1/2}} + h'(y) = \\hat{N} =  \\frac{x+y}{y(2x+y)} $$"
   ]
  },
  {
   "cell_type": "markdown",
   "metadata": {
    "slideshow": {
     "slide_type": "slide"
    }
   },
   "source": [
    "$$ \\frac{1}{2(2x+y)} + h'(y) = \\frac{x+y}{y(2x+y)} $$"
   ]
  },
  {
   "cell_type": "markdown",
   "metadata": {
    "slideshow": {
     "slide_type": "slide"
    }
   },
   "source": [
    "amplificamos fracciones para obtener fracciones de denominadores iguales \n",
    "$$ \\frac{y}{2y(2x+y)} + h'(y) = \\frac{2(x+y)}{2y(2x+y)} $$"
   ]
  },
  {
   "cell_type": "markdown",
   "metadata": {
    "slideshow": {
     "slide_type": "slide"
    }
   },
   "source": [
    "$$ h'(y) = \\frac{2x+2y}{2y(2x+y)} - \\frac{y}{2y(2x+y)}$$"
   ]
  },
  {
   "cell_type": "markdown",
   "metadata": {
    "slideshow": {
     "slide_type": "slide"
    }
   },
   "source": [
    "$$ h'(y) = \\frac{(2x+y)}{2y(2x+y)} = \\frac{1}{2y}$$"
   ]
  },
  {
   "cell_type": "markdown",
   "metadata": {
    "slideshow": {
     "slide_type": "slide"
    }
   },
   "source": [
    "$$ h(y) = \\frac{1}{2}\\ln |y| = \\ln \\sqrt{|y|} $$"
   ]
  },
  {
   "cell_type": "markdown",
   "metadata": {
    "slideshow": {
     "slide_type": "slide"
    }
   },
   "source": [
    "$$ \\psi(x,y) =  \\ln|x| + \\ln\\sqrt{|2x+y|} + h(y) = \\ln|x| + \\ln\\sqrt{|2x+y|} + \\ln \\sqrt{|y|} $$"
   ]
  },
  {
   "cell_type": "markdown",
   "metadata": {
    "slideshow": {
     "slide_type": "slide"
    }
   },
   "source": [
    "$$ \\psi(x,y) = c_{1} \\quad \\quad \\iff \\quad \\quad  \\ln|x| + \\ln\\sqrt{|2x+y|} + \\ln\\sqrt{|y|} = c_{1} $$"
   ]
  },
  {
   "cell_type": "markdown",
   "metadata": {
    "slideshow": {
     "slide_type": "slide"
    }
   },
   "source": [
    "$$ \\ln |x|\\sqrt{|y|}\\sqrt{2x+y} = \\ln c_{2} , \\quad \\quad \\ln c_{2} = c_{1}  $$"
   ]
  },
  {
   "cell_type": "markdown",
   "metadata": {
    "slideshow": {
     "slide_type": "slide"
    }
   },
   "source": [
    "$$  |x|\\sqrt{|y(2x+y)|} =  c_{2} $$"
   ]
  },
  {
   "cell_type": "markdown",
   "metadata": {
    "slideshow": {
     "slide_type": "slide"
    }
   },
   "source": [
    "$$ x^{2}|y(2x+y)| = c_{2}^{2} $$"
   ]
  },
  {
   "cell_type": "markdown",
   "metadata": {
    "slideshow": {
     "slide_type": "slide"
    }
   },
   "source": [
    "$$ |y(2x+y)| = \\frac{c_{3}}{x^{2}} $$"
   ]
  },
  {
   "cell_type": "markdown",
   "metadata": {
    "slideshow": {
     "slide_type": "slide"
    }
   },
   "source": [
    "$$|y(2x + y)| = c_{3}x^{-2} $$"
   ]
  },
  {
   "cell_type": "markdown",
   "metadata": {
    "slideshow": {
     "slide_type": "slide"
    }
   },
   "source": [
    "$$ y(2x+ y) = c_{3}x^{-2} \\quad \\vee \\quad y(2x + y) = - c_{3}x^{-2} $$"
   ]
  },
  {
   "cell_type": "markdown",
   "metadata": {
    "slideshow": {
     "slide_type": "slide"
    }
   },
   "source": [
    "Multiplicando por $x^{2}$, obtenemos unas expresiones de solución de exponentes enteros no negativos:\n",
    "\n",
    "$$ x^{2}y^{2} + (2x^{3})y + c_{4} = 0 $$\n",
    "\n",
    "donde $c_{4} = -c_{3}$. "
   ]
  },
  {
   "cell_type": "markdown",
   "metadata": {
    "slideshow": {
     "slide_type": "slide"
    }
   },
   "source": []
  },
  {
   "cell_type": "code",
   "execution_count": null,
   "metadata": {
    "slideshow": {
     "slide_type": "slide"
    }
   },
   "outputs": [],
   "source": []
  },
  {
   "cell_type": "markdown",
   "metadata": {
    "slideshow": {
     "slide_type": "slide"
    }
   },
   "source": [
    "## Graficación de curvas integrales con matplotlib "
   ]
  },
  {
   "cell_type": "code",
   "execution_count": 2,
   "metadata": {
    "slideshow": {
     "slide_type": "slide"
    }
   },
   "outputs": [
    {
     "data": {
      "image/png": "[encoded data removed]",
      "text/plain": [
       "<Figure size 432x288 with 1 Axes>"
      ]
     },
     "metadata": {
      "needs_background": "light"
     },
     "output_type": "display_data"
    }
   ],
   "source": [
    "import numpy as np \n",
    "import matplotlib.pyplot as plt \n",
    "from numpy import arange\n",
    "from numpy import meshgrid\n",
    "\n",
    "delta = 0.025\n",
    "xrange = arange(-5.0, 5.0, delta)\n",
    "yrange = arange(-5.0, 5.0, delta)\n",
    "X, Y = meshgrid(xrange,yrange)\n",
    "\n",
    "# F is one side of the equation, G is the other\n",
    "c=1 \n",
    "F = X**2*Y**2 + 2*X**3*Y + c \n",
    "G = 0\n",
    "plt.contour(X, Y, (F - G), [0])\n",
    "plt.savefig('curva_integral_1.jpg')\n",
    "plt.show()"
   ]
  },
  {
   "cell_type": "code",
   "execution_count": null,
   "metadata": {
    "slideshow": {
     "slide_type": "skip"
    }
   },
   "outputs": [],
   "source": []
  },
  {
   "cell_type": "markdown",
   "metadata": {
    "slideshow": {
     "slide_type": "slide"
    }
   },
   "source": [
    "(5 puntos) Comprobar que la solución anterior es la misma que la obtenida cuando se usa una factor integrante obtenido con una de las dos fórmulas siguientes:\n",
    "\n",
    "$$ \\frac{M_{y} - N_{x}}{N} = \\frac{\\mu'}{\\mu} \\quad \\quad \\quad \\frac{N_{x} - M_{y}}{M} = \\frac{\\mu'}{\\mu}  $$\n"
   ]
  },
  {
   "cell_type": "markdown",
   "metadata": {
    "slideshow": {
     "slide_type": "slide"
    }
   },
   "source": [
    "$$ (3xy + y^{2}) + (x^{2} + xy)y' = 0 $$\n",
    "\n",
    "$$\\Rightarrow \\quad M=3xy+y^{2}, \\qquad N=x^{2}+xy $$"
   ]
  },
  {
   "cell_type": "markdown",
   "metadata": {
    "slideshow": {
     "slide_type": "slide"
    }
   },
   "source": [
    "$$ M_{y}=3x+2y, \\qquad N_{x}=2x+y $$"
   ]
  },
  {
   "cell_type": "markdown",
   "metadata": {
    "slideshow": {
     "slide_type": "slide"
    }
   },
   "source": [
    "$$ \\frac{M_{y} - N_{x}}{N} = \\frac{3x+2y-2x-y}{x^{2}+xy} = \\frac{x+y}{x(x+y)} = \\frac{1}{x}=\\frac{\\mu'}{\\mu} $$"
   ]
  },
  {
   "cell_type": "markdown",
   "metadata": {
    "slideshow": {
     "slide_type": "slide"
    }
   },
   "source": [
    "$$\\mu(x) = x$$"
   ]
  },
  {
   "cell_type": "markdown",
   "metadata": {
    "slideshow": {
     "slide_type": "slide"
    }
   },
   "source": [
    "$$ x(3xy + y^{2}) + x(x^{2} + xy)y' = x(0) $$"
   ]
  },
  {
   "cell_type": "markdown",
   "metadata": {
    "slideshow": {
     "slide_type": "slide"
    }
   },
   "source": [
    "$$ (3x^{2}y+xy^{2}) + (x^{3}+x^{2}y)y' = 0 $$"
   ]
  },
  {
   "cell_type": "markdown",
   "metadata": {
    "slideshow": {
     "slide_type": "slide"
    }
   },
   "source": [
    "$$\\hat{M}=3x^{2}y+xy^{2} \\quad \\Rightarrow \\quad \\hat{M}_{y} = 3x^{2} + 2xy $$"
   ]
  },
  {
   "cell_type": "markdown",
   "metadata": {
    "slideshow": {
     "slide_type": "slide"
    }
   },
   "source": [
    "$$\\hat{N}=x^{3}+x^{2}y \\quad \\Rightarrow \\quad \\hat{N}_{x} = 3x^{2} +2xy$$"
   ]
  },
  {
   "cell_type": "markdown",
   "metadata": {
    "slideshow": {
     "slide_type": "slide"
    }
   },
   "source": [
    "Por tanto, la ecuación nueva es exacta. Por tanto \n",
    "\n",
    "$$\\psi = \\int Mdx + h(y) \\quad \\iff \\quad \\psi = \\int (3x^{2}y + xy^{2})dx + h(y) $$\n"
   ]
  },
  {
   "cell_type": "markdown",
   "metadata": {
    "slideshow": {
     "slide_type": "slide"
    }
   },
   "source": [
    "$$ \\psi = x^{3}y + \\frac{x^{2}y^{2}}{2} + h(y) $$"
   ]
  },
  {
   "cell_type": "markdown",
   "metadata": {
    "slideshow": {
     "slide_type": "slide"
    }
   },
   "source": [
    "$$\\psi_{y} = x^{3} + x^{2}y + h'(y) = \\hat{N} = x^{3} + x^{2}y $$"
   ]
  },
  {
   "cell_type": "markdown",
   "metadata": {
    "slideshow": {
     "slide_type": "slide"
    }
   },
   "source": [
    "$$h'(y) = 0 \\Rightarrow h(y) = k$$\n",
    "con $k$ una constante arbitraria real. "
   ]
  },
  {
   "cell_type": "markdown",
   "metadata": {
    "slideshow": {
     "slide_type": "slide"
    }
   },
   "source": [
    "Por lo tanto, la solución implicita a la ED dada es \n",
    "\n",
    "$$ \\psi = C_{1} $$\n",
    "\n",
    "$$ x^{3}y + \\frac{x^{2}y^{2}}{2} = C_{1} $$\n"
   ]
  },
  {
   "cell_type": "markdown",
   "metadata": {
    "slideshow": {
     "slide_type": "slide"
    }
   },
   "source": [
    "$$ 2x^{3}y + x^{2}y^{2} + c_{2} = 0 $$"
   ]
  },
  {
   "cell_type": "markdown",
   "metadata": {
    "slideshow": {
     "slide_type": "slide"
    }
   },
   "source": [
    "Por lo tanto, la ecuación solución general de la ED original obtenida es:\n",
    "\n",
    "$$ x^{2}y^{2} + (2x^{3})y + c_{2} = 0 $$\n",
    "\n",
    "que es la misma obtenida con el factor integrante anterior que era más complejo. "
   ]
  },
  {
   "cell_type": "markdown",
   "metadata": {
    "slideshow": {
     "slide_type": "slide"
    }
   },
   "source": [
    "## Trazado de algunas curvas integrales "
   ]
  },
  {
   "cell_type": "code",
   "execution_count": 3,
   "metadata": {
    "slideshow": {
     "slide_type": "slide"
    }
   },
   "outputs": [
    {
     "data": {
      "image/png": "[encoded data removed]",
      "text/plain": [
       "<Figure size 432x288 with 1 Axes>"
      ]
     },
     "metadata": {
      "needs_background": "light"
     },
     "output_type": "display_data"
    }
   ],
   "source": [
    "import matplotlib.pyplot\n",
    "from numpy import arange\n",
    "from numpy import meshgrid\n",
    "\n",
    "delta = 0.025\n",
    "xrange = arange(-5.0, 5.0, delta)\n",
    "yrange = arange(-5.0, 5.0, delta)\n",
    "X, Y = meshgrid(xrange,yrange)\n",
    "\n",
    "# F is one side of the equation, G is the other\n",
    "#  2x^{3}y + x^{2}y^{2} + c_{2} = 0 \n",
    "c = 1\n",
    "F = 2*X**3*Y + X**2*Y**2 + c\n",
    "G = 0 \n",
    "matplotlib.pyplot.contour(X, Y, (F - G), [0])\n",
    "matplotlib.pyplot.show()"
   ]
  },
  {
   "cell_type": "markdown",
   "metadata": {
    "slideshow": {
     "slide_type": "slide"
    }
   },
   "source": [
    "Como la obtenida, es una ecuación cuadrática en $y$, entonces podemos despejar a $y$ para ontener la solución general explícita"
   ]
  },
  {
   "cell_type": "markdown",
   "metadata": {
    "slideshow": {
     "slide_type": "slide"
    }
   },
   "source": [
    "$$ x^{2}y^{2} + 2x^{3}y + C_{2} = 0 $$"
   ]
  },
  {
   "cell_type": "markdown",
   "metadata": {
    "slideshow": {
     "slide_type": "slide"
    }
   },
   "source": [
    "$$ y = \\frac{-2x^{3} \\pm \\sqrt{4x^{6} - 4x^{2}C_{2}}}{2x^{2}} $$"
   ]
  },
  {
   "cell_type": "markdown",
   "metadata": {
    "slideshow": {
     "slide_type": "slide"
    }
   },
   "source": [
    "$$ y = \\frac{2x^{2}(-x) \\pm 2x^{2}\\sqrt{x^{2} - \\frac{c_{2}}{x^{2}}}}{2x^{2}} $$"
   ]
  },
  {
   "cell_type": "markdown",
   "metadata": {
    "slideshow": {
     "slide_type": "slide"
    }
   },
   "source": [
    "$$ y = -x \\pm \\sqrt{x^{2} + \\frac{c_{3}}{x^{2}}} $$"
   ]
  },
  {
   "cell_type": "markdown",
   "metadata": {
    "slideshow": {
     "slide_type": "slide"
    }
   },
   "source": [
    "$$ y = -x \\pm \\frac{\\sqrt{x^{4} + c_{3}}}{x} $$"
   ]
  },
  {
   "cell_type": "code",
   "execution_count": null,
   "metadata": {
    "slideshow": {
     "slide_type": "skip"
    }
   },
   "outputs": [],
   "source": []
  },
  {
   "cell_type": "markdown",
   "metadata": {
    "slideshow": {
     "slide_type": "slide"
    }
   },
   "source": [
    "(10 puntos) Verificar que la solución obtenida es correcta sustituyéndola en la ED dada. "
   ]
  },
  {
   "cell_type": "markdown",
   "metadata": {
    "slideshow": {
     "slide_type": "slide"
    }
   },
   "source": [
    "La ED dada es \n",
    "$$ (3xy + y^{2}) + (x^{2} + xy)y' = 0 $$ \n",
    "y la solución general implícita es:\n",
    "\n",
    "$$ x^{2}y^{2} + 2x^{3}y + C_{2} = 0 $$"
   ]
  },
  {
   "cell_type": "markdown",
   "metadata": {
    "slideshow": {
     "slide_type": "slide"
    }
   },
   "source": [
    "aplica regla de derivación para un producto:\n",
    "\n",
    "$$ (x^{2}(2yy') + 2xy^{2}) + (2x^{3}y' + 6x^{2}y) + 0 = 0 $$ "
   ]
  },
  {
   "cell_type": "markdown",
   "metadata": {
    "slideshow": {
     "slide_type": "slide"
    }
   },
   "source": [
    "$$ (2xy^{2} + 6x^{2}y) + (2x^{2}y+2x^{3})y' = 0 $$"
   ]
  },
  {
   "cell_type": "markdown",
   "metadata": {
    "slideshow": {
     "slide_type": "slide"
    }
   },
   "source": [
    "$$ y(3x + y) + x(x + y)y' = 0 $$\n",
    " \n",
    "por lo tanto, la solución obtenida es correcta pues de ella se puede obtener la ecuación diferencial original utilizando el método de diferenciación implícita. "
   ]
  },
  {
   "cell_type": "code",
   "execution_count": null,
   "metadata": {
    "slideshow": {
     "slide_type": "skip"
    }
   },
   "outputs": [],
   "source": []
  },
  {
   "cell_type": "markdown",
   "metadata": {
    "slideshow": {
     "slide_type": "slide"
    }
   },
   "source": [
    "## Otra manera de realizar esta verificación"
   ]
  },
  {
   "cell_type": "markdown",
   "metadata": {
    "slideshow": {
     "slide_type": "slide"
    }
   },
   "source": [
    "Por lo tanto, la solución implicita a la ED dada es \n",
    "\n",
    "$$ \\psi = C_{1} $$\n",
    "\n",
    "$$ x^{3}y + \\frac{x^{2}y^{2}}{2} = C_{1} $$"
   ]
  },
  {
   "cell_type": "markdown",
   "metadata": {
    "slideshow": {
     "slide_type": "slide"
    }
   },
   "source": [
    "Derivo a ambos lados con respecto a $x$\n",
    "\n",
    "$$\\frac{d}{dx}\\left( x^{3}y + \\frac{x^{2}y^{2}}{2} \\right) = \\frac{d}{dx}C_{1} $$\n"
   ]
  },
  {
   "cell_type": "markdown",
   "metadata": {
    "slideshow": {
     "slide_type": "slide"
    }
   },
   "source": [
    "$$\\frac{\\partial}{\\partial x}\\left( x^{3}y + \\frac{x^{2}y^{2}}{2} \\right) + \\frac{\\partial}{\\partial y}\\left( x^{3}y + \\frac{x^{2}y^{2}}{2} \\right) y' = 0 $$"
   ]
  },
  {
   "cell_type": "markdown",
   "metadata": {
    "slideshow": {
     "slide_type": "slide"
    }
   },
   "source": [
    "Termine de calcular esta derivadas parciales para que vea que obtiene la ED original. "
   ]
  },
  {
   "cell_type": "code",
   "execution_count": null,
   "metadata": {
    "slideshow": {
     "slide_type": "skip"
    }
   },
   "outputs": [],
   "source": []
  },
  {
   "cell_type": "markdown",
   "metadata": {
    "slideshow": {
     "slide_type": "slide"
    }
   },
   "source": [
    "## Verificación con sympy "
   ]
  },
  {
   "cell_type": "code",
   "execution_count": null,
   "metadata": {
    "slideshow": {
     "slide_type": "slide"
    }
   },
   "outputs": [],
   "source": [
    "from sympy import *\n",
    "x,y=symbols('x y') \n",
    "y=Function('y')(x)\n",
    "dsolve(3*x*y+y**2 + (x**2+x*y)*diff(y,x),y)"
   ]
  },
  {
   "cell_type": "markdown",
   "metadata": {
    "slideshow": {
     "slide_type": "slide"
    }
   },
   "source": [
    "### Conclusión de la verificación con Sympy"
   ]
  },
  {
   "cell_type": "markdown",
   "metadata": {
    "slideshow": {
     "slide_type": "slide"
    }
   },
   "source": [
    "La solución es el conjunto de dos familias de soluciones. "
   ]
  },
  {
   "cell_type": "code",
   "execution_count": null,
   "metadata": {
    "slideshow": {
     "slide_type": "slide"
    }
   },
   "outputs": [],
   "source": []
  },
  {
   "cell_type": "markdown",
   "metadata": {
    "slideshow": {
     "slide_type": "slide"
    }
   },
   "source": [
    "## Graficación del campo de direcciones"
   ]
  },
  {
   "cell_type": "code",
   "execution_count": null,
   "metadata": {
    "slideshow": {
     "slide_type": "slide"
    }
   },
   "outputs": [],
   "source": []
  },
  {
   "cell_type": "markdown",
   "metadata": {
    "slideshow": {
     "slide_type": "slide"
    }
   },
   "source": [
    "## Trazado de algunas de las curvas integrales "
   ]
  },
  {
   "cell_type": "code",
   "execution_count": null,
   "metadata": {
    "slideshow": {
     "slide_type": "slide"
    }
   },
   "outputs": [],
   "source": [
    "import numpy as np \n",
    "import matplotlib\n",
    "matplotlib.rcParams['text.usetex'] = True\n",
    "import matplotlib.pyplot as plt \n",
    "x=np.linspace(-5,5) \n"
   ]
  },
  {
   "cell_type": "code",
   "execution_count": null,
   "metadata": {
    "slideshow": {
     "slide_type": "skip"
    }
   },
   "outputs": [],
   "source": []
  },
  {
   "cell_type": "markdown",
   "metadata": {
    "slideshow": {
     "slide_type": "slide"
    }
   },
   "source": [
    "## Punto 2"
   ]
  },
  {
   "cell_type": "markdown",
   "metadata": {
    "slideshow": {
     "slide_type": "slide"
    }
   },
   "source": [
    "(5 puntos) Encuentre la solución explícita de la ecuación diferencial interpretándola **sólo** como una **ecuación diferencial de Bernoulli**. \n",
    "$$\\frac{dP}{dt} = P(a-bP) $$\n",
    "\n",
    "donde $a$ y $b$ son constantes positivas. "
   ]
  },
  {
   "cell_type": "markdown",
   "metadata": {
    "slideshow": {
     "slide_type": "slide"
    }
   },
   "source": [
    "## Solución interpretándo la ED como de Bernoulli"
   ]
  },
  {
   "cell_type": "code",
   "execution_count": null,
   "metadata": {
    "slideshow": {
     "slide_type": "slide"
    }
   },
   "outputs": [],
   "source": []
  },
  {
   "cell_type": "markdown",
   "metadata": {
    "slideshow": {
     "slide_type": "slide"
    }
   },
   "source": [
    "(5 puntos) Encuentre la solución explícita de la ecuación diferencial interpretándola **sólo** como una **ecuación diferencial separable**. \n",
    "$$\\frac{dP}{dt} = P(a-bP) $$\n",
    "\n",
    "donde $a$ y $b$ son constantes positivas. "
   ]
  },
  {
   "cell_type": "markdown",
   "metadata": {
    "slideshow": {
     "slide_type": "slide"
    }
   },
   "source": [
    "$$ P' = aP - bP^{2} $$"
   ]
  },
  {
   "cell_type": "markdown",
   "metadata": {
    "slideshow": {
     "slide_type": "slide"
    }
   },
   "source": [
    "$$P' - aP = -bP^{2} $$"
   ]
  },
  {
   "cell_type": "markdown",
   "metadata": {
    "slideshow": {
     "slide_type": "slide"
    }
   },
   "source": [
    "$$P' + p(t)P= g(t)P^{n} $$"
   ]
  },
  {
   "cell_type": "markdown",
   "metadata": {
    "slideshow": {
     "slide_type": "slide"
    }
   },
   "source": [
    "$$n = 2$$"
   ]
  },
  {
   "cell_type": "markdown",
   "metadata": {
    "slideshow": {
     "slide_type": "slide"
    }
   },
   "source": [
    "$$ v = P^{1-n} = P^{-1} $$"
   ]
  },
  {
   "cell_type": "markdown",
   "metadata": {
    "slideshow": {
     "slide_type": "slide"
    }
   },
   "source": [
    "$$v^{-1} = P  \\Rightarrow P' = -1v^{-2}v' $$"
   ]
  },
  {
   "cell_type": "markdown",
   "metadata": {
    "slideshow": {
     "slide_type": "slide"
    }
   },
   "source": [
    "Sustituimos el cambio de variable en la ED estandarizada \n",
    "$$-1v^{-2}v' - av^{-1} = -bv^{-2} $$"
   ]
  },
  {
   "cell_type": "markdown",
   "metadata": {
    "slideshow": {
     "slide_type": "slide"
    }
   },
   "source": [
    "Dividimos por $-1v^{-2}$"
   ]
  },
  {
   "cell_type": "markdown",
   "metadata": {
    "slideshow": {
     "slide_type": "slide"
    }
   },
   "source": [
    "$$ v' + av = b $$"
   ]
  },
  {
   "cell_type": "markdown",
   "metadata": {
    "slideshow": {
     "slide_type": "slide"
    }
   },
   "source": [
    "$$\\frac{dv}{dt} = b-av$$"
   ]
  },
  {
   "cell_type": "markdown",
   "metadata": {
    "slideshow": {
     "slide_type": "slide"
    }
   },
   "source": [
    "$$\\frac{dv}{b-av} = dt$$"
   ]
  },
  {
   "cell_type": "markdown",
   "metadata": {
    "slideshow": {
     "slide_type": "slide"
    }
   },
   "source": [
    "$$\\frac{1}{-a}\\frac{-adv}{b-av} = dt$$"
   ]
  },
  {
   "cell_type": "markdown",
   "metadata": {
    "slideshow": {
     "slide_type": "slide"
    }
   },
   "source": [
    "integrando a ambos lados \n",
    "\n",
    "$$-\\frac{1}{a} \\ln|b-av| = t + c_{1} $$\n",
    "\n",
    "donde $c_{1}$ es una constante real arbitraria. "
   ]
  },
  {
   "cell_type": "markdown",
   "metadata": {
    "slideshow": {
     "slide_type": "slide"
    }
   },
   "source": [
    "$$\\ln|b-av| = -at - ac_{1} $$"
   ]
  },
  {
   "cell_type": "markdown",
   "metadata": {
    "slideshow": {
     "slide_type": "slide"
    }
   },
   "source": [
    "$$\\ln|b - av| = -at + c_{2}, \\quad c_{2} = -ac_{1} $$\n",
    "\n",
    "donde $c_{2}$ es una nueva constante arbitraria real. "
   ]
  },
  {
   "cell_type": "markdown",
   "metadata": {
    "slideshow": {
     "slide_type": "slide"
    }
   },
   "source": [
    "$$|b - av| = e^{-at}e^{c_{2}} $$"
   ]
  },
  {
   "cell_type": "markdown",
   "metadata": {
    "slideshow": {
     "slide_type": "slide"
    }
   },
   "source": [
    "$$ b - av = c_{3}e^{-at} $$\n",
    "\n",
    "donde $c_{3}$ es una constante real positiva. "
   ]
  },
  {
   "cell_type": "markdown",
   "metadata": {
    "slideshow": {
     "slide_type": "slide"
    }
   },
   "source": [
    "$$b - c_{3}e^{-at} = av$$"
   ]
  },
  {
   "cell_type": "markdown",
   "metadata": {
    "slideshow": {
     "slide_type": "slide"
    }
   },
   "source": [
    "$$\\frac{b - c_{3}e^{-at}}{a} = v $$\n",
    "\n",
    "esta sería la solución general explícita de la ED para la variabla $v$. "
   ]
  },
  {
   "cell_type": "markdown",
   "metadata": {
    "slideshow": {
     "slide_type": "slide"
    }
   },
   "source": [
    "$$P = \\frac{a}{b - c_{3}e^{-at}} $$"
   ]
  },
  {
   "cell_type": "markdown",
   "metadata": {
    "slideshow": {
     "slide_type": "slide"
    }
   },
   "source": [
    "$$P = \\frac{a}{b + c_{4}e^{-at}} $$\n",
    "\n",
    "donde $c_{4}$ es una constante real negativa arbitraria. "
   ]
  },
  {
   "cell_type": "code",
   "execution_count": null,
   "metadata": {},
   "outputs": [],
   "source": []
  },
  {
   "cell_type": "markdown",
   "metadata": {
    "slideshow": {
     "slide_type": "slide"
    }
   },
   "source": [
    "## Solución interpretándo la ED como una separable "
   ]
  },
  {
   "cell_type": "markdown",
   "metadata": {
    "slideshow": {
     "slide_type": "slide"
    }
   },
   "source": [
    "$$ \\frac{dP}{dt} = P(a-bP) $$"
   ]
  },
  {
   "cell_type": "markdown",
   "metadata": {
    "slideshow": {
     "slide_type": "slide"
    }
   },
   "source": [
    "$$\\frac{dP}{P(a-bP)} = dt $$"
   ]
  },
  {
   "cell_type": "markdown",
   "metadata": {
    "slideshow": {
     "slide_type": "slide"
    }
   },
   "source": [
    "$$ \\frac{1}{P(a-bP)} = \\frac{A}{P} + \\frac{B}{a-bP} $$"
   ]
  },
  {
   "cell_type": "markdown",
   "metadata": {
    "slideshow": {
     "slide_type": "slide"
    }
   },
   "source": [
    "$$1  = A(a-bP) + BP $$"
   ]
  },
  {
   "cell_type": "markdown",
   "metadata": {
    "slideshow": {
     "slide_type": "slide"
    }
   },
   "source": [
    "$$P=0 \\to 1 = Aa$$"
   ]
  },
  {
   "cell_type": "markdown",
   "metadata": {
    "slideshow": {
     "slide_type": "slide"
    }
   },
   "source": [
    "$$A = \\frac{1}{a} $$"
   ]
  },
  {
   "cell_type": "markdown",
   "metadata": {
    "slideshow": {
     "slide_type": "slide"
    }
   },
   "source": [
    "$$P = \\frac{a}{b} \\to 1 = B\\frac{a}{b} $$"
   ]
  },
  {
   "cell_type": "markdown",
   "metadata": {
    "slideshow": {
     "slide_type": "slide"
    }
   },
   "source": [
    "$$B = \\frac{b}{a} $$"
   ]
  },
  {
   "cell_type": "markdown",
   "metadata": {
    "slideshow": {
     "slide_type": "slide"
    }
   },
   "source": [
    "$$ \\frac{1}{P(a-bP)} = \\frac{1}{a} \\left( \\frac{1}{P} + \\frac{b}{a-bP} \\right) $$"
   ]
  },
  {
   "cell_type": "markdown",
   "metadata": {
    "slideshow": {
     "slide_type": "slide"
    }
   },
   "source": [
    "$$ \\frac{1}{P(a-bP)} = \\frac{1}{a} \\left( \\frac{1}{P} - \\frac{-b}{a-bP} \\right) $$"
   ]
  },
  {
   "cell_type": "markdown",
   "metadata": {
    "slideshow": {
     "slide_type": "slide"
    }
   },
   "source": [
    "$$\\frac{1}{a} \\left( \\ln|P| - \\ln|a - bp|\\right) = t + c_{1} $$\n",
    "\n",
    "donde $c_{1}$ es un número real arbitrario. "
   ]
  },
  {
   "cell_type": "markdown",
   "metadata": {
    "slideshow": {
     "slide_type": "slide"
    }
   },
   "source": [
    "$$ \\ln \\left| \\frac{P}{a-bp} \\right| = at + ac_{1} $$"
   ]
  },
  {
   "cell_type": "markdown",
   "metadata": {
    "slideshow": {
     "slide_type": "slide"
    }
   },
   "source": [
    "$$ \\ln \\left| \\frac{P}{a-bp} \\right| = at + c_{2} $$\n",
    "\n",
    "donde $c_{2}$ es un número real arbitrario. "
   ]
  },
  {
   "cell_type": "markdown",
   "metadata": {
    "slideshow": {
     "slide_type": "slide"
    }
   },
   "source": [
    "$$\\left|\\frac{P}{a-bP}\\right| = e^{at}c_{3}, \\quad c_{3} = e^{c_{2}} $$\n",
    "\n",
    "$$ \\frac{P}{a-bP} = \\pm e^{at}c_{3}, \\quad c_{3} = e^{c_{2}} $$"
   ]
  },
  {
   "cell_type": "markdown",
   "metadata": {
    "slideshow": {
     "slide_type": "slide"
    }
   },
   "source": [
    "$$ P = (a-bP)c_{4}e^{at} $$\n",
    "\n",
    "donde $c_{4}$ es una constante real arbitraria no nula. "
   ]
  },
  {
   "cell_type": "markdown",
   "metadata": {
    "slideshow": {
     "slide_type": "slide"
    }
   },
   "source": [
    "$$P(1 + c_{4}be^{at}) = c_{4}ae^{at} $$"
   ]
  },
  {
   "cell_type": "markdown",
   "metadata": {
    "slideshow": {
     "slide_type": "slide"
    }
   },
   "source": [
    "$$P = \\frac{c_{4}ae^{at}}{1 + c_{4}be^{at}} $$"
   ]
  },
  {
   "cell_type": "markdown",
   "metadata": {
    "slideshow": {
     "slide_type": "slide"
    }
   },
   "source": [
    "$$P = \\frac{a}{\\frac{e^{-at}}{c_{4}} + b} $$"
   ]
  },
  {
   "cell_type": "markdown",
   "metadata": {
    "slideshow": {
     "slide_type": "slide"
    }
   },
   "source": [
    "$$P = \\frac{a}{b + c_{5}e^{-at}} $$\n",
    "\n",
    "donde $c_{5}$ es una constante real arbitraria, positiva o negativa pero no nula. "
   ]
  },
  {
   "cell_type": "markdown",
   "metadata": {
    "slideshow": {
     "slide_type": "slide"
    }
   },
   "source": [
    "Note que si $c_{5} = 0$, entonces $P = \\frac{a}{b}$ y esta función constante también es solución de la ED dada. Por lo tanto, la solución general de la ED dada es para todos los $c_{5}$ reales. "
   ]
  },
  {
   "cell_type": "code",
   "execution_count": null,
   "metadata": {},
   "outputs": [],
   "source": []
  },
  {
   "cell_type": "code",
   "execution_count": null,
   "metadata": {
    "slideshow": {
     "slide_type": "skip"
    }
   },
   "outputs": [],
   "source": []
  },
  {
   "cell_type": "markdown",
   "metadata": {
    "slideshow": {
     "slide_type": "slide"
    }
   },
   "source": [
    "(10 puntos) Verifique su respuesta analíticamente. (Entrega el proceso de verificación manuscrito). "
   ]
  },
  {
   "cell_type": "markdown",
   "metadata": {
    "slideshow": {
     "slide_type": "slide"
    }
   },
   "source": [
    "## Verificación de equivalencia de soluciones generales "
   ]
  },
  {
   "cell_type": "code",
   "execution_count": null,
   "metadata": {
    "slideshow": {
     "slide_type": "slide"
    }
   },
   "outputs": [],
   "source": []
  },
  {
   "cell_type": "markdown",
   "metadata": {},
   "source": [
    "## Verificación de que la solución general satisface la ED dada"
   ]
  },
  {
   "cell_type": "code",
   "execution_count": null,
   "metadata": {},
   "outputs": [],
   "source": []
  },
  {
   "cell_type": "markdown",
   "metadata": {},
   "source": [
    "## Determinación del comportamiento de la solución en el infinito"
   ]
  },
  {
   "cell_type": "code",
   "execution_count": null,
   "metadata": {
    "slideshow": {
     "slide_type": "slide"
    }
   },
   "outputs": [],
   "source": []
  },
  {
   "cell_type": "markdown",
   "metadata": {
    "slideshow": {
     "slide_type": "slide"
    }
   },
   "source": [
    "## Trazado del campo de direcciones "
   ]
  },
  {
   "cell_type": "code",
   "execution_count": 1,
   "metadata": {
    "slideshow": {
     "slide_type": "slide"
    }
   },
   "outputs": [
    {
     "data": {
      "text/plain": [
       "<Figure size 640x480 with 1 Axes>"
      ]
     },
     "metadata": {},
     "output_type": "display_data"
    }
   ],
   "source": [
    "import numpy as np\n",
    "from matplotlib import pyplot as plt\n",
    "a,b = 1,1   # dominio de trazado del campo de direcciones \n",
    "\n",
    "def diff(x,y):       # Differential equation\n",
    "    return y*(a-b*y)   # diff  y'= y(a-by)  \n",
    "\n",
    "x = np.linspace(-3,6,10)\n",
    "y = np.linspace(-0.5,1.5,10)  \n",
    "\n",
    "for j in x:\n",
    "    for k in y:\n",
    "        slope = diff(j,k)\n",
    "        domain = np.linspace(j-0.04,j+0.04,2)\n",
    "        def fun(x1,y1):    # función que crea el segmento tangente\n",
    "            z = slope*(domain-x1)+y1 # uso de la ecuación en forma punto - pendiente de una recta\n",
    "            return z\n",
    "        plt.plot(domain,fun(j,k))\n",
    "\n",
    "plt.title(r\"Slope field $y'$\")\n",
    "plt.plot([-3,6],[0,0])  \n",
    "plt.plot([-3,6],[1,1]) \n",
    "plt.axis([-3,6,-0.5,1.5])  \n",
    "plt.grid(True)\n",
    "plt.show()"
   ]
  },
  {
   "cell_type": "markdown",
   "metadata": {
    "slideshow": {
     "slide_type": "slide"
    }
   },
   "source": [
    "### Interpretación de este campo de pendientes"
   ]
  },
  {
   "cell_type": "code",
   "execution_count": null,
   "metadata": {
    "slideshow": {
     "slide_type": "slide"
    }
   },
   "outputs": [],
   "source": []
  },
  {
   "cell_type": "markdown",
   "metadata": {},
   "source": [
    "## Verificación con sympy "
   ]
  },
  {
   "cell_type": "code",
   "execution_count": null,
   "metadata": {},
   "outputs": [],
   "source": [
    "from sympy import * \n",
    "t,P=symbols('t P')\n",
    "a,b=symbols('a b') \n",
    "P=Function('P')(t) \n",
    "dsolve(diff(P,t) - P*(a-b*P),P)  "
   ]
  },
  {
   "cell_type": "markdown",
   "metadata": {},
   "source": [
    "## Comportamiento de la solución en el infinito"
   ]
  },
  {
   "cell_type": "code",
   "execution_count": null,
   "metadata": {},
   "outputs": [],
   "source": [
    "from sympy import * \n",
    "t,c=symbols('t c')  \n",
    "a,b=symbols('a b',positive=True) \n",
    "limit(a/( b + c*exp(-a*t) ),t,oo) "
   ]
  },
  {
   "cell_type": "markdown",
   "metadata": {},
   "source": [
    "## Algunas curvas integrales de esta ED"
   ]
  },
  {
   "cell_type": "code",
   "execution_count": null,
   "metadata": {},
   "outputs": [],
   "source": [
    "import numpy as np \n",
    "import matplotlib.pyplot as plt \n",
    "from ipywidgets import interact  \n",
    "a,b=2,1 # constantes positivas de nuestra ED logística\n",
    "d,e = -1,3 # dominio de graficación\n",
    "def graficar(c=0): \n",
    "    X=np.linspace(d,e)\n",
    "    y = [a/(b+c*np.exp(-a*x)) for x in X ]  \n",
    "    if c==0:\n",
    "        y=[a/b for x in X] \n",
    "    plt.plot(X,y, 'r-') \n",
    "    plt.axis([d,e,0,20])   # definición del rectángulo de visualización\n",
    "    plt.grid() \n",
    "    \n",
    "interact(graficar, c=(-1,3))     "
   ]
  },
  {
   "cell_type": "code",
   "execution_count": null,
   "metadata": {},
   "outputs": [],
   "source": []
  },
  {
   "cell_type": "markdown",
   "metadata": {},
   "source": [
    "# Punto 3"
   ]
  },
  {
   "cell_type": "markdown",
   "metadata": {},
   "source": [
    "(5 puntos) Encuentre la solución explícita de la ecuación diferencial interpretándola **sólo** como una ecuación diferencial de **Separable**:\n",
    "\n",
    "$$ y' + \\frac{1}{2}y = \\frac{3}{2} $$"
   ]
  },
  {
   "cell_type": "markdown",
   "metadata": {
    "slideshow": {
     "slide_type": "slide"
    }
   },
   "source": [
    "## Solución interpretándola como separable"
   ]
  },
  {
   "cell_type": "markdown",
   "metadata": {
    "slideshow": {
     "slide_type": "slide"
    }
   },
   "source": [
    "$$y'=\\frac{3-y}{2}$$"
   ]
  },
  {
   "cell_type": "code",
   "execution_count": null,
   "metadata": {},
   "outputs": [],
   "source": []
  },
  {
   "cell_type": "code",
   "execution_count": null,
   "metadata": {},
   "outputs": [],
   "source": []
  },
  {
   "cell_type": "markdown",
   "metadata": {
    "slideshow": {
     "slide_type": "slide"
    }
   },
   "source": [
    "(5 puntos) Encuentre la solución explícita de la ecuación diferencial interpretándola **sólo** como una **ecuación diferencial lineal**:\n",
    "\n",
    "$$\\frac{dy/dx}{y-3} = -\\frac{1}{2} $$\n"
   ]
  },
  {
   "cell_type": "markdown",
   "metadata": {
    "slideshow": {
     "slide_type": "slide"
    }
   },
   "source": [
    "## Solución intrepretándola como lineal "
   ]
  },
  {
   "cell_type": "code",
   "execution_count": null,
   "metadata": {},
   "outputs": [],
   "source": []
  },
  {
   "cell_type": "markdown",
   "metadata": {
    "slideshow": {
     "slide_type": "slide"
    }
   },
   "source": [
    "(10 puntos) Verifique que las soluciones generales anteriores son equivalentes y que son solución de la primera ED.  "
   ]
  },
  {
   "cell_type": "markdown",
   "metadata": {
    "slideshow": {
     "slide_type": "slide"
    }
   },
   "source": [
    "## Verificación de consistencia de los métodos utilizados"
   ]
  },
  {
   "cell_type": "code",
   "execution_count": null,
   "metadata": {},
   "outputs": [],
   "source": []
  },
  {
   "cell_type": "markdown",
   "metadata": {
    "slideshow": {
     "slide_type": "slide"
    }
   },
   "source": [
    "## Verificación de que la solución satisface la ED dada"
   ]
  },
  {
   "cell_type": "code",
   "execution_count": null,
   "metadata": {},
   "outputs": [],
   "source": []
  },
  {
   "cell_type": "markdown",
   "metadata": {
    "slideshow": {
     "slide_type": "slide"
    }
   },
   "source": [
    "# Punto 4"
   ]
  },
  {
   "cell_type": "markdown",
   "metadata": {},
   "source": [
    "$$ xyy' + y^{2} = 2x $$\n",
    "\n",
    "(5 puntos) Encuentre las dos familias de soluciones generales explícitas para esta ecuación diferencial pero utilizando **solo** el método de las ecuaciones para las que existe un factor integrante que las hace exactas. "
   ]
  },
  {
   "cell_type": "markdown",
   "metadata": {
    "slideshow": {
     "slide_type": "slide"
    }
   },
   "source": [
    "## Solución por el método de las exactas"
   ]
  },
  {
   "cell_type": "markdown",
   "metadata": {
    "slideshow": {
     "slide_type": "slide"
    }
   },
   "source": [
    "Llevemos la ecuación dada a la forma $M+Ny'=0$."
   ]
  },
  {
   "cell_type": "markdown",
   "metadata": {
    "slideshow": {
     "slide_type": "slide"
    }
   },
   "source": [
    "$$ (y^{2}-2x) + xyy' = 0 $$"
   ]
  },
  {
   "cell_type": "markdown",
   "metadata": {
    "slideshow": {
     "slide_type": "slide"
    }
   },
   "source": [
    "$$ \\mu(x) = e^{\\int \\frac{M_{y} - N_{x}}{N}dx} = exp\\left( \\int \\frac{M_{y} - N_{x}}{N}dx \\right) $$"
   ]
  },
  {
   "cell_type": "markdown",
   "metadata": {
    "slideshow": {
     "slide_type": "slide"
    }
   },
   "source": [
    "$$\\frac{2y - y}{xy} = \\frac{y}{xy} = \\frac{1}{x} = \\frac{\\mu'}{\\mu} $$\n",
    "\n",
    "$\\mu$ en este caso es una función exclusiva de $x$. "
   ]
  },
  {
   "cell_type": "markdown",
   "metadata": {
    "slideshow": {
     "slide_type": "slide"
    }
   },
   "source": [
    "Entonces $\\mu = x$. "
   ]
  },
  {
   "cell_type": "markdown",
   "metadata": {
    "slideshow": {
     "slide_type": "slide"
    }
   },
   "source": [
    "Multipliquemos la ecuación $(y^{2}-2x) + xyy' = 0$ por el factor integrante $\\mu = x$. "
   ]
  },
  {
   "cell_type": "markdown",
   "metadata": {
    "slideshow": {
     "slide_type": "slide"
    }
   },
   "source": [
    "$$ (xy^{2}-2x^{2}) + x^{2}yy'=0 $$"
   ]
  },
  {
   "cell_type": "markdown",
   "metadata": {
    "slideshow": {
     "slide_type": "slide"
    }
   },
   "source": [
    "Verifiquemos que esta nueva ecuación es exacta"
   ]
  },
  {
   "cell_type": "code",
   "execution_count": null,
   "metadata": {},
   "outputs": [],
   "source": []
  },
  {
   "cell_type": "markdown",
   "metadata": {
    "slideshow": {
     "slide_type": "slide"
    }
   },
   "source": [
    "Entonces, $\\psi = \\int Ndy + h(x)$. \n",
    "\n",
    "$$ \\psi = \\int x^{2}y dy + h(x) $$\n"
   ]
  },
  {
   "cell_type": "markdown",
   "metadata": {
    "slideshow": {
     "slide_type": "slide"
    }
   },
   "source": [
    "$$\\psi = \\frac{x^{2}y^{2}}{2} + h(x) $$"
   ]
  },
  {
   "cell_type": "markdown",
   "metadata": {
    "slideshow": {
     "slide_type": "slide"
    }
   },
   "source": [
    "$$ \\psi_{x} = M =  xy^{2}-2x^{2} = xy^{2} + h'(x) $$"
   ]
  },
  {
   "cell_type": "markdown",
   "metadata": {
    "slideshow": {
     "slide_type": "slide"
    }
   },
   "source": [
    "$$ h'(x) = -2x^{2} \\qquad \\Rightarrow \\qquad  h(x) = -\\frac{2}{3}x^{3} $$"
   ]
  },
  {
   "cell_type": "markdown",
   "metadata": {
    "slideshow": {
     "slide_type": "slide"
    }
   },
   "source": [
    "Luego \n",
    "\n",
    "$$\\psi = c \\qquad \\iff \\qquad  \\frac{x^{2}y^{2}}{2} - \\frac{2}{3}x^{3} = c$$\n",
    "\n",
    "es la solución general implícita de la ED dada. "
   ]
  },
  {
   "cell_type": "markdown",
   "metadata": {
    "slideshow": {
     "slide_type": "slide"
    }
   },
   "source": [
    "Despejemos $y$ para tener la solución explícita:"
   ]
  },
  {
   "cell_type": "markdown",
   "metadata": {
    "slideshow": {
     "slide_type": "slide"
    }
   },
   "source": [
    "$$ \\frac{x^{2}y^{2}}{2} - \\frac{2}{3}x^{3} = c $$"
   ]
  },
  {
   "cell_type": "markdown",
   "metadata": {
    "slideshow": {
     "slide_type": "slide"
    }
   },
   "source": [
    "multipliquemos por 6\n",
    "$$3x^{2}y^{2} - 4x^{3} = 6c $$"
   ]
  },
  {
   "cell_type": "markdown",
   "metadata": {
    "slideshow": {
     "slide_type": "slide"
    }
   },
   "source": [
    "$$y^{2} = \\frac{6c + 4x^{3}}{3x^{2}} $$"
   ]
  },
  {
   "cell_type": "markdown",
   "metadata": {
    "slideshow": {
     "slide_type": "slide"
    }
   },
   "source": [
    "$$y = \\pm \\sqrt{ \\frac{6c + 4x^{3}}{3x^{2}} }$$"
   ]
  },
  {
   "cell_type": "code",
   "execution_count": null,
   "metadata": {},
   "outputs": [],
   "source": []
  },
  {
   "cell_type": "code",
   "execution_count": null,
   "metadata": {},
   "outputs": [],
   "source": []
  },
  {
   "cell_type": "markdown",
   "metadata": {},
   "source": [
    "$$ xyy' + y^{2} = 2x $$\n",
    "\n",
    "(5 puntos) Encuentre las dos familias de soluciones generales explícitas para esta ecuación diferencial pero utilizando **solo** el método de las ecuaciones diferenciales de Bernoulli. "
   ]
  },
  {
   "cell_type": "markdown",
   "metadata": {
    "slideshow": {
     "slide_type": "slide"
    }
   },
   "source": [
    "## Solución utilizando el método para las ecuaciones de Bernoulli"
   ]
  },
  {
   "cell_type": "code",
   "execution_count": null,
   "metadata": {},
   "outputs": [],
   "source": []
  },
  {
   "cell_type": "markdown",
   "metadata": {},
   "source": [
    "(10 puntos) Verifique que las soluciones encontradas son equivalentes y que son solución de la ED dada. "
   ]
  },
  {
   "cell_type": "markdown",
   "metadata": {
    "slideshow": {
     "slide_type": "slide"
    }
   },
   "source": [
    "## Verificación de equivalencia de soluciones"
   ]
  },
  {
   "cell_type": "markdown",
   "metadata": {
    "slideshow": {
     "slide_type": "slide"
    }
   },
   "source": []
  },
  {
   "cell_type": "code",
   "execution_count": null,
   "metadata": {
    "slideshow": {
     "slide_type": "skip"
    }
   },
   "outputs": [],
   "source": []
  },
  {
   "cell_type": "markdown",
   "metadata": {
    "slideshow": {
     "slide_type": "slide"
    }
   },
   "source": [
    "## Verificación de que la solución general satisface la ED dada. "
   ]
  },
  {
   "cell_type": "code",
   "execution_count": null,
   "metadata": {
    "slideshow": {
     "slide_type": "slide"
    }
   },
   "outputs": [],
   "source": []
  },
  {
   "cell_type": "markdown",
   "metadata": {
    "slideshow": {
     "slide_type": "slide"
    }
   },
   "source": [
    "## Trazado de algunas curvas integrales tomadas de la solución implícita "
   ]
  },
  {
   "cell_type": "code",
   "execution_count": null,
   "metadata": {
    "slideshow": {
     "slide_type": "slide"
    }
   },
   "outputs": [],
   "source": [
    "import matplotlib.pyplot\n",
    "from numpy import arange\n",
    "from numpy import meshgrid\n",
    "\n",
    "delta = 0.025\n",
    "xrange = arange(-5.0, 5.0, delta)\n",
    "yrange = arange(-5.0, 5.0, delta)\n",
    "X, Y = meshgrid(xrange,yrange)\n",
    "\n",
    "# F is one side of the equation, G is the other\n",
    "F = Y**2\n",
    "G = (4/3)*X + 1/X**2\n",
    "matplotlib.pyplot.contour(X, Y, (F - G), [0])\n",
    "matplotlib.pyplot.show()"
   ]
  },
  {
   "cell_type": "code",
   "execution_count": null,
   "metadata": {
    "slideshow": {
     "slide_type": "slide"
    }
   },
   "outputs": [],
   "source": [
    "from sympy import var, plot_implicit\n",
    "var('x y')\n",
    "plot_implicit(y**2-(4/3)*x-1/x**2) "
   ]
  },
  {
   "cell_type": "markdown",
   "metadata": {
    "slideshow": {
     "slide_type": "slide"
    }
   },
   "source": [
    "# Punto 5"
   ]
  },
  {
   "cell_type": "markdown",
   "metadata": {
    "slideshow": {
     "slide_type": "slide"
    }
   },
   "source": [
    "$$\\frac{dy}{dx} = \\frac{x+y}{x} $$"
   ]
  },
  {
   "cell_type": "markdown",
   "metadata": {
    "slideshow": {
     "slide_type": "slide"
    }
   },
   "source": [
    "(5 puntos) Resolver la ecuación anterior utilizando el método de las ED lineales "
   ]
  },
  {
   "cell_type": "markdown",
   "metadata": {
    "slideshow": {
     "slide_type": "slide"
    }
   },
   "source": [
    "## Solución utilizando el método de las lineales "
   ]
  },
  {
   "cell_type": "markdown",
   "metadata": {
    "slideshow": {
     "slide_type": "slide"
    }
   },
   "source": [
    "Empecemos llevando la ecuación a la forma estandas de las lineales"
   ]
  },
  {
   "cell_type": "markdown",
   "metadata": {
    "slideshow": {
     "slide_type": "slide"
    }
   },
   "source": [
    "$$\\frac{dy}{dx} = \\frac{x+y}{x} $$"
   ]
  },
  {
   "cell_type": "markdown",
   "metadata": {
    "slideshow": {
     "slide_type": "slide"
    }
   },
   "source": [
    "$$y'=1 + \\frac{y}{x}$$"
   ]
  },
  {
   "cell_type": "markdown",
   "metadata": {
    "slideshow": {
     "slide_type": "slide"
    }
   },
   "source": [
    "$$y' - \\frac{1}{x}y= 1$$"
   ]
  },
  {
   "cell_type": "markdown",
   "metadata": {
    "slideshow": {
     "slide_type": "slide"
    }
   },
   "source": [
    "Luego, $p(x) = -\\frac{1}{x}$, de donde $\\mu(x) = e^{\\int -\\frac{1}{x}dx} = e^{-\\ln|x|} = \\frac{1}{x}$. "
   ]
  },
  {
   "cell_type": "markdown",
   "metadata": {
    "slideshow": {
     "slide_type": "slide"
    }
   },
   "source": [
    "Multipliquemos la ecuación estandarizada por el factor integrante encontrado para obtener una forma \n",
    "\n",
    "$$[y\\mu]' = \\mu g$$\n"
   ]
  },
  {
   "cell_type": "markdown",
   "metadata": {
    "slideshow": {
     "slide_type": "slide"
    }
   },
   "source": [
    "$$\\frac{1}{x}y' - \\frac{1}{x^{2}}y = \\frac{1}{x} \\quad \\iff \\quad \\left[ \\frac{1}{x}y \\right]'=\\frac{1}{x} $$"
   ]
  },
  {
   "cell_type": "markdown",
   "metadata": {
    "slideshow": {
     "slide_type": "slide"
    }
   },
   "source": [
    "de donde \n",
    "\n",
    "$$ \\frac{1}{x}y = \\ln|x| + C_{1} $$\n"
   ]
  },
  {
   "cell_type": "markdown",
   "metadata": {
    "slideshow": {
     "slide_type": "slide"
    }
   },
   "source": [
    "$$ y = x\\ln|x| + xC_{1} $$"
   ]
  },
  {
   "cell_type": "code",
   "execution_count": null,
   "metadata": {
    "slideshow": {
     "slide_type": "skip"
    }
   },
   "outputs": [],
   "source": []
  },
  {
   "cell_type": "markdown",
   "metadata": {
    "slideshow": {
     "slide_type": "slide"
    }
   },
   "source": [
    "(5 puntos) Resolver la ecuación anterior utilizando el método de las ecuaciones homogéneas\n"
   ]
  },
  {
   "cell_type": "markdown",
   "metadata": {
    "slideshow": {
     "slide_type": "slide"
    }
   },
   "source": [
    "## Solución utilizando el método de las homogéneas"
   ]
  },
  {
   "cell_type": "markdown",
   "metadata": {
    "slideshow": {
     "slide_type": "slide"
    }
   },
   "source": [
    "$$\\frac{dy}{dx} = \\frac{x+y}{x} $$"
   ]
  },
  {
   "cell_type": "markdown",
   "metadata": {
    "slideshow": {
     "slide_type": "slide"
    }
   },
   "source": [
    "Para ello, llevamos la ecuación a la forma $$ y' = f\\left( \\frac{y}{x} \\right) $$"
   ]
  },
  {
   "cell_type": "markdown",
   "metadata": {
    "slideshow": {
     "slide_type": "slide"
    }
   },
   "source": [
    "Esto lo logramos en este caso distribuyendo el denominador. "
   ]
  },
  {
   "cell_type": "markdown",
   "metadata": {
    "slideshow": {
     "slide_type": "slide"
    }
   },
   "source": [
    "$$y' = 1 + \\frac{y}{x}$$"
   ]
  },
  {
   "cell_type": "markdown",
   "metadata": {
    "slideshow": {
     "slide_type": "slide"
    }
   },
   "source": [
    "Ahora, utilizamos el cambio de variable $y = vx$, de donde $y' = v + xv'$."
   ]
  },
  {
   "cell_type": "markdown",
   "metadata": {
    "slideshow": {
     "slide_type": "slide"
    }
   },
   "source": [
    "$$ v+xv' = 1 + v $$"
   ]
  },
  {
   "cell_type": "markdown",
   "metadata": {
    "slideshow": {
     "slide_type": "slide"
    }
   },
   "source": [
    "$$xv' = 1$$"
   ]
  },
  {
   "cell_type": "markdown",
   "metadata": {
    "slideshow": {
     "slide_type": "slide"
    }
   },
   "source": [
    "de donde \n",
    "\n",
    "$$v = \\ln|x| + C_{1} \\iff \\frac{y}{x} = \\ln|x| + C_{1} $$\n",
    "\n",
    "$$ y = x(\\ln|x| + C_{1}) $$\n"
   ]
  },
  {
   "cell_type": "code",
   "execution_count": null,
   "metadata": {
    "slideshow": {
     "slide_type": "skip"
    }
   },
   "outputs": [],
   "source": []
  },
  {
   "cell_type": "markdown",
   "metadata": {
    "slideshow": {
     "slide_type": "slide"
    }
   },
   "source": [
    "(10 puntos) Verificar que las soluciones encontradas son equivalentes y que si sean solución de la ED dada. "
   ]
  },
  {
   "cell_type": "markdown",
   "metadata": {
    "slideshow": {
     "slide_type": "slide"
    }
   },
   "source": [
    "## Verificación de que las soluciones generales encontradas son equivalentes"
   ]
  },
  {
   "cell_type": "markdown",
   "metadata": {
    "slideshow": {
     "slide_type": "slide"
    }
   },
   "source": [
    "Interpretando la ED dada como ED lineal encontramos:\n",
    "\n",
    "$$ y = x\\ln|x| + xC_{1} $$\n",
    "\n",
    "e interpretándola como ED homogénea encontramos que \n",
    "$$ y = x(\\ln|x| + C_{1}) $$\n"
   ]
  },
  {
   "cell_type": "markdown",
   "metadata": {
    "slideshow": {
     "slide_type": "slide"
    }
   },
   "source": [
    "Así, hemos encontrado dos familias de soluciones equivalentes. "
   ]
  },
  {
   "cell_type": "markdown",
   "metadata": {
    "slideshow": {
     "slide_type": "slide"
    }
   },
   "source": [
    "## Verificación de que la familia de funciones encontrada es solución de la ED dada "
   ]
  },
  {
   "cell_type": "markdown",
   "metadata": {
    "slideshow": {
     "slide_type": "slide"
    }
   },
   "source": [
    "Sustituyamos la solución deducida $y = x(\\ln|x| + C_{1})$ en la ED dada:\n",
    "\n",
    "$$\\frac{dy}{dx} = \\frac{x+y}{x} $$\n",
    "\n",
    "\n"
   ]
  },
  {
   "cell_type": "markdown",
   "metadata": {
    "slideshow": {
     "slide_type": "slide"
    }
   },
   "source": [
    "$$ [x(\\ln|x| + C_{1})]' = \\frac{x+ x(\\ln|x| + C_{1})}{x}$$"
   ]
  },
  {
   "cell_type": "markdown",
   "metadata": {
    "slideshow": {
     "slide_type": "slide"
    }
   },
   "source": [
    "$$ x\\left(\\frac{1}{x} + 0\\right) + (\\ln|x| + C_{1})(1) = 1 + \\ln|x| + C_{1} $$"
   ]
  },
  {
   "cell_type": "markdown",
   "metadata": {
    "slideshow": {
     "slide_type": "slide"
    }
   },
   "source": [
    "$$ 1 + 0) + \\ln|x| + C_{1} = 1 + \\ln|x| + C_{1} $$\n",
    "\n",
    "como hemos encontrado una identidad, entonces la solución general encontrada es correcta. "
   ]
  },
  {
   "cell_type": "code",
   "execution_count": null,
   "metadata": {
    "slideshow": {
     "slide_type": "skip"
    }
   },
   "outputs": [],
   "source": []
  },
  {
   "cell_type": "markdown",
   "metadata": {
    "slideshow": {
     "slide_type": "slide"
    }
   },
   "source": [
    "## Verificación con sympy "
   ]
  },
  {
   "cell_type": "code",
   "execution_count": null,
   "metadata": {
    "slideshow": {
     "slide_type": "slide"
    }
   },
   "outputs": [],
   "source": [
    "from sympy import * \n",
    "x,y=symbols('x y')\n",
    "y=Function('y')(x)\n",
    "ED=diff(y,x)-(x+y)/x\n",
    "dsolve(ED,y) "
   ]
  },
  {
   "cell_type": "code",
   "execution_count": null,
   "metadata": {},
   "outputs": [],
   "source": []
  },
  {
   "cell_type": "code",
   "execution_count": null,
   "metadata": {},
   "outputs": [],
   "source": []
  }
 ],
 "metadata": {
  "celltoolbar": "Slideshow",
  "hide_input": false,
  "kernelspec": {
   "display_name": "Python 3",
   "language": "python",
   "name": "python3"
  },
  "language_info": {
   "codemirror_mode": {
    "name": "ipython",
    "version": 3
   },
   "file_extension": ".py",
   "mimetype": "text/x-python",
   "name": "python",
   "nbconvert_exporter": "python",
   "pygments_lexer": "ipython3",
   "version": "3.7.4"
  },
  "nbTranslate": {
   "displayLangs": [
    "*"
   ],
   "hotkey": "alt-t",
   "langInMainMenu": true,
   "sourceLang": "en",
   "targetLang": "fr",
   "useGoogleTranslate": true
  },
  "rise": {
   "enable_chalkboard": true,
   "theme": "sky",
   "transition": "zoom"
  }
 },
 "nbformat": 4,
 "nbformat_minor": 2
}
