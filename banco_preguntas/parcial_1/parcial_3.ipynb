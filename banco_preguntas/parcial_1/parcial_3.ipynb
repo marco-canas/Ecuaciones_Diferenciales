{
 "cells": [
  {
   "cell_type": "markdown",
   "metadata": {},
   "source": [
    "# Parcial 1 EDO "
   ]
  },
  {
   "cell_type": "markdown",
   "metadata": {},
   "source": [
    "## Punto 1\n",
    "Página 102 del Boyce DiPrima "
   ]
  },
  {
   "cell_type": "markdown",
   "metadata": {},
   "source": [
    "$$ (xy^{2}+bx^{2}y)dx+(x+y)x^{2}dy=0 $$\n",
    "(5 puntos) Encuentre el valor de $b$ para el que la ecuación anterior es exacta."
   ]
  },
  {
   "cell_type": "markdown",
   "metadata": {},
   "source": [
    "## Solución:"
   ]
  },
  {
   "cell_type": "markdown",
   "metadata": {},
   "source": [
    "Como la ED dada está en la forma diferencial $Mdx + Ndy = 0$, entonces"
   ]
  },
  {
   "cell_type": "markdown",
   "metadata": {},
   "source": [
    "$$ M=xy^{2}+bx^{2}y \\qquad N=(x+y)x^{2} = x^{3} + x^{2}y $$"
   ]
  },
  {
   "cell_type": "code",
   "execution_count": 46,
   "metadata": {},
   "outputs": [
    {
     "name": "stdout",
     "output_type": "stream",
     "text": [
      "b*x**2 + 2*x*y\n",
      "3*x**2 + 2*x*y\n"
     ]
    }
   ],
   "source": [
    "from sympy import *\n",
    "x,y,b=symbols('x y b') \n",
    "M=x*y**2+b*x**2*y\n",
    "N=x**3+x**2*y\n",
    "print(M.diff(y)) \n",
    "print(N.diff(x))"
   ]
  },
  {
   "cell_type": "code",
   "execution_count": 16,
   "metadata": {},
   "outputs": [],
   "source": []
  },
  {
   "cell_type": "markdown",
   "metadata": {},
   "source": [
    "de donde \n",
    "\n",
    "$$ M_{y} = 2xy + bx^{2} \\quad \\text{y} \\quad N_{x} = 3x^{2} + 2xy $$\n"
   ]
  },
  {
   "cell_type": "markdown",
   "metadata": {},
   "source": [
    "y para ser exacta vemos que $b$ debe ser igual a $3$. "
   ]
  },
  {
   "cell_type": "code",
   "execution_count": null,
   "metadata": {},
   "outputs": [],
   "source": []
  },
  {
   "cell_type": "markdown",
   "metadata": {},
   "source": [
    "(5 puntos) Resuelva esa ecuación al utilizar ese valor de $b$. "
   ]
  },
  {
   "cell_type": "markdown",
   "metadata": {},
   "source": [
    "La ecuación diferencial para el $b$ determinado es:\n",
    "\n",
    "$$ (xy^{2}+3x^{2}y)dx+(x+y)x^{2}dy=0 $$"
   ]
  },
  {
   "cell_type": "markdown",
   "metadata": {},
   "source": [
    "$$ \\psi = \\int (xy^{2} + 3x^{2}y)dx + h(y) $$"
   ]
  },
  {
   "cell_type": "markdown",
   "metadata": {},
   "source": [
    "$$\\psi = \\frac{x^{2}y^{2}}{2} + x^{3}y + h(y)  $$"
   ]
  },
  {
   "cell_type": "markdown",
   "metadata": {},
   "source": [
    "$$ \\psi_{y} =  x^{2}y + x^{3} + h'(y) = x^{3} + x^{2}y $$"
   ]
  },
  {
   "cell_type": "markdown",
   "metadata": {},
   "source": [
    "$$h'(y) = 0$$"
   ]
  },
  {
   "cell_type": "markdown",
   "metadata": {},
   "source": [
    "$$\\psi = c \\qquad \\iff \\qquad \\frac{x^{2}y^{2}}{2} + x^{3}y = c$$"
   ]
  },
  {
   "cell_type": "markdown",
   "metadata": {},
   "source": [
    "Esta es la solución general implícita de la ED dada. Veamos que esta es una ecuación cuadrática en $y$"
   ]
  },
  {
   "cell_type": "markdown",
   "metadata": {},
   "source": [
    "multipliquemos por 2 y restemos $c$"
   ]
  },
  {
   "cell_type": "markdown",
   "metadata": {},
   "source": [
    "$$ x^{2}y^{2} + 2x^{3}y - c = 0  $$"
   ]
  },
  {
   "cell_type": "markdown",
   "metadata": {},
   "source": [
    "$$y = \\frac{-2x^{3} \\pm \\sqrt{4x^{6} + 4x^{2}c}}{2x^{2}} $$"
   ]
  },
  {
   "cell_type": "markdown",
   "metadata": {},
   "source": [
    "$$y = \\frac{-2x^{3} \\pm \\sqrt{4x^{2}(x^{4} + c)}}{2x^{2}} $$"
   ]
  },
  {
   "cell_type": "markdown",
   "metadata": {},
   "source": [
    "$$y = \\frac{-2x^{3} \\pm 2x\\sqrt{x^{4} + c}}{2x^{2}} $$"
   ]
  },
  {
   "cell_type": "markdown",
   "metadata": {},
   "source": [
    "$$y = \\frac{-x^{2} \\pm \\sqrt{x^{4} + c}}{x} = -x \\pm \\frac{\\sqrt{c + x^{4}}}{x}$$"
   ]
  },
  {
   "cell_type": "markdown",
   "metadata": {},
   "source": [
    "Así, hemos encontrado dos familias $F_{1}$ y $F_{2}$ de soluciones:\n",
    "\n",
    "$$F_{1} = \\left\\{ (x,y) \\mid y= -x + \\frac{\\sqrt{c + x^{4}}}{x} \\right\\}$$\n",
    "\n",
    "$$F_{2} = \\left\\{ (x,y) \\mid y= -x - \\frac{\\sqrt{c + x^{4}}}{x} \\right\\}$$\n"
   ]
  },
  {
   "cell_type": "code",
   "execution_count": null,
   "metadata": {},
   "outputs": [],
   "source": []
  },
  {
   "cell_type": "markdown",
   "metadata": {},
   "source": [
    "(10 puntos) Verifique la solución encontrada. "
   ]
  },
  {
   "cell_type": "markdown",
   "metadata": {},
   "source": [
    "$$\\psi = c \\qquad \\iff \\qquad \\frac{x^{2}y^{2}}{2} + x^{3}y = c$$"
   ]
  },
  {
   "cell_type": "markdown",
   "metadata": {},
   "source": [
    "$$\\frac{d}{dx}\\psi = \\frac{d}{dx}c \\qquad \\iff \\qquad \\frac{d}{dx}\\left(\\frac{x^{2}y^{2}}{2} + x^{3}y \\right) = \\frac{d}{dx}c$$"
   ]
  },
  {
   "cell_type": "markdown",
   "metadata": {},
   "source": [
    "$$\\frac{\\partial}{\\partial x} \\psi + \\frac{\\partial}{\\partial y}\\psi \\cdot \\frac{dy}{dx} = 0 \\quad \\iff \\quad \\frac{\\partial}{\\partial x} \\left(\\frac{x^{2}y^{2}}{2} + x^{3}y \\right) + \\frac{\\partial}{\\partial y} \\left(\\frac{x^{2}y^{2}}{2} + x^{3}y \\right) \\cdot \\frac{dy}{dx} = 0$$"
   ]
  },
  {
   "cell_type": "markdown",
   "metadata": {},
   "source": [
    "$$\\frac{\\partial}{\\partial x} \\psi + \\frac{\\partial}{\\partial y}\\psi \\cdot \\frac{dy}{dx} = 0 \\quad \\iff \\quad \\left(xy^{2} + 3x^{2}y \\right) + \\left(x^{2}y + x^{3} \\right) \\cdot \\frac{dy}{dx} = 0$$"
   ]
  },
  {
   "cell_type": "markdown",
   "metadata": {},
   "source": [
    "$$\\frac{\\partial}{\\partial x} \\psi + \\frac{\\partial}{\\partial y}\\psi \\cdot \\frac{dy}{dx} = 0 \\quad \\iff \\quad (xy^{2} + 3x^{2}y ) + (y + x)x^{2} \\cdot \\frac{dy}{dx} = 0$$"
   ]
  },
  {
   "cell_type": "markdown",
   "metadata": {},
   "source": [
    "Como pudimos recuperar la ED dada a partir de derivar a la solución general, entonces el ejercicio dado esta correctamente realizado. "
   ]
  },
  {
   "cell_type": "code",
   "execution_count": null,
   "metadata": {},
   "outputs": [],
   "source": []
  },
  {
   "cell_type": "markdown",
   "metadata": {},
   "source": [
    "## Verificación con Sympy "
   ]
  },
  {
   "cell_type": "markdown",
   "metadata": {},
   "source": []
  },
  {
   "cell_type": "code",
   "execution_count": 2,
   "metadata": {},
   "outputs": [
    {
     "data": {
      "text/plain": [
       "[Eq(f(x), -x - sqrt(C1 + x**4)/x), Eq(f(x), -x + sqrt(C1 + x**4)/x)]"
      ]
     },
     "execution_count": 2,
     "metadata": {},
     "output_type": "execute_result"
    }
   ],
   "source": [
    "from sympy import Function, dsolve, Eq, Derivative, sin, cos\n",
    "from sympy.abc import x\n",
    "f = Function('f')\n",
    "dsolve(x*f(x)**2+3*x**2*f(x)+(f(x) + x)*x**2*Derivative(f(x),x),f(x))  "
   ]
  },
  {
   "cell_type": "code",
   "execution_count": null,
   "metadata": {},
   "outputs": [],
   "source": []
  },
  {
   "cell_type": "markdown",
   "metadata": {},
   "source": [
    "## Trazado de algunas de las soluciones particulares"
   ]
  },
  {
   "cell_type": "code",
   "execution_count": 2,
   "metadata": {},
   "outputs": [
    {
     "data": {
      "application/vnd.jupyter.widget-view+json": {
       "model_id": "9210c006f2c84d5982a8e44066fabe39",
       "version_major": 2,
       "version_minor": 0
      },
      "text/plain": [
       "interactive(children=(IntSlider(value=1, description='c', max=3), Output()), _dom_classes=('widget-interact',)…"
      ]
     },
     "metadata": {},
     "output_type": "display_data"
    }
   ],
   "source": [
    "import numpy as np \n",
    "import matplotlib.pyplot as plt \n",
    "import ipywidgets as widgets \n",
    "a,b=-2,4\n",
    "@widgets.interact(c=(0,3))\n",
    "def graficar(c):\n",
    "    x=np.linspace(a,b)\n",
    "    y1 = x + np.sqrt(x**4+c)\n",
    "    y2 = x + np.sqrt(x**4+c)\n",
    "    plt.plot(x,y1) \n",
    "    plt.plot(x,y2) \n",
    "    plt.axis([a,b,-2,3]) \n",
    "    plt.grid() "
   ]
  },
  {
   "cell_type": "markdown",
   "metadata": {},
   "source": [
    "## Punto 2 "
   ]
  },
  {
   "cell_type": "markdown",
   "metadata": {},
   "source": [
    "$$ (ye^{2xy} + x)dx + bxe^{2xy}dy = 0 $$\n",
    "(5 puntos) Encuentre el valor de $b$ para el que la ecuación anterior es exacta."
   ]
  },
  {
   "cell_type": "markdown",
   "metadata": {},
   "source": [
    "## Solución:"
   ]
  },
  {
   "cell_type": "markdown",
   "metadata": {},
   "source": [
    "$$ M(x,y) = ye^{2xy}+x, \\qquad N(x,y) = bxe^{2xy} $$"
   ]
  },
  {
   "cell_type": "markdown",
   "metadata": {},
   "source": [
    "$$M_{y}=ye^{2xy}(2x) + (1)e^{2xy} = e^{2xy}(2xy + 1) \\qquad N_{x} = bxe^{2xy}(2y) + be^{2xy}=be^{2xy}(2xy + 1) $$"
   ]
  },
  {
   "cell_type": "markdown",
   "metadata": {},
   "source": [
    "De donde $b = 1$"
   ]
  },
  {
   "cell_type": "markdown",
   "metadata": {},
   "source": [
    "(5 puntos) Resuelva esa ecuación al utilizar ese valor de $b$. "
   ]
  },
  {
   "cell_type": "markdown",
   "metadata": {},
   "source": [
    "## Solución para $b = 1$"
   ]
  },
  {
   "cell_type": "markdown",
   "metadata": {},
   "source": [
    "Así, $$\\psi = \\int Mdx + h(y) $$"
   ]
  },
  {
   "cell_type": "markdown",
   "metadata": {},
   "source": [
    "$$\\psi = \\int (ye^{2xy}+x)dx + h(y)$$"
   ]
  },
  {
   "cell_type": "markdown",
   "metadata": {},
   "source": [
    "$$ \\psi = ye^{2xy}\\frac{1}{2y} + \\frac{x^{2}}{2} + h(y) $$"
   ]
  },
  {
   "cell_type": "markdown",
   "metadata": {},
   "source": [
    "$$ \\psi = \\frac{e^{2xy} + x^{2}}{2} + h(y) $$"
   ]
  },
  {
   "cell_type": "markdown",
   "metadata": {},
   "source": [
    "$$ \\psi_{y} = N \\qquad \\iff \\qquad \\frac{1}{2}(e^{2xy}(2x)) + h'(y) = xe^{2xy} $$"
   ]
  },
  {
   "cell_type": "markdown",
   "metadata": {},
   "source": [
    "$$ h'(y) = 0 \\quad \\Rightarrow \\quad h(y) = c_{1} $$"
   ]
  },
  {
   "cell_type": "markdown",
   "metadata": {},
   "source": [
    "Entonces la solución general implícita es: \n",
    "\n",
    "$$\\frac{ e^{2xy} + x^{2}}{2} = c_{2}$$"
   ]
  },
  {
   "cell_type": "markdown",
   "metadata": {},
   "source": [
    "que se puede escribir de una manera más simple como:\n",
    "\n",
    "$$ e^{2xy} + x^{2} = c, \\qquad \\text{haciendo } c = 2c_{2} $$"
   ]
  },
  {
   "cell_type": "markdown",
   "metadata": {},
   "source": [
    "Podemos hallar la solución explícita así:\n",
    "\n",
    "$$ e^{2xy} = c - x^{2} $$"
   ]
  },
  {
   "cell_type": "markdown",
   "metadata": {},
   "source": [
    "$$ 2xy = \\ln(c - x^{2}) $$"
   ]
  },
  {
   "cell_type": "markdown",
   "metadata": {},
   "source": [
    "$$ y = \\frac{\\ln(c - x^{2})}{2x} $$"
   ]
  },
  {
   "cell_type": "code",
   "execution_count": null,
   "metadata": {},
   "outputs": [],
   "source": []
  },
  {
   "cell_type": "markdown",
   "metadata": {},
   "source": [
    "(10 puntos) Verifique la solución encontrada. "
   ]
  },
  {
   "cell_type": "markdown",
   "metadata": {},
   "source": [
    "## Verificación "
   ]
  },
  {
   "cell_type": "markdown",
   "metadata": {},
   "source": [
    "$$e^{2xy} + x^{2} = c \\iff \\psi = c $$"
   ]
  },
  {
   "cell_type": "markdown",
   "metadata": {},
   "source": [
    "Derivando implícitamente con respecto a $x$ obtenemos:"
   ]
  },
  {
   "cell_type": "markdown",
   "metadata": {},
   "source": [
    "$$\\frac{d}{dx}\\psi = 0$$"
   ]
  },
  {
   "cell_type": "markdown",
   "metadata": {},
   "source": [
    "$$\\frac{\\partial}{\\partial x}\\psi + \\frac{\\partial}{\\partial y}\\psi \\cdot \\frac{dy}{dx} = 0$$"
   ]
  },
  {
   "cell_type": "markdown",
   "metadata": {},
   "source": [
    "$$e^{2xy}(2y) + 2x + e^{2xy}(2x)\\cdot \\frac{dy}{dx} = 0$$"
   ]
  },
  {
   "cell_type": "markdown",
   "metadata": {},
   "source": [
    "Dividiendo por $2$ obtenemos \n",
    "\n",
    "$$ye^{2xy} + x + xe^{2xy}\\cdot \\frac{dy}{dx} = 0$$\n"
   ]
  },
  {
   "cell_type": "markdown",
   "metadata": {},
   "source": [
    "Por lo tanto, la solución encontrada es correcta. "
   ]
  },
  {
   "cell_type": "code",
   "execution_count": null,
   "metadata": {},
   "outputs": [],
   "source": []
  },
  {
   "cell_type": "markdown",
   "metadata": {},
   "source": [
    "## Verificación con las funciones `Function()` y `dsolve()` de Sympy"
   ]
  },
  {
   "cell_type": "markdown",
   "metadata": {},
   "source": [
    "$$ (ye^{2xy} + x)dx + bxe^{2xy}dy = 0 $$"
   ]
  },
  {
   "cell_type": "code",
   "execution_count": 41,
   "metadata": {},
   "outputs": [
    {
     "data": {
      "text/latex": [
       "$\\displaystyle \\frac{d}{d x} y{\\left(x \\right)}$"
      ],
      "text/plain": [
       "Derivative(y(x), x)"
      ]
     },
     "execution_count": 41,
     "metadata": {},
     "output_type": "execute_result"
    }
   ],
   "source": [
    "diff(y,x)   "
   ]
  },
  {
   "cell_type": "code",
   "execution_count": 6,
   "metadata": {},
   "outputs": [
    {
     "data": {
      "text/plain": [
       "[Eq(y(x), log(-sqrt(C1 - x**2))/x), Eq(y(x), log(C1 - x**2)/(2*x))]"
      ]
     },
     "execution_count": 6,
     "metadata": {},
     "output_type": "execute_result"
    }
   ],
   "source": [
    "from sympy import * \n",
    "x,y=symbols('x y')   \n",
    "y=Function('y')(x) # establece relación funcional entre y y x\n",
    "ED_dada = (y*exp(2*x*y)+x) + x*exp(2*x*y)*diff(y,x) \n",
    "dsolve(ED_dada,y)     "
   ]
  },
  {
   "cell_type": "markdown",
   "metadata": {},
   "source": [
    "Note que sympy nos devuelve que hay dos familias de soluciones a saber\n",
    "\n",
    "$$f(x) = \\ln\\frac{-\\sqrt{C_{1} - x^{2}}}{x}$$\n"
   ]
  },
  {
   "cell_type": "markdown",
   "metadata": {},
   "source": [
    "y \n",
    "\n",
    "$$f(x) = \\frac{\\ln(C_{1} - x^{2})}{2x} $$\n"
   ]
  },
  {
   "cell_type": "code",
   "execution_count": null,
   "metadata": {},
   "outputs": [],
   "source": []
  },
  {
   "cell_type": "code",
   "execution_count": null,
   "metadata": {},
   "outputs": [],
   "source": []
  },
  {
   "cell_type": "markdown",
   "metadata": {},
   "source": [
    "## Punto 3 "
   ]
  },
  {
   "cell_type": "markdown",
   "metadata": {},
   "source": [
    "(5 puntos) Resolver la ecuación diferencial \n",
    "\n",
    "$$ (3xy + y^{2}) + (x^{2} + xy)y' = 0 $$\n",
    "\n",
    "utilizando el factor integrante \n",
    "\n",
    "$$ \\mu(x,y) = [xy(2x+y)]^{-1} $$"
   ]
  },
  {
   "cell_type": "markdown",
   "metadata": {},
   "source": [
    "(5 puntos) Comprobar que la solución anterior es la misma que la obtenida cuando se usa una factor integrante obtenido con una de las dos fórmulas siguientes:\n",
    "\n",
    "$$ \\frac{M_{y} - N_{x}}{N} = \\frac{\\mu'}{\\mu} \\quad \\quad \\quad \\frac{N_{x} - M_{y}}{M} = \\frac{\\mu'}{\\mu}  $$"
   ]
  },
  {
   "cell_type": "markdown",
   "metadata": {},
   "source": [
    "(10 puntos) Verificar que la solución obtenida es correcta sustituyéndola en la ED dada. "
   ]
  },
  {
   "cell_type": "markdown",
   "metadata": {},
   "source": [
    "## Punto 4 "
   ]
  },
  {
   "cell_type": "markdown",
   "metadata": {},
   "source": [
    "(5 puntos) Encuentre la solución explícita de la ecuación diferencial interpretándola **sólo** como una ecuación diferencial de **Separable**:\n",
    "\n",
    "$$ y' + \\frac{1}{2}y = \\frac{3}{2} $$"
   ]
  },
  {
   "cell_type": "markdown",
   "metadata": {},
   "source": [
    "## Solución interpretándola como una ED separable"
   ]
  },
  {
   "cell_type": "markdown",
   "metadata": {},
   "source": []
  },
  {
   "cell_type": "code",
   "execution_count": null,
   "metadata": {},
   "outputs": [],
   "source": []
  },
  {
   "cell_type": "code",
   "execution_count": null,
   "metadata": {},
   "outputs": [],
   "source": []
  },
  {
   "cell_type": "markdown",
   "metadata": {},
   "source": [
    "(5 puntos) Encuentre la solución explícita de la ecuación diferencial interpretándola **sólo** como una **ecuación diferencial lineal**:\n",
    "\n",
    "$$\\frac{dy/dx}{y-3} = -\\frac{1}{2} $$\n"
   ]
  },
  {
   "cell_type": "markdown",
   "metadata": {},
   "source": [
    "## Solución interpretándola como ecuación lineal"
   ]
  },
  {
   "cell_type": "markdown",
   "metadata": {},
   "source": [
    "Llevemos la ecuación: \n",
    "\n",
    "$$\\frac{dy/dx}{y-3} = -\\frac{1}{2} $$\n",
    "\n",
    "a la forma estándas de una ED lineal:"
   ]
  },
  {
   "cell_type": "markdown",
   "metadata": {},
   "source": [
    "$$ \\frac{dy}{dx} = \\frac{3-y}{2} $$"
   ]
  },
  {
   "cell_type": "markdown",
   "metadata": {},
   "source": [
    "$$y' + \\frac{1}{2}y = \\frac{3}{2} $$"
   ]
  },
  {
   "cell_type": "markdown",
   "metadata": {},
   "source": [
    "de donde $p(x) = \\frac{1}{2}$ y $g(x) = \\frac{3}{2}$. "
   ]
  },
  {
   "cell_type": "markdown",
   "metadata": {},
   "source": [
    "Luego, $$ \\mu(x) = exp\\left( \\int \\frac{1}{2}dx \\right) = e^{x/2} $$"
   ]
  },
  {
   "cell_type": "code",
   "execution_count": null,
   "metadata": {},
   "outputs": [],
   "source": []
  },
  {
   "cell_type": "code",
   "execution_count": null,
   "metadata": {},
   "outputs": [],
   "source": []
  },
  {
   "cell_type": "markdown",
   "metadata": {},
   "source": [
    "(10 puntos) Verifique que las soluciones generales anteriores son equivalentes y que son solución de la primera ED.  "
   ]
  },
  {
   "cell_type": "markdown",
   "metadata": {},
   "source": [
    "## Verificación de correspondencia"
   ]
  },
  {
   "cell_type": "code",
   "execution_count": null,
   "metadata": {},
   "outputs": [],
   "source": []
  },
  {
   "cell_type": "code",
   "execution_count": null,
   "metadata": {},
   "outputs": [],
   "source": []
  },
  {
   "cell_type": "markdown",
   "metadata": {},
   "source": [
    "## Verificación de que la solución general encontrada satisface la ED dada"
   ]
  },
  {
   "cell_type": "code",
   "execution_count": null,
   "metadata": {},
   "outputs": [],
   "source": []
  },
  {
   "cell_type": "markdown",
   "metadata": {},
   "source": [
    "## Verificación con la función `dsolve()` de Sympy "
   ]
  },
  {
   "cell_type": "code",
   "execution_count": 13,
   "metadata": {},
   "outputs": [
    {
     "data": {
      "text/latex": [
       "$\\displaystyle f{\\left(x \\right)} = C_{1} e^{- \\frac{x}{2}} + 3$"
      ],
      "text/plain": [
       "Eq(f(x), C1*exp(-x/2) + 3)"
      ]
     },
     "execution_count": 13,
     "metadata": {},
     "output_type": "execute_result"
    }
   ],
   "source": [
    "from sympy import *\n",
    "x,c=symbols('x c')   \n",
    "f=Function('f')(x) \n",
    "dsolve(diff(f,x)-(3-f)/2,f)"
   ]
  },
  {
   "cell_type": "markdown",
   "metadata": {},
   "source": [
    "## Comportamiento de la solución en el infinito"
   ]
  },
  {
   "cell_type": "markdown",
   "metadata": {},
   "source": [
    "$$\\lim_{x \\to \\infty} (ce^{-x/2} + 3) = 3 $$"
   ]
  },
  {
   "cell_type": "code",
   "execution_count": 14,
   "metadata": {},
   "outputs": [
    {
     "data": {
      "text/latex": [
       "$\\displaystyle 3$"
      ],
      "text/plain": [
       "3"
      ]
     },
     "execution_count": 14,
     "metadata": {},
     "output_type": "execute_result"
    }
   ],
   "source": [
    "limit(c*exp(-x/2)+3,x,oo)  "
   ]
  },
  {
   "cell_type": "code",
   "execution_count": null,
   "metadata": {},
   "outputs": [],
   "source": []
  },
  {
   "cell_type": "markdown",
   "metadata": {},
   "source": [
    "## Trazado del campo de direcciones"
   ]
  },
  {
   "cell_type": "code",
   "execution_count": 7,
   "metadata": {},
   "outputs": [
    {
     "data": {
      "image/png": "[encoded data removed]",
      "text/plain": [
       "<Figure size 432x288 with 1 Axes>"
      ]
     },
     "metadata": {
      "needs_background": "light"
     },
     "output_type": "display_data"
    }
   ],
   "source": [
    "import numpy as np\n",
    "from matplotlib import pyplot as plt\n",
    "\n",
    "def diff(x,y):       # Differential equation\n",
    "    return (3-y)/2   # diff = y'= x**2/(1-y**2) \n",
    "\n",
    "x = np.linspace(-3,10,10)\n",
    "y = np.linspace(2,5,10)  \n",
    "\n",
    "for j in x:\n",
    "    for k in y:\n",
    "        slope = diff(j,k)\n",
    "        domain = np.linspace(j-0.05,j+0.05,2)\n",
    "        def fun(x1,y1):\n",
    "            z = slope*(domain-x1)+y1\n",
    "            return z\n",
    "        plt.plot(domain,fun(j,k))\n",
    "\n",
    "plt.title(r\"Slope field $y'$\")\n",
    "plt.plot([-3,10],[3,3]) \n",
    "plt.axis([-3,6,2,5])  \n",
    "plt.grid(True)\n",
    "plt.show()"
   ]
  },
  {
   "cell_type": "markdown",
   "metadata": {},
   "source": [
    "## Trazado de algunas curvas integrales"
   ]
  },
  {
   "cell_type": "code",
   "execution_count": 8,
   "metadata": {},
   "outputs": [
    {
     "data": {
      "application/vnd.jupyter.widget-view+json": {
       "model_id": "a33f1ff349e14a56bdbd84f305fb4ab1",
       "version_major": 2,
       "version_minor": 0
      },
      "text/plain": [
       "interactive(children=(IntSlider(value=0, description='c', max=4, min=-4), Output()), _dom_classes=('widget-int…"
      ]
     },
     "metadata": {},
     "output_type": "display_data"
    },
    {
     "data": {
      "text/plain": [
       "<function __main__.graficar(c)>"
      ]
     },
     "execution_count": 8,
     "metadata": {},
     "output_type": "execute_result"
    }
   ],
   "source": [
    "import numpy as np \n",
    "import matplotlib.pyplot as plt \n",
    "from ipywidgets import interact  \n",
    "a,b=-3,10\n",
    "\n",
    "def graficar(c):\n",
    "    x=np.linspace(a,b)\n",
    "    y = 3+c*np.exp(-x/2)   \n",
    "    plt.plot(x,y)\n",
    "    plt.axis([a,b,1,6])  \n",
    "    plt.grid() \n",
    "interact(graficar,c=(-4,4))    "
   ]
  },
  {
   "cell_type": "code",
   "execution_count": null,
   "metadata": {},
   "outputs": [],
   "source": []
  },
  {
   "cell_type": "markdown",
   "metadata": {},
   "source": [
    "## Punto 5 "
   ]
  },
  {
   "cell_type": "markdown",
   "metadata": {},
   "source": [
    "$$\\frac{dy}{dx} = \\frac{x+y}{x} $$"
   ]
  },
  {
   "cell_type": "markdown",
   "metadata": {},
   "source": [
    "(5 puntos) Resolver la ecuación anterior utilizando el método de las ED lineales "
   ]
  },
  {
   "cell_type": "markdown",
   "metadata": {},
   "source": [
    "## Solución interpretándola como ED una lineal"
   ]
  },
  {
   "cell_type": "markdown",
   "metadata": {},
   "source": [
    "$$y' = 1 + \\frac{1}{x}y$$"
   ]
  },
  {
   "cell_type": "markdown",
   "metadata": {},
   "source": [
    "$$y' - \\frac{1}{x}y = 1$$"
   ]
  },
  {
   "cell_type": "markdown",
   "metadata": {},
   "source": [
    "$$ p(x) = -\\frac{1}{x} $$"
   ]
  },
  {
   "cell_type": "markdown",
   "metadata": {},
   "source": [
    "$$ \\mu(x) = exp\\left( \\int -\\frac{1}{x}dx \\right) =  exp (-\\ln|x|) = exp(\\ln|x|^{-1}) = \\frac{1}{x} $$"
   ]
  },
  {
   "cell_type": "markdown",
   "metadata": {},
   "source": [
    "Multipliquemos la ED $y' - \\frac{1}{x}y = 1$ por el facto integrante encontrado para obtener una forma integrable \n",
    "\n",
    "$$ \\frac{1}{x}y' - \\frac{1}{x^{2}}y = \\frac{1}{x} $$ \n"
   ]
  },
  {
   "cell_type": "markdown",
   "metadata": {},
   "source": [
    "$$ \\left[ \\frac{1}{x}y \\right]' = \\frac{1}{x} $$"
   ]
  },
  {
   "cell_type": "markdown",
   "metadata": {},
   "source": [
    "$$ \\frac{1}{x}y = \\ln|x| + c $$"
   ]
  },
  {
   "cell_type": "markdown",
   "metadata": {},
   "source": [
    "$$ y = x(\\ln|x| + c) $$"
   ]
  },
  {
   "cell_type": "code",
   "execution_count": null,
   "metadata": {},
   "outputs": [],
   "source": []
  },
  {
   "cell_type": "markdown",
   "metadata": {},
   "source": [
    "(5 puntos) Resolver la ecuación anterior utilizando el método de las ecuaciones homogéneas"
   ]
  },
  {
   "cell_type": "markdown",
   "metadata": {},
   "source": [
    "## Solución interpretándola como una ED homogénea"
   ]
  },
  {
   "cell_type": "markdown",
   "metadata": {},
   "source": [
    "$$\\frac{dy}{dx} = \\frac{x+y}{x} $$"
   ]
  },
  {
   "cell_type": "markdown",
   "metadata": {},
   "source": [
    "distribuimos el denominador para obtener "
   ]
  },
  {
   "cell_type": "markdown",
   "metadata": {},
   "source": [
    "$$ y' = 1 + \\frac{y}{x} $$"
   ]
  },
  {
   "cell_type": "markdown",
   "metadata": {},
   "source": [
    "Utilicemos el cambio de variable $y = xv$, entonces $y' = xv'+v$. "
   ]
  },
  {
   "cell_type": "markdown",
   "metadata": {},
   "source": [
    "Sustituyendo estas dos ecuaciones en $ y' = 1 + \\frac{y}{x} $ obtenemos una ecuación separable:\n",
    "\n",
    "$$xv'+v = 1 + v$$\n",
    "\n",
    "$$xv' = 1$$\n",
    "\n",
    "$$ v' = \\frac{1}{x} $$"
   ]
  },
  {
   "cell_type": "markdown",
   "metadata": {},
   "source": [
    "$$ v = \\ln|x|+c $$\n",
    "\n",
    "$$ \\frac{y}{x} = \\ln|x|+c $$\n",
    "\n",
    "$$ y = x(\\ln|x|+c) $$"
   ]
  },
  {
   "cell_type": "code",
   "execution_count": null,
   "metadata": {},
   "outputs": [],
   "source": []
  },
  {
   "cell_type": "markdown",
   "metadata": {},
   "source": [
    "(10 puntos) Verificar que las soluciones encontradas son equivalentes y que si sean solución de la ED dada. "
   ]
  },
  {
   "cell_type": "markdown",
   "metadata": {},
   "source": [
    "Sustituyamos en $$\\frac{dy}{dx} = \\frac{x+y}{x} $$\n",
    "\n",
    "a \n",
    "\n",
    "$$ y = x(\\ln|x|+c) $$"
   ]
  },
  {
   "cell_type": "markdown",
   "metadata": {},
   "source": [
    "$$ \\frac{d}{dx}[x(\\ln|x|+c)] = \\frac{x+x(\\ln|x|+c)}{x} $$"
   ]
  },
  {
   "cell_type": "markdown",
   "metadata": {},
   "source": [
    "$$x\\left(\\frac{1}{x} + 0\\right) + 1(\\ln|x|+c)= 1 + \\ln|x| + c$$"
   ]
  },
  {
   "cell_type": "markdown",
   "metadata": {},
   "source": [
    "$$ 1 + \\ln|x| + c = 1 + \\ln|x| + c $$"
   ]
  },
  {
   "cell_type": "markdown",
   "metadata": {},
   "source": [
    "Hemos obtenido una identidad, por tanto la solución general obtenida es correcta. "
   ]
  },
  {
   "cell_type": "code",
   "execution_count": null,
   "metadata": {},
   "outputs": [],
   "source": []
  },
  {
   "cell_type": "markdown",
   "metadata": {},
   "source": [
    "## Verificación con Sympy "
   ]
  },
  {
   "cell_type": "code",
   "execution_count": 13,
   "metadata": {
    "scrolled": true
   },
   "outputs": [
    {
     "data": {
      "text/latex": [
       "$\\displaystyle f{\\left(x \\right)} = x \\left(C_{1} + \\log{\\left(x \\right)}\\right)$"
      ],
      "text/plain": [
       "Eq(f(x), x*(C1 + log(x)))"
      ]
     },
     "execution_count": 13,
     "metadata": {},
     "output_type": "execute_result"
    }
   ],
   "source": [
    "from sympy import * \n",
    "x,c=symbols('x c')  \n",
    "f=Function('f')(x)   \n",
    "dsolve(f.diff(x)-(x+f)/x,f) \n"
   ]
  },
  {
   "cell_type": "markdown",
   "metadata": {},
   "source": [
    "## Comportamiento en el infinito de la solución"
   ]
  },
  {
   "cell_type": "code",
   "execution_count": 14,
   "metadata": {},
   "outputs": [
    {
     "data": {
      "text/latex": [
       "$\\displaystyle \\infty$"
      ],
      "text/plain": [
       "oo"
      ]
     },
     "execution_count": 14,
     "metadata": {},
     "output_type": "execute_result"
    }
   ],
   "source": [
    "limit(x*(c+log(x)),x,oo) "
   ]
  },
  {
   "cell_type": "markdown",
   "metadata": {},
   "source": [
    "## Trazado del campo de direcciones"
   ]
  },
  {
   "cell_type": "code",
   "execution_count": 10,
   "metadata": {},
   "outputs": [
    {
     "data": {
      "image/png": "[encoded data removed]",
      "text/plain": [
       "<Figure size 432x288 with 1 Axes>"
      ]
     },
     "metadata": {
      "needs_background": "light"
     },
     "output_type": "display_data"
    }
   ],
   "source": [
    "import numpy as np\n",
    "from matplotlib import pyplot as plt\n",
    "\n",
    "# Differential equation\n",
    "# diff = y'= x**2/(1-y**2) \n",
    "def diff(x,y):\n",
    "    return (x+y)/x \n",
    "\n",
    "x = np.linspace(-3,3,10)\n",
    "y = np.linspace(-3,3,10)  \n",
    "\n",
    "# use x,y\n",
    "for j in x:\n",
    "    for k in y:\n",
    "        slope = diff(j,k)\n",
    "        domain = np.linspace(j-0.03,j+0.03,2)\n",
    "        def fun(x1,y1):\n",
    "            z = slope*(domain-x1)+y1\n",
    "            return z\n",
    "        plt.plot(domain,fun(j,k))\n",
    "\n",
    "plt.title(r\"Slope field $y'$\")\n",
    "plt.axis([-3,3,-3,3]) \n",
    "plt.grid(True)\n",
    "plt.show()"
   ]
  },
  {
   "cell_type": "code",
   "execution_count": null,
   "metadata": {},
   "outputs": [],
   "source": []
  },
  {
   "cell_type": "markdown",
   "metadata": {},
   "source": [
    "## Trazado de algunas de las curvas integrales "
   ]
  },
  {
   "cell_type": "code",
   "execution_count": 11,
   "metadata": {},
   "outputs": [
    {
     "data": {
      "application/vnd.jupyter.widget-view+json": {
       "model_id": "8c05d8cddfb64ed9b2af9e08c0fadf4f",
       "version_major": 2,
       "version_minor": 0
      },
      "text/plain": [
       "interactive(children=(IntSlider(value=1, description='c', max=3), Output()), _dom_classes=('widget-interact',)…"
      ]
     },
     "metadata": {},
     "output_type": "display_data"
    }
   ],
   "source": [
    "import numpy as np \n",
    "import matplotlib.pyplot as plt \n",
    "import ipywidgets as widgets \n",
    "a,b=-3,3\n",
    "@widgets.interact(c=(0,3))\n",
    "def graficar(c):\n",
    "    x=np.linspace(a,b)\n",
    "    y = x*(np.log(np.abs(x))+c) \n",
    "    plt.plot(x,y) \n",
    "    plt.axis([a,b,-2,3]) \n",
    "    plt.grid() "
   ]
  },
  {
   "cell_type": "code",
   "execution_count": null,
   "metadata": {},
   "outputs": [],
   "source": []
  }
 ],
 "metadata": {
  "hide_input": false,
  "kernelspec": {
   "display_name": "Python 3",
   "language": "python",
   "name": "python3"
  },
  "language_info": {
   "codemirror_mode": {
    "name": "ipython",
    "version": 3
   },
   "file_extension": ".py",
   "mimetype": "text/x-python",
   "name": "python",
   "nbconvert_exporter": "python",
   "pygments_lexer": "ipython3",
   "version": "3.7.4"
  },
  "nbTranslate": {
   "displayLangs": [
    "*"
   ],
   "hotkey": "alt-t",
   "langInMainMenu": true,
   "sourceLang": "en",
   "targetLang": "fr",
   "useGoogleTranslate": true
  }
 },
 "nbformat": 4,
 "nbformat_minor": 2
}
