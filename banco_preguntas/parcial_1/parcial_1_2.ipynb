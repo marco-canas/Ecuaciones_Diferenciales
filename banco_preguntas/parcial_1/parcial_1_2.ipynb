{
 "cells": [
  {
   "cell_type": "markdown",
   "metadata": {},
   "source": [
    "# Parcial 1 EDO "
   ]
  },
  {
   "cell_type": "markdown",
   "metadata": {},
   "source": [
    "## Punto 1"
   ]
  },
  {
   "cell_type": "markdown",
   "metadata": {},
   "source": [
    "(5 puntos) Encuentre la solución explícita de la ecuación diferencial interpretándola **sólo** como una **ecuación diferencial de Bernoulli**. \n",
    "$$\\frac{dP}{dt} = P(1-P) $$\n",
    "\n"
   ]
  },
  {
   "cell_type": "markdown",
   "metadata": {},
   "source": [
    "## Solución interpretándo la ED dada como una ecuación de Bernoulli"
   ]
  },
  {
   "cell_type": "markdown",
   "metadata": {},
   "source": [
    "Llevemos la ecuación dada a la forma $P'+p(x)P=g(x)P^{n}$. "
   ]
  },
  {
   "cell_type": "markdown",
   "metadata": {},
   "source": [
    "$$\\frac{dP}{dt} = P(1-P) $$"
   ]
  },
  {
   "cell_type": "markdown",
   "metadata": {},
   "source": [
    "$$ P' = P - P^{2} $$"
   ]
  },
  {
   "cell_type": "markdown",
   "metadata": {},
   "source": [
    "$$ P' - P = -P^{2} $$"
   ]
  },
  {
   "cell_type": "markdown",
   "metadata": {},
   "source": [
    "Entonces $n = 2$ y así $v = P^{1-2} = P^{-1}$ es el cambio de variable apropiado. "
   ]
  },
  {
   "cell_type": "markdown",
   "metadata": {},
   "source": [
    "De donde $P = v^{-1}$. Luego $P' = -v^{-2}v'$. "
   ]
  },
  {
   "cell_type": "markdown",
   "metadata": {},
   "source": [
    "Sustituyendo esta última línea en $ P' - P = -P^{2}$ obtenemos:\n",
    "\n",
    "$$-v^{-2}v' - v^{-1} = -v^{-2} $$\n"
   ]
  },
  {
   "cell_type": "markdown",
   "metadata": {},
   "source": [
    "Dividimos por $-v^{-2}$ para estandarizar la ecuación:\n",
    "\n",
    "$$v' + v = 1$$\n"
   ]
  },
  {
   "cell_type": "markdown",
   "metadata": {},
   "source": [
    "el factor integrante es $\\mu = exp \\int dx = e^{x}$"
   ]
  },
  {
   "cell_type": "markdown",
   "metadata": {},
   "source": [
    "Multiplicando la ecuación $$v' + v = 1$$ por el factor integrante obtenido tenemos que \n",
    "\n",
    "$$e^{x}v' + e^{x}v = e^{x}$$\n"
   ]
  },
  {
   "cell_type": "markdown",
   "metadata": {},
   "source": [
    "$$[e^{x}v]' = e^{x}$$"
   ]
  },
  {
   "cell_type": "markdown",
   "metadata": {},
   "source": [
    "$$e^{x}v = e^{x} + c$$"
   ]
  },
  {
   "cell_type": "markdown",
   "metadata": {},
   "source": [
    "$$ v = 1 + ce^{-x} $$"
   ]
  },
  {
   "cell_type": "markdown",
   "metadata": {},
   "source": [
    "$$ P^{-1} = 1 + ce^{-x} $$"
   ]
  },
  {
   "cell_type": "markdown",
   "metadata": {},
   "source": [
    "$$ P = \\frac{1}{1+ce^{-x}} $$"
   ]
  },
  {
   "cell_type": "code",
   "execution_count": null,
   "metadata": {},
   "outputs": [],
   "source": []
  },
  {
   "cell_type": "markdown",
   "metadata": {},
   "source": [
    "(5 puntos) Encuentre la solución explícita de la ecuación diferencial interpretándola **sólo** como una **ecuación diferencial separable**:\n",
    "\n",
    "$$\\frac{dP}{dt} = P(1-P) $$"
   ]
  },
  {
   "cell_type": "markdown",
   "metadata": {},
   "source": [
    "## Solución interpretándo la ED dada como una ecuación separable"
   ]
  },
  {
   "cell_type": "markdown",
   "metadata": {},
   "source": [
    "$$\\frac{dP}{dt} = P(1-P) $$"
   ]
  },
  {
   "cell_type": "markdown",
   "metadata": {},
   "source": [
    "$$\\frac{1}{P(1-P)}dP = dt$$"
   ]
  },
  {
   "cell_type": "markdown",
   "metadata": {},
   "source": [
    "$$ \\int \\frac{1}{P(1-P)}dP = \\int dt $$"
   ]
  },
  {
   "cell_type": "markdown",
   "metadata": {},
   "source": [
    "$$ \\int \\left( \\frac{1}{P} + \\frac{1}{1-P} \\right) = t + c_{1} $$\n",
    "donde $c_{1}$ es una constante arbitraria real. "
   ]
  },
  {
   "cell_type": "markdown",
   "metadata": {},
   "source": [
    "$$ \\ln|P| - \\ln|1-P| = t + c_{1} $$"
   ]
  },
  {
   "cell_type": "markdown",
   "metadata": {},
   "source": [
    "$$\\ln \\left| \\frac{P}{1-P} \\right| = t+c_{1}$$"
   ]
  },
  {
   "cell_type": "markdown",
   "metadata": {},
   "source": [
    "$$ \\frac{P}{1-P} = e^{t+c_{1}} $$"
   ]
  },
  {
   "cell_type": "markdown",
   "metadata": {},
   "source": [
    "$$ \\frac{P}{1-P} = e^{t}\\cdot e^{c_{1}} $$"
   ]
  },
  {
   "cell_type": "markdown",
   "metadata": {},
   "source": [
    "$$ \\frac{P}{1-P} = c_{2}e^{t}    \\qquad c_{2} =  e^{c_{1}} $$\n",
    "donde $c_{2}$ es una constante arbitraria positiva. "
   ]
  },
  {
   "cell_type": "markdown",
   "metadata": {},
   "source": [
    "$$P = (1-P)c_{2}e^{t}$$"
   ]
  },
  {
   "cell_type": "markdown",
   "metadata": {},
   "source": [
    "$$ P + Pc_{2}e^{t} = c_{2}e^{t} $$"
   ]
  },
  {
   "cell_type": "markdown",
   "metadata": {},
   "source": [
    "$$P = \\frac{c_{2}e^{t}}{1+c_{2}e^{t}}$$"
   ]
  },
  {
   "cell_type": "markdown",
   "metadata": {},
   "source": [
    "$$P = \\frac{1}{\\frac{1}{c_{2}e^{t}}+ 1}$$"
   ]
  },
  {
   "cell_type": "markdown",
   "metadata": {},
   "source": [
    "$$P = \\frac{1}{c_{3}e^{-t} + 1}, \\quad c_{3} = \\frac{1}{c^{2}} $$\n",
    "\n",
    "así, $c_{3}$ es una constante positiva. "
   ]
  },
  {
   "cell_type": "markdown",
   "metadata": {},
   "source": [
    "$$P = \\frac{1}{1+c_{3}e^{-t}}$$"
   ]
  },
  {
   "cell_type": "code",
   "execution_count": null,
   "metadata": {},
   "outputs": [],
   "source": []
  },
  {
   "cell_type": "markdown",
   "metadata": {},
   "source": [
    "(10 puntos) Realize el proceso de verificación  (Ojo: la verificación es el proceso en el que se sustituye la solución general en la ED dada con el fin de ver que si la solución es correcta, se obtiene una identidad). "
   ]
  },
  {
   "cell_type": "markdown",
   "metadata": {},
   "source": [
    "## Verificación de correspondencia entre métodos"
   ]
  },
  {
   "cell_type": "markdown",
   "metadata": {},
   "source": [
    "Cuando interpretamos la ecuación $\\frac{dP}{dt} = P(1-P) $ como una ecuación de Bernoulli obtuvimos la solución general explícita:\n",
    "\n",
    "$$ P = \\frac{1}{1+ce^{-x}} $$\n"
   ]
  },
  {
   "cell_type": "markdown",
   "metadata": {},
   "source": [
    "Mientras que cuando interpretamos la ecuación como una ecuación separable obtuvimos la solución:\n",
    "\n",
    "$$P = \\frac{1}{1+c_{3}e^{-t}}$$\n"
   ]
  },
  {
   "cell_type": "markdown",
   "metadata": {},
   "source": [
    "Por lo tanto, con los dos métodos hemos obtenido el mismo conjunto de soluciones. "
   ]
  },
  {
   "cell_type": "code",
   "execution_count": null,
   "metadata": {},
   "outputs": [],
   "source": []
  },
  {
   "cell_type": "markdown",
   "metadata": {},
   "source": [
    "## Verificación de satisfacción de la solución a la ED dada"
   ]
  },
  {
   "cell_type": "markdown",
   "metadata": {},
   "source": [
    "Sustutuyamos $P = \\frac{1}{1+c_{3}e^{-t}}$ en \n",
    "\n",
    "$$\\frac{dP}{dt} = P(1-P) $$"
   ]
  },
  {
   "cell_type": "markdown",
   "metadata": {},
   "source": [
    "\\begin{eqnarray*}\n",
    "\\frac{dP}{dt} & = & P(1-P)  \\\\\n",
    "\\frac{d}{dt}(1+ce^{-t})^{-1} & = & \\frac{1}{1+ce^{-t}}\\left( 1 - \\frac{1}{1+c_{3}e^{-t}} \\right) \\\\\n",
    "(-1)(1+ce^{-t})^{-2}(-ce^{-t}) & = &  \\frac{1}{1+ce^{-t}} \\left( \\frac{1+ce^{-t}-1}{1+ce^{-t}} \\right) \\\\\n",
    "\\frac{ce^{-t}}{(1+ce^{-t})^{2}} & = &  \\frac{ce^{-t}}{(1+ce^{-t})^{2}}\n",
    "\\end{eqnarray*}"
   ]
  },
  {
   "cell_type": "markdown",
   "metadata": {},
   "source": [
    "Como hemos obtenido una identidad, podemos decir que la familia de funciones obtenida si es solución de la ED dada. "
   ]
  },
  {
   "cell_type": "code",
   "execution_count": null,
   "metadata": {},
   "outputs": [],
   "source": []
  },
  {
   "cell_type": "markdown",
   "metadata": {},
   "source": [
    "## Trazo del campo de direcciones de $P' = P(1-P)$"
   ]
  },
  {
   "cell_type": "code",
   "execution_count": 3,
   "metadata": {},
   "outputs": [
    {
     "data": {
      "image/png": "[encoded data removed]",
      "text/plain": [
       "<Figure size 432x288 with 1 Axes>"
      ]
     },
     "metadata": {
      "needs_background": "light"
     },
     "output_type": "display_data"
    }
   ],
   "source": [
    "import numpy as np\n",
    "from matplotlib import pyplot as plt\n",
    "\n",
    "def diff(x,y):       # Differential equation\n",
    "    return y*(1-y)   # y'= y(1-y)  \n",
    "\n",
    "x = np.linspace(-3,6,10)\n",
    "y = np.linspace(-0.5,1.5,10)  \n",
    "\n",
    "for j in x:\n",
    "    for k in y:\n",
    "        slope = diff(j,k)\n",
    "        domain = np.linspace(j-0.04,j+0.04,2)\n",
    "        def fun(x1,y1):\n",
    "            z = slope*(domain-x1)+y1\n",
    "            return z\n",
    "        plt.plot(domain,fun(j,k))\n",
    "\n",
    "plt.title(r\"Slope field $y'$\")\n",
    "plt.plot([-3,6],[0,0])  \n",
    "plt.plot([-3,6],[1,1]) \n",
    "plt.axis([-3,6,-0.5,1.5])  \n",
    "plt.grid(True)\n",
    "plt.show()"
   ]
  },
  {
   "cell_type": "markdown",
   "metadata": {},
   "source": [
    "## Verificación con Sympy"
   ]
  },
  {
   "cell_type": "code",
   "execution_count": 5,
   "metadata": {},
   "outputs": [
    {
     "data": {
      "text/latex": [
       "$\\displaystyle P{\\left(t \\right)} = \\frac{1}{C_{1} e^{- t} + 1}$"
      ],
      "text/plain": [
       "Eq(P(t), 1/(C1*exp(-t) + 1))"
      ]
     },
     "execution_count": 5,
     "metadata": {},
     "output_type": "execute_result"
    }
   ],
   "source": [
    "from sympy import * \n",
    "t,c=symbols('t c')  \n",
    "P=Function('P')(t)   \n",
    "dsolve(diff(P,t)-P*(1-P),P)   "
   ]
  },
  {
   "cell_type": "markdown",
   "metadata": {},
   "source": [
    "## Comportamiento de la solución en el infinito"
   ]
  },
  {
   "cell_type": "code",
   "execution_count": 6,
   "metadata": {},
   "outputs": [
    {
     "data": {
      "text/latex": [
       "$\\displaystyle 1$"
      ],
      "text/plain": [
       "1"
      ]
     },
     "execution_count": 6,
     "metadata": {},
     "output_type": "execute_result"
    }
   ],
   "source": [
    "from sympy import * \n",
    "t,c=symbols('t c')  \n",
    "limit(1/(c*exp(-t)+1),t,oo) "
   ]
  },
  {
   "cell_type": "markdown",
   "metadata": {},
   "source": [
    "$$ \\lim_{t \\to \\infty} P(t) = \\lim_{t \\to \\infty} \\frac{1}{1 + ce^{-t}} = 1 $$\n",
    "\n",
    "por tanto, $y = 1$ es una asíntota horizontal de las soluciones de la ED dada. \n"
   ]
  },
  {
   "cell_type": "code",
   "execution_count": null,
   "metadata": {},
   "outputs": [],
   "source": []
  },
  {
   "cell_type": "markdown",
   "metadata": {},
   "source": [
    "## Trazado de algunas de las curvas integrales con Matplotlib"
   ]
  },
  {
   "cell_type": "code",
   "execution_count": 2,
   "metadata": {
    "scrolled": true
   },
   "outputs": [
    {
     "data": {
      "application/vnd.jupyter.widget-view+json": {
       "model_id": "1c4cdb00f7d44d8fbc8811672f7f2cf2",
       "version_major": 2,
       "version_minor": 0
      },
      "text/plain": [
       "interactive(children=(IntSlider(value=2, description='c', max=4, min=1), Output()), _dom_classes=('widget-inte…"
      ]
     },
     "metadata": {},
     "output_type": "display_data"
    },
    {
     "data": {
      "text/plain": [
       "<function __main__.graficar(c)>"
      ]
     },
     "execution_count": 2,
     "metadata": {},
     "output_type": "execute_result"
    }
   ],
   "source": [
    "import numpy as np \n",
    "import matplotlib.pyplot as plt \n",
    "from ipywidgets import interact  \n",
    "a,b=-3,6 # dominio de graficación \n",
    "\n",
    "def graficar(c):\n",
    "    x=np.linspace(a,b)\n",
    "    y = 1/(1+c*np.exp(-x))  \n",
    "    plt.plot(x,y)\n",
    "    plt.axis([a,b,-0.5,1.5]) # rectángulo de visualización  \n",
    "    plt.grid() \n",
    "    \n",
    "interact(graficar, c=(1,4))     "
   ]
  },
  {
   "cell_type": "code",
   "execution_count": null,
   "metadata": {},
   "outputs": [],
   "source": []
  },
  {
   "cell_type": "markdown",
   "metadata": {},
   "source": [
    "# Solución del PVI:\n",
    "\n",
    "$$P' = P(1-p), \\quad \\quad P(0) = P_{0} $$\n"
   ]
  },
  {
   "cell_type": "code",
   "execution_count": null,
   "metadata": {},
   "outputs": [],
   "source": []
  },
  {
   "cell_type": "markdown",
   "metadata": {},
   "source": [
    "## Punto 2"
   ]
  },
  {
   "cell_type": "markdown",
   "metadata": {},
   "source": [
    "(5 puntos) Encuentre la solución explícita de la ecuación diferencial interpretándola **sólo** como una ecuación diferencial de **Separable**:\n",
    "\n",
    "$$ y' + y = 1 $$"
   ]
  },
  {
   "cell_type": "markdown",
   "metadata": {},
   "source": [
    "## Solución interpretándo la ED dada como una ecuación separable"
   ]
  },
  {
   "cell_type": "markdown",
   "metadata": {},
   "source": [
    "$$ y' + y = 1 $$"
   ]
  },
  {
   "cell_type": "markdown",
   "metadata": {},
   "source": [
    "$$y' = 1-y$$"
   ]
  },
  {
   "cell_type": "markdown",
   "metadata": {},
   "source": [
    "$$\\frac{1}{1-y}dy = dx$$"
   ]
  },
  {
   "cell_type": "markdown",
   "metadata": {},
   "source": [
    "$$\\int \\frac{1}{1-y}dy = \\int dx$$"
   ]
  },
  {
   "cell_type": "markdown",
   "metadata": {},
   "source": [
    "$$-\\ln|1-y| = x + c_{1} $$"
   ]
  },
  {
   "cell_type": "markdown",
   "metadata": {},
   "source": [
    "$$\\ln \\frac{1}{|1-y|} = x + c_{1}$$"
   ]
  },
  {
   "cell_type": "markdown",
   "metadata": {},
   "source": [
    "$$ \\frac{1}{1-y} = e^{x+c_{1}} $$"
   ]
  },
  {
   "cell_type": "markdown",
   "metadata": {},
   "source": [
    "$$ \\frac{1}{1-y} = c_{2}e^{x}, \\qquad c_{2} = e^{c_{1}} $$"
   ]
  },
  {
   "cell_type": "markdown",
   "metadata": {},
   "source": [
    "$$\\frac{1}{c_{2}e^{x}} = 1-y$$"
   ]
  },
  {
   "cell_type": "markdown",
   "metadata": {},
   "source": [
    "$$ c_{3}e^{-x} = 1-y, \\qquad c_{3} = \\frac{1}{c_{2}} $$"
   ]
  },
  {
   "cell_type": "markdown",
   "metadata": {},
   "source": [
    "$$y = 1 - c_{3}e^{-x} $$"
   ]
  },
  {
   "cell_type": "markdown",
   "metadata": {},
   "source": [
    "$$y = 1 + ce^{-x}, \\qquad c = -c_{3} $$"
   ]
  },
  {
   "cell_type": "code",
   "execution_count": null,
   "metadata": {},
   "outputs": [],
   "source": []
  },
  {
   "cell_type": "markdown",
   "metadata": {},
   "source": [
    "(5 puntos) Encuentre la solución explícita de la ecuación diferencial interpretándola **sólo** como una **ecuación diferencial lineal**:\n",
    "\n",
    "$$\\frac{dy/dx}{1-y} = 1 $$\n"
   ]
  },
  {
   "cell_type": "markdown",
   "metadata": {},
   "source": [
    "## Solución interpretándo la ED dada como una ecuación lineal"
   ]
  },
  {
   "cell_type": "markdown",
   "metadata": {},
   "source": [
    "$$\\frac{dy/dx}{1-y} = 1 $$\n"
   ]
  },
  {
   "cell_type": "markdown",
   "metadata": {},
   "source": [
    "$$ y' = 1-y $$"
   ]
  },
  {
   "cell_type": "markdown",
   "metadata": {},
   "source": [
    "$$y' + y = 1$$"
   ]
  },
  {
   "cell_type": "markdown",
   "metadata": {},
   "source": [
    "$$\\mu = exp \\int dx = e^{x}$$"
   ]
  },
  {
   "cell_type": "markdown",
   "metadata": {},
   "source": [
    "multipliquemos la ecuación $y' + y = 1$ por el factor $\\mu = e^{x}$ para obtener la forma integrable:\n",
    "\n",
    "$$e^{x}y' + e^{x}y = e^{x}$$"
   ]
  },
  {
   "cell_type": "markdown",
   "metadata": {},
   "source": [
    "$$[e^{x}y]'=e^{x}$$"
   ]
  },
  {
   "cell_type": "markdown",
   "metadata": {},
   "source": [
    "$$e^{x}y = e^{x} + c_{1}$$"
   ]
  },
  {
   "cell_type": "markdown",
   "metadata": {},
   "source": [
    "$$ y = 1 + c_{1}e^{-x} $$"
   ]
  },
  {
   "cell_type": "code",
   "execution_count": null,
   "metadata": {},
   "outputs": [],
   "source": []
  },
  {
   "cell_type": "markdown",
   "metadata": {},
   "source": [
    "(10 puntos) Verifique que las soluciones generales anteriores son equivalentes y que son solución de la primera ED.  "
   ]
  },
  {
   "cell_type": "markdown",
   "metadata": {},
   "source": [
    "## Verificación de la correspondencia de soluciones"
   ]
  },
  {
   "cell_type": "markdown",
   "metadata": {},
   "source": [
    "Utilizando el método de las ED separables obtuvimos \n",
    "\n",
    "$$ y = 1 + ce^{-x} $$\n",
    "y utilizando el método de las ecuaciones lineales obtuvimos \n",
    "\n",
    "$$ y = 1 + c_{1}e^{-x} $$\n",
    "de donde podemos ver que hay correspondencia entre las soluciones obtenidas. "
   ]
  },
  {
   "cell_type": "code",
   "execution_count": null,
   "metadata": {},
   "outputs": [],
   "source": []
  },
  {
   "cell_type": "markdown",
   "metadata": {},
   "source": [
    "## Verificación de que la solución satisface la ED dada"
   ]
  },
  {
   "cell_type": "markdown",
   "metadata": {},
   "source": [
    "sustituyamos $y = 1 + c_{1}e^{-x}$ en \n",
    "\n",
    "$$\\frac{dy/dx}{1-y} = 1$$"
   ]
  },
  {
   "cell_type": "markdown",
   "metadata": {},
   "source": [
    "$$ \\frac{\\frac{d}{dx}(1+c_{1}e^{-x})}{1-(1+c_{1}e^{-x})} = 1 $$"
   ]
  },
  {
   "cell_type": "markdown",
   "metadata": {},
   "source": [
    "$$\\frac{0-c_{1}e^{-x}}{-c_{1}e^{-x}} = 1$$"
   ]
  },
  {
   "cell_type": "markdown",
   "metadata": {},
   "source": [
    "$$1 = 1$$"
   ]
  },
  {
   "cell_type": "markdown",
   "metadata": {},
   "source": [
    "Como obtuvimos una identidad, podemos decir que la solución encontrada es correcta. "
   ]
  },
  {
   "cell_type": "code",
   "execution_count": null,
   "metadata": {},
   "outputs": [],
   "source": []
  },
  {
   "cell_type": "markdown",
   "metadata": {},
   "source": [
    "## Verificación con Sympy "
   ]
  },
  {
   "cell_type": "code",
   "execution_count": 4,
   "metadata": {},
   "outputs": [
    {
     "data": {
      "text/latex": [
       "$\\displaystyle y{\\left(x \\right)} = C_{1} e^{- x} + 1$"
      ],
      "text/plain": [
       "Eq(y(x), C1*exp(-x) + 1)"
      ]
     },
     "execution_count": 4,
     "metadata": {},
     "output_type": "execute_result"
    }
   ],
   "source": [
    "# y'+y=1\n",
    "from sympy import *\n",
    "x=symbols('x')\n",
    "y=Function('y')(x) \n",
    "dsolve(diff(y,x)+y-1,y) "
   ]
  },
  {
   "cell_type": "code",
   "execution_count": null,
   "metadata": {},
   "outputs": [],
   "source": []
  },
  {
   "cell_type": "markdown",
   "metadata": {},
   "source": [
    "## Determinación del comportamiento de la solución en el infinito"
   ]
  },
  {
   "cell_type": "code",
   "execution_count": 3,
   "metadata": {},
   "outputs": [
    {
     "data": {
      "text/latex": [
       "$\\displaystyle 1$"
      ],
      "text/plain": [
       "1"
      ]
     },
     "execution_count": 3,
     "metadata": {},
     "output_type": "execute_result"
    }
   ],
   "source": [
    "from sympy import *\n",
    "x,c=symbols('x c') \n",
    "limit(c*exp(-x) + 1,x,oo) "
   ]
  },
  {
   "cell_type": "markdown",
   "metadata": {},
   "source": [
    "$$\\lim_{x \\to \\infty} ce^{-x} + 1 = 1 $$"
   ]
  },
  {
   "cell_type": "code",
   "execution_count": null,
   "metadata": {},
   "outputs": [],
   "source": []
  },
  {
   "cell_type": "markdown",
   "metadata": {},
   "source": [
    "## Trazo de algunas curvas integrales "
   ]
  },
  {
   "cell_type": "code",
   "execution_count": null,
   "metadata": {},
   "outputs": [],
   "source": [
    "import numpy as np \n",
    "import matplotlib.pyplot as plt \n",
    "from ipywidgets import interact  \n",
    "a,b=-3,6\n",
    "\n",
    "def graficar(c=1):\n",
    "    x=np.linspace(a,b)\n",
    "    y = c*np.exp(-x) + 1    \n",
    "    plt.plot(x,y)\n",
    "    plt.plot([-3,6],[1,1])   \n",
    "    plt.axis([a,b,0,2])  \n",
    "    plt.grid() \n",
    "    \n",
    "interact(graficar,c=(-4,4))    "
   ]
  },
  {
   "cell_type": "code",
   "execution_count": null,
   "metadata": {},
   "outputs": [],
   "source": []
  },
  {
   "cell_type": "code",
   "execution_count": null,
   "metadata": {},
   "outputs": [],
   "source": []
  },
  {
   "cell_type": "markdown",
   "metadata": {},
   "source": [
    "## Punto 3"
   ]
  },
  {
   "cell_type": "markdown",
   "metadata": {},
   "source": [
    "$$ xyy' + y^{2} = 2x $$\n",
    "\n",
    "(5 puntos) Encuentre las dos familias de soluciones generales explícitas para esta ecuación diferencial pero utilizando **solo** el método de las ecuaciones para las que existe un factor integrante que las hace exactas. "
   ]
  },
  {
   "cell_type": "markdown",
   "metadata": {},
   "source": [
    "## Solución interpretándola como una ecuación que se puede hacer exacta"
   ]
  },
  {
   "cell_type": "markdown",
   "metadata": {},
   "source": [
    "$$(y^{2} - 2x) + xyy' = 0$$"
   ]
  },
  {
   "cell_type": "markdown",
   "metadata": {},
   "source": [
    "$$\\mu = exp \\left(\\int \\frac{M_{y} - N_{x}}{N} dx \\right) =  exp \\left(\\int \\frac{2y-y }{xy } dx \\right) $$"
   ]
  },
  {
   "cell_type": "markdown",
   "metadata": {},
   "source": [
    "$$ \\mu(x) = exp\\left( \\int \\frac{1}{x}dx \\right) $$"
   ]
  },
  {
   "cell_type": "markdown",
   "metadata": {},
   "source": [
    "$$\\mu(x) = exp(\\ln|x|) = x$$"
   ]
  },
  {
   "cell_type": "markdown",
   "metadata": {},
   "source": [
    "Multipliquemos la ED $$(y^{2} - 2x) + xyy' = 0$$ por $\\mu = x$ para determinar $\\hat{M}$ y $\\hat{N}$:\n",
    "\n",
    "$$x(y^{2}-2x) + x^{2}yy' = 0 $$\n"
   ]
  },
  {
   "cell_type": "markdown",
   "metadata": {},
   "source": [
    "de donde $\\hat{M} = xy^{2} - 2x^{2}$ y $\\hat{N} = x^{2}y$. "
   ]
  },
  {
   "cell_type": "markdown",
   "metadata": {},
   "source": [
    "$$ \\psi = \\int \\hat{M}dx + h(y) = \\int (xy^{2}-2x^{2})dx + h(y) $$"
   ]
  },
  {
   "cell_type": "markdown",
   "metadata": {},
   "source": [
    "$$ \\psi = \\frac{x^{2}y^{2}}{2}-\\frac{2}{3}x^{3} + h(y) $$"
   ]
  },
  {
   "cell_type": "markdown",
   "metadata": {},
   "source": [
    "$$\\psi_{y} = x^{2}y + h'(y) = N = x^{2}y$$"
   ]
  },
  {
   "cell_type": "markdown",
   "metadata": {},
   "source": [
    "de donde $h'(y) = 0$"
   ]
  },
  {
   "cell_type": "markdown",
   "metadata": {},
   "source": [
    "luego:\n",
    "$$  \\frac{x^{2}y^{2}}{2}-\\frac{2}{3}x^{3} = c $$\n",
    "\n",
    "es la solución general implícita. "
   ]
  },
  {
   "cell_type": "code",
   "execution_count": null,
   "metadata": {},
   "outputs": [],
   "source": []
  },
  {
   "cell_type": "markdown",
   "metadata": {},
   "source": [
    "$$ xyy' + y^{2} = 2x $$\n",
    "\n",
    "(5 puntos) Encuentre las dos familias de soluciones generales explícitas para esta ecuación diferencial pero utilizando **solo** el método de las ecuaciones diferenciales de Bernoulli. "
   ]
  },
  {
   "cell_type": "markdown",
   "metadata": {},
   "source": [
    "## Solución interpretándo como una ED de Bernoulli"
   ]
  },
  {
   "cell_type": "markdown",
   "metadata": {},
   "source": [
    "$$ xyy' + y^{2} = 2x $$"
   ]
  },
  {
   "cell_type": "markdown",
   "metadata": {},
   "source": [
    "dividamos la ecuación por $xy$:\n",
    "\n",
    "$$ y' + \\frac{1}{x}y = 2y^{-1} $$"
   ]
  },
  {
   "cell_type": "markdown",
   "metadata": {},
   "source": [
    "Entonces $n = -1$, y así $v=y^{1-n} = y^{2}$. "
   ]
  },
  {
   "cell_type": "markdown",
   "metadata": {},
   "source": [
    "de donde $y = v^{1/2}$. Derivando implícitamente con respecto a $x$ obtenemos: \n",
    "\n",
    "$$ y' = \\frac{1}{2}v^{-1/2}v'. $$"
   ]
  },
  {
   "cell_type": "markdown",
   "metadata": {},
   "source": [
    "Sustituyando este cambio de variable en $ y' + \\frac{1}{x}y = 2y^{-1} $ obtenemos:\n",
    "\n",
    "$$ \\frac{1}{2}v^{-1/2}v' + \\frac{1}{x}v^{1/2} = 2v^{-1/2}. $$"
   ]
  },
  {
   "cell_type": "markdown",
   "metadata": {},
   "source": [
    "Dividamos esta ecuación por $\\frac{1}{2}v^{-1/2}$ para obtener una ecuación lineal: \n",
    "\n",
    "$$ v' + \\frac{2}{x}v = 4 $$\n"
   ]
  },
  {
   "cell_type": "code",
   "execution_count": null,
   "metadata": {},
   "outputs": [],
   "source": []
  },
  {
   "cell_type": "code",
   "execution_count": null,
   "metadata": {},
   "outputs": [],
   "source": []
  },
  {
   "cell_type": "markdown",
   "metadata": {
    "slideshow": {
     "slide_type": "slide"
    }
   },
   "source": [
    "(10 puntos) Verifique que las soluciones encontradas son equivalentes y que son solución de la ED dada. "
   ]
  },
  {
   "cell_type": "markdown",
   "metadata": {
    "slideshow": {
     "slide_type": "slide"
    }
   },
   "source": []
  },
  {
   "cell_type": "code",
   "execution_count": null,
   "metadata": {
    "slideshow": {
     "slide_type": "slide"
    }
   },
   "outputs": [],
   "source": []
  },
  {
   "cell_type": "code",
   "execution_count": null,
   "metadata": {
    "slideshow": {
     "slide_type": "slide"
    }
   },
   "outputs": [],
   "source": []
  },
  {
   "cell_type": "code",
   "execution_count": null,
   "metadata": {
    "slideshow": {
     "slide_type": "slide"
    }
   },
   "outputs": [],
   "source": []
  },
  {
   "cell_type": "markdown",
   "metadata": {
    "slideshow": {
     "slide_type": "slide"
    }
   },
   "source": [
    "## Punto 4 "
   ]
  },
  {
   "cell_type": "markdown",
   "metadata": {
    "slideshow": {
     "slide_type": "slide"
    }
   },
   "source": [
    "$$\\frac{dy}{dx} = \\frac{y}{x+y}, \\quad \\quad y > 0  $$"
   ]
  },
  {
   "cell_type": "markdown",
   "metadata": {
    "slideshow": {
     "slide_type": "slide"
    }
   },
   "source": [
    "(5 puntos) Resolver la ecuación anterior utilizando el método de las ED lineales "
   ]
  },
  {
   "cell_type": "markdown",
   "metadata": {
    "slideshow": {
     "slide_type": "slide"
    }
   },
   "source": [
    "Para poder resolver esta ecuación interpretándola como una ED lineal, es necesario resolver la ED para $x$ y no para $y$. "
   ]
  },
  {
   "cell_type": "markdown",
   "metadata": {
    "slideshow": {
     "slide_type": "slide"
    }
   },
   "source": [
    "supongamos que $x$ es una función diferenciable de $y$, entonces \n",
    "\n",
    "$$ \\frac{dy}{dx} = \\frac{y}{x+y} \\quad \\quad \\Rightarrow  \\quad \\quad  \\frac{dx}{dy} = \\frac{x+y}{y} $$\n",
    "\n",
    "pues la derivada de la inverda es el recíproco de la derivada de la función. "
   ]
  },
  {
   "cell_type": "markdown",
   "metadata": {
    "slideshow": {
     "slide_type": "slide"
    }
   },
   "source": [
    "$$ x' = \\frac{1}{y}x + 1 $$"
   ]
  },
  {
   "cell_type": "markdown",
   "metadata": {
    "slideshow": {
     "slide_type": "slide"
    }
   },
   "source": [
    "$$ x' - \\frac{1}{y}x = 1 $$"
   ]
  },
  {
   "cell_type": "markdown",
   "metadata": {
    "slideshow": {
     "slide_type": "slide"
    }
   },
   "source": [
    "De donde $\\hat{p}(y) = -\\frac{1}{y}$ y $g(y) = 1$. "
   ]
  },
  {
   "cell_type": "markdown",
   "metadata": {
    "slideshow": {
     "slide_type": "slide"
    }
   },
   "source": [
    "de donde $\\mu(y) = \\frac{1}{y}$. "
   ]
  },
  {
   "cell_type": "markdown",
   "metadata": {
    "slideshow": {
     "slide_type": "slide"
    }
   },
   "source": [
    "Multiplico por el factor integrante para obtener:\n",
    "\n",
    "$$ \\frac{1}{y}x' - \\frac{1}{y^{2}}x = \\frac{1}{y} $$\n"
   ]
  },
  {
   "cell_type": "markdown",
   "metadata": {
    "slideshow": {
     "slide_type": "slide"
    }
   },
   "source": [
    "$$\\left[ \\frac{1}{y}x \\right]' = \\frac{1}{y} $$"
   ]
  },
  {
   "cell_type": "markdown",
   "metadata": {
    "slideshow": {
     "slide_type": "slide"
    }
   },
   "source": [
    "$$\\frac{1}{y}x = \\ln|y| + c$$"
   ]
  },
  {
   "cell_type": "markdown",
   "metadata": {
    "slideshow": {
     "slide_type": "slide"
    }
   },
   "source": [
    "como $y > 0$, entonces:"
   ]
  },
  {
   "cell_type": "markdown",
   "metadata": {
    "slideshow": {
     "slide_type": "slide"
    }
   },
   "source": [
    "$$ x = y(\\ln y + c) $$"
   ]
  },
  {
   "cell_type": "markdown",
   "metadata": {
    "slideshow": {
     "slide_type": "slide"
    }
   },
   "source": [
    "Note que si se necesitaba la hipótesis inicial de que $y$ era positiva. "
   ]
  },
  {
   "cell_type": "code",
   "execution_count": null,
   "metadata": {},
   "outputs": [],
   "source": []
  },
  {
   "cell_type": "markdown",
   "metadata": {
    "slideshow": {
     "slide_type": "slide"
    }
   },
   "source": [
    "## Trazado del campo de direcciones "
   ]
  },
  {
   "cell_type": "code",
   "execution_count": 22,
   "metadata": {
    "slideshow": {
     "slide_type": "slide"
    }
   },
   "outputs": [
    {
     "name": "stderr",
     "output_type": "stream",
     "text": [
      "C:\\Users\\Usuario\\Anaconda3\\lib\\site-packages\\ipykernel_launcher.py:7: RuntimeWarning: divide by zero encountered in double_scalars\n",
      "  import sys\n",
      "C:\\Users\\Usuario\\Anaconda3\\lib\\site-packages\\ipykernel_launcher.py:7: RuntimeWarning: divide by zero encountered in double_scalars\n",
      "  import sys\n",
      "C:\\Users\\Usuario\\Anaconda3\\lib\\site-packages\\ipykernel_launcher.py:7: RuntimeWarning: divide by zero encountered in double_scalars\n",
      "  import sys\n",
      "C:\\Users\\Usuario\\Anaconda3\\lib\\site-packages\\ipykernel_launcher.py:7: RuntimeWarning: divide by zero encountered in double_scalars\n",
      "  import sys\n"
     ]
    },
    {
     "data": {
      "image/png": "[encoded data removed]",
      "text/plain": [
       "<Figure size 432x288 with 1 Axes>"
      ]
     },
     "metadata": {
      "needs_background": "light"
     },
     "output_type": "display_data"
    }
   ],
   "source": [
    "import numpy as np\n",
    "from matplotlib import pyplot as plt\n",
    "\n",
    "# Differential equation\n",
    "# y'= y/(x+y) \n",
    "def diff(x,y):\n",
    "    return y/(x+y) \n",
    "a,b=-1,1\n",
    "x = np.linspace(a,b,10)\n",
    "y = np.linspace(a,b,10)  \n",
    "\n",
    "# use x,y\n",
    "for j in x:\n",
    "    for k in y:\n",
    "        slope = diff(j,k)\n",
    "        domain = np.linspace(j-0.03,j+0.03,2)\n",
    "        def fun(x1,y1):\n",
    "            z = slope*(domain-x1)+y1\n",
    "            return z\n",
    "        plt.plot(domain,fun(j,k))\n",
    "\n",
    "plt.title(r\"Campo de pendientes $y'$\")\n",
    "plt.axis([a,b,a,b]) \n",
    "plt.grid(True)\n",
    "plt.show()"
   ]
  },
  {
   "cell_type": "markdown",
   "metadata": {
    "slideshow": {
     "slide_type": "slide"
    }
   },
   "source": [
    "## Verificación con Sympy"
   ]
  },
  {
   "cell_type": "code",
   "execution_count": 2,
   "metadata": {
    "slideshow": {
     "slide_type": "slide"
    }
   },
   "outputs": [
    {
     "data": {
      "text/latex": [
       "$\\displaystyle y{\\left(x \\right)} = e^{C_{1} + \\operatorname{LambertW}{\\left(x e^{- C_{1}} \\right)}}$"
      ],
      "text/plain": [
       "Eq(y(x), exp(C1 + LambertW(x*exp(-C1))))"
      ]
     },
     "execution_count": 2,
     "metadata": {},
     "output_type": "execute_result"
    }
   ],
   "source": [
    "from sympy import * \n",
    "x,y=symbols('x y') \n",
    "y=Function('y')(x) \n",
    "dsolve(diff(y,x)-y/(x+y),y) "
   ]
  },
  {
   "cell_type": "code",
   "execution_count": 3,
   "metadata": {
    "scrolled": true,
    "slideshow": {
     "slide_type": "slide"
    }
   },
   "outputs": [
    {
     "data": {
      "text/latex": [
       "$\\displaystyle x{\\left(y \\right)} = y \\left(C_{1} + \\log{\\left(y \\right)}\\right)$"
      ],
      "text/plain": [
       "Eq(x(y), y*(C1 + log(y)))"
      ]
     },
     "execution_count": 3,
     "metadata": {},
     "output_type": "execute_result"
    }
   ],
   "source": [
    "from sympy import * \n",
    "x,y=symbols('x y') \n",
    "x=Function('x')(y) \n",
    "dsolve(diff(x,y)-(x+y)/y,x) "
   ]
  },
  {
   "cell_type": "code",
   "execution_count": null,
   "metadata": {
    "slideshow": {
     "slide_type": "slide"
    }
   },
   "outputs": [],
   "source": []
  },
  {
   "cell_type": "markdown",
   "metadata": {
    "slideshow": {
     "slide_type": "slide"
    }
   },
   "source": [
    "## Grafica de algunas curvas integrales con matplotlib "
   ]
  },
  {
   "cell_type": "code",
   "execution_count": 4,
   "metadata": {
    "scrolled": false,
    "slideshow": {
     "slide_type": "slide"
    }
   },
   "outputs": [
    {
     "data": {
      "image/png": "[encoded data removed]",
      "text/plain": [
       "<Figure size 864x432 with 2 Axes>"
      ]
     },
     "metadata": {
      "needs_background": "light"
     },
     "output_type": "display_data"
    }
   ],
   "source": [
    "import numpy as np \n",
    "import matplotlib.pyplot as plt \n",
    "# x = y(ln(y) + c)\n",
    "c=0\n",
    "y = np.linspace(0.2,5) \n",
    "x=y*(np.log(y)+c) # si queremos que $y(0) = 1$, entonces c = 0. \n",
    "y_p=y/(x+y)            # y_p es y'\n",
    "fig,(ax1,ax2)=plt.subplots(1,2,figsize = (12,6))\n",
    "ax1.plot(x,y)\n",
    "ax1.set_ylabel('y')\n",
    "ax1.set_xlabel('x')\n",
    "ax1.grid()\n",
    "    \n",
    "ax2.plot(y,y_p)\n",
    "ax2.set_ylabel(r'$\\frac{dy}{dx}$')\n",
    "ax2.set_xlabel('y')\n",
    "ax2.grid()\n",
    "plt.savefig('ED_linealHomoge.jpg')  \n",
    "plt.show()    "
   ]
  },
  {
   "cell_type": "code",
   "execution_count": null,
   "metadata": {
    "slideshow": {
     "slide_type": "slide"
    }
   },
   "outputs": [],
   "source": []
  },
  {
   "cell_type": "code",
   "execution_count": null,
   "metadata": {
    "slideshow": {
     "slide_type": "slide"
    }
   },
   "outputs": [],
   "source": []
  },
  {
   "cell_type": "markdown",
   "metadata": {
    "slideshow": {
     "slide_type": "slide"
    }
   },
   "source": [
    "(5 puntos) Resolver la ecuación anterior utilizando el método de las ecuaciones homogéneas\n"
   ]
  },
  {
   "cell_type": "markdown",
   "metadata": {
    "slideshow": {
     "slide_type": "slide"
    }
   },
   "source": [
    "$$\\frac{dy}{dx} = \\frac{y}{x+y}, \\quad \\quad y > 0  $$"
   ]
  },
  {
   "cell_type": "markdown",
   "metadata": {
    "slideshow": {
     "slide_type": "slide"
    }
   },
   "source": [
    "$$y' = \\frac{\\frac{y}{x}}{1+ \\frac{y}{x}}$$"
   ]
  },
  {
   "cell_type": "markdown",
   "metadata": {
    "slideshow": {
     "slide_type": "slide"
    }
   },
   "source": [
    "Sea $y=vx$, entonces \n",
    "\n",
    "$$y' = v + xv'$$\n"
   ]
  },
  {
   "cell_type": "markdown",
   "metadata": {
    "slideshow": {
     "slide_type": "slide"
    }
   },
   "source": [
    "Sustituyendo en la EDdada obtenemos \n",
    "\n",
    "$$v+xv' =  \\frac{ v }{ 1 + v } $$"
   ]
  },
  {
   "cell_type": "markdown",
   "metadata": {
    "slideshow": {
     "slide_type": "slide"
    }
   },
   "source": [
    "$$ x\\frac{dv}{dx} = \\frac{v}{1+v} - v $$"
   ]
  },
  {
   "cell_type": "markdown",
   "metadata": {
    "slideshow": {
     "slide_type": "slide"
    }
   },
   "source": [
    "$$ x\\frac{dv}{dx} = \\frac{v - v - v^{2}}{1+v} $$"
   ]
  },
  {
   "cell_type": "markdown",
   "metadata": {
    "slideshow": {
     "slide_type": "slide"
    }
   },
   "source": [
    "$$ x\\frac{dv}{dx} = \\frac{- v^{2}}{1+v} $$"
   ]
  },
  {
   "cell_type": "markdown",
   "metadata": {
    "slideshow": {
     "slide_type": "slide"
    }
   },
   "source": [
    "$$ -\\frac{1+v}{v^{2}}dv = \\frac{1}{x}dx $$ "
   ]
  },
  {
   "cell_type": "markdown",
   "metadata": {
    "slideshow": {
     "slide_type": "slide"
    }
   },
   "source": [
    "$$ \\left( -\\frac{1}{v^{2}} - \\frac{1}{v} \\right) dv  = \\frac{1}{x}dx $$"
   ]
  },
  {
   "cell_type": "markdown",
   "metadata": {
    "slideshow": {
     "slide_type": "slide"
    }
   },
   "source": [
    "$$ \\frac{1}{v} - \\ln|v| = \\ln|x| + c $$"
   ]
  },
  {
   "cell_type": "markdown",
   "metadata": {
    "slideshow": {
     "slide_type": "slide"
    }
   },
   "source": [
    "$$ \\frac{x}{y} - \\ln \\frac{y}{|x|} = \\ln|x| + c $$"
   ]
  },
  {
   "cell_type": "markdown",
   "metadata": {
    "slideshow": {
     "slide_type": "slide"
    }
   },
   "source": [
    "$$\\frac{x}{y} - \\ln y + \\ln|x| = \\ln|x| + c$$"
   ]
  },
  {
   "cell_type": "markdown",
   "metadata": {
    "slideshow": {
     "slide_type": "slide"
    }
   },
   "source": [
    "$$ x - y\\ln y = yc $$"
   ]
  },
  {
   "cell_type": "markdown",
   "metadata": {
    "slideshow": {
     "slide_type": "slide"
    }
   },
   "source": [
    "$$ x = y(\\ln y + c) $$"
   ]
  },
  {
   "cell_type": "code",
   "execution_count": null,
   "metadata": {
    "slideshow": {
     "slide_type": "skip"
    }
   },
   "outputs": [],
   "source": []
  },
  {
   "cell_type": "markdown",
   "metadata": {
    "slideshow": {
     "slide_type": "slide"
    }
   },
   "source": [
    "(10 puntos) Verificar que las soluciones encontradas son equivalentes y que si sean solución de la ED dada. "
   ]
  },
  {
   "cell_type": "markdown",
   "metadata": {
    "slideshow": {
     "slide_type": "slide"
    }
   },
   "source": [
    "## Verificación de correspondencia"
   ]
  },
  {
   "cell_type": "markdown",
   "metadata": {
    "slideshow": {
     "slide_type": "slide"
    }
   },
   "source": [
    "Con los métodos para ecuaciones lineales y para ecuaciones homogéneas hemos obtenido la misma solución implícita"
   ]
  },
  {
   "cell_type": "markdown",
   "metadata": {
    "slideshow": {
     "slide_type": "slide"
    }
   },
   "source": [
    "|Solución obtenida con el método de las lineales| Solución con el método de las homogéneas|\n",
    "|-----------------------------------------------|-----------------------------------------|  \n",
    "|$x = y(\\ln y + c) $|$ x = y(\\ln y + c) $|\n",
    "\n",
    "Conclusión: sin importar el método que apliquemos, obtenemos la misma solución. "
   ]
  },
  {
   "cell_type": "code",
   "execution_count": null,
   "metadata": {
    "slideshow": {
     "slide_type": "skip"
    }
   },
   "outputs": [],
   "source": []
  },
  {
   "cell_type": "markdown",
   "metadata": {
    "slideshow": {
     "slide_type": "slide"
    }
   },
   "source": [
    "## Verificación de que la solución determinada satisface la ED dada"
   ]
  },
  {
   "cell_type": "markdown",
   "metadata": {
    "slideshow": {
     "slide_type": "slide"
    }
   },
   "source": [
    "Utilicemos el método de diferenciación implícita visto en el curso de cálculo I para mostrar que la solución obtenida satusface la ED dada. "
   ]
  },
  {
   "cell_type": "markdown",
   "metadata": {
    "slideshow": {
     "slide_type": "slide"
    }
   },
   "source": [
    "De la solución obtenida se infiere que \n",
    "\n",
    "$$x = y(\\ln y + c) \\quad \\quad \\Rightarrow \\quad \\quad \\frac{x}{y} = \\ln(y) + c $$\n",
    "\n",
    "esta última ecuación la utilizaremos en el proceso de diferenciación implícita."
   ]
  },
  {
   "cell_type": "markdown",
   "metadata": {
    "slideshow": {
     "slide_type": "slide"
    }
   },
   "source": [
    "$$ \\frac{d}{dx} [ x = y(\\ln y + c) ] $$"
   ]
  },
  {
   "cell_type": "markdown",
   "metadata": {
    "slideshow": {
     "slide_type": "slide"
    }
   },
   "source": [
    "$$ 1 = y\\left( \\frac{1}{y}y' + 0 \\right) + y'(\\ln y + c) $$"
   ]
  },
  {
   "cell_type": "markdown",
   "metadata": {
    "slideshow": {
     "slide_type": "slide"
    }
   },
   "source": [
    "$$ 1 = y' + y'(\\ln y + c) $$"
   ]
  },
  {
   "cell_type": "markdown",
   "metadata": {
    "slideshow": {
     "slide_type": "slide"
    }
   },
   "source": [
    "$$1 = y'(1 + \\ln y + c)$$"
   ]
  },
  {
   "cell_type": "markdown",
   "metadata": {
    "slideshow": {
     "slide_type": "slide"
    }
   },
   "source": [
    "$$ 1 = y'\\left(1 + \\frac{x}{y} \\right) $$"
   ]
  },
  {
   "cell_type": "markdown",
   "metadata": {
    "slideshow": {
     "slide_type": "slide"
    }
   },
   "source": [
    "$$1 = y'\\left( \\frac{y + x}{y} \\right) $$"
   ]
  },
  {
   "cell_type": "markdown",
   "metadata": {
    "slideshow": {
     "slide_type": "slide"
    }
   },
   "source": [
    "$$ \\frac{y}{x+y} = y' $$\n",
    "\n",
    "Como pudimos obtenes la ED dada a partir de la solución deducida, podemos decir que la solución encontrada es correcta. "
   ]
  },
  {
   "cell_type": "code",
   "execution_count": null,
   "metadata": {
    "slideshow": {
     "slide_type": "skip"
    }
   },
   "outputs": [],
   "source": []
  },
  {
   "cell_type": "markdown",
   "metadata": {
    "slideshow": {
     "slide_type": "slide"
    }
   },
   "source": [
    "## Punto 5 "
   ]
  },
  {
   "cell_type": "markdown",
   "metadata": {
    "slideshow": {
     "slide_type": "slide"
    }
   },
   "source": [
    "(5 puntos) Resolver la ecuación diferencial \n",
    "\n",
    "$$ (3xy + y^{2}) + (x^{2} + xy)y' = 0 $$\n",
    "\n",
    "utilizando el factor integrante \n",
    "\n",
    "$$ \\mu(x,y) = [xy(2x+y)]^{-1} $$"
   ]
  },
  {
   "cell_type": "markdown",
   "metadata": {
    "slideshow": {
     "slide_type": "slide"
    }
   },
   "source": [
    "(5 puntos) Comprobar que la solución anterior es la misma que la obtenida cuando se usa una factor integrante obtenido con una de las dos fórmulas siguientes:\n",
    "\n",
    "$$ \\frac{M_{y} - N_{x}}{N} = \\frac{\\mu'}{\\mu} \\quad \\quad \\quad \\frac{N_{x} - M_{y}}{M} = \\frac{\\mu'}{\\mu}  $$\n"
   ]
  },
  {
   "cell_type": "code",
   "execution_count": null,
   "metadata": {
    "slideshow": {
     "slide_type": "slide"
    }
   },
   "outputs": [],
   "source": []
  },
  {
   "cell_type": "code",
   "execution_count": null,
   "metadata": {
    "slideshow": {
     "slide_type": "slide"
    }
   },
   "outputs": [],
   "source": []
  },
  {
   "cell_type": "markdown",
   "metadata": {
    "slideshow": {
     "slide_type": "slide"
    }
   },
   "source": [
    "(10 puntos) Verificar que la solución obtenida es correcta sustituyéndola en la ED dada. "
   ]
  },
  {
   "cell_type": "code",
   "execution_count": null,
   "metadata": {
    "slideshow": {
     "slide_type": "slide"
    }
   },
   "outputs": [],
   "source": []
  },
  {
   "cell_type": "code",
   "execution_count": null,
   "metadata": {},
   "outputs": [],
   "source": []
  },
  {
   "cell_type": "code",
   "execution_count": null,
   "metadata": {},
   "outputs": [],
   "source": []
  }
 ],
 "metadata": {
  "celltoolbar": "Slideshow",
  "hide_input": false,
  "kernelspec": {
   "display_name": "Python 3",
   "language": "python",
   "name": "python3"
  },
  "language_info": {
   "codemirror_mode": {
    "name": "ipython",
    "version": 3
   },
   "file_extension": ".py",
   "mimetype": "text/x-python",
   "name": "python",
   "nbconvert_exporter": "python",
   "pygments_lexer": "ipython3",
   "version": "3.7.4"
  },
  "nbTranslate": {
   "displayLangs": [
    "*"
   ],
   "hotkey": "alt-t",
   "langInMainMenu": true,
   "sourceLang": "en",
   "targetLang": "es",
   "useGoogleTranslate": true
  },
  "rise": {
   "enable_chalkboard": true,
   "theme": "sky",
   "transition": "zoom"
  }
 },
 "nbformat": 4,
 "nbformat_minor": 2
}
