{
 "cells": [
  {
   "cell_type": "markdown",
   "id": "ab6f261d",
   "metadata": {},
   "source": [
    "<table align=\"left\">\n",
    "  <td>\n",
    "    <a href=\"https://colab.research.google.com/github/marco-canas/edo/blob/main/clases/class_15/7_6_sist_laplace.ipynb#scrollTo=fb4c467b\" target=\"_parent\"><img src=\"https://colab.research.google.com/assets/colab-badge.svg\" alt=\"Open In Colab\"/></a>\n",
    "  </td>\n",
    "</table>"
   ]
  },
  {
   "cell_type": "markdown",
   "id": "ffa8628d",
   "metadata": {},
   "source": [
    "# Parcial 6 Clasificación de ecuaciones diferenciales y Ecuaciones separables "
   ]
  },
  {
   "cell_type": "markdown",
   "id": "dae33b56",
   "metadata": {},
   "source": [
    "## Punto 1"
   ]
  },
  {
   "cell_type": "markdown",
   "id": "f7a8da51",
   "metadata": {},
   "source": [
    "* **(15 puntos)** Resuelva la ecuación diferencial dada por separación de variables.\n",
    "\n",
    "$$ \\frac{dy}{dx} = \\frac{xy + 3x - y -3}{xy - 2x +4y - 8} $$\n",
    "\n",
    "\n",
    "* **(10 puntos)** Clasifique la ecuación y verifique la solución encontrada. \n",
    "\n",
    "**Describa y justifique verbalmente sus procedimientos. Las descripciones y justificaciones verbales valen la mitad del punto.** \n"
   ]
  },
  {
   "cell_type": "markdown",
   "id": "2da5f9ea",
   "metadata": {},
   "source": [
    "## Punto 2 \n"
   ]
  },
  {
   "cell_type": "markdown",
   "id": "84ea84b1",
   "metadata": {},
   "source": [
    "**(15 puntos)** Muestre que la solución implícita de \n",
    "\n",
    "$$ 2x\\sin^{2}ydx -( x^{2}+ 10)\\cos y dy = 0 $$\n",
    "\n",
    "está dada por \n",
    "\n",
    "$$ \\ln(x^{2} + 10) + \\csc y = c $$\n",
    "\n",
    "Determine las soluciones constantes si se perdieron cuando se resolvió la ecuación diferencial. \n",
    "\n",
    "**(10 puntos)** Verifique que \n",
    "\n",
    "$$ \\ln(x^{2} + 10) + \\csc y = c $$\n",
    "\n",
    "es la solución implícita de \n",
    "\n",
    "$$ 2x\\sin^{2}ydx -( x^{2}+ 10)\\cos y dy = 0 $$\n",
    "\n",
    "**Describa y justifique verbalmente sus procedimientos. Las descripciones y justificaciones verbales valen la mitad del punto.** \n",
    "\n"
   ]
  },
  {
   "cell_type": "markdown",
   "id": "ba2f02e4",
   "metadata": {},
   "source": [
    "## Punto 3"
   ]
  },
  {
   "cell_type": "markdown",
   "id": "e7bebe13",
   "metadata": {},
   "source": [
    "* **(15 puntos)** Encuentre la solución de \n",
    "\n",
    "$$ x\\frac{dy}{dx} = y^{2} - y $$\n",
    "\n",
    "que pase por el punto $(0,0)$. \n",
    "\n",
    "* **(10 puntos)** Verifique su respuesta. \n",
    "\n",
    "**Describa y justifique verbalmente sus procedimientos. Las descripciones y justificaciones verbales valen la mitad del punto.** \n",
    "\n"
   ]
  },
  {
   "cell_type": "markdown",
   "id": "fd561962",
   "metadata": {},
   "source": [
    "## Punto 4 "
   ]
  },
  {
   "cell_type": "markdown",
   "id": "3bc82474",
   "metadata": {},
   "source": [
    "* **(15 puntos)** Determine los valores de m tales que la función $y = x^{m}$  sea una solución de la ecuación diferencial:\n",
    "\n",
    "$$ xy'' + 2y' = 0 $$\n",
    "\n",
    "* **(10 puntos)** Verifique sus respuestas. \n",
    "\n",
    "**Describa y justifique verbalmente sus procedimientos. Las descripciones y justificaciones verbales valen la mitad del punto.** \n"
   ]
  },
  {
   "cell_type": "code",
   "execution_count": null,
   "id": "e1282605",
   "metadata": {},
   "outputs": [],
   "source": []
  },
  {
   "cell_type": "code",
   "execution_count": null,
   "id": "5ad99871",
   "metadata": {},
   "outputs": [],
   "source": []
  },
  {
   "cell_type": "code",
   "execution_count": null,
   "id": "d1dad935",
   "metadata": {},
   "outputs": [],
   "source": []
  }
 ],
 "metadata": {
  "kernelspec": {
   "display_name": "Python 3 (ipykernel)",
   "language": "python",
   "name": "python3"
  },
  "language_info": {
   "codemirror_mode": {
    "name": "ipython",
    "version": 3
   },
   "file_extension": ".py",
   "mimetype": "text/x-python",
   "name": "python",
   "nbconvert_exporter": "python",
   "pygments_lexer": "ipython3",
   "version": "3.9.7"
  }
 },
 "nbformat": 4,
 "nbformat_minor": 5
}
