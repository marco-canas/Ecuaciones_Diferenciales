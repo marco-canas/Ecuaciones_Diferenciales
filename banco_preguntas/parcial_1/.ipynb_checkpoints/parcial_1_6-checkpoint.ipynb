{
 "cells": [
  {
   "cell_type": "markdown",
   "id": "ab6f261d",
   "metadata": {
    "slideshow": {
     "slide_type": "slide"
    }
   },
   "source": [
    "<table align=\"left\">\n",
    "  <td>\n",
    "    <a href=\"https://colab.research.google.com/github/marco-canas/edo/blob/main/clases/class_15/7_6_sist_laplace.ipynb#scrollTo=fb4c467b\" target=\"_parent\"><img src=\"https://colab.research.google.com/assets/colab-badge.svg\" alt=\"Open In Colab\"/></a>\n",
    "  </td>\n",
    "</table>"
   ]
  },
  {
   "cell_type": "markdown",
   "id": "ffa8628d",
   "metadata": {
    "slideshow": {
     "slide_type": "slide"
    }
   },
   "source": [
    "# Parcial 6 Clasificación de ecuaciones diferenciales y Ecuaciones separables "
   ]
  },
  {
   "cell_type": "markdown",
   "id": "dae33b56",
   "metadata": {
    "slideshow": {
     "slide_type": "slide"
    }
   },
   "source": [
    "## Punto 1"
   ]
  },
  {
   "cell_type": "markdown",
   "id": "f7a8da51",
   "metadata": {
    "slideshow": {
     "slide_type": "slide"
    }
   },
   "source": [
    "* **(15 puntos)** Resuelva la ecuación diferencial dada por separación de variables.\n",
    "\n",
    "$$ \\frac{dy}{dx} = \\frac{xy + 3x - y -3}{xy - 2x +4y - 8} $$\n",
    "\n",
    "\n",
    "* **(10 puntos)** Clasifique la ecuación y verifique la solución encontrada. \n",
    "\n",
    "**Describa y justifique verbalmente sus procedimientos. Las descripciones y justificaciones verbales valen la mitad del punto.** \n"
   ]
  },
  {
   "cell_type": "markdown",
   "id": "781c4362",
   "metadata": {
    "slideshow": {
     "slide_type": "slide"
    }
   },
   "source": [
    "## Solución:"
   ]
  },
  {
   "cell_type": "markdown",
   "id": "73f2b9b4",
   "metadata": {
    "slideshow": {
     "slide_type": "slide"
    }
   },
   "source": [
    "$$ \\frac{dy}{dx} = \\frac{xy + 3x - y -3}{xy - 2x +4y - 8} $$"
   ]
  },
  {
   "cell_type": "markdown",
   "id": "c2db0fca",
   "metadata": {
    "slideshow": {
     "slide_type": "slide"
    }
   },
   "source": [
    "$$ \\frac{dy}{dx} = \\frac{(xy + 3x) - (y +3)}{(xy - 2x) +(4y - 8)} $$\n",
    "\n",
    "por propiedad asociativa de la suma en $\\mathbb{R}$"
   ]
  },
  {
   "cell_type": "markdown",
   "id": "b09871f2",
   "metadata": {
    "slideshow": {
     "slide_type": "slide"
    }
   },
   "source": [
    "$$ \\frac{dy}{dx} = \\frac{x(y + 3) - (y +3)}{x(y - 2) +4(y - 2)} $$\n"
   ]
  },
  {
   "cell_type": "markdown",
   "id": "19cd8f04",
   "metadata": {
    "slideshow": {
     "slide_type": "slide"
    }
   },
   "source": [
    "$$ \\frac{dy}{dx} = \\frac{(y + 3)(x-1)}{(y - 2)(x+4)} $$\n"
   ]
  },
  {
   "cell_type": "markdown",
   "id": "666d536b",
   "metadata": {
    "slideshow": {
     "slide_type": "slide"
    }
   },
   "source": [
    "$$ \\frac{(y-2)}{(y+3)}dy = \\frac{(x-1)}{(x+4)}dx $$ \n"
   ]
  },
  {
   "cell_type": "markdown",
   "id": "48b5f621",
   "metadata": {
    "slideshow": {
     "slide_type": "slide"
    }
   },
   "source": [
    "Note que las fracciones de ambos lados de la ecuación son fracciones impropias pues los grados de numerador y denominador son iguales a 1. Por tanto, podemos aplicar el algoritmo de división de polinomios para espresar estras fracciones como la suma de un entero y una fracción propia. "
   ]
  },
  {
   "cell_type": "markdown",
   "id": "c69587e7",
   "metadata": {
    "slideshow": {
     "slide_type": "slide"
    }
   },
   "source": [
    "$$ \\frac{(y+3-3-2)}{(y+3)}dy = \\frac{(x+4-4-1)}{(x+4)}dx $$ "
   ]
  },
  {
   "cell_type": "markdown",
   "id": "6896eecb",
   "metadata": {
    "slideshow": {
     "slide_type": "slide"
    }
   },
   "source": [
    "$$ \\left( \\frac{y+3}{y+3} + \\frac{-5}{y+3} \\right)dy  = \\left( \\frac{x+4}{x+4} + \\frac{-5}{x+4} \\right)dx  $$"
   ]
  },
  {
   "cell_type": "markdown",
   "id": "c0e5d8d7",
   "metadata": {
    "slideshow": {
     "slide_type": "slide"
    }
   },
   "source": [
    "$$ \\left( 1  - 5\\cdot \\frac{1}{y+3} \\right)dy =  \\left( 1 - 5 \\cdot \\frac{1}{x+4} \\right)dx $$"
   ]
  },
  {
   "cell_type": "markdown",
   "id": "705b49f4",
   "metadata": {
    "slideshow": {
     "slide_type": "slide"
    }
   },
   "source": [
    "$$ \\int \\left( 1  - 5\\cdot \\frac{1}{y+3} \\right)dy =  \\int \\left( 1 - 5 \\cdot \\frac{1}{x+4} \\right)dx $$"
   ]
  },
  {
   "cell_type": "markdown",
   "id": "b82925b4",
   "metadata": {
    "slideshow": {
     "slide_type": "slide"
    }
   },
   "source": [
    "$$ y - 5\\ln|y+3| = x - 5\\ln|x+4| + c $$\n",
    "\n",
    "\n",
    "Esta es la solución general implícita.   \n",
    "\n",
    "No podemos obtener una solución explícita pues hay un termino lineal en la variable $y$, y un término logaritmico en esta misma variable. "
   ]
  },
  {
   "cell_type": "markdown",
   "id": "b222ce68",
   "metadata": {
    "slideshow": {
     "slide_type": "slide"
    }
   },
   "source": [
    "## Verificación de la solución encontrada utilizando diferenciación implícita"
   ]
  },
  {
   "cell_type": "markdown",
   "id": "871ad1aa",
   "metadata": {
    "slideshow": {
     "slide_type": "slide"
    }
   },
   "source": [
    "Mostramos que podemos recuperas la ED dada a partir de la solución encontrada utilizando el proceso de diferenciación implícita. "
   ]
  },
  {
   "cell_type": "markdown",
   "id": "56f022ba",
   "metadata": {
    "slideshow": {
     "slide_type": "slide"
    }
   },
   "source": [
    "$$ y - 5\\ln|y+3| = x - 5\\ln|x+4| + c $$"
   ]
  },
  {
   "cell_type": "markdown",
   "id": "70df1d11",
   "metadata": {
    "slideshow": {
     "slide_type": "slide"
    }
   },
   "source": [
    "Derivemos la ecuación anterior implícitamente con respecto a $x$: \n",
    "\n",
    "$$ y' - 5\\frac{1}{y+3}y' = 1 -5\\frac{1}{x+4}  $$\n"
   ]
  },
  {
   "cell_type": "markdown",
   "id": "925a706d",
   "metadata": {
    "slideshow": {
     "slide_type": "slide"
    }
   },
   "source": [
    "$$ y' \\left( 1 - \\frac{5}{y+3} \\right) = 1 - \\frac{5}{x+4} $$"
   ]
  },
  {
   "cell_type": "markdown",
   "id": "33c64758",
   "metadata": {
    "slideshow": {
     "slide_type": "slide"
    }
   },
   "source": [
    "$$ y'\\left( \\frac{y+3 - 5}{y+3} \\right) = \\frac{x+4 - 5}{x+4} $$"
   ]
  },
  {
   "cell_type": "markdown",
   "id": "417ae2bd",
   "metadata": {
    "slideshow": {
     "slide_type": "slide"
    }
   },
   "source": [
    "$$ y' \\left( \\frac{y - 2}{y+3} \\right) = \\frac{x-1}{x+4} $$"
   ]
  },
  {
   "cell_type": "markdown",
   "id": "30b6921d",
   "metadata": {
    "slideshow": {
     "slide_type": "slide"
    }
   },
   "source": [
    "$$ y' = \\frac{(x-1)(y+3)}{(x+4)(y-2)} $$"
   ]
  },
  {
   "cell_type": "markdown",
   "id": "8f5a2985",
   "metadata": {
    "slideshow": {
     "slide_type": "slide"
    }
   },
   "source": [
    "$$ y' = \\frac{(x-1)y + (x-1)3}{(x+4)y + (x+4)(-2)} $$"
   ]
  },
  {
   "cell_type": "markdown",
   "id": "d1f94c74",
   "metadata": {
    "slideshow": {
     "slide_type": "slide"
    }
   },
   "source": [
    "$$ \\frac{dy}{dx} = \\frac{xy - y + 3x - 3}{xy + 4y -2x - 8} $$"
   ]
  },
  {
   "cell_type": "markdown",
   "id": "5e2eb819",
   "metadata": {
    "slideshow": {
     "slide_type": "slide"
    }
   },
   "source": [
    "Note que hemos recuperado la ED dada a partir de la solución general implícita deducida, por lo tanto, la solución encontrada es correcta. "
   ]
  },
  {
   "cell_type": "markdown",
   "id": "4026d508",
   "metadata": {
    "slideshow": {
     "slide_type": "slide"
    }
   },
   "source": [
    "Finalmente note que la ED dada es de primer orden separable. "
   ]
  },
  {
   "cell_type": "markdown",
   "id": "ad714c81",
   "metadata": {
    "slideshow": {
     "slide_type": "slide"
    }
   },
   "source": [
    "## Verificación utilizando Sympy "
   ]
  },
  {
   "cell_type": "code",
   "execution_count": 7,
   "id": "18a03c1c",
   "metadata": {
    "slideshow": {
     "slide_type": "slide"
    }
   },
   "outputs": [],
   "source": [
    "from sympy import * \n",
    "\n",
    "x,y = symbols('x,y')\n",
    "y = Function('y')(x)\n",
    "\n",
    "#eq1 = diff(y)-(x*y+3*x-y-3)/(x*y-2*x+4*y-8) \n",
    "#dsolve(eq1,y)\n",
    "\n",
    "\n",
    "\n",
    "# note que la solución dada es de gran complegidad"
   ]
  },
  {
   "cell_type": "markdown",
   "id": "cde0a7b9",
   "metadata": {
    "slideshow": {
     "slide_type": "slide"
    }
   },
   "source": [
    "$$ \\frac{dy}{dx} = \\frac{xy + 3x - y -3}{xy - 2x +4y - 8} $$"
   ]
  },
  {
   "cell_type": "markdown",
   "id": "641a3e4d",
   "metadata": {
    "slideshow": {
     "slide_type": "slide"
    }
   },
   "source": [
    "$$ \\frac{(y-2)}{(y+3)}dy = \\frac{(x-1)}{(x+4)}dx $$ "
   ]
  },
  {
   "cell_type": "code",
   "execution_count": null,
   "id": "74ddea01",
   "metadata": {
    "slideshow": {
     "slide_type": "slide"
    }
   },
   "outputs": [],
   "source": []
  },
  {
   "cell_type": "markdown",
   "id": "2da5f9ea",
   "metadata": {
    "slideshow": {
     "slide_type": "slide"
    }
   },
   "source": [
    "## Punto 2 \n"
   ]
  },
  {
   "cell_type": "markdown",
   "id": "acee7c93",
   "metadata": {
    "slideshow": {
     "slide_type": "slide"
    }
   },
   "source": [
    "**(15 puntos)** Muestre que la solución implícita de \n",
    "\n",
    "$$ 2x\\sin^{2}ydx -( x^{2}+ 10)\\cos y dy = 0 $$\n",
    "\n",
    "está dada por \n",
    "\n",
    "$$ \\ln(x^{2} + 10) + \\csc y = c $$\n",
    "\n",
    "Determine las soluciones constantes si se perdieron cuando se resolvió la ecuación diferencial. "
   ]
  },
  {
   "cell_type": "markdown",
   "id": "b63b1600",
   "metadata": {
    "slideshow": {
     "slide_type": "slide"
    }
   },
   "source": [
    "## Solución de la primera parte"
   ]
  },
  {
   "cell_type": "markdown",
   "id": "af4fbc2d",
   "metadata": {
    "slideshow": {
     "slide_type": "slide"
    }
   },
   "source": [
    "$$ 2x\\sin^{2}ydx -( x^{2}+ 10)\\cos y dy = 0 $$"
   ]
  },
  {
   "cell_type": "markdown",
   "id": "01e3034e",
   "metadata": {
    "slideshow": {
     "slide_type": "slide"
    }
   },
   "source": [
    "transponiendo un término obtenemos: \n",
    "\n",
    "$$ 2x\\sin^{2}ydx =( x^{2}+ 10)\\cos y dy $$"
   ]
  },
  {
   "cell_type": "markdown",
   "id": "60d0abaa",
   "metadata": {
    "slideshow": {
     "slide_type": "slide"
    }
   },
   "source": [
    "$$ \\frac{2x}{x^{2} + 10}dx = \\frac{\\cos y}{\\sin^{2}y}dy $$"
   ]
  },
  {
   "cell_type": "markdown",
   "id": "7766932f",
   "metadata": {
    "slideshow": {
     "slide_type": "slide"
    }
   },
   "source": [
    "$$ \\frac{2x}{x^{2} + 10}dx = \\frac{\\cos y}{\\sin y}\\cdot \\frac{1}{\\sin y}dy $$"
   ]
  },
  {
   "cell_type": "markdown",
   "id": "61794788",
   "metadata": {
    "slideshow": {
     "slide_type": "slide"
    }
   },
   "source": [
    "$$ \\frac{2x}{x^{2} + 10}dx = \\cot(y)\\csc(y)dy $$"
   ]
  },
  {
   "cell_type": "markdown",
   "id": "9310fe36",
   "metadata": {
    "slideshow": {
     "slide_type": "slide"
    }
   },
   "source": [
    "$$ \\int \\frac{2x}{x^{2} + 10}dx = \\int \\cot(y)\\csc(y)dy $$"
   ]
  },
  {
   "cell_type": "code",
   "execution_count": null,
   "id": "6202cb83",
   "metadata": {
    "slideshow": {
     "slide_type": "slide"
    }
   },
   "outputs": [],
   "source": []
  },
  {
   "cell_type": "code",
   "execution_count": null,
   "id": "a33cdd75",
   "metadata": {
    "slideshow": {
     "slide_type": "slide"
    }
   },
   "outputs": [],
   "source": []
  },
  {
   "cell_type": "code",
   "execution_count": null,
   "id": "9242f861",
   "metadata": {
    "slideshow": {
     "slide_type": "slide"
    }
   },
   "outputs": [],
   "source": []
  },
  {
   "cell_type": "markdown",
   "id": "84ea84b1",
   "metadata": {
    "slideshow": {
     "slide_type": "slide"
    }
   },
   "source": [
    "**(10 puntos)** Verifique que \n",
    "\n",
    "$$ \\ln(x^{2} + 10) + \\csc y = c $$\n",
    "\n",
    "es la solución implícita de \n",
    "\n",
    "$$ 2x\\sin^{2}ydx -( x^{2}+ 10)\\cos y dy = 0 $$\n",
    "\n",
    "**Describa y justifique verbalmente sus procedimientos. Las descripciones y justificaciones verbales valen la mitad del punto.** "
   ]
  },
  {
   "cell_type": "markdown",
   "id": "9f2fbe7a",
   "metadata": {
    "slideshow": {
     "slide_type": "slide"
    }
   },
   "source": [
    "## Solución de la segunda parte "
   ]
  },
  {
   "cell_type": "markdown",
   "id": "7fc54b8c",
   "metadata": {
    "slideshow": {
     "slide_type": "slide"
    }
   },
   "source": [
    "Utilicemos la estrategia de diferenciación implícita para recuperar la ED a partir de la Solución general dada:\n",
    "\n",
    "$$ \\ln(x^{2} + 10) + \\csc y = c $$\n"
   ]
  },
  {
   "cell_type": "markdown",
   "id": "50d1a695",
   "metadata": {
    "slideshow": {
     "slide_type": "slide"
    }
   },
   "source": [
    "$$ \\frac{1}{x^{2} + 10}\\cdot 2x - \\csc(y)\\cot(y)y' = 0 $$"
   ]
  },
  {
   "cell_type": "code",
   "execution_count": null,
   "id": "0f250408",
   "metadata": {
    "slideshow": {
     "slide_type": "slide"
    }
   },
   "outputs": [],
   "source": []
  },
  {
   "cell_type": "markdown",
   "id": "ba2f02e4",
   "metadata": {
    "slideshow": {
     "slide_type": "slide"
    }
   },
   "source": [
    "## Punto 3"
   ]
  },
  {
   "cell_type": "markdown",
   "id": "e7bebe13",
   "metadata": {
    "slideshow": {
     "slide_type": "slide"
    }
   },
   "source": [
    "* **(15 puntos)** Encuentre la solución de \n",
    "\n",
    "$$ x\\frac{dy}{dx} = y^{2} - y $$\n",
    "\n",
    "que pase por el punto $(0,0)$. \n",
    "\n",
    "* **(10 puntos)** Verifique su respuesta. \n",
    "\n",
    "**Describa y justifique verbalmente sus procedimientos. Las descripciones y justificaciones verbales valen la mitad del punto.** \n",
    "\n"
   ]
  },
  {
   "cell_type": "markdown",
   "id": "02afd287",
   "metadata": {
    "slideshow": {
     "slide_type": "slide"
    }
   },
   "source": [
    "## Solución: "
   ]
  },
  {
   "cell_type": "markdown",
   "id": "17c83187",
   "metadata": {
    "slideshow": {
     "slide_type": "slide"
    }
   },
   "source": [
    "$$ x\\frac{dy}{dx} = y^{2} - y $$\n",
    "\n",
    "Note que $y = 0$ es una solución de esta ecuación\n"
   ]
  },
  {
   "cell_type": "markdown",
   "id": "b8dc558a",
   "metadata": {
    "slideshow": {
     "slide_type": "slide"
    }
   },
   "source": [
    "$$ \\frac{dy}{y^{2} - y} = \\frac{dx}{x} $$"
   ]
  },
  {
   "cell_type": "markdown",
   "id": "2df2e841",
   "metadata": {
    "slideshow": {
     "slide_type": "slide"
    }
   },
   "source": [
    "$$ \\frac{1}{y(y-1)}dy = \\frac{dx}{x} $$"
   ]
  },
  {
   "cell_type": "markdown",
   "id": "73fad2d7",
   "metadata": {
    "slideshow": {
     "slide_type": "slide"
    }
   },
   "source": [
    "$$ \\left( \\frac{A}{y} + \\frac{B}{y-1} \\right)dy = \\frac{1}{x}dx $$"
   ]
  },
  {
   "cell_type": "markdown",
   "id": "02dcbc8a",
   "metadata": {
    "slideshow": {
     "slide_type": "slide"
    }
   },
   "source": [
    "$$ \\left( \\frac{-1}{y} + \\frac{1}{y-1} \\right)dy = \\frac{1}{x}dx $$"
   ]
  },
  {
   "cell_type": "markdown",
   "id": "18003580",
   "metadata": {
    "slideshow": {
     "slide_type": "slide"
    }
   },
   "source": [
    "$$-\\ln|y| + \\ln|y-1| = \\ln|x| + \\ln c $$"
   ]
  },
  {
   "cell_type": "markdown",
   "id": "90ece1b4",
   "metadata": {
    "slideshow": {
     "slide_type": "slide"
    }
   },
   "source": [
    "$$ \\ln \\left| \\frac{y-1}{y} \\right| = \\ln |cx| $$"
   ]
  },
  {
   "cell_type": "markdown",
   "id": "c93af7bf",
   "metadata": {
    "slideshow": {
     "slide_type": "slide"
    }
   },
   "source": [
    "$$ \\frac{y-1}{y} = cx $$"
   ]
  },
  {
   "cell_type": "markdown",
   "id": "c912db6d",
   "metadata": {
    "slideshow": {
     "slide_type": "slide"
    }
   },
   "source": [
    "$$ y-1 = cxy $$"
   ]
  },
  {
   "cell_type": "markdown",
   "id": "9062e532",
   "metadata": {
    "slideshow": {
     "slide_type": "slide"
    }
   },
   "source": [
    "$$ y - cxy = 1 $$"
   ]
  },
  {
   "cell_type": "markdown",
   "id": "c178e606",
   "metadata": {
    "slideshow": {
     "slide_type": "slide"
    }
   },
   "source": [
    "$$ y(1-cx) = 1 $$"
   ]
  },
  {
   "cell_type": "markdown",
   "id": "6fb9d758",
   "metadata": {
    "slideshow": {
     "slide_type": "slide"
    }
   },
   "source": [
    "$$ y = \\frac{1}{1-cx} $$\n",
    "\n",
    "esta es nuestra familia uniparamétrica de soluciones explícitas. "
   ]
  },
  {
   "cell_type": "markdown",
   "id": "e020bd92",
   "metadata": {
    "slideshow": {
     "slide_type": "slide"
    }
   },
   "source": [
    "Pero note que de esta familia no podemos extraer el hecho de que $y = 0$ es solución de la ED dada. "
   ]
  },
  {
   "cell_type": "markdown",
   "id": "fd561962",
   "metadata": {
    "slideshow": {
     "slide_type": "slide"
    }
   },
   "source": [
    "## Punto 4 "
   ]
  },
  {
   "cell_type": "markdown",
   "id": "3bc82474",
   "metadata": {
    "slideshow": {
     "slide_type": "slide"
    }
   },
   "source": [
    "* **(15 puntos)** Determine los valores de m tales que la función $y = x^{m}$  sea una solución de la ecuación diferencial:\n",
    "\n",
    "$$ xy'' + 2y' = 0 $$\n",
    "\n",
    "* **(10 puntos)** Verifique sus respuestas. \n",
    "\n",
    "**Describa y justifique verbalmente sus procedimientos. Las descripciones y justificaciones verbales valen la mitad del punto.** \n"
   ]
  },
  {
   "cell_type": "markdown",
   "id": "cd6c566a",
   "metadata": {
    "slideshow": {
     "slide_type": "slide"
    }
   },
   "source": [
    "## Solución: "
   ]
  },
  {
   "cell_type": "markdown",
   "id": "a1b44838",
   "metadata": {
    "slideshow": {
     "slide_type": "slide"
    }
   },
   "source": [
    "Si $m$ es tal que $y = x^{m}$ es solución, entonces $y' = mx^{m-1}$ y $y'' = m(m-1)x^{m-2}$ y \n",
    "\n",
    "$$ x(y'') + 2y' = x(m(m-1)x^{m-2}) + 2mx^{m-1} = 0 $$\n"
   ]
  },
  {
   "cell_type": "markdown",
   "id": "12bdc4d0",
   "metadata": {
    "slideshow": {
     "slide_type": "slide"
    }
   },
   "source": [
    "De donde \n",
    "\n",
    "$$ x^{m-1}(m(m-1) + 2m) = 0 $$\n"
   ]
  },
  {
   "cell_type": "markdown",
   "id": "f3ad18d6",
   "metadata": {
    "slideshow": {
     "slide_type": "slide"
    }
   },
   "source": [
    "$$ x^{m-1} = 0 \\ \\ \\ \\ \\ \\vee \\ \\ \\ \\  m(m-1)+ 2m = 0 $$"
   ]
  },
  {
   "cell_type": "markdown",
   "id": "28a55ae9",
   "metadata": {
    "slideshow": {
     "slide_type": "slide"
    }
   },
   "source": [
    "De donde $y = 0$ es solución y $m^{2} - m + 2m = 0$"
   ]
  },
  {
   "cell_type": "markdown",
   "id": "67b077bd",
   "metadata": {
    "slideshow": {
     "slide_type": "slide"
    }
   },
   "source": [
    "$$ m^{2} + m = 0 $$"
   ]
  },
  {
   "cell_type": "markdown",
   "id": "b9bfea2b",
   "metadata": {
    "slideshow": {
     "slide_type": "slide"
    }
   },
   "source": [
    "$$ m(m+1) = 0 $$"
   ]
  },
  {
   "cell_type": "markdown",
   "id": "7f7ab552",
   "metadata": {
    "slideshow": {
     "slide_type": "slide"
    }
   },
   "source": [
    "de donde $m = 0$ o $m = -1$.\n"
   ]
  },
  {
   "cell_type": "markdown",
   "id": "b99198b5",
   "metadata": {
    "slideshow": {
     "slide_type": "slide"
    }
   },
   "source": [
    "Por lo tanto, las soluciones de nuestra ED son $y = 0$, $y = x^{0} = 1$ y $y = x^{-1}$. "
   ]
  },
  {
   "cell_type": "markdown",
   "id": "6cb376fe",
   "metadata": {
    "slideshow": {
     "slide_type": "slide"
    }
   },
   "source": [
    "## Verificación para estas tres soluciones encontradas"
   ]
  },
  {
   "cell_type": "markdown",
   "id": "1d1a1e9e",
   "metadata": {
    "slideshow": {
     "slide_type": "subslide"
    }
   },
   "source": [
    "Esta verificación se hace por sustitución directa"
   ]
  },
  {
   "cell_type": "markdown",
   "id": "8a227cf2",
   "metadata": {
    "slideshow": {
     "slide_type": "slide"
    }
   },
   "source": [
    "$$ xy'' + 2y' = 0 $$\n"
   ]
  },
  {
   "cell_type": "markdown",
   "id": "d4ad86b2",
   "metadata": {
    "slideshow": {
     "slide_type": "slide"
    }
   },
   "source": [
    "$$ x(0)'' + 2(0)' = 0 \\ \\ \\ \\ \\ \\ \\ \\ \\ \\ x(1)'' + 2(1)' = 0 \\ \\ \\ \\ \\ \\ \\ \\ \\ \\ \\ x\\left(x^{-1}\\right)'' + 2\\left(x^{-1}\\right)' = 0  $$"
   ]
  },
  {
   "cell_type": "markdown",
   "id": "f4b685b0",
   "metadata": {
    "slideshow": {
     "slide_type": "slide"
    }
   },
   "source": [
    "$$ x(0)' + 2(0) = 0 \\ \\ \\ \\ \\ \\ \\ \\ \\ \\ x(0)' + 2(0) = 0 \\ \\ \\ \\ \\ \\ \\ \\ \\ \\ \\ x\\left((-1)x^{-2}\\right)' + 2(-1)x^{-2} = 0  $$"
   ]
  },
  {
   "cell_type": "markdown",
   "id": "4d99d5d8",
   "metadata": {
    "slideshow": {
     "slide_type": "slide"
    }
   },
   "source": [
    "$$ x(0) + 2(0) = 0 \\ \\ \\ \\ \\ \\ \\ \\ \\ \\ x(0) + 2(0) = 0 \\ \\ \\ \\ \\ \\ \\ \\ \\ \\ \\ x\\left((-1)(-2)x^{-3}\\right) + 2(-1)x^{-2} = 0  $$"
   ]
  },
  {
   "cell_type": "markdown",
   "id": "7c4ddf07",
   "metadata": {
    "slideshow": {
     "slide_type": "slide"
    }
   },
   "source": [
    "$$ 0 = 0 \\ \\ \\ \\ \\ \\ \\ \\ \\ \\ 0 = 0 \\ \\ \\ \\ \\ \\ \\ \\ \\ \\ \\ \\left((-1)(-2)x^{-2}\\right) + 2(-1)x^{-2} = 0  $$"
   ]
  },
  {
   "cell_type": "markdown",
   "id": "0f7b46f4",
   "metadata": {
    "slideshow": {
     "slide_type": "slide"
    }
   },
   "source": [
    "$$ 0 = 0 \\ \\ \\ \\ \\ \\ \\ \\ \\ \\ 0 = 0 \\ \\ \\ \\ \\ \\ \\ \\ \\ \\ \\ 0 = 0  $$"
   ]
  },
  {
   "cell_type": "markdown",
   "id": "a8640ed8",
   "metadata": {
    "slideshow": {
     "slide_type": "slide"
    }
   },
   "source": [
    "Por lo tanto, las tres funciones encontradas son solución de la ED dada. "
   ]
  },
  {
   "cell_type": "markdown",
   "id": "ce9d3a45",
   "metadata": {
    "slideshow": {
     "slide_type": "slide"
    }
   },
   "source": [
    "# Solución con Sympy"
   ]
  },
  {
   "cell_type": "code",
   "execution_count": 2,
   "id": "c825eb7d",
   "metadata": {
    "slideshow": {
     "slide_type": "slide"
    }
   },
   "outputs": [
    {
     "data": {
      "text/latex": [
       "$\\displaystyle y{\\left(x \\right)} = C_{1} + \\frac{C_{2}}{x}$"
      ],
      "text/plain": [
       "Eq(y(x), C1 + C2/x)"
      ]
     },
     "execution_count": 2,
     "metadata": {},
     "output_type": "execute_result"
    }
   ],
   "source": [
    "from sympy import * \n",
    "x,y = symbols('x y')\n",
    "\n",
    "y = Function('y')(x)\n",
    "# $$ xy'' + 2y' = 0 $$\n",
    "eq = x*diff(y,x,2)+2*diff(y,x)\n",
    "\n",
    "dsolve(eq, y)\n"
   ]
  },
  {
   "cell_type": "markdown",
   "id": "1a4ed28b",
   "metadata": {
    "slideshow": {
     "slide_type": "slide"
    }
   },
   "source": [
    "de donde $y = c_{1}x^{0} + c_{2}x^{-1}$. "
   ]
  },
  {
   "cell_type": "markdown",
   "id": "b785b8f0",
   "metadata": {
    "slideshow": {
     "slide_type": "slide"
    }
   },
   "source": [
    "## Referencias\n",
    "\n",
    "* resolución de ED con sympy: https://docs.sympy.org/latest/modules/solvers/ode.html"
   ]
  },
  {
   "cell_type": "code",
   "execution_count": null,
   "id": "dfc36ba5",
   "metadata": {},
   "outputs": [],
   "source": []
  }
 ],
 "metadata": {
  "celltoolbar": "Slideshow",
  "kernelspec": {
   "display_name": "Python 3 (ipykernel)",
   "language": "python",
   "name": "python3"
  },
  "language_info": {
   "codemirror_mode": {
    "name": "ipython",
    "version": 3
   },
   "file_extension": ".py",
   "mimetype": "text/x-python",
   "name": "python",
   "nbconvert_exporter": "python",
   "pygments_lexer": "ipython3",
   "version": "3.9.7"
  },
  "rise": {
   "theme": "sky"
  }
 },
 "nbformat": 4,
 "nbformat_minor": 5
}
