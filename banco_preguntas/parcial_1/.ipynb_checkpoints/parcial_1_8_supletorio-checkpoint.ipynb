{
 "cells": [
  {
   "cell_type": "markdown",
   "id": "c2cbb96a",
   "metadata": {
    "slideshow": {
     "slide_type": "slide"
    }
   },
   "source": [
    "<table align=\"left\">\n",
    "  <td>\n",
    "    <a href=\"https://colab.research.google.com/github/marco-canas/innovaciones/blob/main/ref/geron/math_linear_algebra/linear_algebra.ipynb\" target=\"_parent\"><img src=\"https://colab.research.google.com/assets/colab-badge.svg\" alt=\"Open In Colab\"/></a>\n",
    "  </td>\n",
    "  <td>\n",
    "    <a target=\"_blank\" href=\"https://kaggle.com/kernels/welcome?src=https://github.com/marco-canas/innovaciones/blob/main/ref/geron/math_linear_algebra/linear_algebra.ipynb\"><img src=\"https://kaggle.com/static/images/open-in-kaggle.svg\" /></a>\n",
    "  </td>\n",
    "</table>"
   ]
  },
  {
   "cell_type": "markdown",
   "id": "91bec002",
   "metadata": {
    "slideshow": {
     "slide_type": "slide"
    }
   },
   "source": [
    "# Parcial 1_8 Supletorio "
   ]
  },
  {
   "cell_type": "markdown",
   "id": "0d052d72",
   "metadata": {
    "slideshow": {
     "slide_type": "slide"
    }
   },
   "source": [
    "51. a) Determine una solución implícita del PVI  \n",
    "\n",
    "$$ (2y + 2) dy - (4x^{3}+ 6x) dx = 0, \\ \\ \\ \\ \\  y(0) = -3. $$ "
   ]
  },
  {
   "cell_type": "markdown",
   "id": "8a94ee29",
   "metadata": {
    "slideshow": {
     "slide_type": "slide"
    }
   },
   "source": [
    "b) Utilice el inciso a) para encontrar una solución explícita $y = \\phi(x) $ del PVI.  "
   ]
  },
  {
   "cell_type": "markdown",
   "id": "6a3fb595",
   "metadata": {
    "slideshow": {
     "slide_type": "slide"
    }
   },
   "source": [
    "c) Considere su respuesta del inciso b) como una sola función. Use un programa de grafi cación o un SAC para trazar la gráfi ca de esta función y después utilice la gráfica para estimar su dominio.  "
   ]
  },
  {
   "cell_type": "markdown",
   "id": "d15fbaf4",
   "metadata": {
    "slideshow": {
     "slide_type": "slide"
    }
   },
   "source": [
    "d) Con la ayuda de un programa para determinar raíces de un SAC, determine la longitud aproximada del intervalo de definición más grande posible de la solución $y = \\phi(x)$ del inciso b). Utilice un programa de graficación o un SAC para trazar la gráfica de la curva solución para el PVI en este intervalo."
   ]
  },
  {
   "cell_type": "markdown",
   "id": "a0e773f2",
   "metadata": {
    "slideshow": {
     "slide_type": "slide"
    }
   },
   "source": [
    "## Punto 2"
   ]
  },
  {
   "cell_type": "markdown",
   "id": "9078348c",
   "metadata": {
    "slideshow": {
     "slide_type": "slide"
    }
   },
   "source": [
    "Toda ecuación autónoma de primer orden $dy/dx = f(y)$ es \n",
    "separable.   \n",
    "\n",
    "Encuentre las soluciones explícitas $y_{1}(x)$, $y_{2}(x)$, $y_{3}(x)$ y $y_{4}(x)$ de la ecuación diferencial \n",
    "\n",
    "$$ dy/dx =  y – y^{3}, $$\n",
    "\n",
    "que satisfagan, respectivamente las condiciones iniciales \n",
    "\n",
    "$$ y_{1}(0)= 2, \\ \\ \\ \\ \\  y2 (0) = 1/2, \\ \\ \\ \\ \\ y_{3}(0) = -1/2 $$\n",
    "\n",
    "y \n",
    "\n",
    "$$ y_{4}(0) = -2.$$  \n",
    "\n",
    "**(Opcional)** Utilice un Geogebra o Matplotlib para cada solución.   \n",
    "\n",
    "Dé el intervalo de definición exacto para cada solución."
   ]
  },
  {
   "cell_type": "markdown",
   "id": "d6fed727",
   "metadata": {
    "slideshow": {
     "slide_type": "slide"
    }
   },
   "source": [
    "## Punto 3 "
   ]
  },
  {
   "cell_type": "markdown",
   "id": "2ff45277",
   "metadata": {
    "slideshow": {
     "slide_type": "slide"
    }
   },
   "source": [
    "31. a) Encuentre una solución al problema con valores inicia\u0002les que consiste en la ecuación diferencial\n",
    "\n",
    "$$ \\frac{dy}{dx} = y^{2} - 4 $$\n",
    "\n",
    "y de las condiciones iniciales \n",
    "\n",
    "$$ y(0) = 2,\\ \\ \\ \\ \\ \\  y(0) = -2, \\ \\ \\ \\text{y} \\ \\ \\  y\\left(\\frac{1}{4}\\right) = 1. $$\n",
    "\n",
    "b) Encuentre la solución de la ecuación diferencial en el ejemplo 4 cuando se utiliza $\\ln c_{1}$  como la constante de integración del lado izquierdo en la solución y $4\\ln c_{1}$ se sustituye por $\\ln c$. Después resuelva los mismos problemas con valores iniciales que en el inicio a).\n"
   ]
  },
  {
   "cell_type": "markdown",
   "id": "47a912e8",
   "metadata": {
    "slideshow": {
     "slide_type": "slide"
    }
   },
   "source": [
    "## Punto 4 "
   ]
  },
  {
   "cell_type": "markdown",
   "id": "da0fb93b",
   "metadata": {
    "slideshow": {
     "slide_type": "slide"
    }
   },
   "source": [
    "Determine un valor posible para $x_{0}$  para el que la gráfica de la solución del problema con valores iniciales \n",
    "\n",
    "$$ y'+ 2y= 3x – 6, \\ \\ \\ \\ \\ \\ \\  y(x_{0}) = 0$$\n",
    "\n",
    "es tangente al eje $x$ en $(x_{0}, 0)$.   \n",
    "\n",
    "Explique su razonamiento.\n",
    "\n",
    "Recuerde que en los puntos del gráfico donde una función tiene una recta tangente horizontal, la derivada de la función es cero. "
   ]
  },
  {
   "cell_type": "markdown",
   "id": "a1dbfe7f",
   "metadata": {
    "slideshow": {
     "slide_type": "slide"
    }
   },
   "source": [
    "# Solución del parcial supletorio sobre clasificación, representación gráfica de una ED, aplicaciones de las ED y ED separables "
   ]
  },
  {
   "cell_type": "markdown",
   "id": "815fec90",
   "metadata": {
    "slideshow": {
     "slide_type": "slide"
    }
   },
   "source": [
    "## Punto 1"
   ]
  },
  {
   "cell_type": "markdown",
   "id": "a5f977b9",
   "metadata": {
    "slideshow": {
     "slide_type": "slide"
    }
   },
   "source": [
    "51. a) Determine una solución implícita del PVI  \n",
    "\n",
    "$$ (2y + 2) dy - (4x^{3}+ 6x) dx = 0, \\ \\ \\ \\ \\  y(0) = -3. $$ "
   ]
  },
  {
   "cell_type": "markdown",
   "id": "721fcd35",
   "metadata": {
    "slideshow": {
     "slide_type": "slide"
    }
   },
   "source": [
    "## solución parte 1 punto 1"
   ]
  },
  {
   "cell_type": "markdown",
   "id": "44181bfc",
   "metadata": {
    "slideshow": {
     "slide_type": "slide"
    }
   },
   "source": [
    "$$ (2y + 2) dy - (4x^{3}+ 6x) dx = 0, $$\n",
    "\n",
    "Empecemos transponiendo el segundo término del lado izquierdo:\n"
   ]
  },
  {
   "cell_type": "markdown",
   "id": "26d0cc19",
   "metadata": {
    "slideshow": {
     "slide_type": "slide"
    }
   },
   "source": [
    "$$ (2y + 2) dy = (4x^{3}+ 6x) dx $$"
   ]
  },
  {
   "cell_type": "markdown",
   "id": "bba96258",
   "metadata": {
    "slideshow": {
     "slide_type": "slide"
    }
   },
   "source": [
    "$$ \\int(2y + 2) dy = \\int(4x^{3}+ 6x) dx $$"
   ]
  },
  {
   "cell_type": "markdown",
   "id": "f6142af0",
   "metadata": {
    "slideshow": {
     "slide_type": "slide"
    }
   },
   "source": []
  },
  {
   "cell_type": "markdown",
   "id": "673e7703",
   "metadata": {
    "slideshow": {
     "slide_type": "slide"
    }
   },
   "source": [
    "## Punto 2"
   ]
  },
  {
   "cell_type": "code",
   "execution_count": null,
   "id": "673fcb6c",
   "metadata": {},
   "outputs": [],
   "source": []
  },
  {
   "cell_type": "markdown",
   "id": "c34d39a2",
   "metadata": {},
   "source": [
    "## Punto 3"
   ]
  },
  {
   "cell_type": "code",
   "execution_count": null,
   "id": "6866ea09",
   "metadata": {
    "slideshow": {
     "slide_type": "slide"
    }
   },
   "outputs": [],
   "source": []
  },
  {
   "cell_type": "markdown",
   "id": "af6dd484",
   "metadata": {},
   "source": [
    "## Punto 4"
   ]
  },
  {
   "cell_type": "code",
   "execution_count": null,
   "id": "dfa8b75c",
   "metadata": {},
   "outputs": [],
   "source": []
  },
  {
   "cell_type": "code",
   "execution_count": null,
   "id": "92280410",
   "metadata": {},
   "outputs": [],
   "source": []
  }
 ],
 "metadata": {
  "celltoolbar": "Slideshow",
  "kernelspec": {
   "display_name": "Python 3 (ipykernel)",
   "language": "python",
   "name": "python3"
  },
  "language_info": {
   "codemirror_mode": {
    "name": "ipython",
    "version": 3
   },
   "file_extension": ".py",
   "mimetype": "text/x-python",
   "name": "python",
   "nbconvert_exporter": "python",
   "pygments_lexer": "ipython3",
   "version": "3.9.7"
  }
 },
 "nbformat": 4,
 "nbformat_minor": 5
}
