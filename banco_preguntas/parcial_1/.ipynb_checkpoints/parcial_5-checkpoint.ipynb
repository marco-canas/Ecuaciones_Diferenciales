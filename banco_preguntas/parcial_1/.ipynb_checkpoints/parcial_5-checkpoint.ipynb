{
 "cells": [
  {
   "cell_type": "markdown",
   "id": "96ff1269",
   "metadata": {
    "slideshow": {
     "slide_type": "slide"
    }
   },
   "source": [
    "<table align=\"left\">\n",
    "  <td>\n",
    "    <a href=\"https://colab.research.google.com/github/marco-canas/edo/blob/main/clases/class_15/7_6_sist_laplace.ipynb#scrollTo=fb4c467b\" target=\"_parent\"><img src=\"https://colab.research.google.com/assets/colab-badge.svg\" alt=\"Open In Colab\"/></a>\n",
    "  </td>\n",
    "</table>"
   ]
  },
  {
   "cell_type": "markdown",
   "id": "b5877e6d",
   "metadata": {
    "slideshow": {
     "slide_type": "slide"
    }
   },
   "source": [
    "# Parcial 5"
   ]
  },
  {
   "cell_type": "markdown",
   "id": "53d5cc79",
   "metadata": {
    "slideshow": {
     "slide_type": "slide"
    }
   },
   "source": [
    "## Punto 1 "
   ]
  },
  {
   "cell_type": "markdown",
   "id": "1c309d2e",
   "metadata": {
    "slideshow": {
     "slide_type": "slide"
    }
   },
   "source": [
    "$y = c_{1} e^{3x} + c_{2} e^{-x} - 2x$ es una familia de soluciones de dos parámetros de la ED de segundo orden $y'' – 2y' - 3y = 6x + 4$.   \n",
    "\n",
    "Determine una solución del PVI de segundo orden que consiste en esta ecuación diferencial y en \n",
    "las condiciones iniciales dadas.\n",
    "\n",
    "$$ y(-1) = 0, \\ \\  \\ \\ \\ y'(-1) = 1 $$\n"
   ]
  },
  {
   "cell_type": "markdown",
   "id": "8cc631a3",
   "metadata": {
    "slideshow": {
     "slide_type": "slide"
    }
   },
   "source": [
    "## Punto 2"
   ]
  },
  {
   "cell_type": "markdown",
   "id": "8c2dfacd",
   "metadata": {
    "slideshow": {
     "slide_type": "slide"
    }
   },
   "source": [
    "## Modelo matemático  \n",
    "\n",
    "### Crecimiento de la población  \n",
    "\n",
    "las ecuaciones diferenciales se pueden usar para describir o modelar diversos sistemas \n",
    "físicos.   \n",
    "\n",
    "En este problema suponemos que un modelo de crecimiento de la población de una pequeña comunidad está dado por el problema con valores iniciales \n",
    "\n",
    "$$\\frac{dp}{dt} = \\frac{1}{2} p(t),\\ \\ \\ \\ p(0) = 100 $$\n",
    "\n",
    "donde $p$ es el número de personas en la comunidad y el tiempo $t$ se mide en años. \n",
    "\n",
    "* (3 puntos) ¿Qué tan rápido, es decir, con qué razón está aumentando la población en $t = 0$? \n",
    "\n",
    "* (3 puntos) ¿Qué tan rápido está creciendo la población cuando la población es de 500?\n",
    "\n",
    "* (4 puntos) Resuelva el PVI. "
   ]
  },
  {
   "cell_type": "markdown",
   "id": "29376383",
   "metadata": {
    "slideshow": {
     "slide_type": "slide"
    }
   },
   "source": [
    "## Punto 3 "
   ]
  },
  {
   "cell_type": "markdown",
   "id": "2cb62459",
   "metadata": {
    "slideshow": {
     "slide_type": "slide"
    }
   },
   "source": [
    "Determine los valores de $m$ tales que la función $y = x^{m}$ sea una solución de la ecuación diferencial:\n"
   ]
  },
  {
   "cell_type": "markdown",
   "id": "dc489cf0",
   "metadata": {
    "slideshow": {
     "slide_type": "slide"
    }
   },
   "source": [
    "$$ x^{2}y'' -7xy'  + 15y = 0 $$"
   ]
  },
  {
   "cell_type": "markdown",
   "id": "19d0c453",
   "metadata": {
    "slideshow": {
     "slide_type": "slide"
    }
   },
   "source": [
    "Describa simbólica y verbalmente su proceso de solución justificando cada paso. (La descripción y justificación vale la mitad del punto). "
   ]
  },
  {
   "cell_type": "markdown",
   "id": "0ea91138",
   "metadata": {
    "slideshow": {
     "slide_type": "slide"
    }
   },
   "source": [
    "## Punto 4 "
   ]
  },
  {
   "cell_type": "markdown",
   "id": "cbae0dc3",
   "metadata": {
    "slideshow": {
     "slide_type": "slide"
    }
   },
   "source": [
    "* Determine una función cuyo cuadrado más el cuadrado de su derivada es igual a 1.\n",
    "* Dibuje tal función en el intervalo $[0,2\\pi]$.\n",
    "* verifique su respuesta. "
   ]
  },
  {
   "cell_type": "markdown",
   "id": "e04e3a39",
   "metadata": {
    "slideshow": {
     "slide_type": "slide"
    }
   },
   "source": [
    "## Punto 5 "
   ]
  },
  {
   "cell_type": "markdown",
   "id": "677977e0",
   "metadata": {
    "slideshow": {
     "slide_type": "slide"
    }
   },
   "source": [
    "* (10 puntos) Resuelva la ecuación diferencial dada por separación de variables. \n",
    "\n",
    "$$ \\frac{dy}{dx} = \\frac{xy + 2y - x - 2}{xy - 3y + x - 3} $$\n",
    "\n",
    "describa verbalmente cada paso y justifique. la descipción verbal y las justificaciones valen la mitad del punto. \n",
    "\n",
    "* (10 puntos) Cñlasifique la ecuación dada y verifique la solución de la ecuación encontrada. "
   ]
  },
  {
   "cell_type": "markdown",
   "id": "d9ac4c03",
   "metadata": {
    "slideshow": {
     "slide_type": "slide"
    }
   },
   "source": [
    "## Solución:"
   ]
  },
  {
   "cell_type": "markdown",
   "id": "133f9c03",
   "metadata": {
    "slideshow": {
     "slide_type": "slide"
    }
   },
   "source": [
    "$$ \\frac{dy}{dx} = \\frac{xy + 2y - x - 2}{xy - 3y + x - 3} $$"
   ]
  },
  {
   "cell_type": "markdown",
   "id": "d8d52e4d",
   "metadata": {
    "slideshow": {
     "slide_type": "slide"
    }
   },
   "source": [
    "Note que la ecuación es de primer orden. "
   ]
  },
  {
   "cell_type": "markdown",
   "id": "2dd94232",
   "metadata": {
    "slideshow": {
     "slide_type": "slide"
    }
   },
   "source": [
    "$$ \\frac{dy}{dx} = \\frac{(xy + 2y) - (x + 2)}{(xy - 3y) + (x - 3)} $$"
   ]
  },
  {
   "cell_type": "markdown",
   "id": "aadc9ee8",
   "metadata": {
    "slideshow": {
     "slide_type": "slide"
    }
   },
   "source": [
    "$$ \\frac{dy}{dx} = \\frac{y(x + 2) - (x + 2)}{y(x - 3) + (x - 3)} $$"
   ]
  },
  {
   "cell_type": "markdown",
   "id": "5995de65",
   "metadata": {
    "slideshow": {
     "slide_type": "slide"
    }
   },
   "source": [
    "$$ \\frac{dy}{dx} = \\frac{(x + 2)(y-1)}{(x - 3)(y+1)} $$"
   ]
  },
  {
   "cell_type": "markdown",
   "id": "b7d5f89f",
   "metadata": {
    "slideshow": {
     "slide_type": "slide"
    }
   },
   "source": [
    "Por lo tanto, la ecuación diferencial es separable pues se deja descomponer en una forma \n",
    "\n",
    "$$y' = f(x)g(y)$$\n"
   ]
  },
  {
   "cell_type": "code",
   "execution_count": null,
   "id": "7cba163a",
   "metadata": {
    "slideshow": {
     "slide_type": "slide"
    }
   },
   "outputs": [],
   "source": []
  },
  {
   "cell_type": "code",
   "execution_count": null,
   "id": "c3d40acd",
   "metadata": {},
   "outputs": [],
   "source": []
  },
  {
   "cell_type": "code",
   "execution_count": null,
   "id": "c4a1441d",
   "metadata": {},
   "outputs": [],
   "source": []
  }
 ],
 "metadata": {
  "celltoolbar": "Slideshow",
  "kernelspec": {
   "display_name": "Python 3 (ipykernel)",
   "language": "python",
   "name": "python3"
  },
  "language_info": {
   "codemirror_mode": {
    "name": "ipython",
    "version": 3
   },
   "file_extension": ".py",
   "mimetype": "text/x-python",
   "name": "python",
   "nbconvert_exporter": "python",
   "pygments_lexer": "ipython3",
   "version": "3.9.7"
  }
 },
 "nbformat": 4,
 "nbformat_minor": 5
}
