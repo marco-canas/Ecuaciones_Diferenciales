{
 "cells": [
  {
   "cell_type": "markdown",
   "id": "dfec0138",
   "metadata": {},
   "source": [
    "<table align=\"left\">\n",
    "  <td>\n",
    "    <a href=\"https://colab.research.google.com/github/marco-canas/Ecuaciones_Diferenciales/blob/main/asesoria_EDO/ejer_sec_3.1/Ejer_22_sec_3.1_Boyce_DiPrima.ipynb\" target=\"_parent\"><img src=\"https://colab.research.google.com/assets/colab-badge.svg\" alt=\"Open In Colab\"/></a>\n",
    "  </td>\n",
    "  <td>\n",
    "    <a target=\"_blank\" href=\"https://kaggle.com/kernels/welcome?src=https://github.com/marco-canas/Ecuaciones_Diferenciales/blob/main/asesoria_EDO/ejer_sec_3.1/Ejer_22_sec_3.1_Boyce_DiPrima.ipynb\"><img src=\"https://kaggle.com/static/images/open-in-kaggle.svg\" /></a>\n",
    "  </td>\n",
    "</table>"
   ]
  },
  {
   "cell_type": "markdown",
   "id": "d00cfd23",
   "metadata": {},
   "source": [
    "# Parcial 4_8"
   ]
  },
  {
   "cell_type": "markdown",
   "id": "f9cb3f76",
   "metadata": {},
   "source": [
    "## Asignación aleatoria de problemas para este parcial"
   ]
  },
  {
   "cell_type": "code",
   "execution_count": 1,
   "id": "cffba0f5",
   "metadata": {},
   "outputs": [
    {
     "data": {
      "text/html": [
       "<div>\n",
       "<style scoped>\n",
       "    .dataframe tbody tr th:only-of-type {\n",
       "        vertical-align: middle;\n",
       "    }\n",
       "\n",
       "    .dataframe tbody tr th {\n",
       "        vertical-align: top;\n",
       "    }\n",
       "\n",
       "    .dataframe thead th {\n",
       "        text-align: right;\n",
       "    }\n",
       "</style>\n",
       "<table border=\"1\" class=\"dataframe\">\n",
       "  <thead>\n",
       "    <tr style=\"text-align: right;\">\n",
       "      <th></th>\n",
       "      <th>student</th>\n",
       "      <th>Punto 1 Seccion 7.1</th>\n",
       "      <th>Punto 2 Sección 7.2 primera parte</th>\n",
       "      <th>Punto 2 Sección 7.2 Segunda parte</th>\n",
       "      <th>Punto 3 Sección 7.6</th>\n",
       "    </tr>\n",
       "  </thead>\n",
       "  <tbody>\n",
       "    <tr>\n",
       "      <th>1</th>\n",
       "      <td>juliana.aguilar@udea.edu.co</td>\n",
       "      <td>7</td>\n",
       "      <td>28</td>\n",
       "      <td>35</td>\n",
       "      <td>13</td>\n",
       "    </tr>\n",
       "    <tr>\n",
       "      <th>2</th>\n",
       "      <td>angel.arrieta@udea.edu.co</td>\n",
       "      <td>28</td>\n",
       "      <td>28</td>\n",
       "      <td>39</td>\n",
       "      <td>6</td>\n",
       "    </tr>\n",
       "    <tr>\n",
       "      <th>3</th>\n",
       "      <td>danis.canchila@udea.edu.co</td>\n",
       "      <td>8</td>\n",
       "      <td>10</td>\n",
       "      <td>41</td>\n",
       "      <td>3</td>\n",
       "    </tr>\n",
       "    <tr>\n",
       "      <th>4</th>\n",
       "      <td>sandra.cotuab@udea.edu.co</td>\n",
       "      <td>38</td>\n",
       "      <td>1</td>\n",
       "      <td>41</td>\n",
       "      <td>3</td>\n",
       "    </tr>\n",
       "    <tr>\n",
       "      <th>5</th>\n",
       "      <td>katherine.gallo@udea.edu.co</td>\n",
       "      <td>2</td>\n",
       "      <td>18</td>\n",
       "      <td>37</td>\n",
       "      <td>11</td>\n",
       "    </tr>\n",
       "    <tr>\n",
       "      <th>6</th>\n",
       "      <td>vmanuel.palacio@udea.edu.co</td>\n",
       "      <td>13</td>\n",
       "      <td>22</td>\n",
       "      <td>34</td>\n",
       "      <td>4</td>\n",
       "    </tr>\n",
       "    <tr>\n",
       "      <th>7</th>\n",
       "      <td>valentina.perezp@udea.edu.co</td>\n",
       "      <td>8</td>\n",
       "      <td>10</td>\n",
       "      <td>34</td>\n",
       "      <td>13</td>\n",
       "    </tr>\n",
       "    <tr>\n",
       "      <th>8</th>\n",
       "      <td>jolman.rivera@udea.edu.co</td>\n",
       "      <td>20</td>\n",
       "      <td>9</td>\n",
       "      <td>38</td>\n",
       "      <td>13</td>\n",
       "    </tr>\n",
       "    <tr>\n",
       "      <th>9</th>\n",
       "      <td>laura.ruiz1@udea.edu.co</td>\n",
       "      <td>32</td>\n",
       "      <td>21</td>\n",
       "      <td>38</td>\n",
       "      <td>8</td>\n",
       "    </tr>\n",
       "    <tr>\n",
       "      <th>10</th>\n",
       "      <td>eliana.sotov@udea.edu.co</td>\n",
       "      <td>11</td>\n",
       "      <td>16</td>\n",
       "      <td>32</td>\n",
       "      <td>10</td>\n",
       "    </tr>\n",
       "    <tr>\n",
       "      <th>11</th>\n",
       "      <td>robert.velasquez@udea.edu.co</td>\n",
       "      <td>20</td>\n",
       "      <td>15</td>\n",
       "      <td>34</td>\n",
       "      <td>12</td>\n",
       "    </tr>\n",
       "  </tbody>\n",
       "</table>\n",
       "</div>"
      ],
      "text/plain": [
       "                         student  Punto 1 Seccion 7.1  \\\n",
       "1    juliana.aguilar@udea.edu.co                    7   \n",
       "2      angel.arrieta@udea.edu.co                   28   \n",
       "3     danis.canchila@udea.edu.co                    8   \n",
       "4      sandra.cotuab@udea.edu.co                   38   \n",
       "5    katherine.gallo@udea.edu.co                    2   \n",
       "6    vmanuel.palacio@udea.edu.co                   13   \n",
       "7   valentina.perezp@udea.edu.co                    8   \n",
       "8      jolman.rivera@udea.edu.co                   20   \n",
       "9        laura.ruiz1@udea.edu.co                   32   \n",
       "10      eliana.sotov@udea.edu.co                   11   \n",
       "11  robert.velasquez@udea.edu.co                   20   \n",
       "\n",
       "    Punto 2 Sección 7.2 primera parte  Punto 2 Sección 7.2 Segunda parte  \\\n",
       "1                                  28                                 35   \n",
       "2                                  28                                 39   \n",
       "3                                  10                                 41   \n",
       "4                                   1                                 41   \n",
       "5                                  18                                 37   \n",
       "6                                  22                                 34   \n",
       "7                                  10                                 34   \n",
       "8                                   9                                 38   \n",
       "9                                  21                                 38   \n",
       "10                                 16                                 32   \n",
       "11                                 15                                 34   \n",
       "\n",
       "    Punto 3 Sección 7.6  \n",
       "1                    13  \n",
       "2                     6  \n",
       "3                     3  \n",
       "4                     3  \n",
       "5                    11  \n",
       "6                     4  \n",
       "7                    13  \n",
       "8                    13  \n",
       "9                     8  \n",
       "10                   10  \n",
       "11                   12  "
      ]
     },
     "execution_count": 1,
     "metadata": {},
     "output_type": "execute_result"
    }
   ],
   "source": [
    "import numpy as np \n",
    "import pandas as pd \n",
    "\n",
    "np.random.seed(40) \n",
    "\n",
    "laplace_def = np.random.randint(low = 1, high = 40, size = 11) \n",
    "\n",
    "inverse_transform = np.random.randint(low = 1, high = 30, size = 11)\n",
    "\n",
    "pvi_1_2_order = np.random.randint(low = 31, high = 42, size = 11) \n",
    "\n",
    "system_pvi = np.random.randint(low = 1, high = 14, size = 11) \n",
    "\n",
    "student = ['juliana.aguilar@udea.edu.co',\n",
    "         'angel.arrieta@udea.edu.co',\n",
    "         'danis.canchila@udea.edu.co',\n",
    "         'sandra.cotuab@udea.edu.co',\n",
    "         'katherine.gallo@udea.edu.co',\n",
    "         'vmanuel.palacio@udea.edu.co',\n",
    "         'valentina.perezp@udea.edu.co',\n",
    "         'jolman.rivera@udea.edu.co',\n",
    "         'laura.ruiz1@udea.edu.co',\n",
    "         'eliana.sotov@udea.edu.co',\n",
    "         'robert.velasquez@udea.edu.co']\n",
    "\n",
    "df = pd.DataFrame({'student':student,\n",
    "                   'Punto 1 Seccion 7.1': laplace_def , \n",
    "                   'Punto 2 Sección 7.2 primera parte': inverse_transform, \n",
    "                   'Punto 2 Sección 7.2 Segunda parte': pvi_1_2_order,\n",
    "                   'Punto 3 Sección 7.6': system_pvi}, \n",
    "                  index = [1,2,3,4,5,6,7,8,9,10,11]) \n",
    "df "
   ]
  },
  {
   "cell_type": "markdown",
   "id": "a3aa0242",
   "metadata": {},
   "source": [
    "## Punto 1 (25 puntos) "
   ]
  },
  {
   "cell_type": "markdown",
   "id": "d7b4d323",
   "metadata": {},
   "source": [
    "La transformada convierte una función en otra. "
   ]
  },
  {
   "cell_type": "markdown",
   "id": "68faa406",
   "metadata": {},
   "source": [
    "Ejercicio 20 de la sección 7.1 de Zill, página 277."
   ]
  },
  {
   "cell_type": "markdown",
   "id": "a06dbf21",
   "metadata": {},
   "source": [
    "use el teorema 7.1.1 para encontrar  $L\\{ f(t) \\}$.\n",
    "\n",
    "$$ f(t) = t^{5} $$"
   ]
  },
  {
   "cell_type": "markdown",
   "id": "8e84a824",
   "metadata": {},
   "source": [
    "## Punto 2 (25 puntos) "
   ]
  },
  {
   "cell_type": "markdown",
   "id": "5fdad7a0",
   "metadata": {},
   "source": [
    "### Punto 3. Primera parte (10 puntos)"
   ]
  },
  {
   "cell_type": "markdown",
   "id": "a2625c57",
   "metadata": {},
   "source": [
    "Ejercicio 9 de la sección 7.2 de Zill, página 285."
   ]
  },
  {
   "cell_type": "code",
   "execution_count": null,
   "id": "51d5cc37",
   "metadata": {},
   "outputs": [],
   "source": []
  },
  {
   "cell_type": "markdown",
   "id": "660a3788",
   "metadata": {},
   "source": [
    "### Punto 2. Segunda parte (15 puntos)"
   ]
  },
  {
   "cell_type": "markdown",
   "id": "2ff5a946",
   "metadata": {},
   "source": [
    "Ejercicio 38 de la sección 7.2 de Zill, página 286."
   ]
  },
  {
   "cell_type": "markdown",
   "id": "0a913c58",
   "metadata": {},
   "source": [
    "\\begin{align*}\n",
    " & = \\\\ \n",
    " & = \n",
    "\\end{align*}\n",
    "\n",
    "$$  $$"
   ]
  },
  {
   "cell_type": "markdown",
   "id": "6da02d35",
   "metadata": {},
   "source": [
    "## Punto 3 (25 puntos)"
   ]
  },
  {
   "cell_type": "markdown",
   "id": "77b943c7",
   "metadata": {},
   "source": [
    "Ejercicio 13 de la sección 7.6 de Zill, página 315."
   ]
  },
  {
   "cell_type": "markdown",
   "id": "bed40eab",
   "metadata": {},
   "source": [
    "\\begin{align*}\n",
    "x'' & -5x + 2y \\\\\n",
    "y'' & = 2x - 2y \n",
    "\\end{align*}\n",
    "\n",
    "$$ x(0) = 0, \\ \\ \\ x'(0) = 1, \\ \\ \\ y(0) = 1, \\ \\ \\ y'(0) = 0  $$"
   ]
  },
  {
   "cell_type": "code",
   "execution_count": 3,
   "id": "cb54d4c6",
   "metadata": {},
   "outputs": [],
   "source": [
    "import numpy as np \n",
    "from sympy import * "
   ]
  },
  {
   "cell_type": "code",
   "execution_count": 4,
   "id": "886463fd",
   "metadata": {},
   "outputs": [],
   "source": [
    "t = symbols('t', real = True, nonegative = True) \n",
    "s = symbols('s', real = True, positive = True) \n",
    "x,X,y,Y = symbols('x,X,y,Y')\n",
    "x = Function('x')\n",
    "y = Function('y')\n",
    "\n",
    "X = Function('X') \n",
    "Y = Function('Y') "
   ]
  },
  {
   "cell_type": "code",
   "execution_count": 5,
   "id": "9805dacf",
   "metadata": {},
   "outputs": [],
   "source": [
    "def L(f):\n",
    "    return laplace_transform(f,t,s, noconds = True)  \n",
    "\n",
    "def inv_L(F):\n",
    "    return inverse_laplace_transform(F,s,t, noconds = True)  \n",
    "\n",
    "def L_diff(f, f0, f_p0 = 0, f_pp0 = 0 , n = 1): # esta función es para calcular transformadas de derivadas\n",
    "    \"\"\"\n",
    "    n puede asumir los valores de 0,1,2,3 y representa el orden de la derivada\n",
    "    \"\"\"\n",
    "    F = str(f).upper()\n",
    "    F = symbols(F) \n",
    "    F = Function(F)(s) \n",
    "    if n == 0:\n",
    "        L = F\n",
    "    elif n == 1:\n",
    "        L = s*F - f0\n",
    "    elif n == 2:\n",
    "        L = s**2*F - s*f0 - f_p0\n",
    "    elif n == 3:\n",
    "        L = s**3*F - s**2*f0 - s*f_p0 - f_pp0\n",
    "    return L "
   ]
  },
  {
   "cell_type": "code",
   "execution_count": 8,
   "id": "8b663901",
   "metadata": {},
   "outputs": [
    {
     "data": {
      "text/latex": [
       "$\\displaystyle \\frac{d^{2}}{d t^{2}} x{\\left(t \\right)} = - 5 x{\\left(t \\right)} + 2 y{\\left(t \\right)}$"
      ],
      "text/plain": [
       "Eq(Derivative(x(t), (t, 2)), -5*x(t) + 2*y(t))"
      ]
     },
     "metadata": {},
     "output_type": "display_data"
    },
    {
     "data": {
      "text/latex": [
       "$\\displaystyle \\frac{d^{2}}{d t^{2}} y{\\left(t \\right)} = 2 x{\\left(t \\right)} - 2 y{\\left(t \\right)}$"
      ],
      "text/plain": [
       "Eq(Derivative(y(t), (t, 2)), 2*x(t) - 2*y(t))"
      ]
     },
     "metadata": {},
     "output_type": "display_data"
    }
   ],
   "source": [
    "# \\begin{align*}\n",
    "# x'' & -5x + 2y \\\\\n",
    "# y'' & = 2x - 2y \n",
    "# \\end{align*}\n",
    "\n",
    "# $$ x(0) = 0, \\ \\ \\ x'(0) = 1, \\ \\ \\ y(0) = 1, \\ \\ \\ y'(0) = 0  $$\n",
    "\n",
    "eq1 = Eq(diff(x(t),t,2), -5*x(t) + 2*y(t))\n",
    "eq2 = Eq(diff(y(t),t,2), 2*x(t) - 2*y(t)) \n",
    "\n",
    "display(eq1, eq2) "
   ]
  },
  {
   "cell_type": "code",
   "execution_count": 11,
   "id": "7fda033f",
   "metadata": {},
   "outputs": [
    {
     "data": {
      "text/latex": [
       "$\\displaystyle s^{2} X{\\left(s \\right)} - 1 = - 5 X{\\left(s \\right)} + 2 Y{\\left(s \\right)}$"
      ],
      "text/plain": [
       "Eq(s**2*X(s) - 1, -5*X(s) + 2*Y(s))"
      ]
     },
     "metadata": {},
     "output_type": "display_data"
    },
    {
     "data": {
      "text/latex": [
       "$\\displaystyle s^{2} Y{\\left(s \\right)} - s = 2 X{\\left(s \\right)} - 2 Y{\\left(s \\right)}$"
      ],
      "text/plain": [
       "Eq(s**2*Y(s) - s, 2*X(s) - 2*Y(s))"
      ]
     },
     "metadata": {},
     "output_type": "display_data"
    }
   ],
   "source": [
    "# \\begin{align*}\n",
    "# x'' & -5x + 2y \\\\\n",
    "# y'' & = 2x - 2y \n",
    "# \\end{align*}\n",
    "\n",
    "# $$ x(0) = 0, \\ \\ \\ x'(0) = 1, \\ \\ \\ y(0) = 1, \\ \\ \\ y'(0) = 0  $$\n",
    "\n",
    "eq1_laplace = Eq(L_diff(x,0,1, n = 2), -5*L_diff(x, 0,1, n = 0) + 2*L_diff(y,1,0, n = 0) )  # x' & = x - 2y \\\\\n",
    "eq2_laplace = Eq(L_diff(y,1,0, n = 2), 2*L_diff(x,0,1, n = 0) - 2*L_diff(y, 1,0, n = 0) )   # y' & = 5x - y\n",
    "display(eq1_laplace, eq2_laplace)    # $$ x(0) = -1, \\ \\  \\ \\ \\ y(0) = 2. $$"
   ]
  },
  {
   "cell_type": "code",
   "execution_count": 12,
   "id": "5bb2c067",
   "metadata": {},
   "outputs": [
    {
     "data": {
      "text/latex": [
       "$\\displaystyle \\frac{s^{2} + 2 s + 2}{s^{4} + 7 s^{2} + 6}$"
      ],
      "text/plain": [
       "(s**2 + 2*s + 2)/(s**4 + 7*s**2 + 6)"
      ]
     },
     "metadata": {},
     "output_type": "display_data"
    },
    {
     "data": {
      "text/latex": [
       "$\\displaystyle \\frac{s^{3} + 5 s + 2}{s^{4} + 7 s^{2} + 6}$"
      ],
      "text/plain": [
       "(s**3 + 5*s + 2)/(s**4 + 7*s**2 + 6)"
      ]
     },
     "metadata": {},
     "output_type": "display_data"
    }
   ],
   "source": [
    "sol_laplace = solve([eq1_laplace, eq2_laplace],(X(s), Y(s)) )  # No olvide que solve() devuelve un discionario de Python\n",
    "display(sol_laplace[X(s)], sol_laplace[Y(s)]) "
   ]
  },
  {
   "cell_type": "code",
   "execution_count": 18,
   "id": "4d4f3118",
   "metadata": {},
   "outputs": [
    {
     "data": {
      "text/latex": [
       "$\\displaystyle \\frac{s^{3} + 5 s + 2}{s^{4} + 7 s^{2} + 6}$"
      ],
      "text/plain": [
       "(s**3 + 5*s + 2)/(s**4 + 7*s**2 + 6)"
      ]
     },
     "execution_count": 18,
     "metadata": {},
     "output_type": "execute_result"
    }
   ],
   "source": [
    "Y = sol_laplace[Y(s)]\n",
    "Y "
   ]
  },
  {
   "cell_type": "markdown",
   "id": "210e104e",
   "metadata": {},
   "source": [
    "Note que el trinomio $s^{4} + 7s^{2} + 6$ es un trinomio de la forma $s^{2n}+ bs^{n} + c$ y estos trinomios se factorizan siguiendo la regla de Baldor. "
   ]
  },
  {
   "cell_type": "code",
   "execution_count": 19,
   "id": "9df86b2f",
   "metadata": {},
   "outputs": [
    {
     "data": {
      "text/latex": [
       "$\\displaystyle \\left(s^{2} + 1\\right) \\left(s^{2} + 6\\right)$"
      ],
      "text/plain": [
       "(s**2 + 1)*(s**2 + 6)"
      ]
     },
     "execution_count": 19,
     "metadata": {},
     "output_type": "execute_result"
    }
   ],
   "source": [
    "(s**4+7*s**2+6).factor() "
   ]
  },
  {
   "cell_type": "markdown",
   "id": "485518e1",
   "metadata": {},
   "source": [
    "Ahora, veamos la descomposición en fracciones parciales"
   ]
  },
  {
   "cell_type": "code",
   "execution_count": 20,
   "id": "2a63b70e",
   "metadata": {},
   "outputs": [
    {
     "data": {
      "text/latex": [
       "$\\displaystyle \\frac{s^{3} + 5 s + 2}{\\left(s^{2} + 1\\right) \\left(s^{2} + 6\\right)}$"
      ],
      "text/plain": [
       "(s**3 + 5*s + 2)/((s**2 + 1)*(s**2 + 6))"
      ]
     },
     "execution_count": 20,
     "metadata": {},
     "output_type": "execute_result"
    }
   ],
   "source": [
    "Y = Y.factor() \n",
    "Y "
   ]
  },
  {
   "cell_type": "markdown",
   "id": "36235661",
   "metadata": {},
   "source": [
    "Y como estos factores son cuadracos no reducibles a lineales, entonces las fracciones parciales en las que descompone la fracción propia dad son de la forma general:\n",
    "\n",
    "$$ \\frac{s^{3} + 5s + 2}{(s^{2} + 1)(s^{2} + 6)} = \\frac{As+B}{s^{2} + 1}\\  + \\  \\frac{Cs + D}{s^{2} + 6} $$\n"
   ]
  },
  {
   "cell_type": "markdown",
   "id": "c5adc0e8",
   "metadata": {},
   "source": [
    "La ecuación básica asociada: \n",
    "\n",
    "$$ s^{3} + 5s + 2 = (As + B)(s^{2} + 6) + (Cs + D)(s^{2} + 1) $$\n"
   ]
  },
  {
   "cell_type": "markdown",
   "id": "5693400d",
   "metadata": {},
   "source": [
    "Escribamos el lado derecho de esta ecuación como in polinomio de grado 3 en la viable $s$."
   ]
  },
  {
   "cell_type": "markdown",
   "id": "7f8501d3",
   "metadata": {},
   "source": [
    "$$ s^{3} + 5s + 2 = As^{3} + 6As + Bs^{2} + 6B + Cs^{3} + Cs + Ds^{2} + D $$\n"
   ]
  },
  {
   "cell_type": "markdown",
   "id": "53941a7d",
   "metadata": {},
   "source": [
    "$$ s^{3} + 5s + 2 = (A + C)s^{3} + (B+ D)s^{2} + (6A + C)s + (6B + D) $$"
   ]
  },
  {
   "cell_type": "markdown",
   "id": "7070453d",
   "metadata": {},
   "source": [
    "Comparemos coeficientes del lado izquierdo con coeficientes del lado derecho. "
   ]
  },
  {
   "cell_type": "markdown",
   "id": "83ff19fa",
   "metadata": {},
   "source": [
    "$$ A + C = 1 $$\n",
    "$$ B + D = 0 $$\n",
    "$$ 6A + C = 5 $$\n",
    "$$ 6B + D = 2 $$"
   ]
  },
  {
   "cell_type": "markdown",
   "id": "88f28c0b",
   "metadata": {},
   "source": [
    "Resuelva el primer sistema:\n",
    "$$ A+ C = 1$$\n",
    "$$ 6A + C = 5 $$"
   ]
  },
  {
   "cell_type": "markdown",
   "id": "82af2c8b",
   "metadata": {},
   "source": [
    "Resuelva el segundo sistema:\n",
    "$$ B + D = 0 $$\n",
    "$$ 6B + D = 2 $$"
   ]
  },
  {
   "cell_type": "markdown",
   "id": "72ee0d76",
   "metadata": {},
   "source": [
    "Resolvamos el primero de estos sistemas:\n",
    "\n",
    "resta lado a lado las ecuaciones para obtener(Resto segunda menos primera ecuación):\n",
    "\n",
    "$$5A = 4$$\n",
    "\n",
    "$$A = \\frac{4}{5}$$"
   ]
  },
  {
   "cell_type": "code",
   "execution_count": null,
   "id": "5427ef42",
   "metadata": {},
   "outputs": [],
   "source": []
  },
  {
   "cell_type": "code",
   "execution_count": 22,
   "id": "e3c697c6",
   "metadata": {},
   "outputs": [
    {
     "data": {
      "text/latex": [
       "$\\displaystyle \\frac{s - 2}{5 \\left(s^{2} + 6\\right)} + \\frac{2 \\left(2 s + 1\\right)}{5 \\left(s^{2} + 1\\right)}$"
      ],
      "text/plain": [
       "(s - 2)/(5*(s**2 + 6)) + 2*(2*s + 1)/(5*(s**2 + 1))"
      ]
     },
     "execution_count": 22,
     "metadata": {},
     "output_type": "execute_result"
    }
   ],
   "source": [
    "Y = Y.apart() \n",
    "Y "
   ]
  },
  {
   "cell_type": "code",
   "execution_count": null,
   "id": "9bf95381",
   "metadata": {},
   "outputs": [],
   "source": []
  },
  {
   "cell_type": "code",
   "execution_count": null,
   "id": "ac9c3549",
   "metadata": {},
   "outputs": [],
   "source": []
  },
  {
   "cell_type": "code",
   "execution_count": null,
   "id": "bb852311",
   "metadata": {},
   "outputs": [],
   "source": [
    "x = inv_L( sol_laplace[X(s)] )\n",
    "y = inv_L( sol_laplace[Y(s)] )  \n",
    "display(x,y)"
   ]
  },
  {
   "cell_type": "markdown",
   "id": "efa4e110",
   "metadata": {},
   "source": [
    "### Verificación con sympy "
   ]
  },
  {
   "cell_type": "code",
   "execution_count": null,
   "id": "5452c442",
   "metadata": {},
   "outputs": [],
   "source": []
  },
  {
   "cell_type": "code",
   "execution_count": null,
   "id": "8d94930c",
   "metadata": {},
   "outputs": [],
   "source": []
  },
  {
   "cell_type": "markdown",
   "id": "6b0f2bf8",
   "metadata": {},
   "source": [
    "## Punto 4 Sustentación oral (25 puntos) "
   ]
  },
  {
   "cell_type": "markdown",
   "id": "97e473d6",
   "metadata": {},
   "source": [
    "* ¿Cómo definiría a la transformada de Laplace?\n",
    "* ¿Qué propiedades tiene la transformada de Laplace?\n",
    "* ¿Cuál es la metodología de solución de un PVI definido por un sistema utilizando tarnsformada de Laplace?\n",
    "* ¿Cuál es la metodología para resolver un PVI definido a travpes de un sistema utilizando el método de los vectores y \n",
    "  valores propios?  \n",
    "* ¿Cuales son las ventajas de utilizar el operador transformada de Laplace para resolver PVI's?  \n",
    "* "
   ]
  },
  {
   "cell_type": "code",
   "execution_count": null,
   "id": "6cc0b4b8",
   "metadata": {},
   "outputs": [],
   "source": []
  },
  {
   "cell_type": "markdown",
   "id": "f1f80aa4",
   "metadata": {},
   "source": [
    "## Referentes  \n",
    "\n",
    "* Zill. \n",
    "* Larson  "
   ]
  },
  {
   "cell_type": "code",
   "execution_count": null,
   "id": "37529d67",
   "metadata": {},
   "outputs": [],
   "source": []
  }
 ],
 "metadata": {
  "kernelspec": {
   "display_name": "Python 3",
   "language": "python",
   "name": "python3"
  },
  "language_info": {
   "codemirror_mode": {
    "name": "ipython",
    "version": 3
   },
   "file_extension": ".py",
   "mimetype": "text/x-python",
   "name": "python",
   "nbconvert_exporter": "python",
   "pygments_lexer": "ipython3",
   "version": "3.8.8"
  },
  "latex_envs": {
   "LaTeX_envs_menu_present": true,
   "autoclose": false,
   "autocomplete": false,
   "bibliofile": "biblio.bib",
   "cite_by": "apalike",
   "current_citInitial": 1,
   "eqLabelWithNumbers": true,
   "eqNumInitial": 1,
   "hotkeys": {
    "equation": "Ctrl-E",
    "itemize": "Ctrl-I"
   },
   "labels_anchors": false,
   "latex_user_defs": false,
   "report_style_numbering": false,
   "user_envs_cfg": false
  },
  "rise": {
   "enable_chalkboard": true,
   "theme": "sky",
   "transition": "zoom"
  }
 },
 "nbformat": 4,
 "nbformat_minor": 5
}
