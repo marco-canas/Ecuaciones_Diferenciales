{
 "cells": [
  {
   "cell_type": "markdown",
   "id": "1b3c2a22",
   "metadata": {
    "slideshow": {
     "slide_type": "slide"
    }
   },
   "source": [
    "<table align=\"left\">\n",
    "  <td>\n",
    "    <a href=\"https://colab.research.google.com/github/marco-canas/Ecuaciones_Diferenciales/blob/main/asesoria_EDO/ejer_sec_3.1/Ejer_22_sec_3.1_Boyce_DiPrima.ipynb\" target=\"_parent\"><img src=\"https://colab.research.google.com/assets/colab-badge.svg\" alt=\"Open In Colab\"/></a>\n",
    "  </td>\n",
    "  <td>\n",
    "    <a target=\"_blank\" href=\"https://kaggle.com/kernels/welcome?src=https://github.com/marco-canas/Ecuaciones_Diferenciales/blob/main/asesoria_EDO/ejer_sec_3.1/Ejer_22_sec_3.1_Boyce_DiPrima.ipynb\"><img src=\"https://kaggle.com/static/images/open-in-kaggle.svg\" /></a>\n",
    "  </td>\n",
    "</table>"
   ]
  },
  {
   "cell_type": "markdown",
   "id": "fd36b0c5",
   "metadata": {
    "slideshow": {
     "slide_type": "slide"
    }
   },
   "source": [
    "# Parcial 4_1"
   ]
  },
  {
   "cell_type": "markdown",
   "id": "c4139e7a",
   "metadata": {
    "slideshow": {
     "slide_type": "slide"
    }
   },
   "source": [
    "## Punto 1 (25 puntos) \n",
    "\n",
    "1. Calcule la transformada de laplace de la función indicada.\n",
    "\n",
    "2. Grafique la función $f(t)$ y la función $F(s)$ en planos distintos. \n",
    "\n",
    "3. Verifique que \n",
    "\n",
    "$$ \\lim_{s \\to \\infty} F(s) = 0. $$\n",
    "\n",
    "Incluya las descripciones  y justificaciones verbales de cada uno de los pasos de solución. \n",
    "(Estas descripciones y justificaciones valen la mitad del punto)  \n",
    "\n",
    "Redacte la conclusión verbal de la verificación. Esta redacción vale la mitad del punto."
   ]
  },
  {
   "cell_type": "markdown",
   "id": "60ac6270",
   "metadata": {
    "slideshow": {
     "slide_type": "slide"
    }
   },
   "source": [
    "Ejercicio 6 de la sección 7.1 de Zill, página 277\n",
    "\n",
    "$$ f(t) = \n",
    "\\begin{cases}\n",
    "0, & 0 \\leq \\pi/2 \\\\\n",
    "\\cos t, & t \\geq 0  \n",
    "\\end{cases} $$\n"
   ]
  },
  {
   "cell_type": "markdown",
   "id": "ba14ca7b",
   "metadata": {
    "slideshow": {
     "slide_type": "slide"
    }
   },
   "source": [
    "## Gráfico de la función $f(t)$ "
   ]
  },
  {
   "cell_type": "code",
   "execution_count": null,
   "id": "ca6d177b",
   "metadata": {
    "slideshow": {
     "slide_type": "slide"
    }
   },
   "outputs": [],
   "source": [
    "import matplotlib.pyplot as plt \n",
    "\n",
    "t1 = np.linspace(0,np.pi/2,2)\n",
    "t2 = np.linspace(np.pi/2, 13, 100)\n",
    "\n",
    "t = np.concatenate((t1,t2))\n",
    "f1 = 0*t1\n",
    "f2 = np.cos(t2)\n",
    "f = np.concatenate((f1,f2))\n",
    "\n",
    "fig = plt.figure()\n",
    "ax = fig.add_subplot()\n",
    "\n",
    "ax.plot(t,f)\n",
    "ax.grid() \n",
    "\n",
    "plt.savefig('ejer_6_f_t.jpg')\n",
    "plt.show()"
   ]
  },
  {
   "cell_type": "code",
   "execution_count": null,
   "id": "11fe09cc",
   "metadata": {
    "slideshow": {
     "slide_type": "slide"
    }
   },
   "outputs": [],
   "source": [
    "from sympy import *\n",
    "t = symbols('t', nonegative = True)\n",
    "s = symbols('s', positive = True) \n",
    "f = symbols('f')\n",
    "f = Function('f')(t)\n",
    "f = cos(t)\n",
    "\n",
    "def L_def(f):\n",
    "    \"\"\"\n",
    "    input:\n",
    "    f es la función de sympy a la que le calcularemos su transformada\n",
    "    \"\"\"\n",
    "    return integrate(exp(-s*t)*f,(t, pi/2,oo)) "
   ]
  },
  {
   "cell_type": "code",
   "execution_count": null,
   "id": "91fd498c",
   "metadata": {
    "slideshow": {
     "slide_type": "slide"
    }
   },
   "outputs": [],
   "source": [
    "L_def(cos(t)) "
   ]
  },
  {
   "cell_type": "markdown",
   "id": "a5fdd81d",
   "metadata": {
    "slideshow": {
     "slide_type": "slide"
    }
   },
   "source": [
    "## Punto 2 (25 puntos) \n",
    "\n",
    "1. Resuelva el PVI dado siguiendo la siguiente metodología:\n",
    "   1. Aplique transformada de Laplace a la ED para transformarla en una ecuación algebraica.\n",
    "   2. Resuelva la ecuación algebraica obtenida.\n",
    "   3. Aplique transformada inversa para obtener la solución del PVI.\n",
    "\n",
    "Incluya las descripciones  y justificaciones verbales de cada uno de los pasos de solución. \n",
    "(Estas descripciones y justificaciones valen la mitad del punto) \n",
    "\n",
    "2. Verifique que la función obtenida satisface la ED del PVI\n",
    "\n",
    "3. Verifique que la función obtenida satisface las condiciones iniciales del PVI\n",
    "\n",
    "Redacte la conclusión verbal de la verificación. Esta redacción vale la mitad del punto.\n",
    "\n"
   ]
  },
  {
   "cell_type": "markdown",
   "id": "bb6b3eae",
   "metadata": {
    "slideshow": {
     "slide_type": "slide"
    }
   },
   "source": [
    "Use el álgebra apropiada para obtener:\n",
    "\n",
    "$$ L^{-1}\\left\\{ \\frac{(s+2)^{2}}{s^{3}} \\right\\} $$\n",
    "\n",
    "Y luego realice la verificación analítica.\n",
    "\n",
    "(Opcional) Realice la verificación con algún software recactando la conclusión verbal de la comparación entre su resultado y el dado por el software. \n"
   ]
  },
  {
   "cell_type": "code",
   "execution_count": null,
   "id": "a5c950b8",
   "metadata": {
    "slideshow": {
     "slide_type": "slide"
    }
   },
   "outputs": [],
   "source": [
    "from sympy import *\n",
    "t = symbols('t', nonegative = True)\n",
    "s = symbols('s', positive = True)\n",
    "\n",
    "def invL(F):\n",
    "    return inverse_laplace_transform(F,s,t,noconds = True)"
   ]
  },
  {
   "cell_type": "code",
   "execution_count": null,
   "id": "a91d2902",
   "metadata": {
    "slideshow": {
     "slide_type": "slide"
    }
   },
   "outputs": [],
   "source": [
    "invL((s+2)**2/s**3)"
   ]
  },
  {
   "cell_type": "markdown",
   "id": "123d0cf6",
   "metadata": {
    "slideshow": {
     "slide_type": "slide"
    }
   },
   "source": [
    "### Conclusión: \n",
    "\n",
    "$$ L^{-1} \\left\\{ \\frac{(s+2)^{2}}{s^{3}} \\right\\} = 2t^{2} + 4t + 1 $$\n"
   ]
  },
  {
   "cell_type": "markdown",
   "id": "a5d9df2f",
   "metadata": {
    "slideshow": {
     "slide_type": "slide"
    }
   },
   "source": [
    "## Solución analítica"
   ]
  },
  {
   "cell_type": "markdown",
   "id": "b271cb4e",
   "metadata": {
    "slideshow": {
     "slide_type": "slide"
    }
   },
   "source": [
    "### Metodología"
   ]
  },
  {
   "cell_type": "markdown",
   "id": "075bbb3b",
   "metadata": {
    "slideshow": {
     "slide_type": "slide"
    }
   },
   "source": [
    "* Extender el numerador de $\\frac{(s+2)^{2}}{s^{3}} $ y luego distribuir el denominador.\n",
    "* Simplifique las tres fracciones obtenidas\n",
    "* aplicar las reglas de transformada inversa vistas. "
   ]
  },
  {
   "cell_type": "markdown",
   "id": "29f518e2",
   "metadata": {
    "slideshow": {
     "slide_type": "slide"
    }
   },
   "source": [
    "Apliquemos ahora la metodología propuesta"
   ]
  },
  {
   "cell_type": "markdown",
   "id": "676e3a59",
   "metadata": {
    "slideshow": {
     "slide_type": "slide"
    }
   },
   "source": [
    "Expresemos la función $F(s) = \\frac{(s+2)^{2}}{s^{3}} $ como una suma de tres facciones parciales propias:"
   ]
  },
  {
   "cell_type": "markdown",
   "id": "6180d525",
   "metadata": {
    "slideshow": {
     "slide_type": "slide"
    }
   },
   "source": [
    "$$ F(s) = \\frac{(s+2)^{2}}{s^{3}}  = \\frac{s^{2} + 4s + 2}{s^{3}} $$\n",
    "\n",
    "efectuamos el producto notable del numerador, es decir, aplicamos propiedad distributiva de la multiplicación con respecto a la suma en el numerador de $F(2)$, esto, con el animo de expresar en numerador como una suma y no como un producto o potencia. \n"
   ]
  },
  {
   "cell_type": "markdown",
   "id": "135dd28e",
   "metadata": {
    "slideshow": {
     "slide_type": "slide"
    }
   },
   "source": []
  },
  {
   "cell_type": "code",
   "execution_count": null,
   "id": "d5b5b962",
   "metadata": {
    "slideshow": {
     "slide_type": "slide"
    }
   },
   "outputs": [],
   "source": []
  },
  {
   "cell_type": "code",
   "execution_count": null,
   "id": "9a2e30f2",
   "metadata": {
    "slideshow": {
     "slide_type": "slide"
    }
   },
   "outputs": [],
   "source": []
  },
  {
   "cell_type": "code",
   "execution_count": null,
   "id": "1011a96e",
   "metadata": {
    "slideshow": {
     "slide_type": "slide"
    }
   },
   "outputs": [],
   "source": []
  },
  {
   "cell_type": "markdown",
   "id": "5007a4e8",
   "metadata": {
    "slideshow": {
     "slide_type": "slide"
    }
   },
   "source": [
    "## Punto 3 (25 puntos) "
   ]
  },
  {
   "cell_type": "markdown",
   "id": "9bd20767",
   "metadata": {
    "slideshow": {
     "slide_type": "slide"
    }
   },
   "source": [
    "1. Resuelva el PVI definido por un sistema de ED dado.\n",
    "   1. Aplique transformada de Laplace a cada ED del sistema para transformar el sistema en un sistema algebraico.\n",
    "   2. Resuelva el sistema algebraico obtenido.\n",
    "   3. Aplique transformada inversa para obtener la solución del PVI.\n",
    "\n",
    "2. Verifique que las funciones obtenidas satisfacen cada ED del PVI.\n",
    "\n",
    "3. Verifique que las funciones obtenidas satisfacen las condiciones iniciales del PVI.\n",
    "\n",
    "Redacte la conclusión verbal de la verificación. Esta redacción vale la mitad del punto. "
   ]
  },
  {
   "cell_type": "markdown",
   "id": "a8f222e8",
   "metadata": {
    "slideshow": {
     "slide_type": "slide"
    }
   },
   "source": [
    "\\begin{align*}\n",
    "x' & = x - 2y \\\\\n",
    "y' & = 5x - y\n",
    "\\end{align*}\n",
    "\n",
    "$$ x(0) = -1, \\ \\  \\ \\ \\ y(0) = 2. $$"
   ]
  },
  {
   "cell_type": "markdown",
   "id": "436ab752",
   "metadata": {
    "slideshow": {
     "slide_type": "slide"
    }
   },
   "source": [
    "## Solución analítica con verificación de cada paso usando Sympy"
   ]
  },
  {
   "cell_type": "markdown",
   "id": "5d3792bd",
   "metadata": {
    "slideshow": {
     "slide_type": "slide"
    }
   },
   "source": [
    "Importación de librerías de Python"
   ]
  },
  {
   "cell_type": "code",
   "execution_count": 1,
   "id": "e1e8e67a",
   "metadata": {
    "slideshow": {
     "slide_type": "slide"
    }
   },
   "outputs": [],
   "source": [
    "import numpy as np \n",
    "from sympy import *"
   ]
  },
  {
   "cell_type": "markdown",
   "id": "95bdce7d",
   "metadata": {
    "slideshow": {
     "slide_type": "slide"
    }
   },
   "source": [
    "Definición de variables simbólicas"
   ]
  },
  {
   "cell_type": "code",
   "execution_count": 2,
   "id": "a56f4a2e",
   "metadata": {
    "slideshow": {
     "slide_type": "slide"
    }
   },
   "outputs": [],
   "source": [
    "t = symbols('t', real = True, nonegative = True) \n",
    "s = symbols('s', real = True, positive = True) \n",
    "x,X,y,Y = symbols('x,X,y,Y')\n",
    "x = Function('x')\n",
    "y = Function('y')\n",
    "\n",
    "X = Function('X') \n",
    "Y = Function('Y') "
   ]
  },
  {
   "cell_type": "markdown",
   "id": "0a1f13b4",
   "metadata": {
    "slideshow": {
     "slide_type": "slide"
    }
   },
   "source": [
    "Funciones de usuario para calcular transformadas y transformadas inversas"
   ]
  },
  {
   "cell_type": "code",
   "execution_count": 17,
   "id": "24c10794",
   "metadata": {
    "slideshow": {
     "slide_type": "slide"
    }
   },
   "outputs": [],
   "source": [
    "def L(f):\n",
    "    return laplace_transform(f,t,s, noconds = True)  \n",
    "\n",
    "def inv_L(F):\n",
    "    return inverse_laplace_transform(F,s,t, noconds = True)  \n",
    "\n",
    "def L_diff(f, f0, f_p0 = 0, f_pp0 = 0 , n = 1): # esta función es para calcular transformadas de derivadas\n",
    "    \"\"\"\n",
    "    n puede asumir los valores de 0,1,2,3 y representa el orden de la derivada\n",
    "    \"\"\"\n",
    "    F = str(f).upper()\n",
    "    F = symbols(F) \n",
    "    F = Function(F)(s) \n",
    "    if n == 0:\n",
    "        L = F\n",
    "    elif n == 1:\n",
    "        L = s*F - f0\n",
    "    elif n == 2:\n",
    "        L = s**2*F - s*f0 - f_p0\n",
    "    elif n == 3:\n",
    "        L = s**3*F - s**2*f0 - s*f_p0 - f_pp0\n",
    "    return L "
   ]
  },
  {
   "cell_type": "markdown",
   "id": "3ef91778",
   "metadata": {
    "slideshow": {
     "slide_type": "slide"
    }
   },
   "source": [
    "Cálculo de la transformada de la o las ecuaciones"
   ]
  },
  {
   "cell_type": "code",
   "execution_count": 4,
   "id": "a45df428",
   "metadata": {
    "slideshow": {
     "slide_type": "slide"
    }
   },
   "outputs": [
    {
     "data": {
      "text/latex": [
       "$\\displaystyle s X{\\left(s \\right)} + 1 = X{\\left(s \\right)} - 2 Y{\\left(s \\right)}$"
      ],
      "text/plain": [
       "Eq(s*X(s) + 1, X(s) - 2*Y(s))"
      ]
     },
     "metadata": {},
     "output_type": "display_data"
    },
    {
     "data": {
      "text/latex": [
       "$\\displaystyle s Y{\\left(s \\right)} - 2 = 5 X{\\left(s \\right)} - Y{\\left(s \\right)}$"
      ],
      "text/plain": [
       "Eq(s*Y(s) - 2, 5*X(s) - Y(s))"
      ]
     },
     "metadata": {},
     "output_type": "display_data"
    }
   ],
   "source": [
    "eq1_laplace = Eq(L_diff(x, -1, n = 1), L_diff(x, -1, n = 0) - 2*L_diff(y, 2, n = 0) )  # x' & = x - 2y \\\\\n",
    "eq2_laplace = Eq(L_diff(y, 2, n = 1), 5*L_diff(x, -1, n = 0) - L_diff(y, 2, n = 0) )   # y' & = 5x - y\n",
    "display(eq1_laplace, eq2_laplace) # $$ x(0) = -1, \\ \\  \\ \\ \\ y(0) = 2. $$"
   ]
  },
  {
   "cell_type": "markdown",
   "id": "c337746d",
   "metadata": {
    "slideshow": {
     "slide_type": "slide"
    }
   },
   "source": [
    "Resolución del sistema algebraico en las variables $X(s)$ y $Y(s)$."
   ]
  },
  {
   "cell_type": "code",
   "execution_count": 11,
   "id": "5dee3cfc",
   "metadata": {
    "scrolled": true,
    "slideshow": {
     "slide_type": "slide"
    }
   },
   "outputs": [
    {
     "data": {
      "text/latex": [
       "$\\displaystyle \\frac{- s - 5}{s^{2} + 9}$"
      ],
      "text/plain": [
       "(-s - 5)/(s**2 + 9)"
      ]
     },
     "metadata": {},
     "output_type": "display_data"
    },
    {
     "data": {
      "text/latex": [
       "$\\displaystyle \\frac{2 s - 7}{s^{2} + 9}$"
      ],
      "text/plain": [
       "(2*s - 7)/(s**2 + 9)"
      ]
     },
     "metadata": {},
     "output_type": "display_data"
    }
   ],
   "source": [
    "sol_laplace = solve([eq1_laplace, eq2_laplace],(X, Y) )  # No olvide que solve() devuelve un discionario de Python\n",
    "display(sol_laplace[X], sol_laplace[Y])"
   ]
  },
  {
   "cell_type": "markdown",
   "id": "5fbdd3d3",
   "metadata": {
    "slideshow": {
     "slide_type": "slide"
    }
   },
   "source": [
    "Aplique transformada inversa para obtener la solución del PVI"
   ]
  },
  {
   "cell_type": "code",
   "execution_count": 16,
   "id": "81241503",
   "metadata": {
    "slideshow": {
     "slide_type": "slide"
    }
   },
   "outputs": [
    {
     "data": {
      "text/latex": [
       "$\\displaystyle - \\frac{\\left(5 \\sin{\\left(3 t \\right)} + 3 \\cos{\\left(3 t \\right)}\\right) \\theta\\left(t\\right)}{3}$"
      ],
      "text/plain": [
       "-(5*sin(3*t) + 3*cos(3*t))*Heaviside(t)/3"
      ]
     },
     "metadata": {},
     "output_type": "display_data"
    },
    {
     "data": {
      "text/latex": [
       "$\\displaystyle \\frac{\\left(- 7 \\sin{\\left(3 t \\right)} + 6 \\cos{\\left(3 t \\right)}\\right) \\theta\\left(t\\right)}{3}$"
      ],
      "text/plain": [
       "(-7*sin(3*t) + 6*cos(3*t))*Heaviside(t)/3"
      ]
     },
     "metadata": {},
     "output_type": "display_data"
    }
   ],
   "source": [
    "x = inv_L( sol_laplace[X] )\n",
    "y = inv_L( sol_laplace[Y] ) \n",
    "display(x,y)"
   ]
  },
  {
   "cell_type": "code",
   "execution_count": null,
   "id": "d371e381",
   "metadata": {
    "slideshow": {
     "slide_type": "slide"
    }
   },
   "outputs": [],
   "source": []
  },
  {
   "cell_type": "code",
   "execution_count": null,
   "id": "bf6a69cf",
   "metadata": {
    "slideshow": {
     "slide_type": "slide"
    }
   },
   "outputs": [],
   "source": []
  },
  {
   "cell_type": "code",
   "execution_count": null,
   "id": "fb25f19d",
   "metadata": {},
   "outputs": [],
   "source": []
  },
  {
   "cell_type": "markdown",
   "id": "c1f9f145",
   "metadata": {
    "slideshow": {
     "slide_type": "slide"
    }
   },
   "source": [
    "## Punto 4 Sustentación oral (25 puntos) "
   ]
  },
  {
   "cell_type": "markdown",
   "id": "54147960",
   "metadata": {
    "slideshow": {
     "slide_type": "slide"
    }
   },
   "source": [
    "\\begin{align*}\n",
    "x' & = x - 2y \\\\\n",
    "y' & = 5x - y\n",
    "\\end{align*}\n",
    "\n",
    "$$ x(0) = -1, \\ \\  \\ \\ \\ y(0) = 2. $$\n"
   ]
  },
  {
   "cell_type": "markdown",
   "id": "08c30786",
   "metadata": {
    "slideshow": {
     "slide_type": "slide"
    }
   },
   "source": [
    "### Preguntas para la sustentación oral"
   ]
  },
  {
   "cell_type": "markdown",
   "id": "b2bf37d0",
   "metadata": {
    "slideshow": {
     "slide_type": "slide"
    }
   },
   "source": [
    "¿Cuál es la metodología de solución de un PVI definido por un sistema utilizando tarnsformada de Laplace?"
   ]
  },
  {
   "cell_type": "markdown",
   "id": "ca055f8f",
   "metadata": {
    "slideshow": {
     "slide_type": "slide"
    }
   },
   "source": [
    "¿Cuál es la metodología para resolver un PVI definido a travpes de un sistema utilizando el método de los vectores y valores propios?"
   ]
  },
  {
   "cell_type": "markdown",
   "id": "847a66e9",
   "metadata": {
    "slideshow": {
     "slide_type": "slide"
    }
   },
   "source": []
  },
  {
   "cell_type": "code",
   "execution_count": null,
   "id": "30af2e3a",
   "metadata": {
    "slideshow": {
     "slide_type": "slide"
    }
   },
   "outputs": [],
   "source": [
    "import numpy as np \n",
    "np.random.randint(low = 31, high = 42, size = 1)"
   ]
  },
  {
   "cell_type": "code",
   "execution_count": null,
   "id": "a3926815",
   "metadata": {
    "slideshow": {
     "slide_type": "slide"
    }
   },
   "outputs": [],
   "source": []
  },
  {
   "cell_type": "code",
   "execution_count": null,
   "id": "1c813a64",
   "metadata": {
    "slideshow": {
     "slide_type": "slide"
    }
   },
   "outputs": [],
   "source": [
    "import numpy as np \n",
    "import pandas as pd \n",
    "\n",
    "np.random.seed(40) \n",
    "\n",
    "laplace_def = np.random.randint(low = 1, high = 40, size = 11) \n",
    "\n",
    "inverse_transform = np.random.randint(low = 1, high = 29, size = 11)\n",
    "\n",
    "pvi_1_2_order = np.random.randint(low = 30, high = 42, size = 11) \n",
    "\n",
    "system_pvi = np.random.randint(low = 1, high = 14, size = 11) \n",
    "\n",
    "index_ = ['juliana.aguilar@udea.edu.co',\n",
    "         'angel.arrieta@udea.edu.co',\n",
    "         'danis.canchila@udea.edu.co',\n",
    "         'sandra.cotuab@udea.edu.co',\n",
    "         'katherine.gallo@udea.edu.co',\n",
    "         'vmanuel.palacio@udea.edu.co',\n",
    "         'valentina.perezp@udea.edu.co',\n",
    "         'jolman.rivera@udea.edu.co',\n",
    "         'laura.ruiz1@udea.edu.co',\n",
    "         'eliana.sotov@udea.edu.co',\n",
    "         'robert.velasquez@udea.edu.co']\n",
    "\n",
    "df = pd.DataFrame({'Punto 1 Seccion 7.1': laplace_def , \n",
    "                   'Punto 2 Sección 7.2 primera parte': inverse_transform, \n",
    "                   'Punto 2 Sección 7.2 Segunda parte': pvi_1_2_order,\n",
    "                   'Punto 3 Sección 7.6': system_pvi}, \n",
    "                  index = index_) \n",
    "df "
   ]
  },
  {
   "cell_type": "code",
   "execution_count": null,
   "id": "7a013f39",
   "metadata": {
    "slideshow": {
     "slide_type": "slide"
    }
   },
   "outputs": [],
   "source": [
    "df.to_excel('asignacion.xlsx')"
   ]
  },
  {
   "cell_type": "markdown",
   "id": "4811f1a6",
   "metadata": {
    "slideshow": {
     "slide_type": "slide"
    }
   },
   "source": [
    "## Formulas asociadas a esta evaluación"
   ]
  },
  {
   "cell_type": "markdown",
   "id": "0af91f99",
   "metadata": {
    "slideshow": {
     "slide_type": "slide"
    }
   },
   "source": [
    "$$ L\\{f(t)\\} = \\int_{0}^{\\infty}e^{-st}f(t)dt $$"
   ]
  },
  {
   "cell_type": "markdown",
   "id": "96e5f1f8",
   "metadata": {
    "slideshow": {
     "slide_type": "slide"
    }
   },
   "source": [
    "1.  $$ L\\{1\\} = \\frac{1}{s} $$\n",
    "2.  $$ L\\{t^{n}\\} = \\frac{n!}{s^{n+1}}, \\ \\ \\ n = 1,2,3,\\ldots $$\n",
    "3.  $$ L\\{e^{at}\\} = \\frac{1}{s-a} $$"
   ]
  },
  {
   "cell_type": "markdown",
   "id": "bf75dce5",
   "metadata": {
    "slideshow": {
     "slide_type": "slide"
    }
   },
   "source": [
    "4.  $$ L\\{ \\sin kt \\} = \\frac{k}{s^{2} + k^{2}} $$\n",
    "5.  $$ L\\{ \\cos kt \\} = \\frac{s}{s^{2} + k^{2}} $$"
   ]
  },
  {
   "cell_type": "markdown",
   "id": "5f73b053",
   "metadata": {
    "slideshow": {
     "slide_type": "slide"
    }
   },
   "source": [
    "6.  $$ L\\{\\sinh kt \\} =  \\frac{k}{s^{2} - k^{2}} $$\n",
    "7.  $$ L\\{\\cosh kt \\} = \\frac{s}{s^{2} - k^{2}} $$"
   ]
  },
  {
   "cell_type": "code",
   "execution_count": null,
   "id": "fa25833a",
   "metadata": {},
   "outputs": [],
   "source": []
  },
  {
   "cell_type": "code",
   "execution_count": null,
   "id": "1c6157c6",
   "metadata": {},
   "outputs": [],
   "source": []
  },
  {
   "cell_type": "code",
   "execution_count": null,
   "id": "3ba5f1e2",
   "metadata": {},
   "outputs": [],
   "source": []
  }
 ],
 "metadata": {
  "celltoolbar": "Slideshow",
  "kernelspec": {
   "display_name": "Python 3",
   "language": "python",
   "name": "python3"
  },
  "language_info": {
   "codemirror_mode": {
    "name": "ipython",
    "version": 3
   },
   "file_extension": ".py",
   "mimetype": "text/x-python",
   "name": "python",
   "nbconvert_exporter": "python",
   "pygments_lexer": "ipython3",
   "version": "3.8.8"
  },
  "latex_envs": {
   "LaTeX_envs_menu_present": true,
   "autoclose": false,
   "autocomplete": false,
   "bibliofile": "biblio.bib",
   "cite_by": "apalike",
   "current_citInitial": 1,
   "eqLabelWithNumbers": true,
   "eqNumInitial": 1,
   "hotkeys": {
    "equation": "Ctrl-E",
    "itemize": "Ctrl-I"
   },
   "labels_anchors": false,
   "latex_user_defs": false,
   "report_style_numbering": false,
   "user_envs_cfg": false
  },
  "rise": {
   "enable_chalkboard": true,
   "theme": "sky",
   "transition": "zoom"
  }
 },
 "nbformat": 4,
 "nbformat_minor": 5
}
