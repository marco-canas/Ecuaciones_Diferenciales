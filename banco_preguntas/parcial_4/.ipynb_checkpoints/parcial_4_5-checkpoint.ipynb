{
 "cells": [
  {
   "cell_type": "markdown",
   "id": "dfec0138",
   "metadata": {
    "slideshow": {
     "slide_type": "slide"
    }
   },
   "source": [
    "<table align=\"left\">\n",
    "  <td>\n",
    "    <a href=\"https://colab.research.google.com/github/marco-canas/Ecuaciones_Diferenciales/blob/main/asesoria_EDO/ejer_sec_3.1/Ejer_22_sec_3.1_Boyce_DiPrima.ipynb\" target=\"_parent\"><img src=\"https://colab.research.google.com/assets/colab-badge.svg\" alt=\"Open In Colab\"/></a>\n",
    "  </td>\n",
    "  <td>\n",
    "    <a target=\"_blank\" href=\"https://kaggle.com/kernels/welcome?src=https://github.com/marco-canas/Ecuaciones_Diferenciales/blob/main/asesoria_EDO/ejer_sec_3.1/Ejer_22_sec_3.1_Boyce_DiPrima.ipynb\"><img src=\"https://kaggle.com/static/images/open-in-kaggle.svg\" /></a>\n",
    "  </td>\n",
    "</table>"
   ]
  },
  {
   "cell_type": "markdown",
   "id": "d00cfd23",
   "metadata": {
    "slideshow": {
     "slide_type": "slide"
    }
   },
   "source": [
    "# Parcial 4_5"
   ]
  },
  {
   "cell_type": "markdown",
   "id": "a3aa0242",
   "metadata": {
    "slideshow": {
     "slide_type": "slide"
    }
   },
   "source": [
    "## Punto 1 (25 puntos) "
   ]
  },
  {
   "cell_type": "code",
   "execution_count": null,
   "id": "bbd1d8b2",
   "metadata": {
    "slideshow": {
     "slide_type": "slide"
    }
   },
   "outputs": [],
   "source": []
  },
  {
   "cell_type": "code",
   "execution_count": null,
   "id": "3592ef9d",
   "metadata": {
    "slideshow": {
     "slide_type": "slide"
    }
   },
   "outputs": [],
   "source": []
  },
  {
   "cell_type": "markdown",
   "id": "8e84a824",
   "metadata": {
    "slideshow": {
     "slide_type": "slide"
    }
   },
   "source": [
    "## Punto 2 (25 puntos) "
   ]
  },
  {
   "cell_type": "code",
   "execution_count": null,
   "id": "846443fe",
   "metadata": {
    "slideshow": {
     "slide_type": "slide"
    }
   },
   "outputs": [],
   "source": []
  },
  {
   "cell_type": "code",
   "execution_count": null,
   "id": "76a6394f",
   "metadata": {
    "slideshow": {
     "slide_type": "slide"
    }
   },
   "outputs": [],
   "source": []
  },
  {
   "cell_type": "markdown",
   "id": "660a3788",
   "metadata": {
    "slideshow": {
     "slide_type": "slide"
    }
   },
   "source": [
    "## Punto 3 (25 puntos) "
   ]
  },
  {
   "cell_type": "code",
   "execution_count": null,
   "id": "4972ce50",
   "metadata": {
    "slideshow": {
     "slide_type": "slide"
    }
   },
   "outputs": [],
   "source": []
  },
  {
   "cell_type": "code",
   "execution_count": null,
   "id": "e023d47f",
   "metadata": {
    "slideshow": {
     "slide_type": "slide"
    }
   },
   "outputs": [],
   "source": []
  },
  {
   "cell_type": "markdown",
   "id": "6b0f2bf8",
   "metadata": {
    "slideshow": {
     "slide_type": "slide"
    }
   },
   "source": [
    "## Punto 4 Sustentación oral (25 puntos) "
   ]
  },
  {
   "cell_type": "code",
   "execution_count": null,
   "id": "e13a0c45",
   "metadata": {
    "slideshow": {
     "slide_type": "slide"
    }
   },
   "outputs": [],
   "source": []
  },
  {
   "cell_type": "code",
   "execution_count": null,
   "id": "6c36d487",
   "metadata": {
    "slideshow": {
     "slide_type": "slide"
    }
   },
   "outputs": [],
   "source": []
  },
  {
   "cell_type": "code",
   "execution_count": null,
   "id": "b1ff5274",
   "metadata": {
    "slideshow": {
     "slide_type": "slide"
    }
   },
   "outputs": [],
   "source": [
    "import numpy as np \n",
    "import pandas as pd \n",
    "\n",
    "np.random.seed(40) \n",
    "\n",
    "laplace_def = np.random.randint(low = 1, high = 40, size = 11) \n",
    "\n",
    "inverse_transform = np.random.randint(low = 1, high = 29, size = 11)\n",
    "\n",
    "pvi_1_2_order = np.random.randint(low = 30, high = 42, size = 11) \n",
    "\n",
    "system_pvi = np.random.randint(low = 1, high = 14, size = 11) \n",
    "\n",
    "index_ = ['juliana.aguilar@udea.edu.co',\n",
    "         'angel.arrieta@udea.edu.co',\n",
    "         'danis.canchila@udea.edu.co',\n",
    "         'sandra.cotuab@udea.edu.co',\n",
    "         'katherine.gallo@udea.edu.co',\n",
    "         'vmanuel.palacio@udea.edu.co',\n",
    "         'valentina.perezp@udea.edu.co',\n",
    "         'jolman.rivera@udea.edu.co',\n",
    "         'laura.ruiz1@udea.edu.co',\n",
    "         'eliana.sotov@udea.edu.co',\n",
    "         'robert.velasquez@udea.edu.co']\n",
    "\n",
    "df = pd.DataFrame({'Punto 1 Seccion 7.1': laplace_def , \n",
    "                   'Punto 2 Sección 7.2 primera parte': inverse_transform, \n",
    "                   'Punto 2 Sección 7.2 Segunda parte': pvi_1_2_order,\n",
    "                   'Punto 3 Sección 7.6': system_pvi}, \n",
    "                  index = index_) \n",
    "df "
   ]
  },
  {
   "cell_type": "markdown",
   "id": "e44bf4be",
   "metadata": {
    "slideshow": {
     "slide_type": "slide"
    }
   },
   "source": [
    "## Ejercicios que eligió para el taller 4"
   ]
  },
  {
   "cell_type": "markdown",
   "id": "bd0bd2b1",
   "metadata": {
    "slideshow": {
     "slide_type": "slide"
    }
   },
   "source": [
    "## Punto 1 sobre cálculo de transformada"
   ]
  },
  {
   "cell_type": "markdown",
   "id": "a4e81846",
   "metadata": {
    "slideshow": {
     "slide_type": "slide"
    }
   },
   "source": [
    "$$ f(t) = \\begin{cases}-1 & 0 \\leq t < 1 \\\\ 1 & t \\geq 1 \\end{cases} $$"
   ]
  },
  {
   "cell_type": "code",
   "execution_count": null,
   "id": "ac7e234c",
   "metadata": {
    "slideshow": {
     "slide_type": "slide"
    }
   },
   "outputs": [],
   "source": [
    "import numpy as np \n",
    "import matplotlib.pyplot as plt \n",
    "\n",
    "t1 = [0, 1] \n",
    "f1 = [-1,-1]\n",
    "t2 = [1,3]\n",
    "f2 = [1,1]\n",
    "\n",
    "t = np.c_[t1,t2]\n",
    "f = np.c_[f1,f2]\n",
    "\n",
    "fig = plt.figure()\n",
    "ax = fig.add_subplot()\n",
    "\n",
    "ax.plot(t,f, color = 'red')\n",
    "\n",
    "ax.grid(True)  \n",
    "\n",
    "plt.savefig('escalon_2.png')\n",
    "\n",
    "plt.show()"
   ]
  },
  {
   "cell_type": "markdown",
   "id": "a7b7c2a3",
   "metadata": {
    "slideshow": {
     "slide_type": "slide"
    }
   },
   "source": [
    "Cálculo de la transformada por definición:"
   ]
  },
  {
   "cell_type": "code",
   "execution_count": null,
   "id": "7773e481",
   "metadata": {
    "slideshow": {
     "slide_type": "slide"
    }
   },
   "outputs": [],
   "source": [
    "from sympy import * \n",
    "t = symbols('t', nonegative = True) \n",
    "s = symbols('s', positive = True)  \n",
    "\n",
    "def L_def():\n",
    "    return integrate((exp(-s*t))*(-1),(t,0,1)) + integrate((exp(-s*t))*(1),(t,1,oo)) "
   ]
  },
  {
   "cell_type": "code",
   "execution_count": null,
   "id": "945bdfcc",
   "metadata": {
    "slideshow": {
     "slide_type": "slide"
    }
   },
   "outputs": [],
   "source": [
    "L_def()"
   ]
  },
  {
   "cell_type": "markdown",
   "id": "a46b05b0",
   "metadata": {
    "slideshow": {
     "slide_type": "slide"
    }
   },
   "source": [
    "## Punto 2 sobre transformada inversa de Laplace"
   ]
  },
  {
   "cell_type": "code",
   "execution_count": null,
   "id": "5f2ec3eb",
   "metadata": {
    "slideshow": {
     "slide_type": "slide"
    }
   },
   "outputs": [],
   "source": [
    "from sympy import *\n",
    "\n",
    "t = symbols('t', nonegative = True) \n",
    "s = symbols('s', positive = True)\n",
    "\n",
    "inverse_laplace_transform(1/s**3,s,t, noconds = True)  "
   ]
  },
  {
   "cell_type": "markdown",
   "id": "d099854b",
   "metadata": {
    "slideshow": {
     "slide_type": "slide"
    }
   },
   "source": [
    "## Punto 3 sobre solución de PVI definido a través de un sistema"
   ]
  },
  {
   "cell_type": "markdown",
   "id": "0bf29667",
   "metadata": {
    "slideshow": {
     "slide_type": "slide"
    }
   },
   "source": [
    "\\begin{align*}\n",
    "x'' + x - y & = 0 \\\\\n",
    "y'' + y - x & = 0 \n",
    "\\end{align*}\n",
    "\n",
    "$$ x(0) = 0, \\ \\ \\ x'(0) = -2, \\ \\ \\ y(0) = 0, \\ \\ \\ y'(0) = 1 $$\n"
   ]
  },
  {
   "cell_type": "code",
   "execution_count": 1,
   "id": "6e09991e",
   "metadata": {
    "slideshow": {
     "slide_type": "slide"
    }
   },
   "outputs": [],
   "source": [
    "import numpy as np \n",
    "from sympy import *"
   ]
  },
  {
   "cell_type": "code",
   "execution_count": 2,
   "id": "d8069686",
   "metadata": {
    "slideshow": {
     "slide_type": "slide"
    }
   },
   "outputs": [],
   "source": [
    "t = symbols('t', real = True, nonegative = True) \n",
    "s = symbols('s', real = True, positive = True) \n",
    "x,X,y,Y = symbols('x,X,y,Y')\n",
    "x = Function('x')\n",
    "y = Function('y')\n",
    "\n",
    "X = Function('X') \n",
    "Y = Function('Y') "
   ]
  },
  {
   "cell_type": "code",
   "execution_count": 3,
   "id": "655f3b2d",
   "metadata": {
    "slideshow": {
     "slide_type": "slide"
    }
   },
   "outputs": [],
   "source": [
    "def L(f):\n",
    "    return laplace_transform(f,t,s, noconds = True)  \n",
    "\n",
    "def inv_L(F):\n",
    "    return inverse_laplace_transform(F,s,t, noconds = True)  \n",
    "\n",
    "def L_diff(f, f0, f_p0 = 0, f_pp0 = 0 , n = 1): # esta función es para calcular transformadas de derivadas\n",
    "    \"\"\"\n",
    "    n puede asumir los valores de 0,1,2,3 y representa el orden de la derivada\n",
    "    \"\"\"\n",
    "    F = str(f).upper()\n",
    "    F = symbols(F) \n",
    "    F = Function(F)(s) \n",
    "    if n == 0:\n",
    "        L = F\n",
    "    elif n == 1:\n",
    "        L = s*F - f0\n",
    "    elif n == 2:\n",
    "        L = s**2*F - s*f0 - f_p0\n",
    "    elif n == 3:\n",
    "        L = s**3*F - s**2*f0 - s*f_p0 - f_pp0\n",
    "    return L "
   ]
  },
  {
   "cell_type": "code",
   "execution_count": 12,
   "id": "38e0ac05",
   "metadata": {
    "slideshow": {
     "slide_type": "slide"
    }
   },
   "outputs": [
    {
     "data": {
      "text/latex": [
       "$\\displaystyle s^{2} X{\\left(s \\right)} + X{\\left(s \\right)} - Y{\\left(s \\right)} + 2 = 0$"
      ],
      "text/plain": [
       "Eq(s**2*X(s) + X(s) - Y(s) + 2, 0)"
      ]
     },
     "metadata": {},
     "output_type": "display_data"
    },
    {
     "data": {
      "text/latex": [
       "$\\displaystyle s^{2} Y{\\left(s \\right)} - X{\\left(s \\right)} + Y{\\left(s \\right)} - 1 = 0$"
      ],
      "text/plain": [
       "Eq(s**2*Y(s) - X(s) + Y(s) - 1, 0)"
      ]
     },
     "metadata": {},
     "output_type": "display_data"
    }
   ],
   "source": [
    "#  x'' + x - y & = 0 \\\\\n",
    "#  y'' + y - x & = 0 \n",
    "\n",
    "#   x(0) = 0, \\ \\ \\ x'(0) = -2, \\ \\ \\ y(0) = 0, \\ \\ \\ y'(0) = 1 \n",
    "\n",
    "eq1_laplace = Eq( L_diff(x,0,-2, n = 2)+L_diff(x,0,-2,n = 0)-L_diff(y,0,1, n = 0), 0 ) \n",
    "eq2_laplace = Eq( L_diff(y,0,1,n=2)+L_diff(y,0,1, n = 0)-L_diff(x,0,-2, n = 0), 0 )   \n",
    "display( eq1_laplace , eq2_laplace )  "
   ]
  },
  {
   "cell_type": "code",
   "execution_count": 13,
   "id": "07cb9706",
   "metadata": {
    "slideshow": {
     "slide_type": "slide"
    }
   },
   "outputs": [
    {
     "data": {
      "text/latex": [
       "$\\displaystyle \\frac{- 2 s^{2} - 1}{s^{4} + 2 s^{2}}$"
      ],
      "text/plain": [
       "(-2*s**2 - 1)/(s**4 + 2*s**2)"
      ]
     },
     "metadata": {},
     "output_type": "display_data"
    },
    {
     "data": {
      "text/latex": [
       "$\\displaystyle \\frac{s^{2} - 1}{s^{4} + 2 s^{2}}$"
      ],
      "text/plain": [
       "(s**2 - 1)/(s**4 + 2*s**2)"
      ]
     },
     "metadata": {},
     "output_type": "display_data"
    }
   ],
   "source": [
    "sol_laplace = solve([eq1_laplace, eq2_laplace],(X(s), Y(s)) )  # No olvide que solve() devuelve un discionario de Python\n",
    "display(sol_laplace[X(s)], sol_laplace[Y(s)]) "
   ]
  },
  {
   "cell_type": "code",
   "execution_count": 14,
   "id": "5c0f1430",
   "metadata": {
    "slideshow": {
     "slide_type": "slide"
    }
   },
   "outputs": [],
   "source": [
    "sol_X, sol_Y = sol_laplace[X(s)], sol_laplace[Y(s)] "
   ]
  },
  {
   "cell_type": "code",
   "execution_count": 15,
   "id": "2c54a29c",
   "metadata": {
    "slideshow": {
     "slide_type": "slide"
    }
   },
   "outputs": [
    {
     "data": {
      "text/latex": [
       "$\\displaystyle - \\frac{3}{2 \\left(s^{2} + 2\\right)} - \\frac{1}{2 s^{2}}$"
      ],
      "text/plain": [
       "-3/(2*(s**2 + 2)) - 1/(2*s**2)"
      ]
     },
     "execution_count": 15,
     "metadata": {},
     "output_type": "execute_result"
    }
   ],
   "source": [
    "sol_X_decom = sol_X.apart() \n",
    "# Fue necesario descomponer las fracciones para luego aplicar transformada inversa\n",
    "sol_X_decom "
   ]
  },
  {
   "cell_type": "code",
   "execution_count": 16,
   "id": "0227e65b",
   "metadata": {
    "slideshow": {
     "slide_type": "slide"
    }
   },
   "outputs": [
    {
     "data": {
      "text/latex": [
       "$\\displaystyle \\frac{3}{2 \\left(s^{2} + 2\\right)} - \\frac{1}{2 s^{2}}$"
      ],
      "text/plain": [
       "3/(2*(s**2 + 2)) - 1/(2*s**2)"
      ]
     },
     "execution_count": 16,
     "metadata": {},
     "output_type": "execute_result"
    }
   ],
   "source": [
    "sol_Y_decom = sol_Y.apart() \n",
    "sol_Y_decom "
   ]
  },
  {
   "cell_type": "code",
   "execution_count": 17,
   "id": "c56d5ab9",
   "metadata": {
    "slideshow": {
     "slide_type": "slide"
    }
   },
   "outputs": [
    {
     "data": {
      "text/latex": [
       "$\\displaystyle - \\frac{\\left(2 t + 3 \\sqrt{2} \\sin{\\left(\\sqrt{2} t \\right)}\\right) \\theta\\left(t\\right)}{4}$"
      ],
      "text/plain": [
       "-(2*t + 3*sqrt(2)*sin(sqrt(2)*t))*Heaviside(t)/4"
      ]
     },
     "metadata": {},
     "output_type": "display_data"
    },
    {
     "data": {
      "text/latex": [
       "$\\displaystyle - \\frac{\\left(2 t - 3 \\sqrt{2} \\sin{\\left(\\sqrt{2} t \\right)}\\right) \\theta\\left(t\\right)}{4}$"
      ],
      "text/plain": [
       "-(2*t - 3*sqrt(2)*sin(sqrt(2)*t))*Heaviside(t)/4"
      ]
     },
     "metadata": {},
     "output_type": "display_data"
    }
   ],
   "source": [
    "x = inv_L( sol_X_decom )\n",
    "y = inv_L( sol_Y_decom ) \n",
    "display(x,y)"
   ]
  },
  {
   "cell_type": "markdown",
   "id": "5c517138",
   "metadata": {
    "slideshow": {
     "slide_type": "slide"
    }
   },
   "source": [
    "\\begin{align*}\n",
    "x(t) & = -\\frac{2t + 3\\sqrt{2}\\sin(\\sqrt{2}t)}{4} \\\\\n",
    "y(t) & = -\\frac{2t - 3\\sqrt{2}\\sin(\\sqrt{2}t)}{4} \n",
    "\\end{align*}\n",
    "\n",
    "donde $t \\geq 0$"
   ]
  },
  {
   "cell_type": "code",
   "execution_count": null,
   "id": "385edfc0",
   "metadata": {},
   "outputs": [],
   "source": []
  }
 ],
 "metadata": {
  "celltoolbar": "Slideshow",
  "kernelspec": {
   "display_name": "Python 3",
   "language": "python",
   "name": "python3"
  },
  "language_info": {
   "codemirror_mode": {
    "name": "ipython",
    "version": 3
   },
   "file_extension": ".py",
   "mimetype": "text/x-python",
   "name": "python",
   "nbconvert_exporter": "python",
   "pygments_lexer": "ipython3",
   "version": "3.8.8"
  },
  "latex_envs": {
   "LaTeX_envs_menu_present": true,
   "autoclose": false,
   "autocomplete": false,
   "bibliofile": "biblio.bib",
   "cite_by": "apalike",
   "current_citInitial": 1,
   "eqLabelWithNumbers": true,
   "eqNumInitial": 1,
   "hotkeys": {
    "equation": "Ctrl-E",
    "itemize": "Ctrl-I"
   },
   "labels_anchors": false,
   "latex_user_defs": false,
   "report_style_numbering": false,
   "user_envs_cfg": false
  },
  "rise": {
   "enable_chalkboard": true,
   "theme": "sky",
   "transition": "zoom"
  }
 },
 "nbformat": 4,
 "nbformat_minor": 5
}
