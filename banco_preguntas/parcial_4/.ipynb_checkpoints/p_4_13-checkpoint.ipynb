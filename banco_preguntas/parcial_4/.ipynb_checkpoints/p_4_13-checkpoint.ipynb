{
 "cells": [
  {
   "cell_type": "markdown",
   "id": "75d2f373",
   "metadata": {
    "slideshow": {
     "slide_type": "slide"
    }
   },
   "source": [
    "<table align=\"left\">\n",
    "  <td>\n",
    "    <a href=\"https://colab.research.google.com/github/marco-canas/edo/blob/main/banco_preguntas/parcial_4/p_4_13.ipynb\" target=\"_parent\"><img src=\"https://colab.research.google.com/assets/colab-badge.svg\" alt=\"Open In Colab\"/></a>\n",
    "  </td>\n",
    "</table>"
   ]
  },
  {
   "cell_type": "markdown",
   "id": "e1ff70e1",
   "metadata": {
    "slideshow": {
     "slide_type": "slide"
    }
   },
   "source": [
    "# Parcial 4 sobre Dinámica poblacional"
   ]
  },
  {
   "cell_type": "markdown",
   "id": "f4289e7c",
   "metadata": {
    "slideshow": {
     "slide_type": "slide"
    }
   },
   "source": [
    "## Punto 1 \n",
    "\n",
    "### Población salvaje  \n",
    "\n",
    "La razón de cambio del número de iguanas $I(t)$ en una población es directamente proporcional a $500 - I(t)$, donde $t$ es el tiempo en años. Cuando $t = 0$, la población es 100, y cuando $t = 2$, la población se incrementó a 300.   \n",
    "\n",
    "* Plantee y resuelva el PVI que modela la situación\n",
    "* Encontrar la población cuando $t = 3$.  \n",
    "* Verifique que la solución encontrada satisface el PVI. \n",
    "\n"
   ]
  },
  {
   "cell_type": "markdown",
   "id": "c2d31213",
   "metadata": {
    "slideshow": {
     "slide_type": "slide"
    }
   },
   "source": [
    "## Solución"
   ]
  },
  {
   "cell_type": "markdown",
   "id": "e870ce2e",
   "metadata": {
    "slideshow": {
     "slide_type": "slide"
    }
   },
   "source": [
    "$$ \\frac{dI}{dt} = k(500 - t), \\ \\ \\ \\ \\ I(0) = 100, \\ \\ I(2) = 300, \\ \\ \\ \\ I(3) = ?? $$"
   ]
  },
  {
   "cell_type": "markdown",
   "id": "bf0550a7",
   "metadata": {
    "slideshow": {
     "slide_type": "slide"
    }
   },
   "source": [
    "## Solución con Sympy"
   ]
  },
  {
   "cell_type": "code",
   "execution_count": 1,
   "id": "b44a63fc",
   "metadata": {},
   "outputs": [],
   "source": [
    "from sympy import *"
   ]
  },
  {
   "cell_type": "code",
   "execution_count": 2,
   "id": "acf33921",
   "metadata": {
    "slideshow": {
     "slide_type": "slide"
    }
   },
   "outputs": [],
   "source": [
    "I, t, k = var('I, t, k')"
   ]
  },
  {
   "cell_type": "code",
   "execution_count": 3,
   "id": "d1112b5f",
   "metadata": {
    "slideshow": {
     "slide_type": "slide"
    }
   },
   "outputs": [],
   "source": [
    "I = Function('I')"
   ]
  },
  {
   "cell_type": "code",
   "execution_count": 4,
   "id": "f04dc1b3",
   "metadata": {
    "slideshow": {
     "slide_type": "slide"
    }
   },
   "outputs": [],
   "source": [
    "ed = Eq(diff(I(t), t), k*(500 - I(t)))"
   ]
  },
  {
   "cell_type": "code",
   "execution_count": 5,
   "id": "b54b4d75",
   "metadata": {},
   "outputs": [
    {
     "data": {
      "text/latex": [
       "$\\displaystyle I{\\left(t \\right)} = C_{1} e^{- k t} + 500$"
      ],
      "text/plain": [
       "Eq(I(t), C1*exp(-k*t) + 500)"
      ]
     },
     "execution_count": 5,
     "metadata": {},
     "output_type": "execute_result"
    }
   ],
   "source": [
    "dsolve(ed, I(t))"
   ]
  },
  {
   "cell_type": "code",
   "execution_count": null,
   "id": "5f0a35c9",
   "metadata": {},
   "outputs": [],
   "source": []
  },
  {
   "cell_type": "code",
   "execution_count": null,
   "id": "00b93d21",
   "metadata": {},
   "outputs": [],
   "source": []
  },
  {
   "cell_type": "markdown",
   "id": "5292f33f",
   "metadata": {
    "slideshow": {
     "slide_type": "slide"
    }
   },
   "source": [
    "## Punto 2 \n",
    "### Crecimiento de bacterias \n",
    "Inicialmente un cultivo tiene un número $P_{0}$ de bacterias. \n",
    "En $t=1$ h se determina que el número de bacterias es $2P_{0}$.\n",
    "Si la razón de crecimiento es proporcional al número de bacterias $P(t)$ presentes en el tiempo $t$, determine el tiempo necesario para que se la población sea de $8P_{0}$.\n",
    "\n",
    "* Plantee El PVI que modele la situación real planteada\n",
    "* Resuelva analíticamente el PVI dado empezando por clasificar de manera justificada la ED del problema. \n",
    "* Verifique que la función encontrada satisface el PVI, es decir, verifique que la función solución satisface la ED y las condiciones iniciales. "
   ]
  },
  {
   "cell_type": "code",
   "execution_count": 6,
   "id": "2dba0a56",
   "metadata": {
    "slideshow": {
     "slide_type": "slide"
    }
   },
   "outputs": [],
   "source": [
    "P,t, k, P0 = var('P,t,k, P0')"
   ]
  },
  {
   "cell_type": "code",
   "execution_count": 7,
   "id": "61bd208d",
   "metadata": {
    "slideshow": {
     "slide_type": "slide"
    }
   },
   "outputs": [],
   "source": [
    "P = Function('P')"
   ]
  },
  {
   "cell_type": "code",
   "execution_count": 8,
   "id": "5b46565e",
   "metadata": {
    "slideshow": {
     "slide_type": "slide"
    }
   },
   "outputs": [],
   "source": [
    "ed = Eq(diff(P(t), t), k*P(t))"
   ]
  },
  {
   "cell_type": "markdown",
   "id": "be3409c3",
   "metadata": {
    "slideshow": {
     "slide_type": "slide"
    }
   },
   "source": [
    "# Determinación de la solución general"
   ]
  },
  {
   "cell_type": "code",
   "execution_count": 9,
   "id": "7f806279",
   "metadata": {
    "slideshow": {
     "slide_type": "slide"
    }
   },
   "outputs": [
    {
     "data": {
      "text/latex": [
       "$\\displaystyle P{\\left(t \\right)} = C_{1} e^{k t}$"
      ],
      "text/plain": [
       "Eq(P(t), C1*exp(k*t))"
      ]
     },
     "execution_count": 9,
     "metadata": {},
     "output_type": "execute_result"
    }
   ],
   "source": [
    "sol_gen = dsolve(ed, P(t), hint = 'separable') \n",
    "sol_gen "
   ]
  },
  {
   "cell_type": "markdown",
   "id": "33e02f20",
   "metadata": {
    "slideshow": {
     "slide_type": "slide"
    }
   },
   "source": [
    "# Determinación de la solución del PVI"
   ]
  },
  {
   "cell_type": "code",
   "execution_count": 10,
   "id": "89a665b8",
   "metadata": {
    "slideshow": {
     "slide_type": "slide"
    }
   },
   "outputs": [
    {
     "data": {
      "text/latex": [
       "$\\displaystyle P{\\left(t \\right)} = P_{0} e^{k t}$"
      ],
      "text/plain": [
       "Eq(P(t), P0*exp(k*t))"
      ]
     },
     "execution_count": 10,
     "metadata": {},
     "output_type": "execute_result"
    }
   ],
   "source": [
    "sol_pvi = dsolve(ed, P(t), hint = 'separable', ics = {sol_gen.lhs.subs(t,0):P0})\n",
    "sol_pvi "
   ]
  },
  {
   "cell_type": "markdown",
   "id": "d77a0ef6",
   "metadata": {
    "slideshow": {
     "slide_type": "slide"
    }
   },
   "source": [
    "# Determinación de la constante de proporcionalidad\n",
    "\n",
    "Utilicemos la segunda condición dada $P(1) = 2P_{0}$ para determinar la constante de proporcionalidad"
   ]
  },
  {
   "cell_type": "code",
   "execution_count": 11,
   "id": "9245c399",
   "metadata": {
    "slideshow": {
     "slide_type": "slide"
    }
   },
   "outputs": [
    {
     "data": {
      "text/latex": [
       "$\\displaystyle 2 P_{0} = P_{0} e^{k}$"
      ],
      "text/plain": [
       "Eq(2*P0, P0*exp(k))"
      ]
     },
     "execution_count": 11,
     "metadata": {},
     "output_type": "execute_result"
    }
   ],
   "source": [
    "ecua_k = Eq(2*P0, P0*exp(k*1))\n",
    "ecua_k"
   ]
  },
  {
   "cell_type": "code",
   "execution_count": 19,
   "id": "997a69f2",
   "metadata": {},
   "outputs": [
    {
     "data": {
      "text/latex": [
       "$\\displaystyle \\log{\\left(2 \\right)}$"
      ],
      "text/plain": [
       "log(2)"
      ]
     },
     "execution_count": 19,
     "metadata": {},
     "output_type": "execute_result"
    }
   ],
   "source": [
    "solve(ecua_k, k)[0]"
   ]
  },
  {
   "cell_type": "code",
   "execution_count": 15,
   "id": "242102b8",
   "metadata": {
    "slideshow": {
     "slide_type": "slide"
    }
   },
   "outputs": [
    {
     "data": {
      "text/latex": [
       "$\\displaystyle 0.69$"
      ],
      "text/plain": [
       "0.69"
      ]
     },
     "execution_count": 15,
     "metadata": {},
     "output_type": "execute_result"
    }
   ],
   "source": [
    "k = round(solve(ecua_k, k)[0].evalf(),2)"
   ]
  },
  {
   "cell_type": "markdown",
   "id": "72ed4cb8",
   "metadata": {
    "slideshow": {
     "slide_type": "slide"
    }
   },
   "source": [
    "# Solución del PVI con la constante de proporcionalidad"
   ]
  },
  {
   "cell_type": "markdown",
   "id": "b91ecf9b",
   "metadata": {
    "slideshow": {
     "slide_type": "slide"
    }
   },
   "source": [
    "$$P(t) = P_{0}e^{t\\ln 2} = P_{0}\\left( e^{\\ln 2} \\right)^{t} $$"
   ]
  },
  {
   "cell_type": "markdown",
   "id": "c3da0403",
   "metadata": {
    "slideshow": {
     "slide_type": "slide"
    }
   },
   "source": [
    "$$ P(t) = P_{0}2^{t} $$"
   ]
  },
  {
   "cell_type": "code",
   "execution_count": 16,
   "id": "ac42f318",
   "metadata": {
    "slideshow": {
     "slide_type": "slide"
    }
   },
   "outputs": [
    {
     "data": {
      "text/latex": [
       "$\\displaystyle 2^{t} P_{0}$"
      ],
      "text/plain": [
       "2**t*P0"
      ]
     },
     "execution_count": 16,
     "metadata": {},
     "output_type": "execute_result"
    }
   ],
   "source": [
    "sol_pvi_con_k = P0*2**t\n",
    "sol_pvi_con_k"
   ]
  },
  {
   "cell_type": "code",
   "execution_count": 20,
   "id": "bfacde0b",
   "metadata": {
    "slideshow": {
     "slide_type": "slide"
    }
   },
   "outputs": [
    {
     "data": {
      "text/plain": [
       "(True, 0)"
      ]
     },
     "execution_count": 20,
     "metadata": {},
     "output_type": "execute_result"
    }
   ],
   "source": [
    "checkodesol(ed.subs(k, log(2)), sol_pvi_con_k)"
   ]
  },
  {
   "cell_type": "markdown",
   "id": "533858b5",
   "metadata": {
    "slideshow": {
     "slide_type": "slide"
    }
   },
   "source": [
    "Como la tupla en la salida anterior tiene segunda componente igual a cero, entonces la solución encontrada es correcta"
   ]
  },
  {
   "cell_type": "markdown",
   "id": "ff742bcb",
   "metadata": {
    "slideshow": {
     "slide_type": "slide"
    }
   },
   "source": [
    "# Graficación de la solución del PVI con constante de proporcionalidad $k$"
   ]
  },
  {
   "cell_type": "code",
   "execution_count": 35,
   "id": "370e1224",
   "metadata": {
    "slideshow": {
     "slide_type": "slide"
    }
   },
   "outputs": [
    {
     "data": {
      "application/vnd.jupyter.widget-view+json": {
       "model_id": "ec77f7d15c0840fcbe9ed1c1e522b34f",
       "version_major": 2,
       "version_minor": 0
      },
      "text/plain": [
       "interactive(children=(IntSlider(value=1, description='P0', max=10, min=1), Output()), _dom_classes=('widget-in…"
      ]
     },
     "metadata": {},
     "output_type": "display_data"
    }
   ],
   "source": [
    "import numpy as np \n",
    "import matplotlib.pyplot as plt \n",
    "\n",
    "from ipywidgets import interact\n",
    "\n",
    "def solGen(P0, t):\n",
    "    return P0*2**t\n",
    "\n",
    "def grafica_sol_pvi(P0 = 1):\n",
    "    fig, ax = plt.subplots()\n",
    "    dominio = np.arange(0, 5)\n",
    "    rango = [ solGen(P0, t) for t in dominio ]\n",
    "    ax.plot(dominio, rango)\n",
    "    plt.yticks(np.arange(P0, 11*P0, P0))\n",
    "    ax.grid()\n",
    "    ax.axis([min(dominio), max(dominio), 0, 10*P0])\n",
    "    \n",
    "interact(grafica_sol_pvi, P0= (1,10))    \n",
    "\n",
    "plt.show() "
   ]
  },
  {
   "cell_type": "code",
   "execution_count": null,
   "id": "055b2a72",
   "metadata": {},
   "outputs": [],
   "source": []
  },
  {
   "cell_type": "markdown",
   "id": "dfdd1740",
   "metadata": {
    "slideshow": {
     "slide_type": "slide"
    }
   },
   "source": [
    "## Punto 3  \n",
    "### Crecimiento de la población\n",
    "En este problema suponemos que un modelo de crecimiento de la población de una pequeña comunidad está dado por el problema con valores iniciales \n",
    "\n",
    "$$ \\frac{dP}{dt} = 0.1P(t) + 20, \\ \\ \\ \\ P(0) = 100  $$\n",
    "\n",
    "donde $P$ es el número de personas en la comunidad y el tiempo $t$ se mide en años. \n",
    "\n",
    "* ¿Qué tan rápido, es decir, con qué razón está aumentando la población en $t = 0$?   \n",
    "* Resuelva el PVI empezando por clasificar de manera justificada la ED.\n",
    "* Verifique que la función solución encontrada satisface el PVI, es decir, verifique que esta función satisface la ED y las condiciones iniciales. "
   ]
  },
  {
   "cell_type": "code",
   "execution_count": null,
   "id": "45321e94",
   "metadata": {
    "slideshow": {
     "slide_type": "slide"
    }
   },
   "outputs": [],
   "source": []
  },
  {
   "cell_type": "code",
   "execution_count": null,
   "id": "08baa5d7",
   "metadata": {},
   "outputs": [],
   "source": []
  },
  {
   "cell_type": "code",
   "execution_count": null,
   "id": "6c9a8555",
   "metadata": {},
   "outputs": [],
   "source": []
  },
  {
   "cell_type": "code",
   "execution_count": null,
   "id": "9d5d94d4",
   "metadata": {},
   "outputs": [],
   "source": []
  },
  {
   "cell_type": "code",
   "execution_count": null,
   "id": "fe04fae6",
   "metadata": {},
   "outputs": [],
   "source": []
  },
  {
   "cell_type": "code",
   "execution_count": null,
   "id": "075fad4b",
   "metadata": {},
   "outputs": [],
   "source": []
  },
  {
   "cell_type": "code",
   "execution_count": null,
   "id": "f8368f48",
   "metadata": {},
   "outputs": [],
   "source": []
  },
  {
   "cell_type": "code",
   "execution_count": null,
   "id": "b07a869a",
   "metadata": {},
   "outputs": [],
   "source": []
  },
  {
   "cell_type": "code",
   "execution_count": null,
   "id": "d794769d",
   "metadata": {},
   "outputs": [],
   "source": []
  },
  {
   "cell_type": "code",
   "execution_count": null,
   "id": "048a71e9",
   "metadata": {},
   "outputs": [],
   "source": []
  }
 ],
 "metadata": {
  "celltoolbar": "Slideshow",
  "kernelspec": {
   "display_name": "Python 3 (ipykernel)",
   "language": "python",
   "name": "python3"
  },
  "language_info": {
   "codemirror_mode": {
    "name": "ipython",
    "version": 3
   },
   "file_extension": ".py",
   "mimetype": "text/x-python",
   "name": "python",
   "nbconvert_exporter": "python",
   "pygments_lexer": "ipython3",
   "version": "3.9.12"
  }
 },
 "nbformat": 4,
 "nbformat_minor": 5
}
