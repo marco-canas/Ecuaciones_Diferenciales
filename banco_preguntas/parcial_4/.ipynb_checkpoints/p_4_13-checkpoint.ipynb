{
 "cells": [
  {
   "cell_type": "markdown",
   "id": "9cfc572a",
   "metadata": {
    "slideshow": {
     "slide_type": "slide"
    }
   },
   "source": [
    "<table align=\"left\">\n",
    "  <td>\n",
    "    <a href=\"https://colab.research.google.com/github/marco-canas/edo/blob/main/banco_preguntas/parcial_4/p_4_12.ipynb\" target=\"_parent\"><img src=\"https://colab.research.google.com/assets/colab-badge.svg\" alt=\"Open In Colab\"/></a>\n",
    "  </td>\n",
    "</table>"
   ]
  },
  {
   "cell_type": "markdown",
   "id": "ac0e650a",
   "metadata": {
    "slideshow": {
     "slide_type": "slide"
    }
   },
   "source": [
    "# Parcial 4 sobre Dinámica poblacional"
   ]
  },
  {
   "cell_type": "markdown",
   "id": "40190541",
   "metadata": {
    "slideshow": {
     "slide_type": "slide"
    }
   },
   "source": [
    "## Punto 1 \n",
    "\n",
    "### Población salvaje  \n",
    "\n",
    "La razón de cambio del número de iguanas $N(t)$ en una población es directamente proporcional a $500 - N(t)$, donde $t$ es el tiempo en años. Cuando $t = 0$, la población es 100, y cuando $t = 2$, la población se incrementó a 300.   \n",
    "\n",
    "Encontrar la población cuando $t = 3$.  \n",
    "\n"
   ]
  },
  {
   "cell_type": "markdown",
   "id": "57f5aed4",
   "metadata": {
    "slideshow": {
     "slide_type": "slide"
    }
   },
   "source": [
    "## Punto 2 \n",
    "### Crecimiento de bacterias \n",
    "Inicialmente un cultivo tiene un número $P_{0}$ de bacterias. \n",
    "En $t=1$ h se determina que el número de bacterias es $2P_{0}$.\n",
    "Si la razón de crecimiento es proporcional al número de bacterias $P(t)$ presentes en el tiempo $t$, determine el tiempo necesario para que se la población sea de $8P_{0}$.\n",
    "\n",
    "* Plantee El PVI que modele la situación real planteada\n",
    "* Resuelva analíticamente el PVI dado empezando por clasificar de manera justificada la ED del problema. \n",
    "* Verifique que la función encontrada satisface el PVI, es decir, verifique que la función solución satisface la ED y las condiciones iniciales. "
   ]
  },
  {
   "cell_type": "markdown",
   "id": "63576889",
   "metadata": {
    "slideshow": {
     "slide_type": "slide"
    }
   },
   "source": [
    "## Punto 3  \n",
    "### Crecimiento de la población\n",
    "En este problema suponemos que un modelo de crecimiento de la población de una pequeña comunidad está dado por el problema con valores iniciales \n",
    "\n",
    "$$ \\frac{dP}{dt} = 0.1P(t) + 20, \\ \\ \\ \\ P(0) = 100  $$\n",
    "\n",
    "donde $P$ es el número de personas en la comunidad y el tiempo $t$ se mide en años. \n",
    "\n",
    "* ¿Qué tan rápido, es decir, con qué razón está aumentando la población en $t = 0$?   \n",
    "* Resuelva el PVI empezando por clasificar de manera justificada la ED.\n",
    "* Verifique que la función solución encontrada satisface el PVI, es decir, verifique que esta función satisface la ED y las condiciones iniciales. "
   ]
  },
  {
   "cell_type": "code",
   "execution_count": null,
   "id": "d4bdbde2",
   "metadata": {},
   "outputs": [],
   "source": []
  },
  {
   "cell_type": "code",
   "execution_count": null,
   "id": "2aab9545",
   "metadata": {},
   "outputs": [],
   "source": []
  },
  {
   "cell_type": "code",
   "execution_count": null,
   "id": "a8873ee2",
   "metadata": {},
   "outputs": [],
   "source": []
  },
  {
   "cell_type": "code",
   "execution_count": null,
   "id": "45e34e13",
   "metadata": {},
   "outputs": [],
   "source": []
  },
  {
   "cell_type": "code",
   "execution_count": null,
   "id": "77691a54",
   "metadata": {},
   "outputs": [],
   "source": []
  },
  {
   "cell_type": "code",
   "execution_count": null,
   "id": "13493897",
   "metadata": {},
   "outputs": [],
   "source": []
  },
  {
   "cell_type": "code",
   "execution_count": null,
   "id": "cda0c238",
   "metadata": {},
   "outputs": [],
   "source": []
  },
  {
   "cell_type": "code",
   "execution_count": null,
   "id": "94262196",
   "metadata": {},
   "outputs": [],
   "source": []
  },
  {
   "cell_type": "code",
   "execution_count": null,
   "id": "9c769e1f",
   "metadata": {},
   "outputs": [],
   "source": []
  },
  {
   "cell_type": "code",
   "execution_count": null,
   "id": "4645a8b2",
   "metadata": {},
   "outputs": [],
   "source": []
  }
 ],
 "metadata": {
  "celltoolbar": "Slideshow",
  "kernelspec": {
   "display_name": "Python 3 (ipykernel)",
   "language": "python",
   "name": "python3"
  },
  "language_info": {
   "codemirror_mode": {
    "name": "ipython",
    "version": 3
   },
   "file_extension": ".py",
   "mimetype": "text/x-python",
   "name": "python",
   "nbconvert_exporter": "python",
   "pygments_lexer": "ipython3",
   "version": "3.9.12"
  }
 },
 "nbformat": 4,
 "nbformat_minor": 5
}
