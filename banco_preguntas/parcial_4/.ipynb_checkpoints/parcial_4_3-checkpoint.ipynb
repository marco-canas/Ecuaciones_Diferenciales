{
 "cells": [
  {
   "cell_type": "markdown",
   "id": "dfec0138",
   "metadata": {},
   "source": [
    "<table align=\"left\">\n",
    "  <td>\n",
    "    <a href=\"https://colab.research.google.com/github/marco-canas/Ecuaciones_Diferenciales/blob/main/asesoria_EDO/ejer_sec_3.1/Ejer_22_sec_3.1_Boyce_DiPrima.ipynb\" target=\"_parent\"><img src=\"https://colab.research.google.com/assets/colab-badge.svg\" alt=\"Open In Colab\"/></a>\n",
    "  </td>\n",
    "  <td>\n",
    "    <a target=\"_blank\" href=\"https://kaggle.com/kernels/welcome?src=https://github.com/marco-canas/Ecuaciones_Diferenciales/blob/main/asesoria_EDO/ejer_sec_3.1/Ejer_22_sec_3.1_Boyce_DiPrima.ipynb\"><img src=\"https://kaggle.com/static/images/open-in-kaggle.svg\" /></a>\n",
    "  </td>\n",
    "</table>"
   ]
  },
  {
   "cell_type": "markdown",
   "id": "d00cfd23",
   "metadata": {},
   "source": [
    "# Parcial 4_3"
   ]
  },
  {
   "cell_type": "markdown",
   "id": "a3aa0242",
   "metadata": {},
   "source": [
    "## Punto 1 (25 puntos) "
   ]
  },
  {
   "cell_type": "markdown",
   "id": "3e4c2bec",
   "metadata": {},
   "source": [
    "Ejercicio 8 de la sección 7.1  \n",
    "\n",
    "<img src = 'https://github.com/marco-canas/edo/blob/main/banco_preguntas/parcial_4/ejer_8_sec_7_1_zill.PNG?raw=true'> "
   ]
  },
  {
   "cell_type": "code",
   "execution_count": 5,
   "id": "35086954",
   "metadata": {},
   "outputs": [
    {
     "data": {
      "image/png": "[encoded data removed]",
      "text/plain": [
       "<Figure size 432x288 with 1 Axes>"
      ]
     },
     "metadata": {
      "needs_background": "light"
     },
     "output_type": "display_data"
    }
   ],
   "source": [
    "import numpy as np \n",
    "import matplotlib.pyplot as plt\n",
    "\n",
    "t1 = np.linspace(0,1,2)\n",
    "\n",
    "t2 = np.linspace(1,3,2)\n",
    "\n",
    "t = np.c_[t1,t2]\n",
    "\n",
    "f1 = 0*t1\n",
    "f2 = 2*(t2 - 2) + 2      # m(t-t0) + f0 La pendiente la dedicí utilizando la definición ascenso sobre avance.\n",
    "\n",
    "f = np.c_[f1,f2]\n",
    "\n",
    "fig = plt.figure()\n",
    "\n",
    "ax = fig.add_subplot()\n",
    "\n",
    "ax.grid() \n",
    "\n",
    "ax.plot(t,f)\n",
    "\n",
    "plt.savefig('ejer_8_sec_7_1_laplace_zill.jpg')\n",
    "\n",
    "plt.show() "
   ]
  },
  {
   "cell_type": "code",
   "execution_count": null,
   "id": "916d8958",
   "metadata": {},
   "outputs": [],
   "source": []
  },
  {
   "cell_type": "code",
   "execution_count": null,
   "id": "b16ba869",
   "metadata": {},
   "outputs": [],
   "source": []
  },
  {
   "cell_type": "markdown",
   "id": "8e84a824",
   "metadata": {},
   "source": [
    "## Punto 2 (25 puntos) "
   ]
  },
  {
   "cell_type": "markdown",
   "id": "633d0283",
   "metadata": {},
   "source": [
    "Ejercicio 10 de la sección 7.2 de Zill sobre transformada inversa de Laplace. \n",
    "\n",
    "\n"
   ]
  },
  {
   "cell_type": "code",
   "execution_count": null,
   "id": "e9017baf",
   "metadata": {},
   "outputs": [],
   "source": []
  },
  {
   "cell_type": "markdown",
   "id": "660a3788",
   "metadata": {},
   "source": [
    "## Punto 3 (25 puntos) "
   ]
  },
  {
   "cell_type": "code",
   "execution_count": null,
   "id": "0320fff9",
   "metadata": {},
   "outputs": [],
   "source": []
  },
  {
   "cell_type": "code",
   "execution_count": null,
   "id": "c37cf049",
   "metadata": {},
   "outputs": [],
   "source": []
  },
  {
   "cell_type": "markdown",
   "id": "6b0f2bf8",
   "metadata": {},
   "source": [
    "## Punto 4 Sustentación oral (25 puntos) "
   ]
  },
  {
   "cell_type": "code",
   "execution_count": null,
   "id": "e13a0c45",
   "metadata": {},
   "outputs": [],
   "source": []
  },
  {
   "cell_type": "markdown",
   "id": "5efa1c3b",
   "metadata": {},
   "source": [
    "## Asignación aleatoria de ejercicios"
   ]
  },
  {
   "cell_type": "code",
   "execution_count": 1,
   "id": "10d0554f",
   "metadata": {},
   "outputs": [
    {
     "data": {
      "text/html": [
       "<div>\n",
       "<style scoped>\n",
       "    .dataframe tbody tr th:only-of-type {\n",
       "        vertical-align: middle;\n",
       "    }\n",
       "\n",
       "    .dataframe tbody tr th {\n",
       "        vertical-align: top;\n",
       "    }\n",
       "\n",
       "    .dataframe thead th {\n",
       "        text-align: right;\n",
       "    }\n",
       "</style>\n",
       "<table border=\"1\" class=\"dataframe\">\n",
       "  <thead>\n",
       "    <tr style=\"text-align: right;\">\n",
       "      <th></th>\n",
       "      <th>Punto 1 Seccion 7.1</th>\n",
       "      <th>Punto 2 Sección 7.2 primera parte</th>\n",
       "      <th>Punto 2 Sección 7.2 Segunda parte</th>\n",
       "      <th>Punto 3 Sección 7.6</th>\n",
       "    </tr>\n",
       "  </thead>\n",
       "  <tbody>\n",
       "    <tr>\n",
       "      <th>juliana.aguilar@udea.edu.co</th>\n",
       "      <td>7</td>\n",
       "      <td>28</td>\n",
       "      <td>35</td>\n",
       "      <td>13</td>\n",
       "    </tr>\n",
       "    <tr>\n",
       "      <th>angel.arrieta@udea.edu.co</th>\n",
       "      <td>28</td>\n",
       "      <td>28</td>\n",
       "      <td>39</td>\n",
       "      <td>6</td>\n",
       "    </tr>\n",
       "    <tr>\n",
       "      <th>danis.canchila@udea.edu.co</th>\n",
       "      <td>8</td>\n",
       "      <td>10</td>\n",
       "      <td>41</td>\n",
       "      <td>3</td>\n",
       "    </tr>\n",
       "    <tr>\n",
       "      <th>sandra.cotuab@udea.edu.co</th>\n",
       "      <td>38</td>\n",
       "      <td>1</td>\n",
       "      <td>41</td>\n",
       "      <td>3</td>\n",
       "    </tr>\n",
       "    <tr>\n",
       "      <th>katherine.gallo@udea.edu.co</th>\n",
       "      <td>2</td>\n",
       "      <td>18</td>\n",
       "      <td>37</td>\n",
       "      <td>11</td>\n",
       "    </tr>\n",
       "    <tr>\n",
       "      <th>vmanuel.palacio@udea.edu.co</th>\n",
       "      <td>13</td>\n",
       "      <td>22</td>\n",
       "      <td>34</td>\n",
       "      <td>4</td>\n",
       "    </tr>\n",
       "    <tr>\n",
       "      <th>valentina.perezp@udea.edu.co</th>\n",
       "      <td>8</td>\n",
       "      <td>10</td>\n",
       "      <td>34</td>\n",
       "      <td>13</td>\n",
       "    </tr>\n",
       "    <tr>\n",
       "      <th>jolman.rivera@udea.edu.co</th>\n",
       "      <td>20</td>\n",
       "      <td>9</td>\n",
       "      <td>38</td>\n",
       "      <td>13</td>\n",
       "    </tr>\n",
       "    <tr>\n",
       "      <th>laura.ruiz1@udea.edu.co</th>\n",
       "      <td>32</td>\n",
       "      <td>21</td>\n",
       "      <td>38</td>\n",
       "      <td>8</td>\n",
       "    </tr>\n",
       "    <tr>\n",
       "      <th>eliana.sotov@udea.edu.co</th>\n",
       "      <td>11</td>\n",
       "      <td>16</td>\n",
       "      <td>32</td>\n",
       "      <td>10</td>\n",
       "    </tr>\n",
       "    <tr>\n",
       "      <th>robert.velasquez@udea.edu.co</th>\n",
       "      <td>20</td>\n",
       "      <td>15</td>\n",
       "      <td>34</td>\n",
       "      <td>12</td>\n",
       "    </tr>\n",
       "  </tbody>\n",
       "</table>\n",
       "</div>"
      ],
      "text/plain": [
       "                              Punto 1 Seccion 7.1  \\\n",
       "juliana.aguilar@udea.edu.co                     7   \n",
       "angel.arrieta@udea.edu.co                      28   \n",
       "danis.canchila@udea.edu.co                      8   \n",
       "sandra.cotuab@udea.edu.co                      38   \n",
       "katherine.gallo@udea.edu.co                     2   \n",
       "vmanuel.palacio@udea.edu.co                    13   \n",
       "valentina.perezp@udea.edu.co                    8   \n",
       "jolman.rivera@udea.edu.co                      20   \n",
       "laura.ruiz1@udea.edu.co                        32   \n",
       "eliana.sotov@udea.edu.co                       11   \n",
       "robert.velasquez@udea.edu.co                   20   \n",
       "\n",
       "                              Punto 2 Sección 7.2 primera parte  \\\n",
       "juliana.aguilar@udea.edu.co                                  28   \n",
       "angel.arrieta@udea.edu.co                                    28   \n",
       "danis.canchila@udea.edu.co                                   10   \n",
       "sandra.cotuab@udea.edu.co                                     1   \n",
       "katherine.gallo@udea.edu.co                                  18   \n",
       "vmanuel.palacio@udea.edu.co                                  22   \n",
       "valentina.perezp@udea.edu.co                                 10   \n",
       "jolman.rivera@udea.edu.co                                     9   \n",
       "laura.ruiz1@udea.edu.co                                      21   \n",
       "eliana.sotov@udea.edu.co                                     16   \n",
       "robert.velasquez@udea.edu.co                                 15   \n",
       "\n",
       "                              Punto 2 Sección 7.2 Segunda parte  \\\n",
       "juliana.aguilar@udea.edu.co                                  35   \n",
       "angel.arrieta@udea.edu.co                                    39   \n",
       "danis.canchila@udea.edu.co                                   41   \n",
       "sandra.cotuab@udea.edu.co                                    41   \n",
       "katherine.gallo@udea.edu.co                                  37   \n",
       "vmanuel.palacio@udea.edu.co                                  34   \n",
       "valentina.perezp@udea.edu.co                                 34   \n",
       "jolman.rivera@udea.edu.co                                    38   \n",
       "laura.ruiz1@udea.edu.co                                      38   \n",
       "eliana.sotov@udea.edu.co                                     32   \n",
       "robert.velasquez@udea.edu.co                                 34   \n",
       "\n",
       "                              Punto 3 Sección 7.6  \n",
       "juliana.aguilar@udea.edu.co                    13  \n",
       "angel.arrieta@udea.edu.co                       6  \n",
       "danis.canchila@udea.edu.co                      3  \n",
       "sandra.cotuab@udea.edu.co                       3  \n",
       "katherine.gallo@udea.edu.co                    11  \n",
       "vmanuel.palacio@udea.edu.co                     4  \n",
       "valentina.perezp@udea.edu.co                   13  \n",
       "jolman.rivera@udea.edu.co                      13  \n",
       "laura.ruiz1@udea.edu.co                         8  \n",
       "eliana.sotov@udea.edu.co                       10  \n",
       "robert.velasquez@udea.edu.co                   12  "
      ]
     },
     "execution_count": 1,
     "metadata": {},
     "output_type": "execute_result"
    }
   ],
   "source": [
    "import numpy as np \n",
    "import pandas as pd \n",
    "\n",
    "np.random.seed(40) \n",
    "\n",
    "laplace_def = np.random.randint(low = 1, high = 40, size = 11) \n",
    "\n",
    "inverse_transform = np.random.randint(low = 1, high = 30, size = 11)\n",
    "\n",
    "pvi_1_2_order = np.random.randint(low = 31, high = 42, size = 11) \n",
    "\n",
    "system_pvi = np.random.randint(low = 1, high = 14, size = 11) \n",
    "\n",
    "index_ = ['juliana.aguilar@udea.edu.co',\n",
    "         'angel.arrieta@udea.edu.co',\n",
    "         'danis.canchila@udea.edu.co',\n",
    "         'sandra.cotuab@udea.edu.co',\n",
    "         'katherine.gallo@udea.edu.co',\n",
    "         'vmanuel.palacio@udea.edu.co',\n",
    "         'valentina.perezp@udea.edu.co',\n",
    "         'jolman.rivera@udea.edu.co',\n",
    "         'laura.ruiz1@udea.edu.co',\n",
    "         'eliana.sotov@udea.edu.co',\n",
    "         'robert.velasquez@udea.edu.co']\n",
    "\n",
    "df = pd.DataFrame({'Punto 1 Seccion 7.1': laplace_def , \n",
    "                   'Punto 2 Sección 7.2 primera parte': inverse_transform, \n",
    "                   'Punto 2 Sección 7.2 Segunda parte': pvi_1_2_order,\n",
    "                   'Punto 3 Sección 7.6': system_pvi}, \n",
    "                  index = index_) \n",
    "df "
   ]
  },
  {
   "cell_type": "code",
   "execution_count": null,
   "id": "b43084f9",
   "metadata": {},
   "outputs": [],
   "source": []
  }
 ],
 "metadata": {
  "kernelspec": {
   "display_name": "Python 3",
   "language": "python",
   "name": "python3"
  },
  "language_info": {
   "codemirror_mode": {
    "name": "ipython",
    "version": 3
   },
   "file_extension": ".py",
   "mimetype": "text/x-python",
   "name": "python",
   "nbconvert_exporter": "python",
   "pygments_lexer": "ipython3",
   "version": "3.8.8"
  },
  "latex_envs": {
   "LaTeX_envs_menu_present": true,
   "autoclose": false,
   "autocomplete": false,
   "bibliofile": "biblio.bib",
   "cite_by": "apalike",
   "current_citInitial": 1,
   "eqLabelWithNumbers": true,
   "eqNumInitial": 1,
   "hotkeys": {
    "equation": "Ctrl-E",
    "itemize": "Ctrl-I"
   },
   "labels_anchors": false,
   "latex_user_defs": false,
   "report_style_numbering": false,
   "user_envs_cfg": false
  },
  "rise": {
   "enable_chalkboard": true,
   "theme": "sky",
   "transition": "zoom"
  }
 },
 "nbformat": 4,
 "nbformat_minor": 5
}
