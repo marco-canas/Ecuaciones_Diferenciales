{
 "cells": [
  {
   "cell_type": "markdown",
   "id": "dfec0138",
   "metadata": {
    "slideshow": {
     "slide_type": "slide"
    }
   },
   "source": [
    "<table align=\"left\">\n",
    "  <td>\n",
    "    <a href=\"https://colab.research.google.com/github/marco-canas/edo/blob/main/banco_preguntas/parcial_4/parcial_4_4.ipynb\" target=\"_parent\"><img src=\"https://colab.research.google.com/assets/colab-badge.svg\" alt=\"Open In Colab\"/></a>\n",
    "  </td>\n",
    "  <td>\n",
    "    <a target=\"_blank\" href=\"https://kaggle.com/kernels/welcome?src=https://github.com/marco-canas/edo/blob/main/banco_preguntas/parcial_4/parcial_4_4.ipynb\"><img src=\"https://kaggle.com/static/images/open-in-kaggle.svg\" /></a>\n",
    "  </td>\n",
    "</table>"
   ]
  },
  {
   "cell_type": "markdown",
   "id": "d00cfd23",
   "metadata": {
    "slideshow": {
     "slide_type": "slide"
    }
   },
   "source": [
    "# Parcial 4_4"
   ]
  },
  {
   "cell_type": "markdown",
   "id": "e8413017",
   "metadata": {
    "slideshow": {
     "slide_type": "slide"
    }
   },
   "source": [
    "## [Primer video de apoyo]()"
   ]
  },
  {
   "cell_type": "markdown",
   "id": "fa53c0d7",
   "metadata": {
    "slideshow": {
     "slide_type": "slide"
    }
   },
   "source": [
    "## Asignación aleatoria de problemas"
   ]
  },
  {
   "cell_type": "code",
   "execution_count": null,
   "id": "ff9852cf",
   "metadata": {
    "slideshow": {
     "slide_type": "slide"
    }
   },
   "outputs": [],
   "source": [
    "import numpy as np \n",
    "import pandas as pd \n",
    "\n",
    "np.random.seed(40) \n",
    "\n",
    "laplace_def = np.random.randint(low = 1, high = 40, size = 11) \n",
    "\n",
    "inverse_transform = np.random.randint(low = 1, high = 30, size = 11)\n",
    "\n",
    "pvi_1_2_order = np.random.randint(low = 31, high = 42, size = 11) \n",
    "\n",
    "system_pvi = np.random.randint(low = 1, high = 14, size = 11) \n",
    "\n",
    "students = ['juliana.aguilar@udea.edu.co',\n",
    "         'angel.arrieta@udea.edu.co',\n",
    "         'danis.canchila@udea.edu.co',\n",
    "         'sandra.cotuab@udea.edu.co',\n",
    "         'katherine.gallo@udea.edu.co',\n",
    "         'vmanuel.palacio@udea.edu.co',\n",
    "         'valentina.perezp@udea.edu.co',\n",
    "         'jolman.rivera@udea.edu.co',\n",
    "         'laura.ruiz1@udea.edu.co',\n",
    "         'eliana.sotov@udea.edu.co',\n",
    "         'robert.velasquez@udea.edu.co']\n",
    "\n",
    "df = pd.DataFrame({'students': students, \n",
    "    'Punto 1 Seccion 7.1': laplace_def , \n",
    "                   'Punto 2 Sección 7.2 primera parte': inverse_transform, \n",
    "                   'Punto 2 Sección 7.2 Segunda parte': pvi_1_2_order,\n",
    "                   'Punto 3 Sección 7.6': system_pvi}, \n",
    "                  index = np.arange(1,12)) \n",
    "df "
   ]
  },
  {
   "cell_type": "markdown",
   "id": "a3aa0242",
   "metadata": {
    "slideshow": {
     "slide_type": "slide"
    }
   },
   "source": [
    "## Punto 1 (25 puntos) "
   ]
  },
  {
   "cell_type": "markdown",
   "id": "14000f84",
   "metadata": {
    "slideshow": {
     "slide_type": "slide"
    }
   },
   "source": [
    "Ejercicio 38 de la sección 7.1 de Zill, página 277."
   ]
  },
  {
   "cell_type": "markdown",
   "id": "6d2e8058",
   "metadata": {
    "slideshow": {
     "slide_type": "slide"
    }
   },
   "source": [
    "Encuentre $L \\{ f(t) \\} $ usando primero una identidad trigonométrica.\n",
    "\n",
    "$$ f(t) = \\cos^{2}t $$\n"
   ]
  },
  {
   "cell_type": "markdown",
   "id": "8e84a824",
   "metadata": {
    "slideshow": {
     "slide_type": "slide"
    }
   },
   "source": [
    "## Punto 2 (25 puntos) "
   ]
  },
  {
   "cell_type": "markdown",
   "id": "1b497dd4",
   "metadata": {
    "slideshow": {
     "slide_type": "slide"
    }
   },
   "source": [
    "### Punto 2 Primera parte (10 puntos)"
   ]
  },
  {
   "cell_type": "markdown",
   "id": "b4c3053c",
   "metadata": {
    "slideshow": {
     "slide_type": "slide"
    }
   },
   "source": [
    "Ejercicio 1 de la sección 7.2 de Zill, página 286."
   ]
  },
  {
   "cell_type": "code",
   "execution_count": null,
   "id": "4d7727cd",
   "metadata": {
    "slideshow": {
     "slide_type": "slide"
    }
   },
   "outputs": [],
   "source": []
  },
  {
   "cell_type": "markdown",
   "id": "3b8f1617",
   "metadata": {
    "slideshow": {
     "slide_type": "slide"
    }
   },
   "source": [
    "### Punto 2 Segunda parte (15 puntos) "
   ]
  },
  {
   "cell_type": "markdown",
   "id": "bb7c4513",
   "metadata": {
    "slideshow": {
     "slide_type": "slide"
    }
   },
   "source": [
    "Ejercicio 41 de la sección 7.2 de Zill, página 286."
   ]
  },
  {
   "cell_type": "markdown",
   "id": "04337690",
   "metadata": {
    "slideshow": {
     "slide_type": "slide"
    }
   },
   "source": []
  },
  {
   "cell_type": "markdown",
   "id": "ff8e23f7",
   "metadata": {
    "slideshow": {
     "slide_type": "slide"
    }
   },
   "source": [
    "## Solución con sympy "
   ]
  },
  {
   "cell_type": "code",
   "execution_count": null,
   "id": "d4e8512a",
   "metadata": {
    "slideshow": {
     "slide_type": "slide"
    }
   },
   "outputs": [],
   "source": []
  },
  {
   "cell_type": "markdown",
   "id": "660a3788",
   "metadata": {
    "slideshow": {
     "slide_type": "slide"
    }
   },
   "source": [
    "## Punto 3 (25 puntos) "
   ]
  },
  {
   "cell_type": "markdown",
   "id": "5f47175d",
   "metadata": {
    "slideshow": {
     "slide_type": "slide"
    }
   },
   "source": [
    "Ejercicio 3 de la sección 7.6 de Zill, página 315."
   ]
  },
  {
   "cell_type": "markdown",
   "id": "807f1e05",
   "metadata": {
    "slideshow": {
     "slide_type": "slide"
    }
   },
   "source": [
    "\\begin{align*}\n",
    "x' & = x - 2y \\\\\n",
    "y' & = 5x - y \n",
    "\\end{align*}\n",
    "\n",
    "$$x(0) = -1, \\ \\ \\ \\ y(0) = 2. $$\n"
   ]
  },
  {
   "cell_type": "markdown",
   "id": "e9a50f39",
   "metadata": {
    "slideshow": {
     "slide_type": "slide"
    }
   },
   "source": [
    "## Metodología de solución"
   ]
  },
  {
   "cell_type": "markdown",
   "id": "7a905047",
   "metadata": {
    "slideshow": {
     "slide_type": "slide"
    }
   },
   "source": [
    "1. Aplicar transformada de Laplace para convertir el sistema de ecuaciones diferenciales en un sistema algebraico.\n",
    "2. Resolver el sistema algebraico.\n",
    "3. Aplicar transformada inversa para obtener la solución del sistema de Ecuaciones diferenciales. "
   ]
  },
  {
   "cell_type": "markdown",
   "id": "0cf0b983",
   "metadata": {
    "slideshow": {
     "slide_type": "slide"
    }
   },
   "source": [
    "## Solución con sympy "
   ]
  },
  {
   "cell_type": "code",
   "execution_count": 1,
   "id": "cfe5a37b",
   "metadata": {
    "slideshow": {
     "slide_type": "slide"
    }
   },
   "outputs": [],
   "source": [
    "import numpy as np \n",
    "import matplotlib.pyplot as plt \n",
    "from sympy import * "
   ]
  },
  {
   "cell_type": "code",
   "execution_count": 2,
   "id": "70ab1393",
   "metadata": {
    "slideshow": {
     "slide_type": "slide"
    }
   },
   "outputs": [],
   "source": [
    "t = symbols('t', nonegative = True) # x = x(t)\n",
    "s = symbols('s', positive = True)  # y = y(t)\n",
    "x,X,y,Y,x_,y_ = symbols('x,X,y,Y,x_,y_')\n",
    "x = Function('x') # establecer que ellas son variables dependientes \n",
    "y = Function('y')\n",
    "x_ = Function('x_')\n",
    "y_ = Function('y_')\n",
    "X = Function('X') \n",
    "Y = Function('Y') "
   ]
  },
  {
   "cell_type": "code",
   "execution_count": 3,
   "id": "f575e169",
   "metadata": {
    "slideshow": {
     "slide_type": "slide"
    }
   },
   "outputs": [],
   "source": [
    "def L(f):\n",
    "    return laplace_transform(f,t,s, noconds = True)  \n",
    "\n",
    "def inv_L(F):\n",
    "    return inverse_laplace_transform(F,s,t, noconds = True)  \n",
    "\n",
    "def L_diff(f, f0, fp0 = 0, fpp0 = 0 , n = 1): # esta función es para calcular transformadas de derivadas\n",
    "    \"\"\"\n",
    "    f:variable dependiente\n",
    "    f0:primera condición inicial\n",
    "    fp0: segunda condición inicial.\n",
    "    fpp0: tercera condición inicial \n",
    "    n puede asumir los valores de 0,1,2,3 y representa el orden de la derivada\n",
    "    \"\"\"\n",
    "    F = str(f).upper()\n",
    "    F = symbols(F) \n",
    "    F = Function(F)(s) \n",
    "    if n == 0:\n",
    "        L = F\n",
    "    elif n == 1:\n",
    "        L = s*F - f0\n",
    "    elif n == 2:\n",
    "        L = s**2*F - s*f0 - fp0\n",
    "    elif n == 3:\n",
    "        L = s**3*F - s**2*f0 - s*fp0 - fpp0\n",
    "    return L "
   ]
  },
  {
   "cell_type": "code",
   "execution_count": 4,
   "id": "bc8d34ad",
   "metadata": {
    "scrolled": true,
    "slideshow": {
     "slide_type": "slide"
    }
   },
   "outputs": [
    {
     "data": {
      "text/latex": [
       "$\\displaystyle \\frac{d}{d t} x{\\left(t \\right)} = x{\\left(t \\right)} - 2 y{\\left(t \\right)}$"
      ],
      "text/plain": [
       "Eq(Derivative(x(t), t), x(t) - 2*y(t))"
      ]
     },
     "metadata": {},
     "output_type": "display_data"
    },
    {
     "data": {
      "text/latex": [
       "$\\displaystyle \\frac{d}{d t} y{\\left(t \\right)} = 5 x{\\left(t \\right)} - y{\\left(t \\right)}$"
      ],
      "text/plain": [
       "Eq(Derivative(y(t), t), 5*x(t) - y(t))"
      ]
     },
     "metadata": {},
     "output_type": "display_data"
    }
   ],
   "source": [
    "#\\begin{align*}\n",
    "#x' & = x - 2y \\\\\n",
    "#y' & = 5x - y \n",
    "#\\end{align*}\n",
    "\n",
    "#$$x(0) = -1, \\ \\ \\ \\ y(0) = 2. $$\n",
    "\n",
    "eq1 = Eq(diff(x(t),t), x(t) - 2*y(t)) \n",
    "eq2 = Eq(diff(y(t),t), 5*x(t) - y(t) ) \n",
    "\n",
    "display(eq1, eq2) "
   ]
  },
  {
   "cell_type": "markdown",
   "id": "a2a2c060",
   "metadata": {
    "slideshow": {
     "slide_type": "slide"
    }
   },
   "source": [
    "### Obtengamos el sistema algebraico"
   ]
  },
  {
   "cell_type": "code",
   "execution_count": 5,
   "id": "0376b19c",
   "metadata": {
    "slideshow": {
     "slide_type": "slide"
    }
   },
   "outputs": [
    {
     "data": {
      "text/latex": [
       "$\\displaystyle s X{\\left(s \\right)} + 1 = X{\\left(s \\right)} - 2 Y{\\left(s \\right)}$"
      ],
      "text/plain": [
       "Eq(s*X(s) + 1, X(s) - 2*Y(s))"
      ]
     },
     "metadata": {},
     "output_type": "display_data"
    },
    {
     "data": {
      "text/latex": [
       "$\\displaystyle s Y{\\left(s \\right)} - 2 = 5 X{\\left(s \\right)} - Y{\\left(s \\right)}$"
      ],
      "text/plain": [
       "Eq(s*Y(s) - 2, 5*X(s) - Y(s))"
      ]
     },
     "metadata": {},
     "output_type": "display_data"
    }
   ],
   "source": [
    "#\\begin{align*}\n",
    "#x' & = x - 2y \\\\\n",
    "#y' & = 5x - y \n",
    "#\\end{align*}\n",
    "\n",
    "#$$x(0) = -1, \\ \\ \\ \\ y(0) = 2. $$\n",
    "\n",
    "eq1_laplace = Eq( L_diff(x, -1, n = 1), L_diff(x,-1,n=0) - 2*L_diff(y,2,n=0) )  \n",
    "eq2_laplace = Eq( L_diff(y, 2, n = 1), 5*L_diff(x,-1,n=0) - L_diff(y,2,n=0) )   \n",
    "display(eq1_laplace, eq2_laplace)  "
   ]
  },
  {
   "cell_type": "code",
   "execution_count": 6,
   "id": "42e3853a",
   "metadata": {
    "slideshow": {
     "slide_type": "slide"
    }
   },
   "outputs": [
    {
     "data": {
      "text/plain": [
       "{X(s): (-s - 5)/(s**2 + 9), Y(s): (2*s - 7)/(s**2 + 9)}"
      ]
     },
     "execution_count": 6,
     "metadata": {},
     "output_type": "execute_result"
    }
   ],
   "source": [
    "sol_sist_algebra = solve([eq1_laplace, eq2_laplace], (X(s), Y(s)))\n",
    "sol_sist_algebra "
   ]
  },
  {
   "cell_type": "code",
   "execution_count": 7,
   "id": "9caae084",
   "metadata": {
    "slideshow": {
     "slide_type": "slide"
    }
   },
   "outputs": [
    {
     "data": {
      "text/latex": [
       "$\\displaystyle \\frac{- s - 5}{s^{2} + 9}$"
      ],
      "text/plain": [
       "(-s - 5)/(s**2 + 9)"
      ]
     },
     "execution_count": 7,
     "metadata": {},
     "output_type": "execute_result"
    }
   ],
   "source": [
    "X_s = sol_sist_algebra[X(s)]\n",
    "X_s "
   ]
  },
  {
   "cell_type": "code",
   "execution_count": 8,
   "id": "e1eed6a1",
   "metadata": {
    "slideshow": {
     "slide_type": "slide"
    }
   },
   "outputs": [
    {
     "data": {
      "text/latex": [
       "$\\displaystyle \\frac{2 s - 7}{s^{2} + 9}$"
      ],
      "text/plain": [
       "(2*s - 7)/(s**2 + 9)"
      ]
     },
     "execution_count": 8,
     "metadata": {},
     "output_type": "execute_result"
    }
   ],
   "source": [
    "Y_s = sol_sist_algebra[Y(s)]\n",
    "Y_s "
   ]
  },
  {
   "cell_type": "code",
   "execution_count": 9,
   "id": "87ab59e1",
   "metadata": {
    "slideshow": {
     "slide_type": "slide"
    }
   },
   "outputs": [],
   "source": [
    "x_ = inv_L(X_s)"
   ]
  },
  {
   "cell_type": "code",
   "execution_count": 10,
   "id": "b4db5895",
   "metadata": {},
   "outputs": [
    {
     "data": {
      "text/latex": [
       "$\\displaystyle - \\frac{\\left(5 \\sin{\\left(3 t \\right)} + 3 \\cos{\\left(3 t \\right)}\\right) \\theta\\left(t\\right)}{3}$"
      ],
      "text/plain": [
       "-(5*sin(3*t) + 3*cos(3*t))*Heaviside(t)/3"
      ]
     },
     "execution_count": 10,
     "metadata": {},
     "output_type": "execute_result"
    }
   ],
   "source": [
    "x_ "
   ]
  },
  {
   "cell_type": "code",
   "execution_count": 11,
   "id": "d31a3b0b",
   "metadata": {
    "slideshow": {
     "slide_type": "slide"
    }
   },
   "outputs": [
    {
     "data": {
      "text/latex": [
       "$\\displaystyle - \\frac{5 \\sin{\\left(3 t \\right)}}{3} - \\cos{\\left(3 t \\right)}$"
      ],
      "text/plain": [
       "-5*sin(3*t)/3 - cos(3*t)"
      ]
     },
     "execution_count": 11,
     "metadata": {},
     "output_type": "execute_result"
    }
   ],
   "source": [
    "x_ = x_.subs({Heaviside(t):1})\n",
    "x_ "
   ]
  },
  {
   "cell_type": "code",
   "execution_count": 12,
   "id": "7ab49870",
   "metadata": {
    "slideshow": {
     "slide_type": "slide"
    }
   },
   "outputs": [
    {
     "data": {
      "text/latex": [
       "$\\displaystyle - \\frac{7 \\sin{\\left(3 t \\right)}}{3} + 2 \\cos{\\left(3 t \\right)}$"
      ],
      "text/plain": [
       "-7*sin(3*t)/3 + 2*cos(3*t)"
      ]
     },
     "execution_count": 12,
     "metadata": {},
     "output_type": "execute_result"
    }
   ],
   "source": [
    "y_ = inv_L(Y_s)\n",
    "y_ = y_.subs({Heaviside(t):1})\n",
    "y_ "
   ]
  },
  {
   "cell_type": "markdown",
   "id": "e0f53052",
   "metadata": {
    "slideshow": {
     "slide_type": "slide"
    }
   },
   "source": [
    "## Verificación con sympy"
   ]
  },
  {
   "cell_type": "code",
   "execution_count": 13,
   "id": "6e13e486",
   "metadata": {
    "slideshow": {
     "slide_type": "slide"
    }
   },
   "outputs": [
    {
     "data": {
      "text/latex": [
       "$\\displaystyle \\text{True}$"
      ],
      "text/plain": [
       "True"
      ]
     },
     "execution_count": 13,
     "metadata": {},
     "output_type": "execute_result"
    }
   ],
   "source": [
    "eq1.subs({x(t):x_, y(t):y_}).simplify()"
   ]
  },
  {
   "cell_type": "code",
   "execution_count": 14,
   "id": "6c868a5a",
   "metadata": {
    "slideshow": {
     "slide_type": "slide"
    }
   },
   "outputs": [
    {
     "data": {
      "text/latex": [
       "$\\displaystyle \\text{True}$"
      ],
      "text/plain": [
       "True"
      ]
     },
     "execution_count": 14,
     "metadata": {},
     "output_type": "execute_result"
    }
   ],
   "source": [
    "eq2.subs({x(t):x_, y(t):y_}).simplify() "
   ]
  },
  {
   "cell_type": "code",
   "execution_count": 15,
   "id": "a9d2cc15",
   "metadata": {
    "slideshow": {
     "slide_type": "slide"
    }
   },
   "outputs": [
    {
     "data": {
      "text/latex": [
       "$\\displaystyle -1$"
      ],
      "text/plain": [
       "-1"
      ]
     },
     "execution_count": 15,
     "metadata": {},
     "output_type": "execute_result"
    }
   ],
   "source": [
    "x_.subs({t:0}) "
   ]
  },
  {
   "cell_type": "code",
   "execution_count": 16,
   "id": "86d6a9b2",
   "metadata": {
    "slideshow": {
     "slide_type": "slide"
    }
   },
   "outputs": [
    {
     "data": {
      "text/latex": [
       "$\\displaystyle 2$"
      ],
      "text/plain": [
       "2"
      ]
     },
     "execution_count": 16,
     "metadata": {},
     "output_type": "execute_result"
    }
   ],
   "source": [
    "y_.subs({t:0}) "
   ]
  },
  {
   "cell_type": "markdown",
   "id": "c03d066d",
   "metadata": {
    "slideshow": {
     "slide_type": "slide"
    }
   },
   "source": [
    "### Conclusión de la verificación:\n",
    "\n",
    "Las funciones $x(t)$ y $y(t)$ encontradas, satisfacen el problema con valor inicial dado. "
   ]
  },
  {
   "cell_type": "markdown",
   "id": "9ca15418",
   "metadata": {
    "slideshow": {
     "slide_type": "slide"
    }
   },
   "source": [
    "## Graficación de las funciones solución $x(t)$ y $y(t)$"
   ]
  },
  {
   "cell_type": "code",
   "execution_count": 18,
   "id": "ce8f0bfc",
   "metadata": {
    "slideshow": {
     "slide_type": "slide"
    }
   },
   "outputs": [
    {
     "data": {
      "image/png": "[encoded data removed]",
      "text/plain": [
       "<Figure size 720x360 with 2 Axes>"
      ]
     },
     "metadata": {
      "needs_background": "light"
     },
     "output_type": "display_data"
    }
   ],
   "source": [
    "import numpy as np \n",
    "from matplotlib import pyplot \n",
    "\n",
    "fig = plt.figure(figsize = (10,5))\n",
    "\n",
    "ax1 = fig.add_subplot(121)\n",
    "ax2 = fig.add_subplot(122)\n",
    "\n",
    "\n"
   ]
  },
  {
   "cell_type": "markdown",
   "id": "2bf256dc",
   "metadata": {
    "slideshow": {
     "slide_type": "slide"
    }
   },
   "source": [
    "### Conclusión del Gráfico "
   ]
  },
  {
   "cell_type": "markdown",
   "id": "6b0f2bf8",
   "metadata": {
    "slideshow": {
     "slide_type": "slide"
    }
   },
   "source": [
    "## Punto 4 Sustentación oral (25 puntos) "
   ]
  },
  {
   "cell_type": "code",
   "execution_count": null,
   "id": "e13a0c45",
   "metadata": {
    "slideshow": {
     "slide_type": "slide"
    }
   },
   "outputs": [],
   "source": []
  }
 ],
 "metadata": {
  "celltoolbar": "Slideshow",
  "kernelspec": {
   "display_name": "Python 3",
   "language": "python",
   "name": "python3"
  },
  "language_info": {
   "codemirror_mode": {
    "name": "ipython",
    "version": 3
   },
   "file_extension": ".py",
   "mimetype": "text/x-python",
   "name": "python",
   "nbconvert_exporter": "python",
   "pygments_lexer": "ipython3",
   "version": "3.8.8"
  },
  "latex_envs": {
   "LaTeX_envs_menu_present": true,
   "autoclose": false,
   "autocomplete": false,
   "bibliofile": "biblio.bib",
   "cite_by": "apalike",
   "current_citInitial": 1,
   "eqLabelWithNumbers": true,
   "eqNumInitial": 1,
   "hotkeys": {
    "equation": "Ctrl-E",
    "itemize": "Ctrl-I"
   },
   "labels_anchors": false,
   "latex_user_defs": false,
   "report_style_numbering": false,
   "user_envs_cfg": false
  },
  "rise": {
   "enable_chalkboard": true,
   "theme": "sky",
   "transition": "zoom"
  }
 },
 "nbformat": 4,
 "nbformat_minor": 5
}
