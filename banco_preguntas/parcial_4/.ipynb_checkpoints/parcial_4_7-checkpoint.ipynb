{
 "cells": [
  {
   "cell_type": "markdown",
   "id": "dfec0138",
   "metadata": {},
   "source": [
    "<table align=\"left\">\n",
    "  <td>\n",
    "    <a href=\"https://colab.research.google.com/github/marco-canas/Ecuaciones_Diferenciales/blob/main/asesoria_EDO/ejer_sec_3.1/Ejer_22_sec_3.1_Boyce_DiPrima.ipynb\" target=\"_parent\"><img src=\"https://colab.research.google.com/assets/colab-badge.svg\" alt=\"Open In Colab\"/></a>\n",
    "  </td>\n",
    "  <td>\n",
    "    <a target=\"_blank\" href=\"https://kaggle.com/kernels/welcome?src=https://github.com/marco-canas/Ecuaciones_Diferenciales/blob/main/asesoria_EDO/ejer_sec_3.1/Ejer_22_sec_3.1_Boyce_DiPrima.ipynb\"><img src=\"https://kaggle.com/static/images/open-in-kaggle.svg\" /></a>\n",
    "  </td>\n",
    "</table>"
   ]
  },
  {
   "cell_type": "markdown",
   "id": "d00cfd23",
   "metadata": {},
   "source": [
    "# Parcial 4_"
   ]
  },
  {
   "cell_type": "markdown",
   "id": "f3fbf5e3",
   "metadata": {},
   "source": [
    "## Asignación aleatoria de problemas para este parcial"
   ]
  },
  {
   "cell_type": "code",
   "execution_count": 1,
   "id": "0e0e6b65",
   "metadata": {},
   "outputs": [
    {
     "data": {
      "text/html": [
       "<div>\n",
       "<style scoped>\n",
       "    .dataframe tbody tr th:only-of-type {\n",
       "        vertical-align: middle;\n",
       "    }\n",
       "\n",
       "    .dataframe tbody tr th {\n",
       "        vertical-align: top;\n",
       "    }\n",
       "\n",
       "    .dataframe thead th {\n",
       "        text-align: right;\n",
       "    }\n",
       "</style>\n",
       "<table border=\"1\" class=\"dataframe\">\n",
       "  <thead>\n",
       "    <tr style=\"text-align: right;\">\n",
       "      <th></th>\n",
       "      <th>student</th>\n",
       "      <th>Punto 1 Seccion 7.1</th>\n",
       "      <th>Punto 2 Sección 7.2 primera parte</th>\n",
       "      <th>Punto 2 Sección 7.2 Segunda parte</th>\n",
       "      <th>Punto 3 Sección 7.6</th>\n",
       "    </tr>\n",
       "  </thead>\n",
       "  <tbody>\n",
       "    <tr>\n",
       "      <th>1</th>\n",
       "      <td>juliana.aguilar@udea.edu.co</td>\n",
       "      <td>7</td>\n",
       "      <td>28</td>\n",
       "      <td>35</td>\n",
       "      <td>13</td>\n",
       "    </tr>\n",
       "    <tr>\n",
       "      <th>2</th>\n",
       "      <td>angel.arrieta@udea.edu.co</td>\n",
       "      <td>28</td>\n",
       "      <td>28</td>\n",
       "      <td>39</td>\n",
       "      <td>6</td>\n",
       "    </tr>\n",
       "    <tr>\n",
       "      <th>3</th>\n",
       "      <td>danis.canchila@udea.edu.co</td>\n",
       "      <td>8</td>\n",
       "      <td>10</td>\n",
       "      <td>41</td>\n",
       "      <td>3</td>\n",
       "    </tr>\n",
       "    <tr>\n",
       "      <th>4</th>\n",
       "      <td>sandra.cotuab@udea.edu.co</td>\n",
       "      <td>38</td>\n",
       "      <td>1</td>\n",
       "      <td>41</td>\n",
       "      <td>3</td>\n",
       "    </tr>\n",
       "    <tr>\n",
       "      <th>5</th>\n",
       "      <td>katherine.gallo@udea.edu.co</td>\n",
       "      <td>2</td>\n",
       "      <td>18</td>\n",
       "      <td>37</td>\n",
       "      <td>11</td>\n",
       "    </tr>\n",
       "    <tr>\n",
       "      <th>6</th>\n",
       "      <td>vmanuel.palacio@udea.edu.co</td>\n",
       "      <td>13</td>\n",
       "      <td>22</td>\n",
       "      <td>34</td>\n",
       "      <td>4</td>\n",
       "    </tr>\n",
       "    <tr>\n",
       "      <th>7</th>\n",
       "      <td>valentina.perezp@udea.edu.co</td>\n",
       "      <td>8</td>\n",
       "      <td>10</td>\n",
       "      <td>34</td>\n",
       "      <td>13</td>\n",
       "    </tr>\n",
       "    <tr>\n",
       "      <th>8</th>\n",
       "      <td>jolman.rivera@udea.edu.co</td>\n",
       "      <td>20</td>\n",
       "      <td>9</td>\n",
       "      <td>38</td>\n",
       "      <td>13</td>\n",
       "    </tr>\n",
       "    <tr>\n",
       "      <th>9</th>\n",
       "      <td>laura.ruiz1@udea.edu.co</td>\n",
       "      <td>32</td>\n",
       "      <td>21</td>\n",
       "      <td>38</td>\n",
       "      <td>8</td>\n",
       "    </tr>\n",
       "    <tr>\n",
       "      <th>10</th>\n",
       "      <td>eliana.sotov@udea.edu.co</td>\n",
       "      <td>11</td>\n",
       "      <td>16</td>\n",
       "      <td>32</td>\n",
       "      <td>10</td>\n",
       "    </tr>\n",
       "    <tr>\n",
       "      <th>11</th>\n",
       "      <td>robert.velasquez@udea.edu.co</td>\n",
       "      <td>20</td>\n",
       "      <td>15</td>\n",
       "      <td>34</td>\n",
       "      <td>12</td>\n",
       "    </tr>\n",
       "  </tbody>\n",
       "</table>\n",
       "</div>"
      ],
      "text/plain": [
       "                         student  Punto 1 Seccion 7.1  \\\n",
       "1    juliana.aguilar@udea.edu.co                    7   \n",
       "2      angel.arrieta@udea.edu.co                   28   \n",
       "3     danis.canchila@udea.edu.co                    8   \n",
       "4      sandra.cotuab@udea.edu.co                   38   \n",
       "5    katherine.gallo@udea.edu.co                    2   \n",
       "6    vmanuel.palacio@udea.edu.co                   13   \n",
       "7   valentina.perezp@udea.edu.co                    8   \n",
       "8      jolman.rivera@udea.edu.co                   20   \n",
       "9        laura.ruiz1@udea.edu.co                   32   \n",
       "10      eliana.sotov@udea.edu.co                   11   \n",
       "11  robert.velasquez@udea.edu.co                   20   \n",
       "\n",
       "    Punto 2 Sección 7.2 primera parte  Punto 2 Sección 7.2 Segunda parte  \\\n",
       "1                                  28                                 35   \n",
       "2                                  28                                 39   \n",
       "3                                  10                                 41   \n",
       "4                                   1                                 41   \n",
       "5                                  18                                 37   \n",
       "6                                  22                                 34   \n",
       "7                                  10                                 34   \n",
       "8                                   9                                 38   \n",
       "9                                  21                                 38   \n",
       "10                                 16                                 32   \n",
       "11                                 15                                 34   \n",
       "\n",
       "    Punto 3 Sección 7.6  \n",
       "1                    13  \n",
       "2                     6  \n",
       "3                     3  \n",
       "4                     3  \n",
       "5                    11  \n",
       "6                     4  \n",
       "7                    13  \n",
       "8                    13  \n",
       "9                     8  \n",
       "10                   10  \n",
       "11                   12  "
      ]
     },
     "execution_count": 1,
     "metadata": {},
     "output_type": "execute_result"
    }
   ],
   "source": [
    "import numpy as np \n",
    "import pandas as pd \n",
    "\n",
    "np.random.seed(40) \n",
    "\n",
    "laplace_def = np.random.randint(low = 1, high = 40, size = 11) \n",
    "\n",
    "inverse_transform = np.random.randint(low = 1, high = 30, size = 11)\n",
    "\n",
    "pvi_1_2_order = np.random.randint(low = 31, high = 42, size = 11) \n",
    "\n",
    "system_pvi = np.random.randint(low = 1, high = 14, size = 11) \n",
    "\n",
    "student = ['juliana.aguilar@udea.edu.co',\n",
    "         'angel.arrieta@udea.edu.co',\n",
    "         'danis.canchila@udea.edu.co',\n",
    "         'sandra.cotuab@udea.edu.co',\n",
    "         'katherine.gallo@udea.edu.co',\n",
    "         'vmanuel.palacio@udea.edu.co',\n",
    "         'valentina.perezp@udea.edu.co',\n",
    "         'jolman.rivera@udea.edu.co',\n",
    "         'laura.ruiz1@udea.edu.co',\n",
    "         'eliana.sotov@udea.edu.co',\n",
    "         'robert.velasquez@udea.edu.co']\n",
    "\n",
    "df = pd.DataFrame({'student':student,\n",
    "                   'Punto 1 Seccion 7.1': laplace_def , \n",
    "                   'Punto 2 Sección 7.2 primera parte': inverse_transform, \n",
    "                   'Punto 2 Sección 7.2 Segunda parte': pvi_1_2_order,\n",
    "                   'Punto 3 Sección 7.6': system_pvi}, \n",
    "                  index = np.arange(1,12)) \n",
    "df "
   ]
  },
  {
   "cell_type": "markdown",
   "id": "a3aa0242",
   "metadata": {},
   "source": [
    "## Punto 1 (25 puntos) "
   ]
  },
  {
   "cell_type": "markdown",
   "id": "4f4509a3",
   "metadata": {},
   "source": [
    "Ejercicio 8 de la sección 7.1 del Zill. Página 277"
   ]
  },
  {
   "cell_type": "markdown",
   "id": "43c9f0cf",
   "metadata": {},
   "source": [
    "Use la definición de transformada de Laplace para encontrar $L\\{ f(x) \\}$ de la función $f(t)$ definida por el siguiente gráfico realizado con matplotlib:\n"
   ]
  },
  {
   "cell_type": "code",
   "execution_count": 17,
   "id": "f43dd14d",
   "metadata": {
    "scrolled": true
   },
   "outputs": [
    {
     "data": {
      "image/png": "[encoded data removed]",
      "text/plain": [
       "<Figure size 432x288 with 1 Axes>"
      ]
     },
     "metadata": {
      "needs_background": "light"
     },
     "output_type": "display_data"
    }
   ],
   "source": [
    "import numpy as np \n",
    "import matplotlib.pyplot as plt \n",
    "\n",
    "t1 = np.array([0,1])\n",
    "t2 = np.array([1,3]) \n",
    "\n",
    "t = np.concatenate((t1,t2), axis = 0)  \n",
    "\n",
    "m1 = 0\n",
    "b1 = 0\n",
    "f1 = 0*t1\n",
    "m2 = 2\n",
    "b2 = -2    # y = mt + b y (1,0) entonces 0 = 2(1) + b \n",
    "f2 = 2*t2 - 2\n",
    "\n",
    "f = np.concatenate((f1,f2), axis = 0)\n",
    "\n",
    "fig, ax = plt.subplots()\n",
    "\n",
    "ax.set(xlabel = 'y', ylabel = 't', title = '$f(t)$')\n",
    "\n",
    "ax.plot(t,f) \n",
    "\n",
    "ax.grid() \n",
    "\n",
    "plt.savefig('function_definida_a_trozos.jpg') \n",
    "\n",
    "plt.show() "
   ]
  },
  {
   "cell_type": "markdown",
   "id": "ac6c8447",
   "metadata": {},
   "source": [
    "## Solución con sympy"
   ]
  },
  {
   "cell_type": "code",
   "execution_count": 21,
   "id": "3f4f2935",
   "metadata": {},
   "outputs": [
    {
     "data": {
      "text/latex": [
       "$\\displaystyle \\frac{\\left(s + 1\\right) e^{- s}}{s^{2}}$"
      ],
      "text/plain": [
       "(s + 1)*exp(-s)/s**2"
      ]
     },
     "execution_count": 21,
     "metadata": {},
     "output_type": "execute_result"
    }
   ],
   "source": [
    "from sympy import *\n",
    "t = symbols('t', nonegative = True)\n",
    "s = symbols('s', positive = True)\n",
    "\n",
    "integrate(exp(-s*t)*t, (t,1,oo)) "
   ]
  },
  {
   "cell_type": "markdown",
   "id": "323c360e",
   "metadata": {},
   "source": [
    "## Ejercicio adicional sobre cálculo de transformada de Laplace por definición"
   ]
  },
  {
   "cell_type": "markdown",
   "id": "002c995b",
   "metadata": {},
   "source": [
    "1. Encontrar $L\\{ f(t) \\}$:\n",
    "\n",
    "$$ f(t) = \\begin{cases} t & 0 \\leq t < 1 \\\\ \n",
    "1 & t \\geq 1 \\end{cases} $$"
   ]
  },
  {
   "cell_type": "markdown",
   "id": "36fa2526",
   "metadata": {},
   "source": [
    "2. Verificar que $\\lim_{s \\to \\infty} L\\{f(t)\\} = 0 $"
   ]
  },
  {
   "cell_type": "markdown",
   "id": "69620500",
   "metadata": {},
   "source": [
    "## Solución con cálculo simbólico de Sympy"
   ]
  },
  {
   "cell_type": "code",
   "execution_count": 20,
   "id": "e80da6cb",
   "metadata": {},
   "outputs": [
    {
     "data": {
      "text/latex": [
       "$\\displaystyle \\frac{\\left(e^{s} - 1\\right) e^{- s}}{s^{2}}$"
      ],
      "text/plain": [
       "(exp(s) - 1)*exp(-s)/s**2"
      ]
     },
     "execution_count": 20,
     "metadata": {},
     "output_type": "execute_result"
    }
   ],
   "source": [
    "from sympy import *\n",
    "t = symbols('t', nonegative = True)\n",
    "s = symbols('s', positive = True)\n",
    "\n",
    "k=exp(-s*t) # Definición del kernel de la transformada de Laplace \n",
    "\n",
    "Lf = integrate(k*t, (t,0,1))  + integrate(k*(1), (t,1,oo)) \n",
    "Lf.simplify() "
   ]
  },
  {
   "cell_type": "code",
   "execution_count": null,
   "id": "5da7a0fc",
   "metadata": {},
   "outputs": [],
   "source": []
  },
  {
   "cell_type": "markdown",
   "id": "8e84a824",
   "metadata": {},
   "source": [
    "## Punto 2 (25 puntos) "
   ]
  },
  {
   "cell_type": "markdown",
   "id": "f78f2c22",
   "metadata": {},
   "source": [
    "### Punto 2 Primera parte (10 puntos) "
   ]
  },
  {
   "cell_type": "markdown",
   "id": "11e55155",
   "metadata": {},
   "source": [
    "Ejercicio 10 de la sección 7.2 del Zill. Página 286"
   ]
  },
  {
   "cell_type": "code",
   "execution_count": null,
   "id": "82a996f7",
   "metadata": {},
   "outputs": [],
   "source": []
  },
  {
   "cell_type": "markdown",
   "id": "a01ce5df",
   "metadata": {},
   "source": [
    "### Punto 2 Segunda parte (15 puntos)"
   ]
  },
  {
   "cell_type": "markdown",
   "id": "faadecbd",
   "metadata": {},
   "source": [
    "Ejercicio 34 de la sección 7.2 del Zill. Página 286"
   ]
  },
  {
   "cell_type": "code",
   "execution_count": null,
   "id": "9d0a8fab",
   "metadata": {},
   "outputs": [],
   "source": []
  },
  {
   "cell_type": "markdown",
   "id": "660a3788",
   "metadata": {},
   "source": [
    "## Punto 3 (25 puntos) "
   ]
  },
  {
   "cell_type": "markdown",
   "id": "810f636f",
   "metadata": {},
   "source": [
    "Ejercicio 13 de la sección 7.6 del Zill. Página 315"
   ]
  },
  {
   "cell_type": "code",
   "execution_count": null,
   "id": "7ff6e81d",
   "metadata": {},
   "outputs": [],
   "source": []
  },
  {
   "cell_type": "markdown",
   "id": "6b0f2bf8",
   "metadata": {},
   "source": [
    "## Punto 4 Sustentación oral (25 puntos) "
   ]
  },
  {
   "cell_type": "markdown",
   "id": "6aa6b338",
   "metadata": {},
   "source": [
    "* ¿Cómo definiría a la transformada de Laplace?\n",
    "* ¿Qué propiedades tiene la transformada de Laplace?\n",
    "* ¿Cuál es la metodología de solución de un PVI definido por un sistema utilizando tarnsformada de Laplace?\n",
    "* ¿Cuál es la metodología para resolver un PVI definido a travpes de un sistema utilizando el método de los vectores y \n",
    "  valores propios?  \n",
    "* ¿Cuales son las ventajas de utilizar el operador transformada de Laplace para resolver PVI's?  \n",
    "* "
   ]
  },
  {
   "cell_type": "code",
   "execution_count": null,
   "id": "2d8b456f",
   "metadata": {},
   "outputs": [],
   "source": []
  },
  {
   "cell_type": "markdown",
   "id": "95cf1970",
   "metadata": {},
   "source": [
    "## Referentes  \n",
    "\n",
    "* https://matplotlib.org/stable/gallery/lines_bars_and_markers/simple_plot.html  \n"
   ]
  },
  {
   "cell_type": "code",
   "execution_count": null,
   "id": "4b8b8f30",
   "metadata": {},
   "outputs": [],
   "source": []
  }
 ],
 "metadata": {
  "kernelspec": {
   "display_name": "Python 3",
   "language": "python",
   "name": "python3"
  },
  "language_info": {
   "codemirror_mode": {
    "name": "ipython",
    "version": 3
   },
   "file_extension": ".py",
   "mimetype": "text/x-python",
   "name": "python",
   "nbconvert_exporter": "python",
   "pygments_lexer": "ipython3",
   "version": "3.8.8"
  },
  "latex_envs": {
   "LaTeX_envs_menu_present": true,
   "autoclose": false,
   "autocomplete": false,
   "bibliofile": "biblio.bib",
   "cite_by": "apalike",
   "current_citInitial": 1,
   "eqLabelWithNumbers": true,
   "eqNumInitial": 1,
   "hotkeys": {
    "equation": "Ctrl-E",
    "itemize": "Ctrl-I"
   },
   "labels_anchors": false,
   "latex_user_defs": false,
   "report_style_numbering": false,
   "user_envs_cfg": false
  },
  "rise": {
   "enable_chalkboard": true,
   "theme": "sky",
   "transition": "zoom"
  }
 },
 "nbformat": 4,
 "nbformat_minor": 5
}
