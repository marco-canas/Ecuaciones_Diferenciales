{
 "cells": [
  {
   "cell_type": "markdown",
   "id": "dfec0138",
   "metadata": {},
   "source": [
    "<table align=\"left\">\n",
    "  <td>\n",
    "    <a href=\"https://colab.research.google.com/github/marco-canas/Ecuaciones_Diferenciales/blob/main/asesoria_EDO/ejer_sec_3.1/Ejer_22_sec_3.1_Boyce_DiPrima.ipynb\" target=\"_parent\"><img src=\"https://colab.research.google.com/assets/colab-badge.svg\" alt=\"Open In Colab\"/></a>\n",
    "  </td>\n",
    "  <td>\n",
    "    <a target=\"_blank\" href=\"https://kaggle.com/kernels/welcome?src=https://github.com/marco-canas/Ecuaciones_Diferenciales/blob/main/asesoria_EDO/ejer_sec_3.1/Ejer_22_sec_3.1_Boyce_DiPrima.ipynb\"><img src=\"https://kaggle.com/static/images/open-in-kaggle.svg\" /></a>\n",
    "  </td>\n",
    "</table>"
   ]
  },
  {
   "cell_type": "markdown",
   "id": "d00cfd23",
   "metadata": {},
   "source": [
    "# Parcial 4_"
   ]
  },
  {
   "cell_type": "markdown",
   "id": "868fde6b",
   "metadata": {},
   "source": [
    "## Asignación aleatoria de problemas para este parcial"
   ]
  },
  {
   "cell_type": "code",
   "execution_count": 1,
   "id": "39f315e2",
   "metadata": {},
   "outputs": [
    {
     "data": {
      "text/html": [
       "<div>\n",
       "<style scoped>\n",
       "    .dataframe tbody tr th:only-of-type {\n",
       "        vertical-align: middle;\n",
       "    }\n",
       "\n",
       "    .dataframe tbody tr th {\n",
       "        vertical-align: top;\n",
       "    }\n",
       "\n",
       "    .dataframe thead th {\n",
       "        text-align: right;\n",
       "    }\n",
       "</style>\n",
       "<table border=\"1\" class=\"dataframe\">\n",
       "  <thead>\n",
       "    <tr style=\"text-align: right;\">\n",
       "      <th></th>\n",
       "      <th>student</th>\n",
       "      <th>Punto 1 Seccion 7.1</th>\n",
       "      <th>Punto 2 Sección 7.2 primera parte</th>\n",
       "      <th>Punto 2 Sección 7.2 Segunda parte</th>\n",
       "      <th>Punto 3 Sección 7.6</th>\n",
       "    </tr>\n",
       "  </thead>\n",
       "  <tbody>\n",
       "    <tr>\n",
       "      <th>1</th>\n",
       "      <td>juliana.aguilar@udea.edu.co</td>\n",
       "      <td>7</td>\n",
       "      <td>28</td>\n",
       "      <td>35</td>\n",
       "      <td>13</td>\n",
       "    </tr>\n",
       "    <tr>\n",
       "      <th>2</th>\n",
       "      <td>angel.arrieta@udea.edu.co</td>\n",
       "      <td>28</td>\n",
       "      <td>28</td>\n",
       "      <td>39</td>\n",
       "      <td>6</td>\n",
       "    </tr>\n",
       "    <tr>\n",
       "      <th>3</th>\n",
       "      <td>danis.canchila@udea.edu.co</td>\n",
       "      <td>8</td>\n",
       "      <td>10</td>\n",
       "      <td>41</td>\n",
       "      <td>3</td>\n",
       "    </tr>\n",
       "    <tr>\n",
       "      <th>4</th>\n",
       "      <td>sandra.cotuab@udea.edu.co</td>\n",
       "      <td>38</td>\n",
       "      <td>1</td>\n",
       "      <td>41</td>\n",
       "      <td>3</td>\n",
       "    </tr>\n",
       "    <tr>\n",
       "      <th>5</th>\n",
       "      <td>katherine.gallo@udea.edu.co</td>\n",
       "      <td>2</td>\n",
       "      <td>18</td>\n",
       "      <td>37</td>\n",
       "      <td>11</td>\n",
       "    </tr>\n",
       "    <tr>\n",
       "      <th>6</th>\n",
       "      <td>vmanuel.palacio@udea.edu.co</td>\n",
       "      <td>13</td>\n",
       "      <td>22</td>\n",
       "      <td>34</td>\n",
       "      <td>4</td>\n",
       "    </tr>\n",
       "    <tr>\n",
       "      <th>7</th>\n",
       "      <td>valentina.perezp@udea.edu.co</td>\n",
       "      <td>8</td>\n",
       "      <td>10</td>\n",
       "      <td>34</td>\n",
       "      <td>13</td>\n",
       "    </tr>\n",
       "    <tr>\n",
       "      <th>8</th>\n",
       "      <td>jolman.rivera@udea.edu.co</td>\n",
       "      <td>20</td>\n",
       "      <td>9</td>\n",
       "      <td>38</td>\n",
       "      <td>13</td>\n",
       "    </tr>\n",
       "    <tr>\n",
       "      <th>9</th>\n",
       "      <td>laura.ruiz1@udea.edu.co</td>\n",
       "      <td>32</td>\n",
       "      <td>21</td>\n",
       "      <td>38</td>\n",
       "      <td>8</td>\n",
       "    </tr>\n",
       "    <tr>\n",
       "      <th>10</th>\n",
       "      <td>eliana.sotov@udea.edu.co</td>\n",
       "      <td>11</td>\n",
       "      <td>16</td>\n",
       "      <td>32</td>\n",
       "      <td>10</td>\n",
       "    </tr>\n",
       "    <tr>\n",
       "      <th>11</th>\n",
       "      <td>robert.velasquez@udea.edu.co</td>\n",
       "      <td>20</td>\n",
       "      <td>15</td>\n",
       "      <td>34</td>\n",
       "      <td>12</td>\n",
       "    </tr>\n",
       "  </tbody>\n",
       "</table>\n",
       "</div>"
      ],
      "text/plain": [
       "                         student  Punto 1 Seccion 7.1  \\\n",
       "1    juliana.aguilar@udea.edu.co                    7   \n",
       "2      angel.arrieta@udea.edu.co                   28   \n",
       "3     danis.canchila@udea.edu.co                    8   \n",
       "4      sandra.cotuab@udea.edu.co                   38   \n",
       "5    katherine.gallo@udea.edu.co                    2   \n",
       "6    vmanuel.palacio@udea.edu.co                   13   \n",
       "7   valentina.perezp@udea.edu.co                    8   \n",
       "8      jolman.rivera@udea.edu.co                   20   \n",
       "9        laura.ruiz1@udea.edu.co                   32   \n",
       "10      eliana.sotov@udea.edu.co                   11   \n",
       "11  robert.velasquez@udea.edu.co                   20   \n",
       "\n",
       "    Punto 2 Sección 7.2 primera parte  Punto 2 Sección 7.2 Segunda parte  \\\n",
       "1                                  28                                 35   \n",
       "2                                  28                                 39   \n",
       "3                                  10                                 41   \n",
       "4                                   1                                 41   \n",
       "5                                  18                                 37   \n",
       "6                                  22                                 34   \n",
       "7                                  10                                 34   \n",
       "8                                   9                                 38   \n",
       "9                                  21                                 38   \n",
       "10                                 16                                 32   \n",
       "11                                 15                                 34   \n",
       "\n",
       "    Punto 3 Sección 7.6  \n",
       "1                    13  \n",
       "2                     6  \n",
       "3                     3  \n",
       "4                     3  \n",
       "5                    11  \n",
       "6                     4  \n",
       "7                    13  \n",
       "8                    13  \n",
       "9                     8  \n",
       "10                   10  \n",
       "11                   12  "
      ]
     },
     "execution_count": 1,
     "metadata": {},
     "output_type": "execute_result"
    }
   ],
   "source": [
    "import numpy as np \n",
    "import pandas as pd \n",
    "\n",
    "np.random.seed(40) \n",
    "\n",
    "laplace_def = np.random.randint(low = 1, high = 40, size = 11) \n",
    "\n",
    "inverse_transform = np.random.randint(low = 1, high = 30, size = 11)\n",
    "\n",
    "pvi_1_2_order = np.random.randint(low = 31, high = 42, size = 11) \n",
    "\n",
    "system_pvi = np.random.randint(low = 1, high = 14, size = 11) \n",
    "\n",
    "student = ['juliana.aguilar@udea.edu.co',\n",
    "         'angel.arrieta@udea.edu.co',\n",
    "         'danis.canchila@udea.edu.co',\n",
    "         'sandra.cotuab@udea.edu.co',\n",
    "         'katherine.gallo@udea.edu.co',\n",
    "         'vmanuel.palacio@udea.edu.co',\n",
    "         'valentina.perezp@udea.edu.co',\n",
    "         'jolman.rivera@udea.edu.co',\n",
    "         'laura.ruiz1@udea.edu.co',\n",
    "         'eliana.sotov@udea.edu.co',\n",
    "         'robert.velasquez@udea.edu.co']\n",
    "\n",
    "df = pd.DataFrame({'student':student,\n",
    "                   'Punto 1 Seccion 7.1': laplace_def , \n",
    "                   'Punto 2 Sección 7.2 primera parte': inverse_transform, \n",
    "                   'Punto 2 Sección 7.2 Segunda parte': pvi_1_2_order,\n",
    "                   'Punto 3 Sección 7.6': system_pvi}, \n",
    "                  index = [1,2,3,4,5,6,7,8,9,10,11]) \n",
    "df "
   ]
  },
  {
   "cell_type": "markdown",
   "id": "a3aa0242",
   "metadata": {},
   "source": [
    "## Punto 1 (25 puntos) "
   ]
  },
  {
   "cell_type": "markdown",
   "id": "2137cd72",
   "metadata": {},
   "source": [
    "Ejercicio 32 de la sección 7.1 de Zill.  \n",
    "\n",
    "Calcule la transformada de Laplace de la función representada en el siguiente gráfico: \n",
    "\n",
    "$$ f(t) = \\begin{cases} 0 & t < 0 \\\\ \\cos 5t + \\sin 2t & t \\geq 0 \n",
    "\\end{cases}$$\n"
   ]
  },
  {
   "cell_type": "code",
   "execution_count": 11,
   "id": "4def02ef",
   "metadata": {},
   "outputs": [
    {
     "data": {
      "image/png": "[encoded data removed]",
      "text/plain": [
       "<Figure size 432x288 with 1 Axes>"
      ]
     },
     "metadata": {
      "needs_background": "light"
     },
     "output_type": "display_data"
    }
   ],
   "source": [
    "import numpy as np \n",
    "import matplotlib.pyplot as plt \n",
    "\n",
    "t = np.arange(0,10,0.1)\n",
    "\n",
    "\n",
    "f = np.cos(5*t) + np.sin(2*t) \n",
    "\n",
    "fig, ax = plt.subplots()  \n",
    "\n",
    "ax.plot(t,f) \n",
    "ax.set(title = '$f(t) = \\cos 5t + \\sin 2t$', xlabel = 't', ylabel = 'y') \n",
    "\n",
    "ax.grid()\n",
    "\n",
    "plt.show() \n",
    "\n"
   ]
  },
  {
   "cell_type": "markdown",
   "id": "18c459da",
   "metadata": {},
   "source": [
    "## Solución utilizando la calculadora simbólica sympy"
   ]
  },
  {
   "cell_type": "code",
   "execution_count": 23,
   "id": "f9c047e2",
   "metadata": {},
   "outputs": [],
   "source": [
    "from sympy import *\n",
    "\n",
    "t = symbols('t', real = True, nonegative = True) \n",
    "s = symbols('s', positive = True) \n",
    "\n",
    "def L_def(f,a,b):\n",
    "    kernel = exp(-s*t)\n",
    "    return integrate(kernel*f, (t,a,b))\n",
    "\n",
    "def L(f):\n",
    "    return laplace_transform(f,t,s, noconds = True)  \n"
   ]
  },
  {
   "cell_type": "code",
   "execution_count": 24,
   "id": "18183d27",
   "metadata": {},
   "outputs": [
    {
     "data": {
      "text/latex": [
       "$\\displaystyle \\frac{2 s^{2} + s \\left(s^{2} + 4\\right) + 50}{\\left(s^{2} + 4\\right) \\left(s^{2} + 25\\right)}$"
      ],
      "text/plain": [
       "(2*s**2 + s*(s**2 + 4) + 50)/((s**2 + 4)*(s**2 + 25))"
      ]
     },
     "execution_count": 24,
     "metadata": {},
     "output_type": "execute_result"
    }
   ],
   "source": [
    "f = cos(5*t) + sin(2*t)\n",
    "F = L(f)\n",
    "F "
   ]
  },
  {
   "cell_type": "markdown",
   "id": "08f930db",
   "metadata": {},
   "source": [
    "## Grafico de comparación entre $f$ y $F$"
   ]
  },
  {
   "cell_type": "code",
   "execution_count": 20,
   "id": "e5950d39",
   "metadata": {},
   "outputs": [
    {
     "data": {
      "image/png": "[encoded data removed]",
      "text/plain": [
       "<Figure size 1152x576 with 2 Axes>"
      ]
     },
     "metadata": {
      "needs_background": "light"
     },
     "output_type": "display_data"
    }
   ],
   "source": [
    "import numpy as np \n",
    "import matplotlib.pyplot as plt\n",
    "\n",
    "t = np.linspace(0,10,200)\n",
    "s = np.linspace(0,10,200) \n",
    "\n",
    "f = np.cos(5*t) + np.sin(2*t) \n",
    "F = (2*s**2 + s*(s**2 + 4) + 50)/((s**2 + 4)*(s**2 + 25)) \n",
    "\n",
    "fig = plt.figure(figsize = (16,8)) \n",
    "\n",
    "ax1 = fig.add_subplot(121)\n",
    "ax2 = fig.add_subplot(122)\n",
    "\n",
    "ax1.plot(t,f)\n",
    "ax1.grid() \n",
    "\n",
    "ax2.plot(t,F)\n",
    "ax2.grid() \n",
    "\n",
    "plt.savefig('ejer_8_sec_7_1_laplace_zill.jpg')\n",
    "\n",
    "plt.show() "
   ]
  },
  {
   "cell_type": "markdown",
   "id": "8e84a824",
   "metadata": {},
   "source": [
    "## Punto 2 (25 puntos) "
   ]
  },
  {
   "cell_type": "code",
   "execution_count": null,
   "id": "6814c903",
   "metadata": {},
   "outputs": [],
   "source": []
  },
  {
   "cell_type": "code",
   "execution_count": null,
   "id": "ee603ff9",
   "metadata": {},
   "outputs": [],
   "source": []
  },
  {
   "cell_type": "markdown",
   "id": "660a3788",
   "metadata": {},
   "source": [
    "## Punto 3 (25 puntos) "
   ]
  },
  {
   "cell_type": "code",
   "execution_count": null,
   "id": "af6c7e9f",
   "metadata": {},
   "outputs": [],
   "source": []
  },
  {
   "cell_type": "code",
   "execution_count": null,
   "id": "b19c3d63",
   "metadata": {},
   "outputs": [],
   "source": []
  },
  {
   "cell_type": "markdown",
   "id": "6b0f2bf8",
   "metadata": {},
   "source": [
    "## Punto 4 Sustentación oral (25 puntos) "
   ]
  },
  {
   "cell_type": "code",
   "execution_count": null,
   "id": "be38320b",
   "metadata": {},
   "outputs": [],
   "source": []
  },
  {
   "cell_type": "code",
   "execution_count": null,
   "id": "3db9ff02",
   "metadata": {},
   "outputs": [],
   "source": []
  },
  {
   "cell_type": "markdown",
   "id": "3c0f740b",
   "metadata": {},
   "source": [
    "## Referentes  \n",
    "\n",
    "* "
   ]
  }
 ],
 "metadata": {
  "kernelspec": {
   "display_name": "Python 3",
   "language": "python",
   "name": "python3"
  },
  "language_info": {
   "codemirror_mode": {
    "name": "ipython",
    "version": 3
   },
   "file_extension": ".py",
   "mimetype": "text/x-python",
   "name": "python",
   "nbconvert_exporter": "python",
   "pygments_lexer": "ipython3",
   "version": "3.8.8"
  },
  "latex_envs": {
   "LaTeX_envs_menu_present": true,
   "autoclose": false,
   "autocomplete": false,
   "bibliofile": "biblio.bib",
   "cite_by": "apalike",
   "current_citInitial": 1,
   "eqLabelWithNumbers": true,
   "eqNumInitial": 1,
   "hotkeys": {
    "equation": "Ctrl-E",
    "itemize": "Ctrl-I"
   },
   "labels_anchors": false,
   "latex_user_defs": false,
   "report_style_numbering": false,
   "user_envs_cfg": false
  },
  "rise": {
   "enable_chalkboard": true,
   "theme": "sky",
   "transition": "zoom"
  }
 },
 "nbformat": 4,
 "nbformat_minor": 5
}
