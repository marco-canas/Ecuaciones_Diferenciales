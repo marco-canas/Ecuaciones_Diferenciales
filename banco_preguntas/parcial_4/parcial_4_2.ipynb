{
 "cells": [
  {
   "cell_type": "markdown",
   "id": "dfec0138",
   "metadata": {
    "slideshow": {
     "slide_type": "slide"
    }
   },
   "source": [
    "<table align=\"left\">\n",
    "  <td>\n",
    "    <a href=\"https://colab.research.google.com/github/marco-canas/edo/blob/main/banco_preguntas/parcial_4/parcial_4_2.ipynb\" target=\"_parent\"><img src=\"https://colab.research.google.com/assets/colab-badge.svg\" alt=\"Open In Colab\"/></a>\n",
    "  </td>\n",
    "  <td>\n",
    "    <a target=\"_blank\" href=\"https://kaggle.com/kernels/welcome?src=https://github.com/marco-canas/edo/blob/main/banco_preguntas/parcial_4/parcial_4_2.ipynb\"><img src=\"https://kaggle.com/static/images/open-in-kaggle.svg\" /></a>\n",
    "  </td>\n",
    "</table>"
   ]
  },
  {
   "cell_type": "markdown",
   "id": "d00cfd23",
   "metadata": {
    "slideshow": {
     "slide_type": "slide"
    }
   },
   "source": [
    "# Parcial 4_2"
   ]
  },
  {
   "cell_type": "markdown",
   "id": "a3aa0242",
   "metadata": {
    "slideshow": {
     "slide_type": "slide"
    }
   },
   "source": [
    "## Punto 1 (25 puntos) "
   ]
  },
  {
   "cell_type": "markdown",
   "id": "65fa87b6",
   "metadata": {
    "slideshow": {
     "slide_type": "slide"
    }
   },
   "source": [
    "Ejercicio 28 de la sección 7.1 de Zill sobre transformada de Laplace"
   ]
  },
  {
   "cell_type": "markdown",
   "id": "3b493c4b",
   "metadata": {
    "slideshow": {
     "slide_type": "slide"
    }
   },
   "source": [
    "Use el teorema 7.1.1 para encontrar $L\\{f(t)\\}$. \n",
    "$$ f(t) = t^{2} -e^{-9t} + 5 $$\n",
    "\n",
    "Verifique su resultado utilizando la definición de transformada de Laplace. "
   ]
  },
  {
   "cell_type": "markdown",
   "id": "d250f290",
   "metadata": {
    "slideshow": {
     "slide_type": "slide"
    }
   },
   "source": [
    "## Otro ejercicio de transformada"
   ]
  },
  {
   "cell_type": "markdown",
   "id": "1141e5d8",
   "metadata": {
    "slideshow": {
     "slide_type": "slide"
    }
   },
   "source": [
    "$$ f(t) = \\begin{cases} 0 & t < 0 \\\\ 1 + e^{4t} & t \\geq 0\\end{cases} $$"
   ]
  },
  {
   "cell_type": "markdown",
   "id": "84e6048c",
   "metadata": {
    "slideshow": {
     "slide_type": "slide"
    }
   },
   "source": []
  },
  {
   "cell_type": "code",
   "execution_count": null,
   "id": "eeb2ee89",
   "metadata": {
    "slideshow": {
     "slide_type": "slide"
    }
   },
   "outputs": [],
   "source": []
  },
  {
   "cell_type": "code",
   "execution_count": null,
   "id": "b12bd29d",
   "metadata": {},
   "outputs": [],
   "source": []
  },
  {
   "cell_type": "markdown",
   "id": "8e84a824",
   "metadata": {
    "slideshow": {
     "slide_type": "slide"
    }
   },
   "source": [
    "## Punto 2 (25 puntos) "
   ]
  },
  {
   "cell_type": "markdown",
   "id": "6add7fa3",
   "metadata": {
    "slideshow": {
     "slide_type": "slide"
    }
   },
   "source": [
    "### Parte 1 Transformada inversa"
   ]
  },
  {
   "cell_type": "markdown",
   "id": "e50c5c8f",
   "metadata": {
    "slideshow": {
     "slide_type": "slide"
    }
   },
   "source": [
    "Ejercicio 28 de la sección 7.2 de Zill sobre transformada de Laplace"
   ]
  },
  {
   "cell_type": "markdown",
   "id": "1ed34fbd",
   "metadata": {
    "slideshow": {
     "slide_type": "slide"
    }
   },
   "source": [
    "$$ L^{-1}\\left\\{ \\frac{1}{s^{4} - 9} \\right\\} $$"
   ]
  },
  {
   "cell_type": "markdown",
   "id": "3e50a7a8",
   "metadata": {
    "slideshow": {
     "slide_type": "slide"
    }
   },
   "source": [
    "Ojo, debe presentar todo el proceso de descomposición de la fracción propia que se le entregó.   \n",
    "\n",
    "Desctiba la metodología de descomposición en fracciones parciales. (Recomiendo ver página 577 del Larson). "
   ]
  },
  {
   "cell_type": "code",
   "execution_count": null,
   "id": "69c9fb75",
   "metadata": {
    "slideshow": {
     "slide_type": "slide"
    }
   },
   "outputs": [],
   "source": []
  },
  {
   "cell_type": "markdown",
   "id": "f6c2d440",
   "metadata": {
    "slideshow": {
     "slide_type": "slide"
    }
   },
   "source": [
    "## Solución asistida con Sympy"
   ]
  },
  {
   "cell_type": "code",
   "execution_count": null,
   "id": "acc0ee6a",
   "metadata": {
    "slideshow": {
     "slide_type": "slide"
    }
   },
   "outputs": [],
   "source": []
  },
  {
   "cell_type": "markdown",
   "id": "039a46e3",
   "metadata": {
    "slideshow": {
     "slide_type": "slide"
    }
   },
   "source": [
    "## Otro ejercicio para aplicar transformada inversa"
   ]
  },
  {
   "cell_type": "markdown",
   "id": "b005f194",
   "metadata": {
    "slideshow": {
     "slide_type": "slide"
    }
   },
   "source": [
    "$$ L^{-1} \\left\\{ \\frac{2s-4}{(s^{2} + s)(s^{2} + 1)} \\right\\} $$"
   ]
  },
  {
   "cell_type": "markdown",
   "id": "cbbb4d5b",
   "metadata": {
    "slideshow": {
     "slide_type": "slide"
    }
   },
   "source": [
    "## Solución "
   ]
  },
  {
   "cell_type": "markdown",
   "id": "c73e0bea",
   "metadata": {
    "slideshow": {
     "slide_type": "slide"
    }
   },
   "source": [
    "Empeaamos con descomponer en fracciones parciales a la fracción propia dadda.  \n",
    "Y para lograr esta descomposición empezamos factorizando en $\\mathbf{R}$ totalmente al denominador"
   ]
  },
  {
   "cell_type": "markdown",
   "id": "3ac303ce",
   "metadata": {
    "slideshow": {
     "slide_type": "slide"
    }
   },
   "source": [
    "$$\\frac{2s-4}{(s^{2} + s)(s^{2} + 1)} = \\frac{2s-4}{s(s + 1)(s^{2} + 1)}$$"
   ]
  },
  {
   "cell_type": "markdown",
   "id": "75e0081d",
   "metadata": {
    "slideshow": {
     "slide_type": "slide"
    }
   },
   "source": [
    "Note que los dos de los tres factores del denominador son lineales no repetidos. y el otro factor es cuadrático no repetido. Por lo tanto, la descomposición tendra la forma general:\n",
    "\n",
    "\n",
    "$$ \\frac{2s-4}{s(s + 1)(s^{2} + 1)} = \\frac{A}{s} + \\frac{B}{s+1} + \\frac{Cs + D}{s^{2} + 1} $$\n"
   ]
  },
  {
   "cell_type": "markdown",
   "id": "8888c179",
   "metadata": {
    "slideshow": {
     "slide_type": "slide"
    }
   },
   "source": [
    "Ahora, determinemos a $A$, $B$, $C$ y $D$. "
   ]
  },
  {
   "cell_type": "markdown",
   "id": "ff42ae9f",
   "metadata": {
    "slideshow": {
     "slide_type": "slide"
    }
   },
   "source": [
    "Para obtener la ecuación básica de Larson, multiplicamos la anterior ecuación por $s(s+1)(s^{2} + 1)$ para obtener:\n",
    "\n",
    "$$ 2s - 4 = A(s+1)(s^{2} + 1) + Bs(s^{2} + 1) + (Cs + D)s(s+1)  $$\n"
   ]
  },
  {
   "cell_type": "markdown",
   "id": "e506d22a",
   "metadata": {
    "slideshow": {
     "slide_type": "slide"
    }
   },
   "source": [
    "Note que $A$ y $B$ se pueden hallar fácilmente haciendo $s = 0$ y $s = -1$:"
   ]
  },
  {
   "cell_type": "markdown",
   "id": "27fa02a9",
   "metadata": {
    "slideshow": {
     "slide_type": "slide"
    }
   },
   "source": [
    "Con $s = 0$, obtenemos:\n",
    "\n",
    "$$ -4 = A(1)1 \\ \\ \\to \\ \\ A = -4 $$"
   ]
  },
  {
   "cell_type": "markdown",
   "id": "672933c9",
   "metadata": {
    "slideshow": {
     "slide_type": "slide"
    }
   },
   "source": [
    "Con $s = -1$ obtenemos: \n",
    "\n",
    "$$ 2s - 4 = A(s+1)(s^{2} + 1) + Bs(s^{2} + 1) + (Cs + D)s(s+1)  $$\n",
    "\n",
    "$$ -2 - 4 = B(-1)(2) \\ \\ \\to \\ \\ B = 3  $$\n"
   ]
  },
  {
   "cell_type": "markdown",
   "id": "0a9d244b",
   "metadata": {
    "slideshow": {
     "slide_type": "slide"
    }
   },
   "source": [
    "Sustituyendo en la ecuación básica obtenemos:\n",
    "\n",
    "$$ 2s - 4 = -4(s+1)(s^{2} + 1) + 3s(s^{2} + 1) + (Cs + D)s(s+1)  $$"
   ]
  },
  {
   "cell_type": "markdown",
   "id": "9477b502",
   "metadata": {
    "slideshow": {
     "slide_type": "slide"
    }
   },
   "source": [
    "Aplicando multplicación de polinomios y sumando términos semejantes, expresemos el polinomio de la derecha como un polinomio de grado 3. \n",
    "$$ 2s - 4 = -4(s^{3} + s + s^{2} + 1) + 3s^{3} + 3s + (Cs + D)(s^{2} + s)  $$"
   ]
  },
  {
   "cell_type": "markdown",
   "id": "e01688d2",
   "metadata": {
    "slideshow": {
     "slide_type": "slide"
    }
   },
   "source": [
    "$$ 2s - 4 = -4s^{3} -4s -4s^{2} - 4 + 3s^{3} + 3s + Cs^{3}+ Cs^{2} + Ds^{2} + Ds $$"
   ]
  },
  {
   "cell_type": "markdown",
   "id": "6d7daaea",
   "metadata": {
    "slideshow": {
     "slide_type": "slide"
    }
   },
   "source": [
    "$$0s^{3} + 0s^{2} +  2s - 4  = (C - 1)s^{3} + (C + D - 4)s^{2} $$"
   ]
  },
  {
   "cell_type": "markdown",
   "id": "4dd80de5",
   "metadata": {
    "slideshow": {
     "slide_type": "slide"
    }
   },
   "source": [
    "de donde $C = 1$ y $D = 3$. "
   ]
  },
  {
   "cell_type": "markdown",
   "id": "8cf69909",
   "metadata": {
    "slideshow": {
     "slide_type": "slide"
    }
   },
   "source": [
    "Luego, la descomposición nos queda:\n",
    "\n",
    "$$ \\frac{2s-4}{s(s + 1)(s^{2} + 1)} = \\frac{A}{s} + \\frac{B}{s+1} + \\frac{Cs + D}{s^{2} + 1} $$\n",
    "\n",
    "$$ \\frac{2s-4}{s(s + 1)(s^{2} + 1)} = \\frac{-4}{s} + \\frac{3}{s+1} + \\frac{s + 3}{s^{2} + 1} $$\n"
   ]
  },
  {
   "cell_type": "markdown",
   "id": "525f541d",
   "metadata": {
    "slideshow": {
     "slide_type": "slide"
    }
   },
   "source": [
    "Ahora sí podemos aplicar transformada inversa:\n",
    "\n",
    "$$ L^{-1} \\left\\{ \\frac{2s-4}{s(s + 1)(s^{2} + 1)} \\right\\} = -4L^{-1} \\frac{1}{s} + 3L^{-1}\\frac{1}{s+1} + L^{-1} \\left\\{ \\frac{s + 3}{s^{2} + 1} \\right\\} $$\n"
   ]
  },
  {
   "cell_type": "markdown",
   "id": "c04f102d",
   "metadata": {
    "slideshow": {
     "slide_type": "slide"
    }
   },
   "source": [
    "$$ L^{-1} \\left\\{ \\frac{2s-4}{s(s + 1)(s^{2} + 1)} \\right\\} = -4(1) + 3e^{-t} + L^{-1} \\left\\{ \\frac{s }{s^{2} + 1} \\right\\} + L^{-1}\\left\\{ \\frac{ 3}{s^{2} + 1} \\right\\}  $$"
   ]
  },
  {
   "cell_type": "markdown",
   "id": "ea50e5ec",
   "metadata": {
    "slideshow": {
     "slide_type": "slide"
    }
   },
   "source": [
    "$$ L^{-1} \\left\\{ \\frac{2s-4}{s(s + 1)(s^{2} + 1)} \\right\\} = -4(1) + 3e^{-t} + \\cos t + 3L^{-1}\\left\\{ \\frac{ 1}{s^{2} + 1} \\right\\}  $$"
   ]
  },
  {
   "cell_type": "markdown",
   "id": "167235c2",
   "metadata": {
    "slideshow": {
     "slide_type": "slide"
    }
   },
   "source": [
    "$$ L^{-1} \\left\\{ \\frac{2s-4}{s(s + 1)(s^{2} + 1)} \\right\\} = -4(1) + 3e^{-t} + \\cos t + 3t  $$"
   ]
  },
  {
   "cell_type": "markdown",
   "id": "de76b602",
   "metadata": {
    "slideshow": {
     "slide_type": "slide"
    }
   },
   "source": [
    "$$ L^{-1} \\left\\{ \\frac{2s-4}{s(s + 1)(s^{2} + 1)} \\right\\} = -4 + 3e^{-t} + \\cos t + 3\\sin(t)  $$"
   ]
  },
  {
   "cell_type": "markdown",
   "id": "cc85d51b",
   "metadata": {
    "slideshow": {
     "slide_type": "slide"
    }
   },
   "source": [
    "## Verificación con sympy"
   ]
  },
  {
   "cell_type": "code",
   "execution_count": null,
   "id": "8a80f541",
   "metadata": {
    "slideshow": {
     "slide_type": "slide"
    }
   },
   "outputs": [],
   "source": [
    "import numpy as np \n",
    "from sympy import * "
   ]
  },
  {
   "cell_type": "code",
   "execution_count": null,
   "id": "3862ecf9",
   "metadata": {
    "slideshow": {
     "slide_type": "slide"
    }
   },
   "outputs": [],
   "source": [
    "t = symbols('t', real = True, nonegative = True) \n",
    "s = symbols('s', real = True, positive = True) \n",
    "x,X,y,Y = symbols('x,X,y,Y')\n",
    "x = Function('x')\n",
    "y = Function('y')\n",
    "\n",
    "X = Function('X') \n",
    "Y = Function('Y') "
   ]
  },
  {
   "cell_type": "code",
   "execution_count": null,
   "id": "109621c4",
   "metadata": {
    "slideshow": {
     "slide_type": "slide"
    }
   },
   "outputs": [],
   "source": [
    "def L(f):\n",
    "    return laplace_transform(f,t,s, noconds = True)  \n",
    "\n",
    "def inv_L(F):\n",
    "    return inverse_laplace_transform(F,s,t, noconds = True)  "
   ]
  },
  {
   "cell_type": "code",
   "execution_count": null,
   "id": "880770f3",
   "metadata": {
    "slideshow": {
     "slide_type": "slide"
    }
   },
   "outputs": [],
   "source": [
    "f = -4 + 3*exp(-t) + cos(t) + 3*sin(t)    # -4 + 3e^{-t} + \\cos t + 3t \n",
    "L(f).factor()   "
   ]
  },
  {
   "cell_type": "markdown",
   "id": "0a5e4836",
   "metadata": {
    "slideshow": {
     "slide_type": "slide"
    }
   },
   "source": [
    "Luego, la transformada inversa que calculó está correcta. "
   ]
  },
  {
   "cell_type": "markdown",
   "id": "034b7728",
   "metadata": {
    "slideshow": {
     "slide_type": "slide"
    }
   },
   "source": [
    "## Note: "
   ]
  },
  {
   "cell_type": "code",
   "execution_count": null,
   "id": "a11e8870",
   "metadata": {
    "slideshow": {
     "slide_type": "slide"
    }
   },
   "outputs": [],
   "source": [
    "F = (2*s - 4)/(s*(s+1)*(s**2+ 1)) \n",
    "inv_L(F) "
   ]
  },
  {
   "cell_type": "code",
   "execution_count": null,
   "id": "46555f5e",
   "metadata": {
    "slideshow": {
     "slide_type": "slide"
    }
   },
   "outputs": [],
   "source": []
  },
  {
   "cell_type": "markdown",
   "id": "1c324ebf",
   "metadata": {
    "slideshow": {
     "slide_type": "slide"
    }
   },
   "source": [
    "### Parte 2 Resolución de PVI de primero o de segundo orden lineal de coeficientes constantes no homgéneos."
   ]
  },
  {
   "cell_type": "markdown",
   "id": "0278bacf",
   "metadata": {
    "slideshow": {
     "slide_type": "slide"
    }
   },
   "source": [
    "Ejercicio 39 de la sección 7.2 de Zill sobre transformada de Laplace"
   ]
  },
  {
   "cell_type": "markdown",
   "id": "d78f3266",
   "metadata": {
    "slideshow": {
     "slide_type": "slide"
    }
   },
   "source": [
    "$$ 2y''' + 3y'' -3y'-2y = e^{-t}, \\ \\ \\ \\ \\ y(0) = 0, \\ \\ y'(0) = 0, \\ \\ y''(0) = 1, $$"
   ]
  },
  {
   "cell_type": "markdown",
   "id": "8f6bc3a8",
   "metadata": {
    "slideshow": {
     "slide_type": "slide"
    }
   },
   "source": [
    "Importación de librerías de Python"
   ]
  },
  {
   "cell_type": "code",
   "execution_count": null,
   "id": "4ddb8d1b",
   "metadata": {
    "slideshow": {
     "slide_type": "slide"
    }
   },
   "outputs": [],
   "source": [
    "import numpy as np \n",
    "from sympy import *"
   ]
  },
  {
   "cell_type": "markdown",
   "id": "8a39741d",
   "metadata": {
    "slideshow": {
     "slide_type": "slide"
    }
   },
   "source": [
    "Definición de variables simbólicas"
   ]
  },
  {
   "cell_type": "code",
   "execution_count": null,
   "id": "afb5ae01",
   "metadata": {
    "slideshow": {
     "slide_type": "slide"
    }
   },
   "outputs": [],
   "source": [
    "t = symbols('t', real = True, nonegative = True) \n",
    "s = symbols('s', real = True, positive = True) \n",
    "x,X,y,Y = symbols('x,X,y,Y')\n",
    "x = Function('x')\n",
    "y = Function('y')\n",
    "\n",
    "X = Function('X') \n",
    "Y = Function('Y') "
   ]
  },
  {
   "cell_type": "markdown",
   "id": "23c2e559",
   "metadata": {
    "slideshow": {
     "slide_type": "slide"
    }
   },
   "source": [
    "Funciones de usuario para calcular transformadas y transformadas inversas"
   ]
  },
  {
   "cell_type": "code",
   "execution_count": null,
   "id": "b1bcef66",
   "metadata": {
    "slideshow": {
     "slide_type": "slide"
    }
   },
   "outputs": [],
   "source": [
    "def L(f):\n",
    "    return laplace_transform(f,t,s, noconds = True)  \n",
    "\n",
    "def inv_L(F):\n",
    "    return inverse_laplace_transform(F,s,t, noconds = True)  \n",
    "\n",
    "def L_diff(f, f0, f_p0 = 0, f_pp0 = 0 , n = 1): # esta función es para calcular transformadas de derivadas\n",
    "    \"\"\"\n",
    "    n puede asumir los valores de 0,1,2,3 y representa el orden de la derivada\n",
    "    \"\"\"\n",
    "    F = str(f).upper()\n",
    "    F = symbols(F) \n",
    "    F = Function(F)(s) \n",
    "    if n == 0:\n",
    "        L = F\n",
    "    elif n == 1:\n",
    "        L = s*F - f0\n",
    "    elif n == 2:\n",
    "        L = s**2*F - s*f0 - f_p0\n",
    "    elif n == 3:\n",
    "        L = s**3*F - s**2*f0 - s*f_p0 - f_pp0\n",
    "    return L "
   ]
  },
  {
   "cell_type": "markdown",
   "id": "1d392d9f",
   "metadata": {
    "slideshow": {
     "slide_type": "slide"
    }
   },
   "source": [
    "Cálculo de la transformada de la o las ecuaciones"
   ]
  },
  {
   "cell_type": "code",
   "execution_count": null,
   "id": "d58200de",
   "metadata": {
    "slideshow": {
     "slide_type": "slide"
    }
   },
   "outputs": [],
   "source": [
    "eq1_laplace = Eq( 2*L_diff(y,0,0,1, n = 3) + 3*L_diff(y,0,0,1, n = 2) - 3*L_diff(y,0,0,1, n = 1) - 2*L_diff(y,0,0,1, n = 0), L(exp(-t)) )  \n",
    "# 2y''' + 3y'' - 3y'- 2y = e^{-t}, \\ \\ \\ \\ \\ y(0) = 0, \\ \\ y'(0) = 0, \\ \\ y''(0) = 1,\n",
    "#eq2_laplace = Eq(L_diff(y, 2, n = 1), 5*L_diff(x, -1, n = 0) - L_diff(y, 2, n = 0) )   \n",
    "display(eq1_laplace) "
   ]
  },
  {
   "cell_type": "markdown",
   "id": "7669f916",
   "metadata": {
    "slideshow": {
     "slide_type": "slide"
    }
   },
   "source": [
    "Resolución del sistema algebraico en las variables $X(s)$ y $Y(s)$."
   ]
  },
  {
   "cell_type": "code",
   "execution_count": null,
   "id": "982bec85",
   "metadata": {
    "slideshow": {
     "slide_type": "slide"
    }
   },
   "outputs": [],
   "source": [
    "sol_laplace = solve(eq1_laplace, Y(s))   \n",
    "# No olvide que solve() devuelve una lista de python cuando se pide resolver una sola ecuación\n",
    "sol_laplace = sol_laplace[0]\n",
    "display(sol_laplace) "
   ]
  },
  {
   "cell_type": "code",
   "execution_count": null,
   "id": "b7cad1c9",
   "metadata": {
    "slideshow": {
     "slide_type": "slide"
    }
   },
   "outputs": [],
   "source": [
    "x = inv_L(sol_laplace) \n",
    "x "
   ]
  },
  {
   "cell_type": "markdown",
   "id": "660a3788",
   "metadata": {
    "slideshow": {
     "slide_type": "slide"
    }
   },
   "source": [
    "## Punto 3 (25 puntos) "
   ]
  },
  {
   "cell_type": "markdown",
   "id": "0d4b8d89",
   "metadata": {
    "slideshow": {
     "slide_type": "slide"
    }
   },
   "source": [
    "Ejercicio 6 de la sección 7.6 de Zill sobre transformada de Laplace"
   ]
  },
  {
   "cell_type": "markdown",
   "id": "1f64bcc1",
   "metadata": {
    "slideshow": {
     "slide_type": "slide"
    }
   },
   "source": [
    "\\begin{align*}\n",
    "x' + x - y' + y & = 0 \\\\\n",
    "x' + y' + 2y & = 0 \n",
    "\\end{align*}\n",
    "\n",
    "$$ x(0) = 0, \\ \\ \\ y(0) = 1 $$\n"
   ]
  },
  {
   "cell_type": "markdown",
   "id": "d3ed4612",
   "metadata": {
    "slideshow": {
     "slide_type": "slide"
    }
   },
   "source": [
    "## Solución analítica asistida con sympy"
   ]
  },
  {
   "cell_type": "markdown",
   "id": "98427f2f",
   "metadata": {
    "slideshow": {
     "slide_type": "slide"
    }
   },
   "source": [
    "Importación de librerías "
   ]
  },
  {
   "cell_type": "code",
   "execution_count": null,
   "id": "fa24bf14",
   "metadata": {
    "slideshow": {
     "slide_type": "slide"
    }
   },
   "outputs": [],
   "source": [
    "import numpy as np \n",
    "from sympy import *"
   ]
  },
  {
   "cell_type": "markdown",
   "id": "2d00ccf0",
   "metadata": {
    "slideshow": {
     "slide_type": "slide"
    }
   },
   "source": [
    "Definición de variables simbólicas"
   ]
  },
  {
   "cell_type": "code",
   "execution_count": null,
   "id": "f70ff782",
   "metadata": {
    "slideshow": {
     "slide_type": "slide"
    }
   },
   "outputs": [],
   "source": [
    "t = symbols('t', real = True, nonegative = True) \n",
    "s = symbols('s', real = True, positive = True) \n",
    "x,X,y,Y = symbols('x,X,y,Y')\n",
    "x = Function('x')\n",
    "y = Function('y')\n",
    "\n",
    "X = Function('X') \n",
    "Y = Function('Y') "
   ]
  },
  {
   "cell_type": "code",
   "execution_count": null,
   "id": "49d352ec",
   "metadata": {
    "slideshow": {
     "slide_type": "slide"
    }
   },
   "outputs": [],
   "source": []
  },
  {
   "cell_type": "code",
   "execution_count": null,
   "id": "e11c3f87",
   "metadata": {
    "slideshow": {
     "slide_type": "slide"
    }
   },
   "outputs": [],
   "source": []
  },
  {
   "cell_type": "markdown",
   "id": "9c734dc1",
   "metadata": {
    "slideshow": {
     "slide_type": "slide"
    }
   },
   "source": [
    "## Otro ejercicio sobre solución de sistemas con Laplace"
   ]
  },
  {
   "cell_type": "markdown",
   "id": "5c83664c",
   "metadata": {
    "slideshow": {
     "slide_type": "slide"
    }
   },
   "source": [
    "Ejercicio 11 de la sección 7.6 de Zill. Página 315. "
   ]
  },
  {
   "cell_type": "markdown",
   "id": "382e4e55",
   "metadata": {
    "slideshow": {
     "slide_type": "slide"
    }
   },
   "source": [
    "\\begin{align*}\n",
    "x'' + 3y' + 3y & = 0 \\\\\n",
    "x'' + 3y & = te^{-t}  \n",
    "\\end{align*}\n",
    "\n",
    "$$ x(0) = 0, \\ \\ x'(0) = 2 $$\n",
    "\n",
    "$$ y(0) = 0.  $$"
   ]
  },
  {
   "cell_type": "markdown",
   "id": "de27764b",
   "metadata": {
    "slideshow": {
     "slide_type": "slide"
    }
   },
   "source": [
    "## Solución: "
   ]
  },
  {
   "cell_type": "code",
   "execution_count": 1,
   "id": "f4125e93",
   "metadata": {
    "slideshow": {
     "slide_type": "slide"
    }
   },
   "outputs": [],
   "source": [
    "import numpy as np \n",
    "from sympy import * "
   ]
  },
  {
   "cell_type": "code",
   "execution_count": 31,
   "id": "2785435a",
   "metadata": {
    "slideshow": {
     "slide_type": "slide"
    }
   },
   "outputs": [],
   "source": [
    "t = symbols('t', real = True, nonegative = True) \n",
    "s = symbols('s', real = True, positive = True) \n",
    "x,X,y,Y,x_,y_ = symbols('x,X,y,Y,x_,y_')\n",
    "x = Function('x')\n",
    "y = Function('y')\n",
    "x_ = Function('x_')\n",
    "y_ = Function('y_')\n",
    "X = Function('X') \n",
    "Y = Function('Y') "
   ]
  },
  {
   "cell_type": "code",
   "execution_count": 3,
   "id": "0d39fcbb",
   "metadata": {
    "slideshow": {
     "slide_type": "slide"
    }
   },
   "outputs": [],
   "source": [
    "def L(f):\n",
    "    return laplace_transform(f,t,s, noconds = True)  \n",
    "\n",
    "def inv_L(F):\n",
    "    return inverse_laplace_transform(F,s,t, noconds = True)  \n",
    "\n",
    "def L_diff(f, f0, f_p0 = 0, f_pp0 = 0 , n = 1): # esta función es para calcular transformadas de derivadas\n",
    "    \"\"\"\n",
    "    n puede asumir los valores de 0,1,2,3 y representa el orden de la derivada\n",
    "    \"\"\"\n",
    "    F = str(f).upper()\n",
    "    F = symbols(F) \n",
    "    F = Function(F)(s) \n",
    "    if n == 0:\n",
    "        L = F\n",
    "    elif n == 1:\n",
    "        L = s*F - f0\n",
    "    elif n == 2:\n",
    "        L = s**2*F - s*f0 - f_p0\n",
    "    elif n == 3:\n",
    "        L = s**3*F - s**2*f0 - s*f_p0 - f_pp0\n",
    "    return L "
   ]
  },
  {
   "cell_type": "code",
   "execution_count": 4,
   "id": "42586358",
   "metadata": {
    "scrolled": true,
    "slideshow": {
     "slide_type": "slide"
    }
   },
   "outputs": [
    {
     "data": {
      "text/latex": [
       "$\\displaystyle 3^{\\frac{d}{d t} y{\\left(t \\right)}} + 3 y{\\left(t \\right)} + \\frac{d^{2}}{d t^{2}} x{\\left(t \\right)} = 0$"
      ],
      "text/plain": [
       "Eq(3**Derivative(y(t), t) + 3*y(t) + Derivative(x(t), (t, 2)), 0)"
      ]
     },
     "metadata": {},
     "output_type": "display_data"
    },
    {
     "data": {
      "text/latex": [
       "$\\displaystyle 3 y{\\left(t \\right)} + \\frac{d^{2}}{d t^{2}} x{\\left(t \\right)} = t e^{- t}$"
      ],
      "text/plain": [
       "Eq(3*y(t) + Derivative(x(t), (t, 2)), t*exp(-t))"
      ]
     },
     "metadata": {},
     "output_type": "display_data"
    }
   ],
   "source": [
    "# \\begin{align*}\n",
    "# x'' + 3y' + 3y & = 0 \\\\\n",
    "# x'' + 3y & = te^{-t}  \n",
    "# \\end{align*}\n",
    "\n",
    "# $$ x(0) = 0, \\ \\ x'(0) = 2 $$\n",
    "\n",
    "# $$ y(0) = 0.  $$\n",
    "\n",
    "eq1 = Eq(diff(x(t),t,2) + 3**diff(y(t), t) + 3*y(t), 0) \n",
    "eq2 = Eq(diff(x(t),t,2) +3*y(t) , t*exp(-t) ) \n",
    "\n",
    "display(eq1, eq2) "
   ]
  },
  {
   "cell_type": "markdown",
   "id": "9bcd2a45",
   "metadata": {
    "slideshow": {
     "slide_type": "slide"
    }
   },
   "source": [
    "$$ 3(sY(s) - y(0)) + 3Y(s) + (s^{2}X(s) - sx(0) - x'(0)) = 0 $$ \n",
    "\n",
    "$$ 3Y(s) + (s^{2}X(s) - sx(0) - x'(0)) = \\frac{1}{(s + 1)^{2}} $$\n",
    "\n",
    "donde hemos utilizado que $$L(f(t)e^{at}) = F(s-a) $$"
   ]
  },
  {
   "cell_type": "markdown",
   "id": "23128e1a",
   "metadata": {
    "slideshow": {
     "slide_type": "slide"
    }
   },
   "source": [
    "$$ 3sY(s) + 3Y(s) + s^{2}X(s) - 2 = 0 $$ \n",
    "\n",
    "$$ 3Y(s) + s^{2}X(s) - 2 = \\frac{1}{(s + 1)^{2}} $$"
   ]
  },
  {
   "cell_type": "code",
   "execution_count": 5,
   "id": "b50f38b6",
   "metadata": {
    "slideshow": {
     "slide_type": "slide"
    }
   },
   "outputs": [
    {
     "data": {
      "text/latex": [
       "$\\displaystyle s^{2} X{\\left(s \\right)} + 3 s Y{\\left(s \\right)} + 3 Y{\\left(s \\right)} - 2 = 0$"
      ],
      "text/plain": [
       "Eq(s**2*X(s) + 3*s*Y(s) + 3*Y(s) - 2, 0)"
      ]
     },
     "metadata": {},
     "output_type": "display_data"
    },
    {
     "data": {
      "text/latex": [
       "$\\displaystyle s^{2} X{\\left(s \\right)} + 3 Y{\\left(s \\right)} - 2 = \\frac{1}{\\left(s + 1\\right)^{2}}$"
      ],
      "text/plain": [
       "Eq(s**2*X(s) + 3*Y(s) - 2, (s + 1)**(-2))"
      ]
     },
     "metadata": {},
     "output_type": "display_data"
    }
   ],
   "source": [
    "# \\begin{align*}\n",
    "# x'' + 3y' + 3y & = 0 \\\\\n",
    "# x'' + 3y & = te^{-t}  \n",
    "# \\end{align*}\n",
    "\n",
    "# $$ x(0) = 0, \\ \\ x'(0) = 2 $$\n",
    "\n",
    "# $$ y(0) = 0.  $$\n",
    "\n",
    "eq1_laplace = Eq( L_diff(x,0,2, n = 2) + 3*L_diff(y, 0, n = 0) + 3*L_diff(y, 0, n = 1) , 0 )  \n",
    "eq2_laplace = Eq( L_diff(x,0,2, n = 2) + 3*L_diff(y,0, n = 0), L(t*exp(-t))  )   \n",
    "display(eq1_laplace, eq2_laplace)   "
   ]
  },
  {
   "cell_type": "code",
   "execution_count": 6,
   "id": "29732ce0",
   "metadata": {
    "slideshow": {
     "slide_type": "slide"
    }
   },
   "outputs": [
    {
     "data": {
      "text/plain": [
       "{X(s): (2*s**2 + 2*s + 1)/(s**4 + s**3), Y(s): -1/(3*s**3 + 6*s**2 + 3*s)}"
      ]
     },
     "execution_count": 6,
     "metadata": {},
     "output_type": "execute_result"
    }
   ],
   "source": [
    "sol_sist_algebra = solve([eq1_laplace, eq2_laplace], (X(s), Y(s)))\n",
    "sol_sist_algebra "
   ]
  },
  {
   "cell_type": "code",
   "execution_count": 7,
   "id": "86007d7d",
   "metadata": {
    "slideshow": {
     "slide_type": "slide"
    }
   },
   "outputs": [
    {
     "data": {
      "text/latex": [
       "$\\displaystyle \\frac{2 s^{2} + 2 s + 1}{s^{4} + s^{3}}$"
      ],
      "text/plain": [
       "(2*s**2 + 2*s + 1)/(s**4 + s**3)"
      ]
     },
     "execution_count": 7,
     "metadata": {},
     "output_type": "execute_result"
    }
   ],
   "source": [
    "X_s = sol_sist_algebra[X(s)]\n",
    "X_s "
   ]
  },
  {
   "cell_type": "code",
   "execution_count": 8,
   "id": "f690a526",
   "metadata": {
    "slideshow": {
     "slide_type": "slide"
    }
   },
   "outputs": [
    {
     "data": {
      "text/latex": [
       "$\\displaystyle - \\frac{1}{3 s^{3} + 6 s^{2} + 3 s}$"
      ],
      "text/plain": [
       "-1/(3*s**3 + 6*s**2 + 3*s)"
      ]
     },
     "execution_count": 8,
     "metadata": {},
     "output_type": "execute_result"
    }
   ],
   "source": [
    "Y_s = sol_sist_algebra[Y(s)]\n",
    "Y_s "
   ]
  },
  {
   "cell_type": "markdown",
   "id": "062be4ec",
   "metadata": {
    "slideshow": {
     "slide_type": "slide"
    }
   },
   "source": [
    "$$ X(s) = \\frac{2s^{2} + 2s + 1}{s^{3}(s+1)} = \\frac{A}{s} + \\frac{B}{s^{2}} + \\frac{C}{s^{3}} + \\frac{D}{s+1} $$"
   ]
  },
  {
   "cell_type": "code",
   "execution_count": 9,
   "id": "3adf3c54",
   "metadata": {
    "slideshow": {
     "slide_type": "slide"
    }
   },
   "outputs": [
    {
     "data": {
      "text/latex": [
       "$\\displaystyle - \\frac{1}{s + 1} + \\frac{1}{s} + \\frac{1}{s^{2}} + \\frac{1}{s^{3}}$"
      ],
      "text/plain": [
       "-1/(s + 1) + 1/s + s**(-2) + s**(-3)"
      ]
     },
     "execution_count": 9,
     "metadata": {},
     "output_type": "execute_result"
    }
   ],
   "source": [
    "X_s.apart() "
   ]
  },
  {
   "cell_type": "code",
   "execution_count": 35,
   "id": "9b850f6b",
   "metadata": {
    "slideshow": {
     "slide_type": "slide"
    }
   },
   "outputs": [
    {
     "data": {
      "text/latex": [
       "$\\displaystyle \\frac{t^{2}}{2} + t + 1 - e^{- t}$"
      ],
      "text/plain": [
       "t**2/2 + t + 1 - exp(-t)"
      ]
     },
     "execution_count": 35,
     "metadata": {},
     "output_type": "execute_result"
    }
   ],
   "source": [
    "x_ = inv_L(X_s)\n",
    "x_ = x_.subs({Heaviside(t):1})\n",
    "x_ "
   ]
  },
  {
   "cell_type": "markdown",
   "id": "bb477021",
   "metadata": {
    "slideshow": {
     "slide_type": "slide"
    }
   },
   "source": [
    "$$ x(t) = \\frac{t^{2}}{2} + t + 1 - e^{-t} $$"
   ]
  },
  {
   "cell_type": "code",
   "execution_count": 36,
   "id": "ce5ebef0",
   "metadata": {
    "slideshow": {
     "slide_type": "slide"
    }
   },
   "outputs": [
    {
     "data": {
      "text/latex": [
       "$\\displaystyle \\frac{\\left(t - e^{t} + 1\\right) e^{- t}}{3}$"
      ],
      "text/plain": [
       "(t - exp(t) + 1)*exp(-t)/3"
      ]
     },
     "execution_count": 36,
     "metadata": {},
     "output_type": "execute_result"
    }
   ],
   "source": [
    "y_ = inv_L(Y_s)\n",
    "y_ = y_.subs({Heaviside(t):1})\n",
    "y_ "
   ]
  },
  {
   "cell_type": "markdown",
   "id": "d9221443",
   "metadata": {
    "slideshow": {
     "slide_type": "slide"
    }
   },
   "source": [
    "$$ y(t) = \\frac{(t - e^{t} + 1)e^{-t}}{3} $$"
   ]
  },
  {
   "cell_type": "code",
   "execution_count": 19,
   "id": "4a003c80",
   "metadata": {
    "slideshow": {
     "slide_type": "slide"
    }
   },
   "outputs": [
    {
     "data": {
      "text/latex": [
       "$\\displaystyle \\theta\\left(t\\right)$"
      ],
      "text/plain": [
       "Heaviside(t)"
      ]
     },
     "execution_count": 19,
     "metadata": {},
     "output_type": "execute_result"
    }
   ],
   "source": [
    "Heaviside(t) "
   ]
  },
  {
   "cell_type": "markdown",
   "id": "c33867ea",
   "metadata": {
    "slideshow": {
     "slide_type": "slide"
    }
   },
   "source": [
    "## Verificación con Sympy "
   ]
  },
  {
   "cell_type": "code",
   "execution_count": 52,
   "id": "91f6ac8a",
   "metadata": {
    "slideshow": {
     "slide_type": "slide"
    }
   },
   "outputs": [
    {
     "data": {
      "text/latex": [
       "$\\displaystyle t e^{- t} + 3^{- \\frac{t e^{- t}}{3}} = 0$"
      ],
      "text/plain": [
       "Eq(t*exp(-t) + 3**(-t*exp(-t)/3), 0)"
      ]
     },
     "execution_count": 52,
     "metadata": {},
     "output_type": "execute_result"
    }
   ],
   "source": [
    "eq1.subs({x(t):x_, y(t):y_}).simplify()"
   ]
  },
  {
   "cell_type": "code",
   "execution_count": 50,
   "id": "d22fae89",
   "metadata": {
    "slideshow": {
     "slide_type": "slide"
    }
   },
   "outputs": [
    {
     "data": {
      "text/latex": [
       "$\\displaystyle \\text{True}$"
      ],
      "text/plain": [
       "True"
      ]
     },
     "execution_count": 50,
     "metadata": {},
     "output_type": "execute_result"
    }
   ],
   "source": [
    "eq2.subs({x(t):x_, y(t):y_}).simplify() "
   ]
  },
  {
   "cell_type": "code",
   "execution_count": 55,
   "id": "9a271a1a",
   "metadata": {
    "slideshow": {
     "slide_type": "slide"
    }
   },
   "outputs": [
    {
     "data": {
      "text/latex": [
       "$\\displaystyle 0$"
      ],
      "text/plain": [
       "0"
      ]
     },
     "execution_count": 55,
     "metadata": {},
     "output_type": "execute_result"
    }
   ],
   "source": [
    "x_.subs({t:0}) "
   ]
  },
  {
   "cell_type": "code",
   "execution_count": 56,
   "id": "d03719e2",
   "metadata": {
    "slideshow": {
     "slide_type": "slide"
    }
   },
   "outputs": [
    {
     "data": {
      "text/latex": [
       "$\\displaystyle 2$"
      ],
      "text/plain": [
       "2"
      ]
     },
     "execution_count": 56,
     "metadata": {},
     "output_type": "execute_result"
    }
   ],
   "source": [
    "x_p=diff(x_,t)\n",
    "x_p.subs({t:0}) "
   ]
  },
  {
   "cell_type": "code",
   "execution_count": 57,
   "id": "c4036bfb",
   "metadata": {
    "slideshow": {
     "slide_type": "slide"
    }
   },
   "outputs": [
    {
     "data": {
      "text/latex": [
       "$\\displaystyle 0$"
      ],
      "text/plain": [
       "0"
      ]
     },
     "execution_count": 57,
     "metadata": {},
     "output_type": "execute_result"
    }
   ],
   "source": [
    "y_.subs({t:0}) "
   ]
  },
  {
   "cell_type": "markdown",
   "id": "b80682e3",
   "metadata": {
    "slideshow": {
     "slide_type": "slide"
    }
   },
   "source": [
    "### Conclusión de la verificación con sympy"
   ]
  },
  {
   "cell_type": "markdown",
   "id": "6add4f62",
   "metadata": {
    "slideshow": {
     "slide_type": "slide"
    }
   },
   "source": [
    "Las funciones obtenidas satisfacen efectivamente el PVI. "
   ]
  },
  {
   "cell_type": "markdown",
   "id": "6b0f2bf8",
   "metadata": {
    "slideshow": {
     "slide_type": "slide"
    }
   },
   "source": [
    "## Punto 4 Sustentación oral (25 puntos) "
   ]
  },
  {
   "cell_type": "markdown",
   "id": "bc61628b",
   "metadata": {
    "slideshow": {
     "slide_type": "slide"
    }
   },
   "source": [
    "### Preguntas para la sustentación oral"
   ]
  },
  {
   "cell_type": "markdown",
   "id": "724ea12b",
   "metadata": {
    "slideshow": {
     "slide_type": "slide"
    }
   },
   "source": [
    "* ¿Cómo definiría a la transformada de Laplace?\n",
    "* ¿Qué propiedades tiene la transformada de Laplace?\n",
    "* ¿Cuál es la metodología de solución de un PVI definido por un sistema utilizando tarnsformada de Laplace?\n",
    "* ¿Cuál es la metodología para resolver un PVI definido a travpes de un sistema utilizando el método de los vectores y \n",
    "  valores propios?  \n",
    "* ¿Cuales son las ventajas de utilizar el operador transformada de Laplace para resolver PVI's?  \n",
    "* "
   ]
  },
  {
   "cell_type": "markdown",
   "id": "245bf7f7",
   "metadata": {
    "slideshow": {
     "slide_type": "slide"
    }
   },
   "source": [
    "## Asignación aleatoria de ejercicios para el parcial 4"
   ]
  },
  {
   "cell_type": "code",
   "execution_count": null,
   "id": "e13a0c45",
   "metadata": {
    "slideshow": {
     "slide_type": "slide"
    }
   },
   "outputs": [],
   "source": [
    "import numpy as np \n",
    "import pandas as pd \n",
    "\n",
    "np.random.seed(40) \n",
    "\n",
    "laplace_def = np.random.randint(low = 1, high = 40, size = 11) \n",
    "\n",
    "inverse_transform = np.random.randint(low = 1, high = 30, size = 11)\n",
    "\n",
    "pvi_1_2_order = np.random.randint(low = 31, high = 42, size = 11) \n",
    "\n",
    "system_pvi = np.random.randint(low = 1, high = 14, size = 11) \n",
    "\n",
    "students = ['juliana.aguilar@udea.edu.co',\n",
    "         'angel.arrieta@udea.edu.co',\n",
    "         'danis.canchila@udea.edu.co',\n",
    "         'sandra.cotuab@udea.edu.co',\n",
    "         'katherine.gallo@udea.edu.co',\n",
    "         'vmanuel.palacio@udea.edu.co',\n",
    "         'valentina.perezp@udea.edu.co',\n",
    "         'jolman.rivera@udea.edu.co',\n",
    "         'laura.ruiz1@udea.edu.co',\n",
    "         'eliana.sotov@udea.edu.co',\n",
    "         'robert.velasquez@udea.edu.co']\n",
    "\n",
    "df = pd.DataFrame({ 'student':students, 'Punto 1 Seccion 7.1': laplace_def , \n",
    "                   'Punto 2 Sección 7.2 primera parte': inverse_transform, \n",
    "                   'Punto 2 Sección 7.2 Segunda parte': pvi_1_2_order,\n",
    "                   'Punto 3 Sección 7.6': system_pvi}, \n",
    "                  index = np.arange(1,12))  \n",
    "df "
   ]
  },
  {
   "cell_type": "markdown",
   "id": "11dd589a",
   "metadata": {
    "slideshow": {
     "slide_type": "slide"
    }
   },
   "source": [
    "## Referentes  \n",
    "\n",
    "* Zill  \n",
    "* Larson, en cuanto a todos los casos de descomposición en fracciones parciales. "
   ]
  }
 ],
 "metadata": {
  "celltoolbar": "Slideshow",
  "kernelspec": {
   "display_name": "Python 3",
   "language": "python",
   "name": "python3"
  },
  "language_info": {
   "codemirror_mode": {
    "name": "ipython",
    "version": 3
   },
   "file_extension": ".py",
   "mimetype": "text/x-python",
   "name": "python",
   "nbconvert_exporter": "python",
   "pygments_lexer": "ipython3",
   "version": "3.8.8"
  },
  "latex_envs": {
   "LaTeX_envs_menu_present": true,
   "autoclose": false,
   "autocomplete": false,
   "bibliofile": "biblio.bib",
   "cite_by": "apalike",
   "current_citInitial": 1,
   "eqLabelWithNumbers": true,
   "eqNumInitial": 1,
   "hotkeys": {
    "equation": "Ctrl-E",
    "itemize": "Ctrl-I"
   },
   "labels_anchors": false,
   "latex_user_defs": false,
   "report_style_numbering": false,
   "user_envs_cfg": false
  },
  "rise": {
   "enable_chalkboard": true,
   "theme": "sky",
   "transition": "zoom"
  }
 },
 "nbformat": 4,
 "nbformat_minor": 5
}
