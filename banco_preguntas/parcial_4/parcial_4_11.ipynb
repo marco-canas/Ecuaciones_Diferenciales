{
 "cells": [
  {
   "cell_type": "markdown",
   "id": "dfec0138",
   "metadata": {
    "slideshow": {
     "slide_type": "slide"
    }
   },
   "source": [
    "<table align=\"left\">\n",
    "  <td>\n",
    "    <a href=\"https://colab.research.google.com/github/marco-canas/edo/blob/main/banco_preguntas/parcial_4/parcial_4_11.ipynb\" target=\"_parent\"><img src=\"https://colab.research.google.com/assets/colab-badge.svg\" alt=\"Open In Colab\"/></a>\n",
    "  </td>\n",
    "  <td>\n",
    "    <a target=\"_blank\" href=\"https://kaggle.com/kernels/welcome?src=https://github.com/marco-canas/edo/blob/main/banco_preguntas/parcial_4/parcial_4_11.ipynb\"><img src=\"https://kaggle.com/static/images/open-in-kaggle.svg\" /></a>\n",
    "  </td>\n",
    "</table>"
   ]
  },
  {
   "cell_type": "markdown",
   "id": "d00cfd23",
   "metadata": {
    "slideshow": {
     "slide_type": "slide"
    }
   },
   "source": [
    "# Parcial 4_11"
   ]
  },
  {
   "cell_type": "markdown",
   "id": "60584716",
   "metadata": {
    "slideshow": {
     "slide_type": "slide"
    }
   },
   "source": [
    "## Asignación de ejercicios de manera aleatoria"
   ]
  },
  {
   "cell_type": "code",
   "execution_count": 1,
   "id": "ca926b1d",
   "metadata": {
    "slideshow": {
     "slide_type": "slide"
    }
   },
   "outputs": [
    {
     "data": {
      "text/html": [
       "<div>\n",
       "<style scoped>\n",
       "    .dataframe tbody tr th:only-of-type {\n",
       "        vertical-align: middle;\n",
       "    }\n",
       "\n",
       "    .dataframe tbody tr th {\n",
       "        vertical-align: top;\n",
       "    }\n",
       "\n",
       "    .dataframe thead th {\n",
       "        text-align: right;\n",
       "    }\n",
       "</style>\n",
       "<table border=\"1\" class=\"dataframe\">\n",
       "  <thead>\n",
       "    <tr style=\"text-align: right;\">\n",
       "      <th></th>\n",
       "      <th>Punto 1 Seccion 7.1</th>\n",
       "      <th>Punto 2 Sección 7.2 primera parte</th>\n",
       "      <th>Punto 2 Sección 7.2 Segunda parte</th>\n",
       "      <th>Punto 3 Sección 7.6</th>\n",
       "    </tr>\n",
       "  </thead>\n",
       "  <tbody>\n",
       "    <tr>\n",
       "      <th>juliana.aguilar@udea.edu.co</th>\n",
       "      <td>7</td>\n",
       "      <td>28</td>\n",
       "      <td>34</td>\n",
       "      <td>4</td>\n",
       "    </tr>\n",
       "    <tr>\n",
       "      <th>angel.arrieta@udea.edu.co</th>\n",
       "      <td>28</td>\n",
       "      <td>28</td>\n",
       "      <td>38</td>\n",
       "      <td>13</td>\n",
       "    </tr>\n",
       "    <tr>\n",
       "      <th>danis.canchila@udea.edu.co</th>\n",
       "      <td>8</td>\n",
       "      <td>10</td>\n",
       "      <td>40</td>\n",
       "      <td>6</td>\n",
       "    </tr>\n",
       "    <tr>\n",
       "      <th>sandra.cotuab@udea.edu.co</th>\n",
       "      <td>38</td>\n",
       "      <td>1</td>\n",
       "      <td>40</td>\n",
       "      <td>3</td>\n",
       "    </tr>\n",
       "    <tr>\n",
       "      <th>katherine.gallo@udea.edu.co</th>\n",
       "      <td>2</td>\n",
       "      <td>18</td>\n",
       "      <td>36</td>\n",
       "      <td>3</td>\n",
       "    </tr>\n",
       "    <tr>\n",
       "      <th>vmanuel.palacio@udea.edu.co</th>\n",
       "      <td>13</td>\n",
       "      <td>22</td>\n",
       "      <td>33</td>\n",
       "      <td>11</td>\n",
       "    </tr>\n",
       "    <tr>\n",
       "      <th>valentina.perezp@udea.edu.co</th>\n",
       "      <td>8</td>\n",
       "      <td>10</td>\n",
       "      <td>41</td>\n",
       "      <td>4</td>\n",
       "    </tr>\n",
       "    <tr>\n",
       "      <th>jolman.rivera@udea.edu.co</th>\n",
       "      <td>20</td>\n",
       "      <td>9</td>\n",
       "      <td>33</td>\n",
       "      <td>13</td>\n",
       "    </tr>\n",
       "    <tr>\n",
       "      <th>laura.ruiz1@udea.edu.co</th>\n",
       "      <td>32</td>\n",
       "      <td>21</td>\n",
       "      <td>37</td>\n",
       "      <td>13</td>\n",
       "    </tr>\n",
       "    <tr>\n",
       "      <th>eliana.sotov@udea.edu.co</th>\n",
       "      <td>11</td>\n",
       "      <td>16</td>\n",
       "      <td>37</td>\n",
       "      <td>8</td>\n",
       "    </tr>\n",
       "    <tr>\n",
       "      <th>robert.velasquez@udea.edu.co</th>\n",
       "      <td>20</td>\n",
       "      <td>15</td>\n",
       "      <td>31</td>\n",
       "      <td>10</td>\n",
       "    </tr>\n",
       "  </tbody>\n",
       "</table>\n",
       "</div>"
      ],
      "text/plain": [
       "                              Punto 1 Seccion 7.1  \\\n",
       "juliana.aguilar@udea.edu.co                     7   \n",
       "angel.arrieta@udea.edu.co                      28   \n",
       "danis.canchila@udea.edu.co                      8   \n",
       "sandra.cotuab@udea.edu.co                      38   \n",
       "katherine.gallo@udea.edu.co                     2   \n",
       "vmanuel.palacio@udea.edu.co                    13   \n",
       "valentina.perezp@udea.edu.co                    8   \n",
       "jolman.rivera@udea.edu.co                      20   \n",
       "laura.ruiz1@udea.edu.co                        32   \n",
       "eliana.sotov@udea.edu.co                       11   \n",
       "robert.velasquez@udea.edu.co                   20   \n",
       "\n",
       "                              Punto 2 Sección 7.2 primera parte  \\\n",
       "juliana.aguilar@udea.edu.co                                  28   \n",
       "angel.arrieta@udea.edu.co                                    28   \n",
       "danis.canchila@udea.edu.co                                   10   \n",
       "sandra.cotuab@udea.edu.co                                     1   \n",
       "katherine.gallo@udea.edu.co                                  18   \n",
       "vmanuel.palacio@udea.edu.co                                  22   \n",
       "valentina.perezp@udea.edu.co                                 10   \n",
       "jolman.rivera@udea.edu.co                                     9   \n",
       "laura.ruiz1@udea.edu.co                                      21   \n",
       "eliana.sotov@udea.edu.co                                     16   \n",
       "robert.velasquez@udea.edu.co                                 15   \n",
       "\n",
       "                              Punto 2 Sección 7.2 Segunda parte  \\\n",
       "juliana.aguilar@udea.edu.co                                  34   \n",
       "angel.arrieta@udea.edu.co                                    38   \n",
       "danis.canchila@udea.edu.co                                   40   \n",
       "sandra.cotuab@udea.edu.co                                    40   \n",
       "katherine.gallo@udea.edu.co                                  36   \n",
       "vmanuel.palacio@udea.edu.co                                  33   \n",
       "valentina.perezp@udea.edu.co                                 41   \n",
       "jolman.rivera@udea.edu.co                                    33   \n",
       "laura.ruiz1@udea.edu.co                                      37   \n",
       "eliana.sotov@udea.edu.co                                     37   \n",
       "robert.velasquez@udea.edu.co                                 31   \n",
       "\n",
       "                              Punto 3 Sección 7.6  \n",
       "juliana.aguilar@udea.edu.co                     4  \n",
       "angel.arrieta@udea.edu.co                      13  \n",
       "danis.canchila@udea.edu.co                      6  \n",
       "sandra.cotuab@udea.edu.co                       3  \n",
       "katherine.gallo@udea.edu.co                     3  \n",
       "vmanuel.palacio@udea.edu.co                    11  \n",
       "valentina.perezp@udea.edu.co                    4  \n",
       "jolman.rivera@udea.edu.co                      13  \n",
       "laura.ruiz1@udea.edu.co                        13  \n",
       "eliana.sotov@udea.edu.co                        8  \n",
       "robert.velasquez@udea.edu.co                   10  "
      ]
     },
     "execution_count": 1,
     "metadata": {},
     "output_type": "execute_result"
    }
   ],
   "source": [
    "import numpy as np \n",
    "import pandas as pd \n",
    "\n",
    "np.random.seed(40) \n",
    "\n",
    "laplace_def = np.random.randint(low = 1, high = 40, size = 11) \n",
    "\n",
    "inverse_transform = np.random.randint(low = 1, high = 29, size = 11)\n",
    "\n",
    "pvi_1_2_order = np.random.randint(low = 30, high = 42, size = 11) \n",
    "\n",
    "system_pvi = np.random.randint(low = 1, high = 14, size = 11) \n",
    "\n",
    "index_ = ['juliana.aguilar@udea.edu.co',\n",
    "         'angel.arrieta@udea.edu.co',\n",
    "         'danis.canchila@udea.edu.co',\n",
    "         'sandra.cotuab@udea.edu.co',\n",
    "         'katherine.gallo@udea.edu.co',\n",
    "         'vmanuel.palacio@udea.edu.co',\n",
    "         'valentina.perezp@udea.edu.co',\n",
    "         'jolman.rivera@udea.edu.co',\n",
    "         'laura.ruiz1@udea.edu.co',\n",
    "         'eliana.sotov@udea.edu.co',\n",
    "         'robert.velasquez@udea.edu.co']\n",
    "\n",
    "df = pd.DataFrame({'Punto 1 Seccion 7.1': laplace_def , \n",
    "                   'Punto 2 Sección 7.2 primera parte': inverse_transform, \n",
    "                   'Punto 2 Sección 7.2 Segunda parte': pvi_1_2_order,\n",
    "                   'Punto 3 Sección 7.6': system_pvi}, \n",
    "                  index = index_) \n",
    "df "
   ]
  },
  {
   "cell_type": "markdown",
   "id": "a3aa0242",
   "metadata": {
    "slideshow": {
     "slide_type": "slide"
    }
   },
   "source": [
    "## Punto 1 (25 puntos) "
   ]
  },
  {
   "cell_type": "markdown",
   "id": "ab2763ab",
   "metadata": {
    "slideshow": {
     "slide_type": "slide"
    }
   },
   "source": [
    "Ejercicio 20 de la sección 7.1 de Zill. Página "
   ]
  },
  {
   "cell_type": "markdown",
   "id": "9e210b9e",
   "metadata": {
    "slideshow": {
     "slide_type": "slide"
    }
   },
   "source": [
    "use el teorema 7.1.1 para encontrar $L\\{f(t) \\}$ si $f(t) = t^{5}$. "
   ]
  },
  {
   "cell_type": "markdown",
   "id": "d63b3c4d",
   "metadata": {
    "slideshow": {
     "slide_type": "slide"
    }
   },
   "source": [
    "Finalice calculando \n",
    "\n",
    "$$ \\lim_{s \\to \\infty} F(s) $$\n",
    "\n",
    "Redacte una conclusión verbal. \n"
   ]
  },
  {
   "cell_type": "markdown",
   "id": "8e84a824",
   "metadata": {
    "slideshow": {
     "slide_type": "slide"
    }
   },
   "source": [
    "## Punto 2 (25 puntos) "
   ]
  },
  {
   "cell_type": "markdown",
   "id": "0fe29db7",
   "metadata": {
    "slideshow": {
     "slide_type": "slide"
    }
   },
   "source": [
    "### Punto 2 Primera parte. "
   ]
  },
  {
   "cell_type": "markdown",
   "id": "6a02461d",
   "metadata": {
    "slideshow": {
     "slide_type": "slide"
    }
   },
   "source": [
    "Ejercicio 15 de la sección 7.2 de Zill. "
   ]
  },
  {
   "cell_type": "markdown",
   "id": "bee95413",
   "metadata": {
    "slideshow": {
     "slide_type": "slide"
    }
   },
   "source": [
    "$$ L^{-1}\\left\\{ \\frac{2s - 6}{s^{2} + 9} \\right\\} $$\n",
    "\n",
    "Describa y justifique su procedimiento. Estas justificaciones valen la mitad del punto. "
   ]
  },
  {
   "cell_type": "markdown",
   "id": "dd953002",
   "metadata": {
    "slideshow": {
     "slide_type": "slide"
    }
   },
   "source": [
    "Verifique su resultado aplicando las fórmulas de transformada de Laplace. "
   ]
  },
  {
   "cell_type": "markdown",
   "id": "621ae092",
   "metadata": {
    "slideshow": {
     "slide_type": "slide"
    }
   },
   "source": [
    "### Punto 2 segunda parte"
   ]
  },
  {
   "cell_type": "markdown",
   "id": "3c3b3df3",
   "metadata": {
    "slideshow": {
     "slide_type": "slide"
    }
   },
   "source": [
    "Punto 31 de la sección 7.2 de Zill. Página 285. "
   ]
  },
  {
   "cell_type": "markdown",
   "id": "888ac4f3",
   "metadata": {
    "slideshow": {
     "slide_type": "slide"
    }
   },
   "source": [
    "use la transformada de Laplace para resolver el problema con valores iniciales\n",
    "\n",
    "$$ y' - y = 0, \\ \\ \\ \\ y(0) = 0 $$\n",
    "\n",
    "Verifique que resultado, es decir, vea si la solución satisface la ecuación diferencial y la condición inicial. \n"
   ]
  },
  {
   "cell_type": "markdown",
   "id": "660a3788",
   "metadata": {
    "slideshow": {
     "slide_type": "slide"
    }
   },
   "source": [
    "## Punto 3 (25 puntos) "
   ]
  },
  {
   "cell_type": "markdown",
   "id": "1e72e9de",
   "metadata": {
    "slideshow": {
     "slide_type": "slide"
    }
   },
   "source": [
    "Punto 10 de la sección 7.6 de Zill. Página 285. "
   ]
  },
  {
   "cell_type": "markdown",
   "id": "ce494939",
   "metadata": {
    "slideshow": {
     "slide_type": "slide"
    }
   },
   "source": [
    "\\begin{align*}\n",
    "x' - 4x + y''' & = 6\\sin(t) \\\\\n",
    "x' + 2x -2y'''  & = 0\n",
    "\\end{align*}\n",
    "\n",
    "$$ x(0) = 0, \\ \\ \\ \\ y(0) = 0, \\ \\ \\ y'(0) = 0, \\ \\ \\ \\ y''(0) = 0 $$\n",
    "\n",
    "Verifique su resultado sustituyendo en cada ecuación del sistema y chequeando que las funciones $x(t)$ y $y(t)$ halladas satisfagan las cuatro condiciones iniciales dadas. \n"
   ]
  },
  {
   "cell_type": "markdown",
   "id": "2baeb3e7",
   "metadata": {
    "slideshow": {
     "slide_type": "slide"
    }
   },
   "source": []
  },
  {
   "cell_type": "code",
   "execution_count": null,
   "id": "315876c7",
   "metadata": {
    "slideshow": {
     "slide_type": "slide"
    }
   },
   "outputs": [],
   "source": []
  },
  {
   "cell_type": "code",
   "execution_count": null,
   "id": "bf8a4517",
   "metadata": {
    "slideshow": {
     "slide_type": "slide"
    }
   },
   "outputs": [],
   "source": []
  },
  {
   "cell_type": "markdown",
   "id": "6b0f2bf8",
   "metadata": {
    "slideshow": {
     "slide_type": "slide"
    }
   },
   "source": [
    "## Punto 4 Sustentación oral (25 puntos) "
   ]
  },
  {
   "cell_type": "code",
   "execution_count": null,
   "id": "e13a0c45",
   "metadata": {
    "slideshow": {
     "slide_type": "slide"
    }
   },
   "outputs": [],
   "source": []
  },
  {
   "cell_type": "markdown",
   "id": "888548ac",
   "metadata": {
    "slideshow": {
     "slide_type": "slide"
    }
   },
   "source": [
    "## Preguntas para la sustentación oral"
   ]
  },
  {
   "cell_type": "markdown",
   "id": "7227a68f",
   "metadata": {
    "slideshow": {
     "slide_type": "slide"
    }
   },
   "source": [
    "* ¿Cuál es la metodología de solución de un PVI definido por un sistema utilizando tarnsformada de Laplace?\n",
    "\n",
    "* ¿Qué nombre le daría a las funciones y ecuaciones asignadas en su parcial?, es decir, identifique las funciones y ecuaciones asignadas en su parcial.  \n",
    "\n",
    "* ¿Cuál es la metodología para resolver un PVI definido a través de un sistema utilizando el método \n",
    "  de los vectores y valores propios?\n",
    "  \n",
    "* ¿Cuales son las ventajas de utilizar el operador transformada de Laplace para resolver PVI's?    \n",
    "\n",
    "* ¿Qué diferencias hay entre el método de los eigenvalores y eigenvectores y el método de transformada de laplace para \n",
    "  la solución de sistemas lineales?"
   ]
  },
  {
   "cell_type": "code",
   "execution_count": null,
   "id": "b9d102db",
   "metadata": {
    "slideshow": {
     "slide_type": "slide"
    }
   },
   "outputs": [],
   "source": []
  }
 ],
 "metadata": {
  "celltoolbar": "Slideshow",
  "kernelspec": {
   "display_name": "Python 3",
   "language": "python",
   "name": "python3"
  },
  "language_info": {
   "codemirror_mode": {
    "name": "ipython",
    "version": 3
   },
   "file_extension": ".py",
   "mimetype": "text/x-python",
   "name": "python",
   "nbconvert_exporter": "python",
   "pygments_lexer": "ipython3",
   "version": "3.8.8"
  },
  "latex_envs": {
   "LaTeX_envs_menu_present": true,
   "autoclose": false,
   "autocomplete": false,
   "bibliofile": "biblio.bib",
   "cite_by": "apalike",
   "current_citInitial": 1,
   "eqLabelWithNumbers": true,
   "eqNumInitial": 1,
   "hotkeys": {
    "equation": "Ctrl-E",
    "itemize": "Ctrl-I"
   },
   "labels_anchors": false,
   "latex_user_defs": false,
   "report_style_numbering": false,
   "user_envs_cfg": false
  },
  "rise": {
   "enable_chalkboard": true,
   "theme": "sky",
   "transition": "zoom"
  }
 },
 "nbformat": 4,
 "nbformat_minor": 5
}
