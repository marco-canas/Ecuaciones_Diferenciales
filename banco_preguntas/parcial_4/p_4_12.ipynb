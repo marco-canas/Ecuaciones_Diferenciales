{
 "cells": [
  {
   "cell_type": "markdown",
   "id": "a9d4e734",
   "metadata": {
    "slideshow": {
     "slide_type": "slide"
    }
   },
   "source": [
    "<table align=\"left\">\n",
    "  <td>\n",
    "    <a href=\"https://colab.research.google.com/github/marco-canas/edo/blob/main/banco_preguntas/parcial_4/p_4_12.ipynb\" target=\"_parent\"><img src=\"https://colab.research.google.com/assets/colab-badge.svg\" alt=\"Open In Colab\"/></a>\n",
    "  </td>\n",
    "</table>"
   ]
  },
  {
   "cell_type": "markdown",
   "id": "9a8b7a06",
   "metadata": {
    "slideshow": {
     "slide_type": "slide"
    }
   },
   "source": [
    "# Parcial 4 de ODE sobre Crecimiento poblacional logístico"
   ]
  },
  {
   "cell_type": "markdown",
   "id": "1d600666",
   "metadata": {
    "slideshow": {
     "slide_type": "slide"
    }
   },
   "source": [
    "## Punto 1"
   ]
  },
  {
   "cell_type": "markdown",
   "id": "bcc77fd5",
   "metadata": {
    "slideshow": {
     "slide_type": "slide"
    }
   },
   "source": [
    "Suponga que una población dada puede dividirse en dos partes: aquellos que tienen una enfermedad dada y pueden contagiar a los demás,  y aquellos que no la tienen pero son suceptibles de adquirirla.  \n",
    "\n",
    "Sea $x$ la proporción de individuos suceptibles y $y$ la proporción de individuos infectados; entonces $x + y = 1$.  \n",
    "\n",
    "Suponga que la enfermedad se propaga por contacto entre los miembros enfermos y los sanos de la población y que la razón de propagación $dy/dt$ es proporcional al número de esos contactos.  \n",
    "\n",
    "Además, suponga que los miembros de los dos grupos se desplazan libremente entre sí, de modo que el número de contactos es proporcional al producto de $x$ y $y$.  \n",
    "\n",
    "Como $x = 1-y$, se obtiene el problema con valor inicial \n",
    "\n",
    "$$ \\frac{dy}{dt} =  \\alpha y(1-y), \\ \\ \\ \\ \\ y(0) = y_{0} $$\n",
    "\n",
    "en donde $\\alpha$ es un factor de proporcionalidad positivo y $y_{0}$ es la proporción inicia de individuos infectados.   \n",
    "\n",
    "a. Encuentre los puntos de equilibrio de la ecuación diferencial del PVI dado y determine si cada uno es estable o inestable. (Leer desde la página 72 del Boyce DiPrima). \n",
    "\n",
    "b. Resuelva el problema con valor inicial y verifique que las conclusiones a las que llegó en el inciso a) son correctas. \n",
    "\n",
    "c. Demuestre que $y(t) \\to 1$, cuando $t \\to \\infty$, lo cual significa que la enfermedad terminará por propagarse por toda la población. "
   ]
  },
  {
   "cell_type": "code",
   "execution_count": null,
   "id": "18cc43b2",
   "metadata": {
    "slideshow": {
     "slide_type": "slide"
    }
   },
   "outputs": [],
   "source": []
  },
  {
   "cell_type": "code",
   "execution_count": null,
   "id": "09fbec58",
   "metadata": {
    "slideshow": {
     "slide_type": "slide"
    }
   },
   "outputs": [],
   "source": []
  },
  {
   "cell_type": "code",
   "execution_count": null,
   "id": "505312c3",
   "metadata": {
    "slideshow": {
     "slide_type": "slide"
    }
   },
   "outputs": [],
   "source": []
  },
  {
   "cell_type": "code",
   "execution_count": null,
   "id": "0ac7a6ac",
   "metadata": {
    "slideshow": {
     "slide_type": "slide"
    }
   },
   "outputs": [],
   "source": []
  },
  {
   "cell_type": "code",
   "execution_count": null,
   "id": "f86b7daf",
   "metadata": {
    "slideshow": {
     "slide_type": "slide"
    }
   },
   "outputs": [],
   "source": []
  }
 ],
 "metadata": {
  "celltoolbar": "Slideshow",
  "kernelspec": {
   "display_name": "Python 3 (ipykernel)",
   "language": "python",
   "name": "python3"
  },
  "language_info": {
   "codemirror_mode": {
    "name": "ipython",
    "version": 3
   },
   "file_extension": ".py",
   "mimetype": "text/x-python",
   "name": "python",
   "nbconvert_exporter": "python",
   "pygments_lexer": "ipython3",
   "version": "3.9.12"
  }
 },
 "nbformat": 4,
 "nbformat_minor": 5
}
