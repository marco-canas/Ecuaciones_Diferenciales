{
 "cells": [
  {
   "cell_type": "markdown",
   "id": "f9b9c6dc",
   "metadata": {
    "slideshow": {
     "slide_type": "slide"
    }
   },
   "source": [
    "<table align=\"left\">\n",
    "  <td>\n",
    "    <a href=\"https://colab.research.google.com/github/marco-canas/taca/blob/main/prop/unidad_didac/visualizacion/2_seaborn/visualizing_categorical.ipynb\" target=\"_parent\"><img src=\"https://colab.research.google.com/assets/colab-badge.svg\" alt=\"Open In Colab\"/></a>\n",
    "  </td>\n",
    "</table>"
   ]
  },
  {
   "cell_type": "markdown",
   "id": "8b27cd6c",
   "metadata": {
    "slideshow": {
     "slide_type": "slide"
    }
   },
   "source": [
    "# Parcial 2 sobre Ecuaciones lineales y exactas de primer orden "
   ]
  },
  {
   "cell_type": "markdown",
   "id": "c167399d",
   "metadata": {
    "slideshow": {
     "slide_type": "slide"
    }
   },
   "source": [
    "**Punto 1**  \n",
    "* **(15 puntos)** **Clasifique** y **Determine** la solución general de la  ED:. \n",
    "\n",
    "$$ \\frac{dr}{d\\theta} + r\\sec \\theta = \\cos \\theta $$\n",
    "\n",
    "* **(10 puntos)** Verifique que la solución encontrada es correcta. Redacte una conclusión verbal. \n"
   ]
  },
  {
   "cell_type": "markdown",
   "id": "d3b6641e",
   "metadata": {
    "slideshow": {
     "slide_type": "slide"
    }
   },
   "source": [
    "## Punto 2"
   ]
  },
  {
   "cell_type": "markdown",
   "id": "dec0e09c",
   "metadata": {
    "slideshow": {
     "slide_type": "slide"
    }
   },
   "source": [
    "* **(15 puntos)** **Clasifique la ED** y **Resuelva** el problema con valores iniciales:\n",
    "\n",
    "$$ y' + (\\tan x)y = \\cos^{2}x, \\ \\ \\ \\ \\ \\ y(0) = -1  $$"
   ]
  },
  {
   "cell_type": "markdown",
   "id": "571addbf",
   "metadata": {
    "slideshow": {
     "slide_type": "slide"
    }
   },
   "source": [
    "* **(10 puntos)** Verifique que la función solución encontrada satisface la ED del PVI   \n",
    "  y que tal función solución también satisface la condición incial del PVI.  "
   ]
  },
  {
   "cell_type": "markdown",
   "id": "dbd4a298",
   "metadata": {
    "slideshow": {
     "slide_type": "slide"
    }
   },
   "source": [
    "**Punto 3**  \n",
    "* **(10 puntos)** Muestre que una familia de soluciones uniparamétrica de soluciones de la ecuación:\n",
    "\n",
    "\n",
    "$$ (4xy + 3x^{2})dx + (2y + 2x^{2})dy = 0 $$\n",
    "\n",
    "  es \n",
    "\n",
    "$$ x^{3} + 2x^{2}y + y^{2} = c  $$\n",
    "\n",
    "* **(10 puntos)** Muestre que las condiciones iniciales $y(0) = -2$ y $y(1) = 1$   \n",
    "  determinan la misma solución implícita.\n",
    "\n",
    "* **(5 puntos)** Encuentre las soluciones explícitas $y_{1}(x)$ y $y_{2}(x)$ de la ED  \n",
    "  del inciso anterior tal que $y_{1}(0) = -2$ y $y_{2}(1) = 1$. \n",
    "\n"
   ]
  },
  {
   "cell_type": "markdown",
   "id": "8c3b9520",
   "metadata": {
    "slideshow": {
     "slide_type": "slide"
    }
   },
   "source": [
    "**Punto 4**  $\\ \\ \\  (y^{3}+kxy^{4} - 2x)dx + (3xy^{2} + 20x^{2}y^{3})dy = 0 $"
   ]
  },
  {
   "cell_type": "markdown",
   "id": "c5fdd539",
   "metadata": {
    "slideshow": {
     "slide_type": "slide"
    }
   },
   "source": [
    "* **(10 puntos)** determine el valor de $k$ para el que la ED es exacta  \n",
    "  (Muestre el procedimiento de deducción de tal valor de $k$   \n",
    "  justificando su procedimiento utilizando el criterio adecuado)\n",
    "\n",
    "* **(10 puntos)** Solucione la ED para el valor de $k$ encontrado.\n",
    "\n",
    "* **(5 puntos)** Verifique que la solución encontrada es correcta sustituyendo   \n",
    "  en la ED dada con el valor de $k$ encontrado. \n"
   ]
  },
  {
   "cell_type": "markdown",
   "id": "a33f63a8",
   "metadata": {
    "slideshow": {
     "slide_type": "slide"
    }
   },
   "source": [
    "# Solución de este parcial"
   ]
  },
  {
   "cell_type": "markdown",
   "id": "3ef95cd4",
   "metadata": {
    "slideshow": {
     "slide_type": "slide"
    }
   },
   "source": [
    "## Punto 1"
   ]
  },
  {
   "cell_type": "markdown",
   "id": "bdd981f2",
   "metadata": {
    "slideshow": {
     "slide_type": "slide"
    }
   },
   "source": [
    "**Punto 1**  \n",
    "* **(15 puntos)** **Clasifique** y **Determine** la solución general de la  ED:. \n",
    "\n",
    "$$ \\frac{dr}{d\\theta} + r\\sec \\theta = \\cos \\theta $$\n",
    "\n",
    "* **(10 puntos)** Verifique que la solución encontrada es correcta. Redacte una conclusión verbal. \n"
   ]
  },
  {
   "cell_type": "markdown",
   "id": "b3a214df",
   "metadata": {
    "slideshow": {
     "slide_type": "slide"
    }
   },
   "source": [
    "## Solución del punto 1 "
   ]
  },
  {
   "cell_type": "markdown",
   "id": "2b74b248",
   "metadata": {
    "slideshow": {
     "slide_type": "slide"
    }
   },
   "source": [
    "* Cómo la derivada de mayor orden presente en la ED es de primer orden, entonces la ED dada es efectivemente de primer orden.  \n",
    "\n",
    "* Como la ecuación dada está en la forma estándar \n",
    "\n",
    "$$r' + p(\\theta)r = f(\\theta)$$\n",
    "\n",
    "entonces la ED dada es lineal. \n",
    "\n",
    "* La notación nos indica que la ED dada es ordinaria pues no hay derivadas parciales presentes y así la incognita es $r = r(\\theta)$. \n"
   ]
  },
  {
   "cell_type": "markdown",
   "id": "8cc37a97",
   "metadata": {
    "slideshow": {
     "slide_type": "slide"
    }
   },
   "source": [
    "Ahora, resolvamos la ED dada empezando por determinar el factor integrante $\\mu(\\theta)$.\n"
   ]
  },
  {
   "cell_type": "markdown",
   "id": "740e5a47",
   "metadata": {
    "slideshow": {
     "slide_type": "slide"
    }
   },
   "source": [
    "$$ p(\\theta) = \\sec \\theta $$"
   ]
  },
  {
   "cell_type": "markdown",
   "id": "920deefe",
   "metadata": {
    "slideshow": {
     "slide_type": "slide"
    }
   },
   "source": [
    "$$ \\mu(\\theta) = \\exp\\left( \\int \\sec \\theta d\\theta \\right) $$"
   ]
  },
  {
   "cell_type": "markdown",
   "id": "716032d2",
   "metadata": {
    "slideshow": {
     "slide_type": "slide"
    }
   },
   "source": [
    "$$ \\mu(\\theta) = \\exp \\left( \\ln |\\sec \\theta + \\tan \\theta| \\right) $$"
   ]
  },
  {
   "cell_type": "markdown",
   "id": "5ee17e1d",
   "metadata": {
    "slideshow": {
     "slide_type": "slide"
    }
   },
   "source": [
    "$$ \\mu(\\theta) = \\sec \\theta + \\tan \\theta $$"
   ]
  },
  {
   "cell_type": "markdown",
   "id": "12f97d9a",
   "metadata": {
    "slideshow": {
     "slide_type": "slide"
    }
   },
   "source": [
    "Multipliquemos toda la ED dafa por el factor integrante encontrado $\\mu$"
   ]
  },
  {
   "cell_type": "markdown",
   "id": "dea75e70",
   "metadata": {
    "slideshow": {
     "slide_type": "slide"
    }
   },
   "source": [
    "$$ \\mu \\frac{dr}{d\\theta} + \\mu r\\sec \\theta = \\mu\\cos \\theta $$"
   ]
  },
  {
   "cell_type": "markdown",
   "id": "93307867",
   "metadata": {
    "slideshow": {
     "slide_type": "slide"
    }
   },
   "source": [
    "$$ [\\mu r]' = \\mu\\cos \\theta $$"
   ]
  },
  {
   "cell_type": "markdown",
   "id": "6fe93ede",
   "metadata": {
    "slideshow": {
     "slide_type": "slide"
    }
   },
   "source": [
    "$$ \\mu r = \\int \\mu \\cos \\theta d\\theta $$"
   ]
  },
  {
   "cell_type": "markdown",
   "id": "173dcd37",
   "metadata": {
    "slideshow": {
     "slide_type": "slide"
    }
   },
   "source": [
    "$$ (\\sec \\theta + \\tan \\theta)r = \\int (\\sec \\theta + \\tan \\theta)\\cos \\theta d \\theta  $$"
   ]
  },
  {
   "cell_type": "markdown",
   "id": "bf357dd8",
   "metadata": {
    "slideshow": {
     "slide_type": "slide"
    }
   },
   "source": [
    "$$ (\\sec \\theta + \\tan \\theta)r = \\int (1 + \\sin \\theta) d \\theta  $$"
   ]
  },
  {
   "cell_type": "markdown",
   "id": "62c9c77c",
   "metadata": {
    "slideshow": {
     "slide_type": "slide"
    }
   },
   "source": [
    "$$ (\\sec \\theta + \\tan \\theta)r = \\theta - \\cos \\theta + c $$"
   ]
  },
  {
   "cell_type": "markdown",
   "id": "7e811f93",
   "metadata": {
    "slideshow": {
     "slide_type": "slide"
    }
   },
   "source": [
    "$$ r = \\frac{\\theta - \\cos \\theta + c}{\\sec \\theta + \\tan \\theta}  $$"
   ]
  },
  {
   "cell_type": "markdown",
   "id": "876d6cca",
   "metadata": {
    "slideshow": {
     "slide_type": "slide"
    }
   },
   "source": [
    "## Verificación"
   ]
  },
  {
   "cell_type": "markdown",
   "id": "d5492181",
   "metadata": {
    "slideshow": {
     "slide_type": "slide"
    }
   },
   "source": [
    "Apliquemos el procedimiento de derivación visto en Cálculo 1 para obtener de la solución general explícita a la ED dada. Pues si podemos recuperar a la ED a partir de la solución encontrada, esto evidenciará que la solución es correcta. "
   ]
  },
  {
   "cell_type": "markdown",
   "id": "ac132ecf",
   "metadata": {
    "slideshow": {
     "slide_type": "slide"
    }
   },
   "source": [
    "Apliquemos a la solución implícita el proceso de derivación implícita derivando con respecto a $\\theta$ ambos lados de la siguiente ecuación:  \n",
    "\n",
    "$$ (\\sec \\theta + \\tan \\theta)r = \\theta - \\cos \\theta + c $$"
   ]
  },
  {
   "cell_type": "markdown",
   "id": "f0f8d516",
   "metadata": {
    "slideshow": {
     "slide_type": "slide"
    }
   },
   "source": [
    "$$ (\\sec \\theta + \\tan \\theta)'r + (\\sec \\theta + \\tan \\theta)r' = 1 + \\sin \\theta + 0 $$"
   ]
  },
  {
   "cell_type": "markdown",
   "id": "3bbc1eae",
   "metadata": {
    "slideshow": {
     "slide_type": "slide"
    }
   },
   "source": [
    "$$ (\\sec \\theta\\tan \\theta + \\sec^{2} \\theta)r + (\\sec \\theta + \\tan \\theta)r' = 1 + \\sin \\theta  $$"
   ]
  },
  {
   "cell_type": "markdown",
   "id": "c905bc9d",
   "metadata": {
    "slideshow": {
     "slide_type": "slide"
    }
   },
   "source": [
    "$$ r\\sec \\theta(\\sec \\theta + \\tan \\theta) + r'(\\sec \\theta + \\tan \\theta) = 1 + \\sin \\theta $$"
   ]
  },
  {
   "cell_type": "markdown",
   "id": "923baa23",
   "metadata": {
    "slideshow": {
     "slide_type": "slide"
    }
   },
   "source": [
    "dividamos toda la ecuación por $\\sec \\theta + \\tan \\theta$:\n",
    "\n",
    "$$ r \\sec \\theta + r' = \\frac{1 + \\sin \\theta}{\\sec \\theta + \\tan \\theta} $$"
   ]
  },
  {
   "cell_type": "markdown",
   "id": "125583ea",
   "metadata": {
    "slideshow": {
     "slide_type": "slide"
    }
   },
   "source": [
    "$$ r'+ r \\sec \\theta = \\frac{\\frac{1 + \\sin \\theta}{1}}{\\frac{1}{\\cos \\theta} + \\frac{\\sin \\theta}{ \\cos \\theta}} $$"
   ]
  },
  {
   "cell_type": "markdown",
   "id": "d0fe33da",
   "metadata": {
    "slideshow": {
     "slide_type": "slide"
    }
   },
   "source": [
    "$$ r'+ r \\sec \\theta = \\frac{\\frac{1 + \\sin \\theta}{1}}{\\frac{1 + \\sin \\theta}{\\cos \\theta}} $$"
   ]
  },
  {
   "cell_type": "markdown",
   "id": "9fb8c42b",
   "metadata": {
    "slideshow": {
     "slide_type": "slide"
    }
   },
   "source": [
    "$$ r' + r\\sec \\theta = \\frac{\\cos \\theta(1 + \\sin \\theta)}{1 + \\sin \\theta} $$"
   ]
  },
  {
   "cell_type": "markdown",
   "id": "87cb731b",
   "metadata": {
    "slideshow": {
     "slide_type": "slide"
    }
   },
   "source": [
    "$$ r' + r \\sec \\theta = \\cos \\theta $$\n",
    "\n",
    "como pudimos recuperar la ED dada a partir de la solución general implícita encontrada, entonces nuestra solución encontrada es correcta.  "
   ]
  },
  {
   "cell_type": "markdown",
   "id": "c2d95a61",
   "metadata": {
    "slideshow": {
     "slide_type": "slide"
    }
   },
   "source": [
    "# Graficación de algunas soluciones de la ED del primer punto"
   ]
  },
  {
   "cell_type": "code",
   "execution_count": 2,
   "id": "40072ca8",
   "metadata": {
    "slideshow": {
     "slide_type": "slide"
    }
   },
   "outputs": [
    {
     "data": {
      "image/png": "[encoded data removed]",
      "text/plain": [
       "<Figure size 432x288 with 1 Axes>"
      ]
     },
     "metadata": {
      "needs_background": "light"
     },
     "output_type": "display_data"
    }
   ],
   "source": [
    "import numpy as np \n",
    "import matplotlib.pyplot as plt \n",
    "import pandas as pd \n",
    "\n",
    "C = [-2,-1,0,1,2]\n",
    "x = np.linspace(-3,5, 100)\n",
    "\n",
    "\n",
    "#$$ r = \\frac{\\theta - \\cos \\theta + c}{\\sec \\theta + \\tan \\theta}  $$\n",
    "\n",
    "for c in C:\n",
    "    y = (x + np.cos(x) + c)/((1/np.cos(x)) + np.tan(x))\n",
    "    plt.plot(x,y)\n",
    "\n",
    "plt.grid()\n",
    "    "
   ]
  },
  {
   "cell_type": "markdown",
   "id": "7a033a7c",
   "metadata": {
    "slideshow": {
     "slide_type": "slide"
    }
   },
   "source": [
    "## Observaciones del comportamiento de $r$ a partir de la gráfica"
   ]
  },
  {
   "cell_type": "markdown",
   "id": "8396fb6d",
   "metadata": {
    "slideshow": {
     "slide_type": "slide"
    }
   },
   "source": [
    "* Las soluciones tienen un comportamiento asintótico en $\\theta = -\\frac{\\pi}{2}$. "
   ]
  },
  {
   "cell_type": "markdown",
   "id": "32e299e7",
   "metadata": {
    "slideshow": {
     "slide_type": "slide"
    }
   },
   "source": [
    "## Punto 2"
   ]
  },
  {
   "cell_type": "markdown",
   "id": "8e7ff531",
   "metadata": {
    "slideshow": {
     "slide_type": "slide"
    }
   },
   "source": [
    "* **(15 puntos)** **Clasifique la ED** y **Resuelva** el problema con valores iniciales:\n",
    "\n",
    "$$ y' + (\\tan x)y = \\cos^{2}x, \\ \\ \\ \\ \\ \\ y(0) = -1  $$"
   ]
  },
  {
   "cell_type": "markdown",
   "id": "2e8048f1",
   "metadata": {
    "slideshow": {
     "slide_type": "slide"
    }
   },
   "source": [
    "* **(10 puntos)** Verifique que la función solución encontrada satisface la ED del PVI   \n",
    "  y que tal función solución también satisface la condición incial del PVI.  "
   ]
  },
  {
   "cell_type": "markdown",
   "id": "57fd2d97",
   "metadata": {
    "slideshow": {
     "slide_type": "slide"
    }
   },
   "source": [
    "## Solución del PVI dado"
   ]
  },
  {
   "cell_type": "markdown",
   "id": "e0099117",
   "metadata": {
    "slideshow": {
     "slide_type": "slide"
    }
   },
   "source": [
    "Empecemos hallando la solución general de la ED que hace parte del PVI"
   ]
  },
  {
   "cell_type": "markdown",
   "id": "100a4e6f",
   "metadata": {
    "slideshow": {
     "slide_type": "slide"
    }
   },
   "source": [
    "Notemos que ella es de primer orden pues la derivada de mayor orden presente en la ecuación es de orden 1 y es lineal pues tiene la forma estándar \n",
    "\n",
    "$$ y' + p(x)y = f(x) $$\n"
   ]
  },
  {
   "cell_type": "markdown",
   "id": "2e78c0a8",
   "metadata": {
    "slideshow": {
     "slide_type": "slide"
    }
   },
   "source": [
    "Con $p(x) = \\tan x$. "
   ]
  },
  {
   "cell_type": "markdown",
   "id": "09b15101",
   "metadata": {
    "slideshow": {
     "slide_type": "slide"
    }
   },
   "source": [
    "$$ \\mu(x) = e^{\\int \\tan x dx} =  $$"
   ]
  },
  {
   "cell_type": "markdown",
   "id": "bc28d5c1",
   "metadata": {
    "slideshow": {
     "slide_type": "slide"
    }
   },
   "source": [
    "$$ \\mu(x) = e^{-\\ln |\\cos x|} = e^{\\ln \\frac{1}{|\\cos x|}} = \\frac{1}{\\cos x} = \\sec x $$"
   ]
  },
  {
   "cell_type": "markdown",
   "id": "c21d61e9",
   "metadata": {
    "slideshow": {
     "slide_type": "slide"
    }
   },
   "source": [
    "Multipliquemos la ED dada por el factor integrante encontrado:\n",
    "\n",
    "$$ y'\\sec x + y \\sec x \\tan x = \\sec x \\cos^{2} x $$\n"
   ]
  },
  {
   "cell_type": "markdown",
   "id": "82f6286c",
   "metadata": {
    "slideshow": {
     "slide_type": "slide"
    }
   },
   "source": [
    "$$ [y \\sec x]' = \\cos x $$"
   ]
  },
  {
   "cell_type": "markdown",
   "id": "f73f4825",
   "metadata": {
    "slideshow": {
     "slide_type": "slide"
    }
   },
   "source": [
    "$$ \\int[y\\sec x]' = \\int \\cos x dx  $$"
   ]
  },
  {
   "cell_type": "markdown",
   "id": "dba4ca31",
   "metadata": {
    "slideshow": {
     "slide_type": "slide"
    }
   },
   "source": [
    "$$ \\frac{y}{\\cos x} = \\sin x + c $$"
   ]
  },
  {
   "cell_type": "markdown",
   "id": "6ed8c159",
   "metadata": {
    "slideshow": {
     "slide_type": "slide"
    }
   },
   "source": [
    "Por tanto, la solución general explícita de la ED del PVI dado es:  \n",
    "\n",
    "$$ y = \\sin x \\cos x + c\\cos x $$"
   ]
  },
  {
   "cell_type": "markdown",
   "id": "45701fab",
   "metadata": {
    "slideshow": {
     "slide_type": "slide"
    }
   },
   "source": [
    "Sustituyamos la condición $y(0) = -1$ para hallar $c$:  \n",
    "\n",
    "$$ -1 = \\sin(0)\\cos(0) + c\\cos(0) $$"
   ]
  },
  {
   "cell_type": "markdown",
   "id": "859c690e",
   "metadata": {
    "slideshow": {
     "slide_type": "slide"
    }
   },
   "source": [
    "$$ c = -1 $$\n",
    "\n",
    "de donde la solución del PVI es $$ y = \\sin x \\cos x - \\cos x $$"
   ]
  },
  {
   "cell_type": "markdown",
   "id": "ee775bba",
   "metadata": {
    "slideshow": {
     "slide_type": "slide"
    }
   },
   "source": [
    "## Verificación de la solución del PVI"
   ]
  },
  {
   "cell_type": "markdown",
   "id": "7728acf0",
   "metadata": {
    "slideshow": {
     "slide_type": "slide"
    }
   },
   "source": [
    "Veamos que la función encontrada satisface la ED dada y que también satisface la condición inicial entregada:"
   ]
  },
  {
   "cell_type": "markdown",
   "id": "968045f4",
   "metadata": {
    "slideshow": {
     "slide_type": "slide"
    }
   },
   "source": [
    "En efecto: \n",
    "\n",
    "Si sustituimos $$ y = \\sin x \\cos x - \\cos x $$ en la ED: \n",
    "\n",
    "$$ y' + (\\tan x)y = \\cos^{2}x,  $$\n",
    "\n",
    "obtenemos que \n",
    "\n",
    "$$ (\\sin x \\cos x - \\cos x)' + (\\tan x)(\\sin x \\cos x - \\cos x) = \\cos^{2}x $$"
   ]
  },
  {
   "cell_type": "markdown",
   "id": "96baf4ea",
   "metadata": {
    "slideshow": {
     "slide_type": "slide"
    }
   },
   "source": [
    "$$ [(\\sin x(-\\sin x) + (\\cos x)(\\cos x)) + \\sin x] + \\frac{\\sin x}{\\cos x} \\cdot (\\sin x \\cos x - \\cos x) = \\cos^{2} x $$"
   ]
  },
  {
   "cell_type": "markdown",
   "id": "1ff2ee10",
   "metadata": {
    "slideshow": {
     "slide_type": "slide"
    }
   },
   "source": [
    "$$ [-\\sin^{2} x + \\cos^{2}x + \\sin x] + (\\sin^{2} x - \\sin x) = \\cos^{2} x $$"
   ]
  },
  {
   "cell_type": "markdown",
   "id": "39beec9f",
   "metadata": {
    "slideshow": {
     "slide_type": "slide"
    }
   },
   "source": [
    "$$ \\cos^{2} x = \\cos^{2} x $$\n",
    "\n",
    "como obtuvimos una identidad, entonces la función encontrada satisface efectivamente a la ED del PVI. Falta mostrar que esta función satisface la condición inicial del PVI:"
   ]
  },
  {
   "cell_type": "markdown",
   "id": "ae8cf5fb",
   "metadata": {
    "slideshow": {
     "slide_type": "slide"
    }
   },
   "source": [
    "Hagamos $x = 0$ y $y = -1$ en la función solución encontrada:\n",
    "\n",
    "$$ y = \\sin x \\cos x - \\cos x $$"
   ]
  },
  {
   "cell_type": "markdown",
   "id": "c2602fd7",
   "metadata": {
    "slideshow": {
     "slide_type": "slide"
    }
   },
   "source": [
    "$$ -1 = \\sin(0)\\cos(0) - \\cos(0) $$"
   ]
  },
  {
   "cell_type": "markdown",
   "id": "b8b71bc3",
   "metadata": {
    "slideshow": {
     "slide_type": "slide"
    }
   },
   "source": [
    "$$ -1 = 0 -1 $$\n",
    "\n",
    "Como obtuvimos una identidad, entonces podemos decir que la función encontrada también satisface la condición inicial del PVI y por lo tanto, efectivamente esta es la única función solución del PVI dato"
   ]
  },
  {
   "cell_type": "markdown",
   "id": "5a0f801d",
   "metadata": {
    "slideshow": {
     "slide_type": "slide"
    }
   },
   "source": [
    "# Graficación de la solución del PVI"
   ]
  },
  {
   "cell_type": "code",
   "execution_count": 1,
   "id": "ce6a33a8",
   "metadata": {
    "slideshow": {
     "slide_type": "slide"
    }
   },
   "outputs": [],
   "source": [
    "import numpy as np \n",
    "import matplotlib.pyplot as plt \n",
    "\n"
   ]
  },
  {
   "cell_type": "code",
   "execution_count": null,
   "id": "7833fb9c",
   "metadata": {},
   "outputs": [],
   "source": []
  },
  {
   "cell_type": "markdown",
   "id": "21999349",
   "metadata": {
    "slideshow": {
     "slide_type": "slide"
    }
   },
   "source": [
    "## Punto 3"
   ]
  },
  {
   "cell_type": "markdown",
   "id": "a246b3e9",
   "metadata": {
    "slideshow": {
     "slide_type": "slide"
    }
   },
   "source": [
    "\n",
    "* **(10 puntos)** Clasifique y muestre que una familia de soluciones uniparamétrica de soluciones de la ecuación:\n",
    "\n",
    "\n",
    "$$ (4xy + 3x^{2})dx + (2y + 2x^{2})dy = 0 $$\n",
    "\n",
    "  es \n",
    "\n",
    "$$ x^{3} + 2x^{2}y + y^{2} = c  $$\n",
    "\n",
    "* **(10 puntos)** Muestre que las condiciones iniciales $y(0) = -2$ y $y(1) = 1$   \n",
    "  determinan la misma solución implícita.\n",
    "\n",
    "* **(5 puntos)** Encuentre las soluciones explícitas $y_{1}(x)$ y $y_{2}(x)$ de la ED  \n",
    "  del inciso anterior tal que $y_{1}(0) = -2$ y $y_{2}(1) = 1$. \n"
   ]
  },
  {
   "cell_type": "markdown",
   "id": "1da9d305",
   "metadata": {
    "slideshow": {
     "slide_type": "slide"
    }
   },
   "source": [
    "Empecemos por clasificar esta ecuación, lo que nos permitirá determinar qué método es aplicable para su solución:"
   ]
  },
  {
   "cell_type": "markdown",
   "id": "da45c6be",
   "metadata": {
    "slideshow": {
     "slide_type": "slide"
    }
   },
   "source": [
    "Como la ecuación diferencial dada está en la forma diferencial:\n",
    "$$Mdx + Ndy = 0$$\n",
    "sospechamos que es exacta. Así que identificaremos a $M$ y $N$ y aplicaremos el criterio para las ED exactas:"
   ]
  },
  {
   "cell_type": "markdown",
   "id": "9c742add",
   "metadata": {
    "slideshow": {
     "slide_type": "slide"
    }
   },
   "source": [
    "$$ M(x,y) = 4xy + 3x^{2} \\ \\ \\ \\ \\ N(x,y) = 2y + 2x^{2} $$"
   ]
  },
  {
   "cell_type": "markdown",
   "id": "3456cd60",
   "metadata": {
    "slideshow": {
     "slide_type": "slide"
    }
   },
   "source": [
    "$$ M_{y} = 4x = N_{x} $$"
   ]
  },
  {
   "cell_type": "markdown",
   "id": "91492a15",
   "metadata": {
    "slideshow": {
     "slide_type": "slide"
    }
   },
   "source": [
    "Entonces, la ED dada es exacta de primer orden y por tanto, es aplicable en método de solución de exacta que consiste en la búsqueda de una ecuación de la forma $f = c$."
   ]
  },
  {
   "cell_type": "markdown",
   "id": "0827f959",
   "metadata": {
    "slideshow": {
     "slide_type": "slide"
    }
   },
   "source": [
    "$$ f = \\int M dx $$"
   ]
  },
  {
   "cell_type": "markdown",
   "id": "3432dae1",
   "metadata": {
    "slideshow": {
     "slide_type": "slide"
    }
   },
   "source": [
    "$$ f(x,y) = \\int (4xy + 3x^{2}) dx $$"
   ]
  },
  {
   "cell_type": "markdown",
   "id": "266c7651",
   "metadata": {
    "slideshow": {
     "slide_type": "slide"
    }
   },
   "source": [
    "$$ f(x,y) = 4y\\cdot \\frac{x^{2}}{2} + 3\\cdot \\frac{x^{3}}{3} + g(y) $$"
   ]
  },
  {
   "cell_type": "markdown",
   "id": "d16ba7e9",
   "metadata": {
    "slideshow": {
     "slide_type": "slide"
    }
   },
   "source": [
    "$$ f(x,y) = 2x^{2}y + x^{3} + g(y) $$"
   ]
  },
  {
   "cell_type": "markdown",
   "id": "a1cc528a",
   "metadata": {
    "slideshow": {
     "slide_type": "slide"
    }
   },
   "source": [
    "Ahora, derivemos parcialmente a $f$ con respecto a $y$ e igualemos con $N$:\n",
    "\n",
    "$$ f_{y}(x,y) = 2x^{2} + g'(y) = N = 2y + 2x^{2} $$\n"
   ]
  },
  {
   "cell_type": "markdown",
   "id": "4d989067",
   "metadata": {
    "slideshow": {
     "slide_type": "slide"
    }
   },
   "source": [
    "de donde $g'(y) = 2y$. Por tanto, \n",
    "\n",
    "$$g(y) = y^{2}$$\n"
   ]
  },
  {
   "cell_type": "markdown",
   "id": "91d2120a",
   "metadata": {
    "slideshow": {
     "slide_type": "slide"
    }
   },
   "source": [
    "y así\n",
    "\n",
    "$$f(x,y) = 2x^{2}y + x^{3} + y^{2} $$"
   ]
  },
  {
   "cell_type": "markdown",
   "id": "d6920936",
   "metadata": {
    "slideshow": {
     "slide_type": "slide"
    }
   },
   "source": [
    "Por lo tanto, la solución general implícita de la ED dada es:\n",
    "\n",
    "$$ 2x^{2}y + x^{3} + y^{2} = c $$\n"
   ]
  },
  {
   "cell_type": "markdown",
   "id": "64dfc569",
   "metadata": {
    "slideshow": {
     "slide_type": "slide"
    }
   },
   "source": [
    "\n",
    "# Mostremos ahora que las condiciones iniciales $y(0) = -2$ y $y(1) = 1$  determinan la misma solución implícita.\n"
   ]
  },
  {
   "cell_type": "markdown",
   "id": "5c2ec423",
   "metadata": {
    "slideshow": {
     "slide_type": "slide"
    }
   },
   "source": [
    "En efecto, si sustituimos la primera condición inicial en nuestra solución general, el valor de $c$ que obtenemos es:\n",
    "\n",
    "$$ 2x^{2}y + x^{3} + y^{2} = c $$\n",
    "\n",
    "$$ 2(0)^{2}(-2) + (0)^{3} + (-2)^{2} = c $$\n",
    "\n",
    "$$ c = 4 $$"
   ]
  },
  {
   "cell_type": "markdown",
   "id": "233254cb",
   "metadata": {
    "slideshow": {
     "slide_type": "slide"
    }
   },
   "source": [
    "Entonces, la condición $y(0) = -2$ me llevó a la solución $$ 2x^{2}y + x^{3} + y^{2} = 4 $$\n"
   ]
  },
  {
   "cell_type": "markdown",
   "id": "c094fd34",
   "metadata": {
    "slideshow": {
     "slide_type": "slide"
    }
   },
   "source": [
    "Y si reemplazamos la segunda condición en esta ecuación obtenemos"
   ]
  },
  {
   "cell_type": "markdown",
   "id": "9aca6aa3",
   "metadata": {
    "slideshow": {
     "slide_type": "slide"
    }
   },
   "source": [
    "$$ 2x^{2}y + x^{3} + y^{2} = c $$"
   ]
  },
  {
   "cell_type": "markdown",
   "id": "8d6b7e4f",
   "metadata": {
    "slideshow": {
     "slide_type": "slide"
    }
   },
   "source": [
    "$$ 2(1)^{2}(1) + (1)^{3} + (1)^{2} = c $$\n",
    "\n",
    "$$ c = 4 $$"
   ]
  },
  {
   "cell_type": "markdown",
   "id": "5c0f9059",
   "metadata": {
    "slideshow": {
     "slide_type": "slide"
    }
   },
   "source": [
    "Por lo tanto, las condiciones $y(0) = -2$ y $y(1) = 1$ llevan a la misma solución: \n",
    "$$ 2x^{2}y + x^{3} + y^{2} = 4 $$"
   ]
  },
  {
   "cell_type": "markdown",
   "id": "f82aa3ca",
   "metadata": {
    "slideshow": {
     "slide_type": "slide"
    }
   },
   "source": [
    "# Graficación de la solución general"
   ]
  },
  {
   "cell_type": "code",
   "execution_count": 5,
   "id": "2654370e",
   "metadata": {
    "scrolled": false,
    "slideshow": {
     "slide_type": "slide"
    }
   },
   "outputs": [
    {
     "data": {
      "image/png": "[encoded data removed]",
      "text/plain": [
       "<Figure size 432x288 with 1 Axes>"
      ]
     },
     "metadata": {
      "needs_background": "light"
     },
     "output_type": "display_data"
    },
    {
     "data": {
      "image/png": "[encoded data removed]",
      "text/plain": [
       "<Figure size 432x288 with 1 Axes>"
      ]
     },
     "metadata": {
      "needs_background": "light"
     },
     "output_type": "display_data"
    },
    {
     "data": {
      "image/png": "[encoded data removed]",
      "text/plain": [
       "<Figure size 432x288 with 1 Axes>"
      ]
     },
     "metadata": {
      "needs_background": "light"
     },
     "output_type": "display_data"
    },
    {
     "data": {
      "image/png": "[encoded data removed]",
      "text/plain": [
       "<Figure size 432x288 with 1 Axes>"
      ]
     },
     "metadata": {
      "needs_background": "light"
     },
     "output_type": "display_data"
    },
    {
     "data": {
      "image/png": "[encoded data removed]",
      "text/plain": [
       "<Figure size 432x288 with 1 Axes>"
      ]
     },
     "metadata": {
      "needs_background": "light"
     },
     "output_type": "display_data"
    },
    {
     "data": {
      "image/png": "[encoded data removed]",
      "text/plain": [
       "<Figure size 432x288 with 1 Axes>"
      ]
     },
     "metadata": {
      "needs_background": "light"
     },
     "output_type": "display_data"
    },
    {
     "data": {
      "image/png": "[encoded data removed]",
      "text/plain": [
       "<Figure size 432x288 with 1 Axes>"
      ]
     },
     "metadata": {
      "needs_background": "light"
     },
     "output_type": "display_data"
    }
   ],
   "source": [
    "from sympy import var, plot_implicit\n",
    "var('x y')\n",
    "C = [-2,-1,0,1,2, 3, 4]\n",
    "for c in C:\n",
    "    plot_implicit(2*x**2*y + x**3 + y**2 - c)"
   ]
  },
  {
   "cell_type": "markdown",
   "id": "d8cd3117",
   "metadata": {
    "slideshow": {
     "slide_type": "slide"
    }
   },
   "source": [
    "## Observaciones e inferencias de los gráficos de algunas soluciones de la ED: $$ (4xy + 3x^{2})dx + (2y + 2x^{2})dy = 0 $$ cuya solución general implícita es: \n",
    "\n",
    "$$ 2x^{2}y + x^{3} + y^{2} = c $$\n"
   ]
  },
  {
   "cell_type": "markdown",
   "id": "a857b305",
   "metadata": {
    "slideshow": {
     "slide_type": "slide"
    }
   },
   "source": [
    "1. Cuando la solución de la ED esta en forma implícita, la tarea de graficación es más difícil y requerió de la función plot_implicit de sympy. \n",
    "2. Cuando la solución de la ED está en la forma implícita lo que obtenemos al graficar, en general no son funciones pero porciones de dichos gráficos si son funciones de x  \n",
    "3. Las cinco soluciones que graficamos dejan ver un comportamiento general de las soluciones de decrecimiento a menos infinito, es decir, un decrecimiento no acotado de las soluciones.\n",
    "4. Para valores de $c$ negativos, el gráfico de la solución es parecido al de una hipérbola al estar compuesto por dos hojas. \n"
   ]
  },
  {
   "cell_type": "markdown",
   "id": "ad6781bc",
   "metadata": {
    "slideshow": {
     "slide_type": "slide"
    }
   },
   "source": [
    "# Graficación de la solución implícita incluyendo deslizadores "
   ]
  },
  {
   "cell_type": "markdown",
   "id": "980584ed",
   "metadata": {
    "slideshow": {
     "slide_type": "slide"
    }
   },
   "source": [
    "$$ 2x^{2}y + x^{3} + y^{2} = c $$"
   ]
  },
  {
   "cell_type": "markdown",
   "id": "c492f200",
   "metadata": {
    "slideshow": {
     "slide_type": "slide"
    }
   },
   "source": [
    "$$ y^{2} + (2x^{2})y + (x^{3} - c)  = 0 $$"
   ]
  },
  {
   "cell_type": "markdown",
   "id": "51b28dc5",
   "metadata": {
    "slideshow": {
     "slide_type": "slide"
    }
   },
   "source": [
    "$$ y = \\frac{-2x^{2} \\pm \\sqrt{4x^{4} - 4(x^{3} - c)}}{2} $$"
   ]
  },
  {
   "cell_type": "code",
   "execution_count": 15,
   "id": "eaff6075",
   "metadata": {
    "scrolled": true,
    "slideshow": {
     "slide_type": "slide"
    }
   },
   "outputs": [
    {
     "data": {
      "application/vnd.jupyter.widget-view+json": {
       "model_id": "cc4a19dd4a6343d89dcf1ca602e23735",
       "version_major": 2,
       "version_minor": 0
      },
      "text/plain": [
       "interactive(children=(IntSlider(value=1, description='c', max=5, min=-3), Output()), _dom_classes=('widget-int…"
      ]
     },
     "metadata": {},
     "output_type": "display_data"
    },
    {
     "data": {
      "text/plain": [
       "<function __main__.graficar(c=1)>"
      ]
     },
     "execution_count": 15,
     "metadata": {},
     "output_type": "execute_result"
    }
   ],
   "source": [
    "import numpy as np \n",
    "import matplotlib.pyplot as plt \n",
    "\n",
    "from ipywidgets import interact\n",
    "x = np.linspace(-4,4)\n",
    "\n",
    "def graficar(c = 1):\n",
    "    y1 = (-2*x**2+np.sqrt(4*x**4 - 4*(x**3 - c)))/2\n",
    "    plt.plot(x,y1)\n",
    "    y2 = (-2*x**2-np.sqrt(4*x**4 - 4*(x**3 - c)))/2\n",
    "    plt.plot(x,y2)\n",
    "    plt.axis([-20,20, -30,30])\n",
    "    \n",
    "interact(graficar, c = (-3,5))    "
   ]
  },
  {
   "cell_type": "markdown",
   "id": "e01353fe",
   "metadata": {
    "slideshow": {
     "slide_type": "slide"
    }
   },
   "source": [
    "# Gráfica de solo dos de las soluciones de la ED"
   ]
  },
  {
   "cell_type": "code",
   "execution_count": 18,
   "id": "8d342287",
   "metadata": {
    "slideshow": {
     "slide_type": "slide"
    }
   },
   "outputs": [
    {
     "data": {
      "image/png": "[encoded data removed]",
      "text/plain": [
       "<Figure size 432x288 with 1 Axes>"
      ]
     },
     "metadata": {
      "needs_background": "light"
     },
     "output_type": "display_data"
    }
   ],
   "source": [
    "import numpy as np \n",
    "import matplotlib.pyplot as plt \n",
    "\n",
    "c = 1\n",
    "x = np.linspace(-5,5)\n",
    "\n",
    "y1 = (-2*x**2+np.sqrt(4*x**4 - 4*(x**3 - c)))/2\n",
    "plt.plot(x,y1)\n",
    "y2 = (-2*x**2-np.sqrt(4*x**4 - 4*(x**3 - c)))/2\n",
    "plt.plot(x,y2)\n",
    "plt.axis([-5,5, -30,30])\n",
    "    \n",
    "plt.savefig('dos_solu_ed.jpg')\n",
    "plt.show()\n"
   ]
  },
  {
   "cell_type": "markdown",
   "id": "9bb08bb5",
   "metadata": {
    "slideshow": {
     "slide_type": "slide"
    }
   },
   "source": [
    "## Punto 4"
   ]
  },
  {
   "cell_type": "markdown",
   "id": "95589c98",
   "metadata": {
    "slideshow": {
     "slide_type": "slide"
    }
   },
   "source": [
    "\n",
    "$$ (y^{3}+kxy^{4} - 2x)dx + (3xy^{2} + 20x^{2}y^{3})dy = 0 $$\n",
    "\n",
    "* **(10 puntos)** determine el valor de $k$ para el que la ED es exacta  \n",
    "  (Muestre el procedimiento de deducción de tal valor de $k$   \n",
    "  justificando su procedimiento utilizando el criterio adecuado)\n",
    "\n",
    "* **(10 puntos)** Solucione la ED para el valor de $k$ encontrado.\n",
    "\n",
    "* **(5 puntos)** Verifique que la solución encontrada es correcta sustituyendo   \n",
    "  en la ED dada con el valor de $k$ encontrado. \n"
   ]
  },
  {
   "cell_type": "markdown",
   "id": "4cbcbd26",
   "metadata": {
    "slideshow": {
     "slide_type": "slide"
    }
   },
   "source": [
    "## Solución punto 4"
   ]
  },
  {
   "cell_type": "markdown",
   "id": "c75d86be",
   "metadata": {
    "slideshow": {
     "slide_type": "slide"
    }
   },
   "source": [
    "Empecemos determinando el valor de $k$ para el que la ED es exacta  (Muestre el procedimiento de deducción de tal valor de $k$ justificando su procedimiento utilizando el criterio adecuado)"
   ]
  },
  {
   "cell_type": "markdown",
   "id": "a4c21c72",
   "metadata": {
    "slideshow": {
     "slide_type": "slide"
    }
   },
   "source": [
    "$$ (y^{3}+kxy^{4} - 2x)dx + (3xy^{2} + 20x^{2}y^{3})dy = 0 $$"
   ]
  },
  {
   "cell_type": "markdown",
   "id": "66df422a",
   "metadata": {
    "slideshow": {
     "slide_type": "slide"
    }
   },
   "source": [
    "Entonces \n",
    "\n",
    "$$ M = y^{3}+kxy^{4} - 2x \\ \\ \\ \\ \\ \\ \\ \\ \\ N = 3xy^{2} + 20x^{2}y^{3} $$\n"
   ]
  },
  {
   "cell_type": "markdown",
   "id": "20854645",
   "metadata": {
    "slideshow": {
     "slide_type": "slide"
    }
   },
   "source": [
    "Para que la ED dada sea exacta debe pasar que $M_{y} = N_{x}$, es decir\n",
    "\n",
    "$$ 3y^{2} + 4kxy^{3} = 3y^{2} + 40xy^{3} $$\n"
   ]
  },
  {
   "cell_type": "markdown",
   "id": "3fdb7d63",
   "metadata": {
    "slideshow": {
     "slide_type": "slide"
    }
   },
   "source": [
    "$$ 4kxy^{3} = 40xy^{3} $$"
   ]
  },
  {
   "cell_type": "markdown",
   "id": "74c8a64b",
   "metadata": {
    "slideshow": {
     "slide_type": "slide"
    }
   },
   "source": [
    "de donde $k$ debe ser igual a $10$ para que la ED dada sea exacta. "
   ]
  },
  {
   "cell_type": "markdown",
   "id": "75d9d234",
   "metadata": {
    "slideshow": {
     "slide_type": "slide"
    }
   },
   "source": [
    "Por tanto \n",
    "\n",
    "$$ (y^{3}+10xy^{4} - 2x)dx + (3xy^{2} + 20x^{2}y^{3})dy = 0 $$ es efectivamente una ED exacta. "
   ]
  },
  {
   "cell_type": "markdown",
   "id": "9ac1d358",
   "metadata": {
    "slideshow": {
     "slide_type": "slide"
    }
   },
   "source": [
    "Entonces \n",
    "\n",
    "$$ f = \\int (y^{3} + 10xy^{4} - 2x)dx $$\n"
   ]
  },
  {
   "cell_type": "markdown",
   "id": "d749c4ce",
   "metadata": {
    "slideshow": {
     "slide_type": "slide"
    }
   },
   "source": [
    "$$ f = xy^{3} + 5x^{2}y^{4} - x^{2} + g(y) $$"
   ]
  },
  {
   "cell_type": "markdown",
   "id": "44233d36",
   "metadata": {
    "slideshow": {
     "slide_type": "slide"
    }
   },
   "source": [
    "$$ f_{y} = 3xy^{2} + 20x^{2}y^{3} + g'(y) = N = 3xy^{2} + 20x^{2}y^{3} $$"
   ]
  },
  {
   "cell_type": "markdown",
   "id": "e6a27f88",
   "metadata": {
    "slideshow": {
     "slide_type": "slide"
    }
   },
   "source": [
    "$$ g'(y) = 0 $$"
   ]
  },
  {
   "cell_type": "markdown",
   "id": "cb40615f",
   "metadata": {
    "slideshow": {
     "slide_type": "slide"
    }
   },
   "source": [
    "Entonces $g(y) = c_{1}$. "
   ]
  },
  {
   "cell_type": "markdown",
   "id": "d09d546a",
   "metadata": {
    "slideshow": {
     "slide_type": "slide"
    }
   },
   "source": [
    "$$ f = xy^{3} + 5x^{2}y^{4} - x^{2} + c_{1}  $$"
   ]
  },
  {
   "cell_type": "markdown",
   "id": "ff207881",
   "metadata": {
    "slideshow": {
     "slide_type": "slide"
    }
   },
   "source": [
    "$$ xy^{3} + 5x^{2}y^{4} - x^{2} + c_{1} = c_{2} $$"
   ]
  },
  {
   "cell_type": "markdown",
   "id": "b9c8dd96",
   "metadata": {
    "slideshow": {
     "slide_type": "slide"
    }
   },
   "source": [
    "$$ xy^{3} + 5x^{2}y^{4} - x^{2} = c_{2} - c_{1} = c $$ es la solución general implícita de la ED dada. "
   ]
  },
  {
   "cell_type": "markdown",
   "id": "e4e2d5e8",
   "metadata": {
    "slideshow": {
     "slide_type": "slide"
    }
   },
   "source": [
    "## Verificación utilizando diferenciación implícita para obtener a la ED dada"
   ]
  },
  {
   "cell_type": "markdown",
   "id": "2f148461",
   "metadata": {
    "slideshow": {
     "slide_type": "slide"
    }
   },
   "source": [
    "$$ xy^{3} + 5x^{2}y^{4} - x^{2} = c $$"
   ]
  },
  {
   "cell_type": "markdown",
   "id": "565bff0d",
   "metadata": {
    "slideshow": {
     "slide_type": "slide"
    }
   },
   "source": [
    "Derivemos con respecto a $x$ recordando que $y = y(x)$. "
   ]
  },
  {
   "cell_type": "markdown",
   "id": "e20828ec",
   "metadata": {
    "slideshow": {
     "slide_type": "slide"
    }
   },
   "source": [
    "$$ (x(3y^{2})y' + y^{3}) + 5(x^{2}(4y^{3}y') + 2xy^{4}) - 2x = 0 $$"
   ]
  },
  {
   "cell_type": "code",
   "execution_count": null,
   "id": "2e62f2e9",
   "metadata": {
    "slideshow": {
     "slide_type": "slide"
    }
   },
   "outputs": [],
   "source": []
  },
  {
   "cell_type": "code",
   "execution_count": null,
   "id": "e0850902",
   "metadata": {
    "slideshow": {
     "slide_type": "slide"
    }
   },
   "outputs": [],
   "source": []
  },
  {
   "cell_type": "markdown",
   "id": "784429a0",
   "metadata": {
    "slideshow": {
     "slide_type": "slide"
    }
   },
   "source": [
    "## Referencias\n",
    "\n",
    "* La función `plot_implicit` de sympy: https://docs.sympy.org/latest/modules/plotting.html"
   ]
  }
 ],
 "metadata": {
  "celltoolbar": "Slideshow",
  "kernelspec": {
   "display_name": "Python 3 (ipykernel)",
   "language": "python",
   "name": "python3"
  },
  "language_info": {
   "codemirror_mode": {
    "name": "ipython",
    "version": 3
   },
   "file_extension": ".py",
   "mimetype": "text/x-python",
   "name": "python",
   "nbconvert_exporter": "python",
   "pygments_lexer": "ipython3",
   "version": "3.9.7"
  },
  "rise": {
   "theme": "sky"
  }
 },
 "nbformat": 4,
 "nbformat_minor": 5
}
