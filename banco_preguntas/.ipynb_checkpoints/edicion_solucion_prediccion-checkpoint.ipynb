{
 "cells": [
  {
   "cell_type": "markdown",
   "id": "8ffb063f",
   "metadata": {
    "slideshow": {
     "slide_type": "slide"
    }
   },
   "source": [
    "<table align=\"left\">\n",
    "  <td>\n",
    "    <a href=\"https://colab.research.google.com/github/marco-canas/innovaciones/blob/main/ref/geron/math_linear_algebra/linear_algebra.ipynb\" target=\"_parent\"><img src=\"https://colab.research.google.com/assets/colab-badge.svg\" alt=\"Open In Colab\"/></a>\n",
    "  </td>\n",
    "</table>"
   ]
  },
  {
   "cell_type": "markdown",
   "id": "bdc36856",
   "metadata": {
    "slideshow": {
     "slide_type": "slide"
    }
   },
   "source": [
    "* Clasifique la ED del PVI siguiente y justifique su proceso de clasificación. \n",
    "\n",
    "Resuelva el problema con valores iniciales:\n",
    "\n",
    "$$  4y''- 4y' - 3y = 0,\\ \\ \\ \\ \\  y(0) = 1, \\ \\ \\ \\ y'(0) = 5 $$"
   ]
  },
  {
   "cell_type": "markdown",
   "id": "0805823d",
   "metadata": {
    "slideshow": {
     "slide_type": "slide"
    }
   },
   "source": [
    "Grafique la solución usando Matplotlib"
   ]
  },
  {
   "cell_type": "markdown",
   "id": "fc1f5dcf",
   "metadata": {
    "slideshow": {
     "slide_type": "slide"
    }
   },
   "source": [
    "Describa el comportamiento de la solución cuando $x \\to \\infty$. "
   ]
  },
  {
   "cell_type": "code",
   "execution_count": 1,
   "id": "9a8f4d5b",
   "metadata": {
    "slideshow": {
     "slide_type": "slide"
    }
   },
   "outputs": [
    {
     "data": {
      "text/plain": [
       "1.75"
      ]
     },
     "execution_count": 1,
     "metadata": {},
     "output_type": "execute_result"
    }
   ],
   "source": [
    "35/100*5"
   ]
  },
  {
   "cell_type": "code",
   "execution_count": null,
   "id": "b7f56a6e",
   "metadata": {},
   "outputs": [],
   "source": []
  }
 ],
 "metadata": {
  "celltoolbar": "Slideshow",
  "kernelspec": {
   "display_name": "Python 3 (ipykernel)",
   "language": "python",
   "name": "python3"
  },
  "language_info": {
   "codemirror_mode": {
    "name": "ipython",
    "version": 3
   },
   "file_extension": ".py",
   "mimetype": "text/x-python",
   "name": "python",
   "nbconvert_exporter": "python",
   "pygments_lexer": "ipython3",
   "version": "3.9.7"
  }
 },
 "nbformat": 4,
 "nbformat_minor": 5
}
