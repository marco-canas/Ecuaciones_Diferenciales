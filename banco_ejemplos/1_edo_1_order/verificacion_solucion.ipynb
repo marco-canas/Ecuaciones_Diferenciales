{
 "cells": [
  {
   "cell_type": "markdown",
   "id": "b779a999",
   "metadata": {
    "slideshow": {
     "slide_type": "slide"
    }
   },
   "source": []
  },
  {
   "cell_type": "markdown",
   "id": "10ba01a9",
   "metadata": {
    "slideshow": {
     "slide_type": "slide"
    }
   },
   "source": [
    "# Ejemplo de verificación de soluciones "
   ]
  },
  {
   "cell_type": "markdown",
   "id": "6be8039c",
   "metadata": {
    "slideshow": {
     "slide_type": "slide"
    }
   },
   "source": [
    "Compruebe que la expresión es una solución implícita de la ecuación diferencial. "
   ]
  },
  {
   "cell_type": "markdown",
   "id": "8259d792",
   "metadata": {
    "slideshow": {
     "slide_type": "slide"
    }
   },
   "source": [
    "Encuentre al menos una solución explícita $y = \\phi(x)$. "
   ]
  },
  {
   "cell_type": "markdown",
   "id": "cba6f85d",
   "metadata": {
    "slideshow": {
     "slide_type": "slide"
    }
   },
   "source": [
    "De un intervalo $I$ de definición de cada solución $\\phi$. "
   ]
  },
  {
   "cell_type": "markdown",
   "id": "8820d649",
   "metadata": {
    "slideshow": {
     "slide_type": "slide"
    }
   },
   "source": [
    "$$ \\frac{dX}{dt} = (X-1)(1-2X); \\ \\ \\ \\ \\ln\\left( \\frac{2X - 1}{X-1} \\right) = t $$"
   ]
  },
  {
   "cell_type": "markdown",
   "id": "e9527d3b",
   "metadata": {
    "slideshow": {
     "slide_type": "slide"
    }
   },
   "source": [
    "## Solución: "
   ]
  },
  {
   "cell_type": "code",
   "execution_count": null,
   "id": "9cda2329",
   "metadata": {
    "slideshow": {
     "slide_type": "slide"
    }
   },
   "outputs": [],
   "source": []
  },
  {
   "cell_type": "markdown",
   "id": "f238b306",
   "metadata": {
    "slideshow": {
     "slide_type": "slide"
    }
   },
   "source": [
    "Partimos de la solución implícita y derivamos derivamos implícitamente con respecto a $t$:\n",
    "\n",
    "$$ \\frac{X-1}{2X-1} \\cdot \\frac{2(X-1) - (2X-1)}{(X-1)^{2}} \\cdot X' = 1  $$"
   ]
  },
  {
   "cell_type": "markdown",
   "id": "de19ae48",
   "metadata": {
    "slideshow": {
     "slide_type": "slide"
    }
   },
   "source": [
    "$$ \\frac{dX}{dt} = \\frac{(2X - 1)(X-1)}{-1} $$"
   ]
  },
  {
   "cell_type": "markdown",
   "id": "b8bbef9d",
   "metadata": {
    "slideshow": {
     "slide_type": "slide"
    }
   },
   "source": [
    "$$ \\frac{dX}{dt} = (1 - 2X)(X-1) $$"
   ]
  },
  {
   "cell_type": "markdown",
   "id": "bb9d93fb",
   "metadata": {
    "slideshow": {
     "slide_type": "slide"
    }
   },
   "source": [
    "**Conclusión:** La ecuación dada si define implícitamente a algunas de las soluciones de la ED. "
   ]
  },
  {
   "cell_type": "markdown",
   "id": "018157b2",
   "metadata": {},
   "source": [
    "Y ahora, tretemos de despejar $X$ de la ecuación de la solución implícita: "
   ]
  },
  {
   "cell_type": "markdown",
   "id": "b8e9737b",
   "metadata": {},
   "source": [
    "$$ e^{\\ln\\left( \\frac{}{} \\right)} = e^{t} $$"
   ]
  },
  {
   "cell_type": "markdown",
   "id": "bafbfbab",
   "metadata": {
    "slideshow": {
     "slide_type": "slide"
    }
   },
   "source": [
    "$$ \\frac{2X - 1}{X-1} = e^{t} $$"
   ]
  },
  {
   "cell_type": "markdown",
   "id": "00f51af0",
   "metadata": {
    "slideshow": {
     "slide_type": "slide"
    }
   },
   "source": [
    "$$ 2X - 1 = (X-1)e^{t} $$"
   ]
  },
  {
   "cell_type": "code",
   "execution_count": null,
   "id": "937d610c",
   "metadata": {},
   "outputs": [],
   "source": []
  }
 ],
 "metadata": {
  "celltoolbar": "Slideshow",
  "kernelspec": {
   "display_name": "Python 3 (ipykernel)",
   "language": "python",
   "name": "python3"
  },
  "language_info": {
   "codemirror_mode": {
    "name": "ipython",
    "version": 3
   },
   "file_extension": ".py",
   "mimetype": "text/x-python",
   "name": "python",
   "nbconvert_exporter": "python",
   "pygments_lexer": "ipython3",
   "version": "3.9.7"
  }
 },
 "nbformat": 4,
 "nbformat_minor": 5
}
