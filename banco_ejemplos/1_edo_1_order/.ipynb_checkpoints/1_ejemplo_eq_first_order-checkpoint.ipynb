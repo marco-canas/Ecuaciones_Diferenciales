{
 "cells": [
  {
   "cell_type": "markdown",
   "id": "ce5b28e8",
   "metadata": {
    "slideshow": {
     "slide_type": "slide"
    }
   },
   "source": [
    "<table align=\"left\">\n",
    "  <td>\n",
    "    <a href=\"https://colab.research.google.com/github/marco-canas/edo/blob/main/banco_ejemplos/1_edo_order_first/1_ejemplo_eq_first_order.ipynb\" target=\"_parent\"><img src=\"https://colab.research.google.com/assets/colab-badge.svg\" alt=\"Open In Colab\"/></a>\n",
    "  </td>\n",
    "  <td>\n",
    "    <a target=\"_blank\" href=\"https://kaggle.com/kernels/welcome?src=https://github.com/marco-canas/edo/blob/main/banco_ejemplos/1_edo_order_first/1_ejemplo_eq_first_order.ipynb\"><img src=\"https://kaggle.com/static/images/open-in-kaggle.svg\" /></a>\n",
    "  </td>\n",
    "</table>"
   ]
  },
  {
   "cell_type": "markdown",
   "id": "16a54832",
   "metadata": {
    "slideshow": {
     "slide_type": "slide"
    }
   },
   "source": [
    "## 1_Ejemplo sobre ecuaciones diferenciales de primer orden"
   ]
  },
  {
   "cell_type": "markdown",
   "id": "f3e41960",
   "metadata": {
    "slideshow": {
     "slide_type": "slide"
    }
   },
   "source": [
    "## Una ecuación diferencial que se puede resolver como ecuación de Bernoulli o interpretándola como ecuación diferencial separable"
   ]
  },
  {
   "cell_type": "markdown",
   "id": "3d262045",
   "metadata": {
    "slideshow": {
     "slide_type": "slide"
    }
   },
   "source": [
    "\n",
    "\n",
    "$$ \\frac{dN}{dt} = \\frac{1}{100}N^{2}, \\ \\ \\ \\ N(0) = 10  $$"
   ]
  },
  {
   "cell_type": "markdown",
   "id": "6eacc2a9",
   "metadata": {
    "slideshow": {
     "slide_type": "slide"
    }
   },
   "source": [
    "## [Primer video de apoyo](https://www.youtube.com/watch?v=a5SR7LYxQT8)"
   ]
  },
  {
   "cell_type": "markdown",
   "id": "7e49ef3d",
   "metadata": {
    "slideshow": {
     "slide_type": "slide"
    }
   },
   "source": [
    "## [Segundo video de apoyo](https://www.youtube.com/watch?v=iVh2FRlRSxY) "
   ]
  },
  {
   "cell_type": "markdown",
   "id": "595241d5",
   "metadata": {
    "slideshow": {
     "slide_type": "slide"
    }
   },
   "source": [
    "## Solución con Sympy"
   ]
  },
  {
   "cell_type": "code",
   "execution_count": 1,
   "id": "5f689278",
   "metadata": {
    "slideshow": {
     "slide_type": "slide"
    }
   },
   "outputs": [],
   "source": [
    "from sympy import * "
   ]
  },
  {
   "cell_type": "code",
   "execution_count": 2,
   "id": "65225443",
   "metadata": {
    "slideshow": {
     "slide_type": "slide"
    }
   },
   "outputs": [],
   "source": [
    "t = symbols('t', real = True, nonegative = True)\n",
    "N = symbols('N', real = True, positive = True) "
   ]
  },
  {
   "cell_type": "code",
   "execution_count": 3,
   "id": "7ecf8085",
   "metadata": {
    "slideshow": {
     "slide_type": "slide"
    }
   },
   "outputs": [],
   "source": [
    "N = Function('N')(t)"
   ]
  },
  {
   "cell_type": "code",
   "execution_count": 4,
   "id": "5f745980",
   "metadata": {
    "slideshow": {
     "slide_type": "slide"
    }
   },
   "outputs": [],
   "source": [
    "eq_1 = Eq( diff(N,t) - (1/100)*N**2, 0) "
   ]
  },
  {
   "cell_type": "code",
   "execution_count": 5,
   "id": "bc9aa3f3",
   "metadata": {
    "slideshow": {
     "slide_type": "slide"
    }
   },
   "outputs": [
    {
     "data": {
      "text/latex": [
       "$\\displaystyle - 0.01 N^{2}{\\left(t \\right)} + \\frac{d}{d t} N{\\left(t \\right)} = 0$"
      ],
      "text/plain": [
       "Eq(-0.01*N(t)**2 + Derivative(N(t), t), 0)"
      ]
     },
     "execution_count": 5,
     "metadata": {},
     "output_type": "execute_result"
    }
   ],
   "source": [
    "eq_1 "
   ]
  },
  {
   "cell_type": "code",
   "execution_count": 6,
   "id": "8ee01446",
   "metadata": {
    "slideshow": {
     "slide_type": "slide"
    }
   },
   "outputs": [
    {
     "data": {
      "text/latex": [
       "$\\displaystyle N{\\left(t \\right)} = - \\frac{1}{C_{1} + 0.01 t}$"
      ],
      "text/plain": [
       "Eq(N(t), -1/(C1 + 0.01*t))"
      ]
     },
     "execution_count": 6,
     "metadata": {},
     "output_type": "execute_result"
    }
   ],
   "source": [
    "sol_ed = dsolve(eq_1,N) \n",
    "sol_ed "
   ]
  },
  {
   "cell_type": "code",
   "execution_count": 7,
   "id": "5527d7af",
   "metadata": {
    "slideshow": {
     "slide_type": "slide"
    }
   },
   "outputs": [
    {
     "data": {
      "text/latex": [
       "$\\displaystyle C_{1}$"
      ],
      "text/plain": [
       "C1"
      ]
     },
     "execution_count": 7,
     "metadata": {},
     "output_type": "execute_result"
    }
   ],
   "source": [
    "C1 = symbols('C1') # Ojo, no restrinja a C1 a ser solo de valor real\n",
    "C1 "
   ]
  },
  {
   "cell_type": "code",
   "execution_count": 8,
   "id": "54851eaf",
   "metadata": {
    "slideshow": {
     "slide_type": "slide"
    }
   },
   "outputs": [
    {
     "data": {
      "text/latex": [
       "$\\displaystyle 10 = - \\frac{1}{C_{1}}$"
      ],
      "text/plain": [
       "Eq(10, -1/C1)"
      ]
     },
     "execution_count": 8,
     "metadata": {},
     "output_type": "execute_result"
    }
   ],
   "source": [
    "eq_2 = Eq(10, sol_ed.rhs.subs({t:0})) \n",
    "eq_2 "
   ]
  },
  {
   "cell_type": "code",
   "execution_count": 9,
   "id": "076a8094",
   "metadata": {
    "slideshow": {
     "slide_type": "slide"
    }
   },
   "outputs": [
    {
     "data": {
      "text/latex": [
       "$\\displaystyle - \\frac{1}{10}$"
      ],
      "text/plain": [
       "-1/10"
      ]
     },
     "execution_count": 9,
     "metadata": {},
     "output_type": "execute_result"
    }
   ],
   "source": [
    "sol_C1 = solve(eq_2, C1)   \n",
    "# Note que la función solveset() actúa es sobre expresiones o sobre ecuaciones \n",
    "sol_C1 = sol_C1[0]\n",
    "sol_C1 "
   ]
  },
  {
   "cell_type": "code",
   "execution_count": 10,
   "id": "2776b4a5",
   "metadata": {
    "slideshow": {
     "slide_type": "slide"
    }
   },
   "outputs": [
    {
     "data": {
      "text/latex": [
       "$\\displaystyle N{\\left(t \\right)} = - \\frac{1}{0.01 t - \\frac{1}{10}}$"
      ],
      "text/plain": [
       "Eq(N(t), -1/(0.01*t - 1/10))"
      ]
     },
     "execution_count": 10,
     "metadata": {},
     "output_type": "execute_result"
    }
   ],
   "source": [
    "sol_pvi = sol_ed.subs({C1:sol_C1})  \n",
    "sol_pvi "
   ]
  },
  {
   "cell_type": "markdown",
   "id": "ab37be57",
   "metadata": {
    "slideshow": {
     "slide_type": "slide"
    }
   },
   "source": [
    "## Verificación con Sympy"
   ]
  },
  {
   "cell_type": "code",
   "execution_count": 11,
   "id": "f7776837",
   "metadata": {
    "slideshow": {
     "slide_type": "slide"
    }
   },
   "outputs": [
    {
     "data": {
      "text/latex": [
       "$\\displaystyle \\frac{1.0}{\\left(0.1 t - 1\\right)^{2}} - \\frac{1.0}{\\left(0.1 t - 1\\right)^{2}} = 0$"
      ],
      "text/plain": [
       "Eq(1.0/(0.1*t - 1)**2 - 1.0/(0.1*t - 1)**2, 0)"
      ]
     },
     "execution_count": 11,
     "metadata": {},
     "output_type": "execute_result"
    }
   ],
   "source": [
    "eq_1.subs({N:sol_pvi.rhs}).simplify() "
   ]
  },
  {
   "cell_type": "code",
   "execution_count": 12,
   "id": "1c07efed",
   "metadata": {
    "slideshow": {
     "slide_type": "slide"
    }
   },
   "outputs": [
    {
     "data": {
      "text/latex": [
       "$\\displaystyle N{\\left(0 \\right)} = 10$"
      ],
      "text/plain": [
       "Eq(N(0), 10)"
      ]
     },
     "execution_count": 12,
     "metadata": {},
     "output_type": "execute_result"
    }
   ],
   "source": [
    "sol_pvi.subs({t:0}) "
   ]
  },
  {
   "cell_type": "markdown",
   "id": "f57fb59d",
   "metadata": {
    "slideshow": {
     "slide_type": "slide"
    }
   },
   "source": [
    "### Conclusión de la verificación con sympy"
   ]
  },
  {
   "cell_type": "markdown",
   "id": "63a4b5e6",
   "metadata": {
    "slideshow": {
     "slide_type": "slide"
    }
   },
   "source": [
    "Efectivamente, la función encontrada es solución del PVI pues satisface la ED y la condición inicial que lo conforma."
   ]
  },
  {
   "cell_type": "markdown",
   "id": "48874dc4",
   "metadata": {
    "slideshow": {
     "slide_type": "slide"
    }
   },
   "source": [
    "## Solución analítica 1: Interpretación de la ED como separable "
   ]
  },
  {
   "cell_type": "markdown",
   "id": "ad27dc2a",
   "metadata": {
    "slideshow": {
     "slide_type": "slide"
    }
   },
   "source": [
    "$$ \\frac{dN}{dt} = \\frac{1}{100}N^{2}, \\ \\ \\ \\ N(0) = 10  $$"
   ]
  },
  {
   "cell_type": "markdown",
   "id": "afb44b58",
   "metadata": {
    "slideshow": {
     "slide_type": "slide"
    }
   },
   "source": [
    "$$ \\frac{1}{N^{2}}dN = \\frac{1}{100}dt $$"
   ]
  },
  {
   "cell_type": "markdown",
   "id": "4bc8e2fa",
   "metadata": {
    "slideshow": {
     "slide_type": "slide"
    }
   },
   "source": [
    "$$ \\int \\frac{1}{N^{2}}dN = \\int \\frac{1}{100}dt $$"
   ]
  },
  {
   "cell_type": "markdown",
   "id": "425e6f8e",
   "metadata": {
    "slideshow": {
     "slide_type": "slide"
    }
   },
   "source": [
    "$$ \\int N^{-2}\\ dN = \\frac{1}{100}t + c $$"
   ]
  },
  {
   "cell_type": "markdown",
   "id": "5f7f845a",
   "metadata": {
    "slideshow": {
     "slide_type": "slide"
    }
   },
   "source": [
    "$$ -\\frac{1}{N} = \\frac{1}{100}t + c $$"
   ]
  },
  {
   "cell_type": "markdown",
   "id": "a28cd87a",
   "metadata": {
    "slideshow": {
     "slide_type": "slide"
    }
   },
   "source": [
    "$$ -\\frac{1}{N} = \\frac{t + 100c}{100} $$"
   ]
  },
  {
   "cell_type": "markdown",
   "id": "8f368c04",
   "metadata": {
    "slideshow": {
     "slide_type": "slide"
    }
   },
   "source": [
    "$$ \\frac{1}{N} = -\\frac{t + 100c}{100} $$"
   ]
  },
  {
   "cell_type": "markdown",
   "id": "a1ca7c1c",
   "metadata": {
    "slideshow": {
     "slide_type": "slide"
    }
   },
   "source": [
    "$$N = -\\frac{100}{t + 100c}$$"
   ]
  },
  {
   "cell_type": "markdown",
   "id": "c695c8a0",
   "metadata": {
    "slideshow": {
     "slide_type": "slide"
    }
   },
   "source": [
    "$$ N = -\\frac{1}{0.01t + c} $$"
   ]
  },
  {
   "cell_type": "markdown",
   "id": "700a583b",
   "metadata": {
    "slideshow": {
     "slide_type": "slide"
    }
   },
   "source": [
    "### Conclusión de la aplicación de los dos anteriores métodos de solución"
   ]
  },
  {
   "cell_type": "markdown",
   "id": "e76d13d1",
   "metadata": {
    "slideshow": {
     "slide_type": "slide"
    }
   },
   "source": [
    "Con la calculadora simbólica Sympy de Python y con el método analítico obtuvimos la misma solución. "
   ]
  },
  {
   "cell_type": "markdown",
   "id": "74d87676",
   "metadata": {
    "slideshow": {
     "slide_type": "slide"
    }
   },
   "source": [
    "## Solución analítica 1: Interpretación de la ED como Bernoulli de primer orden"
   ]
  },
  {
   "cell_type": "markdown",
   "id": "45c978fd",
   "metadata": {
    "slideshow": {
     "slide_type": "slide"
    }
   },
   "source": [
    "$$ \\frac{dN}{dt} = \\frac{1}{100}N^{2}, \\ \\ \\ \\ N(0) = 10  $$"
   ]
  },
  {
   "cell_type": "markdown",
   "id": "b68db76c",
   "metadata": {
    "slideshow": {
     "slide_type": "slide"
    }
   },
   "source": [
    "La forma estándar de Bernoulli correspondiente es:"
   ]
  },
  {
   "cell_type": "markdown",
   "id": "9aeca23a",
   "metadata": {
    "slideshow": {
     "slide_type": "slide"
    }
   },
   "source": [
    "$$ N' + p(t)N = g(t)N^{n}, \\ \\ \\ \\ n = 2 $$"
   ]
  },
  {
   "cell_type": "markdown",
   "id": "755a531f",
   "metadata": {
    "slideshow": {
     "slide_type": "slide"
    }
   },
   "source": [
    "El cambio de variable que nos sugieren es $v = N^{1 - 2} = N^{-1}$. "
   ]
  },
  {
   "cell_type": "markdown",
   "id": "354a8c98",
   "metadata": {
    "slideshow": {
     "slide_type": "slide"
    }
   },
   "source": [
    "## Gráfica del campo de pendientes "
   ]
  },
  {
   "cell_type": "markdown",
   "id": "35ef9c73",
   "metadata": {
    "slideshow": {
     "slide_type": "slide"
    }
   },
   "source": [
    "Recordemos que el campo de pendientes asociado a una ED de primer orden es una representación geométrica de la ED. "
   ]
  },
  {
   "cell_type": "code",
   "execution_count": 35,
   "id": "007e0043",
   "metadata": {
    "scrolled": true,
    "slideshow": {
     "slide_type": "slide"
    }
   },
   "outputs": [
    {
     "data": {
      "image/png": "[encoded data removed]",
      "text/plain": [
       "<Figure size 432x288 with 1 Axes>"
      ]
     },
     "metadata": {
      "needs_background": "light"
     },
     "output_type": "display_data"
    }
   ],
   "source": [
    "import numpy as np \n",
    "import matplotlib.pyplot as plt \n",
    "\n",
    "# construcción de una grilla en el cuadrado [0,20] x [0,20]\n",
    "\n",
    "x = np.arange(0,21)\n",
    "y = x\n",
    "\n",
    "X,Y = np.meshgrid(x,y) # los pares ordenados (x,y) construidos con las componentes\n",
    "                       # correspondientes de estas dos matrices X y Y determinan la Grilla. \n",
    "\n",
    "def Np(N):               # \n",
    "    return (1/100)*N**2 \n",
    "\n",
    "def N(t):\n",
    "    return -1/(0.01*t - 0.1)\n",
    "\n",
    "fig,ax = plt.subplots()  \n",
    "    \n",
    "for x,y in zip(X,Y):\n",
    "    m_t = Np(y)\n",
    "    x_ = np.linspace(x-0.1,x+0.2,2) # dominio del segmento tangente\n",
    "    y_ = m_t*(x_ - x) + y\n",
    "    ax.plot(x_,y_)\n",
    "\n",
    "# m_t = N'(t,N(t)) = (1/100)N^{2}\n",
    "\n",
    "ax.set(title = r\"Campo de direcciones de la ED $N' = \\frac{1}{100}N^{2}$\", \n",
    "       xlabel = r'$t$', ylabel = r\"$N(t)$\", xlim = (0,20), ylim = (0,20))\n",
    "\n",
    "\n",
    "t = np.linspace(0,10,100)\n",
    "t = np.array( np.sort(list(set(t) - {10})))  \n",
    "\n",
    "ax.plot(t,N(t), color = 'blue', linewidth = 2)  \n",
    "\n",
    "plt.savefig('campo_direcciones_ejemplo_1.jpg')\n",
    "\n",
    "plt.show() \n"
   ]
  },
  {
   "cell_type": "markdown",
   "id": "c5bd917f",
   "metadata": {
    "slideshow": {
     "slide_type": "slide"
    }
   },
   "source": [
    "### Conclusión de la graficación del campo de direcciones y de la solución del PVI"
   ]
  },
  {
   "cell_type": "markdown",
   "id": "b410e1ea",
   "metadata": {
    "slideshow": {
     "slide_type": "slide"
    }
   },
   "source": [
    "Vemos que la función solución del PVI se acomoda bien al campo de direcciones."
   ]
  },
  {
   "cell_type": "markdown",
   "id": "7f0fd066",
   "metadata": {
    "slideshow": {
     "slide_type": "slide"
    }
   },
   "source": [
    "## Funciones de Python utilizadas en este cuaderno"
   ]
  },
  {
   "cell_type": "markdown",
   "id": "e7084afa",
   "metadata": {
    "slideshow": {
     "slide_type": "slide"
    }
   },
   "source": [
    "* El atributo `rhs` que tola el lado derecho de una ecuación de sympy.\n",
    "* El operador `numpy.sort()` que ordena lista de Python\n",
    "* El operador `Eq()` de sympy \n",
    "* "
   ]
  },
  {
   "cell_type": "markdown",
   "id": "54b28cd0",
   "metadata": {
    "slideshow": {
     "slide_type": "slide"
    }
   },
   "source": [
    "## Referentes  \n",
    "\n",
    "* Boyce and DiPrima.   \n",
    "\n",
    "* https://www.geeksforgeeks.org/python-set-difference/"
   ]
  }
 ],
 "metadata": {
  "celltoolbar": "Slideshow",
  "kernelspec": {
   "display_name": "Python 3",
   "language": "python",
   "name": "python3"
  },
  "language_info": {
   "codemirror_mode": {
    "name": "ipython",
    "version": 3
   },
   "file_extension": ".py",
   "mimetype": "text/x-python",
   "name": "python",
   "nbconvert_exporter": "python",
   "pygments_lexer": "ipython3",
   "version": "3.8.8"
  },
  "latex_envs": {
   "LaTeX_envs_menu_present": true,
   "autoclose": false,
   "autocomplete": false,
   "bibliofile": "biblio.bib",
   "cite_by": "apalike",
   "current_citInitial": 1,
   "eqLabelWithNumbers": true,
   "eqNumInitial": 1,
   "hotkeys": {
    "equation": "Ctrl-E",
    "itemize": "Ctrl-I"
   },
   "labels_anchors": false,
   "latex_user_defs": false,
   "report_style_numbering": false,
   "user_envs_cfg": false
  },
  "rise": {
   "enable_chalkboard": true,
   "theme": "sky",
   "transition": "zoom"
  }
 },
 "nbformat": 4,
 "nbformat_minor": 5
}
