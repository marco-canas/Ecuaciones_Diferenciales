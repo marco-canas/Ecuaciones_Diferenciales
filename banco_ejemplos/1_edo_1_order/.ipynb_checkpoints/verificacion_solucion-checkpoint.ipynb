{
 "cells": [
  {
   "cell_type": "markdown",
   "id": "dc5a1e2f",
   "metadata": {
    "slideshow": {
     "slide_type": "slide"
    }
   },
   "source": []
  },
  {
   "cell_type": "markdown",
   "id": "693b5768",
   "metadata": {
    "slideshow": {
     "slide_type": "slide"
    }
   },
   "source": [
    "## [Video de apoyo]() "
   ]
  },
  {
   "cell_type": "markdown",
   "id": "8189eaff",
   "metadata": {
    "slideshow": {
     "slide_type": "slide"
    }
   },
   "source": [
    "# Ejemplo de verificación de soluciones "
   ]
  },
  {
   "cell_type": "markdown",
   "id": "712ed2cb",
   "metadata": {
    "slideshow": {
     "slide_type": "slide"
    }
   },
   "source": [
    "Compruebe que la expresión es una solución implícita de la ecuación diferencial. "
   ]
  },
  {
   "cell_type": "markdown",
   "id": "7969c14e",
   "metadata": {
    "slideshow": {
     "slide_type": "slide"
    }
   },
   "source": [
    "Encuentre al menos una solución explícita $y = \\phi(x)$. "
   ]
  },
  {
   "cell_type": "markdown",
   "id": "d1390ab9",
   "metadata": {
    "slideshow": {
     "slide_type": "slide"
    }
   },
   "source": [
    "De un intervalo $I$ de definición de cada solución $\\phi$. "
   ]
  },
  {
   "cell_type": "markdown",
   "id": "bfbf2039",
   "metadata": {
    "slideshow": {
     "slide_type": "slide"
    }
   },
   "source": [
    "$$ \\frac{dX}{dt} = (X-1)(1-2X); \\ \\ \\ \\ \\ln\\left( \\frac{2X - 1}{X-1} \\right) = t $$"
   ]
  },
  {
   "cell_type": "markdown",
   "id": "165713be",
   "metadata": {
    "slideshow": {
     "slide_type": "slide"
    }
   },
   "source": [
    "## Solución: "
   ]
  },
  {
   "cell_type": "code",
   "execution_count": null,
   "id": "a09ee402",
   "metadata": {
    "slideshow": {
     "slide_type": "slide"
    }
   },
   "outputs": [],
   "source": []
  },
  {
   "cell_type": "markdown",
   "id": "db95944f",
   "metadata": {
    "slideshow": {
     "slide_type": "slide"
    }
   },
   "source": [
    "Partimos de la solución implícita y derivamos derivamos implícitamente con respecto a $t$:\n",
    "\n",
    "$$ \\frac{X-1}{2X-1} \\cdot \\frac{2(X-1) - (2X-1)}{(X-1)^{2}} \\cdot X' = 1  $$"
   ]
  },
  {
   "cell_type": "markdown",
   "id": "4b1c4941",
   "metadata": {
    "slideshow": {
     "slide_type": "slide"
    }
   },
   "source": [
    "$$ \\frac{dX}{dt} = \\frac{(2X - 1)(X-1)}{-1} $$"
   ]
  },
  {
   "cell_type": "markdown",
   "id": "eb70930a",
   "metadata": {
    "slideshow": {
     "slide_type": "slide"
    }
   },
   "source": [
    "$$ \\frac{dX}{dt} = (1 - 2X)(X-1) $$"
   ]
  },
  {
   "cell_type": "markdown",
   "id": "c75ef8f1",
   "metadata": {
    "slideshow": {
     "slide_type": "slide"
    }
   },
   "source": [
    "**Conclusión:** La ecuación dada si define implícitamente a algunas de las soluciones de la ED. "
   ]
  },
  {
   "cell_type": "markdown",
   "id": "761b359a",
   "metadata": {
    "slideshow": {
     "slide_type": "slide"
    }
   },
   "source": [
    "Y ahora, tretemos de despejar $X$ de la ecuación de la solución implícita: "
   ]
  },
  {
   "cell_type": "markdown",
   "id": "b001dc8d",
   "metadata": {
    "slideshow": {
     "slide_type": "slide"
    }
   },
   "source": [
    "$$ e^{\\ln\\left( \\frac{2X - 1}{X-1} \\right)} = e^{t} $$"
   ]
  },
  {
   "cell_type": "markdown",
   "id": "9804db5f",
   "metadata": {
    "slideshow": {
     "slide_type": "slide"
    }
   },
   "source": [
    "$$ \\frac{2X - 1}{X-1} = e^{t} $$"
   ]
  },
  {
   "cell_type": "markdown",
   "id": "05c3a926",
   "metadata": {
    "slideshow": {
     "slide_type": "slide"
    }
   },
   "source": [
    "$$ 2X - 1 = (X-1)e^{t} $$"
   ]
  },
  {
   "cell_type": "markdown",
   "id": "ab6c8cae",
   "metadata": {
    "slideshow": {
     "slide_type": "slide"
    }
   },
   "source": [
    "$$ 2X - Xe^{t} = 1 - e^{t} $$"
   ]
  },
  {
   "cell_type": "markdown",
   "id": "e7373dd5",
   "metadata": {
    "slideshow": {
     "slide_type": "slide"
    }
   },
   "source": [
    "$$ X = \\frac{1-e^{t}}{2-e^{t}} $$"
   ]
  },
  {
   "cell_type": "markdown",
   "id": "715f33e7",
   "metadata": {
    "slideshow": {
     "slide_type": "slide"
    }
   },
   "source": [
    "Un intervalo de definición de $X = X(t)$ es aquel que no contenga un real $t$ tal que \n",
    "\n",
    "$$ 2 - e^{t} = 0 $$\n",
    "\n",
    "\n"
   ]
  },
  {
   "cell_type": "markdown",
   "id": "c299ca70",
   "metadata": {
    "slideshow": {
     "slide_type": "slide"
    }
   },
   "source": [
    "Es decir, \n",
    "\n",
    "$$ 2 = e^{t} \\ \\ \\ \\  \\Rightarrow \\ \\ \\ \\ \\ln 2 = t $$\n"
   ]
  },
  {
   "cell_type": "markdown",
   "id": "a140598c",
   "metadata": {
    "slideshow": {
     "slide_type": "slide"
    }
   },
   "source": []
  },
  {
   "cell_type": "code",
   "execution_count": 2,
   "id": "571a5c8f",
   "metadata": {
    "slideshow": {
     "slide_type": "slide"
    }
   },
   "outputs": [
    {
     "data": {
      "text/plain": [
       "0.6931471805599453"
      ]
     },
     "execution_count": 2,
     "metadata": {},
     "output_type": "execute_result"
    }
   ],
   "source": [
    "import numpy as np \n",
    "\n",
    "np.log(2)"
   ]
  },
  {
   "cell_type": "markdown",
   "id": "01de081d",
   "metadata": {
    "slideshow": {
     "slide_type": "slide"
    }
   },
   "source": [
    "Por lo tanto, un intervalo de definición para $\\phi$ puede ser el intervalo abierto:\n",
    "\n",
    "$$ (\\ln 2, + \\infty) \\approx (0.69, + \\infty) $$\n"
   ]
  },
  {
   "cell_type": "code",
   "execution_count": 3,
   "id": "9853d9fb",
   "metadata": {
    "slideshow": {
     "slide_type": "slide"
    }
   },
   "outputs": [],
   "source": [
    "import numpy as np \n",
    "import matplotlib.pyplot as plt \n",
    "\n"
   ]
  },
  {
   "cell_type": "code",
   "execution_count": null,
   "id": "28ca464b",
   "metadata": {
    "slideshow": {
     "slide_type": "slide"
    }
   },
   "outputs": [],
   "source": []
  }
 ],
 "metadata": {
  "celltoolbar": "Slideshow",
  "kernelspec": {
   "display_name": "Python 3 (ipykernel)",
   "language": "python",
   "name": "python3"
  },
  "language_info": {
   "codemirror_mode": {
    "name": "ipython",
    "version": 3
   },
   "file_extension": ".py",
   "mimetype": "text/x-python",
   "name": "python",
   "nbconvert_exporter": "python",
   "pygments_lexer": "ipython3",
   "version": "3.9.7"
  }
 },
 "nbformat": 4,
 "nbformat_minor": 5
}
