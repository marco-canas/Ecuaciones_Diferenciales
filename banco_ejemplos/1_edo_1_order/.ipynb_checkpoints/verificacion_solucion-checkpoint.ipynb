{
 "cells": [
  {
   "cell_type": "markdown",
   "id": "9f0af192",
   "metadata": {
    "slideshow": {
     "slide_type": "slide"
    }
   },
   "source": []
  },
  {
   "cell_type": "markdown",
   "id": "78d0a30e",
   "metadata": {
    "slideshow": {
     "slide_type": "slide"
    }
   },
   "source": [
    "# Ejemplo de verificación de soluciones "
   ]
  },
  {
   "cell_type": "markdown",
   "id": "e5b1398b",
   "metadata": {
    "slideshow": {
     "slide_type": "slide"
    }
   },
   "source": [
    "Compruebe que la expresión es una solución implícita de la ecuación diferencial. "
   ]
  },
  {
   "cell_type": "markdown",
   "id": "b430e5f7",
   "metadata": {
    "slideshow": {
     "slide_type": "slide"
    }
   },
   "source": [
    "Encuentre al menos una solución explícita $y = \\phi(x)$. "
   ]
  },
  {
   "cell_type": "markdown",
   "id": "912472d8",
   "metadata": {
    "slideshow": {
     "slide_type": "slide"
    }
   },
   "source": [
    "De un intervalo $I$ de definición de cada solución $\\phi$. "
   ]
  },
  {
   "cell_type": "markdown",
   "id": "d09e7cb2",
   "metadata": {
    "slideshow": {
     "slide_type": "slide"
    }
   },
   "source": [
    "$$ \\frac{dX}{dt} = (X-1)(1-2X); \\ \\ \\ \\ \\ln\\left( \\frac{2X - 1}{X-1} \\right) = t $$"
   ]
  },
  {
   "cell_type": "code",
   "execution_count": null,
   "id": "8273711d",
   "metadata": {
    "slideshow": {
     "slide_type": "slide"
    }
   },
   "outputs": [],
   "source": []
  },
  {
   "cell_type": "code",
   "execution_count": null,
   "id": "e8db5670",
   "metadata": {},
   "outputs": [],
   "source": []
  },
  {
   "cell_type": "code",
   "execution_count": null,
   "id": "e16d1920",
   "metadata": {},
   "outputs": [],
   "source": []
  }
 ],
 "metadata": {
  "celltoolbar": "Slideshow",
  "kernelspec": {
   "display_name": "Python 3 (ipykernel)",
   "language": "python",
   "name": "python3"
  },
  "language_info": {
   "codemirror_mode": {
    "name": "ipython",
    "version": 3
   },
   "file_extension": ".py",
   "mimetype": "text/x-python",
   "name": "python",
   "nbconvert_exporter": "python",
   "pygments_lexer": "ipython3",
   "version": "3.9.7"
  }
 },
 "nbformat": 4,
 "nbformat_minor": 5
}
