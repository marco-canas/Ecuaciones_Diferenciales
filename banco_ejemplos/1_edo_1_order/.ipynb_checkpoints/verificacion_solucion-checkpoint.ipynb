{
 "cells": [
  {
   "cell_type": "markdown",
   "id": "6581148a",
   "metadata": {
    "slideshow": {
     "slide_type": "slide"
    }
   },
   "source": []
  },
  {
   "cell_type": "markdown",
   "id": "797103fb",
   "metadata": {
    "slideshow": {
     "slide_type": "slide"
    }
   },
   "source": [
    "## [Video de apoyo]() "
   ]
  },
  {
   "cell_type": "markdown",
   "id": "0768beef",
   "metadata": {
    "slideshow": {
     "slide_type": "slide"
    }
   },
   "source": [
    "# Ejemplo de verificación de soluciones "
   ]
  },
  {
   "cell_type": "markdown",
   "id": "2ed5ce9e",
   "metadata": {
    "slideshow": {
     "slide_type": "slide"
    }
   },
   "source": [
    "Compruebe que la expresión es una solución implícita de la ecuación diferencial. "
   ]
  },
  {
   "cell_type": "markdown",
   "id": "9dbd7c93",
   "metadata": {
    "slideshow": {
     "slide_type": "slide"
    }
   },
   "source": [
    "Encuentre al menos una solución explícita $y = \\phi(x)$. "
   ]
  },
  {
   "cell_type": "markdown",
   "id": "b003424f",
   "metadata": {
    "slideshow": {
     "slide_type": "slide"
    }
   },
   "source": [
    "De un intervalo $I$ de definición de cada solución $\\phi$. "
   ]
  },
  {
   "cell_type": "markdown",
   "id": "a2a2e4b3",
   "metadata": {
    "slideshow": {
     "slide_type": "slide"
    }
   },
   "source": [
    "$$ \\frac{dX}{dt} = (X-1)(1-2X); \\ \\ \\ \\ \\ln\\left( \\frac{2X - 1}{X-1} \\right) = t $$"
   ]
  },
  {
   "cell_type": "markdown",
   "id": "925b0f21",
   "metadata": {
    "slideshow": {
     "slide_type": "slide"
    }
   },
   "source": [
    "## Solución: "
   ]
  },
  {
   "cell_type": "code",
   "execution_count": null,
   "id": "1b20cd0f",
   "metadata": {
    "slideshow": {
     "slide_type": "slide"
    }
   },
   "outputs": [],
   "source": []
  },
  {
   "cell_type": "markdown",
   "id": "07ee5045",
   "metadata": {
    "slideshow": {
     "slide_type": "slide"
    }
   },
   "source": [
    "Partimos de la solución implícita y derivamos derivamos implícitamente con respecto a $t$:\n",
    "\n",
    "$$ \\frac{X-1}{2X-1} \\cdot \\frac{2(X-1) - (2X-1)}{(X-1)^{2}} \\cdot X' = 1  $$"
   ]
  },
  {
   "cell_type": "markdown",
   "id": "80bf8986",
   "metadata": {
    "slideshow": {
     "slide_type": "slide"
    }
   },
   "source": [
    "$$ \\frac{dX}{dt} = \\frac{(2X - 1)(X-1)}{-1} $$"
   ]
  },
  {
   "cell_type": "markdown",
   "id": "c5761347",
   "metadata": {
    "slideshow": {
     "slide_type": "slide"
    }
   },
   "source": [
    "$$ \\frac{dX}{dt} = (1 - 2X)(X-1) $$"
   ]
  },
  {
   "cell_type": "markdown",
   "id": "ca8c1dc9",
   "metadata": {
    "slideshow": {
     "slide_type": "slide"
    }
   },
   "source": [
    "**Conclusión:** La ecuación dada si define implícitamente a algunas de las soluciones de la ED. "
   ]
  },
  {
   "cell_type": "markdown",
   "id": "12c96b7e",
   "metadata": {
    "slideshow": {
     "slide_type": "slide"
    }
   },
   "source": [
    "Y ahora, tretemos de despejar $X$ de la ecuación de la solución implícita: "
   ]
  },
  {
   "cell_type": "markdown",
   "id": "97690911",
   "metadata": {
    "slideshow": {
     "slide_type": "slide"
    }
   },
   "source": [
    "$$ e^{\\ln\\left( \\frac{2X - 1}{X-1} \\right)} = e^{t} $$"
   ]
  },
  {
   "cell_type": "markdown",
   "id": "3796522a",
   "metadata": {
    "slideshow": {
     "slide_type": "slide"
    }
   },
   "source": [
    "$$ \\frac{2X - 1}{X-1} = e^{t} $$"
   ]
  },
  {
   "cell_type": "markdown",
   "id": "f04869ab",
   "metadata": {
    "slideshow": {
     "slide_type": "slide"
    }
   },
   "source": [
    "$$ 2X - 1 = (X-1)e^{t} $$"
   ]
  },
  {
   "cell_type": "markdown",
   "id": "60686c47",
   "metadata": {
    "slideshow": {
     "slide_type": "slide"
    }
   },
   "source": [
    "$$ 2X - Xe^{t} = 1 - e^{t} $$"
   ]
  },
  {
   "cell_type": "markdown",
   "id": "ddeca8ab",
   "metadata": {
    "slideshow": {
     "slide_type": "slide"
    }
   },
   "source": [
    "$$ X = \\frac{1-e^{t}}{2-e^{t}} $$"
   ]
  },
  {
   "cell_type": "markdown",
   "id": "df124d8f",
   "metadata": {
    "slideshow": {
     "slide_type": "slide"
    }
   },
   "source": [
    "Un intervalo de definición de $X = X(t)$ es aquel que no contenga un real $t$ tal que \n",
    "\n",
    "$$ 2 - e^{t} = 0 $$\n",
    "\n",
    "\n"
   ]
  },
  {
   "cell_type": "markdown",
   "id": "a27afc96",
   "metadata": {
    "slideshow": {
     "slide_type": "slide"
    }
   },
   "source": [
    "Es decir, \n",
    "\n",
    "$$ 2 = e^{t} \\ \\ \\ \\  \\Rightarrow \\ \\ \\ \\ \\ln 2 = t $$\n"
   ]
  },
  {
   "cell_type": "markdown",
   "id": "fd806a31",
   "metadata": {
    "slideshow": {
     "slide_type": "slide"
    }
   },
   "source": []
  },
  {
   "cell_type": "code",
   "execution_count": 2,
   "id": "04f04967",
   "metadata": {
    "slideshow": {
     "slide_type": "slide"
    }
   },
   "outputs": [
    {
     "data": {
      "text/plain": [
       "0.6931471805599453"
      ]
     },
     "execution_count": 2,
     "metadata": {},
     "output_type": "execute_result"
    }
   ],
   "source": [
    "import numpy as np \n",
    "\n",
    "np.log(2)"
   ]
  },
  {
   "cell_type": "markdown",
   "id": "6defe7d4",
   "metadata": {
    "slideshow": {
     "slide_type": "slide"
    }
   },
   "source": [
    "Por lo tanto, un intervalo de definición para $\\phi$ puede ser el intervalo abierto:\n",
    "\n",
    "$$ (\\ln 2, + \\infty) \\approx (0.69, + \\infty) $$\n"
   ]
  },
  {
   "cell_type": "code",
   "execution_count": 3,
   "id": "24e75741",
   "metadata": {
    "slideshow": {
     "slide_type": "slide"
    }
   },
   "outputs": [],
   "source": [
    "import numpy as np \n",
    "import matplotlib.pyplot as plt \n",
    "\n"
   ]
  },
  {
   "cell_type": "code",
   "execution_count": null,
   "id": "cc5a6370",
   "metadata": {
    "slideshow": {
     "slide_type": "slide"
    }
   },
   "outputs": [],
   "source": []
  }
 ],
 "metadata": {
  "celltoolbar": "Slideshow",
  "kernelspec": {
   "display_name": "Python 3 (ipykernel)",
   "language": "python",
   "name": "python3"
  },
  "language_info": {
   "codemirror_mode": {
    "name": "ipython",
    "version": 3
   },
   "file_extension": ".py",
   "mimetype": "text/x-python",
   "name": "python",
   "nbconvert_exporter": "python",
   "pygments_lexer": "ipython3",
   "version": "3.9.7"
  }
 },
 "nbformat": 4,
 "nbformat_minor": 5
}
