{
 "cells": [
  {
   "cell_type": "markdown",
   "id": "166a3934",
   "metadata": {
    "slideshow": {
     "slide_type": "slide"
    }
   },
   "source": [
    "<table align=\"left\">\n",
    "  <td>\n",
    "    <a href=\"https://colab.research.google.com/github/marco-canas/Ecuaciones_Diferenciales/blob/main/asesoria/ejer_sec_7_6_boyce/solucion_pvi_sistema_eigenvalores_complejos.ipynb\" target=\"_parent\"><img src=\"https://colab.research.google.com/assets/colab-badge.svg\" alt=\"Open In Colab\"/></a>\n",
    "  </td>\n",
    "  <td>\n",
    "    <a target=\"_blank\" href=\"https://kaggle.com/kernels/welcome?src=https://github.com/marco-canas/Ecuaciones_Diferenciales/blob/main/asesoria/ejer_sec_7_6_boyce/solucion_pvi_sistema_eigenvalores_complejos.ipynb\"><img src=\"https://kaggle.com/static/images/open-in-kaggle.svg\" /></a>\n",
    "  </td>\n",
    "</table>"
   ]
  },
  {
   "cell_type": "markdown",
   "id": "5a919daf",
   "metadata": {
    "slideshow": {
     "slide_type": "slide"
    }
   },
   "source": [
    "# Un sistema lineal de primer orden con eigenvalores complejos que define un PVI"
   ]
  },
  {
   "cell_type": "markdown",
   "id": "fb629ec6",
   "metadata": {
    "slideshow": {
     "slide_type": "slide"
    }
   },
   "source": [
    "## Punto 1\n",
    "\n",
    "1. **(15 puntos) Encontrar la solución de valor real del siguiente PVI (Problema con Valor Inicial definido por una sistema de ecuaciones diferenciales de primer orden homogéneo)**   \n",
    "\n",
    "$$ x' = \\begin{pmatrix}1&-12&-14\\\\1&2&-3\\\\1&1&-2\\end{pmatrix}x, \\ \\ \\ \\ \\ x(0) = \\begin{pmatrix} 4 \\\\ 6 \\\\ -7\\end{pmatrix} $$\n",
    "\n",
    "2. **(10 puntos) Verifique que la solución obtenida es correcta utilizando el método de sustitución directa de la función vectorial $ x^{(1)}(t) $** \n",
    "\n",
    "No puede omitir ningún paso de solución y de cálculo algoritmicos y debe describir verbalmente su procedimiento y justificar los pasos esenciales. "
   ]
  },
  {
   "cell_type": "markdown",
   "id": "2f8c2a87",
   "metadata": {
    "slideshow": {
     "slide_type": "slide"
    }
   },
   "source": [
    "## [Video de apoyo](https://www.youtube.com/watch?v=kf6h4qo-Kig)"
   ]
  },
  {
   "cell_type": "markdown",
   "id": "72b689aa",
   "metadata": {
    "slideshow": {
     "slide_type": "slide"
    }
   },
   "source": [
    "# Solución con sympy"
   ]
  },
  {
   "cell_type": "markdown",
   "id": "95e207e1",
   "metadata": {
    "slideshow": {
     "slide_type": "slide"
    }
   },
   "source": [
    "Empiece por identificar los conceptos asociados al problema planteado:\n",
    "\n"
   ]
  },
  {
   "cell_type": "markdown",
   "id": "c3074808",
   "metadata": {
    "slideshow": {
     "slide_type": "slide"
    }
   },
   "source": [
    "Empecemos por obtener los valores y vectores propios utilizando solo sympy "
   ]
  },
  {
   "cell_type": "code",
   "execution_count": 2,
   "id": "219790ce",
   "metadata": {
    "slideshow": {
     "slide_type": "slide"
    }
   },
   "outputs": [
    {
     "data": {
      "text/plain": [
       "(1,\n",
       " 1,\n",
       " [Matrix([\n",
       "  [25/6],\n",
       "  [-7/6],\n",
       "  [   1]])])"
      ]
     },
     "execution_count": 2,
     "metadata": {},
     "output_type": "execute_result"
    }
   ],
   "source": [
    "from sympy import * \n",
    "A = Matrix([[1,-12,-14],[1,2,-3],[1,1,-2]])\n",
    "rv1,rv2,rv3 = A.eigenvects() \n",
    "rv1"
   ]
  },
  {
   "cell_type": "code",
   "execution_count": 6,
   "id": "34e52469",
   "metadata": {},
   "outputs": [
    {
     "data": {
      "text/latex": [
       "$\\displaystyle 0$"
      ],
      "text/plain": [
       "0"
      ]
     },
     "execution_count": 6,
     "metadata": {},
     "output_type": "execute_result"
    }
   ],
   "source": [
    "r1 = A.eigenvects()[0][0]/A.eigenvects()[0][1]\n",
    "im(r1) "
   ]
  },
  {
   "cell_type": "code",
   "execution_count": 7,
   "id": "68c50cc5",
   "metadata": {
    "slideshow": {
     "slide_type": "slide"
    }
   },
   "outputs": [
    {
     "data": {
      "text/latex": [
       "$\\displaystyle \\left[\\begin{matrix}\\frac{25 c_{1} e^{t}}{6} + c_{2} \\left(- 5 \\sin{\\left(5 t \\right)} + \\cos{\\left(5 t \\right)}\\right) + c_{3} \\left(- \\sin{\\left(5 t \\right)} - 5 \\cos{\\left(5 t \\right)}\\right)\\\\- \\frac{7 c_{1} e^{t}}{6} + c_{2} \\cos{\\left(5 t \\right)} - c_{3} \\sin{\\left(5 t \\right)}\\\\c_{1} e^{t} + c_{2} \\cos{\\left(5 t \\right)} - c_{3} \\sin{\\left(5 t \\right)}\\end{matrix}\\right]$"
      ],
      "text/plain": [
       "Matrix([\n",
       "[25*c1*exp(t)/6 + c2*(-5*sin(5*t) + cos(5*t)) + c3*(-sin(5*t) - 5*cos(5*t))],\n",
       "[                                -7*c1*exp(t)/6 + c2*cos(5*t) - c3*sin(5*t)],\n",
       "[                                     c1*exp(t) + c2*cos(5*t) - c3*sin(5*t)]])"
      ]
     },
     "execution_count": 7,
     "metadata": {},
     "output_type": "execute_result"
    }
   ],
   "source": [
    "import numpy as np \n",
    "from sympy import *\n",
    "t = symbols('t', real = True, nonegative = True)  \n",
    "r1,r2,r3 = symbols('r1 r2 r3') \n",
    "v1,v2,v3 = symbols('v1 v2 v3') \n",
    "\n",
    "A = Matrix([[1,-12,-14],[1,2,-3],[1,1,-2]])  \n",
    "\n",
    "r1,r2 = A.eigenvects()[0][0]/A.eigenvects()[0][1], A.eigenvects()[1][0]/A.eigenvects()[1][1]\n",
    "\n",
    "if im(r1) == 0:\n",
    "    v1,v2 = A.eigenvects()[0][2][0], A.eigenvects()[1][2][0]\n",
    "    lambda1, mu1 = re(r1),im(r1)\n",
    "    lambda2, mu2 = re(r2),im(r2)\n",
    "    x_sup1_sympy = v1*( exp(lambda1*t)*( cos(mu1*t) + I*sin(mu1*t) ))\n",
    "    x_sup1_lambda = lambdify( t, x_sup1_sympy) \n",
    "    x_sup2_sympy = v2*( exp(lambda2*t)*( cos(mu2*t) + I*sin(mu2*t) ) )\n",
    "    u_sympy = re( x_sup2_sympy ) \n",
    "    v_sympy = im( x_sup2_sympy ) \n",
    "    u_lambda = lambdify( t, u_sympy, 'numpy' ) \n",
    "    v_lambda = lambdify( t, v_sympy, 'numpy' ) \n",
    "\n",
    "c1, c2, c3 = symbols('c1 c2 c3') \n",
    "\n",
    "\n",
    "x_sympy = c1*x_sup1_sympy + c2*u_sympy + c3*v_sympy\n",
    "\n",
    "x_lambda = lambdify(t, x_sympy) # solución general de valor real\n",
    "\n",
    "# note que la salida es un arreglo dos dimendional de numpy\n",
    "x_sympy "
   ]
  },
  {
   "cell_type": "markdown",
   "id": "51ac0864",
   "metadata": {
    "slideshow": {
     "slide_type": "slide"
    }
   },
   "source": [
    "Ahora sustituyamos la condición inicial para hhalar un sistema algebraico lineal en las variables $c_{1}, c_{2}$ y $c_{3}$. "
   ]
  },
  {
   "cell_type": "code",
   "execution_count": 8,
   "id": "861d4171",
   "metadata": {
    "slideshow": {
     "slide_type": "slide"
    }
   },
   "outputs": [],
   "source": [
    "condi_1 = Eq(x_sympy[0].subs(t, 0), 4)    # x(0) = (4,6,-7)\n",
    "condi_2 = Eq(x_sympy[1].subs(t, 0), 6)    \n",
    "condi_3 = Eq(x_sympy[2].subs(t, 0), -7)   "
   ]
  },
  {
   "cell_type": "code",
   "execution_count": 11,
   "id": "d7b5dee2",
   "metadata": {
    "slideshow": {
     "slide_type": "slide"
    }
   },
   "outputs": [
    {
     "data": {
      "text/latex": [
       "$\\displaystyle \\frac{25 c_{1}}{6} + c_{2} - 5 c_{3} = 4$"
      ],
      "text/plain": [
       "Eq(25*c1/6 + c2 - 5*c3, 4)"
      ]
     },
     "metadata": {},
     "output_type": "display_data"
    },
    {
     "data": {
      "text/latex": [
       "$\\displaystyle - \\frac{7 c_{1}}{6} + c_{2} = 6$"
      ],
      "text/plain": [
       "Eq(-7*c1/6 + c2, 6)"
      ]
     },
     "metadata": {},
     "output_type": "display_data"
    },
    {
     "data": {
      "text/latex": [
       "$\\displaystyle c_{1} + c_{2} = -7$"
      ],
      "text/plain": [
       "Eq(c1 + c2, -7)"
      ]
     },
     "metadata": {},
     "output_type": "display_data"
    }
   ],
   "source": [
    "display(condi_1, condi_2, condi_3) # display mejora la presentación de las ecuaciones del sistema"
   ]
  },
  {
   "cell_type": "code",
   "execution_count": null,
   "id": "65bd3e70",
   "metadata": {
    "slideshow": {
     "slide_type": "slide"
    }
   },
   "outputs": [],
   "source": [
    "c1c2c3_solucion = solve([condi_1,condi_2,condi_3], (c1,c2, c3))"
   ]
  },
  {
   "cell_type": "code",
   "execution_count": null,
   "id": "d350b92d",
   "metadata": {
    "slideshow": {
     "slide_type": "slide"
    }
   },
   "outputs": [],
   "source": [
    "c1c2c3_solucion"
   ]
  },
  {
   "cell_type": "code",
   "execution_count": null,
   "id": "0b03a808",
   "metadata": {
    "slideshow": {
     "slide_type": "slide"
    }
   },
   "outputs": [],
   "source": [
    "sol_pvi = x_sympy.subs(c1c2c3_solucion)\n",
    "sol_pvi "
   ]
  },
  {
   "cell_type": "markdown",
   "id": "00c54aec",
   "metadata": {
    "slideshow": {
     "slide_type": "slide"
    }
   },
   "source": [
    "### Verifiquemos la solución"
   ]
  },
  {
   "cell_type": "code",
   "execution_count": null,
   "id": "b4dd4dc0",
   "metadata": {
    "scrolled": true,
    "slideshow": {
     "slide_type": "slide"
    }
   },
   "outputs": [],
   "source": [
    "diff(sol_pvi,t) == A*sol_pvi"
   ]
  },
  {
   "cell_type": "markdown",
   "id": "0dfdda3f",
   "metadata": {
    "slideshow": {
     "slide_type": "slide"
    }
   },
   "source": [
    "Entonces, la función vectorial hallada satisface la ecuación diferencial del PVI"
   ]
  },
  {
   "cell_type": "code",
   "execution_count": null,
   "id": "8ec51509",
   "metadata": {
    "slideshow": {
     "slide_type": "slide"
    }
   },
   "outputs": [],
   "source": [
    "sol_pvi.subs(t,0) "
   ]
  },
  {
   "cell_type": "code",
   "execution_count": null,
   "id": "85c4bbb8",
   "metadata": {
    "slideshow": {
     "slide_type": "slide"
    }
   },
   "outputs": [],
   "source": [
    "x_pvi_sympy = sol_pvi\n",
    "x_pvi_sympy "
   ]
  },
  {
   "cell_type": "code",
   "execution_count": null,
   "id": "c274317f",
   "metadata": {
    "slideshow": {
     "slide_type": "slide"
    }
   },
   "outputs": [],
   "source": [
    "x_pvi_lambda = lambdify(t,x_pvi_sympy, 'numpy') "
   ]
  },
  {
   "cell_type": "code",
   "execution_count": null,
   "id": "1e923200",
   "metadata": {
    "slideshow": {
     "slide_type": "slide"
    }
   },
   "outputs": [],
   "source": [
    "x_pvi_lambda(0)[1,0]"
   ]
  },
  {
   "cell_type": "markdown",
   "id": "3acd6a91",
   "metadata": {
    "slideshow": {
     "slide_type": "slide"
    }
   },
   "source": [
    "Por lo tanto, la solución encontrada es correcta. "
   ]
  },
  {
   "cell_type": "markdown",
   "id": "a4fa030e",
   "metadata": {
    "slideshow": {
     "slide_type": "slide"
    }
   },
   "source": [
    "## Graficación de las funciones escalares $x_{1}(t)$, $x_{2}(t)$ y $x_{3}(t)$\n",
    "\n",
    "$$ x = \\begin{pmatrix} x_{1}(t) \\\\ x_{2}(t) \\\\ x_{3}(t) \\end{pmatrix} $$\n"
   ]
  },
  {
   "cell_type": "code",
   "execution_count": null,
   "id": "16e85864",
   "metadata": {
    "slideshow": {
     "slide_type": "slide"
    }
   },
   "outputs": [],
   "source": [
    "import numpy as np \n",
    "import matplotlib.pyplot as plt \n",
    "\n",
    "plt.style.use('dark_background') \n",
    "\n",
    "fig = plt.figure(figsize = (22,10)) \n",
    "\n",
    "t = np.linspace(0,10,200)\n",
    "\n",
    "plt.title('Gráfico de la solución del PVI')\n",
    "\n",
    "ax1 = fig.add_subplot(131)\n",
    "ax1.plot(t,x_lambda(t)[0,0], color = 'orange') \n",
    "ax1.set_xlabel(r'eje $t$')\n",
    "ax1.set_ylabel(r'$x_{1}(t)$')\n",
    "ax1.grid(True, alpha = 0.4)\n",
    "\n",
    "\n",
    "ax2 = fig.add_subplot(132)\n",
    "ax2.plot(t,x_lambda(t)[1,0], color = 'orange') \n",
    "ax2.set_xlabel(r'eje $t$')\n",
    "ax2.set_ylabel(r'$x_{2}(t)$')\n",
    "ax2.grid(True, alpha = 0.4)\n",
    "\n",
    "\n",
    "ax3 = fig.add_subplot(133) \n",
    "ax3.plot(t,x_lambda(t)[2,0], color = 'orange') \n",
    "ax3.set_xlabel(r'eje $t$')\n",
    "ax3.set_ylabel(r'$x_{3}(t)$')\n",
    "ax3.grid(True, alpha = 0.4)\n",
    "\n",
    "plt.savefig('solución_pvi.jpg')\n",
    "\n",
    "plt.show() \n"
   ]
  },
  {
   "cell_type": "markdown",
   "id": "10d4fe4a",
   "metadata": {
    "slideshow": {
     "slide_type": "slide"
    }
   },
   "source": [
    "## Solución analítica "
   ]
  },
  {
   "cell_type": "markdown",
   "id": "9e7b717f",
   "metadata": {
    "slideshow": {
     "slide_type": "slide"
    }
   },
   "source": [
    "### Identificación y definición de conceptos asociados"
   ]
  },
  {
   "cell_type": "code",
   "execution_count": 19,
   "id": "e438e6ca",
   "metadata": {
    "slideshow": {
     "slide_type": "slide"
    }
   },
   "outputs": [
    {
     "data": {
      "text/html": [
       "\n",
       "        <iframe\n",
       "            width=\"800\"\n",
       "            height=\"400\"\n",
       "            src=\"https://en.wikipedia.org/wiki/Linear_differential_equation\"\n",
       "            frameborder=\"0\"\n",
       "            allowfullscreen\n",
       "        ></iframe>\n",
       "        "
      ],
      "text/plain": [
       "<IPython.lib.display.IFrame at 0x297c2483d90>"
      ]
     },
     "execution_count": 19,
     "metadata": {},
     "output_type": "execute_result"
    }
   ],
   "source": [
    "from IPython.display import IFrame\n",
    "\n",
    "IFrame('https://en.wikipedia.org/wiki/Linear_differential_equation', width = 800, height = 400) "
   ]
  },
  {
   "cell_type": "markdown",
   "id": "5c71f6c6",
   "metadata": {
    "slideshow": {
     "slide_type": "slide"
    }
   },
   "source": [
    "### Interpretación verbal de problema"
   ]
  },
  {
   "cell_type": "markdown",
   "id": "818891b3",
   "metadata": {
    "slideshow": {
     "slide_type": "slide"
    }
   },
   "source": [
    "Determine el PVI dado se puede interpretar como determinar la única función vectorial $x:\\mathbb{R} \\to \\mathbb{R}^{3}$ que satisface la ecuación diferencial matricial $x' = Ax$ y la condición inicial $x(0) = x_{0} = (4,6,-7)$."
   ]
  },
  {
   "cell_type": "markdown",
   "id": "35ca12a6",
   "metadata": {
    "slideshow": {
     "slide_type": "slide"
    }
   },
   "source": [
    "### Interpretación gráfica de problema"
   ]
  },
  {
   "cell_type": "code",
   "execution_count": 18,
   "id": "bdba0d7d",
   "metadata": {
    "scrolled": false,
    "slideshow": {
     "slide_type": "slide"
    }
   },
   "outputs": [
    {
     "data": {
      "image/png": "[encoded data removed]",
      "text/plain": [
       "<Figure size 432x288 with 1 Axes>"
      ]
     },
     "metadata": {
      "needs_background": "light"
     },
     "output_type": "display_data"
    }
   ],
   "source": [
    "import numpy as np \n",
    "from sympy import *\n",
    "t = symbols('t', real = True, nonegative = True)  \n",
    "r1,r2,r3 = symbols('r1 r2 r3') \n",
    "v1,v2,v3 = symbols('v1 v2 v3') \n",
    "\n",
    "A = Matrix([[1,-12,-14],[1,2,-3],[1,1,-2]])  \n",
    "\n",
    "r1, r2, r3 = A.eigenvects()[0][0]/A.eigenvects()[0][1], A.eigenvects()[1][0]/A.eigenvects()[1][1], A.eigenvects()[2][0]/A.eigenvects()[2][1]\n",
    "\n",
    "\n",
    "v1,v2,v3 = A.eigenvects()[0][2][0], A.eigenvects()[1][2][0], A.eigenvects()[2][2][0] \n",
    "\n",
    "lambda1, mu1 = re(r1),im(r1)\n",
    "lambda2, mu2 = re(r2),im(r2)\n",
    "lambda3, mu3 = re(r3),im(r3) \n",
    "\n",
    "x_sup1_sympy = v1*( exp(lambda1*t)*( cos(mu1*t) + I*sin(mu1*t) ))\n",
    "x_sup1_lambda = lambdify( t, x_sup1_sympy, 'numpy' ) \n",
    "\n",
    "x_sup2_sympy = v2*( exp(lambda2*t)*( cos(mu2*t) + I*sin(mu2*t) ) )\n",
    "\n",
    "\n",
    "u_sympy = re( x_sup2_sympy ) \n",
    "v_sympy = im( x_sup2_sympy ) \n",
    "\n",
    "u_lambda = lambdify( t, u_sympy, 'numpy' ) \n",
    "v_lambda = lambdify( t, v_sympy, 'numpy' ) \n",
    "\n",
    "c1, c2, c3 = symbols('c1 c2 c3') \n",
    "\n",
    "\n",
    "x_sympy = c1*x_sup1_sympy + c2*u_sympy + c3*v_sympy\n",
    "\n",
    "x_lambda = lambdify(t, x_sympy, 'numpy' ) # solución general de valor real\n",
    "\n",
    "# note que la salida es un arreglo dos dimendional de numpy\n",
    "x_sympy \n",
    "\n",
    "\n",
    "# Initial conditions:\n",
    "condi_1 = Eq(x_sympy[0].subs(t, 0), 4)  # x(0) = (4,6,-7)\n",
    "condi_2 = Eq(x_sympy[1].subs(t, 0), 6)  # x(0) = (4,6,-7)\n",
    "condi_3 = Eq(x_sympy[2].subs(t, 0), -7)  # x(0) = (4,6,-7)\n",
    "\n",
    "\n",
    "c1c2c3_solucion = solve([condi_1,condi_2,condi_3], (c1,c2, c3))\n",
    "\n",
    "\n",
    "x_pvi_sympy = x_sympy.subs(c1c2c3_solucion)\n",
    "\n",
    "x_pvi_lambda = lambdify(t,x_pvi_sympy, 'numpy') \n",
    "\n",
    "\n",
    "%matplotlib inline \n",
    "import matplotlib.pyplot as plt \n",
    "from mpl_toolkits.mplot3d import Axes3D\n",
    "\n",
    "subplot3d = plt.subplot(111, projection = '3d') \n",
    "\n",
    "t = np.linspace(0,1,100) \n",
    "\n",
    "xcord, ycord, zcord = x_pvi_lambda(t)[0,:,:][0], x_pvi_lambda(t)[1,:,:][0], x_pvi_lambda(t)[2,:,:][0]\n",
    "\n",
    "subplot3d.plot(xcord,ycord, zcord, color = 'blue') \n",
    "subplot3d.scatter([4],[6],[-7], color = 'red') # representación gráfica de la condición inicial \n",
    "\n",
    "plt.show() "
   ]
  },
  {
   "cell_type": "markdown",
   "id": "54b21d1b",
   "metadata": {
    "slideshow": {
     "slide_type": "slide"
    }
   },
   "source": [
    "## Trazado de la trayectoria de manera animada utilizando `interact()`"
   ]
  },
  {
   "cell_type": "code",
   "execution_count": 53,
   "id": "d845cdbf",
   "metadata": {
    "slideshow": {
     "slide_type": "slide"
    }
   },
   "outputs": [
    {
     "data": {
      "application/vnd.jupyter.widget-view+json": {
       "model_id": "400f4706f71b4951855dc66058a4a99a",
       "version_major": 2,
       "version_minor": 0
      },
      "text/plain": [
       "interactive(children=(FloatSlider(value=0.0, description='t', max=1.0, step=0.01), Output()), _dom_classes=('w…"
      ]
     },
     "metadata": {},
     "output_type": "display_data"
    }
   ],
   "source": [
    "import numpy as np \n",
    "from sympy import *\n",
    "\n",
    "\n",
    "t = symbols('t', real = True, nonegative = True)  \n",
    "\n",
    "r1, r2, r3 = symbols('r1 r2 r3') \n",
    "v1, v2, v3 = symbols('v1 v2 v3') \n",
    "\n",
    "A = Matrix([[1,-12,-14],[1,2,-3],[1,1,-2]])  \n",
    "\n",
    "r1, r2 = A.eigenvects()[0][0]/A.eigenvects()[0][1], A.eigenvects()[1][0]/A.eigenvects()[1][1]\n",
    "\n",
    "\n",
    "v1,v2 = A.eigenvects()[0][2][0], A.eigenvects()[1][2][0]\n",
    "\n",
    "\n",
    "\n",
    "\n",
    "if im(r1)==0:\n",
    "    x_sup1_sympy = v1*( exp(r1*t) )\n",
    "    x_sup1_lambda = lambdify( t, x_sup1_sympy, 'numpy' ) \n",
    "\n",
    "if im(r2) != 0:\n",
    "    lambda2, mu2 = re(r2),im(r2)\n",
    "    x_sup2_sympy = v2*( exp(lambda2*t)*( cos(mu2*t) + I*sin(mu2*t) ) )\n",
    "    u_sympy = re( x_sup2_sympy ) \n",
    "    v_sympy = im( x_sup2_sympy ) \n",
    "    u_lambda = lambdify( t, u_sympy, 'numpy' ) \n",
    "    v_lambda = lambdify( t, v_sympy, 'numpy' ) \n",
    "\n",
    "\n",
    "\n",
    "c1, c2, c3 = symbols('c1 c2 c3') \n",
    "\n",
    "\n",
    "x_sympy = c1*x_sup1_sympy + c2*u_sympy + c3*v_sympy\n",
    "\n",
    "x_lambda = lambdify(t, x_sympy, 'numpy' ) # solución general de valor real\n",
    "\n",
    "# note que la salida es un arreglo dos dimendional de numpy\n",
    "x_sympy \n",
    "\n",
    "\n",
    "# Initial conditions:\n",
    "condi_1 = Eq(x_sympy[0].subs(t, 0), 4)  # x(0) = (4,6,-7)\n",
    "condi_2 = Eq(x_sympy[1].subs(t, 0), 6)  # x(0) = (4,6,-7)\n",
    "condi_3 = Eq(x_sympy[2].subs(t, 0), -7)  # x(0) = (4,6,-7)\n",
    "\n",
    "\n",
    "c1c2c3_solucion = solve([condi_1,condi_2,condi_3], (c1,c2, c3))\n",
    "\n",
    "\n",
    "x_pvi_sympy = x_sympy.subs(c1c2c3_solucion)\n",
    "\n",
    "x_pvi_lambda = lambdify(t,x_pvi_sympy, 'numpy') \n",
    "\n",
    "\n",
    "%matplotlib inline \n",
    "import matplotlib.pyplot as plt \n",
    "from mpl_toolkits.mplot3d import Axes3D\n",
    "\n",
    "from ipywidgets import interact \n",
    "\n",
    "\n",
    "def particula(t = 0): \n",
    "    ax = plt.subplot(111, projection = '3d') \n",
    "    xcord, ycord, zcord = x_pvi_lambda(t)[0,:][0], x_pvi_lambda(t)[1,:][0], x_pvi_lambda(t)[2,:][0]\n",
    "    ax.scatter(xcord,ycord, zcord, color = 'blue', label = 'Partícula azul en movimiento') \n",
    "    ax.scatter([4],[6],[-7], color = 'red')     # representación gráfica de la condición inicial \n",
    "    ax.set_xlim([-60,70])\n",
    "    ax.set_ylim([-60,70])\n",
    "    ax.set_zlim(-60,70)\n",
    "    ax.set_xlabel(\"X\")\n",
    "    ax.set_ylabel(\"Y\")\n",
    "    ax.set_zlabel(\"Z\")\n",
    "    ax.legend() \n",
    "\n",
    "interact(particula, t = (0,1,0.01))\n",
    "\n",
    "plt.show() "
   ]
  },
  {
   "cell_type": "markdown",
   "id": "b1578fb7",
   "metadata": {
    "slideshow": {
     "slide_type": "slide"
    }
   },
   "source": [
    "Por lo tanto, solucionar este problema se puede interpretar como encontrar el conjunto de ecuaciones paramétricas de una curva en el espacio que describe la trayectoria seguida por una partícula que comienza su movimiento en la posición $(4,6,-7)$. "
   ]
  },
  {
   "cell_type": "markdown",
   "id": "4a29cbd6",
   "metadata": {
    "slideshow": {
     "slide_type": "slide"
    }
   },
   "source": [
    "## Diseño del plan de solución: "
   ]
  },
  {
   "cell_type": "markdown",
   "id": "9d13c673",
   "metadata": {
    "slideshow": {
     "slide_type": "slide"
    }
   },
   "source": [
    "1. Resolver la ED $x' = Ax$:\n",
    "   1. Solucione $det(A-rI) = 0$ para encontrar $r_{1}, r_{2}, r_{3} \\in \\mathbb{C}$. Donde estamos denotando con $r_{1}$   \n",
    "      al eigenvalor real que encuentre y con $r_{2}$ y $r_{3}$ a los eigenvalores complejops conjugados que encuentre. \n",
    "   2. Resuelva para $\\xi^{(1)} \\in \\mathbb{R}^{3}$ la ecuación $det(A - r_{1}I)\\xi^{(1)} = 0$ para determinar la función solución de   \n",
    "      valor real:\n",
    "       $$ x^{(1)} = \\xi^{(1)}e^{r_{1}t} $$\n",
    "   "
   ]
  },
  {
   "cell_type": "markdown",
   "id": "42f956f8",
   "metadata": {
    "slideshow": {
     "slide_type": "slide"
    }
   },
   "source": [
    "## Implementemos el plan de solución: "
   ]
  },
  {
   "cell_type": "markdown",
   "id": "dc1b9f5e",
   "metadata": {
    "slideshow": {
     "slide_type": "slide"
    }
   },
   "source": [
    "Supongamos que la forma de la solución del problema $x' = Ax$ dado es $x = \\xi e^{rt}$. "
   ]
  },
  {
   "cell_type": "markdown",
   "id": "baab67f3",
   "metadata": {
    "slideshow": {
     "slide_type": "slide"
    }
   },
   "source": [
    "Sustituir esta hipótesis en la ecuación $x' = Ax$ nos lleva a solucionar el sistema algebraico homogéneo\n",
    "\n",
    "$$ (A - rI)\\xi = 0 $$\n"
   ]
  },
  {
   "cell_type": "markdown",
   "id": "56821b9b",
   "metadata": {
    "slideshow": {
     "slide_type": "slide"
    }
   },
   "source": [
    "y como buscamos soluciones no nulas para el sistema $x' = Ax$, entonces, requerimos el sistema algebraico homogéneo anterior tenga infinitas soluciones, lo que se logra hallando $r$ ta que el determinante de la matriz de coeficientes $A - rI$ sea nulo"
   ]
  },
  {
   "cell_type": "markdown",
   "id": "c70c30ea",
   "metadata": {
    "slideshow": {
     "slide_type": "slide"
    }
   },
   "source": [
    "Resolvamos pues la ecuación algebraica \n",
    "\n",
    "$$ det(A - rI) = 0 $$\n",
    "\n",
    "para hallar los $r$ de la solución $x = \\xi e^{rt}$. \n"
   ]
  },
  {
   "cell_type": "markdown",
   "id": "4d1661a1",
   "metadata": {
    "slideshow": {
     "slide_type": "slide"
    }
   },
   "source": [
    "\\begin{align*}\n",
    "det(A - rI) = 0 & \\Rightarrow \\left|\\begin{matrix}1-r&-12&-14\\\\1&2-r&-3\\\\1&1&-2-r\\end{matrix}   \\right| = 0 \n",
    "\\end{align*}"
   ]
  },
  {
   "cell_type": "markdown",
   "id": "604727dd",
   "metadata": {
    "slideshow": {
     "slide_type": "slide"
    }
   },
   "source": [
    "$$ +(1)\\left| \\begin{matrix} -12 & -14 \\\\ 2-r & -3 \\end{matrix} \\right|  - (1)\\left| \\begin{matrix} 1-r & 1 \\\\ -3 & -3 \\end{matrix} \\right| +  (-2-r)\\left| \\begin{matrix} 1-r & -12 \\\\ 1 & 2-r \\end{matrix} \\right| = 0 $$"
   ]
  },
  {
   "cell_type": "markdown",
   "id": "bf07d09d",
   "metadata": {
    "slideshow": {
     "slide_type": "slide"
    }
   },
   "source": [
    "$$ (36 + 14(2-r)) - ((-3)(1-r) + 3) - (2+r)((1-r)(2-r)+ 12) = 0 $$"
   ]
  },
  {
   "cell_type": "markdown",
   "id": "5c5bde41",
   "metadata": {
    "slideshow": {
     "slide_type": "slide"
    }
   },
   "source": [
    "$$ (36 + 28 - 14r) - (-3+3r + 3) - (2+r)(2 - 3r + r^{2} + 12) = 0 $$"
   ]
  },
  {
   "cell_type": "markdown",
   "id": "2f11cf57",
   "metadata": {
    "slideshow": {
     "slide_type": "slide"
    }
   },
   "source": [
    "$$ () - () - () = 0 $$"
   ]
  },
  {
   "cell_type": "markdown",
   "id": "4c421f01",
   "metadata": {
    "slideshow": {
     "slide_type": "slide"
    }
   },
   "source": []
  },
  {
   "cell_type": "code",
   "execution_count": null,
   "id": "cb4370b2",
   "metadata": {
    "slideshow": {
     "slide_type": "slide"
    }
   },
   "outputs": [],
   "source": []
  },
  {
   "cell_type": "code",
   "execution_count": null,
   "id": "bf2072c8",
   "metadata": {
    "slideshow": {
     "slide_type": "slide"
    }
   },
   "outputs": [],
   "source": []
  },
  {
   "cell_type": "markdown",
   "id": "f3c8e7bd",
   "metadata": {
    "slideshow": {
     "slide_type": "slide"
    }
   },
   "source": []
  },
  {
   "cell_type": "markdown",
   "id": "570448e0",
   "metadata": {
    "slideshow": {
     "slide_type": "slide"
    }
   },
   "source": [
    "## Punto 2\n",
    "\n",
    "1. **(15 puntos) Encontrar la solución**  \n",
    "\n",
    "$$ x' = \\begin{pmatrix}6&-1\\\\5&4\\end{pmatrix}x, \\ \\ \\ x(0) = \\begin{pmatrix}-2\\\\8\\end{pmatrix} $$\n",
    "\n",
    "2. **(10 puntos) Verifique** \n",
    "\n",
    "No puede omitir ningún paso de solución y de cálculo algoritmicos y debe describir verbalmente su procedimiento y justificar los pasos esenciales. "
   ]
  },
  {
   "cell_type": "code",
   "execution_count": null,
   "id": "724ce99b",
   "metadata": {
    "slideshow": {
     "slide_type": "slide"
    }
   },
   "outputs": [],
   "source": [
    "from sympy import *\n",
    "A = Matrix([[1,-12,-14],[1,2,-3],[1,1,-2]])  \n",
    "r_vec1, r_vec2, r_vec3 = A.eigenvects() \n",
    "r_vec1  "
   ]
  },
  {
   "cell_type": "code",
   "execution_count": null,
   "id": "bc4bb098",
   "metadata": {
    "slideshow": {
     "slide_type": "slide"
    }
   },
   "outputs": [],
   "source": [
    "import numpy as np \n",
    "from sympy import *\n",
    "t = symbols('t') \n",
    "A = Matrix([[1,-12,-14],[1,2,-3],[1,1,-2]])  \n",
    "r1,r2,r3 = A.eigenvals().keys()  # obtendrás un diccionario \n",
    "v1,v2,v3 = A.eigenvects()[0][2][0],A.eigenvects()[1][2][0],A.eigenvects()[2][2][0] \n",
    "lambda1, mu1 = re(r1),im(r1)\n",
    "lambda2, mu2 = re(r2),re(r2)\n",
    "lambda3, mu3 = re(r3),im(r3) \n",
    "x_sup1 = lambdify(t,v1*(exp(lambda1*t)*cos(mu1*t) + 1*I*sin(mu1*t))) \n",
    "u = lambdify(t,re(v2*(exp(lambda2*t)*cos(mu2*t) + 1*I*sin(mu2*t)))) \n",
    "v = lambdify(t,im(v2*(exp(lambda2*t)*cos(mu2*t) + 1*I*sin(mu2*t))))  \n",
    "c1,c2,c3 = 1,1,1\n",
    "x = lambda t:c1*x_sup1(t) + c2*u(t) + c3*v(t) "
   ]
  },
  {
   "cell_type": "code",
   "execution_count": null,
   "id": "d5e92e08",
   "metadata": {
    "slideshow": {
     "slide_type": "slide"
    }
   },
   "outputs": [],
   "source": [
    "from sympy import *\n",
    "A = Matrix(A)\n",
    "A.eigenvects() "
   ]
  },
  {
   "cell_type": "markdown",
   "id": "3e78a77d",
   "metadata": {
    "slideshow": {
     "slide_type": "slide"
    }
   },
   "source": [
    "## Punto 3\n",
    "\n",
    "1. **(15 puntos) Encontrar la solución**  \n",
    "\n",
    "$$ x' = \\begin{pmatrix}4&0&1\\\\0&6&0\\\\-4&0&4\\end{pmatrix}x $$\n",
    "\n",
    "2. **(10 puntos) Verifique** \n",
    "\n",
    "No puede omitir ningún paso de solución y de cálculo algoritmicos y debe describir verbalmente su procedimiento y justificar los pasos esenciales. "
   ]
  },
  {
   "cell_type": "code",
   "execution_count": null,
   "id": "1881312d",
   "metadata": {
    "slideshow": {
     "slide_type": "slide"
    }
   },
   "outputs": [],
   "source": [
    "from sympy import *\n",
    "A = Matrix([[1,-12,-14],[1,2,-3],[1,1,-2]])  \n",
    "r_vec1, r_vec2, r_vec3 = A.eigenvects() \n",
    "r_vec1  "
   ]
  },
  {
   "cell_type": "code",
   "execution_count": null,
   "id": "79c85cdb",
   "metadata": {
    "slideshow": {
     "slide_type": "slide"
    }
   },
   "outputs": [],
   "source": [
    "import numpy as np \n",
    "from sympy import *\n",
    "t = symbols('t') \n",
    "A = Matrix([[1,-12,-14],[1,2,-3],[1,1,-2]])  \n",
    "r1,r2,r3 = A.eigenvals().keys()  # obtendrás un diccionario \n",
    "v1,v2,v3 = A.eigenvects()[0][2][0],A.eigenvects()[1][2][0],A.eigenvects()[2][2][0] \n",
    "lambda1, mu1 = re(r1),im(r1)\n",
    "lambda2, mu2 = re(r2),re(r2)\n",
    "lambda3, mu3 = re(r3),im(r3) \n",
    "x_sup1 = lambdify(t,v1*(exp(lambda1*t)*cos(mu1*t) + 1*I*sin(mu1*t))) \n",
    "u = lambdify(t,re(v2*(exp(lambda2*t)*cos(mu2*t) + 1*I*sin(mu2*t)))) \n",
    "v = lambdify(t,im(v2*(exp(lambda2*t)*cos(mu2*t) + 1*I*sin(mu2*t))))  \n",
    "c1,c2,c3 = 1,1,1\n",
    "x = lambda t:c1*x_sup1(t) + c2*u(t) + c3*v(t) "
   ]
  },
  {
   "cell_type": "code",
   "execution_count": null,
   "id": "aafc071a",
   "metadata": {
    "slideshow": {
     "slide_type": "slide"
    }
   },
   "outputs": [],
   "source": []
  }
 ],
 "metadata": {
  "celltoolbar": "Slideshow",
  "kernelspec": {
   "display_name": "Python 3",
   "language": "python",
   "name": "python3"
  },
  "language_info": {
   "codemirror_mode": {
    "name": "ipython",
    "version": 3
   },
   "file_extension": ".py",
   "mimetype": "text/x-python",
   "name": "python",
   "nbconvert_exporter": "python",
   "pygments_lexer": "ipython3",
   "version": "3.8.8"
  },
  "latex_envs": {
   "LaTeX_envs_menu_present": true,
   "autoclose": false,
   "autocomplete": false,
   "bibliofile": "biblio.bib",
   "cite_by": "apalike",
   "current_citInitial": 1,
   "eqLabelWithNumbers": true,
   "eqNumInitial": 1,
   "hotkeys": {
    "equation": "Ctrl-E",
    "itemize": "Ctrl-I"
   },
   "labels_anchors": false,
   "latex_user_defs": false,
   "report_style_numbering": false,
   "user_envs_cfg": false
  },
  "rise": {
   "enable_chalkboard": true,
   "theme": "sky",
   "transition": "sky"
  }
 },
 "nbformat": 4,
 "nbformat_minor": 5
}
