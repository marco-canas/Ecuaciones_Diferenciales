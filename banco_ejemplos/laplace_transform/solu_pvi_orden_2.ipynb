{
 "cells": [
  {
   "cell_type": "markdown",
   "id": "9ec6c9e2",
   "metadata": {
    "slideshow": {
     "slide_type": "slide"
    }
   },
   "source": [
    "<table align=\"left\">\n",
    "  <td>\n",
    "    <a href=\"https://colab.research.google.com/github/marco-canas/Ecuaciones_Diferenciales/blob/main/banco_ejemplos/laplace_transform/solu_pvi_orden_2.ipynb\" target=\"_parent\"><img src=\"https://colab.research.google.com/assets/colab-badge.svg\" alt=\"Open In Colab\"/></a>\n",
    "  </td>\n",
    "  <td>\n",
    "    <a target=\"_blank\" href=\"https://kaggle.com/kernels/welcome?src=https://github.com/marco-canas/Ecuaciones_Diferenciales/blob/main/banco_ejemplos/laplace_transform/solu_pvi_orden_2.ipynb\"><img src=\"https://kaggle.com/static/images/open-in-kaggle.svg\" /></a>\n",
    "  </td>\n",
    "</table>"
   ]
  },
  {
   "cell_type": "markdown",
   "id": "9214fae5",
   "metadata": {
    "slideshow": {
     "slide_type": "slide"
    }
   },
   "source": [
    "# Ejemplo 1 sobre solución de un PVI de segundo orden utilizando transformada de Laplace"
   ]
  },
  {
   "cell_type": "markdown",
   "id": "2867c06d",
   "metadata": {
    "slideshow": {
     "slide_type": "slide"
    }
   },
   "source": [
    "### [Video de apoyo](https://www.youtube.com/watch?v=AEVHspA5YKA)"
   ]
  },
  {
   "cell_type": "markdown",
   "id": "eb998756",
   "metadata": {
    "slideshow": {
     "slide_type": "slide"
    }
   },
   "source": [
    "## Planteamiento del problema"
   ]
  },
  {
   "cell_type": "markdown",
   "id": "821e6011",
   "metadata": {
    "slideshow": {
     "slide_type": "slide"
    }
   },
   "source": [
    "Resuelva para $y(t)$ en $[0 ,\\infty)$\n",
    "\n",
    "$$ y'' - 3y' + 2y = e^{-4t}, \\ \\ \\ y(0) = 1, \\ \\ y'(0) = 5,  $$\n",
    "\n",
    "utilizando el concepto de transformada de Laplace. \n"
   ]
  },
  {
   "cell_type": "markdown",
   "id": "c5861f2e",
   "metadata": {
    "slideshow": {
     "slide_type": "slide"
    }
   },
   "source": [
    "Empecemos **resolviendo analíticamente:** "
   ]
  },
  {
   "cell_type": "markdown",
   "id": "49e581a7",
   "metadata": {
    "slideshow": {
     "slide_type": "slide"
    }
   },
   "source": [
    "Transformemos la ED aplicando transformada de Laplace a cada lado de la misma. Se toma la suma de las transformadas de cada término. Utilizamos para ello las ecuaciones:\n",
    "\n",
    "\n",
    "$$ L\\{ f'(t) \\} = sF(s) - f(0), $$\n",
    "\n",
    "$$ L\\{f''(t)\\} = s^{2}F(s) - sf(0) - f'(0), $$"
   ]
  },
  {
   "cell_type": "markdown",
   "id": "f236010c",
   "metadata": {
    "slideshow": {
     "slide_type": "slide"
    }
   },
   "source": [
    "las condiciones iniciales dadas, la fórmula \n",
    "\n",
    "$$ e^{at} = L^{-1}\\left\\{ \\frac{1}{s-a} \\right\\} $$\n",
    "\n",
    "y luego se resuelve la ecuación obtenida para $Y(s)$:"
   ]
  },
  {
   "cell_type": "markdown",
   "id": "49861a27",
   "metadata": {
    "slideshow": {
     "slide_type": "slide"
    }
   },
   "source": [
    "$$ y'' - 3y' + 2y = e^{-4t} $$\n",
    "$$ \\nonumber $$\n",
    "$$ L\\left\\{ \\frac{d^{2}y}{dt^{2}} \\right\\}  - 3L\\left\\{ \\frac{dy}{dt} \\right\\} + 2L\\left\\{ y \\right\\} = L\\left\\{ e^{-4t} \\right\\} $$"
   ]
  },
  {
   "cell_type": "markdown",
   "id": "97ca7efa",
   "metadata": {
    "slideshow": {
     "slide_type": "slide"
    }
   },
   "source": [
    "Así obtenemos la ecuación algebraica en la variable $Y$:  \n",
    "\n",
    "\n",
    "$$ s^{2}Y(s) -sy(0) -y'(0) -3(sY(s) - y(0)) + 2Y(s) = \\frac{1}{s + 4} $$"
   ]
  },
  {
   "cell_type": "markdown",
   "id": "5128f878",
   "metadata": {
    "slideshow": {
     "slide_type": "slide"
    }
   },
   "source": [
    "Al sustituir las condiciones iniciales obtenemos:  \n",
    "\n",
    "$$ s^{2}Y(s) - s - 5 -3(sY(s) - 1) + 2Y(s) = \\frac{1}{s + 4} $$"
   ]
  },
  {
   "cell_type": "markdown",
   "id": "40a35574",
   "metadata": {
    "slideshow": {
     "slide_type": "slide"
    }
   },
   "source": [
    "$$ (s^{2} - 3s + 2)Y(s) = s + 2 + \\frac{1}{s+4}   $$"
   ]
  },
  {
   "cell_type": "markdown",
   "id": "f256e075",
   "metadata": {
    "slideshow": {
     "slide_type": "slide"
    }
   },
   "source": [
    "$$ Y(s) = \\frac{s+2}{s^{2} - 3s + 2} + \\frac{1}{(s^{2} - 3s + 2)(s + 4)} $$"
   ]
  },
  {
   "cell_type": "markdown",
   "id": "53127409",
   "metadata": {
    "slideshow": {
     "slide_type": "slide"
    }
   },
   "source": [
    "$$ Y(s) = \\frac{(s+2)(s+4)}{(s^{2} - 3s + 2)(s+4)} + \\frac{1}{(s^{2} - 3s + 2)(s + 4)} $$"
   ]
  },
  {
   "cell_type": "markdown",
   "id": "33e429c1",
   "metadata": {
    "slideshow": {
     "slide_type": "slide"
    }
   },
   "source": [
    "$$ Y(s) = \\frac{s^{2} + 6s + 8}{(s-2)(s-1)(s+4)} + \\frac{1}{(s-2)(s-1)(s+4)} $$"
   ]
  },
  {
   "cell_type": "markdown",
   "id": "7b547bba",
   "metadata": {
    "slideshow": {
     "slide_type": "slide"
    }
   },
   "source": [
    "$$ Y(s) = \\frac{s^{2} + 6s + 9}{(s-2)(s-1)(s+4)} $$"
   ]
  },
  {
   "cell_type": "markdown",
   "id": "bcdf9dcd",
   "metadata": {
    "slideshow": {
     "slide_type": "slide"
    }
   },
   "source": [
    "Realicemos la descomposición en fracciones parciales de la fracción propia del lado izquierdo de la ecuación anterior: "
   ]
  },
  {
   "cell_type": "markdown",
   "id": "9c8851a4",
   "metadata": {
    "slideshow": {
     "slide_type": "slide"
    }
   },
   "source": [
    "\n",
    "$$ \\frac{s^{2} + 6s + 9}{(s-2)(s-1)(s+4)} = \\frac{A}{s-2} + \\frac{B}{s-1} + \\frac{C}{s+4} $$"
   ]
  },
  {
   "cell_type": "markdown",
   "id": "b8e128c2",
   "metadata": {
    "slideshow": {
     "slide_type": "slide"
    }
   },
   "source": [
    "$$ \\frac{s^{2} + 6s + 9}{(s-2)(s-1)(s+4)} = \\frac{ A(s-1)(s+4) + B(s-2)(s+4) + C(s-2)(s-1) }{(s-2)(s-1)(s+4)} $$"
   ]
  },
  {
   "cell_type": "markdown",
   "id": "6101acfb",
   "metadata": {
    "slideshow": {
     "slide_type": "slide"
    }
   },
   "source": [
    "\\begin{equation}\\label{eq:igual_numeradores}\n",
    "s^{2} + 6s + 9 = A(s-1)(s+4) + B(s-2)(s+4) + C(s-2)(s-1)\n",
    "\\end{equation}"
   ]
  },
  {
   "cell_type": "markdown",
   "id": "64334cbb",
   "metadata": {
    "slideshow": {
     "slide_type": "slide"
    }
   },
   "source": [
    "Si sustituimos $s = 2$ en la ecuación anterior obtenemos \n",
    "\n",
    "$$ 2^{2} + 6(2) + 9 = A(2-1)(2+4) + B(2-2)(2+4) + C(2-2)(2-1) $$\n",
    "\n",
    "$$ 4 + 12 + 9 = 6A  \\ \\ \\ \\ \\Rightarrow \\ \\ \\  A = \\frac{25}{6} $$\n"
   ]
  },
  {
   "cell_type": "markdown",
   "id": "bfe64509",
   "metadata": {
    "slideshow": {
     "slide_type": "slide"
    }
   },
   "source": [
    "Mientras que si sustituimos $s = 1$ en la misma ecuación \\eqref{eq:igual_numeradores} obtenemos la ecuación lineal en la variable $B$:\n",
    "\n",
    "\\begin{align*}\n",
    "s^{2} + 6s + 9 = A(s-1)(s+4) + B(s-2)(s+4) + C(s-2)(s-1) \\ \\ \\ & \\Rightarrow 1 + 6 + 9 = B(-1)(5) \\\\\n",
    "                                                         & \\Rightarrow 16 = -5B \\\\\n",
    "                                                         & \\Rightarrow B = -\\frac{16}{5}\n",
    "\\end{align*}\n"
   ]
  },
  {
   "cell_type": "markdown",
   "id": "5048df08",
   "metadata": {
    "slideshow": {
     "slide_type": "slide"
    }
   },
   "source": [
    "Y si finalmente sustituimos $s$ por $-4$ en la ecuación eqref{eq:igual_numeradores} obtenemos la ecuación lineal en la variable $C$:\n",
    "\n",
    "\\begin{align*}\n",
    "s^{2} + 6s + 9 = A(s-1)(s+4) + B(s-2)(s+4) + C(s-2)(s-1) \\ \\ \\ & \\Rightarrow (-4)^{2} + 6(-4) + 9 = C(-4-2)(-4-1) \\\\\n",
    "                                                               & \\Rightarrow  16 - 24 + 9 = C(-6)(-5) \\\\\n",
    "                                                               & \\Rightarrow  1 = 30C \\\\\n",
    "                                                               & \\Rightarrow C = \\frac{1}{30}\n",
    "\\end{align*}\n"
   ]
  },
  {
   "cell_type": "markdown",
   "id": "66750779",
   "metadata": {
    "slideshow": {
     "slide_type": "slide"
    }
   },
   "source": [
    "Por tanto, \n",
    "\n",
    "\\begin{align*}\n",
    "\\frac{s^{2} + 6s + 9}{(s-2)(s-1)(s+4)} = \\frac{A}{s-2} + \\frac{B}{s-1} + \\frac{C}{s+4} \\ \\ \\ &  \\Rightarrow \\ \\ \\  \\frac{s^{2} + 6s + 9}{(s-2)(s-1)(s+4)} = \\frac{25}{6(s-2)} - \\frac{16}{5(s-1)} + \\frac{1}{30(s+4)}\n",
    "\\end{align*}"
   ]
  },
  {
   "cell_type": "markdown",
   "id": "fbdd32a2",
   "metadata": {
    "slideshow": {
     "slide_type": "slide"
    }
   },
   "source": [
    "de donde \n",
    "\n",
    "$$ Y(s) = \\frac{s^{2} + 6s + 9}{(s-2)(s-1)(s+4)} = \\frac{25}{6(s-2)} - \\frac{16}{5(s-1)} + \\frac{1}{30(s+4)} $$\n"
   ]
  },
  {
   "cell_type": "markdown",
   "id": "d4235c2c",
   "metadata": {
    "slideshow": {
     "slide_type": "slide"
    }
   },
   "source": [
    "$$ y(t) = \\frac{25}{6}L^{-1} \\left\\{ \\frac{1}{s-2} \\right\\}  - \\frac{16}{5} L^{-1} \\left\\{ \\frac{1}{s-1} \\right\\} + \\frac{1}{30}L^{-1} \\left\\{ \\frac{1}{s+4} \\right\\} $$"
   ]
  },
  {
   "cell_type": "markdown",
   "id": "c7be18d5",
   "metadata": {
    "slideshow": {
     "slide_type": "slide"
    }
   },
   "source": [
    "$$ y(t) = \\frac{25}{6} e^{2t} - \\frac{16}{5} e^{t} + \\frac{1}{30}e^{-4t}, \\ \\ \\ t \\geq 0  $$"
   ]
  },
  {
   "cell_type": "markdown",
   "id": "9b87d0b3",
   "metadata": {
    "slideshow": {
     "slide_type": "slide"
    }
   },
   "source": [
    "En los ejemplos 4 y 5, se ilustra el procedimiento básico de cómo usar la transformada de Laplace para resolver un problema lineal con valores iniciales, pero podría parecer que estos ejemplos demuestran un método que no es mucho mejor que el aplicado a los problemas descritos en las secciones 2.3 y 4.3 a 4.6. "
   ]
  },
  {
   "cell_type": "markdown",
   "id": "ba0adda5",
   "metadata": {
    "slideshow": {
     "slide_type": "slide"
    }
   },
   "source": [
    "No saque conclusiones negativas de sólo dos ejemplos. "
   ]
  },
  {
   "cell_type": "markdown",
   "id": "e76a3a91",
   "metadata": {
    "slideshow": {
     "slide_type": "slide"
    }
   },
   "source": [
    "Sí, hay una gran cantidad de álgebra inherente al uso de la transformada de Laplace, pero observe que no se tiene que usar la variación de parámetros o preocuparse acerca de los casos y el álgebra en el método de coeficientes indeterminados. "
   ]
  },
  {
   "cell_type": "markdown",
   "id": "7c5e6243",
   "metadata": {
    "slideshow": {
     "slide_type": "slide"
    }
   },
   "source": [
    "Además, puesto que el método incorpora las condiciones iniciales prescritas directamente en la solución, no se requiere la operación separada de aplicar las condiciones iniciales a la solución general  \n",
    "\n",
    "$$ y = c_{1}y_{1} + c_{2}y_{2} + \\cdots +  c_{n}y_{n} + y_{p} $$\n",
    "\n",
    "de la ED para determinar constantes específi cas en una solución particular del PVI."
   ]
  },
  {
   "cell_type": "markdown",
   "id": "d5b50152",
   "metadata": {
    "slideshow": {
     "slide_type": "slide"
    }
   },
   "source": [
    " \n",
    "La transformada de Laplace tiene muchas propiedades operacionales. "
   ]
  },
  {
   "cell_type": "markdown",
   "id": "9caa8ea8",
   "metadata": {
    "slideshow": {
     "slide_type": "slide"
    }
   },
   "source": [
    "En las secciones que siguen se examinan algunas de estas propiedades y se ve cómo permiten resolver problemas de mayor complejidad."
   ]
  },
  {
   "cell_type": "markdown",
   "id": "f1573a14",
   "metadata": {
    "slideshow": {
     "slide_type": "slide"
    }
   },
   "source": [
    "## Solución utilizando calculadora numérica y simbólica"
   ]
  },
  {
   "cell_type": "code",
   "execution_count": 1,
   "id": "3a8c45c0",
   "metadata": {
    "slideshow": {
     "slide_type": "slide"
    }
   },
   "outputs": [],
   "source": [
    "from sympy import *\n",
    "init_printing() \n",
    "t = symbols('t', real = True, nonegative = True)\n",
    "s = symbols('s', real = True, positive = True)  \n",
    "y = symbols('y')  \n",
    "y = Function('y')(t)\n",
    "Y = Function('Y')(s) \n",
    "y0, y_p0 = 1,5      # condiciones iniciales "
   ]
  },
  {
   "cell_type": "code",
   "execution_count": 2,
   "id": "a6799f56",
   "metadata": {
    "slideshow": {
     "slide_type": "slide"
    }
   },
   "outputs": [
    {
     "data": {
      "image/png": "[encoded data removed]",
      "text/latex": [
       "$\\displaystyle 2 y{\\left(t \\right)} - 3 \\frac{d}{d t} y{\\left(t \\right)} + \\frac{d^{2}}{d t^{2}} y{\\left(t \\right)} = e^{- 4 t}$"
      ],
      "text/plain": [
       "                        2              \n",
       "           d           d           -4⋅t\n",
       "2⋅y(t) - 3⋅──(y(t)) + ───(y(t)) = ℯ    \n",
       "           dt           2              \n",
       "                      dt               "
      ]
     },
     "execution_count": 2,
     "metadata": {},
     "output_type": "execute_result"
    }
   ],
   "source": [
    "def ed(a,b,c,g):\n",
    "    \"\"\"\n",
    "    a,b,c son los coeficientes constantes de la ED dada ay'' + by' + cy = g(t)\n",
    "    y donde g es una función de t (exponencial, trigonométrica, \n",
    "    hiperbólica, o una potencia de t)\n",
    "    \"\"\"\n",
    "    lista_1 = Matrix([diff(y,t,2), diff(y,t), y])\n",
    "    lista_2 = Matrix([a,b,c])\n",
    "    lado_izq = lista_1.dot(lista_2)\n",
    "    return Eq(lado_izq, g) \n",
    "\n",
    "ed(1,-3,2,exp(-4*t))  "
   ]
  },
  {
   "cell_type": "code",
   "execution_count": 3,
   "id": "23681cc4",
   "metadata": {
    "slideshow": {
     "slide_type": "slide"
    }
   },
   "outputs": [],
   "source": [
    "def L(f):\n",
    "    return laplace_transform(f,t,s)\n",
    "\n",
    "def inv_L(F):\n",
    "    return inverse_laplace_transform(F,s,t) "
   ]
  },
  {
   "cell_type": "code",
   "execution_count": 4,
   "id": "7f536d6b",
   "metadata": {
    "slideshow": {
     "slide_type": "slide"
    }
   },
   "outputs": [
    {
     "data": {
      "image/png": "[encoded data removed]",
      "text/latex": [
       "$\\displaystyle s^{2} Y{\\left(s \\right)} - 3 s Y{\\left(s \\right)} - s + 2 Y{\\left(s \\right)} - 2$"
      ],
      "text/plain": [
       " 2                                 \n",
       "s ⋅Y(s) - 3⋅s⋅Y(s) - s + 2⋅Y(s) - 2"
      ]
     },
     "execution_count": 4,
     "metadata": {},
     "output_type": "execute_result"
    }
   ],
   "source": [
    "def lado_izq_ed_trans(a,b,c):\n",
    "    lista_1 = Matrix([(s**2*Y - s*y0 - y_p0), (s*Y - y0), Y])\n",
    "    lista_2 = Matrix([a,b,c]) \n",
    "    return lista_1.dot(lista_2)\n",
    "\n",
    "lado_izq_ed_trans(1,-3,2) "
   ]
  },
  {
   "cell_type": "code",
   "execution_count": 5,
   "id": "d1f0379f",
   "metadata": {
    "slideshow": {
     "slide_type": "slide"
    }
   },
   "outputs": [],
   "source": [
    "lado_der_ed_trans = L(exp(-4*t))\n",
    "lado_der_ed_trans = tuple(lado_der_ed_trans)[0]"
   ]
  },
  {
   "cell_type": "code",
   "execution_count": 6,
   "id": "37699920",
   "metadata": {
    "scrolled": true,
    "slideshow": {
     "slide_type": "slide"
    }
   },
   "outputs": [],
   "source": [
    "eq_transformada = Eq(lado_izq_ed_trans(1,-3,2), lado_der_ed_trans)"
   ]
  },
  {
   "cell_type": "code",
   "execution_count": 7,
   "id": "15ae2775",
   "metadata": {
    "slideshow": {
     "slide_type": "slide"
    }
   },
   "outputs": [
    {
     "data": {
      "image/png": "[encoded data removed]",
      "text/latex": [
       "$\\displaystyle s^{2} Y{\\left(s \\right)} - 3 s Y{\\left(s \\right)} - s + 2 Y{\\left(s \\right)} - 2 = \\frac{1}{s + 4}$"
      ],
      "text/plain": [
       " 2                                      1  \n",
       "s ⋅Y(s) - 3⋅s⋅Y(s) - s + 2⋅Y(s) - 2 = ─────\n",
       "                                      s + 4"
      ]
     },
     "execution_count": 7,
     "metadata": {},
     "output_type": "execute_result"
    }
   ],
   "source": [
    "eq_transformada "
   ]
  },
  {
   "cell_type": "code",
   "execution_count": 8,
   "id": "c4d0dbf9",
   "metadata": {
    "slideshow": {
     "slide_type": "slide"
    }
   },
   "outputs": [
    {
     "data": {
      "image/png": "[encoded data removed]",
      "text/latex": [
       "$\\displaystyle \\left[ \\frac{s^{2} + 6 s + 9}{s^{3} + s^{2} - 10 s + 8}\\right]$"
      ],
      "text/plain": [
       "⎡    2             ⎤\n",
       "⎢   s  + 6⋅s + 9   ⎥\n",
       "⎢──────────────────⎥\n",
       "⎢ 3    2           ⎥\n",
       "⎣s  + s  - 10⋅s + 8⎦"
      ]
     },
     "execution_count": 8,
     "metadata": {},
     "output_type": "execute_result"
    }
   ],
   "source": [
    "Y = solve(eq_transformada, Y)\n",
    "Y "
   ]
  },
  {
   "cell_type": "code",
   "execution_count": 9,
   "id": "6f5ee800",
   "metadata": {
    "slideshow": {
     "slide_type": "slide"
    }
   },
   "outputs": [
    {
     "data": {
      "image/png": "[encoded data removed]",
      "text/latex": [
       "$\\displaystyle \\frac{s^{2} + 6 s + 9}{s^{3} + s^{2} - 10 s + 8}$"
      ],
      "text/plain": [
       "    2             \n",
       "   s  + 6⋅s + 9   \n",
       "──────────────────\n",
       " 3    2           \n",
       "s  + s  - 10⋅s + 8"
      ]
     },
     "execution_count": 9,
     "metadata": {},
     "output_type": "execute_result"
    }
   ],
   "source": [
    "Y = Y[0]\n",
    "Y "
   ]
  },
  {
   "cell_type": "code",
   "execution_count": 11,
   "id": "45e8f861",
   "metadata": {
    "slideshow": {
     "slide_type": "slide"
    }
   },
   "outputs": [
    {
     "data": {
      "image/png": "[encoded data removed]",
      "text/latex": [
       "$\\displaystyle \\frac{1}{30 \\left(s + 4\\right)} - \\frac{16}{5 \\left(s - 1\\right)} + \\frac{25}{6 \\left(s - 2\\right)}$"
      ],
      "text/plain": [
       "    1            16          25   \n",
       "────────── - ───────── + ─────────\n",
       "30⋅(s + 4)   5⋅(s - 1)   6⋅(s - 2)"
      ]
     },
     "execution_count": 11,
     "metadata": {},
     "output_type": "execute_result"
    }
   ],
   "source": [
    "Y = Y.apart()   \n",
    "Y "
   ]
  },
  {
   "cell_type": "code",
   "execution_count": 13,
   "id": "9d7948cc",
   "metadata": {
    "slideshow": {
     "slide_type": "slide"
    }
   },
   "outputs": [
    {
     "data": {
      "image/png": "[encoded data removed]",
      "text/latex": [
       "$\\displaystyle \\frac{\\left(125 e^{6 t} - 96 e^{5 t} + 1\\right) e^{- 4 t} \\theta\\left(t\\right)}{30}$"
      ],
      "text/plain": [
       "⎛     6⋅t       5⋅t    ⎞  -4⋅t     \n",
       "⎝125⋅ℯ    - 96⋅ℯ    + 1⎠⋅ℯ    ⋅θ(t)\n",
       "───────────────────────────────────\n",
       "                 30                "
      ]
     },
     "execution_count": 13,
     "metadata": {},
     "output_type": "execute_result"
    }
   ],
   "source": [
    "y = inv_L(Y) \n",
    "y "
   ]
  },
  {
   "cell_type": "code",
   "execution_count": 15,
   "id": "a3981b06",
   "metadata": {
    "slideshow": {
     "slide_type": "slide"
    }
   },
   "outputs": [
    {
     "data": {
      "image/png": "[encoded data removed]",
      "text/latex": [
       "$\\displaystyle \\frac{25 e^{2 t} \\theta\\left(t\\right)}{6} - \\frac{16 e^{t} \\theta\\left(t\\right)}{5} + \\frac{e^{- 4 t} \\theta\\left(t\\right)}{30}$"
      ],
      "text/plain": [
       "    2⋅t            t         -4⋅t     \n",
       "25⋅ℯ   ⋅θ(t)   16⋅ℯ ⋅θ(t)   ℯ    ⋅θ(t)\n",
       "──────────── - ────────── + ──────────\n",
       "     6             5            30    "
      ]
     },
     "execution_count": 15,
     "metadata": {},
     "output_type": "execute_result"
    }
   ],
   "source": [
    "y = y.expand()  \n",
    "y "
   ]
  },
  {
   "cell_type": "code",
   "execution_count": 23,
   "id": "242460d9",
   "metadata": {
    "slideshow": {
     "slide_type": "slide"
    }
   },
   "outputs": [],
   "source": [
    "def y_numpy(t):\n",
    "    return (25/6)*np.exp(2*t) - (16/5)*np.exp(t)+ (1/30)*np.exp(-4*t)"
   ]
  },
  {
   "cell_type": "code",
   "execution_count": 24,
   "id": "8271f10f",
   "metadata": {
    "slideshow": {
     "slide_type": "slide"
    }
   },
   "outputs": [
    {
     "data": {
      "image/png": "[encoded data removed]",
      "text/latex": [
       "$\\displaystyle 1.0$"
      ],
      "text/plain": [
       "1.0000000000000002"
      ]
     },
     "execution_count": 24,
     "metadata": {},
     "output_type": "execute_result"
    }
   ],
   "source": [
    "y_numpy(0) "
   ]
  },
  {
   "cell_type": "markdown",
   "id": "7085698c",
   "metadata": {
    "slideshow": {
     "slide_type": "slide"
    }
   },
   "source": [
    "La función de escalón unitario también se conoce como función escalón de Heaviside. "
   ]
  },
  {
   "cell_type": "markdown",
   "id": "2986fbcf",
   "metadata": {
    "slideshow": {
     "slide_type": "slide"
    }
   },
   "source": [
    "Veremos esta función a menudo en transformadas de Laplace inversas. Está compuesto como $\\theta(t)$ por sympy."
   ]
  },
  {
   "cell_type": "code",
   "execution_count": 16,
   "id": "86193ac7",
   "metadata": {
    "slideshow": {
     "slide_type": "slide"
    }
   },
   "outputs": [
    {
     "data": {
      "image/png": "[encoded data removed]",
      "text/latex": [
       "$\\displaystyle \\theta\\left(t\\right)$"
      ],
      "text/plain": [
       "θ(t)"
      ]
     },
     "execution_count": 16,
     "metadata": {},
     "output_type": "execute_result"
    }
   ],
   "source": [
    "Heaviside(t)"
   ]
  },
  {
   "cell_type": "code",
   "execution_count": 17,
   "id": "90b4f003",
   "metadata": {
    "scrolled": true,
    "slideshow": {
     "slide_type": "slide"
    }
   },
   "outputs": [
    {
     "data": {
      "image/png": "[encoded data removed]",
      "text/plain": [
       "<Figure size 432x288 with 1 Axes>"
      ]
     },
     "metadata": {
      "needs_background": "light"
     },
     "output_type": "display_data"
    }
   ],
   "source": [
    "plot(Heaviside(t));"
   ]
  },
  {
   "cell_type": "markdown",
   "id": "28e3619d",
   "metadata": {
    "slideshow": {
     "slide_type": "slide"
    }
   },
   "source": [
    "### Conclusión de la revisión de consistencia entre los dos caminos de solución implementados"
   ]
  },
  {
   "cell_type": "markdown",
   "id": "89f252f9",
   "metadata": {
    "slideshow": {
     "slide_type": "slide"
    }
   },
   "source": [
    "Hemos obtenido soluciones equivalentes al aplicar el método analítico y la calculadora sympy de Python. Solo que la solución dada por sympy está en términos de la función de Heaviside "
   ]
  },
  {
   "cell_type": "markdown",
   "id": "a09f1d19",
   "metadata": {
    "slideshow": {
     "slide_type": "slide"
    }
   },
   "source": [
    "## Graficación con Matplotlib de la sunción solución del PVI dado"
   ]
  },
  {
   "cell_type": "code",
   "execution_count": 35,
   "id": "53c2cbd3",
   "metadata": {
    "slideshow": {
     "slide_type": "slide"
    }
   },
   "outputs": [
    {
     "data": {
      "image/png": "[encoded data removed]",
      "text/plain": [
       "<Figure size 432x288 with 1 Axes>"
      ]
     },
     "metadata": {
      "needs_background": "light"
     },
     "output_type": "display_data"
    }
   ],
   "source": [
    "import numpy as np \n",
    "import matplotlib.pyplot as plt \n",
    "\n",
    "t = np.linspace(0,1, 100) \n",
    "y_ = y_numpy(t)\n",
    "\n",
    "fig = plt.figure()\n",
    "ax = fig.add_subplot()\n",
    "\n",
    "ax.plot(t,y_) \n",
    "ax.grid(True, alpha = 0.6) \n",
    "ax.set_xlabel(r'$t$')\n",
    "ax.set_ylabel(r'$y(t)$')\n",
    "ax.set_title(r\"Solución del PVI de segundo orden $y'' -3y'+2y = e^{-4t}$\")\n",
    "\n",
    "ax.plot(t, 5*t + 1)    # trazo de la recta tangente en (0,1)\n",
    "\n",
    "plt.savefig('pvi_laplace.jpg') \n",
    "\n",
    "plt.show() \n"
   ]
  },
  {
   "cell_type": "markdown",
   "id": "c697409b",
   "metadata": {
    "slideshow": {
     "slide_type": "slide"
    }
   },
   "source": [
    "## Referentes\n",
    "\n",
    "* Zill, Dennis G., Cullen, Michael R. (2002) *Ecuaciones diferenciales con problemas de valores en la frontera*, Thomson.\n",
    "* https://dynamics-and-control.readthedocs.io/en/latest/1_Dynamics/3_Linear_systems/Laplace%20transforms.html  \n",
    "* http://mattpap.github.io/scipy-2011-tutorial/html/partfrac.html "
   ]
  },
  {
   "cell_type": "code",
   "execution_count": null,
   "id": "9230d4c8",
   "metadata": {},
   "outputs": [],
   "source": []
  }
 ],
 "metadata": {
  "celltoolbar": "Slideshow",
  "kernelspec": {
   "display_name": "Python 3",
   "language": "python",
   "name": "python3"
  },
  "language_info": {
   "codemirror_mode": {
    "name": "ipython",
    "version": 3
   },
   "file_extension": ".py",
   "mimetype": "text/x-python",
   "name": "python",
   "nbconvert_exporter": "python",
   "pygments_lexer": "ipython3",
   "version": "3.8.8"
  },
  "latex_envs": {
   "LaTeX_envs_menu_present": true,
   "autoclose": false,
   "autocomplete": false,
   "bibliofile": "biblio.bib",
   "cite_by": "apalike",
   "current_citInitial": 1,
   "eqLabelWithNumbers": true,
   "eqNumInitial": 1,
   "hotkeys": {
    "equation": "Ctrl-E",
    "itemize": "Ctrl-I"
   },
   "labels_anchors": false,
   "latex_user_defs": false,
   "report_style_numbering": false,
   "user_envs_cfg": false
  },
  "rise": {
   "enable_chalkboard": true,
   "theme": "sky",
   "transition": "zoom"
  }
 },
 "nbformat": 4,
 "nbformat_minor": 5
}
