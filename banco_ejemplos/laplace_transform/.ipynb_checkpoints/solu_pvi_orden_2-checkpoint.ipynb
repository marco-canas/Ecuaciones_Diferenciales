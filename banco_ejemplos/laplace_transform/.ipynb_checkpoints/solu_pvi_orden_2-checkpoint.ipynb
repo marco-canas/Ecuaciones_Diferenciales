{
 "cells": [
  {
   "cell_type": "markdown",
   "id": "9c5f44dd",
   "metadata": {
    "slideshow": {
     "slide_type": "slide"
    }
   },
   "source": [
    "<table align=\"left\">\n",
    "  <td>\n",
    "    <a href=\"https://colab.research.google.com/github/marco-canas/taca/blob/main/ref/geron/chap_2/4_Discover_and_Visualize_the_Data_to_Gain/1_Discover_and_Visualize_the_Data_to_Gain_Insights.ipynb\" target=\"_parent\"><img src=\"https://colab.research.google.com/assets/colab-badge.svg\" alt=\"Open In Colab\"/></a>\n",
    "  </td>\n",
    "  <td>\n",
    "    <a target=\"_blank\" href=\"https://kaggle.com/kernels/welcome?src=https://github.com/marco-canas/taca/blob/main/ref/geron/chap_2/4_Discover_and_Visualize_the_Data_to_Gain/1_Discover_and_Visualize_the_Data_to_Gain_Insights.ipynb\"><img src=\"https://kaggle.com/static/images/open-in-kaggle.svg\" /></a>\n",
    "  </td>\n",
    "</table>"
   ]
  },
  {
   "cell_type": "markdown",
   "id": "e921f1cd",
   "metadata": {
    "slideshow": {
     "slide_type": "slide"
    }
   },
   "source": [
    "# Ejemplo 1 sobre solución de un PVI de segundo orden utilizando transformada de Laplace"
   ]
  },
  {
   "cell_type": "markdown",
   "id": "06ca97d5",
   "metadata": {
    "slideshow": {
     "slide_type": "slide"
    }
   },
   "source": [
    "### [Video de apoyo]()"
   ]
  },
  {
   "cell_type": "markdown",
   "id": "571992c7",
   "metadata": {
    "slideshow": {
     "slide_type": "slide"
    }
   },
   "source": [
    "## Planteamiento del problema"
   ]
  },
  {
   "cell_type": "markdown",
   "id": "7f87bce3",
   "metadata": {
    "slideshow": {
     "slide_type": "slide"
    }
   },
   "source": [
    "Resuelva \n",
    "\n",
    "$$ y'' - 3y' + 2y = e^{-4t}, \\ \\ \\ y(0) = 1, \\ \\ y'(0) = 5,  $$\n",
    "\n",
    "utilizando el concepto de transformada de Laplace. \n"
   ]
  },
  {
   "cell_type": "markdown",
   "id": "5f479225",
   "metadata": {
    "slideshow": {
     "slide_type": "slide"
    }
   },
   "source": [
    "Empecemos **resolviendo analíticamente:** "
   ]
  },
  {
   "cell_type": "markdown",
   "id": "f1d62221",
   "metadata": {
    "slideshow": {
     "slide_type": "slide"
    }
   },
   "source": [
    "Transformemos la ED aplicando transformada de Laplace a cada lado de la misma. Se toma la suma de las transformadas de cada término. Utilizamos para ello las ecuaciones:\n",
    "\n",
    "\n",
    "$$ L\\{ f'(t) \\} = sF(s) - f(0), $$\n",
    "\n",
    "$$ L\\{f''(t)\\} = s^{2}F(s) - sf(0) - f'(0), $$\n",
    "\n",
    "las condiciones iniciales dadas, la fórmula \n",
    "\n",
    "$$ e^{at} = L^{-1}\\left\\{ \\frac{1}{s-a} \\right\\} $$\n",
    "\n",
    "y luego se resuelve la ecuación obtenida para $Y(s)$:\n"
   ]
  },
  {
   "cell_type": "markdown",
   "id": "240bedb5",
   "metadata": {
    "slideshow": {
     "slide_type": "slide"
    }
   },
   "source": [
    "$$ L\\left\\{ \\frac{d^{2}y}{dt^{2}} \\right\\}  - 3L\\left\\{ \\frac{dy}{dt} \\right\\} + 2L\\left\\{ y \\right\\} = L\\left\\{ e^{-4t} \\right\\} $$"
   ]
  },
  {
   "cell_type": "markdown",
   "id": "a9ea5d75",
   "metadata": {
    "slideshow": {
     "slide_type": "slide"
    }
   },
   "source": [
    "$$ s^{2}Y(s) -sy(0) -y'(0) -3(sY(s) - y(0)) + 2Y(s) = \\frac{1}{s + 4} $$"
   ]
  },
  {
   "cell_type": "markdown",
   "id": "b4828470",
   "metadata": {
    "slideshow": {
     "slide_type": "slide"
    }
   },
   "source": [
    "$$ s^{2}Y(s) - s - 5 -3(sY(s) - 1) + 2Y(s) = \\frac{1}{s + 4} $$"
   ]
  },
  {
   "cell_type": "markdown",
   "id": "abaaac63",
   "metadata": {
    "slideshow": {
     "slide_type": "slide"
    }
   },
   "source": [
    "$$ (s^{2} - 3s + 2)Y(s) = s + 2 + \\frac{1}{s+4}   $$"
   ]
  },
  {
   "cell_type": "markdown",
   "id": "1e988dfb",
   "metadata": {
    "slideshow": {
     "slide_type": "slide"
    }
   },
   "source": [
    "$$ Y(s) = \\frac{s+2}{s^{2} - 3s + 2} + \\frac{1}{(s^{2} - 3s + 2)(s + 4)} $$"
   ]
  },
  {
   "cell_type": "markdown",
   "id": "e7f104bd",
   "metadata": {
    "slideshow": {
     "slide_type": "slide"
    }
   },
   "source": [
    "$$ Y(s) = \\frac{(s+2)(s+4)}{(s^{2} - 3s + 2)(s+4)} + \\frac{1}{(s^{2} - 3s + 2)(s + 4)} $$"
   ]
  },
  {
   "cell_type": "markdown",
   "id": "681ba315",
   "metadata": {
    "slideshow": {
     "slide_type": "slide"
    }
   },
   "source": [
    "$$ Y(s) = \\frac{s^{2} + 6s + 8}{(s-2)(s-1)(s+4)} + \\frac{1}{(s-2)(s-1)(s+4)} $$"
   ]
  },
  {
   "cell_type": "markdown",
   "id": "ccce6524",
   "metadata": {
    "slideshow": {
     "slide_type": "slide"
    }
   },
   "source": [
    "$$ Y(s) = \\frac{s^{2} + 6s + 9}{(s-2)(s-1)(s+4)} $$"
   ]
  },
  {
   "cell_type": "markdown",
   "id": "89931244",
   "metadata": {
    "slideshow": {
     "slide_type": "slide"
    }
   },
   "source": [
    "Realicemos la descomposición en fracciones parciales de la fracción propia del lado izquierdo de la ecuación anterior: "
   ]
  },
  {
   "cell_type": "markdown",
   "id": "440ebb26",
   "metadata": {
    "slideshow": {
     "slide_type": "slide"
    }
   },
   "source": [
    "\n",
    "$$ \\frac{s^{2} + 6s + 9}{(s-2)(s-1)(s+4)} = \\frac{A}{s-2} + \\frac{B}{s-1} + \\frac{C}{s+4} $$"
   ]
  },
  {
   "cell_type": "markdown",
   "id": "a2befbb7",
   "metadata": {
    "slideshow": {
     "slide_type": "slide"
    }
   },
   "source": [
    "$$ \\frac{s^{2} + 6s + 9}{(s-2)(s-1)(s+4)} = \\frac{ A(s-1)(s+4) + B(s-2)(s+4) + C(s-2)(s-1) }{(s-2)(s-1)(s+4)} $$"
   ]
  },
  {
   "cell_type": "markdown",
   "id": "47054073",
   "metadata": {
    "slideshow": {
     "slide_type": "slide"
    }
   },
   "source": [
    "\\begin{equation}\\label{eq:igual_numeradores}\n",
    "s^{2} + 6s + 9 = A(s-1)(s+4) + B(s-2)(s+4) + C(s-2)(s-1)\n",
    "\\end{equation}"
   ]
  },
  {
   "cell_type": "markdown",
   "id": "243ac1c0",
   "metadata": {
    "slideshow": {
     "slide_type": "slide"
    }
   },
   "source": [
    "Si sustituimos $s = 2$ en la ecuación anterior obtenemos \n",
    "\n",
    "$$ 2^{2} + 6(2) + 9 = A(2-1)(2+4) + B(2-2)(2+4) + C(2-2)(2-1) $$\n",
    "\n",
    "$$ 4 + 12 + 9 = 6A  \\ \\ \\ \\ \\Rightarrow \\ \\ \\  A = \\frac{25}{6} $$\n"
   ]
  },
  {
   "cell_type": "markdown",
   "id": "a6437a2f",
   "metadata": {
    "slideshow": {
     "slide_type": "slide"
    }
   },
   "source": [
    "Mientras que si sustituimos $s = 1$ en la misma ecuación \\eqref{eq:igual_numeradores} obtenemos la ecuación lineal en la variable $B$:\n",
    "\n",
    "\\begin{align*}\n",
    "s^{2} + 6s + 9 = A(s-1)(s+4) + B(s-2)(s+4) + C(s-2)(s-1) \\ \\ \\ & \\Rightarrow 1 + 6 + 9 = B(-1)(5) \\\\\n",
    "                                                         & \\Rightarrow 16 = -5B \\\\\n",
    "                                                         & \\Rightarrow B = -\\frac{16}{5}\n",
    "\\end{align*}\n"
   ]
  },
  {
   "cell_type": "markdown",
   "id": "1699ce56",
   "metadata": {
    "slideshow": {
     "slide_type": "slide"
    }
   },
   "source": [
    "Y si finalmente sustituimos $s$ por $-4$ en la ecuación eqref{eq:igual_numeradores} obtenemos la ecuación lineal en la variable $C$:\n",
    "\n",
    "\\begin{align*}\n",
    "s^{2} + 6s + 9 = A(s-1)(s+4) + B(s-2)(s+4) + C(s-2)(s-1) \\ \\ \\ & \\Rightarrow (-4)^{2} + 6(-4) + 9 = C(-4-2)(-4-1) \\\\\n",
    "                                                               & \\Rightarrow  16 - 24 + 9 = C(-6)(-5) \\\\\n",
    "                                                               & \\Rightarrow  1 = 30C \\\\\n",
    "                                                               & \\Rightarrow C = \\frac{1}{30}\n",
    "\\end{align*}\n"
   ]
  },
  {
   "cell_type": "markdown",
   "id": "3b12973b",
   "metadata": {
    "slideshow": {
     "slide_type": "slide"
    }
   },
   "source": [
    "Por tanto, \n",
    "\n",
    "\\begin{align*}\n",
    "\\frac{s^{2} + 6s + 9}{(s-2)(s-1)(s+4)} = \\frac{A}{s-2} + \\frac{B}{s-1} + \\frac{C}{s+4} \\ \\ \\ &  \\Rightarrow \\ \\ \\  \\frac{s^{2} + 6s + 9}{(s-2)(s-1)(s+4)} = \\frac{25}{6(s-2)} - \\frac{16}{5(s-1)} + \\frac{1}{30(s+4)}\n",
    "\\end{align*}"
   ]
  },
  {
   "cell_type": "markdown",
   "id": "0a588b58",
   "metadata": {
    "slideshow": {
     "slide_type": "slide"
    }
   },
   "source": [
    "de donde \n",
    "\n",
    "$$ Y(s) = \\frac{s^{2} + 6s + 9}{(s-2)(s-1)(s+4)} = \\frac{25}{6(s-2)} - \\frac{16}{5(s-1)} + \\frac{1}{30(s+4)} $$\n"
   ]
  },
  {
   "cell_type": "markdown",
   "id": "c2e8a4e9",
   "metadata": {
    "slideshow": {
     "slide_type": "slide"
    }
   },
   "source": [
    "$$ y(t) = \\frac{25}{6}L^{-1} \\left\\{ \\frac{1}{s-2} \\right\\}  - \\frac{16}{5} L^{-1} \\left\\{ \\frac{1}{s-1} \\right\\} + \\frac{1}{30}L^{-1} \\left\\{ \\frac{1}{s+4} \\right\\} $$"
   ]
  },
  {
   "cell_type": "markdown",
   "id": "e5ddd145",
   "metadata": {
    "slideshow": {
     "slide_type": "slide"
    }
   },
   "source": [
    "$$ y(t) = \\frac{25}{6} e^{2t} - \\frac{16}{5} e^{t} + \\frac{1}{30}e^{-4t} $$"
   ]
  },
  {
   "cell_type": "markdown",
   "id": "b25c68bc",
   "metadata": {
    "slideshow": {
     "slide_type": "slide"
    }
   },
   "source": [
    "En los ejemplos 4 y 5, se ilustra el procedimiento básico de cómo usar la transformada de Laplace para resolver un problema lineal con valores iniciales, pero podría parecer que estos ejemplos demuestran un método que no es mucho mejor que el aplicado a los problemas descritos en las secciones 2.3 y 4.3 a 4.6. "
   ]
  },
  {
   "cell_type": "markdown",
   "id": "d6ca9912",
   "metadata": {
    "slideshow": {
     "slide_type": "slide"
    }
   },
   "source": [
    "No saque conclusiones negativas de sólo dos ejemplos. "
   ]
  },
  {
   "cell_type": "markdown",
   "id": "adc2cd89",
   "metadata": {
    "slideshow": {
     "slide_type": "slide"
    }
   },
   "source": [
    "Sí, hay una gran cantidad de álgebra inherente al uso de la transformada de Laplace, pero observe que no se tiene que usar la variación de parámetros o preocuparse acerca de los casos y el álgebra en el método de coeficientes indeterminados. "
   ]
  },
  {
   "cell_type": "markdown",
   "id": "7c34b9a0",
   "metadata": {
    "slideshow": {
     "slide_type": "slide"
    }
   },
   "source": [
    "Además, puesto que el método incorpora las condiciones iniciales prescritas directamente en la solución, no se requiere la operación separada de aplicar las condiciones iniciales a la solución general  \n",
    "\n",
    "$$ y = c_{1}y_{1} + c_{2}y_{2} + \\cdots +  c_{n}y_{n} + y_{p} $$\n",
    "\n",
    "de la ED para determinar constantes específi cas en una solución particular del PVI."
   ]
  },
  {
   "cell_type": "markdown",
   "id": "aab9840c",
   "metadata": {
    "slideshow": {
     "slide_type": "slide"
    }
   },
   "source": [
    " \n",
    "La transformada de Laplace tiene muchas propiedades operacionales. "
   ]
  },
  {
   "cell_type": "markdown",
   "id": "17fec88f",
   "metadata": {
    "slideshow": {
     "slide_type": "slide"
    }
   },
   "source": [
    "En las secciones que siguen se examinan algunas de estas propiedades y se ve cómo permiten resolver problemas de mayor complejidad."
   ]
  },
  {
   "cell_type": "markdown",
   "id": "c690a705",
   "metadata": {
    "slideshow": {
     "slide_type": "slide"
    }
   },
   "source": [
    "## Solución utilizando calculadora numérica y simbólica"
   ]
  },
  {
   "cell_type": "code",
   "execution_count": 2,
   "id": "17c8102c",
   "metadata": {
    "slideshow": {
     "slide_type": "slide"
    }
   },
   "outputs": [],
   "source": [
    "from sympy import *\n",
    "init_printing() \n",
    "t = symbols('t', real = True, nonegative = True)\n",
    "s = symbols('s', real = True, positive = True)  \n",
    "y = symbols('y')  \n",
    "y = Function('y')(t)\n",
    "Y = Function('Y')(s) \n",
    "y0, y_p0 = 1,5      # condiciones iniciales "
   ]
  },
  {
   "cell_type": "code",
   "execution_count": 10,
   "id": "ea42eddc",
   "metadata": {
    "slideshow": {
     "slide_type": "slide"
    }
   },
   "outputs": [
    {
     "data": {
      "image/png": "[encoded data removed]",
      "text/latex": [
       "$\\displaystyle 2 y{\\left(t \\right)} - 3 \\frac{d}{d t} y{\\left(t \\right)} + \\frac{d^{2}}{d t^{2}} y{\\left(t \\right)} = e^{- 4 t}$"
      ],
      "text/plain": [
       "                        2              \n",
       "           d           d           -4⋅t\n",
       "2⋅y(t) - 3⋅──(y(t)) + ───(y(t)) = ℯ    \n",
       "           dt           2              \n",
       "                      dt               "
      ]
     },
     "execution_count": 10,
     "metadata": {},
     "output_type": "execute_result"
    }
   ],
   "source": [
    "def ed(a,b,c,g):\n",
    "    lista_1 = Matrix([diff(y,t,2), diff(y,t), y])\n",
    "    lista_2 = Matrix([a,b,c])\n",
    "    lado_der = lista_1.dot(lista_2)\n",
    "    return Eq(lado_der, g) \n",
    "\n",
    "ed(1,-3,2,exp(-4*t))  "
   ]
  },
  {
   "cell_type": "code",
   "execution_count": 11,
   "id": "f621356e",
   "metadata": {
    "slideshow": {
     "slide_type": "slide"
    }
   },
   "outputs": [],
   "source": [
    "def L(f):\n",
    "    return laplace_transform(f,t,s)\n",
    "\n",
    "def inv_L(F):\n",
    "    return inverse_laplace_transform(F,s,t) "
   ]
  },
  {
   "cell_type": "code",
   "execution_count": 12,
   "id": "fbbfe93a",
   "metadata": {
    "slideshow": {
     "slide_type": "slide"
    }
   },
   "outputs": [
    {
     "data": {
      "image/png": "[encoded data removed]",
      "text/latex": [
       "$\\displaystyle s^{2} Y{\\left(s \\right)} - 3 s Y{\\left(s \\right)} - s + 2 Y{\\left(s \\right)} - 2$"
      ],
      "text/plain": [
       " 2                                 \n",
       "s ⋅Y(s) - 3⋅s⋅Y(s) - s + 2⋅Y(s) - 2"
      ]
     },
     "execution_count": 12,
     "metadata": {},
     "output_type": "execute_result"
    }
   ],
   "source": [
    "def lado_izq_ed_trans(a,b,c):\n",
    "    lista_1 = Matrix([(s**2*Y - s*y0 - y_p0), (s*Y - y0), Y])\n",
    "    lista_2 = Matrix([a,b,c]) \n",
    "    return lista_1.dot(lista_2)\n",
    "\n",
    "lado_izq_ed_trans(1,-3,2) "
   ]
  },
  {
   "cell_type": "code",
   "execution_count": 13,
   "id": "5848a79b",
   "metadata": {
    "slideshow": {
     "slide_type": "slide"
    }
   },
   "outputs": [],
   "source": [
    "lado_der_ed_trans = L(exp(-4*t))\n",
    "lado_der_ed_trans = tuple(lado_der_ed_trans)[0]"
   ]
  },
  {
   "cell_type": "code",
   "execution_count": 16,
   "id": "e0b55326",
   "metadata": {
    "scrolled": true,
    "slideshow": {
     "slide_type": "slide"
    }
   },
   "outputs": [],
   "source": [
    "eq_transformada = Eq(lado_izq_ed_trans(1,-3,2), lado_der_ed_trans)"
   ]
  },
  {
   "cell_type": "code",
   "execution_count": 17,
   "id": "51569e23",
   "metadata": {
    "slideshow": {
     "slide_type": "slide"
    }
   },
   "outputs": [
    {
     "data": {
      "image/png": "[encoded data removed]",
      "text/latex": [
       "$\\displaystyle s^{2} Y{\\left(s \\right)} - 3 s Y{\\left(s \\right)} - s + 2 Y{\\left(s \\right)} - 2 = \\frac{1}{s + 4}$"
      ],
      "text/plain": [
       " 2                                      1  \n",
       "s ⋅Y(s) - 3⋅s⋅Y(s) - s + 2⋅Y(s) - 2 = ─────\n",
       "                                      s + 4"
      ]
     },
     "execution_count": 17,
     "metadata": {},
     "output_type": "execute_result"
    }
   ],
   "source": [
    "eq_transformada "
   ]
  },
  {
   "cell_type": "code",
   "execution_count": 18,
   "id": "86737735",
   "metadata": {
    "slideshow": {
     "slide_type": "slide"
    }
   },
   "outputs": [
    {
     "data": {
      "image/png": "[encoded data removed]",
      "text/latex": [
       "$\\displaystyle \\left[ \\frac{s^{2} + 6 s + 9}{s^{3} + s^{2} - 10 s + 8}\\right]$"
      ],
      "text/plain": [
       "⎡    2             ⎤\n",
       "⎢   s  + 6⋅s + 9   ⎥\n",
       "⎢──────────────────⎥\n",
       "⎢ 3    2           ⎥\n",
       "⎣s  + s  - 10⋅s + 8⎦"
      ]
     },
     "execution_count": 18,
     "metadata": {},
     "output_type": "execute_result"
    }
   ],
   "source": [
    "Y = solve(eq_transformada, Y)\n",
    "Y "
   ]
  },
  {
   "cell_type": "code",
   "execution_count": 19,
   "id": "a4a386ca",
   "metadata": {
    "slideshow": {
     "slide_type": "slide"
    }
   },
   "outputs": [
    {
     "data": {
      "image/png": "[encoded data removed]",
      "text/latex": [
       "$\\displaystyle \\frac{s^{2} + 6 s + 9}{s^{3} + s^{2} - 10 s + 8}$"
      ],
      "text/plain": [
       "    2             \n",
       "   s  + 6⋅s + 9   \n",
       "──────────────────\n",
       " 3    2           \n",
       "s  + s  - 10⋅s + 8"
      ]
     },
     "execution_count": 19,
     "metadata": {},
     "output_type": "execute_result"
    }
   ],
   "source": [
    "Y = Y[0]\n",
    "Y "
   ]
  },
  {
   "cell_type": "code",
   "execution_count": 20,
   "id": "7d26c83c",
   "metadata": {
    "slideshow": {
     "slide_type": "slide"
    }
   },
   "outputs": [],
   "source": [
    "Y = Y.apart()   "
   ]
  },
  {
   "cell_type": "code",
   "execution_count": 21,
   "id": "716b7d53",
   "metadata": {
    "slideshow": {
     "slide_type": "slide"
    }
   },
   "outputs": [],
   "source": [
    "y = inv_L(Y) "
   ]
  },
  {
   "cell_type": "code",
   "execution_count": 22,
   "id": "54fa0f10",
   "metadata": {
    "slideshow": {
     "slide_type": "slide"
    }
   },
   "outputs": [],
   "source": [
    "y = y.expand()  "
   ]
  },
  {
   "cell_type": "code",
   "execution_count": 23,
   "id": "701a755c",
   "metadata": {
    "slideshow": {
     "slide_type": "slide"
    }
   },
   "outputs": [
    {
     "data": {
      "image/png": "[encoded data removed]",
      "text/latex": [
       "$\\displaystyle \\frac{25 e^{2 t} \\theta\\left(t\\right)}{6} - \\frac{16 e^{t} \\theta\\left(t\\right)}{5} + \\frac{e^{- 4 t} \\theta\\left(t\\right)}{30}$"
      ],
      "text/plain": [
       "    2⋅t            t         -4⋅t     \n",
       "25⋅ℯ   ⋅θ(t)   16⋅ℯ ⋅θ(t)   ℯ    ⋅θ(t)\n",
       "──────────── - ────────── + ──────────\n",
       "     6             5            30    "
      ]
     },
     "execution_count": 23,
     "metadata": {},
     "output_type": "execute_result"
    }
   ],
   "source": [
    "y "
   ]
  },
  {
   "cell_type": "markdown",
   "id": "23ed0946",
   "metadata": {
    "slideshow": {
     "slide_type": "slide"
    }
   },
   "source": [
    "La función de escalón unitario también se conoce como función escalón de Heaviside. "
   ]
  },
  {
   "cell_type": "markdown",
   "id": "ac55343f",
   "metadata": {
    "slideshow": {
     "slide_type": "slide"
    }
   },
   "source": [
    "Veremos esta función a menudo en transformadas de Laplace inversas. Está compuesto como $\\theta(t)$ por sympy."
   ]
  },
  {
   "cell_type": "code",
   "execution_count": 24,
   "id": "ca478be1",
   "metadata": {
    "slideshow": {
     "slide_type": "slide"
    }
   },
   "outputs": [
    {
     "data": {
      "image/png": "[encoded data removed]",
      "text/latex": [
       "$\\displaystyle \\theta\\left(t\\right)$"
      ],
      "text/plain": [
       "θ(t)"
      ]
     },
     "execution_count": 24,
     "metadata": {},
     "output_type": "execute_result"
    }
   ],
   "source": [
    "Heaviside(t)"
   ]
  },
  {
   "cell_type": "code",
   "execution_count": 25,
   "id": "424af143",
   "metadata": {
    "scrolled": true,
    "slideshow": {
     "slide_type": "slide"
    }
   },
   "outputs": [
    {
     "data": {
      "image/png": "[encoded data removed]",
      "text/plain": [
       "<Figure size 432x288 with 1 Axes>"
      ]
     },
     "metadata": {
      "needs_background": "light"
     },
     "output_type": "display_data"
    }
   ],
   "source": [
    "plot(Heaviside(t));"
   ]
  },
  {
   "cell_type": "code",
   "execution_count": null,
   "id": "866f26c0",
   "metadata": {},
   "outputs": [],
   "source": []
  },
  {
   "cell_type": "code",
   "execution_count": null,
   "id": "719e4997",
   "metadata": {},
   "outputs": [],
   "source": []
  },
  {
   "cell_type": "markdown",
   "id": "42ce7d65",
   "metadata": {
    "slideshow": {
     "slide_type": "slide"
    }
   },
   "source": [
    "## Referentes\n",
    "\n",
    "* Zill, Dennis G., Cullen, Michael R. (2002) *Ecuaciones diferenciales con problemas de valores en la frontera*, Thomson.\n",
    "* https://dynamics-and-control.readthedocs.io/en/latest/1_Dynamics/3_Linear_systems/Laplace%20transforms.html"
   ]
  },
  {
   "cell_type": "code",
   "execution_count": null,
   "id": "bae299ec",
   "metadata": {},
   "outputs": [],
   "source": []
  }
 ],
 "metadata": {
  "celltoolbar": "Slideshow",
  "kernelspec": {
   "display_name": "Python 3",
   "language": "python",
   "name": "python3"
  },
  "language_info": {
   "codemirror_mode": {
    "name": "ipython",
    "version": 3
   },
   "file_extension": ".py",
   "mimetype": "text/x-python",
   "name": "python",
   "nbconvert_exporter": "python",
   "pygments_lexer": "ipython3",
   "version": "3.8.8"
  },
  "latex_envs": {
   "LaTeX_envs_menu_present": true,
   "autoclose": false,
   "autocomplete": false,
   "bibliofile": "biblio.bib",
   "cite_by": "apalike",
   "current_citInitial": 1,
   "eqLabelWithNumbers": true,
   "eqNumInitial": 1,
   "hotkeys": {
    "equation": "Ctrl-E",
    "itemize": "Ctrl-I"
   },
   "labels_anchors": false,
   "latex_user_defs": false,
   "report_style_numbering": false,
   "user_envs_cfg": false
  }
 },
 "nbformat": 4,
 "nbformat_minor": 5
}
