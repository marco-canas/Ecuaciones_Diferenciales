{
 "cells": [
  {
   "cell_type": "markdown",
   "id": "aac5e010",
   "metadata": {
    "slideshow": {
     "slide_type": "slide"
    }
   },
   "source": [
    "<table align=\"left\">\n",
    "  <td>\n",
    "    <a href=\"https://colab.research.google.com/github/marco-canas/edo/blob/main/banco_ejemplos/4_laplace/2_sol_pvi_1_2_order_laplace/3_pvi_orden_2_laplace.ipynb\" target=\"_parent\"><img src=\"https://colab.research.google.com/assets/colab-badge.svg\" alt=\"Open In Colab\"/></a>\n",
    "  </td>\n",
    "  <td>\n",
    "    <a target=\"_blank\" href=\"https://kaggle.com/kernels/welcome?src=https://github.com/marco-canas/edo/blob/main/banco_ejemplos/4_laplace/2_sol_pvi_1_2_order_laplace/3_pvi_orden_2_laplace.ipynb\"><img src=\"https://kaggle.com/static/images/open-in-kaggle.svg\" /></a>\n",
    "  </td>\n",
    "</table>"
   ]
  },
  {
   "cell_type": "markdown",
   "id": "99b87a62",
   "metadata": {
    "slideshow": {
     "slide_type": "slide"
    }
   },
   "source": [
    "# Un PVI de orden 2 solucionado con transformada de Laplace"
   ]
  },
  {
   "cell_type": "markdown",
   "id": "e293bd25",
   "metadata": {
    "slideshow": {
     "slide_type": "slide"
    }
   },
   "source": [
    "$$ y'' -4y' = 6e^{3t} -3e^{-t}, \\ \\ \\ y(0) = 1, \\ \\ \\ y'(0) = -1 $$"
   ]
  },
  {
   "cell_type": "markdown",
   "id": "04b378d0",
   "metadata": {
    "slideshow": {
     "slide_type": "slide"
    }
   },
   "source": [
    "## [Video de apoyo]() "
   ]
  },
  {
   "cell_type": "markdown",
   "id": "a43ca5fb",
   "metadata": {
    "slideshow": {
     "slide_type": "slide"
    }
   },
   "source": [
    "## Solución con sympy:"
   ]
  },
  {
   "cell_type": "code",
   "execution_count": 1,
   "id": "0fefaf54",
   "metadata": {
    "slideshow": {
     "slide_type": "slide"
    }
   },
   "outputs": [],
   "source": [
    "import numpy as np \n",
    "from sympy import *"
   ]
  },
  {
   "cell_type": "code",
   "execution_count": 2,
   "id": "510ac59f",
   "metadata": {
    "slideshow": {
     "slide_type": "slide"
    }
   },
   "outputs": [],
   "source": [
    "t = symbols('t', real = True, nonegative = True) \n",
    "s = symbols('s', real = True, positive = True) "
   ]
  },
  {
   "cell_type": "code",
   "execution_count": 3,
   "id": "cc44ec51",
   "metadata": {
    "slideshow": {
     "slide_type": "slide"
    }
   },
   "outputs": [],
   "source": [
    "y,Y = symbols('y,Y')"
   ]
  },
  {
   "cell_type": "code",
   "execution_count": 4,
   "id": "fa47b923",
   "metadata": {
    "slideshow": {
     "slide_type": "slide"
    }
   },
   "outputs": [],
   "source": [
    "y = Function('y')\n",
    "\n",
    "\n",
    "Y = Function('Y') "
   ]
  },
  {
   "cell_type": "code",
   "execution_count": 5,
   "id": "7d520f09",
   "metadata": {
    "slideshow": {
     "slide_type": "slide"
    }
   },
   "outputs": [],
   "source": [
    "def L(f):\n",
    "    return laplace_transform(f,t,s, noconds = True)  "
   ]
  },
  {
   "cell_type": "code",
   "execution_count": 6,
   "id": "5c7ed58c",
   "metadata": {
    "slideshow": {
     "slide_type": "slide"
    }
   },
   "outputs": [],
   "source": [
    "def inv_L(F):\n",
    "    return inverse_laplace_transform(F,s,t, noconds = True)  "
   ]
  },
  {
   "cell_type": "code",
   "execution_count": 7,
   "id": "bd4b80ce",
   "metadata": {
    "slideshow": {
     "slide_type": "slide"
    }
   },
   "outputs": [],
   "source": [
    "def L_diff(f, f0, fp0, fpp0 = 0 , n = 1): # esta función es para calcular transformadas de derivadas\n",
    "    \"\"\"\n",
    "    input:\n",
    "    f es una variable sinbólica de sympy que representa a la función f(t) a la que se quiere calcular \n",
    "      la transformada de alguna de sus derivadas. \n",
    "    \n",
    "    n puede asumir los valores de 0,1,2,3 y representa el orden de la derivada\n",
    "    \"\"\"\n",
    "    F = str(f).upper()\n",
    "    F = symbols(F) \n",
    "    F = Function(F)(s) \n",
    "    if n == 0:\n",
    "        L = F\n",
    "    elif n == 1:\n",
    "        L = s*F - f0\n",
    "    elif n == 2:\n",
    "        L = s**2*F - s*f0 - fp0\n",
    "    elif n == 3:\n",
    "        L = s**3*F - s**2*f0,-s*fp0 - fpp0\n",
    "    return L "
   ]
  },
  {
   "cell_type": "markdown",
   "id": "f3aed73c",
   "metadata": {},
   "source": [
    "Construyamos la ecuación diferencial para el contexto de sympy"
   ]
  },
  {
   "cell_type": "code",
   "execution_count": 8,
   "id": "ea9b440f",
   "metadata": {
    "slideshow": {
     "slide_type": "slide"
    }
   },
   "outputs": [
    {
     "data": {
      "text/latex": [
       "$\\displaystyle - 4 \\frac{d}{d t} y{\\left(t \\right)} + \\frac{d^{2}}{d t^{2}} y{\\left(t \\right)} = 6 e^{3 t} - 3 e^{- t}$"
      ],
      "text/plain": [
       "Eq(-4*Derivative(y(t), t) + Derivative(y(t), (t, 2)), 6*exp(3*t) - 3*exp(-t))"
      ]
     },
     "execution_count": 8,
     "metadata": {},
     "output_type": "execute_result"
    }
   ],
   "source": [
    "eq = Eq( diff(y(t),t,2) - 4*diff(y(t),t), 6*exp(3*t) - 3*exp(-t) )\n",
    "eq "
   ]
  },
  {
   "cell_type": "markdown",
   "id": "a68c3a38",
   "metadata": {
    "slideshow": {
     "slide_type": "slide"
    }
   },
   "source": [
    "Empecemos calculando la transformada de la ecuación diferencial dada:"
   ]
  },
  {
   "cell_type": "code",
   "execution_count": 9,
   "id": "41c0a165",
   "metadata": {
    "slideshow": {
     "slide_type": "slide"
    }
   },
   "outputs": [],
   "source": [
    "y0  = 1\n",
    "yp0 = -1 "
   ]
  },
  {
   "cell_type": "markdown",
   "id": "06cf830a",
   "metadata": {
    "slideshow": {
     "slide_type": "slide"
    }
   },
   "source": [
    "Apliquemos transformada de Laplace a la ecuación diferencial que conforma el PVI dado:"
   ]
  },
  {
   "cell_type": "code",
   "execution_count": 10,
   "id": "0020454b",
   "metadata": {
    "slideshow": {
     "slide_type": "slide"
    }
   },
   "outputs": [],
   "source": [
    "eq_tran = Eq( L_diff(y, f0 = y0, fp0 = yp0, n = 2) - 4*L_diff(y, f0 = y0, fp0 = yp0, n = 1) , 6*L(exp(3*t)) - 3*L(exp(-t)) ) "
   ]
  },
  {
   "cell_type": "code",
   "execution_count": 11,
   "id": "944eb266",
   "metadata": {
    "slideshow": {
     "slide_type": "slide"
    }
   },
   "outputs": [
    {
     "data": {
      "text/latex": [
       "$\\displaystyle s^{2} Y{\\left(s \\right)} - 4 s Y{\\left(s \\right)} - s + 5 = - \\frac{3}{s + 1} + \\frac{6}{s - 3}$"
      ],
      "text/plain": [
       "Eq(s**2*Y(s) - 4*s*Y(s) - s + 5, -3/(s + 1) + 6/(s - 3))"
      ]
     },
     "execution_count": 11,
     "metadata": {},
     "output_type": "execute_result"
    }
   ],
   "source": [
    "eq_tran  "
   ]
  },
  {
   "cell_type": "markdown",
   "id": "85f01d59",
   "metadata": {
    "slideshow": {
     "slide_type": "slide"
    }
   },
   "source": [
    "$$ s^{2}Y - 4sY = s - 5 -\\frac{3}{s+1} + \\frac{6}{s-3} $$"
   ]
  },
  {
   "cell_type": "markdown",
   "id": "0b2a6b98",
   "metadata": {
    "slideshow": {
     "slide_type": "slide"
    }
   },
   "source": [
    "$$ (s^{2} - 4s)Y = s - 5 -\\frac{3}{s+1} + \\frac{6}{s-3} $$"
   ]
  },
  {
   "cell_type": "markdown",
   "id": "8ea13e16",
   "metadata": {
    "slideshow": {
     "slide_type": "slide"
    }
   },
   "source": [
    "$$ s(s - 4)Y = \\frac{(s-5)(s+1)(s-3)}{(s+1)(s-3)} - \\frac{3(s-3)}{(s+1)(s-3)} + \\frac{6(s+1)}{(s+1)(s-3)} $$"
   ]
  },
  {
   "cell_type": "markdown",
   "id": "e5f36726",
   "metadata": {
    "slideshow": {
     "slide_type": "slide"
    }
   },
   "source": [
    "$$ s(s-4)Y = \\frac{(s-5)(s+1)(s-3) - 3(s-3) + 6(s+1)}{(s+1)(s-3)} $$"
   ]
  },
  {
   "cell_type": "markdown",
   "id": "9ec0f995",
   "metadata": {
    "slideshow": {
     "slide_type": "slide"
    }
   },
   "source": [
    "$$ Y =  \\frac{(s-5)(s+1)(s-3) - 3(s-3) + 6(s+1)}{s(s-4)(s+1)(s-3)}$$"
   ]
  },
  {
   "cell_type": "markdown",
   "id": "5acfe681",
   "metadata": {
    "slideshow": {
     "slide_type": "slide"
    }
   },
   "source": [
    "$$ Y = \\frac{(s^{2}- 4s -5)(s-3) -3s+9 + 6s + 6}{s(s+1)(s-3)(s-4)} $$"
   ]
  },
  {
   "cell_type": "markdown",
   "id": "08ce0d79",
   "metadata": {
    "slideshow": {
     "slide_type": "slide"
    }
   },
   "source": [
    "$$ Y = \\frac{ s^{3} -4s^{2} -5s -3s^{2} + 12s + 15 + 3s + 15  }{s(s+1)(s-3)(s-4)} $$"
   ]
  },
  {
   "cell_type": "markdown",
   "id": "242b0dbe",
   "metadata": {
    "slideshow": {
     "slide_type": "slide"
    }
   },
   "source": [
    "$$ Y = \\frac{s^{3} - 7s^{2} + 10s + 30}{s(s+1)(s-3)(s-4)} $$"
   ]
  },
  {
   "cell_type": "markdown",
   "id": "c22c95f2",
   "metadata": {
    "slideshow": {
     "slide_type": "slide"
    }
   },
   "source": [
    "$$ Y = \\frac{A}{s} + \\frac{B}{s+1} + \\frac{C}{s-3} + \\frac{D}{s-4} $$"
   ]
  },
  {
   "cell_type": "code",
   "execution_count": 12,
   "id": "6989c80d",
   "metadata": {
    "slideshow": {
     "slide_type": "slide"
    }
   },
   "outputs": [],
   "source": [
    "sol = solve(eq_tran, Y(s))[0]"
   ]
  },
  {
   "cell_type": "code",
   "execution_count": 13,
   "id": "c33a7903",
   "metadata": {
    "slideshow": {
     "slide_type": "slide"
    }
   },
   "outputs": [
    {
     "data": {
      "text/latex": [
       "$\\displaystyle \\frac{s^{3} - 7 s^{2} + 10 s + 30}{s \\left(s^{3} - 6 s^{2} + 5 s + 12\\right)}$"
      ],
      "text/plain": [
       "(s**3 - 7*s**2 + 10*s + 30)/(s*(s**3 - 6*s**2 + 5*s + 12))"
      ]
     },
     "execution_count": 13,
     "metadata": {},
     "output_type": "execute_result"
    }
   ],
   "source": [
    "sol "
   ]
  },
  {
   "cell_type": "code",
   "execution_count": 14,
   "id": "a8ba4ebf",
   "metadata": {
    "slideshow": {
     "slide_type": "slide"
    }
   },
   "outputs": [],
   "source": [
    "def factor_2(s):\n",
    "    return s**3 - 6*s**2 + 5*s + 12 "
   ]
  },
  {
   "cell_type": "code",
   "execution_count": 15,
   "id": "3119463a",
   "metadata": {
    "slideshow": {
     "slide_type": "slide"
    }
   },
   "outputs": [],
   "source": [
    "import numpy as np \n",
    "posibles_raices_racionales = np.array([1,2,3,4,6,12, -1,-2,-3,-4,-6,-12])"
   ]
  },
  {
   "cell_type": "code",
   "execution_count": 16,
   "id": "346e4661",
   "metadata": {
    "slideshow": {
     "slide_type": "slide"
    }
   },
   "outputs": [
    {
     "data": {
      "text/plain": [
       "array([   12,     6,     0,     0,    42,   936,     0,   -30,   -84,\n",
       "        -168,  -450, -2640])"
      ]
     },
     "execution_count": 16,
     "metadata": {},
     "output_type": "execute_result"
    }
   ],
   "source": [
    "factor_2(posibles_raices_racionales) "
   ]
  },
  {
   "cell_type": "code",
   "execution_count": 17,
   "id": "924e8983",
   "metadata": {
    "slideshow": {
     "slide_type": "slide"
    }
   },
   "outputs": [
    {
     "data": {
      "text/latex": [
       "$\\displaystyle \\frac{s^{3} - 7 s^{2} + 10 s + 30}{s \\left(s - 4\\right) \\left(s - 3\\right) \\left(s + 1\\right)}$"
      ],
      "text/plain": [
       "(s**3 - 7*s**2 + 10*s + 30)/(s*(s - 4)*(s - 3)*(s + 1))"
      ]
     },
     "execution_count": 17,
     "metadata": {},
     "output_type": "execute_result"
    }
   ],
   "source": [
    "Y = (s**3 - 7*s**2 + 10*s + 30)/(s*(s-3)*(s-4)*(s+1))\n",
    "Y "
   ]
  },
  {
   "cell_type": "markdown",
   "id": "1a757d57",
   "metadata": {},
   "source": [
    "$$ Y(s) = \\frac{A}{s} + \\frac{B}{s-4} + \\frac{C}{s-3} + \\frac{D}{s+1} $$"
   ]
  },
  {
   "cell_type": "code",
   "execution_count": 18,
   "id": "08d1a437",
   "metadata": {
    "slideshow": {
     "slide_type": "slide"
    }
   },
   "outputs": [
    {
     "data": {
      "text/latex": [
       "$\\displaystyle - \\frac{3}{5 \\left(s + 1\\right)} - \\frac{2}{s - 3} + \\frac{11}{10 \\left(s - 4\\right)} + \\frac{5}{2 s}$"
      ],
      "text/plain": [
       "-3/(5*(s + 1)) - 2/(s - 3) + 11/(10*(s - 4)) + 5/(2*s)"
      ]
     },
     "execution_count": 18,
     "metadata": {},
     "output_type": "execute_result"
    }
   ],
   "source": [
    "Y = Y.apart() \n",
    "Y "
   ]
  },
  {
   "cell_type": "code",
   "execution_count": 19,
   "id": "07d52668",
   "metadata": {
    "slideshow": {
     "slide_type": "slide"
    }
   },
   "outputs": [
    {
     "data": {
      "text/latex": [
       "$\\displaystyle \\frac{\\left(11 e^{5 t} - 20 e^{4 t} + 25 e^{t} - 6\\right) e^{- t} \\theta\\left(t\\right)}{10}$"
      ],
      "text/plain": [
       "(11*exp(5*t) - 20*exp(4*t) + 25*exp(t) - 6)*exp(-t)*Heaviside(t)/10"
      ]
     },
     "execution_count": 19,
     "metadata": {},
     "output_type": "execute_result"
    }
   ],
   "source": [
    "y = inv_L(Y)\n",
    "y "
   ]
  },
  {
   "cell_type": "code",
   "execution_count": 20,
   "id": "dc0ead86",
   "metadata": {
    "slideshow": {
     "slide_type": "slide"
    }
   },
   "outputs": [
    {
     "data": {
      "text/latex": [
       "$\\displaystyle \\frac{11 e^{4 t}}{10} - 2 e^{3 t} + \\frac{5}{2} - \\frac{3 e^{- t}}{5}$"
      ],
      "text/plain": [
       "11*exp(4*t)/10 - 2*exp(3*t) + 5/2 - 3*exp(-t)/5"
      ]
     },
     "execution_count": 20,
     "metadata": {},
     "output_type": "execute_result"
    }
   ],
   "source": [
    "y_ = (11*exp(5*t) - 20*exp(4*t) + 25*exp(t) - 6)*exp(-t)/10 \n",
    "y_ = y_.expand() \n",
    "y_ "
   ]
  },
  {
   "cell_type": "code",
   "execution_count": 21,
   "id": "38bddc59",
   "metadata": {
    "slideshow": {
     "slide_type": "slide"
    }
   },
   "outputs": [
    {
     "data": {
      "text/latex": [
       "$\\displaystyle 6 e^{3 t} - 3 e^{- t}$"
      ],
      "text/plain": [
       "6*exp(3*t) - 3*exp(-t)"
      ]
     },
     "execution_count": 21,
     "metadata": {},
     "output_type": "execute_result"
    }
   ],
   "source": [
    "-4*diff(y_,t) + diff(y_,t,2)"
   ]
  },
  {
   "cell_type": "markdown",
   "id": "647c8d03",
   "metadata": {
    "slideshow": {
     "slide_type": "slide"
    }
   },
   "source": [
    "### Conclusión:   \n",
    "\n",
    "La solución obtenida satisface la Ecuación diferencial que hace parte del PVI dada. "
   ]
  },
  {
   "cell_type": "code",
   "execution_count": 22,
   "id": "8efd6079",
   "metadata": {
    "slideshow": {
     "slide_type": "slide"
    }
   },
   "outputs": [
    {
     "data": {
      "text/latex": [
       "$\\displaystyle 1$"
      ],
      "text/plain": [
       "1"
      ]
     },
     "execution_count": 22,
     "metadata": {},
     "output_type": "execute_result"
    }
   ],
   "source": [
    "y_.subs({t:0}) "
   ]
  },
  {
   "cell_type": "code",
   "execution_count": 23,
   "id": "b9969310",
   "metadata": {
    "slideshow": {
     "slide_type": "slide"
    }
   },
   "outputs": [
    {
     "data": {
      "text/latex": [
       "$\\displaystyle -1$"
      ],
      "text/plain": [
       "-1"
      ]
     },
     "execution_count": 23,
     "metadata": {},
     "output_type": "execute_result"
    }
   ],
   "source": [
    "diff(y_,t).subs({t:0}) "
   ]
  },
  {
   "cell_type": "markdown",
   "id": "bb807b0f",
   "metadata": {
    "slideshow": {
     "slide_type": "slide"
    }
   },
   "source": [
    "### Concusión 2:\n",
    "\n",
    "La función obtenida también satisface las condiciones inicales, por lo tanto, la solución obtenida si es solución del PVI. "
   ]
  },
  {
   "cell_type": "markdown",
   "id": "3ca150fa",
   "metadata": {
    "slideshow": {
     "slide_type": "slide"
    }
   },
   "source": [
    "## Gráfica de la función solución $y(t)$"
   ]
  },
  {
   "cell_type": "code",
   "execution_count": 24,
   "id": "47f1e69e",
   "metadata": {
    "slideshow": {
     "slide_type": "slide"
    }
   },
   "outputs": [
    {
     "data": {
      "image/png": "[encoded data removed]",
      "text/plain": [
       "<Figure size 432x288 with 1 Axes>"
      ]
     },
     "metadata": {},
     "output_type": "display_data"
    }
   ],
   "source": [
    "import numpy as np \n",
    "import matplotlib.pyplot as plt \n",
    "\n",
    "plt.style.use('dark_background') \n",
    "\n",
    "t = np.linspace(0,4,100)\n",
    "\n",
    "fig = plt.figure()\n",
    "ax = fig.add_subplot()\n",
    "\n",
    "y = (11*np.exp(5*t) - 20*np.exp(4*t) + 25*np.exp(t) - 6)*np.exp(-t)/10 \n",
    "\n",
    "ax.plot([0,4],[0,0], color = 'cyan', alpha = 0.6)   # eje horizontal\n",
    "\n",
    "ax.plot(t, y, color = 'orange')         # gráfico de función solución del PVI \n",
    "\n",
    "\n",
    "\n",
    "ax.set(title = r'Gráfico de $y(t)$', xlabel = 't', ylabel = r'$y(t)$')\n",
    "\n",
    "\n",
    "ax.grid(True, alpha = 0.3)  \n",
    "\n",
    "plt.savefig('3_pvi_2.jpg') \n",
    "\n",
    "plt.show() "
   ]
  },
  {
   "cell_type": "markdown",
   "id": "bd296381",
   "metadata": {
    "slideshow": {
     "slide_type": "slide"
    }
   },
   "source": [
    "## Solución analítica de este PVI"
   ]
  },
  {
   "cell_type": "code",
   "execution_count": null,
   "id": "f9bedf29",
   "metadata": {
    "slideshow": {
     "slide_type": "slide"
    }
   },
   "outputs": [],
   "source": []
  },
  {
   "cell_type": "code",
   "execution_count": null,
   "id": "46a53696",
   "metadata": {
    "slideshow": {
     "slide_type": "slide"
    }
   },
   "outputs": [],
   "source": []
  },
  {
   "cell_type": "code",
   "execution_count": null,
   "id": "bf2b37e2",
   "metadata": {
    "slideshow": {
     "slide_type": "slide"
    }
   },
   "outputs": [],
   "source": []
  },
  {
   "cell_type": "markdown",
   "id": "29295a57",
   "metadata": {
    "slideshow": {
     "slide_type": "slide"
    }
   },
   "source": [
    "## Teorema que sustentó la descomposición en fracciones parciales en este cuaderno"
   ]
  },
  {
   "cell_type": "markdown",
   "id": "b2ab6728",
   "metadata": {
    "slideshow": {
     "slide_type": "slide"
    }
   },
   "source": [
    "* Teorema de los posibles ceros racionales de una polinomio de coefientes enteros. \n",
    "* Teorema del residuo \n",
    "* Teorema del factor "
   ]
  },
  {
   "cell_type": "markdown",
   "id": "d94cd5d7",
   "metadata": {
    "slideshow": {
     "slide_type": "slide"
    }
   },
   "source": [
    "## Funciones de sympy y numpy que permitieron resolver el ejercicio"
   ]
  },
  {
   "cell_type": "markdown",
   "id": "0a25edcb",
   "metadata": {
    "slideshow": {
     "slide_type": "slide"
    }
   },
   "source": [
    "* `Eq()` para construir las ecuaciones de sympy\n",
    "* `expand()` método de sympy para expresar un producto como una suma"
   ]
  },
  {
   "cell_type": "markdown",
   "id": "09e99bd8",
   "metadata": {
    "slideshow": {
     "slide_type": "slide"
    }
   },
   "source": [
    "## Referentes  \n",
    "\n",
    "* Zill\n"
   ]
  }
 ],
 "metadata": {
  "celltoolbar": "Slideshow",
  "kernelspec": {
   "display_name": "Python 3",
   "language": "python",
   "name": "python3"
  },
  "language_info": {
   "codemirror_mode": {
    "name": "ipython",
    "version": 3
   },
   "file_extension": ".py",
   "mimetype": "text/x-python",
   "name": "python",
   "nbconvert_exporter": "python",
   "pygments_lexer": "ipython3",
   "version": "3.8.8"
  },
  "latex_envs": {
   "LaTeX_envs_menu_present": true,
   "autoclose": false,
   "autocomplete": false,
   "bibliofile": "biblio.bib",
   "cite_by": "apalike",
   "current_citInitial": 1,
   "eqLabelWithNumbers": true,
   "eqNumInitial": 1,
   "hotkeys": {
    "equation": "Ctrl-E",
    "itemize": "Ctrl-I"
   },
   "labels_anchors": false,
   "latex_user_defs": false,
   "report_style_numbering": false,
   "user_envs_cfg": false
  }
 },
 "nbformat": 4,
 "nbformat_minor": 5
}
