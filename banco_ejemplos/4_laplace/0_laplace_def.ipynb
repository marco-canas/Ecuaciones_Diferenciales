{
 "cells": [
  {
   "cell_type": "markdown",
   "id": "f81d9308",
   "metadata": {},
   "source": [
    "<table align=\"left\">\n",
    "  <td>\n",
    "    <a href=\"https://colab.research.google.com/github/marco-canas/edo/blob/main/clases/class_15/7_6_sist_laplace.ipynb#scrollTo=fb4c467b\" target=\"_parent\"><img src=\"https://colab.research.google.com/assets/colab-badge.svg\" alt=\"Open In Colab\"/></a>\n",
    "  </td>\n",
    "  <td>\n",
    "    <a target=\"_blank\" href=\"https://kaggle.com/kernels/welcome?src=https://github.com/marco-canas/edo/blob/main/clases/class_15/7_6_sist_laplace.ipynb#scrollTo=fb4c467b\"><img src=\"https://kaggle.com/static/images/open-in-kaggle.svg\" /></a>\n",
    "  </td>\n",
    "</table>"
   ]
  },
  {
   "cell_type": "markdown",
   "id": "37ee3ccf",
   "metadata": {},
   "source": [
    "# Ejercicio ejemplo sobre cálculo de la transformada de Laplace por definición"
   ]
  },
  {
   "cell_type": "markdown",
   "id": "e81cc79a",
   "metadata": {},
   "source": [
    "Calcule la transformada de laplace de \n",
    "\n",
    "$$ te^{4t}$$\n",
    "\n",
    "utilizando solo la definición. \n"
   ]
  },
  {
   "cell_type": "markdown",
   "id": "90936c10",
   "metadata": {},
   "source": [
    "## [Video de apoyo]() "
   ]
  },
  {
   "cell_type": "markdown",
   "id": "ffb757a0",
   "metadata": {},
   "source": [
    "## Solución analítica"
   ]
  },
  {
   "cell_type": "markdown",
   "id": "7cbb4382",
   "metadata": {},
   "source": [
    "$$ L[te^{4t}] = \\int_{0}^{\\infty} e^{-st}[te^{4t}]\\ dt $$"
   ]
  },
  {
   "cell_type": "markdown",
   "id": "96c6460e",
   "metadata": {},
   "source": [
    "Aplicando propiedades algebraicas de la multiplicacion de funciones obtenemos:\n",
    "\n",
    "$$ L[te^{4t}] = \\int_{0}^{\\infty} te^{-st + 4t} \\ dt $$\n"
   ]
  },
  {
   "cell_type": "markdown",
   "id": "8ec71d37",
   "metadata": {},
   "source": [
    "$$ L[te^{4t}] = \\int_{0}^{\\infty} te^{-t(s-4)}\\ dt $$"
   ]
  },
  {
   "cell_type": "markdown",
   "id": "45ec9df9",
   "metadata": {},
   "source": [
    "Apliquemos ahora el método de integración por partes para la integral indefinida asociada:\n",
    "\n",
    "$$ I = \\int te^{-t(s-4)}\\ dt $$"
   ]
  },
  {
   "cell_type": "markdown",
   "id": "5bfc03a7",
   "metadata": {},
   "source": [
    "Como el integrando es un producto entre una función polinómica y una exponencial, entonces debemos elegir: \n",
    "\n",
    "$$ u = t\\ \\ \\ \\ dv = e^{-t(s-4)}dt  $$\n",
    "\n",
    "$$ du = dt \\ \\ \\ \\ v = \\frac{e^{-t(s-4)}}{-(s-4)} $$"
   ]
  },
  {
   "cell_type": "markdown",
   "id": "c6648960",
   "metadata": {},
   "source": [
    "$$ I = \\int te^{-t(s-4)}\\ dt =  \\frac{te^{-t(s-4)}}{-(s-4)} + \\frac{1}{s-4}\\int e^{-t(s-4)}\\ dt $$"
   ]
  },
  {
   "cell_type": "markdown",
   "id": "9fd63b32",
   "metadata": {},
   "source": [
    "$$ I = \\int te^{-t(s-4)}\\ dt = \\frac{te^{-t(s-4)}}{-(s-4)} + \\frac{1}{s-4} \\cdot \\frac{e^{-t(s-4)}}{-(s-4)} $$"
   ]
  },
  {
   "cell_type": "markdown",
   "id": "bf25d257",
   "metadata": {},
   "source": [
    "$$ I = \\int te^{-t(s-4)} \\ dt = -\\frac{te^{-t(s-4)}}{s-4} - \\frac{e^{-t(s-4)}}{(s-4)^{2}} $$"
   ]
  },
  {
   "cell_type": "markdown",
   "id": "5e2a028a",
   "metadata": {},
   "source": [
    "$$ I = \\int te^{-t(s-4)} \\ dt = -e^{-t(s-4)}\\left( \\frac{t}{s-4} + \\frac{1}{(s-4)^{2}} \\right) $$"
   ]
  },
  {
   "cell_type": "markdown",
   "id": "ab3d878d",
   "metadata": {},
   "source": [
    "$$ I = \\int te^{-t(s-4)} \\ dt = -e^{-t(s-4)}\\left( \\frac{t(s-4)}{(s-4)^{2}} + \\frac{1}{(s-4)^{2}} \\right)  $$"
   ]
  },
  {
   "cell_type": "markdown",
   "id": "ff2a1754",
   "metadata": {},
   "source": [
    "$$ I = \\int te^{-t(s-4)} \\ dt = \\frac{-1}{(s-4)^{2}} \\cdot \\left[e^{-t(s-4)}(t(s-4) + 1)  \\right] $$"
   ]
  },
  {
   "cell_type": "markdown",
   "id": "610f4d48",
   "metadata": {},
   "source": [
    "Para calcular la integral impropia asociada expresaremos el segundo factor como un cociente de funciones de $t$:\n",
    "\n",
    "$$ I = \\int te^{-t(s-4)}\\ dt = \\frac{-1}{(s-4)^{2}} \\cdot \\left[ \\frac{t(s-4) + 1}{e^{t(s-4)}} \\right] $$"
   ]
  },
  {
   "cell_type": "markdown",
   "id": "09278238",
   "metadata": {},
   "source": [
    "Volvamos a la integral impropia que define a la transformada de Laplace que estamos calculando: "
   ]
  },
  {
   "cell_type": "markdown",
   "id": "fbadbbf8",
   "metadata": {},
   "source": [
    "$$ L[te^{4t}] = \\int_{0}^{\\infty} te^{-t(s-4)}\\ dt = \\frac{-1}{(s-4)^{2}} \\cdot \\left[ \\frac{t(s-4) + 1}{e^{t(s-4)}} \\right]_{0}^{\\infty} $$"
   ]
  },
  {
   "cell_type": "markdown",
   "id": "48417c9f",
   "metadata": {},
   "source": [
    "$$ L[te^{4t}] = \\int_{0}^{\\infty} te^{-t(s-4)}\\ dt = \\frac{-1}{(s-4)^{2}} \\left[ \\lim_{t \\to \\infty} \\frac{t(s-4) + 1}{e^{t(s-4)}}  -  \\frac{(0)(s-4) + 1}{e^{(0)(s-4)}}\\right] $$"
   ]
  },
  {
   "cell_type": "markdown",
   "id": "d4d93108",
   "metadata": {},
   "source": [
    "$$ L[te^{4t}] = \\int_{0}^{\\infty} te^{-t(s-4)}\\ dt = \\frac{-1}{(s-4)^{2}} \\left[ \\lim_{t \\to \\infty} \\frac{t(s-4) + 1}{e^{t(s-4)}}  - 1 \\right] $$"
   ]
  },
  {
   "cell_type": "markdown",
   "id": "ed053576",
   "metadata": {},
   "source": [
    "Si asumimos que $s > 4$, entonces $(t(s-4) + 1) \\to \\infty$ y $e^{t(s-4)} \\to \\infty$ cuando $t \\to \\infty$, por tanto, podemos aplicar la regle de Lhopital para obtener:"
   ]
  },
  {
   "cell_type": "markdown",
   "id": "9cb75cac",
   "metadata": {},
   "source": [
    "$$ L[te^{4t}] = \\int_{0}^{\\infty} te^{-t(s-4)}\\ dt = \\frac{-1}{(s-4)^{2}} \\left[ \\lim_{t \\to \\infty} \\frac{(s-4) }{e^{t(s-4)}(s-4)}  - 1 \\right] $$"
   ]
  },
  {
   "cell_type": "markdown",
   "id": "50df0a4b",
   "metadata": {},
   "source": [
    "$$ L[te^{4t}] = \\int_{0}^{\\infty} te^{-t(s-4)}\\ dt = \\frac{-1}{(s-4)^{2}} \\left[ \\lim_{t \\to \\infty} \\frac{1 }{e^{t(s-4)}}  - 1 \\right] $$"
   ]
  },
  {
   "cell_type": "markdown",
   "id": "592f21c6",
   "metadata": {},
   "source": [
    "$$ L[te^{4t}] = \\int_{0}^{\\infty} te^{-t(s-4)}\\ dt = \\frac{-1}{(s-4)^{2}} \\left[ 0  - 1 \\right] $$"
   ]
  },
  {
   "cell_type": "markdown",
   "id": "5dd27f8b",
   "metadata": {},
   "source": [
    "$$ L[te^{4t}] = \\frac{1}{(s-4)^{2}} $$"
   ]
  },
  {
   "cell_type": "markdown",
   "id": "cdc66459",
   "metadata": {},
   "source": [
    "## Solución con Sympy"
   ]
  },
  {
   "cell_type": "code",
   "execution_count": 1,
   "id": "f9f541af",
   "metadata": {},
   "outputs": [],
   "source": [
    "from sympy import *\n",
    "t = symbols('t', real = True, nonegative = True)\n",
    "s = symbols('s', real = True, positive = True) "
   ]
  },
  {
   "cell_type": "code",
   "execution_count": 2,
   "id": "ea341704",
   "metadata": {},
   "outputs": [],
   "source": [
    "def L(f):\n",
    "    return laplace_transform(f,t,s, noconds = True) "
   ]
  },
  {
   "cell_type": "code",
   "execution_count": 3,
   "id": "1d5586ee",
   "metadata": {},
   "outputs": [
    {
     "data": {
      "text/latex": [
       "$\\displaystyle \\frac{1}{\\left(s - 4\\right)^{2}}$"
      ],
      "text/plain": [
       "(s - 4)**(-2)"
      ]
     },
     "execution_count": 3,
     "metadata": {},
     "output_type": "execute_result"
    }
   ],
   "source": [
    "L(t*exp(4*t)) "
   ]
  },
  {
   "cell_type": "markdown",
   "id": "e22b45aa",
   "metadata": {},
   "source": [
    "## Elementos de cálculo diferencial e integral utilizados en este cuaderno"
   ]
  },
  {
   "cell_type": "markdown",
   "id": "a598b99e",
   "metadata": {},
   "source": [
    "$$\\int e^{kt}dt = \\frac{e^{kt}}{k} $$\n",
    "\n",
    "* La regla de LHopital\n",
    "\n",
    "$$\\lim_{t \\to \\infty}\\frac{f(t)}{g(t)} = \\lim_{t \\to \\infty} \\frac{f'(t)}{g'(t)} $$\n",
    "\n",
    "siempre que $f(t) \\to \\infty$ y $g(t) \\to \\infty$ cuando $t \\to \\infty$. "
   ]
  },
  {
   "cell_type": "markdown",
   "id": "c7ff2896",
   "metadata": {},
   "source": [
    "## Fórmulas de transformadas utilizadas en este cuaderno"
   ]
  },
  {
   "cell_type": "markdown",
   "id": "6d564254",
   "metadata": {},
   "source": [
    "* $$ L[t] = \\frac{1}{s^{2}} $$  \n",
    "\n",
    "\n",
    "* $$ L(f(t)e^{at}) = F(s-a) $$"
   ]
  },
  {
   "cell_type": "markdown",
   "id": "ef9987b2",
   "metadata": {},
   "source": [
    "## Funciones dde Sympy utilizadas en este cuaderno"
   ]
  },
  {
   "cell_type": "markdown",
   "id": "e2c1e86d",
   "metadata": {},
   "source": [
    "* laplace_transfor(f,t,s,noconds = True) para calcular la transformada de laplace de una   \n",
    "  función $f(t)$"
   ]
  },
  {
   "cell_type": "markdown",
   "id": "f47d996d",
   "metadata": {},
   "source": [
    "## Referentes   \n",
    "\n",
    "* Zill"
   ]
  }
 ],
 "metadata": {
  "kernelspec": {
   "display_name": "Python 3",
   "language": "python",
   "name": "python3"
  },
  "language_info": {
   "codemirror_mode": {
    "name": "ipython",
    "version": 3
   },
   "file_extension": ".py",
   "mimetype": "text/x-python",
   "name": "python",
   "nbconvert_exporter": "python",
   "pygments_lexer": "ipython3",
   "version": "3.8.8"
  },
  "latex_envs": {
   "LaTeX_envs_menu_present": true,
   "autoclose": false,
   "autocomplete": false,
   "bibliofile": "biblio.bib",
   "cite_by": "apalike",
   "current_citInitial": 1,
   "eqLabelWithNumbers": true,
   "eqNumInitial": 1,
   "hotkeys": {
    "equation": "Ctrl-E",
    "itemize": "Ctrl-I"
   },
   "labels_anchors": false,
   "latex_user_defs": false,
   "report_style_numbering": false,
   "user_envs_cfg": false
  }
 },
 "nbformat": 4,
 "nbformat_minor": 5
}
