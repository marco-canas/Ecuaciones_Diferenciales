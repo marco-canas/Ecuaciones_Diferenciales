{
 "cells": [
  {
   "cell_type": "markdown",
   "id": "4a6fe0f4",
   "metadata": {
    "slideshow": {
     "slide_type": "slide"
    }
   },
   "source": [
    "<table align=\"left\">\n",
    "  <td>\n",
    "    <a href=\"https://colab.research.google.com/github/marco-canas/edo/blob/main/banco_ejemplos/4_laplace/0_descomposicion_fracciones/fracciones_3/.ipynb_checkpoints/3_descomposicion_factores_cuadraticos_no_repetidos.ipynb\" target=\"_parent\"><img src=\"https://colab.research.google.com/assets/colab-badge.svg\" alt=\"Open In Colab\"/></a>\n",
    "  </td>\n",
    "  <td>\n",
    "    <a target=\"_blank\" href=\"https://kaggle.com/kernels/welcome?src=https://github.com/marco-canas/edo/blob/main/banco_ejemplos/4_laplace/0_descomposicion_fracciones/fracciones_3/.ipynb_checkpoints/3_descomposicion_factores_cuadraticos_no_repetidos.ipynb\"><img src=\"https://kaggle.com/static/images/open-in-kaggle.svg\" /></a>\n",
    "  </td>\n",
    "</table>"
   ]
  },
  {
   "cell_type": "markdown",
   "id": "10df6857",
   "metadata": {
    "slideshow": {
     "slide_type": "slide"
    }
   },
   "source": [
    "# Descomposición cuando hay factores cuadráticos no repetidos  "
   ]
  },
  {
   "cell_type": "markdown",
   "id": "3e8308bc",
   "metadata": {
    "slideshow": {
     "slide_type": "slide"
    }
   },
   "source": [
    "Encuentre la descomposición en fracciones parciales de la siguiente fracción propia:  \n",
    "\n",
    "$$ \\frac{s^{2} + 2s + 2}{s^{4} + 7s^{2} + 6} $$"
   ]
  },
  {
   "cell_type": "markdown",
   "id": "1ba08912",
   "metadata": {
    "slideshow": {
     "slide_type": "slide"
    }
   },
   "source": [
    "## [Video de apoyo](https://www.youtube.com/watch?v=X0le53YKrAQ) "
   ]
  },
  {
   "cell_type": "markdown",
   "id": "6abe3cab",
   "metadata": {
    "slideshow": {
     "slide_type": "slide"
    }
   },
   "source": [
    "## Solución analítica"
   ]
  },
  {
   "cell_type": "markdown",
   "id": "1bb25453",
   "metadata": {
    "slideshow": {
     "slide_type": "slide"
    }
   },
   "source": [
    "### Metodología de solución\n",
    "\n",
    "1. Factorizar\n",
    "2. aplicar el teorema de descomposición.\n",
    "3. Ecuación básica.\n",
    "4. Obtener la igual de polinomios.\n",
    "5. Resolver el sistema algebraico.\n"
   ]
  },
  {
   "cell_type": "markdown",
   "id": "18157004",
   "metadata": {
    "slideshow": {
     "slide_type": "slide"
    }
   },
   "source": [
    "Empecemos factorizando el denominador de la fracción propia a descomponer:\n",
    "\n",
    "$$ \\frac{s^{2} + 2s + 2}{s^{4} + 7s^{2} + 6}  = \\frac{s^{2} + 2s + 2}{(s^{2} + 6)(s^{2} + 1)} $$\n",
    "\n",
    "Pues $s^{4} + 7s^{2} + 6$ es un trinomio de la forma $s^{2n} + bs^{n} + c$. \n"
   ]
  },
  {
   "cell_type": "markdown",
   "id": "88cfb506",
   "metadata": {
    "slideshow": {
     "slide_type": "slide"
    }
   },
   "source": [
    "$$ \\frac{s^{2} + 2s + 2}{(s^{2} + 6)(s^{2} + 1)}  = \\frac{As + B}{s^{2} + 6} + \\frac{Cs + D}{s^{2} + 1} $$"
   ]
  },
  {
   "cell_type": "markdown",
   "id": "1af991a6",
   "metadata": {
    "slideshow": {
     "slide_type": "slide"
    }
   },
   "source": [
    "Pues los numeradores de las fracciones parciales asociadas a los factores cuadráticos irraducibles no repetidos son en general formas lineales.  "
   ]
  },
  {
   "cell_type": "markdown",
   "id": "c2d5fccc",
   "metadata": {
    "slideshow": {
     "slide_type": "slide"
    }
   },
   "source": [
    "**Advertencia** Una suma de cuadrados no factoriza en el conjunto de los números reales, en particular \n",
    "\n",
    "$$ s^{2} + 1 \\neq (s+1)(s-1) $$\n",
    "\n",
    "No se deje confundir con la diferencia de cuadrados, la cual sí factoriza en el conjunto de los numeros reales. En particular\n",
    "\n",
    "$$ s^{2} - 1 = (s+1)(s-1) $$\n"
   ]
  },
  {
   "cell_type": "markdown",
   "id": "f289bc6c",
   "metadata": {
    "slideshow": {
     "slide_type": "slide"
    }
   },
   "source": [
    "Siguiendo con nuestro problema de descomposición, la ecuación básica asociada es:\n",
    "\n",
    "$$ s^{2} + 2s + 2 = (As + B)(s^{2} + 1) + (Cs + D)(s^{2} + 6) $$\n"
   ]
  },
  {
   "cell_type": "markdown",
   "id": "b4843b50",
   "metadata": {
    "slideshow": {
     "slide_type": "slide"
    }
   },
   "source": [
    "$$ s^{2} + 2s + 2 = (A+C)s^{3} + (B + D)s^{2} + (A+6C)s + (B+6D) $$"
   ]
  },
  {
   "cell_type": "markdown",
   "id": "bf84112c",
   "metadata": {
    "slideshow": {
     "slide_type": "slide"
    }
   },
   "source": [
    "$$ A+C = 0 $$\n",
    "\n",
    "$$ B+D = 1 $$\n",
    "\n",
    "$$ A + 6C = 2 $$\n",
    "\n",
    "$$ B + 6D = 2 $$"
   ]
  },
  {
   "cell_type": "markdown",
   "id": "ef1fbe9d",
   "metadata": {
    "slideshow": {
     "slide_type": "slide"
    }
   },
   "source": [
    "Obtenemos el primer sistema independiente: \n",
    "\n",
    "$$ A + C = 0 $$\n",
    "\n",
    "$$ A + 6C = 2 $$"
   ]
  },
  {
   "cell_type": "markdown",
   "id": "12ff9235",
   "metadata": {
    "slideshow": {
     "slide_type": "slide"
    }
   },
   "source": [
    "Restando ecuaciones obtenemos \n",
    "\n",
    "$$5C = 2 \\Rightarrow C = \\frac{2}{5} $$\n"
   ]
  },
  {
   "cell_type": "markdown",
   "id": "7e3523f1",
   "metadata": {
    "slideshow": {
     "slide_type": "slide"
    }
   },
   "source": [
    "y como $A + C = 0$, entonces $A = -2/5$. "
   ]
  },
  {
   "cell_type": "markdown",
   "id": "a04b0d28",
   "metadata": {
    "slideshow": {
     "slide_type": "slide"
    }
   },
   "source": [
    "Y un segundo sistema independiente:\n",
    "\n",
    "$$ B + D = 1 $$\n",
    "\n",
    "$$ B + 6D = 2 $$"
   ]
  },
  {
   "cell_type": "markdown",
   "id": "f81b279e",
   "metadata": {
    "slideshow": {
     "slide_type": "slide"
    }
   },
   "source": [
    "Restando ecuaciones obtenemos "
   ]
  },
  {
   "cell_type": "code",
   "execution_count": null,
   "id": "6c049fa3",
   "metadata": {
    "slideshow": {
     "slide_type": "slide"
    }
   },
   "outputs": [],
   "source": []
  },
  {
   "cell_type": "markdown",
   "id": "1e5763ee",
   "metadata": {
    "slideshow": {
     "slide_type": "slide"
    }
   },
   "source": [
    "## Solución con la librería de cálculo symbólico sympy"
   ]
  },
  {
   "cell_type": "code",
   "execution_count": 1,
   "id": "35c2d7a5",
   "metadata": {
    "slideshow": {
     "slide_type": "slide"
    }
   },
   "outputs": [],
   "source": [
    "from sympy import * \n",
    "s = symbols('s', positive = True) "
   ]
  },
  {
   "cell_type": "code",
   "execution_count": 2,
   "id": "67355fd5",
   "metadata": {
    "slideshow": {
     "slide_type": "slide"
    }
   },
   "outputs": [
    {
     "data": {
      "text/latex": [
       "$\\displaystyle \\frac{\\left(s^{2} + 2 s\\right) + 2}{\\left(s^{4} + 7 s^{2}\\right) + 6}$"
      ],
      "text/plain": [
       "(s**2 + 2*s + 2)/(s**4 + 7*s**2 + 6)"
      ]
     },
     "execution_count": 2,
     "metadata": {},
     "output_type": "execute_result"
    }
   ],
   "source": [
    "import sympy\n",
    "from sympy.parsing.latex import parse_latex\n",
    "latex_string = r\"\\frac{s^{2} + 2s + 2}{s^{4} + 7s^{2} + 6}\"\n",
    "fraction = parse_latex(latex_string)\n",
    "fraction"
   ]
  },
  {
   "cell_type": "code",
   "execution_count": 3,
   "id": "0470a00a",
   "metadata": {
    "slideshow": {
     "slide_type": "slide"
    }
   },
   "outputs": [
    {
     "data": {
      "text/latex": [
       "$\\displaystyle - \\frac{2 \\left(s - 2\\right)}{5 \\left(s^{2} + 6\\right)} + \\frac{2 s + 1}{5 \\left(s^{2} + 1\\right)}$"
      ],
      "text/plain": [
       "-2*(s - 2)/(5*(s**2 + 6)) + (2*s + 1)/(5*(s**2 + 1))"
      ]
     },
     "execution_count": 3,
     "metadata": {},
     "output_type": "execute_result"
    }
   ],
   "source": [
    "fraction.apart() "
   ]
  },
  {
   "cell_type": "markdown",
   "id": "82e32b8b",
   "metadata": {
    "slideshow": {
     "slide_type": "slide"
    }
   },
   "source": [
    "### Conclusión\n",
    "\n",
    "$$ \\frac{s^{2} + 2s + 2}{s^{4} + 7s^{2} + 6} = \\frac{(-2/5)s + (4/5)}{s^{2} + 6} + \\frac{(2/5)s + 1/5}{s^{2} + 1} $$\n"
   ]
  },
  {
   "cell_type": "markdown",
   "id": "fbea7dcd",
   "metadata": {
    "slideshow": {
     "slide_type": "slide"
    }
   },
   "source": [
    "## Grafica de la función $F(s) = \\frac{s^{2} + 2s + 2}{s^{4} + 7s^{2} + 6}$"
   ]
  },
  {
   "cell_type": "code",
   "execution_count": 13,
   "id": "ec791b87",
   "metadata": {
    "slideshow": {
     "slide_type": "slide"
    }
   },
   "outputs": [
    {
     "data": {
      "image/png": "[encoded data removed]",
      "text/plain": [
       "<Figure size 864x504 with 1 Axes>"
      ]
     },
     "metadata": {},
     "output_type": "display_data"
    }
   ],
   "source": [
    "import numpy as np \n",
    "import matplotlib.pyplot as plt \n",
    "\n",
    "plt.style.use('dark_background')\n",
    "\n",
    "S = np.linspace(0,10,200)  # la notación para la lista de las abscisas siempre será con mayúscula\n",
    "\n",
    "F = lambdify(s,fraction)\n",
    "\n",
    "F_ = F(S) \n",
    "\n",
    "fig = plt.figure(figsize = (12,7)) \n",
    "\n",
    "ax = fig.add_subplot(111)\n",
    "\n",
    "ax.plot(S,F_, color = 'yellow') \n",
    "\n",
    "ax.grid(True, alpha = 0.4)\n",
    "\n",
    "ax.set(title = r'$F(s) = \\frac{s^{2} + 2s + 2}{s^{4} + 7s^{2} + 6}$')\n",
    "\n",
    "plt.savefig('3_descomposicion.jpg')\n",
    "\n",
    "plt.show()\n",
    "\n",
    "\n"
   ]
  },
  {
   "cell_type": "markdown",
   "id": "0320a870",
   "metadata": {
    "slideshow": {
     "slide_type": "slide"
    }
   },
   "source": [
    "## Tres componentes en la presentación didáctica para la enseñanza de la matemática en la seccional Bajo Cauca"
   ]
  },
  {
   "cell_type": "markdown",
   "id": "77c35ab7",
   "metadata": {
    "slideshow": {
     "slide_type": "slide"
    }
   },
   "source": [
    "1. Presentación con Pizarra electrónica de los contenidos y ejemplos\n",
    "2. Presentación en presentación Rise de contenidos y ejemplos con el ánimo de incentivar la lectura desde el repositorio GitHub.\n",
    "3. Presentación de soluciones y verificaciones de problemas con Python y sus librerías asociadas. "
   ]
  },
  {
   "cell_type": "markdown",
   "id": "6f5abd33",
   "metadata": {
    "slideshow": {
     "slide_type": "slide"
    }
   },
   "source": [
    "## Referentes\n",
    "\n",
    "* Zill, Dennis. Ecuaciones diferenciales con Problemas con valores en la frontera. $7^{a}$ edición. "
   ]
  },
  {
   "cell_type": "markdown",
   "id": "74e7d7b2",
   "metadata": {
    "slideshow": {
     "slide_type": "slide"
    }
   },
   "source": [
    "## Intención didáctica de de la implementación de los cuadernos Jupyter Notebook para la enseñanza de la matemática en la Seccional Bajo Cauca de la Universidad de Antioquia."
   ]
  },
  {
   "cell_type": "markdown",
   "id": "d2811b62",
   "metadata": {
    "slideshow": {
     "slide_type": "slide"
    }
   },
   "source": [
    "La creación de estos cuadernos Jupyter nacen de la necesidad y la firme voluntad de orientar y apoyar los procesos de aprendizaje de los estudiantes de la Seccional Bajo Cauca de la Universidad de Antioquia.  \n",
    "\n",
    "Estos cuadernos buscan implementar estrategias didácticas y metodologías que permitan a los estudiantes alcanzar los niveles de desempeño requeridos para avanzar en su proceso de formación, y esto, a su vez permita minimizar los índices de pérdida y deserción, situaciones que claramente hacen parte de los objetivos misionales que se trazan los colegios y universidades. "
   ]
  },
  {
   "cell_type": "code",
   "execution_count": null,
   "id": "af8c0c17",
   "metadata": {},
   "outputs": [],
   "source": []
  }
 ],
 "metadata": {
  "celltoolbar": "Slideshow",
  "kernelspec": {
   "display_name": "Python 3",
   "language": "python",
   "name": "python3"
  },
  "language_info": {
   "codemirror_mode": {
    "name": "ipython",
    "version": 3
   },
   "file_extension": ".py",
   "mimetype": "text/x-python",
   "name": "python",
   "nbconvert_exporter": "python",
   "pygments_lexer": "ipython3",
   "version": "3.8.8"
  },
  "latex_envs": {
   "LaTeX_envs_menu_present": true,
   "autoclose": false,
   "autocomplete": false,
   "bibliofile": "biblio.bib",
   "cite_by": "apalike",
   "current_citInitial": 1,
   "eqLabelWithNumbers": true,
   "eqNumInitial": 1,
   "hotkeys": {
    "equation": "Ctrl-E",
    "itemize": "Ctrl-I"
   },
   "labels_anchors": false,
   "latex_user_defs": false,
   "report_style_numbering": false,
   "user_envs_cfg": false
  },
  "rise": {
   "enable_chalkboard": true,
   "theme": "sky",
   "transition": "zoom"
  }
 },
 "nbformat": 4,
 "nbformat_minor": 5
}
