{
 "cells": [
  {
   "cell_type": "markdown",
   "id": "f9929d6f",
   "metadata": {},
   "source": [
    "<table align=\"left\">\n",
    "  <td>\n",
    "    <a href=\"https://colab.research.google.com/github/marco-canas/edo/blob/main/banco_ejemplos/4_laplace/3_sol_sist_laplace/2_sistema_laplace.ipynb\" target=\"_parent\"><img src=\"https://colab.research.google.com/assets/colab-badge.svg\" alt=\"Open In Colab\"/></a>\n",
    "  </td>\n",
    "  <td>\n",
    "    <a target=\"_blank\" href=\"https://kaggle.com/kernels/welcome?src=https://github.com/marco-canas/edo/blob/main/banco_ejemplos/4_laplace/3_sol_sist_laplace/2_sistema_laplace.ipynb\"><img src=\"https://kaggle.com/static/images/open-in-kaggle.svg\" /></a>\n",
    "  </td>\n",
    "</table>"
   ]
  },
  {
   "cell_type": "markdown",
   "id": "d9fdb0b0",
   "metadata": {},
   "source": [
    "# Descomposición cuando hay factores cuadráticos no repetidos  "
   ]
  },
  {
   "cell_type": "markdown",
   "id": "59b6cba0",
   "metadata": {},
   "source": [
    "Encuentre la descomposición en fracciones parciales de la siguiente fracción propia:  \n",
    "\n",
    "$$ \\frac{s^{2} + 2s + 2}{s^{4} + 7s^{2} + 6} $$"
   ]
  },
  {
   "cell_type": "markdown",
   "id": "f8fd6408",
   "metadata": {},
   "source": [
    "## [Video de apoyo]() "
   ]
  },
  {
   "cell_type": "markdown",
   "id": "123a393e",
   "metadata": {},
   "source": [
    "## Solución analítica"
   ]
  },
  {
   "cell_type": "markdown",
   "id": "05da769d",
   "metadata": {},
   "source": [
    "Empecemos factorizando el denominador de la fracción propia a descomponer:\n",
    "\n",
    "$$ \\frac{s^{2} + 2s + 2}{s^{4} + 7s^{2} + 6}  = \\frac{s^{2} + 2s + 2}{(s^{2} + 6)(s^{2} + 1)} $$\n",
    "\n",
    "Pues $s^{4} + 7s^{2} + 6$ es un trinomio de la forma $s^{2n} + bs^{n} + c$. \n"
   ]
  },
  {
   "cell_type": "code",
   "execution_count": null,
   "id": "04743b28",
   "metadata": {},
   "outputs": [],
   "source": []
  },
  {
   "cell_type": "code",
   "execution_count": null,
   "id": "4be6cb1a",
   "metadata": {},
   "outputs": [],
   "source": []
  },
  {
   "cell_type": "code",
   "execution_count": null,
   "id": "f467c905",
   "metadata": {},
   "outputs": [],
   "source": []
  },
  {
   "cell_type": "code",
   "execution_count": null,
   "id": "c9800433",
   "metadata": {},
   "outputs": [],
   "source": []
  },
  {
   "cell_type": "markdown",
   "id": "a3a2291c",
   "metadata": {},
   "source": [
    "## Solución con la librería de cálculo symbólico sympy"
   ]
  },
  {
   "cell_type": "code",
   "execution_count": 1,
   "id": "2cf78a91",
   "metadata": {},
   "outputs": [],
   "source": [
    "from sympy import * "
   ]
  },
  {
   "cell_type": "code",
   "execution_count": null,
   "id": "4333d4a7",
   "metadata": {},
   "outputs": [],
   "source": []
  },
  {
   "cell_type": "code",
   "execution_count": null,
   "id": "a0acb65b",
   "metadata": {},
   "outputs": [],
   "source": []
  },
  {
   "cell_type": "code",
   "execution_count": null,
   "id": "1bbdbad9",
   "metadata": {},
   "outputs": [],
   "source": []
  }
 ],
 "metadata": {
  "kernelspec": {
   "display_name": "Python 3",
   "language": "python",
   "name": "python3"
  },
  "language_info": {
   "codemirror_mode": {
    "name": "ipython",
    "version": 3
   },
   "file_extension": ".py",
   "mimetype": "text/x-python",
   "name": "python",
   "nbconvert_exporter": "python",
   "pygments_lexer": "ipython3",
   "version": "3.8.8"
  },
  "latex_envs": {
   "LaTeX_envs_menu_present": true,
   "autoclose": false,
   "autocomplete": false,
   "bibliofile": "biblio.bib",
   "cite_by": "apalike",
   "current_citInitial": 1,
   "eqLabelWithNumbers": true,
   "eqNumInitial": 1,
   "hotkeys": {
    "equation": "Ctrl-E",
    "itemize": "Ctrl-I"
   },
   "labels_anchors": false,
   "latex_user_defs": false,
   "report_style_numbering": false,
   "user_envs_cfg": false
  }
 },
 "nbformat": 4,
 "nbformat_minor": 5
}
