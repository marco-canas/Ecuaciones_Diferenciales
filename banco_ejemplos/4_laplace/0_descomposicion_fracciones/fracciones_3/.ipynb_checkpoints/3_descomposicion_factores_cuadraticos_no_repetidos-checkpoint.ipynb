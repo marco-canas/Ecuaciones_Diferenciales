{
 "cells": [
  {
   "cell_type": "markdown",
   "id": "4a6fe0f4",
   "metadata": {},
   "source": [
    "<table align=\"left\">\n",
    "  <td>\n",
    "    <a href=\"https://colab.research.google.com/github/marco-canas/edo/blob/main/banco_ejemplos/4_laplace/3_sol_sist_laplace/2_sistema_laplace.ipynb\" target=\"_parent\"><img src=\"https://colab.research.google.com/assets/colab-badge.svg\" alt=\"Open In Colab\"/></a>\n",
    "  </td>\n",
    "  <td>\n",
    "    <a target=\"_blank\" href=\"https://kaggle.com/kernels/welcome?src=https://github.com/marco-canas/edo/blob/main/banco_ejemplos/4_laplace/3_sol_sist_laplace/2_sistema_laplace.ipynb\"><img src=\"https://kaggle.com/static/images/open-in-kaggle.svg\" /></a>\n",
    "  </td>\n",
    "</table>"
   ]
  },
  {
   "cell_type": "markdown",
   "id": "10df6857",
   "metadata": {},
   "source": [
    "# Descomposición cuando hay factores cuadráticos no repetidos  "
   ]
  },
  {
   "cell_type": "markdown",
   "id": "3e8308bc",
   "metadata": {},
   "source": [
    "Encuentre la descomposición en fracciones parciales de la siguiente fracción propia:  \n",
    "\n",
    "$$ \\frac{s^{2} + 2s + 2}{s^{4} + 7s^{2} + 6} $$"
   ]
  },
  {
   "cell_type": "markdown",
   "id": "1ba08912",
   "metadata": {},
   "source": [
    "## [Video de apoyo]() "
   ]
  },
  {
   "cell_type": "markdown",
   "id": "6abe3cab",
   "metadata": {},
   "source": [
    "## Solución analítica"
   ]
  },
  {
   "cell_type": "markdown",
   "id": "18157004",
   "metadata": {},
   "source": [
    "Empecemos factorizando el denominador de la fracción propia a descomponer:\n",
    "\n",
    "$$ \\frac{s^{2} + 2s + 2}{s^{4} + 7s^{2} + 6}  = \\frac{s^{2} + 2s + 2}{(s^{2} + 6)(s^{2} + 1)} $$\n",
    "\n",
    "Pues $s^{4} + 7s^{2} + 6$ es un trinomio de la forma $s^{2n} + bs^{n} + c$. \n"
   ]
  },
  {
   "cell_type": "markdown",
   "id": "88cfb506",
   "metadata": {},
   "source": [
    "$$ \\frac{s^{2} + 2s + 2}{(s^{2} + 6)(s^{2} + 1)}  = \\frac{As + B}{s^{2} + 6} + \\frac{Cs + D}{s^{2} + 1} $$"
   ]
  },
  {
   "cell_type": "markdown",
   "id": "1af991a6",
   "metadata": {},
   "source": [
    "Pues los numeradores de las fracciones parciales asociadas a los factores cuadráticos irraducibles no repetidos son en general formas lineales.  "
   ]
  },
  {
   "cell_type": "markdown",
   "id": "c2d5fccc",
   "metadata": {},
   "source": [
    "**Advertencia** Una suma de cuadrados no factoriza en el conjunto de los números reales, en particular \n",
    "\n",
    "$$ s^{2} + 1 \\neq (s+1)(s-1) $$\n",
    "\n",
    "No se deje confundir con la diferencia de cuadrados, la cual sí factoriza en el conjunto de los numeros reales. En particular\n",
    "\n",
    "$$ s^{2} - 1 = (s+1)(s-1) $$\n"
   ]
  },
  {
   "cell_type": "markdown",
   "id": "f289bc6c",
   "metadata": {},
   "source": [
    "Siguiendo con nuestro problema de descomposición, la ecuación básica asociada es:\n",
    "\n",
    "$$ s^{2} + 2s + 2 = (As + B)(s^{2} + 1) + (Cs + D)(s^{2} + 6) $$\n"
   ]
  },
  {
   "cell_type": "markdown",
   "id": "b4843b50",
   "metadata": {},
   "source": [
    "$$ s^{2} + 2s + 2 = (A+C)s^{3} + (B + D)s^{2} + (A+6C)s + (B+6D) $$"
   ]
  },
  {
   "cell_type": "markdown",
   "id": "bf84112c",
   "metadata": {},
   "source": [
    "$$ A+C = 0 $$\n",
    "\n",
    "$$ B+D = 1 $$\n",
    "\n",
    "$$ A + 6C = 2 $$\n",
    "\n",
    "$$ B + 6D = 2 $$"
   ]
  },
  {
   "cell_type": "markdown",
   "id": "ef1fbe9d",
   "metadata": {},
   "source": [
    "Obtenemos el primer sistema independiente: \n",
    "\n",
    "$$ A + C = 0 $$\n",
    "\n",
    "$$ A + 6C = 2 $$"
   ]
  },
  {
   "cell_type": "markdown",
   "id": "a04b0d28",
   "metadata": {},
   "source": [
    "Y un segundo sistema independiente:\n",
    "\n",
    "$$ B + D = 1 $$\n",
    "\n",
    "$$ B + 6D = 2 $$"
   ]
  },
  {
   "cell_type": "code",
   "execution_count": null,
   "id": "975a9157",
   "metadata": {},
   "outputs": [],
   "source": []
  },
  {
   "cell_type": "code",
   "execution_count": null,
   "id": "6c049fa3",
   "metadata": {},
   "outputs": [],
   "source": []
  },
  {
   "cell_type": "markdown",
   "id": "1e5763ee",
   "metadata": {},
   "source": [
    "## Solución con la librería de cálculo symbólico sympy"
   ]
  },
  {
   "cell_type": "code",
   "execution_count": 9,
   "id": "35c2d7a5",
   "metadata": {},
   "outputs": [],
   "source": [
    "from sympy import * \n",
    "s = symbols('s', positive = True) "
   ]
  },
  {
   "cell_type": "code",
   "execution_count": 18,
   "id": "67355fd5",
   "metadata": {},
   "outputs": [
    {
     "data": {
      "text/latex": [
       "$\\displaystyle \\frac{\\left(s^{2} + 2 s\\right) + 2}{\\left(s^{4} + 7 s^{2}\\right) + 6}$"
      ],
      "text/plain": [
       "(s**2 + 2*s + 2)/(s**4 + 7*s**2 + 6)"
      ]
     },
     "execution_count": 18,
     "metadata": {},
     "output_type": "execute_result"
    }
   ],
   "source": [
    "import sympy\n",
    "from sympy.parsing.latex import parse_latex\n",
    "latex_string = r\"\\frac{s^{2} + 2s + 2}{s^{4} + 7s^{2} + 6}\"\n",
    "fraction = parse_latex(latex_string)\n",
    "fraction"
   ]
  },
  {
   "cell_type": "code",
   "execution_count": 19,
   "id": "0470a00a",
   "metadata": {},
   "outputs": [
    {
     "data": {
      "text/latex": [
       "$\\displaystyle - \\frac{2 \\left(s - 2\\right)}{5 \\left(s^{2} + 6\\right)} + \\frac{2 s + 1}{5 \\left(s^{2} + 1\\right)}$"
      ],
      "text/plain": [
       "-2*(s - 2)/(5*(s**2 + 6)) + (2*s + 1)/(5*(s**2 + 1))"
      ]
     },
     "execution_count": 19,
     "metadata": {},
     "output_type": "execute_result"
    }
   ],
   "source": [
    "fraction.apart() "
   ]
  },
  {
   "cell_type": "markdown",
   "id": "82e32b8b",
   "metadata": {},
   "source": [
    "### Conclusión\n",
    "\n",
    "$$ \\frac{(-2/5)s + (4/5)}{s^{2} + 6} + \\frac{(2/5)s + 1/5}{s^{2} + 1} $$\n"
   ]
  },
  {
   "cell_type": "code",
   "execution_count": null,
   "id": "5966adac",
   "metadata": {},
   "outputs": [],
   "source": []
  }
 ],
 "metadata": {
  "kernelspec": {
   "display_name": "Python 3",
   "language": "python",
   "name": "python3"
  },
  "language_info": {
   "codemirror_mode": {
    "name": "ipython",
    "version": 3
   },
   "file_extension": ".py",
   "mimetype": "text/x-python",
   "name": "python",
   "nbconvert_exporter": "python",
   "pygments_lexer": "ipython3",
   "version": "3.8.8"
  },
  "latex_envs": {
   "LaTeX_envs_menu_present": true,
   "autoclose": false,
   "autocomplete": false,
   "bibliofile": "biblio.bib",
   "cite_by": "apalike",
   "current_citInitial": 1,
   "eqLabelWithNumbers": true,
   "eqNumInitial": 1,
   "hotkeys": {
    "equation": "Ctrl-E",
    "itemize": "Ctrl-I"
   },
   "labels_anchors": false,
   "latex_user_defs": false,
   "report_style_numbering": false,
   "user_envs_cfg": false
  }
 },
 "nbformat": 4,
 "nbformat_minor": 5
}
