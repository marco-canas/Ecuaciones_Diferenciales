{
 "cells": [
  {
   "cell_type": "markdown",
   "id": "e3d7ec2f",
   "metadata": {},
   "source": [
    "<table align=\"left\">\n",
    "  <td>\n",
    "    <a href=\"https://colab.research.google.com/github/marco-canas/edo/blob/main/clases/class_15/7_6_sist_laplace.ipynb#scrollTo=fb4c467b\" target=\"_parent\"><img src=\"https://colab.research.google.com/assets/colab-badge.svg\" alt=\"Open In Colab\"/></a>\n",
    "  </td>\n",
    "  <td>\n",
    "    <a target=\"_blank\" href=\"https://kaggle.com/kernels/welcome?src=https://github.com/marco-canas/edo/blob/main/clases/class_15/7_6_sist_laplace.ipynb#scrollTo=fb4c467b\"><img src=\"https://kaggle.com/static/images/open-in-kaggle.svg\" /></a>\n",
    "  </td>\n",
    "</table>"
   ]
  },
  {
   "cell_type": "markdown",
   "id": "dff9139e",
   "metadata": {},
   "source": [
    "## Ejemplo ilustrativo de la solución de un sistema de ecuaciones diferenciales lineales de orden 2   \n",
    "\n",
    "Tomado de Dannis Zill, Capítulo 7, sección 7.6, página 315"
   ]
  },
  {
   "cell_type": "markdown",
   "id": "7a3ceaf0",
   "metadata": {},
   "source": [
    "Use la transformada de Laplace para resolver el sistema dado de ecuaciones diferenciales:\n",
    "\n",
    "\\begin{align*}\n",
    "\\frac{d^{2}x}{dt^{2}} + \\frac{dx}{dt} + \\frac{dy}{dt} & = 0 \\\\\n",
    "\\frac{d^{2}y}{dt^{2}} + \\frac{dy}{dt} -4 \\frac{dx}{dt} & = 0\n",
    "\\end{align*}\n",
    "\n",
    "$x(0) = 1$, $x'(0) = 0$, $y(0) = -1$, y $y'(0) = 5$. "
   ]
  },
  {
   "cell_type": "markdown",
   "id": "40323bef",
   "metadata": {},
   "source": [
    "Presentemos el sistema pero con la notación de Euler:\n",
    "\n",
    "\\begin{align*}\n",
    "x'' + x' + y'  & = 0 \\\\\n",
    "y'' + y' - 4x' & = 0\n",
    "\\end{align*}\n",
    "\n",
    "$x(0) = 1$, $x'(0) = 0$, $y(0) = -1$, y $y'(0) = 5$. "
   ]
  },
  {
   "cell_type": "code",
   "execution_count": 1,
   "id": "f55afa50",
   "metadata": {},
   "outputs": [],
   "source": [
    "from sympy import *"
   ]
  },
  {
   "cell_type": "code",
   "execution_count": 2,
   "id": "91118419",
   "metadata": {},
   "outputs": [],
   "source": [
    "t = symbols('t', real = True, nonegative = True) \n",
    "s = symbols('s', real = True, positive = True) \n",
    "\n",
    "f,F,g,G,x,X,y,Y,x1,X1,x2,X2 = symbols('f,F,g,G,x,X,y,Y,x1,X1,x2,X2', real = True)"
   ]
  },
  {
   "cell_type": "code",
   "execution_count": 3,
   "id": "4eb45041",
   "metadata": {},
   "outputs": [],
   "source": [
    "f = Function('f')\n",
    "F = Function('F')\n",
    "g = Function('f')\n",
    "G = Function('F')\n",
    "x = Function('x')\n",
    "X = Function('X')\n",
    "y = Function('y')\n",
    "Y = Function('Y')\n",
    "x1 = Function('x1')\n",
    "X1 = Function('X1')\n",
    "x2 = Function('x2')\n",
    "X2 = Function('X2')"
   ]
  },
  {
   "cell_type": "code",
   "execution_count": 4,
   "id": "1198c826",
   "metadata": {},
   "outputs": [],
   "source": [
    "def L(f):\n",
    "    return laplace_transform(f,t,s, noconds = True)  \n",
    "\n",
    "def inv_L(F):\n",
    "    return inverse_laplace_transform(F,s,t, noconds = True)  \n",
    "\n",
    "def L_diff(f, f0, f_p0, f_pp0 = 0 , n = 1): # esta función es para calcular transformadas de derivadas\n",
    "    \"\"\"\n",
    "    n puede asumir los valores de 0,1,2,3 y representa el orden de la derivada\n",
    "    \"\"\"\n",
    "    F = str(f).upper()\n",
    "    F = symbols(F) \n",
    "    F = Function(F)(s) \n",
    "    if n == 0:\n",
    "        L = F\n",
    "    elif n == 1:\n",
    "        L = s*F - f0\n",
    "    elif n == 2:\n",
    "        L = s**2*F - s*f0 - f_p0\n",
    "    elif n == 3:\n",
    "        L = s**3*F - s**2*f0,-s*f_p0 - f_pp0\n",
    "    return L "
   ]
  },
  {
   "cell_type": "code",
   "execution_count": 7,
   "id": "90f96419",
   "metadata": {},
   "outputs": [],
   "source": [
    "eq1_laplace = Eq(L_diff(x1, 0, 1, n = 2) + 10*L_diff(x1, 0, 1, n = 0) - 4*L_diff(x2, 0, -1, n = 0), 0)\n",
    "eq2_laplace = Eq(-4*L_diff(x1, 0, 1, n = 0) + L_diff(x2, 0, -1, n = 2) + 4*L_diff(x2, 0, -1, 0), 0)"
   ]
  },
  {
   "cell_type": "code",
   "execution_count": 8,
   "id": "d6cba766",
   "metadata": {},
   "outputs": [
    {
     "data": {
      "text/latex": [
       "$\\displaystyle s^{2} \\operatorname{X_{1}}{\\left(s \\right)} + 10 \\operatorname{X_{1}}{\\left(s \\right)} - 4 \\operatorname{X_{2}}{\\left(s \\right)} - 1 = 0$"
      ],
      "text/plain": [
       "Eq(s**2*X1(s) + 10*X1(s) - 4*X2(s) - 1, 0)"
      ]
     },
     "metadata": {},
     "output_type": "display_data"
    },
    {
     "data": {
      "text/latex": [
       "$\\displaystyle s^{2} \\operatorname{X_{2}}{\\left(s \\right)} + 4 s \\operatorname{X_{2}}{\\left(s \\right)} - 4 \\operatorname{X_{1}}{\\left(s \\right)} + 1 = 0$"
      ],
      "text/plain": [
       "Eq(s**2*X2(s) + 4*s*X2(s) - 4*X1(s) + 1, 0)"
      ]
     },
     "metadata": {},
     "output_type": "display_data"
    }
   ],
   "source": [
    "display(eq1_laplace, eq2_laplace) "
   ]
  },
  {
   "cell_type": "code",
   "execution_count": null,
   "id": "43b2e789",
   "metadata": {},
   "outputs": [],
   "source": []
  }
 ],
 "metadata": {
  "kernelspec": {
   "display_name": "Python 3",
   "language": "python",
   "name": "python3"
  },
  "language_info": {
   "codemirror_mode": {
    "name": "ipython",
    "version": 3
   },
   "file_extension": ".py",
   "mimetype": "text/x-python",
   "name": "python",
   "nbconvert_exporter": "python",
   "pygments_lexer": "ipython3",
   "version": "3.8.8"
  },
  "latex_envs": {
   "LaTeX_envs_menu_present": true,
   "autoclose": false,
   "autocomplete": false,
   "bibliofile": "biblio.bib",
   "cite_by": "apalike",
   "current_citInitial": 1,
   "eqLabelWithNumbers": true,
   "eqNumInitial": 1,
   "hotkeys": {
    "equation": "Ctrl-E",
    "itemize": "Ctrl-I"
   },
   "labels_anchors": false,
   "latex_user_defs": false,
   "report_style_numbering": false,
   "user_envs_cfg": false
  },
  "rise": {
   "enable_chalkboard": true,
   "theme": "sky",
   "transition": "zoom"
  }
 },
 "nbformat": 4,
 "nbformat_minor": 5
}
