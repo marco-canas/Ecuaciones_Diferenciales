{
 "cells": [
  {
   "cell_type": "markdown",
   "id": "b6906977",
   "metadata": {},
   "source": [
    "# Ejemplo 2 sobre sistemas con Laplace"
   ]
  },
  {
   "cell_type": "markdown",
   "id": "d53d5822",
   "metadata": {},
   "source": [
    "\n",
    "\\begin{align*}\n",
    "x'' + x - y & = 0 \\\\ \n",
    "y'' + y - x & = 0 \n",
    "\\end{align*}\n",
    "\n",
    "\n",
    "$$ x(0) = 0, \\ \\ x'(0) = -2 $$\n",
    "\n",
    "$$ y(0) = 0, \\ \\ \\ y'(0) = 1  $$\n",
    "\n",
    "Página 315 del Zill, sección 7.6. "
   ]
  },
  {
   "cell_type": "markdown",
   "id": "99b2e970",
   "metadata": {},
   "source": [
    "## Solución analítica"
   ]
  },
  {
   "cell_type": "markdown",
   "id": "13c00b4f",
   "metadata": {},
   "source": [
    "$$ s^{2}X - sx(0) - x'(0) +  $$"
   ]
  },
  {
   "cell_type": "markdown",
   "id": "fcdf71c1",
   "metadata": {},
   "source": [
    "$$ s^{2}Y - sy(0) - y'(0) + Y - X =  $$"
   ]
  },
  {
   "cell_type": "code",
   "execution_count": 3,
   "id": "336e4cc9",
   "metadata": {},
   "outputs": [],
   "source": [
    "import numpy as np \n",
    "from sympy import *\n",
    "t = symbols('t', real = True, nonegative = True) \n",
    "s = symbols('s', real = True, positive = True) \n",
    "x,X,y,Y = symbols('x,X,y,Y')\n",
    "x = Function('x')\n",
    "y = Function('y')\n",
    "\n",
    "X = Function('X') \n",
    "Y = Function('Y') \n",
    "\n",
    "def L(f):\n",
    "    return laplace_transform(f,t,s, noconds = True)  \n",
    "\n",
    "def inv_L(F):\n",
    "    return inverse_laplace_transform(F,s,t, noconds = True)  \n",
    "\n",
    "def L_diff(f, f0, fp0, fpp0 = 0 , n = 1): # esta función es para calcular transformadas de derivadas\n",
    "    \"\"\"\n",
    "    input:\n",
    "    f es una variable sinbólica de sympy que representa a la función f(t) a la que se quiere calcular \n",
    "      la transformada de alguna de sus derivadas. \n",
    "    \n",
    "    n puede asumir los valores de 0,1,2,3 y representa el orden de la derivada\n",
    "    \"\"\"\n",
    "    F = str(f).upper()\n",
    "    F = symbols(F) \n",
    "    F = Function(F)(s) \n",
    "    if n == 0:\n",
    "        L = F\n",
    "    elif n == 1:\n",
    "        L = s*F - f0\n",
    "    elif n == 2:\n",
    "        L = s**2*F - s*f0 - fp0\n",
    "    elif n == 3:\n",
    "        L = s**3*F - s**2*f0,-s*fp0 - fpp0\n",
    "    return L \n",
    "\n",
    "eq1 = Eq( diff(x(t),t,2) + x(t) - y(t), 0 )\n",
    "eq2 = Eq( diff(y(t),t,2) + y(t) - x(t), 0 )"
   ]
  },
  {
   "cell_type": "code",
   "execution_count": 4,
   "id": "f6f7e944",
   "metadata": {},
   "outputs": [
    {
     "data": {
      "text/latex": [
       "$\\displaystyle x{\\left(t \\right)} - y{\\left(t \\right)} + \\frac{d^{2}}{d t^{2}} x{\\left(t \\right)} = 0$"
      ],
      "text/plain": [
       "Eq(x(t) - y(t) + Derivative(x(t), (t, 2)), 0)"
      ]
     },
     "metadata": {},
     "output_type": "display_data"
    },
    {
     "data": {
      "text/latex": [
       "$\\displaystyle - x{\\left(t \\right)} + y{\\left(t \\right)} + \\frac{d^{2}}{d t^{2}} y{\\left(t \\right)} = 0$"
      ],
      "text/plain": [
       "Eq(-x(t) + y(t) + Derivative(y(t), (t, 2)), 0)"
      ]
     },
     "metadata": {},
     "output_type": "display_data"
    }
   ],
   "source": [
    "display(eq1,eq2) "
   ]
  },
  {
   "cell_type": "code",
   "execution_count": 5,
   "id": "7038dea6",
   "metadata": {},
   "outputs": [],
   "source": [
    "x0 = 0\n",
    "xp0 = -2\n",
    "y0  = 0\n",
    "yp0 = 1 "
   ]
  },
  {
   "cell_type": "code",
   "execution_count": 10,
   "id": "abc261d3",
   "metadata": {},
   "outputs": [],
   "source": [
    "eq_trans1 = Eq(L_diff(x,x0,xp0,n = 2) + L_diff(x,x0,xp0,n=0) - L_diff(y,y0,yp0,n = 0),0)\n",
    "eq_trans2 = Eq(L_diff(y, y0, yp0, n = 2) + L_diff(y, y0, yp0, n = 0) - L_diff(x, y0, yp0,n = 0),0)"
   ]
  },
  {
   "cell_type": "code",
   "execution_count": 11,
   "id": "660ade8b",
   "metadata": {},
   "outputs": [
    {
     "data": {
      "text/latex": [
       "$\\displaystyle s^{2} X{\\left(s \\right)} + X{\\left(s \\right)} - Y{\\left(s \\right)} + 2 = 0$"
      ],
      "text/plain": [
       "Eq(s**2*X(s) + X(s) - Y(s) + 2, 0)"
      ]
     },
     "metadata": {},
     "output_type": "display_data"
    },
    {
     "data": {
      "text/latex": [
       "$\\displaystyle s^{2} Y{\\left(s \\right)} - X{\\left(s \\right)} + Y{\\left(s \\right)} - 1 = 0$"
      ],
      "text/plain": [
       "Eq(s**2*Y(s) - X(s) + Y(s) - 1, 0)"
      ]
     },
     "metadata": {},
     "output_type": "display_data"
    }
   ],
   "source": [
    "display(eq_trans1, eq_trans2) "
   ]
  },
  {
   "cell_type": "markdown",
   "id": "31d65da0",
   "metadata": {},
   "source": [
    "$$ (s^{2} + 1)X - Y = -2 $$\n",
    "\n",
    "$$ (-1)X + (s^{2} + 1)Y = 1 $$"
   ]
  },
  {
   "cell_type": "markdown",
   "id": "3297e21d",
   "metadata": {},
   "source": [
    "multiplico por $-(s^{2} + 1)$ a la primera ecuación:\n",
    "\n",
    "$$ -(s^{2} + 1)^{2}X + (s^{2} + 1)Y = 2(s^{2} + 1) $$\n",
    "$$ (-1)X + (s^{2} + 1)Y = 1 $$"
   ]
  },
  {
   "cell_type": "markdown",
   "id": "b19834dd",
   "metadata": {},
   "source": [
    "Resto las ecuaciones lado a lado:\n",
    "\n",
    "$$ [-(s^{2} + 1)^{2} + 1]X = 2(s^{2} + 1) - 1 $$\n"
   ]
  },
  {
   "cell_type": "markdown",
   "id": "1434f6a6",
   "metadata": {},
   "source": [
    "$$ X = \\frac{2s^{2} + 1}{1 - (s^{2} + 1)^{2}} $$"
   ]
  },
  {
   "cell_type": "markdown",
   "id": "761ba617",
   "metadata": {},
   "source": [
    "factoricemos la diferencia de cuadrados del denominador anterior:\n",
    "\n",
    "$$ X = \\frac{2s^{2} + 1}{[1 - (s^{2} + 1)][1 + s^{2} + 1]} $$\n",
    "\n"
   ]
  },
  {
   "cell_type": "markdown",
   "id": "afd354c2",
   "metadata": {},
   "source": [
    "$$ X = \\frac{2s^{2} + 1}{-s^{2}(s^{2} + 2)} $$"
   ]
  },
  {
   "cell_type": "markdown",
   "id": "c9d59dd1",
   "metadata": {},
   "source": [
    "$$ X = \\frac{As + B}{-s^{2}} + \\frac{Cs + D}{s^{2} + 2}  $$"
   ]
  },
  {
   "cell_type": "code",
   "execution_count": 12,
   "id": "a150edf6",
   "metadata": {},
   "outputs": [
    {
     "data": {
      "text/plain": [
       "{X(s): (-2*s**2 - 1)/(s**4 + 2*s**2), Y(s): (s**2 - 1)/(s**4 + 2*s**2)}"
      ]
     },
     "execution_count": 12,
     "metadata": {},
     "output_type": "execute_result"
    }
   ],
   "source": [
    "solve([eq_trans1, eq_trans2], (X(s), Y(s)))"
   ]
  },
  {
   "cell_type": "markdown",
   "id": "251e69d0",
   "metadata": {},
   "source": [
    "$$ X = \\frac{-2s^{2} - 1}{s^{4} + 2s^{2}} $$"
   ]
  },
  {
   "cell_type": "code",
   "execution_count": 17,
   "id": "817fb367",
   "metadata": {},
   "outputs": [
    {
     "data": {
      "text/latex": [
       "$\\displaystyle \\frac{- 2 s^{2} - 1}{s^{4} + 2 s^{2}}$"
      ],
      "text/plain": [
       "(-2*s**2 - 1)/(s**4 + 2*s**2)"
      ]
     },
     "execution_count": 17,
     "metadata": {},
     "output_type": "execute_result"
    }
   ],
   "source": [
    "X = (-2*s**2 - 1)/(s**4 + 2*s**2)\n",
    "X "
   ]
  },
  {
   "cell_type": "code",
   "execution_count": 18,
   "id": "9429d7aa",
   "metadata": {},
   "outputs": [
    {
     "data": {
      "text/latex": [
       "$\\displaystyle - \\frac{3}{2 \\left(s^{2} + 2\\right)} - \\frac{1}{2 s^{2}}$"
      ],
      "text/plain": [
       "-3/(2*(s**2 + 2)) - 1/(2*s**2)"
      ]
     },
     "execution_count": 18,
     "metadata": {},
     "output_type": "execute_result"
    }
   ],
   "source": [
    "X.apart() "
   ]
  },
  {
   "cell_type": "code",
   "execution_count": 20,
   "id": "a46b4a94",
   "metadata": {},
   "outputs": [
    {
     "data": {
      "text/latex": [
       "$\\displaystyle - \\frac{\\left(2 t - \\sqrt{2} \\sin{\\left(\\sqrt{2} t \\right)}\\right) \\theta\\left(t\\right)}{4} - \\sqrt{2} \\sin{\\left(\\sqrt{2} t \\right)} \\theta\\left(t\\right)$"
      ],
      "text/plain": [
       "-(2*t - sqrt(2)*sin(sqrt(2)*t))*Heaviside(t)/4 - sqrt(2)*sin(sqrt(2)*t)*Heaviside(t)"
      ]
     },
     "execution_count": 20,
     "metadata": {},
     "output_type": "execute_result"
    }
   ],
   "source": [
    "inv_L(X).simplify() "
   ]
  },
  {
   "cell_type": "markdown",
   "id": "bf2898a5",
   "metadata": {},
   "source": [
    "## Fórmulas a utilizar\n",
    "\n",
    "$$L^{-1} \\left\\{ \\frac{k}{s^{2} + k^{2}} \\right\\} = \\sin(kt)$$\n",
    "\n",
    "\n",
    "$$ L^{-1} \\left\\{  \\frac{1}{s^{2}} \\right\\} = t $$"
   ]
  },
  {
   "cell_type": "markdown",
   "id": "10b0ed47",
   "metadata": {},
   "source": [
    "## Referentes  \n",
    "\n",
    "* Zill "
   ]
  },
  {
   "cell_type": "code",
   "execution_count": null,
   "id": "edcd6d39",
   "metadata": {},
   "outputs": [],
   "source": []
  }
 ],
 "metadata": {
  "kernelspec": {
   "display_name": "Python 3",
   "language": "python",
   "name": "python3"
  },
  "language_info": {
   "codemirror_mode": {
    "name": "ipython",
    "version": 3
   },
   "file_extension": ".py",
   "mimetype": "text/x-python",
   "name": "python",
   "nbconvert_exporter": "python",
   "pygments_lexer": "ipython3",
   "version": "3.8.8"
  },
  "latex_envs": {
   "LaTeX_envs_menu_present": true,
   "autoclose": false,
   "autocomplete": false,
   "bibliofile": "biblio.bib",
   "cite_by": "apalike",
   "current_citInitial": 1,
   "eqLabelWithNumbers": true,
   "eqNumInitial": 1,
   "hotkeys": {
    "equation": "Ctrl-E",
    "itemize": "Ctrl-I"
   },
   "labels_anchors": false,
   "latex_user_defs": false,
   "report_style_numbering": false,
   "user_envs_cfg": false
  }
 },
 "nbformat": 4,
 "nbformat_minor": 5
}
