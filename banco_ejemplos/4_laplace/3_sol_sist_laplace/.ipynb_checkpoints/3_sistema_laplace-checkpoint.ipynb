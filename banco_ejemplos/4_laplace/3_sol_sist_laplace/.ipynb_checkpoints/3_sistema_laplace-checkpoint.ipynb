{
 "cells": [
  {
   "cell_type": "markdown",
   "id": "a3887f45",
   "metadata": {},
   "source": [
    "<table align=\"left\">\n",
    "  <td>\n",
    "    <a href=\"https://colab.research.google.com/github/marco-canas/edo/blob/main/banco_ejemplos/4_laplace/3_sol_sist_laplace/2_sistema_laplace.ipynb\" target=\"_parent\"><img src=\"https://colab.research.google.com/assets/colab-badge.svg\" alt=\"Open In Colab\"/></a>\n",
    "  </td>\n",
    "  <td>\n",
    "    <a target=\"_blank\" href=\"https://kaggle.com/kernels/welcome?src=https://github.com/marco-canas/edo/blob/main/banco_ejemplos/4_laplace/3_sol_sist_laplace/2_sistema_laplace.ipynb\"><img src=\"https://kaggle.com/static/images/open-in-kaggle.svg\" /></a>\n",
    "  </td>\n",
    "</table>"
   ]
  },
  {
   "cell_type": "markdown",
   "id": "0a6e1020",
   "metadata": {},
   "source": [
    "# Ejemplo 2 sobre sistemas con Laplace"
   ]
  },
  {
   "cell_type": "markdown",
   "id": "d1a53ca3",
   "metadata": {},
   "source": [
    "\n",
    "\\begin{align*}\n",
    "x'' + x - y & = 0 \\\\ \n",
    "y'' + y - x & = 0 \n",
    "\\end{align*}\n",
    "\n",
    "\n",
    "$$ x(0) = 0, \\ \\ x'(0) = -2 $$\n",
    "\n",
    "$$ y(0) = 0, \\ \\ \\ y'(0) = 1  $$\n",
    "\n",
    "Página 315 del Zill, sección 7.6. "
   ]
  },
  {
   "cell_type": "markdown",
   "id": "19209902",
   "metadata": {},
   "source": [
    "## Solución analítica"
   ]
  },
  {
   "cell_type": "markdown",
   "id": "063a39e4",
   "metadata": {},
   "source": [
    "$$ s^{2}X - sx(0) - x'(0) +  $$"
   ]
  },
  {
   "cell_type": "markdown",
   "id": "5f935a88",
   "metadata": {},
   "source": [
    "$$ s^{2}Y - sy(0) - y'(0) + Y - X =  $$"
   ]
  },
  {
   "cell_type": "code",
   "execution_count": 3,
   "id": "631fad95",
   "metadata": {},
   "outputs": [],
   "source": [
    "import numpy as np \n",
    "from sympy import *\n",
    "t = symbols('t', real = True, nonegative = True) \n",
    "s = symbols('s', real = True, positive = True) \n",
    "x,X,y,Y = symbols('x,X,y,Y')\n",
    "x = Function('x')\n",
    "y = Function('y')\n",
    "\n",
    "X = Function('X') \n",
    "Y = Function('Y') \n",
    "\n",
    "def L(f):\n",
    "    return laplace_transform(f,t,s, noconds = True)  \n",
    "\n",
    "def inv_L(F):\n",
    "    return inverse_laplace_transform(F,s,t, noconds = True)  \n",
    "\n",
    "def L_diff(f, f0, fp0, fpp0 = 0 , n = 1): # esta función es para calcular transformadas de derivadas\n",
    "    \"\"\"\n",
    "    input:\n",
    "    f es una variable sinbólica de sympy que representa a la función f(t) a la que se quiere calcular \n",
    "      la transformada de alguna de sus derivadas. \n",
    "    \n",
    "    n puede asumir los valores de 0,1,2,3 y representa el orden de la derivada\n",
    "    \"\"\"\n",
    "    F = str(f).upper()\n",
    "    F = symbols(F) \n",
    "    F = Function(F)(s) \n",
    "    if n == 0:\n",
    "        L = F\n",
    "    elif n == 1:\n",
    "        L = s*F - f0\n",
    "    elif n == 2:\n",
    "        L = s**2*F - s*f0 - fp0\n",
    "    elif n == 3:\n",
    "        L = s**3*F - s**2*f0,-s*fp0 - fpp0\n",
    "    return L \n",
    "\n",
    "eq1 = Eq( diff(x(t),t,2) + x(t) - y(t), 0 )\n",
    "eq2 = Eq( diff(y(t),t,2) + y(t) - x(t), 0 )"
   ]
  },
  {
   "cell_type": "code",
   "execution_count": 4,
   "id": "c4116397",
   "metadata": {},
   "outputs": [
    {
     "data": {
      "text/latex": [
       "$\\displaystyle x{\\left(t \\right)} - y{\\left(t \\right)} + \\frac{d^{2}}{d t^{2}} x{\\left(t \\right)} = 0$"
      ],
      "text/plain": [
       "Eq(x(t) - y(t) + Derivative(x(t), (t, 2)), 0)"
      ]
     },
     "metadata": {},
     "output_type": "display_data"
    },
    {
     "data": {
      "text/latex": [
       "$\\displaystyle - x{\\left(t \\right)} + y{\\left(t \\right)} + \\frac{d^{2}}{d t^{2}} y{\\left(t \\right)} = 0$"
      ],
      "text/plain": [
       "Eq(-x(t) + y(t) + Derivative(y(t), (t, 2)), 0)"
      ]
     },
     "metadata": {},
     "output_type": "display_data"
    }
   ],
   "source": [
    "display(eq1,eq2) "
   ]
  },
  {
   "cell_type": "code",
   "execution_count": 5,
   "id": "2f245e68",
   "metadata": {},
   "outputs": [],
   "source": [
    "x0 = 0\n",
    "xp0 = -2\n",
    "y0  = 0\n",
    "yp0 = 1 "
   ]
  },
  {
   "cell_type": "code",
   "execution_count": 10,
   "id": "37776193",
   "metadata": {},
   "outputs": [],
   "source": [
    "eq_trans1 = Eq(L_diff(x,x0,xp0,n = 2) + L_diff(x,x0,xp0,n=0) - L_diff(y,y0,yp0,n = 0),0)\n",
    "eq_trans2 = Eq(L_diff(y, y0, yp0, n = 2) + L_diff(y, y0, yp0, n = 0) - L_diff(x, y0, yp0,n = 0),0)"
   ]
  },
  {
   "cell_type": "code",
   "execution_count": 11,
   "id": "5e49bfb3",
   "metadata": {},
   "outputs": [
    {
     "data": {
      "text/latex": [
       "$\\displaystyle s^{2} X{\\left(s \\right)} + X{\\left(s \\right)} - Y{\\left(s \\right)} + 2 = 0$"
      ],
      "text/plain": [
       "Eq(s**2*X(s) + X(s) - Y(s) + 2, 0)"
      ]
     },
     "metadata": {},
     "output_type": "display_data"
    },
    {
     "data": {
      "text/latex": [
       "$\\displaystyle s^{2} Y{\\left(s \\right)} - X{\\left(s \\right)} + Y{\\left(s \\right)} - 1 = 0$"
      ],
      "text/plain": [
       "Eq(s**2*Y(s) - X(s) + Y(s) - 1, 0)"
      ]
     },
     "metadata": {},
     "output_type": "display_data"
    }
   ],
   "source": [
    "display(eq_trans1, eq_trans2) "
   ]
  },
  {
   "cell_type": "markdown",
   "id": "21f5a5eb",
   "metadata": {},
   "source": [
    "$$ (s^{2} + 1)X - Y = -2 $$\n",
    "\n",
    "$$ (-1)X + (s^{2} + 1)Y = 1 $$"
   ]
  },
  {
   "cell_type": "markdown",
   "id": "f3edd4ad",
   "metadata": {},
   "source": [
    "multiplico por $-(s^{2} + 1)$ a la primera ecuación:\n",
    "\n",
    "$$ -(s^{2} + 1)^{2}X + (s^{2} + 1)Y = 2(s^{2} + 1) $$\n",
    "$$ (-1)X + (s^{2} + 1)Y = 1 $$"
   ]
  },
  {
   "cell_type": "markdown",
   "id": "f3fd9e87",
   "metadata": {},
   "source": [
    "Resto las ecuaciones lado a lado:\n",
    "\n",
    "$$ [-(s^{2} + 1)^{2} + 1]X = 2(s^{2} + 1) - 1 $$\n"
   ]
  },
  {
   "cell_type": "markdown",
   "id": "5bad8fa2",
   "metadata": {},
   "source": [
    "$$ X = \\frac{2s^{2} + 1}{1 - (s^{2} + 1)^{2}} $$"
   ]
  },
  {
   "cell_type": "markdown",
   "id": "6d1a88bc",
   "metadata": {},
   "source": [
    "factoricemos la diferencia de cuadrados del denominador anterior:\n",
    "\n",
    "$$ X = \\frac{2s^{2} + 1}{[1 - (s^{2} + 1)][1 + s^{2} + 1]} $$\n",
    "\n"
   ]
  },
  {
   "cell_type": "markdown",
   "id": "f6987ad1",
   "metadata": {},
   "source": [
    "$$ X = \\frac{2s^{2} + 1}{-s^{2}(s^{2} + 2)} $$"
   ]
  },
  {
   "cell_type": "markdown",
   "id": "7b4a2688",
   "metadata": {},
   "source": [
    "$$ X = \\frac{As + B}{-s^{2}} + \\frac{Cs + D}{s^{2} + 2}  $$"
   ]
  },
  {
   "cell_type": "code",
   "execution_count": 12,
   "id": "66a68111",
   "metadata": {},
   "outputs": [
    {
     "data": {
      "text/plain": [
       "{X(s): (-2*s**2 - 1)/(s**4 + 2*s**2), Y(s): (s**2 - 1)/(s**4 + 2*s**2)}"
      ]
     },
     "execution_count": 12,
     "metadata": {},
     "output_type": "execute_result"
    }
   ],
   "source": [
    "solve([eq_trans1, eq_trans2], (X(s), Y(s)))"
   ]
  },
  {
   "cell_type": "markdown",
   "id": "e73db963",
   "metadata": {},
   "source": [
    "$$ X = \\frac{-2s^{2} - 1}{s^{4} + 2s^{2}} $$"
   ]
  },
  {
   "cell_type": "code",
   "execution_count": 17,
   "id": "27063c41",
   "metadata": {},
   "outputs": [
    {
     "data": {
      "text/latex": [
       "$\\displaystyle \\frac{- 2 s^{2} - 1}{s^{4} + 2 s^{2}}$"
      ],
      "text/plain": [
       "(-2*s**2 - 1)/(s**4 + 2*s**2)"
      ]
     },
     "execution_count": 17,
     "metadata": {},
     "output_type": "execute_result"
    }
   ],
   "source": [
    "X = (-2*s**2 - 1)/(s**4 + 2*s**2)\n",
    "X "
   ]
  },
  {
   "cell_type": "code",
   "execution_count": 18,
   "id": "6db4c8e6",
   "metadata": {},
   "outputs": [
    {
     "data": {
      "text/latex": [
       "$\\displaystyle - \\frac{3}{2 \\left(s^{2} + 2\\right)} - \\frac{1}{2 s^{2}}$"
      ],
      "text/plain": [
       "-3/(2*(s**2 + 2)) - 1/(2*s**2)"
      ]
     },
     "execution_count": 18,
     "metadata": {},
     "output_type": "execute_result"
    }
   ],
   "source": [
    "X.apart() "
   ]
  },
  {
   "cell_type": "code",
   "execution_count": 20,
   "id": "419cac70",
   "metadata": {},
   "outputs": [
    {
     "data": {
      "text/latex": [
       "$\\displaystyle - \\frac{\\left(2 t - \\sqrt{2} \\sin{\\left(\\sqrt{2} t \\right)}\\right) \\theta\\left(t\\right)}{4} - \\sqrt{2} \\sin{\\left(\\sqrt{2} t \\right)} \\theta\\left(t\\right)$"
      ],
      "text/plain": [
       "-(2*t - sqrt(2)*sin(sqrt(2)*t))*Heaviside(t)/4 - sqrt(2)*sin(sqrt(2)*t)*Heaviside(t)"
      ]
     },
     "execution_count": 20,
     "metadata": {},
     "output_type": "execute_result"
    }
   ],
   "source": [
    "inv_L(X).simplify() "
   ]
  },
  {
   "cell_type": "code",
   "execution_count": 21,
   "id": "c8c3bb36",
   "metadata": {},
   "outputs": [],
   "source": [
    "x=-(1/4)*(2*t- sqrt(2)*sin(sqrt(2)*t)) - sqrt(2)*sin(sqrt(2)*t)"
   ]
  },
  {
   "cell_type": "code",
   "execution_count": 22,
   "id": "4d993ca3",
   "metadata": {},
   "outputs": [
    {
     "data": {
      "text/latex": [
       "$\\displaystyle 0$"
      ],
      "text/plain": [
       "0"
      ]
     },
     "execution_count": 22,
     "metadata": {},
     "output_type": "execute_result"
    }
   ],
   "source": [
    "x.subs({t:0}) "
   ]
  },
  {
   "cell_type": "code",
   "execution_count": 23,
   "id": "8ff172a7",
   "metadata": {},
   "outputs": [],
   "source": [
    "xp = diff(x,t)"
   ]
  },
  {
   "cell_type": "code",
   "execution_count": 24,
   "id": "258c6d8c",
   "metadata": {},
   "outputs": [
    {
     "data": {
      "text/latex": [
       "$\\displaystyle -2.0$"
      ],
      "text/plain": [
       "-2.00000000000000"
      ]
     },
     "execution_count": 24,
     "metadata": {},
     "output_type": "execute_result"
    }
   ],
   "source": [
    "xp.subs({t:0}) "
   ]
  },
  {
   "cell_type": "code",
   "execution_count": null,
   "id": "20eefe83",
   "metadata": {},
   "outputs": [],
   "source": []
  },
  {
   "cell_type": "code",
   "execution_count": null,
   "id": "b5b08f9b",
   "metadata": {},
   "outputs": [],
   "source": []
  },
  {
   "cell_type": "code",
   "execution_count": null,
   "id": "42d09bc2",
   "metadata": {},
   "outputs": [],
   "source": []
  },
  {
   "cell_type": "markdown",
   "id": "4bcd45a5",
   "metadata": {},
   "source": [
    "## Fórmulas a utilizar\n",
    "\n",
    "$$L^{-1} \\left\\{ \\frac{k}{s^{2} + k^{2}} \\right\\} = \\sin(kt)$$\n",
    "\n",
    "\n",
    "$$ L^{-1} \\left\\{  \\frac{1}{s^{2}} \\right\\} = t $$"
   ]
  },
  {
   "cell_type": "markdown",
   "id": "cdd60840",
   "metadata": {},
   "source": [
    "## Referentes  \n",
    "\n",
    "* Zill "
   ]
  },
  {
   "cell_type": "code",
   "execution_count": null,
   "id": "f796e109",
   "metadata": {},
   "outputs": [],
   "source": []
  }
 ],
 "metadata": {
  "kernelspec": {
   "display_name": "Python 3",
   "language": "python",
   "name": "python3"
  },
  "language_info": {
   "codemirror_mode": {
    "name": "ipython",
    "version": 3
   },
   "file_extension": ".py",
   "mimetype": "text/x-python",
   "name": "python",
   "nbconvert_exporter": "python",
   "pygments_lexer": "ipython3",
   "version": "3.8.8"
  },
  "latex_envs": {
   "LaTeX_envs_menu_present": true,
   "autoclose": false,
   "autocomplete": false,
   "bibliofile": "biblio.bib",
   "cite_by": "apalike",
   "current_citInitial": 1,
   "eqLabelWithNumbers": true,
   "eqNumInitial": 1,
   "hotkeys": {
    "equation": "Ctrl-E",
    "itemize": "Ctrl-I"
   },
   "labels_anchors": false,
   "latex_user_defs": false,
   "report_style_numbering": false,
   "user_envs_cfg": false
  }
 },
 "nbformat": 4,
 "nbformat_minor": 5
}
