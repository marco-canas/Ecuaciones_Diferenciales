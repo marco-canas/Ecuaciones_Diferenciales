{
 "cells": [
  {
   "cell_type": "markdown",
   "id": "a3887f45",
   "metadata": {},
   "source": [
    "<table align=\"left\">\n",
    "  <td>\n",
    "    <a href=\"https://colab.research.google.com/github/marco-canas/edo/blob/main/banco_ejemplos/4_laplace/3_sol_sist_laplace/2_sistema_laplace.ipynb\" target=\"_parent\"><img src=\"https://colab.research.google.com/assets/colab-badge.svg\" alt=\"Open In Colab\"/></a>\n",
    "  </td>\n",
    "  <td>\n",
    "    <a target=\"_blank\" href=\"https://kaggle.com/kernels/welcome?src=https://github.com/marco-canas/edo/blob/main/banco_ejemplos/4_laplace/3_sol_sist_laplace/2_sistema_laplace.ipynb\"><img src=\"https://kaggle.com/static/images/open-in-kaggle.svg\" /></a>\n",
    "  </td>\n",
    "</table>"
   ]
  },
  {
   "cell_type": "markdown",
   "id": "0a6e1020",
   "metadata": {},
   "source": [
    "# Ejemplo 2 sobre sistemas con Laplace"
   ]
  },
  {
   "cell_type": "markdown",
   "id": "298dad81",
   "metadata": {},
   "source": [
    "Resuelva el sistema (1)  \n",
    "\n",
    "\n",
    "cuando $k_{1}= 3$, $k_{2} =  2$, $m_{1} = 1$, $m_{2} = 1$ y  \n",
    "\n",
    "$$ x (0) = 0, , x'(0) = 1, y(0) = 1, y'(0) = 0 $$"
   ]
  },
  {
   "cell_type": "markdown",
   "id": "d1a53ca3",
   "metadata": {},
   "source": [
    "\n",
    "\\begin{align*}\n",
    "x''  & =  -3x + 2(y-x) \\\\ \n",
    "y'' & = -2(y-x) \n",
    "\\end{align*}\n",
    "\n",
    "\n",
    "$$ x(0) = 0, \\ \\ x'(0) = 1 $$\n",
    "\n",
    "$$ y(0) = 1, \\ \\ \\ y'(0) = 0  $$\n",
    "\n",
    "Página 315 del Zill, sección 7.6. "
   ]
  },
  {
   "cell_type": "markdown",
   "id": "b059a398",
   "metadata": {},
   "source": [
    "## [Video apoyo]() "
   ]
  },
  {
   "cell_type": "markdown",
   "id": "19209902",
   "metadata": {},
   "source": [
    "## Solución analítica con verificación de cada paso utilizando Sympy"
   ]
  },
  {
   "cell_type": "markdown",
   "id": "063a39e4",
   "metadata": {},
   "source": [
    "$$ (s^{2}X - sx(0) - x'(0))  = -5X + 2Y  $$"
   ]
  },
  {
   "cell_type": "markdown",
   "id": "5f935a88",
   "metadata": {},
   "source": [
    "$$ s^{2}Y - sy(0) - y'(0) + Y - X =  $$"
   ]
  },
  {
   "cell_type": "code",
   "execution_count": 11,
   "id": "e3a6071f",
   "metadata": {},
   "outputs": [],
   "source": [
    "import numpy as np \n",
    "from sympy import *\n",
    "t = symbols('t', real = True, nonegative = True) \n",
    "s = symbols('s', real = True, positive = True) \n",
    "x,X,y,Y = symbols('x,X,y,Y')\n",
    "x = Function('x')\n",
    "y = Function('y')\n",
    "\n",
    "X = Function('X') \n",
    "Y = Function('Y') "
   ]
  },
  {
   "cell_type": "code",
   "execution_count": 12,
   "id": "4a6ba05f",
   "metadata": {},
   "outputs": [],
   "source": [
    "def L(f):\n",
    "    return laplace_transform(f,t,s, noconds = True)  \n",
    "\n",
    "def inv_L(F):\n",
    "    return inverse_laplace_transform(F,s,t, noconds = True)  \n",
    "\n",
    "def L_diff(f, f0, fp0, fpp0 = 0 , n = 1): # esta función es para calcular transformadas de derivadas\n",
    "    \"\"\"\n",
    "    input:\n",
    "    f es una variable sinbólica de sympy que representa a la función f(t) a la que se quiere calcular \n",
    "      la transformada de alguna de sus derivadas. \n",
    "    \n",
    "    n puede asumir los valores de 0,1,2,3 y representa el orden de la derivada\n",
    "    \"\"\"\n",
    "    F = str(f).upper()\n",
    "    F = symbols(F) \n",
    "    F = Function(F)(s) \n",
    "    if n == 0:\n",
    "        L = F\n",
    "    elif n == 1:\n",
    "        L = s*F - f0\n",
    "    elif n == 2:\n",
    "        L = s**2*F - s*f0 - fp0\n",
    "    elif n == 3:\n",
    "        L = s**3*F - s**2*f0,-s*fp0 - fpp0\n",
    "    return L "
   ]
  },
  {
   "cell_type": "code",
   "execution_count": 13,
   "id": "631fad95",
   "metadata": {},
   "outputs": [],
   "source": [
    "eq1 = Eq( diff(x(t),t,2) , -3*x(t) + 2*(y(t)-x(t)))\n",
    "eq2 = Eq( diff(y(t),t,2) , -2*(y(t)-x(t)) )"
   ]
  },
  {
   "cell_type": "code",
   "execution_count": 14,
   "id": "c4116397",
   "metadata": {},
   "outputs": [
    {
     "data": {
      "text/latex": [
       "$\\displaystyle \\frac{d^{2}}{d t^{2}} x{\\left(t \\right)} = - 5 x{\\left(t \\right)} + 2 y{\\left(t \\right)}$"
      ],
      "text/plain": [
       "Eq(Derivative(x(t), (t, 2)), -5*x(t) + 2*y(t))"
      ]
     },
     "metadata": {},
     "output_type": "display_data"
    },
    {
     "data": {
      "text/latex": [
       "$\\displaystyle \\frac{d^{2}}{d t^{2}} y{\\left(t \\right)} = 2 x{\\left(t \\right)} - 2 y{\\left(t \\right)}$"
      ],
      "text/plain": [
       "Eq(Derivative(y(t), (t, 2)), 2*x(t) - 2*y(t))"
      ]
     },
     "metadata": {},
     "output_type": "display_data"
    }
   ],
   "source": [
    "display(eq1,eq2) "
   ]
  },
  {
   "cell_type": "code",
   "execution_count": 15,
   "id": "2f245e68",
   "metadata": {},
   "outputs": [],
   "source": [
    "x0 = 0\n",
    "xp0 = 1\n",
    "y0  = 1\n",
    "yp0 = 0"
   ]
  },
  {
   "cell_type": "markdown",
   "id": "6f0a9d22",
   "metadata": {},
   "source": [
    "## Cálculo del sistema de ecuaciones algebraico "
   ]
  },
  {
   "cell_type": "code",
   "execution_count": 16,
   "id": "37776193",
   "metadata": {},
   "outputs": [],
   "source": [
    "eq_trans1 = Eq( L_diff(x, x0, xp0, n = 2), -5*L_diff(x, x0, xp0, n=0) + 2*L_diff(y,y0,yp0,n = 0) )\n",
    "eq_trans2 = Eq( L_diff(y, y0, yp0, n = 2), -2*L_diff(y, y0, yp0, n = 0) + 2*L_diff(x, x0, xp0,n = 0) )"
   ]
  },
  {
   "cell_type": "code",
   "execution_count": 17,
   "id": "5e49bfb3",
   "metadata": {},
   "outputs": [
    {
     "data": {
      "text/latex": [
       "$\\displaystyle s^{2} X{\\left(s \\right)} - 1 = - 5 X{\\left(s \\right)} + 2 Y{\\left(s \\right)}$"
      ],
      "text/plain": [
       "Eq(s**2*X(s) - 1, -5*X(s) + 2*Y(s))"
      ]
     },
     "metadata": {},
     "output_type": "display_data"
    },
    {
     "data": {
      "text/latex": [
       "$\\displaystyle s^{2} Y{\\left(s \\right)} - s = 2 X{\\left(s \\right)} - 2 Y{\\left(s \\right)}$"
      ],
      "text/plain": [
       "Eq(s**2*Y(s) - s, 2*X(s) - 2*Y(s))"
      ]
     },
     "metadata": {},
     "output_type": "display_data"
    }
   ],
   "source": [
    "display(eq_trans1, eq_trans2) "
   ]
  },
  {
   "cell_type": "code",
   "execution_count": 18,
   "id": "66a68111",
   "metadata": {},
   "outputs": [],
   "source": [
    "sol_trans = solve([eq_trans1, eq_trans2], (X(s), Y(s)))"
   ]
  },
  {
   "cell_type": "code",
   "execution_count": 19,
   "id": "15a79ce7",
   "metadata": {},
   "outputs": [
    {
     "data": {
      "text/latex": [
       "$\\displaystyle \\frac{s^{2} + 2 s + 2}{s^{4} + 7 s^{2} + 6}$"
      ],
      "text/plain": [
       "(s**2 + 2*s + 2)/(s**4 + 7*s**2 + 6)"
      ]
     },
     "execution_count": 19,
     "metadata": {},
     "output_type": "execute_result"
    }
   ],
   "source": [
    "sol_trans[X(s)]"
   ]
  },
  {
   "cell_type": "code",
   "execution_count": 10,
   "id": "088edaf2",
   "metadata": {},
   "outputs": [
    {
     "data": {
      "text/latex": [
       "$\\displaystyle \\frac{s - 2}{5 \\left(s^{2} + 6\\right)} + \\frac{2 \\left(2 s + 1\\right)}{5 \\left(s^{2} + 1\\right)}$"
      ],
      "text/plain": [
       "(s - 2)/(5*(s**2 + 6)) + 2*(2*s + 1)/(5*(s**2 + 1))"
      ]
     },
     "execution_count": 10,
     "metadata": {},
     "output_type": "execute_result"
    }
   ],
   "source": [
    "sol_trans[Y(s)].apart() "
   ]
  },
  {
   "cell_type": "markdown",
   "id": "e73db963",
   "metadata": {},
   "source": [
    "$$ Y = \\frac{s^{3} + 5s + 2}{s^{4} + 7s^{2} + 6} = \\frac{As+B}{s^{2} + 1} + \\frac{Cs+D}{s^{2} + 6} $$\n",
    "\n",
    "Esta descomposición es la menos usual. "
   ]
  },
  {
   "cell_type": "markdown",
   "id": "764b3dca",
   "metadata": {},
   "source": [
    "Recuerde que $s^{4} + 7s^{2} + 6$ es un trinomio de la forma $s^{2n} + bs^{n} + c$:\n",
    "\n",
    "$$ s^{4} + 7s^{2} + 6 = (s^{2} + 6)(s^{2} + 1) $$\n"
   ]
  },
  {
   "cell_type": "code",
   "execution_count": 20,
   "id": "27063c41",
   "metadata": {},
   "outputs": [
    {
     "data": {
      "text/latex": [
       "$\\displaystyle \\frac{- 2 s^{2} - 1}{s^{4} + 2 s^{2}}$"
      ],
      "text/plain": [
       "(-2*s**2 - 1)/(s**4 + 2*s**2)"
      ]
     },
     "execution_count": 20,
     "metadata": {},
     "output_type": "execute_result"
    }
   ],
   "source": [
    "X = (-2*s**2 - 1)/(s**4 + 2*s**2)\n",
    "X "
   ]
  },
  {
   "cell_type": "code",
   "execution_count": null,
   "id": "6db4c8e6",
   "metadata": {},
   "outputs": [],
   "source": [
    "X.apart() "
   ]
  },
  {
   "cell_type": "code",
   "execution_count": null,
   "id": "419cac70",
   "metadata": {},
   "outputs": [],
   "source": [
    "inv_L(X).simplify() "
   ]
  },
  {
   "cell_type": "code",
   "execution_count": null,
   "id": "c8c3bb36",
   "metadata": {},
   "outputs": [],
   "source": [
    "x=-(1/4)*(2*t- sqrt(2)*sin(sqrt(2)*t)) - sqrt(2)*sin(sqrt(2)*t)"
   ]
  },
  {
   "cell_type": "code",
   "execution_count": null,
   "id": "4d993ca3",
   "metadata": {},
   "outputs": [],
   "source": [
    "x.subs({t:0}) "
   ]
  },
  {
   "cell_type": "code",
   "execution_count": null,
   "id": "8ff172a7",
   "metadata": {},
   "outputs": [],
   "source": [
    "xp = diff(x,t)"
   ]
  },
  {
   "cell_type": "code",
   "execution_count": null,
   "id": "258c6d8c",
   "metadata": {},
   "outputs": [],
   "source": [
    "xp.subs({t:0}) "
   ]
  },
  {
   "cell_type": "code",
   "execution_count": null,
   "id": "20eefe83",
   "metadata": {},
   "outputs": [],
   "source": []
  },
  {
   "cell_type": "code",
   "execution_count": null,
   "id": "b5b08f9b",
   "metadata": {},
   "outputs": [],
   "source": []
  },
  {
   "cell_type": "code",
   "execution_count": null,
   "id": "42d09bc2",
   "metadata": {},
   "outputs": [],
   "source": []
  },
  {
   "cell_type": "markdown",
   "id": "4bcd45a5",
   "metadata": {},
   "source": [
    "## Fórmulas a utilizar\n",
    "\n",
    "$$L^{-1} \\left\\{ \\frac{k}{s^{2} + k^{2}} \\right\\} = \\sin(kt)$$\n",
    "\n",
    "\n",
    "$$ L^{-1} \\left\\{  \\frac{1}{s^{2}} \\right\\} = t $$"
   ]
  },
  {
   "cell_type": "markdown",
   "id": "cdd60840",
   "metadata": {},
   "source": [
    "## Referentes  \n",
    "\n",
    "* Zill "
   ]
  },
  {
   "cell_type": "code",
   "execution_count": null,
   "id": "f796e109",
   "metadata": {},
   "outputs": [],
   "source": []
  }
 ],
 "metadata": {
  "kernelspec": {
   "display_name": "Python 3",
   "language": "python",
   "name": "python3"
  },
  "language_info": {
   "codemirror_mode": {
    "name": "ipython",
    "version": 3
   },
   "file_extension": ".py",
   "mimetype": "text/x-python",
   "name": "python",
   "nbconvert_exporter": "python",
   "pygments_lexer": "ipython3",
   "version": "3.8.8"
  },
  "latex_envs": {
   "LaTeX_envs_menu_present": true,
   "autoclose": false,
   "autocomplete": false,
   "bibliofile": "biblio.bib",
   "cite_by": "apalike",
   "current_citInitial": 1,
   "eqLabelWithNumbers": true,
   "eqNumInitial": 1,
   "hotkeys": {
    "equation": "Ctrl-E",
    "itemize": "Ctrl-I"
   },
   "labels_anchors": false,
   "latex_user_defs": false,
   "report_style_numbering": false,
   "user_envs_cfg": false
  }
 },
 "nbformat": 4,
 "nbformat_minor": 5
}
