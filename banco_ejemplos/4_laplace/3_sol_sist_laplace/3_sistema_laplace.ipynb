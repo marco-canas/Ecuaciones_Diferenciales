{
 "cells": [
  {
   "cell_type": "markdown",
   "id": "a3887f45",
   "metadata": {},
   "source": [
    "<table align=\"left\">\n",
    "  <td>\n",
    "    <a href=\"https://colab.research.google.com/github/marco-canas/edo/blob/main/banco_ejemplos/4_laplace/3_sol_sist_laplace/2_sistema_laplace.ipynb\" target=\"_parent\"><img src=\"https://colab.research.google.com/assets/colab-badge.svg\" alt=\"Open In Colab\"/></a>\n",
    "  </td>\n",
    "  <td>\n",
    "    <a target=\"_blank\" href=\"https://kaggle.com/kernels/welcome?src=https://github.com/marco-canas/edo/blob/main/banco_ejemplos/4_laplace/3_sol_sist_laplace/2_sistema_laplace.ipynb\"><img src=\"https://kaggle.com/static/images/open-in-kaggle.svg\" /></a>\n",
    "  </td>\n",
    "</table>"
   ]
  },
  {
   "cell_type": "markdown",
   "id": "0a6e1020",
   "metadata": {},
   "source": [
    "# Ejemplo 3 sobre sistemas con Laplace"
   ]
  },
  {
   "cell_type": "markdown",
   "id": "d1a53ca3",
   "metadata": {},
   "source": [
    "Resuelva el sistema: \n",
    "\n",
    "\\begin{align*}\n",
    "x''  & =  -5x + 2y \\\\ \n",
    "y'' & = 2x - 2y  \n",
    "\\end{align*}\n",
    "\n",
    "\n",
    "$$ x(0) = 0, \\ \\ x'(0) = 1 $$\n",
    "\n",
    "$$ y(0) = 1, \\ \\ \\ y'(0) = 0  $$\n",
    "\n",
    "utilizando transformada de Laplace. \n",
    "\n",
    "Página 315 del Zill, sección 7.6. "
   ]
  },
  {
   "cell_type": "markdown",
   "id": "b059a398",
   "metadata": {},
   "source": [
    "## [Video apoyo](https://www.youtube.com/watch?v=9HlJOG1oVPw) "
   ]
  },
  {
   "cell_type": "markdown",
   "id": "19209902",
   "metadata": {},
   "source": [
    "## Solución analítica con verificación de cada paso utilizando Sympy"
   ]
  },
  {
   "cell_type": "markdown",
   "id": "ea9062da",
   "metadata": {},
   "source": [
    "### Metodología de solución"
   ]
  },
  {
   "cell_type": "markdown",
   "id": "c0b16132",
   "metadata": {},
   "source": [
    "1. Aplicar transformada de laplace para convertir el sistema en un sistema algebraico\n",
    "2. Resolver el sistema algebraico con Gauss Jordan para obtener las soluciones $X(s)$ y $Y(s)$.\n",
    "3. Aplica transformada inversa de Laplace para obtener $x(t)$ y $y(t)$. "
   ]
  },
  {
   "cell_type": "markdown",
   "id": "063a39e4",
   "metadata": {},
   "source": [
    "$$ (s^{2}X - sx(0) - x'(0))  = -5X + 2Y  $$"
   ]
  },
  {
   "cell_type": "markdown",
   "id": "5f935a88",
   "metadata": {},
   "source": [
    "$$ s^{2}Y - sy(0) - y'(0) = 2X - 2Y  $$"
   ]
  },
  {
   "cell_type": "markdown",
   "id": "9a539720",
   "metadata": {},
   "source": [
    "Sustituyamos los valores de las condiciones iniciales: "
   ]
  },
  {
   "cell_type": "markdown",
   "id": "91c409e0",
   "metadata": {},
   "source": [
    "$$ s^{2}X  - 1  = -5X + 2Y  $$"
   ]
  },
  {
   "cell_type": "markdown",
   "id": "b126316a",
   "metadata": {},
   "source": [
    "$$ s^{2}Y - s  = 2X - 2Y  $$"
   ]
  },
  {
   "cell_type": "code",
   "execution_count": 1,
   "id": "800772a7",
   "metadata": {},
   "outputs": [],
   "source": [
    "from sympy import *\n",
    "init_printing()  "
   ]
  },
  {
   "cell_type": "code",
   "execution_count": 2,
   "id": "b3063c87",
   "metadata": {},
   "outputs": [],
   "source": [
    "t = symbols('t', nonegative = True) # definir las variables independientes del problema\n",
    "s = symbols('s', positive = True) "
   ]
  },
  {
   "cell_type": "code",
   "execution_count": 3,
   "id": "685a0ddb",
   "metadata": {},
   "outputs": [],
   "source": [
    "x,X,y,Y = symbols('x,X,y,Y') # Definimos las variables dependientes"
   ]
  },
  {
   "cell_type": "code",
   "execution_count": 4,
   "id": "a9e0a831",
   "metadata": {},
   "outputs": [],
   "source": [
    "x_sol,y_sol = symbols('x_sol,y_sol') \n",
    "# Definimos las variables para denotar las funciónes solución del sistema original"
   ]
  },
  {
   "cell_type": "code",
   "execution_count": 5,
   "id": "a4635b86",
   "metadata": {},
   "outputs": [],
   "source": [
    "x_sol = Function('x_sol')(t) # definimos de que variable independiente son función x_sol y y_sol\n",
    "y_sol = Function('y_sol')(t)"
   ]
  },
  {
   "cell_type": "code",
   "execution_count": 6,
   "id": "56819714",
   "metadata": {},
   "outputs": [],
   "source": [
    "x = Function('x')(t) # Definimos a x y a y como funciones del tiempo\n",
    "y = Function('y')(t)"
   ]
  },
  {
   "cell_type": "code",
   "execution_count": 7,
   "id": "e3a6071f",
   "metadata": {},
   "outputs": [],
   "source": [
    "X = Function('X')(s) # Defnimos a X y a Y como funciones de s\n",
    "Y = Function('Y')(s) "
   ]
  },
  {
   "cell_type": "code",
   "execution_count": 8,
   "id": "4a6ba05f",
   "metadata": {},
   "outputs": [],
   "source": [
    "def L(f):\n",
    "    return laplace_transform(f,t,s, noconds = True)  \n",
    "\n",
    "def inv_L(F):\n",
    "    return inverse_laplace_transform(F,s,t, noconds = True)  \n",
    "\n",
    "def L_diff(f, f0, fp0, fpp0 = 0 , n = 1): # esta función es para calcular transformadas de derivadas\n",
    "    \"\"\"\n",
    "    input:\n",
    "    f es una variable simbólica de sympy que representa a la función f(t) a la que se quiere calcular \n",
    "      la transformada de alguna de sus derivadas. \n",
    "    \n",
    "    n puede asumir los valores de 0,1,2,3 y representa el orden de la derivada de la función f(t)\n",
    "    \"\"\"\n",
    "    F = str(f).upper().split('(')[0] \n",
    "    F = symbols(F) \n",
    "    F = Function(F)(s) \n",
    "    if n == 0:\n",
    "        L = F\n",
    "    elif n == 1:\n",
    "        L = s*F - f0\n",
    "    elif n == 2:\n",
    "        L = s**2*F - s*f0 - fp0\n",
    "    elif n == 3:\n",
    "        L = s**3*F - s**2*f0,-s*fp0 - fpp0\n",
    "    return L "
   ]
  },
  {
   "cell_type": "code",
   "execution_count": 9,
   "id": "631fad95",
   "metadata": {},
   "outputs": [],
   "source": [
    "\n",
    "#\\begin{align*}\n",
    "#x''  & =  -5x + 2y \\\\ \n",
    "#y'' & = 2x - 2y  \n",
    "#\\end{align*}\n",
    "\n",
    "eq1 = Eq( diff(x,t,2) , -5*x + 2*y )   # primera ecuación \n",
    "eq2 = Eq( diff(y,t,2) , 2*x - 2*y  )   # segunda ecuación "
   ]
  },
  {
   "cell_type": "code",
   "execution_count": 10,
   "id": "c4116397",
   "metadata": {},
   "outputs": [
    {
     "data": {
      "image/png": "[encoded data removed]",
      "text/latex": [
       "$\\displaystyle \\frac{d^{2}}{d t^{2}} x{\\left(t \\right)} = - 5 x{\\left(t \\right)} + 2 y{\\left(t \\right)}$"
      ],
      "text/plain": [
       "  2                         \n",
       " d                          \n",
       "───(x(t)) = -5⋅x(t) + 2⋅y(t)\n",
       "  2                         \n",
       "dt                          "
      ]
     },
     "metadata": {},
     "output_type": "display_data"
    },
    {
     "data": {
      "image/png": "[encoded data removed]",
      "text/latex": [
       "$\\displaystyle \\frac{d^{2}}{d t^{2}} y{\\left(t \\right)} = 2 x{\\left(t \\right)} - 2 y{\\left(t \\right)}$"
      ],
      "text/plain": [
       "  2                        \n",
       " d                         \n",
       "───(y(t)) = 2⋅x(t) - 2⋅y(t)\n",
       "  2                        \n",
       "dt                         "
      ]
     },
     "metadata": {},
     "output_type": "display_data"
    }
   ],
   "source": [
    "display(eq1,eq2) "
   ]
  },
  {
   "cell_type": "code",
   "execution_count": 11,
   "id": "2f245e68",
   "metadata": {},
   "outputs": [],
   "source": [
    "#$$ x(0) = 0, \\ \\ x'(0) = 1 $$\n",
    "\n",
    "#$$ y(0) = 1, \\ \\ \\ y'(0) = 0  $$\n",
    "\n",
    "x0 = 0\n",
    "xp0 = 1\n",
    "y0  = 1\n",
    "yp0 = 0"
   ]
  },
  {
   "cell_type": "markdown",
   "id": "6f0a9d22",
   "metadata": {},
   "source": [
    "## Cálculo del sistema de ecuaciones algebraico "
   ]
  },
  {
   "cell_type": "code",
   "execution_count": 12,
   "id": "37776193",
   "metadata": {},
   "outputs": [],
   "source": [
    "#\\begin{align*}\n",
    "#x''  & =  -5x + 2y \\\\ \n",
    "#y'' & = 2x - 2y  \n",
    "#\\end{align*}\n",
    "\n",
    "eq1_l = Eq( L_diff(x, x0, xp0, n = 2), - 5*L_diff(x, x0, xp0, n = 0) + 2*L_diff(y,y0,yp0,n = 0) )\n",
    "eq2_l = Eq( L_diff(y, y0, yp0, n = 2), -2*L_diff(y, y0, yp0, n = 0) + 2*L_diff(x, x0, xp0,n = 0) )"
   ]
  },
  {
   "cell_type": "code",
   "execution_count": 13,
   "id": "5e49bfb3",
   "metadata": {
    "scrolled": true
   },
   "outputs": [
    {
     "data": {
      "image/png": "[encoded data removed]",
      "text/latex": [
       "$\\displaystyle s^{2} X{\\left(s \\right)} - 1 = - 5 X{\\left(s \\right)} + 2 Y{\\left(s \\right)}$"
      ],
      "text/plain": [
       " 2                            \n",
       "s ⋅X(s) - 1 = -5⋅X(s) + 2⋅Y(s)"
      ]
     },
     "metadata": {},
     "output_type": "display_data"
    },
    {
     "data": {
      "image/png": "[encoded data removed]",
      "text/latex": [
       "$\\displaystyle s^{2} Y{\\left(s \\right)} - s = 2 X{\\left(s \\right)} - 2 Y{\\left(s \\right)}$"
      ],
      "text/plain": [
       " 2                           \n",
       "s ⋅Y(s) - s = 2⋅X(s) - 2⋅Y(s)"
      ]
     },
     "metadata": {},
     "output_type": "display_data"
    }
   ],
   "source": [
    "display(eq1_l, eq2_l) "
   ]
  },
  {
   "cell_type": "code",
   "execution_count": 14,
   "id": "66a68111",
   "metadata": {},
   "outputs": [],
   "source": [
    "sol_alg = solve([eq1_l, eq2_l], (X, Y))   "
   ]
  },
  {
   "cell_type": "code",
   "execution_count": 15,
   "id": "0f7ce742",
   "metadata": {},
   "outputs": [
    {
     "data": {
      "image/png": "[encoded data removed]",
      "text/latex": [
       "$\\displaystyle \\left\\{ X{\\left(s \\right)} : \\frac{s^{2} + 2 s + 2}{s^{4} + 7 s^{2} + 6}, \\  Y{\\left(s \\right)} : \\frac{s^{3} + 5 s + 2}{s^{4} + 7 s^{2} + 6}\\right\\}$"
      ],
      "text/plain": [
       "⎧        2                    3          ⎫\n",
       "⎪       s  + 2⋅s + 2         s  + 5⋅s + 2⎪\n",
       "⎨X(s): ─────────────, Y(s): ─────────────⎬\n",
       "⎪       4      2             4      2    ⎪\n",
       "⎩      s  + 7⋅s  + 6        s  + 7⋅s  + 6⎭"
      ]
     },
     "execution_count": 15,
     "metadata": {},
     "output_type": "execute_result"
    }
   ],
   "source": [
    "sol_alg "
   ]
  },
  {
   "cell_type": "code",
   "execution_count": 16,
   "id": "15a79ce7",
   "metadata": {},
   "outputs": [
    {
     "data": {
      "image/png": "[encoded data removed]",
      "text/latex": [
       "$\\displaystyle \\frac{s^{2} + 2 s + 2}{s^{4} + 7 s^{2} + 6}$"
      ],
      "text/plain": [
       "  2          \n",
       " s  + 2⋅s + 2\n",
       "─────────────\n",
       " 4      2    \n",
       "s  + 7⋅s  + 6"
      ]
     },
     "execution_count": 16,
     "metadata": {},
     "output_type": "execute_result"
    }
   ],
   "source": [
    "sol_alg[X] "
   ]
  },
  {
   "cell_type": "code",
   "execution_count": 17,
   "id": "97b75fc2",
   "metadata": {},
   "outputs": [
    {
     "data": {
      "image/png": "[encoded data removed]",
      "text/latex": [
       "$\\displaystyle - \\frac{2 \\left(s - 2\\right)}{5 \\left(s^{2} + 6\\right)} + \\frac{2 s + 1}{5 \\left(s^{2} + 1\\right)}$"
      ],
      "text/plain": [
       "  2⋅(s - 2)     2⋅s + 1  \n",
       "- ────────── + ──────────\n",
       "    ⎛ 2    ⎞     ⎛ 2    ⎞\n",
       "  5⋅⎝s  + 6⎠   5⋅⎝s  + 1⎠"
      ]
     },
     "execution_count": 17,
     "metadata": {},
     "output_type": "execute_result"
    }
   ],
   "source": [
    "X_alg = sol_alg[X].apart() \n",
    "X_alg "
   ]
  },
  {
   "cell_type": "markdown",
   "id": "fce43be0",
   "metadata": {},
   "source": [
    "$$ X(s) = -\\frac{2}{5} \\cdot \\frac{s-2}{s^{2} + 6} + \\frac{1}{5} \\cdot \\frac{2s + 1}{s^{2} + 1} $$"
   ]
  },
  {
   "cell_type": "code",
   "execution_count": 18,
   "id": "9cdf372d",
   "metadata": {},
   "outputs": [],
   "source": [
    "X1 = (s-2)/(s**2+6)   \n",
    "# fue necesario descomponer a X(s) para que sympy disminuyera el tiempo de calculo de x(t)\n",
    "X2 = (2*s + 1)/(s**2 + 1)"
   ]
  },
  {
   "cell_type": "code",
   "execution_count": 19,
   "id": "50502052",
   "metadata": {},
   "outputs": [],
   "source": [
    "x_sol = (-2/5)*inv_L(X1) + (1/5)*inv_L(X2)  "
   ]
  },
  {
   "cell_type": "code",
   "execution_count": 20,
   "id": "c91160a2",
   "metadata": {},
   "outputs": [
    {
     "data": {
      "image/png": "[encoded data removed]",
      "text/latex": [
       "$\\displaystyle - 0.4 \\left(- \\frac{\\sqrt{6} \\sin{\\left(\\sqrt{6} t \\right)}}{3} + \\cos{\\left(\\sqrt{6} t \\right)}\\right) \\theta\\left(t\\right) + 0.2 \\left(\\sin{\\left(t \\right)} + 2 \\cos{\\left(t \\right)}\\right) \\theta\\left(t\\right)$"
      ],
      "text/plain": [
       "      ⎛  √6⋅sin(√6⋅t)            ⎞                                    \n",
       "- 0.4⋅⎜- ──────────── + cos(√6⋅t)⎟⋅θ(t) + 0.2⋅(sin(t) + 2⋅cos(t))⋅θ(t)\n",
       "      ⎝       3                  ⎠                                    "
      ]
     },
     "execution_count": 20,
     "metadata": {},
     "output_type": "execute_result"
    }
   ],
   "source": [
    "x_sol = sympify(x_sol )\n",
    "x_sol "
   ]
  },
  {
   "cell_type": "code",
   "execution_count": 21,
   "id": "419cac70",
   "metadata": {},
   "outputs": [
    {
     "data": {
      "image/png": "[encoded data removed]",
      "text/latex": [
       "$\\displaystyle 0.2 \\sin{\\left(t \\right)} + 0.133333333333333 \\sqrt{6} \\sin{\\left(\\sqrt{6} t \\right)} + 0.4 \\cos{\\left(t \\right)} - 0.4 \\cos{\\left(\\sqrt{6} t \\right)}$"
      ],
      "text/plain": [
       "0.2⋅sin(t) + 0.133333333333333⋅√6⋅sin(√6⋅t) + 0.4⋅cos(t) - 0.4⋅cos(√6⋅t)"
      ]
     },
     "execution_count": 21,
     "metadata": {},
     "output_type": "execute_result"
    }
   ],
   "source": [
    "x_sol = x_sol.subs({Heaviside(t):1}) # para quitar el factor theta(t) (Función de Heaviside) \n",
    "x_sol "
   ]
  },
  {
   "cell_type": "code",
   "execution_count": 22,
   "id": "088edaf2",
   "metadata": {},
   "outputs": [
    {
     "data": {
      "image/png": "[encoded data removed]",
      "text/latex": [
       "$\\displaystyle \\frac{s - 2}{5 \\left(s^{2} + 6\\right)} + \\frac{2 \\left(2 s + 1\\right)}{5 \\left(s^{2} + 1\\right)}$"
      ],
      "text/plain": [
       "  s - 2      2⋅(2⋅s + 1)\n",
       "────────── + ───────────\n",
       "  ⎛ 2    ⎞      ⎛ 2    ⎞\n",
       "5⋅⎝s  + 6⎠    5⋅⎝s  + 1⎠"
      ]
     },
     "execution_count": 22,
     "metadata": {},
     "output_type": "execute_result"
    }
   ],
   "source": [
    "Y_alg = sol_alg[Y].apart() \n",
    "Y_alg "
   ]
  },
  {
   "cell_type": "code",
   "execution_count": 23,
   "id": "f1f50759",
   "metadata": {},
   "outputs": [],
   "source": [
    "Y1 = (s-2)/(s**2+6)\n",
    "Y2 = (2*s + 1)/(s**2 + 1)"
   ]
  },
  {
   "cell_type": "code",
   "execution_count": 24,
   "id": "2bbf0206",
   "metadata": {},
   "outputs": [
    {
     "data": {
      "image/png": "[encoded data removed]",
      "text/latex": [
       "$\\displaystyle 0.2 \\left(- \\frac{\\sqrt{6} \\sin{\\left(\\sqrt{6} t \\right)}}{3} + \\cos{\\left(\\sqrt{6} t \\right)}\\right) \\theta\\left(t\\right) + 0.4 \\left(\\sin{\\left(t \\right)} + 2 \\cos{\\left(t \\right)}\\right) \\theta\\left(t\\right)$"
      ],
      "text/plain": [
       "    ⎛  √6⋅sin(√6⋅t)            ⎞                                    \n",
       "0.2⋅⎜- ──────────── + cos(√6⋅t)⎟⋅θ(t) + 0.4⋅(sin(t) + 2⋅cos(t))⋅θ(t)\n",
       "    ⎝       3                  ⎠                                    "
      ]
     },
     "execution_count": 24,
     "metadata": {},
     "output_type": "execute_result"
    }
   ],
   "source": [
    "y_sol = (1/5)*inv_L(Y1) + (2/5)*inv_L(Y2)  \n",
    "y_sol "
   ]
  },
  {
   "cell_type": "code",
   "execution_count": 25,
   "id": "5e6e298c",
   "metadata": {},
   "outputs": [
    {
     "data": {
      "image/png": "[encoded data removed]",
      "text/latex": [
       "$\\displaystyle 0.4 \\sin{\\left(t \\right)} - 0.0666666666666667 \\sqrt{6} \\sin{\\left(\\sqrt{6} t \\right)} + 0.8 \\cos{\\left(t \\right)} + 0.2 \\cos{\\left(\\sqrt{6} t \\right)}$"
      ],
      "text/plain": [
       "0.4⋅sin(t) - 0.0666666666666667⋅√6⋅sin(√6⋅t) + 0.8⋅cos(t) + 0.2⋅cos(√6⋅t)"
      ]
     },
     "execution_count": 25,
     "metadata": {},
     "output_type": "execute_result"
    }
   ],
   "source": [
    "y_sol = y_sol.subs({Heaviside(t):1}) # para quitar el factor theta(t) (Función de Heaviside) \n",
    "y_sol "
   ]
  },
  {
   "cell_type": "markdown",
   "id": "e73db963",
   "metadata": {},
   "source": [
    "$$ Y = \\frac{s^{3} + 5s + 2}{s^{4} + 7s^{2} + 6} = \\frac{As+B}{s^{2} + 1} + \\frac{Cs+D}{s^{2} + 6} $$\n",
    "\n",
    "Esta descomposición es la menos usual. "
   ]
  },
  {
   "cell_type": "markdown",
   "id": "764b3dca",
   "metadata": {},
   "source": [
    "Recuerde que $s^{4} + 7s^{2} + 6$ es un trinomio de la forma $s^{2n} + bs^{n} + c$:\n",
    "\n",
    "$$ s^{4} + 7s^{2} + 6 = (s^{2} + 6)(s^{2} + 1) $$\n"
   ]
  },
  {
   "cell_type": "markdown",
   "id": "3996cf4c",
   "metadata": {},
   "source": [
    "## Verificación con sympy "
   ]
  },
  {
   "cell_type": "code",
   "execution_count": 26,
   "id": "32acc95e",
   "metadata": {},
   "outputs": [
    {
     "data": {
      "image/png": "[encoded data removed]",
      "text/latex": [
       "$\\displaystyle 0.2 \\sin{\\left(t \\right)} + 1.95959179422654 \\sin{\\left(\\sqrt{6} t \\right)} + 0.4 \\cos{\\left(t \\right)} - 2.4 \\cos{\\left(\\sqrt{6} t \\right)} = 0.2 \\sin{\\left(t \\right)} + 1.95959179422654 \\sin{\\left(\\sqrt{6} t \\right)} + 0.4 \\cos{\\left(t \\right)} - 2.4 \\cos{\\left(\\sqrt{6} t \\right)}$"
      ],
      "text/plain": [
       "0.2⋅sin(t) + 1.95959179422654⋅sin(√6⋅t) + 0.4⋅cos(t) - 2.4⋅cos(√6⋅t) = 0.2⋅sin\n",
       "(t) + 1.95959179422654⋅sin(√6⋅t) + 0.4⋅cos(t) - 2.4⋅cos(√6⋅t)"
      ]
     },
     "execution_count": 26,
     "metadata": {},
     "output_type": "execute_result"
    }
   ],
   "source": [
    "eq1.subs({x:x_sol, y:y_sol}).simplify().evalf()  "
   ]
  },
  {
   "cell_type": "markdown",
   "id": "c13343b5",
   "metadata": {},
   "source": [
    "Como obtuvimos una identidad en la variable $t$, podemos decir que las funciones $x(t)$ y $y(t)$ efectivamente satisfacen la primera ecuación del sistema. "
   ]
  },
  {
   "cell_type": "code",
   "execution_count": 27,
   "id": "3278706c",
   "metadata": {},
   "outputs": [
    {
     "data": {
      "image/png": "[encoded data removed]",
      "text/latex": [
       "$\\displaystyle \\text{True}$"
      ],
      "text/plain": [
       "True"
      ]
     },
     "execution_count": 27,
     "metadata": {},
     "output_type": "execute_result"
    }
   ],
   "source": [
    "eq2.subs({x:x_sol, y:y_sol}).simplify() "
   ]
  },
  {
   "cell_type": "markdown",
   "id": "75868599",
   "metadata": {},
   "source": [
    "Como obtuvimos el booleano `True`, podemos decir que las funciones $x(t)$ y $y(t)$ efectivamente satisfacen la segunda ecuación del sistema. "
   ]
  },
  {
   "cell_type": "code",
   "execution_count": 28,
   "id": "4d993ca3",
   "metadata": {},
   "outputs": [
    {
     "data": {
      "text/plain": [
       "True"
      ]
     },
     "execution_count": 28,
     "metadata": {},
     "output_type": "execute_result"
    }
   ],
   "source": [
    "x_sol.subs({t:0}) == x0"
   ]
  },
  {
   "cell_type": "code",
   "execution_count": 29,
   "id": "e29322d4",
   "metadata": {},
   "outputs": [
    {
     "data": {
      "text/plain": [
       "True"
      ]
     },
     "execution_count": 29,
     "metadata": {},
     "output_type": "execute_result"
    }
   ],
   "source": [
    "diff(x_sol).subs({t:0}) == xp0"
   ]
  },
  {
   "cell_type": "code",
   "execution_count": 30,
   "id": "258c6d8c",
   "metadata": {},
   "outputs": [
    {
     "data": {
      "text/plain": [
       "True"
      ]
     },
     "execution_count": 30,
     "metadata": {},
     "output_type": "execute_result"
    }
   ],
   "source": [
    "y_sol.subs({t:0}) == y0"
   ]
  },
  {
   "cell_type": "code",
   "execution_count": 31,
   "id": "20eefe83",
   "metadata": {},
   "outputs": [
    {
     "data": {
      "text/plain": [
       "True"
      ]
     },
     "execution_count": 31,
     "metadata": {},
     "output_type": "execute_result"
    }
   ],
   "source": [
    "diff(y_sol).subs({t:0}) == yp0"
   ]
  },
  {
   "cell_type": "markdown",
   "id": "48059ddc",
   "metadata": {},
   "source": [
    "### Conculsion: Las funciones $x(t)$ y $y(t)$ encontradas satisfacen las ecuaciones y las condiciones iniciales que definen al PVI dado. "
   ]
  },
  {
   "cell_type": "markdown",
   "id": "d44113e6",
   "metadata": {},
   "source": [
    "## Graficación de las funciones solución"
   ]
  },
  {
   "cell_type": "code",
   "execution_count": 33,
   "id": "753dea87",
   "metadata": {},
   "outputs": [
    {
     "data": {
      "image/png": "[encoded data removed]",
      "text/plain": [
       "<Figure size 864x432 with 2 Axes>"
      ]
     },
     "metadata": {},
     "output_type": "display_data"
    }
   ],
   "source": [
    "import numpy as np \n",
    "from sympy import *\n",
    "\n",
    "import matplotlib.pyplot as plt \n",
    "\n",
    "\n",
    "#eq1_l = Eq( L_diff(x, x0, xp0, n = 2), - 5*L_diff(x, x0, xp0, n = 0) + 2*L_diff(y,y0,yp0,n = 0) )\n",
    "#eq2_l = Eq( L_diff(y, y0, yp0, n = 2), -2*L_diff(y, y0, yp0, n = 0) + 2*L_diff(x, x0, xp0,n = 0) )\n",
    "#sol_alg = solve([eq1_l, eq2_l], (X, Y))   \n",
    "#X_alg = sol_alg[X].apart() \n",
    "#X1 = (s-2)/(s**2+6)   \n",
    "# fue necesario descomponer a X(s) para que sympy disminuyera el tiempo de calculo de x(t)\n",
    "#X2 = (2*s + 1)/(s**2 + 1)\n",
    "#x_sol = (-2/5)*inv_L(X1) + (1/5)*inv_L(X2) \n",
    "#x_sol = sympify(x_sol )\n",
    "#x_sol = x_sol.subs({Heaviside(t):1}) # para quitar el factor theta(t) (Función de Heaviside) \n",
    "#Y_alg = sol_alg[Y].apart() \n",
    "#Y1 = (s-2)/(s**2+6)\n",
    "#Y2 = (2*s + 1)/(s**2 + 1)\n",
    "#y_sol = (1/5)*inv_L(Y1) + (2/5)*inv_L(Y2)  \n",
    "#y_sol = y_sol.subs({Heaviside(t):1}) # para quitar el factor theta(t) (Función de Heaviside) \n",
    "\n",
    "\n",
    "plt.style.use('dark_background') \n",
    "\n",
    "fig = plt.figure(figsize = (12,6))\n",
    "ax1 = fig.add_subplot(121)\n",
    "ax2 = fig.add_subplot(122)\n",
    "\n",
    "t_ = np.linspace(0,10,200)\n",
    "\n",
    "x_lam = lambdify(t,x_sol) \n",
    "y_lam = lambdify(t,y_sol)   \n",
    "\n",
    "x_numpy = x_lam(t_)\n",
    "y_numpy = y_lam(t_)\n",
    "\n",
    "\n",
    "ax1.plot(t_,x_numpy, color = 'yellow')\n",
    "ax1.set(title = '$x(t)$')\n",
    "ax1.grid(True, alpha = 0.4)\n",
    "\n",
    "\n",
    "ax2.plot(t_,y_numpy, color = 'yellow') \n",
    "ax2.set(title = '$y(t)$')\n",
    "ax2.grid(True, alpha = 0.4)\n",
    "\n",
    "plt.savefig('ejemplo_3_sol_sistema_factor_cuadratico.jpg')\n",
    "\n",
    "plt.show() "
   ]
  },
  {
   "cell_type": "markdown",
   "id": "16fdcf3c",
   "metadata": {},
   "source": [
    "## Funciones de Python utilizadas"
   ]
  },
  {
   "cell_type": "markdown",
   "id": "577e612c",
   "metadata": {},
   "source": [
    "* El método `.split()` de Python. "
   ]
  },
  {
   "cell_type": "markdown",
   "id": "4bcd45a5",
   "metadata": {},
   "source": [
    "## Fórmulas a utilizar\n",
    "\n",
    "$$L^{-1} \\left\\{ \\frac{k}{s^{2} + k^{2}} \\right\\} = \\sin(kt)$$\n",
    "\n",
    "\n",
    "$$ L^{-1} \\left\\{  \\frac{1}{s^{2}} \\right\\} = t $$"
   ]
  },
  {
   "cell_type": "markdown",
   "id": "cdd60840",
   "metadata": {},
   "source": [
    "## Referentes  \n",
    "\n",
    "* Ecuaciones diferenciales con problemas de valores en la frontera,  \n",
    "  Zill, Dennis G and Cullen, Michael R and Hernández, Ana Elizabeth García and López, Ernesto Filio}, 2002. Thomson"
   ]
  },
  {
   "cell_type": "code",
   "execution_count": null,
   "id": "f796e109",
   "metadata": {},
   "outputs": [],
   "source": []
  }
 ],
 "metadata": {
  "kernelspec": {
   "display_name": "Python 3",
   "language": "python",
   "name": "python3"
  },
  "language_info": {
   "codemirror_mode": {
    "name": "ipython",
    "version": 3
   },
   "file_extension": ".py",
   "mimetype": "text/x-python",
   "name": "python",
   "nbconvert_exporter": "python",
   "pygments_lexer": "ipython3",
   "version": "3.8.8"
  },
  "latex_envs": {
   "LaTeX_envs_menu_present": true,
   "autoclose": false,
   "autocomplete": false,
   "bibliofile": "biblio.bib",
   "cite_by": "apalike",
   "current_citInitial": 1,
   "eqLabelWithNumbers": true,
   "eqNumInitial": 1,
   "hotkeys": {
    "equation": "Ctrl-E",
    "itemize": "Ctrl-I"
   },
   "labels_anchors": false,
   "latex_user_defs": false,
   "report_style_numbering": false,
   "user_envs_cfg": false
  }
 },
 "nbformat": 4,
 "nbformat_minor": 5
}
