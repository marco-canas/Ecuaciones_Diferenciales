{
 "cells": [
  {
   "cell_type": "markdown",
   "id": "406e2892",
   "metadata": {},
   "source": []
  },
  {
   "cell_type": "markdown",
   "id": "fa12ed9f",
   "metadata": {},
   "source": [
    "# Ejercicio ejemplo sobre cálculo de la transformada de Laplace por definición"
   ]
  },
  {
   "cell_type": "markdown",
   "id": "5787b8d7",
   "metadata": {},
   "source": [
    "Calcule la transformada de laplace de \n",
    "\n",
    "$$ te^{4t}$$\n",
    "\n",
    "utilizando solo la definición. \n"
   ]
  },
  {
   "cell_type": "markdown",
   "id": "cf275626",
   "metadata": {},
   "source": [
    "## [Video de apoyo]() "
   ]
  },
  {
   "cell_type": "markdown",
   "id": "f9d4ccf3",
   "metadata": {},
   "source": [
    "## Solución analítica"
   ]
  },
  {
   "cell_type": "markdown",
   "id": "847f1219",
   "metadata": {},
   "source": [
    "$$ L[te^{4t}] = \\int_{0}^{\\infty} e^{-st}[te^{4t}]\\ dt $$"
   ]
  },
  {
   "cell_type": "markdown",
   "id": "f1274248",
   "metadata": {},
   "source": [
    "Aplicando propiedades algebraicas de la multiplicacion de funciones obtenemos:\n",
    "\n",
    "$$ L[te^{4t}] = \\int_{0}^{\\infty} te^{-st + 4t} \\ dt $$\n"
   ]
  },
  {
   "cell_type": "markdown",
   "id": "6f2310b0",
   "metadata": {},
   "source": [
    "$$ L[te^{4t}] = \\int_{0}^{\\infty} te^{-t(s-4)}\\ dt $$"
   ]
  },
  {
   "cell_type": "markdown",
   "id": "efd19ae9",
   "metadata": {},
   "source": [
    "Apliquemos ahora el método de integración por partes para la integral indefinida asociada:\n",
    "\n",
    "$$ I = \\int te^{-t(s-4)}\\ dt $$"
   ]
  },
  {
   "cell_type": "markdown",
   "id": "4d7755e6",
   "metadata": {},
   "source": [
    "Como el integrando es un producto entre una función polinómica y una exponencial, entonces debemos elegir: \n",
    "\n",
    "$$ u = t\\ \\ \\ \\ dv = e^{-t(s-4)}dt  $$\n",
    "\n",
    "$$ du = dt \\ \\ \\ \\ v = \\frac{e^{-t(s-4)}}{-(s-4)} $$"
   ]
  },
  {
   "cell_type": "markdown",
   "id": "6a6dcf85",
   "metadata": {},
   "source": [
    "$$ I = \\int te^{-t(s-4)}\\ dt =  \\frac{te^{-t(s-4)}}{-(s-4)} + \\frac{1}{s-4}\\int e^{-t(s-4)}\\ dt $$"
   ]
  },
  {
   "cell_type": "markdown",
   "id": "bf8e173c",
   "metadata": {},
   "source": [
    "$$ I = \\int te^{-t(s-4)}\\ dt = \\frac{te^{-t(s-4)}}{-(s-4)} + \\frac{1}{s-4} \\cdot \\frac{e^{-t(s-4)}}{-(s-4)} $$"
   ]
  },
  {
   "cell_type": "markdown",
   "id": "f9896866",
   "metadata": {},
   "source": [
    "$$ I = \\int te^{-t(s-4)} \\ dt = -\\frac{te^{-t(s-4)}}{s-4} - \\frac{e^{-t(s-4)}}{(s-4)^{2}} $$"
   ]
  },
  {
   "cell_type": "markdown",
   "id": "921735f4",
   "metadata": {},
   "source": [
    "$$ I = \\int te^{-t(s-4)} \\ dt = -e^{-t(s-4)}\\left( \\frac{t}{s-4} + \\frac{1}{(s-4)^{2}} \\right) $$"
   ]
  },
  {
   "cell_type": "markdown",
   "id": "1c21749a",
   "metadata": {},
   "source": [
    "$$ I = \\int te^{-t(s-4)} \\ dt = -e^{-t(s-4)}\\left( \\frac{t(s-4)}{(s-4)^{2}} + \\frac{1}{(s-4)^{2}} \\right)  $$"
   ]
  },
  {
   "cell_type": "markdown",
   "id": "8c0ccdcf",
   "metadata": {},
   "source": [
    "$$ I = \\int te^{-t(s-4)} \\ dt = \\frac{-1}{(s-4)^{2}} \\cdot \\left[e^{-t(s-4)}(t(s-4) + 1)  \\right] $$"
   ]
  },
  {
   "cell_type": "markdown",
   "id": "2ce8bcc7",
   "metadata": {},
   "source": [
    "Para calcular la integral impropia asociada expresaremos el segundo factor como un cociente de funciones de $t$:\n",
    "\n",
    "$$ I = \\int te^{-t(s-4)}\\ dt = \\frac{-1}{(s-4)^{2}} \\cdot \\left[ \\frac{t(s-4) + 1}{e^{t(s-4)}} \\right] $$"
   ]
  },
  {
   "cell_type": "markdown",
   "id": "9f152850",
   "metadata": {},
   "source": [
    "Volvamos a la integral impropia que define a la transformada de Laplace que estamos calculando: "
   ]
  },
  {
   "cell_type": "markdown",
   "id": "dba9bae6",
   "metadata": {},
   "source": [
    "$$ L[te^{4t}] = \\int_{0}^{\\infty} te^{-t(s-4)}\\ dt = \\frac{-1}{(s-4)^{2}} \\cdot \\left[ \\frac{t(s-4) + 1}{e^{t(s-4)}} \\right]_{0}^{\\infty} $$"
   ]
  },
  {
   "cell_type": "markdown",
   "id": "0fd0f374",
   "metadata": {},
   "source": [
    "$$ L[te^{4t}] = \\int_{0}^{\\infty} te^{-t(s-4)}\\ dt = \\frac{-1}{(s-4)^{2}} \\left[ \\lim_{t \\to \\infty} \\frac{t(s-4) + 1}{e^{t(s-4)}}  -  \\frac{(0)(s-4) + 1}{e^{(0)(s-4)}}\\right] $$"
   ]
  },
  {
   "cell_type": "markdown",
   "id": "7cfb841c",
   "metadata": {},
   "source": [
    "$$ L[te^{4t}] = \\int_{0}^{\\infty} te^{-t(s-4)}\\ dt = \\frac{-1}{(s-4)^{2}} \\left[ \\lim_{t \\to \\infty} \\frac{t(s-4) + 1}{e^{t(s-4)}}  - 1 \\right] $$"
   ]
  },
  {
   "cell_type": "markdown",
   "id": "47b684aa",
   "metadata": {},
   "source": [
    "Si asumimos que $s > 4$, entonces $(t(s-4) + 1) \\to \\infty$ y $e^{t(s-4)} \\to \\infty$ cuando $t \\to \\infty$, por tanto, podemos aplicar la regle de Lhopital para obtener:"
   ]
  },
  {
   "cell_type": "markdown",
   "id": "7f708ea4",
   "metadata": {},
   "source": [
    "$$ L[te^{4t}] = \\int_{0}^{\\infty} te^{-t(s-4)}\\ dt = \\frac{-1}{(s-4)^{2}} \\left[ \\lim_{t \\to \\infty} \\frac{(s-4) }{e^{t(s-4)}(s-4)}  - 1 \\right] $$"
   ]
  },
  {
   "cell_type": "markdown",
   "id": "87b50314",
   "metadata": {},
   "source": [
    "$$ L[te^{4t}] = \\int_{0}^{\\infty} te^{-t(s-4)}\\ dt = \\frac{-1}{(s-4)^{2}} \\left[ \\lim_{t \\to \\infty} \\frac{1 }{e^{t(s-4)}}  - 1 \\right] $$"
   ]
  },
  {
   "cell_type": "markdown",
   "id": "320f85c5",
   "metadata": {},
   "source": [
    "$$ L[te^{4t}] = \\int_{0}^{\\infty} te^{-t(s-4)}\\ dt = \\frac{-1}{(s-4)^{2}} \\left[ 0  - 1 \\right] $$"
   ]
  },
  {
   "cell_type": "markdown",
   "id": "e9009e9b",
   "metadata": {},
   "source": [
    "$$ L[te^{4t}] = \\frac{1}{(s-4)^{2}} $$"
   ]
  },
  {
   "cell_type": "markdown",
   "id": "a29f696b",
   "metadata": {},
   "source": [
    "## Solución con Sympy"
   ]
  },
  {
   "cell_type": "code",
   "execution_count": 1,
   "id": "e20d5a42",
   "metadata": {},
   "outputs": [],
   "source": [
    "from sympy import *\n",
    "t = symbols('t', real = True, nonegative = True)\n",
    "s = symbols('s', real = True, positive = True) "
   ]
  },
  {
   "cell_type": "code",
   "execution_count": 2,
   "id": "8869705c",
   "metadata": {},
   "outputs": [],
   "source": [
    "def L(f):\n",
    "    return laplace_transform(f,t,s, noconds = True) "
   ]
  },
  {
   "cell_type": "code",
   "execution_count": 3,
   "id": "26411d76",
   "metadata": {},
   "outputs": [
    {
     "data": {
      "text/latex": [
       "$\\displaystyle \\frac{1}{\\left(s - 4\\right)^{2}}$"
      ],
      "text/plain": [
       "(s - 4)**(-2)"
      ]
     },
     "execution_count": 3,
     "metadata": {},
     "output_type": "execute_result"
    }
   ],
   "source": [
    "L(t*exp(4*t)) "
   ]
  },
  {
   "cell_type": "markdown",
   "id": "120781dc",
   "metadata": {},
   "source": [
    "## Elementos de cálculo diferencial e integral utilizados en este cuaderno"
   ]
  },
  {
   "cell_type": "markdown",
   "id": "7e97582d",
   "metadata": {},
   "source": [
    "$$\\int e^{kt}dt = \\frac{e^{kt}}{k} $$\n",
    "\n",
    "* La regla de LHopital\n",
    "\n",
    "$$\\lim_{t \\to \\infty}\\frac{f(t)}{g(t)} = \\lim_{t \\to \\infty} \\frac{f'(t)}{g'(t)} $$\n",
    "\n",
    "siempre que $f(t) \\to \\infty$ y $g(t) \\to \\infty$ cuando $t \\to \\infty$. "
   ]
  },
  {
   "cell_type": "markdown",
   "id": "24471ee3",
   "metadata": {},
   "source": [
    "## Fórmulas de transformadas utilizadas en este cuaderno"
   ]
  },
  {
   "cell_type": "markdown",
   "id": "e54eefb2",
   "metadata": {},
   "source": [
    "* $$ L[t] = \\frac{1}{s^{2}} $$  \n",
    "\n",
    "\n",
    "* $$ L(f(t)e^{at}) = F(s-a) $$"
   ]
  },
  {
   "cell_type": "markdown",
   "id": "06f52419",
   "metadata": {},
   "source": [
    "## Funciones dde Sympy utilizadas en este cuaderno"
   ]
  },
  {
   "cell_type": "markdown",
   "id": "c8bfef66",
   "metadata": {},
   "source": [
    "* laplace_transfor(f,t,s,noconds = True) para calcular la transformada de laplace de una   \n",
    "  función $f(t)$"
   ]
  },
  {
   "cell_type": "markdown",
   "id": "ffd7ccbb",
   "metadata": {},
   "source": [
    "## Referentes   \n",
    "\n",
    "* Zill"
   ]
  }
 ],
 "metadata": {
  "kernelspec": {
   "display_name": "Python 3",
   "language": "python",
   "name": "python3"
  },
  "language_info": {
   "codemirror_mode": {
    "name": "ipython",
    "version": 3
   },
   "file_extension": ".py",
   "mimetype": "text/x-python",
   "name": "python",
   "nbconvert_exporter": "python",
   "pygments_lexer": "ipython3",
   "version": "3.8.8"
  },
  "latex_envs": {
   "LaTeX_envs_menu_present": true,
   "autoclose": false,
   "autocomplete": false,
   "bibliofile": "biblio.bib",
   "cite_by": "apalike",
   "current_citInitial": 1,
   "eqLabelWithNumbers": true,
   "eqNumInitial": 1,
   "hotkeys": {
    "equation": "Ctrl-E",
    "itemize": "Ctrl-I"
   },
   "labels_anchors": false,
   "latex_user_defs": false,
   "report_style_numbering": false,
   "user_envs_cfg": false
  }
 },
 "nbformat": 4,
 "nbformat_minor": 5
}
