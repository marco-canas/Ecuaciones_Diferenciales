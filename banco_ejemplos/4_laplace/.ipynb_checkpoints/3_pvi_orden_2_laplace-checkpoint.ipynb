{
 "cells": [
  {
   "cell_type": "markdown",
   "id": "de39b1ee",
   "metadata": {},
   "source": [
    "<table align=\"left\">\n",
    "  <td>\n",
    "    <a href=\"https://colab.research.google.com/github/marco-canas/edo/blob/main/clases/class_15/7_6_sist_laplace.ipynb#scrollTo=fb4c467b\" target=\"_parent\"><img src=\"https://colab.research.google.com/assets/colab-badge.svg\" alt=\"Open In Colab\"/></a>\n",
    "  </td>\n",
    "  <td>\n",
    "    <a target=\"_blank\" href=\"https://kaggle.com/kernels/welcome?src=https://github.com/marco-canas/edo/blob/main/clases/class_15/7_6_sist_laplace.ipynb#scrollTo=fb4c467b\"><img src=\"https://kaggle.com/static/images/open-in-kaggle.svg\" /></a>\n",
    "  </td>\n",
    "</table>"
   ]
  },
  {
   "cell_type": "markdown",
   "id": "6a9a977b",
   "metadata": {},
   "source": [
    "# Un PVI de orden 2 solucionado con transformada de Laplace"
   ]
  },
  {
   "cell_type": "markdown",
   "id": "2198823c",
   "metadata": {},
   "source": [
    "$$ y'' -4y' = 6e^{3t} -3e^{-t}, \\ \\ \\ y(0) = 1, \\ \\ \\ y'(0) = -1 $$"
   ]
  },
  {
   "cell_type": "markdown",
   "id": "320a8963",
   "metadata": {},
   "source": [
    "## [Video de apoyo]() "
   ]
  },
  {
   "cell_type": "markdown",
   "id": "b6d035f9",
   "metadata": {},
   "source": [
    "## Solución con sympy:"
   ]
  },
  {
   "cell_type": "code",
   "execution_count": 1,
   "id": "397f8eb2",
   "metadata": {},
   "outputs": [],
   "source": [
    "import numpy as np \n",
    "from sympy import *\n",
    "\n",
    "t = symbols('t', real = True, nonegative = True) \n",
    "s = symbols('s', real = True, positive = True) \n",
    "\n",
    "x,X,y,Y= symbols('x,X,y,Y')\n",
    "\n",
    "x = Function('x')\n",
    "y = Function('y')\n",
    "\n",
    "X = Function('X')\n",
    "Y = Function('Y') \n",
    "\n",
    "\n",
    "def L(f):\n",
    "    return laplace_transform(f,t,s, noconds = True)  \n",
    "\n",
    "def inv_L(F):\n",
    "    return inverse_laplace_transform(F,s,t, noconds = True)  \n",
    "\n",
    "def L_diff(f, f0, f_p0, f_pp0 = 0 , n = 1): # esta función es para calcular transformadas de derivadas\n",
    "    \"\"\"\n",
    "    input:\n",
    "    f es una variable sinbólica de sympy que representa a la función f(t) a la que se quiere calcular \n",
    "      la transformada de alguna de sus derivadas. \n",
    "    \n",
    "    n puede asumir los valores de 0,1,2,3 y representa el orden de la derivada\n",
    "    \"\"\"\n",
    "    F = str(f).upper()\n",
    "    F = symbols(F) \n",
    "    F = Function(F)(s) \n",
    "    if n == 0:\n",
    "        L = F\n",
    "    elif n == 1:\n",
    "        L = s*F - f0\n",
    "    elif n == 2:\n",
    "        L = s**2*F - s*f0 - f_p0\n",
    "    elif n == 3:\n",
    "        L = s**3*F - s**2*f0,-s*f_p0 - f_pp0\n",
    "    return L "
   ]
  },
  {
   "cell_type": "markdown",
   "id": "f14d4514",
   "metadata": {},
   "source": [
    "Empecemos calculando la transformada de la ecuación diferencial dada:"
   ]
  },
  {
   "cell_type": "code",
   "execution_count": 2,
   "id": "7d4e2a8e",
   "metadata": {},
   "outputs": [
    {
     "data": {
      "text/latex": [
       "$\\displaystyle - 4 \\frac{d}{d t} y{\\left(t \\right)} + \\frac{d^{2}}{d t^{2}} y{\\left(t \\right)} = 6 e^{3 t} - 3 e^{- t}$"
      ],
      "text/plain": [
       "Eq(-4*Derivative(y(t), t) + Derivative(y(t), (t, 2)), 6*exp(3*t) - 3*exp(-t))"
      ]
     },
     "execution_count": 2,
     "metadata": {},
     "output_type": "execute_result"
    }
   ],
   "source": [
    "eq = Eq( diff(y(t),t,2) - 4*diff(y(t),t), 6*exp(3*t) - 3*exp(-t) )\n",
    "eq "
   ]
  },
  {
   "cell_type": "code",
   "execution_count": 3,
   "id": "54aa70db",
   "metadata": {},
   "outputs": [],
   "source": [
    "y0  = 1\n",
    "yp0 = -1 "
   ]
  },
  {
   "cell_type": "code",
   "execution_count": 4,
   "id": "118a82d9",
   "metadata": {},
   "outputs": [],
   "source": [
    "eq_laplace = Eq( L_diff(y,y0,yp0,n = 2) - 4*L_diff(y, y0, yp0, n = 1) , 6*L(exp(3*t)) - 3*L(exp(-t)) ) "
   ]
  },
  {
   "cell_type": "code",
   "execution_count": 5,
   "id": "b07a7343",
   "metadata": {},
   "outputs": [
    {
     "data": {
      "text/latex": [
       "$\\displaystyle s^{2} Y{\\left(s \\right)} - 4 s Y{\\left(s \\right)} - s + 5 = - \\frac{3}{s + 1} + \\frac{6}{s - 3}$"
      ],
      "text/plain": [
       "Eq(s**2*Y(s) - 4*s*Y(s) - s + 5, -3/(s + 1) + 6/(s - 3))"
      ]
     },
     "execution_count": 5,
     "metadata": {},
     "output_type": "execute_result"
    }
   ],
   "source": [
    "eq_laplace "
   ]
  },
  {
   "cell_type": "code",
   "execution_count": 6,
   "id": "b6541577",
   "metadata": {},
   "outputs": [],
   "source": [
    "sol = solve(eq_laplace,Y(s))[0]"
   ]
  },
  {
   "cell_type": "code",
   "execution_count": 7,
   "id": "cfa1bb5f",
   "metadata": {},
   "outputs": [
    {
     "data": {
      "text/latex": [
       "$\\displaystyle \\frac{s^{3} - 7 s^{2} + 10 s + 30}{s \\left(s^{3} - 6 s^{2} + 5 s + 12\\right)}$"
      ],
      "text/plain": [
       "(s**3 - 7*s**2 + 10*s + 30)/(s*(s**3 - 6*s**2 + 5*s + 12))"
      ]
     },
     "execution_count": 7,
     "metadata": {},
     "output_type": "execute_result"
    }
   ],
   "source": [
    "sol "
   ]
  },
  {
   "cell_type": "code",
   "execution_count": 8,
   "id": "44cfcf1b",
   "metadata": {},
   "outputs": [],
   "source": [
    "def factor_2(s):\n",
    "    return s**3 - 6*s**2 + 5*s + 12 "
   ]
  },
  {
   "cell_type": "code",
   "execution_count": 9,
   "id": "c6bad767",
   "metadata": {},
   "outputs": [],
   "source": [
    "import numpy as np \n",
    "posibles_raices_racionales = np.array([1,2,3,4,6,12, -1,-2,-3,-4,-6,-12])"
   ]
  },
  {
   "cell_type": "code",
   "execution_count": 10,
   "id": "b9333ac6",
   "metadata": {},
   "outputs": [
    {
     "data": {
      "text/plain": [
       "array([   12,     6,     0,     0,    42,   936,     0,   -30,   -84,\n",
       "        -168,  -450, -2640])"
      ]
     },
     "execution_count": 10,
     "metadata": {},
     "output_type": "execute_result"
    }
   ],
   "source": [
    "factor_2(posibles_raices_racionales) "
   ]
  },
  {
   "cell_type": "code",
   "execution_count": 11,
   "id": "1481b48d",
   "metadata": {},
   "outputs": [
    {
     "data": {
      "text/latex": [
       "$\\displaystyle \\frac{s^{3} - 7 s^{2} + 10 s + 30}{s \\left(s - 4\\right) \\left(s - 3\\right) \\left(s + 1\\right)}$"
      ],
      "text/plain": [
       "(s**3 - 7*s**2 + 10*s + 30)/(s*(s - 4)*(s - 3)*(s + 1))"
      ]
     },
     "execution_count": 11,
     "metadata": {},
     "output_type": "execute_result"
    }
   ],
   "source": [
    "Y = (s**3 - 7*s**2 + 10*s + 30)/(s*(s-3)*(s-4)*(s+1))\n",
    "Y "
   ]
  },
  {
   "cell_type": "code",
   "execution_count": 12,
   "id": "18faddea",
   "metadata": {},
   "outputs": [
    {
     "data": {
      "text/latex": [
       "$\\displaystyle - \\frac{3}{5 \\left(s + 1\\right)} - \\frac{2}{s - 3} + \\frac{11}{10 \\left(s - 4\\right)} + \\frac{5}{2 s}$"
      ],
      "text/plain": [
       "-3/(5*(s + 1)) - 2/(s - 3) + 11/(10*(s - 4)) + 5/(2*s)"
      ]
     },
     "execution_count": 12,
     "metadata": {},
     "output_type": "execute_result"
    }
   ],
   "source": [
    "Y = Y.apart() \n",
    "Y "
   ]
  },
  {
   "cell_type": "code",
   "execution_count": 13,
   "id": "8c9ff32e",
   "metadata": {},
   "outputs": [
    {
     "data": {
      "text/latex": [
       "$\\displaystyle \\frac{\\left(11 e^{5 t} - 20 e^{4 t} + 25 e^{t} - 6\\right) e^{- t} \\theta\\left(t\\right)}{10}$"
      ],
      "text/plain": [
       "(11*exp(5*t) - 20*exp(4*t) + 25*exp(t) - 6)*exp(-t)*Heaviside(t)/10"
      ]
     },
     "execution_count": 13,
     "metadata": {},
     "output_type": "execute_result"
    }
   ],
   "source": [
    "y = inv_L(Y)\n",
    "y "
   ]
  },
  {
   "cell_type": "code",
   "execution_count": 14,
   "id": "6f6c35f1",
   "metadata": {},
   "outputs": [
    {
     "data": {
      "text/latex": [
       "$\\displaystyle \\frac{\\left(11 e^{5 t} - 20 e^{4 t} + 25 e^{t} - 6\\right) e^{- t}}{10}$"
      ],
      "text/plain": [
       "(11*exp(5*t) - 20*exp(4*t) + 25*exp(t) - 6)*exp(-t)/10"
      ]
     },
     "execution_count": 14,
     "metadata": {},
     "output_type": "execute_result"
    }
   ],
   "source": [
    "y_ = (11*exp(5*t) - 20*exp(4*t) + 25*exp(t) - 6)*exp(-t)/10 \n",
    "y_ "
   ]
  },
  {
   "cell_type": "code",
   "execution_count": 17,
   "id": "030227db",
   "metadata": {},
   "outputs": [
    {
     "data": {
      "text/latex": [
       "$\\displaystyle - 4 \\frac{d}{d t} y{\\left(t \\right)} + \\frac{d^{2}}{d t^{2}} y{\\left(t \\right)}$"
      ],
      "text/plain": [
       "-4*Derivative(y(t), t) + Derivative(y(t), (t, 2))"
      ]
     },
     "execution_count": 17,
     "metadata": {},
     "output_type": "execute_result"
    }
   ],
   "source": [
    "eq.lhs.subs({y: y_ }) "
   ]
  },
  {
   "cell_type": "code",
   "execution_count": 18,
   "id": "ced5b66e",
   "metadata": {},
   "outputs": [
    {
     "data": {
      "text/latex": [
       "$\\displaystyle 6 e^{3 t} - 3 e^{- t}$"
      ],
      "text/plain": [
       "6*exp(3*t) - 3*exp(-t)"
      ]
     },
     "execution_count": 18,
     "metadata": {},
     "output_type": "execute_result"
    }
   ],
   "source": [
    "eq.rhs"
   ]
  },
  {
   "cell_type": "code",
   "execution_count": null,
   "id": "95cc62e4",
   "metadata": {},
   "outputs": [],
   "source": [
    "y.subs({t:0}) "
   ]
  },
  {
   "cell_type": "code",
   "execution_count": null,
   "id": "c33426a4",
   "metadata": {},
   "outputs": [],
   "source": [
    "diff(y,t).subs({t:0}) "
   ]
  },
  {
   "cell_type": "markdown",
   "id": "0497c7ec",
   "metadata": {},
   "source": [
    "## Referentes  \n",
    "\n",
    "* Zill\n"
   ]
  }
 ],
 "metadata": {
  "kernelspec": {
   "display_name": "Python 3",
   "language": "python",
   "name": "python3"
  },
  "language_info": {
   "codemirror_mode": {
    "name": "ipython",
    "version": 3
   },
   "file_extension": ".py",
   "mimetype": "text/x-python",
   "name": "python",
   "nbconvert_exporter": "python",
   "pygments_lexer": "ipython3",
   "version": "3.8.8"
  },
  "latex_envs": {
   "LaTeX_envs_menu_present": true,
   "autoclose": false,
   "autocomplete": false,
   "bibliofile": "biblio.bib",
   "cite_by": "apalike",
   "current_citInitial": 1,
   "eqLabelWithNumbers": true,
   "eqNumInitial": 1,
   "hotkeys": {
    "equation": "Ctrl-E",
    "itemize": "Ctrl-I"
   },
   "labels_anchors": false,
   "latex_user_defs": false,
   "report_style_numbering": false,
   "user_envs_cfg": false
  }
 },
 "nbformat": 4,
 "nbformat_minor": 5
}
