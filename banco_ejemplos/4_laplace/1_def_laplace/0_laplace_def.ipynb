{
 "cells": [
  {
   "cell_type": "markdown",
   "id": "b80e4c3a",
   "metadata": {},
   "source": [
    "<table align=\"left\">\n",
    "  <td>\n",
    "    <a href=\"https://colab.research.google.com/github/marco-canas/edo/blob/main/clases/class_15/7_6_sist_laplace.ipynb#scrollTo=fb4c467b\" target=\"_parent\"><img src=\"https://colab.research.google.com/assets/colab-badge.svg\" alt=\"Open In Colab\"/></a>\n",
    "  </td>\n",
    "  <td>\n",
    "    <a target=\"_blank\" href=\"https://kaggle.com/kernels/welcome?src=https://github.com/marco-canas/edo/blob/main/clases/class_15/7_6_sist_laplace.ipynb#scrollTo=fb4c467b\"><img src=\"https://kaggle.com/static/images/open-in-kaggle.svg\" /></a>\n",
    "  </td>\n",
    "</table>"
   ]
  },
  {
   "cell_type": "markdown",
   "id": "8ae3f3bb",
   "metadata": {},
   "source": [
    "# Ejercicio ejemplo sobre cálculo de la transformada de Laplace por definición"
   ]
  },
  {
   "cell_type": "markdown",
   "id": "85fe70f4",
   "metadata": {},
   "source": [
    "Calcule la transformada de laplace de \n",
    "\n",
    "$$ te^{4t}$$\n",
    "\n",
    "utilizando solo la definición. \n"
   ]
  },
  {
   "cell_type": "markdown",
   "id": "b203c039",
   "metadata": {},
   "source": [
    "## [Video de apoyo]() "
   ]
  },
  {
   "cell_type": "markdown",
   "id": "37d7cb84",
   "metadata": {},
   "source": [
    "## Solución analítica"
   ]
  },
  {
   "cell_type": "markdown",
   "id": "ab916b7e",
   "metadata": {},
   "source": [
    "$$ L[te^{4t}] = \\int_{0}^{\\infty} e^{-st}[te^{4t}]\\ dt $$"
   ]
  },
  {
   "cell_type": "markdown",
   "id": "757345aa",
   "metadata": {},
   "source": [
    "Aplicando propiedades algebraicas de la multiplicacion de funciones obtenemos:\n",
    "\n",
    "$$ L[te^{4t}] = \\int_{0}^{\\infty} te^{-st + 4t} \\ dt $$\n"
   ]
  },
  {
   "cell_type": "markdown",
   "id": "5e070dda",
   "metadata": {},
   "source": [
    "$$ L[te^{4t}] = \\int_{0}^{\\infty} te^{-t(s-4)}\\ dt $$"
   ]
  },
  {
   "cell_type": "markdown",
   "id": "a6b9697d",
   "metadata": {},
   "source": [
    "Apliquemos ahora el método de integración por partes para la integral indefinida asociada:\n",
    "\n",
    "$$ I = \\int te^{-t(s-4)}\\ dt $$"
   ]
  },
  {
   "cell_type": "markdown",
   "id": "4abe8111",
   "metadata": {},
   "source": [
    "Como el integrando es un producto entre una función polinómica y una exponencial, entonces debemos elegir: \n",
    "\n",
    "$$ u = t\\ \\ \\ \\ dv = e^{-t(s-4)}dt  $$\n",
    "\n",
    "$$ du = dt \\ \\ \\ \\ v = \\frac{e^{-t(s-4)}}{-(s-4)} $$"
   ]
  },
  {
   "cell_type": "markdown",
   "id": "2abf18fb",
   "metadata": {},
   "source": [
    "$$ I = \\int te^{-t(s-4)}\\ dt =  \\frac{te^{-t(s-4)}}{-(s-4)} + \\frac{1}{s-4}\\int e^{-t(s-4)}\\ dt $$"
   ]
  },
  {
   "cell_type": "markdown",
   "id": "2e14ad80",
   "metadata": {},
   "source": [
    "$$ I = \\int te^{-t(s-4)}\\ dt = \\frac{te^{-t(s-4)}}{-(s-4)} + \\frac{1}{s-4} \\cdot \\frac{e^{-t(s-4)}}{-(s-4)} $$"
   ]
  },
  {
   "cell_type": "markdown",
   "id": "dcb33426",
   "metadata": {},
   "source": [
    "$$ I = \\int te^{-t(s-4)} \\ dt = -\\frac{te^{-t(s-4)}}{s-4} - \\frac{e^{-t(s-4)}}{(s-4)^{2}} $$"
   ]
  },
  {
   "cell_type": "markdown",
   "id": "a4bafa00",
   "metadata": {},
   "source": [
    "$$ I = \\int te^{-t(s-4)} \\ dt = -e^{-t(s-4)}\\left( \\frac{t}{s-4} + \\frac{1}{(s-4)^{2}} \\right) $$"
   ]
  },
  {
   "cell_type": "markdown",
   "id": "521cd419",
   "metadata": {},
   "source": [
    "$$ I = \\int te^{-t(s-4)} \\ dt = -e^{-t(s-4)}\\left( \\frac{t(s-4)}{(s-4)^{2}} + \\frac{1}{(s-4)^{2}} \\right)  $$"
   ]
  },
  {
   "cell_type": "markdown",
   "id": "f8398af5",
   "metadata": {},
   "source": [
    "$$ I = \\int te^{-t(s-4)} \\ dt = \\frac{-1}{(s-4)^{2}} \\cdot \\left[e^{-t(s-4)}(t(s-4) + 1)  \\right] $$"
   ]
  },
  {
   "cell_type": "markdown",
   "id": "8d314d4e",
   "metadata": {},
   "source": [
    "Para calcular la integral impropia asociada expresaremos el segundo factor como un cociente de funciones de $t$:\n",
    "\n",
    "$$ I = \\int te^{-t(s-4)}\\ dt = \\frac{-1}{(s-4)^{2}} \\cdot \\left[ \\frac{t(s-4) + 1}{e^{t(s-4)}} \\right] $$"
   ]
  },
  {
   "cell_type": "markdown",
   "id": "c438b051",
   "metadata": {},
   "source": [
    "Volvamos a la integral impropia que define a la transformada de Laplace que estamos calculando: "
   ]
  },
  {
   "cell_type": "markdown",
   "id": "03605b01",
   "metadata": {},
   "source": [
    "$$ L[te^{4t}] = \\int_{0}^{\\infty} te^{-t(s-4)}\\ dt = \\frac{-1}{(s-4)^{2}} \\cdot \\left[ \\frac{t(s-4) + 1}{e^{t(s-4)}} \\right]_{0}^{\\infty} $$"
   ]
  },
  {
   "cell_type": "markdown",
   "id": "a540b6ba",
   "metadata": {},
   "source": [
    "$$ L[te^{4t}] = \\int_{0}^{\\infty} te^{-t(s-4)}\\ dt = \\frac{-1}{(s-4)^{2}} \\left[ \\lim_{t \\to \\infty} \\frac{t(s-4) + 1}{e^{t(s-4)}}  -  \\frac{(0)(s-4) + 1}{e^{(0)(s-4)}}\\right] $$"
   ]
  },
  {
   "cell_type": "markdown",
   "id": "6d876c77",
   "metadata": {},
   "source": [
    "$$ L[te^{4t}] = \\int_{0}^{\\infty} te^{-t(s-4)}\\ dt = \\frac{-1}{(s-4)^{2}} \\left[ \\lim_{t \\to \\infty} \\frac{t(s-4) + 1}{e^{t(s-4)}}  - 1 \\right] $$"
   ]
  },
  {
   "cell_type": "markdown",
   "id": "00eeddb8",
   "metadata": {},
   "source": [
    "Si asumimos que $s > 4$, entonces $(t(s-4) + 1) \\to \\infty$ y $e^{t(s-4)} \\to \\infty$ cuando $t \\to \\infty$, por tanto, podemos aplicar la regle de Lhopital para obtener:"
   ]
  },
  {
   "cell_type": "markdown",
   "id": "e117158f",
   "metadata": {},
   "source": [
    "$$ L[te^{4t}] = \\int_{0}^{\\infty} te^{-t(s-4)}\\ dt = \\frac{-1}{(s-4)^{2}} \\left[ \\lim_{t \\to \\infty} \\frac{(s-4) }{e^{t(s-4)}(s-4)}  - 1 \\right] $$"
   ]
  },
  {
   "cell_type": "markdown",
   "id": "e02c8dbf",
   "metadata": {},
   "source": [
    "$$ L[te^{4t}] = \\int_{0}^{\\infty} te^{-t(s-4)}\\ dt = \\frac{-1}{(s-4)^{2}} \\left[ \\lim_{t \\to \\infty} \\frac{1 }{e^{t(s-4)}}  - 1 \\right] $$"
   ]
  },
  {
   "cell_type": "markdown",
   "id": "9953f1b5",
   "metadata": {},
   "source": [
    "$$ L[te^{4t}] = \\int_{0}^{\\infty} te^{-t(s-4)}\\ dt = \\frac{-1}{(s-4)^{2}} \\left[ 0  - 1 \\right] $$"
   ]
  },
  {
   "cell_type": "markdown",
   "id": "a247ef1b",
   "metadata": {},
   "source": [
    "$$ L[te^{4t}] = \\frac{1}{(s-4)^{2}} $$"
   ]
  },
  {
   "cell_type": "markdown",
   "id": "7fa0eca8",
   "metadata": {},
   "source": [
    "## Solución con Sympy"
   ]
  },
  {
   "cell_type": "code",
   "execution_count": 1,
   "id": "99d068d5",
   "metadata": {},
   "outputs": [],
   "source": [
    "from sympy import *\n",
    "t = symbols('t', real = True, nonegative = True)\n",
    "s = symbols('s', real = True, positive = True) "
   ]
  },
  {
   "cell_type": "code",
   "execution_count": 2,
   "id": "1c40f1ef",
   "metadata": {},
   "outputs": [],
   "source": [
    "def L(f):\n",
    "    return laplace_transform(f,t,s, noconds = True) "
   ]
  },
  {
   "cell_type": "code",
   "execution_count": 3,
   "id": "3cceb5f3",
   "metadata": {},
   "outputs": [
    {
     "data": {
      "text/latex": [
       "$\\displaystyle \\frac{1}{\\left(s - 4\\right)^{2}}$"
      ],
      "text/plain": [
       "(s - 4)**(-2)"
      ]
     },
     "execution_count": 3,
     "metadata": {},
     "output_type": "execute_result"
    }
   ],
   "source": [
    "L(t*exp(4*t)) "
   ]
  },
  {
   "cell_type": "markdown",
   "id": "d7dee9fa",
   "metadata": {},
   "source": [
    "## Elementos de cálculo diferencial e integral utilizados en este cuaderno"
   ]
  },
  {
   "cell_type": "markdown",
   "id": "a0f86c61",
   "metadata": {},
   "source": [
    "$$\\int e^{kt}dt = \\frac{e^{kt}}{k} $$\n",
    "\n",
    "* $$ D_{t} (e^{kt}) = ke^{kt} $$\n",
    "\n",
    "* La regla de LHopital\n",
    "\n",
    "$$\\lim_{t \\to \\infty}\\frac{f(t)}{g(t)} = \\lim_{t \\to \\infty} \\frac{f'(t)}{g'(t)} $$\n",
    "\n",
    "siempre que $f(t) \\to \\infty$ y $g(t) \\to \\infty$ cuando $t \\to \\infty$. "
   ]
  },
  {
   "cell_type": "markdown",
   "id": "718e162a",
   "metadata": {},
   "source": [
    "## Fórmulas de transformadas utilizadas en este cuaderno"
   ]
  },
  {
   "cell_type": "markdown",
   "id": "dd1730fe",
   "metadata": {},
   "source": [
    "* $$ L[t] = \\frac{1}{s^{2}} $$  \n",
    "\n",
    "\n",
    "* $$ L(f(t)e^{at}) = F(s-a) $$"
   ]
  },
  {
   "cell_type": "markdown",
   "id": "88026fba",
   "metadata": {},
   "source": [
    "## Funciones dde Sympy utilizadas en este cuaderno"
   ]
  },
  {
   "cell_type": "markdown",
   "id": "8f42c53f",
   "metadata": {},
   "source": [
    "* laplace_transfor(f,t,s,noconds = True) para calcular la transformada de laplace de una   \n",
    "  función $f(t)$"
   ]
  },
  {
   "cell_type": "markdown",
   "id": "e10feab8",
   "metadata": {},
   "source": [
    "## Referentes   \n",
    "\n",
    "* Zill"
   ]
  }
 ],
 "metadata": {
  "kernelspec": {
   "display_name": "Python 3",
   "language": "python",
   "name": "python3"
  },
  "language_info": {
   "codemirror_mode": {
    "name": "ipython",
    "version": 3
   },
   "file_extension": ".py",
   "mimetype": "text/x-python",
   "name": "python",
   "nbconvert_exporter": "python",
   "pygments_lexer": "ipython3",
   "version": "3.8.8"
  },
  "latex_envs": {
   "LaTeX_envs_menu_present": true,
   "autoclose": false,
   "autocomplete": false,
   "bibliofile": "biblio.bib",
   "cite_by": "apalike",
   "current_citInitial": 1,
   "eqLabelWithNumbers": true,
   "eqNumInitial": 1,
   "hotkeys": {
    "equation": "Ctrl-E",
    "itemize": "Ctrl-I"
   },
   "labels_anchors": false,
   "latex_user_defs": false,
   "report_style_numbering": false,
   "user_envs_cfg": false
  },
  "rise": {
   "enable_chalkboard": true,
   "theme": "sky",
   "transition": "zoom"
  }
 },
 "nbformat": 4,
 "nbformat_minor": 5
}
