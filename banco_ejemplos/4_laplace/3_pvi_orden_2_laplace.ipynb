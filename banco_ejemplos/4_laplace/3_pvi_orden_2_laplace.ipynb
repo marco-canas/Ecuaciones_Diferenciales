{
 "cells": [
  {
   "cell_type": "markdown",
   "id": "a1617ac0",
   "metadata": {},
   "source": [
    "<table align=\"left\">\n",
    "  <td>\n",
    "    <a href=\"https://colab.research.google.com/github/marco-canas/edo/blob/main/clases/class_15/7_6_sist_laplace.ipynb#scrollTo=fb4c467b\" target=\"_parent\"><img src=\"https://colab.research.google.com/assets/colab-badge.svg\" alt=\"Open In Colab\"/></a>\n",
    "  </td>\n",
    "  <td>\n",
    "    <a target=\"_blank\" href=\"https://kaggle.com/kernels/welcome?src=https://github.com/marco-canas/edo/blob/main/clases/class_15/7_6_sist_laplace.ipynb#scrollTo=fb4c467b\"><img src=\"https://kaggle.com/static/images/open-in-kaggle.svg\" /></a>\n",
    "  </td>\n",
    "</table>"
   ]
  },
  {
   "cell_type": "markdown",
   "id": "5b14469c",
   "metadata": {},
   "source": [
    "# Un PVI de orden 2 solucionado con transformada de Laplace"
   ]
  },
  {
   "cell_type": "markdown",
   "id": "92ae5736",
   "metadata": {},
   "source": [
    "$$ y'' -4y' = 6e^{3t} -3e^{-t}, \\ \\ \\ y(0) = 1, \\ \\ \\ y'(0) = -1 $$"
   ]
  },
  {
   "cell_type": "markdown",
   "id": "a271150e",
   "metadata": {},
   "source": [
    "## [Video de apoyo]() "
   ]
  },
  {
   "cell_type": "markdown",
   "id": "0990511b",
   "metadata": {},
   "source": [
    "## Solución con sympy:"
   ]
  },
  {
   "cell_type": "code",
   "execution_count": null,
   "id": "7b3b9ee2",
   "metadata": {},
   "outputs": [],
   "source": [
    "import numpy as np \n",
    "from sympy import *\n",
    "\n",
    "t = symbols('t', real = True, nonegative = True) \n",
    "s = symbols('s', real = True, positive = True) \n",
    "\n",
    "x,X,y,Y= symbols('x,X,y,Y')\n",
    "\n",
    "x = Function('x')\n",
    "y = Function('y')\n",
    "\n",
    "X = Function('X')\n",
    "Y = Function('Y') \n",
    "\n",
    "\n",
    "def L(f):\n",
    "    return laplace_transform(f,t,s, noconds = True)  \n",
    "\n",
    "def inv_L(F):\n",
    "    return inverse_laplace_transform(F,s,t, noconds = True)  \n",
    "\n",
    "def L_diff(f, f0, f_p0, f_pp0 = 0 , n = 1): # esta función es para calcular transformadas de derivadas\n",
    "    \"\"\"\n",
    "    input:\n",
    "    f es una variable sinbólica de sympy que representa a la función f(t) a la que se quiere calcular \n",
    "      la transformada de alguna de sus derivadas. \n",
    "    \n",
    "    n puede asumir los valores de 0,1,2,3 y representa el orden de la derivada\n",
    "    \"\"\"\n",
    "    F = str(f).upper()\n",
    "    F = symbols(F) \n",
    "    F = Function(F)(s) \n",
    "    if n == 0:\n",
    "        L = F\n",
    "    elif n == 1:\n",
    "        L = s*F - f0\n",
    "    elif n == 2:\n",
    "        L = s**2*F - s*f0 - f_p0\n",
    "    elif n == 3:\n",
    "        L = s**3*F - s**2*f0,-s*f_p0 - f_pp0\n",
    "    return L "
   ]
  },
  {
   "cell_type": "markdown",
   "id": "6381904d",
   "metadata": {},
   "source": [
    "Empecemos calculando la transformada de la ecuación diferencial dada:"
   ]
  },
  {
   "cell_type": "code",
   "execution_count": null,
   "id": "9bb3c1d3",
   "metadata": {},
   "outputs": [],
   "source": [
    "eq = Eq( diff(y(t),t,2) - 4*diff(y(t),t), 6*exp(3*t) - 3*exp(-t) )\n",
    "eq "
   ]
  },
  {
   "cell_type": "code",
   "execution_count": null,
   "id": "1fb658a2",
   "metadata": {},
   "outputs": [],
   "source": [
    "y0  = 1\n",
    "yp0 = -1 "
   ]
  },
  {
   "cell_type": "code",
   "execution_count": null,
   "id": "1e77eebb",
   "metadata": {},
   "outputs": [],
   "source": [
    "eq_laplace = Eq( L_diff(y,y0,yp0,n = 2) - 4*L_diff(y, y0, yp0, n = 1) , 6*L(exp(3*t)) - 3*L(exp(-t)) ) "
   ]
  },
  {
   "cell_type": "code",
   "execution_count": null,
   "id": "923be25f",
   "metadata": {},
   "outputs": [],
   "source": [
    "eq_laplace "
   ]
  },
  {
   "cell_type": "code",
   "execution_count": null,
   "id": "695a5095",
   "metadata": {},
   "outputs": [],
   "source": [
    "sol = solve(eq_laplace,Y(s))[0]"
   ]
  },
  {
   "cell_type": "code",
   "execution_count": null,
   "id": "243ef0d4",
   "metadata": {},
   "outputs": [],
   "source": [
    "sol "
   ]
  },
  {
   "cell_type": "code",
   "execution_count": null,
   "id": "10365265",
   "metadata": {},
   "outputs": [],
   "source": [
    "def factor_2(s):\n",
    "    return s**3 - 6*s**2 + 5*s + 12 "
   ]
  },
  {
   "cell_type": "code",
   "execution_count": null,
   "id": "0d5d9a0a",
   "metadata": {},
   "outputs": [],
   "source": [
    "import numpy as np \n",
    "posibles_raices_racionales = np.array([1,2,3,4,6,12, -1,-2,-3,-4,-6,-12])"
   ]
  },
  {
   "cell_type": "code",
   "execution_count": null,
   "id": "cc5b0957",
   "metadata": {},
   "outputs": [],
   "source": [
    "factor_2(posibles_raices_racionales) "
   ]
  },
  {
   "cell_type": "code",
   "execution_count": null,
   "id": "4bf6cfca",
   "metadata": {},
   "outputs": [],
   "source": [
    "Y = (s**3 - 7*s**2 + 10*s + 30)/(s*(s-3)*(s-4)*(s+1))\n",
    "Y "
   ]
  },
  {
   "cell_type": "code",
   "execution_count": null,
   "id": "0d39fa99",
   "metadata": {},
   "outputs": [],
   "source": [
    "Y = Y.apart() \n",
    "Y "
   ]
  },
  {
   "cell_type": "code",
   "execution_count": null,
   "id": "2f8e162a",
   "metadata": {},
   "outputs": [],
   "source": [
    "y = inv_L(Y)\n",
    "y "
   ]
  },
  {
   "cell_type": "code",
   "execution_count": null,
   "id": "8f063cfc",
   "metadata": {},
   "outputs": [],
   "source": [
    "y_ = (11*exp(5*t) - 20*exp(4*t) + 25*exp(t) - 6)*exp(-t)/10 \n",
    "y_ "
   ]
  },
  {
   "cell_type": "code",
   "execution_count": null,
   "id": "cde80d44",
   "metadata": {},
   "outputs": [],
   "source": [
    "eq.lhs.subs({y: y_ }) "
   ]
  },
  {
   "cell_type": "code",
   "execution_count": null,
   "id": "ab1cb06a",
   "metadata": {},
   "outputs": [],
   "source": [
    "eq.rhs"
   ]
  },
  {
   "cell_type": "code",
   "execution_count": null,
   "id": "6f1051a9",
   "metadata": {},
   "outputs": [],
   "source": [
    "y.subs({t:0}) "
   ]
  },
  {
   "cell_type": "code",
   "execution_count": null,
   "id": "9a20892a",
   "metadata": {},
   "outputs": [],
   "source": [
    "diff(y,t).subs({t:0}) "
   ]
  },
  {
   "cell_type": "markdown",
   "id": "463fb5ea",
   "metadata": {},
   "source": [
    "## Referentes  \n",
    "\n",
    "* Zill\n"
   ]
  }
 ],
 "metadata": {
  "kernelspec": {
   "display_name": "Python 3",
   "language": "python",
   "name": "python3"
  },
  "language_info": {
   "codemirror_mode": {
    "name": "ipython",
    "version": 3
   },
   "file_extension": ".py",
   "mimetype": "text/x-python",
   "name": "python",
   "nbconvert_exporter": "python",
   "pygments_lexer": "ipython3",
   "version": "3.8.8"
  },
  "latex_envs": {
   "LaTeX_envs_menu_present": true,
   "autoclose": false,
   "autocomplete": false,
   "bibliofile": "biblio.bib",
   "cite_by": "apalike",
   "current_citInitial": 1,
   "eqLabelWithNumbers": true,
   "eqNumInitial": 1,
   "hotkeys": {
    "equation": "Ctrl-E",
    "itemize": "Ctrl-I"
   },
   "labels_anchors": false,
   "latex_user_defs": false,
   "report_style_numbering": false,
   "user_envs_cfg": false
  }
 },
 "nbformat": 4,
 "nbformat_minor": 5
}
