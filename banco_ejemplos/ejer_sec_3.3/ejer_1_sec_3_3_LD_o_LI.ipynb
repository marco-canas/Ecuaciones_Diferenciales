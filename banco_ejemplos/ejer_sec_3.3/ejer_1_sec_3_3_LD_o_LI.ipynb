{
 "cells": [
  {
   "cell_type": "markdown",
   "metadata": {},
   "source": [
    "# Ejercicio 1 de la sección 3.3 del Boyce DiPrima"
   ]
  },
  {
   "cell_type": "markdown",
   "metadata": {},
   "source": [
    "Determine si el par de funciones dado es linealmente independiente o linealmente dependiente:\n",
    "\n",
    "$$ f(x) = x^{2} + 5x, \\quad \\quad \\quad g(x) = x^{2} - 5x $$\n"
   ]
  },
  {
   "cell_type": "markdown",
   "metadata": {},
   "source": [
    "## Solución:  \n"
   ]
  },
  {
   "cell_type": "markdown",
   "metadata": {},
   "source": [
    "$$ w[f,g](x) = \\left| \\begin{matrix} x^{2} + 5x & x^{2} - 5x \\\\\n",
    "2x + 5 & 2x - 5 \\end{matrix} \\right| $$"
   ]
  },
  {
   "cell_type": "markdown",
   "metadata": {},
   "source": [
    "$$ w(x) = (x^{2} + 5x)(2x-5) - (x^{2} - 5x)(2x + 5) $$"
   ]
  },
  {
   "cell_type": "markdown",
   "metadata": {},
   "source": [
    "$$ w(x) = (2x^{3} - 5x^{2} + 10x^{2} - 25x) - (2x^{3} + 5x^{2} - 10x^{2} - 25x)  $$"
   ]
  },
  {
   "cell_type": "markdown",
   "metadata": {},
   "source": [
    "$$ w(x) = 2x^{3} - 5x^{2} + 10x^{2} - 25x - 2x^{3} - 5x^{2} + 10x^{2} + 25x $$"
   ]
  },
  {
   "cell_type": "markdown",
   "metadata": {},
   "source": [
    "$$ w(x) =  - 5x^{2} + 10x^{2} - 5x^{2} + 10x^{2} = 10x^{2}  $$"
   ]
  },
  {
   "cell_type": "code",
   "execution_count": null,
   "metadata": {},
   "outputs": [],
   "source": []
  },
  {
   "cell_type": "code",
   "execution_count": null,
   "metadata": {},
   "outputs": [],
   "source": []
  },
  {
   "cell_type": "code",
   "execution_count": null,
   "metadata": {},
   "outputs": [],
   "source": []
  },
  {
   "cell_type": "code",
   "execution_count": null,
   "metadata": {},
   "outputs": [],
   "source": []
  }
 ],
 "metadata": {
  "hide_input": false,
  "kernelspec": {
   "display_name": "Python 3",
   "language": "python",
   "name": "python3"
  },
  "language_info": {
   "codemirror_mode": {
    "name": "ipython",
    "version": 3
   },
   "file_extension": ".py",
   "mimetype": "text/x-python",
   "name": "python",
   "nbconvert_exporter": "python",
   "pygments_lexer": "ipython3",
   "version": "3.7.4"
  },
  "nbTranslate": {
   "displayLangs": [
    "*"
   ],
   "hotkey": "alt-t",
   "langInMainMenu": true,
   "sourceLang": "en",
   "targetLang": "fr",
   "useGoogleTranslate": true
  }
 },
 "nbformat": 4,
 "nbformat_minor": 2
}
