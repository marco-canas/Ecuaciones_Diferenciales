{
 "cells": [
  {
   "cell_type": "markdown",
   "metadata": {
    "slideshow": {
     "slide_type": "slide"
    }
   },
   "source": [
    "<table align=\"left\">\n",
    "  <td>\n",
    "    <a href=\"https://colab.research.google.com/github/marco-canas/Ecuaciones_Diferenciales/blob/main/asesoria_EDO/ejer_sec_3.1/Ejer_22_sec_3.1_Boyce_DiPrima.ipynb\" target=\"_parent\"><img src=\"https://colab.research.google.com/assets/colab-badge.svg\" alt=\"Open In Colab\"/></a>\n",
    "  </td>\n",
    "  <td>\n",
    "    <a target=\"_blank\" href=\"https://kaggle.com/kernels/welcome?src=https://github.com/marco-canas/Ecuaciones_Diferenciales/blob/main/asesoria_EDO/ejer_sec_3.1/Ejer_22_sec_3.1_Boyce_DiPrima.ipynb\"><img src=\"https://kaggle.com/static/images/open-in-kaggle.svg\" /></a>\n",
    "  </td>\n",
    "</table>"
   ]
  },
  {
   "cell_type": "markdown",
   "metadata": {
    "slideshow": {
     "slide_type": "slide"
    }
   },
   "source": [
    "# Ejercicios resueltos"
   ]
  },
  {
   "cell_type": "markdown",
   "metadata": {
    "slideshow": {
     "slide_type": "slide"
    }
   },
   "source": [
    "# Ecuaciones diferenciales separables "
   ]
  },
  {
   "cell_type": "markdown",
   "metadata": {
    "slideshow": {
     "slide_type": "slide"
    }
   },
   "source": [
    "## Punto 1 "
   ]
  },
  {
   "cell_type": "markdown",
   "metadata": {
    "slideshow": {
     "slide_type": "slide"
    }
   },
   "source": [
    "Suponga que una población, cuyo tamaño en el instante $t$ se denomina $N(t)$, crece de acuerdo con\n",
    "\n",
    "$$ \\frac{dN}{dt} = \\frac{1}{100}N^{2}, \\quad \\quad N(0) = 10 $$\n",
    "\n",
    "a. Resuelva la ecuación diferencial  \n",
    "b. Dibuje $N(t)$ en función de $t$ para $0 \\leq t < 10$.  \n",
    "¿Qué sucede cuando $t \\to 10$?  \n",
    "Explique con palabras lo que esto significa. "
   ]
  },
  {
   "cell_type": "markdown",
   "metadata": {
    "slideshow": {
     "slide_type": "slide"
    }
   },
   "source": [
    "### Solución: "
   ]
  },
  {
   "cell_type": "code",
   "execution_count": 1,
   "metadata": {
    "slideshow": {
     "slide_type": "slide"
    }
   },
   "outputs": [],
   "source": [
    "from sympy import * \n",
    "from sympy import Eq, Derivative\n",
    "\n",
    "t, N = symbols('t N')\n",
    "N = Function('N')"
   ]
  },
  {
   "cell_type": "markdown",
   "metadata": {
    "slideshow": {
     "slide_type": "slide"
    }
   },
   "source": [
    "Ecuación diferencial dada igualada a cero:\n",
    "\n",
    "$$ N' - \\frac{1}{100}N^{2} = 0 $$\n"
   ]
  },
  {
   "cell_type": "code",
   "execution_count": 3,
   "metadata": {
    "slideshow": {
     "slide_type": "slide"
    }
   },
   "outputs": [],
   "source": [
    "eq = Derivative(N(t),t) - (1/100)*N(t)**2  "
   ]
  },
  {
   "cell_type": "code",
   "execution_count": 4,
   "metadata": {
    "slideshow": {
     "slide_type": "slide"
    }
   },
   "outputs": [
    {
     "data": {
      "text/latex": [
       "$\\displaystyle N{\\left(t \\right)} = - \\frac{1}{C_{1} + 0.01 t}$"
      ],
      "text/plain": [
       "Eq(N(t), -1/(C1 + 0.01*t))"
      ]
     },
     "execution_count": 4,
     "metadata": {},
     "output_type": "execute_result"
    }
   ],
   "source": [
    "dsolve(eq,N(t)) "
   ]
  },
  {
   "cell_type": "code",
   "execution_count": 5,
   "metadata": {
    "slideshow": {
     "slide_type": "slide"
    }
   },
   "outputs": [
    {
     "data": {
      "text/latex": [
       "$\\displaystyle N{\\left(t \\right)} = - \\frac{1}{0.01 t - \\frac{1}{10}}$"
      ],
      "text/plain": [
       "Eq(N(t), -1/(0.01*t - 1/10))"
      ]
     },
     "execution_count": 5,
     "metadata": {},
     "output_type": "execute_result"
    }
   ],
   "source": [
    "dsolve(eq, N(t), ics = {N(0):10}, hint = 'separable')   "
   ]
  },
  {
   "cell_type": "markdown",
   "metadata": {
    "slideshow": {
     "slide_type": "slide"
    }
   },
   "source": [
    "[ODE](https://www.cfm.brown.edu/people/dobrush/am33/SymPy/part2.html)"
   ]
  },
  {
   "cell_type": "code",
   "execution_count": 5,
   "metadata": {},
   "outputs": [
    {
     "data": {
      "text/plain": [
       "('separable',\n",
       " '1st_exact',\n",
       " 'Bernoulli',\n",
       " 'separable_reduced',\n",
       " '1st_power_series',\n",
       " 'lie_group',\n",
       " 'separable_Integral',\n",
       " '1st_exact_Integral',\n",
       " 'Bernoulli_Integral',\n",
       " 'separable_reduced_Integral')"
      ]
     },
     "execution_count": 5,
     "metadata": {},
     "output_type": "execute_result"
    }
   ],
   "source": [
    "classify_ode(Derivative(N(t),t) - (1/100)*N(t)**2) "
   ]
  },
  {
   "cell_type": "markdown",
   "metadata": {
    "slideshow": {
     "slide_type": "slide"
    }
   },
   "source": [
    "## Solución analítica"
   ]
  },
  {
   "cell_type": "markdown",
   "metadata": {
    "slideshow": {
     "slide_type": "slide"
    }
   },
   "source": [
    "$$ \\frac{dN}{dt} = \\frac{1}{100}N^{2}, \\quad \\quad N(0) = 10 $$"
   ]
  },
  {
   "cell_type": "markdown",
   "metadata": {
    "slideshow": {
     "slide_type": "slide"
    }
   },
   "source": [
    "Emperemos resolviendo la ecuación diferencial separando variables:\n",
    "\n",
    "$$ \\frac{1}{N^{2}}dN = \\frac{1}{100}dt $$\n"
   ]
  },
  {
   "cell_type": "markdown",
   "metadata": {
    "slideshow": {
     "slide_type": "slide"
    }
   },
   "source": [
    "Multipliquemos por -1 a ambos lados\n",
    "\n",
    "$$ -\\frac{1}{N^{2}}dN = -\\frac{1}{100}dt $$\n"
   ]
  },
  {
   "cell_type": "markdown",
   "metadata": {
    "slideshow": {
     "slide_type": "slide"
    }
   },
   "source": [
    "$$ \\int \\left( -\\frac{1}{N^{2}} \\right) dN = \\int \\left(-\\frac{1}{100} \\right) dt $$"
   ]
  },
  {
   "cell_type": "markdown",
   "metadata": {
    "slideshow": {
     "slide_type": "slide"
    }
   },
   "source": [
    "$$ \\frac{1}{N} = -\\frac{1}{100}t + c_{1} $$ "
   ]
  },
  {
   "cell_type": "markdown",
   "metadata": {
    "slideshow": {
     "slide_type": "slide"
    }
   },
   "source": [
    "$$ \\frac{1}{N} = \\frac{-t + 100c_{2}}{100} $$"
   ]
  },
  {
   "cell_type": "markdown",
   "metadata": {
    "slideshow": {
     "slide_type": "slide"
    }
   },
   "source": [
    "$$ N = \\frac{100}{100c_{1} - t} $$"
   ]
  },
  {
   "cell_type": "markdown",
   "metadata": {
    "slideshow": {
     "slide_type": "slide"
    }
   },
   "source": [
    "$$ N = \\frac{1}{c_{1} - 0.01t} $$"
   ]
  },
  {
   "cell_type": "markdown",
   "metadata": {
    "slideshow": {
     "slide_type": "slide"
    }
   },
   "source": [
    "$$ N = -\\frac{1}{0.01t - c_{1}} $$"
   ]
  },
  {
   "cell_type": "markdown",
   "metadata": {
    "slideshow": {
     "slide_type": "slide"
    }
   },
   "source": [
    "$$ N = - \\frac{1}{c_{2} + 0.01t} $$\n",
    "donde $c_{2} = -c_{1}$ "
   ]
  },
  {
   "cell_type": "markdown",
   "metadata": {
    "slideshow": {
     "slide_type": "slide"
    }
   },
   "source": [
    "## Trazo de algunas curvas integrales con Matplotlib"
   ]
  },
  {
   "cell_type": "code",
   "execution_count": 28,
   "metadata": {
    "scrolled": true,
    "slideshow": {
     "slide_type": "slide"
    }
   },
   "outputs": [
    {
     "name": "stderr",
     "output_type": "stream",
     "text": [
      "C:\\Users\\Usuario\\Anaconda3\\lib\\site-packages\\ipykernel_launcher.py:12: RuntimeWarning: divide by zero encountered in true_divide\n",
      "  if sys.path[0] == '':\n"
     ]
    },
    {
     "data": {
      "image/png": "[encoded data removed]",
      "text/plain": [
       "<Figure size 1440x576 with 4 Axes>"
      ]
     },
     "metadata": {},
     "output_type": "display_data"
    }
   ],
   "source": [
    "import numpy as np \n",
    "import matplotlib.pyplot as plt  \n",
    "\n",
    "C = np.arange(-2/10,2/10,1/10)   \n",
    "t = np.linspace(0,10, endpoint = False)  \n",
    "\n",
    "\n",
    "fig, axes = plt.subplots(1,4, figsize = (20, 8))   \n",
    "plt.style.use('dark_background') \n",
    "\n",
    "for c, ax in zip(C, axes):\n",
    "    N = -1/(0.01*t + c) \n",
    "    ax.plot(t,N, c = 'orange') \n",
    "   \n",
    "plt.savefig('solucion_general.jpg')     \n"
   ]
  },
  {
   "cell_type": "code",
   "execution_count": null,
   "metadata": {
    "slideshow": {
     "slide_type": "slide"
    }
   },
   "outputs": [],
   "source": [
    "len(C) "
   ]
  },
  {
   "cell_type": "code",
   "execution_count": null,
   "metadata": {
    "slideshow": {
     "slide_type": "slide"
    }
   },
   "outputs": [],
   "source": [
    "for i in range(6):\n",
    "    print(i)  "
   ]
  },
  {
   "cell_type": "markdown",
   "metadata": {
    "slideshow": {
     "slide_type": "slide"
    }
   },
   "source": [
    "Determinemos $c_{2}$ sustituyendo la condición inicial $N(0) = 10$. "
   ]
  },
  {
   "cell_type": "markdown",
   "metadata": {
    "slideshow": {
     "slide_type": "slide"
    }
   },
   "source": [
    "$$ N(t) = - \\frac{1}{0.01t + c_{2}} $$"
   ]
  },
  {
   "cell_type": "markdown",
   "metadata": {
    "slideshow": {
     "slide_type": "slide"
    }
   },
   "source": [
    "$$ 10 = -\\frac{1}{c_{2} + 0.01(0)} $$"
   ]
  },
  {
   "cell_type": "markdown",
   "metadata": {
    "slideshow": {
     "slide_type": "slide"
    }
   },
   "source": [
    "$$ \\Rightarrow \\quad c_{2} = -\\frac{1}{10} $$ "
   ]
  },
  {
   "cell_type": "markdown",
   "metadata": {
    "slideshow": {
     "slide_type": "slide"
    }
   },
   "source": [
    "Por tanto, la solución del PVI es:\n",
    "\n",
    "$$ N = - \\frac{1}{0.01t - 0.1} $$\n"
   ]
  },
  {
   "cell_type": "markdown",
   "metadata": {
    "slideshow": {
     "slide_type": "slide"
    }
   },
   "source": [
    "## Trazado del campo de direcciones "
   ]
  },
  {
   "cell_type": "markdown",
   "metadata": {
    "slideshow": {
     "slide_type": "slide"
    }
   },
   "source": [
    "$$ N' = \\frac{1}{100}N^{2} $$"
   ]
  },
  {
   "cell_type": "markdown",
   "metadata": {
    "slideshow": {
     "slide_type": "slide"
    }
   },
   "source": [
    "$$ y' = f(x,y)  $$"
   ]
  },
  {
   "cell_type": "code",
   "execution_count": 17,
   "metadata": {
    "scrolled": true,
    "slideshow": {
     "slide_type": "slide"
    }
   },
   "outputs": [
    {
     "name": "stderr",
     "output_type": "stream",
     "text": [
      "C:\\Users\\Usuario\\Anaconda3\\lib\\site-packages\\ipykernel_launcher.py:25: RuntimeWarning: divide by zero encountered in true_divide\n"
     ]
    },
    {
     "data": {
      "image/png": "[encoded data removed]",
      "text/plain": [
       "<Figure size 432x432 with 1 Axes>"
      ]
     },
     "metadata": {},
     "output_type": "display_data"
    }
   ],
   "source": [
    "import numpy as np\n",
    "import matplotlib.pyplot as plt \n",
    "plt.figure(figsize = (6,6)) \n",
    "at, bt = 0, 10 # dominio de graficación del campo de direcciones \n",
    "aN, bN = 5, 150 # rango del campo de direcciones \n",
    "\n",
    "lt = 0.2  # longitud horizontal del segmento tangente\n",
    "\n",
    "T = np.linspace(at,bt,10) # lista de abscisas de la malla de direcciones\n",
    "\n",
    "N = np.linspace(aN,bN,10) # ordenadas de los puntos de la regilla \n",
    "\n",
    "def pendiente(t,n):           # función que calcula la derivada y' en el punto (x,y)\n",
    "    return (1/100)*n**2 \n",
    "\n",
    "for t in T:\n",
    "    for n in N:\n",
    "        m = pendiente(t,n)\n",
    "        dom_seg_tan = np.linspace(t - lt/2, t + lt/2, 2)\n",
    "        seg = m*(dom_seg_tan - t) + n  # y - y0 = m(x-x0) Ecuación punto pendiente \n",
    "        plt.plot(dom_seg_tan, seg) \n",
    "        \n",
    "# Graficación de la función solución en el campo de direcciones\n",
    "T_sol = np.linspace(at,bt,100)\n",
    "plt.plot(T_sol,100/(10 - T_sol), c = 'red', linewidth = 2)    \n",
    "plt.ylim(aN,bN) \n",
    "\n",
    "plt.savefig('campo_pendientes.jpg') "
   ]
  },
  {
   "cell_type": "markdown",
   "metadata": {
    "slideshow": {
     "slide_type": "slide"
    }
   },
   "source": [
    "## Trazado del gráfico de la función solución del PVI como secuencia de transformación de funciones"
   ]
  },
  {
   "cell_type": "markdown",
   "metadata": {
    "slideshow": {
     "slide_type": "slide"
    }
   },
   "source": [
    "$$ N(t) = -\\frac{1}{0.01t - 0.1} \\quad \\iff \\quad N(t) = - \\frac{100}{t - 10}  $$"
   ]
  },
  {
   "cell_type": "code",
   "execution_count": 24,
   "metadata": {
    "slideshow": {
     "slide_type": "slide"
    }
   },
   "outputs": [
    {
     "name": "stderr",
     "output_type": "stream",
     "text": [
      "C:\\Users\\Usuario\\Anaconda3\\lib\\site-packages\\ipykernel_launcher.py:9: RuntimeWarning: divide by zero encountered in true_divide\n",
      "  if __name__ == '__main__':\n"
     ]
    },
    {
     "data": {
      "image/png": "[encoded data removed]",
      "text/plain": [
       "<Figure size 864x864 with 4 Axes>"
      ]
     },
     "metadata": {},
     "output_type": "display_data"
    }
   ],
   "source": [
    "import numpy as np \n",
    "import matplotlib.pyplot as plt \n",
    "plt.style.use('dark_background') \n",
    "fig, axes = plt.subplots(2,2, figsize = (12,12)) \n",
    "\n",
    "fig.suptitle(r'Trazo gráfico de solución $N(t)$') # Título para la figura\n",
    "\n",
    "t = np.linspace(0,10)\n",
    "y1 = 1/t             # función semilla \n",
    "\n",
    "axes[0,0].plot(t,y1, c = 'yellow')  \n",
    "axes[0,0].grid(True)\n",
    "axes[0,0].set_xlim(-10,10) \n",
    "axes[0,0].set_title(r'$\\frac{1}{t}$', size = 10) \n",
    "\n",
    "axes[0,1].plot(-t,y1, c = 'yellow')  \n",
    "axes[0,1].grid(True)\n",
    "axes[0,1].set_xlim(-10,10) \n",
    "axes[0,1].set_title(r'$\\frac{1}{-t}$', size = 10) \n",
    "\n",
    "axes[1,0].plot(-t,100*y1, c = 'yellow') \n",
    "axes[1,0].grid(True)\n",
    "axes[1,0].set_xlim(-10,10) \n",
    "axes[1,0].set_title(r'$\\frac{100}{-t}$', size = 10) \n",
    "\n",
    "axes[1,1].plot(-(t-10),100*y1, c = 'yellow') \n",
    "axes[1,1].grid(True)\n",
    "axes[1,1].set_xlim(-10,10) \n",
    "axes[1,1].set_title(r'$\\frac{100}{-(t-10)}$', size = 10) \n",
    "\n",
    "plt.savefig('secuencia.jpg') \n",
    "plt.show() "
   ]
  },
  {
   "cell_type": "code",
   "execution_count": null,
   "metadata": {
    "slideshow": {
     "slide_type": "slide"
    }
   },
   "outputs": [],
   "source": []
  },
  {
   "cell_type": "markdown",
   "metadata": {
    "slideshow": {
     "slide_type": "slide"
    }
   },
   "source": [
    "## Comportamiento de la solución en vecindades de $t = 10$"
   ]
  },
  {
   "cell_type": "code",
   "execution_count": 27,
   "metadata": {
    "slideshow": {
     "slide_type": "slide"
    }
   },
   "outputs": [
    {
     "data": {
      "text/latex": [
       "$\\displaystyle \\infty$"
      ],
      "text/plain": [
       "oo"
      ]
     },
     "execution_count": 27,
     "metadata": {},
     "output_type": "execute_result"
    }
   ],
   "source": [
    "from sympy import * \n",
    "t = Symbol('t') \n",
    "limit(-1/(0.01*t - 0.1), t, 10, '-')  "
   ]
  },
  {
   "cell_type": "markdown",
   "metadata": {
    "slideshow": {
     "slide_type": "slide"
    }
   },
   "source": [
    "### Determinación analítica del comportamiento de la solución en vecindades de $t = 10$"
   ]
  },
  {
   "cell_type": "markdown",
   "metadata": {
    "slideshow": {
     "slide_type": "slide"
    }
   },
   "source": [
    "\\begin{align*}\n",
    "\\lim_{t \\to 10^{-}} N(t) & = \\lim_{t \\to 10^{-}} -\\frac{1}{0.01t - 0.1} \\\\\n",
    "& = \\lim_{t \\to 10^{-}} \\frac{100}{10 - t} \\\\\n",
    "& = +\\infty\n",
    "\\end{align*}"
   ]
  },
  {
   "cell_type": "markdown",
   "metadata": {
    "slideshow": {
     "slide_type": "slide"
    }
   },
   "source": [
    "Por lo tanto, a medita que $t$ se aproxima a $10$ por izquierda, la población tiende a ser de valores muy grandes no acotados superiormente. "
   ]
  },
  {
   "cell_type": "code",
   "execution_count": null,
   "metadata": {},
   "outputs": [],
   "source": []
  },
  {
   "cell_type": "code",
   "execution_count": null,
   "metadata": {},
   "outputs": [],
   "source": []
  },
  {
   "cell_type": "markdown",
   "metadata": {
    "slideshow": {
     "slide_type": "slide"
    }
   },
   "source": [
    "## Punto 2 "
   ]
  },
  {
   "cell_type": "markdown",
   "metadata": {
    "slideshow": {
     "slide_type": "slide"
    }
   },
   "source": [
    "Resolver por el método de variables separables:\n",
    "\n",
    "$$ x^{2}y' = y - xy, \\quad \\quad y(-1) = -1 $$\n",
    "\n",
    "**Respuesta:**\n",
    "\n",
    "$$\\ln |y| = - \\frac{1}{x} - \\ln|x| - 1 $$\n"
   ]
  },
  {
   "cell_type": "markdown",
   "metadata": {
    "slideshow": {
     "slide_type": "slide"
    }
   },
   "source": [
    "### Solución analítica: "
   ]
  },
  {
   "cell_type": "markdown",
   "metadata": {
    "slideshow": {
     "slide_type": "slide"
    }
   },
   "source": [
    "Empecemos resolviendo la ecuación diferencial:\n",
    "\n",
    "$$ x^{2}y' = y - xy $$\n"
   ]
  },
  {
   "cell_type": "markdown",
   "metadata": {
    "slideshow": {
     "slide_type": "slide"
    }
   },
   "source": [
    "$$x^{2} \\cdot \\frac{dy}{dx} = y(1- x) $$"
   ]
  },
  {
   "cell_type": "markdown",
   "metadata": {
    "slideshow": {
     "slide_type": "slide"
    }
   },
   "source": [
    "$$ \\frac{1}{y}dy = \\frac{1-x}{x^{2}}dx $$"
   ]
  },
  {
   "cell_type": "markdown",
   "metadata": {
    "slideshow": {
     "slide_type": "slide"
    }
   },
   "source": [
    "$$ \\frac{1}{y}dy = \\left( \\frac{1}{x^{2}} - \\frac{1}{x} \\right)dx $$"
   ]
  },
  {
   "cell_type": "markdown",
   "metadata": {
    "slideshow": {
     "slide_type": "slide"
    }
   },
   "source": [
    "$$ \\int \\frac{1}{y}dy = \\int \\left( \\frac{1}{x^{2}} - \\frac{1}{x} \\right)dx $$"
   ]
  },
  {
   "cell_type": "markdown",
   "metadata": {
    "slideshow": {
     "slide_type": "slide"
    }
   },
   "source": [
    "Luego, la solución general de la ED dada es:\n",
    "\n",
    "$$ \\ln|y| = -\\frac{1}{x} - \\ln|x| + c  $$"
   ]
  },
  {
   "cell_type": "markdown",
   "metadata": {
    "slideshow": {
     "slide_type": "slide"
    }
   },
   "source": [
    "Determinemos la solución del PVI sustituyendo la condición inicial $y(-1) = -1$ "
   ]
  },
  {
   "cell_type": "markdown",
   "metadata": {
    "slideshow": {
     "slide_type": "slide"
    }
   },
   "source": [
    "$$ \\ln|-1| = -\\frac{1}{-1} - \\ln|-1| + c  $$"
   ]
  },
  {
   "cell_type": "markdown",
   "metadata": {
    "slideshow": {
     "slide_type": "slide"
    }
   },
   "source": [
    "$$ 0 = 1 - 0 + c $$"
   ]
  },
  {
   "cell_type": "markdown",
   "metadata": {
    "slideshow": {
     "slide_type": "slide"
    }
   },
   "source": [
    "De donde $c = -1$ y así, la solución del PVI es:\n",
    "\n",
    "$$ \\ln|y| = -\\frac{1}{x} - \\ln|x| - 1  $$\n"
   ]
  },
  {
   "cell_type": "code",
   "execution_count": null,
   "metadata": {
    "slideshow": {
     "slide_type": "slide"
    }
   },
   "outputs": [],
   "source": []
  },
  {
   "cell_type": "code",
   "execution_count": null,
   "metadata": {},
   "outputs": [],
   "source": []
  }
 ],
 "metadata": {
  "celltoolbar": "Slideshow",
  "hide_input": false,
  "kernelspec": {
   "display_name": "Python 3",
   "language": "python",
   "name": "python3"
  },
  "language_info": {
   "codemirror_mode": {
    "name": "ipython",
    "version": 3
   },
   "file_extension": ".py",
   "mimetype": "text/x-python",
   "name": "python",
   "nbconvert_exporter": "python",
   "pygments_lexer": "ipython3",
   "version": "3.8.8"
  },
  "latex_envs": {
   "LaTeX_envs_menu_present": true,
   "autoclose": false,
   "autocomplete": false,
   "bibliofile": "biblio.bib",
   "cite_by": "apalike",
   "current_citInitial": 1,
   "eqLabelWithNumbers": true,
   "eqNumInitial": 1,
   "hotkeys": {
    "equation": "Ctrl-E",
    "itemize": "Ctrl-I"
   },
   "labels_anchors": false,
   "latex_user_defs": false,
   "report_style_numbering": false,
   "user_envs_cfg": false
  },
  "nbTranslate": {
   "displayLangs": [
    "*"
   ],
   "hotkey": "alt-t",
   "langInMainMenu": true,
   "sourceLang": "en",
   "targetLang": "es",
   "useGoogleTranslate": true
  },
  "rise": {
   "enable_chalkboard": true,
   "theme": "sky",
   "transition": "zoom"
  }
 },
 "nbformat": 4,
 "nbformat_minor": 2
}
