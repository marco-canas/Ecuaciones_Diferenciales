{
 "cells": [
  {
   "cell_type": "markdown",
   "metadata": {
    "slideshow": {
     "slide_type": "slide"
    }
   },
   "source": [
    "<table align=\"left\">\n",
    "  <td>\n",
    "    <a href=\"https://colab.research.google.com/github/marco-canas/edo/blob/main/banco_ejemplos/ejer_sec_3.1/determinacion_alpha_para_y_tienda_a_cero.ipynb\" target=\"_parent\"><img src=\"https://colab.research.google.com/assets/colab-badge.svg\" alt=\"Open In Colab\"/></a>\n",
    "  </td>\n",
    "  <td>\n",
    "    <a target=\"_blank\" href=\"https://kaggle.com/kernels/welcome?src=https://github.com/marco-canas/edo/blob/main/banco_ejemplos/ejer_sec_3.1/determinacion_alpha_para_y_tienda_a_cero.ipynb\"><img src=\"https://kaggle.com/static/images/open-in-kaggle.svg\" /></a>\n",
    "  </td>\n",
    "</table>"
   ]
  },
  {
   "cell_type": "markdown",
   "metadata": {
    "slideshow": {
     "slide_type": "slide"
    }
   },
   "source": [
    "# Parcial 2 EDO "
   ]
  },
  {
   "cell_type": "markdown",
   "metadata": {
    "slideshow": {
     "slide_type": "slide"
    }
   },
   "source": [
    "## Punto 1 "
   ]
  },
  {
   "cell_type": "markdown",
   "metadata": {
    "slideshow": {
     "slide_type": "slide"
    }
   },
   "source": [
    "(10 puntos) Encuentre $\\alpha$ de modo que la solución del problema con valor inicial \n",
    "\n",
    "$$ y'' - y' - 2y = 0, \\ \\ \\ \\  y(0) = \\alpha, \\ \\ \\  y'(0) = 2 $$\n",
    "\n",
    "tienda a cero cuando $t$ tiende a infinito.   \n",
    "\n",
    "(10 puntos) Verifique que su solución encontrada satisface el PVI. \n",
    "\n",
    "(5 puntos) Verificar en la plataforma Colaboratory y compartir al profesor el archivo ipynb de su verificación. "
   ]
  },
  {
   "cell_type": "markdown",
   "metadata": {
    "slideshow": {
     "slide_type": "slide"
    }
   },
   "source": [
    "## [Video de apoyo]()"
   ]
  },
  {
   "cell_type": "markdown",
   "metadata": {
    "slideshow": {
     "slide_type": "slide"
    }
   },
   "source": [
    "## Solución con sympy, numpy y matplotlib"
   ]
  },
  {
   "cell_type": "markdown",
   "metadata": {
    "slideshow": {
     "slide_type": "slide"
    }
   },
   "source": [
    "Sigue paso a paso las indicaciones que se te preseten para adquirir los conceptos de PVI definido por una ecuación lineal de segundo orden y de su solución:  "
   ]
  },
  {
   "cell_type": "markdown",
   "metadata": {
    "slideshow": {
     "slide_type": "slide"
    }
   },
   "source": [
    "### Paso 1: \n",
    "Importe las librerías numpy, sympy y matplotlib"
   ]
  },
  {
   "cell_type": "code",
   "execution_count": 1,
   "metadata": {
    "slideshow": {
     "slide_type": "slide"
    }
   },
   "outputs": [],
   "source": [
    "import numpy as np \n",
    "\n",
    "from sympy import *\n",
    "\n",
    "from matplotlib import pyplot as plt "
   ]
  },
  {
   "cell_type": "code",
   "execution_count": 2,
   "metadata": {
    "slideshow": {
     "slide_type": "slide"
    }
   },
   "outputs": [],
   "source": [
    "t = symbols(\"t\", real = True)\n",
    "alpha = symbols('alpha', real=True) \n",
    "y = symbols('y', real = True) # (0,alpha) pertenece al gráfico de la función solución\n",
    "y = Function('y')(t)"
   ]
  },
  {
   "cell_type": "code",
   "execution_count": 3,
   "metadata": {
    "slideshow": {
     "slide_type": "slide"
    }
   },
   "outputs": [
    {
     "data": {
      "text/latex": [
       "$\\displaystyle - 2 y{\\left(t \\right)} - \\frac{d}{d t} y{\\left(t \\right)} + \\frac{d^{2}}{d t^{2}} y{\\left(t \\right)} = 0$"
      ],
      "text/plain": [
       "Eq(-2*y(t) - Derivative(y(t), t) + Derivative(y(t), (t, 2)), 0)"
      ]
     },
     "metadata": {},
     "output_type": "display_data"
    }
   ],
   "source": [
    "eq = Eq( diff(y, t, 2) - diff(y, t) - 2*y, 0 )    # y'' - y' - 2y = 0 \n",
    "display(eq) "
   ]
  },
  {
   "cell_type": "code",
   "execution_count": 4,
   "metadata": {
    "slideshow": {
     "slide_type": "slide"
    }
   },
   "outputs": [
    {
     "name": "stdout",
     "output_type": "stream",
     "text": [
      "Solución general de la EDO\n"
     ]
    },
    {
     "data": {
      "text/latex": [
       "$\\displaystyle y{\\left(t \\right)} = C_{1} e^{- t} + C_{2} e^{2 t}$"
      ],
      "text/plain": [
       "Eq(y(t), C1*exp(-t) + C2*exp(2*t))"
      ]
     },
     "execution_count": 4,
     "metadata": {},
     "output_type": "execute_result"
    }
   ],
   "source": [
    "print(\"Solución general de la EDO\")\n",
    "funcion_y_sol = dsolve(eq, y)   \n",
    "funcion_y_sol "
   ]
  },
  {
   "cell_type": "markdown",
   "metadata": {
    "slideshow": {
     "slide_type": "slide"
    }
   },
   "source": [
    "Nuestra solución debe ser $y = c_{1}e^{-t}$. Busquemos $c_{1}$ tal que esta función satisfaga las condiciones iniciales.\n"
   ]
  },
  {
   "cell_type": "code",
   "execution_count": 8,
   "metadata": {
    "slideshow": {
     "slide_type": "slide"
    }
   },
   "outputs": [
    {
     "data": {
      "text/latex": [
       "$\\displaystyle y{\\left(t \\right)} = c_{1} e^{- t}$"
      ],
      "text/plain": [
       "Eq(y(t), c1*exp(-t))"
      ]
     },
     "execution_count": 8,
     "metadata": {},
     "output_type": "execute_result"
    }
   ],
   "source": [
    "c1 = symbols('c1')\n",
    "fun_sol_2 = c1*exp(-t)\n",
    "fun_sol_2 = Eq(y, fun_sol_2) \n",
    "fun_sol_2 "
   ]
  },
  {
   "cell_type": "code",
   "execution_count": 10,
   "metadata": {
    "slideshow": {
     "slide_type": "slide"
    }
   },
   "outputs": [
    {
     "data": {
      "text/latex": [
       "$\\displaystyle c_{1} e^{- t}$"
      ],
      "text/plain": [
       "c1*exp(-t)"
      ]
     },
     "execution_count": 10,
     "metadata": {},
     "output_type": "execute_result"
    }
   ],
   "source": [
    "fun_sol_2_derecha = fun_sol_2.rhs \n",
    "fun_sol_2_derecha "
   ]
  },
  {
   "cell_type": "code",
   "execution_count": 11,
   "metadata": {
    "slideshow": {
     "slide_type": "slide"
    }
   },
   "outputs": [
    {
     "data": {
      "text/latex": [
       "$\\displaystyle c_{1} = \\alpha$"
      ],
      "text/plain": [
       "Eq(c1, alpha)"
      ]
     },
     "execution_count": 11,
     "metadata": {},
     "output_type": "execute_result"
    }
   ],
   "source": [
    "eq_2 = Eq(fun_sol_2_derecha.subs({t:0}), alpha) \n",
    "eq_2 "
   ]
  },
  {
   "cell_type": "code",
   "execution_count": 12,
   "metadata": {
    "slideshow": {
     "slide_type": "slide"
    }
   },
   "outputs": [
    {
     "data": {
      "text/latex": [
       "$\\displaystyle y{\\left(t \\right)} = \\alpha e^{- t}$"
      ],
      "text/plain": [
       "Eq(y(t), alpha*exp(-t))"
      ]
     },
     "execution_count": 12,
     "metadata": {},
     "output_type": "execute_result"
    }
   ],
   "source": [
    "fun_sol_3 = Eq(y,alpha*exp(-t)) \n",
    "fun_sol_3 "
   ]
  },
  {
   "cell_type": "code",
   "execution_count": 13,
   "metadata": {
    "slideshow": {
     "slide_type": "slide"
    }
   },
   "outputs": [
    {
     "data": {
      "text/latex": [
       "$\\displaystyle \\operatorname{y_{p}}{\\left(t \\right)} = - \\alpha e^{- t}$"
      ],
      "text/plain": [
       "Eq(y_p(t), -alpha*exp(-t))"
      ]
     },
     "execution_count": 13,
     "metadata": {},
     "output_type": "execute_result"
    }
   ],
   "source": [
    "y_p = Function('y_p')(t) \n",
    "y_p = Eq(y_p,diff(alpha*exp(-t),t))\n",
    "y_p "
   ]
  },
  {
   "cell_type": "code",
   "execution_count": 33,
   "metadata": {
    "slideshow": {
     "slide_type": "slide"
    }
   },
   "outputs": [
    {
     "data": {
      "text/latex": [
       "$\\displaystyle -2$"
      ],
      "text/plain": [
       "-2"
      ]
     },
     "execution_count": 33,
     "metadata": {},
     "output_type": "execute_result"
    }
   ],
   "source": [
    "alpha = solve(Eq(y_p.rhs.subs({t:0}),2),alpha)  \n",
    "alpha = list(alpha)[0] \n",
    "alpha "
   ]
  },
  {
   "cell_type": "markdown",
   "metadata": {
    "slideshow": {
     "slide_type": "slide"
    }
   },
   "source": [
    "Por lo tanto, la solución del problema planteado es:\n",
    "\n",
    "\n",
    "$$y(t) = -2e^{-t} $$\n"
   ]
  },
  {
   "cell_type": "markdown",
   "metadata": {
    "slideshow": {
     "slide_type": "slide"
    }
   },
   "source": [
    "## Verificación con Sympy"
   ]
  },
  {
   "cell_type": "code",
   "execution_count": 20,
   "metadata": {
    "slideshow": {
     "slide_type": "slide"
    }
   },
   "outputs": [
    {
     "data": {
      "text/latex": [
       "$\\displaystyle 0$"
      ],
      "text/plain": [
       "0"
      ]
     },
     "execution_count": 20,
     "metadata": {},
     "output_type": "execute_result"
    }
   ],
   "source": [
    "eq.lhs.subs({y:-2*exp(-t)}).evalf().simplify()   "
   ]
  },
  {
   "cell_type": "markdown",
   "metadata": {
    "slideshow": {
     "slide_type": "slide"
    }
   },
   "source": [
    "Primera conclusión, la función obtenida satisface la ED del ploblema. "
   ]
  },
  {
   "cell_type": "code",
   "execution_count": 24,
   "metadata": {},
   "outputs": [],
   "source": [
    "y_sol_final = -2*exp(-t)"
   ]
  },
  {
   "cell_type": "code",
   "execution_count": 34,
   "metadata": {},
   "outputs": [
    {
     "data": {
      "text/plain": [
       "True"
      ]
     },
     "execution_count": 34,
     "metadata": {},
     "output_type": "execute_result"
    }
   ],
   "source": [
    "y_sol_final.subs({t:0})==alpha "
   ]
  },
  {
   "cell_type": "markdown",
   "metadata": {},
   "source": [
    "Entonces, la función obtenida satisface la primera de las condiciones iniciales."
   ]
  },
  {
   "cell_type": "code",
   "execution_count": 35,
   "metadata": {
    "slideshow": {
     "slide_type": "slide"
    }
   },
   "outputs": [
    {
     "data": {
      "text/plain": [
       "True"
      ]
     },
     "execution_count": 35,
     "metadata": {},
     "output_type": "execute_result"
    }
   ],
   "source": [
    "diff(y_sol_final).subs({t:0})==2"
   ]
  },
  {
   "cell_type": "markdown",
   "metadata": {
    "slideshow": {
     "slide_type": "slide"
    }
   },
   "source": [
    "Luego, la función solución obtenida también satisface la segunda consicion inicial. "
   ]
  },
  {
   "cell_type": "code",
   "execution_count": 36,
   "metadata": {
    "slideshow": {
     "slide_type": "slide"
    }
   },
   "outputs": [
    {
     "data": {
      "text/latex": [
       "$\\displaystyle 0$"
      ],
      "text/plain": [
       "0"
      ]
     },
     "execution_count": 36,
     "metadata": {},
     "output_type": "execute_result"
    }
   ],
   "source": [
    "limit(y_sol_final, t, oo)"
   ]
  },
  {
   "cell_type": "markdown",
   "metadata": {
    "slideshow": {
     "slide_type": "slide"
    }
   },
   "source": [
    "Por lo tanto, la solución obtenida también satisface la condición de anulación en el infinito. "
   ]
  },
  {
   "cell_type": "markdown",
   "metadata": {
    "slideshow": {
     "slide_type": "slide"
    }
   },
   "source": [
    "## Otro camino de solución"
   ]
  },
  {
   "cell_type": "code",
   "execution_count": 38,
   "metadata": {
    "slideshow": {
     "slide_type": "slide"
    }
   },
   "outputs": [
    {
     "data": {
      "text/latex": [
       "$\\displaystyle C_{1} e^{- t} + C_{2} e^{2 t}$"
      ],
      "text/plain": [
       "C1*exp(-t) + C2*exp(2*t)"
      ]
     },
     "execution_count": 38,
     "metadata": {},
     "output_type": "execute_result"
    }
   ],
   "source": [
    "y_sol_gen_derecha = funcion_y_sol.rhs     # take only right hand side\n",
    "y_sol_gen_derecha "
   ]
  },
  {
   "cell_type": "code",
   "execution_count": 40,
   "metadata": {
    "slideshow": {
     "slide_type": "slide"
    }
   },
   "outputs": [
    {
     "data": {
      "text/latex": [
       "$\\displaystyle y{\\left(t \\right)} = C_{1} e^{- t} + C_{2} e^{2 t}$"
      ],
      "text/plain": [
       "Eq(y(t), C1*exp(-t) + C2*exp(2*t))"
      ]
     },
     "metadata": {},
     "output_type": "display_data"
    }
   ],
   "source": [
    "display(Eq(y, y_sol_gen_derecha))"
   ]
  },
  {
   "cell_type": "markdown",
   "metadata": {},
   "source": [
    "### Obtener el sistema algebraico en las variables $c_{1}$ y $c_{2}$"
   ]
  },
  {
   "cell_type": "code",
   "execution_count": 41,
   "metadata": {
    "slideshow": {
     "slide_type": "slide"
    }
   },
   "outputs": [
    {
     "data": {
      "text/latex": [
       "$\\displaystyle C_{1} + C_{2} = -2$"
      ],
      "text/plain": [
       "Eq(C1 + C2, -2)"
      ]
     },
     "metadata": {},
     "output_type": "display_data"
    },
    {
     "data": {
      "text/latex": [
       "$\\displaystyle - C_{1} + 2 C_{2} = 2$"
      ],
      "text/plain": [
       "Eq(-C1 + 2*C2, 2)"
      ]
     },
     "metadata": {},
     "output_type": "display_data"
    }
   ],
   "source": [
    "# Initial conditions:\n",
    "condi_1 = Eq(y_sol_gen_derecha.subs(t, 0), alpha)  # y(0) = alpha\n",
    "condi_2 = Eq(y_sol_gen_derecha.diff(t).subs(t, 0), 2)  # y'(0) = 2\n",
    "display(condi_1)\n",
    "display(condi_2) "
   ]
  },
  {
   "cell_type": "code",
   "execution_count": 42,
   "metadata": {
    "slideshow": {
     "slide_type": "slide"
    }
   },
   "outputs": [
    {
     "data": {
      "text/plain": [
       "{C1: -2, C2: 0}"
      ]
     },
     "execution_count": 42,
     "metadata": {},
     "output_type": "execute_result"
    }
   ],
   "source": [
    "#  Solve for C1, C2:\n",
    "C1, C2 = symbols(\"C1, C2\")  # generic constants\n",
    "C1C2_sol = solve([condi_1, condi_2], (C1, C2))\n",
    "C1C2_sol "
   ]
  },
  {
   "cell_type": "code",
   "execution_count": 45,
   "metadata": {
    "slideshow": {
     "slide_type": "slide"
    }
   },
   "outputs": [
    {
     "name": "stdout",
     "output_type": "stream",
     "text": [
      "Solución del PVI\n"
     ]
    },
    {
     "data": {
      "text/latex": [
       "$\\displaystyle y{\\left(t \\right)} = - 2 e^{- t}$"
      ],
      "text/plain": [
       "Eq(y(t), -2*exp(-t))"
      ]
     },
     "metadata": {},
     "output_type": "display_data"
    }
   ],
   "source": [
    "# Substitute back into solution:\n",
    "y_sol_pvi = simplify(y_sol_gen_derecha.subs(C1C2_sol))\n",
    "print(\"Solución del PVI\")\n",
    "display(Eq(y, y_sol_pvi))   "
   ]
  },
  {
   "cell_type": "code",
   "execution_count": 46,
   "metadata": {
    "slideshow": {
     "slide_type": "slide"
    }
   },
   "outputs": [],
   "source": [
    "y_sol_pvi_lambda = lambdify(t, y_sol_pvi)  \n",
    "# Convertimos la función de sympy en una función lambda de Python"
   ]
  },
  {
   "cell_type": "markdown",
   "metadata": {
    "slideshow": {
     "slide_type": "slide"
    }
   },
   "source": [
    "## Verificación gráfica de la solución obtenida "
   ]
  },
  {
   "cell_type": "code",
   "execution_count": 48,
   "metadata": {
    "scrolled": true,
    "slideshow": {
     "slide_type": "slide"
    }
   },
   "outputs": [
    {
     "data": {
      "image/png": "[encoded data removed]",
      "text/plain": [
       "<Figure size 864x432 with 1 Axes>"
      ]
     },
     "metadata": {},
     "output_type": "display_data"
    }
   ],
   "source": [
    "import numpy as np \n",
    "import matplotlib.pyplot as plt \n",
    "\n",
    "plt.style.use('dark_background')\n",
    "\n",
    "t = np.linspace(-10,10,200)\n",
    "\n",
    "fig, ax = plt.subplots(figsize = (12,6))\n",
    "\n",
    "y_grafica = y_sol_pvi_lambda(t) \n",
    "\n",
    "ax.plot(t,y_grafica, color = 'yellow') \n",
    "\n",
    "ax.grid(True, alpha = 0.4)\n",
    "\n",
    "plt.savefig('solPVI_alpha.png') "
   ]
  },
  {
   "cell_type": "markdown",
   "metadata": {
    "slideshow": {
     "slide_type": "slide"
    }
   },
   "source": [
    "## Solución analítica"
   ]
  },
  {
   "cell_type": "markdown",
   "metadata": {
    "slideshow": {
     "slide_type": "slide"
    }
   },
   "source": [
    "### Metodología\n",
    "1. Resolver la ED \n",
    "2. Sustituir la condición inicial en la solución general para obtener un sistema algebraico lineal.  \n",
    "3. Resolver el sistema algebraico para obtener una solución en términos de $\\alpha$.\n",
    "4. Determina $\\alpha$ adecuado para que $\\lim_{t \\to \\infty} y(t) = 0$. "
   ]
  },
  {
   "cell_type": "markdown",
   "metadata": {
    "slideshow": {
     "slide_type": "slide"
    }
   },
   "source": []
  },
  {
   "cell_type": "markdown",
   "metadata": {
    "slideshow": {
     "slide_type": "slide"
    }
   },
   "source": []
  },
  {
   "cell_type": "code",
   "execution_count": null,
   "metadata": {
    "slideshow": {
     "slide_type": "slide"
    }
   },
   "outputs": [],
   "source": []
  },
  {
   "cell_type": "code",
   "execution_count": null,
   "metadata": {
    "slideshow": {
     "slide_type": "slide"
    }
   },
   "outputs": [],
   "source": []
  },
  {
   "cell_type": "markdown",
   "metadata": {
    "slideshow": {
     "slide_type": "slide"
    }
   },
   "source": [
    "## Punto 2"
   ]
  },
  {
   "cell_type": "markdown",
   "metadata": {
    "slideshow": {
     "slide_type": "slide"
    }
   },
   "source": [
    "**Ejercicio 38 de la sección 3.1, página 144**  \n",
    "\n",
    "**(10 puntos)** La solución de una ecuación de segundo orden de la forma $y'' = f(x,y,y')$ suele comprender dos constantes arbitrarias.  \n",
    "A la inversa, es posible demostrar que una familia dada de funciones que contiene dos constantes arbitrarias es la solución de alguna ecuación diferencial de segundo orden.  \n",
    "Para la siguiente familia de funciones, elimine las constantes $c_{1}$ y $c_{2}$ entre $y$, $y'$ y $y''$, para encontrar la ecuación diferencial que satisface la familia dada de funciones:"
   ]
  },
  {
   "cell_type": "markdown",
   "metadata": {
    "slideshow": {
     "slide_type": "slide"
    }
   },
   "source": [
    "$$ y = c_{1}\\cosh(x) + c_{2}\\sinh(x) $$"
   ]
  },
  {
   "cell_type": "markdown",
   "metadata": {
    "slideshow": {
     "slide_type": "slide"
    }
   },
   "source": [
    "**Sugerencia:**\n",
    "\n",
    "Utilice que \n",
    "\n",
    "$$\\frac{d}{dx}\\cosh(x) = \\sinh(x), \\quad \\text{y} \\quad \\frac{d}{dx}\\sinh(x) = \\cosh(x) $$"
   ]
  },
  {
   "cell_type": "markdown",
   "metadata": {
    "slideshow": {
     "slide_type": "slide"
    }
   },
   "source": [
    "(10 puntos) Verifique su respuesta. "
   ]
  },
  {
   "cell_type": "code",
   "execution_count": null,
   "metadata": {
    "slideshow": {
     "slide_type": "skip"
    }
   },
   "outputs": [],
   "source": []
  },
  {
   "cell_type": "markdown",
   "metadata": {
    "slideshow": {
     "slide_type": "slide"
    }
   },
   "source": [
    "## Punto 3 "
   ]
  },
  {
   "cell_type": "markdown",
   "metadata": {
    "slideshow": {
     "slide_type": "slide"
    }
   },
   "source": [
    "**Ecuaciones en las que falta la $y$**  \n",
    "Ejercicio 22. Página 143 "
   ]
  },
  {
   "cell_type": "markdown",
   "metadata": {
    "slideshow": {
     "slide_type": "slide"
    }
   },
   "source": [
    "En una ecuación de segundo orden de la forma \n",
    "\n",
    "$$ y'' = f(x,y'), $$\n",
    "\n",
    "\n",
    "la sustitución igual a $v = y'$, $v' = y''$ da una ecuación de primer orden de la forma \n",
    "\n",
    "$$ v' = f(x,v). $$\n",
    "\n",
    "Si es posible resolver esta ecuación para $v$, entonces puede obtenerse $y$ al integrar \n",
    "\n",
    "$$ \\frac{dy}{dx} = v. $$\n",
    "\n",
    "Observe que el resolver la ecuación de primer orden para $v$ se obtiene una constante arbitraria y que en la integración para $y$ se introduce una segunda constante arbitraria. \n",
    "\n"
   ]
  },
  {
   "cell_type": "markdown",
   "metadata": {
    "slideshow": {
     "slide_type": "slide"
    }
   },
   "source": [
    "1. (15 puntos) Aplique esta sustitución para resolver la ecuación \n",
    "\n",
    "$$ x^{2}y'' = (y')^{2}, \\quad \\quad x > 0.  $$\n",
    "2. (10 puntos) Verifique la solución obtenida"
   ]
  },
  {
   "cell_type": "code",
   "execution_count": null,
   "metadata": {
    "slideshow": {
     "slide_type": "skip"
    }
   },
   "outputs": [],
   "source": []
  },
  {
   "cell_type": "markdown",
   "metadata": {
    "slideshow": {
     "slide_type": "slide"
    }
   },
   "source": [
    "## Punto 4 \n",
    "Página 143 sección 3.1 del Boyce DiPrima"
   ]
  },
  {
   "cell_type": "markdown",
   "metadata": {
    "slideshow": {
     "slide_type": "slide"
    }
   },
   "source": [
    "**Ecuaciones en las que falta $x$** "
   ]
  },
  {
   "cell_type": "markdown",
   "metadata": {
    "slideshow": {
     "slide_type": "slide"
    }
   },
   "source": [
    "Si una ecuación diferencial de segundo orden tiene la forma \n",
    "\n",
    "$$ y'' = f(y,y'), $$\n",
    "\n",
    "la variable independiente $x$ no aparece explícitamente, solo a través de la variable dependiente $y$. \n"
   ]
  },
  {
   "cell_type": "markdown",
   "metadata": {
    "slideshow": {
     "slide_type": "slide"
    }
   },
   "source": [
    "Si se hace $v = y'$, entonces se obtiene  \n",
    "\n",
    "$$ \\frac{dv}{dx} = f(y,v). $$\n",
    "\n",
    "Como el segundo miembro de esta ecuación depende de $y$ y $v$, en lugar de $x$ y $v$, esta ecuación no es de la forma de las ecuaciones de primer orden analizadas en el capítulo 2.  \n",
    "Sin embargo, si se piensa en $y$ como la variable independiente, entonces por la regla de la cadena, \n",
    "\n",
    "$$ \\frac{dv}{dx} = \\frac{dv}{dy} \\cdot \\frac{dy}{dx} = v \\frac{dv}{dy}. $$\n",
    "\n",
    "De donde la ecuación diferencial original puede escribirse como \n",
    "\n",
    "$$ v\\frac{dv}{dy} = f(y,v) $$\n",
    "\n",
    "En el supuesto de que sea posible resolver esta ecuación de primer orden, se obtiene $v$ como una función de $y$. \n",
    "\n",
    "Al resolver \n",
    "\n",
    "$$ \\frac{dy}{dx} = v(y), $$\n",
    "\n",
    "resulta una relación entre $y$ y $x$. \n",
    "\n",
    "Una vez más, en el resultado final aparecen dos constantes arbitrarias. \n",
    "\n",
    "Aplique este método para resolver la ecuación diferencial siguiente: (ejercicio 28 de la página 143)\n",
    "\n",
    "$$ y'' + (y')^{2} = 2e^{-y} $$\n",
    "\n"
   ]
  },
  {
   "cell_type": "markdown",
   "metadata": {
    "slideshow": {
     "slide_type": "slide"
    }
   },
   "source": [
    "## Solución:"
   ]
  },
  {
   "cell_type": "markdown",
   "metadata": {
    "slideshow": {
     "slide_type": "slide"
    }
   },
   "source": [
    "## Las funciones de sympy utilizadas en este cuaderno:\n",
    "\n",
    "* El atributo `.rhs` que toma de una ecuación de sympy el lado derecho (right).\n",
    "* El atributo `.lhs` que toma de una ecuación de sympy el lado izquierdo (left).\n",
    "* `lambdify()` que convierte las expresiones de sympy en funciones lambda de Python.\n"
   ]
  },
  {
   "cell_type": "markdown",
   "metadata": {
    "slideshow": {
     "slide_type": "slide"
    }
   },
   "source": [
    "## Referentes\n",
    "\n",
    "* Boyce and DiPrima\n",
    "* Zill, Dennis. \n"
   ]
  },
  {
   "cell_type": "code",
   "execution_count": null,
   "metadata": {
    "slideshow": {
     "slide_type": "slide"
    }
   },
   "outputs": [],
   "source": []
  }
 ],
 "metadata": {
  "celltoolbar": "Slideshow",
  "hide_input": false,
  "kernelspec": {
   "display_name": "Python 3",
   "language": "python",
   "name": "python3"
  },
  "language_info": {
   "codemirror_mode": {
    "name": "ipython",
    "version": 3
   },
   "file_extension": ".py",
   "mimetype": "text/x-python",
   "name": "python",
   "nbconvert_exporter": "python",
   "pygments_lexer": "ipython3",
   "version": "3.8.8"
  },
  "latex_envs": {
   "LaTeX_envs_menu_present": true,
   "autoclose": false,
   "autocomplete": false,
   "bibliofile": "biblio.bib",
   "cite_by": "apalike",
   "current_citInitial": 1,
   "eqLabelWithNumbers": true,
   "eqNumInitial": 1,
   "hotkeys": {
    "equation": "Ctrl-E",
    "itemize": "Ctrl-I"
   },
   "labels_anchors": false,
   "latex_user_defs": false,
   "report_style_numbering": false,
   "user_envs_cfg": false
  },
  "nbTranslate": {
   "displayLangs": [
    "*"
   ],
   "hotkey": "alt-t",
   "langInMainMenu": true,
   "sourceLang": "en",
   "targetLang": "es",
   "useGoogleTranslate": true
  },
  "rise": {
   "enable_chalkboard": true,
   "theme": "sky",
   "transition": "zoom"
  }
 },
 "nbformat": 4,
 "nbformat_minor": 2
}
