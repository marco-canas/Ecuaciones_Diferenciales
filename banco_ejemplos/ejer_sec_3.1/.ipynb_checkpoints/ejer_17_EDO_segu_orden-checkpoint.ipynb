{
 "cells": [
  {
   "cell_type": "markdown",
   "metadata": {},
   "source": [
    "<table align=\"left\">\n",
    "  <td>\n",
    "    <a href=\"https://colab.research.google.com/github/marco-canas/Ecuaciones_Diferenciales/blob/main/asesoria_EDO/ejer_sec_3.1/Ejer_22_sec_3.1_Boyce_DiPrima.ipynb\" target=\"_parent\"><img src=\"https://colab.research.google.com/assets/colab-badge.svg\" alt=\"Open In Colab\"/></a>\n",
    "  </td>\n",
    "  <td>\n",
    "    <a target=\"_blank\" href=\"https://kaggle.com/kernels/welcome?src=https://github.com/marco-canas/Ecuaciones_Diferenciales/blob/main/asesoria_EDO/ejer_sec_3.1/Ejer_22_sec_3.1_Boyce_DiPrima.ipynb\"><img src=\"https://kaggle.com/static/images/open-in-kaggle.svg\" /></a>\n",
    "  </td>\n",
    "</table>"
   ]
  },
  {
   "cell_type": "markdown",
   "metadata": {},
   "source": [
    "# Ejercicio 17 sobre ecuaciones diferenciales de segundo orden "
   ]
  },
  {
   "cell_type": "markdown",
   "metadata": {},
   "source": [
    "## Ecuaciones en las que falta la $y$"
   ]
  },
  {
   "cell_type": "markdown",
   "metadata": {},
   "source": [
    "$$ x^{2}y'' + 2xy' - 1 = 0, \\quad \\quad \\quad x > 0 $$"
   ]
  },
  {
   "cell_type": "markdown",
   "metadata": {},
   "source": [
    "### Sugerencia:   \n",
    "Para la las ecuaciones diferenciales de la forma $y'' = f(x,y')$, la sustitución $v = y'$, $v' = y''$ da una ecuación diferencial de primer orden $v' = f(x,v)$. "
   ]
  },
  {
   "cell_type": "markdown",
   "metadata": {},
   "source": [
    "## [Video de apoyo]() "
   ]
  },
  {
   "cell_type": "markdown",
   "metadata": {},
   "source": [
    "## Solución analítica"
   ]
  },
  {
   "cell_type": "markdown",
   "metadata": {},
   "source": [
    "Implementemos el cambio de variable $v = y'$, $v' = y''$ en la ecuación dada para obtener:\n",
    "\n",
    "$$ x^{2}y'' + 2xy' - 1 = 0 \\quad \\quad \\Rightarrow \\quad \\quad x^{2}v' + 2xv - 1 = 0 $$\n",
    "\n"
   ]
  },
  {
   "cell_type": "markdown",
   "metadata": {},
   "source": [
    "Así, hemos obtenido la ecuación de primer orden en la variable $v = v(x)$.  \n",
    "Ahora, estandaricemos esta ecuación dividiendo por $x^{2}$ para obtener:\n",
    "\n",
    "$$ \\frac{dv}{dx} + \\frac{2}{x}v = 1 $$\n",
    "\n",
    "que como vemos es una ecuación diferencial lineal con $p(x) = \\frac{2}{x}$. \n"
   ]
  },
  {
   "cell_type": "markdown",
   "metadata": {},
   "source": []
  },
  {
   "cell_type": "markdown",
   "metadata": {},
   "source": [
    "Entonces, \n",
    "\n",
    "$$ \\int p(x)dx = 2\\ln|x| = \\ln x^{2} $$\n"
   ]
  },
  {
   "cell_type": "markdown",
   "metadata": {},
   "source": [
    "$$ \\mu(x) = \\exp \\left( \\int p(x)dx \\right) = \\exp(\\ln x^{2}) = x^{2} $$"
   ]
  },
  {
   "cell_type": "markdown",
   "metadata": {},
   "source": [
    "Multipliquemos la ecuación lineal de primer orden $\\frac{dv}{dx} + \\frac{2}{x}v = 1$ por el facto integrante obtenido $\\mu(x) = x^{2}$ para obtener:\n",
    "\n",
    "$$ x^{2}\\frac{dv}{dx} + 2xv = x^{2} $$\n"
   ]
  },
  {
   "cell_type": "markdown",
   "metadata": {},
   "source": [
    "$$ \\frac{d}{dx}\\left( x^{2}v \\right) = x^{2} $$"
   ]
  },
  {
   "cell_type": "markdown",
   "metadata": {},
   "source": [
    "$$ x^{2}v = \\frac{x^{3}}{3} + c_{1} $$"
   ]
  },
  {
   "cell_type": "markdown",
   "metadata": {},
   "source": []
  },
  {
   "cell_type": "markdown",
   "metadata": {},
   "source": [
    "## Solución utilizando sympy "
   ]
  },
  {
   "cell_type": "code",
   "execution_count": 2,
   "metadata": {},
   "outputs": [
    {
     "data": {
      "text/latex": [
       "$\\displaystyle y{\\left(x \\right)} = C_{1} + \\frac{C_{2}}{x} + \\log{\\left(x \\right)}$"
      ],
      "text/plain": [
       "Eq(y(x), C1 + C2/x + log(x))"
      ]
     },
     "execution_count": 2,
     "metadata": {},
     "output_type": "execute_result"
    }
   ],
   "source": [
    "from sympy import * \n",
    "x,y = symbols('x y')\n",
    "y = Function('y')\n",
    "eqd = x**2*diff(y(x),x,2) + 2*x*diff(y(x),x) - 1 \n",
    "dsolve(eqd, y(x))"
   ]
  },
  {
   "cell_type": "code",
   "execution_count": 5,
   "metadata": {},
   "outputs": [
    {
     "data": {
      "image/png": "[encoded data removed]",
      "text/plain": [
       "<Figure size 432x288 with 1 Axes>"
      ]
     },
     "metadata": {},
     "output_type": "display_data"
    }
   ],
   "source": [
    "import numpy as np \n",
    "import matplotlib.pyplot as plt \n",
    "plt.style.use('dark_background') \n",
    "\n",
    "c1,c2 = 1,1\n",
    "\n",
    "x = np.linspace(0.1,3,100)\n",
    "\n",
    "y = c2 + (1/x)*c1 + np.log(x)\n",
    "\n",
    "plt.plot(x,y, color = 'yellow') \n",
    "plt.grid(alpha = 0.3)  \n",
    "plt.savefig('ejercicio_17')\n",
    "\n",
    "plt.show() \n"
   ]
  },
  {
   "cell_type": "markdown",
   "metadata": {},
   "source": [
    "## Verificación por sustitución directa"
   ]
  },
  {
   "cell_type": "markdown",
   "metadata": {},
   "source": [
    "$$ x^{2}y'' + 2xy' - 1 = 0 $$"
   ]
  },
  {
   "cell_type": "markdown",
   "metadata": {},
   "source": [
    "$$ x^{2}\\left( \\ln x + \\frac{1}{x}c_{1} + c_{2} \\right)'' + 2x \\left( \\ln x + \\frac{1}{x}c_{1} + c_{2}\\right)' - 1 = 0 $$\n"
   ]
  },
  {
   "cell_type": "markdown",
   "metadata": {},
   "source": [
    "$$ x^{2} \\left( \\frac{1}{x} - \\frac{1}{x^{2}}c_{1}  + 0  \\right)' + 2x\\left( \\frac{1}{x} - \\frac{1}{x^{2}}c_{1}  + 0 \\right) - 1 = 0 $$"
   ]
  },
  {
   "cell_type": "markdown",
   "metadata": {},
   "source": [
    "$$ x^{2} \\left( - \\frac{1}{x^{2}} + \\frac{2}{x^{3}}c_{1} \\right)  + 2x \\left( \\frac{1}{x} - \\frac{1}{x^{2}}c_{1} \\right) - 1 = 0 $$"
   ]
  },
  {
   "cell_type": "markdown",
   "metadata": {},
   "source": [
    "$$ -1 + \\frac{2}{x}c_{1} + 2 - \\frac{2}{x}c_{1} - 1 = 0  $$"
   ]
  },
  {
   "cell_type": "markdown",
   "metadata": {},
   "source": [
    "$$ 0 = 0 $$"
   ]
  }
 ],
 "metadata": {
  "hide_input": false,
  "interpreter": {
   "hash": "2e3c1e8da6e821b0193601da5a0e541c0efda9704da45b6b820f5f4c317f2def"
  },
  "kernelspec": {
   "display_name": "Python 3",
   "language": "python",
   "name": "python3"
  },
  "language_info": {
   "codemirror_mode": {
    "name": "ipython",
    "version": 3
   },
   "file_extension": ".py",
   "mimetype": "text/x-python",
   "name": "python",
   "nbconvert_exporter": "python",
   "pygments_lexer": "ipython3",
   "version": "3.8.8"
  },
  "latex_envs": {
   "LaTeX_envs_menu_present": true,
   "autoclose": false,
   "autocomplete": false,
   "bibliofile": "biblio.bib",
   "cite_by": "apalike",
   "current_citInitial": 1,
   "eqLabelWithNumbers": true,
   "eqNumInitial": 1,
   "hotkeys": {
    "equation": "Ctrl-E",
    "itemize": "Ctrl-I"
   },
   "labels_anchors": false,
   "latex_user_defs": false,
   "report_style_numbering": false,
   "user_envs_cfg": false
  },
  "nbTranslate": {
   "displayLangs": [
    "*"
   ],
   "hotkey": "alt-t",
   "langInMainMenu": true,
   "sourceLang": "en",
   "targetLang": "fr",
   "useGoogleTranslate": true
  }
 },
 "nbformat": 4,
 "nbformat_minor": 2
}
