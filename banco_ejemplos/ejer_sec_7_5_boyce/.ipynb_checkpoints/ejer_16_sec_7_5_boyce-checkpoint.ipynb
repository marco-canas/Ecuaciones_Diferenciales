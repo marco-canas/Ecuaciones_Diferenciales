{
 "cells": [
  {
   "cell_type": "markdown",
   "metadata": {},
   "source": [
    "# Ejercicio 16 de la sección 7.6 del Boyce DiPrima\n",
    "\n",
    "Página 396"
   ]
  },
  {
   "cell_type": "markdown",
   "metadata": {},
   "source": [
    "* Resuelva el problema con valor inicial dado y \n",
    "* Describa el comportamiento de la solución cuando $t \\to \\infty$. \n",
    "\n",
    "$$ x' = \\begin{pmatrix} 5 & -1 \\\\ 3 & 1 \\end{pmatrix}x  \\qquad \\qquad x(0) = \\begin{pmatrix} 2 \\\\ -1 \\end{pmatrix}  $$"
   ]
  },
  {
   "cell_type": "markdown",
   "metadata": {},
   "source": [
    "## Solución: "
   ]
  },
  {
   "cell_type": "code",
   "execution_count": 25,
   "metadata": {},
   "outputs": [],
   "source": [
    "from sympy import *\n",
    "A = Matrix([[5,-1],[3,1]])\n",
    "A.eigenvals() \n",
    "r1_xi1, r2_xi2 = A.eigenvects() \n",
    "r1, xi1 = r1_xi1[0]/r1_xi1[1], r1_xi1[2][0]   \n",
    "r2, xi2 = r2_xi2[0]/r2_xi2[1], r2_xi2[2][0]   "
   ]
  },
  {
   "cell_type": "code",
   "execution_count": 28,
   "metadata": {},
   "outputs": [],
   "source": [
    "import numpy as np \n",
    "r1 = float(r1)\n",
    "r2 = float(r2) \n",
    "xi1 = np.array(xi1)\n",
    "xi2 = np.array(xi2) "
   ]
  },
  {
   "cell_type": "code",
   "execution_count": 30,
   "metadata": {},
   "outputs": [],
   "source": [
    "def x_super1(t):\n",
    "    return xi1*np.exp(r1*t) \n",
    "\n",
    "def x_super2(t):\n",
    "    return xi2*np.exp(r2*t)  "
   ]
  },
  {
   "cell_type": "code",
   "execution_count": null,
   "metadata": {},
   "outputs": [],
   "source": []
  }
 ],
 "metadata": {
  "hide_input": false,
  "kernelspec": {
   "display_name": "Python 3",
   "language": "python",
   "name": "python3"
  },
  "language_info": {
   "codemirror_mode": {
    "name": "ipython",
    "version": 3
   },
   "file_extension": ".py",
   "mimetype": "text/x-python",
   "name": "python",
   "nbconvert_exporter": "python",
   "pygments_lexer": "ipython3",
   "version": "3.7.4"
  },
  "nbTranslate": {
   "displayLangs": [
    "*"
   ],
   "hotkey": "alt-t",
   "langInMainMenu": true,
   "sourceLang": "en",
   "targetLang": "es",
   "useGoogleTranslate": true
  },
  "rise": {
   "enable_chalkboard": true,
   "theme": "sky",
   "transition": "sky"
  }
 },
 "nbformat": 4,
 "nbformat_minor": 2
}
