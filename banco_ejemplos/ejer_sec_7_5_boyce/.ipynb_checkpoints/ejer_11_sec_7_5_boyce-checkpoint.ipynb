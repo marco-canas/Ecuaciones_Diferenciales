{
 "cells": [
  {
   "cell_type": "markdown",
   "id": "901c356b",
   "metadata": {
    "slideshow": {
     "slide_type": "slide"
    }
   },
   "source": [
    "<table align=\"left\">\n",
    "  <td>\n",
    "    <a href=\"https://colab.research.google.com/github/marco-canas/innovaciones/blob/main/ref/geron/math_linear_algebra/linear_algebra.ipynb\" target=\"_parent\"><img src=\"https://colab.research.google.com/assets/colab-badge.svg\" alt=\"Open In Colab\"/></a>\n",
    "  </td>\n",
    "  <td>\n",
    "    <a target=\"_blank\" href=\"https://kaggle.com/kernels/welcome?src=https://github.com/marco-canas/innovaciones/blob/main/ref/geron/math_linear_algebra/linear_algebra.ipynb\"><img src=\"https://kaggle.com/static/images/open-in-kaggle.svg\" /></a>\n",
    "  </td>\n",
    "</table>"
   ]
  },
  {
   "cell_type": "markdown",
   "id": "af481bab",
   "metadata": {
    "slideshow": {
     "slide_type": "slide"
    }
   },
   "source": [
    "## Ejercicio 11 de la sección 7.5 del Boyce DiPrima\n",
    "Página 396"
   ]
  },
  {
   "cell_type": "markdown",
   "id": "dbe32f02",
   "metadata": {
    "slideshow": {
     "slide_type": "slide"
    }
   },
   "source": [
    "Encuentre la solución general del sistema \n",
    "\n",
    "$$ x' = \\begin{pmatrix} 2 & 2+i \\\\ -1 & -1-i \\end{pmatrix}x $$\n"
   ]
  },
  {
   "cell_type": "markdown",
   "id": "43f1c54b",
   "metadata": {
    "slideshow": {
     "slide_type": "slide"
    }
   },
   "source": [
    "## [Video de apoyo](https://www.youtube.com/watch?v=JP1lWYrejcs&t=10s)"
   ]
  },
  {
   "cell_type": "markdown",
   "id": "ea4e062c",
   "metadata": {
    "slideshow": {
     "slide_type": "slide"
    }
   },
   "source": [
    "Si suponemos que la solución del sistema dado es de la forma $x = \\xi e^{rt}$, entonces $r$ y $\\xi$ deben de satisfacer la ecuación algebraica $(A-rI)\\xi = 0$ la cual tiene soluciones no triviales siempre que la matriz de coeficientes $(A - rI)$ tenga determinante cero. "
   ]
  },
  {
   "cell_type": "markdown",
   "id": "60bedc1d",
   "metadata": {
    "slideshow": {
     "slide_type": "slide"
    }
   },
   "source": [
    "Resolvamos pues la ecuación \n",
    "\n",
    "$$ det(A - rI) = \\left|\\begin{matrix} 2 - r & 2 + i \\\\ -1 & -1 - i -r \\end{matrix}\\right| = 0 $$\n"
   ]
  },
  {
   "cell_type": "markdown",
   "id": "e887c861",
   "metadata": {
    "slideshow": {
     "slide_type": "slide"
    }
   },
   "source": [
    "$$ (r-2)(r+1+i) + 2+i = 0 $$"
   ]
  },
  {
   "cell_type": "markdown",
   "id": "42b877e0",
   "metadata": {
    "slideshow": {
     "slide_type": "slide"
    }
   },
   "source": [
    "$$ r^{2} + r + ri - 2r -2 -2i + 2 + i = 0 $$"
   ]
  },
  {
   "cell_type": "markdown",
   "id": "243c8ce3",
   "metadata": {
    "slideshow": {
     "slide_type": "slide"
    }
   },
   "source": [
    "$$ r^{2} - r + ri - i = 0   $$"
   ]
  },
  {
   "cell_type": "markdown",
   "id": "79ba6460",
   "metadata": {
    "slideshow": {
     "slide_type": "slide"
    }
   },
   "source": [
    "Escribamos la ecuación anterior en la forma estandar de una ecuación cuadrática $ar^{2} + br + c = 0$ en la variable $r$:\n",
    "\n",
    "$$ r^{2} + (i-1)r -i = 0 $$\n"
   ]
  },
  {
   "cell_type": "markdown",
   "id": "4a6640ea",
   "metadata": {
    "slideshow": {
     "slide_type": "slide"
    }
   },
   "source": [
    "De donde \n",
    "\n",
    "\\begin{align*}\n",
    "a & = 1 \\\\ \n",
    "b & = i-1 \\\\\n",
    "c & = -i\n",
    "\\end{align*}\n"
   ]
  },
  {
   "cell_type": "markdown",
   "id": "2811a85b",
   "metadata": {
    "slideshow": {
     "slide_type": "slide"
    }
   },
   "source": []
  },
  {
   "cell_type": "code",
   "execution_count": null,
   "id": "9f28b92d",
   "metadata": {
    "slideshow": {
     "slide_type": "slide"
    }
   },
   "outputs": [],
   "source": []
  },
  {
   "cell_type": "markdown",
   "id": "71e03a8c",
   "metadata": {
    "slideshow": {
     "slide_type": "slide"
    }
   },
   "source": [
    "## Referentes "
   ]
  },
  {
   "cell_type": "markdown",
   "id": "2435d071",
   "metadata": {
    "slideshow": {
     "slide_type": "slide"
    }
   },
   "source": [
    "Boyce and DiPrima. "
   ]
  },
  {
   "cell_type": "code",
   "execution_count": null,
   "id": "c202af35",
   "metadata": {},
   "outputs": [],
   "source": []
  }
 ],
 "metadata": {
  "celltoolbar": "Slideshow",
  "kernelspec": {
   "display_name": "Python 3",
   "language": "python",
   "name": "python3"
  },
  "language_info": {
   "codemirror_mode": {
    "name": "ipython",
    "version": 3
   },
   "file_extension": ".py",
   "mimetype": "text/x-python",
   "name": "python",
   "nbconvert_exporter": "python",
   "pygments_lexer": "ipython3",
   "version": "3.8.8"
  },
  "latex_envs": {
   "LaTeX_envs_menu_present": true,
   "autoclose": false,
   "autocomplete": false,
   "bibliofile": "biblio.bib",
   "cite_by": "apalike",
   "current_citInitial": 1,
   "eqLabelWithNumbers": true,
   "eqNumInitial": 1,
   "hotkeys": {
    "equation": "Ctrl-E",
    "itemize": "Ctrl-I"
   },
   "labels_anchors": false,
   "latex_user_defs": false,
   "report_style_numbering": false,
   "user_envs_cfg": false
  },
  "nbTranslate": {
   "displayLangs": [
    "*"
   ],
   "hotkey": "alt-t",
   "langInMainMenu": true,
   "sourceLang": "en",
   "targetLang": "es",
   "useGoogleTranslate": true
  },
  "rise": {
   "enable_chalkboard": true,
   "theme": "sky",
   "transition": "zoom"
  }
 },
 "nbformat": 4,
 "nbformat_minor": 5
}
