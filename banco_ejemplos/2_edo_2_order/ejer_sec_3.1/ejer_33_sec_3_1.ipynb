{
 "cells": [
  {
   "cell_type": "markdown",
   "metadata": {
    "slideshow": {
     "slide_type": "slide"
    }
   },
   "source": [
    "<table align=\"left\">\n",
    "  <td>\n",
    "    <a href=\"https://colab.research.google.com/github/marco-canas/Ecuaciones_Diferenciales/blob/main/asesoria_EDO/ejer_sec_3.1/Ejer_22_sec_3.1_Boyce_DiPrima.ipynb\" target=\"_parent\"><img src=\"https://colab.research.google.com/assets/colab-badge.svg\" alt=\"Open In Colab\"/></a>\n",
    "  </td>\n",
    "  <td>\n",
    "    <a target=\"_blank\" href=\"https://kaggle.com/kernels/welcome?src=https://github.com/marco-canas/Ecuaciones_Diferenciales/blob/main/asesoria_EDO/ejer_sec_3.1/Ejer_22_sec_3.1_Boyce_DiPrima.ipynb\"><img src=\"https://kaggle.com/static/images/open-in-kaggle.svg\" /></a>\n",
    "  </td>\n",
    "</table>"
   ]
  },
  {
   "cell_type": "markdown",
   "metadata": {
    "slideshow": {
     "slide_type": "slide"
    }
   },
   "source": [
    "# Ejercicio 33 de la sección 3.1 de Boyce DiPrima\n",
    "Página 144\n",
    "Respuestas en la página 711"
   ]
  },
  {
   "cell_type": "markdown",
   "metadata": {
    "slideshow": {
     "slide_type": "slide"
    }
   },
   "source": [
    "La solución de una ecuación de segundo orden de la forma \n",
    "\n",
    "$$ y'' = f(x,y,y') $$\n",
    "\n",
    "suele comprender dos constantes arbitrarias. \n"
   ]
  },
  {
   "cell_type": "markdown",
   "metadata": {
    "slideshow": {
     "slide_type": "slide"
    }
   },
   "source": [
    "A la inversa, es posible demostrar que una familia dada de funciones que contiene dos constantes arbitrarias es la solución de alguna ecuación diferencial de segundo orden. "
   ]
  },
  {
   "cell_type": "markdown",
   "metadata": {
    "slideshow": {
     "slide_type": "slide"
    }
   },
   "source": [
    "Elimine las constantes $c_{1}$ y $c_{2}$ utilizando a $y$, $y'$ y $y''$, para encontrar la ecuación diferencial que satisface la familia de funciones dada. "
   ]
  },
  {
   "cell_type": "markdown",
   "metadata": {
    "slideshow": {
     "slide_type": "slide"
    }
   },
   "source": [
    "$$ y = c_{1}e^{x} + c_{2}e^{-x} $$"
   ]
  },
  {
   "cell_type": "markdown",
   "metadata": {
    "slideshow": {
     "slide_type": "slide"
    }
   },
   "source": [
    "## Solución:"
   ]
  },
  {
   "cell_type": "markdown",
   "metadata": {
    "slideshow": {
     "slide_type": "slide"
    }
   },
   "source": [
    "Derive dos veces \n",
    "\n",
    "\\begin{align*}\n",
    "y = c_{1}e^{x} + c_{2}e^{-x} & \\Rightarrow y' = c_{1}e^{x} - c_{2}e^{-x} \\\\\n",
    "                             & \\Rightarrow y'' = c_{1}e^{x} + c_{2}e^{-x} \n",
    "\\end{align*}\n"
   ]
  },
  {
   "cell_type": "markdown",
   "metadata": {
    "slideshow": {
     "slide_type": "slide"
    }
   },
   "source": [
    "Por tanto, $y = y''$. "
   ]
  },
  {
   "cell_type": "markdown",
   "metadata": {
    "slideshow": {
     "slide_type": "slide"
    }
   },
   "source": [
    "Que es equivalente a la ecuación de segundo orden lineal:\n",
    "\n",
    "$$ y'' - y = 0 $$\n"
   ]
  },
  {
   "cell_type": "markdown",
   "metadata": {
    "slideshow": {
     "slide_type": "slide"
    }
   },
   "source": [
    "## Video complementario:\n",
    "[¿Cómo encontrar la ecuación que representa a una familia de funciones?](https://www.youtube.com/watch?v=srY2a7AVn0Q)"
   ]
  },
  {
   "cell_type": "code",
   "execution_count": 8,
   "metadata": {
    "slideshow": {
     "slide_type": "slide"
    }
   },
   "outputs": [
    {
     "data": {
      "application/vnd.jupyter.widget-view+json": {
       "model_id": "3a35240211a2418e90cfae5882bff3ba",
       "version_major": 2,
       "version_minor": 0
      },
      "text/plain": [
       "interactive(children=(IntSlider(value=1, description='c1', max=3, min=-3), IntSlider(value=1, description='c2'…"
      ]
     },
     "metadata": {},
     "output_type": "display_data"
    }
   ],
   "source": [
    "#Grafica de algunas curvas integrales de y'' - y = 0 \n",
    "import numpy as np \n",
    "import matplotlib.pyplot as plt \n",
    "from ipywidgets import interact \n",
    "\n",
    "plt.style.use('dark_background')\n",
    "\n",
    "\n",
    "def plot_sol(c1 = 1,c2 = 1): \n",
    "    fig = plt.figure()\n",
    "    ax = fig.add_subplot()\n",
    "    x = np.linspace(-3,3,100)\n",
    "    y = c1*np.exp(x) + c2*np.exp(-x)\n",
    "    ax.plot(x,y, color = 'yellow')\n",
    "    ax.set_title(\"Algunas curvas solución de $y = y''$\")\n",
    "    \n",
    "interact(plot_sol, c1 = (-3,3), c2 = (-3,3))     \n",
    "\n",
    "plt.show() "
   ]
  },
  {
   "cell_type": "code",
   "execution_count": null,
   "metadata": {
    "slideshow": {
     "slide_type": "skip"
    }
   },
   "outputs": [],
   "source": []
  },
  {
   "cell_type": "markdown",
   "metadata": {
    "slideshow": {
     "slide_type": "slide"
    }
   },
   "source": [
    "## Ejercicio 16 de la sección 3.1 del Boyce DiPrima"
   ]
  },
  {
   "cell_type": "markdown",
   "metadata": {
    "slideshow": {
     "slide_type": "slide"
    }
   },
   "source": [
    "Página 143"
   ]
  },
  {
   "cell_type": "markdown",
   "metadata": {
    "slideshow": {
     "slide_type": "slide"
    }
   },
   "source": [
    "Halle $\\beta$ de modo que la solución del problema con valor inicial $4y'' - y = 0$, $y(0) = 2$, $y'(0) = \\beta$ tienda a cero cuando $x \\to \\infty$. "
   ]
  },
  {
   "cell_type": "markdown",
   "metadata": {
    "slideshow": {
     "slide_type": "slide"
    }
   },
   "source": [
    "## Solución analítica"
   ]
  },
  {
   "cell_type": "markdown",
   "metadata": {
    "slideshow": {
     "slide_type": "slide"
    }
   },
   "source": [
    "### Metodología"
   ]
  },
  {
   "cell_type": "markdown",
   "metadata": {
    "slideshow": {
     "slide_type": "slide"
    }
   },
   "source": [
    "1. Resolver la ED\n",
    "2. Hallar la solución particular en función del parámetro $\\beta$.\n",
    "3. Determinar $\\beta$ para que $\\lim\\limits_{x \\to \\infty}y = 0$"
   ]
  },
  {
   "cell_type": "markdown",
   "metadata": {
    "slideshow": {
     "slide_type": "slide"
    }
   },
   "source": [
    "## Implementación de la metodología"
   ]
  },
  {
   "cell_type": "markdown",
   "metadata": {
    "slideshow": {
     "slide_type": "slide"
    }
   },
   "source": [
    "$$ 4y'' - y = 0 \\quad \\quad \\iff \\quad \\quad  ay'' + by' + cy = 0 $$\n",
    "\n",
    "de donde $a = 4, b = 0$ y $c = 1$. "
   ]
  },
  {
   "cell_type": "markdown",
   "metadata": {
    "slideshow": {
     "slide_type": "slide"
    }
   },
   "source": [
    "$$ 4r^{2} - 1 = 0  $$"
   ]
  },
  {
   "cell_type": "markdown",
   "metadata": {
    "slideshow": {
     "slide_type": "slide"
    }
   },
   "source": [
    "$$ (2r - 1)(2r + 1) = 0 $$"
   ]
  },
  {
   "cell_type": "markdown",
   "metadata": {
    "slideshow": {
     "slide_type": "slide"
    }
   },
   "source": [
    "$$ r_{1} = \\frac{1}{2}, \\quad \\quad r_{2} = -\\frac{1}{2} $$"
   ]
  },
  {
   "cell_type": "markdown",
   "metadata": {
    "slideshow": {
     "slide_type": "slide"
    }
   },
   "source": [
    "$$ y_{1} = e^{x/2}, \\quad \\quad y_{2} = e^{-x/2} $$"
   ]
  },
  {
   "cell_type": "markdown",
   "metadata": {
    "slideshow": {
     "slide_type": "slide"
    }
   },
   "source": [
    "$$ y = c_{1}y_{1} + c_{2}y_{2} = c_{1}e^{x/2} + c_{2}e^{-x/2} $$"
   ]
  },
  {
   "cell_type": "markdown",
   "metadata": {
    "slideshow": {
     "slide_type": "slide"
    }
   },
   "source": [
    "## Trazado de algunas curvas integrales"
   ]
  },
  {
   "cell_type": "code",
   "execution_count": 52,
   "metadata": {
    "slideshow": {
     "slide_type": "slide"
    }
   },
   "outputs": [
    {
     "data": {
      "application/vnd.jupyter.widget-view+json": {
       "model_id": "deaecc56b2004c929ec7db3b46cd23b1",
       "version_major": 2,
       "version_minor": 0
      },
      "text/plain": [
       "interactive(children=(IntSlider(value=-3, description='c1', max=3, min=-3), IntSlider(value=-3, description='c…"
      ]
     },
     "metadata": {},
     "output_type": "display_data"
    }
   ],
   "source": [
    "import numpy as np \n",
    "from ipywidgets import interact \n",
    "import matplotlib.pyplot as plt \n",
    "\n",
    "plt.style.use('dark_background') \n",
    "\n",
    "def plot_animado(c1 = -3, c2 = -3):\n",
    "    x = np.linspace(-3,13)\n",
    "    y = c1*np.exp(x/2) + c2*np.exp(-x/2) \n",
    "    fig = plt.figure()\n",
    "    ax = fig.add_subplot() \n",
    "    ax.plot(x,y, color = 'yellow') \n",
    "    ax.plot([-3,13],[0,0], color = 'cyan') \n",
    "    ax.grid(True, alpha = 0.3) \n",
    "    ax.axis([-3,13, -10,10]) \n",
    "    \n",
    "interact(plot_animado,c1 = (-3,3), c2 = (-3,3)) \n",
    "\n",
    "plt.show() "
   ]
  },
  {
   "cell_type": "markdown",
   "metadata": {
    "slideshow": {
     "slide_type": "slide"
    }
   },
   "source": [
    "$$ y' = c_{1}y_{1}' + c_{2}y_{2}' = \\frac{1}{2}c_{1}e^{x/2} - \\frac{1}{2}c_{2}e^{-x/2} $$"
   ]
  },
  {
   "cell_type": "markdown",
   "metadata": {
    "slideshow": {
     "slide_type": "slide"
    }
   },
   "source": [
    "$y(0) = 2$, $y'(0) = \\beta$\n",
    "\n",
    "\\begin{align*}\n",
    "c_{1} + c_{2} & = 2 \\\\\n",
    "\\frac{1}{2}c_{1} - \\frac{1}{2}c_{2} & = \\beta \n",
    "\\end{align*}\n"
   ]
  },
  {
   "cell_type": "markdown",
   "metadata": {
    "slideshow": {
     "slide_type": "slide"
    }
   },
   "source": [
    "\\begin{align*}\n",
    "c_{1} + c_{2} & = 2 \\\\\n",
    "c_{1} - c_{2} & = 2\\beta \n",
    "\\end{align*}\n"
   ]
  },
  {
   "cell_type": "markdown",
   "metadata": {
    "slideshow": {
     "slide_type": "slide"
    }
   },
   "source": [
    "$$ 2c_{1} = 2 + 2\\beta \\quad \\quad \\to \\quad \\quad c_{1} = 1 + \\beta $$"
   ]
  },
  {
   "cell_type": "markdown",
   "metadata": {
    "slideshow": {
     "slide_type": "slide"
    }
   },
   "source": [
    "$$ c_{2} = 2 - c_{1} = 2 - (1 + \\beta) = 1 - \\beta $$"
   ]
  },
  {
   "cell_type": "markdown",
   "metadata": {
    "slideshow": {
     "slide_type": "slide"
    }
   },
   "source": [
    "$$ y = (1+\\beta)e^{x/2} + (1-\\beta)e^{-x/2} $$"
   ]
  },
  {
   "cell_type": "markdown",
   "metadata": {
    "slideshow": {
     "slide_type": "slide"
    }
   },
   "source": [
    "Note que para $\\beta \\neq -1$ y $\\beta \\neq 1$ se tiene que \n",
    "\n",
    "$$ \\lim_{x \\to \\infty} y = \\infty + 0 = \\infty $$"
   ]
  },
  {
   "cell_type": "code",
   "execution_count": null,
   "metadata": {
    "slideshow": {
     "slide_type": "slide"
    }
   },
   "outputs": [],
   "source": []
  },
  {
   "cell_type": "code",
   "execution_count": null,
   "metadata": {
    "slideshow": {
     "slide_type": "slide"
    }
   },
   "outputs": [],
   "source": []
  },
  {
   "cell_type": "markdown",
   "metadata": {
    "slideshow": {
     "slide_type": "slide"
    }
   },
   "source": [
    "## Solución con Sympy"
   ]
  },
  {
   "cell_type": "code",
   "execution_count": 27,
   "metadata": {
    "slideshow": {
     "slide_type": "slide"
    }
   },
   "outputs": [
    {
     "data": {
      "text/latex": [
       "$\\displaystyle y{\\left(x \\right)} = \\frac{C_{1}}{\\sqrt{e^{x}}} + C_{2} \\sqrt{e^{x}}$"
      ],
      "text/plain": [
       "Eq(y(x), C1/sqrt(exp(x)) + C2*sqrt(exp(x)))"
      ]
     },
     "execution_count": 27,
     "metadata": {},
     "output_type": "execute_result"
    }
   ],
   "source": [
    "from sympy import * \n",
    "x,y,b = symbols('x y b') \n",
    "y = Function('y')(x)\n",
    "ed = 4*diff(y,x,2) - y\n",
    "solucion = dsolve(ed,y)  \n",
    "solucion"
   ]
  },
  {
   "cell_type": "markdown",
   "metadata": {
    "slideshow": {
     "slide_type": "slide"
    }
   },
   "source": [
    "## Determinación animada de la solución"
   ]
  },
  {
   "cell_type": "code",
   "execution_count": 51,
   "metadata": {
    "slideshow": {
     "slide_type": "slide"
    }
   },
   "outputs": [
    {
     "data": {
      "application/vnd.jupyter.widget-view+json": {
       "model_id": "cf5c91ddc5264b9a9eea4b347891e895",
       "version_major": 2,
       "version_minor": 0
      },
      "text/plain": [
       "interactive(children=(IntSlider(value=-3, description='beta', max=3, min=-3), Output()), _dom_classes=('widget…"
      ]
     },
     "metadata": {},
     "output_type": "display_data"
    }
   ],
   "source": [
    "import numpy as np \n",
    "from ipywidgets import interact \n",
    "import matplotlib.pyplot as plt \n",
    "\n",
    "plt.style.use('dark_background') \n",
    "\n",
    "def plot_animado(beta = -3):\n",
    "    x = np.linspace(-3,13)\n",
    "    y = (1+beta)*np.exp(x/2) + (1-beta)*np.exp(-x/2) \n",
    "    fig = plt.figure()\n",
    "    ax = fig.add_subplot() \n",
    "    ax.plot(x,y, color = 'yellow') \n",
    "    ax.plot([-3,13],[0,0], color = 'cyan') \n",
    "    ax.grid(True, alpha = 0.3) \n",
    "    ax.axis([-3,13, -10,10]) \n",
    "    \n",
    "interact(plot_animado,beta = (-3,3)) \n",
    "\n",
    "plt.show() "
   ]
  },
  {
   "cell_type": "markdown",
   "metadata": {
    "slideshow": {
     "slide_type": "slide"
    }
   },
   "source": [
    "## Gráfica de la función solución"
   ]
  },
  {
   "cell_type": "code",
   "execution_count": 49,
   "metadata": {
    "slideshow": {
     "slide_type": "slide"
    }
   },
   "outputs": [
    {
     "data": {
      "image/png": "[encoded data removed]",
      "text/plain": [
       "<Figure size 432x288 with 1 Axes>"
      ]
     },
     "metadata": {},
     "output_type": "display_data"
    }
   ],
   "source": [
    "import numpy as np \n",
    "import matplotlib.pyplot as plt \n",
    "\n",
    "plt.style.use('dark_background') \n",
    "\n",
    "beta = -1 \n",
    "\n",
    "x = np.linspace(-3,13)\n",
    "y = (1+beta)*np.exp(x/2) + (1-beta)*np.exp(-x/2) \n",
    "fig = plt.figure()\n",
    "ax = fig.add_subplot() \n",
    "ax.plot(x,y, color = 'yellow') \n",
    "ax.plot([-3,13],[0,0], color = 'cyan') \n",
    "ax.grid(True, alpha = 0.3) \n",
    "ax.axis([-3,13, -1,10])  \n",
    "\n",
    "plt.savefig('sol_ejer_16_sec_3_1.jpg')\n",
    "\n",
    "plt.show() "
   ]
  },
  {
   "cell_type": "markdown",
   "metadata": {
    "slideshow": {
     "slide_type": "slide"
    }
   },
   "source": [
    "## Video de apoyo para la comprensión de la solución \n",
    "[Ejercicio 16 de la sección 3.1 del Boyce DiPrima](https://www.youtube.com/watch?v=I3oGEHXrDLE)"
   ]
  },
  {
   "cell_type": "code",
   "execution_count": null,
   "metadata": {
    "slideshow": {
     "slide_type": "slide"
    }
   },
   "outputs": [],
   "source": []
  }
 ],
 "metadata": {
  "celltoolbar": "Slideshow",
  "hide_input": false,
  "kernelspec": {
   "display_name": "Python 3",
   "language": "python",
   "name": "python3"
  },
  "language_info": {
   "codemirror_mode": {
    "name": "ipython",
    "version": 3
   },
   "file_extension": ".py",
   "mimetype": "text/x-python",
   "name": "python",
   "nbconvert_exporter": "python",
   "pygments_lexer": "ipython3",
   "version": "3.8.8"
  },
  "latex_envs": {
   "LaTeX_envs_menu_present": true,
   "autoclose": false,
   "autocomplete": false,
   "bibliofile": "biblio.bib",
   "cite_by": "apalike",
   "current_citInitial": 1,
   "eqLabelWithNumbers": true,
   "eqNumInitial": 1,
   "hotkeys": {
    "equation": "Ctrl-E",
    "itemize": "Ctrl-I"
   },
   "labels_anchors": false,
   "latex_user_defs": false,
   "report_style_numbering": false,
   "user_envs_cfg": false
  },
  "nbTranslate": {
   "displayLangs": [
    "*"
   ],
   "hotkey": "alt-t",
   "langInMainMenu": true,
   "sourceLang": "en",
   "targetLang": "es",
   "useGoogleTranslate": true
  },
  "rise": {
   "enable_chalkboard": true,
   "theme": "sky",
   "transition": "zoom"
  }
 },
 "nbformat": 4,
 "nbformat_minor": 2
}
