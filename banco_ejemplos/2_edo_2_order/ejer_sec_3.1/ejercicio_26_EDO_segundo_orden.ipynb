{
 "cells": [
  {
   "cell_type": "markdown",
   "metadata": {
    "slideshow": {
     "slide_type": "slide"
    }
   },
   "source": [
    "# Ejercicio 26 de Ecuaciones diferenciales de segundo orden no lineales de la forma $y'' = f(y,y')$"
   ]
  },
  {
   "cell_type": "markdown",
   "metadata": {
    "slideshow": {
     "slide_type": "slide"
    }
   },
   "source": [
    "Sección 3.1 del Boyce DiPrima.   \n",
    "Respuestas de la página 711: \n",
    "\n",
    "$$ x + c_{2} = \\pm\\frac{2}{3}(y-2c_{2})(y + c_{1})^{1/2} $$\n"
   ]
  },
  {
   "cell_type": "markdown",
   "metadata": {
    "slideshow": {
     "slide_type": "slide"
    }
   },
   "source": [
    "$$ 2y^{2}y'' + 2y(y')^{2} = 1 $$\n",
    "\n",
    "donde $y = y(x)$, es decir, la incorgita en la función $y$ que es función de $x$ pero esta variable no está presente de manera explícita en esta ecuación. "
   ]
  },
  {
   "cell_type": "markdown",
   "metadata": {
    "slideshow": {
     "slide_type": "slide"
    }
   },
   "source": [
    "### Sugerencia:   \n",
    "\n",
    "Este es un tipo de ecuación en las que falta la $x$, más precisamente, esta ecuación es de la forma $y'' = f(y, y')$. \n",
    "\n",
    "Implemente el cambio de variable $v = y' = \\frac{dy}{dx}$ para obtener una ecuación de primer orden \n",
    "\n",
    "$$ \\frac{dv}{dx} = f(y,v) $$\n",
    "\n",
    "Luego, utilice la regla de la cadena para obtener una ecuación diferencial donde las derivadas no sean con respecto a $x$ sino con respectoa $y$. \n",
    "\n",
    "$$ \\frac{dv}{dx} = \\frac{dv}{dy} \\cdot \\frac{dy}{dx} = \\frac{dv}{dy} \\cdot v  $$\n",
    "\n",
    "Si sustituimos la anterior ecuación obtenemos una ecuación de la forma:\n",
    "\n",
    "$$ v\\cdot \\frac{dv}{dy} = f(y,v) $$\n",
    "\n",
    "que es una ecuación diferencial de primer orden en la variable dependiente $v$ y de variable independiente $y$. \n"
   ]
  },
  {
   "cell_type": "markdown",
   "metadata": {
    "slideshow": {
     "slide_type": "slide"
    }
   },
   "source": [
    "## Solución analítica: "
   ]
  },
  {
   "cell_type": "markdown",
   "metadata": {
    "slideshow": {
     "slide_type": "slide"
    }
   },
   "source": [
    "implementación del cambio de variable:\n",
    "\n",
    "$$ 2y^{2}y'' + 2y(y')^{2} = 1  \\quad \\quad \\Rightarrow \\quad \\quad 2y^{2}v' + 2yv^{2}= 1 $$"
   ]
  },
  {
   "cell_type": "markdown",
   "metadata": {
    "slideshow": {
     "slide_type": "slide"
    }
   },
   "source": [
    "Expresión en notación de Leivniz:\n",
    "\n",
    "$$ 2y^{2}\\frac{dv}{dx} + 2yv^{2} = 1 $$\n",
    "\n",
    "Note que esta ecuación involucra a tres variables de manera explícita. "
   ]
  },
  {
   "cell_type": "markdown",
   "metadata": {
    "slideshow": {
     "slide_type": "slide"
    }
   },
   "source": [
    "y queremos una ecuación diferencial en la variable $v = v(y)$"
   ]
  },
  {
   "cell_type": "markdown",
   "metadata": {
    "slideshow": {
     "slide_type": "slide"
    }
   },
   "source": [
    "Expresemos $\\frac{dv}{dx}$ en términos de $v$ y $\\frac{dv}{dy}$ utilizando la regla de la cadena:\n",
    "\n",
    "$$ \\frac{dv}{dx} = \\frac{dv}{dy} \\cdot \\frac{dy}{dx} = v\\frac{dv}{dy} $$\n"
   ]
  },
  {
   "cell_type": "markdown",
   "metadata": {
    "slideshow": {
     "slide_type": "slide"
    }
   },
   "source": [
    "Sustituyamos la enterior ecuación en $ 2y^{2}\\frac{dv}{dx} + 2yv^{2} = 1 $ para obtener:\n",
    "\n",
    "$$ 2vy^{2}\\frac{dv}{dy} + 2yv^{2} = 1 $$\n"
   ]
  },
  {
   "cell_type": "markdown",
   "metadata": {
    "slideshow": {
     "slide_type": "slide"
    }
   },
   "source": [
    "Dividamos esta ecuación por $2vy^{2}$ para ver que hemos obtenido una ecuación de Bernoulli en la variable $v = v(y)$ de parámetro $n = -1$:\n",
    "\n",
    "$$ \\frac{dv}{dy} + \\frac{1}{y}v = \\frac{1}{2y^{2}}v^{-1} $$ \n"
   ]
  },
  {
   "cell_type": "markdown",
   "metadata": {
    "slideshow": {
     "slide_type": "slide"
    }
   },
   "source": [
    "Implementemos el cambio de variable $w = v^{1-n} = v^{2}$ que hace que la ecuación de Bernoulli se convierta en una ecuación lineal.\n",
    "De este cambio de variable se infiere que:\n",
    "\n",
    "$$ w^{1/2} = v, \\quad \\quad \\text{y que } \\quad \\quad \\frac{1}{2w^{1/2}}\\cdot \\frac{dw}{dy} = \\frac{dv}{dy} $$\n"
   ]
  },
  {
   "cell_type": "markdown",
   "metadata": {
    "slideshow": {
     "slide_type": "slide"
    }
   },
   "source": [
    "Sustituyamos el cambio de variable anterior en la ecuación $ \\frac{dv}{dy} + \\frac{1}{y}v = \\frac{1}{2y^{2}}v^{-1} $ para obtener \n",
    "\n",
    "$$ \\frac{1}{2w^{1/2}}\\cdot \\frac{dw}{dy} + \\frac{1}{y}w^{1/2} = \\frac{1}{2y^{2}}w^{-1/2} $$\n"
   ]
  },
  {
   "cell_type": "markdown",
   "metadata": {
    "slideshow": {
     "slide_type": "slide"
    }
   },
   "source": [
    "Multiplicando por $2w^{1/2}$ obtenemos:\n",
    "\n",
    "$$ \\frac{dw}{dy} + \\frac{2}{y}w = \\frac{1}{y^{2}} $$\n",
    "\n",
    "la cual es una ecuación diferencial lineal de primer orden con $p(y) = \\frac{2}{y}$.\n"
   ]
  },
  {
   "cell_type": "markdown",
   "metadata": {
    "slideshow": {
     "slide_type": "slide"
    }
   },
   "source": [
    "De donde el factor integrante $\\mu(y)$ es:\n",
    "\n",
    "$$ \\mu(y) = \\exp \\left( \\int \\frac{2}{y}dy \\right) = \\exp (\\ln y^{2}) = y^{2} $$\n"
   ]
  },
  {
   "cell_type": "markdown",
   "metadata": {
    "slideshow": {
     "slide_type": "slide"
    }
   },
   "source": [
    "Multiplicando la ecuación $ \\frac{dw}{dy} + \\frac{2}{y}w = \\frac{1}{y^{2}} $ por el facto integrante $\\mu(y) = y^{2}$ obtenemos \n",
    "\n",
    "$$ y^{2}\\frac{dw}{dy} + 2yw = 1 $$\n"
   ]
  },
  {
   "cell_type": "markdown",
   "metadata": {
    "slideshow": {
     "slide_type": "slide"
    }
   },
   "source": [
    "La anterior ecuación es quivalente a:\n",
    "\n",
    "$$ \\frac{d}{dy}[y^{2}w] = 1 $$\n"
   ]
  },
  {
   "cell_type": "markdown",
   "metadata": {
    "slideshow": {
     "slide_type": "slide"
    }
   },
   "source": [
    "$$ \\int \\frac{d}{dy}[y^{2}w]dy = \\int dy $$"
   ]
  },
  {
   "cell_type": "markdown",
   "metadata": {
    "slideshow": {
     "slide_type": "slide"
    }
   },
   "source": [
    "$$ y^{2}w = y + c_{1} $$"
   ]
  },
  {
   "cell_type": "markdown",
   "metadata": {
    "slideshow": {
     "slide_type": "slide"
    }
   },
   "source": [
    "$$ w = \\frac{1}{y} + \\frac{1}{y^{2}}c_{1} $$"
   ]
  },
  {
   "cell_type": "markdown",
   "metadata": {
    "slideshow": {
     "slide_type": "slide"
    }
   },
   "source": [
    "$$ v^{2} = \\frac{1}{y} + \\frac{1}{y^{2}}c_{1} $$"
   ]
  },
  {
   "cell_type": "markdown",
   "metadata": {
    "slideshow": {
     "slide_type": "slide"
    }
   },
   "source": [
    "$$ v^{2} = \\frac{y + c_{1}}{y^{2}} $$"
   ]
  },
  {
   "cell_type": "markdown",
   "metadata": {
    "slideshow": {
     "slide_type": "slide"
    }
   },
   "source": [
    "$$ v = \\pm \\frac{(y + c_{1})^{1/2}}{y} $$"
   ]
  },
  {
   "cell_type": "markdown",
   "metadata": {
    "slideshow": {
     "slide_type": "slide"
    }
   },
   "source": [
    "$$\\frac{dy}{dx} = \\pm  \\frac{(y + c_{1})^{1/2}}{y} $$"
   ]
  },
  {
   "cell_type": "markdown",
   "metadata": {
    "slideshow": {
     "slide_type": "slide"
    }
   },
   "source": [
    "$$ \\frac{y}{(y + c_{1})^{1/2}}dy = dx $$"
   ]
  },
  {
   "cell_type": "markdown",
   "metadata": {
    "slideshow": {
     "slide_type": "slide"
    }
   },
   "source": [
    "$$ \\int \\frac{y}{(y + c_{1})^{1/2}}dy = \\int dx $$"
   ]
  },
  {
   "cell_type": "markdown",
   "metadata": {
    "slideshow": {
     "slide_type": "slide"
    }
   },
   "source": [
    "Sea $z = y + c_{1}$, entonces $dz = dy$ y $y = z - c_{1}$. Implementando este cambio de variable en la integral $ \\int \\frac{y}{(y + c_{1})^{1/2}}dy $ obtenemos: \n",
    "\n",
    "$$ \\int \\frac{z - c_{1}}{z^{1/2}} dz = x + c_{2} $$\n"
   ]
  },
  {
   "cell_type": "markdown",
   "metadata": {
    "slideshow": {
     "slide_type": "slide"
    }
   },
   "source": [
    "$$ \\int \\left( z^{1/2} - z^{-1/2}c_{1} \\right) dz = x + c_{2} $$"
   ]
  },
  {
   "cell_type": "markdown",
   "metadata": {
    "slideshow": {
     "slide_type": "slide"
    }
   },
   "source": [
    "$$ \\frac{2}{3}z^{3/2} - 2z^{1/2}  = x + c_{2} $$"
   ]
  },
  {
   "cell_type": "markdown",
   "metadata": {
    "slideshow": {
     "slide_type": "slide"
    }
   },
   "source": [
    "$$ \\frac{2}{3}(y + c_{1})^{3/2} - 2(y + c_{1})^{1/2}  = x + c_{2} $$"
   ]
  },
  {
   "cell_type": "markdown",
   "metadata": {
    "slideshow": {
     "slide_type": "slide"
    }
   },
   "source": [
    "## [Verificación con symbolab](https://es.symbolab.com/solver/step-by-step/2y%5E%7B2%7Dy''%20%2B%202y%5Cleft(y'%5Cright)%5E%7B2%7D%20%3D%201%20)"
   ]
  },
  {
   "cell_type": "markdown",
   "metadata": {
    "slideshow": {
     "slide_type": "slide"
    }
   },
   "source": [
    "[Verificación con wolframe](https://www.wolframalpha.com/input/?i=2y%5E%7B2%7Dy%27%27+%2B+2y%28y%27%29%5E%7B2%7D+%3D+1+) "
   ]
  },
  {
   "cell_type": "markdown",
   "metadata": {
    "slideshow": {
     "slide_type": "slide"
    }
   },
   "source": [
    "## Verificación con sympy"
   ]
  },
  {
   "cell_type": "code",
   "execution_count": 4,
   "metadata": {
    "slideshow": {
     "slide_type": "slide"
    }
   },
   "outputs": [
    {
     "ename": "NotImplementedError",
     "evalue": "solve: Cannot solve 2*y(x)**2*Derivative(y(x), (x, 2)) + 2*y(x)*Derivative(y(x), x)**2 - 1",
     "output_type": "error",
     "traceback": [
      "\u001b[1;31m---------------------------------------------------------------------------\u001b[0m",
      "\u001b[1;31mNotImplementedError\u001b[0m                       Traceback (most recent call last)",
      "\u001b[1;32m<ipython-input-4-43a21310d7e6>\u001b[0m in \u001b[0;36m<module>\u001b[1;34m\u001b[0m\n\u001b[0;32m      3\u001b[0m \u001b[0my\u001b[0m \u001b[1;33m=\u001b[0m \u001b[0mFunction\u001b[0m\u001b[1;33m(\u001b[0m\u001b[1;34m'y'\u001b[0m\u001b[1;33m)\u001b[0m\u001b[1;33m\u001b[0m\u001b[1;33m\u001b[0m\u001b[0m\n\u001b[0;32m      4\u001b[0m \u001b[0meq\u001b[0m \u001b[1;33m=\u001b[0m \u001b[1;36m2\u001b[0m\u001b[1;33m*\u001b[0m\u001b[1;33m(\u001b[0m\u001b[0my\u001b[0m\u001b[1;33m(\u001b[0m\u001b[0mx\u001b[0m\u001b[1;33m)\u001b[0m\u001b[1;33m**\u001b[0m\u001b[1;36m2\u001b[0m\u001b[1;33m)\u001b[0m\u001b[1;33m*\u001b[0m\u001b[0mdiff\u001b[0m\u001b[1;33m(\u001b[0m\u001b[0my\u001b[0m\u001b[1;33m(\u001b[0m\u001b[0mx\u001b[0m\u001b[1;33m)\u001b[0m\u001b[1;33m,\u001b[0m\u001b[0mx\u001b[0m\u001b[1;33m,\u001b[0m\u001b[1;36m2\u001b[0m\u001b[1;33m)\u001b[0m \u001b[1;33m+\u001b[0m \u001b[1;36m2\u001b[0m\u001b[1;33m*\u001b[0m\u001b[0my\u001b[0m\u001b[1;33m(\u001b[0m\u001b[0mx\u001b[0m\u001b[1;33m)\u001b[0m\u001b[1;33m*\u001b[0m\u001b[0mdiff\u001b[0m\u001b[1;33m(\u001b[0m\u001b[0my\u001b[0m\u001b[1;33m(\u001b[0m\u001b[0mx\u001b[0m\u001b[1;33m)\u001b[0m\u001b[1;33m,\u001b[0m\u001b[0mx\u001b[0m\u001b[1;33m)\u001b[0m\u001b[1;33m**\u001b[0m\u001b[1;36m2\u001b[0m \u001b[1;33m-\u001b[0m \u001b[1;36m1\u001b[0m\u001b[1;33m\u001b[0m\u001b[1;33m\u001b[0m\u001b[0m\n\u001b[1;32m----> 5\u001b[1;33m \u001b[0mdsolve\u001b[0m\u001b[1;33m(\u001b[0m\u001b[0meq\u001b[0m\u001b[1;33m,\u001b[0m\u001b[0my\u001b[0m\u001b[1;33m(\u001b[0m\u001b[0mx\u001b[0m\u001b[1;33m)\u001b[0m\u001b[1;33m)\u001b[0m\u001b[1;33m\u001b[0m\u001b[1;33m\u001b[0m\u001b[0m\n\u001b[0m",
      "\u001b[1;32m~\\Anaconda3\\lib\\site-packages\\sympy\\solvers\\ode.py\u001b[0m in \u001b[0;36mdsolve\u001b[1;34m(eq, func, hint, simplify, ics, xi, eta, x0, n, **kwargs)\u001b[0m\n\u001b[0;32m    639\u001b[0m         hints = _desolve(eq, func=func,\n\u001b[0;32m    640\u001b[0m             \u001b[0mhint\u001b[0m\u001b[1;33m=\u001b[0m\u001b[0mhint\u001b[0m\u001b[1;33m,\u001b[0m \u001b[0msimplify\u001b[0m\u001b[1;33m=\u001b[0m\u001b[1;32mTrue\u001b[0m\u001b[1;33m,\u001b[0m \u001b[0mxi\u001b[0m\u001b[1;33m=\u001b[0m\u001b[0mxi\u001b[0m\u001b[1;33m,\u001b[0m \u001b[0meta\u001b[0m\u001b[1;33m=\u001b[0m\u001b[0meta\u001b[0m\u001b[1;33m,\u001b[0m \u001b[0mtype\u001b[0m\u001b[1;33m=\u001b[0m\u001b[1;34m'ode'\u001b[0m\u001b[1;33m,\u001b[0m \u001b[0mics\u001b[0m\u001b[1;33m=\u001b[0m\u001b[0mics\u001b[0m\u001b[1;33m,\u001b[0m\u001b[1;33m\u001b[0m\u001b[1;33m\u001b[0m\u001b[0m\n\u001b[1;32m--> 641\u001b[1;33m             x0=x0, n=n, **kwargs)\n\u001b[0m\u001b[0;32m    642\u001b[0m \u001b[1;33m\u001b[0m\u001b[0m\n\u001b[0;32m    643\u001b[0m         \u001b[0meq\u001b[0m \u001b[1;33m=\u001b[0m \u001b[0mhints\u001b[0m\u001b[1;33m.\u001b[0m\u001b[0mpop\u001b[0m\u001b[1;33m(\u001b[0m\u001b[1;34m'eq'\u001b[0m\u001b[1;33m,\u001b[0m \u001b[0meq\u001b[0m\u001b[1;33m)\u001b[0m\u001b[1;33m\u001b[0m\u001b[1;33m\u001b[0m\u001b[0m\n",
      "\u001b[1;32m~\\Anaconda3\\lib\\site-packages\\sympy\\solvers\\deutils.py\u001b[0m in \u001b[0;36m_desolve\u001b[1;34m(eq, func, hint, ics, simplify, **kwargs)\u001b[0m\n\u001b[0;32m    233\u001b[0m             \u001b[1;32mraise\u001b[0m \u001b[0mValueError\u001b[0m\u001b[1;33m(\u001b[0m\u001b[0mstring\u001b[0m \u001b[1;33m+\u001b[0m \u001b[0mstr\u001b[0m\u001b[1;33m(\u001b[0m\u001b[0meq\u001b[0m\u001b[1;33m)\u001b[0m \u001b[1;33m+\u001b[0m \u001b[1;34m\" does not match hint \"\u001b[0m \u001b[1;33m+\u001b[0m \u001b[0mhint\u001b[0m\u001b[1;33m)\u001b[0m\u001b[1;33m\u001b[0m\u001b[1;33m\u001b[0m\u001b[0m\n\u001b[0;32m    234\u001b[0m         \u001b[1;32melse\u001b[0m\u001b[1;33m:\u001b[0m\u001b[1;33m\u001b[0m\u001b[1;33m\u001b[0m\u001b[0m\n\u001b[1;32m--> 235\u001b[1;33m             \u001b[1;32mraise\u001b[0m \u001b[0mNotImplementedError\u001b[0m\u001b[1;33m(\u001b[0m\u001b[0mdummy\u001b[0m \u001b[1;33m+\u001b[0m \u001b[1;34m\"solve\"\u001b[0m \u001b[1;33m+\u001b[0m \u001b[1;34m\": Cannot solve \"\u001b[0m \u001b[1;33m+\u001b[0m \u001b[0mstr\u001b[0m\u001b[1;33m(\u001b[0m\u001b[0meq\u001b[0m\u001b[1;33m)\u001b[0m\u001b[1;33m)\u001b[0m\u001b[1;33m\u001b[0m\u001b[1;33m\u001b[0m\u001b[0m\n\u001b[0m\u001b[0;32m    236\u001b[0m     \u001b[1;32mif\u001b[0m \u001b[0mhint\u001b[0m \u001b[1;33m==\u001b[0m \u001b[1;34m'default'\u001b[0m\u001b[1;33m:\u001b[0m\u001b[1;33m\u001b[0m\u001b[1;33m\u001b[0m\u001b[0m\n\u001b[0;32m    237\u001b[0m         return _desolve(eq, func, ics=ics, hint=hints['default'], simplify=simplify,\n",
      "\u001b[1;31mNotImplementedError\u001b[0m: solve: Cannot solve 2*y(x)**2*Derivative(y(x), (x, 2)) + 2*y(x)*Derivative(y(x), x)**2 - 1"
     ]
    }
   ],
   "source": [
    "from sympy import *\n",
    "x, y = symbols('x y')\n",
    "y = Function('y')\n",
    "eq = 2*(y(x)**2)*diff(y(x),x,2) + 2*y(x)*diff(y(x),x)**2 - 1\n",
    "dsolve(eq,y(x)) "
   ]
  },
  {
   "cell_type": "markdown",
   "metadata": {
    "slideshow": {
     "slide_type": "slide"
    }
   },
   "source": [
    "$$ 2y^{2}y'' + 2y(y')^{2} = 1 $$"
   ]
  },
  {
   "cell_type": "markdown",
   "metadata": {
    "slideshow": {
     "slide_type": "slide"
    }
   },
   "source": [
    "## Trazado de algunas curvas integrales "
   ]
  },
  {
   "cell_type": "code",
   "execution_count": 17,
   "metadata": {
    "slideshow": {
     "slide_type": "slide"
    }
   },
   "outputs": [
    {
     "data": {
      "image/png": "[encoded data removed]",
      "text/plain": [
       "<Figure size 432x288 with 1 Axes>"
      ]
     },
     "metadata": {},
     "output_type": "display_data"
    }
   ],
   "source": [
    "import numpy as np \n",
    "import matplotlib.pyplot as plt \n",
    "plt.style.use('dark_background') \n",
    "\n",
    "fig = plt.figure()  \n",
    "ax = fig.add_subplot() \n",
    "\n",
    "c1,c2 = 0,0\n",
    "\n",
    "y = np.linspace(0,3,100) \n",
    "\n",
    "x = (2/3)*(y + c1)**(3/2) - 2*(y+c1)**(1/2) - c2 \n",
    "\n",
    "ax.grid(True, alpha = 0.3)  \n",
    "\n",
    "ax.plot(x,y, color = 'yellow')  \n",
    "\n",
    "plt.savefig('ejer_26_sol_1.jpg') \n",
    "\n",
    "plt.show()\n"
   ]
  },
  {
   "cell_type": "code",
   "execution_count": null,
   "metadata": {
    "slideshow": {
     "slide_type": "slide"
    }
   },
   "outputs": [],
   "source": []
  },
  {
   "cell_type": "code",
   "execution_count": null,
   "metadata": {},
   "outputs": [],
   "source": []
  },
  {
   "cell_type": "code",
   "execution_count": null,
   "metadata": {},
   "outputs": [],
   "source": []
  },
  {
   "cell_type": "code",
   "execution_count": null,
   "metadata": {},
   "outputs": [],
   "source": []
  }
 ],
 "metadata": {
  "celltoolbar": "Slideshow",
  "hide_input": false,
  "kernelspec": {
   "display_name": "Python 3",
   "language": "python",
   "name": "python3"
  },
  "language_info": {
   "codemirror_mode": {
    "name": "ipython",
    "version": 3
   },
   "file_extension": ".py",
   "mimetype": "text/x-python",
   "name": "python",
   "nbconvert_exporter": "python",
   "pygments_lexer": "ipython3",
   "version": "3.7.4"
  },
  "nbTranslate": {
   "displayLangs": [
    "*"
   ],
   "hotkey": "alt-t",
   "langInMainMenu": true,
   "sourceLang": "en",
   "targetLang": "es",
   "useGoogleTranslate": true
  },
  "rise": {
   "enable_chalkboard": true,
   "theme": "sky",
   "transition": "zoom"
  }
 },
 "nbformat": 4,
 "nbformat_minor": 2
}
