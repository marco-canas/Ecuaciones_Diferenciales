{
 "cells": [
  {
   "cell_type": "markdown",
   "id": "5b662e3a",
   "metadata": {
    "slideshow": {
     "slide_type": "slide"
    }
   },
   "source": [
    "<table align=\"left\">\n",
    "  <td>\n",
    "    <a href=\"https://colab.research.google.com/github/marco-canas/edo/blob/main/banco_ejemplos/2_edo_2_order/ejer_1_zill_sec_4_3.ipynb\" target=\"_parent\"><img src=\"https://colab.research.google.com/assets/colab-badge.svg\" alt=\"Open In Colab\"/></a>\n",
    "  </td>\n",
    "</table> "
   ]
  },
  {
   "cell_type": "markdown",
   "id": "c246ab0d",
   "metadata": {
    "slideshow": {
     "slide_type": "slide"
    }
   },
   "source": [
    "# Ejercicio 1 de la sección 4.3 del Zill"
   ]
  },
  {
   "cell_type": "markdown",
   "id": "6b1c78a3",
   "metadata": {
    "slideshow": {
     "slide_type": "slide"
    }
   },
   "source": [
    "Encuentre la solución general de \n",
    "\n",
    "$$ 4y'' + y' = 0 $$\n"
   ]
  },
  {
   "cell_type": "code",
   "execution_count": null,
   "id": "517d7738",
   "metadata": {
    "slideshow": {
     "slide_type": "slide"
    }
   },
   "outputs": [],
   "source": []
  },
  {
   "cell_type": "markdown",
   "id": "8d9d09dc",
   "metadata": {
    "slideshow": {
     "slide_type": "slide"
    }
   },
   "source": [
    "# Solución con sympy"
   ]
  },
  {
   "cell_type": "code",
   "execution_count": 3,
   "id": "8941048d",
   "metadata": {
    "slideshow": {
     "slide_type": "slide"
    }
   },
   "outputs": [],
   "source": [
    "from sympy import var, Function, Eq, diff, classify_ode, dsolve, solvers, checkodesol "
   ]
  },
  {
   "cell_type": "code",
   "execution_count": 4,
   "id": "31585611",
   "metadata": {
    "slideshow": {
     "slide_type": "slide"
    }
   },
   "outputs": [
    {
     "data": {
      "text/plain": [
       "(x, y)"
      ]
     },
     "execution_count": 4,
     "metadata": {},
     "output_type": "execute_result"
    }
   ],
   "source": [
    "var('x y')"
   ]
  },
  {
   "cell_type": "code",
   "execution_count": 5,
   "id": "f3e499bf",
   "metadata": {
    "slideshow": {
     "slide_type": "slide"
    }
   },
   "outputs": [],
   "source": [
    "y = Function('y')(x) "
   ]
  },
  {
   "cell_type": "code",
   "execution_count": 7,
   "id": "bb023ae0",
   "metadata": {
    "slideshow": {
     "slide_type": "slide"
    }
   },
   "outputs": [],
   "source": [
    "eq = Eq(4*diff(y,x,2) + diff(y,x), 0)"
   ]
  },
  {
   "cell_type": "code",
   "execution_count": 8,
   "id": "3cfd9311",
   "metadata": {},
   "outputs": [
    {
     "data": {
      "text/plain": [
       "('nth_linear_constant_coeff_homogeneous',\n",
       " 'Liouville',\n",
       " 'nth_order_reducible',\n",
       " '2nd_power_series_ordinary',\n",
       " 'Liouville_Integral')"
      ]
     },
     "execution_count": 8,
     "metadata": {},
     "output_type": "execute_result"
    }
   ],
   "source": [
    "classify_ode(eq)"
   ]
  },
  {
   "cell_type": "code",
   "execution_count": 10,
   "id": "50e9c8c9",
   "metadata": {
    "slideshow": {
     "slide_type": "slide"
    }
   },
   "outputs": [],
   "source": [
    "sol = dsolve(eq,y) "
   ]
  },
  {
   "cell_type": "code",
   "execution_count": 14,
   "id": "b057f2fb",
   "metadata": {
    "slideshow": {
     "slide_type": "slide"
    }
   },
   "outputs": [
    {
     "data": {
      "text/plain": [
       "(False, 1)"
      ]
     },
     "execution_count": 14,
     "metadata": {},
     "output_type": "execute_result"
    }
   ],
   "source": [
    "checkodesol(eq, x)"
   ]
  },
  {
   "cell_type": "code",
   "execution_count": 19,
   "id": "f6976d29",
   "metadata": {
    "scrolled": true,
    "slideshow": {
     "slide_type": "slide"
    }
   },
   "outputs": [
    {
     "data": {
      "application/vnd.jupyter.widget-view+json": {
       "model_id": "44827f0014e34d74bda7ffdcca1e266c",
       "version_major": 2,
       "version_minor": 0
      },
      "text/plain": [
       "interactive(children=(IntSlider(value=0, description='c1', max=3, min=-3), IntSlider(value=0, description='c2'…"
      ]
     },
     "metadata": {},
     "output_type": "display_data"
    },
    {
     "data": {
      "text/plain": [
       "<function __main__.graficar(c1=0, c2=0)>"
      ]
     },
     "execution_count": 19,
     "metadata": {},
     "output_type": "execute_result"
    }
   ],
   "source": [
    "import numpy as np \n",
    "\n",
    "import matplotlib.pyplot as plt \n",
    "\n",
    "from ipywidgets import interact \n",
    "\n",
    "x = np.linspace(0,20)\n",
    "\n",
    "def graficar(c1 = 0, c2 = 0):\n",
    "    fig, ax = plt.subplots()\n",
    "    y = c1+ c2*np.exp((-1/4)*x)\n",
    "    ax.plot(x,y)\n",
    "    ax.axis([0,20, -5,5])\n",
    "    ax.grid()\n",
    "interact(graficar, c1 = (-3,3), c2 = (-3,3))     \n"
   ]
  },
  {
   "cell_type": "markdown",
   "id": "85c28f27",
   "metadata": {},
   "source": [
    "## Observaciones del gráfico\n",
    "\n",
    "* "
   ]
  },
  {
   "cell_type": "markdown",
   "id": "f2caf131",
   "metadata": {
    "slideshow": {
     "slide_type": "slide"
    }
   },
   "source": [
    "# Visualización de la solución con matplotlib"
   ]
  },
  {
   "cell_type": "code",
   "execution_count": null,
   "id": "5db4512f",
   "metadata": {
    "slideshow": {
     "slide_type": "slide"
    }
   },
   "outputs": [],
   "source": [
    "import numpy as np \n",
    "import matplotlib.pyplot as plt \n",
    "\n"
   ]
  },
  {
   "cell_type": "code",
   "execution_count": null,
   "id": "eabadada",
   "metadata": {},
   "outputs": [],
   "source": []
  },
  {
   "cell_type": "markdown",
   "id": "2f258271",
   "metadata": {},
   "source": [
    "## Referentes  \n",
    "\n",
    "* Solución de ODE con sympy: "
   ]
  }
 ],
 "metadata": {
  "celltoolbar": "Slideshow",
  "kernelspec": {
   "display_name": "Python 3 (ipykernel)",
   "language": "python",
   "name": "python3"
  },
  "language_info": {
   "codemirror_mode": {
    "name": "ipython",
    "version": 3
   },
   "file_extension": ".py",
   "mimetype": "text/x-python",
   "name": "python",
   "nbconvert_exporter": "python",
   "pygments_lexer": "ipython3",
   "version": "3.9.12"
  }
 },
 "nbformat": 4,
 "nbformat_minor": 5
}
