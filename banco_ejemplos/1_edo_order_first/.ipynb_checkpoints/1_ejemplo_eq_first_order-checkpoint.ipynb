{
 "cells": [
  {
   "cell_type": "markdown",
   "id": "ce5b28e8",
   "metadata": {},
   "source": [
    "<table align=\"left\">\n",
    "  <td>\n",
    "    <a href=\"https://colab.research.google.com/github/marco-canas/Ecuaciones_Diferenciales/blob/main/asesoria_EDO/ejer_sec_3.1/Ejer_22_sec_3.1_Boyce_DiPrima.ipynb\" target=\"_parent\"><img src=\"https://colab.research.google.com/assets/colab-badge.svg\" alt=\"Open In Colab\"/></a>\n",
    "  </td>\n",
    "  <td>\n",
    "    <a target=\"_blank\" href=\"https://kaggle.com/kernels/welcome?src=https://github.com/marco-canas/Ecuaciones_Diferenciales/blob/main/asesoria_EDO/ejer_sec_3.1/Ejer_22_sec_3.1_Boyce_DiPrima.ipynb\"><img src=\"https://kaggle.com/static/images/open-in-kaggle.svg\" /></a>\n",
    "  </td>\n",
    "</table>"
   ]
  },
  {
   "cell_type": "markdown",
   "id": "16a54832",
   "metadata": {},
   "source": [
    "## 1_Ejemplo sobre ecuaciones diferenciales de primer orden"
   ]
  },
  {
   "cell_type": "markdown",
   "id": "f3e41960",
   "metadata": {},
   "source": [
    "## Una ecuación diferencial que se puede resolver como ecuación lineal o interpretándola como ecuación diferencial separable"
   ]
  },
  {
   "cell_type": "markdown",
   "id": "3d262045",
   "metadata": {},
   "source": [
    "\n",
    "\n",
    "$$ \\frac{dN}{dt} = \\frac{1}{100}N^{2}, \\ \\ \\ \\ N(0) = 10  $$"
   ]
  },
  {
   "cell_type": "markdown",
   "id": "6eacc2a9",
   "metadata": {},
   "source": [
    "## [Video de apoyo]()"
   ]
  },
  {
   "cell_type": "markdown",
   "id": "595241d5",
   "metadata": {},
   "source": [
    "## Solución con Sympy"
   ]
  },
  {
   "cell_type": "code",
   "execution_count": 1,
   "id": "5f689278",
   "metadata": {},
   "outputs": [],
   "source": [
    "from sympy import * "
   ]
  },
  {
   "cell_type": "code",
   "execution_count": 2,
   "id": "65225443",
   "metadata": {},
   "outputs": [],
   "source": [
    "t = symbols('t', real = True, nonegative = True)\n",
    "N = symbols('N', real = True, positive = True) "
   ]
  },
  {
   "cell_type": "code",
   "execution_count": 3,
   "id": "7ecf8085",
   "metadata": {},
   "outputs": [],
   "source": [
    "N = Function('N')(t)"
   ]
  },
  {
   "cell_type": "code",
   "execution_count": 4,
   "id": "5f745980",
   "metadata": {},
   "outputs": [],
   "source": [
    "eq_1 = Eq( diff(N,t) - (1/100)*N**2, 0) "
   ]
  },
  {
   "cell_type": "code",
   "execution_count": 5,
   "id": "bc9aa3f3",
   "metadata": {},
   "outputs": [
    {
     "data": {
      "text/latex": [
       "$\\displaystyle - 0.01 N^{2}{\\left(t \\right)} + \\frac{d}{d t} N{\\left(t \\right)} = 0$"
      ],
      "text/plain": [
       "Eq(-0.01*N(t)**2 + Derivative(N(t), t), 0)"
      ]
     },
     "execution_count": 5,
     "metadata": {},
     "output_type": "execute_result"
    }
   ],
   "source": [
    "eq_1 "
   ]
  },
  {
   "cell_type": "code",
   "execution_count": 7,
   "id": "8ee01446",
   "metadata": {},
   "outputs": [
    {
     "data": {
      "text/latex": [
       "$\\displaystyle N{\\left(t \\right)} = - \\frac{1}{C_{1} + 0.01 t}$"
      ],
      "text/plain": [
       "Eq(N(t), -1/(C1 + 0.01*t))"
      ]
     },
     "execution_count": 7,
     "metadata": {},
     "output_type": "execute_result"
    }
   ],
   "source": [
    "sol_ed = dsolve(eq_1,N) \n",
    "sol_ed "
   ]
  },
  {
   "cell_type": "code",
   "execution_count": 27,
   "id": "5527d7af",
   "metadata": {},
   "outputs": [
    {
     "data": {
      "text/latex": [
       "$\\displaystyle C_{1}$"
      ],
      "text/plain": [
       "C1"
      ]
     },
     "execution_count": 27,
     "metadata": {},
     "output_type": "execute_result"
    }
   ],
   "source": [
    "C1 = symbols('C1') # Ojo, no restrinja a C1 a ser solo de valor real\n",
    "C1 "
   ]
  },
  {
   "cell_type": "code",
   "execution_count": 31,
   "id": "54851eaf",
   "metadata": {},
   "outputs": [
    {
     "data": {
      "text/latex": [
       "$\\displaystyle - \\frac{1}{C_{1}} = 10$"
      ],
      "text/plain": [
       "Eq(-1/C1, 10)"
      ]
     },
     "execution_count": 31,
     "metadata": {},
     "output_type": "execute_result"
    }
   ],
   "source": [
    "eq_2 = Eq(sol_ed.rhs.subs({t:0}), 10) \n",
    "eq_2 "
   ]
  },
  {
   "cell_type": "code",
   "execution_count": 36,
   "id": "076a8094",
   "metadata": {},
   "outputs": [
    {
     "data": {
      "text/latex": [
       "$\\displaystyle - \\frac{1}{10}$"
      ],
      "text/plain": [
       "-1/10"
      ]
     },
     "execution_count": 36,
     "metadata": {},
     "output_type": "execute_result"
    }
   ],
   "source": [
    "sol_C1 = solve(eq_2, C1)   \n",
    "# Note que la función solveset() actúa es sobre expresiones o sobre ecuaciones \n",
    "sol_C1 = sol_C1[0]\n",
    "sol_C1 "
   ]
  },
  {
   "cell_type": "code",
   "execution_count": 40,
   "id": "2776b4a5",
   "metadata": {},
   "outputs": [
    {
     "data": {
      "text/latex": [
       "$\\displaystyle N{\\left(t \\right)} = - \\frac{1}{0.01 t - \\frac{1}{10}}$"
      ],
      "text/plain": [
       "Eq(N(t), -1/(0.01*t - 1/10))"
      ]
     },
     "execution_count": 40,
     "metadata": {},
     "output_type": "execute_result"
    }
   ],
   "source": [
    "sol_pvi = sol_ed.subs({C1:sol_C1})  \n",
    "sol_pvi "
   ]
  },
  {
   "cell_type": "markdown",
   "id": "ab37be57",
   "metadata": {},
   "source": [
    "## Verificación con Sympy"
   ]
  },
  {
   "cell_type": "code",
   "execution_count": 46,
   "id": "f7776837",
   "metadata": {},
   "outputs": [
    {
     "data": {
      "text/latex": [
       "$\\displaystyle \\frac{1.0}{\\left(0.1 t - 1\\right)^{2}} - \\frac{1.0}{\\left(0.1 t - 1\\right)^{2}} = 0$"
      ],
      "text/plain": [
       "Eq(1.0/(0.1*t - 1)**2 - 1.0/(0.1*t - 1)**2, 0)"
      ]
     },
     "execution_count": 46,
     "metadata": {},
     "output_type": "execute_result"
    }
   ],
   "source": [
    "eq_1.subs({N:sol_pvi.rhs}).simplify() "
   ]
  },
  {
   "cell_type": "code",
   "execution_count": 47,
   "id": "1c07efed",
   "metadata": {},
   "outputs": [
    {
     "data": {
      "text/latex": [
       "$\\displaystyle N{\\left(0 \\right)} = 10$"
      ],
      "text/plain": [
       "Eq(N(0), 10)"
      ]
     },
     "execution_count": 47,
     "metadata": {},
     "output_type": "execute_result"
    }
   ],
   "source": [
    "sol_pvi.subs({t:0}) "
   ]
  },
  {
   "cell_type": "markdown",
   "id": "f57fb59d",
   "metadata": {},
   "source": [
    "### Conclusión de la verificación con sympy"
   ]
  },
  {
   "cell_type": "markdown",
   "id": "63a4b5e6",
   "metadata": {},
   "source": [
    "Efectivamente, la función encontrada es solución del PVI pues satisface la ED y la condición inicial que lo conforma"
   ]
  },
  {
   "cell_type": "markdown",
   "id": "48874dc4",
   "metadata": {},
   "source": [
    "## Solución analítica 1: Interpretación de la ED como separable "
   ]
  },
  {
   "cell_type": "markdown",
   "id": "ad27dc2a",
   "metadata": {},
   "source": [
    "$$ \\frac{dN}{dt} = \\frac{1}{100}N^{2}, \\ \\ \\ \\ N(0) = 10  $$"
   ]
  },
  {
   "cell_type": "code",
   "execution_count": null,
   "id": "c524a71a",
   "metadata": {},
   "outputs": [],
   "source": []
  },
  {
   "cell_type": "code",
   "execution_count": null,
   "id": "1e0b7a90",
   "metadata": {},
   "outputs": [],
   "source": []
  },
  {
   "cell_type": "code",
   "execution_count": null,
   "id": "d9851309",
   "metadata": {},
   "outputs": [],
   "source": []
  },
  {
   "cell_type": "markdown",
   "id": "74d87676",
   "metadata": {},
   "source": [
    "## Solución analítica 1: Interpretación de la ED como Bernoulli de primer orden"
   ]
  },
  {
   "cell_type": "markdown",
   "id": "45c978fd",
   "metadata": {},
   "source": [
    "$$ \\frac{dN}{dt} = \\frac{1}{100}N^{2}, \\ \\ \\ \\ N(0) = 10  $$"
   ]
  },
  {
   "cell_type": "markdown",
   "id": "608b24e5",
   "metadata": {},
   "source": [
    "La forma estándar de Bernoulli correspondiente es:"
   ]
  },
  {
   "cell_type": "markdown",
   "id": "eaade957",
   "metadata": {},
   "source": [
    "$$ N' + p(t)N = g(t)N^{n}, \\ \\ \\ \\ n = 2 $$"
   ]
  },
  {
   "cell_type": "code",
   "execution_count": null,
   "id": "83e698f4",
   "metadata": {},
   "outputs": [],
   "source": []
  },
  {
   "cell_type": "code",
   "execution_count": null,
   "id": "6303bbda",
   "metadata": {},
   "outputs": [],
   "source": []
  },
  {
   "cell_type": "code",
   "execution_count": null,
   "id": "34b2a137",
   "metadata": {},
   "outputs": [],
   "source": []
  },
  {
   "cell_type": "markdown",
   "id": "7f0fd066",
   "metadata": {},
   "source": [
    "## Funciones de Python utilizadas en este cuaderno"
   ]
  },
  {
   "cell_type": "markdown",
   "id": "e7084afa",
   "metadata": {},
   "source": [
    "* El atributo `rhs` que tola el lado derecho de una ecuación de sympy. "
   ]
  },
  {
   "cell_type": "markdown",
   "id": "54b28cd0",
   "metadata": {},
   "source": [
    "## Referentes  \n",
    "\n",
    "* Boyce and DiPrima. "
   ]
  }
 ],
 "metadata": {
  "kernelspec": {
   "display_name": "Python 3",
   "language": "python",
   "name": "python3"
  },
  "language_info": {
   "codemirror_mode": {
    "name": "ipython",
    "version": 3
   },
   "file_extension": ".py",
   "mimetype": "text/x-python",
   "name": "python",
   "nbconvert_exporter": "python",
   "pygments_lexer": "ipython3",
   "version": "3.8.8"
  },
  "latex_envs": {
   "LaTeX_envs_menu_present": true,
   "autoclose": false,
   "autocomplete": false,
   "bibliofile": "biblio.bib",
   "cite_by": "apalike",
   "current_citInitial": 1,
   "eqLabelWithNumbers": true,
   "eqNumInitial": 1,
   "hotkeys": {
    "equation": "Ctrl-E",
    "itemize": "Ctrl-I"
   },
   "labels_anchors": false,
   "latex_user_defs": false,
   "report_style_numbering": false,
   "user_envs_cfg": false
  },
  "rise": {
   "enable_chalkboard": true,
   "theme": "sky",
   "transition": "zoom"
  }
 },
 "nbformat": 4,
 "nbformat_minor": 5
}
