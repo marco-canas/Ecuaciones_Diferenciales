{
 "cells": [
  {
   "cell_type": "markdown",
   "id": "9a8c97ee",
   "metadata": {
    "slideshow": {
     "slide_type": "slide"
    }
   },
   "source": [
    "<table align=\"left\">\n",
    "  <td>\n",
    "    <a href=\"https://colab.research.google.com/github/marco-canas/edo/blob/main/banco_ejemplos/1_edo_order_first/dinamica_poblaciones_boyce/2_6_crecimiento_logistico_boyce.ipynb\" target=\"_parent\"><img src=\"https://colab.research.google.com/assets/colab-badge.svg\" alt=\"Open In Colab\"/></a>\n",
    "  </td>\n",
    "  <td>\n",
    "    <a target=\"_blank\" href=\"https://kaggle.com/kernels/welcome?src=https://github.com/marco-canas/edo/blob/main/banco_ejemplos/1_edo_order_first/dinamica_poblaciones_boyce/2_6_crecimiento_logistico_boyce.ipynb\"><img src=\"https://kaggle.com/static/images/open-in-kaggle.svg\" /></a>\n",
    "  </td>\n",
    "</table>"
   ]
  },
  {
   "cell_type": "markdown",
   "id": "3d4b64ce",
   "metadata": {
    "slideshow": {
     "slide_type": "slide"
    }
   },
   "source": [
    "# 2.6 Crecimiento logístico según Boyce"
   ]
  },
  {
   "cell_type": "markdown",
   "id": "9c715a52",
   "metadata": {
    "slideshow": {
     "slide_type": "slide"
    }
   },
   "source": [
    "## [Video de apoyo a la lectura interactiva de este cuaderno]() "
   ]
  },
  {
   "cell_type": "markdown",
   "id": "c784bbc4",
   "metadata": {
    "slideshow": {
     "slide_type": "slide"
    }
   },
   "source": [
    "Página 72"
   ]
  },
  {
   "cell_type": "markdown",
   "id": "310e0cd7",
   "metadata": {
    "slideshow": {
     "slide_type": "slide"
    }
   },
   "source": [
    "Para tomar en cuenta el hecho de que la tasa de crecimiento en realidad depende de la población, en la ecuación \n",
    "\n",
    "$$ \\frac{dN}{dt} = rN $$\n",
    "\n",
    "se reemplaza la constante $r$ por la función $f(N)$, con lo que se obtiene la ecuación modificada\n",
    "\n",
    "\n",
    "$$ \\frac{dN}{dt} = f(N)N $$\n"
   ]
  },
  {
   "cell_type": "markdown",
   "id": "5d6c2627",
   "metadata": {
    "slideshow": {
     "slide_type": "slide"
    }
   },
   "source": [
    "Ahora se desea elegir $f(N)$ de modo que $f(N) \\cong r > 0$ cuando $N$ sea pequeña, y $f(N)$ decrezca cuando $N$ aumenta y $f(N)$ sea suficientemente grande cuando $N$ sea suficientemente grande "
   ]
  },
  {
   "cell_type": "markdown",
   "id": "9e973460",
   "metadata": {
    "slideshow": {
     "slide_type": "slide"
    }
   },
   "source": [
    "La función más sencilla que tiene estas propiedades es \n",
    "\n",
    "$$ f(N) = r - aN, $$\n",
    "\n",
    "en donde $a$ también es una constante positiva. "
   ]
  },
  {
   "cell_type": "markdown",
   "id": "fa4f61f3",
   "metadata": {
    "slideshow": {
     "slide_type": "slide"
    }
   },
   "source": [
    "Si se usa esta función en \n",
    "$$ \\frac{dN}{dt} = f(N)N $$\n",
    "se obtiene \n",
    "\\begin{equation}\\label{eq:}\n",
    "\\frac{dN}{dt} = (r-aN)N\n",
    "\\end{equation}\n"
   ]
  },
  {
   "cell_type": "markdown",
   "id": "bd14514a",
   "metadata": {},
   "source": [
    "La ecuación anterior se conoce como la ecuación Verhulst, o ecuación **logística**. "
   ]
  },
  {
   "cell_type": "markdown",
   "id": "b2cdde2e",
   "metadata": {},
   "source": [
    "A menudo resulta conveniente escribir la ecuación logística en la forma equivalente: \n",
    "\n",
    "$$ \\frac{dN}{dt} = r \\left( 1 - \\frac{N}{K} \\right) N $$ \n",
    "\n",
    "\n"
   ]
  },
  {
   "cell_type": "markdown",
   "id": "de72d829",
   "metadata": {},
   "source": [
    "### Nota histórica "
   ]
  },
  {
   "cell_type": "markdown",
   "id": "45a604e3",
   "metadata": {},
   "source": [
    "P.F. Verhulst (1804 - 1849) fue un matemático belga que introdujo la ecuación \n",
    "\n",
    "$$ \\frac{dN}{dt} = (r-aN)N $$\n",
    "\n",
    "como modelo para el crecimiento de la población humana, en 1838; lo mencionó como crecimiento logístico, por lo cual $\\frac{dN}{dt} = (r-aN)N$ a menudo se le denomina ecuación logística. "
   ]
  },
  {
   "cell_type": "markdown",
   "id": "2a898384",
   "metadata": {},
   "source": [
    "No pudo probar la exactitud de su modelo debido a los datos inadecuados del censo, y no se le prestó mucha atención hasta muchos años después. "
   ]
  },
  {
   "cell_type": "markdown",
   "id": "f310c104",
   "metadata": {
    "slideshow": {
     "slide_type": "slide"
    }
   },
   "source": [
    "R. Pearl(1930) demostró que existía una concordancia razonable con los datos experimentales para las poblaciones de *Drosophila melanogaster* (mosca de fruta), asi como G. F. Gause (1935) para poblaciones de *Paramecium Tribolium* (escarabajos de la harina).     "
   ]
  },
  {
   "cell_type": "markdown",
   "id": "e6029252",
   "metadata": {
    "slideshow": {
     "slide_type": "slide"
    }
   },
   "source": [
    "## Gráfica de $\\frac{dN}{dt}$ contra $N$"
   ]
  },
  {
   "cell_type": "code",
   "execution_count": 7,
   "id": "cf7aa865",
   "metadata": {
    "slideshow": {
     "slide_type": "slide"
    }
   },
   "outputs": [
    {
     "data": {
      "image/png": "[encoded data removed]",
      "text/plain": [
       "<Figure size 432x288 with 1 Axes>"
      ]
     },
     "metadata": {},
     "output_type": "display_data"
    }
   ],
   "source": [
    "import numpy as np \n",
    "import matplotlib.pyplot as plt \n",
    "\n",
    "plt.style.use('dark_background') \n",
    "\n",
    "fig,ax = plt.subplots()\n",
    "\n",
    "r = 1\n",
    "\n",
    "K = 10\n",
    "\n",
    "N = np.arange(0,10,0.01)\n",
    "\n",
    "dN_dt = r*(1 - N/K)*N\n",
    "\n",
    "ax.plot(N,dN_dt)        # gráfico de velocidad de crecimiento y población \n",
    "\n",
    "ax.plot([0,10],[0,0], color = 'yellow')   # eje horizontal\n",
    "\n",
    "ax.set(title = r'Gráfico de $\\frac{dN}{dt}$ contra $N$', xlabel = 'N', ylabel = r'$\\frac{dN}{dt}$')\n",
    "\n",
    "\n",
    "ax.grid(True, alpha = 0.4)  \n",
    "\n",
    "plt.savefig('derivada_como_funcion_de_N.jpg') \n",
    "\n",
    "plt.show() "
   ]
  },
  {
   "cell_type": "code",
   "execution_count": null,
   "id": "5d95dcd2",
   "metadata": {},
   "outputs": [],
   "source": []
  },
  {
   "cell_type": "code",
   "execution_count": null,
   "id": "07602221",
   "metadata": {
    "slideshow": {
     "slide_type": "slide"
    }
   },
   "outputs": [],
   "source": []
  },
  {
   "cell_type": "markdown",
   "id": "8568cc0c",
   "metadata": {
    "slideshow": {
     "slide_type": "slide"
    }
   },
   "source": [
    "## Problema de aplicación "
   ]
  },
  {
   "cell_type": "markdown",
   "id": "bb46059f",
   "metadata": {
    "slideshow": {
     "slide_type": "slide"
    }
   },
   "source": [
    "Página 83 del Boyce"
   ]
  },
  {
   "cell_type": "markdown",
   "id": "afd9e2aa",
   "metadata": {
    "slideshow": {
     "slide_type": "slide"
    }
   },
   "source": [
    "$$ \\frac{dN}{dt} = r\\left( 1 - \\frac{N}{K'} \\right)N $$"
   ]
  },
  {
   "cell_type": "markdown",
   "id": "c123f83d",
   "metadata": {
    "slideshow": {
     "slide_type": "slide"
    }
   },
   "source": [
    "## Problema de aplicación de Larson\n",
    "Página 448"
   ]
  },
  {
   "cell_type": "markdown",
   "id": "2cf7f7e8",
   "metadata": {
    "slideshow": {
     "slide_type": "slide"
    }
   },
   "source": [
    "$$ \\frac{dy}{dt} = ky\\left( 1 - \\frac{y}{L} \\right) $$"
   ]
  },
  {
   "cell_type": "markdown",
   "id": "b4308b44",
   "metadata": {
    "slideshow": {
     "slide_type": "slide"
    }
   },
   "source": [
    "$$ y = \\frac{L}{1 + be^{-kt}} $$"
   ]
  },
  {
   "cell_type": "markdown",
   "id": "058d1cbc",
   "metadata": {
    "slideshow": {
     "slide_type": "slide"
    }
   },
   "source": [
    "### Ganancia de peso  \n",
    "\n",
    "un becerro que pesa $60$ libras al nacer gana peso a razón de \n",
    "\n",
    "$$ \\frac{dw}{dt} = k(1200 - w), $$ \n",
    "\n",
    "donde $w$ es el peso en libras y $t$ es el tiempo en años.   \n",
    "\n",
    "1. Resolver la ecuación diferencial."
   ]
  },
  {
   "cell_type": "markdown",
   "id": "86fa28bb",
   "metadata": {
    "slideshow": {
     "slide_type": "slide"
    }
   },
   "source": []
  },
  {
   "cell_type": "code",
   "execution_count": null,
   "id": "666092ad",
   "metadata": {},
   "outputs": [],
   "source": []
  },
  {
   "cell_type": "code",
   "execution_count": null,
   "id": "76d2142c",
   "metadata": {},
   "outputs": [],
   "source": []
  },
  {
   "cell_type": "code",
   "execution_count": null,
   "id": "0d4eaa30",
   "metadata": {},
   "outputs": [],
   "source": []
  },
  {
   "cell_type": "markdown",
   "id": "5f7fcfa0",
   "metadata": {
    "slideshow": {
     "slide_type": "slide"
    }
   },
   "source": [
    "## Funciones de Python que permitieron hacer cálculos y verificaciones"
   ]
  },
  {
   "cell_type": "markdown",
   "id": "9dbe7c4f",
   "metadata": {
    "slideshow": {
     "slide_type": "slide"
    }
   },
   "source": [
    "* "
   ]
  },
  {
   "cell_type": "markdown",
   "id": "bb1afae2",
   "metadata": {
    "slideshow": {
     "slide_type": "slide"
    }
   },
   "source": [
    "## Referentes  \n",
    "\n",
    "* Boyce and DiPrima  \n",
    "\n"
   ]
  }
 ],
 "metadata": {
  "celltoolbar": "Slideshow",
  "kernelspec": {
   "display_name": "Python 3",
   "language": "python",
   "name": "python3"
  },
  "language_info": {
   "codemirror_mode": {
    "name": "ipython",
    "version": 3
   },
   "file_extension": ".py",
   "mimetype": "text/x-python",
   "name": "python",
   "nbconvert_exporter": "python",
   "pygments_lexer": "ipython3",
   "version": "3.8.8"
  },
  "latex_envs": {
   "LaTeX_envs_menu_present": true,
   "autoclose": false,
   "autocomplete": false,
   "bibliofile": "biblio.bib",
   "cite_by": "apalike",
   "current_citInitial": 1,
   "eqLabelWithNumbers": true,
   "eqNumInitial": 1,
   "hotkeys": {
    "equation": "Ctrl-E",
    "itemize": "Ctrl-I"
   },
   "labels_anchors": false,
   "latex_user_defs": false,
   "report_style_numbering": false,
   "user_envs_cfg": false
  },
  "rise": {
   "enable_chalkboard": true,
   "theme": "sky",
   "transition": "zoom"
  }
 },
 "nbformat": 4,
 "nbformat_minor": 5
}
