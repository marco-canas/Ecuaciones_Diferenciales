{
  "nbformat": 4,
  "nbformat_minor": 5,
  "metadata": {
    "celltoolbar": "Slideshow",
    "kernelspec": {
      "display_name": "Python 3",
      "language": "python",
      "name": "python3"
    },
    "language_info": {
      "codemirror_mode": {
        "name": "ipython",
        "version": 3
      },
      "file_extension": ".py",
      "mimetype": "text/x-python",
      "name": "python",
      "nbconvert_exporter": "python",
      "pygments_lexer": "ipython3",
      "version": "3.8.8"
    },
    "latex_envs": {
      "LaTeX_envs_menu_present": true,
      "autoclose": false,
      "autocomplete": false,
      "bibliofile": "biblio.bib",
      "cite_by": "apalike",
      "current_citInitial": 1,
      "eqLabelWithNumbers": true,
      "eqNumInitial": 1,
      "hotkeys": {
        "equation": "Ctrl-E",
        "itemize": "Ctrl-I"
      },
      "labels_anchors": false,
      "latex_user_defs": false,
      "report_style_numbering": false,
      "user_envs_cfg": false
    },
    "rise": {
      "enable_chalkboard": true,
      "theme": "sky",
      "transition": "zoom"
    },
    "colab": {
      "name": "crecimiento_logistico_larson.ipynb",
      "provenance": []
    }
  },
  "cells": [
    {
      "cell_type": "markdown",
      "metadata": {
        "id": "45abe9fc"
      },
      "source": [
        "## Problema de aplicación"
      ],
      "id": "45abe9fc"
    },
    {
      "cell_type": "markdown",
      "metadata": {
        "id": "a5d32873"
      },
      "source": [
        " 84. **Crecimiento de Lombrices**\n",
        " \n",
        "Página del PDF 452. Larson \n",
        " \n",
        "En el tiempo $t = 0$, un cultivo de lombrices pesa 1 kilogramo.     \n",
        "Dos días después, el cultivo pesa 4 kilogramos.     \n",
        "El peso máximo del cultivo es de 20 kilogramos.  \n",
        "\n",
        "1. Escribir una ecuación logística que modele el peso del cultivo de lombrices.\n",
        "2. Encontrar el peso del cultivo después de 5 días.\n",
        "3. ¿Cuándo el peso del cultivo será de 18 kilogramos?"
      ],
      "id": "a5d32873"
    },
    {
      "cell_type": "markdown",
      "metadata": {
        "id": "a6efb7d3"
      },
      "source": [
        "## Solución"
      ],
      "id": "a6efb7d3"
    },
    {
      "cell_type": "markdown",
      "metadata": {
        "id": "f32db9f2"
      },
      "source": [
        "Sea $L(t)$ el peso de las Lombrices en el tiempo $t$."
      ],
      "id": "f32db9f2"
    },
    {
      "cell_type": "markdown",
      "metadata": {
        "id": "9b9264b3"
      },
      "source": [
        "$$ \\frac{dL}{dt} = kL\\left( 1 - \\frac{L}{20} \\right) $$"
      ],
      "id": "9b9264b3"
    },
    {
      "cell_type": "markdown",
      "metadata": {
        "id": "d75db54a"
      },
      "source": [
        "y la solución de esta ecuación diferencial es\n",
        "\n",
        "$$ L(t) = \\frac{20}{1 + be^{-kt}} $$\n"
      ],
      "id": "d75db54a"
    },
    {
      "cell_type": "markdown",
      "metadata": {
        "id": "3629b443"
      },
      "source": [
        "Determinemos $b$ y $k$ y para ello utiliza las condiciones dadas. "
      ],
      "id": "3629b443"
    },
    {
      "cell_type": "markdown",
      "metadata": {
        "id": "8f302d6e"
      },
      "source": [
        "Sustituyendo que cuando $t = 0$, $L = 1$ obtenemos:\n",
        "\n",
        "$$ 1 = \\frac{20}{1 + be^{-k(0)}} $$\n"
      ],
      "id": "8f302d6e"
    },
    {
      "cell_type": "markdown",
      "metadata": {
        "id": "2e45b785"
      },
      "source": [
        "$$ 1 + b = 20 \\rightarrow b = 19 $$"
      ],
      "id": "2e45b785"
    },
    {
      "cell_type": "markdown",
      "metadata": {
        "id": "19219fd1"
      },
      "source": [
        "Por tanto, la solución hasta ahora es:\n",
        "\n",
        "$$ L = \\frac{20}{1 + 19e^{-kt}} $$\n"
      ],
      "id": "19219fd1"
    },
    {
      "cell_type": "markdown",
      "metadata": {
        "id": "e4c2e16f"
      },
      "source": [
        "Pero para poder predecir poblaciones de lombrices futuras requerimos también a $k$. Y este $k$ lo hallamos con la segunda condición:\n",
        "\n",
        "Sustituyamos que cuando $t = 2$, $L = 4$ \n",
        "\n",
        "$$ 4 = \\frac{20}{1 + 19e^{-2k}} $$\n"
      ],
      "id": "e4c2e16f"
    },
    {
      "cell_type": "code",
      "metadata": {
        "colab": {
          "base_uri": "https://localhost:8080/"
        },
        "id": "EFxqXFHNSAsb",
        "outputId": "b40db317-4760-43e8-b1e1-5a69036d290b"
      },
      "source": [
        "4*19"
      ],
      "id": "EFxqXFHNSAsb",
      "execution_count": 1,
      "outputs": [
        {
          "output_type": "execute_result",
          "data": {
            "text/plain": [
              "76"
            ]
          },
          "metadata": {},
          "execution_count": 1
        }
      ]
    },
    {
      "cell_type": "markdown",
      "metadata": {
        "id": "880b26b6"
      },
      "source": [
        "$$ 4 + 76e^{-2k} = 20 $$"
      ],
      "id": "880b26b6"
    },
    {
      "cell_type": "markdown",
      "metadata": {
        "id": "QH1sJI9YSNhD"
      },
      "source": [
        "$$ 76e^{-2k} = 20 - 4 $$"
      ],
      "id": "QH1sJI9YSNhD"
    },
    {
      "cell_type": "markdown",
      "metadata": {
        "id": "af99c516"
      },
      "source": [
        "$$ e^{-2k} = \\frac{16}{76}<1 $$"
      ],
      "id": "af99c516"
    },
    {
      "cell_type": "markdown",
      "metadata": {
        "id": "274932c0"
      },
      "source": [
        "$$ -2k = \\ln \\frac{16}{76} < 0 $$"
      ],
      "id": "274932c0"
    },
    {
      "cell_type": "code",
      "metadata": {
        "colab": {
          "base_uri": "https://localhost:8080/"
        },
        "id": "9DPjz_qRSf7T",
        "outputId": "21763ff4-d8e0-4327-b67a-b3ba9f4e1e22"
      },
      "source": [
        "import numpy as np \n",
        "np.log(16/76)"
      ],
      "id": "9DPjz_qRSf7T",
      "execution_count": 2,
      "outputs": [
        {
          "output_type": "execute_result",
          "data": {
            "text/plain": [
              "-1.55814461804655"
            ]
          },
          "metadata": {},
          "execution_count": 2
        }
      ]
    },
    {
      "cell_type": "markdown",
      "metadata": {
        "id": "b87afaa3"
      },
      "source": [
        "$$ k = -\\frac{1}{2}\\ln \\left( \\frac{4}{19} \\right)>0 $$"
      ],
      "id": "b87afaa3"
    },
    {
      "cell_type": "code",
      "metadata": {
        "id": "c9fcf56b",
        "colab": {
          "base_uri": "https://localhost:8080/"
        },
        "outputId": "9f5576d4-e900-49dc-cc2a-70cca91580d7"
      },
      "source": [
        "import numpy as np \n",
        "k = -(0.5)*np.log(4/19) \n",
        "k "
      ],
      "id": "c9fcf56b",
      "execution_count": 3,
      "outputs": [
        {
          "output_type": "execute_result",
          "data": {
            "text/plain": [
              "0.779072309023275"
            ]
          },
          "metadata": {},
          "execution_count": 3
        }
      ]
    },
    {
      "cell_type": "markdown",
      "metadata": {
        "id": "4a6af797"
      },
      "source": [
        "Y así\n",
        "\n",
        "$$ L = \\frac{20}{1 + 19e^{-0.78t}} $$\n",
        "\n",
        "Esta es la función predictora. "
      ],
      "id": "4a6af797"
    },
    {
      "cell_type": "code",
      "metadata": {
        "id": "a4fa6441"
      },
      "source": [
        "\n",
        "def L(t):\n",
        "    return 20/(1 + 19*np.exp(-k*t))"
      ],
      "id": "a4fa6441",
      "execution_count": 4,
      "outputs": []
    },
    {
      "cell_type": "code",
      "metadata": {
        "id": "f55cb399",
        "colab": {
          "base_uri": "https://localhost:8080/"
        },
        "outputId": "73a52a70-3742-4a09-dbe7-5280cc155430"
      },
      "source": [
        "L(5)  "
      ],
      "id": "f55cb399",
      "execution_count": 5,
      "outputs": [
        {
          "output_type": "execute_result",
          "data": {
            "text/plain": [
              "14.426013512689872"
            ]
          },
          "metadata": {},
          "execution_count": 5
        }
      ]
    },
    {
      "cell_type": "code",
      "metadata": {
        "id": "17d91ac8",
        "colab": {
          "base_uri": "https://localhost:8080/",
          "height": 297
        },
        "outputId": "29463974-0d81-40d0-e110-58160962b070"
      },
      "source": [
        "import numpy as np \n",
        "import matplotlib.pyplot as plt \n",
        "\n",
        "plt.style.use('dark_background') \n",
        "\n",
        "fig,ax = plt.subplots()\n",
        "\n",
        "\n",
        "t = np.arange(0,10,0.01)\n",
        "\n",
        "\n",
        "ax.plot(t,L(t), color = 'red')        # gráfico de velocidad de crecimiento y población \n",
        "\n",
        "ax.plot([0,10],[0,0], color = 'blue')   # eje horizontal\n",
        "\n",
        "ax.set(title = r'Gráfico de $L(t)$ contra $t$', xlabel = 't', ylabel = r'$L(t)$')\n",
        "\n",
        "\n",
        "ax.grid(True, alpha = 0.4)  \n",
        "\n",
        "plt.savefig('peso_bacterias_funcion_tiempo.jpg') \n",
        "\n",
        "plt.show() "
      ],
      "id": "17d91ac8",
      "execution_count": 7,
      "outputs": [
        {
          "output_type": "display_data",
          "data": {
            "image/png": "[encoded data removed]",
            "text/plain": [
              "<Figure size 432x288 with 1 Axes>"
            ]
          },
          "metadata": {}
        }
      ]
    },
    {
      "cell_type": "markdown",
      "metadata": {
        "id": "TqUrCdxyTxlf"
      },
      "source": [
        "# Nueva sección"
      ],
      "id": "TqUrCdxyTxlf"
    },
    {
      "cell_type": "markdown",
      "metadata": {
        "id": "qvKw2hxxlG8L"
      },
      "source": [
        "Pero para poder predecir cuando la población de lombrices sera equivalente a 18 kilogramos\n",
        "\n",
        "Sustituyamos a $k = 0.78$, $L = 18$ en la ecuación diferencial y realizamos los respectivos procesos para despejar esta en terminos de $t$\n",
        "\n",
        "$$ 18 = \\frac{20}{1 + 19e^{-0.78t}} $$"
      ],
      "id": "qvKw2hxxlG8L"
    },
    {
      "cell_type": "code",
      "metadata": {
        "colab": {
          "base_uri": "https://localhost:8080/"
        },
        "id": "4GUbTQ_oVUDk",
        "outputId": "5bc3abcd-bc26-4424-84e7-e08e66141c39"
      },
      "source": [
        "from sympy import * \n",
        "t = symbols('t', real = True) \n",
        "eq = Eq(18, 20/(1 + 19*exp(-0.78*t))) \n",
        "solve(eq, t) "
      ],
      "id": "4GUbTQ_oVUDk",
      "execution_count": 11,
      "outputs": [
        {
          "output_type": "execute_result",
          "data": {
            "text/plain": [
              "[6.59187635449059]"
            ]
          },
          "metadata": {},
          "execution_count": 11
        }
      ]
    },
    {
      "cell_type": "code",
      "metadata": {
        "colab": {
          "base_uri": "https://localhost:8080/"
        },
        "id": "n6xlwQ5fUMH5",
        "outputId": "b15a6140-a55f-4776-b7be-d65257b179f6"
      },
      "source": [
        "18*19"
      ],
      "id": "n6xlwQ5fUMH5",
      "execution_count": 8,
      "outputs": [
        {
          "output_type": "execute_result",
          "data": {
            "text/plain": [
              "342"
            ]
          },
          "metadata": {},
          "execution_count": 8
        }
      ]
    },
    {
      "cell_type": "markdown",
      "metadata": {
        "id": "ho10lI1rAUqA"
      },
      "source": [
        "$$ 18 + 342e^{-0.78t} = 20 $$"
      ],
      "id": "ho10lI1rAUqA"
    },
    {
      "cell_type": "markdown",
      "metadata": {
        "id": "L7Vk702lApZN"
      },
      "source": [
        "$$ e^{-0.78t} = \\frac{2}{342} $$"
      ],
      "id": "L7Vk702lApZN"
    },
    {
      "cell_type": "markdown",
      "metadata": {
        "id": "Rq4nriA4A4aK"
      },
      "source": [
        "$$ -0.78t = \\ln \\frac{1}{171} $$"
      ],
      "id": "Rq4nriA4A4aK"
    },
    {
      "cell_type": "markdown",
      "metadata": {
        "id": "diqkSdGJBJCs"
      },
      "source": [
        "$$ t = -\\frac{100}{78}\\ln \\left( \\frac{1}{171} \\right) $$"
      ],
      "id": "diqkSdGJBJCs"
    },
    {
      "cell_type": "code",
      "metadata": {
        "id": "c2060741",
        "colab": {
          "base_uri": "https://localhost:8080/"
        },
        "outputId": "da6ec398-90b1-42f6-a5ad-166804287849"
      },
      "source": [
        "import numpy as np \n",
        "t = -(100/78)*np.log(1/171) \n",
        "t "
      ],
      "id": "c2060741",
      "execution_count": 9,
      "outputs": [
        {
          "output_type": "execute_result",
          "data": {
            "text/plain": [
              "6.591876354490591"
            ]
          },
          "metadata": {},
          "execution_count": 9
        }
      ]
    },
    {
      "cell_type": "code",
      "metadata": {
        "id": "d9180e44"
      },
      "source": [
        ""
      ],
      "id": "d9180e44",
      "execution_count": null,
      "outputs": []
    }
  ]
}