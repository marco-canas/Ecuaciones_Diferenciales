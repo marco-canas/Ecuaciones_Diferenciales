{
 "cells": [
  {
   "cell_type": "markdown",
   "id": "19806b60",
   "metadata": {},
   "source": [
    "# Ejercicio 33 de la sección 3.4 del Boyce DiPrima\n",
    "\n",
    "Página 168"
   ]
  },
  {
   "cell_type": "markdown",
   "id": "fceed7df",
   "metadata": {},
   "source": [
    "Resuelva \n",
    "\n",
    "$$ x^{2}y'' + xy' + y = 0, \\ \\ x > 0 $$\n",
    "\n",
    "utilizando el cambio de variable $z = \\ln(x)$ "
   ]
  },
  {
   "cell_type": "markdown",
   "id": "6cb287d8",
   "metadata": {},
   "source": [
    "## Solución:"
   ]
  },
  {
   "cell_type": "markdown",
   "id": "079f2d53",
   "metadata": {},
   "source": [
    "### Determinación de conceptos asociados"
   ]
  },
  {
   "cell_type": "markdown",
   "id": "26120f38",
   "metadata": {},
   "source": [
    "* $$e^{i\\mu t} = \\cos(\\mu t) + i\\sin(\\mu t)$$\n",
    "\n",
    "* No olvidar que de la regla de la cadena se infiere que\n",
    "\n",
    "$$\\frac{d}{dx}\\left( \\frac{dy}{dz} \\right) = \\frac{d^{2}y}{dz^{2}} \\cdot \\frac{dz}{dx}$$\n"
   ]
  },
  {
   "cell_type": "markdown",
   "id": "e45110ea",
   "metadata": {},
   "source": [
    "## Metodología de solución"
   ]
  },
  {
   "cell_type": "markdown",
   "id": "d772194f",
   "metadata": {},
   "source": [
    "1. expresar las derivadas $y'= \\frac{dy}{dx}$ y $y'' = \\frac{d^{2}y}{dx^{2}}$  en términos de $x$ y de $\\frac{dy}{dz}$ y $\\frac{d^{2}y}{dz^{2}}$"
   ]
  },
  {
   "cell_type": "markdown",
   "id": "0f52408a",
   "metadata": {},
   "source": [
    "2. Sustituir las enteriores derivadas en la ED original, simplificar para obtener una ED de coeficientes constantes. "
   ]
  },
  {
   "cell_type": "markdown",
   "id": "6cfcf7fe",
   "metadata": {},
   "source": [
    "3. Resolver la ED resolviendo la ecuación característica asociada y hallando la solución $y(z)$ de valor real."
   ]
  },
  {
   "cell_type": "markdown",
   "id": "6326659a",
   "metadata": {},
   "source": [
    "4. Retornar a la variable independiente original para obtener la solución $y(x)$. "
   ]
  },
  {
   "cell_type": "markdown",
   "id": "789aedc6",
   "metadata": {},
   "source": [
    "## Puesta en marcha de la metodología de solución:"
   ]
  },
  {
   "cell_type": "markdown",
   "id": "a3ecb4cf",
   "metadata": {},
   "source": [
    "Denotemos con $y_{z}'$ a $\\frac{dy}{dz}$ y con $y_{z}''$ a $\\frac{d^{2}y}{dz^{2}}$. \n",
    "\n",
    "En nuestro procedimiento el apóstrofe sin el subíndice $z$ significará derivación con respecto a $x$. "
   ]
  },
  {
   "cell_type": "markdown",
   "id": "073c5e06",
   "metadata": {},
   "source": [
    "\\begin{align*}\n",
    "y' & = \\frac{dy}{dx} \\\\\n",
    "   & = \\frac{dy}{dz} \\cdot \\frac{dz}{dx} \\\\\n",
    "   & = y_{z}'\\frac{1}{x}\n",
    "\\end{align*}"
   ]
  },
  {
   "cell_type": "markdown",
   "id": "56d1e2dc",
   "metadata": {},
   "source": [
    "\\begin{align*}\n",
    "y'' & = \\frac{d}{dx}\\left( y'_{z}\\cdot \\frac{1}{x} \\right) \\\\\n",
    "    & = \\left( y''_{z} z' \\right) \\cdot \\frac{1}{x} + y'_{z}\\left( - \\frac{1}{x^{2}} \\right) \\quad \\text{derivada de un producto y regla de la cadena} \\\\\n",
    "    & = y''_{z} \\cdot \\frac{1}{x^{2}} - y'_{z} \\cdot \\frac{1}{x^{2}}\n",
    "\\end{align*}"
   ]
  },
  {
   "cell_type": "markdown",
   "id": "2c356ccd",
   "metadata": {},
   "source": [
    "Ahora sustituyamos en la ED original:"
   ]
  },
  {
   "cell_type": "code",
   "execution_count": null,
   "id": "2b0d8c6c",
   "metadata": {},
   "outputs": [],
   "source": []
  },
  {
   "cell_type": "markdown",
   "id": "41bc8c07",
   "metadata": {},
   "source": [
    "## Gráfica de algunas de las soluciones"
   ]
  },
  {
   "cell_type": "code",
   "execution_count": 1,
   "id": "c3797dae",
   "metadata": {},
   "outputs": [
    {
     "data": {
      "image/png": "[encoded data removed]",
      "text/plain": [
       "<Figure size 432x288 with 1 Axes>"
      ]
     },
     "metadata": {
      "needs_background": "light"
     },
     "output_type": "display_data"
    }
   ],
   "source": [
    "# y(x) = c1cos(ln(x)) + c2sin(ln(x))\n",
    "import numpy as np \n",
    "\n",
    "import matplotlib.pyplot as plt\n",
    "\n",
    "fig = plt.figure()\n",
    "ax = fig.add_subplot()\n",
    "\n",
    "c1,c2 = 1,1\n",
    "\n",
    "x = np.linspace(0.01, 50, 200)\n",
    "y1 = np.cos(np.log(x))\n",
    "y2 = np.sin(np.log(x))\n",
    "\n",
    "ax.plot(x,c1*y1+c2*y2)\n",
    "\n",
    "ax.grid(True, alpha = 0.6) \n",
    "ax.set_title(\"La ecuación diferencial de Euler $x^{2}y'' + xy' + y = 0$, $x > 0$\")\n",
    "\n",
    "ax.set_xlabel('$x$')\n",
    "ax.set_xlabel('$y$')\n",
    "\n",
    "plt.savefig('euler.jpg')\n",
    "\n",
    "plt.show()\n"
   ]
  },
  {
   "cell_type": "markdown",
   "id": "c94cc4cf",
   "metadata": {},
   "source": [
    "## Solución con sympy"
   ]
  },
  {
   "cell_type": "code",
   "execution_count": 10,
   "id": "0bb067ac",
   "metadata": {},
   "outputs": [
    {
     "data": {
      "text/latex": [
       "$\\displaystyle y{\\left(x \\right)} = C_{1} \\sin{\\left(\\log{\\left(x \\right)} \\right)} + C_{2} \\cos{\\left(\\log{\\left(x \\right)} \\right)}$"
      ],
      "text/plain": [
       "Eq(y(x), C1*sin(log(x)) + C2*cos(log(x)))"
      ]
     },
     "execution_count": 10,
     "metadata": {},
     "output_type": "execute_result"
    }
   ],
   "source": [
    "from sympy import *\n",
    "x,y = symbols('x y') \n",
    "y = Function(y)(x) \n",
    "ed = x**2*diff(y,x,2) + x*diff(y,x) + y\n",
    "dsolve(ed,y)  \n"
   ]
  },
  {
   "cell_type": "code",
   "execution_count": null,
   "id": "242c7441",
   "metadata": {},
   "outputs": [],
   "source": []
  }
 ],
 "metadata": {
  "kernelspec": {
   "display_name": "Python 3",
   "language": "python",
   "name": "python3"
  },
  "language_info": {
   "codemirror_mode": {
    "name": "ipython",
    "version": 3
   },
   "file_extension": ".py",
   "mimetype": "text/x-python",
   "name": "python",
   "nbconvert_exporter": "python",
   "pygments_lexer": "ipython3",
   "version": "3.8.8"
  },
  "latex_envs": {
   "LaTeX_envs_menu_present": true,
   "autoclose": false,
   "autocomplete": true,
   "bibliofile": "biblio.bib",
   "cite_by": "apalike",
   "current_citInitial": 1,
   "eqLabelWithNumbers": true,
   "eqNumInitial": 1,
   "hotkeys": {
    "equation": "Ctrl-E",
    "itemize": "Ctrl-I"
   },
   "labels_anchors": false,
   "latex_user_defs": false,
   "report_style_numbering": false,
   "user_envs_cfg": false
  },
  "rise": {
   "enable_chalkboard": true,
   "theme": "sky",
   "transition": "sky"
  }
 },
 "nbformat": 4,
 "nbformat_minor": 5
}
