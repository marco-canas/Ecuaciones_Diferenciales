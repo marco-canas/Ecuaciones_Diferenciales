{
 "cells": [
  {
   "cell_type": "markdown",
   "id": "1fcb3e7b",
   "metadata": {},
   "source": [
    "# Ejercicio 14 de la sección 7.7 del Boyce\n",
    "\n",
    "Página 412"
   ]
  },
  {
   "cell_type": "markdown",
   "id": "2ff4eaad",
   "metadata": {},
   "source": [
    "Considere el circuito electrico del problema 14 de la sección 7.6.  \n",
    "Este circuito se describe por el sistema de ecuaciones diferenciales \n",
    "\n",
    "$$ \\frac{d}{dt} \\begin{pmatrix} I \\\\ V \\end{pmatrix} = \\begin{pmatrix} 0 & \\frac{1}{L} \\\\ -\\frac{1}{C} & -\\frac{1}{RC} \\end{pmatrix} \\begin{pmatrix} I \\\\ V \\end{pmatrix}  $$\n"
   ]
  },
  {
   "cell_type": "markdown",
   "id": "365e0560",
   "metadata": {},
   "source": [
    "1. Muestre que los eigenvalores son reales e iguales si $L = 4R^{2}C$.  \n",
    "2. Suponga que $R = 1$ omh, $C = 1$ farad y $L = 4$ henrys. Suponga también que $I(0) = 1$ amperes y $V(0) = 2$ volt. Encuentre $I(t)$ y $V(t)$.     "
   ]
  },
  {
   "cell_type": "markdown",
   "id": "e0b06d01",
   "metadata": {},
   "source": [
    "## Solución: "
   ]
  },
  {
   "cell_type": "markdown",
   "id": "de85a1f2",
   "metadata": {},
   "source": [
    "Suponer que la solución es de la forma $\\begin{pmatrix} I \\\\ V \\end{pmatrix} = \\xi e^{rt}$, nos lleva a resolver el sistema algebraico\n",
    "\n",
    "$$ \\begin{pmatrix} 0 - r & \\frac{1}{L} \\\\ -\\frac{1}{C} & -\\frac{1}{RC} - r \\end{pmatrix} \\begin{pmatrix} \\xi_{1} \\\\ \\xi_{2} \\end{pmatrix} = \\begin{pmatrix} 0 \\\\ 0 \\end{pmatrix} $$\n"
   ]
  },
  {
   "cell_type": "markdown",
   "id": "bc2d6e1a",
   "metadata": {},
   "source": [
    "El cual tiene soluciones no triviales si y solo si $det(A - rI) = 0$. "
   ]
  },
  {
   "cell_type": "markdown",
   "id": "4d26c484",
   "metadata": {},
   "source": [
    "Lo que nos lleva a resolver la ecuación:\n",
    "\n",
    "\n",
    "\\begin{align*}\n",
    "det() & = \n",
    "\\end{align*}\n"
   ]
  },
  {
   "cell_type": "code",
   "execution_count": null,
   "id": "34a7fc14",
   "metadata": {},
   "outputs": [],
   "source": []
  },
  {
   "cell_type": "code",
   "execution_count": null,
   "id": "1979f9eb",
   "metadata": {},
   "outputs": [],
   "source": []
  },
  {
   "cell_type": "code",
   "execution_count": null,
   "id": "8f4794f4",
   "metadata": {},
   "outputs": [],
   "source": []
  }
 ],
 "metadata": {
  "kernelspec": {
   "display_name": "Python 3",
   "language": "python",
   "name": "python3"
  },
  "language_info": {
   "codemirror_mode": {
    "name": "ipython",
    "version": 3
   },
   "file_extension": ".py",
   "mimetype": "text/x-python",
   "name": "python",
   "nbconvert_exporter": "python",
   "pygments_lexer": "ipython3",
   "version": "3.8.8"
  },
  "latex_envs": {
   "LaTeX_envs_menu_present": true,
   "autoclose": false,
   "autocomplete": true,
   "bibliofile": "biblio.bib",
   "cite_by": "apalike",
   "current_citInitial": 1,
   "eqLabelWithNumbers": true,
   "eqNumInitial": 1,
   "hotkeys": {
    "equation": "Ctrl-E",
    "itemize": "Ctrl-I"
   },
   "labels_anchors": false,
   "latex_user_defs": false,
   "report_style_numbering": false,
   "user_envs_cfg": false
  }
 },
 "nbformat": 4,
 "nbformat_minor": 5
}
